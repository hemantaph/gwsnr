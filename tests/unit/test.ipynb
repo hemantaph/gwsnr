{
 "cells": [
  {
   "cell_type": "code",
   "execution_count": 7,
   "id": "c0cc0982",
   "metadata": {},
   "outputs": [],
   "source": [
    "from gwsnr.ripple import RippleInnerProduct\n",
    "import numpy as np\n",
    "\n",
    "ripple = RippleInnerProduct()"
   ]
  },
  {
   "cell_type": "code",
   "execution_count": 4,
   "id": "558f01f2",
   "metadata": {},
   "outputs": [
    {
     "data": {
      "text/plain": [
       "(Array([[ 5.3941103e-23+0.0000000e+00j,\n",
       "         -5.1535889e-23+1.2927841e-23j,\n",
       "          4.3517569e-23-2.9090902e-23j, ...,\n",
       "          4.2845521e-25+4.2995715e-25j,\n",
       "          4.2638114e-25+4.2768000e-25j,\n",
       "          4.2431487e-25+4.2541267e-25j]], dtype=complex64),\n",
       " Array([[ 0.0000000e+00-5.3941103e-23j,\n",
       "          1.2927841e-23+5.1535889e-23j,\n",
       "         -2.9090902e-23-4.3517569e-23j, ...,\n",
       "          4.2995715e-25-4.2845521e-25j,\n",
       "          4.2768000e-25-4.2638114e-25j,\n",
       "          4.2541267e-25-4.2431487e-25j]], dtype=complex64))"
      ]
     },
     "execution_count": 4,
     "metadata": {},
     "output_type": "execute_result"
    }
   ],
   "source": [
    "m1_msun = 20.0 # In solar masses\n",
    "m2_msun = 19.0\n",
    "chi1 = 0.5 # Dimensionless spin\n",
    "chi2 = -0.5\n",
    "tc = 0.0 # Time of coalescence in seconds\n",
    "phic = 0.0 # Time of coalescence\n",
    "dist_mpc = 440 # Distance to source in Mpc\n",
    "inclination = 0.0 # Inclination Angle\n",
    "\n",
    "# The PhenomD waveform model is parameterized with the chirp mass and symmetric mass ratio\n",
    "from ripple import ms_to_Mc_eta\n",
    "import jax.numpy as jnp\n",
    "Mc, eta = ms_to_Mc_eta(jnp.array([m1_msun, m2_msun]))\n",
    "theta_ripple = jnp.array([Mc, eta, chi1, chi2, dist_mpc, tc, phic, inclination])\n",
    "# Now we need to generate the frequency grid\n",
    "f_l = 20.\n",
    "f_u = 512.\n",
    "del_f = 1./4.\n",
    "fs = jnp.arange(f_l, f_u, del_f)\n",
    "f_ref = f_l\n",
    "\n",
    "# And finally lets generate the waveform!\n",
    "ripple.vmap_waveform(np.array([fs]), np.array([theta_ripple]), np.array([f_ref]))"
   ]
  },
  {
   "cell_type": "code",
   "execution_count": null,
   "id": "600835a9",
   "metadata": {},
   "outputs": [
    {
     "ename": "AttributeError",
     "evalue": "'RippleInnerProduct' object has no attribute 'psds_list'",
     "output_type": "error",
     "traceback": [
      "\u001b[0;31m---------------------------------------------------------------------------\u001b[0m",
      "\u001b[0;31mAttributeError\u001b[0m                            Traceback (most recent call last)",
      "Cell \u001b[0;32mIn[6], line 21\u001b[0m\n\u001b[1;32m      8\u001b[0m inclination \u001b[38;5;241m=\u001b[39m \u001b[38;5;241m0.0\u001b[39m \u001b[38;5;66;03m# Inclination Angle\u001b[39;00m\n\u001b[1;32m      9\u001b[0m gw_param_dict \u001b[38;5;241m=\u001b[39m {\n\u001b[1;32m     10\u001b[0m     \u001b[38;5;124m'\u001b[39m\u001b[38;5;124mmass_1\u001b[39m\u001b[38;5;124m'\u001b[39m: np\u001b[38;5;241m.\u001b[39marray([m1_msun]),\n\u001b[1;32m     11\u001b[0m     \u001b[38;5;124m'\u001b[39m\u001b[38;5;124mmass_2\u001b[39m\u001b[38;5;124m'\u001b[39m: np\u001b[38;5;241m.\u001b[39marray([m2_msun]),\n\u001b[0;32m   (...)\u001b[0m\n\u001b[1;32m     17\u001b[0m     \u001b[38;5;124m'\u001b[39m\u001b[38;5;124mtheta_jn\u001b[39m\u001b[38;5;124m'\u001b[39m: np\u001b[38;5;241m.\u001b[39marray([inclination])\n\u001b[1;32m     18\u001b[0m }\n\u001b[1;32m     19\u001b[0m ripple\u001b[38;5;241m.\u001b[39mnoise_weighted_inner_product_jax(\n\u001b[1;32m     20\u001b[0m     gw_param_dict\u001b[38;5;241m=\u001b[39mgw_param_dict,\n\u001b[0;32m---> 21\u001b[0m     psd_list\u001b[38;5;241m=\u001b[39m\u001b[43mripple\u001b[49m\u001b[38;5;241;43m.\u001b[39;49m\u001b[43mpsds_list\u001b[49m,\n\u001b[1;32m     22\u001b[0m     detector_list\u001b[38;5;241m=\u001b[39mripple\u001b[38;5;241m.\u001b[39mdetector_list,\n\u001b[1;32m     23\u001b[0m )\n",
      "\u001b[0;31mAttributeError\u001b[0m: 'RippleInnerProduct' object has no attribute 'psds_list'"
     ]
    }
   ],
   "source": [
    "m1_msun = 20.0 # In solar masses\n",
    "m2_msun = 19.0\n",
    "chi1 = 0.5 # Dimensionless spin\n",
    "chi2 = -0.5\n",
    "tc = 0.0 # Time of coalescence in seconds\n",
    "phic = 0.0 # Time of coalescence\n",
    "dist_mpc = 440 # Distance to source in Mpc\n",
    "inclination = 0.0 # Inclination Angle\n",
    "\n",
    "gw_param_dict = {\n",
    "    'mass_1': np.array([m1_msun]),\n",
    "    'mass_2': np.array([m2_msun]),\n",
    "    'a_1': np.array([chi1]),\n",
    "    'a_2': np.array([chi2]),\n",
    "    'luminosity_distance': np.array([dist_mpc]),\n",
    "    'geocent_time': np.array([tc]),\n",
    "    'phase': np.array([phic]),\n",
    "    'theta_jn': np.array([inclination])\n",
    "}\n",
    "ripple.noise_weighted_inner_product_jax(\n",
    "    gw_param_dict=gw_param_dict,\n",
    "    psd_list=gwsnr.psds_list,\n",
    "    detector_list=gwsnr.detector_list,\n",
    ")"
   ]
  },
  {
   "cell_type": "code",
   "execution_count": 20,
   "id": "84e880d7",
   "metadata": {},
   "outputs": [
    {
     "name": "stderr",
     "output_type": "stream",
     "text": [
      "100%|█████████████████████████████████████████████████████████████████| 1/1 [00:00<00:00,  2.20it/s]\n"
     ]
    },
    {
     "data": {
      "text/plain": [
       "{'L1': array([49.67374168]),\n",
       " 'H1': array([41.95579152]),\n",
       " 'V1': array([24.73387519]),\n",
       " 'optimal_snr_net': array([69.56675669])}"
      ]
     },
     "execution_count": 20,
     "metadata": {},
     "output_type": "execute_result"
    }
   ],
   "source": [
    "gwsnr.compute_bilby_snr(gw_param_dict=gw_param_dict)"
   ]
  },
  {
   "cell_type": "code",
   "execution_count": null,
   "id": "111881f2",
   "metadata": {},
   "outputs": [],
   "source": []
  },
  {
   "cell_type": "code",
   "execution_count": 9,
   "id": "2b48de2c",
   "metadata": {},
   "outputs": [
    {
     "name": "stdout",
     "output_type": "stream",
     "text": [
      "\n",
      "Initializing GWSNR class...\n",
      "\n",
      "psds not given. Choosing bilby's default psds\n",
      "\n",
      "\n",
      "solving SNR with inner product JAX\n",
      "theta_ripple : [[ 1.6969042e+01  2.4983564e-01  5.0000000e-01 -5.0000000e-01\n",
      "   4.4000000e+02  0.0000000e+00  0.0000000e+00  0.0000000e+00]]\n"
     ]
    },
    {
     "name": "stderr",
     "output_type": "stream",
     "text": [
      "/Users/phurailatpamhemantakumar/anaconda3/envs/gwsnr/lib/python3.10/multiprocessing/popen_fork.py:66: RuntimeWarning: os.fork() was called. os.fork() is incompatible with multithreaded code, and JAX is multithreaded, so this will likely lead to a deadlock.\n",
      "  self.pid = os.fork()\n",
      "100%|█████████████████████████████████████████████████████████████████| 1/1 [00:00<00:00,  5.81it/s]\n"
     ]
    },
    {
     "data": {
      "text/plain": [
       "{'L1': array([49.67369594]),\n",
       " 'H1': array([41.95575289]),\n",
       " 'V1': array([24.73385048]),\n",
       " 'optimal_snr_net': array([69.56669195])}"
      ]
     },
     "execution_count": 9,
     "metadata": {},
     "output_type": "execute_result"
    }
   ],
   "source": [
    "from gwsnr import GWSNR\n",
    "import numpy as np\n",
    "\n",
    "gwsnr = GWSNR(\n",
    "        npool=4,\n",
    "        sampling_frequency=2048.0,\n",
    "        waveform_approximant=\"IMRPhenomD\",\n",
    "        minimum_frequency=20.0,\n",
    "        snr_type=\"inner_product_jax\",\n",
    "        interpolator_dir=\"./interpolator_pickle\",\n",
    "        create_new_interpolator=False,\n",
    "        gwsnr_verbose=False,\n",
    "        multiprocessing_verbose=True,\n",
    "        mtot_cut=True,\n",
    "    )\n",
    "\n",
    "m1_msun = 20.0 # In solar masses\n",
    "m2_msun = 19.0\n",
    "chi1 = 0.5 # Dimensionless spin\n",
    "chi2 = -0.5\n",
    "tc = 0.0 # Time of coalescence in seconds\n",
    "phic = 0.0 # Time of coalescence\n",
    "dist_mpc = 440 # Distance to source in Mpc\n",
    "inclination = 0.0 # Inclination Angle\n",
    "gw_param_dict = {\n",
    "    'mass_1': np.array([m1_msun]),\n",
    "    'mass_2': np.array([m2_msun]),\n",
    "    'a_1': np.array([chi1]),\n",
    "    'a_2': np.array([chi2]),\n",
    "    'luminosity_distance': np.array([dist_mpc]),\n",
    "    'geocent_time': np.array([tc]),\n",
    "    'phase': np.array([phic]),\n",
    "    'theta_jn': np.array([inclination])\n",
    "}\n",
    "gwsnr.snr(gw_param_dict=gw_param_dict)"
   ]
  },
  {
   "cell_type": "code",
   "execution_count": 12,
   "id": "c246352b",
   "metadata": {},
   "outputs": [
    {
     "name": "stdout",
     "output_type": "stream",
     "text": [
      "solving SNR with inner product JAX\n",
      "fs : [[0.00000000e+00 2.00000003e-01 4.00000006e-01 ...\n",
      "  1.02360004e+03 1.02379999e+03 1.02400000e+03]]\n",
      "theta_ripple : [[ 1.6969042e+01  2.4983564e-01  5.0000000e-01 -5.0000000e-01\n",
      "   4.4000000e+02  0.0000000e+00  0.0000000e+00  0.0000000e+00]]\n",
      "hp : [[            nan           +nanj\n",
      "   9.31166505e-21-7.96913153e-21j\n",
      "   3.02415293e-21-4.53789749e-21j ...\n",
      "  -6.08449357e-29+5.98742430e-29j\n",
      "  -6.07023929e-29+5.96847676e-29j\n",
      "  -6.05610717e-29+5.94949431e-29j]]\n",
      "hc : [[            nan           +nanj\n",
      "  -7.96913153e-21-9.31166505e-21j\n",
      "  -4.53789749e-21-3.02415293e-21j ...\n",
      "   5.98742430e-29+6.08449357e-29j\n",
      "   5.96847676e-29+6.07023929e-29j\n",
      "   5.94949431e-29+6.05610717e-29j]]\n"
     ]
    },
    {
     "name": "stderr",
     "output_type": "stream",
     "text": [
      "/Users/phurailatpamhemantakumar/anaconda3/envs/gwsnr/lib/python3.10/multiprocessing/popen_fork.py:66: RuntimeWarning: os.fork() was called. os.fork() is incompatible with multithreaded code, and JAX is multithreaded, so this will likely lead to a deadlock.\n",
      "  self.pid = os.fork()\n",
      "100%|█████████████████████████████████████████████████████████████████| 1/1 [00:00<00:00,  2.72it/s]\n"
     ]
    },
    {
     "data": {
      "text/plain": [
       "{'L1': array([49.67369594]),\n",
       " 'H1': array([41.95575289]),\n",
       " 'V1': array([24.73385048]),\n",
       " 'optimal_snr_net': array([69.56669195])}"
      ]
     },
     "execution_count": 12,
     "metadata": {},
     "output_type": "execute_result"
    }
   ],
   "source": [
    "gwsnr.snr(mass_1=np.array([20.]), mass_2=np.array([19.]), a_1=np.array([0.5]), a_2=np.array([-0.5]), luminosity_distance=np.array([440.]), geocent_time=np.array([0.0]), phase=np.array([0.0]), theta_jn=np.array([0.0]))"
   ]
  },
  {
   "cell_type": "code",
   "execution_count": 8,
   "id": "2c1bf2d9",
   "metadata": {},
   "outputs": [
    {
     "data": {
      "text/plain": [
       "Array([ 1.7411015e+01,  2.5000000e-01,  5.0000000e-01,\n",
       "       -5.0000000e-01,  4.4000000e+02,  0.0000000e+00,\n",
       "        0.0000000e+00,  0.0000000e+00], dtype=float32)"
      ]
     },
     "execution_count": 8,
     "metadata": {},
     "output_type": "execute_result"
    }
   ],
   "source": [
    "theta_ripple"
   ]
  },
  {
   "cell_type": "code",
   "execution_count": 13,
   "id": "4914f160",
   "metadata": {},
   "outputs": [
    {
     "data": {
      "text/plain": [
       "(Array([-3.8084434e-23-3.8084396e-23j,\n",
       "         4.5623206e-23+2.7072990e-23j,\n",
       "        -5.1343526e-23-9.7666944e-24j, ...,\n",
       "        -7.4017911e-29-8.4835023e-31j,\n",
       "        -7.3761390e-29-7.0301747e-31j,\n",
       "        -7.3505452e-29-5.5868472e-31j], dtype=complex64),\n",
       " Array([-3.8084396e-23+3.8084434e-23j,\n",
       "         2.7072990e-23-4.5623206e-23j,\n",
       "        -9.7666944e-24+5.1343526e-23j, ...,\n",
       "        -8.4835023e-31+7.4017911e-29j,\n",
       "        -7.0301747e-31+7.3761390e-29j,\n",
       "        -5.5868472e-31+7.3505452e-29j], dtype=complex64))"
      ]
     },
     "execution_count": 13,
     "metadata": {},
     "output_type": "execute_result"
    }
   ],
   "source": [
    "import jax.numpy as jnp\n",
    "\n",
    "from ripple.waveforms import IMRPhenomXAS\n",
    "from ripple import ms_to_Mc_eta\n",
    "# Get a frequency domain waveform\n",
    "# source parameters\n",
    "\n",
    "m1_msun = 20.0 # In solar masses\n",
    "m2_msun = 19.0\n",
    "chi1 = 0.5 # Dimensionless spin\n",
    "chi2 = -0.5\n",
    "tc = 0.0 # Time of coalescence in seconds\n",
    "phic = 0.0 # Time of coalescence\n",
    "dist_mpc = 440 # Distance to source in Mpc\n",
    "inclination = 0.0 # Inclination Angle\n",
    "\n",
    "# The PhenomD waveform model is parameterized with the chirp mass and symmetric mass ratio\n",
    "Mc, eta = ms_to_Mc_eta(jnp.array([m1_msun, m2_msun]))\n",
    "\n",
    "# These are the parametrs that go into the waveform generator\n",
    "# Note that JAX does not give index errors, so if you pass in the\n",
    "# the wrong array it will behave strangely\n",
    "theta_ripple = jnp.array([Mc, eta, chi1, chi2, dist_mpc, tc, phic, inclination])\n",
    "\n",
    "# Now we need to generate the frequency grid\n",
    "f_l = 20\n",
    "f_u = 1024\n",
    "del_f = 1/4.\n",
    "fs = jnp.arange(f_l, f_u, del_f)\n",
    "f_ref = f_l\n",
    "\n",
    "# And finally lets generate the waveform!\n",
    "IMRPhenomXAS.gen_IMRPhenomXAS_hphc(fs, theta_ripple, f_ref)\n"
   ]
  },
  {
   "cell_type": "code",
   "execution_count": null,
   "id": "73d83ee6",
   "metadata": {},
   "outputs": [],
   "source": []
  },
  {
   "cell_type": "code",
   "execution_count": 2,
   "id": "050119dc",
   "metadata": {},
   "outputs": [],
   "source": [
    "import numpy as np\n",
    "import pytest\n",
    "import time\n",
    "from gwsnr import GWSNR\n",
    "from gwsnr.utils import append_json\n",
    "\n",
    "np.random.seed(1234)\n",
    "\n",
    "class TestGWSNRInnerProduct:\n",
    "    \"\"\"\n",
    "    Test suite for GWSNR inner product-based SNR calculations.\n",
    "    \n",
    "    Validates exact SNR computation using direct waveform generation and noise-weighted\n",
    "    inner products. Tests core functionality, waveform compatibility, detector flexibility,\n",
    "    and performance characteristics of the `snr_type=\"inner_product\"` method.\n",
    "    \"\"\"\n",
    "    \n",
    "    def _generate_bbh_params(self, nsamples, include_spins=False, distance=500.0):\n",
    "        \"\"\"Generate realistic BBH parameters for testing.\"\"\"\n",
    "        mtot = np.random.uniform(20, 200, nsamples)\n",
    "        mass_ratio = np.random.uniform(0.2, 1, nsamples)\n",
    "        \n",
    "        params = {\n",
    "            'mass_1': mtot / (1 + mass_ratio),\n",
    "            'mass_2': mtot * mass_ratio / (1 + mass_ratio),\n",
    "            'luminosity_distance': distance * np.ones(nsamples),\n",
    "            'geocent_time': 1246527224.169434 * np.ones(nsamples),\n",
    "            'theta_jn': np.random.uniform(0, 2*np.pi, nsamples),\n",
    "            'ra': np.random.uniform(0, 2*np.pi, nsamples),\n",
    "            'dec': np.random.uniform(-np.pi/2, np.pi/2, nsamples),\n",
    "            'psi': np.random.uniform(0, 2*np.pi, nsamples),\n",
    "            'phase': np.random.uniform(0, 2*np.pi, nsamples),\n",
    "        }\n",
    "        \n",
    "        if include_spins:\n",
    "            params.update({\n",
    "                'a_1': np.random.uniform(0, 0.8, nsamples),\n",
    "                'a_2': np.random.uniform(0, 0.8, nsamples),\n",
    "                'tilt_1': np.random.uniform(0, np.pi, nsamples),\n",
    "                'tilt_2': np.random.uniform(0, np.pi, nsamples),\n",
    "                'phi_12': np.random.uniform(0, 2*np.pi, nsamples),\n",
    "                'phi_jl': np.random.uniform(0, 2*np.pi, nsamples),\n",
    "            })\n",
    "        \n",
    "        return params\n",
    "    \n",
    "    def _validate_snr_output(self, snr_dict, expected_samples, test_name=\"\"):\n",
    "        \"\"\"Validate SNR output format and numerical properties.\"\"\"\n",
    "        assert isinstance(snr_dict, dict), f\"{test_name}: SNR output should be a dictionary\"\n",
    "        assert \"optimal_snr_net\" in snr_dict, f\"{test_name}: Missing 'optimal_snr_net'\"\n",
    "        \n",
    "        snr_arr = np.asarray(snr_dict[\"optimal_snr_net\"])\n",
    "        assert snr_arr.shape == (expected_samples,), f\"{test_name}: Shape mismatch\"\n",
    "        assert np.all(np.isfinite(snr_arr)), f\"{test_name}: Non-finite SNR values\"\n",
    "        assert np.all(np.isreal(snr_arr)), f\"{test_name}: SNR values not real\"\n",
    "        assert np.all(snr_arr >= 0), f\"{test_name}: Negative SNR values\"\n",
    "        assert snr_arr.dtype == np.float64, f\"{test_name}: Wrong dtype\"\n",
    "    \n",
    "    def _create_gwsnr(self, **overrides):\n",
    "        \"\"\"Create GWSNR instance with sensible defaults and optional overrides.\"\"\"\n",
    "        defaults = {\n",
    "            'npool': 1,\n",
    "            'sampling_frequency': 2048.0,\n",
    "            'waveform_approximant': \"IMRPhenomXPHM\", \n",
    "            'frequency_domain_source_model': 'lal_binary_black_hole',\n",
    "            'minimum_frequency': 20.0,\n",
    "            'snr_type': \"inner_product\",\n",
    "            'gwsnr_verbose': False,\n",
    "            'multiprocessing_verbose': False,\n",
    "        }\n",
    "        defaults.update(overrides)\n",
    "        return GWSNR(**defaults)\n",
    "\n",
    "    def test_custom_psds(self):\n",
    "        \"\"\"\n",
    "        Test SNR calculation with custom power spectral densities.\n",
    "        \n",
    "        Validates inner product method with design sensitivity PSDs and compares\n",
    "        results with default PSDs to ensure custom noise curves work correctly.\n",
    "        \"\"\"\n",
    "        custom_psds = {\n",
    "            'L1': 'aLIGOaLIGODesignSensitivityT1800044',\n",
    "            'H1': 'aLIGOaLIGODesignSensitivityT1800044', \n",
    "            'V1': 'AdvVirgo'\n",
    "        }\n",
    "        \n",
    "        gwsnr_custom = self._create_gwsnr(\n",
    "            psds=custom_psds,\n",
    "        )\n",
    "            \n",
    "        nsamples = 3\n",
    "        params = self._generate_bbh_params(nsamples, distance=400.0)\n",
    "        \n",
    "        # Test custom PSDs\n",
    "        custom_snr = gwsnr_custom.snr(gw_param_dict=params)\n",
    "        self._validate_snr_output(custom_snr, nsamples, \"custom_psds\")\n",
    "        \n",
    "        # Compare with default PSDs\n",
    "        gwsnr_default = self._create_gwsnr(psds=None, ifos=[\"L1\", \"H1\", \"V1\"])\n",
    "        default_snr = gwsnr_default.snr(gw_param_dict=params)\n",
    "        \n",
    "        # Validate that custom PSDs produce reasonable results\n",
    "        custom_arr = np.asarray(custom_snr[\"optimal_snr_net\"])\n",
    "        default_arr = np.asarray(default_snr[\"optimal_snr_net\"])\n",
    "        ratio = custom_arr / default_arr\n",
    "        \n",
    "        assert np.all(ratio > 0.1) and np.all(ratio < 10.0), \\\n",
    "            \"Custom PSD SNRs should be within reasonable range of defaults\""
   ]
  },
  {
   "cell_type": "code",
   "execution_count": 3,
   "id": "ba4c9cf1",
   "metadata": {},
   "outputs": [
    {
     "name": "stdout",
     "output_type": "stream",
     "text": [
      "\n",
      "Initializing GWSNR class...\n",
      "\n",
      "Trying to get the psd from pycbc:  aLIGOaLIGODesignSensitivityT1800044\n",
      "Trying to get the psd from pycbc:  aLIGOaLIGODesignSensitivityT1800044\n",
      "Trying to get the psd from pycbc:  AdvVirgo\n",
      "Intel processor has trouble allocating memory when the data is huge. So, by default for IMRPhenomXPHM, duration_max = 64.0. Otherwise, set to some max value like duration_max = 600.0 (10 mins)\n",
      "\n",
      "\n",
      "solving SNR with inner product\n"
     ]
    },
    {
     "ename": "TypeError",
     "evalue": "'PowerSpectralDensity' object is not subscriptable",
     "output_type": "error",
     "traceback": [
      "\u001b[0;31m---------------------------------------------------------------------------\u001b[0m",
      "\u001b[0;31mRemoteTraceback\u001b[0m                           Traceback (most recent call last)",
      "\u001b[0;31mRemoteTraceback\u001b[0m: \n\"\"\"\nTraceback (most recent call last):\n  File \"/Users/phurailatpamhemantakumar/anaconda3/envs/gwsnr/lib/python3.10/multiprocessing/pool.py\", line 125, in worker\n    result = (True, func(*args, **kwds))\n  File \"/Users/phurailatpamhemantakumar/anaconda3/envs/gwsnr/lib/python3.10/multiprocessing/pool.py\", line 48, in mapstar\n    return list(map(*args))\n  File \"/Users/phurailatpamhemantakumar/phd/mypackages/gwsnr/gwsnr/utils/multiprocessing_routine.py\", line 132, in noise_weighted_inner_prod\n    p_array = psds_objects[idx][2](waveform_generator.frequency_array)\nTypeError: 'PowerSpectralDensity' object is not subscriptable\n\"\"\"",
      "\nThe above exception was the direct cause of the following exception:\n",
      "\u001b[0;31mTypeError\u001b[0m                                 Traceback (most recent call last)",
      "Cell \u001b[0;32mIn[3], line 1\u001b[0m\n\u001b[0;32m----> 1\u001b[0m \u001b[43mTestGWSNRInnerProduct\u001b[49m\u001b[43m(\u001b[49m\u001b[43m)\u001b[49m\u001b[38;5;241;43m.\u001b[39;49m\u001b[43mtest_custom_psds\u001b[49m\u001b[43m(\u001b[49m\u001b[43m)\u001b[49m\n",
      "Cell \u001b[0;32mIn[2], line 95\u001b[0m, in \u001b[0;36mTestGWSNRInnerProduct.test_custom_psds\u001b[0;34m(self)\u001b[0m\n\u001b[1;32m     92\u001b[0m params \u001b[38;5;241m=\u001b[39m \u001b[38;5;28mself\u001b[39m\u001b[38;5;241m.\u001b[39m_generate_bbh_params(nsamples, distance\u001b[38;5;241m=\u001b[39m\u001b[38;5;241m400.0\u001b[39m)\n\u001b[1;32m     94\u001b[0m \u001b[38;5;66;03m# Test custom PSDs\u001b[39;00m\n\u001b[0;32m---> 95\u001b[0m custom_snr \u001b[38;5;241m=\u001b[39m \u001b[43mgwsnr_custom\u001b[49m\u001b[38;5;241;43m.\u001b[39;49m\u001b[43msnr\u001b[49m\u001b[43m(\u001b[49m\u001b[43mgw_param_dict\u001b[49m\u001b[38;5;241;43m=\u001b[39;49m\u001b[43mparams\u001b[49m\u001b[43m)\u001b[49m\n\u001b[1;32m     96\u001b[0m \u001b[38;5;28mself\u001b[39m\u001b[38;5;241m.\u001b[39m_validate_snr_output(custom_snr, nsamples, \u001b[38;5;124m\"\u001b[39m\u001b[38;5;124mcustom_psds\u001b[39m\u001b[38;5;124m\"\u001b[39m)\n\u001b[1;32m     98\u001b[0m \u001b[38;5;66;03m# Compare with default PSDs\u001b[39;00m\n",
      "File \u001b[0;32m~/phd/mypackages/gwsnr/gwsnr/core/gwsnr.py:1324\u001b[0m, in \u001b[0;36mGWSNR.snr\u001b[0;34m(self, mass_1, mass_2, luminosity_distance, theta_jn, psi, phase, geocent_time, ra, dec, a_1, a_2, tilt_1, tilt_2, phi_12, phi_jl, lambda_1, lambda_2, eccentricity, gw_param_dict, output_jsonfile)\u001b[0m\n\u001b[1;32m   1321\u001b[0m \u001b[38;5;28;01melif\u001b[39;00m \u001b[38;5;28mself\u001b[39m\u001b[38;5;241m.\u001b[39msnr_type \u001b[38;5;241m==\u001b[39m \u001b[38;5;124m\"\u001b[39m\u001b[38;5;124minner_product\u001b[39m\u001b[38;5;124m\"\u001b[39m:\n\u001b[1;32m   1322\u001b[0m     \u001b[38;5;28mprint\u001b[39m(\u001b[38;5;124m\"\u001b[39m\u001b[38;5;124msolving SNR with inner product\u001b[39m\u001b[38;5;124m\"\u001b[39m)\n\u001b[0;32m-> 1324\u001b[0m     snr_dict \u001b[38;5;241m=\u001b[39m \u001b[38;5;28;43mself\u001b[39;49m\u001b[38;5;241;43m.\u001b[39;49m\u001b[43mcompute_bilby_snr\u001b[49m\u001b[43m(\u001b[49m\n\u001b[1;32m   1325\u001b[0m \u001b[43m        \u001b[49m\u001b[43mgw_param_dict\u001b[49m\u001b[38;5;241;43m=\u001b[39;49m\u001b[43mgw_param_dict\u001b[49m\u001b[43m,\u001b[49m\n\u001b[1;32m   1326\u001b[0m \u001b[43m        \u001b[49m\u001b[43moutput_jsonfile\u001b[49m\u001b[38;5;241;43m=\u001b[39;49m\u001b[43moutput_jsonfile\u001b[49m\u001b[43m,\u001b[49m\n\u001b[1;32m   1327\u001b[0m \u001b[43m    \u001b[49m\u001b[43m)\u001b[49m\n\u001b[1;32m   1329\u001b[0m \u001b[38;5;28;01melif\u001b[39;00m \u001b[38;5;28mself\u001b[39m\u001b[38;5;241m.\u001b[39msnr_type \u001b[38;5;241m==\u001b[39m \u001b[38;5;124m\"\u001b[39m\u001b[38;5;124minner_product_jax\u001b[39m\u001b[38;5;124m\"\u001b[39m:\n\u001b[1;32m   1330\u001b[0m     \u001b[38;5;28mprint\u001b[39m(\u001b[38;5;124m\"\u001b[39m\u001b[38;5;124msolving SNR with inner product JAX\u001b[39m\u001b[38;5;124m\"\u001b[39m)\n",
      "File \u001b[0;32m~/phd/mypackages/gwsnr/gwsnr/core/gwsnr.py:2265\u001b[0m, in \u001b[0;36mGWSNR.compute_bilby_snr\u001b[0;34m(self, mass_1, mass_2, luminosity_distance, theta_jn, psi, phase, geocent_time, ra, dec, a_1, a_2, tilt_1, tilt_2, phi_12, phi_jl, lambda_1, lambda_2, eccentricity, gw_param_dict, output_jsonfile)\u001b[0m\n\u001b[1;32m   2262\u001b[0m         hc_inner_hc[:, iter_i] \u001b[38;5;241m=\u001b[39m hc_inner_hc_i\n\u001b[1;32m   2263\u001b[0m \u001b[38;5;28;01melse\u001b[39;00m:\n\u001b[1;32m   2264\u001b[0m     \u001b[38;5;66;03m# with map, without tqdm\u001b[39;00m\n\u001b[0;32m-> 2265\u001b[0m     \u001b[38;5;28;01mfor\u001b[39;00m result \u001b[38;5;129;01min\u001b[39;00m \u001b[43mpool\u001b[49m\u001b[38;5;241;43m.\u001b[39;49m\u001b[43mmap\u001b[49m\u001b[43m(\u001b[49m\u001b[43mnoise_weighted_inner_prod\u001b[49m\u001b[43m,\u001b[49m\u001b[43m \u001b[49m\u001b[43minput_arguments\u001b[49m\u001b[43m)\u001b[49m:\n\u001b[1;32m   2266\u001b[0m         hp_inner_hp_i, hc_inner_hc_i, iter_i \u001b[38;5;241m=\u001b[39m result\n\u001b[1;32m   2267\u001b[0m         hp_inner_hp[:, iter_i] \u001b[38;5;241m=\u001b[39m hp_inner_hp_i\n",
      "File \u001b[0;32m~/anaconda3/envs/gwsnr/lib/python3.10/multiprocessing/pool.py:367\u001b[0m, in \u001b[0;36mPool.map\u001b[0;34m(self, func, iterable, chunksize)\u001b[0m\n\u001b[1;32m    362\u001b[0m \u001b[38;5;28;01mdef\u001b[39;00m \u001b[38;5;21mmap\u001b[39m(\u001b[38;5;28mself\u001b[39m, func, iterable, chunksize\u001b[38;5;241m=\u001b[39m\u001b[38;5;28;01mNone\u001b[39;00m):\n\u001b[1;32m    363\u001b[0m \u001b[38;5;250m    \u001b[39m\u001b[38;5;124;03m'''\u001b[39;00m\n\u001b[1;32m    364\u001b[0m \u001b[38;5;124;03m    Apply `func` to each element in `iterable`, collecting the results\u001b[39;00m\n\u001b[1;32m    365\u001b[0m \u001b[38;5;124;03m    in a list that is returned.\u001b[39;00m\n\u001b[1;32m    366\u001b[0m \u001b[38;5;124;03m    '''\u001b[39;00m\n\u001b[0;32m--> 367\u001b[0m     \u001b[38;5;28;01mreturn\u001b[39;00m \u001b[38;5;28;43mself\u001b[39;49m\u001b[38;5;241;43m.\u001b[39;49m\u001b[43m_map_async\u001b[49m\u001b[43m(\u001b[49m\u001b[43mfunc\u001b[49m\u001b[43m,\u001b[49m\u001b[43m \u001b[49m\u001b[43miterable\u001b[49m\u001b[43m,\u001b[49m\u001b[43m \u001b[49m\u001b[43mmapstar\u001b[49m\u001b[43m,\u001b[49m\u001b[43m \u001b[49m\u001b[43mchunksize\u001b[49m\u001b[43m)\u001b[49m\u001b[38;5;241;43m.\u001b[39;49m\u001b[43mget\u001b[49m\u001b[43m(\u001b[49m\u001b[43m)\u001b[49m\n",
      "File \u001b[0;32m~/anaconda3/envs/gwsnr/lib/python3.10/multiprocessing/pool.py:774\u001b[0m, in \u001b[0;36mApplyResult.get\u001b[0;34m(self, timeout)\u001b[0m\n\u001b[1;32m    772\u001b[0m     \u001b[38;5;28;01mreturn\u001b[39;00m \u001b[38;5;28mself\u001b[39m\u001b[38;5;241m.\u001b[39m_value\n\u001b[1;32m    773\u001b[0m \u001b[38;5;28;01melse\u001b[39;00m:\n\u001b[0;32m--> 774\u001b[0m     \u001b[38;5;28;01mraise\u001b[39;00m \u001b[38;5;28mself\u001b[39m\u001b[38;5;241m.\u001b[39m_value\n",
      "\u001b[0;31mTypeError\u001b[0m: 'PowerSpectralDensity' object is not subscriptable"
     ]
    }
   ],
   "source": [
    "TestGWSNRInnerProduct().test_custom_psds()"
   ]
  },
  {
   "cell_type": "code",
   "execution_count": null,
   "id": "f87bfae7",
   "metadata": {},
   "outputs": [],
   "source": []
  }
 ],
 "metadata": {
  "kernelspec": {
   "display_name": "gwsnr",
   "language": "python",
   "name": "gwsnr"
  },
  "language_info": {
   "codemirror_mode": {
    "name": "ipython",
    "version": 3
   },
   "file_extension": ".py",
   "mimetype": "text/x-python",
   "name": "python",
   "nbconvert_exporter": "python",
   "pygments_lexer": "ipython3",
   "version": "3.10.18"
  }
 },
 "nbformat": 4,
 "nbformat_minor": 5
}
