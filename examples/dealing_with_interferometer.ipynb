{
 "cells": [
  {
   "cell_type": "markdown",
   "metadata": {},
   "source": [
    "# Dealing with gravitational waves interferometer detectors\n",
    "\n",
    "This notebook is a tutorial on define and use your own interferometer detectors in `gwsnr`. \n",
    "\n",
    "## Contents\n",
    "\n",
    "1. Using the built-in interferometer detectors\n",
    "   \n",
    "2. Defining a new interferometer object with a specified PSD power spectral density or ASD amplitude spectral density."
   ]
  },
  {
   "cell_type": "markdown",
   "metadata": {},
   "source": [
    "## 1. Using the built-in interferometer detectors\n",
    "\n",
    "`gwsnr` allows `bilby` specified interferometer detectors to be used ([link](https://github.com/bilby-dev/bilby/tree/master/bilby/gw/detector/detectors)). The following detectors are available\n",
    "\n",
    "- H1 : LIGO Hanford\n",
    "- L1 : LIGO Livingston\n",
    "- V1 : Virgo\n",
    "- K1 : KAGRA\n",
    "- ET : Einstein Telescope\n",
    "- CE : Cosmic Explorer\n",
    "- A1 : A+ (Advanced LIGO)\n",
    "- GEO600 : GEO600"
   ]
  },
  {
   "cell_type": "code",
   "execution_count": 1,
   "metadata": {},
   "outputs": [],
   "source": [
    "import numpy as np\n",
    "from gwsnr import GWSNR"
   ]
  },
  {
   "cell_type": "code",
   "execution_count": 2,
   "metadata": {},
   "outputs": [
    {
     "name": "stdout",
     "output_type": "stream",
     "text": [
      "\n",
      "Initializing GWSNR class...\n",
      "\n",
      "\n",
      "Chosen GWSNR initialization parameters:\n",
      "\n",
      "npool:  4\n",
      "snr type:  inner_product\n",
      "waveform approximant:  IMRPhenomD\n",
      "sampling frequency:  2048.0\n",
      "minimum frequency (fmin):  20.0\n",
      "mtot=mass1+mass2\n",
      "min(mtot):  9.96\n",
      "max(mtot) (with the given fmin=20.0): 235.0\n",
      "detectors:  ['ET1', 'ET2', 'ET3', 'CE']\n",
      "psds:  [PowerSpectralDensity(psd_file='/Users/phurailatpamhemantakumar/anaconda3/envs/ler/lib/python3.10/site-packages/bilby/gw/detector/noise_curves/ET_D_psd.txt', asd_file='None'), PowerSpectralDensity(psd_file='/Users/phurailatpamhemantakumar/anaconda3/envs/ler/lib/python3.10/site-packages/bilby/gw/detector/noise_curves/ET_D_psd.txt', asd_file='None'), PowerSpectralDensity(psd_file='/Users/phurailatpamhemantakumar/anaconda3/envs/ler/lib/python3.10/site-packages/bilby/gw/detector/noise_curves/ET_D_psd.txt', asd_file='None'), PowerSpectralDensity(psd_file='/Users/phurailatpamhemantakumar/anaconda3/envs/ler/lib/python3.10/site-packages/bilby/gw/detector/noise_curves/CE_psd.txt', asd_file='None')]\n",
      "\n",
      "\n"
     ]
    }
   ],
   "source": [
    "# class initialization\n",
    "gwsnr = GWSNR(\n",
    "  ifos = ['ET', 'CE'],  # interferometers with \n",
    "  snr_type='inner_product',  \n",
    ")"
   ]
  },
  {
   "cell_type": "code",
   "execution_count": 3,
   "metadata": {},
   "outputs": [
    {
     "name": "stdout",
     "output_type": "stream",
     "text": [
      "solving SNR with inner product\n"
     ]
    },
    {
     "name": "stderr",
     "output_type": "stream",
     "text": [
      "Exception ignored in: <bound method IPythonKernel._clean_thread_parent_frames of <ipykernel.ipkernel.IPythonKernel object at 0x103207490>>\n",
      "Traceback (most recent call last):\n",
      "  File \"/Users/phurailatpamhemantakumar/anaconda3/envs/ler/lib/python3.10/site-packages/ipykernel/ipkernel.py\", line 775, in _clean_thread_parent_frames\n",
      "    def _clean_thread_parent_frames(\n",
      "KeyboardInterrupt: \n",
      "100%|█████████████████████████████████████████████████████████████████| 1/1 [00:00<00:00,  3.52it/s]\n"
     ]
    },
    {
     "data": {
      "text/plain": [
       "{'ET1': array([209.45492777]),\n",
       " 'ET2': array([598.08710467]),\n",
       " 'ET3': array([665.52210736]),\n",
       " 'CE': array([3066.7533895]),\n",
       " 'optimal_snr_net': array([3201.48021686])}"
      ]
     },
     "execution_count": 3,
     "metadata": {},
     "output_type": "execute_result"
    }
   ],
   "source": [
    "# signal-to-noise ratio for a binary black hole merger with masses 10, 10 Msun at a luminosity distance of 100 Mpc\n",
    "gwsnr.snr(mass_1=np.array([10.0]), mass_2=np.array([10.0]), luminosity_distance=np.array([100.0]))"
   ]
  },
  {
   "cell_type": "markdown",
   "metadata": {},
   "source": [
    "## 2. Defining a new interferometer object with a specified PSD/ASD\n",
    "\n",
    "User can define their own interferometer object with a specified PSD/ASD using `bilby`. This can be done by defining the detector's name, PSD/ASD, location, orientation, etc. "
   ]
  },
  {
   "cell_type": "code",
   "execution_count": 1,
   "metadata": {},
   "outputs": [],
   "source": [
    "import numpy as np\n",
    "from gwsnr import GWSNR\n",
    "import bilby"
   ]
  },
  {
   "cell_type": "code",
   "execution_count": 2,
   "metadata": {},
   "outputs": [],
   "source": [
    "# Define LIGO India as bilby interferometer object\n",
    "ifosLIO = bilby.gw.detector.interferometer.Interferometer(\n",
    "    name = 'LIO',\n",
    "    power_spectral_density = bilby.gw.detector.PowerSpectralDensity(asd_file='Aplus_asd.txt'),  # Aplus_asd.txt is already in the bilby.gw.detector module. But you can also provide your own PSD/ASD file with the path.\n",
    "    minimum_frequency = 20.,\n",
    "    maximum_frequency = 2048.,\n",
    "    length = 4,\n",
    "    latitude = 19 + 36. / 60 + 47.9017 / 3600,\n",
    "    longitude = 77 + 01. / 60 + 51.0997 / 3600,\n",
    "    elevation = 450.,\n",
    "    xarm_azimuth = 117.6157,\n",
    "    yarm_azimuth = 117.6157 + 90.,\n",
    "    xarm_tilt = 0.,\n",
    "    yarm_tilt = 0.\n",
    ")"
   ]
  },
  {
   "cell_type": "code",
   "execution_count": 4,
   "metadata": {},
   "outputs": [
    {
     "name": "stdout",
     "output_type": "stream",
     "text": [
      "\n",
      "Chosen GWSNR initialization parameters:\n",
      "\n",
      "npool:  4\n",
      "snr type:  inner_product\n",
      "waveform approximant:  IMRPhenomD\n",
      "sampling frequency:  2048.0\n",
      "minimum frequency (fmin):  20.0\n",
      "mtot=mass1+mass2\n",
      "min(mtot):  2.0\n",
      "max(mtot) (with the given fmin=20.0): 184.98599853446768\n",
      "detectors:  ['LIO']\n",
      "psds:  [PowerSpectralDensity(psd_file='None', asd_file='/Users/phurailatpamhemantakumar/anaconda3/envs/ler/lib/python3.10/site-packages/bilby/gw/detector/noise_curves/Aplus_asd.txt')]\n"
     ]
    }
   ],
   "source": [
    "# class initialization\n",
    "gwsnr = GWSNR(\n",
    "    ifos=[ifosLIO],  # new interferometer\n",
    "    snr_type='inner_product',\n",
    ")"
   ]
  },
  {
   "cell_type": "code",
   "execution_count": 5,
   "metadata": {},
   "outputs": [
    {
     "name": "stdout",
     "output_type": "stream",
     "text": [
      "solving SNR with inner product\n"
     ]
    },
    {
     "name": "stderr",
     "output_type": "stream",
     "text": [
      "100%|█████████████████████████████████████████████████████████████████| 1/1 [00:04<00:00,  4.88s/it]\n"
     ]
    },
    {
     "data": {
      "text/plain": [
       "{'LIO': array([240.5546581]), 'optimal_snr_net': array([240.5546581])}"
      ]
     },
     "execution_count": 5,
     "metadata": {},
     "output_type": "execute_result"
    }
   ],
   "source": [
    "# signal-to-noise ratio for a binary black hole merger with masses 10, 10 Msun at a luminosity distance of 100 Mpc\n",
    "gwsnr.snr(mass_1=np.array([10.0]), mass_2=np.array([10.0]), luminosity_distance=np.array([100.0]))"
   ]
  },
  {
   "cell_type": "code",
   "execution_count": 1,
   "metadata": {},
   "outputs": [
    {
     "name": "stdout",
     "output_type": "stream",
     "text": [
      "\n",
      "Initializing GWSNR class...\n",
      "\n",
      "Loading psd data for L1 detector from ./psd_data/L1_1246527225_psd.txt\n",
      "Interpolator will be generated for L1 detector at ./interpolator_pickle/L1/partialSNR_dict_3.pickle\n",
      "Please be patient while the interpolator is generated\n",
      "Generating interpolator for ['L1'] detectors\n"
     ]
    },
    {
     "name": "stderr",
     "output_type": "stream",
     "text": [
      "100%|██████████████████████████████████████████████████████████| 3997/3997 [00:04<00:00, 976.28it/s]\n"
     ]
    },
    {
     "name": "stdout",
     "output_type": "stream",
     "text": [
      "\n",
      "Saving Partial-SNR for L1 detector with shape (20, 200)\n",
      "\n",
      "Chosen GWSNR initialization parameters:\n",
      "\n",
      "npool:  4\n",
      "snr type:  interpolation_no_spins\n",
      "waveform approximant:  IMRPhenomD\n",
      "sampling frequency:  2048.0\n",
      "minimum frequency (fmin):  20.0\n",
      "mtot=mass1+mass2\n",
      "min(mtot):  9.96\n",
      "max(mtot) (with the given fmin=20.0): 235.0\n",
      "detectors:  ['L1']\n",
      "psds:  [PowerSpectralDensity(psd_file='./psd_data/L1_1246527225_psd.txt', asd_file='None')]\n",
      "\n",
      "\n"
     ]
    }
   ],
   "source": [
    "from gwsnr import GWSNR\n",
    "# from bilby\n",
    "gwsnr = GWSNR(\n",
    "  sampling_frequency = 2048.0,  # sampling frequency of the data. 2048Hz is the default value\n",
    "  psds = {'L1':1246527224.169434}\n",
    ")"
   ]
  },
  {
   "cell_type": "code",
   "execution_count": null,
   "metadata": {},
   "outputs": [],
   "source": []
  }
 ],
 "metadata": {
  "kernelspec": {
   "display_name": "ler",
   "language": "python",
   "name": "ler"
  },
  "language_info": {
   "codemirror_mode": {
    "name": "ipython",
    "version": 3
   },
   "file_extension": ".py",
   "mimetype": "text/x-python",
   "name": "python",
   "nbconvert_exporter": "python",
   "pygments_lexer": "ipython3",
   "version": "3.10.18"
  }
 },
 "nbformat": 4,
 "nbformat_minor": 2
}
