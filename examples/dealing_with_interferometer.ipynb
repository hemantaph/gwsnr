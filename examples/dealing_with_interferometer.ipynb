{
 "cells": [
  {
   "cell_type": "markdown",
   "metadata": {},
   "source": [
    "# Dealing with gravitational waves interferometer detectors\n",
    "\n",
    "This notebook is a tutorial on define and use your own interferometer detectors in `gwsnr`. \n",
    "\n",
    "## Contents\n",
    "\n",
    "1. Using the built-in interferometer detectors\n",
    "   \n",
    "2. Defining a new interferometer object with a specified PSD power spectral density or ASD amplitude spectral density."
   ]
  },
  {
   "cell_type": "markdown",
   "metadata": {},
   "source": [
    "## 1. Using the built-in interferometer detectors\n",
    "\n",
    "`gwsnr` allows `bilby` specified interferometer detectors to be used ([link](https://github.com/bilby-dev/bilby/tree/master/bilby/gw/detector/detectors)). The following detectors are available\n",
    "\n",
    "- H1 : LIGO Hanford\n",
    "- L1 : LIGO Livingston\n",
    "- V1 : Virgo\n",
    "- K1 : KAGRA\n",
    "- ET : Einstein Telescope\n",
    "- CE : Cosmic Explorer\n",
    "- A1 : A+ (Advanced LIGO)\n",
    "- GEO600 : GEO600"
   ]
  },
  {
   "cell_type": "code",
   "execution_count": 1,
   "metadata": {},
   "outputs": [],
   "source": [
    "from gwsnr import GWSNR\n",
    "import numpy as np"
   ]
  },
  {
   "cell_type": "code",
   "execution_count": 2,
   "metadata": {},
   "outputs": [
    {
     "name": "stdout",
     "output_type": "stream",
     "text": [
      "\n",
      " psd file for CE is /Users/phurailatpamhemantakumar/anaconda3/envs/ler/lib/python3.10/site-packages/bilby/gw/detector/noise_curves/CE_psd.txt\n",
      "\n",
      "Chosen GWSNR initialization parameters:\n",
      "\n",
      "npool:  4\n",
      "snr type:  inner_product\n",
      "waveform approximant:  IMRPhenomD\n",
      "sampling frequency:  2048.0\n",
      "minimum frequency (fmin):  20.0\n",
      "mtot=mass1+mass2\n",
      "min(mtot):  2.0\n",
      "max(mtot) (with the given fmin=20.0): 184.98599853446768\n",
      "detectors:  ['ET1', 'ET2', 'ET3', 'CE']\n",
      "psds:  [PowerSpectralDensity(psd_file='/Users/phurailatpamhemantakumar/anaconda3/envs/ler/lib/python3.10/site-packages/bilby/gw/detector/noise_curves/ET_D_psd.txt', asd_file='None'), PowerSpectralDensity(psd_file='/Users/phurailatpamhemantakumar/anaconda3/envs/ler/lib/python3.10/site-packages/bilby/gw/detector/noise_curves/ET_D_psd.txt', asd_file='None'), PowerSpectralDensity(psd_file='/Users/phurailatpamhemantakumar/anaconda3/envs/ler/lib/python3.10/site-packages/bilby/gw/detector/noise_curves/ET_D_psd.txt', asd_file='None'), PowerSpectralDensity(psd_file='/Users/phurailatpamhemantakumar/anaconda3/envs/ler/lib/python3.10/site-packages/bilby/gw/detector/noise_curves/CE_psd.txt', asd_file='None')]\n"
     ]
    }
   ],
   "source": [
    "# class initialization\n",
    "gwsnr = GWSNR(\n",
    "  ifos = ['ET', 'CE'],  # interferometers with \n",
    "  snr_type='inner_product',  \n",
    ")"
   ]
  },
  {
   "cell_type": "code",
   "execution_count": 15,
   "metadata": {},
   "outputs": [
    {
     "name": "stdout",
     "output_type": "stream",
     "text": [
      "solving SNR with inner product\n"
     ]
    },
    {
     "name": "stderr",
     "output_type": "stream",
     "text": [
      "100%|█████████████████████████████████████████████████████████████████| 1/1 [00:04<00:00,  4.71s/it]\n"
     ]
    },
    {
     "data": {
      "text/plain": [
       "{'ET1': array([209.44923413]),\n",
       " 'ET2': array([598.0708468]),\n",
       " 'ET3': array([665.50401639]),\n",
       " 'CE': array([3066.30488811]),\n",
       " 'optimal_snr_net': array([3201.04342085])}"
      ]
     },
     "execution_count": 15,
     "metadata": {},
     "output_type": "execute_result"
    }
   ],
   "source": [
    "# signal-to-noise ratio for a binary black hole merger with masses 10, 10 Msun at a luminosity distance of 100 Mpc\n",
    "gwsnr.snr(mass_1=np.array([10.0]), mass_2=np.array([10.0]), luminosity_distance=np.array([100.0]))"
   ]
  },
  {
   "cell_type": "markdown",
   "metadata": {},
   "source": [
    "## 2. Defining a new interferometer object with a specified PSD/ASD\n",
    "\n",
    "User can define their own interferometer object with a specified PSD/ASD using `bilby`. This can be done by defining the detector's name, PSD/ASD, location, orientation, etc. "
   ]
  },
  {
   "cell_type": "code",
   "execution_count": 1,
   "metadata": {},
   "outputs": [],
   "source": [
    "import numpy as np\n",
    "from gwsnr import GWSNR\n",
    "import bilby"
   ]
  },
  {
   "cell_type": "code",
   "execution_count": 2,
   "metadata": {},
   "outputs": [],
   "source": [
    "# Define LIGO India as bilby interferometer object\n",
    "ifosLIO = bilby.gw.detector.interferometer.Interferometer(\n",
    "    name = 'LIO',\n",
    "    power_spectral_density = bilby.gw.detector.PowerSpectralDensity(asd_file='Aplus_asd.txt'),  # Aplus_asd.txt is already in the bilby.gw.detector module. But you can also provide your own PSD/ASD file with the path.\n",
    "    minimum_frequency = 20.,\n",
    "    maximum_frequency = 2048.,\n",
    "    length = 4,\n",
    "    latitude = 19 + 36. / 60 + 47.9017 / 3600,\n",
    "    longitude = 77 + 01. / 60 + 51.0997 / 3600,\n",
    "    elevation = 450.,\n",
    "    xarm_azimuth = 117.6157,\n",
    "    yarm_azimuth = 117.6157 + 90.,\n",
    "    xarm_tilt = 0.,\n",
    "    yarm_tilt = 0.\n",
    ")"
   ]
  },
  {
   "cell_type": "code",
   "execution_count": 4,
   "metadata": {},
   "outputs": [
    {
     "name": "stdout",
     "output_type": "stream",
     "text": [
      "\n",
      "Chosen GWSNR initialization parameters:\n",
      "\n",
      "npool:  4\n",
      "snr type:  inner_product\n",
      "waveform approximant:  IMRPhenomD\n",
      "sampling frequency:  2048.0\n",
      "minimum frequency (fmin):  20.0\n",
      "mtot=mass1+mass2\n",
      "min(mtot):  2.0\n",
      "max(mtot) (with the given fmin=20.0): 184.98599853446768\n",
      "detectors:  ['LIO']\n",
      "psds:  [PowerSpectralDensity(psd_file='None', asd_file='/Users/phurailatpamhemantakumar/anaconda3/envs/ler/lib/python3.10/site-packages/bilby/gw/detector/noise_curves/Aplus_asd.txt')]\n"
     ]
    }
   ],
   "source": [
    "# class initialization\n",
    "gwsnr = GWSNR(\n",
    "    ifos=[ifosLIO],  # new interferometer\n",
    "    snr_type='inner_product',\n",
    ")"
   ]
  },
  {
   "cell_type": "code",
   "execution_count": 5,
   "metadata": {},
   "outputs": [
    {
     "name": "stdout",
     "output_type": "stream",
     "text": [
      "solving SNR with inner product\n"
     ]
    },
    {
     "name": "stderr",
     "output_type": "stream",
     "text": [
      "100%|█████████████████████████████████████████████████████████████████| 1/1 [00:04<00:00,  4.88s/it]\n"
     ]
    },
    {
     "data": {
      "text/plain": [
       "{'LIO': array([240.5546581]), 'optimal_snr_net': array([240.5546581])}"
      ]
     },
     "execution_count": 5,
     "metadata": {},
     "output_type": "execute_result"
    }
   ],
   "source": [
    "# signal-to-noise ratio for a binary black hole merger with masses 10, 10 Msun at a luminosity distance of 100 Mpc\n",
    "gwsnr.snr(mass_1=np.array([10.0]), mass_2=np.array([10.0]), luminosity_distance=np.array([100.0]))"
   ]
  },
  {
   "cell_type": "code",
   "execution_count": null,
   "metadata": {},
   "outputs": [],
   "source": []
  },
  {
   "cell_type": "markdown",
   "metadata": {},
   "source": []
  },
  {
   "cell_type": "code",
   "execution_count": null,
   "metadata": {},
   "outputs": [],
   "source": []
  }
 ],
 "metadata": {
  "kernelspec": {
   "display_name": "ler",
   "language": "python",
   "name": "ler"
  },
  "language_info": {
   "codemirror_mode": {
    "name": "ipython",
    "version": 3
   },
   "file_extension": ".py",
   "mimetype": "text/x-python",
   "name": "python",
   "nbconvert_exporter": "python",
   "pygments_lexer": "ipython3",
   "version": "3.10.14"
  }
 },
 "nbformat": 4,
 "nbformat_minor": 2
}
