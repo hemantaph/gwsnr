{
 "cells": [
  {
   "cell_type": "code",
   "execution_count": 26,
   "metadata": {},
   "outputs": [],
   "source": [
    "import numpy as np\n",
    "import bilby\n",
    "from multiprocessing import Pool\n",
    "from tqdm import tqdm\n",
    "# from pycbc.detector import Detector\n",
    "from scipy.stats import norm\n",
    "from scipy.interpolate import interp1d\n",
    "from gwpy.timeseries import TimeSeries\n",
    "from scipy.optimize import fsolve\n",
    "import json\n",
    "import os\n",
    "import pickle\n",
    "\n",
    "C = 299792458.0\n",
    "G = 6.67408 * 1e-11\n",
    "Mo = 1.9884098706980507e+30\n",
    "Gamma = 0.5772156649015329\n",
    "Pi = np.pi\n",
    "MTSUN_SI = 4.925491025543576e-06\n",
    "parsec = 3.085677581491367e+16"
   ]
  },
  {
   "cell_type": "code",
   "execution_count": 2,
   "metadata": {},
   "outputs": [],
   "source": [
    "import utils\n",
    "NumpyEncoder = utils.NumpyEncoder"
   ]
  },
  {
   "cell_type": "code",
   "execution_count": 1,
   "metadata": {},
   "outputs": [
    {
     "name": "stderr",
     "output_type": "stream",
     "text": [
      "/var/folders/ws/0948zvwd7g795j2l3fryghjw0000gp/T/ipykernel_9096/2200133967.py:4: DeprecationWarning: the imp module is deprecated in favour of importlib and slated for removal in Python 3.12; see the module's documentation for alternative uses\n",
      "  import imp\n"
     ]
    },
    {
     "data": {
      "text/plain": [
       "<module 'njit_functions' from '/Users/phurailatpamhemantakumar/phd/mypackages/gwsnr/examples/njit_functions.py'>"
      ]
     },
     "execution_count": 1,
     "metadata": {},
     "output_type": "execute_result"
    }
   ],
   "source": [
    "# reload import gwsnrdev with matplotlib reload\n",
    "import gwsnrdev\n",
    "import utils\n",
    "import imp\n",
    "import numpy as np\n",
    "import njit_functions\n",
    "imp.reload(gwsnrdev)\n",
    "imp.reload(utils)\n",
    "imp.reload(njit_functions)\n"
   ]
  },
  {
   "cell_type": "code",
   "execution_count": 3,
   "metadata": {},
   "outputs": [
    {
     "name": "stdout",
     "output_type": "stream",
     "text": [
      "psds not given. Choosing bilby's default psds\n",
      "npool:  4\n",
      "snr_type:  interpolation\n",
      "waveform_approximant:  IMRPhenomD\n",
      "sampling_frequency:  2048.0\n",
      "mtot_min:  2.0\n",
      "mtot_max:  439.6\n",
      "ratio_min:  0.1\n",
      "ratio_max:  1.0\n",
      "mtot_resolution:  200\n",
      "ratio_resolution:  50\n",
      "interpolator_dir:  ./interpolator_pickle\n",
      "Interpolator will be generated for L1 detector at ./interpolator_pickle/L1/halfSNR_dict_8.pickle\n",
      "Interpolator will be generated for H1 detector at ./interpolator_pickle/H1/halfSNR_dict_8.pickle\n",
      "Interpolator will be generated for V1 detector at ./interpolator_pickle/V1/halfSNR_dict_8.pickle\n",
      "Please be patient while the interpolator is generated\n",
      "Generating interpolator for ['L1', 'H1', 'V1'] detectors\n"
     ]
    },
    {
     "name": "stderr",
     "output_type": "stream",
     "text": [
      "interpolation for each mass_ratios: 100%|███████████████████████████| 50/50 [01:02<00:00,  1.24s/it]\n"
     ]
    }
   ],
   "source": [
    "gwsnr = gwsnrdev.GWSNR(snr_type='interpolation', create_new_interpolator=True, mtot_resolution=200, ratio_resolution=50)"
   ]
  },
  {
   "cell_type": "code",
   "execution_count": 58,
   "metadata": {},
   "outputs": [
    {
     "data": {
      "text/plain": [
       "(3, 5, 4, 99)"
      ]
     },
     "execution_count": 58,
     "metadata": {},
     "output_type": "execute_result"
    }
   ],
   "source": [
    "np.shape(gwsnr.snr_halfsacaled)"
   ]
  },
  {
   "cell_type": "code",
   "execution_count": 59,
   "metadata": {},
   "outputs": [
    {
     "name": "stderr",
     "output_type": "stream",
     "text": [
      "  0%|                                                                         | 0/3 [00:00<?, ?it/s]"
     ]
    },
    {
     "name": "stderr",
     "output_type": "stream",
     "text": [
      "100%|█████████████████████████████████████████████████████████████████| 3/3 [00:01<00:00,  2.71it/s]\n"
     ]
    },
    {
     "data": {
      "text/plain": [
       "{'L1': array([126.70353165, 429.86494678, 703.99627287]),\n",
       " 'H1': array([ 80.58750192, 273.40786617, 447.76416452]),\n",
       " 'V1': array([ 37.52436425, 129.99019229, 215.65265711]),\n",
       " 'opt_snr_net': array([154.77793225, 525.7691355 , 861.7479723 ])}"
      ]
     },
     "execution_count": 59,
     "metadata": {},
     "output_type": "execute_result"
    }
   ],
   "source": [
    "gwsnr.compute_bilby_snr_(mass_1=np.array([10.,50.,100.]), mass_2=np.array([10.,50.,100.]))"
   ]
  },
  {
   "cell_type": "code",
   "execution_count": 25,
   "metadata": {},
   "outputs": [
    {
     "data": {
      "text/plain": [
       "(array([[134.45166202, 448.07960347, 704.01045424],\n",
       "        [ 85.51556085, 284.99297087, 447.77318433],\n",
       "        [ 40.82613804, 139.55146418, 215.66473154]]),\n",
       " array([164.48992101, 549.06368997, 861.76726598]))"
      ]
     },
     "execution_count": 25,
     "metadata": {},
     "output_type": "execute_result"
    }
   ],
   "source": [
    "get_snr_half_scaled(mass_1, mass_2, luminosity_distance, theta_jn, psi, geocent_time, ra, dec, detector_tensor, np.array(snr_halfscaled), ratio_arr, mtot_arr)"
   ]
  },
  {
   "cell_type": "code",
   "execution_count": 23,
   "metadata": {},
   "outputs": [
    {
     "data": {
      "text/plain": [
       "-0.002293025847495152"
      ]
     },
     "execution_count": 23,
     "metadata": {},
     "output_type": "execute_result"
    }
   ],
   "source": [
    "gwsnr.snr_halfsacaled[0][4,0,0]"
   ]
  },
  {
   "cell_type": "code",
   "execution_count": null,
   "metadata": {},
   "outputs": [],
   "source": []
  },
  {
   "cell_type": "code",
   "execution_count": 165,
   "metadata": {},
   "outputs": [],
   "source": [
    "mass_1=np.array([10.,50.,100.])\n",
    "mass_2=np.array([10.,50.,100.])\n",
    "luminosity_distance=100.0\n",
    "theta_jn=0.0\n",
    "psi=0.0\n",
    "phase=0.0\n",
    "geocent_time=1246527224.169434\n",
    "ra=0.0\n",
    "dec=0.0\n",
    "\n",
    "\n",
    "detector_tensor = np.array(gwsnr.detector_tensor_list)\n",
    "detectors = np.array(gwsnr.detector_list)\n",
    "snr_halfscaled = np.array(gwsnr.snr_halfsacaled)\n",
    "size = len(mass_1)\n",
    "mass_1, mass_2 = np.array([mass_1]).reshape(-1), np.array([mass_2]).reshape(-1)\n",
    "luminosity_distance, theta_jn, psi, phase, geocent_time, ra, dec = (\n",
    "    np.array([luminosity_distance]).reshape(-1) * np.ones(size),\n",
    "    np.array([theta_jn]).reshape(-1) * np.ones(size),\n",
    "    np.array([psi]).reshape(-1) * np.ones(size),\n",
    "    np.array([phase]).reshape(-1) * np.ones(size),\n",
    "    np.array([geocent_time]).reshape(-1) * np.ones(size),\n",
    "    np.array([ra]).reshape(-1) * np.ones(size),\n",
    "    np.array([dec]).reshape(-1) * np.ones(size),\n",
    ")\n",
    "\n",
    "mtot = mass_1 + mass_2\n",
    "idx2 = (mtot >= gwsnr.mtot_min) & (mtot <= gwsnr.mtot_max)\n",
    "idx_tracker = np.arange(size)\n",
    "idx_tracker = idx_tracker[idx2]  # idx_tracker is the index of the required masses\n",
    "size_ = len(idx_tracker)\n",
    "if size_ == 0:\n",
    "    print(\n",
    "        \"mass_1 and mass_2 must be within the range of mtot_min and mtot_max\"\n",
    "    )\n",
    "    raise ValueError\n",
    "# all other parameters should be of the same size\n",
    "# this lessen the number of times the loop will run\n",
    "mass_1, mass_2, luminosity_distance, theta_jn, psi, phase, geocent_time, ra, dec = mass_1[idx2], mass_2[idx2], luminosity_distance[idx2], theta_jn[idx2], psi[idx2], phase[idx2], geocent_time[idx2], ra[idx2], dec[idx2]\n",
    "\n",
    "ratio_arr = gwsnr.ratio_arr\n",
    "mtot_arr = gwsnr.mtot_arr"
   ]
  },
  {
   "cell_type": "code",
   "execution_count": 61,
   "metadata": {},
   "outputs": [],
   "source": [
    "import njit_functions\n",
    "antenna_response = njit_functions.antenna_response\n",
    "antenna_response_array = njit_functions.antenna_response_array"
   ]
  },
  {
   "cell_type": "code",
   "execution_count": 230,
   "metadata": {},
   "outputs": [],
   "source": [
    "snr, snr_eff = get_snr_half_scaled(mass_1, mass_2, luminosity_distance, theta_jn, psi, geocent_time, ra, dec, detector_tensor, snr_halfscaled, ratio_arr, mtot_arr)"
   ]
  },
  {
   "cell_type": "code",
   "execution_count": 232,
   "metadata": {},
   "outputs": [
    {
     "name": "stdout",
     "output_type": "stream",
     "text": [
      "[[126.96925444 429.87202737 703.99753522]\n",
      " [ 80.75651012 273.41236964 447.76496742]\n",
      " [ 37.43347242 129.9828042  215.65266571]]\n",
      "[155.06150508 525.77543987 861.74942291]\n"
     ]
    }
   ],
   "source": [
    "print(snr)\n",
    "print(snr_eff)"
   ]
  },
  {
   "cell_type": "code",
   "execution_count": 226,
   "metadata": {},
   "outputs": [],
   "source": [
    "from numba import njit\n",
    "@njit\n",
    "def get_snr_half_scaled(mass_1, mass_2, luminosity_distance, theta_jn, psi, geocent_time, ra, dec, detector_tensor, snr_halfscaled, ratio_arr, mtot_arr):\n",
    "    \n",
    "    size = len(mass_1)\n",
    "    len_ = len(detector_tensor)\n",
    "    mtot = mass_1 + mass_2\n",
    "    ratio = mass_2 / mass_1\n",
    "    idx_ratio = np.searchsorted(ratio_arr, ratio)\n",
    "\n",
    "    Fp, Fc = antenna_response_array(ra, dec, geocent_time, psi, detector_tensor)\n",
    "\n",
    "    Mc = ((mass_1 * mass_2) ** (3 / 5)) / ((mass_1 + mass_2) ** (1 / 5))\n",
    "    A1 = Mc ** (5.0 / 6.0)\n",
    "    ci_2 = np.cos(theta_jn) ** 2\n",
    "    ci_param = ((1 + np.cos(theta_jn) ** 2) / 2) ** 2\n",
    "    \n",
    "    size = len(mass_1)\n",
    "    snr_half_ = np.zeros((len_,size))\n",
    "    d_eff = np.zeros((len_,size))\n",
    "    snr = np.zeros((len_,size))\n",
    "    for j in range(len_):\n",
    "        for i in range(size):\n",
    "            snr_half_coeff = snr_halfscaled[j]\n",
    "            snr_half_[j,i] = cubic_spline_interpolator2(mtot[i], ratio[i], snr_half_coeff, mtot_arr, ratio_arr)\n",
    "            d_eff[j,i] =luminosity_distance[i] / np.sqrt(\n",
    "                    Fp[j,i]**2 * ci_param[i] + Fc[j,i]**2 * ci_2[i]\n",
    "                )\n",
    "\n",
    "    snr = snr_half_ * A1 / d_eff\n",
    "    snr_effective = np.sqrt(np.sum(snr ** 2, axis=0))\n",
    "\n",
    "    return snr, snr_effective\n",
    "\n",
    "@njit\n",
    "def cubic_spline_interpolator2(xnew, ynew, coefficients, x, y):\n",
    "\n",
    "    len_y = len(y)\n",
    "    y_idx = np.searchsorted(y, ynew)\n",
    "    # print(y_idx)\n",
    "    if y_idx-1 <= 0:\n",
    "        y_idx1 = 0\n",
    "        y_idx2 = 1\n",
    "        y_idx3 = 2\n",
    "        y_idx4 = 4\n",
    "        coeff_low, coeff_high = 0, 4\n",
    "        # print(\"a\")\n",
    "    elif y_idx+1 >= len_y:\n",
    "        y_idx1 = len_y - 4\n",
    "        y_idx2 = len_y - 3\n",
    "        y_idx3 = len_y - 2\n",
    "        y_idx4 = len_y - 1\n",
    "        coeff_low, coeff_high = 8, 12\n",
    "        # print(\"b\")\n",
    "    else:\n",
    "        y_idx1 = y_idx - 2\n",
    "        y_idx2 = y_idx - 1\n",
    "        y_idx3 = y_idx\n",
    "        y_idx4 = y_idx + 1\n",
    "        coeff_low, coeff_high = 4, 8\n",
    "        # print(\"c\")\n",
    "\n",
    "    # print(y_idx1, y_idx2, y_idx3, y_idx4)\n",
    "    # print(len(y))\n",
    "    y1, y2, y3, y4 = y[y_idx1], y[y_idx2], y[y_idx3], y[y_idx4]\n",
    "    z1 = cubic_spline_interpolator(xnew, coefficients[y_idx1], x)\n",
    "    z2 = cubic_spline_interpolator(xnew, coefficients[y_idx2], x)\n",
    "    z3 = cubic_spline_interpolator(xnew, coefficients[y_idx3], x)\n",
    "    z4 = cubic_spline_interpolator(xnew, coefficients[y_idx4], x)\n",
    "\n",
    "    coeff = coefficients_generator(y1, y2, y3, y4, z1, z2, z3, z4)\n",
    "    matrixD = coeff[coeff_low:coeff_high]\n",
    "\n",
    "    matrixB = np.array([ynew**3, ynew**2, ynew, 1])\n",
    "    result = np.dot(matrixB, matrixD)\n",
    "\n",
    "    return result\n",
    "\n",
    "@njit\n",
    "def cubic_spline_interpolator(xnew, coefficients, x):\n",
    "    # Handling extrapolation\n",
    "    i = np.searchsorted(x, xnew) - 1 if xnew > x[0] else 0\n",
    "\n",
    "    # Calculate the relative position within the interval\n",
    "    dx = xnew - x[i]\n",
    "\n",
    "    # Calculate the interpolated value\n",
    "    # Cubic polynomial: a + b*dx + c*dx^2 + d*dx^3\n",
    "    a, b, c, d = coefficients[:, i]\n",
    "    result = d + c*dx + b*dx**2 + a*dx**3\n",
    "    return result\n",
    "\n",
    "@njit\n",
    "def coefficients_generator(y1, y2, y3, y4, z1, z2, z3, z4):\n",
    "        \n",
    "    matrixA = np.array([\n",
    "        [y1**3, y1**2, y1, 1, 0, 0, 0, 0, 0, 0, 0, 0],\n",
    "        [y2**3, y2**2, y2, 1, 0, 0, 0, 0, 0, 0, 0, 0],\n",
    "        [0, 0, 0, 0, y2**3, y2**2, y2, 1, 0, 0, 0, 0],\n",
    "        [0, 0, 0, 0, y3**3, y3**2, y3, 1, 0, 0, 0, 0],\n",
    "        [0, 0, 0, 0, 0, 0, 0, 0, y3**3, y3**2, y3, 1],\n",
    "        [0, 0, 0, 0, 0, 0, 0, 0, y4**3, y4**2, y4, 1],\n",
    "        [3*y2**2, 2*y2, 1, 0, -3*y2**2, -2*y2, -1, 0, 0, 0, 0, 0],\n",
    "        [0, 0, 0, 0, 3*y3**2, 2*y3, 1, 0, -3*y3**2, -2*y3, -1, 0],\n",
    "        [6*y2, 2, 0, 0, -6*y2, -2, 0, 0, 0, 0, 0, 0],\n",
    "        [0, 0, 0, 0, 6*y3, 2, 0, 0, -6*y3, -2, 0, 0],\n",
    "        [6*y1, 2, 0, 0, 0, 0, 0, 0, 0, 0, 0, 0],\n",
    "        [0, 0, 0, 0, 0, 0, 0, 0, 6*y4, 2, 0, 0],\n",
    "    ])\n",
    "    matrixC = np.array([z1, z2, z2, z3, z3, z4, 0, 0, 0, 0, 0, 0])\n",
    "    return np.dot(np.linalg.inv(matrixA), matrixC)"
   ]
  },
  {
   "cell_type": "code",
   "execution_count": 227,
   "metadata": {},
   "outputs": [
    {
     "data": {
      "text/plain": [
       "9"
      ]
     },
     "execution_count": 227,
     "metadata": {},
     "output_type": "execute_result"
    }
   ],
   "source": [
    "np.searchsorted(gwsnr.ratio_arr,1)"
   ]
  },
  {
   "cell_type": "code",
   "execution_count": 228,
   "metadata": {},
   "outputs": [],
   "source": [
    "size = len(mass_1)\n",
    "len_ = len(detector_tensor)\n",
    "mtot = mass_1 + mass_2\n",
    "ratio = mass_2 / mass_1\n",
    "idx_ratio = np.searchsorted(ratio_arr, ratio)\n",
    "\n",
    "Fp, Fc = antenna_response_array(ra, dec, geocent_time, psi, detector_tensor)\n",
    "\n",
    "Mc = ((mass_1 * mass_2) ** (3 / 5)) / ((mass_1 + mass_2) ** (1 / 5))\n",
    "A1 = Mc ** (5.0 / 6.0)\n",
    "ci_2 = np.cos(theta_jn) ** 2\n",
    "ci_param = ((1 + np.cos(theta_jn) ** 2) / 2) ** 2\n",
    "\n",
    "size = len(mass_1)\n",
    "snr_half_ = np.zeros((len_,size))\n",
    "d_eff = np.zeros((len_,size))\n",
    "snr = np.zeros((len_,size))"
   ]
  },
  {
   "cell_type": "code",
   "execution_count": 229,
   "metadata": {},
   "outputs": [
    {
     "data": {
      "text/plain": [
       "1637.4340375715342"
      ]
     },
     "execution_count": 229,
     "metadata": {},
     "output_type": "execute_result"
    }
   ],
   "source": [
    "i = 2\n",
    "j = 2\n",
    "snr_half_coeff = snr_halfscaled[j]\n",
    "cubic_spline_interpolator2(mtot[i], ratio[i], snr_half_coeff, mtot_arr, ratio_arr)\n",
    "# %timeit test = cubic_spline_interpolator2(mtot[i], ratio[i], snr_half_coeff, mtot_arr, ratio_arr)"
   ]
  },
  {
   "cell_type": "code",
   "execution_count": 216,
   "metadata": {},
   "outputs": [
    {
     "data": {
      "text/plain": [
       "1637.4340375715476"
      ]
     },
     "execution_count": 216,
     "metadata": {},
     "output_type": "execute_result"
    }
   ],
   "source": [
    "snr_half_coeff = snr_halfscaled[j][idx_ratio[i]]\n",
    "cubic_spline_interpolator(mtot[i], snr_half_coeff, mtot_arr)\n",
    "# %timeit cubic_spline_interpolator(mtot[i], snr_half_coeff, mtot_arr)"
   ]
  },
  {
   "cell_type": "code",
   "execution_count": null,
   "metadata": {},
   "outputs": [],
   "source": []
  },
  {
   "cell_type": "code",
   "execution_count": 147,
   "metadata": {},
   "outputs": [],
   "source": [
    "from numba import njit\n",
    "# @njit\n",
    "def get_snr_half_scaled(mass_1, mass_2, luminosity_distance, theta_jn, psi, geocent_time, ra, dec, detector_tensor, snr_halfscaled, ratio_arr, mtot_arr):\n",
    "    \n",
    "    size = len(mass_1)\n",
    "    len_ = len(detector_tensor)\n",
    "    mtot = mass_1 + mass_2\n",
    "    ratio = mass_2 / mass_1\n",
    "    idx_ratio = np.searchsorted(ratio_arr, ratio)\n",
    "\n",
    "    Fp, Fc = antenna_response_array(ra, dec, geocent_time, psi, detector_tensor)\n",
    "\n",
    "    Mc = ((mass_1 * mass_2) ** (3 / 5)) / ((mass_1 + mass_2) ** (1 / 5))\n",
    "    A1 = Mc ** (5.0 / 6.0)\n",
    "    ci_2 = np.cos(theta_jn) ** 2\n",
    "    ci_param = ((1 + np.cos(theta_jn) ** 2) / 2) ** 2\n",
    "    \n",
    "    size = len(mass_1)\n",
    "    snr_half_ = np.zeros((len_,size))\n",
    "    d_eff = np.zeros((len_,size))\n",
    "    snr = np.zeros((len_,size))\n",
    "    for j in range(len_):\n",
    "        for i in range(size):\n",
    "            snr_half_coeff = snr_halfscaled[j][idx_ratio[i]]\n",
    "            snr_half_[j,i] = cubic_spline_interpolator(mtot[i], snr_half_coeff, mtot_arr)\n",
    "            d_eff[j,i] =luminosity_distance[i] / np.sqrt(\n",
    "                    Fp[j,i]**2 * ci_param[i] + Fc[j,i]**2 * ci_2[i]\n",
    "                )\n",
    "\n",
    "    snr = snr_half_ * A1 / d_eff\n",
    "    snr_eff = np.sqrt(np.sum(snr ** 2, axis=0))\n",
    "\n",
    "    return snr, snr_eff\n",
    "\n",
    "# @njit\n",
    "def cubic_spline_interpolator(xnew, coefficients, x):\n",
    "    # Handling extrapolation\n",
    "    i = np.searchsorted(x, xnew) - 1 if xnew > x[0] else 0\n",
    "    # i = 0 if xnew <= x[0] else i\n",
    "    # i = len(x) - 2 if xnew > x[-1] else i\n",
    "\n",
    "    # Calculate the relative position within the interval\n",
    "    dx = xnew - x[i]\n",
    "\n",
    "    # Calculate the interpolated value\n",
    "    # Cubic polynomial: a + b*dx + c*dx^2 + d*dx^3\n",
    "    a, b, c, d = coefficients[:, i]\n",
    "    result = d + c*dx + b*dx**2 + a*dx**3\n",
    "    return result"
   ]
  },
  {
   "cell_type": "code",
   "execution_count": null,
   "metadata": {},
   "outputs": [],
   "source": [
    "def cubic_spline_interpolator2(xnew, coefficients, x):\n",
    "    # Handling extrapolation\n",
    "    if \n",
    "    x_idx1 = x_idx-2\n",
    "    x_idx2 = x_idx-1\n",
    "    x_idx3 = x_idx\n",
    "    x_idx4 = x_idx+1\n",
    "    x1, x2, x3, x4 = x[x_idx1], x[x_idx2], x[x_idx3], x[x_idx4]\n",
    "    z1, z2, z3, z4 = z[x_idx1], z[x_idx2], z[x_idx3], z[x_idx4]\n",
    "\n",
    "    matrixA = np.array([\n",
    "        [x1**3, x1**2, x1, 1, 0, 0, 0, 0, 0, 0, 0, 0],\n",
    "        [x2**3, x2**2, x2, 1, 0, 0, 0, 0, 0, 0, 0, 0],\n",
    "        [0, 0, 0, 0, x2**3, x2**2, x2, 1, 0, 0, 0, 0],\n",
    "        [0, 0, 0, 0, x3**3, x3**2, x3, 1, 0, 0, 0, 0],\n",
    "        [0, 0, 0, 0, 0, 0, 0, 0, x3**3, x3**2, x3, 1],\n",
    "        [0, 0, 0, 0, 0, 0, 0, 0, x4**3, x4**2, x4, 1],\n",
    "        [3*x2**2, 2*x2, 1, 0, -3*x2**2, -2*x2, -1, 0, 0, 0, 0, 0],\n",
    "        [0, 0, 0, 0, 3*x3**2, 2*x3, 1, 0, -3*x3**2, -2*x3, -1, 0],\n",
    "        [6*x2, 2, 0, 0, -6*x2, -2, 0, 0, 0, 0, 0, 0],\n",
    "        [0, 0, 0, 0, 6*x3, 2, 0, 0, -6*x3, -2, 0, 0],\n",
    "        [6*x1, 2, 0, 0, 0, 0, 0, 0, 0, 0, 0, 0],\n",
    "        [0, 0, 0, 0, 0, 0, 0, 0, 6*x4, 2, 0, 0],\n",
    "    ])\n",
    "\n",
    "    matrixC = np.array([z1, z2, z2, z3, z3, z4, 0, 0, 0, 0, 0, 0])\n",
    "    coeff = np.dot(np.linalg.inv(matrixA), matrixC)\n",
    "    matrixD = coeff[4:8]"
   ]
  },
  {
   "cell_type": "code",
   "execution_count": null,
   "metadata": {},
   "outputs": [],
   "source": []
  },
  {
   "cell_type": "code",
   "execution_count": null,
   "metadata": {},
   "outputs": [],
   "source": []
  },
  {
   "cell_type": "code",
   "execution_count": null,
   "metadata": {},
   "outputs": [],
   "source": []
  },
  {
   "cell_type": "code",
   "execution_count": 6,
   "metadata": {},
   "outputs": [
    {
     "name": "stderr",
     "output_type": "stream",
     "text": [
      "100%|█████████████████████████████████████████████████████████████████| 3/3 [00:00<00:00,  3.62it/s]\n"
     ]
    },
    {
     "data": {
      "text/plain": [
       "{'L1': array([126.70353165, 429.86494678, 703.99627287]),\n",
       " 'H1': array([ 80.58750192, 273.40786617, 447.76416452]),\n",
       " 'V1': array([ 37.52436425, 129.99019229, 215.65265711]),\n",
       " 'opt_snr_net': array([154.77793225, 525.7691355 , 861.7479723 ])}"
      ]
     },
     "execution_count": 6,
     "metadata": {},
     "output_type": "execute_result"
    }
   ],
   "source": [
    "gwsnr.compute_bilby_snr_(mass_1=np.array([10.,50.,100.]), mass_2=np.array([10.,50.,100.]))"
   ]
  },
  {
   "cell_type": "code",
   "execution_count": 47,
   "metadata": {},
   "outputs": [
    {
     "name": "stdout",
     "output_type": "stream",
     "text": [
      "Given: IMR waveform, IMRPhenomD.\n",
      "psds not given. Choosing bilby's default psds\n",
      "given psds:  {'L1': 'aLIGO_O4_high_asd.txt', 'H1': 'aLIGO_O4_high_asd.txt', 'V1': 'AdV_asd.txt'}\n",
      "Interpolator will be loaded for L1 detector from ./test_pickle/L1/halfSNR_dict_0.pickle\n",
      "Interpolator will be loaded for H1 detector from ./test_pickle/H1/halfSNR_dict_0.pickle\n",
      "Interpolator will be loaded for V1 detector from ./test_pickle/V1/halfSNR_dict_0.pickle\n"
     ]
    }
   ],
   "source": [
    "from gwsnr import GWSNR\n",
    "\n",
    "snr = GWSNR(snr_type='interpolation', interpolator_dir=\"./test_pickle\")"
   ]
  },
  {
   "cell_type": "code",
   "execution_count": 49,
   "metadata": {},
   "outputs": [
    {
     "data": {
      "text/plain": [
       "{'opt_snr_net': array([155.05383723, 525.7494292 , 861.7067818 ]),\n",
       " 'L1': array([126.96526449, 429.85851885, 703.97541244]),\n",
       " 'H1': array([ 80.74903698, 273.38706829, 447.72353162]),\n",
       " 'V1': array([ 37.43136489, 129.97548607, 215.6405243 ])}"
      ]
     },
     "execution_count": 49,
     "metadata": {},
     "output_type": "execute_result"
    }
   ],
   "source": [
    "gwsnr.snr(mass_1=np.array([10.,50.,100.]), mass_2=np.array([10.,50.,100.]))"
   ]
  },
  {
   "cell_type": "code",
   "execution_count": null,
   "metadata": {},
   "outputs": [],
   "source": []
  },
  {
   "cell_type": "code",
   "execution_count": null,
   "metadata": {},
   "outputs": [],
   "source": []
  },
  {
   "cell_type": "code",
   "execution_count": null,
   "metadata": {},
   "outputs": [],
   "source": []
  },
  {
   "cell_type": "code",
   "execution_count": 66,
   "metadata": {},
   "outputs": [],
   "source": [
    "# njit_functions.py\n",
    "from numba import njit\n",
    "@njit\n",
    "def einsum1(m,n):\n",
    "    ans = np.zeros((3,3))\n",
    "    ans[0,0] = m[0]*n[0]\n",
    "    ans[0,1] = m[0]*n[1]\n",
    "    ans[0,2] = m[0]*n[2]\n",
    "    ans[1,0] = m[1]*n[0]\n",
    "    ans[1,1] = m[1]*n[1]\n",
    "    ans[1,2] = m[1]*n[2]\n",
    "    ans[2,0] = m[2]*n[0]\n",
    "    ans[2,1] = m[2]*n[1]\n",
    "    ans[2,2] = m[2]*n[2]\n",
    "    return ans\n",
    "@njit\n",
    "def einsum2(m,n):\n",
    "    ans = m[0,0]*n[0,0] + m[0,1]*n[0,1] + m[0,2]*n[0,2] + m[1,0]*n[1,0] + m[1,1]*n[1,1] + m[1,2]*n[1,2] + m[2,0]*n[2,0] + m[2,1]*n[2,1] + m[2,2]*n[2,2]\n",
    "    return ans\n",
    "\n",
    "@njit\n",
    "def gps_to_gmst(gps_time):\n",
    "    slope = 7.292115855382993e-05\n",
    "    time0 = 1126259642.413\n",
    "    time = gps_time - time0\n",
    "    return slope*time+36137.068361399164\n",
    "\n",
    "@njit\n",
    "def ra_dec_to_theta_phi(ra, dec, gmst):\n",
    "    phi = ra - gmst\n",
    "    theta = np.pi / 2.0 - dec\n",
    "    return theta, phi\n",
    "\n",
    "@njit\n",
    "def get_polarization_tensor(ra, dec, time, psi, mode='plus'):\n",
    "    gmst = np.fmod(gps_to_gmst(time), 2 * np.pi)\n",
    "    theta, phi = ra_dec_to_theta_phi(ra, dec, gmst)\n",
    "    u = np.array([np.cos(phi) * np.cos(theta), np.cos(theta) * np.sin(phi), -np.sin(theta)])\n",
    "    v = np.array([-np.sin(phi), np.cos(phi), 0])\n",
    "    m = -u * np.sin(psi) - v * np.cos(psi)\n",
    "    n = -u * np.cos(psi) + v * np.sin(psi)\n",
    "\n",
    "    if mode == 'plus':\n",
    "        return einsum1(m, m) - einsum1(n, n)\n",
    "    elif mode == 'cross':\n",
    "        return einsum1(m, n) + einsum1(n, m)\n",
    "\n",
    "@njit\n",
    "def antenna_response(ra, dec, time, psi, detector_tensor, mode='plus'):\n",
    "\n",
    "    polarization_tensor = get_polarization_tensor(ra, dec, time, psi, mode=mode)\n",
    "    return einsum2(detector_tensor, polarization_tensor)\n",
    "\n",
    "@njit\n",
    "def antenna_response_array(ra, dec, time, psi, detector_tensor):\n",
    "\n",
    "    len1 = len(detector_tensor)\n",
    "    len2 = len(ra) \n",
    "    Fp = np.zeros_like(ra)\n",
    "    Fc = np.zeros_like(ra)\n",
    "    ans = np.zeros((2,2,len2))\n",
    "\n",
    "    for i in range(len1):\n",
    "        for j in range(len2):\n",
    "            # print(\"ra\", ra[j])\n",
    "            # print(\"dec\", dec[j])\n",
    "            # print(\"time\", time[j])\n",
    "            # print(\"psi\", psi[j])\n",
    "            # print(\"detector_tensor\", detector_tensor[i])\n",
    "            Fp[j] = antenna_response(ra[j], dec[j], time[j], psi[j], detector_tensor[i], mode=\"plus\")\n",
    "            Fc[j] = antenna_response(ra[j], dec[j], time[j], psi[j], detector_tensor[i], mode=\"cross\")\n",
    "        ans[i,0,:] = Fp\n",
    "        ans[i,1,:] = Fc\n",
    "\n",
    "    return ans\n",
    "\n",
    "# detector_tensor "
   ]
  },
  {
   "cell_type": "code",
   "execution_count": 67,
   "metadata": {},
   "outputs": [],
   "source": [
    "# define values\n",
    "size = 50000\n",
    "time = 1126259642.413*np.ones(size)\n",
    "ra = 1.375*np.ones(size)\n",
    "dec = -1.2108*np.ones(size)\n",
    "psi = 0.1*np.ones(size)\n",
    "mode = \"plus\"\n",
    "ifos = bilby.gw.detector.InterferometerList(['H1', 'L1'])\n",
    "len_ = len(ifos)\n",
    "detector_tensor = np.zeros((len_,3,3))\n",
    "for i in range(len_):\n",
    "    detector_tensor[i]=ifos[i].detector_tensor\n",
    "detector_tensor = np.array(detector_tensor)\n",
    "#detector_tensor = ifos[0].detector_tensor"
   ]
  },
  {
   "cell_type": "code",
   "execution_count": 72,
   "metadata": {},
   "outputs": [
    {
     "data": {
      "text/plain": [
       "[Interferometer(name='H1', power_spectral_density=PowerSpectralDensity(psd_file='None', asd_file='/Users/phurailatpamhemantakumar/anaconda3/envs/ler/lib/python3.10/site-packages/bilby/gw/detector/noise_curves/aLIGO_O4_high_asd.txt'), minimum_frequency=20.0, maximum_frequency=2048.0, length=4.0, latitude=46.45514666666667, longitude=-119.4076571388889, elevation=142.554, xarm_azimuth=125.9994, yarm_azimuth=215.9994, xarm_tilt=-0.0006195, yarm_tilt=1.25e-05)]"
      ]
     },
     "execution_count": 72,
     "metadata": {},
     "output_type": "execute_result"
    }
   ],
   "source": [
    "bilby.gw.detector.InterferometerList(['H1'])"
   ]
  },
  {
   "cell_type": "code",
   "execution_count": 68,
   "metadata": {},
   "outputs": [
    {
     "name": "stdout",
     "output_type": "stream",
     "text": [
      "78.7 ms ± 5.63 ms per loop (mean ± std. dev. of 7 runs, 1 loop each)\n"
     ]
    }
   ],
   "source": [
    "%timeit test = antenna_response_array(ra, dec, time, psi, detector_tensor)"
   ]
  },
  {
   "cell_type": "code",
   "execution_count": 69,
   "metadata": {},
   "outputs": [
    {
     "data": {
      "text/plain": [
       "(2, 2, 25000)"
      ]
     },
     "execution_count": 69,
     "metadata": {},
     "output_type": "execute_result"
    }
   ],
   "source": [
    "np.shape(test)"
   ]
  },
  {
   "cell_type": "code",
   "execution_count": 70,
   "metadata": {},
   "outputs": [],
   "source": [
    "def antenna_response_array(ra, dec, time, psi, ifos):\n",
    "\n",
    "    len1 = len(ifos)\n",
    "    len2 = len(ra) \n",
    "    Fp = np.zeros_like(ra)\n",
    "    Fc = np.zeros_like(ra)\n",
    "    ans = np.zeros((2,2,len2))\n",
    "\n",
    "    for i in range(len1):\n",
    "        for j in range(len2):\n",
    "            # print(\"ra\", ra[j])\n",
    "            # print(\"dec\", dec[j])\n",
    "            # print(\"time\", time[j])\n",
    "            # print(\"psi\", psi[j])\n",
    "            # print(\"detector_tensor\", detector_tensor[i])\n",
    "            Fp[j] = ifos[i].antenna_response(ra[j], dec[j], time[j], psi[j], \"plus\")\n",
    "            Fc[j] = ifos[i].antenna_response(ra[j], dec[j], time[j], psi[j], \"cross\")\n",
    "        ans[i,0,:] = Fp\n",
    "        ans[i,1,:] = Fc\n",
    "\n",
    "    return ans"
   ]
  },
  {
   "cell_type": "code",
   "execution_count": 71,
   "metadata": {},
   "outputs": [
    {
     "name": "stdout",
     "output_type": "stream",
     "text": [
      "284 ms ± 2.43 ms per loop (mean ± std. dev. of 7 runs, 1 loop each)\n"
     ]
    }
   ],
   "source": [
    "%timeit test = antenna_response_array(ra, dec, time, psi, ifos)"
   ]
  },
  {
   "cell_type": "code",
   "execution_count": 2,
   "metadata": {},
   "outputs": [
    {
     "name": "stdout",
     "output_type": "stream",
     "text": [
      "Given: IMR waveform, IMRPhenomD.\n",
      "psds not given. Choosing bilby's default psds\n",
      "given psds:  {'L1': 'aLIGO_O4_high_asd.txt', 'H1': 'aLIGO_O4_high_asd.txt', 'V1': 'AdV_asd.txt'}\n",
      "Interpolator will be generated for L1 detector at ./interpolator_pickle/L1/halfSNR_dict_0.pickle\n",
      "Interpolator will be generated for H1 detector at ./interpolator_pickle/H1/halfSNR_dict_0.pickle\n",
      "Interpolator will be generated for V1 detector at ./interpolator_pickle/V1/halfSNR_dict_0.pickle\n",
      "Generating interpolator for ['L1', 'H1', 'V1'] detectors\n"
     ]
    },
    {
     "name": "stderr",
     "output_type": "stream",
     "text": [
      "interpolation for each mass_ratios: 100%|███████████████████████████| 50/50 [01:16<00:00,  1.54s/it]"
     ]
    },
    {
     "name": "stdout",
     "output_type": "stream",
     "text": [
      "interpolator generated\n"
     ]
    },
    {
     "name": "stderr",
     "output_type": "stream",
     "text": [
      "\n"
     ]
    }
   ],
   "source": [
    "from gwsnr import GWSNR\n",
    "snr = GWSNR()"
   ]
  },
  {
   "cell_type": "code",
   "execution_count": 3,
   "metadata": {},
   "outputs": [
    {
     "data": {
      "text/plain": [
       "{'opt_snr_net': array([155.05383723]),\n",
       " 'L1': array([126.96526449]),\n",
       " 'H1': array([80.74903698]),\n",
       " 'V1': array([37.43136489])}"
      ]
     },
     "execution_count": 3,
     "metadata": {},
     "output_type": "execute_result"
    }
   ],
   "source": [
    "gwsnr.snr(mass_1=10.0, mass_2=10.0, luminosity_distance=100.0, theta_jn=0.0, psi=0.0, phase=0.0, geocent_time=1246527224.169434, ra=0.0, dec=0.0)"
   ]
  },
  {
   "cell_type": "code",
   "execution_count": 5,
   "metadata": {},
   "outputs": [],
   "source": [
    "psd_file = dict(L1=False, H1=False)\n",
    "list_of_detectors = ['L1', 'H1']\n",
    "if list(psd_file.keys())==list_of_detectors:\n",
    "    pass\n",
    "else:\n",
    "    print(\"psd_file must be a dictionary with keys: {}\".format(list_of_detectors))"
   ]
  },
  {
   "cell_type": "code",
   "execution_count": 3,
   "metadata": {},
   "outputs": [
    {
     "data": {
      "text/plain": [
       "['L1', 'H1']"
      ]
     },
     "execution_count": 3,
     "metadata": {},
     "output_type": "execute_result"
    }
   ],
   "source": [
    "list(psd_file.keys())"
   ]
  },
  {
   "cell_type": "code",
   "execution_count": 15,
   "metadata": {},
   "outputs": [
    {
     "ename": "NameError",
     "evalue": "name 'bilby' is not defined",
     "output_type": "error",
     "traceback": [
      "\u001b[0;31m---------------------------------------------------------------------------\u001b[0m",
      "\u001b[0;31mNameError\u001b[0m                                 Traceback (most recent call last)",
      "Cell \u001b[0;32mIn[15], line 27\u001b[0m\n\u001b[1;32m     19\u001b[0m psd_alpha \u001b[38;5;241m=\u001b[39m \u001b[38;5;241m2\u001b[39m \u001b[38;5;241m*\u001b[39m roll_off \u001b[38;5;241m/\u001b[39m duration\n\u001b[1;32m     20\u001b[0m det_psd \u001b[38;5;241m=\u001b[39m psd_data\u001b[38;5;241m.\u001b[39mpsd(\n\u001b[1;32m     21\u001b[0m     fftlength\u001b[38;5;241m=\u001b[39mduration,\n\u001b[1;32m     22\u001b[0m     overlap\u001b[38;5;241m=\u001b[39m\u001b[38;5;241m0.5\u001b[39m,\n\u001b[1;32m     23\u001b[0m     window\u001b[38;5;241m=\u001b[39m(\u001b[38;5;124m\"\u001b[39m\u001b[38;5;124mtukey\u001b[39m\u001b[38;5;124m\"\u001b[39m, psd_alpha),\n\u001b[1;32m     24\u001b[0m     method\u001b[38;5;241m=\u001b[39m\u001b[38;5;124m\"\u001b[39m\u001b[38;5;124mmedian\u001b[39m\u001b[38;5;124m\"\u001b[39m,\n\u001b[1;32m     25\u001b[0m )\n\u001b[0;32m---> 27\u001b[0m psds_arrays[ifo] \u001b[38;5;241m=\u001b[39m \u001b[43mbilby\u001b[49m\u001b[38;5;241m.\u001b[39mgw\u001b[38;5;241m.\u001b[39mdetector\u001b[38;5;241m.\u001b[39mPowerSpectralDensity(\n\u001b[1;32m     28\u001b[0m     frequency_array\u001b[38;5;241m=\u001b[39mdet_psd\u001b[38;5;241m.\u001b[39mfrequencies\u001b[38;5;241m.\u001b[39mvalue, psd_array\u001b[38;5;241m=\u001b[39mdet_psd\u001b[38;5;241m.\u001b[39mvalue\n\u001b[1;32m     29\u001b[0m )\n",
      "\u001b[0;31mNameError\u001b[0m: name 'bilby' is not defined"
     ]
    }
   ],
   "source": [
    "from gwpy.timeseries import TimeSeries\n",
    "\n",
    "psd_with_time = 1126259462.4\n",
    "duration = 4.0\n",
    "roll_off = 0.2\n",
    "psd_duration = duration * 32.0  # uint (seconds)\n",
    "psd_start_time = psd_with_time - psd_duration\n",
    "detectors = ['L1', 'H1']\n",
    "psds_arrays = dict()\n",
    "for ifo in detectors:\n",
    "    psd_data = TimeSeries.fetch_open_data(\n",
    "        ifo,\n",
    "        psd_start_time,\n",
    "        psd_start_time + psd_duration,\n",
    "        sample_rate=4096,\n",
    "        cache=True,\n",
    "    )\n",
    "\n",
    "    psd_alpha = 2 * roll_off / duration\n",
    "    det_psd = psd_data.psd(\n",
    "        fftlength=duration,\n",
    "        overlap=0.5,\n",
    "        window=(\"tukey\", psd_alpha),\n",
    "        method=\"median\",\n",
    "    )\n",
    "\n"
   ]
  },
  {
   "cell_type": "code",
   "execution_count": 16,
   "metadata": {},
   "outputs": [],
   "source": [
    "import bilby\n",
    "psds_arrays[ifo] = bilby.gw.detector.PowerSpectralDensity(\n",
    "    frequency_array=det_psd.frequencies.value, psd_array=det_psd.value\n",
    ")"
   ]
  },
  {
   "cell_type": "code",
   "execution_count": 17,
   "metadata": {},
   "outputs": [
    {
     "data": {
      "text/plain": [
       "{'L1': PowerSpectralDensity(frequency_array=[0.00000e+00 2.50000e-01 5.00000e-01 ... 2.04750e+03 2.04775e+03\n",
       "  2.04800e+03], psd_array=[1.07364242e-41 4.10526641e-43 6.59660419e-43 ... 1.92749162e-50\n",
       "  2.63739232e-50 1.00854544e-50], asd_array=[3.27664831e-21 6.40723529e-22 8.12194816e-22 ... 1.38834132e-25\n",
       "  1.62400503e-25 1.00426363e-25])}"
      ]
     },
     "execution_count": 17,
     "metadata": {},
     "output_type": "execute_result"
    }
   ],
   "source": [
    "psds_arrays"
   ]
  },
  {
   "cell_type": "code",
   "execution_count": 20,
   "metadata": {},
   "outputs": [],
   "source": [
    "test = bilby.gw.detector.PowerSpectralDensity(asd_file=\"aLIGO_O4_high_asd.txt\")"
   ]
  },
  {
   "cell_type": "code",
   "execution_count": 63,
   "metadata": {},
   "outputs": [
    {
     "name": "stderr",
     "output_type": "stream",
     "text": [
      "04:11 bilby INFO    : Waveform generator initiated with\n",
      "  frequency_domain_source_model: bilby.gw.source.lal_binary_black_hole\n",
      "  time_domain_source_model: None\n",
      "  parameter_conversion: bilby.gw.conversion.convert_to_lal_binary_black_hole_parameters\n"
     ]
    },
    {
     "data": {
      "text/plain": [
       "4097"
      ]
     },
     "execution_count": 63,
     "metadata": {},
     "output_type": "execute_result"
    }
   ],
   "source": [
    "waveform_arguments = dict(\n",
    "    waveform_approximant=\"IMRPhenomD\",\n",
    "    reference_frequency=20.0,\n",
    "    minimum_frequency=20.,\n",
    ")\n",
    "\n",
    "waveform_generator = bilby.gw.WaveformGenerator(\n",
    "    duration=16,\n",
    "    sampling_frequency=2048,\n",
    "    frequency_domain_source_model=bilby.gw.source.lal_binary_black_hole,\n",
    "    waveform_arguments=waveform_arguments,\n",
    ")\n",
    "waveform_generator.duration = 4\n",
    "#len(test.get_power_spectral_density_array(waveform_generator.frequency_array))\n",
    "len(waveform_generator.frequency_array)"
   ]
  },
  {
   "cell_type": "code",
   "execution_count": 64,
   "metadata": {},
   "outputs": [
    {
     "data": {
      "text/plain": [
       "array([1.07364242e-41, 4.10526641e-43, 6.59660419e-43, ...,\n",
       "       4.23470699e-43, 3.90148669e-43, 5.84714064e-43])"
      ]
     },
     "execution_count": 64,
     "metadata": {},
     "output_type": "execute_result"
    }
   ],
   "source": [
    "psds_arrays['L1'].get_power_spectral_density_array(waveform_generator.frequency_array)"
   ]
  },
  {
   "cell_type": "code",
   "execution_count": 65,
   "metadata": {},
   "outputs": [
    {
     "data": {
      "text/plain": [
       "16385"
      ]
     },
     "execution_count": 65,
     "metadata": {},
     "output_type": "execute_result"
    }
   ],
   "source": [
    "import numpy as np\n",
    "waveform_generator.duration = 16\n",
    "parameters=dict(\n",
    "    mass_1=10.0, mass_2=10.0, luminosity_distance=100.0, theta_jn=0.0, psi=0.0, phase=0.0, geocent_time=1246527224.169434, ra=0.0, dec=0.0, a_1=0.0, a_2=0.0, tilt_1=0.0, tilt_2=0.0, phi_12=0.0, phi_jl=0.0\n",
    ")\n",
    "len(waveform_generator.frequency_domain_strain(parameters=parameters)['plus'])"
   ]
  },
  {
   "cell_type": "code",
   "execution_count": 57,
   "metadata": {},
   "outputs": [
    {
     "data": {
      "text/plain": [
       "16385"
      ]
     },
     "execution_count": 57,
     "metadata": {},
     "output_type": "execute_result"
    }
   ],
   "source": [
    "len(waveform_generator.frequency_array)"
   ]
  },
  {
   "cell_type": "code",
   "execution_count": 60,
   "metadata": {},
   "outputs": [
    {
     "data": {
      "text/plain": [
       "<function bilby.gw.source.lal_binary_black_hole(frequency_array, mass_1, mass_2, luminosity_distance, a_1, tilt_1, phi_12, a_2, tilt_2, phi_jl, theta_jn, phase, **kwargs)>"
      ]
     },
     "execution_count": 60,
     "metadata": {},
     "output_type": "execute_result"
    }
   ],
   "source": [
    "waveform_generator.frequency_domain_source_model"
   ]
  },
  {
   "cell_type": "code",
   "execution_count": 3,
   "metadata": {},
   "outputs": [],
   "source": [
    "import numpy as np\n",
    "import bilby\n",
    "\n",
    "size = 100\n",
    "mass_1 = 30.*np.ones(size)\n",
    "mass_2 = 30.*np.ones(size)\n",
    "luminosity_distance = 100.*np.ones(size)\n",
    "theta_jn = 0.*np.ones(size)\n",
    "psi = 0.*np.ones(size)\n",
    "phase = 0.*np.ones(size)\n",
    "geocent_time = 1246527224.169434*np.ones(size)\n",
    "ra = 0.*np.ones(size)\n",
    "dec = 0.*np.ones(size)\n",
    "a_1 = 0.*np.ones(size)\n",
    "a_2 = 0.*np.ones(size)\n",
    "tilt_1 = 0.*np.ones(size)\n",
    "tilt_2 = 0.*np.ones(size)\n",
    "phi_12 = 0.*np.ones(size)\n",
    "phi_jl = 0.*np.ones(size)\n",
    "size1 = len(mass_1)\n",
    "iterations = np.arange(size1)  # to keep track of index\n",
    "detectors = ['L1', 'H1']\n",
    "dectectorList = np.array(detectors) * np.ones(\n",
    "    (size1, len(detectors)), dtype=object\n",
    ")\n",
    "approximant = \"IMRPhenomD\"\n",
    "f_min = 20.0\n",
    "sampling_frequency = 2048.0\n",
    "duration = 4.0*np.ones(size)\n",
    "\n",
    "psds = dict()\n",
    "psds[\"L1\"] = \"aLIGO_O4_high_asd.txt\"\n",
    "psds[\"H1\"] = \"aLIGO_O4_high_asd.txt\"\n",
    "psds_arrays = dict()\n",
    "for det in detectors:\n",
    "    psds_arrays[det] = bilby.gw.detector.PowerSpectralDensity(asd_file=psds[det])\n",
    "psds_arrays_list = np.array([np.full(size1, psds_arrays, dtype=object)]).T\n",
    "\n",
    "input_arguments = np.array(\n",
    "    [\n",
    "        mass_1,\n",
    "        mass_2,\n",
    "        luminosity_distance,\n",
    "        theta_jn,\n",
    "        psi,\n",
    "        phase,\n",
    "        ra,\n",
    "        dec,\n",
    "        geocent_time,\n",
    "        a_1,\n",
    "        a_2,\n",
    "        tilt_1,\n",
    "        tilt_2,\n",
    "        phi_12,\n",
    "        phi_jl,\n",
    "        np.full(size1, approximant),\n",
    "        np.full(size1, f_min),\n",
    "        duration,\n",
    "        np.full(size1, sampling_frequency),\n",
    "        iterations,\n",
    "    ],\n",
    "    dtype=object,\n",
    "    ).T\n",
    "\n",
    "input_arguments = np.concatenate(\n",
    "    (input_arguments, psds_arrays_list, dectectorList), axis=1\n",
    ")"
   ]
  },
  {
   "cell_type": "code",
   "execution_count": 4,
   "metadata": {},
   "outputs": [
    {
     "data": {
      "text/plain": [
       "<module 'njit_functions' from '/Users/phurailatpamhemantakumar/phd/mypackages/gwsnr/examples/njit_functions.py'>"
      ]
     },
     "execution_count": 4,
     "metadata": {},
     "output_type": "execute_result"
    }
   ],
   "source": [
    "import multiprocessing_routine\n",
    "import njit_functions\n",
    "# reload\n",
    "import importlib\n",
    "importlib.reload(multiprocessing_routine)\n",
    "importlib.reload(njit_functions)"
   ]
  },
  {
   "cell_type": "code",
   "execution_count": 3,
   "metadata": {},
   "outputs": [],
   "source": [
    "hp_inner_hp_i, hc_inner_hc_i, iter_i = multiprocessing_routine.noise_weighted_inner_prod(input_arguments[0])"
   ]
  },
  {
   "cell_type": "code",
   "execution_count": 4,
   "metadata": {},
   "outputs": [
    {
     "data": {
      "text/plain": [
       "2"
      ]
     },
     "execution_count": 4,
     "metadata": {},
     "output_type": "execute_result"
    }
   ],
   "source": [
    "len(hp_inner_hp_i)"
   ]
  },
  {
   "cell_type": "code",
   "execution_count": 15,
   "metadata": {},
   "outputs": [
    {
     "name": "stderr",
     "output_type": "stream",
     "text": [
      "100%|█████████████████████████████████████████████████████████████| 100/100 [00:01<00:00, 74.39it/s]\n"
     ]
    }
   ],
   "source": [
    "# now with multiprocessing\n",
    "from multiprocessing import Pool\n",
    "from tqdm import tqdm\n",
    "\n",
    "verbose = True\n",
    "# complex\n",
    "hp_inner_hp = np.zeros((size1,2), dtype=np.complex128)\n",
    "hc_inner_hc = np.zeros((size1,2), dtype=np.complex128)\n",
    "iter = np.arange(size1)\n",
    "with Pool(processes=4) as pool:\n",
    "    for result in tqdm(\n",
    "        pool.imap_unordered(\n",
    "            multiprocessing_routine.noise_weighted_inner_prod, input_arguments\n",
    "        ),\n",
    "        total=len(input_arguments),\n",
    "        ncols=100,\n",
    "        disable=not verbose,\n",
    "    ):\n",
    "        hp_inner_hp_i, hc_inner_hc_i, iter_i = result\n",
    "\n",
    "        hp_inner_hp[iter_i] = hp_inner_hp_i\n",
    "        hc_inner_hc[iter_i] = hc_inner_hc_i"
   ]
  },
  {
   "cell_type": "code",
   "execution_count": 16,
   "metadata": {},
   "outputs": [],
   "source": [
    "ifos = bilby.gw.detector.InterferometerList(detectors)\n",
    "detector_tensor = []\n",
    "for j in range(len(detectors)):\n",
    "    detector_tensor.append(ifos[j].detector_tensor)\n",
    "detector_tensor = np.array(detector_tensor)"
   ]
  },
  {
   "cell_type": "code",
   "execution_count": 17,
   "metadata": {},
   "outputs": [
    {
     "data": {
      "text/plain": [
       "array([[[ 0.41128086,  0.14021027,  0.24729459],\n",
       "        [ 0.14021027, -0.10900569, -0.18161563],\n",
       "        [ 0.24729459, -0.18161563, -0.30227517]],\n",
       "\n",
       "       [[-0.3926141 , -0.07761341, -0.24738904],\n",
       "        [-0.07761341,  0.31952407,  0.22799783],\n",
       "        [-0.24738904,  0.22799783,  0.07309003]]])"
      ]
     },
     "execution_count": 17,
     "metadata": {},
     "output_type": "execute_result"
    }
   ],
   "source": [
    "detector_tensor"
   ]
  },
  {
   "cell_type": "code",
   "execution_count": 18,
   "metadata": {},
   "outputs": [],
   "source": [
    "Fp, Fc = njit_functions.antenna_response_array(ra, dec, geocent_time, psi, detector_tensor)"
   ]
  },
  {
   "cell_type": "code",
   "execution_count": 19,
   "metadata": {},
   "outputs": [
    {
     "data": {
      "text/plain": [
       "(100, 2)"
      ]
     },
     "execution_count": 19,
     "metadata": {},
     "output_type": "execute_result"
    }
   ],
   "source": [
    "np.shape(Fp)"
   ]
  },
  {
   "cell_type": "code",
   "execution_count": 20,
   "metadata": {},
   "outputs": [],
   "source": [
    "detectors = ['L1', 'H1']\n",
    "num_det = np.arange(len(detectors), dtype=int)\n",
    "psds_list = [1,2]\n",
    "psd_dict = {detectors[i]: psds_list[i] for i in num_det}"
   ]
  },
  {
   "cell_type": "code",
   "execution_count": 11,
   "metadata": {},
   "outputs": [
    {
     "data": {
      "text/plain": [
       "{'L1': 1, 'H1': 2}"
      ]
     },
     "execution_count": 11,
     "metadata": {},
     "output_type": "execute_result"
    }
   ],
   "source": [
    "psd_dict"
   ]
  },
  {
   "cell_type": "code",
   "execution_count": 10,
   "metadata": {},
   "outputs": [
    {
     "data": {
      "text/plain": [
       "(100, 2)"
      ]
     },
     "execution_count": 10,
     "metadata": {},
     "output_type": "execute_result"
    }
   ],
   "source": [
    "np.shape(hp_inner_hp)"
   ]
  },
  {
   "cell_type": "code",
   "execution_count": 20,
   "metadata": {},
   "outputs": [
    {
     "data": {
      "text/plain": [
       "array([85612.52743128, 34633.41085401])"
      ]
     },
     "execution_count": 20,
     "metadata": {},
     "output_type": "execute_result"
    }
   ],
   "source": [
    "snrs_sq[0]"
   ]
  },
  {
   "cell_type": "code",
   "execution_count": 21,
   "metadata": {},
   "outputs": [
    {
     "data": {
      "text/plain": [
       "346.7649611556652"
      ]
     },
     "execution_count": 21,
     "metadata": {},
     "output_type": "execute_result"
    }
   ],
   "source": [
    "np.sqrt(85612.52743128+34633.41085401)"
   ]
  },
  {
   "cell_type": "code",
   "execution_count": 21,
   "metadata": {},
   "outputs": [],
   "source": [
    "SNRs_dict = dict()\n",
    "snrs_sq = abs((Fp**2) * hp_inner_hp + (Fc**2) * hc_inner_hc)\n",
    "SNRs_dict[\"opt_snr_net\"] = np.sqrt(np.sum(snrs_sq, axis=1))\n",
    "j = 0\n",
    "for det in detectors:\n",
    "    SNRs_dict[det] = np.sqrt(snrs_sq[:,j])\n",
    "    j += 1"
   ]
  },
  {
   "cell_type": "code",
   "execution_count": null,
   "metadata": {},
   "outputs": [],
   "source": []
  },
  {
   "cell_type": "code",
   "execution_count": 11,
   "metadata": {},
   "outputs": [
    {
     "data": {
      "text/plain": [
       "145.5926919415139"
      ]
     },
     "execution_count": 11,
     "metadata": {},
     "output_type": "execute_result"
    }
   ],
   "source": [
    "from scipy.optimize import fsolve\n",
    "import numpy as np\n",
    "import njit_functions\n",
    "\n",
    "mass_ratio = 0.1\n",
    "f_min = 20.0\n",
    "func = lambda x: njit_functions.findchirp_chirptime(\n",
    "    x / (1 + mass_ratio), x / (1 + mass_ratio) * mass_ratio, f_min\n",
    ")\n",
    "fsolve(func, 150)[\n",
    "    0\n",
    "]"
   ]
  },
  {
   "cell_type": "code",
   "execution_count": 8,
   "metadata": {},
   "outputs": [],
   "source": [
    "def last_stable_orbit_frequency(m1, m2):\n",
    "    # Constants\n",
    "    c = 299792458  # Speed of light in meters per second\n",
    "    G = 6.67430e-11  # Gravitational constant in m^3 kg^(-1) s^(-2)\n",
    "    Mo = 1.988409870698051e30  # Solar mass in kg\n",
    "    m1 = m1 * Mo  # Convert m1 to kg\n",
    "    m2 = m2 * Mo  # Convert m2 to kg\n",
    "\n",
    "    # Calculate LSO frequency\n",
    "    f_gw = c**3 / (6**(3/2) * np.pi * G * (m1 + m2))\n",
    "\n",
    "    return f_gw"
   ]
  },
  {
   "cell_type": "code",
   "execution_count": 9,
   "metadata": {},
   "outputs": [
    {
     "data": {
      "text/plain": [
       "11.94884445825218"
      ]
     },
     "execution_count": 9,
     "metadata": {},
     "output_type": "execute_result"
    }
   ],
   "source": [
    "last_stable_orbit_frequency(184,184)"
   ]
  },
  {
   "cell_type": "code",
   "execution_count": null,
   "metadata": {},
   "outputs": [],
   "source": [
    " / (1 + mass_ratio)"
   ]
  },
  {
   "cell_type": "code",
   "execution_count": null,
   "metadata": {},
   "outputs": [],
   "source": [
    "npool=int(4),\n",
    "        mtot_min=2.0,\n",
    "        mtot_max=439.6,\n",
    "        ratio_min=0.1,\n",
    "        ratio_max=1.0,\n",
    "        mtot_resolution=100,\n",
    "        ratio_resolution=100,\n",
    "        sampling_frequency=2048.0,\n",
    "        waveform_approximant=\"IMRPhenomD\",\n",
    "        minimum_frequency=20.0,\n",
    "        snr_type=\"interpolation\",\n",
    "        psds=None,\n",
    "        isit_psd_file=False,\n",
    "        ifos=None,\n",
    "        interpolator_dir=\"./interpolator_pickle\",\n",
    "        create_new_interpolator=False,\n",
    "        gwsnr_verbose=True,\n",
    "        multiprocessing_verbose=True,\n",
    "\n",
    "# setting instance attributes\n",
    "        self.npool = npool\n",
    "        self.mtot_min = mtot_min\n",
    "        self.mtot_max = mtot_max\n",
    "        self.ratio_min = ratio_min\n",
    "        self.ratio_max = ratio_max\n",
    "        self.mtot_resolution = mtot_resolution\n",
    "        self.ratio_resolution = ratio_resolution\n",
    "        # buffer of 0.01 is added to the ratio\n",
    "        self.ratio_arr = np.geomspace(ratio_min-0.01, ratio_max+0.01, ratio_resolution)\n",
    "        # buffer of 0.1 is added to the mtot\n",
    "        self.mtot_arr = np.sort(\n",
    "            mtot_min + mtot_max - np.geomspace(mtot_min-0.1, mtot_max+0.1, mtot_resolution)\n",
    "        )\n",
    "        self.sampling_frequency = sampling_frequency\n",
    "        self.waveform_approximant = waveform_approximant\n",
    "        self.f_min = minimum_frequency\n",
    "        self.snr_type = snr_type\n",
    "        self.interpolator_dir = interpolator_dir"
   ]
  },
  {
   "cell_type": "code",
   "execution_count": null,
   "metadata": {},
   "outputs": [],
   "source": []
  },
  {
   "cell_type": "code",
   "execution_count": null,
   "metadata": {},
   "outputs": [],
   "source": []
  },
  {
   "cell_type": "code",
   "execution_count": null,
   "metadata": {},
   "outputs": [],
   "source": []
  }
 ],
 "metadata": {
  "kernelspec": {
   "display_name": "ler",
   "language": "python",
   "name": "ler"
  },
  "language_info": {
   "codemirror_mode": {
    "name": "ipython",
    "version": 3
   },
   "file_extension": ".py",
   "mimetype": "text/x-python",
   "name": "python",
   "nbconvert_exporter": "python",
   "pygments_lexer": "ipython3",
   "version": "3.10.12"
  }
 },
 "nbformat": 4,
 "nbformat_minor": 2
}
