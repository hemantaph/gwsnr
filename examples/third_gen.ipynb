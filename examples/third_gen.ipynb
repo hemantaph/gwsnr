{
 "cells": [
  {
   "cell_type": "code",
   "execution_count": 2,
   "id": "47570424-ed03-49a8-b426-9b93b1f671a8",
   "metadata": {},
   "outputs": [],
   "source": [
    "import numpy as np\n",
    "import pylab as plt\n",
    "from datetime import datetime"
   ]
  },
  {
   "cell_type": "code",
   "execution_count": 3,
   "id": "92c946df-3a76-455d-8102-65554e69cb80",
   "metadata": {},
   "outputs": [],
   "source": [
    "from gwsnr import GWSNR"
   ]
  },
  {
   "cell_type": "code",
   "execution_count": 4,
   "id": "d2eaccdb-68af-4f6b-8810-d423e330811f",
   "metadata": {},
   "outputs": [
    {
     "data": {
      "text/plain": [
       "\u001b[0;31mInit signature:\u001b[0m\n",
       "\u001b[0mGWSNR\u001b[0m\u001b[0;34m(\u001b[0m\u001b[0;34m\u001b[0m\n",
       "\u001b[0;34m\u001b[0m    \u001b[0mnpool\u001b[0m\u001b[0;34m=\u001b[0m\u001b[0;36m4\u001b[0m\u001b[0;34m,\u001b[0m\u001b[0;34m\u001b[0m\n",
       "\u001b[0;34m\u001b[0m    \u001b[0mmtot_min\u001b[0m\u001b[0;34m=\u001b[0m\u001b[0;36m2.0\u001b[0m\u001b[0;34m,\u001b[0m\u001b[0;34m\u001b[0m\n",
       "\u001b[0;34m\u001b[0m    \u001b[0mmtot_max\u001b[0m\u001b[0;34m=\u001b[0m\u001b[0;36m439.6\u001b[0m\u001b[0;34m,\u001b[0m\u001b[0;34m\u001b[0m\n",
       "\u001b[0;34m\u001b[0m    \u001b[0mnsamples_mtot\u001b[0m\u001b[0;34m=\u001b[0m\u001b[0;36m100\u001b[0m\u001b[0;34m,\u001b[0m\u001b[0;34m\u001b[0m\n",
       "\u001b[0;34m\u001b[0m    \u001b[0mnsamples_mass_ratio\u001b[0m\u001b[0;34m=\u001b[0m\u001b[0;36m50\u001b[0m\u001b[0;34m,\u001b[0m\u001b[0;34m\u001b[0m\n",
       "\u001b[0;34m\u001b[0m    \u001b[0msampling_frequency\u001b[0m\u001b[0;34m=\u001b[0m\u001b[0;36m4096.0\u001b[0m\u001b[0;34m,\u001b[0m\u001b[0;34m\u001b[0m\n",
       "\u001b[0;34m\u001b[0m    \u001b[0mwaveform_approximant\u001b[0m\u001b[0;34m=\u001b[0m\u001b[0;34m'IMRPhenomD'\u001b[0m\u001b[0;34m,\u001b[0m\u001b[0;34m\u001b[0m\n",
       "\u001b[0;34m\u001b[0m    \u001b[0mminimum_frequency\u001b[0m\u001b[0;34m=\u001b[0m\u001b[0;36m20.0\u001b[0m\u001b[0;34m,\u001b[0m\u001b[0;34m\u001b[0m\n",
       "\u001b[0;34m\u001b[0m    \u001b[0msnr_type\u001b[0m\u001b[0;34m=\u001b[0m\u001b[0;34m'interpolation'\u001b[0m\u001b[0;34m,\u001b[0m\u001b[0;34m\u001b[0m\n",
       "\u001b[0;34m\u001b[0m    \u001b[0mwaveform_inspiral_must_be_above_fmin\u001b[0m\u001b[0;34m=\u001b[0m\u001b[0;32mFalse\u001b[0m\u001b[0;34m,\u001b[0m\u001b[0;34m\u001b[0m\n",
       "\u001b[0;34m\u001b[0m    \u001b[0mpsds\u001b[0m\u001b[0;34m=\u001b[0m\u001b[0;32mFalse\u001b[0m\u001b[0;34m,\u001b[0m\u001b[0;34m\u001b[0m\n",
       "\u001b[0;34m\u001b[0m    \u001b[0mpsd_file\u001b[0m\u001b[0;34m=\u001b[0m\u001b[0;32mFalse\u001b[0m\u001b[0;34m,\u001b[0m\u001b[0;34m\u001b[0m\n",
       "\u001b[0;34m\u001b[0m\u001b[0;34m)\u001b[0m\u001b[0;34m\u001b[0m\u001b[0;34m\u001b[0m\u001b[0m\n",
       "\u001b[0;31mDocstring:\u001b[0m      <no docstring>\n",
       "\u001b[0;31mInit docstring:\u001b[0m\n",
       "Initialized parameters and functions\n",
       "snr_half_scaled() : function for finding (f/PSD) integration in the limit [f_min,f_max]\n",
       "list_of_detectors :  list of detector initials, e.g. L1 for Livingston\n",
       "f_min : minimum frequency for the detector\n",
       "-----------------\n",
       "input parameters\n",
       "-----------------\n",
       "mtot_min           : minimum value of Mtotal=mass_1+mass_2, use in interpolation\n",
       "mtot_max           : maximum value of Mtotal=mass_1+mass_2, use in interpolation\n",
       "nsamples           : number of points you want to use for SNR interpolation (here it is half SNR not complete)\n",
       "list_of_detectors  : detector list. It can be single or multiple.\n",
       "duration           : duration of the data in time domain. \n",
       "sampling_frequency : sampling frequency of the data. e.g. 4096Hz,2048Hz,1024Hz\n",
       "waveform_arguments : contains which waveform model to use for interpolation. Extra paramters like reference_frequency                             minimum_frequency are also included. minimum_frequency will also relate to the mtot_max set inside                             the code. High mass blackholes tends to merge at lower frequency < f_min, and can have SNR=0\n",
       "snr_type           : method for SNR calculation. Values: 'interpolation', 'inner_product' \n",
       "\n",
       "psds               : psd dict.\n",
       "                       example_1=> when values are psd name from pycbc analytical psds, \n",
       "                       psds={'L1':'aLIGOaLIGODesignSensitivityT1800044','H1':'aLIGOaLIGODesignSensitivityT1800044','V1':'AdvVirgo'}\n",
       "                       to check available psd name run $ import pycbc.psd ; $ pycbc.psd.get_lalsim_psd_list()\n",
       "                       example_2=> when values are psd txt file in bilby or custom created,\n",
       "                       psds={'L1':'aLIGO_O4_high_asd.txt','H1':'aLIGO_O4_high_asd.txt'}\n",
       "                       custom created txt file has two columns. 1st column: frequency array, 2nd column: strain \n",
       "psd_file           : if set True, the given value of psds param should be of psds instead of asd. If asd, set psd_file=False.\n",
       "\u001b[0;31mFile:\u001b[0m           ~/phd/mypackages/gwsnr/gwsnr/gwsnr.py\n",
       "\u001b[0;31mType:\u001b[0m           type\n",
       "\u001b[0;31mSubclasses:\u001b[0m     "
      ]
     },
     "metadata": {},
     "output_type": "display_data"
    }
   ],
   "source": [
    "snr_ = GWSNR?"
   ]
  },
  {
   "cell_type": "code",
   "execution_count": 5,
   "id": "e3e68a44-3924-4188-a4a8-e53906279ebb",
   "metadata": {
    "collapsed": true,
    "jupyter": {
     "outputs_hidden": true,
     "source_hidden": true
    },
    "tags": []
   },
   "outputs": [
    {
     "data": {
      "text/plain": [
       "['AdVBNSOptimizedSensitivityP1200087',\n",
       " 'AdVDesignSensitivityP1200087',\n",
       " 'AdVEarlyHighSensitivityP1200087',\n",
       " 'AdVEarlyLowSensitivityP1200087',\n",
       " 'AdVLateHighSensitivityP1200087',\n",
       " 'AdVLateLowSensitivityP1200087',\n",
       " 'AdVMidHighSensitivityP1200087',\n",
       " 'AdVMidLowSensitivityP1200087',\n",
       " 'AdVO3LowT1800545',\n",
       " 'AdVO4IntermediateT1800545',\n",
       " 'AdVO4T1800545',\n",
       " 'AdvVirgo',\n",
       " 'CosmicExplorerP1600143',\n",
       " 'CosmicExplorerPessimisticP1600143',\n",
       " 'CosmicExplorerWidebandP1600143',\n",
       " 'EinsteinTelescopeP1600143',\n",
       " 'GEO',\n",
       " 'GEOHF',\n",
       " 'KAGRA',\n",
       " 'KAGRA128MpcT1800545',\n",
       " 'KAGRA25MpcT1800545',\n",
       " 'KAGRA80MpcT1800545',\n",
       " 'KAGRADesignSensitivityT1600593',\n",
       " 'KAGRAEarlySensitivityT1600593',\n",
       " 'KAGRALateSensitivityT1600593',\n",
       " 'KAGRAMidSensitivityT1600593',\n",
       " 'KAGRAOpeningSensitivityT1600593',\n",
       " 'TAMA',\n",
       " 'Virgo',\n",
       " 'aLIGO140MpcT1800545',\n",
       " 'aLIGO175MpcT1800545',\n",
       " 'aLIGOAPlusDesignSensitivityT1800042',\n",
       " 'aLIGOAdVO3LowT1800545',\n",
       " 'aLIGOAdVO4IntermediateT1800545',\n",
       " 'aLIGOAdVO4T1800545',\n",
       " 'aLIGOBHBH20Deg',\n",
       " 'aLIGOBHBH20DegGWINC',\n",
       " 'aLIGOBNSOptimizedSensitivityP1200087',\n",
       " 'aLIGODesignSensitivityP1200087',\n",
       " 'aLIGODesignSensitivityT1800044',\n",
       " 'aLIGOEarlyHighSensitivityP1200087',\n",
       " 'aLIGOEarlyLowSensitivityP1200087',\n",
       " 'aLIGOHighFrequency',\n",
       " 'aLIGOHighFrequencyGWINC',\n",
       " 'aLIGOKAGRA128MpcT1800545',\n",
       " 'aLIGOKAGRA25MpcT1800545',\n",
       " 'aLIGOKAGRA80MpcT1800545',\n",
       " 'aLIGOLateHighSensitivityP1200087',\n",
       " 'aLIGOLateLowSensitivityP1200087',\n",
       " 'aLIGOMidHighSensitivityP1200087',\n",
       " 'aLIGOMidLowSensitivityP1200087',\n",
       " 'aLIGONSNSOpt',\n",
       " 'aLIGONSNSOptGWINC',\n",
       " 'aLIGONoSRMHighPower',\n",
       " 'aLIGONoSRMLowPower',\n",
       " 'aLIGONoSRMLowPowerGWINC',\n",
       " 'aLIGOO3LowT1800545',\n",
       " 'aLIGOQuantumBHBH20Deg',\n",
       " 'aLIGOQuantumHighFrequency',\n",
       " 'aLIGOQuantumNSNSOpt',\n",
       " 'aLIGOQuantumNoSRMHighPower',\n",
       " 'aLIGOQuantumNoSRMLowPower',\n",
       " 'aLIGOQuantumZeroDetHighPower',\n",
       " 'aLIGOQuantumZeroDetLowPower',\n",
       " 'aLIGOThermal',\n",
       " 'aLIGOZeroDetHighPower',\n",
       " 'aLIGOZeroDetHighPowerGWINC',\n",
       " 'aLIGOZeroDetLowPower',\n",
       " 'aLIGOZeroDetLowPowerGWINC',\n",
       " 'aLIGOaLIGO140MpcT1800545',\n",
       " 'aLIGOaLIGO175MpcT1800545',\n",
       " 'aLIGOaLIGODesignSensitivityT1800044',\n",
       " 'aLIGOaLIGOO3LowT1800545',\n",
       " 'eLIGOModel',\n",
       " 'eLIGOShot',\n",
       " 'iLIGOModel',\n",
       " 'iLIGOSRD',\n",
       " 'iLIGOSeismic',\n",
       " 'iLIGOShot',\n",
       " 'iLIGOThermal']"
      ]
     },
     "execution_count": 5,
     "metadata": {},
     "output_type": "execute_result"
    }
   ],
   "source": [
    "import pycbc.psd\n",
    "pycbc.psd.get_lalsim_psd_list()"
   ]
  },
  {
   "cell_type": "code",
   "execution_count": 5,
   "id": "0211f10c-dba9-400c-83f6-814cfb9d5057",
   "metadata": {},
   "outputs": [
    {
     "name": "stdout",
     "output_type": "stream",
     "text": [
      "Given: IMR waveform\n",
      "given psds:  {'CE': 'CosmicExplorerP1600143', 'ET': 'EinsteinTelescopeP1600143'}\n",
      "generating new interpolator for the given new gwsnr params\n"
     ]
    },
    {
     "name": "stderr",
     "output_type": "stream",
     "text": [
      "interpolation for each mass_ratios: 100%|███████████████████████████| 50/50 [01:17<00:00,  1.55s/it]"
     ]
    },
    {
     "name": "stdout",
     "output_type": "stream",
     "text": [
      "interpolator stored as ./interpolator_pickle/halfSNR_dict_6.pickle.\n",
      "In case if you need regeneration of interpolator of the given gwsnr param, please delete this file, ./interpolator_pickle/halfSNR_dict_6.pickle\n"
     ]
    },
    {
     "name": "stderr",
     "output_type": "stream",
     "text": [
      "\n"
     ]
    }
   ],
   "source": [
    "# Note: for best accuracy in interpolation keep nsamples_mtot=200, nsamples_mass_ratio=500, sampling_frequency=4096.,\n",
    "snr_ = GWSNR(npool=int(4), mtot_min=2., mtot_max=439.6, nsamples_mtot=100, nsamples_mass_ratio=50, \\\n",
    "                 sampling_frequency=2048.,\\\n",
    "                 waveform_approximant = 'IMRPhenomD', minimum_frequency = 10., \\\n",
    "                 snr_type = 'interpolation', \\\n",
    "           waveform_inspiral_must_be_above_fmin=False,\\\n",
    "          psds={'CE':'CosmicExplorerP1600143','ET':'EinsteinTelescopeP1600143'})"
   ]
  },
  {
   "cell_type": "code",
   "execution_count": null,
   "id": "07bb41da-6180-4072-9a83-cb81b9a01f2b",
   "metadata": {},
   "outputs": [],
   "source": []
  }
 ],
 "metadata": {
  "kernelspec": {
   "display_name": "Python 3 (ipykernel)",
   "language": "python",
   "name": "python3"
  },
  "language_info": {
   "codemirror_mode": {
    "name": "ipython",
    "version": 3
   },
   "file_extension": ".py",
   "mimetype": "text/x-python",
   "name": "python",
   "nbconvert_exporter": "python",
   "pygments_lexer": "ipython3",
   "version": "3.10.9"
  }
 },
 "nbformat": 4,
 "nbformat_minor": 5
}
