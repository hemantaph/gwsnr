{
 "cells": [
  {
   "cell_type": "code",
   "execution_count": null,
   "metadata": {},
   "outputs": [],
   "source": [
    "gwutils.optimal_snr_squared(\n",
    "            signal=signal[self.strain_data.frequency_mask],\n",
    "            power_spectral_density=self.power_spectral_density_array[self.strain_data.frequency_mask],\n",
    "            duration=self.strain_data.duration)"
   ]
  },
  {
   "cell_type": "code",
   "execution_count": 6,
   "metadata": {},
   "outputs": [],
   "source": [
    "import numpy as np\n",
    "import matplotlib.pyplot as plt\n",
    "import bilby"
   ]
  },
  {
   "cell_type": "code",
   "execution_count": 7,
   "metadata": {},
   "outputs": [],
   "source": [
    "injection_parameters = dict(\n",
    "    mass_1=36., mass_2=29., a_1=0.4, a_2=0.3, tilt_1=0.5, tilt_2=1.0,\n",
    "    phi_12=1.7, phi_jl=0.3, luminosity_distance=4000., theta_jn=0.4, psi=2.659,\n",
    "    phase=1.3, geocent_time=1126259642.413, ra=1.375, dec=-1.2108)"
   ]
  },
  {
   "cell_type": "code",
   "execution_count": 8,
   "metadata": {},
   "outputs": [],
   "source": [
    "waveform_arguments = dict(waveform_approximant='IMRPhenomPv2',\n",
    "                          reference_frequency=50., minimum_frequency=20., catch_waveform_errors=True)\n",
    "duration = 4.\n",
    "sampling_frequency = 2048."
   ]
  },
  {
   "cell_type": "code",
   "execution_count": 9,
   "metadata": {},
   "outputs": [
    {
     "name": "stderr",
     "output_type": "stream",
     "text": [
      "03:49 bilby INFO    : Waveform generator initiated with\n",
      "  frequency_domain_source_model: bilby.gw.source.lal_binary_black_hole\n",
      "  time_domain_source_model: None\n",
      "  parameter_conversion: bilby.gw.conversion.convert_to_lal_binary_black_hole_parameters\n"
     ]
    }
   ],
   "source": [
    "waveform_generator = bilby.gw.WaveformGenerator(\n",
    "    duration=duration, sampling_frequency=sampling_frequency,\n",
    "    frequency_domain_source_model=bilby.gw.source.lal_binary_black_hole,\n",
    "    parameter_conversion=bilby.gw.conversion.convert_to_lal_binary_black_hole_parameters,\n",
    "    waveform_arguments=waveform_arguments)"
   ]
  },
  {
   "cell_type": "code",
   "execution_count": 5,
   "metadata": {},
   "outputs": [
    {
     "name": "stderr",
     "output_type": "stream",
     "text": [
      "06:17 bilby INFO    : Injected signal in H1:\n",
      "06:17 bilby INFO    :   optimal SNR = 5.89\n",
      "06:17 bilby INFO    :   matched filter SNR = 7.61+0.10j\n",
      "06:17 bilby INFO    :   mass_1 = 36.0\n",
      "06:17 bilby INFO    :   mass_2 = 29.0\n",
      "06:17 bilby INFO    :   a_1 = 0.4\n",
      "06:17 bilby INFO    :   a_2 = 0.3\n",
      "06:17 bilby INFO    :   tilt_1 = 0.5\n",
      "06:17 bilby INFO    :   tilt_2 = 1.0\n",
      "06:17 bilby INFO    :   phi_12 = 1.7\n",
      "06:17 bilby INFO    :   phi_jl = 0.3\n",
      "06:17 bilby INFO    :   luminosity_distance = 4000.0\n",
      "06:17 bilby INFO    :   theta_jn = 0.4\n",
      "06:17 bilby INFO    :   psi = 2.659\n",
      "06:17 bilby INFO    :   phase = 1.3\n",
      "06:17 bilby INFO    :   geocent_time = 1126259642.413\n",
      "06:17 bilby INFO    :   ra = 1.375\n",
      "06:17 bilby INFO    :   dec = -1.2108\n",
      "06:17 bilby INFO    : Injected signal in L1:\n",
      "06:17 bilby INFO    :   optimal SNR = 4.76\n",
      "06:17 bilby INFO    :   matched filter SNR = 4.67-0.95j\n",
      "06:17 bilby INFO    :   mass_1 = 36.0\n",
      "06:17 bilby INFO    :   mass_2 = 29.0\n",
      "06:17 bilby INFO    :   a_1 = 0.4\n",
      "06:17 bilby INFO    :   a_2 = 0.3\n",
      "06:17 bilby INFO    :   tilt_1 = 0.5\n",
      "06:17 bilby INFO    :   tilt_2 = 1.0\n",
      "06:17 bilby INFO    :   phi_12 = 1.7\n",
      "06:17 bilby INFO    :   phi_jl = 0.3\n",
      "06:17 bilby INFO    :   luminosity_distance = 4000.0\n",
      "06:17 bilby INFO    :   theta_jn = 0.4\n",
      "06:17 bilby INFO    :   psi = 2.659\n",
      "06:17 bilby INFO    :   phase = 1.3\n",
      "06:17 bilby INFO    :   geocent_time = 1126259642.413\n",
      "06:17 bilby INFO    :   ra = 1.375\n",
      "06:17 bilby INFO    :   dec = -1.2108\n"
     ]
    }
   ],
   "source": [
    "ifos = bilby.gw.detector.InterferometerList(['H1', 'L1'])\n",
    "ifos.set_strain_data_from_power_spectral_densities(\n",
    "    sampling_frequency=sampling_frequency, duration=duration,\n",
    "    start_time=injection_parameters['geocent_time'] - 3)\n",
    "injection = ifos.inject_signal(\n",
    "    waveform_generator=waveform_generator,\n",
    "    parameters=injection_parameters)"
   ]
  },
  {
   "cell_type": "code",
   "execution_count": 11,
   "metadata": {},
   "outputs": [
    {
     "data": {
      "text/plain": [
       "5.888842359288943"
      ]
     },
     "execution_count": 11,
     "metadata": {},
     "output_type": "execute_result"
    }
   ],
   "source": [
    "ifos[0].meta_data[\"optimal_SNR\"]"
   ]
  },
  {
   "cell_type": "code",
   "execution_count": null,
   "metadata": {},
   "outputs": [],
   "source": [
    "https://github.com/lscsoft/bilby/blob/b1e02f1dfae03d4939cae9c95eff300c22919689/bilby/gw/detector/interferometer.py#L247\n",
    "https://github.com/lscsoft/bilby/blob/b1e02f1dfae03d4939cae9c95eff300c22919689/bilby/gw/utils.py#L85"
   ]
  },
  {
   "cell_type": "code",
   "execution_count": 19,
   "metadata": {},
   "outputs": [],
   "source": [
    "from bilby.gw import utils as gwutils"
   ]
  },
  {
   "cell_type": "code",
   "execution_count": 27,
   "metadata": {},
   "outputs": [],
   "source": [
    "from math import fmod\n",
    "from bilby.core.utils import ra_dec_to_theta_phi\n",
    "\n",
    "def greenwich_mean_sidereal_time(time):\n",
    "    from lal import GreenwichMeanSiderealTime\n",
    "    time = float(time)\n",
    "    return GreenwichMeanSiderealTime(time)"
   ]
  },
  {
   "cell_type": "code",
   "execution_count": 25,
   "metadata": {},
   "outputs": [
    {
     "data": {
      "text/plain": [
       "array([1.24652718e+09, 1.24652718e+09])"
      ]
     },
     "execution_count": 25,
     "metadata": {},
     "output_type": "execute_result"
    }
   ],
   "source": [
    "np.ones(2)*1246527184.169434"
   ]
  },
  {
   "cell_type": "code",
   "execution_count": 26,
   "metadata": {},
   "outputs": [
    {
     "data": {
      "text/plain": [
       "44907.11676977647"
      ]
     },
     "execution_count": 26,
     "metadata": {},
     "output_type": "execute_result"
    }
   ],
   "source": [
    "# https://git.ligo.org/lscsoft/lalsuite/-/blob/master/lal/test/tools/IndependentDetResponseTest.c#L958\n",
    "greenwich_mean_sidereal_time(1246527184.169434)"
   ]
  },
  {
   "cell_type": "code",
   "execution_count": null,
   "metadata": {},
   "outputs": [
    {
     "name": "stdout",
     "output_type": "stream",
     "text": [
      "\u001b[0;31mSignature:\u001b[0m \u001b[0mfmod\u001b[0m\u001b[0;34m(\u001b[0m\u001b[0mx\u001b[0m\u001b[0;34m,\u001b[0m \u001b[0my\u001b[0m\u001b[0;34m,\u001b[0m \u001b[0;34m/\u001b[0m\u001b[0;34m)\u001b[0m\u001b[0;34m\u001b[0m\u001b[0;34m\u001b[0m\u001b[0m\n",
      "\u001b[0;31mDocstring:\u001b[0m\n",
      "Return fmod(x, y), according to platform C.\n",
      "\n",
      "x % y may differ.\n",
      "\u001b[0;31mType:\u001b[0m      builtin_function_or_method"
     ]
    }
   ],
   "source": [
    "10e-3*100000/3600"
   ]
  },
  {
   "cell_type": "code",
   "execution_count": 21,
   "metadata": {},
   "outputs": [
    {
     "name": "stdout",
     "output_type": "stream",
     "text": [
      "\u001b[0;31mSignature:\u001b[0m \u001b[0mnp\u001b[0m\u001b[0;34m.\u001b[0m\u001b[0meinsum\u001b[0m\u001b[0;34m(\u001b[0m\u001b[0;34m*\u001b[0m\u001b[0moperands\u001b[0m\u001b[0;34m,\u001b[0m \u001b[0mout\u001b[0m\u001b[0;34m=\u001b[0m\u001b[0;32mNone\u001b[0m\u001b[0;34m,\u001b[0m \u001b[0moptimize\u001b[0m\u001b[0;34m=\u001b[0m\u001b[0;32mFalse\u001b[0m\u001b[0;34m,\u001b[0m \u001b[0;34m**\u001b[0m\u001b[0mkwargs\u001b[0m\u001b[0;34m)\u001b[0m\u001b[0;34m\u001b[0m\u001b[0;34m\u001b[0m\u001b[0m\n",
      "\u001b[0;31mDocstring:\u001b[0m\n",
      "einsum(subscripts, *operands, out=None, dtype=None, order='K',\n",
      "       casting='safe', optimize=False)\n",
      "\n",
      "Evaluates the Einstein summation convention on the operands.\n",
      "\n",
      "Using the Einstein summation convention, many common multi-dimensional,\n",
      "linear algebraic array operations can be represented in a simple fashion.\n",
      "In *implicit* mode `einsum` computes these values.\n",
      "\n",
      "In *explicit* mode, `einsum` provides further flexibility to compute\n",
      "other array operations that might not be considered classical Einstein\n",
      "summation operations, by disabling, or forcing summation over specified\n",
      "subscript labels.\n",
      "\n",
      "See the notes and examples for clarification.\n",
      "\n",
      "Parameters\n",
      "----------\n",
      "subscripts : str\n",
      "    Specifies the subscripts for summation as comma separated list of\n",
      "    subscript labels. An implicit (classical Einstein summation)\n",
      "    calculation is performed unless the explicit indicator '->' is\n",
      "    included as well as subscript labels of the precise output form.\n",
      "operands : list of array_like\n",
      "    These are the arrays for the operation.\n",
      "out : ndarray, optional\n",
      "    If provided, the calculation is done into this array.\n",
      "dtype : {data-type, None}, optional\n",
      "    If provided, forces the calculation to use the data type specified.\n",
      "    Note that you may have to also give a more liberal `casting`\n",
      "    parameter to allow the conversions. Default is None.\n",
      "order : {'C', 'F', 'A', 'K'}, optional\n",
      "    Controls the memory layout of the output. 'C' means it should\n",
      "    be C contiguous. 'F' means it should be Fortran contiguous,\n",
      "    'A' means it should be 'F' if the inputs are all 'F', 'C' otherwise.\n",
      "    'K' means it should be as close to the layout as the inputs as\n",
      "    is possible, including arbitrarily permuted axes.\n",
      "    Default is 'K'.\n",
      "casting : {'no', 'equiv', 'safe', 'same_kind', 'unsafe'}, optional\n",
      "    Controls what kind of data casting may occur.  Setting this to\n",
      "    'unsafe' is not recommended, as it can adversely affect accumulations.\n",
      "\n",
      "      * 'no' means the data types should not be cast at all.\n",
      "      * 'equiv' means only byte-order changes are allowed.\n",
      "      * 'safe' means only casts which can preserve values are allowed.\n",
      "      * 'same_kind' means only safe casts or casts within a kind,\n",
      "        like float64 to float32, are allowed.\n",
      "      * 'unsafe' means any data conversions may be done.\n",
      "\n",
      "    Default is 'safe'.\n",
      "optimize : {False, True, 'greedy', 'optimal'}, optional\n",
      "    Controls if intermediate optimization should occur. No optimization\n",
      "    will occur if False and True will default to the 'greedy' algorithm.\n",
      "    Also accepts an explicit contraction list from the ``np.einsum_path``\n",
      "    function. See ``np.einsum_path`` for more details. Defaults to False.\n",
      "\n",
      "Returns\n",
      "-------\n",
      "output : ndarray\n",
      "    The calculation based on the Einstein summation convention.\n",
      "\n",
      "See Also\n",
      "--------\n",
      "einsum_path, dot, inner, outer, tensordot, linalg.multi_dot\n",
      "einops :\n",
      "    similar verbose interface is provided by\n",
      "    `einops <https://github.com/arogozhnikov/einops>`_ package to cover\n",
      "    additional operations: transpose, reshape/flatten, repeat/tile,\n",
      "    squeeze/unsqueeze and reductions.\n",
      "opt_einsum :\n",
      "    `opt_einsum <https://optimized-einsum.readthedocs.io/en/stable/>`_\n",
      "    optimizes contraction order for einsum-like expressions\n",
      "    in backend-agnostic manner.\n",
      "\n",
      "Notes\n",
      "-----\n",
      ".. versionadded:: 1.6.0\n",
      "\n",
      "The Einstein summation convention can be used to compute\n",
      "many multi-dimensional, linear algebraic array operations. `einsum`\n",
      "provides a succinct way of representing these.\n",
      "\n",
      "A non-exhaustive list of these operations,\n",
      "which can be computed by `einsum`, is shown below along with examples:\n",
      "\n",
      "* Trace of an array, :py:func:`numpy.trace`.\n",
      "* Return a diagonal, :py:func:`numpy.diag`.\n",
      "* Array axis summations, :py:func:`numpy.sum`.\n",
      "* Transpositions and permutations, :py:func:`numpy.transpose`.\n",
      "* Matrix multiplication and dot product, :py:func:`numpy.matmul` :py:func:`numpy.dot`.\n",
      "* Vector inner and outer products, :py:func:`numpy.inner` :py:func:`numpy.outer`.\n",
      "* Broadcasting, element-wise and scalar multiplication, :py:func:`numpy.multiply`.\n",
      "* Tensor contractions, :py:func:`numpy.tensordot`.\n",
      "* Chained array operations, in efficient calculation order, :py:func:`numpy.einsum_path`.\n",
      "\n",
      "The subscripts string is a comma-separated list of subscript labels,\n",
      "where each label refers to a dimension of the corresponding operand.\n",
      "Whenever a label is repeated it is summed, so ``np.einsum('i,i', a, b)``\n",
      "is equivalent to :py:func:`np.inner(a,b) <numpy.inner>`. If a label\n",
      "appears only once, it is not summed, so ``np.einsum('i', a)`` produces a\n",
      "view of ``a`` with no changes. A further example ``np.einsum('ij,jk', a, b)``\n",
      "describes traditional matrix multiplication and is equivalent to\n",
      ":py:func:`np.matmul(a,b) <numpy.matmul>`. Repeated subscript labels in one\n",
      "operand take the diagonal. For example, ``np.einsum('ii', a)`` is equivalent\n",
      "to :py:func:`np.trace(a) <numpy.trace>`.\n",
      "\n",
      "In *implicit mode*, the chosen subscripts are important\n",
      "since the axes of the output are reordered alphabetically.  This\n",
      "means that ``np.einsum('ij', a)`` doesn't affect a 2D array, while\n",
      "``np.einsum('ji', a)`` takes its transpose. Additionally,\n",
      "``np.einsum('ij,jk', a, b)`` returns a matrix multiplication, while,\n",
      "``np.einsum('ij,jh', a, b)`` returns the transpose of the\n",
      "multiplication since subscript 'h' precedes subscript 'i'.\n",
      "\n",
      "In *explicit mode* the output can be directly controlled by\n",
      "specifying output subscript labels.  This requires the\n",
      "identifier '->' as well as the list of output subscript labels.\n",
      "This feature increases the flexibility of the function since\n",
      "summing can be disabled or forced when required. The call\n",
      "``np.einsum('i->', a)`` is like :py:func:`np.sum(a, axis=-1) <numpy.sum>`,\n",
      "and ``np.einsum('ii->i', a)`` is like :py:func:`np.diag(a) <numpy.diag>`.\n",
      "The difference is that `einsum` does not allow broadcasting by default.\n",
      "Additionally ``np.einsum('ij,jh->ih', a, b)`` directly specifies the\n",
      "order of the output subscript labels and therefore returns matrix\n",
      "multiplication, unlike the example above in implicit mode.\n",
      "\n",
      "To enable and control broadcasting, use an ellipsis.  Default\n",
      "NumPy-style broadcasting is done by adding an ellipsis\n",
      "to the left of each term, like ``np.einsum('...ii->...i', a)``.\n",
      "To take the trace along the first and last axes,\n",
      "you can do ``np.einsum('i...i', a)``, or to do a matrix-matrix\n",
      "product with the left-most indices instead of rightmost, one can do\n",
      "``np.einsum('ij...,jk...->ik...', a, b)``.\n",
      "\n",
      "When there is only one operand, no axes are summed, and no output\n",
      "parameter is provided, a view into the operand is returned instead\n",
      "of a new array.  Thus, taking the diagonal as ``np.einsum('ii->i', a)``\n",
      "produces a view (changed in version 1.10.0).\n",
      "\n",
      "`einsum` also provides an alternative way to provide the subscripts\n",
      "and operands as ``einsum(op0, sublist0, op1, sublist1, ..., [sublistout])``.\n",
      "If the output shape is not provided in this format `einsum` will be\n",
      "calculated in implicit mode, otherwise it will be performed explicitly.\n",
      "The examples below have corresponding `einsum` calls with the two\n",
      "parameter methods.\n",
      "\n",
      ".. versionadded:: 1.10.0\n",
      "\n",
      "Views returned from einsum are now writeable whenever the input array\n",
      "is writeable. For example, ``np.einsum('ijk...->kji...', a)`` will now\n",
      "have the same effect as :py:func:`np.swapaxes(a, 0, 2) <numpy.swapaxes>`\n",
      "and ``np.einsum('ii->i', a)`` will return a writeable view of the diagonal\n",
      "of a 2D array.\n",
      "\n",
      ".. versionadded:: 1.12.0\n",
      "\n",
      "Added the ``optimize`` argument which will optimize the contraction order\n",
      "of an einsum expression. For a contraction with three or more operands this\n",
      "can greatly increase the computational efficiency at the cost of a larger\n",
      "memory footprint during computation.\n",
      "\n",
      "Typically a 'greedy' algorithm is applied which empirical tests have shown\n",
      "returns the optimal path in the majority of cases. In some cases 'optimal'\n",
      "will return the superlative path through a more expensive, exhaustive search.\n",
      "For iterative calculations it may be advisable to calculate the optimal path\n",
      "once and reuse that path by supplying it as an argument. An example is given\n",
      "below.\n",
      "\n",
      "See :py:func:`numpy.einsum_path` for more details.\n",
      "\n",
      "Examples\n",
      "--------\n",
      ">>> a = np.arange(25).reshape(5,5)\n",
      ">>> b = np.arange(5)\n",
      ">>> c = np.arange(6).reshape(2,3)\n",
      "\n",
      "Trace of a matrix:\n",
      "\n",
      ">>> np.einsum('ii', a)\n",
      "60\n",
      ">>> np.einsum(a, [0,0])\n",
      "60\n",
      ">>> np.trace(a)\n",
      "60\n",
      "\n",
      "Extract the diagonal (requires explicit form):\n",
      "\n",
      ">>> np.einsum('ii->i', a)\n",
      "array([ 0,  6, 12, 18, 24])\n",
      ">>> np.einsum(a, [0,0], [0])\n",
      "array([ 0,  6, 12, 18, 24])\n",
      ">>> np.diag(a)\n",
      "array([ 0,  6, 12, 18, 24])\n",
      "\n",
      "Sum over an axis (requires explicit form):\n",
      "\n",
      ">>> np.einsum('ij->i', a)\n",
      "array([ 10,  35,  60,  85, 110])\n",
      ">>> np.einsum(a, [0,1], [0])\n",
      "array([ 10,  35,  60,  85, 110])\n",
      ">>> np.sum(a, axis=1)\n",
      "array([ 10,  35,  60,  85, 110])\n",
      "\n",
      "For higher dimensional arrays summing a single axis can be done with ellipsis:\n",
      "\n",
      ">>> np.einsum('...j->...', a)\n",
      "array([ 10,  35,  60,  85, 110])\n",
      ">>> np.einsum(a, [Ellipsis,1], [Ellipsis])\n",
      "array([ 10,  35,  60,  85, 110])\n",
      "\n",
      "Compute a matrix transpose, or reorder any number of axes:\n",
      "\n",
      ">>> np.einsum('ji', c)\n",
      "array([[0, 3],\n",
      "       [1, 4],\n",
      "       [2, 5]])\n",
      ">>> np.einsum('ij->ji', c)\n",
      "array([[0, 3],\n",
      "       [1, 4],\n",
      "       [2, 5]])\n",
      ">>> np.einsum(c, [1,0])\n",
      "array([[0, 3],\n",
      "       [1, 4],\n",
      "       [2, 5]])\n",
      ">>> np.transpose(c)\n",
      "array([[0, 3],\n",
      "       [1, 4],\n",
      "       [2, 5]])\n",
      "\n",
      "Vector inner products:\n",
      "\n",
      ">>> np.einsum('i,i', b, b)\n",
      "30\n",
      ">>> np.einsum(b, [0], b, [0])\n",
      "30\n",
      ">>> np.inner(b,b)\n",
      "30\n",
      "\n",
      "Matrix vector multiplication:\n",
      "\n",
      ">>> np.einsum('ij,j', a, b)\n",
      "array([ 30,  80, 130, 180, 230])\n",
      ">>> np.einsum(a, [0,1], b, [1])\n",
      "array([ 30,  80, 130, 180, 230])\n",
      ">>> np.dot(a, b)\n",
      "array([ 30,  80, 130, 180, 230])\n",
      ">>> np.einsum('...j,j', a, b)\n",
      "array([ 30,  80, 130, 180, 230])\n",
      "\n",
      "Broadcasting and scalar multiplication:\n",
      "\n",
      ">>> np.einsum('..., ...', 3, c)\n",
      "array([[ 0,  3,  6],\n",
      "       [ 9, 12, 15]])\n",
      ">>> np.einsum(',ij', 3, c)\n",
      "array([[ 0,  3,  6],\n",
      "       [ 9, 12, 15]])\n",
      ">>> np.einsum(3, [Ellipsis], c, [Ellipsis])\n",
      "array([[ 0,  3,  6],\n",
      "       [ 9, 12, 15]])\n",
      ">>> np.multiply(3, c)\n",
      "array([[ 0,  3,  6],\n",
      "       [ 9, 12, 15]])\n",
      "\n",
      "Vector outer product:\n",
      "\n",
      ">>> np.einsum('i,j', np.arange(2)+1, b)\n",
      "array([[0, 1, 2, 3, 4],\n",
      "       [0, 2, 4, 6, 8]])\n",
      ">>> np.einsum(np.arange(2)+1, [0], b, [1])\n",
      "array([[0, 1, 2, 3, 4],\n",
      "       [0, 2, 4, 6, 8]])\n",
      ">>> np.outer(np.arange(2)+1, b)\n",
      "array([[0, 1, 2, 3, 4],\n",
      "       [0, 2, 4, 6, 8]])\n",
      "\n",
      "Tensor contraction:\n",
      "\n",
      ">>> a = np.arange(60.).reshape(3,4,5)\n",
      ">>> b = np.arange(24.).reshape(4,3,2)\n",
      ">>> np.einsum('ijk,jil->kl', a, b)\n",
      "array([[4400., 4730.],\n",
      "       [4532., 4874.],\n",
      "       [4664., 5018.],\n",
      "       [4796., 5162.],\n",
      "       [4928., 5306.]])\n",
      ">>> np.einsum(a, [0,1,2], b, [1,0,3], [2,3])\n",
      "array([[4400., 4730.],\n",
      "       [4532., 4874.],\n",
      "       [4664., 5018.],\n",
      "       [4796., 5162.],\n",
      "       [4928., 5306.]])\n",
      ">>> np.tensordot(a,b, axes=([1,0],[0,1]))\n",
      "array([[4400., 4730.],\n",
      "       [4532., 4874.],\n",
      "       [4664., 5018.],\n",
      "       [4796., 5162.],\n",
      "       [4928., 5306.]])\n",
      "\n",
      "Writeable returned arrays (since version 1.10.0):\n",
      "\n",
      ">>> a = np.zeros((3, 3))\n",
      ">>> np.einsum('ii->i', a)[:] = 1\n",
      ">>> a\n",
      "array([[1., 0., 0.],\n",
      "       [0., 1., 0.],\n",
      "       [0., 0., 1.]])\n",
      "\n",
      "Example of ellipsis use:\n",
      "\n",
      ">>> a = np.arange(6).reshape((3,2))\n",
      ">>> b = np.arange(12).reshape((4,3))\n",
      ">>> np.einsum('ki,jk->ij', a, b)\n",
      "array([[10, 28, 46, 64],\n",
      "       [13, 40, 67, 94]])\n",
      ">>> np.einsum('ki,...k->i...', a, b)\n",
      "array([[10, 28, 46, 64],\n",
      "       [13, 40, 67, 94]])\n",
      ">>> np.einsum('k...,jk', a, b)\n",
      "array([[10, 28, 46, 64],\n",
      "       [13, 40, 67, 94]])\n",
      "\n",
      "Chained array operations. For more complicated contractions, speed ups\n",
      "might be achieved by repeatedly computing a 'greedy' path or pre-computing the\n",
      "'optimal' path and repeatedly applying it, using an\n",
      "`einsum_path` insertion (since version 1.12.0). Performance improvements can be\n",
      "particularly significant with larger arrays:\n",
      "\n",
      ">>> a = np.ones(64).reshape(2,4,8)\n",
      "\n",
      "Basic `einsum`: ~1520ms  (benchmarked on 3.1GHz Intel i5.)\n",
      "\n",
      ">>> for iteration in range(500):\n",
      "...     _ = np.einsum('ijk,ilm,njm,nlk,abc->',a,a,a,a,a)\n",
      "\n",
      "Sub-optimal `einsum` (due to repeated path calculation time): ~330ms\n",
      "\n",
      ">>> for iteration in range(500):\n",
      "...     _ = np.einsum('ijk,ilm,njm,nlk,abc->',a,a,a,a,a, optimize='optimal')\n",
      "\n",
      "Greedy `einsum` (faster optimal path approximation): ~160ms\n",
      "\n",
      ">>> for iteration in range(500):\n",
      "...     _ = np.einsum('ijk,ilm,njm,nlk,abc->',a,a,a,a,a, optimize='greedy')\n",
      "\n",
      "Optimal `einsum` (best usage pattern in some use cases): ~110ms\n",
      "\n",
      ">>> path = np.einsum_path('ijk,ilm,njm,nlk,abc->',a,a,a,a,a, optimize='optimal')[0]\n",
      ">>> for iteration in range(500):\n",
      "...     _ = np.einsum('ijk,ilm,njm,nlk,abc->',a,a,a,a,a, optimize=path)\n",
      "\u001b[0;31mFile:\u001b[0m      ~/anaconda3/envs/ler/lib/python3.10/site-packages/numpy/core/einsumfunc.py\n",
      "\u001b[0;31mType:\u001b[0m      function"
     ]
    }
   ],
   "source": [
    "def ra_dec_to_theta_phi(ra, dec, gmst):\n",
    "    phi = ra - gmst\n",
    "    theta = np.pi / 2 - dec\n",
    "    return theta, phi\n",
    "\n",
    "gmst = fmod(greenwich_mean_sidereal_time(time), 2 * np.pi)\n",
    "theta, phi = ra_dec_to_theta_phi(ra, dec, gmst)\n",
    "u = np.array([np.cos(phi) * np.cos(theta), np.cos(theta) * np.sin(phi), -np.sin(theta)])\n",
    "v = np.array([-np.sin(phi), np.cos(phi), 0])\n",
    "m = -u * np.sin(psi) - v * np.cos(psi)\n",
    "n = -u * np.cos(psi) + v * np.sin(psi)"
   ]
  },
  {
   "cell_type": "code",
   "execution_count": 42,
   "metadata": {},
   "outputs": [
    {
     "name": "stdout",
     "output_type": "stream",
     "text": [
      "Greenwich Mean Sidereal Time (radians): -47164.653466816046\n"
     ]
    }
   ],
   "source": [
    "import datetime\n",
    "\n",
    "def GPS_to_JulianDay(gps_time):\n",
    "    utc_time = datetime.datetime.fromtimestamp(gps_time)\n",
    "    julian_day = 2440587.5 + (utc_time - datetime.datetime(2000, 1, 1)).total_seconds() / 86400.0\n",
    "    return julian_day\n",
    "\n",
    "def GreenwichMeanSiderealTime(gps_time, equation_of_equinoxes):\n",
    "    # Convert GPS time to Julian Day\n",
    "    julian_day = GPS_to_JulianDay(gps_time)\n",
    "\n",
    "    # Calculate centuries since J2000 epoch\n",
    "    t = (julian_day - 2451545.0) / 36525.0\n",
    "\n",
    "    # Calculate GMST in seconds\n",
    "    gmst = 67310.54841 + (876600.0 * 3600.0 + 8640184.812866) * t + 0.093104 * t**2 - 6.2e-6 * t**3\n",
    "\n",
    "    # Add equation of equinoxes in seconds\n",
    "    gmst += equation_of_equinoxes\n",
    "\n",
    "    # Convert GMST to radians\n",
    "    gmst_radians = gmst * (2 * 3.14159265358979323846) / 86400.0\n",
    "\n",
    "    return gmst_radians\n",
    "\n",
    "# Example usage:\n",
    "gps_time = 1246527184.169434  # Replace with your GPS time in seconds\n",
    "equation_of_equinoxes = 0  # Replace with your equation of equinoxes in seconds\n",
    "gmst_radians = GreenwichMeanSiderealTime(gps_time, equation_of_equinoxes)\n",
    "print(\"Greenwich Mean Sidereal Time (radians):\", gmst_radians)\n",
    "\n",
    "\n"
   ]
  },
  {
   "cell_type": "code",
   "execution_count": null,
   "metadata": {},
   "outputs": [],
   "source": [
    "365*24*60*60*50"
   ]
  },
  {
   "cell_type": "code",
   "execution_count": 95,
   "metadata": {},
   "outputs": [],
   "source": [
    "import bilby\n",
    "import numpy as np\n",
    "from numba import njit, jit\n",
    "\n",
    "C = 299792458.0\n",
    "G = 6.67408 * 1e-11\n",
    "Mo = 1.989 * 1e30\n",
    "Gamma = 0.5772156649015329\n",
    "Pi = np.pi\n",
    "MTSUN_SI = 4.925491025543576e-06"
   ]
  },
  {
   "cell_type": "code",
   "execution_count": 23,
   "metadata": {},
   "outputs": [],
   "source": [
    "@njit\n",
    "def einsum1(m,n):\n",
    "    ans = np.zeros((3,3))\n",
    "    ans[0,0] = m[0]*n[0]\n",
    "    ans[0,1] = m[0]*n[1]\n",
    "    ans[0,2] = m[0]*n[2]\n",
    "    ans[1,0] = m[1]*n[0]\n",
    "    ans[1,1] = m[1]*n[1]\n",
    "    ans[1,2] = m[1]*n[2]\n",
    "    ans[2,0] = m[2]*n[0]\n",
    "    ans[2,1] = m[2]*n[1]\n",
    "    ans[2,2] = m[2]*n[2]\n",
    "    return ans\n",
    "@njit\n",
    "def einsum2(m,n):\n",
    "    ans = m[0,0]*n[0,0] + m[0,1]*n[0,1] + m[0,2]*n[0,2] + m[1,0]*n[1,0] + m[1,1]*n[1,1] + m[1,2]*n[1,2] + m[2,0]*n[2,0] + m[2,1]*n[2,1] + m[2,2]*n[2,2]\n",
    "    return ans\n",
    "\n",
    "@njit\n",
    "def gps_to_gmst(gps_time):\n",
    "    slope = 7.292115855382993e-05\n",
    "    time0 = 1126259642.413\n",
    "    time = gps_time - time0\n",
    "    return slope*time+36137.068361399164\n",
    "\n",
    "@njit\n",
    "def ra_dec_to_theta_phi(ra, dec, gmst):\n",
    "    phi = ra - gmst\n",
    "    theta = np.pi / 2.0 - dec\n",
    "    return theta, phi\n",
    "\n",
    "@njit\n",
    "def get_polarization_tensor(ra, dec, time, psi, mode='plus'):\n",
    "    gmst = np.fmod(gps_to_gmst(time), 2 * np.pi)\n",
    "    theta, phi = ra_dec_to_theta_phi(ra, dec, gmst)\n",
    "    u = np.array([np.cos(phi) * np.cos(theta), np.cos(theta) * np.sin(phi), -np.sin(theta)])\n",
    "    v = np.array([-np.sin(phi), np.cos(phi), 0])\n",
    "    m = -u * np.sin(psi) - v * np.cos(psi)\n",
    "    n = -u * np.cos(psi) + v * np.sin(psi)\n",
    "\n",
    "    if mode == 'plus':\n",
    "        return einsum1(m, m) - einsum1(n, n)\n",
    "    elif mode == 'cross':\n",
    "        return einsum1(m, n) + einsum1(n, m)\n",
    "\n",
    "@njit\n",
    "def antenna_response(ra, dec, time, psi, detector_tensor, mode='plus'):\n",
    "\n",
    "    polarization_tensor = get_polarization_tensor(ra, dec, time, psi, mode=mode)\n",
    "    return einsum2(detector_tensor, polarization_tensor)\n",
    "\n",
    "@njit\n",
    "def antenna_response_array(ra, dec, time, psi, detector_tensor, mode='plus'):\n",
    "\n",
    "    polarization_tensor = get_polarization_tensor(ra, dec, time, psi, mode=mode)\n",
    "    ans=einsum2(detector_tensor, polarization_tensor)"
   ]
  },
  {
   "cell_type": "code",
   "execution_count": 24,
   "metadata": {},
   "outputs": [],
   "source": [
    "# define values\n",
    "time = 1126259642.413\n",
    "ra = 1.375\n",
    "dec = -1.2108\n",
    "psi = 0.1\n",
    "mode = \"plus\"\n",
    "ifos = bilby.gw.detector.InterferometerList(['H1', 'L1'])\n",
    "detector_tensor = ifos[0].detector_tensor"
   ]
  },
  {
   "cell_type": "code",
   "execution_count": 26,
   "metadata": {},
   "outputs": [
    {
     "data": {
      "text/plain": [
       "0.5911086754190837"
      ]
     },
     "execution_count": 26,
     "metadata": {},
     "output_type": "execute_result"
    }
   ],
   "source": [
    "antenna_response(ra, dec, time, psi, detector_tensor, mode='cross')"
   ]
  },
  {
   "cell_type": "code",
   "execution_count": 34,
   "metadata": {},
   "outputs": [
    {
     "data": {
      "text/plain": [
       "{'waveform_approximant': 'IMRPhenomPv2',\n",
       " 'reference_frequency': 50.0,\n",
       " 'minimum_frequency': 20.0,\n",
       " 'catch_waveform_errors': True}"
      ]
     },
     "execution_count": 34,
     "metadata": {},
     "output_type": "execute_result"
    }
   ],
   "source": [
    "waveform_arguments"
   ]
  },
  {
   "cell_type": "code",
   "execution_count": 1,
   "metadata": {},
   "outputs": [],
   "source": [
    "from bilby.gw.utils import (lalsim_GetApproximantFromString,\n",
    "                    lalsim_SimInspiralFD,\n",
    "                    lalsim_SimInspiralChooseFDWaveform,\n",
    "                    lalsim_SimInspiralWaveformParamsInsertTidalLambda1,\n",
    "                    lalsim_SimInspiralWaveformParamsInsertTidalLambda2,\n",
    "                    lalsim_SimInspiralChooseFDWaveformSequence)\n",
    "import lal\n",
    "import lalsimulation as lalsim\n",
    "from bilby.gw.conversion import bilby_to_lalsimulation_spins\n",
    "\n",
    "parsec = 3.085677581491367e+16\n",
    "solar_mass = 1.9884098706980507e+30"
   ]
  },
  {
   "cell_type": "code",
   "execution_count": 10,
   "metadata": {},
   "outputs": [
    {
     "data": {
      "text/plain": [
       "array([0.00000e+00, 2.50000e-01, 5.00000e-01, ..., 1.02350e+03,\n",
       "       1.02375e+03, 1.02400e+03])"
      ]
     },
     "execution_count": 10,
     "metadata": {},
     "output_type": "execute_result"
    }
   ],
   "source": [
    "waveform_generator.frequency_array"
   ]
  },
  {
   "cell_type": "code",
   "execution_count": 30,
   "metadata": {},
   "outputs": [],
   "source": [
    "# inlcude maximum frequency\n",
    "num_samples = int((1024 - 0) / (1/4)) + 1\n",
    "arr_ = np.linspace(0, 1024, num_samples)"
   ]
  },
  {
   "cell_type": "code",
   "execution_count": 24,
   "metadata": {},
   "outputs": [
    {
     "data": {
      "text/plain": [
       "array(1)"
      ]
     },
     "execution_count": 24,
     "metadata": {},
     "output_type": "execute_result"
    }
   ],
   "source": [
    "# first non-zero value in an array \n",
    "def first_nonzero(arr, axis, invalid_val=-1):\n",
    "    mask = arr!=0\n",
    "    return np.where(mask.any(axis=axis), mask.argmax(axis=axis), invalid_val)\n",
    "\n",
    "first_nonzero(waveform_generator.frequency_array, axis=0)"
   ]
  },
  {
   "cell_type": "code",
   "execution_count": null,
   "metadata": {},
   "outputs": [],
   "source": []
  },
  {
   "cell_type": "code",
   "execution_count": 31,
   "metadata": {},
   "outputs": [
    {
     "data": {
      "text/plain": [
       "0.0"
      ]
     },
     "execution_count": 31,
     "metadata": {},
     "output_type": "execute_result"
    }
   ],
   "source": [
    "np.sum(waveform_generator.frequency_array-arr_)"
   ]
  },
  {
   "cell_type": "code",
   "execution_count": 39,
   "metadata": {},
   "outputs": [],
   "source": [
    "approximant='IMRPhenomXPHM'\n",
    "duration = 4.\n",
    "df = 1.0 / duration\n",
    "sampling_frequency = 2048.\n",
    "f_min=20.0\n",
    "f_max=sampling_frequency/2\n",
    "num_samples = int(f_max / df) + 1\n",
    "frequency_array = np.linspace(0, f_max, num_samples)\n",
    "mass_1 = 36.0\n",
    "mass_2 = 29.0\n",
    "luminosity_distance = 200.0\n",
    "theta_jn = 0.4\n",
    "phase = 1.2\n",
    "a_1=0.4\n",
    "a_2=0.3\n",
    "tilt_1=0.5\n",
    "tilt_2=1.0\n",
    "phi_12=1.7\n",
    "phi_jl=0.3\n",
    "# a_1=0.0\n",
    "# a_2=0.0\n",
    "# tilt_1=0.0\n",
    "# tilt_2=0.0\n",
    "# phi_12=0.0\n",
    "# phi_jl=0.0\n",
    "lambda_1=0.0\n",
    "lambda_2=0.0\n",
    "eccentricity=0.0\n",
    "\n",
    "waveform_kwargs = dict(\n",
    "        waveform_approximant=approximant, reference_frequency=20.0,\n",
    "        minimum_frequency=f_min, maximum_frequency=frequency_array[-1],\n",
    "        catch_waveform_errors=False, pn_spin_order=-1, pn_tidal_order=-1,\n",
    "        pn_phase_order=-1, pn_amplitude_order=0)\n",
    "\n",
    "waveform_approximant = waveform_kwargs['waveform_approximant']\n",
    "reference_frequency = waveform_kwargs['reference_frequency']\n",
    "minimum_frequency = waveform_kwargs['minimum_frequency']\n",
    "maximum_frequency = waveform_kwargs['maximum_frequency']\n",
    "catch_waveform_errors = waveform_kwargs['catch_waveform_errors']\n",
    "pn_spin_order = waveform_kwargs['pn_spin_order']\n",
    "pn_tidal_order = waveform_kwargs['pn_tidal_order']\n",
    "pn_phase_order = waveform_kwargs['pn_phase_order']\n",
    "pn_amplitude_order = waveform_kwargs['pn_amplitude_order']\n",
    "waveform_dictionary = waveform_kwargs.get(\n",
    "    'lal_waveform_dictionary', lal.CreateDict()\n",
    ")\n",
    "approximant = lalsim_GetApproximantFromString(waveform_approximant)\n",
    "start_frequency = minimum_frequency\n",
    "delta_frequency = frequency_array[1] - frequency_array[0]\n",
    "\n",
    "frequency_bounds = ((frequency_array >= minimum_frequency) *\n",
    "                        (frequency_array <= maximum_frequency))\n",
    "luminosity_distance = luminosity_distance * 1e6 * parsec\n",
    "mass_1 = mass_1 * solar_mass\n",
    "mass_2 = mass_2 * solar_mass\n",
    "\n",
    "iota, spin_1x, spin_1y, spin_1z, spin_2x, spin_2y, spin_2z = bilby_to_lalsimulation_spins(\n",
    "        theta_jn=theta_jn, phi_jl=phi_jl, tilt_1=tilt_1, tilt_2=tilt_2,\n",
    "        phi_12=phi_12, a_1=a_1, a_2=a_2, mass_1=mass_1, mass_2=mass_2,\n",
    "        reference_frequency=reference_frequency, phase=phase)\n",
    "\n",
    "longitude_ascending_nodes = 0.0\n",
    "mean_per_ano = 0.0\n",
    "\n",
    "lalsim.SimInspiralWaveformParamsInsertPNSpinOrder(\n",
    "    waveform_dictionary, int(pn_spin_order))\n",
    "lalsim.SimInspiralWaveformParamsInsertPNTidalOrder(\n",
    "    waveform_dictionary, int(pn_tidal_order))\n",
    "lalsim.SimInspiralWaveformParamsInsertPNPhaseOrder(\n",
    "    waveform_dictionary, int(pn_phase_order))\n",
    "lalsim.SimInspiralWaveformParamsInsertPNAmplitudeOrder(\n",
    "    waveform_dictionary, int(pn_amplitude_order))\n",
    "lalsim_SimInspiralWaveformParamsInsertTidalLambda1(\n",
    "    waveform_dictionary, lambda_1)\n",
    "lalsim_SimInspiralWaveformParamsInsertTidalLambda2(\n",
    "    waveform_dictionary, lambda_2)\n",
    "\n",
    "if lalsim.SimInspiralImplementedFDApproximants(approximant):\n",
    "    wf_func = lalsim_SimInspiralChooseFDWaveform\n",
    "else:\n",
    "    wf_func = lalsim_SimInspiralFD\n",
    "\n",
    "hplus, hcross = wf_func(\n",
    "    mass_1, mass_2, spin_1x, spin_1y, spin_1z, spin_2x, spin_2y,\n",
    "    spin_2z, luminosity_distance, iota, phase,\n",
    "    longitude_ascending_nodes, eccentricity, mean_per_ano, delta_frequency,\n",
    "    start_frequency, maximum_frequency, reference_frequency,\n",
    "    waveform_dictionary, approximant)\n"
   ]
  },
  {
   "cell_type": "code",
   "execution_count": 40,
   "metadata": {},
   "outputs": [
    {
     "data": {
      "text/plain": [
       "0.017225649380610542"
      ]
     },
     "execution_count": 40,
     "metadata": {},
     "output_type": "execute_result"
    }
   ],
   "source": [
    "spin_1x"
   ]
  },
  {
   "cell_type": "code",
   "execution_count": 38,
   "metadata": {},
   "outputs": [
    {
     "data": {
      "text/plain": [
       "0.04510383632050702"
      ]
     },
     "execution_count": 38,
     "metadata": {},
     "output_type": "execute_result"
    }
   ],
   "source": [
    "spin_1x"
   ]
  },
  {
   "cell_type": "code",
   "execution_count": 35,
   "metadata": {},
   "outputs": [
    {
     "data": {
      "text/plain": [
       "4097"
      ]
     },
     "execution_count": 35,
     "metadata": {},
     "output_type": "execute_result"
    }
   ],
   "source": [
    "len(hplus.data.data)"
   ]
  },
  {
   "cell_type": "code",
   "execution_count": 36,
   "metadata": {},
   "outputs": [],
   "source": [
    "size = 1000\n",
    "mass_1_ = 36.0*np.ones(size)* solar_mass\n",
    "mass_2_ = 29.0*np.ones(size)* solar_mass\n",
    "luminosity_distance_ = 200.0*np.ones(size)* 1e6 * parsec\n",
    "theta_jn_ = 0.4*np.ones(size)\n",
    "phase_ = 1.2*np.ones(size)\n",
    "a_1_=0.4*np.ones(size)\n",
    "a_2_=0.3*np.ones(size)\n",
    "tilt_1_=0.5*np.ones(size)\n",
    "tilt_2_=1.0*np.ones(size)\n",
    "phi_12_=1.7*np.ones(size)\n",
    "phi_jl_=0.3*np.ones(size)\n",
    "lambda_1_=0.0*np.ones(size)\n",
    "lambda_2_=0.0*np.ones(size)\n",
    "eccentricity_=0.0*np.ones(size)\n",
    "\n",
    "hplus_arr, hcross_arr = [],[]\n",
    "zero_complex_arr = np.zeros_like(frequency_array, dtype=complex)\n",
    "\n",
    "for i in range(size):\n",
    "        mass_1 = mass_1_[i]\n",
    "        mass_2 = mass_2_[i]\n",
    "        luminosity_distance = luminosity_distance_[i]\n",
    "        theta_jn = theta_jn_[i]\n",
    "        phase = phase_[i]\n",
    "        a_1=a_1_[i]\n",
    "        a_2=a_2_[i]\n",
    "        tilt_1=tilt_1_[i]\n",
    "        tilt_2=tilt_2_[i]\n",
    "        phi_12=phi_12_[i]\n",
    "        phi_jl=phi_jl_[i]\n",
    "        lambda_1=lambda_1_[i]\n",
    "        lambda_2=lambda_2_[i]\n",
    "        eccentricity=eccentricity_[i]\n",
    "\n",
    "        iota, spin_1x, spin_1y, spin_1z, spin_2x, spin_2y, spin_2z =\\\n",
    "        bilby_to_lalsimulation_spins(\n",
    "        theta_jn=theta_jn, phi_jl=phi_jl, tilt_1=tilt_1, tilt_2=tilt_2,\n",
    "        phi_12=phi_12, a_1=a_1, a_2=a_2, mass_1=mass_1, mass_2=mass_2,\n",
    "        reference_frequency=reference_frequency, phase=phase)\n",
    "\n",
    "        hplus, hcross = wf_func(mass_1, mass_2, spin_1x, spin_1y, spin_1z, spin_2x, spin_2y,spin_2z, luminosity_distance, iota, phase,longitude_ascending_nodes, eccentricity, mean_per_ano, delta_frequency,start_frequency, maximum_frequency, reference_frequency,waveform_dictionary, approximant)\n",
    "\n",
    "        h_plus = zero_complex_arr\n",
    "        h_cross = zero_complex_arr\n",
    "        h_plus[:len(hplus.data.data)] = hplus.data.data\n",
    "        h_cross[:len(hcross.data.data)] = hcross.data.data\n",
    "        h_plus *= frequency_bounds\n",
    "        h_cross *= frequency_bounds\n",
    "        hplus_arr.append(h_plus)\n",
    "        hcross_arr.append(h_cross)\n",
    "\n",
    "# now do it with multiprocessing"
   ]
  },
  {
   "cell_type": "markdown",
   "metadata": {},
   "source": [
    "* 53.4s for 10,000 samples"
   ]
  },
  {
   "cell_type": "code",
   "execution_count": null,
   "metadata": {},
   "outputs": [],
   "source": [
    "\n",
    "        hplus, hcross = wf_func(mass_1, mass_2, spin_1x, spin_1y, spin_1z, spin_2x, spin_2y,spin_2z, luminosity_distance, iota, phase,longitude_ascending_nodes, eccentricity, mean_per_ano, delta_frequency,start_frequency, maximum_frequency, reference_frequency,waveform_dictionary, approximant)\n",
    "        h_plus = zero_complex_arr\n",
    "        h_cross = zero_complex_arr\n",
    "        h_plus[:len(hplus.data.data)] = hplus.data.data\n",
    "        h_cross[:len(hcross.data.data)] = hcross.data.data\n",
    "        h_plus *= frequency_bounds\n",
    "        h_cross *= frequency_bounds\n",
    "        hplus_arr.append(h_plus)\n",
    "        hcross_arr.append(h_cross)"
   ]
  },
  {
   "cell_type": "code",
   "execution_count": 86,
   "metadata": {},
   "outputs": [],
   "source": [
    "h_plus = np.zeros_like(frequency_array, dtype=complex)\n",
    "h_cross = np.zeros_like(frequency_array, dtype=complex)\n",
    "h_plus[:len(hplus.data.data)] = hplus.data.data\n",
    "h_cross[:len(hcross.data.data)] = hcross.data.data"
   ]
  },
  {
   "cell_type": "code",
   "execution_count": 87,
   "metadata": {},
   "outputs": [
    {
     "data": {
      "text/plain": [
       "array([0.+0.j, 0.+0.j, 0.+0.j, ..., 0.+0.j, 0.+0.j, 0.+0.j])"
      ]
     },
     "execution_count": 87,
     "metadata": {},
     "output_type": "execute_result"
    }
   ],
   "source": [
    "def transform_precessing_spins(theta_jn, phi_jl, tilt_1, tilt_2, phi_12, a_1,\n",
    "                               a_2, mass_1, mass_2, reference_frequency, phase):\n",
    "\n",
    "    iota, spin_1x, spin_1y, spin_1z, spin_2x, spin_2y, spin_2z = (\n",
    "        lalsim_SimInspiralTransformPrecessingNewInitialConditions(\n",
    "            theta_jn, phi_jl, tilt_1, tilt_2, phi_12, a_1, a_2, mass_1, mass_2,\n",
    "            reference_frequency, phase))\n",
    "\n",
    "    return iota, spin_1x, spin_1y, spin_1z, spin_2x, spin_2y, spin_2z"
   ]
  },
  {
   "cell_type": "code",
   "execution_count": null,
   "metadata": {},
   "outputs": [],
   "source": []
  },
  {
   "cell_type": "code",
   "execution_count": null,
   "metadata": {},
   "outputs": [],
   "source": []
  }
 ],
 "metadata": {
  "kernelspec": {
   "display_name": "ler",
   "language": "python",
   "name": "ler"
  },
  "language_info": {
   "codemirror_mode": {
    "name": "ipython",
    "version": 3
   },
   "file_extension": ".py",
   "mimetype": "text/x-python",
   "name": "python",
   "nbconvert_exporter": "python",
   "pygments_lexer": "ipython3",
   "version": "3.10.12"
  }
 },
 "nbformat": 4,
 "nbformat_minor": 2
}
