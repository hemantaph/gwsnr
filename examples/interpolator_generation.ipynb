{
 "cells": [
  {
   "cell_type": "markdown",
   "metadata": {},
   "source": [
    "## Interpolation for Non Spinning Systems\n",
    "\n",
    "- IMRPhenomD waveform model will be used for the interpolation method.\n",
    "- You can either use `numba` or `jax` acceleration. Defult is `numba`. "
   ]
  },
  {
   "cell_type": "code",
   "execution_count": null,
   "metadata": {},
   "outputs": [
    {
     "name": "stdout",
     "output_type": "stream",
     "text": [
      "\n",
      "Initializing GWSNR class...\n",
      "\n",
      "psds not given. Choosing bilby's default psds\n",
      "Interpolator will be generated for L1 detector at ./interpolator_pickle/L1/partialSNR_dict_0.pickle\n",
      "Interpolator will be generated for H1 detector at ./interpolator_pickle/H1/partialSNR_dict_0.pickle\n",
      "Interpolator will be generated for V1 detector at ./interpolator_pickle/V1/partialSNR_dict_0.pickle\n",
      "Please be patient while the interpolator is generated\n",
      "Generating interpolator for ['L1', 'H1', 'V1'] detectors\n"
     ]
    },
    {
     "name": "stderr",
     "output_type": "stream",
     "text": [
      "100%|█████████████████████████████████████████████████████| 399700/399700 [02:38<00:00, 2523.20it/s]\n"
     ]
    },
    {
     "name": "stdout",
     "output_type": "stream",
     "text": [
      "\n",
      "Saving Partial-SNR for L1 detector with shape (20, 200, 10, 10)\n",
      "\n",
      "Saving Partial-SNR for H1 detector with shape (20, 200, 10, 10)\n",
      "\n",
      "Saving Partial-SNR for V1 detector with shape (20, 200, 10, 10)\n",
      "\n",
      "\n",
      "Interpolation results: \n",
      "solving SNR with interpolation\n",
      "{'L1': array([ 7.40731059, 11.59641254, 31.02869678, 26.58481193]), 'H1': array([ 4.71128664,  7.37568958, 19.73524438, 16.90879137]), 'V1': array([2.22235351, 3.44027845, 9.33233743, 7.85672107]), 'optimal_snr_net': array([ 9.05556885, 14.16732495, 37.9387983 , 32.47133377])}\n",
      "\n",
      " Inner product results: \n"
     ]
    },
    {
     "name": "stderr",
     "output_type": "stream",
     "text": [
      "100%|█████████████████████████████████████████████████████████████████| 4/4 [00:00<00:00, 13.14it/s]"
     ]
    },
    {
     "name": "stdout",
     "output_type": "stream",
     "text": [
      "{'L1': array([ 7.40709512, 11.59602211, 31.03567109, 26.59869097]), 'H1': array([ 4.7111496 ,  7.37544125, 19.73968027, 16.91761888]), 'V1': array([2.22230853, 3.44041035, 9.33473625, 7.86132463]), 'optimal_snr_net': array([ 9.05531026, 14.16690812, 37.94739989, 32.48840739])}\n"
     ]
    },
    {
     "name": "stderr",
     "output_type": "stream",
     "text": [
      "\n"
     ]
    }
   ],
   "source": [
    "from gwsnr import GWSNR\n",
    "\n",
    "# initializing the GWSNR class with default configuration and interpolation method\n",
    "# for non-spinning IMRPhenomD waveform \n",
    "gwsnr_no_spins = GWSNR(\n",
    "    npool=8,\n",
    "    snr_type='interpolation_aligned_spins', # or 'interpolation_no_spins_jax'\n",
    "    gwsnr_verbose=False,\n",
    "    waveform_approximant='IMRPhenomD',\n",
    ")"
   ]
  },
  {
   "cell_type": "code",
   "execution_count": null,
   "metadata": {},
   "outputs": [
    {
     "name": "stdout",
     "output_type": "stream",
     "text": [
      "\n",
      "Initializing GWSNR class...\n",
      "\n",
      "psds not given. Choosing bilby's default psds\n",
      "Intel processor has trouble allocating memory when the data is huge. So, by default for IMRPhenomXPHM, duration_max = 64.0. Otherwise, set to some max value like duration_max = 600.0 (10 mins)\n",
      "Interpolator will be loaded for L1 detector from ./interpolator_pickle/L1/partialSNR_dict_1.pickle\n",
      "Interpolator will be loaded for H1 detector from ./interpolator_pickle/H1/partialSNR_dict_1.pickle\n",
      "Interpolator will be loaded for V1 detector from ./interpolator_pickle/V1/partialSNR_dict_1.pickle\n",
      "\n",
      "Chosen GWSNR initialization parameters:\n",
      "\n",
      "npool:  8\n",
      "snr type:  interpolation_aligned_spins\n",
      "waveform approximant:  IMRPhenomXPHM\n",
      "sampling frequency:  2048.0\n",
      "minimum frequency (fmin):  20.0\n",
      "mtot=mass1+mass2\n",
      "min(mtot):  9.96\n",
      "max(mtot) (with the given fmin=20.0): 235.0\n",
      "detectors:  ['L1', 'H1', 'V1']\n",
      "psds:  [PowerSpectralDensity(psd_file='None', asd_file='/Users/phurailatpamhemantakumar/anaconda3/envs/ler/lib/python3.10/site-packages/bilby/gw/detector/noise_curves/aLIGO_O4_high_asd.txt'), PowerSpectralDensity(psd_file='None', asd_file='/Users/phurailatpamhemantakumar/anaconda3/envs/ler/lib/python3.10/site-packages/bilby/gw/detector/noise_curves/aLIGO_O4_high_asd.txt'), PowerSpectralDensity(psd_file='None', asd_file='/Users/phurailatpamhemantakumar/anaconda3/envs/ler/lib/python3.10/site-packages/bilby/gw/detector/noise_curves/AdV_asd.txt')]\n",
      "\n",
      "\n"
     ]
    }
   ],
   "source": [
    "from gwsnr import GWSNR\n",
    "\n",
    "gwsnr_no_spins = GWSNR(\n",
    "    npool=8,\n",
    "    snr_type='interpolation_aligned_spins', # or 'interpolation_no_spins_jax'\n",
    "    waveform_approximant='IMRPhenomXPHM',\n",
    ")"
   ]
  },
  {
   "cell_type": "code",
   "execution_count": null,
   "metadata": {},
   "outputs": [
    {
     "name": "stdout",
     "output_type": "stream",
     "text": [
      "\n",
      "Initializing GWSNR class...\n",
      "\n",
      "Interpolator will be generated for CE detector at ./interpolator_pickle/CE/partialSNR_dict_0.pickle\n",
      "Interpolator will be generated for ET1 detector at ./interpolator_pickle/ET1/partialSNR_dict_0.pickle\n",
      "Interpolator will be generated for ET2 detector at ./interpolator_pickle/ET2/partialSNR_dict_0.pickle\n",
      "Interpolator will be generated for ET3 detector at ./interpolator_pickle/ET3/partialSNR_dict_0.pickle\n",
      "Please be patient while the interpolator is generated\n",
      "Generating interpolator for ['CE', 'ET1', 'ET2', 'ET3'] detectors\n"
     ]
    },
    {
     "name": "stderr",
     "output_type": "stream",
     "text": [
      "100%|█████████████████████████████████████████████████████| 399700/399700 [03:48<00:00, 1751.47it/s]\n"
     ]
    },
    {
     "name": "stdout",
     "output_type": "stream",
     "text": [
      "\n",
      "Saving Partial-SNR for CE detector with shape (20, 200, 10, 10)\n",
      "\n",
      "Saving Partial-SNR for ET1 detector with shape (20, 200, 10, 10)\n",
      "\n",
      "Saving Partial-SNR for ET2 detector with shape (20, 200, 10, 10)\n",
      "\n",
      "Saving Partial-SNR for ET3 detector with shape (20, 200, 10, 10)\n",
      "\n",
      "\n"
     ]
    }
   ],
   "source": [
    "from gwsnr import GWSNR\n",
    "\n",
    "gwsnr = GWSNR(\n",
    "    npool=8,\n",
    "    snr_type='interpolation_aligned_spins', # or 'interpolation_no_spins_jax'\n",
    "    gwsnr_verbose=False,\n",
    "    waveform_approximant='IMRPhenomD',\n",
    "    minimum_frequency = 10.,\n",
    "    #psds = {'CE':'CE_psd.txt', 'ET':'ET_B_psd.txt'}, # if you want to use your own psd\n",
    "    ifos = ['CE', 'ET'],  # this will considet bilby's default psd of CE and ET\n",
    ")"
   ]
  },
  {
   "cell_type": "code",
   "execution_count": null,
   "metadata": {},
   "outputs": [
    {
     "name": "stdout",
     "output_type": "stream",
     "text": [
      "\n",
      "Initializing GWSNR class...\n",
      "\n",
      "psds not given. Choosing bilby's default psds\n",
      "Interpolator will be generated for L1 detector at ./interpolator_pickle/L1/partialSNR_dict_2.pickle\n",
      "Interpolator will be generated for H1 detector at ./interpolator_pickle/H1/partialSNR_dict_2.pickle\n",
      "Interpolator will be generated for V1 detector at ./interpolator_pickle/V1/partialSNR_dict_2.pickle\n",
      "Please be patient while the interpolator is generated\n",
      "Generating interpolator for ['L1', 'H1', 'V1'] detectors\n"
     ]
    },
    {
     "name": "stderr",
     "output_type": "stream",
     "text": [
      "100%|█████████████████████████████████████████████████████████| 3997/3997 [00:02<00:00, 1803.28it/s]"
     ]
    },
    {
     "name": "stdout",
     "output_type": "stream",
     "text": [
      "\n",
      "Saving Partial-SNR for L1 detector with shape (20, 200)\n",
      "\n",
      "Saving Partial-SNR for H1 detector with shape (20, 200)\n",
      "\n",
      "Saving Partial-SNR for V1 detector with shape (20, 200)\n",
      "\n",
      "\n"
     ]
    },
    {
     "name": "stderr",
     "output_type": "stream",
     "text": [
      "\n"
     ]
    }
   ],
   "source": [
    "from gwsnr import GWSNR\n",
    "\n",
    "gwsnr_no_spins = GWSNR(\n",
    "    npool=8,\n",
    "    snr_type='interpolation_no_spins', # or 'interpolation_no_spins_jax'\n",
    "    gwsnr_verbose=False,\n",
    "    waveform_approximant='IMRPhenomD',\n",
    ")"
   ]
  },
  {
   "cell_type": "code",
   "execution_count": null,
   "metadata": {},
   "outputs": [],
   "source": []
  }
 ],
 "metadata": {
  "kernelspec": {
   "display_name": "ler",
   "language": "python",
   "name": "ler"
  },
  "language_info": {
   "codemirror_mode": {
    "name": "ipython",
    "version": 3
   },
   "file_extension": ".py",
   "mimetype": "text/x-python",
   "name": "python",
   "nbconvert_exporter": "python",
   "pygments_lexer": "ipython3",
   "version": "3.10.18"
  }
 },
 "nbformat": 4,
 "nbformat_minor": 2
}
