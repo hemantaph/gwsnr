{
 "cells": [
  {
   "cell_type": "markdown",
   "metadata": {},
   "source": [
    "## Interpolation for Non Spinning Systems\n",
    "\n",
    "- IMRPhenomD waveform model will be used for the interpolation method.\n",
    "- You can either use `numba` or `jax` acceleration. Defult is `numba`. "
   ]
  },
  {
   "cell_type": "code",
   "execution_count": 1,
   "metadata": {},
   "outputs": [
    {
     "name": "stdout",
     "output_type": "stream",
     "text": [
      "GWSNR: Setting multiprocessing start method to 'fork'.\n",
      "If you need to use the 'spawn' method (in case error or warning due to other library dependencies),\n",
      "set the environment variable GWSNR_USE_SPAWN=True *before* running your script.\n",
      "Command line (single line):\n",
      "    GWSNR_USE_SPAWN=True python yourscript.py\n",
      "In a Python script (before importing GWSNR):\n",
      "    import os\n",
      "    os.environ['GWSNR_USE_SPAWN'] = 'True'\n",
      "    import gwsnr\n",
      "\n",
      "\n",
      "Initializing GWSNR class...\n",
      "\n",
      "psds not given. Choosing bilby's default psds\n",
      "[]\n",
      "{'mtot_min': 9.96, 'mtot_max': 235.0, 'mtot_resolution': 200, 'ratio_min': 0.1, 'ratio_max': 1.0, 'ratio_resolution': 20, 'sampling_frequency': 2048.0, 'waveform_approximant': 'IMRPhenomD', 'minimum_frequency': 20.0, 'detector': 'L1', 'psds': '[4.43925574e-41 4.22777986e-41 4.02102594e-41 ... 6.51153524e-46\\n 6.43165104e-46 6.55252996e-46]', 'detector_tensor': '[[ 0.41128086  0.14021027  0.24729459]\\n [ 0.14021027 -0.10900569 -0.18161563]\\n [ 0.24729459 -0.18161563 -0.30227517]]', 'spin_max': 0.99, 'spin_resolution': 10}\n",
      "Interpolator will be generated for L1 detector at ./interpolator_pickle/L1/partialSNR_dict_0.pickle\n",
      "[]\n",
      "{'mtot_min': 9.96, 'mtot_max': 235.0, 'mtot_resolution': 200, 'ratio_min': 0.1, 'ratio_max': 1.0, 'ratio_resolution': 20, 'sampling_frequency': 2048.0, 'waveform_approximant': 'IMRPhenomD', 'minimum_frequency': 20.0, 'detector': 'H1', 'psds': '[4.43925574e-41 4.22777986e-41 4.02102594e-41 ... 6.51153524e-46\\n 6.43165104e-46 6.55252996e-46]', 'detector_tensor': '[[-0.3926141  -0.07761341 -0.24738904]\\n [-0.07761341  0.31952407  0.22799783]\\n [-0.24738904  0.22799783  0.07309003]]', 'spin_max': 0.99, 'spin_resolution': 10}\n",
      "Interpolator will be generated for H1 detector at ./interpolator_pickle/H1/partialSNR_dict_0.pickle\n",
      "[]\n",
      "{'mtot_min': 9.96, 'mtot_max': 235.0, 'mtot_resolution': 200, 'ratio_min': 0.1, 'ratio_max': 1.0, 'ratio_resolution': 20, 'sampling_frequency': 2048.0, 'waveform_approximant': 'IMRPhenomD', 'minimum_frequency': 20.0, 'detector': 'V1', 'psds': '[1.22674387e-42 1.20400299e-42 1.18169466e-42 ... 1.51304203e-43\\n 1.52010157e-43 1.52719372e-43]', 'detector_tensor': '[[ 0.24387404 -0.09908378 -0.23257622]\\n [-0.09908378 -0.44782584  0.1878331 ]\\n [-0.23257622  0.1878331   0.2039518 ]]', 'spin_max': 0.99, 'spin_resolution': 10}\n",
      "Interpolator will be generated for V1 detector at ./interpolator_pickle/V1/partialSNR_dict_0.pickle\n",
      "Please be patient while the interpolator is generated\n",
      "Generating interpolator for ['L1', 'H1', 'V1'] detectors\n"
     ]
    },
    {
     "name": "stderr",
     "output_type": "stream",
     "text": [
      "100%|█████████████████████████████████████████████████████| 399700/399700 [02:31<00:00, 2630.73it/s]\n"
     ]
    },
    {
     "name": "stdout",
     "output_type": "stream",
     "text": [
      "\n",
      "Saving Partial-SNR for L1 detector with shape (20, 200, 10, 10)\n",
      "\n",
      "Saving Partial-SNR for H1 detector with shape (20, 200, 10, 10)\n",
      "\n",
      "Saving Partial-SNR for V1 detector with shape (20, 200, 10, 10)\n",
      "\n",
      "\n"
     ]
    }
   ],
   "source": [
    "from gwsnr import GWSNR\n",
    "\n",
    "# initializing the GWSNR class with default configuration and interpolation method\n",
    "# for non-spinning IMRPhenomD waveform \n",
    "gwsnr_no_spins = GWSNR(\n",
    "    npool=8,\n",
    "    snr_type='interpolation_aligned_spins', # or 'interpolation_no_spins_jax'\n",
    "    gwsnr_verbose=False,\n",
    "    waveform_approximant='IMRPhenomD',\n",
    "    create_new_interpolator=True,\n",
    ")"
   ]
  },
  {
   "cell_type": "code",
   "execution_count": 2,
   "metadata": {},
   "outputs": [
    {
     "name": "stdout",
     "output_type": "stream",
     "text": [
      "\n",
      "Initializing GWSNR class...\n",
      "\n",
      "psds not given. Choosing bilby's default psds\n",
      "Intel processor has trouble allocating memory when the data is huge. So, by default for IMRPhenomXPHM, duration_max = 64.0. Otherwise, set to some max value like duration_max = 600.0 (10 mins)\n",
      "Interpolator will be loaded for L1 detector from ./interpolator_pickle/L1/partialSNR_dict_1.pickle\n",
      "Interpolator will be loaded for H1 detector from ./interpolator_pickle/H1/partialSNR_dict_1.pickle\n",
      "Interpolator will be loaded for V1 detector from ./interpolator_pickle/V1/partialSNR_dict_1.pickle\n",
      "\n",
      "Chosen GWSNR initialization parameters:\n",
      "\n",
      "npool:  8\n",
      "snr type:  interpolation_aligned_spins\n",
      "waveform approximant:  IMRPhenomXPHM\n",
      "sampling frequency:  2048.0\n",
      "minimum frequency (fmin):  20.0\n",
      "mtot=mass1+mass2\n",
      "min(mtot):  9.96\n",
      "max(mtot) (with the given fmin=20.0): 235.0\n",
      "detectors:  ['L1', 'H1', 'V1']\n",
      "psds:  [PowerSpectralDensity(psd_file='None', asd_file='/Users/phurailatpamhemantakumar/anaconda3/envs/ler/lib/python3.10/site-packages/bilby/gw/detector/noise_curves/aLIGO_O4_high_asd.txt'), PowerSpectralDensity(psd_file='None', asd_file='/Users/phurailatpamhemantakumar/anaconda3/envs/ler/lib/python3.10/site-packages/bilby/gw/detector/noise_curves/aLIGO_O4_high_asd.txt'), PowerSpectralDensity(psd_file='None', asd_file='/Users/phurailatpamhemantakumar/anaconda3/envs/ler/lib/python3.10/site-packages/bilby/gw/detector/noise_curves/AdV_asd.txt')]\n",
      "\n",
      "\n"
     ]
    }
   ],
   "source": [
    "from gwsnr import GWSNR\n",
    "\n",
    "gwsnr_no_spins = GWSNR(\n",
    "    npool=8,\n",
    "    snr_type='interpolation_aligned_spins', # or 'interpolation_no_spins_jax'\n",
    "    waveform_approximant='IMRPhenomXPHM',\n",
    "    create_new_interpolator=False,\n",
    ")"
   ]
  },
  {
   "cell_type": "code",
   "execution_count": 3,
   "metadata": {},
   "outputs": [
    {
     "name": "stdout",
     "output_type": "stream",
     "text": [
      "\n",
      "Initializing GWSNR class...\n",
      "\n",
      "[]\n",
      "{'mtot_min': 9.96, 'mtot_max': 235.0, 'mtot_resolution': 200, 'ratio_min': 0.1, 'ratio_max': 1.0, 'ratio_resolution': 20, 'sampling_frequency': 2048.0, 'waveform_approximant': 'IMRPhenomD', 'minimum_frequency': 10.0, 'detector': 'CE', 'psds': '[1.36418639e-44 1.28941521e-44 1.21896416e-44 ... 3.43993064e-48\\n 3.46829426e-48 3.49694151e-48]', 'detector_tensor': '[[-0.3926334  -0.0775787  -0.24736931]\\n [-0.0775787   0.3195221   0.2280124 ]\\n [-0.24736931  0.2280124   0.0731113 ]]', 'spin_max': 0.99, 'spin_resolution': 10}\n",
      "Interpolator will be generated for CE detector at ./interpolator_pickle/CE/partialSNR_dict_0.pickle\n",
      "[]\n",
      "{'mtot_min': 9.96, 'mtot_max': 235.0, 'mtot_resolution': 200, 'ratio_min': 0.1, 'ratio_max': 1.0, 'ratio_resolution': 20, 'sampling_frequency': 2048.0, 'waveform_approximant': 'IMRPhenomD', 'minimum_frequency': 10.0, 'detector': 'ET1', 'psds': '[1.22216783e-33 1.25637893e-33 1.28147776e-33 ... 2.90395567e-47\\n 2.92250209e-47 2.94117631e-47]', 'detector_tensor': '[[ 0.16658985 -0.21884947 -0.12996387]\\n [-0.21884947 -0.24838204  0.27321496]\\n [-0.12996387  0.27321496  0.08179218]]', 'spin_max': 0.99, 'spin_resolution': 10}\n",
      "Interpolator will be generated for ET1 detector at ./interpolator_pickle/ET1/partialSNR_dict_0.pickle\n",
      "[]\n",
      "{'mtot_min': 9.96, 'mtot_max': 235.0, 'mtot_resolution': 200, 'ratio_min': 0.1, 'ratio_max': 1.0, 'ratio_resolution': 20, 'sampling_frequency': 2048.0, 'waveform_approximant': 'IMRPhenomD', 'minimum_frequency': 10.0, 'detector': 'ET2', 'psds': '[1.22216783e-33 1.25637893e-33 1.28147776e-33 ... 2.90395567e-47\\n 2.92250209e-47 2.94117631e-47]', 'detector_tensor': '[[ 0.03183408  0.28895485 -0.08860032]\\n [ 0.28895485 -0.17450064 -0.26504012]\\n [-0.08860032 -0.26504012  0.14266656]]', 'spin_max': 0.99, 'spin_resolution': 10}\n",
      "Interpolator will be generated for ET2 detector at ./interpolator_pickle/ET2/partialSNR_dict_0.pickle\n",
      "[]\n",
      "{'mtot_min': 9.96, 'mtot_max': 235.0, 'mtot_resolution': 200, 'ratio_min': 0.1, 'ratio_max': 1.0, 'ratio_resolution': 20, 'sampling_frequency': 2048.0, 'waveform_approximant': 'IMRPhenomD', 'minimum_frequency': 10.0, 'detector': 'ET3', 'psds': '[1.22216783e-33 1.25637893e-33 1.28147776e-33 ... 2.90395567e-47\\n 2.92250209e-47 2.94117631e-47]', 'detector_tensor': '[[-0.19865781 -0.06985281  0.21887772]\\n [-0.06985281  0.42342515 -0.00872144]\\n [ 0.21887772 -0.00872144 -0.22476733]]', 'spin_max': 0.99, 'spin_resolution': 10}\n",
      "Interpolator will be generated for ET3 detector at ./interpolator_pickle/ET3/partialSNR_dict_0.pickle\n",
      "Please be patient while the interpolator is generated\n",
      "Generating interpolator for ['CE', 'ET1', 'ET2', 'ET3'] detectors\n"
     ]
    },
    {
     "name": "stderr",
     "output_type": "stream",
     "text": [
      "100%|█████████████████████████████████████████████████████| 399700/399700 [03:40<00:00, 1816.12it/s]\n"
     ]
    },
    {
     "name": "stdout",
     "output_type": "stream",
     "text": [
      "\n",
      "Saving Partial-SNR for CE detector with shape (20, 200, 10, 10)\n",
      "\n",
      "Saving Partial-SNR for ET1 detector with shape (20, 200, 10, 10)\n",
      "\n",
      "Saving Partial-SNR for ET2 detector with shape (20, 200, 10, 10)\n",
      "\n",
      "Saving Partial-SNR for ET3 detector with shape (20, 200, 10, 10)\n",
      "\n",
      "\n"
     ]
    }
   ],
   "source": [
    "from gwsnr import GWSNR\n",
    "\n",
    "gwsnr = GWSNR(\n",
    "    npool=8,\n",
    "    snr_type='interpolation_aligned_spins', # or 'interpolation_no_spins_jax'\n",
    "    gwsnr_verbose=False,\n",
    "    waveform_approximant='IMRPhenomD',\n",
    "    minimum_frequency = 10.,\n",
    "    #psds = {'CE':'CE_psd.txt', 'ET':'ET_B_psd.txt'}, # if you want to use your own psd\n",
    "    ifos = ['CE', 'ET'],  # this will considet bilby's default psd of CE and ET\n",
    "    create_new_interpolator=True,\n",
    ")"
   ]
  },
  {
   "cell_type": "code",
   "execution_count": 4,
   "metadata": {},
   "outputs": [
    {
     "name": "stdout",
     "output_type": "stream",
     "text": [
      "\n",
      "Initializing GWSNR class...\n",
      "\n",
      "psds not given. Choosing bilby's default psds\n",
      "[{'mtot_min': 9.96, 'mtot_max': 235.0, 'mtot_resolution': 200, 'ratio_min': 0.1, 'ratio_max': 1.0, 'ratio_resolution': 20, 'sampling_frequency': 2048.0, 'waveform_approximant': 'IMRPhenomD', 'minimum_frequency': 20.0, 'detector': 'L1', 'psds': '[4.43925574e-41 4.22777986e-41 4.02102594e-41 ... 6.51153524e-46\\n 6.43165104e-46 6.55252996e-46]', 'detector_tensor': '[[ 0.41128086  0.14021027  0.24729459]\\n [ 0.14021027 -0.10900569 -0.18161563]\\n [ 0.24729459 -0.18161563 -0.30227517]]', 'spin_max': 0.99, 'spin_resolution': 10}, {'mtot_min': 9.96, 'mtot_max': 235.0, 'mtot_resolution': 200, 'ratio_min': 0.1, 'ratio_max': 1.0, 'ratio_resolution': 20, 'sampling_frequency': 2048.0, 'waveform_approximant': 'IMRPhenomXPHM', 'minimum_frequency': 20.0, 'detector': 'L1', 'psds': '[4.43925574e-41 4.22777986e-41 4.02102594e-41 ... 6.51153524e-46\\n 6.43165104e-46 6.55252996e-46]', 'detector_tensor': '[[ 0.41128086  0.14021027  0.24729459]\\n [ 0.14021027 -0.10900569 -0.18161563]\\n [ 0.24729459 -0.18161563 -0.30227517]]', 'spin_max': 0.99, 'spin_resolution': 10}]\n",
      "{'mtot_min': 9.96, 'mtot_max': 235.0, 'mtot_resolution': 200, 'ratio_min': 0.1, 'ratio_max': 1.0, 'ratio_resolution': 20, 'sampling_frequency': 2048.0, 'waveform_approximant': 'IMRPhenomD', 'minimum_frequency': 20.0, 'detector': 'L1', 'psds': '[4.43925574e-41 4.22777986e-41 4.02102594e-41 ... 6.51153524e-46\\n 6.43165104e-46 6.55252996e-46]', 'detector_tensor': '[[ 0.41128086  0.14021027  0.24729459]\\n [ 0.14021027 -0.10900569 -0.18161563]\\n [ 0.24729459 -0.18161563 -0.30227517]]'}\n",
      "Interpolator will be generated for L1 detector at ./interpolator_pickle/L1/partialSNR_dict_2.pickle\n",
      "[{'mtot_min': 9.96, 'mtot_max': 235.0, 'mtot_resolution': 200, 'ratio_min': 0.1, 'ratio_max': 1.0, 'ratio_resolution': 20, 'sampling_frequency': 2048.0, 'waveform_approximant': 'IMRPhenomD', 'minimum_frequency': 20.0, 'detector': 'H1', 'psds': '[4.43925574e-41 4.22777986e-41 4.02102594e-41 ... 6.51153524e-46\\n 6.43165104e-46 6.55252996e-46]', 'detector_tensor': '[[-0.3926141  -0.07761341 -0.24738904]\\n [-0.07761341  0.31952407  0.22799783]\\n [-0.24738904  0.22799783  0.07309003]]', 'spin_max': 0.99, 'spin_resolution': 10}, {'mtot_min': 9.96, 'mtot_max': 235.0, 'mtot_resolution': 200, 'ratio_min': 0.1, 'ratio_max': 1.0, 'ratio_resolution': 20, 'sampling_frequency': 2048.0, 'waveform_approximant': 'IMRPhenomXPHM', 'minimum_frequency': 20.0, 'detector': 'H1', 'psds': '[4.43925574e-41 4.22777986e-41 4.02102594e-41 ... 6.51153524e-46\\n 6.43165104e-46 6.55252996e-46]', 'detector_tensor': '[[-0.3926141  -0.07761341 -0.24738904]\\n [-0.07761341  0.31952407  0.22799783]\\n [-0.24738904  0.22799783  0.07309003]]', 'spin_max': 0.99, 'spin_resolution': 10}]\n",
      "{'mtot_min': 9.96, 'mtot_max': 235.0, 'mtot_resolution': 200, 'ratio_min': 0.1, 'ratio_max': 1.0, 'ratio_resolution': 20, 'sampling_frequency': 2048.0, 'waveform_approximant': 'IMRPhenomD', 'minimum_frequency': 20.0, 'detector': 'H1', 'psds': '[4.43925574e-41 4.22777986e-41 4.02102594e-41 ... 6.51153524e-46\\n 6.43165104e-46 6.55252996e-46]', 'detector_tensor': '[[-0.3926141  -0.07761341 -0.24738904]\\n [-0.07761341  0.31952407  0.22799783]\\n [-0.24738904  0.22799783  0.07309003]]'}\n",
      "Interpolator will be generated for H1 detector at ./interpolator_pickle/H1/partialSNR_dict_2.pickle\n",
      "[{'mtot_min': 9.96, 'mtot_max': 235.0, 'mtot_resolution': 200, 'ratio_min': 0.1, 'ratio_max': 1.0, 'ratio_resolution': 20, 'sampling_frequency': 2048.0, 'waveform_approximant': 'IMRPhenomD', 'minimum_frequency': 20.0, 'detector': 'V1', 'psds': '[1.22674387e-42 1.20400299e-42 1.18169466e-42 ... 1.51304203e-43\\n 1.52010157e-43 1.52719372e-43]', 'detector_tensor': '[[ 0.24387404 -0.09908378 -0.23257622]\\n [-0.09908378 -0.44782584  0.1878331 ]\\n [-0.23257622  0.1878331   0.2039518 ]]', 'spin_max': 0.99, 'spin_resolution': 10}, {'mtot_min': 9.96, 'mtot_max': 235.0, 'mtot_resolution': 200, 'ratio_min': 0.1, 'ratio_max': 1.0, 'ratio_resolution': 20, 'sampling_frequency': 2048.0, 'waveform_approximant': 'IMRPhenomXPHM', 'minimum_frequency': 20.0, 'detector': 'V1', 'psds': '[1.22674387e-42 1.20400299e-42 1.18169466e-42 ... 1.51304203e-43\\n 1.52010157e-43 1.52719372e-43]', 'detector_tensor': '[[ 0.24387404 -0.09908378 -0.23257622]\\n [-0.09908378 -0.44782584  0.1878331 ]\\n [-0.23257622  0.1878331   0.2039518 ]]', 'spin_max': 0.99, 'spin_resolution': 10}]\n",
      "{'mtot_min': 9.96, 'mtot_max': 235.0, 'mtot_resolution': 200, 'ratio_min': 0.1, 'ratio_max': 1.0, 'ratio_resolution': 20, 'sampling_frequency': 2048.0, 'waveform_approximant': 'IMRPhenomD', 'minimum_frequency': 20.0, 'detector': 'V1', 'psds': '[1.22674387e-42 1.20400299e-42 1.18169466e-42 ... 1.51304203e-43\\n 1.52010157e-43 1.52719372e-43]', 'detector_tensor': '[[ 0.24387404 -0.09908378 -0.23257622]\\n [-0.09908378 -0.44782584  0.1878331 ]\\n [-0.23257622  0.1878331   0.2039518 ]]'}\n",
      "Interpolator will be generated for V1 detector at ./interpolator_pickle/V1/partialSNR_dict_2.pickle\n",
      "Please be patient while the interpolator is generated\n",
      "Generating interpolator for ['L1', 'H1', 'V1'] detectors\n"
     ]
    },
    {
     "name": "stderr",
     "output_type": "stream",
     "text": [
      "100%|█████████████████████████████████████████████████████████| 3997/3997 [00:01<00:00, 2118.00it/s]"
     ]
    },
    {
     "name": "stdout",
     "output_type": "stream",
     "text": [
      "\n",
      "Saving Partial-SNR for L1 detector with shape (20, 200)\n",
      "\n",
      "Saving Partial-SNR for H1 detector with shape (20, 200)\n",
      "\n",
      "Saving Partial-SNR for V1 detector with shape (20, 200)\n",
      "\n",
      "\n"
     ]
    },
    {
     "name": "stderr",
     "output_type": "stream",
     "text": [
      "\n"
     ]
    }
   ],
   "source": [
    "from gwsnr import GWSNR\n",
    "\n",
    "gwsnr_no_spins = GWSNR(\n",
    "    npool=8,\n",
    "    snr_type='interpolation_no_spins', # or 'interpolation_no_spins_jax'\n",
    "    gwsnr_verbose=False,\n",
    "    waveform_approximant='IMRPhenomD',\n",
    "    create_new_interpolator=True,\n",
    ")"
   ]
  },
  {
   "cell_type": "code",
   "execution_count": null,
   "metadata": {},
   "outputs": [],
   "source": []
  },
  {
   "cell_type": "code",
   "execution_count": null,
   "metadata": {},
   "outputs": [],
   "source": []
  }
 ],
 "metadata": {
  "kernelspec": {
   "display_name": "ler",
   "language": "python",
   "name": "ler"
  },
  "language_info": {
   "codemirror_mode": {
    "name": "ipython",
    "version": 3
   },
   "file_extension": ".py",
   "mimetype": "text/x-python",
   "name": "python",
   "nbconvert_exporter": "python",
   "pygments_lexer": "ipython3",
   "version": "3.10.18"
  }
 },
 "nbformat": 4,
 "nbformat_minor": 2
}
