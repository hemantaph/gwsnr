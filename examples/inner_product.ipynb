{
 "cells": [
  {
   "cell_type": "code",
   "execution_count": 1,
   "id": "90a641ec-9fb5-4007-82bb-9a85d812aaed",
   "metadata": {},
   "outputs": [],
   "source": [
    "import numpy as np\n",
    "import bilby\n",
    "import pylab as plt\n",
    "from gwsnr import GWSNR as snr"
   ]
  },
  {
   "attachments": {},
   "cell_type": "markdown",
   "id": "653e8eca-ae47-47ab-b22f-20b8fceaae18",
   "metadata": {},
   "source": [
    "# bilby snr with injection"
   ]
  },
  {
   "cell_type": "code",
   "execution_count": 45,
   "id": "10f385a6",
   "metadata": {},
   "outputs": [],
   "source": [
    "injection_parameters = dict(mass_1=10.,\n",
    "                            mass_2=10.,\n",
    "                            luminosity_distance=100.0,\n",
    "                            theta_jn=0.5,\n",
    "                            psi=0.5,\n",
    "                            phase=0.5,\n",
    "                            geocent_time=1246527224.169434,\n",
    "                            ra=0.0,\n",
    "                            dec=0.0,\n",
    "                            a_1=0.5,\n",
    "                            a_2=0.5,\n",
    "                            tilt_1=0.5,\n",
    "                            tilt_2=0.5,\n",
    "                            phi_12=0.5,\n",
    "                            phi_jl=0.5,\n",
    "                        )"
   ]
  },
  {
   "cell_type": "code",
   "execution_count": 46,
   "id": "2518b2f4",
   "metadata": {},
   "outputs": [],
   "source": [
    "def duration_fn(mass_1, mass_2, f_min):\n",
    "    safety = 1.2\n",
    "    approx_duration = safety * snr_.findchirp_chirptime(mass_1, mass_2, f_min)\n",
    "    return np.ceil(approx_duration + 4.0)"
   ]
  },
  {
   "cell_type": "code",
   "execution_count": 47,
   "id": "56ad4c35",
   "metadata": {},
   "outputs": [],
   "source": [
    "sampling_frequency = 4096.\n",
    "minimum_frequency = 20.\n",
    "duration = duration_fn(mass_1=injection_parameters['mass_1'],\n",
    "                       mass_2=injection_parameters['mass_2'],\n",
    "                       f_min=20.)\n",
    "\n",
    "waveform_arguments = dict(waveform_approximant = 'IMRPhenomXPHM',\n",
    "                            reference_frequency = 30.,\n",
    "                            minimum_frequency = minimum_frequency) \n",
    "waveform_generator = bilby.gw.WaveformGenerator(duration = duration,\n",
    "    sampling_frequency = sampling_frequency,\n",
    "    frequency_domain_source_model = bilby.gw.source.lal_binary_black_hole,\n",
    "    parameters=injection_parameters,\n",
    "    waveform_arguments = waveform_arguments\n",
    "    )"
   ]
  },
  {
   "cell_type": "code",
   "execution_count": 48,
   "id": "eade034a",
   "metadata": {},
   "outputs": [],
   "source": [
    "asd_file = ['aLIGO_O4_high_asd.txt', 'aLIGO_O4_high_asd.txt', 'AdV_asd.txt']\n",
    "ifos = bilby.gw.detector.InterferometerList(['H1', 'L1', 'V1'])\n",
    "\n",
    "for i in range(3):\n",
    "    ifos[i].power_spectral_density = bilby.gw.detector.PowerSpectralDensity(asd_file=asd_file[i])\n",
    "\n",
    "ifos.set_strain_data_from_power_spectral_densities(\n",
    "    sampling_frequency=sampling_frequency,\n",
    "    duration=duration,\n",
    "    start_time=injection_parameters[\"geocent_time\"] + 2 - duration,\n",
    ")"
   ]
  },
  {
   "cell_type": "code",
   "execution_count": 49,
   "id": "6358c72c",
   "metadata": {},
   "outputs": [
    {
     "name": "stdout",
     "output_type": "stream",
     "text": [
      "PowerSpectralDensity(psd_file='None', asd_file='/Users/hemantaph/anaconda3/envs/lal2/lib/python3.10/site-packages/bilby/gw/detector/noise_curves/aLIGO_O4_high_asd.txt')\n"
     ]
    }
   ],
   "source": [
    "# make sure you getting right psd\n",
    "print(ifos[0].power_spectral_density)"
   ]
  },
  {
   "cell_type": "code",
   "execution_count": 50,
   "id": "a48b2f57",
   "metadata": {},
   "outputs": [],
   "source": [
    "bilby.core.utils.logger.disabled = True\n",
    "ifos.inject_signal(\n",
    "    waveform_generator=waveform_generator, parameters=injection_parameters\n",
    ");"
   ]
  },
  {
   "cell_type": "code",
   "execution_count": 51,
   "id": "e4eb3304",
   "metadata": {},
   "outputs": [
    {
     "name": "stdout",
     "output_type": "stream",
     "text": [
      "snr_L1 = 117.6773296648426\n",
      "snr_H1 = 74.76707718037684\n",
      "snr_V1 = 35.17614663474223\n"
     ]
    }
   ],
   "source": [
    "# from bilby injection\n",
    "print(f\"snr_L1 = {ifos[1].meta_data['optimal_SNR']}\")\n",
    "print(f\"snr_H1 = {ifos[0].meta_data['optimal_SNR']}\")\n",
    "print(f\"snr_V1 = {ifos[2].meta_data['optimal_SNR']}\")"
   ]
  },
  {
   "attachments": {},
   "cell_type": "markdown",
   "id": "b4876c24",
   "metadata": {},
   "source": [
    "# inner product"
   ]
  },
  {
   "cell_type": "code",
   "execution_count": 2,
   "id": "a77b3924-26ba-49e8-b5de-6e1201f7ce99",
   "metadata": {},
   "outputs": [
    {
     "name": "stdout",
     "output_type": "stream",
     "text": [
      "Given: IMR waveform, {self.waveform_approximant}.\n",
      "psds not given. Choosing bilby's default psds\n",
      "given psds:  {'L1': 'aLIGO_O4_high_asd.txt', 'H1': 'aLIGO_O4_high_asd.txt', 'V1': 'AdV_asd.txt'}\n"
     ]
    }
   ],
   "source": [
    "# nsamples is use for fitting. default: nsamples=100\n",
    "# nsamples with higher value will give better result.\n",
    "# for BNS events nsamples can be kept low\n",
    "# with defult bilby's psd\n",
    "snr_ = snr(waveform_approximant = 'IMRPhenomXPHM', snr_type = 'inner_product')"
   ]
  },
  {
   "cell_type": "code",
   "execution_count": 3,
   "id": "d5d01264",
   "metadata": {},
   "outputs": [
    {
     "name": "stdout",
     "output_type": "stream",
     "text": [
      "solving SNR with inner product\n"
     ]
    },
    {
     "name": "stderr",
     "output_type": "stream",
     "text": [
      "  0%|                                                                         | 0/1 [00:00<?, ?it/s]"
     ]
    },
    {
     "name": "stderr",
     "output_type": "stream",
     "text": [
      "100%|█████████████████████████████████████████████████████████████████| 1/1 [00:00<00:00, 20.24it/s]"
     ]
    },
    {
     "name": "stdout",
     "output_type": "stream",
     "text": [
      "snr_L1 = [117.59034621]\n",
      "snr_H1 = [74.77707807]\n",
      "snr_V1 = [35.24596307]\n"
     ]
    },
    {
     "name": "stderr",
     "output_type": "stream",
     "text": [
      "\n"
     ]
    }
   ],
   "source": [
    "# with inner_product with gwsnr package\n",
    "# hp_inner_hc included in the package\n",
    "snr_test = snr_.snr(mass_1=10.,\n",
    "                    mass_2=10.,\n",
    "                    luminosity_distance=100.0,\n",
    "                    iota=0.5,\n",
    "                    psi=0.5,\n",
    "                    phase=0.5,\n",
    "                    geocent_time=1246527224.169434,\n",
    "                    ra=0.0,\n",
    "                    dec=0.0,\n",
    "                    a_1=0.5,\n",
    "                    a_2=0.5,\n",
    "                    tilt_1=0.5,\n",
    "                    tilt_2=0.5,\n",
    "                    phi_12=0.5,\n",
    "                    phi_jl=0.5,\n",
    ")\n",
    "print(f\"snr_L1 = {snr_test['L1']}\")\n",
    "print(f\"snr_H1 = {snr_test['H1']}\")\n",
    "print(f\"snr_V1 = {snr_test['V1']}\")"
   ]
  },
  {
   "cell_type": "code",
   "execution_count": 3,
   "id": "73f878ce",
   "metadata": {},
   "outputs": [
    {
     "name": "stdout",
     "output_type": "stream",
     "text": [
      "solving SNR with inner product\n"
     ]
    },
    {
     "name": "stderr",
     "output_type": "stream",
     "text": [
      "100%|█████████████████████████████████████████████████████████████████| 1/1 [00:00<00:00, 21.81it/s]"
     ]
    },
    {
     "name": "stdout",
     "output_type": "stream",
     "text": [
      "snr_L1 = [120.33915932]\n",
      "snr_H1 = [74.85566925]\n",
      "snr_V1 = [41.25122545]\n"
     ]
    },
    {
     "name": "stderr",
     "output_type": "stream",
     "text": [
      "\n"
     ]
    }
   ],
   "source": [
    "# with inner_product with gwsnr package\n",
    "# hp_inner_hc included in the package\n",
    "# note: I have made some changes in the code\n",
    "# in the function noise_weighted_inner_prod of GWSNR class\n",
    "snr_test = snr_.snr(mass_1=10.,\n",
    "                    mass_2=10.,\n",
    "                    luminosity_distance=100.0,\n",
    "                    iota=0.5,\n",
    "                    psi=0.5,\n",
    "                    phase=0.5,\n",
    "                    geocent_time=1246527224.169434,\n",
    "                    ra=0.0,\n",
    "                    dec=0.0,\n",
    "                    a_1=0.5,\n",
    "                    a_2=0.5,\n",
    "                    tilt_1=0.5,\n",
    "                    tilt_2=0.5,\n",
    "                    phi_12=0.5,\n",
    "                    phi_jl=0.5,\n",
    ")\n",
    "print(f\"snr_L1 = {snr_test['L1']}\")\n",
    "print(f\"snr_H1 = {snr_test['H1']}\")\n",
    "print(f\"snr_V1 = {snr_test['V1']}\")"
   ]
  },
  {
   "cell_type": "code",
   "execution_count": 6,
   "id": "a6454221",
   "metadata": {},
   "outputs": [
    {
     "data": {
      "text/plain": [
       "bilby.gw.detector.psd.PowerSpectralDensity"
      ]
     },
     "execution_count": 6,
     "metadata": {},
     "output_type": "execute_result"
    }
   ],
   "source": [
    "type(snr_.power_spectral_density_pycbc(psd='aLIGOaLIGODesignSensitivityT1800044'))"
   ]
  },
  {
   "cell_type": "code",
   "execution_count": null,
   "id": "a530c762",
   "metadata": {},
   "outputs": [],
   "source": []
  },
  {
   "cell_type": "code",
   "execution_count": null,
   "id": "969f2b63",
   "metadata": {},
   "outputs": [],
   "source": []
  }
 ],
 "metadata": {
  "kernelspec": {
   "display_name": "Python 3 (ipykernel)",
   "language": "python",
   "name": "python3"
  },
  "language_info": {
   "codemirror_mode": {
    "name": "ipython",
    "version": 3
   },
   "file_extension": ".py",
   "mimetype": "text/x-python",
   "name": "python",
   "nbconvert_exporter": "python",
   "pygments_lexer": "ipython3",
   "version": "3.10.9"
  }
 },
 "nbformat": 4,
 "nbformat_minor": 5
}
