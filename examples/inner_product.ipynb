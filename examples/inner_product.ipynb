{
 "cells": [
  {
   "cell_type": "code",
   "execution_count": 17,
   "id": "90a641ec-9fb5-4007-82bb-9a85d812aaed",
   "metadata": {},
   "outputs": [],
   "source": [
    "import numpy as np\n",
    "import bilby\n",
    "import pylab as plt\n",
    "from gwsnr import GWSNR as snr"
   ]
  },
  {
   "cell_type": "code",
   "execution_count": 6,
   "id": "a77b3924-26ba-49e8-b5de-6e1201f7ce99",
   "metadata": {},
   "outputs": [
    {
     "name": "stdout",
     "output_type": "stream",
     "text": [
      "Given: IMR waveform\n",
      "psds not given. Choosing bilby's default psds\n",
      "given psds:  {'L1': 'aLIGO_O4_high_asd.txt', 'H1': 'aLIGO_O4_high_asd.txt', 'V1': 'AdV_asd.txt'}\n"
     ]
    }
   ],
   "source": [
    "# nsamples is use for fitting. default: nsamples=100\n",
    "# nsamples with higher value will give better result.\n",
    "# for BNS events nsamples can be kept low\n",
    "# with defult bilby's psd\n",
    "snr_ = snr(waveform_approximant = 'IMRPhenomXPHM', snr_type = 'inner_product')"
   ]
  },
  {
   "cell_type": "code",
   "execution_count": 7,
   "id": "3a955897-5158-4f4f-a0a9-1098a237d1df",
   "metadata": {},
   "outputs": [
    {
     "name": "stderr",
     "output_type": "stream",
     "text": [
      "100%|█████████████████████████████████████████████████████████████████| 3/3 [00:00<00:00, 60.74it/s]\n"
     ]
    },
    {
     "data": {
      "text/plain": [
       "{'L1': array([128.04790782, 446.95912961, 739.7615249 ]),\n",
       " 'H1': array([ 81.43759071, 284.26293939, 470.48325357]),\n",
       " 'V1': array([ 37.90733753, 135.75613424, 227.17056196]),\n",
       " 'opt_snr_net': array([156.41391919, 546.81588331, 905.65339387])}"
      ]
     },
     "execution_count": 7,
     "metadata": {},
     "output_type": "execute_result"
    }
   ],
   "source": [
    "# Bilby\n",
    "snr_.compute_bilby_snr_(mass_1=np.array([10.,50.,100.]), mass_2=np.array([10.,50.,100.]))"
   ]
  },
  {
   "cell_type": "code",
   "execution_count": 8,
   "id": "55501fbf-654f-41f9-9a57-c8393c6556ba",
   "metadata": {},
   "outputs": [
    {
     "name": "stdout",
     "output_type": "stream",
     "text": [
      "solving SNR with inner product\n"
     ]
    },
    {
     "name": "stderr",
     "output_type": "stream",
     "text": [
      "100%|█████████████████████████████████████████████████████████████████| 3/3 [00:00<00:00, 73.17it/s]\n"
     ]
    },
    {
     "data": {
      "text/plain": [
       "{'L1': array([128.04790782, 446.95912961, 739.7615249 ]),\n",
       " 'H1': array([ 81.43759071, 284.26293939, 470.48325357]),\n",
       " 'V1': array([ 37.90733753, 135.75613424, 227.17056196]),\n",
       " 'opt_snr_net': array([156.41391919, 546.81588331, 905.65339387])}"
      ]
     },
     "execution_count": 8,
     "metadata": {},
     "output_type": "execute_result"
    }
   ],
   "source": [
    "# with inner_product\n",
    "snr_.snr(mass_1=np.array([10.,50.,100.]), mass_2=np.array([10.,50.,100.]))"
   ]
  },
  {
   "cell_type": "code",
   "execution_count": 11,
   "id": "a084a28d-819c-480a-8e89-f5c3265028d7",
   "metadata": {},
   "outputs": [],
   "source": [
    "# gerneral case, random parameters\n",
    "# chirp mass can go upto only 95 if f_min=20. to get non zero SNR\n",
    "nsamples = 100\n",
    "chirp_mass = np.linspace(5,80,nsamples)\n",
    "mass_ratio = np.random.uniform(0.2,1,size=nsamples)\n",
    "mass_1 = (chirp_mass*(1+mass_ratio)**(1/5))/mass_ratio**(3/5)\n",
    "mass_2 = chirp_mass*mass_ratio**(2/5)*(1+mass_ratio)**(1/5)\n",
    "total_mass = mass_1+mass_2\n",
    "mass_ratio = mass_2/mass_1\n",
    "# Fix luminosity distance\n",
    "luminosity_distance = 80*np.ones(nsamples)\n",
    "# Randomly sample everything else:\n",
    "theta_jn = np.random.uniform(0,2*np.pi, size=nsamples)\n",
    "ra, dec, psi, phase = np.random.uniform(0,2*np.pi, size=nsamples), np.random.uniform(0,np.pi, size=nsamples), np.random.uniform(0,2*np.pi, size=nsamples), np.random.uniform(0,2*np.pi, size=nsamples)\n",
    "\n",
    "bilby.core.utils.logger.disabled = True\n",
    "prior_default = bilby.gw.prior.BBHPriorDict()\n",
    "a_1 = prior_default[\"a_1\"].sample(nsamples)\n",
    "a_2 = prior_default[\"a_2\"].sample(nsamples)\n",
    "tilt_1 = prior_default[\"tilt_1\"].sample(nsamples)\n",
    "tilt_2 = prior_default[\"tilt_2\"].sample(nsamples)\n",
    "phi_12 = prior_default[\"phi_12\"].sample(nsamples)\n",
    "phi_jl = prior_default[\"phi_jl\"].sample(nsamples)"
   ]
  },
  {
   "cell_type": "code",
   "execution_count": 13,
   "id": "c854c457-6409-4b1b-af14-25820d8cc3e1",
   "metadata": {},
   "outputs": [
    {
     "name": "stderr",
     "output_type": "stream",
     "text": [
      "100%|████████████████████████████████████████████████████████████| 100/100 [00:00<00:00, 187.08it/s]\n"
     ]
    }
   ],
   "source": [
    "# error might occur for mchirp>95., if f_min=20. \n",
    "bilby_ = snr_.compute_bilby_snr_(mass_1=mass_1, mass_2=mass_1, luminosity_distance=luminosity_distance, theta_jn=theta_jn, \\\n",
    "                            psi=psi, phase=phase, ra=ra, dec=dec, a_1=a_1, a_2=a_2, tilt_1=tilt_1, tilt_2=tilt_2, \\\n",
    "                                phi_12=phi_12, phi_jl=phi_jl)"
   ]
  },
  {
   "cell_type": "code",
   "execution_count": 21,
   "id": "d80e371f-a947-485a-a607-7cd28940c8f3",
   "metadata": {},
   "outputs": [
    {
     "name": "stdout",
     "output_type": "stream",
     "text": [
      "solving SNR with inner product\n"
     ]
    },
    {
     "name": "stderr",
     "output_type": "stream",
     "text": [
      "100%|████████████████████████████████████████████████████████████| 100/100 [00:00<00:00, 193.53it/s]\n"
     ]
    }
   ],
   "source": [
    "mine_ = snr_.snr(mass_1=mass_1, mass_2=mass_1, luminosity_distance=luminosity_distance, iota=theta_jn, \\\n",
    "            psi=psi, phase=phase, ra=ra, dec=dec, a_1=a_1, a_2=a_2, tilt_1=tilt_1, tilt_2=tilt_2, \\\n",
    "                                phi_12=phi_12, phi_jl=phi_jl)"
   ]
  },
  {
   "cell_type": "code",
   "execution_count": 22,
   "id": "0ea268ec-4b35-496b-b861-3e902535f184",
   "metadata": {},
   "outputs": [],
   "source": [
    "mtot_min=2.\n",
    "mtot_max=439.6\n",
    "idx = (total_mass<=mtot_min)&(total_mass>=mtot_max)\n",
    "bilby_['opt_snr_net'][idx] = 0."
   ]
  },
  {
   "cell_type": "code",
   "execution_count": 23,
   "id": "49f21103-a430-42b7-a6f1-86a38f14548f",
   "metadata": {},
   "outputs": [
    {
     "data": {
      "image/png": "[encoded data removed]",
      "text/plain": [
       "<Figure size 640x480 with 1 Axes>"
      ]
     },
     "metadata": {},
     "output_type": "display_data"
    }
   ],
   "source": [
    "plt.plot(total_mass, abs(mine_['opt_snr_net']-bilby_['opt_snr_net']), 'o', color='cyan')\n",
    "plt.xlabel(r\"$m_{tot}$ [$\\rm M_\\odot$]\")\n",
    "plt.ylabel(r\"difference\")\n",
    "plt.show()"
   ]
  },
  {
   "cell_type": "code",
   "execution_count": null,
   "id": "653e8eca-ae47-47ab-b22f-20b8fceaae18",
   "metadata": {},
   "outputs": [],
   "source": []
  }
 ],
 "metadata": {
  "kernelspec": {
   "display_name": "Python 3 (ipykernel)",
   "language": "python",
   "name": "python3"
  },
  "language_info": {
   "codemirror_mode": {
    "name": "ipython",
    "version": 3
   },
   "file_extension": ".py",
   "mimetype": "text/x-python",
   "name": "python",
   "nbconvert_exporter": "python",
   "pygments_lexer": "ipython3",
   "version": "3.10.9"
  }
 },
 "nbformat": 4,
 "nbformat_minor": 5
}
