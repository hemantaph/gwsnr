{
 "cells": [
  {
   "cell_type": "code",
   "execution_count": 6,
   "id": "92e54d18-cabc-4899-b0b2-5d115622d8ce",
   "metadata": {},
   "outputs": [],
   "source": [
    "import bilby\n",
    "import numpy as np\n",
    "import matplotlib.pyplot as plt\n",
    "%matplotlib inline"
   ]
  },
  {
   "cell_type": "code",
   "execution_count": 7,
   "id": "902e9207-98b3-44a8-ac23-a6a745300b27",
   "metadata": {},
   "outputs": [],
   "source": [
    "import gwsnr\n",
    "import numpy as np"
   ]
  },
  {
   "cell_type": "code",
   "execution_count": 8,
   "id": "2444b77d-7e84-4639-bd24-6d21991fafa3",
   "metadata": {},
   "outputs": [
    {
     "ename": "ValueError",
     "evalue": "Unable to locate PSD file ./ligoA#_strain/ligoA#_strain.txt locally or in the default dir",
     "output_type": "error",
     "traceback": [
      "\u001b[0;31m---------------------------------------------------------------------------\u001b[0m",
      "\u001b[0;31mValueError\u001b[0m                                Traceback (most recent call last)",
      "Cell \u001b[0;32mIn[8], line 4\u001b[0m\n\u001b[1;32m      1\u001b[0m \u001b[38;5;66;03m# LLO\u001b[39;00m\n\u001b[1;32m      2\u001b[0m ifosLLO \u001b[38;5;241m=\u001b[39m bilby\u001b[38;5;241m.\u001b[39mgw\u001b[38;5;241m.\u001b[39mdetector\u001b[38;5;241m.\u001b[39minterferometer\u001b[38;5;241m.\u001b[39mInterferometer(\n\u001b[1;32m      3\u001b[0m     name \u001b[38;5;241m=\u001b[39m \u001b[38;5;124m'\u001b[39m\u001b[38;5;124mLLO\u001b[39m\u001b[38;5;124m'\u001b[39m,\n\u001b[0;32m----> 4\u001b[0m     power_spectral_density \u001b[38;5;241m=\u001b[39m \u001b[43mbilby\u001b[49m\u001b[38;5;241;43m.\u001b[39;49m\u001b[43mgw\u001b[49m\u001b[38;5;241;43m.\u001b[39;49m\u001b[43mdetector\u001b[49m\u001b[38;5;241;43m.\u001b[39;49m\u001b[43mPowerSpectralDensity\u001b[49m\u001b[43m(\u001b[49m\u001b[43masd_file\u001b[49m\u001b[38;5;241;43m=\u001b[39;49m\u001b[38;5;124;43m'\u001b[39;49m\u001b[38;5;124;43m./ligoA#_strain/ligoA#_strain.txt\u001b[39;49m\u001b[38;5;124;43m'\u001b[39;49m\u001b[43m)\u001b[49m,\n\u001b[1;32m      5\u001b[0m     minimum_frequency \u001b[38;5;241m=\u001b[39m \u001b[38;5;241m10.\u001b[39m,\n\u001b[1;32m      6\u001b[0m     maximum_frequency \u001b[38;5;241m=\u001b[39m \u001b[38;5;241m2048.\u001b[39m,\n\u001b[1;32m      7\u001b[0m     length \u001b[38;5;241m=\u001b[39m \u001b[38;5;241m4\u001b[39m,\n\u001b[1;32m      8\u001b[0m     latitude \u001b[38;5;241m=\u001b[39m \u001b[38;5;241m30\u001b[39m \u001b[38;5;241m+\u001b[39m \u001b[38;5;241m33.\u001b[39m \u001b[38;5;241m/\u001b[39m \u001b[38;5;241m60\u001b[39m \u001b[38;5;241m+\u001b[39m \u001b[38;5;241m46.4196\u001b[39m \u001b[38;5;241m/\u001b[39m \u001b[38;5;241m3600\u001b[39m,\n\u001b[1;32m      9\u001b[0m     longitude \u001b[38;5;241m=\u001b[39m \u001b[38;5;241m-\u001b[39m(\u001b[38;5;241m90\u001b[39m \u001b[38;5;241m+\u001b[39m \u001b[38;5;241m46.\u001b[39m \u001b[38;5;241m/\u001b[39m \u001b[38;5;241m60\u001b[39m \u001b[38;5;241m+\u001b[39m \u001b[38;5;241m27.2654\u001b[39m \u001b[38;5;241m/\u001b[39m \u001b[38;5;241m3600\u001b[39m),\n\u001b[1;32m     10\u001b[0m     elevation \u001b[38;5;241m=\u001b[39m \u001b[38;5;241m-\u001b[39m\u001b[38;5;241m6.574\u001b[39m,\n\u001b[1;32m     11\u001b[0m     xarm_azimuth \u001b[38;5;241m=\u001b[39m \u001b[38;5;241m197.7165\u001b[39m,\n\u001b[1;32m     12\u001b[0m     yarm_azimuth \u001b[38;5;241m=\u001b[39m \u001b[38;5;241m287.7165\u001b[39m)\n\u001b[1;32m     14\u001b[0m \u001b[38;5;66;03m# LHO\u001b[39;00m\n\u001b[1;32m     15\u001b[0m ifosLHO \u001b[38;5;241m=\u001b[39m bilby\u001b[38;5;241m.\u001b[39mgw\u001b[38;5;241m.\u001b[39mdetector\u001b[38;5;241m.\u001b[39minterferometer\u001b[38;5;241m.\u001b[39mInterferometer(\n\u001b[1;32m     16\u001b[0m     name \u001b[38;5;241m=\u001b[39m \u001b[38;5;124m'\u001b[39m\u001b[38;5;124mLHO\u001b[39m\u001b[38;5;124m'\u001b[39m,\n\u001b[1;32m     17\u001b[0m     power_spectral_density \u001b[38;5;241m=\u001b[39m bilby\u001b[38;5;241m.\u001b[39mgw\u001b[38;5;241m.\u001b[39mdetector\u001b[38;5;241m.\u001b[39mPowerSpectralDensity(asd_file\u001b[38;5;241m=\u001b[39m\u001b[38;5;124m'\u001b[39m\u001b[38;5;124m./ligoA#_strain/ligoA#_strain.txt\u001b[39m\u001b[38;5;124m'\u001b[39m),\n\u001b[0;32m   (...)\u001b[0m\n\u001b[1;32m     26\u001b[0m     xarm_tilt \u001b[38;5;241m=\u001b[39m \u001b[38;5;241m-\u001b[39m\u001b[38;5;241m6.195e-4\u001b[39m,\n\u001b[1;32m     27\u001b[0m     yarm_tilt \u001b[38;5;241m=\u001b[39m \u001b[38;5;241m1.25e-5\u001b[39m)\n",
      "File \u001b[0;32m~/anaconda3/envs/lal2/lib/python3.10/site-packages/bilby/gw/detector/psd.py:57\u001b[0m, in \u001b[0;36mPowerSpectralDensity.__init__\u001b[0;34m(self, frequency_array, psd_array, asd_array, psd_file, asd_file)\u001b[0m\n\u001b[1;32m     55\u001b[0m     \u001b[38;5;28mself\u001b[39m\u001b[38;5;241m.\u001b[39masd_array \u001b[38;5;241m=\u001b[39m asd_array\n\u001b[1;32m     56\u001b[0m \u001b[38;5;28mself\u001b[39m\u001b[38;5;241m.\u001b[39mpsd_file \u001b[38;5;241m=\u001b[39m psd_file\n\u001b[0;32m---> 57\u001b[0m \u001b[38;5;28;43mself\u001b[39;49m\u001b[38;5;241;43m.\u001b[39;49m\u001b[43masd_file\u001b[49m \u001b[38;5;241m=\u001b[39m asd_file\n",
      "File \u001b[0;32m~/anaconda3/envs/lal2/lib/python3.10/site-packages/bilby/gw/detector/psd.py:264\u001b[0m, in \u001b[0;36mPowerSpectralDensity.asd_file\u001b[0;34m(self, asd_file)\u001b[0m\n\u001b[1;32m    262\u001b[0m \u001b[38;5;129m@asd_file\u001b[39m\u001b[38;5;241m.\u001b[39msetter\n\u001b[1;32m    263\u001b[0m \u001b[38;5;28;01mdef\u001b[39;00m \u001b[38;5;21masd_file\u001b[39m(\u001b[38;5;28mself\u001b[39m, asd_file):\n\u001b[0;32m--> 264\u001b[0m     asd_file \u001b[38;5;241m=\u001b[39m \u001b[38;5;28;43mself\u001b[39;49m\u001b[38;5;241;43m.\u001b[39;49m\u001b[43m__validate_file_name\u001b[49m\u001b[43m(\u001b[49m\u001b[43mfile\u001b[49m\u001b[38;5;241;43m=\u001b[39;49m\u001b[43masd_file\u001b[49m\u001b[43m)\u001b[49m\n\u001b[1;32m    265\u001b[0m     \u001b[38;5;28mself\u001b[39m\u001b[38;5;241m.\u001b[39m_asd_file \u001b[38;5;241m=\u001b[39m asd_file\n\u001b[1;32m    266\u001b[0m     \u001b[38;5;28;01mif\u001b[39;00m asd_file \u001b[38;5;129;01mis\u001b[39;00m \u001b[38;5;129;01mnot\u001b[39;00m \u001b[38;5;28;01mNone\u001b[39;00m:\n",
      "File \u001b[0;32m~/anaconda3/envs/lal2/lib/python3.10/site-packages/bilby/gw/detector/psd.py:331\u001b[0m, in \u001b[0;36mPowerSpectralDensity.__validate_file_name\u001b[0;34m(file)\u001b[0m\n\u001b[1;32m    329\u001b[0m         \u001b[38;5;28;01mreturn\u001b[39;00m file_in_default_directory\n\u001b[1;32m    330\u001b[0m     \u001b[38;5;28;01melse\u001b[39;00m:\n\u001b[0;32m--> 331\u001b[0m         \u001b[38;5;28;01mraise\u001b[39;00m \u001b[38;5;167;01mValueError\u001b[39;00m(\n\u001b[1;32m    332\u001b[0m             \u001b[38;5;124m\"\u001b[39m\u001b[38;5;124mUnable to locate PSD file \u001b[39m\u001b[38;5;132;01m{}\u001b[39;00m\u001b[38;5;124m locally or in the default dir\u001b[39m\u001b[38;5;124m\"\u001b[39m\n\u001b[1;32m    333\u001b[0m             \u001b[38;5;241m.\u001b[39mformat(file))\n\u001b[1;32m    334\u001b[0m \u001b[38;5;28;01mreturn\u001b[39;00m file\n",
      "\u001b[0;31mValueError\u001b[0m: Unable to locate PSD file ./ligoA#_strain/ligoA#_strain.txt locally or in the default dir"
     ]
    }
   ],
   "source": [
    "# LLO\n",
    "ifosLLO = bilby.gw.detector.interferometer.Interferometer(\n",
    "    name = 'LLO',\n",
    "    power_spectral_density = bilby.gw.detector.PowerSpectralDensity(asd_file='./ligoA#_strain/ligoA#_strain.txt'),\n",
    "    minimum_frequency = 10.,\n",
    "    maximum_frequency = 2048.,\n",
    "    length = 4,\n",
    "    latitude = 30 + 33. / 60 + 46.4196 / 3600,\n",
    "    longitude = -(90 + 46. / 60 + 27.2654 / 3600),\n",
    "    elevation = -6.574,\n",
    "    xarm_azimuth = 197.7165,\n",
    "    yarm_azimuth = 287.7165)\n",
    "\n",
    "# LHO\n",
    "ifosLHO = bilby.gw.detector.interferometer.Interferometer(\n",
    "    name = 'LHO',\n",
    "    power_spectral_density = bilby.gw.detector.PowerSpectralDensity(asd_file='./ligoA#_strain/ligoA#_strain.txt'),\n",
    "    minimum_frequency = 10.,\n",
    "    maximum_frequency = 2048.,\n",
    "    length = 4,\n",
    "    latitude = 46 + 27. / 60 + 18.528 / 3600,\n",
    "    longitude = -(119 + 24. / 60 + 27.5657 / 3600),\n",
    "    elevation = 142.554,\n",
    "    xarm_azimuth = 125.9994,\n",
    "    yarm_azimuth = 215.9994,\n",
    "    xarm_tilt = -6.195e-4,\n",
    "    yarm_tilt = 1.25e-5)\n",
    "\n",
    "# LIO\n",
    "ifosLIO = bilby.gw.detector.interferometer.Interferometer(\n",
    "    name = 'LIO',\n",
    "    power_spectral_density = bilby.gw.detector.PowerSpectralDensity(asd_file='./ligoA#_strain/ligoA#_strain.txt'),\n",
    "    minimum_frequency = 10.,\n",
    "    maximum_frequency = 2048.,\n",
    "    length = 4,\n",
    "    latitude = 19 + 36. / 60 + 47.9017 / 3600,\n",
    "    longitude = 77 + 01. / 60 + 51.0997 / 3600,\n",
    "    elevation = 450.,\n",
    "    xarm_azimuth = 117.6157,\n",
    "    yarm_azimuth = 117.6157 + 90.,\n",
    "    xarm_tilt = 0.,\n",
    "    yarm_tilt = 0.)"
   ]
  },
  {
   "cell_type": "code",
   "execution_count": 4,
   "id": "b7fb93d8-33b3-483f-86b0-b5467c1b642f",
   "metadata": {},
   "outputs": [
    {
     "ename": "NameError",
     "evalue": "name 'ifosLHO' is not defined",
     "output_type": "error",
     "traceback": [
      "\u001b[0;31m---------------------------------------------------------------------------\u001b[0m",
      "\u001b[0;31mNameError\u001b[0m                                 Traceback (most recent call last)",
      "Cell \u001b[0;32mIn[4], line 2\u001b[0m\n\u001b[1;32m      1\u001b[0m my_psd \u001b[38;5;241m=\u001b[39m {\u001b[38;5;124m'\u001b[39m\u001b[38;5;124mLHO\u001b[39m\u001b[38;5;124m'\u001b[39m:\u001b[38;5;124m'\u001b[39m\u001b[38;5;124m./ligoA#_strain/ligoA#_strain.txt\u001b[39m\u001b[38;5;124m'\u001b[39m, \u001b[38;5;124m'\u001b[39m\u001b[38;5;124mLLO\u001b[39m\u001b[38;5;124m'\u001b[39m:\u001b[38;5;124m'\u001b[39m\u001b[38;5;124m./ligoA#_strain/ligoA#_strain.txt\u001b[39m\u001b[38;5;124m'\u001b[39m, \u001b[38;5;124m'\u001b[39m\u001b[38;5;124mLIO\u001b[39m\u001b[38;5;124m'\u001b[39m:\u001b[38;5;124m'\u001b[39m\u001b[38;5;124m./ligoA#_strain/ligoA#_strain.txt\u001b[39m\u001b[38;5;124m'\u001b[39m}\n\u001b[0;32m----> 2\u001b[0m my_ifos \u001b[38;5;241m=\u001b[39m [\u001b[43mifosLHO\u001b[49m, ifosLLO, ifosLIO]\n\u001b[1;32m      3\u001b[0m my_psd_file \u001b[38;5;241m=\u001b[39m [\u001b[38;5;28;01mFalse\u001b[39;00m,\u001b[38;5;28;01mFalse\u001b[39;00m,\u001b[38;5;28;01mFalse\u001b[39;00m]\n\u001b[1;32m      5\u001b[0m snr_ \u001b[38;5;241m=\u001b[39m gwsnr\u001b[38;5;241m.\u001b[39mGWSNR(npool\u001b[38;5;241m=\u001b[39m\u001b[38;5;28mint\u001b[39m(\u001b[38;5;241m4\u001b[39m), \n\u001b[1;32m      6\u001b[0m     mtot_min\u001b[38;5;241m=\u001b[39m\u001b[38;5;241m2.\u001b[39m,\n\u001b[1;32m      7\u001b[0m     mtot_max\u001b[38;5;241m=\u001b[39m\u001b[38;5;241m6.\u001b[39m,  \u001b[38;5;66;03m# highest total mass possible at 10Hz\u001b[39;00m\n\u001b[0;32m   (...)\u001b[0m\n\u001b[1;32m     16\u001b[0m     psd_file\u001b[38;5;241m=\u001b[39mmy_psd_file,\n\u001b[1;32m     17\u001b[0m     ifos\u001b[38;5;241m=\u001b[39mmy_ifos)\n",
      "\u001b[0;31mNameError\u001b[0m: name 'ifosLHO' is not defined"
     ]
    }
   ],
   "source": [
    "my_psd = {'LHO':'./ligoA#_strain/ligoA#_strain.txt', 'LLO':'./ligoA#_strain/ligoA#_strain.txt', 'LIO':'./ligoA#_strain/ligoA#_strain.txt'}\n",
    "my_ifos = [ifosLHO, ifosLLO, ifosLIO]\n",
    "my_psd_file = [False,False,False]\n",
    "\n",
    "snr_ = gwsnr.GWSNR(npool=int(4), \n",
    "    mtot_min=2.,\n",
    "    mtot_max=6.,  # highest total mass possible at 10Hz\n",
    "    nsamples_mtot=100, \n",
    "    nsamples_mass_ratio=50,\n",
    "    sampling_frequency=2048.,\n",
    "    waveform_approximant = 'TaylorF2', \n",
    "    minimum_frequency = 10.,\n",
    "    snr_type = 'interpolation', \n",
    "    waveform_inspiral_must_be_above_fmin=False,\n",
    "    psds=my_psd,\n",
    "    psd_file=my_psd_file,\n",
    "    ifos=my_ifos)"
   ]
  },
  {
   "cell_type": "code",
   "execution_count": 16,
   "id": "6510bbac-7ffb-45d5-bce5-8fbf10bf3423",
   "metadata": {},
   "outputs": [
    {
     "name": "stderr",
     "output_type": "stream",
     "text": [
      "100%|█████████████████████████████████████████████████████████████████| 3/3 [00:00<00:00, 49.39it/s]\n"
     ]
    },
    {
     "data": {
      "text/plain": [
       "{'CE': array([ 2734.78349205,  9367.02711854, 15772.29348917]),\n",
       " 'ET': array([ 258.48674923,  899.67266619, 1462.70995915]),\n",
       " 'opt_snr_net': array([ 2746.97217822,  9410.13325866, 15839.97355847])}"
      ]
     },
     "execution_count": 16,
     "metadata": {},
     "output_type": "execute_result"
    }
   ],
   "source": [
    "# Bilby\n",
    "snr_.compute_bilby_snr_(mass_1=np.array([10.,50.,100.]), mass_2=np.array([10.,50.,100.]))"
   ]
  },
  {
   "cell_type": "code",
   "execution_count": 17,
   "id": "dce9ca20-0ce4-4142-805c-fb734c669473",
   "metadata": {},
   "outputs": [
    {
     "data": {
      "text/plain": [
       "{'opt_snr_net': array([ 2748.13067916,  9409.62434726, 15839.97185077]),\n",
       " 'CE': array([ 2735.92602228,  9366.52285064, 15772.29184074]),\n",
       " 'ET': array([ 258.71032125,  899.59993613, 1462.70924095])}"
      ]
     },
     "execution_count": 17,
     "metadata": {},
     "output_type": "execute_result"
    }
   ],
   "source": [
    "snr_.snr(mass_1=np.array([10.,50.,100.]), mass_2=np.array([10.,50.,100.]))"
   ]
  },
  {
   "cell_type": "code",
   "execution_count": null,
   "id": "e2661553-b4eb-4290-8019-f38d5e8d239d",
   "metadata": {},
   "outputs": [],
   "source": []
  },
  {
   "cell_type": "code",
   "execution_count": 8,
   "id": "eab5c12e-550f-4740-a8c6-0e7494028f4e",
   "metadata": {},
   "outputs": [
    {
     "name": "stdout",
     "output_type": "stream",
     "text": [
      "Given: IMR waveform\n",
      "psds not given. Choosing bilby's default psds\n",
      "getting stored interpolator...\n",
      "In case if you need regeneration of interpolator of the given gwsnr param, please delete this file, ./interpolator_pickle/halfSNR_dict_8.pickle\n"
     ]
    }
   ],
   "source": [
    "snr_ = gwsnr.GWSNR(npool=int(4), mtot_min=2., mtot_max=439.6, nsamples_mtot=100, nsamples_mass_ratio=10, \\\n",
    "                 sampling_frequency=4096.,\\\n",
    "                 waveform_approximant = 'IMRPhenomD', minimum_frequency = 10., \\\n",
    "                 snr_type = 'interpolation', waveform_inspiral_must_be_above_fmin=False)"
   ]
  },
  {
   "cell_type": "code",
   "execution_count": null,
   "id": "705e8dba-0a44-4712-b72a-4b5972983420",
   "metadata": {},
   "outputs": [],
   "source": [
    "check_dtype = list(psds.values())[0]  # to check if name or txt file\n",
    "######################\n",
    "# if psds dict is provided with txt file name corresponding to name of detectors as keys, \n",
    "# psd or asd txt file has two columns. 1st column: frequency array, 2nd column: strain \n",
    "# the default psd is in txt format\n",
    "if type(check_dtype)==str and check_dtype[-3:]=='txt':\n",
    "    for det in detectors:\n",
    "        try:\n",
    "            psds_[det] = psds[det]\n",
    "        except KeyError:\n",
    "            print('psd for {} detector not provided. The parameter psds dict should be contain, chosen detector names as keys \\\n",
    "            and corresponding psds txt file name as their values'.format(det))\n",
    "\n",
    "    # pushing the chosen psds to bilby's PowerSpectralDensity object\n",
    "    psd_file = self.psd_file\n",
    "    if psd_file:\n",
    "        if verbose==True:\n",
    "            print('the noise curve provided is psd type and not asd. If not, please set the psd_file=False')\n",
    "        for key in psds_:\n",
    "            psds_arrays[key] = bilby.gw.detector.PowerSpectralDensity(psd_file = psds[key])\n",
    "    else:\n",
    "        if verbose==True:\n",
    "            print('the noise curve provided is asd type and not psd. If not, please set the psd_file=True')\n",
    "        for key in psds_:\n",
    "            psds_arrays[key] = bilby.gw.detector.¸(asd_file = psds[key])\n",
    "######################      \n",
    "# name string should be avaible in the list of psds in pycbc\n",
    "elif type(check_dtype)==str:\n",
    "    delta_f = 1.0 / 16.\n",
    "    flen = int(self.sampling_frequency / delta_f)\n",
    "    low_frequency_cutoff = self.f_min\n",
    "\n",
    "    for det in detectors:\n",
    "        try:\n",
    "            psds_[det] = pycbc.psd.from_string(psds[det], flen, delta_f, low_frequency_cutoff)\n",
    "        except:\n",
    "            print('psd for {} detector not provided or psd name provided is not recognised by pycbc'.format(det))                     \n",
    "\n",
    "    # pushing the chosen psds to bilby's PowerSpectralDensity object\n",
    "    # psd_file bool checks whether it is a psd or asd\n",
    "    if psd_file:\n",
    "        if verbose==True:\n",
    "            print('the noise curve provided is psd type and not asd. If not, please set the psd_file=False')\n",
    "        for key in psds_:\n",
    "            psds_arrays[key] = bilby.gw.detector.PowerSpectralDensity(frequency_array=psds_[det].sample_frequencies, \\\n",
    "                                                                      psd_array=psds_[det].data)\n",
    "    else:\n",
    "        if verbose==True:\n",
    "            print('the noise curve provided is asd type and not psd. If not, please set the psd_file=True')\n",
    "        for key in psds_:\n",
    "            psds_arrays[key] = bilby.gw.detector.PowerSpectralDensity(frequency_array=psds_[det].sample_frequencies, \\\n",
    "                                                                      asd_array=psds_[det].data)\n",
    "else:\n",
    "    raise Exception(\"the psds format is not recognised. The parameter psds dict should contain chosen detector names as keys \\\n",
    "            and corresponding psds txt file name (or name from pycbc psd)as their values'\")"
   ]
  },
  {
   "cell_type": "code",
   "execution_count": 5,
   "id": "8321dd2d-aa43-46df-a413-d076d48a2350",
   "metadata": {},
   "outputs": [],
   "source": [
    "import numpy as np"
   ]
  },
  {
   "cell_type": "code",
   "execution_count": 6,
   "id": "43a55dcd-dfcc-4630-99e0-9f468c9f85f9",
   "metadata": {},
   "outputs": [
    {
     "data": {
      "text/plain": [
       "array([ True, False,  True])"
      ]
     },
     "execution_count": 6,
     "metadata": {},
     "output_type": "execute_result"
    }
   ],
   "source": [
    "a_ = [True,False,True]\n",
    "(np.array([a_]).reshape(-1)*np.ones(3)).astype('bool')"
   ]
  },
  {
   "cell_type": "code",
   "execution_count": 7,
   "id": "c585ef8c-9a5e-419e-a697-3acb7616168e",
   "metadata": {},
   "outputs": [
    {
     "data": {
      "text/plain": [
       "1"
      ]
     },
     "execution_count": 7,
     "metadata": {},
     "output_type": "execute_result"
    }
   ],
   "source": [
    "True*True"
   ]
  },
  {
   "cell_type": "code",
   "execution_count": 9,
   "id": "d37e26f4-a164-43b5-816e-e51766e5a271",
   "metadata": {},
   "outputs": [
    {
     "data": {
      "text/plain": [
       "\u001b[0;31mSignature:\u001b[0m \u001b[0misinstance\u001b[0m\u001b[0;34m(\u001b[0m\u001b[0mobj\u001b[0m\u001b[0;34m,\u001b[0m \u001b[0mclass_or_tuple\u001b[0m\u001b[0;34m,\u001b[0m \u001b[0;34m/\u001b[0m\u001b[0;34m)\u001b[0m\u001b[0;34m\u001b[0m\u001b[0;34m\u001b[0m\u001b[0m\n",
       "\u001b[0;31mDocstring:\u001b[0m\n",
       "Return whether an object is an instance of a class or of a subclass thereof.\n",
       "\n",
       "A tuple, as in ``isinstance(x, (A, B, ...))``, may be given as the target to\n",
       "check against. This is equivalent to ``isinstance(x, A) or isinstance(x, B)\n",
       "or ...`` etc.\n",
       "\u001b[0;31mType:\u001b[0m      builtin_function_or_method"
      ]
     },
     "metadata": {},
     "output_type": "display_data"
    }
   ],
   "source": [
    "isinstance?"
   ]
  },
  {
   "cell_type": "code",
   "execution_count": null,
   "id": "2d6a4fe9-32d9-48b0-91d2-73e131b151ac",
   "metadata": {},
   "outputs": [],
   "source": []
  }
 ],
 "metadata": {
  "kernelspec": {
   "display_name": "Python 3 (ipykernel)",
   "language": "python",
   "name": "python3"
  },
  "language_info": {
   "codemirror_mode": {
    "name": "ipython",
    "version": 3
   },
   "file_extension": ".py",
   "mimetype": "text/x-python",
   "name": "python",
   "nbconvert_exporter": "python",
   "pygments_lexer": "ipython3",
   "version": "3.10.9"
  }
 },
 "nbformat": 4,
 "nbformat_minor": 5
}
