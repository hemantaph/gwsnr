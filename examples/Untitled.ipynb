{
 "cells": [
  {
   "cell_type": "code",
   "execution_count": 1,
   "id": "92e54d18-cabc-4899-b0b2-5d115622d8ce",
   "metadata": {},
   "outputs": [],
   "source": [
    "import bilby\n",
    "import numpy as np\n",
    "import matplotlib.pyplot as plt\n",
    "%matplotlib inline"
   ]
  },
  {
   "cell_type": "code",
   "execution_count": null,
   "id": "7d5d4fbd-499b-4a83-b56b-d7c69a529199",
   "metadata": {},
   "outputs": [],
   "source": []
  },
  {
   "cell_type": "code",
   "execution_count": 3,
   "id": "1a8d2391-bf18-406b-a9bd-3738ef60a9a7",
   "metadata": {},
   "outputs": [],
   "source": [
    "injection_parameters = dict(\n",
    "    mass_1=36., mass_2=29., a_1=0.0, a_2=0.0, tilt_1=0.0, tilt_2=0.0,\n",
    "    phi_12=0., phi_jl=0., luminosity_distance=4000., theta_jn=0.4, psi=2.659,\n",
    "    phase=1.3, geocent_time=1126259642.413, ra=1.375, dec=-1.2108)"
   ]
  },
  {
   "cell_type": "code",
   "execution_count": 4,
   "id": "d5fecdbb-2152-4cbf-b54d-722645a71e2f",
   "metadata": {},
   "outputs": [],
   "source": [
    "waveform_arguments = dict(waveform_approximant='IMRPhenomXPHM',\n",
    "                          reference_frequency=50., minimum_frequency=20.)\n",
    "duration = 8.\n",
    "sampling_frequency = 2048.\n",
    "geocent_time=1249852257.0"
   ]
  },
  {
   "cell_type": "code",
   "execution_count": 5,
   "id": "bbcfd4e5-478e-49cf-b9a5-d2a97d25baa8",
   "metadata": {},
   "outputs": [
    {
     "name": "stderr",
     "output_type": "stream",
     "text": [
      "20:08 bilby INFO    : Waveform generator initiated with\n",
      "  frequency_domain_source_model: bilby.gw.source.lal_binary_black_hole\n",
      "  time_domain_source_model: None\n",
      "  parameter_conversion: bilby.gw.conversion.convert_to_lal_binary_black_hole_parameters\n"
     ]
    }
   ],
   "source": [
    "waveform_generator = bilby.gw.WaveformGenerator(\n",
    "    duration=duration, sampling_frequency=sampling_frequency,\n",
    "    frequency_domain_source_model=bilby.gw.source.lal_binary_black_hole,\n",
    "    parameter_conversion=bilby.gw.conversion.convert_to_lal_binary_black_hole_parameters,\n",
    "    waveform_arguments=waveform_arguments)"
   ]
  },
  {
   "cell_type": "code",
   "execution_count": 18,
   "id": "f2e116bc-ce54-4ce2-ad29-a8c2bf9ebf08",
   "metadata": {},
   "outputs": [
    {
     "ename": "NameError",
     "evalue": "name 'bilby' is not defined",
     "output_type": "error",
     "traceback": [
      "\u001b[0;31m---------------------------------------------------------------------------\u001b[0m",
      "\u001b[0;31mNameError\u001b[0m                                 Traceback (most recent call last)",
      "Cell \u001b[0;32mIn[18], line 1\u001b[0m\n\u001b[0;32m----> 1\u001b[0m ifos \u001b[38;5;241m=\u001b[39m \u001b[43mbilby\u001b[49m\u001b[38;5;241m.\u001b[39mgw\u001b[38;5;241m.\u001b[39mdetector\u001b[38;5;241m.\u001b[39mInterferometerList([\u001b[38;5;124m'\u001b[39m\u001b[38;5;124mCE\u001b[39m\u001b[38;5;124m'\u001b[39m,\u001b[38;5;124m'\u001b[39m\u001b[38;5;124mET\u001b[39m\u001b[38;5;124m'\u001b[39m])\n",
      "\u001b[0;31mNameError\u001b[0m: name 'bilby' is not defined"
     ]
    }
   ],
   "source": [
    "ifos = bilby.gw.detector.InterferometerList(['CE','ET'])"
   ]
  },
  {
   "cell_type": "code",
   "execution_count": 16,
   "id": "653f4106-e934-46c9-a615-ccf8c52dc0a8",
   "metadata": {},
   "outputs": [],
   "source": [
    "psds_arrays = {}\n",
    "psds_arrays['L1'] = bilby.gw.detector.PowerSpectralDensity(asd_file = 'cosmic_explorer_strain.txt')"
   ]
  },
  {
   "cell_type": "code",
   "execution_count": 17,
   "id": "3b3aa4a5-40a9-4b81-af9c-77b5d98553a7",
   "metadata": {},
   "outputs": [
    {
     "data": {
      "text/plain": [
       "array([8.47540010e-50, 6.29945225e-50, 5.61332527e-50])"
      ]
     },
     "execution_count": 17,
     "metadata": {},
     "output_type": "execute_result"
    }
   ],
   "source": [
    "psds_arrays['L1'].get_power_spectral_density_array(np.array([20,30,40]))"
   ]
  },
  {
   "cell_type": "code",
   "execution_count": null,
   "id": "e88e86f6-df45-439b-b76b-8e668882f403",
   "metadata": {},
   "outputs": [],
   "source": []
  },
  {
   "cell_type": "code",
   "execution_count": null,
   "id": "8ed865fd-45f4-4afa-8d5a-a986c3f60378",
   "metadata": {},
   "outputs": [],
   "source": []
  },
  {
   "cell_type": "code",
   "execution_count": null,
   "id": "b9e88ecf-91da-44d7-b813-8c896e55831b",
   "metadata": {},
   "outputs": [],
   "source": [
    "ifos.set_strain_data_from_power_spectral_densities(\n",
    "    sampling_frequency=sampling_frequency, duration=duration,\n",
    "    start_time=1249852257.0 - 3)"
   ]
  },
  {
   "cell_type": "code",
   "execution_count": null,
   "id": "7b53c44f-7db3-449e-a3e3-5865cc8e9758",
   "metadata": {},
   "outputs": [],
   "source": []
  },
  {
   "cell_type": "code",
   "execution_count": null,
   "id": "a30a69b0-666d-4d11-b454-f424969f4d6c",
   "metadata": {},
   "outputs": [],
   "source": []
  },
  {
   "cell_type": "code",
   "execution_count": null,
   "id": "29dca1ad-bd92-429e-83c6-6a16a4bc8be7",
   "metadata": {},
   "outputs": [],
   "source": []
  },
  {
   "cell_type": "code",
   "execution_count": null,
   "id": "840a5acd-6d53-48d3-9e99-2658515d1a5f",
   "metadata": {},
   "outputs": [],
   "source": []
  },
  {
   "cell_type": "code",
   "execution_count": null,
   "id": "b7d8d000-15b0-4602-bc5a-5224153126c0",
   "metadata": {},
   "outputs": [],
   "source": []
  },
  {
   "cell_type": "code",
   "execution_count": null,
   "id": "44f0b9c0-e56e-4bf8-8db4-8e3e838b5700",
   "metadata": {},
   "outputs": [],
   "source": []
  },
  {
   "cell_type": "code",
   "execution_count": null,
   "id": "e1100591-cb2f-46f0-8870-cb94e2c7c312",
   "metadata": {},
   "outputs": [],
   "source": []
  },
  {
   "cell_type": "code",
   "execution_count": 1,
   "id": "902e9207-98b3-44a8-ac23-a6a745300b27",
   "metadata": {},
   "outputs": [],
   "source": [
    "import gwsnr\n",
    "import numpy as np"
   ]
  },
  {
   "cell_type": "code",
   "execution_count": 15,
   "id": "b7fb93d8-33b3-483f-86b0-b5467c1b642f",
   "metadata": {},
   "outputs": [
    {
     "name": "stdout",
     "output_type": "stream",
     "text": [
      "Given: IMR waveform\n",
      "given psds:  {'CE': 'cosmic_explorer_strain.txt', 'ET': 'EinsteinTelescopeP1600143'}\n",
      "generating new interpolator for the given new gwsnr params\n"
     ]
    },
    {
     "name": "stderr",
     "output_type": "stream",
     "text": [
      "interpolation for each mass_ratios: 100%|███████████████████████████| 10/10 [00:27<00:00,  2.73s/it]"
     ]
    },
    {
     "name": "stdout",
     "output_type": "stream",
     "text": [
      "interpolator stored as ./interpolator_pickle/halfSNR_dict_10.pickle.\n",
      "In case if you need regeneration of interpolator of the given gwsnr param, please delete this file, ./interpolator_pickle/halfSNR_dict_10.pickle\n"
     ]
    },
    {
     "name": "stderr",
     "output_type": "stream",
     "text": [
      "\n"
     ]
    }
   ],
   "source": [
    "snr_ = gwsnr.GWSNR(npool=int(4), mtot_min=2., mtot_max=439.6, nsamples_mtot=100, nsamples_mass_ratio=10, \\\n",
    "                 sampling_frequency=4096.,\\\n",
    "                 waveform_approximant = 'IMRPhenomD', minimum_frequency = 10., \\\n",
    "                 snr_type = 'interpolation', waveform_inspiral_must_be_above_fmin=False,\\\n",
    "                  psds={'CE':'cosmic_explorer_strain.txt','ET':'EinsteinTelescopeP1600143'})"
   ]
  },
  {
   "cell_type": "code",
   "execution_count": 16,
   "id": "6510bbac-7ffb-45d5-bce5-8fbf10bf3423",
   "metadata": {},
   "outputs": [
    {
     "name": "stderr",
     "output_type": "stream",
     "text": [
      "100%|█████████████████████████████████████████████████████████████████| 3/3 [00:00<00:00, 49.39it/s]\n"
     ]
    },
    {
     "data": {
      "text/plain": [
       "{'CE': array([ 2734.78349205,  9367.02711854, 15772.29348917]),\n",
       " 'ET': array([ 258.48674923,  899.67266619, 1462.70995915]),\n",
       " 'opt_snr_net': array([ 2746.97217822,  9410.13325866, 15839.97355847])}"
      ]
     },
     "execution_count": 16,
     "metadata": {},
     "output_type": "execute_result"
    }
   ],
   "source": [
    "# Bilby\n",
    "snr_.compute_bilby_snr_(mass_1=np.array([10.,50.,100.]), mass_2=np.array([10.,50.,100.]))"
   ]
  },
  {
   "cell_type": "code",
   "execution_count": 17,
   "id": "dce9ca20-0ce4-4142-805c-fb734c669473",
   "metadata": {},
   "outputs": [
    {
     "data": {
      "text/plain": [
       "{'opt_snr_net': array([ 2748.13067916,  9409.62434726, 15839.97185077]),\n",
       " 'CE': array([ 2735.92602228,  9366.52285064, 15772.29184074]),\n",
       " 'ET': array([ 258.71032125,  899.59993613, 1462.70924095])}"
      ]
     },
     "execution_count": 17,
     "metadata": {},
     "output_type": "execute_result"
    }
   ],
   "source": [
    "snr_.snr(mass_1=np.array([10.,50.,100.]), mass_2=np.array([10.,50.,100.]))"
   ]
  },
  {
   "cell_type": "code",
   "execution_count": null,
   "id": "e2661553-b4eb-4290-8019-f38d5e8d239d",
   "metadata": {},
   "outputs": [],
   "source": []
  },
  {
   "cell_type": "code",
   "execution_count": 8,
   "id": "eab5c12e-550f-4740-a8c6-0e7494028f4e",
   "metadata": {},
   "outputs": [
    {
     "name": "stdout",
     "output_type": "stream",
     "text": [
      "Given: IMR waveform\n",
      "psds not given. Choosing bilby's default psds\n",
      "getting stored interpolator...\n",
      "In case if you need regeneration of interpolator of the given gwsnr param, please delete this file, ./interpolator_pickle/halfSNR_dict_8.pickle\n"
     ]
    }
   ],
   "source": [
    "snr_ = gwsnr.GWSNR(npool=int(4), mtot_min=2., mtot_max=439.6, nsamples_mtot=100, nsamples_mass_ratio=10, \\\n",
    "                 sampling_frequency=4096.,\\\n",
    "                 waveform_approximant = 'IMRPhenomD', minimum_frequency = 10., \\\n",
    "                 snr_type = 'interpolation', waveform_inspiral_must_be_above_fmin=False)"
   ]
  },
  {
   "cell_type": "code",
   "execution_count": null,
   "id": "705e8dba-0a44-4712-b72a-4b5972983420",
   "metadata": {},
   "outputs": [],
   "source": [
    "check_dtype = list(psds.values())[0]  # to check if name or txt file\n",
    "######################\n",
    "# if psds dict is provided with txt file name corresponding to name of detectors as keys, \n",
    "# psd or asd txt file has two columns. 1st column: frequency array, 2nd column: strain \n",
    "# the default psd is in txt format\n",
    "if type(check_dtype)==str and check_dtype[-3:]=='txt':\n",
    "    for det in detectors:\n",
    "        try:\n",
    "            psds_[det] = psds[det]\n",
    "        except KeyError:\n",
    "            print('psd for {} detector not provided. The parameter psds dict should be contain, chosen detector names as keys \\\n",
    "            and corresponding psds txt file name as their values'.format(det))\n",
    "\n",
    "    # pushing the chosen psds to bilby's PowerSpectralDensity object\n",
    "    psd_file = self.psd_file\n",
    "    if psd_file:\n",
    "        if verbose==True:\n",
    "            print('the noise curve provided is psd type and not asd. If not, please set the psd_file=False')\n",
    "        for key in psds_:\n",
    "            psds_arrays[key] = bilby.gw.detector.PowerSpectralDensity(psd_file = psds[key])\n",
    "    else:\n",
    "        if verbose==True:\n",
    "            print('the noise curve provided is asd type and not psd. If not, please set the psd_file=True')\n",
    "        for key in psds_:\n",
    "            psds_arrays[key] = bilby.gw.detector.¸(asd_file = psds[key])\n",
    "######################      \n",
    "# name string should be avaible in the list of psds in pycbc\n",
    "elif type(check_dtype)==str:\n",
    "    delta_f = 1.0 / 16.\n",
    "    flen = int(self.sampling_frequency / delta_f)\n",
    "    low_frequency_cutoff = self.f_min\n",
    "\n",
    "    for det in detectors:\n",
    "        try:\n",
    "            psds_[det] = pycbc.psd.from_string(psds[det], flen, delta_f, low_frequency_cutoff)\n",
    "        except:\n",
    "            print('psd for {} detector not provided or psd name provided is not recognised by pycbc'.format(det))                     \n",
    "\n",
    "    # pushing the chosen psds to bilby's PowerSpectralDensity object\n",
    "    # psd_file bool checks whether it is a psd or asd\n",
    "    if psd_file:\n",
    "        if verbose==True:\n",
    "            print('the noise curve provided is psd type and not asd. If not, please set the psd_file=False')\n",
    "        for key in psds_:\n",
    "            psds_arrays[key] = bilby.gw.detector.PowerSpectralDensity(frequency_array=psds_[det].sample_frequencies, \\\n",
    "                                                                      psd_array=psds_[det].data)\n",
    "    else:\n",
    "        if verbose==True:\n",
    "            print('the noise curve provided is asd type and not psd. If not, please set the psd_file=True')\n",
    "        for key in psds_:\n",
    "            psds_arrays[key] = bilby.gw.detector.PowerSpectralDensity(frequency_array=psds_[det].sample_frequencies, \\\n",
    "                                                                      asd_array=psds_[det].data)\n",
    "else:\n",
    "    raise Exception(\"the psds format is not recognised. The parameter psds dict should contain chosen detector names as keys \\\n",
    "            and corresponding psds txt file name (or name from pycbc psd)as their values'\")"
   ]
  },
  {
   "cell_type": "code",
   "execution_count": 5,
   "id": "8321dd2d-aa43-46df-a413-d076d48a2350",
   "metadata": {},
   "outputs": [],
   "source": [
    "import numpy as np"
   ]
  },
  {
   "cell_type": "code",
   "execution_count": 6,
   "id": "43a55dcd-dfcc-4630-99e0-9f468c9f85f9",
   "metadata": {},
   "outputs": [
    {
     "data": {
      "text/plain": [
       "array([ True, False,  True])"
      ]
     },
     "execution_count": 6,
     "metadata": {},
     "output_type": "execute_result"
    }
   ],
   "source": [
    "a_ = [True,False,True]\n",
    "(np.array([a_]).reshape(-1)*np.ones(3)).astype('bool')"
   ]
  },
  {
   "cell_type": "code",
   "execution_count": 7,
   "id": "c585ef8c-9a5e-419e-a697-3acb7616168e",
   "metadata": {},
   "outputs": [
    {
     "data": {
      "text/plain": [
       "1"
      ]
     },
     "execution_count": 7,
     "metadata": {},
     "output_type": "execute_result"
    }
   ],
   "source": [
    "True*True"
   ]
  },
  {
   "cell_type": "code",
   "execution_count": 9,
   "id": "d37e26f4-a164-43b5-816e-e51766e5a271",
   "metadata": {},
   "outputs": [
    {
     "data": {
      "text/plain": [
       "\u001b[0;31mSignature:\u001b[0m \u001b[0misinstance\u001b[0m\u001b[0;34m(\u001b[0m\u001b[0mobj\u001b[0m\u001b[0;34m,\u001b[0m \u001b[0mclass_or_tuple\u001b[0m\u001b[0;34m,\u001b[0m \u001b[0;34m/\u001b[0m\u001b[0;34m)\u001b[0m\u001b[0;34m\u001b[0m\u001b[0;34m\u001b[0m\u001b[0m\n",
       "\u001b[0;31mDocstring:\u001b[0m\n",
       "Return whether an object is an instance of a class or of a subclass thereof.\n",
       "\n",
       "A tuple, as in ``isinstance(x, (A, B, ...))``, may be given as the target to\n",
       "check against. This is equivalent to ``isinstance(x, A) or isinstance(x, B)\n",
       "or ...`` etc.\n",
       "\u001b[0;31mType:\u001b[0m      builtin_function_or_method"
      ]
     },
     "metadata": {},
     "output_type": "display_data"
    }
   ],
   "source": [
    "isinstance?"
   ]
  },
  {
   "cell_type": "code",
   "execution_count": null,
   "id": "2d6a4fe9-32d9-48b0-91d2-73e131b151ac",
   "metadata": {},
   "outputs": [],
   "source": []
  }
 ],
 "metadata": {
  "kernelspec": {
   "display_name": "Python 3 (ipykernel)",
   "language": "python",
   "name": "python3"
  },
  "language_info": {
   "codemirror_mode": {
    "name": "ipython",
    "version": 3
   },
   "file_extension": ".py",
   "mimetype": "text/x-python",
   "name": "python",
   "nbconvert_exporter": "python",
   "pygments_lexer": "ipython3",
   "version": "3.10.9"
  }
 },
 "nbformat": 4,
 "nbformat_minor": 5
}
