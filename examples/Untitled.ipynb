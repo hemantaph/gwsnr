{
 "cells": [
  {
   "cell_type": "code",
   "execution_count": 1,
   "id": "92e54d18-cabc-4899-b0b2-5d115622d8ce",
   "metadata": {},
   "outputs": [],
   "source": [
    "import bilby\n",
    "import numpy as np\n",
    "import matplotlib.pyplot as plt\n",
    "%matplotlib inline"
   ]
  },
  {
   "cell_type": "code",
   "execution_count": 2,
   "id": "902e9207-98b3-44a8-ac23-a6a745300b27",
   "metadata": {},
   "outputs": [],
   "source": [
    "import gwsnr\n",
    "import numpy as np"
   ]
  },
  {
   "cell_type": "code",
   "execution_count": 3,
   "id": "2444b77d-7e84-4639-bd24-6d21991fafa3",
   "metadata": {},
   "outputs": [],
   "source": [
    "# LLO\n",
    "ifosLLO = bilby.gw.detector.interferometer.Interferometer(\n",
    "    name = 'LLO',\n",
    "    power_spectral_density = bilby.gw.detector.PowerSpectralDensity(asd_file='./ligoA#_strain/ligoA#_strain.txt'),\n",
    "    minimum_frequency = 10.,\n",
    "    maximum_frequency = 2048.,\n",
    "    length = 4,\n",
    "    latitude = 30 + 33. / 60 + 46.4196 / 3600,\n",
    "    longitude = -(90 + 46. / 60 + 27.2654 / 3600),\n",
    "    elevation = -6.574,\n",
    "    xarm_azimuth = 197.7165,\n",
    "    yarm_azimuth = 287.7165)\n",
    "\n",
    "# LHO\n",
    "ifosLHO = bilby.gw.detector.interferometer.Interferometer(\n",
    "    name = 'LHO',\n",
    "    power_spectral_density = bilby.gw.detector.PowerSpectralDensity(asd_file='./ligoA#_strain/ligoA#_strain.txt'),\n",
    "    minimum_frequency = 10.,\n",
    "    maximum_frequency = 2048.,\n",
    "    length = 4,\n",
    "    latitude = 46 + 27. / 60 + 18.528 / 3600,\n",
    "    longitude = -(119 + 24. / 60 + 27.5657 / 3600),\n",
    "    elevation = 142.554,\n",
    "    xarm_azimuth = 125.9994,\n",
    "    yarm_azimuth = 215.9994,\n",
    "    xarm_tilt = -6.195e-4,\n",
    "    yarm_tilt = 1.25e-5)\n",
    "\n",
    "# LIO\n",
    "ifosLIO = bilby.gw.detector.interferometer.Interferometer(\n",
    "    name = 'LIO',\n",
    "    power_spectral_density = bilby.gw.detector.PowerSpectralDensity(asd_file='./ligoA#_strain/ligoA#_strain.txt'),\n",
    "    minimum_frequency = 10.,\n",
    "    maximum_frequency = 2048.,\n",
    "    length = 4,\n",
    "    latitude = 19 + 36. / 60 + 47.9017 / 3600,\n",
    "    longitude = 77 + 01. / 60 + 51.0997 / 3600,\n",
    "    elevation = 450.,\n",
    "    xarm_azimuth = 117.6157,\n",
    "    yarm_azimuth = 117.6157 + 90.,\n",
    "    xarm_tilt = 0.,\n",
    "    yarm_tilt = 0.)"
   ]
  },
  {
   "cell_type": "code",
   "execution_count": 14,
   "id": "b7fb93d8-33b3-483f-86b0-b5467c1b642f",
   "metadata": {},
   "outputs": [],
   "source": [
    "my_psd = {'LHO':'./ligoA#_strain/ligoA#_strain.txt', 'LLO':'./ligoA#_strain/ligoA#_strain.txt', 'LIO':'./ligoA#_strain/ligoA#_strain.txt'}\n",
    "my_ifos = [ifosLHO, ifosLLO, ifosLIO]\n",
    "my_psd_file = [False,False,False]"
   ]
  },
  {
   "cell_type": "code",
   "execution_count": 5,
   "id": "218d3cde-6c92-408e-bc64-aaecd157edb8",
   "metadata": {},
   "outputs": [],
   "source": [
    "my_psd = {'LHO':'./ligoA#_strain/ligoA#_strain.txt', 'LLO':'./ligoA#_strain/ligoA#_strain.txt'}\n",
    "my_ifos = [ifosLHO, ifosLLO]\n",
    "my_psd_file = [False,False]"
   ]
  },
  {
   "cell_type": "code",
   "execution_count": 15,
   "id": "43d43b22-0a16-497b-9ae0-9035d9e747e2",
   "metadata": {},
   "outputs": [
    {
     "name": "stdout",
     "output_type": "stream",
     "text": [
      "Given: IMR waveform\n",
      "given psds:  {'LHO': './ligoA#_strain/ligoA#_strain.txt', 'LLO': './ligoA#_strain/ligoA#_strain.txt', 'LIO': './ligoA#_strain/ligoA#_strain.txt'}\n",
      "getting stored interpolator...\n",
      "Interpolator will be loaded for LHO detector from ./interpolator_pickle/LHO/halfSNR_dict_0.pickle\n",
      "getting stored interpolator...\n",
      "Interpolator will be loaded for LLO detector from ./interpolator_pickle/LLO/halfSNR_dict_0.pickle\n",
      "Interpolator will be generated for LIO detector at ./interpolator_pickle/LIO/halfSNR_dict_0.pickle\n",
      "Generating interpolator for ['LIO'] detectors\n"
     ]
    },
    {
     "name": "stderr",
     "output_type": "stream",
     "text": [
      "interpolation for each mass_ratios: 100%|███████████████████████████| 50/50 [00:19<00:00,  2.51it/s]"
     ]
    },
    {
     "name": "stdout",
     "output_type": "stream",
     "text": [
      "interpolator generated\n"
     ]
    },
    {
     "name": "stderr",
     "output_type": "stream",
     "text": [
      "\n"
     ]
    }
   ],
   "source": [
    "snr_ = gwsnr.GWSNR(npool=int(4), \n",
    "    nsamples_mtot=100, \n",
    "    nsamples_mass_ratio=50,\n",
    "    snr_type = 'interpolation', \n",
    "    psds=my_psd,\n",
    "    psd_file=my_psd_file,\n",
    "    ifos=my_ifos)"
   ]
  },
  {
   "cell_type": "code",
   "execution_count": 17,
   "id": "338b1baa-3ff8-4ee2-8f57-a3905e56fb83",
   "metadata": {},
   "outputs": [],
   "source": [
    "psd = None"
   ]
  },
  {
   "cell_type": "code",
   "execution_count": 18,
   "id": "629b2742-e527-4849-8690-5d471b437496",
   "metadata": {},
   "outputs": [
    {
     "name": "stdout",
     "output_type": "stream",
     "text": [
      "yes\n"
     ]
    }
   ],
   "source": [
    "if not psd:\n",
    "    print(\"yes\")"
   ]
  },
  {
   "cell_type": "code",
   "execution_count": 20,
   "id": "28e25f8c-6b60-4d66-b5e9-59961543949c",
   "metadata": {},
   "outputs": [
    {
     "data": {
      "text/plain": [
       "True"
      ]
     },
     "execution_count": 20,
     "metadata": {},
     "output_type": "execute_result"
    }
   ],
   "source": [
    "param_dict_given['ifos'] == str(snr_.ifos[1])"
   ]
  },
  {
   "cell_type": "code",
   "execution_count": 12,
   "id": "a10e5f95-85be-412c-8396-9ff04602a70a",
   "metadata": {},
   "outputs": [
    {
     "name": "stdout",
     "output_type": "stream",
     "text": [
      "inside\n"
     ]
    }
   ],
   "source": [
    "if param_dict_given in param_dict_stored:\n",
    "    print(\"inside\")"
   ]
  },
  {
   "cell_type": "code",
   "execution_count": 17,
   "id": "50061c7d-015e-4fb5-b8b4-a38c88b6fecd",
   "metadata": {},
   "outputs": [
    {
     "data": {
      "text/plain": [
       "str"
      ]
     },
     "execution_count": 17,
     "metadata": {},
     "output_type": "execute_result"
    }
   ],
   "source": [
    "type(str(snr_.ifos[det_arg]))"
   ]
  },
  {
   "cell_type": "code",
   "execution_count": 6,
   "id": "6510bbac-7ffb-45d5-bce5-8fbf10bf3423",
   "metadata": {},
   "outputs": [
    {
     "name": "stderr",
     "output_type": "stream",
     "text": [
      "100%|█████████████████████████████████████████████████████████████████| 3/3 [00:00<00:00, 89.18it/s]\n"
     ]
    },
    {
     "data": {
      "text/plain": [
       "{'LHO': array([ 281.63707969,  958.67582526, 1586.23933506]),\n",
       " 'LLO': array([ 442.71142015, 1506.96327534, 2493.44393678]),\n",
       " 'LIO': array([ 426.49467783, 1451.76245148, 2402.10782938]),\n",
       " 'opt_snr_net': array([ 676.1734662 , 2301.65415879, 3808.35133856])}"
      ]
     },
     "execution_count": 6,
     "metadata": {},
     "output_type": "execute_result"
    }
   ],
   "source": [
    "# Bilby\n",
    "snr_.compute_bilby_snr_(mass_1=np.array([10.,50.,100.]), mass_2=np.array([10.,50.,100.]))"
   ]
  },
  {
   "cell_type": "code",
   "execution_count": 7,
   "id": "09def1db-a3f6-4fdb-98dc-8233b6c32fb6",
   "metadata": {},
   "outputs": [
    {
     "data": {
      "text/plain": [
       "{'opt_snr_net': array([ 677.23426123, 2301.67436865, 3808.35187708]),\n",
       " 'LHO': array([ 282.07891781,  958.68424299, 1586.23955936]),\n",
       " 'LLO': array([ 443.40595505, 1506.97650735, 2493.44428936]),\n",
       " 'LIO': array([ 427.16377156, 1451.7751988 , 2402.10816905])}"
      ]
     },
     "execution_count": 7,
     "metadata": {},
     "output_type": "execute_result"
    }
   ],
   "source": [
    "snr_.snr(mass_1=np.array([10.,50.,100.]), mass_2=np.array([10.,50.,100.]))"
   ]
  },
  {
   "cell_type": "code",
   "execution_count": 8,
   "id": "2553b635-f0f0-480f-b86d-89508fe14810",
   "metadata": {},
   "outputs": [
    {
     "data": {
      "text/plain": [
       "'./interpolator_pickle/LHO/halfSNR_dict_3.pickle'"
      ]
     },
     "execution_count": 8,
     "metadata": {},
     "output_type": "execute_result"
    }
   ],
   "source": [
    "snr_.interpolator_dict['LHO']"
   ]
  },
  {
   "cell_type": "code",
   "execution_count": null,
   "id": "705e8dba-0a44-4712-b72a-4b5972983420",
   "metadata": {},
   "outputs": [],
   "source": [
    "check_dtype = list(psds.values())[0]  # to check if name or txt file\n",
    "######################\n",
    "# if psds dict is provided with txt file name corresponding to name of detectors as keys, \n",
    "# psd or asd txt file has two columns. 1st column: frequency array, 2nd column: strain \n",
    "# the default psd is in txt format\n",
    "if type(check_dtype)==str and check_dtype[-3:]=='txt':\n",
    "    for det in detectors:\n",
    "        try:\n",
    "            psds_[det] = psds[det]\n",
    "        except KeyError:\n",
    "            print('psd for {} detector not provided. The parameter psds dict should be contain, chosen detector names as keys \\\n",
    "            and corresponding psds txt file name as their values'.format(det))\n",
    "\n",
    "    # pushing the chosen psds to bilby's PowerSpectralDensity object\n",
    "    psd_file = snr_.psd_file\n",
    "    if psd_file:\n",
    "        if verbose==True:\n",
    "            print('the noise curve provided is psd type and not asd. If not, please set the psd_file=False')\n",
    "        for key in psds_:\n",
    "            psds_arrays[key] = bilby.gw.detector.PowerSpectralDensity(psd_file = psds[key])\n",
    "    else:\n",
    "        if verbose==True:\n",
    "            print('the noise curve provided is asd type and not psd. If not, please set the psd_file=True')\n",
    "        for key in psds_:\n",
    "            psds_arrays[key] = bilby.gw.detector.¸(asd_file = psds[key])\n",
    "######################      \n",
    "# name string should be avaible in the list of psds in pycbc\n",
    "elif type(check_dtype)==str:\n",
    "    delta_f = 1.0 / 16.\n",
    "    flen = int(snr_.sampling_frequency / delta_f)\n",
    "    low_frequency_cutoff = snr_.f_min\n",
    "\n",
    "    for det in detectors:\n",
    "        try:\n",
    "            psds_[det] = pycbc.psd.from_string(psds[det], flen, delta_f, low_frequency_cutoff)\n",
    "        except:\n",
    "            print('psd for {} detector not provided or psd name provided is not recognised by pycbc'.format(det))                     \n",
    "\n",
    "    # pushing the chosen psds to bilby's PowerSpectralDensity object\n",
    "    # psd_file bool checks whether it is a psd or asd\n",
    "    if psd_file:\n",
    "        if verbose==True:\n",
    "            print('the noise curve provided is psd type and not asd. If not, please set the psd_file=False')\n",
    "        for key in psds_:\n",
    "            psds_arrays[key] = bilby.gw.detector.PowerSpectralDensity(frequency_array=psds_[det].sample_frequencies, \\\n",
    "                                                                      psd_array=psds_[det].data)\n",
    "    else:\n",
    "        if verbose==True:\n",
    "            print('the noise curve provided is asd type and not psd. If not, please set the psd_file=True')\n",
    "        for key in psds_:\n",
    "            psds_arrays[key] = bilby.gw.detector.PowerSpectralDensity(frequency_array=psds_[det].sample_frequencies, \\\n",
    "                                                                      asd_array=psds_[det].data)\n",
    "else:\n",
    "    raise Exception(\"the psds format is not recognised. The parameter psds dict should contain chosen detector names as keys \\\n",
    "            and corresponding psds txt file name (or name from pycbc psd)as their values'\")"
   ]
  },
  {
   "cell_type": "code",
   "execution_count": 5,
   "id": "8321dd2d-aa43-46df-a413-d076d48a2350",
   "metadata": {},
   "outputs": [],
   "source": [
    "import numpy as np"
   ]
  },
  {
   "cell_type": "code",
   "execution_count": 6,
   "id": "43a55dcd-dfcc-4630-99e0-9f468c9f85f9",
   "metadata": {},
   "outputs": [
    {
     "data": {
      "text/plain": [
       "array([ True, False,  True])"
      ]
     },
     "execution_count": 6,
     "metadata": {},
     "output_type": "execute_result"
    }
   ],
   "source": [
    "a_ = [True,False,True]\n",
    "(np.array([a_]).reshape(-1)*np.ones(3)).astype('bool')"
   ]
  },
  {
   "cell_type": "code",
   "execution_count": 7,
   "id": "c585ef8c-9a5e-419e-a697-3acb7616168e",
   "metadata": {},
   "outputs": [
    {
     "data": {
      "text/plain": [
       "1"
      ]
     },
     "execution_count": 7,
     "metadata": {},
     "output_type": "execute_result"
    }
   ],
   "source": [
    "True*True"
   ]
  },
  {
   "cell_type": "code",
   "execution_count": 9,
   "id": "d37e26f4-a164-43b5-816e-e51766e5a271",
   "metadata": {},
   "outputs": [
    {
     "data": {
      "text/plain": [
       "\u001b[0;31mSignature:\u001b[0m \u001b[0misinstance\u001b[0m\u001b[0;34m(\u001b[0m\u001b[0mobj\u001b[0m\u001b[0;34m,\u001b[0m \u001b[0mclass_or_tuple\u001b[0m\u001b[0;34m,\u001b[0m \u001b[0;34m/\u001b[0m\u001b[0;34m)\u001b[0m\u001b[0;34m\u001b[0m\u001b[0;34m\u001b[0m\u001b[0m\n",
       "\u001b[0;31mDocstring:\u001b[0m\n",
       "Return whether an object is an instance of a class or of a subclass thereof.\n",
       "\n",
       "A tuple, as in ``isinstance(x, (A, B, ...))``, may be given as the target to\n",
       "check against. This is equivalent to ``isinstance(x, A) or isinstance(x, B)\n",
       "or ...`` etc.\n",
       "\u001b[0;31mType:\u001b[0m      builtin_function_or_method"
      ]
     },
     "metadata": {},
     "output_type": "display_data"
    }
   ],
   "source": [
    "isinstance?"
   ]
  },
  {
   "cell_type": "code",
   "execution_count": 4,
   "id": "2d6a4fe9-32d9-48b0-91d2-73e131b151ac",
   "metadata": {},
   "outputs": [
    {
     "name": "stderr",
     "output_type": "stream",
     "text": [
      "04:15 bilby INFO    : No prior given, using default BBH priors in /Users/hemantaph/anaconda3/envs/lal2/lib/python3.10/site-packages/bilby/gw/prior_files/precessing_spins_bbh.prior.\n"
     ]
    }
   ],
   "source": [
    "import bilby\n",
    "prior_default = bilby.gw.prior.BBHPriorDict();"
   ]
  },
  {
   "cell_type": "code",
   "execution_count": 6,
   "id": "8f49346b-5555-425e-baaa-38dce13f0e6e",
   "metadata": {},
   "outputs": [
    {
     "data": {
      "text/plain": [
       "dict_keys(['mass_1', 'mass_2', 'mass_ratio', 'chirp_mass', 'luminosity_distance', 'dec', 'ra', 'theta_jn', 'psi', 'phase', 'a_1', 'a_2', 'tilt_1', 'tilt_2', 'phi_12', 'phi_jl'])"
      ]
     },
     "execution_count": 6,
     "metadata": {},
     "output_type": "execute_result"
    }
   ],
   "source": [
    "prior_default.keys()"
   ]
  },
  {
   "cell_type": "code",
   "execution_count": 7,
   "id": "55779d8a-2c43-4bd4-9928-956698b6afe4",
   "metadata": {},
   "outputs": [
    {
     "data": {
      "text/plain": [
       "Uniform(minimum=0, maximum=0.99, name='a_1', latex_label='$a_1$', unit=None, boundary=None)"
      ]
     },
     "execution_count": 7,
     "metadata": {},
     "output_type": "execute_result"
    }
   ],
   "source": [
    "prior_default['a_1']"
   ]
  },
  {
   "cell_type": "code",
   "execution_count": null,
   "id": "51750679-4f1e-4281-b6a4-e558dbc43fab",
   "metadata": {},
   "outputs": [],
   "source": [
    "model_pars={}"
   ]
  }
 ],
 "metadata": {
  "kernelspec": {
   "display_name": "Python 3 (ipykernel)",
   "language": "python",
   "name": "python3"
  },
  "language_info": {
   "codemirror_mode": {
    "name": "ipython",
    "version": 3
   },
   "file_extension": ".py",
   "mimetype": "text/x-python",
   "name": "python",
   "nbconvert_exporter": "python",
   "pygments_lexer": "ipython3",
   "version": "3.10.9"
  }
 },
 "nbformat": 4,
 "nbformat_minor": 5
}
