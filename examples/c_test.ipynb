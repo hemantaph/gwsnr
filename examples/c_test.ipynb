{
 "cells": [
  {
   "cell_type": "code",
   "execution_count": 12,
   "metadata": {},
   "outputs": [],
   "source": [
    "!export C_INCLUDE_PATH=\"/Users/phurailatpamhemantakumar/phd/lalsuite-install/include:$C_INCLUDE_PATH\""
   ]
  },
  {
   "cell_type": "code",
   "execution_count": 56,
   "metadata": {},
   "outputs": [
    {
     "name": "stdout",
     "output_type": "stream",
     "text": [
      "Overwriting test.c\n"
     ]
    }
   ],
   "source": [
    "%%file test.c\n",
    "#include <stdio.h>\n",
    "#include <stdlib.h>\n",
    "#include <math.h>\n",
    "\n",
    "// test \n",
    "int main(void) {\n",
    "    printf(\"Hello World!\\n\");\n",
    "    return EXIT_SUCCESS;\n",
    "}"
   ]
  },
  {
   "cell_type": "code",
   "execution_count": 50,
   "metadata": {},
   "outputs": [
    {
     "name": "stderr",
     "output_type": "stream",
     "text": [
      "test.c:4:10: fatal error: 'Date.h' file not found\n",
      "#include <Date.h>\n",
      "         ^~~~~~~~\n",
      "1 error generated.\n",
      "bash: line 3: ./test: No such file or directory\n"
     ]
    },
    {
     "ename": "CalledProcessError",
     "evalue": "Command 'b'gcc -I/Users/phurailatpamhemantakumar/anaconda3/envs/ler/lib/python3.10/site-packages/lal test.c -L/Users/phurailatpamhemantakumar/anaconda3/envs/ler/lib/python3.10/site-packages/lal -llal -o test\\nexport LD_LIBRARY_PATH=/Users/phurailatpamhemantakumar/anaconda3/envs/ler/lib/python3.10/site-packages/lal:$LD_LIBRARY_PATH\\n./test\\n'' returned non-zero exit status 127.",
     "output_type": "error",
     "traceback": [
      "\u001b[0;31m---------------------------------------------------------------------------\u001b[0m",
      "\u001b[0;31mCalledProcessError\u001b[0m                        Traceback (most recent call last)",
      "Cell \u001b[0;32mIn[50], line 1\u001b[0m\n\u001b[0;32m----> 1\u001b[0m \u001b[43mget_ipython\u001b[49m\u001b[43m(\u001b[49m\u001b[43m)\u001b[49m\u001b[38;5;241;43m.\u001b[39;49m\u001b[43mrun_cell_magic\u001b[49m\u001b[43m(\u001b[49m\u001b[38;5;124;43m'\u001b[39;49m\u001b[38;5;124;43mbash\u001b[39;49m\u001b[38;5;124;43m'\u001b[39;49m\u001b[43m,\u001b[49m\u001b[43m \u001b[49m\u001b[38;5;124;43m'\u001b[39;49m\u001b[38;5;124;43m'\u001b[39;49m\u001b[43m,\u001b[49m\u001b[43m \u001b[49m\u001b[38;5;124;43m'\u001b[39;49m\u001b[38;5;124;43mgcc -I/Users/phurailatpamhemantakumar/anaconda3/envs/ler/lib/python3.10/site-packages/lal test.c -L/Users/phurailatpamhemantakumar/anaconda3/envs/ler/lib/python3.10/site-packages/lal -llal -o test\u001b[39;49m\u001b[38;5;130;43;01m\\n\u001b[39;49;00m\u001b[38;5;124;43mexport LD_LIBRARY_PATH=/Users/phurailatpamhemantakumar/anaconda3/envs/ler/lib/python3.10/site-packages/lal:$LD_LIBRARY_PATH\u001b[39;49m\u001b[38;5;130;43;01m\\n\u001b[39;49;00m\u001b[38;5;124;43m./test\u001b[39;49m\u001b[38;5;130;43;01m\\n\u001b[39;49;00m\u001b[38;5;124;43m'\u001b[39;49m\u001b[43m)\u001b[49m\n",
      "File \u001b[0;32m~/anaconda3/envs/ler/lib/python3.10/site-packages/IPython/core/interactiveshell.py:2493\u001b[0m, in \u001b[0;36mInteractiveShell.run_cell_magic\u001b[0;34m(self, magic_name, line, cell)\u001b[0m\n\u001b[1;32m   2491\u001b[0m \u001b[38;5;28;01mwith\u001b[39;00m \u001b[38;5;28mself\u001b[39m\u001b[38;5;241m.\u001b[39mbuiltin_trap:\n\u001b[1;32m   2492\u001b[0m     args \u001b[38;5;241m=\u001b[39m (magic_arg_s, cell)\n\u001b[0;32m-> 2493\u001b[0m     result \u001b[38;5;241m=\u001b[39m \u001b[43mfn\u001b[49m\u001b[43m(\u001b[49m\u001b[38;5;241;43m*\u001b[39;49m\u001b[43margs\u001b[49m\u001b[43m,\u001b[49m\u001b[43m \u001b[49m\u001b[38;5;241;43m*\u001b[39;49m\u001b[38;5;241;43m*\u001b[39;49m\u001b[43mkwargs\u001b[49m\u001b[43m)\u001b[49m\n\u001b[1;32m   2495\u001b[0m \u001b[38;5;66;03m# The code below prevents the output from being displayed\u001b[39;00m\n\u001b[1;32m   2496\u001b[0m \u001b[38;5;66;03m# when using magics with decorator @output_can_be_silenced\u001b[39;00m\n\u001b[1;32m   2497\u001b[0m \u001b[38;5;66;03m# when the last Python token in the expression is a ';'.\u001b[39;00m\n\u001b[1;32m   2498\u001b[0m \u001b[38;5;28;01mif\u001b[39;00m \u001b[38;5;28mgetattr\u001b[39m(fn, magic\u001b[38;5;241m.\u001b[39mMAGIC_OUTPUT_CAN_BE_SILENCED, \u001b[38;5;28;01mFalse\u001b[39;00m):\n",
      "File \u001b[0;32m~/anaconda3/envs/ler/lib/python3.10/site-packages/IPython/core/magics/script.py:154\u001b[0m, in \u001b[0;36mScriptMagics._make_script_magic.<locals>.named_script_magic\u001b[0;34m(line, cell)\u001b[0m\n\u001b[1;32m    152\u001b[0m \u001b[38;5;28;01melse\u001b[39;00m:\n\u001b[1;32m    153\u001b[0m     line \u001b[38;5;241m=\u001b[39m script\n\u001b[0;32m--> 154\u001b[0m \u001b[38;5;28;01mreturn\u001b[39;00m \u001b[38;5;28;43mself\u001b[39;49m\u001b[38;5;241;43m.\u001b[39;49m\u001b[43mshebang\u001b[49m\u001b[43m(\u001b[49m\u001b[43mline\u001b[49m\u001b[43m,\u001b[49m\u001b[43m \u001b[49m\u001b[43mcell\u001b[49m\u001b[43m)\u001b[49m\n",
      "File \u001b[0;32m~/anaconda3/envs/ler/lib/python3.10/site-packages/IPython/core/magics/script.py:314\u001b[0m, in \u001b[0;36mScriptMagics.shebang\u001b[0;34m(self, line, cell)\u001b[0m\n\u001b[1;32m    309\u001b[0m \u001b[38;5;28;01mif\u001b[39;00m args\u001b[38;5;241m.\u001b[39mraise_error \u001b[38;5;129;01mand\u001b[39;00m p\u001b[38;5;241m.\u001b[39mreturncode \u001b[38;5;241m!=\u001b[39m \u001b[38;5;241m0\u001b[39m:\n\u001b[1;32m    310\u001b[0m     \u001b[38;5;66;03m# If we get here and p.returncode is still None, we must have\u001b[39;00m\n\u001b[1;32m    311\u001b[0m     \u001b[38;5;66;03m# killed it but not yet seen its return code. We don't wait for it,\u001b[39;00m\n\u001b[1;32m    312\u001b[0m     \u001b[38;5;66;03m# in case it's stuck in uninterruptible sleep. -9 = SIGKILL\u001b[39;00m\n\u001b[1;32m    313\u001b[0m     rc \u001b[38;5;241m=\u001b[39m p\u001b[38;5;241m.\u001b[39mreturncode \u001b[38;5;129;01mor\u001b[39;00m \u001b[38;5;241m-\u001b[39m\u001b[38;5;241m9\u001b[39m\n\u001b[0;32m--> 314\u001b[0m     \u001b[38;5;28;01mraise\u001b[39;00m CalledProcessError(rc, cell)\n",
      "\u001b[0;31mCalledProcessError\u001b[0m: Command 'b'gcc -I/Users/phurailatpamhemantakumar/anaconda3/envs/ler/lib/python3.10/site-packages/lal test.c -L/Users/phurailatpamhemantakumar/anaconda3/envs/ler/lib/python3.10/site-packages/lal -llal -o test\\nexport LD_LIBRARY_PATH=/Users/phurailatpamhemantakumar/anaconda3/envs/ler/lib/python3.10/site-packages/lal:$LD_LIBRARY_PATH\\n./test\\n'' returned non-zero exit status 127."
     ]
    }
   ],
   "source": [
    "%%bash\n",
    "gcc -I/Users/phurailatpamhemantakumar/anaconda3/envs/ler/lib/python3.10/site-packages/lal test.c -L/Users/phurailatpamhemantakumar/anaconda3/envs/ler/lib/python3.10/site-packages/lal -llal -o test\n",
    "export LD_LIBRARY_PATH=/Users/phurailatpamhemantakumar/anaconda3/envs/ler/lib/python3.10/site-packages/lal:$LD_LIBRARY_PATH\n",
    "./test"
   ]
  },
  {
   "cell_type": "code",
   "execution_count": 87,
   "metadata": {},
   "outputs": [
    {
     "name": "stderr",
     "output_type": "stream",
     "text": [
      "ld: unknown options: -rpath=$/Users/phurailatpamhemantakumar/anaconda3/envs/ler/lib/python3.10/site-packages/lalsimulation/ \n",
      "clang: error: linker command failed with exit code 1 (use -v to see invocation)\n"
     ]
    },
    {
     "ename": "CalledProcessError",
     "evalue": "Command 'b'gcc test.c /Users/phurailatpamhemantakumar/anaconda3/envs/ler/lib/python3.10/site-packages/lalsimulation/_lalsimulation.cpython-310-darwin.so -Wl,-rpath=$/Users/phurailatpamhemantakumar/anaconda3/envs/ler/lib/python3.10/site-packages/lalsimulation/\\n'' returned non-zero exit status 1.",
     "output_type": "error",
     "traceback": [
      "\u001b[0;31m---------------------------------------------------------------------------\u001b[0m",
      "\u001b[0;31mCalledProcessError\u001b[0m                        Traceback (most recent call last)",
      "Cell \u001b[0;32mIn[87], line 1\u001b[0m\n\u001b[0;32m----> 1\u001b[0m \u001b[43mget_ipython\u001b[49m\u001b[43m(\u001b[49m\u001b[43m)\u001b[49m\u001b[38;5;241;43m.\u001b[39;49m\u001b[43mrun_cell_magic\u001b[49m\u001b[43m(\u001b[49m\u001b[38;5;124;43m'\u001b[39;49m\u001b[38;5;124;43mbash\u001b[39;49m\u001b[38;5;124;43m'\u001b[39;49m\u001b[43m,\u001b[49m\u001b[43m \u001b[49m\u001b[38;5;124;43m'\u001b[39;49m\u001b[38;5;124;43m'\u001b[39;49m\u001b[43m,\u001b[49m\u001b[43m \u001b[49m\u001b[38;5;124;43m'\u001b[39;49m\u001b[38;5;124;43mgcc test.c /Users/phurailatpamhemantakumar/anaconda3/envs/ler/lib/python3.10/site-packages/lalsimulation/_lalsimulation.cpython-310-darwin.so -Wl,-rpath=$/Users/phurailatpamhemantakumar/anaconda3/envs/ler/lib/python3.10/site-packages/lalsimulation/\u001b[39;49m\u001b[38;5;130;43;01m\\n\u001b[39;49;00m\u001b[38;5;124;43m'\u001b[39;49m\u001b[43m)\u001b[49m\n",
      "File \u001b[0;32m~/anaconda3/envs/ler/lib/python3.10/site-packages/IPython/core/interactiveshell.py:2493\u001b[0m, in \u001b[0;36mInteractiveShell.run_cell_magic\u001b[0;34m(self, magic_name, line, cell)\u001b[0m\n\u001b[1;32m   2491\u001b[0m \u001b[38;5;28;01mwith\u001b[39;00m \u001b[38;5;28mself\u001b[39m\u001b[38;5;241m.\u001b[39mbuiltin_trap:\n\u001b[1;32m   2492\u001b[0m     args \u001b[38;5;241m=\u001b[39m (magic_arg_s, cell)\n\u001b[0;32m-> 2493\u001b[0m     result \u001b[38;5;241m=\u001b[39m \u001b[43mfn\u001b[49m\u001b[43m(\u001b[49m\u001b[38;5;241;43m*\u001b[39;49m\u001b[43margs\u001b[49m\u001b[43m,\u001b[49m\u001b[43m \u001b[49m\u001b[38;5;241;43m*\u001b[39;49m\u001b[38;5;241;43m*\u001b[39;49m\u001b[43mkwargs\u001b[49m\u001b[43m)\u001b[49m\n\u001b[1;32m   2495\u001b[0m \u001b[38;5;66;03m# The code below prevents the output from being displayed\u001b[39;00m\n\u001b[1;32m   2496\u001b[0m \u001b[38;5;66;03m# when using magics with decorator @output_can_be_silenced\u001b[39;00m\n\u001b[1;32m   2497\u001b[0m \u001b[38;5;66;03m# when the last Python token in the expression is a ';'.\u001b[39;00m\n\u001b[1;32m   2498\u001b[0m \u001b[38;5;28;01mif\u001b[39;00m \u001b[38;5;28mgetattr\u001b[39m(fn, magic\u001b[38;5;241m.\u001b[39mMAGIC_OUTPUT_CAN_BE_SILENCED, \u001b[38;5;28;01mFalse\u001b[39;00m):\n",
      "File \u001b[0;32m~/anaconda3/envs/ler/lib/python3.10/site-packages/IPython/core/magics/script.py:154\u001b[0m, in \u001b[0;36mScriptMagics._make_script_magic.<locals>.named_script_magic\u001b[0;34m(line, cell)\u001b[0m\n\u001b[1;32m    152\u001b[0m \u001b[38;5;28;01melse\u001b[39;00m:\n\u001b[1;32m    153\u001b[0m     line \u001b[38;5;241m=\u001b[39m script\n\u001b[0;32m--> 154\u001b[0m \u001b[38;5;28;01mreturn\u001b[39;00m \u001b[38;5;28;43mself\u001b[39;49m\u001b[38;5;241;43m.\u001b[39;49m\u001b[43mshebang\u001b[49m\u001b[43m(\u001b[49m\u001b[43mline\u001b[49m\u001b[43m,\u001b[49m\u001b[43m \u001b[49m\u001b[43mcell\u001b[49m\u001b[43m)\u001b[49m\n",
      "File \u001b[0;32m~/anaconda3/envs/ler/lib/python3.10/site-packages/IPython/core/magics/script.py:314\u001b[0m, in \u001b[0;36mScriptMagics.shebang\u001b[0;34m(self, line, cell)\u001b[0m\n\u001b[1;32m    309\u001b[0m \u001b[38;5;28;01mif\u001b[39;00m args\u001b[38;5;241m.\u001b[39mraise_error \u001b[38;5;129;01mand\u001b[39;00m p\u001b[38;5;241m.\u001b[39mreturncode \u001b[38;5;241m!=\u001b[39m \u001b[38;5;241m0\u001b[39m:\n\u001b[1;32m    310\u001b[0m     \u001b[38;5;66;03m# If we get here and p.returncode is still None, we must have\u001b[39;00m\n\u001b[1;32m    311\u001b[0m     \u001b[38;5;66;03m# killed it but not yet seen its return code. We don't wait for it,\u001b[39;00m\n\u001b[1;32m    312\u001b[0m     \u001b[38;5;66;03m# in case it's stuck in uninterruptible sleep. -9 = SIGKILL\u001b[39;00m\n\u001b[1;32m    313\u001b[0m     rc \u001b[38;5;241m=\u001b[39m p\u001b[38;5;241m.\u001b[39mreturncode \u001b[38;5;129;01mor\u001b[39;00m \u001b[38;5;241m-\u001b[39m\u001b[38;5;241m9\u001b[39m\n\u001b[0;32m--> 314\u001b[0m     \u001b[38;5;28;01mraise\u001b[39;00m CalledProcessError(rc, cell)\n",
      "\u001b[0;31mCalledProcessError\u001b[0m: Command 'b'gcc test.c /Users/phurailatpamhemantakumar/anaconda3/envs/ler/lib/python3.10/site-packages/lalsimulation/_lalsimulation.cpython-310-darwin.so -Wl,-rpath=$/Users/phurailatpamhemantakumar/anaconda3/envs/ler/lib/python3.10/site-packages/lalsimulation/\\n'' returned non-zero exit status 1."
     ]
    }
   ],
   "source": [
    "%%bash\n",
    "gcc test.c /Users/phurailatpamhemantakumar/anaconda3/envs/ler/lib/python3.10/site-packages/lalsimulation/_lalsimulation.cpython-310-darwin.so -Wl,-rpath=$/Users/phurailatpamhemantakumar/anaconda3/envs/ler/lib/python3.10/site-packages/lalsimulation/"
   ]
  },
  {
   "cell_type": "code",
   "execution_count": 82,
   "metadata": {},
   "outputs": [
    {
     "name": "stderr",
     "output_type": "stream",
     "text": [
      "ld: library 'lal' not found\n",
      "clang: error: linker command failed with exit code 1 (use -v to see invocation)\n"
     ]
    },
    {
     "ename": "CalledProcessError",
     "evalue": "Command 'b'export LD_LIBRARY_PATH=/Users/phurailatpamhemantakumar/anaconda3/envs/ler/lib/python3.10/site-packages/lalsimulation/:$LD_LIBRARY_PATH\\ngcc test.c -L/Users/phurailatpamhemantakumar/anaconda3/envs/ler/lib/python3.10/site-packages/lalsimulation/ -lm -ldl -l lal -o test\\n'' returned non-zero exit status 1.",
     "output_type": "error",
     "traceback": [
      "\u001b[0;31m---------------------------------------------------------------------------\u001b[0m",
      "\u001b[0;31mCalledProcessError\u001b[0m                        Traceback (most recent call last)",
      "Cell \u001b[0;32mIn[82], line 1\u001b[0m\n\u001b[0;32m----> 1\u001b[0m \u001b[43mget_ipython\u001b[49m\u001b[43m(\u001b[49m\u001b[43m)\u001b[49m\u001b[38;5;241;43m.\u001b[39;49m\u001b[43mrun_cell_magic\u001b[49m\u001b[43m(\u001b[49m\u001b[38;5;124;43m'\u001b[39;49m\u001b[38;5;124;43mbash\u001b[39;49m\u001b[38;5;124;43m'\u001b[39;49m\u001b[43m,\u001b[49m\u001b[43m \u001b[49m\u001b[38;5;124;43m'\u001b[39;49m\u001b[38;5;124;43m'\u001b[39;49m\u001b[43m,\u001b[49m\u001b[43m \u001b[49m\u001b[38;5;124;43m'\u001b[39;49m\u001b[38;5;124;43mexport LD_LIBRARY_PATH=/Users/phurailatpamhemantakumar/anaconda3/envs/ler/lib/python3.10/site-packages/lalsimulation/:$LD_LIBRARY_PATH\u001b[39;49m\u001b[38;5;130;43;01m\\n\u001b[39;49;00m\u001b[38;5;124;43mgcc test.c -L/Users/phurailatpamhemantakumar/anaconda3/envs/ler/lib/python3.10/site-packages/lalsimulation/ -lm -ldl -l lal -o test\u001b[39;49m\u001b[38;5;130;43;01m\\n\u001b[39;49;00m\u001b[38;5;124;43m'\u001b[39;49m\u001b[43m)\u001b[49m\n",
      "File \u001b[0;32m~/anaconda3/envs/ler/lib/python3.10/site-packages/IPython/core/interactiveshell.py:2493\u001b[0m, in \u001b[0;36mInteractiveShell.run_cell_magic\u001b[0;34m(self, magic_name, line, cell)\u001b[0m\n\u001b[1;32m   2491\u001b[0m \u001b[38;5;28;01mwith\u001b[39;00m \u001b[38;5;28mself\u001b[39m\u001b[38;5;241m.\u001b[39mbuiltin_trap:\n\u001b[1;32m   2492\u001b[0m     args \u001b[38;5;241m=\u001b[39m (magic_arg_s, cell)\n\u001b[0;32m-> 2493\u001b[0m     result \u001b[38;5;241m=\u001b[39m \u001b[43mfn\u001b[49m\u001b[43m(\u001b[49m\u001b[38;5;241;43m*\u001b[39;49m\u001b[43margs\u001b[49m\u001b[43m,\u001b[49m\u001b[43m \u001b[49m\u001b[38;5;241;43m*\u001b[39;49m\u001b[38;5;241;43m*\u001b[39;49m\u001b[43mkwargs\u001b[49m\u001b[43m)\u001b[49m\n\u001b[1;32m   2495\u001b[0m \u001b[38;5;66;03m# The code below prevents the output from being displayed\u001b[39;00m\n\u001b[1;32m   2496\u001b[0m \u001b[38;5;66;03m# when using magics with decorator @output_can_be_silenced\u001b[39;00m\n\u001b[1;32m   2497\u001b[0m \u001b[38;5;66;03m# when the last Python token in the expression is a ';'.\u001b[39;00m\n\u001b[1;32m   2498\u001b[0m \u001b[38;5;28;01mif\u001b[39;00m \u001b[38;5;28mgetattr\u001b[39m(fn, magic\u001b[38;5;241m.\u001b[39mMAGIC_OUTPUT_CAN_BE_SILENCED, \u001b[38;5;28;01mFalse\u001b[39;00m):\n",
      "File \u001b[0;32m~/anaconda3/envs/ler/lib/python3.10/site-packages/IPython/core/magics/script.py:154\u001b[0m, in \u001b[0;36mScriptMagics._make_script_magic.<locals>.named_script_magic\u001b[0;34m(line, cell)\u001b[0m\n\u001b[1;32m    152\u001b[0m \u001b[38;5;28;01melse\u001b[39;00m:\n\u001b[1;32m    153\u001b[0m     line \u001b[38;5;241m=\u001b[39m script\n\u001b[0;32m--> 154\u001b[0m \u001b[38;5;28;01mreturn\u001b[39;00m \u001b[38;5;28;43mself\u001b[39;49m\u001b[38;5;241;43m.\u001b[39;49m\u001b[43mshebang\u001b[49m\u001b[43m(\u001b[49m\u001b[43mline\u001b[49m\u001b[43m,\u001b[49m\u001b[43m \u001b[49m\u001b[43mcell\u001b[49m\u001b[43m)\u001b[49m\n",
      "File \u001b[0;32m~/anaconda3/envs/ler/lib/python3.10/site-packages/IPython/core/magics/script.py:314\u001b[0m, in \u001b[0;36mScriptMagics.shebang\u001b[0;34m(self, line, cell)\u001b[0m\n\u001b[1;32m    309\u001b[0m \u001b[38;5;28;01mif\u001b[39;00m args\u001b[38;5;241m.\u001b[39mraise_error \u001b[38;5;129;01mand\u001b[39;00m p\u001b[38;5;241m.\u001b[39mreturncode \u001b[38;5;241m!=\u001b[39m \u001b[38;5;241m0\u001b[39m:\n\u001b[1;32m    310\u001b[0m     \u001b[38;5;66;03m# If we get here and p.returncode is still None, we must have\u001b[39;00m\n\u001b[1;32m    311\u001b[0m     \u001b[38;5;66;03m# killed it but not yet seen its return code. We don't wait for it,\u001b[39;00m\n\u001b[1;32m    312\u001b[0m     \u001b[38;5;66;03m# in case it's stuck in uninterruptible sleep. -9 = SIGKILL\u001b[39;00m\n\u001b[1;32m    313\u001b[0m     rc \u001b[38;5;241m=\u001b[39m p\u001b[38;5;241m.\u001b[39mreturncode \u001b[38;5;129;01mor\u001b[39;00m \u001b[38;5;241m-\u001b[39m\u001b[38;5;241m9\u001b[39m\n\u001b[0;32m--> 314\u001b[0m     \u001b[38;5;28;01mraise\u001b[39;00m CalledProcessError(rc, cell)\n",
      "\u001b[0;31mCalledProcessError\u001b[0m: Command 'b'export LD_LIBRARY_PATH=/Users/phurailatpamhemantakumar/anaconda3/envs/ler/lib/python3.10/site-packages/lalsimulation/:$LD_LIBRARY_PATH\\ngcc test.c -L/Users/phurailatpamhemantakumar/anaconda3/envs/ler/lib/python3.10/site-packages/lalsimulation/ -lm -ldl -l lal -o test\\n'' returned non-zero exit status 1."
     ]
    }
   ],
   "source": [
    "%%bash\n",
    "export LD_LIBRARY_PATH=/Users/phurailatpamhemantakumar/anaconda3/envs/ler/lib/python3.10/site-packages/lalsimulation/:$LD_LIBRARY_PATH\n",
    "gcc test.c -L/Users/phurailatpamhemantakumar/anaconda3/envs/ler/lib/python3.10/site-packages/lalsimulation/ -lm -ldl -l lal -o test"
   ]
  },
  {
   "cell_type": "code",
   "execution_count": 78,
   "metadata": {},
   "outputs": [],
   "source": [
    "import lalsimulation"
   ]
  },
  {
   "cell_type": "code",
   "execution_count": 79,
   "metadata": {},
   "outputs": [
    {
     "data": {
      "text/plain": [
       "'/Users/phurailatpamhemantakumar/anaconda3/envs/ler/lib/python3.10/site-packages/lalsimulation/__init__.py'"
      ]
     },
     "execution_count": 79,
     "metadata": {},
     "output_type": "execute_result"
    }
   ],
   "source": [
    "lalsimulation.__file__"
   ]
  },
  {
   "cell_type": "code",
   "execution_count": 80,
   "metadata": {},
   "outputs": [
    {
     "name": "stdout",
     "output_type": "stream",
     "text": [
      "__init__.py                          \u001b[34mgwsignal\u001b[m\u001b[m\n",
      "\u001b[34m__pycache__\u001b[m\u001b[m                          lalsimulation.py\n",
      "\u001b[31m_lalsimulation.cpython-310-darwin.so\u001b[m\u001b[m \u001b[34mnrfits\u001b[m\u001b[m\n",
      "git_version.py                       \u001b[34mtilts_at_infinity\u001b[m\u001b[m\n"
     ]
    }
   ],
   "source": [
    "!ls /Users/phurailatpamhemantakumar/anaconda3/envs/ler/lib/python3.10/site-packages/lalsimulation/_lalsimulation.cpython-310-darwin.so"
   ]
  },
  {
   "cell_type": "code",
   "execution_count": 23,
   "metadata": {},
   "outputs": [],
   "source": [
    "!cp /Users/phurailatpamhemantakumar/anaconda3/envs/ler/lib/python3.10/site-packages/lal/_lal.cpython-310-darwin.so /Users/phurailatpamhemantakumar/phd/mypackages/gwsnr/examples/test.so"
   ]
  },
  {
   "cell_type": "code",
   "execution_count": 24,
   "metadata": {},
   "outputs": [
    {
     "name": "stdout",
     "output_type": "stream",
     "text": [
      "/Users/phurailatpamhemantakumar/phd/mypackages/gwsnr/examples\n"
     ]
    }
   ],
   "source": [
    "!pwd"
   ]
  },
  {
   "cell_type": "code",
   "execution_count": 81,
   "metadata": {},
   "outputs": [
    {
     "name": "stdout",
     "output_type": "stream",
     "text": [
      "/Users/phurailatpamhemantakumar/anaconda3/envs/ler/lib/python3.10/site-packages/lalsimulation/_lalsimulation.cpython-310-darwin.so:\n",
      "Load command 0\n",
      "      cmd LC_SEGMENT_64\n",
      "  cmdsize 472\n",
      "  segname __TEXT\n",
      "   vmaddr 0x0000000000000000\n",
      "   vmsize 0x0000000000a54000\n",
      "  fileoff 0\n",
      " filesize 10829824\n",
      "  maxprot 0x00000005\n",
      " initprot 0x00000005\n",
      "   nsects 5\n",
      "    flags 0x0\n",
      "Section\n",
      "  sectname __text\n",
      "   segname __TEXT\n",
      "      addr 0x0000000000005de8\n",
      "      size 0x00000000004399bc\n",
      "    offset 24040\n",
      "     align 2^2 (4)\n",
      "    reloff 0\n",
      "    nreloc 0\n",
      "     flags 0x80000400\n",
      " reserved1 0\n",
      " reserved2 0\n",
      "Section\n",
      "  sectname __stubs\n",
      "   segname __TEXT\n",
      "      addr 0x000000000043f7a4\n",
      "      size 0x000000000000651c\n",
      "    offset 4454308\n",
      "     align 2^2 (4)\n",
      "    reloff 0\n",
      "    nreloc 0\n",
      "     flags 0x80000408\n",
      " reserved1 0 (index into indirect symbol table)\n",
      " reserved2 12 (size of stubs)\n",
      "Section\n",
      "  sectname __const\n",
      "   segname __TEXT\n",
      "      addr 0x0000000000445cc0\n",
      "      size 0x00000000005122b0\n",
      "    offset 4480192\n",
      "     align 2^4 (16)\n",
      "    reloff 0\n",
      "    nreloc 0\n",
      "     flags 0x00000000\n",
      " reserved1 0\n",
      " reserved2 0\n",
      "Section\n",
      "  sectname __cstring\n",
      "   segname __TEXT\n",
      "      addr 0x0000000000957f70\n",
      "      size 0x00000000000fc006\n",
      "    offset 9797488\n",
      "     align 2^0 (1)\n",
      "    reloff 0\n",
      "    nreloc 0\n",
      "     flags 0x00000002\n",
      " reserved1 0\n",
      " reserved2 0\n",
      "Section\n",
      "  sectname __eh_frame\n",
      "   segname __TEXT\n",
      "      addr 0x0000000000a53f78\n",
      "      size 0x0000000000000084\n",
      "    offset 10829688\n",
      "     align 2^3 (8)\n",
      "    reloff 0\n",
      "    nreloc 0\n",
      "     flags 0x00000000\n",
      " reserved1 0\n",
      " reserved2 0\n",
      "Load command 1\n",
      "      cmd LC_SEGMENT_64\n",
      "  cmdsize 232\n",
      "  segname __DATA_CONST\n",
      "   vmaddr 0x0000000000a54000\n",
      "   vmsize 0x0000000000010000\n",
      "  fileoff 10829824\n",
      " filesize 65536\n",
      "  maxprot 0x00000003\n",
      " initprot 0x00000003\n",
      "   nsects 2\n",
      "    flags 0x10\n",
      "Section\n",
      "  sectname __got\n",
      "   segname __DATA_CONST\n",
      "      addr 0x0000000000a54000\n",
      "      size 0x0000000000004810\n",
      "    offset 10829824\n",
      "     align 2^3 (8)\n",
      "    reloff 0\n",
      "    nreloc 0\n",
      "     flags 0x00000006\n",
      " reserved1 2157 (index into indirect symbol table)\n",
      " reserved2 0\n",
      "Section\n",
      "  sectname __const\n",
      "   segname __DATA_CONST\n",
      "      addr 0x0000000000a58810\n",
      "      size 0x0000000000009648\n",
      "    offset 10848272\n",
      "     align 2^3 (8)\n",
      "    reloff 0\n",
      "    nreloc 0\n",
      "     flags 0x00000000\n",
      " reserved1 0\n",
      " reserved2 0\n",
      "Load command 2\n",
      "      cmd LC_SEGMENT_64\n",
      "  cmdsize 312\n",
      "  segname __DATA\n",
      "   vmaddr 0x0000000000a64000\n",
      "   vmsize 0x0000000000024000\n",
      "  fileoff 10895360\n",
      " filesize 131072\n",
      "  maxprot 0x00000003\n",
      " initprot 0x00000003\n",
      "   nsects 3\n",
      "    flags 0x0\n",
      "Section\n",
      "  sectname __data\n",
      "   segname __DATA\n",
      "      addr 0x0000000000a64000\n",
      "      size 0x000000000001d004\n",
      "    offset 10895360\n",
      "     align 2^3 (8)\n",
      "    reloff 0\n",
      "    nreloc 0\n",
      "     flags 0x00000000\n",
      " reserved1 0\n",
      " reserved2 0\n",
      "Section\n",
      "  sectname __common\n",
      "   segname __DATA\n",
      "      addr 0x0000000000a81010\n",
      "      size 0x00000000000002a0\n",
      "    offset 0\n",
      "     align 2^4 (16)\n",
      "    reloff 0\n",
      "    nreloc 0\n",
      "     flags 0x00000001\n",
      " reserved1 0\n",
      " reserved2 0\n",
      "Section\n",
      "  sectname __bss\n",
      "   segname __DATA\n",
      "      addr 0x0000000000a812b0\n",
      "      size 0x0000000000003bf4\n",
      "    offset 0\n",
      "     align 2^3 (8)\n",
      "    reloff 0\n",
      "    nreloc 0\n",
      "     flags 0x00000001\n",
      " reserved1 0\n",
      " reserved2 0\n",
      "Load command 3\n",
      "      cmd LC_SEGMENT_64\n",
      "  cmdsize 72\n",
      "  segname __LINKEDIT\n",
      "   vmaddr 0x0000000000a88000\n",
      "   vmsize 0x0000000000064000\n",
      "  fileoff 11026432\n",
      " filesize 398960\n",
      "  maxprot 0x00000001\n",
      " initprot 0x00000001\n",
      "   nsects 0\n",
      "    flags 0x0\n",
      "Load command 4\n",
      "      cmd LC_DYLD_CHAINED_FIXUPS\n",
      "  cmdsize 16\n",
      "  dataoff 11026432\n",
      " datasize 91440\n",
      "Load command 5\n",
      "      cmd LC_DYLD_EXPORTS_TRIE\n",
      "  cmdsize 16\n",
      "  dataoff 11117872\n",
      " datasize 47768\n",
      "Load command 6\n",
      "     cmd LC_SYMTAB\n",
      " cmdsize 24\n",
      "  symoff 11174152\n",
      "   nsyms 2501\n",
      "  stroff 11232024\n",
      " strsize 86664\n",
      "Load command 7\n",
      "            cmd LC_DYSYMTAB\n",
      "        cmdsize 80\n",
      "      ilocalsym 0\n",
      "      nlocalsym 1\n",
      "     iextdefsym 1\n",
      "     nextdefsym 1943\n",
      "      iundefsym 1944\n",
      "      nundefsym 557\n",
      "         tocoff 0\n",
      "           ntoc 0\n",
      "      modtaboff 0\n",
      "        nmodtab 0\n",
      "   extrefsymoff 0\n",
      "    nextrefsyms 0\n",
      " indirectsymoff 11214168\n",
      "  nindirectsyms 4463\n",
      "      extreloff 0\n",
      "        nextrel 0\n",
      "      locreloff 0\n",
      "        nlocrel 0\n",
      "Load command 8\n",
      "     cmd LC_UUID\n",
      " cmdsize 24\n",
      "    uuid 08911494-6CB3-3D4E-A930-80E0114A3142\n",
      "Load command 9\n",
      "      cmd LC_BUILD_VERSION\n",
      "  cmdsize 32\n",
      " platform 1\n",
      "    minos 12.0\n",
      "      sdk 13.0\n",
      "   ntools 1\n",
      "     tool 3\n",
      "  version 820.1\n",
      "Load command 10\n",
      "      cmd LC_SOURCE_VERSION\n",
      "  cmdsize 16\n",
      "  version 0.0\n",
      "Load command 11\n",
      "          cmd LC_LOAD_DYLIB\n",
      "      cmdsize 80\n",
      "         name @loader_path/../lal/.dylibs/liblalsupport.14.dylib (offset 24)\n",
      "   time stamp 2 Thu Jan  1 08:00:02 1970\n",
      "      current version 16.0.0\n",
      "compatibility version 16.0.0\n",
      "Load command 12\n",
      "          cmd LC_LOAD_DYLIB\n",
      "      cmdsize 72\n",
      "         name @loader_path/../lal/.dylibs/libz.1.2.13.dylib (offset 24)\n",
      "   time stamp 2 Thu Jan  1 08:00:02 1970\n",
      "      current version 1.2.13\n",
      "compatibility version 1.0.0\n",
      "Load command 13\n",
      "          cmd LC_LOAD_DYLIB\n",
      "      cmdsize 72\n",
      "         name @loader_path/../lal/.dylibs/libsz.2.dylib (offset 24)\n",
      "   time stamp 2 Thu Jan  1 08:00:02 1970\n",
      "      current version 3.1.0\n",
      "compatibility version 3.0.0\n",
      "Load command 14\n",
      "          cmd LC_LOAD_DYLIB\n",
      "      cmdsize 56\n",
      "         name /usr/lib/libSystem.B.dylib (offset 24)\n",
      "   time stamp 2 Thu Jan  1 08:00:02 1970\n",
      "      current version 1319.0.0\n",
      "compatibility version 1.0.0\n",
      "Load command 15\n",
      "          cmd LC_LOAD_DYLIB\n",
      "      cmdsize 72\n",
      "         name @loader_path/../lal/.dylibs/libhdf5.310.dylib (offset 24)\n",
      "   time stamp 2 Thu Jan  1 08:00:02 1970\n",
      "      current version 312.0.0\n",
      "compatibility version 312.0.0\n",
      "Load command 16\n",
      "          cmd LC_LOAD_DYLIB\n",
      "      cmdsize 80\n",
      "         name @loader_path/../lal/.dylibs/libhdf5_hl.310.dylib (offset 24)\n",
      "   time stamp 2 Thu Jan  1 08:00:02 1970\n",
      "      current version 311.1.0\n",
      "compatibility version 311.0.0\n",
      "Load command 17\n",
      "          cmd LC_LOAD_DYLIB\n",
      "      cmdsize 72\n",
      "         name @loader_path/../lal/.dylibs/liblal.20.dylib (offset 24)\n",
      "   time stamp 2 Thu Jan  1 08:00:02 1970\n",
      "      current version 24.1.0\n",
      "compatibility version 24.0.0\n",
      "Load command 18\n",
      "          cmd LC_LOAD_DYLIB\n",
      "      cmdsize 72\n",
      "         name @loader_path/../lal/.dylibs/libfftw3.3.dylib (offset 24)\n",
      "   time stamp 2 Thu Jan  1 08:00:02 1970\n",
      "      current version 10.10.0\n",
      "compatibility version 10.0.0\n",
      "Load command 19\n",
      "          cmd LC_LOAD_DYLIB\n",
      "      cmdsize 72\n",
      "         name @loader_path/../lal/.dylibs/libfftw3f.3.dylib (offset 24)\n",
      "   time stamp 2 Thu Jan  1 08:00:02 1970\n",
      "      current version 10.10.0\n",
      "compatibility version 10.0.0\n",
      "Load command 20\n",
      "          cmd LC_LOAD_DYLIB\n",
      "      cmdsize 72\n",
      "         name @loader_path/../lal/.dylibs/libgsl.27.dylib (offset 24)\n",
      "   time stamp 2 Thu Jan  1 08:00:02 1970\n",
      "      current version 28.0.0\n",
      "compatibility version 28.0.0\n",
      "Load command 21\n",
      "          cmd LC_LOAD_DYLIB\n",
      "      cmdsize 72\n",
      "         name @loader_path/../lal/.dylibs/libgslcblas.0.dylib (offset 24)\n",
      "   time stamp 2 Thu Jan  1 08:00:02 1970\n",
      "      current version 1.0.0\n",
      "compatibility version 1.0.0\n",
      "Load command 22\n",
      "      cmd LC_FUNCTION_STARTS\n",
      "  cmdsize 16\n",
      "  dataoff 11165640\n",
      " datasize 8512\n",
      "Load command 23\n",
      "      cmd LC_DATA_IN_CODE\n",
      "  cmdsize 16\n",
      "  dataoff 11174152\n",
      " datasize 0\n",
      "Load command 24\n",
      "      cmd LC_CODE_SIGNATURE\n",
      "  cmdsize 16\n",
      "  dataoff 11318688\n",
      " datasize 106704\n"
     ]
    }
   ],
   "source": [
    "!otool -l /Users/phurailatpamhemantakumar/anaconda3/envs/ler/lib/python3.10/site-packages/lalsimulation/_lalsimulation.cpython-310-darwin.so"
   ]
  },
  {
   "cell_type": "code",
   "execution_count": null,
   "metadata": {},
   "outputs": [],
   "source": []
  }
 ],
 "metadata": {
  "kernelspec": {
   "display_name": "ler",
   "language": "python",
   "name": "python3"
  },
  "language_info": {
   "codemirror_mode": {
    "name": "ipython",
    "version": 3
   },
   "file_extension": ".py",
   "mimetype": "text/x-python",
   "name": "python",
   "nbconvert_exporter": "python",
   "pygments_lexer": "ipython3",
   "version": "3.10.12"
  }
 },
 "nbformat": 4,
 "nbformat_minor": 2
}
