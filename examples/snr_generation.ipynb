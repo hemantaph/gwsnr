{
 "cells": [
  {
   "cell_type": "markdown",
   "metadata": {},
   "source": [
    "# SNR (optimal) generation and comparison \n",
    "\n",
    "This notebook is a full guide on how to use the `gwsnr` package to generate the 'optimal signal-to-noise ratio' (SNR) and 'probability of detection' (Pdet) for a given Gravitational Wave (GW) signal.\n",
    "\n",
    "## Contents\n",
    "\n",
    "1. Introduction to `gwsnr` package\n",
    "   \n",
    "2. SNR with bilby inner product\n",
    "   \n",
    "3. Interpolation with Partial Scaling method\n",
    "  \n",
    "    * Testing speed and accurarcy between the interpolation method and inner product method\n",
    "    * Pdet calculation\n",
    "    * Changing the input arguments\n",
    "   \n",
    "4. SNR and Pdet with Artificial Neural Network ANN\n",
    "\n",
    "5. Inner product assisted with JAX "
   ]
  },
  {
   "cell_type": "markdown",
   "metadata": {},
   "source": [
    "## I. Introduction to `gwsnr` package\n",
    "\n",
    "`gwsnr` is a Python package for calculating the signal-to-noise ratio (SNR) of GW signals. It is designed for detecting GWs from compact binary coalescences (CBCs) with ground-based interferometers. This flexible and user-friendly tool allows users to mix and match different noise models, waveform models, detector configurations, and signal parameters. SNR calculations are enhanced through interpolation techniques and parallel processing.\n",
    "\n",
    "By default, `gwsnr` uses the interpolation method. The example below generates the SNR for a GW signal from a spin-less binary black hole (BBH) merger with the following parameters: primary mass $m_1 = 30 M_\\odot$, secondary mass $m_2 = 30 M_\\odot$, and luminosity distance $d_L = 1000 \\text{ Mpc}$; while the other parameters are set to their default values."
   ]
  },
  {
   "cell_type": "code",
   "execution_count": 2,
   "metadata": {},
   "outputs": [
    {
     "name": "stdout",
     "output_type": "stream",
     "text": [
      "\n",
      "Initializing GWSNR class...\n",
      "\n",
      "psds not given. Choosing bilby's default psds\n",
      "Interpolator will be generated for L1 detector at ./interpolator_pickle/L1/partialSNR_dict_0.pickle\n",
      "Interpolator will be generated for H1 detector at ./interpolator_pickle/H1/partialSNR_dict_0.pickle\n",
      "Interpolator will be generated for V1 detector at ./interpolator_pickle/V1/partialSNR_dict_0.pickle\n",
      "Please be patient while the interpolator is generated\n",
      "Generating interpolator for ['L1', 'H1', 'V1'] detectors\n"
     ]
    },
    {
     "name": "stderr",
     "output_type": "stream",
     "text": [
      "100%|█████████████████████████████████████████████████████| 399700/399700 [02:31<00:00, 2637.73it/s]\n"
     ]
    },
    {
     "name": "stdout",
     "output_type": "stream",
     "text": [
      "\n",
      "Saving Partial-SNR for L1 detector with shape (20, 200, 10, 10)\n",
      "\n",
      "Saving Partial-SNR for H1 detector with shape (20, 200, 10, 10)\n",
      "\n",
      "Saving Partial-SNR for V1 detector with shape (20, 200, 10, 10)\n",
      "\n",
      "Chosen GWSNR initialization parameters:\n",
      "\n",
      "npool:  8\n",
      "snr type:  interpolation_aligned_spins_jax\n",
      "waveform approximant:  IMRPhenomD\n",
      "sampling frequency:  2048.0\n",
      "minimum frequency (fmin):  20.0\n",
      "mtot=mass1+mass2\n",
      "min(mtot):  9.96\n",
      "max(mtot) (with the given fmin=20.0): 225.0\n",
      "detectors:  ['L1', 'H1', 'V1']\n",
      "psds:  [PowerSpectralDensity(psd_file='None', asd_file='/Users/phurailatpamhemantakumar/anaconda3/envs/ler/lib/python3.10/site-packages/bilby/gw/detector/noise_curves/aLIGO_O4_high_asd.txt'), PowerSpectralDensity(psd_file='None', asd_file='/Users/phurailatpamhemantakumar/anaconda3/envs/ler/lib/python3.10/site-packages/bilby/gw/detector/noise_curves/aLIGO_O4_high_asd.txt'), PowerSpectralDensity(psd_file='None', asd_file='/Users/phurailatpamhemantakumar/anaconda3/envs/ler/lib/python3.10/site-packages/bilby/gw/detector/noise_curves/AdV_asd.txt')]\n",
      "\n",
      "\n"
     ]
    }
   ],
   "source": [
    "# loading GWSNR class from the gwsnr package\n",
    "from gwsnr import GWSNR\n",
    "import numpy as np\n",
    "\n",
    "# initializing the GWSNR class with default parameters\n",
    "gwsnr = GWSNR(npool=8, snr_type='interpolation_aligned_spins_jax', waveform_approximant='IMRPhenomD',\n",
    ")"
   ]
  },
  {
   "cell_type": "code",
   "execution_count": 3,
   "metadata": {},
   "outputs": [
    {
     "name": "stdout",
     "output_type": "stream",
     "text": [
      "\n",
      "Initializing GWSNR class...\n",
      "\n",
      "psds not given. Choosing bilby's default psds\n",
      "Intel processor has trouble allocating memory when the data is huge. So, by default for IMRPhenomXPHM, duration_max = 64.0. Otherwise, set to some max value like duration_max = 600.0 (10 mins)\n",
      "Interpolator will be generated for L1 detector at ./interpolator_pickle/L1/partialSNR_dict_1.pickle\n",
      "Interpolator will be generated for H1 detector at ./interpolator_pickle/H1/partialSNR_dict_1.pickle\n",
      "Interpolator will be generated for V1 detector at ./interpolator_pickle/V1/partialSNR_dict_1.pickle\n",
      "Please be patient while the interpolator is generated\n",
      "Generating interpolator for ['L1', 'H1', 'V1'] detectors\n"
     ]
    },
    {
     "name": "stderr",
     "output_type": "stream",
     "text": [
      "100%|█████████████████████████████████████████████████████| 399700/399700 [03:37<00:00, 1840.29it/s]\n"
     ]
    },
    {
     "name": "stdout",
     "output_type": "stream",
     "text": [
      "\n",
      "Saving Partial-SNR for L1 detector with shape (20, 200, 10, 10)\n",
      "\n",
      "Saving Partial-SNR for H1 detector with shape (20, 200, 10, 10)\n",
      "\n",
      "Saving Partial-SNR for V1 detector with shape (20, 200, 10, 10)\n",
      "\n",
      "Chosen GWSNR initialization parameters:\n",
      "\n",
      "npool:  8\n",
      "snr type:  interpolation_aligned_spins\n",
      "waveform approximant:  IMRPhenomXPHM\n",
      "sampling frequency:  2048.0\n",
      "minimum frequency (fmin):  20.0\n",
      "mtot=mass1+mass2\n",
      "min(mtot):  9.96\n",
      "max(mtot) (with the given fmin=20.0): 225.0\n",
      "detectors:  ['L1', 'H1', 'V1']\n",
      "psds:  [PowerSpectralDensity(psd_file='None', asd_file='/Users/phurailatpamhemantakumar/anaconda3/envs/ler/lib/python3.10/site-packages/bilby/gw/detector/noise_curves/aLIGO_O4_high_asd.txt'), PowerSpectralDensity(psd_file='None', asd_file='/Users/phurailatpamhemantakumar/anaconda3/envs/ler/lib/python3.10/site-packages/bilby/gw/detector/noise_curves/aLIGO_O4_high_asd.txt'), PowerSpectralDensity(psd_file='None', asd_file='/Users/phurailatpamhemantakumar/anaconda3/envs/ler/lib/python3.10/site-packages/bilby/gw/detector/noise_curves/AdV_asd.txt')]\n",
      "\n",
      "\n"
     ]
    }
   ],
   "source": [
    "from gwsnr import GWSNR\n",
    "import numpy as np\n",
    "\n",
    "# initializing the GWSNR class with default parameters\n",
    "gwsnr = GWSNR(npool=8, snr_type='interpolation_aligned_spins', waveform_approximant='IMRPhenomXPHM',\n",
    ")"
   ]
  },
  {
   "cell_type": "code",
   "execution_count": 4,
   "metadata": {},
   "outputs": [
    {
     "name": "stdout",
     "output_type": "stream",
     "text": [
      "\n",
      "Initializing GWSNR class...\n",
      "\n",
      "Interpolator will be generated for CE detector at ./interpolator_pickle/CE/partialSNR_dict_0.pickle\n",
      "Interpolator will be generated for ET1 detector at ./interpolator_pickle/ET1/partialSNR_dict_0.pickle\n",
      "Interpolator will be generated for ET2 detector at ./interpolator_pickle/ET2/partialSNR_dict_0.pickle\n",
      "Interpolator will be generated for ET3 detector at ./interpolator_pickle/ET3/partialSNR_dict_0.pickle\n",
      "Please be patient while the interpolator is generated\n",
      "Generating interpolator for ['CE', 'ET1', 'ET2', 'ET3'] detectors\n",
      "\n",
      "Saving Partial-SNR for CE detector with shape (20, 200, 10, 10)\n",
      "\n",
      "Saving Partial-SNR for ET1 detector with shape (20, 200, 10, 10)\n",
      "\n",
      "Saving Partial-SNR for ET2 detector with shape (20, 200, 10, 10)\n",
      "\n",
      "Saving Partial-SNR for ET3 detector with shape (20, 200, 10, 10)\n",
      "\n",
      "Chosen GWSNR initialization parameters:\n",
      "\n",
      "npool:  4\n",
      "snr type:  interpolation_aligned_spins\n",
      "waveform approximant:  IMRPhenomD\n",
      "sampling frequency:  2048.0\n",
      "minimum frequency (fmin):  10.0\n",
      "mtot=mass1+mass2\n",
      "min(mtot):  9.96\n",
      "max(mtot) (with the given fmin=10.0): 225.0\n",
      "detectors:  ['CE', 'ET1', 'ET2', 'ET3']\n",
      "psds:  [PowerSpectralDensity(psd_file='/Users/phurailatpamhemantakumar/anaconda3/envs/ler/lib/python3.10/site-packages/bilby/gw/detector/noise_curves/CE_psd.txt', asd_file='None'), PowerSpectralDensity(psd_file='/Users/phurailatpamhemantakumar/anaconda3/envs/ler/lib/python3.10/site-packages/bilby/gw/detector/noise_curves/ET_D_psd.txt', asd_file='None'), PowerSpectralDensity(psd_file='/Users/phurailatpamhemantakumar/anaconda3/envs/ler/lib/python3.10/site-packages/bilby/gw/detector/noise_curves/ET_D_psd.txt', asd_file='None'), PowerSpectralDensity(psd_file='/Users/phurailatpamhemantakumar/anaconda3/envs/ler/lib/python3.10/site-packages/bilby/gw/detector/noise_curves/ET_D_psd.txt', asd_file='None')]\n",
      "\n",
      "\n"
     ]
    }
   ],
   "source": [
    "from gwsnr import GWSNR\n",
    "gwsnr = GWSNR(\n",
    "    npool = int(4), \n",
    "    minimum_frequency = 10.,\n",
    "    snr_type = 'interpolation_aligned_spins', \n",
    "    #psds = {'CE':'CE_psd.txt', 'ET':'ET_B_psd.txt'}, # if you want to use your own psd\n",
    "    ifos = ['CE', 'ET'],  # this will considet bilby's default psd of CE and ET\n",
    "    multiprocessing_verbose=False,\n",
    ")"
   ]
  },
  {
   "cell_type": "code",
   "execution_count": 5,
   "metadata": {},
   "outputs": [
    {
     "name": "stdout",
     "output_type": "stream",
     "text": [
      "done initializing GWSNR class\n"
     ]
    }
   ],
   "source": [
    "print('done initializing GWSNR class')"
   ]
  },
  {
   "cell_type": "code",
   "execution_count": null,
   "metadata": {},
   "outputs": [],
   "source": []
  },
  {
   "cell_type": "code",
   "execution_count": 38,
   "metadata": {},
   "outputs": [
    {
     "name": "stdout",
     "output_type": "stream",
     "text": [
      "\n",
      "Initializing GWSNR class...\n",
      "\n",
      "psds not given. Choosing bilby's default psds\n",
      "Interpolator will be loaded for L1 detector from ./interpolator_pickle/L1/partialSNR_dict_2.pickle\n",
      "Interpolator will be loaded for H1 detector from ./interpolator_pickle/H1/partialSNR_dict_2.pickle\n",
      "Interpolator will be loaded for V1 detector from ./interpolator_pickle/V1/partialSNR_dict_2.pickle\n",
      "\n",
      "Chosen GWSNR initialization parameters:\n",
      "\n",
      "npool:  8\n",
      "snr type:  interpolation_aligned_spins_jax\n",
      "waveform approximant:  IMRPhenomD\n",
      "sampling frequency:  2048.0\n",
      "minimum frequency (fmin):  20.0\n",
      "mtot=mass1+mass2\n",
      "min(mtot):  9.96\n",
      "max(mtot) (with the given fmin=20.0): 225.0\n",
      "detectors:  ['L1', 'H1', 'V1']\n",
      "psds:  [PowerSpectralDensity(psd_file='None', asd_file='/Users/phurailatpamhemantakumar/anaconda3/envs/ler/lib/python3.10/site-packages/bilby/gw/detector/noise_curves/aLIGO_O4_high_asd.txt'), PowerSpectralDensity(psd_file='None', asd_file='/Users/phurailatpamhemantakumar/anaconda3/envs/ler/lib/python3.10/site-packages/bilby/gw/detector/noise_curves/aLIGO_O4_high_asd.txt'), PowerSpectralDensity(psd_file='None', asd_file='/Users/phurailatpamhemantakumar/anaconda3/envs/ler/lib/python3.10/site-packages/bilby/gw/detector/noise_curves/AdV_asd.txt')]\n",
      "\n",
      "\n"
     ]
    }
   ],
   "source": [
    "# loading GWSNR class from the gwsnr package\n",
    "from gwsnr import GWSNR\n",
    "import numpy as np\n",
    "\n",
    "# initializing the GWSNR class with default parameters\n",
    "gwsnr = GWSNR(npool=8, snr_type='interpolation_aligned_spins_jax', waveform_approximant='IMRPhenomD',\n",
    ")"
   ]
  },
  {
   "cell_type": "code",
   "execution_count": 40,
   "metadata": {},
   "outputs": [
    {
     "name": "stderr",
     "output_type": "stream",
     "text": [
      "100%|████████████████████████████████████████████████████████████| 100/100 [00:00<00:00, 214.38it/s]\n"
     ]
    }
   ],
   "source": [
    "import time\n",
    "\n",
    "nsamples = 100\n",
    "mtot = 30.0  # np.random.uniform(gwsnr.mtot_min, gwsnr.mtot_max, size=nsamples)\n",
    "mass_ratio = 0.6  # np.random.uniform(0.2, 1.0, nsamples)\n",
    "chirp_mass = mtot * (mass_ratio**(3/5)) / (1 + mass_ratio)**(1/5)\n",
    "param_dict = dict(\n",
    "    mass_1 = mtot*mass_ratio/(1+mass_ratio)*np.ones(nsamples),\n",
    "    mass_2 = mtot/(1+mass_ratio)*np.ones(nsamples),\n",
    "    # Fix luminosity distance\n",
    "    luminosity_distance = 500*np.ones(nsamples),\n",
    "    # Randomly sample everything else:\n",
    "    theta_jn = np.pi/3*np.ones(nsamples), #np.random.uniform(0, np.pi/2, size=nsamples),\n",
    "    ra = np.zeros(nsamples),\n",
    "    dec = np.zeros(nsamples),\n",
    "    psi = np.zeros(nsamples),\n",
    "    phase = np.zeros(nsamples),\n",
    "    geocent_time = 1246527224.169434*np.ones(nsamples),\n",
    "    # spin zero\n",
    "    a_1 = np.random.uniform(-0.8, 0.8, size=nsamples),  # spin of primary\n",
    "    a_2 = 0.6*np.ones(nsamples),  # spin of secondary is zero\n",
    "    # tilt_1 = np.pi/4*np.ones(nsamples),  # tilt of primary\n",
    "    # tilt_2 = np.pi/3*np.ones(nsamples),  # tilt of secondary\n",
    "    # # uniform\n",
    "    # phi_12 = np.pi*np.ones(nsamples), # np.random.uniform(0, 2*np.pi, nsamples),  # spin phase of primary\n",
    "    # # not neccessary \n",
    "    # phi_jl = np.pi/3*np.ones(nsamples), # np.random.uniform(0, 2*np.pi, nsamples),  # spin phase of secondary\n",
    ")\n",
    "\n",
    "# additional interpolation parameters\n",
    "# til\n",
    "\n",
    "snrs = gwsnr.compute_bilby_snr(gw_param_dict=param_dict)['L1']\n",
    "\n",
    "# start = time.time()\n",
    "# for i in range(3):\n",
    "#     start_ = time.time()\n",
    "#     gwsnr.snr(gw_param_dict=param_dict);\n",
    "#     end_ = time.time()\n",
    "#     print(f\"Iteration {i+1} took {end_ - start_:.2f} seconds\")\n",
    "# end = time.time()\n",
    "# print(f\"Time taken for 3 iterations with {nsamples} samples: {end - start:.2f} seconds\")"
   ]
  },
  {
   "cell_type": "code",
   "execution_count": 41,
   "metadata": {},
   "outputs": [],
   "source": [
    "from gwsnr.numba import antenna_response_array\n",
    "\n",
    "geocent_time_ = param_dict['geocent_time']\n",
    "theta_jn_ = param_dict['theta_jn']\n",
    "ra_ = param_dict['ra']\n",
    "dec_ = param_dict['dec']\n",
    "psi_ = param_dict['psi']\n",
    "phase_ = param_dict['phase']\n",
    "luminosity_distance_ = param_dict['luminosity_distance']\n",
    "\n",
    "# Vectorized computation for effective luminosity distance\n",
    "Fp, Fc = antenna_response_array(ra_, dec_, geocent_time_, psi_, gwsnr.detector_tensor_list)\n",
    "Fp = Fp[0,:]\n",
    "Fc = Fc[0,:]\n",
    "\n",
    "dl_eff = luminosity_distance_ / np.sqrt(\n",
    "    Fp**2 * ((1 + np.cos(theta_jn_) ** 2) / 2) ** 2\n",
    "    + Fc**2 * np.cos(theta_jn_) ** 2\n",
    ")\n",
    "\n",
    "Mchirp_scaled = chirp_mass ** (5.0 / 6.0)\n",
    "\n",
    "partial_snr = snrs/ (dl_eff * Mchirp_scaled)"
   ]
  },
  {
   "cell_type": "code",
   "execution_count": 42,
   "metadata": {},
   "outputs": [
    {
     "data": {
      "image/png": "[encoded data removed]",
      "text/plain": [
       "<Figure size 1000x600 with 1 Axes>"
      ]
     },
     "metadata": {},
     "output_type": "display_data"
    }
   ],
   "source": [
    "# plot\n",
    "import matplotlib.pyplot as plt\n",
    "\n",
    "plt.figure(figsize=(10, 6))\n",
    "plt.plot(param_dict['a_1'], partial_snr, 'o', markersize=2, alpha=0.5)\n",
    "plt.show()"
   ]
  },
  {
   "cell_type": "code",
   "execution_count": 34,
   "metadata": {},
   "outputs": [
    {
     "data": {
      "image/png": "[encoded data removed]",
      "text/plain": [
       "<Figure size 1000x600 with 1 Axes>"
      ]
     },
     "metadata": {},
     "output_type": "display_data"
    }
   ],
   "source": [
    "# plot\n",
    "import matplotlib.pyplot as plt\n",
    "\n",
    "plt.figure(figsize=(10, 6))\n",
    "plt.plot(param_dict['a_1'], snrs, 'o', markersize=2, alpha=0.5)\n",
    "plt.show()"
   ]
  },
  {
   "cell_type": "code",
   "execution_count": null,
   "metadata": {},
   "outputs": [],
   "source": []
  },
  {
   "cell_type": "code",
   "execution_count": null,
   "metadata": {},
   "outputs": [],
   "source": []
  },
  {
   "cell_type": "code",
   "execution_count": 1,
   "metadata": {},
   "outputs": [
    {
     "name": "stdout",
     "output_type": "stream",
     "text": [
      "Resource path: interpolator_pickle\n",
      "Copied directory to: /Users/phurailatpamhemantakumar/phd/mypackages/gwsnr/examples/interpolator_pickle\n"
     ]
    }
   ],
   "source": [
    "import shutil\n",
    "import os\n",
    "from importlib.resources import path\n",
    "import pathlib\n",
    "\n",
    "# Get the path to the resource\n",
    "with path('gwsnr.core', 'interpolator_pickle') as resource_path:\n",
    "    resource_path = pathlib.Path(resource_path)  # Ensure it's a Path object\n",
    "    print(f\"Resource path: {resource_path.name}\")\n",
    "\n",
    "    # Define destination path (same name in current working directory)\n",
    "    dest_path = pathlib.Path.cwd() / resource_path.name\n",
    "\n",
    "    # Copy entire directory tree\n",
    "    if dest_path.exists():\n",
    "        shutil.rmtree(dest_path)\n",
    "    shutil.copytree(resource_path, dest_path)\n",
    "    print(f\"Copied directory to: {dest_path}\")"
   ]
  },
  {
   "cell_type": "code",
   "execution_count": null,
   "metadata": {},
   "outputs": [],
   "source": []
  },
  {
   "cell_type": "code",
   "execution_count": 9,
   "metadata": {},
   "outputs": [],
   "source": [
    "test_ = test[0:1]"
   ]
  },
  {
   "cell_type": "code",
   "execution_count": 12,
   "metadata": {},
   "outputs": [],
   "source": [
    "# save test_ to a pickle file\n",
    "save_pickle(\"/Users/phurailatpamhemantakumar/phd/mypackages/gwsnr/examples/interpolator_pickle/L1/param_dict_list.pickle\", test_)"
   ]
  },
  {
   "cell_type": "code",
   "execution_count": 39,
   "metadata": {},
   "outputs": [
    {
     "data": {
      "text/plain": [
       "128"
      ]
     },
     "execution_count": 39,
     "metadata": {},
     "output_type": "execute_result"
    }
   ],
   "source": [
    "32*4"
   ]
  },
  {
   "cell_type": "code",
   "execution_count": 10,
   "metadata": {},
   "outputs": [
    {
     "data": {
      "text/plain": [
       "True"
      ]
     },
     "execution_count": 10,
     "metadata": {},
     "output_type": "execute_result"
    }
   ],
   "source": [
    "test2 = test.copy()\n",
    "test2 == test"
   ]
  },
  {
   "cell_type": "code",
   "execution_count": 6,
   "metadata": {},
   "outputs": [
    {
     "data": {
      "text/plain": [
       "([{'mtot_min': 2.0,\n",
       "   'mtot_max': 184.98599853446768,\n",
       "   'mtot_resolution': 200,\n",
       "   'ratio_min': 0.1,\n",
       "   'ratio_max': 1.0,\n",
       "   'ratio_resolution': 50,\n",
       "   'sampling_frequency': 2048.0,\n",
       "   'waveform_approximant': 'IMRPhenomD',\n",
       "   'minimum_frequency': 20.0,\n",
       "   'detector': 'L1',\n",
       "   'psds': PowerSpectralDensity(psd_file='None', asd_file='/Users/phurailatpamhemantakumar/anaconda3/envs/ler/lib/python3.10/site-packages/bilby/gw/detector/noise_curves/aLIGO_O4_high_asd.txt'),\n",
       "   'detector_tensor': array([[ 0.41128086,  0.14021027,  0.24729459],\n",
       "          [ 0.14021027, -0.10900569, -0.18161563],\n",
       "          [ 0.24729459, -0.18161563, -0.30227517]])}],\n",
       " 12)"
      ]
     },
     "execution_count": 6,
     "metadata": {},
     "output_type": "execute_result"
    }
   ],
   "source": [
    "test,len(test[0])"
   ]
  },
  {
   "cell_type": "code",
   "execution_count": 11,
   "metadata": {},
   "outputs": [
    {
     "ename": "AttributeError",
     "evalue": "'list' object has no attribute 'items'",
     "output_type": "error",
     "traceback": [
      "\u001b[0;31m---------------------------------------------------------------------------\u001b[0m",
      "\u001b[0;31mAttributeError\u001b[0m                            Traceback (most recent call last)",
      "Cell \u001b[0;32mIn[11], line 4\u001b[0m\n\u001b[1;32m      1\u001b[0m \u001b[38;5;66;03m# save test as json file\u001b[39;00m\n\u001b[1;32m      2\u001b[0m \u001b[38;5;66;03m# save_json(\"/Users/phurailatpamhemantakumar/phd/mypackages/gwsnr/examples/interpolator_pickle/L1/param_dict_list.json\", test)\u001b[39;00m\n\u001b[1;32m      3\u001b[0m \u001b[38;5;66;03m# first convert all keys's values to list if nd.array otherwise to string\u001b[39;00m\n\u001b[0;32m----> 4\u001b[0m test_json \u001b[38;5;241m=\u001b[39m {k: (v\u001b[38;5;241m.\u001b[39mtolist() \u001b[38;5;28;01mif\u001b[39;00m \u001b[38;5;28misinstance\u001b[39m(v, np\u001b[38;5;241m.\u001b[39mndarray) \u001b[38;5;28;01melse\u001b[39;00m \u001b[38;5;28mstr\u001b[39m(v)) \u001b[38;5;28;01mfor\u001b[39;00m k, v \u001b[38;5;129;01min\u001b[39;00m \u001b[43mtest\u001b[49m\u001b[38;5;241;43m.\u001b[39;49m\u001b[43mitems\u001b[49m()}\n",
      "\u001b[0;31mAttributeError\u001b[0m: 'list' object has no attribute 'items'"
     ]
    }
   ],
   "source": [
    "# save test as json file\n",
    "# save_json(\"/Users/phurailatpamhemantakumar/phd/mypackages/gwsnr/examples/interpolator_pickle/L1/param_dict_list.json\", test)\n",
    "# first convert all keys's values to list if nd.array otherwise to string\n",
    "test_json = {k: (v.tolist() if isinstance(v, np.ndarray) else str(v)) for k, v in test.items()}\n"
   ]
  },
  {
   "cell_type": "code",
   "execution_count": null,
   "metadata": {},
   "outputs": [],
   "source": []
  },
  {
   "cell_type": "code",
   "execution_count": null,
   "metadata": {},
   "outputs": [],
   "source": []
  },
  {
   "cell_type": "code",
   "execution_count": null,
   "metadata": {},
   "outputs": [
    {
     "name": "stdout",
     "output_type": "stream",
     "text": [
      "\n",
      "Initializing GWSNR class...\n",
      "\n",
      "psds not given. Choosing bilby's default psds\n",
      "Interpolator will be loaded for L1 detector from ./interpolator_pickle/L1/partialSNR_dict_0.pickle\n",
      "Interpolator will be loaded for H1 detector from ./interpolator_pickle/H1/partialSNR_dict_0.pickle\n",
      "Interpolator will be loaded for V1 detector from ./interpolator_pickle/V1/partialSNR_dict_0.pickle\n",
      "\n",
      "Chosen GWSNR initialization parameters:\n",
      "\n",
      "npool:  4\n",
      "snr type:  interpolation_no_spins\n",
      "waveform approximant:  IMRPhenomD\n",
      "sampling frequency:  2048.0\n",
      "minimum frequency (fmin):  20.0\n",
      "mtot=mass1+mass2\n",
      "min(mtot):  2.0\n",
      "max(mtot) (with the given fmin=20.0): 184.98599853446768\n",
      "detectors:  ['L1', 'H1', 'V1']\n",
      "psds:  [PowerSpectralDensity(psd_file='None', asd_file='/Users/phurailatpamhemantakumar/anaconda3/envs/ler/lib/python3.10/site-packages/bilby/gw/detector/noise_curves/aLIGO_O4_high_asd.txt'), PowerSpectralDensity(psd_file='None', asd_file='/Users/phurailatpamhemantakumar/anaconda3/envs/ler/lib/python3.10/site-packages/bilby/gw/detector/noise_curves/aLIGO_O4_high_asd.txt'), PowerSpectralDensity(psd_file='None', asd_file='/Users/phurailatpamhemantakumar/anaconda3/envs/ler/lib/python3.10/site-packages/bilby/gw/detector/noise_curves/AdV_asd.txt')]\n",
      "\n",
      "\n",
      "solving SNR with interpolation\n",
      "Computed SNRs:\n",
      " {'L1': array([29.26383046]), 'H1': array([18.61273291]), 'V1': array([8.91389222]), 'optimal_snr_net': array([35.80870109])}\n"
     ]
    }
   ],
   "source": [
    "# loading GWSNR class from the gwsnr package\n",
    "from gwsnr import GWSNR\n",
    "import numpy as np\n",
    "\n",
    "# initializing the GWSNR class with default parameters\n",
    "gwsnr = GWSNR()\n",
    "\n",
    "# signal-to-noise ratio for a binary black hole merger with masses 10, 10 Msun at a luminosity distance of 100 Mpc\n",
    "snrs = gwsnr.snr(mass_1=np.array([30.0]), mass_2=np.array([30.0]), luminosity_distance=np.array([1000.0]))\n",
    "\n",
    "# print the signal-to-noise ratio\n",
    "print('Computed SNRs:\\n', snrs)"
   ]
  },
  {
   "cell_type": "markdown",
   "metadata": {},
   "source": [
    "* Results have SNR values of the individual detector and the combined effective SNR value."
   ]
  },
  {
   "cell_type": "code",
   "execution_count": 2,
   "metadata": {
    "vscode": {
     "languageId": "markdown"
    }
   },
   "outputs": [
    {
     "name": "stderr",
     "output_type": "stream",
     "text": [
      "100%|█████████████████████████████████████████████████████████████████| 1/1 [00:00<00:00,  3.24it/s]\n"
     ]
    },
    {
     "data": {
      "text/plain": [
       "{'L1': array([29.26371917]),\n",
       " 'H1': array([18.61266212]),\n",
       " 'V1': array([8.91382255]),\n",
       " 'optimal_snr_net': array([35.80855601])}"
      ]
     },
     "execution_count": 2,
     "metadata": {},
     "output_type": "execute_result"
    }
   ],
   "source": [
    "gwsnr.compute_bilby_snr(mass_1=np.array([30.0]), mass_2=np.array([30.0]), luminosity_distance=np.array([1000.0]))"
   ]
  },
  {
   "cell_type": "code",
   "execution_count": null,
   "metadata": {
    "vscode": {
     "languageId": "markdown"
    }
   },
   "outputs": [],
   "source": []
  },
  {
   "cell_type": "code",
   "execution_count": null,
   "metadata": {
    "vscode": {
     "languageId": "markdown"
    }
   },
   "outputs": [],
   "source": [
    "### Below shows GWSNR initialization with all of it's (default) arguments\n",
    "\n",
    "```python\n",
    "    gwsnr = GWSNR(\n",
    "        #################################\n",
    "        # General settings\n",
    "        npool=4,  # number of processes. Run this to check the number of cores in your machine; import os; os.cpu_count()\n",
    "        snr_type='interpolation',  # type of SNR calculation. Options are 'interpolation', 'inner_product', 'ann', 'inner_product_jax'\n",
    "        interpolator_dir='./interpolator_pickle',  # directory to save/load the interpolator\n",
    "        create_new_interpolator=False,  # if True, it will overwrite the existing interpolator\n",
    "        gwsnr_verbose=True,  # if True, it will print all gwsnr settings\n",
    "        multiprocessing_verbose=True, # if True, it will show progress bar for multiprocessing. If False, there will be no progress bar but it will be faster.\n",
    "        pdet=False,  # if True, it will calculate the probability of detection\n",
    "        snr_th=8.0,  # threshold SNR for the Pdet for each detector\n",
    "        snr_th_net=8.0,  # threshold SNR for the Pdet for the network\n",
    "        ann_path_dict=None,  # path to the ANN model for SNR and Pdet calculation\n",
    "        #################################\n",
    "        # Interpolation settings\n",
    "        # Minimum and maximum values of the parameters for the interpolation grid\n",
    "        # It is recommended to set minimum and maximum values a bit larger than the expected values to avoid edge effects\n",
    "        mtot_min=2.0,  # minimum total mass in solar masses\n",
    "        mtot_max=439.6,  # maximum total mass in solar masses (set to so that there is non zero inspiral length for the waveform)\n",
    "        ratio_min=0.1,  # minimum mass ratio\n",
    "        ratio_max=1.0,  # maximum mass ratio\n",
    "        spin_max=0.9,  # maximum spin magnitude\n",
    "        # Resolutions of the grid\n",
    "        # Higher resolution means more accurate results but slower calculations\n",
    "        mtot_resolution=200,  \n",
    "        ratio_resolution=50,  \n",
    "        spin_resolution=20,  # will be used only if snr_type is 'interpolation_aligned_spins'\n",
    "        #################################\n",
    "        # Waveform settings\n",
    "        waveform_approximant='IMRPhenomD',  # frequency domain waveform approximant of the GW signal\n",
    "        sampling_frequency=2048.0,  # sampling frequency in Hz\n",
    "        minimum_frequency=20.0,  # minimum frequency of the waveform in Hz\n",
    "        duration_max=None,  # maximum duration of the waveform in seconds. Bilby default for IMRPhenomXPHM is 64 seconds.\n",
    "        duration_min=None,  # minimum duration of the waveform in seconds. Bilby default is 4 seconds.\n",
    "        mtot_cut=True,  # if True, SNR=0 for total mass > mtot_cut\n",
    "        #################################\n",
    "        # Detector settings\n",
    "        psds={'L1':'aLIGO_O4_high_asd.txt','H1':'aLIGO_O4_high_asd.txt', 'V1':'AdV_asd.txt', 'K1':'KAGRA_design_asd.txt'}, # power spectral density of the detectors\n",
    "        ifos=['L1', 'H1', 'V1'],  # list of detectors. You can also provide bilby interferometer objects.\n",
    "    )  \n",
    "```"
   ]
  },
  {
   "cell_type": "markdown",
   "metadata": {},
   "source": [
    "\n",
    "## II. Noise-Weighted Inner Product Method\n",
    "\n",
    "The `gwsnr` package implements the standard noise-weighted inner product method to compute the signal-to-noise ratio (SNR), a core technique in gravitational-wave data analysis. This method is particularly suitable for frequency-domain waveforms generated by the `lalsimulation` library [@lalsuite], including complex models that incorporate spin precession and subdominant harmonic modes.\n",
    "\n",
    "To enhance computational performance, `gwsnr` parallelizes waveform generation across multiple CPU cores and uses `numba`'s Just-In-Time (`njit`) compilation to accelerate antenna response functions, chirptime (signal duration) calculation, and inner product calculations. Additionally, the package offers optional support for JAX-based acceleration through the `ripple` waveform library [@Edwards:2023sak], using `jax.jit` for compilation and `jax.vmap` for batched operations.\n",
    "\n",
    "### Mathematical Formulation\n",
    "\n",
    "Following [@Allen:2012](https://arxiv.org/pdf/gr-qc/0509116), the noise-weighted inner product between two complex-valued frequency-domain waveforms, $\\tilde{a}(f)$ and $\\tilde{b}(f)$, defined as:\n",
    "\n",
    "\\begin{align}\n",
    "\\left< a | b \\right> = 4 \\int_{f_{\\min}}^{f_{\\max}} \\frac{\\tilde{a}(f), \\tilde{b}^*(f)}{S_n(f)} , df \\tag{1}\n",
    "\\end{align}\n",
    "\n",
    "Here, $S_n(f)$ denotes the one-sided power spectral density (PSD) of the detector noise, and $[f_{\\min}, f_{\\max}]$ is the analysis frequency band.\n",
    "\n",
    "GW waveform can be expressed as a combination of plus and cross polarizations, $\\tilde{h}(f) = \\tilde{h}_+(f) + i\\, \\tilde{h}_\\times(f)$. Using this, we can write optimal SNR as:\n",
    "\n",
    "\\begin{align}\n",
    "\\rho = \\sqrt{ \\left< h | h \\right> } = \\sqrt{ 4 \\int_{f_{\\min}}^{f_{\\max}} \\frac{\\tilde{h}(f)\\, \\tilde{h}^*(f)}{S_n(f)} \\, df } \\tag{2}\n",
    "\\end{align}\n",
    "\n",
    "Assuming that $\\tilde{h}+$ and $\\tilde{h}\\times$ are orthogonal, which is a good approximation for most waveform models including precessing cases, the SNR can be written in terms of detector response functions:\n",
    "\n",
    "$$\n",
    "\\rho = \\sqrt{ F_+^2 \\left< \\tilde{h}_+ | \\tilde{h}_+ \\right> + F_\\times^2 \\left< \\tilde{h}_\\times | \\tilde{h}_\\times \\right> } \\tag{3}\n",
    "$$\n",
    "\n",
    "The antenna pattern functions $F_+$ and $F_\\times$ depend on the detector's orientation and the source's sky location ($\\alpha$, $\\delta$), inclination ($\\iota$), polarization angle ($\\psi$), and geocentric time ($t_c$). The waveform polarizations $\\tilde{h}_{+,\\times}$ themselves depend on both intrinsic parameters (component masses $m_1$, $m_2$, and spins) and extrinsic parameters (luminosity distance $D_L$, inclination angle $\\iota$, coalescence phase $\\phi_c$, and $t_c$).\n",
    "\n",
    "This method provides a flexible and robust framework for computing optimal SNRs using arbitrary frequency-domain waveform models and detector configurations. The bottleneck in this method is waveform generation, which is parallelized across multiple CPU cores. The remaining computations are efficiently handled through `njit` compilation and acceleration, making this approach more efficient than traditional Bilby SNR generation."
   ]
  },
  {
   "cell_type": "code",
   "execution_count": null,
   "metadata": {
    "vscode": {
     "languageId": "markdown"
    }
   },
   "outputs": [],
   "source": []
  },
  {
   "cell_type": "code",
   "execution_count": 2,
   "metadata": {},
   "outputs": [
    {
     "name": "stdout",
     "output_type": "stream",
     "text": [
      "\n",
      "Initializing GWSNR class...\n",
      "\n",
      "psds not given. Choosing bilby's default psds\n",
      "Intel processor has trouble allocating memory when the data is huge. So, by default for IMRPhenomXPHM, duration_max = 64.0. Otherwise, set to some max value like duration_max = 600.0 (10 mins)\n",
      "\n",
      "Chosen GWSNR initialization parameters:\n",
      "\n",
      "npool:  4\n",
      "snr type:  inner_product\n",
      "waveform approximant:  IMRPhenomXPHM\n",
      "sampling frequency:  2048.0\n",
      "minimum frequency (fmin):  20.0\n",
      "mtot=mass1+mass2\n",
      "min(mtot):  2.0\n",
      "max(mtot) (with the given fmin=20.0): 184.98599853446768\n",
      "detectors:  ['L1', 'H1', 'V1']\n",
      "psds:  [PowerSpectralDensity(psd_file='None', asd_file='/Users/phurailatpamhemantakumar/anaconda3/envs/ler/lib/python3.10/site-packages/bilby/gw/detector/noise_curves/aLIGO_O4_high_asd.txt'), PowerSpectralDensity(psd_file='None', asd_file='/Users/phurailatpamhemantakumar/anaconda3/envs/ler/lib/python3.10/site-packages/bilby/gw/detector/noise_curves/aLIGO_O4_high_asd.txt'), PowerSpectralDensity(psd_file='None', asd_file='/Users/phurailatpamhemantakumar/anaconda3/envs/ler/lib/python3.10/site-packages/bilby/gw/detector/noise_curves/AdV_asd.txt')]\n",
      "\n",
      "\n",
      "solving SNR with inner product\n"
     ]
    },
    {
     "name": "stderr",
     "output_type": "stream",
     "text": [
      "/Users/phurailatpamhemantakumar/anaconda3/envs/ler/lib/python3.10/multiprocessing/popen_fork.py:66: RuntimeWarning: os.fork() was called. os.fork() is incompatible with multithreaded code, and JAX is multithreaded, so this will likely lead to a deadlock.\n",
      "  self.pid = os.fork()\n",
      "100%|█████████████████████████████████████████████████████████████████| 1/1 [00:00<00:00,  3.15it/s]"
     ]
    },
    {
     "name": "stdout",
     "output_type": "stream",
     "text": [
      "\n",
      "Computed SNRs with inner product:\n",
      " {'L1': array([46.5492244]), 'H1': array([48.22499937]), 'V1': array([13.20876067]), 'optimal_snr_net': array([68.31509507])}\n"
     ]
    },
    {
     "name": "stderr",
     "output_type": "stream",
     "text": [
      "\n"
     ]
    }
   ],
   "source": [
    "# loading GWSNR class from the gwsnr package\n",
    "from gwsnr import GWSNR\n",
    "\n",
    "# initializing the GWSNR class with inner product as the signal-to-noise ratio type\n",
    "gwsnr = GWSNR(snr_type='inner_product', waveform_approximant='IMRPhenomXPHM')\n",
    "\n",
    "# signal-to-noise ratio for a BBH with GW150914 like parameters with detectors LIGO-Hanford, LIGO-Livingston, and Virgo with O4 observing run sensitivity\n",
    "snrs = gwsnr.snr(\n",
    "    mass_1=np.array([36.0]), # mass of the primary black hole in solar masses\n",
    "    mass_2=np.array([29.0]), # mass of the secondary black hole in solar masses\n",
    "    luminosity_distance=np.array([440.0]), # luminosity distance in Mpc\n",
    "    theta_jn=np.array([1.0]), # inclination angle in radians\n",
    "    ra=np.array([3.435]), # right ascension in radians\n",
    "    dec=np.array([-0.408]), # declination in radians\n",
    "    psi=np.array([0.0]),  # polarization angle in radians\n",
    "    geocent_time=np.array([1126259462.4]), # geocentric time in GPS seconds\n",
    "    a_1=np.array([0.3]), # dimensionless spin of the primary black hole\n",
    "    a_2=np.array([0.2]), # dimensionless spin of the secondary black hole\n",
    "    tilt_1=np.array([0.5]), # tilt angle of the primary black hole in radians\n",
    "    tilt_2=np.array([0.8]), # tilt angle of the secondary black hole in radians\n",
    "    phi_12=np.array([0.0]), # Relative angle between the primary and secondary spin of the binary in radians\n",
    "    phi_jl=np.array([0.0]), # Angle between the total angular momentum and the orbital angular momentum in radians\n",
    ")\n",
    "print('\\nComputed SNRs with inner product:\\n', snrs)"
   ]
  },
  {
   "cell_type": "markdown",
   "metadata": {},
   "source": [
    "\n",
    "### III. The Partial Scaling Interpolation Method\n",
    "\n",
    "The `gwsnr` package implements the Partial Scaling method, an interpolation-assisted technique designed for the rapid calculation of SNR of binary systems with non-spinning or aligned-spin components. Although originally conceived for simple inspiral-only waveforms, the method has since been generalized to include full inspiral-merger-ringdown (IMR; frequency domain) waveforms available in the `lalsimulation` library. \n",
    "\n",
    "The core principle, adapted from the FINDCHIRP algorithm ([@Allen:2012](https://arxiv.org/pdf/gr-qc/0509116)), is to pre-compute and interpolate the most computationally expensive component of the SNR calculation—termed the \"partial SNR,\" denoted as $\\rho_{1/2}$. This partial SNR depends solely on the intrinsic parameters of the binary, such as total mass $M$, mass ratio $q$, and spin magnitudes $a_1$ and $a_2$. The final SNR is then quickly recovered through the application of a simple scaling factor. To further optimize performance, the entire procedure, including both antenna response computations and interpolation, is accelerated using either `numba.njit` compilation or `jax.jit` compilation and further parralelized using `jax.vmap`.\n",
    "\n",
    "### Mathematical Formulation\n",
    "\n",
    "The Partial Scaling method begins with the standard definition of the optimal SNR, $\\rho$. For a simple inspiral waveform, following Eq.(2) of the Sec.([II](#ii-noise-weighted-inner-product-method)) and Eq.(D1) of [@Allen:2012](https://arxiv.org/pdf/gr-qc/0509116), the SNR can be written as\n",
    "$$\n",
    "\\begin{align}\n",
    "\\rho &= \\sqrt{4 \\int_{f_{\\rm min}}^{f_{\\rm max}} \\frac{|\\tilde{h}(f)|^2}{S_n(f)}\\, df}, \\notag \\\\\n",
    "&= \\left( \\frac{1~\\mathrm{Mpc}}{D_{\\mathrm{eff}}} \\right)\n",
    "\\sqrt{4 \\mathcal{A}_{1~\\mathrm{Mpc}}^2 ({\\cal M})\n",
    "\\int_{f_{\\rm min}}^{f_{\\rm max}} \\frac{f^{-7/3}}{S_n(f)}\\, df }, \\notag \\\\\n",
    "&= \\left(\\frac{1~\\mathrm{Mpc}}{D_{\\mathrm{eff}}}\\right) \\mathcal{A}_{1~\\mathrm{Mpc}} ({\\cal M}) \\sqrt{ 4\\int_{f_{\\rm min}}^{f_{\\rm lso}} \\frac{f^{-7/3}}{S_n(f)}df }, \\tag{B1}\n",
    "\\end{align}\n",
    "$$\n",
    "where $\\tilde{h}(f)$ is the frequency-domain waveform, $S_n(f)$ is the detector noise power spectral density, and $D_{\\text{eff}}$ is the effective distance to the source. The amplitude term, $\\mathcal{A}_{1,\\text{Mpc}}$, is a function of the chirp mass ${\\cal M}$. Now, $D_{\\text{eff}}$ and $\\mathcal{A}_{1,\\text{Mpc}}$ reads\n",
    "$$\n",
    "\\begin{align}\n",
    "\\mathcal{A}_{\\rm 1Mpc} &= \\left(\\frac{5}{24\\pi}\\right)^{1/2}\n",
    "\\left(\\frac{GM_\\odot/c^2}{1~\\mathrm{Mpc}}\\right)\n",
    "\\left(\\frac{\\pi GM_\\odot}{c^3}\\right)^{-1/6}\n",
    "\\left(\\frac{\\mathcal{M}}{M_\\odot}\\right)^{5/6} \\,,\\tag{B2} \\\\\n",
    "D_\\mathrm{eff} &= D_l \\left[\n",
    "    F_+^2 \\left(\\frac{1+\\cos^2\\iota}{2}\\right)^2 +\n",
    "    F_\\times^2 \\cos^2\\iota\n",
    "\\right]^{-1/2}\\tag{B3} \\\\\n",
    "\\end{align}\n",
    "$$\n",
    "\n",
    "$\\mathcal{M}$ is the chirp mass, and in terms of ($M,q$) it reads $\\mathcal{M} = M \\left( \\frac{q}{1+q^2} \\right)^{3/5}$, where $M = m_1 + m_2$ is the total mass and $q = m_2/m_1$ is the mass ratio. \n",
    "$D_l$ is the luminosity distance, $\\iota$ is the inclination angle, and $F_+$ and $F_\\times$ are the antenna patterns of the detector.\n",
    "The integral runs from a minimum frequency $f_{\\min}$ (typically $20$ Hz) up to the frequency of the last stable orbit, which is determined by the total mass of the binary system as $f_{\\rm LSO} = 1/(6^{3/2} \\pi) (G\\,M/c^3)^{-1/2}$.\n",
    "\n",
    "A key insight is to isolate the computationally intensive integral, which is independent of extrinsic parameters such as distance and sky location. This term is defined as the partial-SNR, $\\rho_{1/2}$ and it reads\n",
    "$$\n",
    "\\begin{align}\n",
    "\\rho_{1/2} &= \\left(\\frac{D_\\mathrm{eff}}{1~\\mathrm{Mpc}}\\right) \\mathcal{M}^{-5/6} \\times \\rho\\,, \\tag{B4}\\\\\n",
    "&= \\left(\\frac{5}{24\\pi}\\right)^{1/2}\n",
    "\\left(\\frac{GM_\\odot/c^2}{1~\\mathrm{Mpc}}\\right)\n",
    "\\left(\\frac{\\pi GM_\\odot}{c^3}\\right)^{-1/6}\n",
    "\\left(\\frac{1}{M_\\odot}\\right)^{5/6}\n",
    "\\sqrt{4 \\int_{20}^{f_{\\rm LSO}} \\frac{f^{-7/3}}{S_n(f)}\\, df} \\tag{B5}\n",
    "\\end{align}\n",
    "$$\n",
    "\n",
    "For more general IMR waveforms the same principle applies. The full SNR, $\\rho_{\\text{bilby}}$, is first calculated using a library such as `bilby`, and the partial SNR is analogously defined as\n",
    "$$\n",
    "\\begin{align}\n",
    "\\rho_{1/2} &= \\left(\\frac{D_\\mathrm{eff}}{1~\\mathrm{Mpc}}\\right) \\mathcal{M}^{-5/6} \\times \\rho_{\\rm bilby}\\,, \\tag{B6}\n",
    "\\end{align}\n",
    "$$\n",
    "\n",
    "### Interpolation Procedure\n",
    "\n",
    "To obtain the SNR for a new set of binary parameters, the method interpolates $\\rho_{1/2}$ from a pre-computed grid. \n",
    "For non-spinning IMR waveforms, a two-dimensional grid in $(M, q)$ is constructed, with grid spacing optimized to minimize interpolation error: the $q$ axis is logarithmically spaced, while the $M$ axis is inverse-logarithmically spaced. Given a new parameter set $(M_{\\text{new}}, q_{\\text{new}})$, **nested one-dimensional cubic spline interpolation** (see Sec.([IV](#iv-nested-1d-cubic-spline-interpolation))) is used to determine the corresponding value of $\\rho_{1/2}$ from the pre-computed grid. These $\\rho_{1/2}$ values are stored in a pickle file for efficient future access.\n",
    "\n",
    "For spin-aligned IMR waveforms, the approach is extended to a four-dimensional grid spanning $(M, q, a_1, a_2)$, where $a_1$ and $a_2$ are the dimensionless spin magnitudes. The $(M, q)$ axes maintain the optimized spacing, while the spin axes are uniformly spaced within a user-defined range.\n",
    "\n",
    "Once the interpolated value of $\\rho_{1/2}$ is obtained, the final optimal SNR is simply recovered by scaling with the chirp mass and effective distance:\n",
    "$$\n",
    "\\begin{align}\n",
    "\\rho = \\rho_{1/2} \\times \\left( \\frac{D_{\\text{eff}}}{1~\\mathrm{Mpc}} \\right) \\left( \\frac{{\\cal M}}{M_\\odot} \\right)^{5/6}.\n",
    "\\end{align}\n",
    "$$\n",
    "This methodology enables rapid and accurate SNR evaluation across the full parameter space relevant to gravitational wave detection.\n",
    "\n",
    "## IV. Nested 1D Cubic Spline Interpolation\n",
    "\n",
    "The Partial Scaling method relies on nested one-dimensional (1D) cubic spline interpolation to efficiently estimate the partial SNR, $\\rho_{1/2}$, for a new set of binary parameters. This hierarchical approach avoids the complexity of multi-dimensional spline fitting by applying a sequence of 1D interpolations across each parameter dimension.\n",
    "\n",
    "### Interpolation for Non-Spinning Systems\n",
    "\n",
    "To illustrate the process, consider the 2D case for a non-spinning system with a pre-computed grid of $\\rho_{1/2}$ values over $M$ $q$ parameter space. The interpolation proceeds in several key steps. First, the axis arrays for $M$ and $q$ are obtained, and the precomputed $\\rho_{1/2}$ values are loaded from a pickle file. These $\\rho_{1/2}$ values are defined for each $(M, q)$ pair on the grid.\n",
    "\n",
    "Given a new set of binary parameters $(M_{\\rm new}, q_{\\rm new})$, the next step is to identify the four nearest neighboring points along each axis: for $M$, the points $[M_{i-1}, M_i, M_{i+1}, M_{i+2}]$ are selected such that $M_i \\leq M_{\\rm new} \\leq M_{i+1}$; similarly, for $q$, the points $[q_{j-1}, q_j, q_{j+1}, q_{j+2}]$ are chosen so that $q_j \\leq q_{\\rm new} \\leq q_{j+1}$.\n",
    "\n",
    "For each fixed value of $q$, a one-dimensional cubic spline interpolation is performed along the $M$ axis to estimate the value of $\\rho_{1/2}$ at $M_{\\rm new}$. This process yields a set of four intermediate values, corresponding to $q_{j-1}$, $q_j$, $q_{j+1}$, and $q_{j+2}$:\n",
    "$$\n",
    "\\left[ \\rho_{1/2}(q_{j-1}, M_{\\rm new}),\\, \\rho_{1/2}(q_j, M_{\\rm new}),\\, \\rho_{1/2}(q_{j+1}, M_{\\rm new}),\\, \\rho_{1/2}(q_{j+2}, M_{\\rm new}) \\right].\n",
    "$$\n",
    "A subsequent cubic spline interpolation is then carried out along the $q$ axis, using these values, to determine the final interpolated result $\\rho_{1/2}(M_{\\rm new}, q_{\\rm new})$.\n",
    "\n",
    "<img src=\"grid2D.jpg\" alt=\"2D Grid Interpolation\" width=\"400\"/>\n",
    "\n",
    "For the spin-aligned IMR waveform, the methodology is conceptually identical but operates in a four-dimensional grid spanning $(M, q, a_1, a_2)$, where $a_1$ and $a_2$ are the dimensionless spin parameters. The interpolation follows a hierarchical scheme, beginning with the $a_1$ and $a_2$ axes, followed by $M$, and finally $q$, recursively applying the one-dimensional cubic spline interpolation at each stage until the final value, $\\rho_{1/2}(M_{\\rm new}, q_{\\rm new}, a_{1, \\rm new}, a_{2, \\rm new})$, is obtained.\n",
    "\n",
    "When dealing with edge cases—specifically, when the target value lies near or outside the bounds of the precomputed grid—a straightforward approach is adopted: the nearest available $\\rho_{1/2}$ value is used. For example, if $M_{\\rm new} < M_0$ or $M_{\\rm new} < (M_1 - M_0)/2$, where $M_0$ and $M_1$ are the first and second entries of the $M$ axis, the interpolated value is set to $\\rho_{1/2}(M_0, q_{\\rm new})$. This ensures stability and consistency of the interpolation even at or beyond the boundaries of the parameter space."
   ]
  },
  {
   "cell_type": "markdown",
   "metadata": {},
   "source": [
    "## Interpolation for Non Spinning Systems"
   ]
  },
  {
   "cell_type": "code",
   "execution_count": 1,
   "metadata": {},
   "outputs": [],
   "source": [
    "import numpy as np\n",
    "import matplotlib.pyplot as plt\n",
    "from datetime import datetime\n",
    "from gwsnr import GWSNR"
   ]
  },
  {
   "cell_type": "code",
   "execution_count": 2,
   "metadata": {},
   "outputs": [
    {
     "name": "stdout",
     "output_type": "stream",
     "text": [
      "\n",
      "Initializing GWSNR class...\n",
      "\n",
      "psds not given. Choosing bilby's default psds\n",
      "Interpolator will be generated for L1 detector at ./interpolator_pickle/L1/partialSNR_dict_1.pickle\n",
      "Interpolator will be generated for H1 detector at ./interpolator_pickle/H1/partialSNR_dict_1.pickle\n",
      "Interpolator will be generated for V1 detector at ./interpolator_pickle/V1/partialSNR_dict_1.pickle\n",
      "Please be patient while the interpolator is generated\n",
      "Generating interpolator for ['L1', 'H1', 'V1'] detectors\n"
     ]
    },
    {
     "name": "stderr",
     "output_type": "stream",
     "text": [
      "100%|█████████████████████████████████████████████████████████| 3997/3997 [00:01<00:00, 2059.55it/s]\n"
     ]
    },
    {
     "name": "stdout",
     "output_type": "stream",
     "text": [
      "\n",
      "Saving Partial-SNR for L1 detector with shape (20, 200)\n",
      "\n",
      "Saving Partial-SNR for H1 detector with shape (20, 200)\n",
      "\n",
      "Saving Partial-SNR for V1 detector with shape (20, 200)\n",
      "\n",
      "\n",
      "Interpolation results: \n",
      "solving SNR with interpolation\n",
      "{'L1': array([ 7.40799529, 11.59739194, 31.03010457, 26.57909634]), 'H1': array([ 4.71172213,  7.37631251, 19.73613979, 16.90515607]), 'V1': array([2.22137857, 3.44057591, 9.33011692, 7.85719386]), 'optimal_snr_net': array([ 9.0561163 , 14.16852317, 37.93986934, 32.46487578])}\n",
      "\n",
      " Inner product results: \n"
     ]
    },
    {
     "name": "stderr",
     "output_type": "stream",
     "text": [
      "/Users/phurailatpamhemantakumar/anaconda3/envs/ler/lib/python3.10/multiprocessing/popen_fork.py:66: RuntimeWarning: os.fork() was called. os.fork() is incompatible with multithreaded code, and JAX is multithreaded, so this will likely lead to a deadlock.\n",
      "  self.pid = os.fork()\n",
      "100%|█████████████████████████████████████████████████████████████████| 4/4 [00:00<00:00, 13.43it/s]"
     ]
    },
    {
     "name": "stdout",
     "output_type": "stream",
     "text": [
      "{'L1': array([ 7.40709512, 11.59602211, 31.03567109, 26.59869097]), 'H1': array([ 4.7111496 ,  7.37544125, 19.73968027, 16.91761888]), 'V1': array([2.22230853, 3.44041035, 9.33473625, 7.86132463]), 'optimal_snr_net': array([ 9.05531026, 14.16690812, 37.94739989, 32.48840739])}\n"
     ]
    },
    {
     "name": "stderr",
     "output_type": "stream",
     "text": [
      "\n"
     ]
    }
   ],
   "source": [
    "# initializing the GWSNR class with default configuration and interpolation method\n",
    "# for non-spinning IMRPhenomD waveform \n",
    "gwsnr_no_spins = GWSNR(\n",
    "    npool=8,\n",
    "    snr_type='interpolation_no_spins_jax', # or 'interpolation_no_spins'\n",
    "    gwsnr_verbose=False,\n",
    "    create_new_interpolator=True,\n",
    ")\n",
    "\n",
    "mass_1 = np.array([5, 10.,50.,100.])\n",
    "ratio = np.array([1, 0.8,0.5,0.2])\n",
    "dl = 1000\n",
    "print('Interpolation results: ')\n",
    "print(gwsnr_no_spins.snr(mass_1=mass_1, mass_2=mass_1*ratio, luminosity_distance=dl))\n",
    "print('\\n Inner product results: ')\n",
    "print(gwsnr_no_spins.compute_bilby_snr(mass_1=mass_1, mass_2=mass_1*ratio, luminosity_distance=dl))"
   ]
  },
  {
   "cell_type": "markdown",
   "metadata": {},
   "source": [
    "### Testing speed and accuracy between the interpolation method and inner product method.\n",
    "\n",
    "* set up the BBH Binary-Black-Holes parameters\n",
    "* simulate 10000 events"
   ]
  },
  {
   "cell_type": "code",
   "execution_count": 3,
   "metadata": {},
   "outputs": [],
   "source": [
    "# gerneral case, random parameters\n",
    "# chirp mass can go upto only 95 if f_min=20. to get non zero SNR\n",
    "nsamples = 10000\n",
    "mtot = np.random.uniform(2*4.98, 2*112.5,nsamples)\n",
    "mass_ratio = np.random.uniform(0.2,1,size=nsamples)\n",
    "param_dict = dict(\n",
    "    # convert to component masses\n",
    "    mass_1 = mtot / (1 + mass_ratio),\n",
    "    mass_2 = mtot * mass_ratio / (1 + mass_ratio),\n",
    "    # Fix luminosity distance\n",
    "    luminosity_distance = 500*np.ones(nsamples),\n",
    "    # Randomly sample everything else:\n",
    "    theta_jn = np.random.uniform(0,2*np.pi, size=nsamples),\n",
    "    ra = np.random.uniform(0,2*np.pi, size=nsamples), \n",
    "    dec = np.random.uniform(0,np.pi, size=nsamples), \n",
    "    psi = np.random.uniform(0,2*np.pi, size=nsamples),\n",
    "    phase = np.random.uniform(0,2*np.pi, size=nsamples),\n",
    "    geocent_time = 1246527224.169434*np.ones(nsamples),\n",
    ")"
   ]
  },
  {
   "cell_type": "code",
   "execution_count": 4,
   "metadata": {},
   "outputs": [
    {
     "name": "stdout",
     "output_type": "stream",
     "text": [
      "solving SNR with interpolation\n",
      "Duration interpolation: 0:00:00.367118\n"
     ]
    }
   ],
   "source": [
    "# for non-spinning IMRPhenomD waveform \n",
    "# running it for the first time will take longer, as the jit code generate the compiled code\n",
    "start_time = datetime.now()\n",
    "interp_snr_no_spins = gwsnr_no_spins.snr(gw_param_dict=param_dict)\n",
    "end_time = datetime.now()\n",
    "print('Duration interpolation: {}'.format(end_time - start_time))"
   ]
  },
  {
   "cell_type": "code",
   "execution_count": 5,
   "metadata": {},
   "outputs": [
    {
     "name": "stderr",
     "output_type": "stream",
     "text": [
      "/Users/phurailatpamhemantakumar/anaconda3/envs/ler/lib/python3.10/multiprocessing/popen_fork.py:66: RuntimeWarning: os.fork() was called. os.fork() is incompatible with multithreaded code, and JAX is multithreaded, so this will likely lead to a deadlock.\n",
      "  self.pid = os.fork()\n",
      "100%|███████████████████████████████████████████████████████| 10000/10000 [00:04<00:00, 2323.97it/s]/Users/phurailatpamhemantakumar/anaconda3/envs/ler/lib/python3.10/multiprocessing/popen_fork.py:66: RuntimeWarning: os.fork() was called. os.fork() is incompatible with multithreaded code, and JAX is multithreaded, so this will likely lead to a deadlock.\n",
      "  self.pid = os.fork()\n"
     ]
    },
    {
     "name": "stdout",
     "output_type": "stream",
     "text": [
      "Duration inner-product: 0:00:04.526366\n"
     ]
    },
    {
     "name": "stderr",
     "output_type": "stream",
     "text": [
      "\n"
     ]
    }
   ],
   "source": [
    "# error might occur for mchirp>95., if f_min=20. \n",
    "start_time = datetime.now()\n",
    "bilby_snr = gwsnr_no_spins.compute_bilby_snr(gw_param_dict=param_dict)\n",
    "end_time = datetime.now()\n",
    "print('Duration inner-product: {}'.format(end_time - start_time))"
   ]
  },
  {
   "cell_type": "markdown",
   "metadata": {},
   "source": [
    "* interpolation method is much faster than inner product method"
   ]
  },
  {
   "cell_type": "code",
   "execution_count": 6,
   "metadata": {},
   "outputs": [
    {
     "data": {
      "image/png": "[encoded data removed]",
      "text/plain": [
       "<Figure size 800x400 with 2 Axes>"
      ]
     },
     "metadata": {},
     "output_type": "display_data"
    }
   ],
   "source": [
    "# compare the SNRs\n",
    "plt.figure(figsize=(8,4))\n",
    "\n",
    "# Left panel: rho_pred vs rho_true\n",
    "plt.subplot(1, 2, 1)\n",
    "plt.plot(bilby_snr['optimal_snr_net'], interp_snr_no_spins['optimal_snr_net'], 'o', color='C0')\n",
    "# diagonal line\n",
    "max_ = 100\n",
    "min_ = 0\n",
    "plt.plot([min_, max_], [min_, max_], 'r--', label='y=x')\n",
    "plt.xlabel(r\"$\\rho_{pred}$\")\n",
    "plt.ylabel(r\"$\\rho_{true}$\")\n",
    "# plt.xscale('log')\n",
    "# plt.yscale('log')\n",
    "plt.xlim(min_, max_)\n",
    "plt.ylim(min_, max_)\n",
    "plt.legend()\n",
    "plt.title(r\"Predicted vs. True SNR\")\n",
    "plt.grid(alpha=0.4)\n",
    "\n",
    "# Right panel: SNR difference\n",
    "plt.subplot(1, 2, 2)\n",
    "idx = (bilby_snr['optimal_snr_net'] > 4) & (bilby_snr['optimal_snr_net'] < 12)\n",
    "plt.plot(bilby_snr['optimal_snr_net'][idx], abs(interp_snr_no_spins['optimal_snr_net'][idx]-bilby_snr['optimal_snr_net'][idx]), 'o', color='C0')\n",
    "plt.xlabel(r\"$\\rho_{true}$\")\n",
    "plt.ylabel(r\"$|\\rho_{true} - \\rho_{interp}|$\")\n",
    "plt.title(r\"SNR difference\")\n",
    "plt.grid(alpha=0.4)\n",
    "plt.title(r\"SNR difference for $4 < \\rho_{true} < 12$\")\n",
    "plt.tight_layout()  # Adjust layout to prevent overlapping titles/labels\n",
    "plt.show()"
   ]
  },
  {
   "cell_type": "markdown",
   "metadata": {},
   "source": [
    "* the absolute difference between the SNR values from the interpolation method and the inner product method is $\\lesssim 0.05$ for all events.\n",
    "\n",
    "* The relative percentage error is $\\lesssim 0.06\\%$ for all events."
   ]
  },
  {
   "cell_type": "markdown",
   "metadata": {},
   "source": [
    "## Interpolation for align-spins Systems"
   ]
  },
  {
   "cell_type": "code",
   "execution_count": 2,
   "metadata": {},
   "outputs": [],
   "source": [
    "import numpy as np\n",
    "import matplotlib.pyplot as plt\n",
    "from datetime import datetime\n",
    "from gwsnr import GWSNR"
   ]
  },
  {
   "cell_type": "code",
   "execution_count": 12,
   "metadata": {},
   "outputs": [
    {
     "name": "stdout",
     "output_type": "stream",
     "text": [
      "\n",
      "Initializing GWSNR class...\n",
      "\n",
      "psds not given. Choosing bilby's default psds\n",
      "Interpolator will be generated for L1 detector at ./interpolator_pickle/L1/partialSNR_dict_6.pickle\n",
      "Interpolator will be generated for H1 detector at ./interpolator_pickle/H1/partialSNR_dict_6.pickle\n",
      "Interpolator will be generated for V1 detector at ./interpolator_pickle/V1/partialSNR_dict_6.pickle\n",
      "Please be patient while the interpolator is generated\n",
      "Generating interpolator for ['L1', 'H1', 'V1'] detectors\n"
     ]
    },
    {
     "name": "stderr",
     "output_type": "stream",
     "text": [
      "100%|█████████████████████████████████████████████████████| 399700/399700 [02:32<00:00, 2619.48it/s]\n"
     ]
    },
    {
     "name": "stdout",
     "output_type": "stream",
     "text": [
      "\n",
      "Saving Partial-SNR for L1 detector with shape (20, 200, 10, 10)\n",
      "\n",
      "Saving Partial-SNR for H1 detector with shape (20, 200, 10, 10)\n",
      "\n",
      "Saving Partial-SNR for V1 detector with shape (20, 200, 10, 10)\n",
      "\n",
      "\n",
      "Interpolation results: \n",
      "solving SNR with interpolation\n",
      "{'L1': array([ 7.40701697, 11.51012014, 17.42716067, 11.28270758]), 'H1': array([ 4.71109989,  7.32080485, 11.08423203,  7.17616318]), 'V1': array([2.22190216, 3.41304688, 5.19708097, 3.28159102]), 'optimal_snr_net': array([ 9.05512075, 14.06150555, 21.2973186 , 13.76828414])}\n",
      "\n",
      " Inner product results: \n"
     ]
    },
    {
     "name": "stderr",
     "output_type": "stream",
     "text": [
      "100%|█████████████████████████████████████████████████████████████████| 4/4 [00:00<00:00, 12.81it/s]"
     ]
    },
    {
     "name": "stdout",
     "output_type": "stream",
     "text": [
      "{'L1': array([ 7.40709512, 11.51048787, 17.42610539, 11.28839655]), 'H1': array([ 4.7111496 ,  7.32103874, 11.08356084,  7.17978155]), 'V1': array([2.22230853, 3.41242961, 5.19684919, 3.28232586]), 'optimal_snr_net': array([ 9.05531026, 14.06177852, 21.29604919, 13.77500719])}\n"
     ]
    },
    {
     "name": "stderr",
     "output_type": "stream",
     "text": [
      "\n"
     ]
    }
   ],
   "source": [
    "# initializing the GWSNR class with default configuration and interpolation method\n",
    "# for aligned-spinning IMRPhenomD waveform \n",
    "gwsnr_aligned_spins = GWSNR(\n",
    "    npool=8,\n",
    "    spin_resolution=10,\n",
    "    snr_type='interpolation_aligned_spins',\n",
    "    gwsnr_verbose=False,\n",
    ")\n",
    "\n",
    "mass_1 = np.array([5, 10.,20.,30.])\n",
    "ratio = np.array([1, 0.8,0.5,0.2])\n",
    "a_1 = np.array([0.0, 0.2, 0.5, -0.7])\n",
    "a_2 = np.array([0.0, -0.4, 0.5, 0.2])\n",
    "dl = 1000* np.ones_like(mass_1)\n",
    "print('Interpolation results: ')\n",
    "print(gwsnr_aligned_spins.snr(mass_1=mass_1, mass_2=mass_1*ratio, luminosity_distance=dl, a_1=a_1, a_2=a_2))\n",
    "print('\\n Inner product results: ')\n",
    "print(gwsnr_aligned_spins.compute_bilby_snr(mass_1=mass_1, mass_2=mass_1*ratio, luminosity_distance=dl, a_1=a_1, a_2=a_2))"
   ]
  },
  {
   "cell_type": "code",
   "execution_count": 13,
   "metadata": {},
   "outputs": [],
   "source": [
    "# gerneral case, random parameters\n",
    "# chirp mass can go upto only 95 if f_min=20. to get non zero SNR\n",
    "nsamples = 10000\n",
    "chirp_mass = np.linspace(5,60,nsamples)\n",
    "mass_ratio = np.random.uniform(0.2,1,size=nsamples)\n",
    "param_dict = dict(\n",
    "    mass_1 = (chirp_mass*(1+mass_ratio)**(1/5))/mass_ratio**(3/5),\n",
    "    mass_2 = chirp_mass*mass_ratio**(2/5)*(1+mass_ratio)**(1/5),\n",
    "    # Fix luminosity distance\n",
    "    luminosity_distance = 500*np.ones(nsamples),\n",
    "    # Randomly sample everything else:\n",
    "    theta_jn = np.random.uniform(0,2*np.pi, size=nsamples),\n",
    "    ra = np.random.uniform(0,2*np.pi, size=nsamples), \n",
    "    dec = np.random.uniform(0,np.pi, size=nsamples), \n",
    "    psi = np.random.uniform(0,2*np.pi, size=nsamples),\n",
    "    phase = np.random.uniform(0,2*np.pi, size=nsamples),\n",
    "    geocent_time = 1246527224.169434*np.ones(nsamples),\n",
    "    # spin zero\n",
    "    a_1 = np.random.uniform(-0.8,0.8, size=nsamples),\n",
    "    a_2 = np.random.uniform(-0.8,0.8, size=nsamples),\n",
    ")"
   ]
  },
  {
   "cell_type": "code",
   "execution_count": 14,
   "metadata": {},
   "outputs": [
    {
     "name": "stdout",
     "output_type": "stream",
     "text": [
      "solving SNR with interpolation\n",
      "Duration interpolation: 0:00:00.049690\n"
     ]
    }
   ],
   "source": [
    "# for non-spinning IMRPhenomD waveform \n",
    "# running it for the first time will take longer, as the jit code generate the compiled code\n",
    "start_time = datetime.now()\n",
    "interp_snr_aligned_spins = gwsnr_aligned_spins.snr(gw_param_dict=param_dict)\n",
    "end_time = datetime.now()\n",
    "print('Duration interpolation: {}'.format(end_time - start_time))"
   ]
  },
  {
   "cell_type": "code",
   "execution_count": 15,
   "metadata": {},
   "outputs": [
    {
     "name": "stderr",
     "output_type": "stream",
     "text": [
      "100%|███████████████████████████████████████████████████████| 10000/10000 [00:04<00:00, 2435.78it/s]"
     ]
    },
    {
     "name": "stdout",
     "output_type": "stream",
     "text": [
      "Duration inner-product: 0:00:04.181063\n"
     ]
    },
    {
     "name": "stderr",
     "output_type": "stream",
     "text": [
      "\n"
     ]
    }
   ],
   "source": [
    "# error might occur for mchirp>95., if f_min=20. \n",
    "start_time = datetime.now()\n",
    "bilby_snr = gwsnr_aligned_spins.compute_bilby_snr(gw_param_dict=param_dict)\n",
    "end_time = datetime.now()\n",
    "print('Duration inner-product: {}'.format(end_time - start_time))"
   ]
  },
  {
   "cell_type": "code",
   "execution_count": 16,
   "metadata": {},
   "outputs": [
    {
     "data": {
      "image/png": "[encoded data removed]",
      "text/plain": [
       "<Figure size 800x400 with 2 Axes>"
      ]
     },
     "metadata": {},
     "output_type": "display_data"
    }
   ],
   "source": [
    "# compare the SNRs\n",
    "plt.figure(figsize=(8,4))\n",
    "\n",
    "# Left panel: rho_pred vs rho_true\n",
    "plt.subplot(1, 2, 1)\n",
    "plt.plot(bilby_snr['optimal_snr_net'], interp_snr_aligned_spins['optimal_snr_net'], 'o', color='C0')\n",
    "# diagonal line\n",
    "max_ = 100\n",
    "min_ = 0\n",
    "plt.plot([min_, max_], [min_, max_], 'r--', label='y=x')\n",
    "plt.xlabel(r\"$\\rho_{pred}$\")\n",
    "plt.ylabel(r\"$\\rho_{true}$\")\n",
    "# plt.xscale('log')\n",
    "# plt.yscale('log')\n",
    "plt.xlim(min_, max_)\n",
    "plt.ylim(min_, max_)\n",
    "plt.legend()\n",
    "plt.title(r\"Predicted vs. True SNR\")\n",
    "plt.grid(alpha=0.4)\n",
    "\n",
    "# Right panel: SNR difference\n",
    "plt.subplot(1, 2, 2)\n",
    "idx = (bilby_snr['optimal_snr_net'] > 4) & (bilby_snr['optimal_snr_net'] < 12)\n",
    "plt.plot(bilby_snr['optimal_snr_net'][idx], abs(interp_snr_aligned_spins['optimal_snr_net'][idx]-bilby_snr['optimal_snr_net'][idx]), 'o', color='C0')\n",
    "plt.xlabel(r\"$\\rho_{true}$\")\n",
    "plt.ylabel(r\"$|\\rho_{true} - \\rho_{interp}|$\")\n",
    "plt.title(r\"SNR difference\")\n",
    "plt.grid(alpha=0.4)\n",
    "plt.title(r\"SNR difference for $4 < \\rho_{true} < 12$\")\n",
    "plt.tight_layout()  # Adjust layout to prevent overlapping titles/labels\n",
    "plt.show()"
   ]
  },
  {
   "cell_type": "code",
   "execution_count": 9,
   "metadata": {},
   "outputs": [
    {
     "name": "stdout",
     "output_type": "stream",
     "text": [
      "Maximum relative % error in SNR: 0.2937653006758557\n"
     ]
    },
    {
     "name": "stderr",
     "output_type": "stream",
     "text": [
      "/var/folders/ws/0948zvwd7g795j2l3fryghjw0000gp/T/ipykernel_49919/3421496590.py:1: RuntimeWarning: invalid value encountered in divide\n",
      "  print('Maximum relative % error in SNR:', max(abs(interp_snr_aligned_spins['optimal_snr_net']-bilby_snr['optimal_snr_net'])/ interp_snr_aligned_spins['optimal_snr_net'] * 100))\n"
     ]
    }
   ],
   "source": [
    "print('Maximum relative % error in SNR:', max(abs(interp_snr_aligned_spins['optimal_snr_net']-bilby_snr['optimal_snr_net'])/ interp_snr_aligned_spins['optimal_snr_net'] * 100))"
   ]
  },
  {
   "cell_type": "markdown",
   "metadata": {},
   "source": [
    "* the absolute difference between the SNR values from the interpolation method and the inner product method is $\\lesssim 0.4$ for all events.\n",
    "\n",
    "* The relative percentage error is $\\lesssim 0.3\\%$ for all events.\n",
    "\n",
    "* Note that interpolation accuracy is higher for non-spinning systems than for aligned-spin systems, as expected."
   ]
  },
  {
   "cell_type": "markdown",
   "metadata": {},
   "source": [
    "## SNR recalculation"
   ]
  },
  {
   "cell_type": "code",
   "execution_count": 1,
   "metadata": {},
   "outputs": [
    {
     "name": "stdout",
     "output_type": "stream",
     "text": [
      "\n",
      "Initializing GWSNR class...\n",
      "\n",
      "psds not given. Choosing bilby's default psds\n",
      "Intel processor has trouble allocating memory when the data is huge. So, by default for IMRPhenomXPHM, duration_max = 64.0. Otherwise, set to some max value like duration_max = 600.0 (10 mins)\n",
      "Interpolator will be loaded for L1 detector from ./interpolator_pickle/L1/partialSNR_dict_2.pickle\n",
      "Interpolator will be loaded for H1 detector from ./interpolator_pickle/H1/partialSNR_dict_2.pickle\n",
      "Interpolator will be loaded for V1 detector from ./interpolator_pickle/V1/partialSNR_dict_2.pickle\n",
      "\n",
      "\n"
     ]
    }
   ],
   "source": [
    "import numpy as np\n",
    "import matplotlib.pyplot as plt\n",
    "from datetime import datetime\n",
    "from gwsnr import GWSNR\n",
    "\n",
    "# initializing the GWSNR class with default configuration and interpolation method\n",
    "# for aligned-spinning IMRPhenomD waveform \n",
    "gwsnr_aligned_spins = GWSNR(\n",
    "    npool=8,\n",
    "    snr_type='interpolation_aligned_spins_jax',\n",
    "    waveform_approximant='IMRPhenomXPHM',  # Use a specific waveform approximant\n",
    "    gwsnr_verbose=False,\n",
    "    snr_recalculation=True,  # Enable recalculation of SNRs\n",
    "    snr_recalculation_range=[4,12],  # Range of optimal SNR for recalculation\n",
    "    snr_recalculation_waveform_approximant='IMRPhenomXPHM',  # Waveform approximant for recalculation. This can be different from the main one\n",
    ")"
   ]
  },
  {
   "cell_type": "code",
   "execution_count": 30,
   "metadata": {},
   "outputs": [],
   "source": [
    "# gerneral case, random parameters\n",
    "# chirp mass can go upto only 95 if f_min=20. to get non zero SNR\n",
    "nsamples = int(1e4)\n",
    "chirp_mass = np.linspace(5,60,nsamples)\n",
    "mass_ratio = np.random.uniform(0.2,1,size=nsamples)\n",
    "param_dict = dict(\n",
    "    mass_1 = (chirp_mass*(1+mass_ratio)**(1/5))/mass_ratio**(3/5),\n",
    "    mass_2 = chirp_mass*mass_ratio**(2/5)*(1+mass_ratio)**(1/5),\n",
    "    # Fix luminosity distance\n",
    "    luminosity_distance = np.random.uniform(100, 2000, size=nsamples),  # Random luminosity distance between 100 and 1000 Mpc\n",
    "    # Randomly sample everything else:\n",
    "    theta_jn = np.random.uniform(0,2*np.pi, size=nsamples),\n",
    "    ra = np.random.uniform(0,2*np.pi, size=nsamples),\n",
    "    dec = np.random.uniform(0,np.pi, size=nsamples),\n",
    "    psi = np.random.uniform(0,2*np.pi, size=nsamples),\n",
    "    phase = np.random.uniform(0,2*np.pi, size=nsamples),\n",
    "    geocent_time = 1246527224.169434*np.ones(nsamples),\n",
    "    # spin zero\n",
    "    a_1 = np.random.uniform(0.0,0.8, size=nsamples),\n",
    "    a_2 = np.random.uniform(0.0,0.8, size=nsamples),\n",
    "    tilt_1 = np.random.uniform(0, np.pi, size=nsamples),  # tilt angle of the primary black hole in radians\n",
    "    tilt_2 = np.random.uniform(0, np.pi, size=nsamples),\n",
    "    phi_12 = np.random.uniform(0, 2*np.pi, size=nsamples),  # Relative angle between the primary and secondary spin of the binary in radians\n",
    "    phi_jl = np.random.uniform(0, 2*np.pi, size=nsamples),  # Angle between the total angular momentum and the orbital angular momentum in radians\n",
    ")"
   ]
  },
  {
   "cell_type": "code",
   "execution_count": 31,
   "metadata": {},
   "outputs": [
    {
     "name": "stdout",
     "output_type": "stream",
     "text": [
      "solving SNR with interpolation\n",
      "Recalculating SNR for 1637 out of 10000 samples in the SNR range of 4 to 12\n"
     ]
    },
    {
     "name": "stderr",
     "output_type": "stream",
     "text": [
      "/Users/phurailatpamhemantakumar/anaconda3/envs/ler/lib/python3.10/multiprocessing/popen_fork.py:66: RuntimeWarning: os.fork() was called. os.fork() is incompatible with multithreaded code, and JAX is multithreaded, so this will likely lead to a deadlock.\n",
      "  self.pid = os.fork()\n",
      "100%|██████████████████████████████████████████████████████████| 1637/1637 [00:04<00:00, 391.06it/s]\n"
     ]
    }
   ],
   "source": [
    "# with recalculation enabled, the SNR will be recalculated for the specified range\n",
    "# time: ~ 1 minute for 1 million samples\n",
    "gwsnr_aligned_spins.waveform_approximant = 'IMRPhenomD'\n",
    "interp_snr_aligned_spins = gwsnr_aligned_spins.snr(gw_param_dict=param_dict.copy())"
   ]
  },
  {
   "cell_type": "code",
   "execution_count": 32,
   "metadata": {},
   "outputs": [
    {
     "name": "stderr",
     "output_type": "stream",
     "text": [
      "100%|██████████████████████████████████████████████████████████| 9987/9987 [00:11<00:00, 863.96it/s]\n"
     ]
    }
   ],
   "source": [
    "gwsnr_aligned_spins.waveform_approximant = 'IMRPhenomXPHM'\n",
    "bilby_snr = gwsnr_aligned_spins.compute_bilby_snr(gw_param_dict=param_dict)\n",
    "gwsnr_aligned_spins.waveform_approximant = 'IMRPhenomD'"
   ]
  },
  {
   "cell_type": "code",
   "execution_count": 33,
   "metadata": {},
   "outputs": [
    {
     "data": {
      "image/png": "[encoded data removed]",
      "text/plain": [
       "<Figure size 800x400 with 2 Axes>"
      ]
     },
     "metadata": {},
     "output_type": "display_data"
    }
   ],
   "source": [
    "# compare the SNRs\n",
    "plt.figure(figsize=(8,4))\n",
    "\n",
    "# Left panel: rho_pred vs rho_true\n",
    "plt.subplot(1, 2, 1)\n",
    "plt.plot(bilby_snr['optimal_snr_net'], interp_snr_aligned_spins['optimal_snr_net'], 'o', color='C0')\n",
    "# diagonal line\n",
    "max_ = 100\n",
    "min_ = 0\n",
    "plt.plot([min_, max_], [min_, max_], 'r--', label='y=x')\n",
    "plt.xlabel(r\"$\\rho_{pred}$\")\n",
    "plt.ylabel(r\"$\\rho_{true}$\")\n",
    "# plt.xscale('log')\n",
    "# plt.yscale('log')\n",
    "plt.xlim(min_, max_)\n",
    "plt.ylim(min_, max_)\n",
    "plt.legend()\n",
    "plt.title(r\"Predicted vs. True SNR\")\n",
    "plt.grid(alpha=0.4)\n",
    "\n",
    "# Right panel: SNR difference\n",
    "plt.subplot(1, 2, 2)\n",
    "idx = (bilby_snr['optimal_snr_net'] > 4) & (bilby_snr['optimal_snr_net'] < 12)\n",
    "plt.plot(bilby_snr['optimal_snr_net'][idx], abs(interp_snr_aligned_spins['optimal_snr_net'][idx]-bilby_snr['optimal_snr_net'][idx]), 'o', color='C0')\n",
    "plt.xlabel(r\"$\\rho_{true}$\")\n",
    "plt.ylabel(r\"$|\\rho_{true} - \\rho_{interp}|$\")\n",
    "plt.title(r\"SNR difference\")\n",
    "plt.grid(alpha=0.4)\n",
    "plt.title(r\"SNR difference for $4 < \\rho_{true} < 12$\")\n",
    "plt.tight_layout()  # Adjust layout to prevent overlapping titles/labels\n",
    "plt.show()"
   ]
  },
  {
   "cell_type": "code",
   "execution_count": 34,
   "metadata": {},
   "outputs": [],
   "source": [
    "# chack accuracy for Pdet\n",
    "pdet_pred = gwsnr_aligned_spins.probability_of_detection(snr_dict=interp_snr_aligned_spins, snr_th=8.0, snr_th_net=8.0, type='bool')\n",
    "pdet_true = gwsnr_aligned_spins.probability_of_detection(snr_dict=bilby_snr, snr_th=8.0, snr_th_net=8.0, type='bool')"
   ]
  },
  {
   "cell_type": "code",
   "execution_count": 35,
   "metadata": {},
   "outputs": [
    {
     "name": "stdout",
     "output_type": "stream",
     "text": [
      "Confusion Matrix:\n",
      "[[ 906    2]\n",
      " [   3 9089]]\n",
      "Accuracy: 0.9995\n"
     ]
    }
   ],
   "source": [
    "# accuracy of the probability of detection\n",
    "from sklearn.metrics import confusion_matrix, accuracy_score\n",
    "\n",
    "cm = confusion_matrix(pdet_true['pdet_net'], pdet_pred['pdet_net'])\n",
    "print(\"Confusion Matrix:\")\n",
    "print(cm)\n",
    "\n",
    "acc = accuracy_score(pdet_true['pdet_net'], pdet_pred['pdet_net'])\n",
    "print(\"Accuracy:\", acc)\n"
   ]
  },
  {
   "cell_type": "markdown",
   "metadata": {},
   "source": [
    "* This can be the most optimal way for calculating Pdet\n",
    "* For the random samples of 1e4 events, the Accuracy is $\\gtrsim 0.999$.\n",
    "* For the random samples of 1e5 events, the Accuracy is $\\gtrsim 0.999$.\n",
    "* For astrophysical events, there will be less samples in the SNR recalculation range, and hence the accuracy will be higher and the speed will be much faster."
   ]
  },
  {
   "cell_type": "code",
   "execution_count": null,
   "metadata": {},
   "outputs": [],
   "source": []
  },
  {
   "cell_type": "markdown",
   "metadata": {},
   "source": [
    "## Probability of Detection Calculation\n",
    "\n",
    "The `gwsnr` package provides tools to evaluate the probability of detecting a GW signal, denoted as $P_{\\rm det}$. The calculation is based on whether the observed SNR exceeds a specified threshold, $\\rho_{\\rm th}$, for either individual detectors or a detector network. For most practical applications with Gaussian noise, using an SNR threshold is a reliable (proxy) criterion for detection.\n",
    "\n",
    "`gwsnr` implements two primary approaches to compute $P_{\\rm det}$: one based on the optimal SNR, $\\rho_{\\rm opt}$, and another using the matched-filter SNR, $\\rho_{\\rm mf}$.\n",
    "\n",
    "### Detection Probability with Optimal SNR\n",
    "\n",
    "When using the optimal SNR, the detection criterion is straightforward. A signal is considered detected if $\\rho_{\\rm opt}$ surpasses the threshold $\\rho_{\\rm th}$. In this case, the detection probability is represented as a step function:\n",
    "\n",
    "$$\n",
    "P_{\\rm det} = P(\\theta\\mid \\rho_{\\rm opt}) =\n",
    "\\begin{cases}\n",
    "1 & \\text{if } \\rho_{\\rm opt} > \\rho_{\\rm th}, \\\\\n",
    "0 & \\text{otherwise},\n",
    "\\end{cases}\n",
    "$$\n",
    "\n",
    "where $\\theta$ represents the set of parameters for the GW signal.\n",
    "\n",
    "### Detection Probability with Matched-Filter SNR\n",
    "\n",
    "For a more realistic scenario, the matched-filter SNR, $\\rho_{\\rm mf}$, fluctuates due to noise and follows a normal distribution with mean $\\rho_{\\rm opt}(\\theta)$ and unit variance for a given set of parameters $\\theta$. Following [Thrane et al. 2019](https://arxiv.org/abs/1809.02293), the probability density for measuring a particular value $\\rho_{\\rm mf}$ is\n",
    "\n",
    "$$\n",
    "p(\\rho_{\\rm mf} | \\theta) = \\frac{1}{\\sqrt{2\\pi}} \\exp\\left[-\\frac{1}{2} \\left( \\rho_{\\rm mf} - \\rho_{\\rm opt}(\\theta) \\right)^2 \\right].\n",
    "$$\n",
    "\n",
    "The probability that the measured SNR exceeds the threshold, i.e., the probability of detection, is then given by\n",
    "\n",
    "$$\n",
    "P_{\\rm det} = P(\\theta\\mid \\rho_{\\rm opt}) = \\int_{\\rho_{\\rm th}}^{\\infty} \\frac{1}{\\sqrt{2\\pi}} \\exp\\left[ -\\frac{1}{2} (x - \\rho_{\\rm opt}(\\theta))^2 \\right] dx.\n",
    "$$\n",
    "\n",
    "Numerically, the integral for the probability of detection can be evaluated using the cumulative distribution function (CDF) of the standard normal distribution. In practice, this is implemented in `gwsnr` as\n",
    "\n",
    "```python\n",
    "P_det = 1 - norm.cdf(snr_th - snr_opt)\n",
    "```\n",
    "\n",
    "**Note:** This way of calculating $\\rho_{\\rm mf}$ doesn't involve matched-filter SNR calculation, but rather uses the optimal SNR $\\rho_{\\rm opt}$, which is computed using the noise-weighted inner product method or the Partial Scaling method."
   ]
  },
  {
   "cell_type": "code",
   "execution_count": 4,
   "metadata": {},
   "outputs": [
    {
     "name": "stdout",
     "output_type": "stream",
     "text": [
      "\n",
      "Initializing GWSNR class...\n",
      "\n",
      "psds not given. Choosing bilby's default psds\n",
      "Interpolator will be loaded for L1 detector from ./interpolator_pickle/L1/partialSNR_dict_1.pickle\n",
      "Interpolator will be loaded for H1 detector from ./interpolator_pickle/H1/partialSNR_dict_1.pickle\n",
      "Interpolator will be loaded for V1 detector from ./interpolator_pickle/V1/partialSNR_dict_1.pickle\n",
      "\n",
      "\n"
     ]
    }
   ],
   "source": [
    "import numpy as np\n",
    "import matplotlib.pyplot as plt\n",
    "from datetime import datetime\n",
    "from gwsnr import GWSNR\n",
    "\n",
    "gwsnr = GWSNR(\n",
    "    npool=8,\n",
    "    snr_type='interpolation_aligned_spins',\n",
    "    gwsnr_verbose=False,\n",
    ")"
   ]
  },
  {
   "cell_type": "code",
   "execution_count": 5,
   "metadata": {},
   "outputs": [
    {
     "name": "stdout",
     "output_type": "stream",
     "text": [
      "Optimal SNR (network): [  8.533422   100.91201099   0.        ]\n",
      "Probability of detection (network) with snr_opt: [1 1 0]\n",
      "Probability of detection (network) with snr_mf: [7.03129255e-01 1.00000000e+00 6.66133815e-16]\n"
     ]
    }
   ],
   "source": [
    "mass_1 = np.array([2,50.,100.,])\n",
    "ratio = 0.9\n",
    "dl = 500\n",
    "snr_dict = gwsnr.snr(mass_1=mass_1, mass_2=mass_1*ratio, luminosity_distance=dl)\n",
    "# optimal SNR based pdet\n",
    "pdet_snr_ = gwsnr.probability_of_detection(snr_dict, snr_th=8, snr_th_net=8, type='bool')\n",
    "print('Optimal SNR (network):', snr_dict[\"optimal_snr_net\"])\n",
    "print('Probability of detection (network) with snr_opt:', pdet_snr_[\"pdet_net\"])\n",
    "# matching SNR based pdet\n",
    "pdet_snr_ = gwsnr.probability_of_detection(snr_dict, snr_th=8, snr_th_net=8, type='matched_filter')\n",
    "print('Probability of detection (network) with snr_mf:', pdet_snr_[\"pdet_net\"])"
   ]
  },
  {
   "cell_type": "code",
   "execution_count": 6,
   "metadata": {},
   "outputs": [],
   "source": [
    "# Accuracy on classifing detectable events\n",
    "from sklearn.metrics import confusion_matrix, accuracy_score\n",
    "\n",
    "# Generate some example data\n",
    "# gerneral case, random parameters\n",
    "# chirp mass can go upto only 95 if f_min=20. to get non zero SNR\n",
    "nsamples = 10000\n",
    "chirp_mass = np.linspace(5,60,nsamples)\n",
    "mass_ratio = np.random.uniform(0.2,1,size=nsamples)\n",
    "param_dict = dict(\n",
    "    mass_1 = (chirp_mass*(1+mass_ratio)**(1/5))/mass_ratio**(3/5),\n",
    "    mass_2 = chirp_mass*mass_ratio**(2/5)*(1+mass_ratio)**(1/5),\n",
    "    # Fix luminosity distance\n",
    "    luminosity_distance = 500*np.ones(nsamples),\n",
    "    # Randomly sample everything else:\n",
    "    theta_jn = np.random.uniform(0,2*np.pi, size=nsamples),\n",
    "    ra = np.random.uniform(0,2*np.pi, size=nsamples), \n",
    "    dec = np.random.uniform(0,np.pi, size=nsamples), \n",
    "    psi = np.random.uniform(0,2*np.pi, size=nsamples),\n",
    "    phase = np.random.uniform(0,2*np.pi, size=nsamples),\n",
    "    geocent_time = 1246527224.169434*np.ones(nsamples),\n",
    "    # spin zero\n",
    "    a_1 = np.random.uniform(-0.8,0.8, size=nsamples),\n",
    "    a_2 = np.random.uniform(-0.8,0.8, size=nsamples),\n",
    ")"
   ]
  },
  {
   "cell_type": "code",
   "execution_count": 7,
   "metadata": {},
   "outputs": [
    {
     "name": "stderr",
     "output_type": "stream",
     "text": [
      "/Users/phurailatpamhemantakumar/anaconda3/envs/ler/lib/python3.10/multiprocessing/popen_fork.py:66: RuntimeWarning: os.fork() was called. os.fork() is incompatible with multithreaded code, and JAX is multithreaded, so this will likely lead to a deadlock.\n",
      "  self.pid = os.fork()\n",
      "100%|█████████████████████████████████████████████████████████| 9983/9983 [00:06<00:00, 1609.32it/s]\n"
     ]
    }
   ],
   "source": [
    "# for aligned spins, interpolation method\n",
    "# running it for the first time will take longer, as the jit code generate the compiled code\n",
    "snr_pred = gwsnr.snr(gw_param_dict=param_dict)\n",
    "# Compute the probability of detection\n",
    "pdet_pred = gwsnr.probability_of_detection(snr_pred, snr_th=8, snr_th_net=8, type='bool')\n",
    "\n",
    "# inner product method\n",
    "snr_bilby = gwsnr.compute_bilby_snr(gw_param_dict=param_dict)\n",
    "# Compute the probability of detection\n",
    "pdet_true = gwsnr.probability_of_detection(snr_bilby, snr_th=8, snr_th_net=8, type='bool')"
   ]
  },
  {
   "cell_type": "code",
   "execution_count": null,
   "metadata": {},
   "outputs": [
    {
     "name": "stdout",
     "output_type": "stream",
     "text": [
      "Confusion Matrix:\n",
      "[[ 120    0]\n",
      " [   1 9879]]\n",
      "Accuracy: 0.9999\n",
      "0.9999\n"
     ]
    }
   ],
   "source": [
    "cm = confusion_matrix(pdet_true['pdet_net'], pdet_pred['pdet_net'])\n",
    "print(\"Confusion Matrix:\")\n",
    "print(cm)\n",
    "\n",
    "acc = accuracy_score(pdet_true['pdet_net'], pdet_pred['pdet_net'])\n",
    "print(\"Accuracy:\", acc)"
   ]
  },
  {
   "cell_type": "markdown",
   "metadata": {},
   "source": [
    "* Interpolation achieves almost 100% accuracy."
   ]
  },
  {
   "cell_type": "markdown",
   "metadata": {},
   "source": [
    "## Changing the input arguments\n",
    "\n",
    "To change the input arguments, you can modify the `GWSNR` class initialization parameters. Below is an example of how to set up the `GWSNR` class with different parameters:\n",
    "\n",
    "What will change in this example? \n",
    "\n",
    "* Detectors: CE, ET.\n",
    "\n",
    "* Minimum frequency: 10 Hz\n",
    "\n",
    "* Maximum total mass: 500. Note that if this mass is above the allowed total mass for the given minimum frequency, i.e. the last stable orbit (LSO) frequency below the minimum frequency, then the maximum mass will be set to the maximum mass for the given minimum frequency.\n",
    "\n",
    "* Waveform model: IMRPhenomXPHM\n",
    "\n",
    "* multiprocessing_verbose: False, The progress bar won't be shown but the calculation will be faster."
   ]
  },
  {
   "cell_type": "code",
   "execution_count": 10,
   "metadata": {},
   "outputs": [
    {
     "name": "stdout",
     "output_type": "stream",
     "text": [
      "\n",
      "Initializing GWSNR class...\n",
      "\n",
      "\n",
      "Chosen GWSNR initialization parameters:\n",
      "\n",
      "npool:  4\n",
      "snr type:  inner_product\n",
      "waveform approximant:  IMRPhenomD\n",
      "sampling frequency:  2048.0\n",
      "minimum frequency (fmin):  10.0\n",
      "mtot=mass1+mass2\n",
      "min(mtot):  2.0\n",
      "max(mtot) (with the given fmin=10.0): 369.97199706893525\n",
      "detectors:  ['CE', 'ET1', 'ET2', 'ET3']\n",
      "psds:  [PowerSpectralDensity(psd_file='/Users/phurailatpamhemantakumar/anaconda3/envs/ler/lib/python3.10/site-packages/bilby/gw/detector/noise_curves/CE_psd.txt', asd_file='None'), PowerSpectralDensity(psd_file='/Users/phurailatpamhemantakumar/anaconda3/envs/ler/lib/python3.10/site-packages/bilby/gw/detector/noise_curves/ET_D_psd.txt', asd_file='None'), PowerSpectralDensity(psd_file='/Users/phurailatpamhemantakumar/anaconda3/envs/ler/lib/python3.10/site-packages/bilby/gw/detector/noise_curves/ET_D_psd.txt', asd_file='None'), PowerSpectralDensity(psd_file='/Users/phurailatpamhemantakumar/anaconda3/envs/ler/lib/python3.10/site-packages/bilby/gw/detector/noise_curves/ET_D_psd.txt', asd_file='None')]\n",
      "\n",
      "\n"
     ]
    }
   ],
   "source": [
    "# if snr_type = 'inner_product', interpolator will not be created\n",
    "from gwsnr import GWSNR\n",
    "gwsnr = GWSNR(\n",
    "    npool = int(4), \n",
    "    mtot_min=2.,\n",
    "    mtot_max=440.,  # highest total mass possible at 10Hz\n",
    "    minimum_frequency = 10.,\n",
    "    snr_type = 'inner_product', \n",
    "    #psds = {'CE':'CE_psd.txt', 'ET':'ET_B_psd.txt'}, # if you want to use your own psd\n",
    "    ifos = ['CE', 'ET'],  # this will considet bilby's default psd of CE and ET\n",
    "    multiprocessing_verbose=False,\n",
    ")"
   ]
  },
  {
   "cell_type": "code",
   "execution_count": 12,
   "metadata": {},
   "outputs": [
    {
     "name": "stdout",
     "output_type": "stream",
     "text": [
      "solving SNR with inner product\n"
     ]
    },
    {
     "name": "stderr",
     "output_type": "stream",
     "text": [
      "/Users/phurailatpamhemantakumar/anaconda3/envs/ler/lib/python3.10/multiprocessing/popen_fork.py:66: RuntimeWarning: os.fork() was called. os.fork() is incompatible with multithreaded code, and JAX is multithreaded, so this will likely lead to a deadlock.\n",
      "  self.pid = os.fork()\n"
     ]
    },
    {
     "data": {
      "text/plain": [
       "{'CE': array([21.48907693, 34.18369755, 95.39719491, 94.82029466]),\n",
       " 'ET1': array([1.49379305, 2.36240157, 6.6275971 , 6.40829212]),\n",
       " 'ET2': array([ 4.26544444,  6.74570864, 18.92474148, 18.29852809]),\n",
       " 'ET3': array([ 4.74637817,  7.50629498, 21.05852765, 20.36170799]),\n",
       " 'optimal_snr_net': array([22.46628512, 35.72051468, 99.73042298, 98.90090884])}"
      ]
     },
     "execution_count": 12,
     "metadata": {},
     "output_type": "execute_result"
    }
   ],
   "source": [
    "mass_1 = np.array([5, 10.,50.,100.])\n",
    "ratio = np.array([1, 0.8,0.5,0.2])\n",
    "dl = 10000 * np.ones_like(mass_1)\n",
    "gwsnr.snr(mass_1=mass_1, mass_2=mass_1*ratio, luminosity_distance=dl)"
   ]
  },
  {
   "cell_type": "markdown",
   "metadata": {},
   "source": [
    "## SNR and Pdet with ANN (artificial neural network) model\n",
    "\n",
    "* **Note:** as of 2024-02-16, the ANN model is only available for the IMRPhenomXPHM waveform model. This pre-trained model considers the spin precession of the compact objects. SNR with ANN is much faster than 'inner_product' method. The ANN model is trained with the data generated using `ler` package. The corresponding Pdet generated is more accurate (accuracy>99%) than it's absolute SNR. So users are advised to use the ANN model for Pdet calculation rather than SNR calculation.\n",
    "  \n",
    "* Users can train their own ANN model with the instructions in the documentation."
   ]
  },
  {
   "cell_type": "code",
   "execution_count": 1,
   "metadata": {},
   "outputs": [
    {
     "name": "stdout",
     "output_type": "stream",
     "text": [
      "\n",
      "Initializing GWSNR class...\n",
      "\n",
      "psds not given. Choosing bilby's default psds\n",
      "Intel processor has trouble allocating memory when the data is huge. So, by default for IMRPhenomXPHM, duration_max = 64.0. Otherwise, set to some max value like duration_max = 600.0 (10 mins)\n",
      "No ANN model and scaler path is given. Using default ANN model and scaler path from gwsnr/ann/ann_path_dict.json\n",
      "ANN model for L1 is loaded from gwsnr/ann/data directory.\n",
      "ANN scaler for L1 is loaded from gwsnr/ann/data directory.\n",
      "ANN error_adjustment for L1 is loaded from gwsnr/ann/data directory.\n",
      "ANN model for H1 is loaded from gwsnr/ann/data directory.\n",
      "ANN scaler for H1 is loaded from gwsnr/ann/data directory.\n",
      "ANN error_adjustment for H1 is loaded from gwsnr/ann/data directory.\n",
      "ANN model for V1 is loaded from gwsnr/ann/data directory.\n",
      "ANN scaler for V1 is loaded from gwsnr/ann/data directory.\n",
      "ANN error_adjustment for V1 is loaded from gwsnr/ann/data directory.\n",
      "Interpolator will be loaded for L1 detector from ./interpolator_pickle/L1/partialSNR_dict_7.pickle\n",
      "Interpolator will be loaded for H1 detector from ./interpolator_pickle/H1/partialSNR_dict_4.pickle\n",
      "Interpolator will be loaded for V1 detector from ./interpolator_pickle/V1/partialSNR_dict_4.pickle\n",
      "\n",
      "Chosen GWSNR initialization parameters:\n",
      "\n",
      "npool:  8\n",
      "snr type:  ann\n",
      "waveform approximant:  IMRPhenomXPHM\n",
      "sampling frequency:  2048.0\n",
      "minimum frequency (fmin):  20.0\n",
      "mtot=mass1+mass2\n",
      "min(mtot):  2.0\n",
      "max(mtot) (with the given fmin=20.0): 184.98599853446768\n",
      "detectors:  ['L1', 'H1', 'V1']\n",
      "psds:  [PowerSpectralDensity(psd_file='None', asd_file='/Users/phurailatpamhemantakumar/anaconda3/envs/ler/lib/python3.10/site-packages/bilby/gw/detector/noise_curves/aLIGO_O4_high_asd.txt'), PowerSpectralDensity(psd_file='None', asd_file='/Users/phurailatpamhemantakumar/anaconda3/envs/ler/lib/python3.10/site-packages/bilby/gw/detector/noise_curves/aLIGO_O4_high_asd.txt'), PowerSpectralDensity(psd_file='None', asd_file='/Users/phurailatpamhemantakumar/anaconda3/envs/ler/lib/python3.10/site-packages/bilby/gw/detector/noise_curves/AdV_asd.txt')]\n",
      "\n",
      "\n"
     ]
    },
    {
     "name": "stderr",
     "output_type": "stream",
     "text": [
      "/Users/phurailatpamhemantakumar/anaconda3/envs/ler/lib/python3.10/site-packages/sklearn/base.py:440: InconsistentVersionWarning: Trying to unpickle estimator StandardScaler from version 1.5.0 when using version 1.7.0. This might lead to breaking code or invalid results. Use at your own risk. For more info please refer to:\n",
      "https://scikit-learn.org/stable/model_persistence.html#security-maintainability-limitations\n",
      "  warnings.warn(\n"
     ]
    }
   ],
   "source": [
    "import numpy as np\n",
    "import matplotlib.pyplot as plt\n",
    "from gwsnr import GWSNR\n",
    "\n",
    "# initialize the class for pdet calculation\n",
    "# it will use the interpolated partial SNR generated for spin aligned systems\n",
    "gwsnr = GWSNR(\n",
    "    npool=8,\n",
    "    snr_type='ann', \n",
    "    waveform_approximant='IMRPhenomXPHM', \n",
    "    # psds={'L1': 'aLIGO_O4_high_asd.txt'},\n",
    "    # ann_path_dict='./ler_data/ann_path_dict.json',\n",
    "    pdet=False)  # set pdet to True if you only want pdet values"
   ]
  },
  {
   "cell_type": "code",
   "execution_count": 2,
   "metadata": {},
   "outputs": [
    {
     "name": "stdout",
     "output_type": "stream",
     "text": [
      "Computed SNRs with ANN:\n",
      " [10.62025877  8.96794467 17.72187318  0.        ]\n",
      "Probability of detection (with ANN): \n",
      " [1 1 1 0]\n"
     ]
    }
   ],
   "source": [
    "# set the GW parameters\n",
    "mass_1 = np.array([5, 10.,50.,200.])\n",
    "ratio = np.array([1, 0.8,0.5,0.2])\n",
    "param_dict = dict(\n",
    "    mass_1 = mass_1,\n",
    "    mass_2 = mass_1*ratio,\n",
    "    luminosity_distance = np.array([1000, 2000, 3000, 4000]),\n",
    "    theta_jn = np.array([0.1, 0.2, 0.3, 0.4]),\n",
    "    ra = np.array([0.1, 0.2, 0.3, 0.4]), \n",
    "    dec = np.array([0.1, 0.2, 0.3, 0.4]), \n",
    "    psi = np.array([0.1, 0.2, 0.3, 0.4]),\n",
    "    a_1 = np.array([0.1, 0.2, 0.3, 0.4]),\n",
    "    a_2 = np.array([0.1, 0.2, 0.3, 0.4]),\n",
    "    tilt_1 = np.array([0.1, 0.2, 0.3, 0.4]),\n",
    "    tilt_2 = np.array([0.1, 0.2, 0.3, 0.4]),\n",
    "    phi_12 = np.array([0.1, 0.2, 0.3, 0.4]),\n",
    "    phi_jl = np.array([0.1, 0.2, 0.3, 0.4]),\n",
    "    geocent_time = np.array([0.0, 0.0, 0.0, 0.0]),\n",
    "    phase = np.array([0.0, 0.0, 0.0, 0.0]),\n",
    ")\n",
    "\n",
    "# pdet calculation with ANN\n",
    "snr_ann = gwsnr.snr(gw_param_dict=param_dict)\n",
    "pdet_ann = gwsnr.probability_of_detection(snr_ann, snr_th=8, snr_th_net=8, type='bool')\n",
    "print('Computed SNRs with ANN:\\n', snr_ann['optimal_snr_net'])\n",
    "print('Probability of detection (with ANN): \\n', pdet_ann['pdet_net'])"
   ]
  },
  {
   "cell_type": "code",
   "execution_count": 3,
   "metadata": {},
   "outputs": [
    {
     "name": "stderr",
     "output_type": "stream",
     "text": [
      "/Users/phurailatpamhemantakumar/anaconda3/envs/ler/lib/python3.10/multiprocessing/popen_fork.py:66: RuntimeWarning: os.fork() was called. os.fork() is incompatible with multithreaded code, and JAX is multithreaded, so this will likely lead to a deadlock.\n",
      "  self.pid = os.fork()\n",
      "100%|█████████████████████████████████████████████████████████████████| 3/3 [00:00<00:00,  8.60it/s]\n"
     ]
    },
    {
     "name": "stdout",
     "output_type": "stream",
     "text": [
      "Computed SNRs with inner product:\n",
      " [11.41880125  9.31791303 17.87350892  0.        ]\n",
      "Probability of detection (with inner product): \n",
      " [1 1 1 0]\n"
     ]
    }
   ],
   "source": [
    "# pdet calculation with inner product\n",
    "snr_bilby = gwsnr.compute_bilby_snr(gw_param_dict=param_dict)\n",
    "# pdet calculation with inner product\n",
    "pdet_bilby = gwsnr.probability_of_detection(snr_dict=snr_bilby, type='bool')\n",
    "print('Computed SNRs with inner product:\\n', snr_bilby['optimal_snr_net'])\n",
    "print('Probability of detection (with inner product): \\n', pdet_bilby['pdet_net'])"
   ]
  },
  {
   "cell_type": "code",
   "execution_count": 4,
   "metadata": {},
   "outputs": [
    {
     "name": "stdout",
     "output_type": "stream",
     "text": [
      "effective spin : [0.09950042 0.19601332 0.28660095 0.3684244 ]\n"
     ]
    }
   ],
   "source": [
    "# chi_eff = (mass_1 * a_1 * np.cos(tilt_1) + mass_2 * a_2 * np.cos(tilt_2)) / (mass_1 + mass_2)\n",
    "chi_eff = (param_dict['mass_1'] * param_dict['a_1'] * np.cos(param_dict['tilt_1']) +\n",
    "           param_dict['mass_2'] * param_dict['a_2'] * np.cos(param_dict['tilt_2'])) / \\\n",
    "           (param_dict['mass_1'] + param_dict['mass_2'])\n",
    "print(f'effective spin : {chi_eff}')"
   ]
  },
  {
   "cell_type": "markdown",
   "metadata": {},
   "source": [
    "* spinless SNRs with IMRPhenomXPHM is more accurate when spin is small.\n",
    "\n",
    "* **Note:** ANN is less accurate in low mass ratio region. The accuracy can be improved by increasing the number of training samples in the sparse region of the parameter space."
   ]
  },
  {
   "cell_type": "code",
   "execution_count": null,
   "metadata": {},
   "outputs": [],
   "source": []
  },
  {
   "cell_type": "markdown",
   "metadata": {},
   "source": [
    "## Inner product assisted with JAX \n",
    "\n",
    "*  `ripple` is used to generate the waveform\n",
    "   *  `ripple` available waveform : IMRPhenomXAS, IMRPhenomD (aligned spin), TaylorF2 with tidal effects, IMRPhenomD_NRTidalv2\n",
    "*  It is further assisted with jax.jit+jax.vmap"
   ]
  },
  {
   "cell_type": "code",
   "execution_count": 30,
   "metadata": {},
   "outputs": [
    {
     "name": "stdout",
     "output_type": "stream",
     "text": [
      "\n",
      "Initializing GWSNR class...\n",
      "\n",
      "psds not given. Choosing bilby's default psds\n",
      "\n",
      "Chosen GWSNR initialization parameters:\n",
      "\n",
      "npool:  4\n",
      "snr type:  inner_product_jax\n",
      "waveform approximant:  IMRPhenomXAS\n",
      "sampling frequency:  2048.0\n",
      "minimum frequency (fmin):  20.0\n",
      "mtot=mass1+mass2\n",
      "min(mtot):  2.0\n",
      "max(mtot) (with the given fmin=20.0): 184.98599853446768\n",
      "detectors:  ['L1', 'H1', 'V1']\n",
      "psds:  [PowerSpectralDensity(psd_file='None', asd_file='/Users/phurailatpamhemantakumar/anaconda3/envs/ler/lib/python3.10/site-packages/bilby/gw/detector/noise_curves/aLIGO_O4_high_asd.txt'), PowerSpectralDensity(psd_file='None', asd_file='/Users/phurailatpamhemantakumar/anaconda3/envs/ler/lib/python3.10/site-packages/bilby/gw/detector/noise_curves/aLIGO_O4_high_asd.txt'), PowerSpectralDensity(psd_file='None', asd_file='/Users/phurailatpamhemantakumar/anaconda3/envs/ler/lib/python3.10/site-packages/bilby/gw/detector/noise_curves/AdV_asd.txt')]\n",
      "\n",
      "\n"
     ]
    }
   ],
   "source": [
    "import numpy as np\n",
    "from gwsnr import GWSNR\n",
    "# innitialize the class for pdet calculation\n",
    "gwsnr = GWSNR(snr_type='inner_product_jax', waveform_approximant='IMRPhenomXAS', multiprocessing_verbose=False)"
   ]
  },
  {
   "cell_type": "code",
   "execution_count": 31,
   "metadata": {},
   "outputs": [
    {
     "name": "stdout",
     "output_type": "stream",
     "text": [
      "solving SNR with inner product JAX\n"
     ]
    },
    {
     "name": "stderr",
     "output_type": "stream",
     "text": [
      "/Users/phurailatpamhemantakumar/anaconda3/envs/ler/lib/python3.10/multiprocessing/popen_fork.py:66: RuntimeWarning: os.fork() was called. os.fork() is incompatible with multithreaded code, and JAX is multithreaded, so this will likely lead to a deadlock.\n",
      "  self.pid = os.fork()\n"
     ]
    },
    {
     "name": "stdout",
     "output_type": "stream",
     "text": [
      "SNR (inner product JAX assisted) :  [11.35195744  9.22144834 17.49777026  0.        ]\n",
      "SNR (inner product bilby) :  [11.35193503  9.22043669 17.49735262  0.        ]\n"
     ]
    }
   ],
   "source": [
    "# set the GW parameters\n",
    "mass_1 = np.array([5, 10.,50.,200.])\n",
    "ratio = np.array([1, 0.8,0.5,0.2])\n",
    "param_dict = dict(\n",
    "    mass_1 = mass_1,\n",
    "    mass_2 = mass_1*ratio,\n",
    "    luminosity_distance = np.array([1000, 2000, 3000, 4000]),\n",
    "    theta_jn = np.array([0.1, 0.2, 0.3, 0.4]),\n",
    "    ra = np.array([0.1, 0.2, 0.3, 0.4]), \n",
    "    dec = np.array([0.1, 0.2, 0.3, 0.4]), \n",
    "    psi = np.array([0.1, 0.2, 0.3, 0.4]),\n",
    "    a_1 = np.array([0.1, 0.2, 0.3, 0.4]),\n",
    "    a_2 = np.array([0.1, 0.2, 0.3, 0.4]),\n",
    "    geocent_time = np.array([0.0, 0.0, 0.0, 0.0]),\n",
    "    phase = np.array([0.0, 0.0, 0.0, 0.0]),\n",
    ")\n",
    "\n",
    "# jax.jit functions are slow when run for the first time\n",
    "snr_jax = gwsnr.snr(gw_param_dict=param_dict)\n",
    "print(\"SNR (inner product JAX assisted) : \", snr_jax[\"optimal_snr_net\"])\n",
    "\n",
    "# snr with inner product\n",
    "snr_bilby = gwsnr.compute_bilby_snr(gw_param_dict=param_dict)\n",
    "print(\"SNR (inner product bilby) : \", snr_bilby[\"optimal_snr_net\"])\n"
   ]
  },
  {
   "cell_type": "code",
   "execution_count": null,
   "metadata": {},
   "outputs": [],
   "source": []
  }
 ],
 "metadata": {
  "kernelspec": {
   "display_name": "ler",
   "language": "python",
   "name": "ler"
  },
  "language_info": {
   "codemirror_mode": {
    "name": "ipython",
    "version": 3
   },
   "file_extension": ".py",
   "mimetype": "text/x-python",
   "name": "python",
   "nbconvert_exporter": "python",
   "pygments_lexer": "ipython3",
   "version": "3.10.18"
  }
 },
 "nbformat": 4,
 "nbformat_minor": 2
}
