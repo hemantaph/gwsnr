{
 "cells": [
  {
   "cell_type": "markdown",
   "metadata": {},
   "source": [
    "# SNR (optimal) generation and comparison "
   ]
  },
  {
   "cell_type": "code",
   "execution_count": 2,
   "metadata": {},
   "outputs": [],
   "source": [
    "import numpy as np\n",
    "import matplotlib.pyplot as plt\n",
    "from datetime import datetime\n",
    "from gwsnr import GWSNR"
   ]
  },
  {
   "cell_type": "markdown",
   "metadata": {},
   "source": [
    "## Initialization"
   ]
  },
  {
   "cell_type": "markdown",
   "metadata": {},
   "source": [
    "* run the following, if you want to see the documentation and the input parameters"
   ]
  },
  {
   "cell_type": "code",
   "execution_count": 5,
   "metadata": {},
   "outputs": [],
   "source": [
    "# GWSNR?"
   ]
  },
  {
   "cell_type": "markdown",
   "metadata": {},
   "source": [
    "* class initialization with default parameters\n",
    "* IMPORTANT: set the npool parameter to the number of cores you want to use for the parallel processing\n",
    "* parallel processing is use in the interpolator generation and in the SNR generation with inner-product method."
   ]
  },
  {
   "cell_type": "code",
   "execution_count": 9,
   "metadata": {},
   "outputs": [
    {
     "name": "stdout",
     "output_type": "stream",
     "text": [
      "psds not given. Choosing bilby's default psds\n",
      "npool:  4\n",
      "snr type:  interpolation\n",
      "waveform approximant:  IMRPhenomD\n",
      "sampling frequency:  2048.0\n",
      "minimum frequency (fmin):  20.0\n",
      "mtot=mass1+mass2\n",
      "min(mtot):  2.0\n",
      "max(mtot) (with the given fmin=20.0): 184.98599853446768\n",
      "min(ratio):  0.1\n",
      "max(ratio):  1.0\n",
      "mtot resolution:  500\n",
      "ratio resolution:  50\n",
      "interpolator directory:  ./interpolator_pickle\n",
      "Interpolator will be loaded for L1 detector from ./interpolator_pickle/L1/halfSNR_dict_1.pickle\n",
      "Interpolator will be loaded for H1 detector from ./interpolator_pickle/H1/halfSNR_dict_1.pickle\n",
      "Interpolator will be loaded for V1 detector from ./interpolator_pickle/V1/halfSNR_dict_1.pickle\n"
     ]
    }
   ],
   "source": [
    "# gwsnr = GWSNR(gwsnr_verbose=False) # if you don't want to see the print statements\n",
    "gwsnr = GWSNR()"
   ]
  },
  {
   "cell_type": "markdown",
   "metadata": {},
   "source": [
    "## calculate the SNR for given BBH (binary-black-hole) masses"
   ]
  },
  {
   "cell_type": "code",
   "execution_count": 10,
   "metadata": {},
   "outputs": [
    {
     "data": {
      "text/plain": [
       "{'L1': array([ 74.07237228, 115.97500235, 310.36065119, 265.99021368]),\n",
       " 'H1': array([ 47.11239983,  73.76381386, 197.39930883, 169.17829027]),\n",
       " 'V1': array([22.22306148, 34.4041247 , 93.34870658, 78.61438369]),\n",
       " 'optimal_snr_net': array([ 90.55472939, 141.68607977, 379.47885574, 324.88814843])}"
      ]
     },
     "execution_count": 10,
     "metadata": {},
     "output_type": "execute_result"
    }
   ],
   "source": [
    "mass_1 = np.array([5, 10.,50.,100.])\n",
    "ratio = np.array([1, 0.8,0.5,0.2])\n",
    "gwsnr.snr(mass_1=mass_1, mass_2=mass_1*ratio)"
   ]
  },
  {
   "cell_type": "markdown",
   "metadata": {},
   "source": [
    "## Testing speed and accurarcy between the interpolation method and inner product method."
   ]
  },
  {
   "cell_type": "markdown",
   "metadata": {},
   "source": [
    "* set up the BBH parameters\n",
    "* simulate 1000 events"
   ]
  },
  {
   "cell_type": "code",
   "execution_count": 9,
   "metadata": {},
   "outputs": [],
   "source": [
    "# gerneral case, random parameters\n",
    "# chirp mass can go upto only 95 if f_min=20. to get non zero SNR\n",
    "nsamples = 1000\n",
    "chirp_mass = np.linspace(5,80,nsamples)\n",
    "mass_ratio = np.random.uniform(0.2,1,size=nsamples)\n",
    "mass_1 = (chirp_mass*(1+mass_ratio)**(1/5))/mass_ratio**(3/5)\n",
    "mass_2 = chirp_mass*mass_ratio**(2/5)*(1+mass_ratio)**(1/5)\n",
    "total_mass = mass_1+mass_2\n",
    "mass_ratio = mass_2/mass_1\n",
    "# Fix luminosity distance\n",
    "luminosity_distance = 80*np.ones(nsamples)\n",
    "# Randomly sample everything else:\n",
    "theta_jn = np.random.uniform(0,2*np.pi, size=nsamples)\n",
    "ra, dec, psi, phase = np.random.uniform(0,2*np.pi, size=nsamples), np.random.uniform(0,np.pi, size=nsamples), np.random.uniform(0,2*np.pi, size=nsamples), np.random.uniform(0,2*np.pi, size=nsamples)\n",
    "a_1, a_2, tilt_1, tilt_2, phi_12, phi_jl = 0,0,0,0,0,0 # Zero spin"
   ]
  },
  {
   "cell_type": "markdown",
   "metadata": {},
   "source": [
    "* below calculation is with inner product method\n",
    "* this is similar to how snr is calculated in the `bilby` package"
   ]
  },
  {
   "cell_type": "code",
   "execution_count": 12,
   "metadata": {},
   "outputs": [
    {
     "name": "stderr",
     "output_type": "stream",
     "text": [
      "100%|████████████████████████████████████████████████████████████| 744/744 [00:01<00:00, 441.31it/s]"
     ]
    },
    {
     "name": "stdout",
     "output_type": "stream",
     "text": [
      "Duration: 0:00:01.726779\n"
     ]
    },
    {
     "name": "stderr",
     "output_type": "stream",
     "text": [
      "\n"
     ]
    }
   ],
   "source": [
    "# error might occur for mchirp>95., if f_min=20. \n",
    "start_time = datetime.now()\n",
    "bilby_snr = gwsnr.compute_bilby_snr(mass_1=mass_1, mass_2=mass_1, luminosity_distance=luminosity_distance, theta_jn=theta_jn, \\\n",
    "                            psi=psi, phase=phase, ra=ra, dec=dec)\n",
    "end_time = datetime.now()\n",
    "print('Duration: {}'.format(end_time - start_time))"
   ]
  },
  {
   "cell_type": "code",
   "execution_count": 14,
   "metadata": {},
   "outputs": [
    {
     "name": "stdout",
     "output_type": "stream",
     "text": [
      "Duration: 0:00:00.018197\n"
     ]
    }
   ],
   "source": [
    "start_time = datetime.now()\n",
    "interp_snr = gwsnr.snr(mass_1=mass_1, mass_2=mass_1, luminosity_distance=luminosity_distance, theta_jn=theta_jn, \\\n",
    "            psi=psi, phase=phase, ra=ra, dec=dec)\n",
    "end_time = datetime.now()\n",
    "print('Duration: {}'.format(end_time - start_time))"
   ]
  },
  {
   "cell_type": "markdown",
   "metadata": {},
   "source": [
    "* interpolation method is much faster than inner product method\n",
    "* **Note:** interpolation method is only for the spinless compact binary coalescence (CBC) frequency domain waveform models."
   ]
  },
  {
   "cell_type": "code",
   "execution_count": 18,
   "metadata": {},
   "outputs": [
    {
     "data": {
      "image/png": "[encoded data removed]",
      "text/plain": [
       "<Figure size 400x400 with 1 Axes>"
      ]
     },
     "metadata": {},
     "output_type": "display_data"
    }
   ],
   "source": [
    "plt.figure(figsize=(4,4))\n",
    "plt.plot(total_mass, abs(interp_snr['optimal_snr_net']-bilby_snr['optimal_snr_net']), 'o', color='cyan')\n",
    "plt.xlabel(r\"$m_{tot}$ [$\\rm M_\\odot$]\")\n",
    "plt.ylabel(r\"difference\")\n",
    "plt.title(r\"SNR difference\")\n",
    "plt.grid(alpha=0.4)\n",
    "plt.show()"
   ]
  },
  {
   "cell_type": "markdown",
   "metadata": {},
   "source": [
    "## pdet (probaility of detection) calculation"
   ]
  },
  {
   "cell_type": "code",
   "execution_count": 27,
   "metadata": {},
   "outputs": [],
   "source": [
    "mass_1 = np.array([2,50.,100.,])\n",
    "ratio = 1.\n",
    "dl = 500\n",
    "snr_dict = gwsnr.snr(mass_1=mass_1, mass_2=mass_1*ratio, luminosity_distance=dl)\n",
    "# with snr threshold equal to 8\n",
    "pdet_dict = gwsnr.pdet(snr_dict)"
   ]
  },
  {
   "cell_type": "code",
   "execution_count": 28,
   "metadata": {},
   "outputs": [
    {
     "name": "stdout",
     "output_type": "stream",
     "text": [
      "snr:  [  8.78159001 105.15382713   0.        ]\n",
      "pdet:  [7.82772219e-01 1.00000000e+00 6.66133815e-16]\n"
     ]
    }
   ],
   "source": [
    "print('snr: ', snr_dict[\"optimal_snr_net\"])\n",
    "print('pdet: ', pdet_dict[\"pdet_net\"])"
   ]
  },
  {
   "cell_type": "markdown",
   "metadata": {},
   "source": [
    "## Changing the input parameters "
   ]
  },
  {
   "cell_type": "markdown",
   "metadata": {},
   "source": [
    "What will change?\n",
    "* Detectors: CE, ET.\n",
    "* Minimum frequency: 10 Hz\n",
    "* Maximum total mass: 500. Note that if this mass is above the allowed total mass for the given minimum frequency, i.e. the last stable orbit (LSO) frequency below the minimum frequency, then the maximum mass will be set to the maximum mass for the given minimum frequency.\n",
    "* Waveform model: IMRPhenomXPHM"
   ]
  },
  {
   "cell_type": "code",
   "execution_count": 11,
   "metadata": {},
   "outputs": [
    {
     "name": "stdout",
     "output_type": "stream",
     "text": [
      "npool:  4\n",
      "snr type:  inner_product\n",
      "waveform approximant:  IMRPhenomD\n",
      "sampling frequency:  2048.0\n",
      "minimum frequency (fmin):  10.0\n",
      "mtot=mass1+mass2\n",
      "min(mtot):  2.0\n",
      "max(mtot) (with the given fmin=10.0): 369.97199706893525\n"
     ]
    }
   ],
   "source": [
    "# if snr_type = 'inner_product', interpolator will not be created\n",
    "from gwsnr import GWSNR\n",
    "gwsnr = GWSNR(\n",
    "    npool = int(4), \n",
    "    mtot_min=2.,\n",
    "    mtot_max=440.,  # highest total mass possible at 10Hz\n",
    "    minimum_frequency = 10.,\n",
    "    snr_type = 'inner_product', \n",
    "    #psds = {'CE':'CE_psd.txt', 'ET':'ET_B_psd.txt'}, # if you want to use your own psd\n",
    "    ifos = ['CE', 'ET'],  # this will considet bilby's default psd of CE and ET\n",
    ")"
   ]
  },
  {
   "cell_type": "code",
   "execution_count": 12,
   "metadata": {},
   "outputs": [
    {
     "name": "stdout",
     "output_type": "stream",
     "text": [
      "solving SNR with inner product\n"
     ]
    },
    {
     "name": "stderr",
     "output_type": "stream",
     "text": [
      "100%|█████████████████████████████████████████████████████████████████| 4/4 [00:01<00:00,  2.96it/s]\n"
     ]
    },
    {
     "data": {
      "text/plain": [
       "{'CE': array([2148.90304551, 3418.3544206 , 9539.03962624, 9480.46037205]),\n",
       " 'ET1': array([149.37771668, 236.23429377, 662.6230723 , 639.92876964]),\n",
       " 'ET2': array([ 426.53991017,  674.55412147, 1892.0839869 , 1827.28164531]),\n",
       " 'ET3': array([ 474.63277116,  750.61086744, 2105.4186128 , 2033.30973335]),\n",
       " 'optimal_snr_net': array([2246.622034  , 3572.02932848, 9972.21718955, 9887.46400141])}"
      ]
     },
     "execution_count": 12,
     "metadata": {},
     "output_type": "execute_result"
    }
   ],
   "source": [
    "mass_1 = np.array([5, 10.,50.,100.])\n",
    "ratio = np.array([1, 0.8,0.5,0.2])\n",
    "gwsnr.snr(mass_1=mass_1, mass_2=mass_1*ratio)"
   ]
  }
 ],
 "metadata": {
  "kernelspec": {
   "display_name": "ler",
   "language": "python",
   "name": "ler"
  },
  "language_info": {
   "codemirror_mode": {
    "name": "ipython",
    "version": 3
   },
   "file_extension": ".py",
   "mimetype": "text/x-python",
   "name": "python",
   "nbconvert_exporter": "python",
   "pygments_lexer": "ipython3",
   "version": "3.10.12"
  }
 },
 "nbformat": 4,
 "nbformat_minor": 2
}
