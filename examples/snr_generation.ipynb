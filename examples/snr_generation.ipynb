{
 "cells": [
  {
   "cell_type": "markdown",
   "metadata": {},
   "source": [
    "# SNR (optimal) generation and comparison \n",
    "\n",
    "This notebook is a full guide on how to use the `gwsnr` package to generate the 'optimal signal-to-noise ratio' (SNR) and 'probability of detection' (Pdet) for a given Gravitational Wave (GW) signal.\n",
    "\n",
    "## Contents\n",
    "\n",
    "1. Introduction to `gwsnr` package\n",
    "   \n",
    "2. SNR with bilby inner product\n",
    "   \n",
    "3. Interpolation with Partial Scaling method\n",
    "  \n",
    "    * Testing speed and accurarcy between the interpolation method and inner product method\n",
    "    * Pdet calculation\n",
    "    * Changing the input arguments\n",
    "   \n",
    "4. SNR and Pdet with Artificial Neural Network ANN\n",
    "\n",
    "5. Inner product assisted with JAX "
   ]
  },
  {
   "cell_type": "markdown",
   "metadata": {},
   "source": [
    "## I. Introduction to `gwsnr` package\n",
    "\n",
    "`gwsnr` is a Python package for calculating the signal-to-noise ratio (SNR) of GW signals. It is designed for detecting GWs from compact binary coalescences (CBCs) with ground-based interferometers. This flexible and user-friendly tool allows users to mix and match different noise models, waveform models, detector configurations, and signal parameters. SNR calculations are enhanced through interpolation techniques and parallel processing.\n",
    "\n",
    "By default, `gwsnr` uses the interpolation method. The example below generates the SNR for a GW signal from a spin-less binary black hole (BBH) merger with the following parameters: primary mass $m_1 = 30 M_\\odot$, secondary mass $m_2 = 30 M_\\odot$, and luminosity distance $d_L = 1000 \\text{ Mpc}$; while the other parameters are set to their default values."
   ]
  },
  {
   "cell_type": "code",
   "execution_count": 2,
   "metadata": {},
   "outputs": [
    {
     "name": "stdout",
     "output_type": "stream",
     "text": [
      "\n",
      "Initializing GWSNR class...\n",
      "\n",
      "psds not given. Choosing bilby's default psds\n",
      "Interpolator will be loaded for L1 detector from ./interpolator_pickle/L1/partialSNR_dict_2.pickle\n",
      "Interpolator will be loaded for H1 detector from ./interpolator_pickle/H1/partialSNR_dict_2.pickle\n",
      "Interpolator will be loaded for V1 detector from ./interpolator_pickle/V1/partialSNR_dict_2.pickle\n",
      "\n",
      "Chosen GWSNR initialization parameters:\n",
      "\n",
      "npool:  4\n",
      "snr type:  interpolation_no_spins\n",
      "waveform approximant:  IMRPhenomD\n",
      "sampling frequency:  2048.0\n",
      "minimum frequency (fmin):  20.0\n",
      "mtot=mass1+mass2\n",
      "min(mtot):  9.96\n",
      "max(mtot) (with the given fmin=20.0): 235.0\n",
      "detectors:  ['L1', 'H1', 'V1']\n",
      "psds:  [PowerSpectralDensity(psd_file='None', asd_file='/Users/phurailatpamhemantakumar/anaconda3/envs/ler/lib/python3.10/site-packages/bilby/gw/detector/noise_curves/aLIGO_O4_high_asd.txt'), PowerSpectralDensity(psd_file='None', asd_file='/Users/phurailatpamhemantakumar/anaconda3/envs/ler/lib/python3.10/site-packages/bilby/gw/detector/noise_curves/aLIGO_O4_high_asd.txt'), PowerSpectralDensity(psd_file='None', asd_file='/Users/phurailatpamhemantakumar/anaconda3/envs/ler/lib/python3.10/site-packages/bilby/gw/detector/noise_curves/AdV_asd.txt')]\n",
      "\n",
      "\n",
      "solving SNR with interpolation\n",
      "Computed SNRs:\n",
      " {'L1': array([29.26362046]), 'H1': array([18.61259934]), 'V1': array([8.91381797]), 'optimal_snr_net': array([35.80844156])}\n"
     ]
    }
   ],
   "source": [
    "# loading GWSNR class from the gwsnr package\n",
    "import gwsnr\n",
    "import numpy as np\n",
    "\n",
    "# initializing the GWSNR class with default parameters\n",
    "# running for the first time, with default initialization parameters, will create a new directory in the current working directory and copy the default interpolation files\n",
    "# if you want to gererate new interpolation files, you can either change the input arguments (e.g various resolutions, psds etc.) or set `create_new_interpolator=True`\n",
    "gwsnr = gwsnr.GWSNR()\n",
    "\n",
    "# signal-to-noise ratio for a binary black hole merger with masses 30, 30 Msun at a luminosity distance of 1000 Mpc\n",
    "# you can pass the complete set of GW parameters to the snr function.\n",
    "snrs = gwsnr.snr(mass_1=np.array([30.0]), mass_2=np.array([30.0]), luminosity_distance=np.array([1000.0]))\n",
    "\n",
    "# print the signal-to-noise ratio\n",
    "print('Computed SNRs:\\n', snrs)"
   ]
  },
  {
   "cell_type": "markdown",
   "metadata": {},
   "source": [
    "* Results have SNR values of the individual detector and the combined effective SNR value."
   ]
  },
  {
   "cell_type": "markdown",
   "metadata": {},
   "source": [
    "### Below shows GWSNR initialization with all of its (default) arguments\n",
    "\n",
    "```python\n",
    "gwsnr = gwsnr.GWSNR(\n",
    "    #################################\n",
    "    # General settings\n",
    "    npool=4,  # number of processes. Run this to check the number of cores in your machine; import os; os.cpu_count()\n",
    "    snr_type='interpolation',  # type of SNR calculation. Options are 'interpolation', 'inner_product', 'ann', 'inner_product_jax'\n",
    "    interpolator_dir='./interpolator_pickle',  # directory to save/load the interpolator\n",
    "    create_new_interpolator=False,  # if True, it will overwrite the existing interpolator\n",
    "    gwsnr_verbose=True,  # if True, it will print all gwsnr settings\n",
    "    multiprocessing_verbose=True, # if True, it will show progress bar for multiprocessing. If False, there will be no progress bar but it will be faster.\n",
    "    pdet=False,  # if True, it will calculate the probability of detection\n",
    "    snr_th=8.0,  # threshold SNR for the Pdet for each detector\n",
    "    snr_th_net=8.0,  # threshold SNR for the Pdet for the network\n",
    "    ann_path_dict=None,  # path to the ANN model for SNR and Pdet calculation\n",
    "    snr_recalculation=False, # If True, enables hybrid SNR recalculation for systems near detection threshold. Default is False.\n",
    "    snr_recalculation_range=[6,8], # SNR range [min, max] for triggering recalculation. Default is [6,8].\n",
    "    snr_recalculation_waveform_approximant='IMRPhenomXPHM', # Waveform approximant to use for SNR recalculation. Default is 'IMRPhenomXPHM'.\n",
    "    #################################\n",
    "    # Interpolation settings\n",
    "    mtot_min=2*4.98, # minimum total mass in solar masses Mo. 4.98 Mo is the minimum component mass of BBH systems in GWTC-3\n",
    "    mtot_max=2*112.5+10.0, # maximum total mass in solar masses Mo. 112.5 Mo is the maximum component mass of BBH systems in GWTC-3. 10.0 Mo is added to avoid edge effects.\n",
    "    ratio_min=0.1,  # minimum mass ratio\n",
    "    ratio_max=1.0,  # maximum mass ratio\n",
    "    spin_max=0.99,  # maximum spin magnitude\n",
    "    mtot_resolution=200,  \n",
    "    ratio_resolution=50,  \n",
    "    spin_resolution=20,  # will be used only if snr_type is 'interpolation_aligned_spins'\n",
    "    #################################\n",
    "    # Waveform settings\n",
    "    waveform_approximant='IMRPhenomD',  # frequency domain waveform approximant of the GW signal\n",
    "    frequency_domain_source_model='lal_binary_black_hole', # Source model for frequency domain waveform generation. Default is 'lal_binary_black_hole'.\n",
    "    sampling_frequency=2048.0,  # sampling frequency in Hz\n",
    "    minimum_frequency=20.0,  # minimum frequency of the waveform in Hz\n",
    "    duration_max=None,  # maximum duration of the waveform in seconds. Bilby default for IMRPhenomXPHM is 64 seconds.\n",
    "    duration_min=None,  # minimum duration of the waveform in seconds. Bilby default is 4 seconds.\n",
    "    mtot_cut=True,  # if True, SNR=0 for total mass > mtot_cut\n",
    "    #################################\n",
    "    # Detector settings\n",
    "    psds={'L1':'aLIGO_O4_high_asd.txt','H1':'aLIGO_O4_high_asd.txt', 'V1':'AdV_asd.txt', 'K1':'KAGRA_design_asd.txt'}, # power spectral density of the detectors\n",
    "    ifos=['L1', 'H1', 'V1'],  # list of detectors. You can also provide bilby interferometer objects.\n",
    ")\n",
    "```"
   ]
  },
  {
   "cell_type": "markdown",
   "metadata": {},
   "source": [
    "\n",
    "## II. Noise-Weighted Inner Product Method\n",
    "\n",
    "The `gwsnr` package implements the standard noise-weighted inner product method to compute the signal-to-noise ratio (SNR), a core technique in gravitational-wave data analysis. This method is particularly suitable for frequency-domain waveforms generated by the `lalsimulation` library [@lalsuite], including complex models that incorporate spin precession and subdominant harmonic modes.\n",
    "\n",
    "To enhance computational performance, `gwsnr` parallelizes waveform generation across multiple CPU cores and uses `numba`'s Just-In-Time (`njit`) compilation to accelerate antenna response functions, chirptime (signal duration) calculation, and inner product calculations. Additionally, the package offers optional support for JAX-based acceleration through the `ripple` waveform library [@Edwards:2023sak], using `jax.jit` for compilation and `jax.vmap` for batched operations.\n",
    "\n",
    "### Mathematical Formulation\n",
    "\n",
    "Following [@Allen:2012](https://arxiv.org/pdf/gr-qc/0509116), the noise-weighted inner product between two complex-valued frequency-domain waveforms, $\\tilde{a}(f)$ and $\\tilde{b}(f)$, defined as:\n",
    "\n",
    "\\begin{align}\n",
    "\\left< a | b \\right> = 4 \\int_{f_{\\min}}^{f_{\\max}} \\frac{\\tilde{a}(f), \\tilde{b}^*(f)}{S_n(f)} , df \\tag{1}\n",
    "\\end{align}\n",
    "\n",
    "Here, $S_n(f)$ denotes the one-sided power spectral density (PSD) of the detector noise, and $[f_{\\min}, f_{\\max}]$ is the analysis frequency band.\n",
    "\n",
    "GW waveform can be expressed as a combination of plus and cross polarizations, $\\tilde{h}(f) = \\tilde{h}_+(f) + i\\, \\tilde{h}_\\times(f)$. Using this, we can write optimal SNR as:\n",
    "\n",
    "\\begin{align}\n",
    "\\rho = \\sqrt{ \\left< h | h \\right> } = \\sqrt{ 4 \\int_{f_{\\min}}^{f_{\\max}} \\frac{\\tilde{h}(f)\\, \\tilde{h}^*(f)}{S_n(f)} \\, df } \\tag{2}\n",
    "\\end{align}\n",
    "\n",
    "Assuming that $\\tilde{h}+$ and $\\tilde{h}\\times$ are orthogonal, which is a good approximation for most waveform models including precessing cases, the SNR can be written in terms of detector response functions:\n",
    "\n",
    "$$\n",
    "\\rho = \\sqrt{ F_+^2 \\left< \\tilde{h}_+ | \\tilde{h}_+ \\right> + F_\\times^2 \\left< \\tilde{h}_\\times | \\tilde{h}_\\times \\right> } \\tag{3}\n",
    "$$\n",
    "\n",
    "The antenna pattern functions $F_+$ and $F_\\times$ depend on the detector's orientation and the source's sky location ($\\alpha$, $\\delta$), inclination ($\\iota$), polarization angle ($\\psi$), and geocentric time ($t_c$). The waveform polarizations $\\tilde{h}_{+,\\times}$ themselves depend on both intrinsic parameters (component masses $m_1$, $m_2$, and spins) and extrinsic parameters (luminosity distance $D_L$, inclination angle $\\iota$, coalescence phase $\\phi_c$, and $t_c$).\n",
    "\n",
    "This method provides a flexible and robust framework for computing optimal SNRs using arbitrary frequency-domain waveform models and detector configurations. The bottleneck in this method is waveform generation, which is parallelized across multiple CPU cores. The remaining computations are efficiently handled through `njit` compilation and acceleration, making this approach more efficient than traditional Bilby SNR generation."
   ]
  },
  {
   "cell_type": "code",
   "execution_count": null,
   "metadata": {},
   "outputs": [
    {
     "name": "stdout",
     "output_type": "stream",
     "text": [
      "\n",
      "Initializing GWSNR class...\n",
      "\n",
      "psds not given. Choosing bilby's default psds\n",
      "Intel processor has trouble allocating memory when the data is huge. So, by default for IMRPhenomXPHM, duration_max = 64.0. Otherwise, set to some max value like duration_max = 600.0 (10 mins)\n",
      "\n",
      "Chosen GWSNR initialization parameters:\n",
      "\n",
      "npool:  4\n",
      "snr type:  inner_product\n",
      "waveform approximant:  IMRPhenomXPHM\n",
      "sampling frequency:  2048.0\n",
      "minimum frequency (fmin):  20.0\n",
      "mtot=mass1+mass2\n",
      "min(mtot):  9.96\n",
      "max(mtot) (with the given fmin=20.0): 235.0\n",
      "detectors:  ['L1', 'H1', 'V1']\n",
      "psds:  [PowerSpectralDensity(psd_file='None', asd_file='/Users/phurailatpamhemantakumar/anaconda3/envs/ler/lib/python3.10/site-packages/bilby/gw/detector/noise_curves/aLIGO_O4_high_asd.txt'), PowerSpectralDensity(psd_file='None', asd_file='/Users/phurailatpamhemantakumar/anaconda3/envs/ler/lib/python3.10/site-packages/bilby/gw/detector/noise_curves/aLIGO_O4_high_asd.txt'), PowerSpectralDensity(psd_file='None', asd_file='/Users/phurailatpamhemantakumar/anaconda3/envs/ler/lib/python3.10/site-packages/bilby/gw/detector/noise_curves/AdV_asd.txt')]\n",
      "\n",
      "\n",
      "solving SNR with inner product\n"
     ]
    },
    {
     "name": "stderr",
     "output_type": "stream",
     "text": [
      "100%|█████████████████████████████████████████████████████████████████| 2/2 [00:00<00:00,  5.50it/s]"
     ]
    },
    {
     "name": "stdout",
     "output_type": "stream",
     "text": [
      "\n",
      "Computed SNRs with inner product:\n",
      " {'L1': array([ 46.54316798, 171.34559136]), 'H1': array([ 48.21824781, 177.14405908]), 'V1': array([13.20656089, 48.04939689]), 'optimal_snr_net': array([ 68.3057769 , 251.09375518])}\n"
     ]
    },
    {
     "name": "stderr",
     "output_type": "stream",
     "text": [
      "\n"
     ]
    }
   ],
   "source": [
    "# loading GWSNR class from the gwsnr package\n",
    "import gwsnr\n",
    "import numpy as np\n",
    "\n",
    "# initializing the GWSNR class with inner product as the signal-to-noise ratio type\n",
    "gwsnr = gwsnr.GWSNR(snr_type='inner_product', waveform_approximant='IMRPhenomXPHM')\n",
    "\n",
    "# signal-to-noise ratio for a BBH with GW150914 like parameters with detectors LIGO-Hanford, LIGO-Livingston, and Virgo with O4 observing run sensitivity\n",
    "snrs = gwsnr.snr(\n",
    "    mass_1=np.array([36.0]), # mass of the primary black hole in solar masses\n",
    "    mass_2=np.array([29.0]), # mass of the secondary black hole in solar masses\n",
    "    luminosity_distance=np.array([440.0]), # luminosity distance in Mpc\n",
    "    theta_jn=np.array([1.0]), # inclination angle in radians\n",
    "    ra=np.array([3.435]), # right ascension in radians\n",
    "    dec=np.array([-0.408]), # declination in radians\n",
    "    psi=np.array([0.0]),  # polarization angle in radians\n",
    "    geocent_time=np.array([1126259462.4]), # geocentric time in GPS seconds\n",
    "    a_1=np.array([0.3]), # dimensionless spin of the primary black hole\n",
    "    a_2=np.array([0.2]), # dimensionless spin of the secondary black hole\n",
    "    tilt_1=np.array([0.5]), # tilt angle of the primary black hole in radians\n",
    "    tilt_2=np.array([0.8]), # tilt angle of the secondary black hole in radians\n",
    "    phi_12=np.array([0.0]), # Relative angle between the primary and secondary spin of the binary in radians\n",
    "    phi_jl=np.array([0.0]), # Angle between the total angular momentum and the orbital angular momentum in radians\n",
    ")\n",
    "print('\\nComputed SNRs with inner product:\\n', snrs)"
   ]
  },
  {
   "cell_type": "code",
   "execution_count": null,
   "metadata": {},
   "outputs": [],
   "source": []
  },
  {
   "cell_type": "code",
   "execution_count": null,
   "metadata": {},
   "outputs": [],
   "source": []
  },
  {
   "cell_type": "markdown",
   "metadata": {},
   "source": [
    "\n",
    "### III. The Partial Scaling Interpolation Method\n",
    "\n",
    "The `gwsnr` package implements the Partial Scaling method, an interpolation-assisted technique designed for the rapid calculation of SNR of binary systems with non-spinning or aligned-spin components. Although originally conceived for simple inspiral-only waveforms, the method has since been generalized to include full inspiral-merger-ringdown (IMR; frequency domain) waveforms available in the `lalsimulation` library. \n",
    "\n",
    "The core principle, adapted from the FINDCHIRP algorithm ([@Allen:2012](https://arxiv.org/pdf/gr-qc/0509116)), is to pre-compute and interpolate the most computationally expensive component of the SNR calculation—termed the \"partial SNR,\" denoted as $\\rho_{1/2}$. This partial SNR depends solely on the intrinsic parameters of the binary, such as total mass $M$, mass ratio $q$, and spin magnitudes $a_1$ and $a_2$. The final SNR is then quickly recovered through the application of a simple scaling factor. To further optimize performance, the entire procedure, including both antenna response computations and interpolation, is accelerated using either `numba.njit` compilation or `jax.jit` compilation and further parralelized using `jax.vmap`.\n",
    "\n",
    "### Mathematical Formulation\n",
    "\n",
    "The Partial Scaling method begins with the standard definition of the optimal SNR, $\\rho$. For a simple inspiral waveform, following Eq.(2) of the Sec.([II](#ii-noise-weighted-inner-product-method)) and Eq.(D1) of [@Allen:2012](https://arxiv.org/pdf/gr-qc/0509116), the SNR can be written as\n",
    "$$\n",
    "\\begin{align}\n",
    "\\rho &= \\sqrt{4 \\int_{f_{\\rm min}}^{f_{\\rm max}} \\frac{|\\tilde{h}(f)|^2}{S_n(f)}\\, df}, \\notag \\\\\n",
    "&= \\left( \\frac{1~\\mathrm{Mpc}}{D_{\\mathrm{eff}}} \\right)\n",
    "\\sqrt{4 \\mathcal{A}_{1~\\mathrm{Mpc}}^2 ({\\cal M})\n",
    "\\int_{f_{\\rm min}}^{f_{\\rm max}} \\frac{f^{-7/3}}{S_n(f)}\\, df }, \\notag \\\\\n",
    "&= \\left(\\frac{1~\\mathrm{Mpc}}{D_{\\mathrm{eff}}}\\right) \\mathcal{A}_{1~\\mathrm{Mpc}} ({\\cal M}) \\sqrt{ 4\\int_{f_{\\rm min}}^{f_{\\rm lso}} \\frac{f^{-7/3}}{S_n(f)}df }, \\tag{B1}\n",
    "\\end{align}\n",
    "$$\n",
    "where $\\tilde{h}(f)$ is the frequency-domain waveform, $S_n(f)$ is the detector noise power spectral density, and $D_{\\text{eff}}$ is the effective distance to the source. The amplitude term, $\\mathcal{A}_{1,\\text{Mpc}}$, is a function of the chirp mass ${\\cal M}$. Now, $D_{\\text{eff}}$ and $\\mathcal{A}_{1,\\text{Mpc}}$ reads\n",
    "$$\n",
    "\\begin{align}\n",
    "\\mathcal{A}_{\\rm 1Mpc} &= \\left(\\frac{5}{24\\pi}\\right)^{1/2}\n",
    "\\left(\\frac{GM_\\odot/c^2}{1~\\mathrm{Mpc}}\\right)\n",
    "\\left(\\frac{\\pi GM_\\odot}{c^3}\\right)^{-1/6}\n",
    "\\left(\\frac{\\mathcal{M}}{M_\\odot}\\right)^{5/6} \\,,\\tag{B2} \\\\\n",
    "D_\\mathrm{eff} &= D_l \\left[\n",
    "    F_+^2 \\left(\\frac{1+\\cos^2\\iota}{2}\\right)^2 +\n",
    "    F_\\times^2 \\cos^2\\iota\n",
    "\\right]^{-1/2}\\tag{B3} \\\\\n",
    "\\end{align}\n",
    "$$\n",
    "\n",
    "$\\mathcal{M}$ is the chirp mass, and in terms of ($M,q$) it reads $\\mathcal{M} = M \\left( \\frac{q}{1+q^2} \\right)^{3/5}$, where $M = m_1 + m_2$ is the total mass and $q = m_2/m_1$ is the mass ratio. \n",
    "$D_l$ is the luminosity distance, $\\iota$ is the inclination angle, and $F_+$ and $F_\\times$ are the antenna patterns of the detector.\n",
    "The integral runs from a minimum frequency $f_{\\min}$ (typically $20$ Hz) up to the frequency of the last stable orbit, which is determined by the total mass of the binary system as $f_{\\rm LSO} = 1/(6^{3/2} \\pi) (G\\,M/c^3)^{-1/2}$.\n",
    "\n",
    "A key insight is to isolate the computationally intensive integral, which is independent of extrinsic parameters such as distance and sky location. This term is defined as the partial-SNR, $\\rho_{1/2}$ and it reads\n",
    "$$\n",
    "\\begin{align}\n",
    "\\rho_{1/2} &= \\left(\\frac{D_\\mathrm{eff}}{1~\\mathrm{Mpc}}\\right) \\mathcal{M}^{-5/6} \\times \\rho\\,, \\tag{B4}\\\\\n",
    "&= \\left(\\frac{5}{24\\pi}\\right)^{1/2}\n",
    "\\left(\\frac{GM_\\odot/c^2}{1~\\mathrm{Mpc}}\\right)\n",
    "\\left(\\frac{\\pi GM_\\odot}{c^3}\\right)^{-1/6}\n",
    "\\left(\\frac{1}{M_\\odot}\\right)^{5/6}\n",
    "\\sqrt{4 \\int_{20}^{f_{\\rm LSO}} \\frac{f^{-7/3}}{S_n(f)}\\, df} \\tag{B5}\n",
    "\\end{align}\n",
    "$$\n",
    "\n",
    "For more general IMR waveforms the same principle applies. The full SNR, $\\rho_{\\text{bilby}}$, is first calculated using a library such as `bilby`, and the partial SNR is analogously defined as\n",
    "$$\n",
    "\\begin{align}\n",
    "\\rho_{1/2} &= \\left(\\frac{D_\\mathrm{eff}}{1~\\mathrm{Mpc}}\\right) \\mathcal{M}^{-5/6} \\times \\rho_{\\rm bilby}\\,, \\tag{B6}\n",
    "\\end{align}\n",
    "$$\n",
    "\n",
    "### Interpolation Procedure\n",
    "\n",
    "To obtain the SNR for a new set of binary parameters, the method interpolates $\\rho_{1/2}$ from a pre-computed grid. \n",
    "For non-spinning IMR waveforms, a two-dimensional grid in $(M, q)$ is constructed, with grid spacing optimized to minimize interpolation error: the $q$ axis is logarithmically spaced, while the $M$ axis is inverse-logarithmically spaced. Given a new parameter set $(M_{\\text{new}}, q_{\\text{new}})$, **nested one-dimensional cubic spline interpolation** (see Sec.([IV](#iv-nested-1d-cubic-spline-interpolation))) is used to determine the corresponding value of $\\rho_{1/2}$ from the pre-computed grid. These $\\rho_{1/2}$ values are stored in a pickle file for efficient future access.\n",
    "\n",
    "For spin-aligned IMR waveforms, the approach is extended to a four-dimensional grid spanning $(M, q, a_1, a_2)$, where $a_1$ and $a_2$ are the dimensionless spin magnitudes. The $(M, q)$ axes maintain the optimized spacing, while the spin axes are uniformly spaced within a user-defined range.\n",
    "\n",
    "Once the interpolated value of $\\rho_{1/2}$ is obtained, the final optimal SNR is simply recovered by scaling with the chirp mass and effective distance:\n",
    "$$\n",
    "\\begin{align}\n",
    "\\rho = \\rho_{1/2} \\times \\left( \\frac{D_{\\text{eff}}}{1~\\mathrm{Mpc}} \\right) \\left( \\frac{{\\cal M}}{M_\\odot} \\right)^{5/6}.\n",
    "\\end{align}\n",
    "$$\n",
    "This methodology enables rapid and accurate SNR evaluation across the full parameter space relevant to gravitational wave detection.\n",
    "\n",
    "## IV. Nested 1D Cubic Spline Interpolation\n",
    "\n",
    "The Partial Scaling method relies on nested one-dimensional (1D) cubic spline interpolation to efficiently estimate the partial SNR, $\\rho_{1/2}$, for a new set of binary parameters. This hierarchical approach avoids the complexity of multi-dimensional spline fitting by applying a sequence of 1D interpolations across each parameter dimension.\n",
    "\n",
    "### Interpolation for Non-Spinning Systems\n",
    "\n",
    "To illustrate the process, consider the 2D case for a non-spinning system with a pre-computed grid of $\\rho_{1/2}$ values over $M$ $q$ parameter space. The interpolation proceeds in several key steps. First, the axis arrays for $M$ and $q$ are obtained, and the precomputed $\\rho_{1/2}$ values are loaded from a pickle file. These $\\rho_{1/2}$ values are defined for each $(M, q)$ pair on the grid.\n",
    "\n",
    "Given a new set of binary parameters $(M_{\\rm new}, q_{\\rm new})$, the next step is to identify the four nearest neighboring points along each axis: for $M$, the points $[M_{i-1}, M_i, M_{i+1}, M_{i+2}]$ are selected such that $M_i \\leq M_{\\rm new} \\leq M_{i+1}$; similarly, for $q$, the points $[q_{j-1}, q_j, q_{j+1}, q_{j+2}]$ are chosen so that $q_j \\leq q_{\\rm new} \\leq q_{j+1}$.\n",
    "\n",
    "For each fixed value of $q$, a one-dimensional cubic spline interpolation is performed along the $M$ axis to estimate the value of $\\rho_{1/2}$ at $M_{\\rm new}$. This process yields a set of four intermediate values, corresponding to $q_{j-1}$, $q_j$, $q_{j+1}$, and $q_{j+2}$:\n",
    "$$\n",
    "\\left[ \\rho_{1/2}(q_{j-1}, M_{\\rm new}),\\, \\rho_{1/2}(q_j, M_{\\rm new}),\\, \\rho_{1/2}(q_{j+1}, M_{\\rm new}),\\, \\rho_{1/2}(q_{j+2}, M_{\\rm new}) \\right].\n",
    "$$\n",
    "A subsequent cubic spline interpolation is then carried out along the $q$ axis, using these values, to determine the final interpolated result $\\rho_{1/2}(M_{\\rm new}, q_{\\rm new})$.\n",
    "\n",
    "<img src=\"grid2D.jpg\" alt=\"2D Grid Interpolation\" width=\"400\"/>\n",
    "\n",
    "For the spin-aligned IMR waveform, the methodology is conceptually identical but operates in a four-dimensional grid spanning $(M, q, a_1, a_2)$, where $a_1$ and $a_2$ are the dimensionless spin parameters. The interpolation follows a hierarchical scheme, beginning with the $a_1$ and $a_2$ axes, followed by $M$, and finally $q$, recursively applying the one-dimensional cubic spline interpolation at each stage until the final value, $\\rho_{1/2}(M_{\\rm new}, q_{\\rm new}, a_{1, \\rm new}, a_{2, \\rm new})$, is obtained.\n",
    "\n",
    "When dealing with edge cases—specifically, when the target value lies near or outside the bounds of the precomputed grid—a straightforward approach is adopted: the nearest available $\\rho_{1/2}$ value is used. For example, if $M_{\\rm new} < M_0$ or $M_{\\rm new} < (M_1 - M_0)/2$, where $M_0$ and $M_1$ are the first and second entries of the $M$ axis, the interpolated value is set to $\\rho_{1/2}(M_0, q_{\\rm new})$. This ensures stability and consistency of the interpolation even at or beyond the boundaries of the parameter space."
   ]
  },
  {
   "cell_type": "markdown",
   "metadata": {},
   "source": [
    "## Interpolation for Non Spinning Systems\n",
    "\n",
    "- IMRPhenomD waveform model will be used for the interpolation method.\n",
    "- You can either use `numba` or `jax` acceleration. Defult is `numba`. "
   ]
  },
  {
   "cell_type": "code",
   "execution_count": null,
   "metadata": {},
   "outputs": [
    {
     "name": "stdout",
     "output_type": "stream",
     "text": [
      "\n",
      "Initializing GWSNR class...\n",
      "\n",
      "psds not given. Choosing bilby's default psds\n",
      "Interpolator will be loaded for L1 detector from ./interpolator_pickle/L1/partialSNR_dict_0.pickle\n",
      "Interpolator will be loaded for H1 detector from ./interpolator_pickle/H1/partialSNR_dict_0.pickle\n",
      "Interpolator will be loaded for V1 detector from ./interpolator_pickle/V1/partialSNR_dict_0.pickle\n",
      "\n",
      "\n",
      "Interpolation results: \n",
      "solving SNR with interpolation\n",
      "{'L1': array([ 7.40731059, 11.59641254, 31.02869678, 26.58481193]), 'H1': array([ 4.71128664,  7.37568958, 19.73524438, 16.90879137]), 'V1': array([2.22235351, 3.44027845, 9.33233743, 7.85672107]), 'optimal_snr_net': array([ 9.05556885, 14.16732495, 37.9387983 , 32.47133377])}\n",
      "\n",
      " Inner product results: \n"
     ]
    },
    {
     "name": "stderr",
     "output_type": "stream",
     "text": [
      "/Users/phurailatpamhemantakumar/anaconda3/envs/ler/lib/python3.10/multiprocessing/popen_fork.py:66: RuntimeWarning: os.fork() was called. os.fork() is incompatible with multithreaded code, and JAX is multithreaded, so this will likely lead to a deadlock.\n",
      "  self.pid = os.fork()\n",
      "100%|█████████████████████████████████████████████████████████████████| 4/4 [00:00<00:00, 13.55it/s]\n"
     ]
    },
    {
     "name": "stdout",
     "output_type": "stream",
     "text": [
      "{'L1': array([ 7.40709512, 11.59602211, 31.03567109, 26.59869097]), 'H1': array([ 4.7111496 ,  7.37544125, 19.73968027, 16.91761888]), 'V1': array([2.22230853, 3.44041035, 9.33473625, 7.86132463]), 'optimal_snr_net': array([ 9.05531026, 14.16690812, 37.94739989, 32.48840739])}\n"
     ]
    }
   ],
   "source": [
    "import numpy as np\n",
    "import matplotlib.pyplot as plt\n",
    "from datetime import datetime\n",
    "import gwsnr\n",
    "\n",
    "# initializing the GWSNR class with default configuration and interpolation method\n",
    "# for non-spinning IMRPhenomD waveform \n",
    "gwsnr_no_spins = gwsnr.GWSNR(\n",
    "    npool=8,\n",
    "    snr_type='interpolation_aligned_spins', # or 'interpolation_no_spins_jax'\n",
    "    gwsnr_verbose=False,\n",
    "    waveform_approximant='IMRPhenomD',\n",
    ")\n",
    "\n",
    "mass_1 = np.array([5, 10.,50.,100.])\n",
    "ratio = np.array([1, 0.8,0.5,0.2])\n",
    "dl = 1000\n",
    "print('Interpolation results: ')\n",
    "print(gwsnr_no_spins.snr(mass_1=mass_1, mass_2=mass_1*ratio, luminosity_distance=dl))\n",
    "print('\\n Inner product results: ')\n",
    "print(gwsnr_no_spins.compute_bilby_snr(mass_1=mass_1, mass_2=mass_1*ratio, luminosity_distance=dl))"
   ]
  },
  {
   "cell_type": "markdown",
   "metadata": {},
   "source": [
    "### Testing speed and accuracy between the interpolation method and inner product method.\n",
    "\n",
    "* set up the BBH Binary-Black-Holes parameters\n",
    "* simulate 50000 events"
   ]
  },
  {
   "cell_type": "code",
   "execution_count": null,
   "metadata": {},
   "outputs": [],
   "source": [
    "# gerneral case, random parameters\n",
    "# add random seed for reproducibility\n",
    "np.random.seed(42)\n",
    "nsamples = 50000\n",
    "mtot = np.random.uniform(2*4.98, 2*112.5,nsamples)\n",
    "mass_ratio = np.random.uniform(0.2,1,size=nsamples)\n",
    "param_dict = dict(\n",
    "    # convert to component masses\n",
    "    mass_1 = mtot / (1 + mass_ratio),\n",
    "    mass_2 = mtot * mass_ratio / (1 + mass_ratio),\n",
    "    # Fix luminosity distance\n",
    "    luminosity_distance = 500*np.ones(nsamples),\n",
    "    # Randomly sample everything else:\n",
    "    theta_jn = np.random.uniform(0,2*np.pi, size=nsamples),\n",
    "    ra = np.random.uniform(0,2*np.pi, size=nsamples), \n",
    "    dec = np.random.uniform(-np.pi/2,np.pi/2, size=nsamples), \n",
    "    psi = np.random.uniform(0,2*np.pi, size=nsamples),\n",
    "    phase = np.random.uniform(0,2*np.pi, size=nsamples),\n",
    "    geocent_time = 1246527224.169434*np.ones(nsamples),\n",
    ")"
   ]
  },
  {
   "cell_type": "code",
   "execution_count": 3,
   "metadata": {},
   "outputs": [
    {
     "name": "stdout",
     "output_type": "stream",
     "text": [
      "solving SNR with interpolation\n",
      "Duration interpolation: 0:00:02.269687\n"
     ]
    }
   ],
   "source": [
    "# for non-spinning IMRPhenomD waveform \n",
    "# running it for the first time will take longer, as the jit code generate the compiled code\n",
    "start_time = datetime.now()\n",
    "interp_snr_no_spins = gwsnr_no_spins.snr(gw_param_dict=param_dict)\n",
    "end_time = datetime.now()\n",
    "print('Duration interpolation: {}'.format(end_time - start_time))"
   ]
  },
  {
   "cell_type": "code",
   "execution_count": 4,
   "metadata": {},
   "outputs": [
    {
     "name": "stderr",
     "output_type": "stream",
     "text": [
      "/Users/phurailatpamhemantakumar/anaconda3/envs/ler/lib/python3.10/multiprocessing/popen_fork.py:66: RuntimeWarning: os.fork() was called. os.fork() is incompatible with multithreaded code, and JAX is multithreaded, so this will likely lead to a deadlock.\n",
      "  self.pid = os.fork()\n",
      "100%|███████████████████████████████████████████████████████| 50000/50000 [00:20<00:00, 2439.12it/s]\n"
     ]
    },
    {
     "name": "stdout",
     "output_type": "stream",
     "text": [
      "Duration inner-product: 0:00:20.681118\n"
     ]
    }
   ],
   "source": [
    "# error might occur for mchirp>95., if f_min=20. \n",
    "start_time = datetime.now()\n",
    "bilby_snr = gwsnr_no_spins.compute_bilby_snr(gw_param_dict=param_dict)\n",
    "end_time = datetime.now()\n",
    "print('Duration inner-product: {}'.format(end_time - start_time))"
   ]
  },
  {
   "cell_type": "markdown",
   "metadata": {},
   "source": [
    "* interpolation method is much faster than inner product method (multiprocessing)\n",
    "\n",
    "* speed up factor is more than 1000x for 50000 events"
   ]
  },
  {
   "cell_type": "markdown",
   "metadata": {},
   "source": [
    "### Accuracy check plot"
   ]
  },
  {
   "cell_type": "code",
   "execution_count": 6,
   "metadata": {},
   "outputs": [
    {
     "data": {
      "image/png": "[encoded data removed]",
      "text/plain": [
       "<Figure size 800x400 with 2 Axes>"
      ]
     },
     "metadata": {},
     "output_type": "display_data"
    }
   ],
   "source": [
    "# compare the SNRs\n",
    "plt.figure(figsize=(8,4))\n",
    "\n",
    "# Left panel: rho_pred vs rho_true\n",
    "plt.subplot(1, 2, 1)\n",
    "plt.plot(bilby_snr['optimal_snr_net'], interp_snr_no_spins['optimal_snr_net'], 'o', color='C0')\n",
    "# diagonal line\n",
    "max_ = 100\n",
    "min_ = 0\n",
    "plt.plot([min_, max_], [min_, max_], 'r--', label='y=x')\n",
    "plt.xlabel(r\"$\\rho_{pred}$\")\n",
    "plt.ylabel(r\"$\\rho_{true}$\")\n",
    "# plt.xscale('log')\n",
    "# plt.yscale('log')\n",
    "plt.xlim(min_, max_)\n",
    "plt.ylim(min_, max_)\n",
    "plt.legend()\n",
    "plt.title(r\"Predicted vs. True SNR\")\n",
    "plt.grid(alpha=0.4)\n",
    "\n",
    "# Right panel: SNR difference\n",
    "plt.subplot(1, 2, 2)\n",
    "idx = (bilby_snr['optimal_snr_net'] > 4) & (bilby_snr['optimal_snr_net'] < 12)\n",
    "plt.plot(bilby_snr['optimal_snr_net'][idx], abs(interp_snr_no_spins['optimal_snr_net'][idx]-bilby_snr['optimal_snr_net'][idx]), 'o', color='C0')\n",
    "plt.xlabel(r\"$\\rho_{true}$\")\n",
    "plt.ylabel(r\"$|\\rho_{true} - \\rho_{interp}|$\")\n",
    "plt.title(r\"SNR difference\")\n",
    "plt.grid(alpha=0.4)\n",
    "plt.title(r\"SNR difference for $4 < \\rho_{true} < 12$\")\n",
    "plt.tight_layout()  # Adjust layout to prevent overlapping titles/labels\n",
    "plt.show()"
   ]
  },
  {
   "cell_type": "markdown",
   "metadata": {},
   "source": [
    "* The absolute difference between the SNR values from the interpolation method and the inner product method is $\\lesssim 0.01$ for all events.\n",
    "\n",
    "* There can be indeed some outliers with higher SNR difference, which correspond to the edge cases with high total mass and/or low mass ratio. Events that have negative chirptimes, and likely merge outside (below) the frequency band of interest, can also be found in the outliers."
   ]
  },
  {
   "cell_type": "markdown",
   "metadata": {},
   "source": [
    "## Interpolation for align-spins Systems\n",
    "\n",
    "- IMRPhenomD with spin-aligned systems will be considered."
   ]
  },
  {
   "cell_type": "code",
   "execution_count": 7,
   "metadata": {},
   "outputs": [],
   "source": [
    "import numpy as np\n",
    "import matplotlib.pyplot as plt\n",
    "from datetime import datetime\n",
    "import gwsnr"
   ]
  },
  {
   "cell_type": "code",
   "execution_count": null,
   "metadata": {},
   "outputs": [
    {
     "name": "stdout",
     "output_type": "stream",
     "text": [
      "\n",
      "Initializing GWSNR class...\n",
      "\n",
      "psds not given. Choosing bilby's default psds\n",
      "Interpolator will be loaded for L1 detector from ./interpolator_pickle/L1/partialSNR_dict_0.pickle\n",
      "Interpolator will be loaded for H1 detector from ./interpolator_pickle/H1/partialSNR_dict_0.pickle\n",
      "Interpolator will be loaded for V1 detector from ./interpolator_pickle/V1/partialSNR_dict_0.pickle\n",
      "\n",
      "\n",
      "Interpolation results: \n",
      "solving SNR with interpolation\n",
      "{'L1': array([ 7.40731059, 11.51120114, 17.42631376, 11.28432684]), 'H1': array([ 4.71128664,  7.3214924 , 11.08369337,  7.17719308]), 'V1': array([2.22235351, 3.4123691 , 5.19663736, 3.28106641]), 'optimal_snr_net': array([ 9.05556885, 14.06258388, 21.29623699, 13.77002286])}\n",
      "\n",
      " Inner product results: \n"
     ]
    },
    {
     "name": "stderr",
     "output_type": "stream",
     "text": [
      "/Users/phurailatpamhemantakumar/anaconda3/envs/ler/lib/python3.10/multiprocessing/popen_fork.py:66: RuntimeWarning: os.fork() was called. os.fork() is incompatible with multithreaded code, and JAX is multithreaded, so this will likely lead to a deadlock.\n",
      "  self.pid = os.fork()\n",
      "100%|█████████████████████████████████████████████████████████████████| 4/4 [00:00<00:00, 12.87it/s]"
     ]
    },
    {
     "name": "stdout",
     "output_type": "stream",
     "text": [
      "{'L1': array([ 7.40709512, 11.51048787, 17.42610539, 11.28839655]), 'H1': array([ 4.7111496 ,  7.32103874, 11.08356084,  7.17978155]), 'V1': array([2.22230853, 3.41242961, 5.19684919, 3.28232586]), 'optimal_snr_net': array([ 9.05531026, 14.06177852, 21.29604919, 13.77500719])}\n"
     ]
    },
    {
     "name": "stderr",
     "output_type": "stream",
     "text": [
      "\n"
     ]
    }
   ],
   "source": [
    "# initializing the GWSNR class with default configuration and interpolation method\n",
    "# for aligned-spinning IMRPhenomD waveform \n",
    "gwsnr_aligned_spins = gwsnr.GWSNR(\n",
    "    npool=8,\n",
    "    snr_type='interpolation_aligned_spins', # or 'interpolation_aligned_spins_jax'\n",
    "    gwsnr_verbose=False,\n",
    ")\n",
    "\n",
    "mass_1 = np.array([5, 10.,20.,30.])\n",
    "ratio = np.array([1, 0.8,0.5,0.2])\n",
    "a_1 = np.array([0.0, 0.2, 0.5, -0.7])\n",
    "a_2 = np.array([0.0, -0.4, 0.5, 0.2])\n",
    "dl = 1000* np.ones_like(mass_1)\n",
    "print('Interpolation results: ')\n",
    "print(gwsnr_aligned_spins.snr(mass_1=mass_1, mass_2=mass_1*ratio, luminosity_distance=dl, a_1=a_1, a_2=a_2))\n",
    "print('\\n Inner product results: ')\n",
    "print(gwsnr_aligned_spins.compute_bilby_snr(mass_1=mass_1, mass_2=mass_1*ratio, luminosity_distance=dl, a_1=a_1, a_2=a_2))"
   ]
  },
  {
   "cell_type": "code",
   "execution_count": null,
   "metadata": {},
   "outputs": [],
   "source": [
    "# gerneral case, random parameters\n",
    "# add random seed for reproducibility\n",
    "np.random.seed(42)\n",
    "nsamples = 50000\n",
    "mtot = np.random.uniform(2*4.98, 2*112.5,nsamples)\n",
    "mass_ratio = np.random.uniform(0.2,1,size=nsamples)\n",
    "param_dict = dict(\n",
    "    # convert to component masses\n",
    "    mass_1 = mtot / (1 + mass_ratio),\n",
    "    mass_2 = mtot * mass_ratio / (1 + mass_ratio),\n",
    "    # Fix luminosity distance\n",
    "    luminosity_distance = 500*np.ones(nsamples),\n",
    "    # Randomly sample everything else:\n",
    "    theta_jn = np.random.uniform(0,2*np.pi, size=nsamples),\n",
    "    ra = np.random.uniform(0,2*np.pi, size=nsamples), \n",
    "    dec = np.random.uniform(-np.pi/2,np.pi/2, size=nsamples), \n",
    "    psi = np.random.uniform(0,2*np.pi, size=nsamples),\n",
    "    phase = np.random.uniform(0,2*np.pi, size=nsamples),\n",
    "    geocent_time = 1246527224.169434*np.ones(nsamples),\n",
    "    a_1 = np.random.uniform(-0.8,0.8, size=nsamples),\n",
    "    a_2 = np.random.uniform(-0.8,0.8, size=nsamples),\n",
    ")"
   ]
  },
  {
   "cell_type": "code",
   "execution_count": 16,
   "metadata": {},
   "outputs": [
    {
     "name": "stdout",
     "output_type": "stream",
     "text": [
      "solving SNR with interpolation\n",
      "Duration interpolation: 0:00:02.351400\n"
     ]
    }
   ],
   "source": [
    "# for non-spinning IMRPhenomD waveform \n",
    "# running it for the first time will take longer, as the jit code generate the compiled code\n",
    "start_time = datetime.now()\n",
    "interp_snr_aligned_spins = gwsnr_aligned_spins.snr(gw_param_dict=param_dict)\n",
    "end_time = datetime.now()\n",
    "print('Duration interpolation: {}'.format(end_time - start_time))"
   ]
  },
  {
   "cell_type": "code",
   "execution_count": 11,
   "metadata": {},
   "outputs": [
    {
     "name": "stderr",
     "output_type": "stream",
     "text": [
      "100%|███████████████████████████████████████████████████████| 50000/50000 [00:20<00:00, 2453.00it/s]\n"
     ]
    },
    {
     "name": "stdout",
     "output_type": "stream",
     "text": [
      "Duration inner-product: 0:00:20.643891\n"
     ]
    }
   ],
   "source": [
    "# error might occur for mchirp>95., if f_min=20. \n",
    "start_time = datetime.now()\n",
    "bilby_snr = gwsnr_aligned_spins.compute_bilby_snr(gw_param_dict=param_dict)\n",
    "end_time = datetime.now()\n",
    "print('Duration inner-product: {}'.format(end_time - start_time))"
   ]
  },
  {
   "cell_type": "code",
   "execution_count": 17,
   "metadata": {},
   "outputs": [
    {
     "data": {
      "image/png": "[encoded data removed]",
      "text/plain": [
       "<Figure size 800x400 with 2 Axes>"
      ]
     },
     "metadata": {},
     "output_type": "display_data"
    }
   ],
   "source": [
    "# compare the SNRs\n",
    "plt.figure(figsize=(8,4))\n",
    "\n",
    "# Left panel: rho_pred vs rho_true\n",
    "plt.subplot(1, 2, 1)\n",
    "plt.plot(bilby_snr['optimal_snr_net'], interp_snr_aligned_spins['optimal_snr_net'], 'o', color='C0')\n",
    "# diagonal line\n",
    "max_ = 100\n",
    "min_ = 0\n",
    "plt.plot([min_, max_], [min_, max_], 'r--', label='y=x')\n",
    "plt.xlabel(r\"$\\rho_{pred}$\")\n",
    "plt.ylabel(r\"$\\rho_{true}$\")\n",
    "# plt.xscale('log')\n",
    "# plt.yscale('log')\n",
    "plt.xlim(min_, max_)\n",
    "plt.ylim(min_, max_)\n",
    "plt.legend()\n",
    "plt.title(r\"Predicted vs. True SNR\")\n",
    "plt.grid(alpha=0.4)\n",
    "\n",
    "# Right panel: SNR difference\n",
    "plt.subplot(1, 2, 2)\n",
    "idx = (bilby_snr['optimal_snr_net'] > 4) & (bilby_snr['optimal_snr_net'] < 12)\n",
    "plt.plot(bilby_snr['optimal_snr_net'][idx], abs(interp_snr_aligned_spins['optimal_snr_net'][idx]-bilby_snr['optimal_snr_net'][idx]), 'o', color='C0')\n",
    "plt.xlabel(r\"$\\rho_{true}$\")\n",
    "plt.ylabel(r\"$|\\rho_{true} - \\rho_{interp}|$\")\n",
    "plt.title(r\"SNR difference\")\n",
    "plt.grid(alpha=0.4)\n",
    "plt.title(r\"SNR difference for $4 < \\rho_{true} < 12$\")\n",
    "plt.tight_layout()  # Adjust layout to prevent overlapping titles/labels\n",
    "plt.show()"
   ]
  },
  {
   "cell_type": "markdown",
   "metadata": {},
   "source": [
    "* The absolute difference between the SNR values from the interpolation method and the inner product method is still $\\lesssim 0.01$ for all events.\n",
    "\n",
    "* Note that interpolation accuracy is slightly higher for non-spinning systems compared to aligned-spin systems, and the computational speed-up factor is also generally higher for non-spinning systems."
   ]
  },
  {
   "cell_type": "markdown",
   "metadata": {},
   "source": [
    "## V. SNR Recalculation for Precessing Systems\n",
    "\n",
    "The `gwsnr` package extends its interpolation capabilities to handle spin-precessing systems through a hybrid approach that combines computational efficiency with enhanced accuracy. For systems with non-aligned spins (precession and higher-order modes), the package employs the IMRPhenomXPHM waveform model while leveraging aligned-spin approximations for initial interpolation.\n",
    "\n",
    "### Spin Projection Method\n",
    "\n",
    "For interpolation purposes, `gwsnr` projects the spin vectors onto the orbital angular momentum axis, computing effective aligned-spin components:\n",
    "\n",
    "$$a_{1,z} = a_1 \\cos(\\theta_{1,z}) \\quad \\text{and} \\quad a_{2,z} = a_2 \\cos(\\theta_{2,z})$$\n",
    "\n",
    "where $\\theta_{1,z}$ and $\\theta_{2,z}$ are the tilt angles between the individual spin vectors and the orbital angular momentum vector.\n",
    "\n",
    "### Hybrid Recalculation Strategy\n",
    "\n",
    "The SNR recalculation method implements a two-stage computational approach:\n",
    "\n",
    "1. **Initial Estimation**: Rapidly compute SNRs using the interpolation method with projected aligned spins\n",
    "2. **Selective Recalculation**: For systems near the detection threshold (typically SNR ∈ [6,8]), recalculate SNRs using the full inner product method with the IMRPhenomXPHM waveform model\n",
    "\n",
    "This hybrid strategy optimizes computational resources by applying the more expensive full waveform calculation only to borderline detectable events, where accurate SNR determination is most critical for detection decisions. The majority of events—those clearly above or below the detection threshold—benefit from the speed of interpolation without compromising overall accuracy.\n",
    "\n",
    "### Implementation Benefits\n",
    "\n",
    "- **Computational Efficiency**: Reduces overall computation time by orders of magnitude compared to full inner product calculations\n",
    "- **Enhanced Accuracy**: Maintains high precision for detection-critical events through selective recalculation\n",
    "- **Flexible Thresholds**: Allows user-defined SNR ranges for triggering recalculation based on specific analysis requirements\n",
    "- **Precession Handling**: Accommodates complex spin dynamics while preserving computational tractability"
   ]
  },
  {
   "cell_type": "code",
   "execution_count": null,
   "metadata": {},
   "outputs": [
    {
     "name": "stdout",
     "output_type": "stream",
     "text": [
      "\n",
      "Initializing GWSNR class...\n",
      "\n",
      "psds not given. Choosing bilby's default psds\n",
      "Intel processor has trouble allocating memory when the data is huge. So, by default for IMRPhenomXPHM, duration_max = 64.0. Otherwise, set to some max value like duration_max = 600.0 (10 mins)\n",
      "Interpolator will be loaded for L1 detector from ./interpolator_pickle/L1/partialSNR_dict_1.pickle\n",
      "Interpolator will be loaded for H1 detector from ./interpolator_pickle/H1/partialSNR_dict_1.pickle\n",
      "Interpolator will be loaded for V1 detector from ./interpolator_pickle/V1/partialSNR_dict_1.pickle\n",
      "\n",
      "\n"
     ]
    }
   ],
   "source": [
    "import numpy as np\n",
    "import matplotlib.pyplot as plt\n",
    "from datetime import datetime\n",
    "import gwsnr\n",
    "\n",
    "# initializing the GWSNR class with default configuration and interpolation method\n",
    "# for aligned-spinning IMRPhenomD waveform \n",
    "gwsnr_aligned_spins = gwsnr.GWSNR(\n",
    "    npool=8,\n",
    "    snr_type='interpolation_aligned_spins',\n",
    "    waveform_approximant='IMRPhenomXPHM',  # Use a specific waveform approximant\n",
    "    gwsnr_verbose=False,\n",
    "    snr_recalculation=True,  # Enable recalculation of SNRs\n",
    "    snr_recalculation_range=[4,12],  # Range of optimal SNR for recalculation\n",
    "    snr_recalculation_waveform_approximant='IMRPhenomXPHM',  # Waveform approximant for recalculation. This can be different from the main one\n",
    ")"
   ]
  },
  {
   "cell_type": "code",
   "execution_count": null,
   "metadata": {},
   "outputs": [],
   "source": [
    "# gerneral case, random parameters\n",
    "# add random seed for reproducibility\n",
    "np.random.seed(42)\n",
    "nsamples = 10000\n",
    "mtot = np.random.uniform(2*4.98, 2*112.5,nsamples)\n",
    "mass_ratio = np.random.uniform(0.2,1,size=nsamples)\n",
    "param_dict = dict(\n",
    "    # convert to component masses\n",
    "    mass_1 = mtot / (1 + mass_ratio),\n",
    "    mass_2 = mtot * mass_ratio / (1 + mass_ratio),\n",
    "    # Fix luminosity distance\n",
    "    luminosity_distance = np.random.uniform(100, 10000, size=nsamples),  # Random luminosity distance between 100 and 10000 Mpc\n",
    "    # Randomly sample everything else:\n",
    "    theta_jn = np.random.uniform(0,2*np.pi, size=nsamples),\n",
    "    ra = np.random.uniform(0,2*np.pi, size=nsamples), \n",
    "    dec = np.random.uniform(-np.pi/2,np.pi/2, size=nsamples), \n",
    "    psi = np.random.uniform(0,2*np.pi, size=nsamples),\n",
    "    phase = np.random.uniform(0,2*np.pi, size=nsamples),\n",
    "    geocent_time = 1246527224.169434*np.ones(nsamples),\n",
    "    # spin zero\n",
    "    a_1 = np.random.uniform(0.0,0.8, size=nsamples),\n",
    "    a_2 = np.random.uniform(0.0,0.8, size=nsamples),\n",
    "    tilt_1 = np.random.uniform(0, np.pi, size=nsamples),  # tilt angle of the primary black hole in radians\n",
    "    tilt_2 = np.random.uniform(0, np.pi, size=nsamples),\n",
    "    phi_12 = np.random.uniform(0, 2*np.pi, size=nsamples),  # Relative angle between the primary and secondary spin of the binary in radians\n",
    "    phi_jl = np.random.uniform(0, 2*np.pi, size=nsamples),  # Angle between the total angular momentum and the orbital angular momentum in radians\n",
    ")"
   ]
  },
  {
   "cell_type": "code",
   "execution_count": 11,
   "metadata": {},
   "outputs": [
    {
     "name": "stdout",
     "output_type": "stream",
     "text": [
      "solving SNR with interpolation\n",
      "Recalculating SNR for 4113 out of 10000 samples in the SNR range of 4 to 12\n"
     ]
    },
    {
     "name": "stderr",
     "output_type": "stream",
     "text": [
      "100%|█████████████████████████████████████████████████████████| 4113/4113 [00:03<00:00, 1123.25it/s]\n"
     ]
    }
   ],
   "source": [
    "# with recalculation enabled, the SNR will be recalculated for the specified range\n",
    "# time: ~ 1 minute for 1 million samples\n",
    "#gwsnr_aligned_spins.waveform_approximant = 'IMRPhenomD'\n",
    "interp_snr_aligned_spins = gwsnr_aligned_spins.snr(gw_param_dict=param_dict.copy())"
   ]
  },
  {
   "cell_type": "code",
   "execution_count": 12,
   "metadata": {},
   "outputs": [
    {
     "name": "stderr",
     "output_type": "stream",
     "text": [
      "100%|███████████████████████████████████████████████████████| 10000/10000 [00:08<00:00, 1115.34it/s]\n"
     ]
    }
   ],
   "source": [
    "# gwsnr_aligned_spins.waveform_approximant = 'IMRPhenomXPHM'\n",
    "bilby_snr = gwsnr_aligned_spins.compute_bilby_snr(gw_param_dict=param_dict)\n",
    "# gwsnr_aligned_spins.waveform_approximant = 'IMRPhenomD'"
   ]
  },
  {
   "cell_type": "code",
   "execution_count": 13,
   "metadata": {},
   "outputs": [
    {
     "data": {
      "image/png": "[encoded data removed]",
      "text/plain": [
       "<Figure size 800x400 with 2 Axes>"
      ]
     },
     "metadata": {},
     "output_type": "display_data"
    }
   ],
   "source": [
    "# compare the SNRs\n",
    "plt.figure(figsize=(8,4))\n",
    "\n",
    "# Left panel: rho_pred vs rho_true\n",
    "plt.subplot(1, 2, 1)\n",
    "plt.plot(bilby_snr['optimal_snr_net'], interp_snr_aligned_spins['optimal_snr_net'], 'o', color='C0')\n",
    "# diagonal line\n",
    "max_ = 100\n",
    "min_ = 0\n",
    "plt.plot([min_, max_], [min_, max_], 'r--', label='y=x')\n",
    "plt.xlabel(r\"$\\rho_{pred}$\")\n",
    "plt.ylabel(r\"$\\rho_{true}$\")\n",
    "# plt.xscale('log')\n",
    "# plt.yscale('log')\n",
    "plt.xlim(min_, max_)\n",
    "plt.ylim(min_, max_)\n",
    "plt.legend()\n",
    "plt.title(r\"Predicted vs. True SNR\")\n",
    "plt.grid(alpha=0.4)\n",
    "\n",
    "# Right panel: SNR difference\n",
    "plt.subplot(1, 2, 2)\n",
    "idx = (bilby_snr['optimal_snr_net'] > 4) & (bilby_snr['optimal_snr_net'] < 12)\n",
    "plt.plot(bilby_snr['optimal_snr_net'][idx], abs(interp_snr_aligned_spins['optimal_snr_net'][idx]-bilby_snr['optimal_snr_net'][idx]), 'o', color='C0')\n",
    "plt.xlabel(r\"$\\rho_{true}$\")\n",
    "plt.ylabel(r\"$|\\rho_{true} - \\rho_{interp}|$\")\n",
    "plt.title(r\"SNR difference\")\n",
    "plt.grid(alpha=0.4)\n",
    "plt.title(r\"SNR difference for $4 < \\rho_{true} < 12$\")\n",
    "plt.tight_layout()  # Adjust layout to prevent overlapping titles/labels\n",
    "plt.show()"
   ]
  },
  {
   "cell_type": "code",
   "execution_count": 14,
   "metadata": {},
   "outputs": [],
   "source": [
    "# chack accuracy for Pdet\n",
    "pdet_pred = gwsnr_aligned_spins.probability_of_detection(snr_dict=interp_snr_aligned_spins, snr_th=8.0, snr_th_net=8.0, type='bool')\n",
    "pdet_true = gwsnr_aligned_spins.probability_of_detection(snr_dict=bilby_snr, snr_th=8.0, snr_th_net=8.0, type='bool')"
   ]
  },
  {
   "cell_type": "markdown",
   "metadata": {},
   "source": [
    "### Performance Analysis with Pdet\n",
    "\n",
    "* refer to the next section for the detailed concept of Pdet and it's calculation using the `gwsnr` package."
   ]
  },
  {
   "cell_type": "code",
   "execution_count": 15,
   "metadata": {},
   "outputs": [
    {
     "name": "stdout",
     "output_type": "stream",
     "text": [
      "Confusion Matrix:\n",
      "[[5574    4]\n",
      " [   4 4418]]\n",
      "Accuracy: 0.9992\n"
     ]
    }
   ],
   "source": [
    "# accuracy of the probability of detection\n",
    "from sklearn.metrics import confusion_matrix, accuracy_score\n",
    "\n",
    "cm = confusion_matrix(pdet_true['pdet_net'], pdet_pred['pdet_net'])\n",
    "print(\"Confusion Matrix:\")\n",
    "print(cm)\n",
    "\n",
    "acc = accuracy_score(pdet_true['pdet_net'], pdet_pred['pdet_net'])\n",
    "print(\"Accuracy:\", acc)\n"
   ]
  },
  {
   "cell_type": "markdown",
   "metadata": {},
   "source": [
    "### Performance Analysis\n",
    "\n",
    "The hybrid SNR recalculation approach demonstrates exceptional performance with accuracy exceeding 99.9% across different sample sizes:\n",
    "\n",
    "- **10,000 random events**: >99.92% accuracy\n",
    "- **100,000 random events**: >99.9% accuracy\n",
    "\n",
    "#### Recalculation Statistics\n",
    "\n",
    "For the 10,000 event test case, 4,113 events (41%) triggered recalculation within the SNR range [4,12]. This high percentage reflects the uniform random sampling across the entire parameter space. In realistic astrophysical populations, fewer events fall within the detection threshold range, resulting in:\n",
    "\n",
    "- Higher overall accuracy\n",
    "- Significantly faster computation times\n",
    "- More efficient resource utilization\n",
    "\n",
    "#### Key Benefits\n",
    "\n",
    "The hybrid approach successfully balances computational efficiency with detection accuracy, making it particularly effective for large-scale population studies where precise SNR determination is critical only for borderline detectable events."
   ]
  },
  {
   "cell_type": "code",
   "execution_count": null,
   "metadata": {},
   "outputs": [],
   "source": []
  },
  {
   "cell_type": "markdown",
   "metadata": {},
   "source": [
    "## Probability of Detection Calculation\n",
    "\n",
    "The `gwsnr` package provides tools to evaluate the probability of detecting a GW signal, denoted as $P_{\\rm det}$. The calculation is based on whether the observed SNR exceeds a specified threshold, $\\rho_{\\rm th}$, for either individual detectors or a detector network. For most practical applications with Gaussian noise, using an SNR threshold is a reliable (proxy) criterion for detection.\n",
    "\n",
    "`gwsnr` implements two primary approaches to compute $P_{\\rm det}$: one based on the optimal SNR, $\\rho_{\\rm opt}$, and another using the matched-filter SNR, $\\rho_{\\rm mf}$.\n",
    "\n",
    "### Detection Probability with Optimal SNR\n",
    "\n",
    "When using the optimal SNR, the detection criterion is straightforward. A signal is considered detected if $\\rho_{\\rm opt}$ surpasses the threshold $\\rho_{\\rm th}$. In this case, the detection probability is represented as a step function:\n",
    "\n",
    "$$\n",
    "P_{\\rm det} = P(\\theta\\mid \\rho_{\\rm opt}) =\n",
    "\\begin{cases}\n",
    "1 & \\text{if } \\rho_{\\rm opt} > \\rho_{\\rm th}, \\\\\n",
    "0 & \\text{otherwise},\n",
    "\\end{cases}\n",
    "$$\n",
    "\n",
    "where $\\theta$ represents the set of parameters for the GW signal.\n",
    "\n",
    "### Detection Probability with Matched-Filter SNR\n",
    "\n",
    "For a more realistic scenario, the matched-filter SNR, $\\rho_{\\rm mf}$, fluctuates due to noise and follows a normal distribution with mean $\\rho_{\\rm opt}(\\theta)$ and unit variance for a given set of parameters $\\theta$. Following [Thrane et al. 2019](https://arxiv.org/abs/1809.02293), the probability density for measuring a particular value $\\rho_{\\rm mf}$ is\n",
    "\n",
    "$$\n",
    "p(\\rho_{\\rm mf} | \\theta) = \\frac{1}{\\sqrt{2\\pi}} \\exp\\left[-\\frac{1}{2} \\left( \\rho_{\\rm mf} - \\rho_{\\rm opt}(\\theta) \\right)^2 \\right].\n",
    "$$\n",
    "\n",
    "The probability that the measured SNR exceeds the threshold, i.e., the probability of detection, is then given by\n",
    "\n",
    "$$\n",
    "P_{\\rm det} = P(\\theta\\mid \\rho_{\\rm opt}) = \\int_{\\rho_{\\rm th}}^{\\infty} \\frac{1}{\\sqrt{2\\pi}} \\exp\\left[ -\\frac{1}{2} (x - \\rho_{\\rm opt}(\\theta))^2 \\right] dx.\n",
    "$$\n",
    "\n",
    "Numerically, the integral for the probability of detection can be evaluated using the cumulative distribution function (CDF) of the standard normal distribution. In practice, this is implemented in `gwsnr` as\n",
    "\n",
    "```python\n",
    "P_det = 1 - norm.cdf(snr_th - snr_opt)\n",
    "```\n",
    "\n",
    "**Note:** This way of calculating $\\rho_{\\rm mf}$ doesn't involve matched-filter SNR calculation, but rather uses the optimal SNR $\\rho_{\\rm opt}$, which is computed using the noise-weighted inner product method or the Partial Scaling method, and then Pdet is derived from the assumption of Gaussian noise."
   ]
  },
  {
   "cell_type": "code",
   "execution_count": null,
   "metadata": {},
   "outputs": [
    {
     "name": "stdout",
     "output_type": "stream",
     "text": [
      "\n",
      "Initializing GWSNR class...\n",
      "\n",
      "psds not given. Choosing bilby's default psds\n",
      "Interpolator will be loaded for L1 detector from ./interpolator_pickle/L1/partialSNR_dict_0.pickle\n",
      "Interpolator will be loaded for H1 detector from ./interpolator_pickle/H1/partialSNR_dict_0.pickle\n",
      "Interpolator will be loaded for V1 detector from ./interpolator_pickle/V1/partialSNR_dict_0.pickle\n",
      "\n",
      "\n"
     ]
    }
   ],
   "source": [
    "import numpy as np\n",
    "import matplotlib.pyplot as plt\n",
    "from datetime import datetime\n",
    "import gwsnr\n",
    "\n",
    "gwsnr = gwsnr.GWSNR(\n",
    "    npool=8,\n",
    "    snr_type='interpolation_aligned_spins',\n",
    "    gwsnr_verbose=False,\n",
    ")"
   ]
  },
  {
   "cell_type": "code",
   "execution_count": 2,
   "metadata": {},
   "outputs": [
    {
     "name": "stdout",
     "output_type": "stream",
     "text": [
      "solving SNR with interpolation\n",
      "Optimal SNR (network): [  0.         100.88946915 166.10630528]\n",
      "Probability of detection (network) with snr_opt: [0 1 1]\n",
      "Probability of detection (network) with snr_mf: [6.66133815e-16 1.00000000e+00 1.00000000e+00]\n"
     ]
    }
   ],
   "source": [
    "mass_1 = np.array([2,50.,100.,])\n",
    "ratio = 0.9\n",
    "dl = 500\n",
    "snr_dict = gwsnr.snr(mass_1=mass_1, mass_2=mass_1*ratio, luminosity_distance=dl)\n",
    "# optimal SNR based pdet\n",
    "pdet_snr_ = gwsnr.probability_of_detection(snr_dict, snr_th=8, snr_th_net=8, type='bool')\n",
    "print('Optimal SNR (network):', snr_dict[\"optimal_snr_net\"])\n",
    "print('Probability of detection (network) with snr_opt:', pdet_snr_[\"pdet_net\"])\n",
    "# matching SNR based pdet\n",
    "pdet_snr_ = gwsnr.probability_of_detection(snr_dict, snr_th=8, snr_th_net=8, type='matched_filter')\n",
    "print('Probability of detection (network) with snr_mf:', pdet_snr_[\"pdet_net\"])"
   ]
  },
  {
   "cell_type": "code",
   "execution_count": null,
   "metadata": {},
   "outputs": [],
   "source": [
    "# gerneral case, random parameters\n",
    "# add random seed for reproducibility\n",
    "np.random.seed(64)\n",
    "nsamples = 10000\n",
    "mtot = np.random.uniform(2*4.98, 2*112.5,nsamples)\n",
    "mass_ratio = np.random.uniform(0.2,1,size=nsamples)\n",
    "param_dict = dict(\n",
    "    # convert to component masses\n",
    "    mass_1 = mtot / (1 + mass_ratio),\n",
    "    mass_2 = mtot * mass_ratio / (1 + mass_ratio),\n",
    "    # Fix luminosity distance\n",
    "    luminosity_distance = np.random.uniform(100, 10000, size=nsamples),  # Random luminosity distance between 100 and 10000 Mpc\n",
    "    # Randomly sample everything else:\n",
    "    theta_jn = np.random.uniform(0,2*np.pi, size=nsamples),\n",
    "    ra = np.random.uniform(0,2*np.pi, size=nsamples), \n",
    "    dec = np.random.uniform(-np.pi/2,np.pi/2, size=nsamples), \n",
    "    psi = np.random.uniform(0,2*np.pi, size=nsamples),\n",
    "    phase = np.random.uniform(0,2*np.pi, size=nsamples),\n",
    "    geocent_time = 1246527224.169434*np.ones(nsamples),\n",
    "    # spin zero\n",
    "    a_1 = np.random.uniform(-0.8,0.8, size=nsamples),\n",
    "    a_2 = np.random.uniform(-0.8,0.8, size=nsamples),\n",
    ")"
   ]
  },
  {
   "cell_type": "code",
   "execution_count": 7,
   "metadata": {},
   "outputs": [
    {
     "name": "stdout",
     "output_type": "stream",
     "text": [
      "solving SNR with interpolation\n"
     ]
    },
    {
     "name": "stderr",
     "output_type": "stream",
     "text": [
      "100%|███████████████████████████████████████████████████████| 10000/10000 [00:04<00:00, 2156.85it/s]\n"
     ]
    }
   ],
   "source": [
    "# for aligned spins, interpolation method\n",
    "# running it for the first time will take longer, as the jit code generate the compiled code\n",
    "snr_pred = gwsnr.snr(gw_param_dict=param_dict)\n",
    "# Compute the probability of detection\n",
    "pdet_pred = gwsnr.probability_of_detection(snr_pred, snr_th=8, snr_th_net=8, type='bool')\n",
    "\n",
    "# inner product method\n",
    "snr_bilby = gwsnr.compute_bilby_snr(gw_param_dict=param_dict)\n",
    "# Compute the probability of detection\n",
    "pdet_true = gwsnr.probability_of_detection(snr_bilby, snr_th=8, snr_th_net=8, type='bool')"
   ]
  },
  {
   "cell_type": "code",
   "execution_count": 8,
   "metadata": {},
   "outputs": [
    {
     "name": "stdout",
     "output_type": "stream",
     "text": [
      "Confusion Matrix:\n",
      "[[5549    0]\n",
      " [   1 4450]]\n",
      "Accuracy: 0.9999\n"
     ]
    }
   ],
   "source": [
    "# Accuracy on classifing detectable events\n",
    "from sklearn.metrics import confusion_matrix, accuracy_score\n",
    "\n",
    "cm = confusion_matrix(pdet_true['pdet_net'], pdet_pred['pdet_net'])\n",
    "print(\"Confusion Matrix:\")\n",
    "print(cm)\n",
    "\n",
    "acc = accuracy_score(pdet_true['pdet_net'], pdet_pred['pdet_net'])\n",
    "print(\"Accuracy:\", acc)"
   ]
  },
  {
   "cell_type": "markdown",
   "metadata": {},
   "source": [
    "* Interpolation achieves almost 100% accuracy."
   ]
  },
  {
   "cell_type": "code",
   "execution_count": null,
   "metadata": {},
   "outputs": [],
   "source": []
  },
  {
   "cell_type": "markdown",
   "metadata": {},
   "source": [
    "## Changing the initialization arguments\n",
    "\n",
    "To change the initialization arguments, you can modify the `GWSNR` class initialization parameters. Below is an example of how to set up the `GWSNR` class with different parameters:\n",
    "\n",
    "What will change in this example? \n",
    "\n",
    "* ifos: CE, ET ; interferometers will be changed to Cosmic Explorer (CE) and Einstein Telescope (ET). \n",
    "\n",
    "* minimum_frequency: 10 Hz\n",
    "\n",
    "* mtot_cut: True ; this will set SNR=0 for total mass > mtot_max, and mtot_max is set according to chirp_time and minimum frequency.\n",
    "\n",
    "* Waveform model: TaylorF2\n",
    "\n",
    "* multiprocessing_verbose: False ; The progress bar won't be shown but the calculation will be faster.\n",
    "\n",
    "* mtot_min: 2*1.0 ; minimum total mass in solar masses Mo. 1.0 Mo is the minimum component mass of BNS systems in GWTC-3\n",
    "\n",
    "* snr_type: 'interpolation_no_spins_jax' ; this will use the interpolation method with no spins and JAX acceleration."
   ]
  },
  {
   "cell_type": "code",
   "execution_count": null,
   "metadata": {},
   "outputs": [
    {
     "name": "stdout",
     "output_type": "stream",
     "text": [
      "\n",
      "Initializing GWSNR class...\n",
      "\n",
      "Interpolator will be generated for CE detector at ./interpolator_pickle/CE/partialSNR_dict_1.pickle\n",
      "Interpolator will be generated for ET1 detector at ./interpolator_pickle/ET1/partialSNR_dict_1.pickle\n",
      "Interpolator will be generated for ET2 detector at ./interpolator_pickle/ET2/partialSNR_dict_1.pickle\n",
      "Interpolator will be generated for ET3 detector at ./interpolator_pickle/ET3/partialSNR_dict_1.pickle\n",
      "Please be patient while the interpolator is generated\n",
      "Generating interpolator for ['CE', 'ET1', 'ET2', 'ET3'] detectors\n",
      "\n",
      "Saving Partial-SNR for CE detector with shape (20, 200)\n",
      "\n",
      "Saving Partial-SNR for ET1 detector with shape (20, 200)\n",
      "\n",
      "Saving Partial-SNR for ET2 detector with shape (20, 200)\n",
      "\n",
      "Saving Partial-SNR for ET3 detector with shape (20, 200)\n",
      "\n",
      "Chosen GWSNR initialization parameters:\n",
      "\n",
      "npool:  8\n",
      "snr type:  interpolation_no_spins_jax\n",
      "waveform approximant:  TaylorF2\n",
      "sampling frequency:  2048.0\n",
      "minimum frequency (fmin):  10.0\n",
      "mtot=mass1+mass2\n",
      "min(mtot):  2\n",
      "max(mtot) (with the given fmin=10.0): 235.0\n",
      "detectors:  ['CE', 'ET1', 'ET2', 'ET3']\n",
      "psds:  [PowerSpectralDensity(psd_file='/Users/phurailatpamhemantakumar/anaconda3/envs/ler/lib/python3.10/site-packages/bilby/gw/detector/noise_curves/CE_psd.txt', asd_file='None'), PowerSpectralDensity(psd_file='/Users/phurailatpamhemantakumar/anaconda3/envs/ler/lib/python3.10/site-packages/bilby/gw/detector/noise_curves/ET_D_psd.txt', asd_file='None'), PowerSpectralDensity(psd_file='/Users/phurailatpamhemantakumar/anaconda3/envs/ler/lib/python3.10/site-packages/bilby/gw/detector/noise_curves/ET_D_psd.txt', asd_file='None'), PowerSpectralDensity(psd_file='/Users/phurailatpamhemantakumar/anaconda3/envs/ler/lib/python3.10/site-packages/bilby/gw/detector/noise_curves/ET_D_psd.txt', asd_file='None')]\n",
      "\n",
      "\n"
     ]
    }
   ],
   "source": [
    "# if snr_type = 'inner_product', interpolator will not be created\n",
    "import gwsnr\n",
    "gwsnr = gwsnr.GWSNR(\n",
    "    npool = int(8), \n",
    "    minimum_frequency = 10.,\n",
    "    mtot_min = 2*1,  \n",
    "    mtot_cut=True,\n",
    "    waveform_approximant='TaylorF2',\n",
    "    snr_type = 'interpolation_no_spins_jax',\n",
    "    #psds = {'CE':'CE_psd.txt', 'ET':'ET_B_psd.txt'}, # if you want to use your own psd\n",
    "    ifos = ['CE', 'ET'],  # this will considet bilby's default psd of CE and ET\n",
    "    multiprocessing_verbose=False,\n",
    ")"
   ]
  },
  {
   "cell_type": "code",
   "execution_count": 17,
   "metadata": {},
   "outputs": [
    {
     "name": "stdout",
     "output_type": "stream",
     "text": [
      "solving SNR with interpolation\n"
     ]
    },
    {
     "data": {
      "text/plain": [
       "{'CE': array([ 22.2059848 ,  36.01769233, 112.27788427, 131.34472866]),\n",
       " 'ET1': array([1.57111813, 2.54872123, 7.95578706, 9.31704097]),\n",
       " 'ET2': array([ 4.48624199,  7.27773424, 22.71731535, 26.60430154]),\n",
       " 'ET3': array([ 4.99207089,  8.09830707, 25.27871854, 29.60396686]),\n",
       " 'optimal_snr_net': array([ 23.25126474,  37.71363326, 117.5785179 , 137.5588191 ])}"
      ]
     },
     "execution_count": 17,
     "metadata": {},
     "output_type": "execute_result"
    }
   ],
   "source": [
    "mass_1 = np.array([5, 10.,50.,100.])\n",
    "ratio = np.array([1, 0.8,0.5,0.2])\n",
    "dl = 10000 * np.ones_like(mass_1)\n",
    "gwsnr.snr(mass_1=mass_1, mass_2=mass_1*ratio, luminosity_distance=dl)"
   ]
  },
  {
   "cell_type": "markdown",
   "metadata": {},
   "source": [
    "## SNR and Pdet with ANN (artificial neural network) model\n",
    "\n",
    "* **Note:** as of 2024-02-16, the ANN model is only available for the IMRPhenomXPHM waveform model. This pre-trained model considers the spin precession of the compact objects. SNR with ANN is much faster than 'inner_product' method. The ANN model is trained with the data generated using `ler` package.\n",
    "  \n",
    "* Users can train their own ANN model with the instructions in the documentation."
   ]
  },
  {
   "cell_type": "code",
   "execution_count": 1,
   "metadata": {},
   "outputs": [
    {
     "name": "stdout",
     "output_type": "stream",
     "text": [
      "\n",
      "Initializing GWSNR class...\n",
      "\n",
      "psds not given. Choosing bilby's default psds\n",
      "Intel processor has trouble allocating memory when the data is huge. So, by default for IMRPhenomXPHM, duration_max = 64.0. Otherwise, set to some max value like duration_max = 600.0 (10 mins)\n",
      "ANN model and scaler path is not given. Using the default path.\n",
      "ANN model for L1 is loaded from ./ann_data/ann_model_L1.h5.\n",
      "ANN scaler for L1 is loaded from ./ann_data/scaler_L1.pkl.\n",
      "ANN error_adjustment for L1 is loaded from ./ann_data/error_adjustment_L1.json.\n",
      "ANN model for H1 is loaded from ./ann_data/ann_model_H1.h5.\n",
      "ANN scaler for H1 is loaded from ./ann_data/scaler_H1.pkl.\n",
      "ANN error_adjustment for H1 is loaded from ./ann_data/error_adjustment_H1.json.\n",
      "ANN model for V1 is loaded from ./ann_data/ann_model_V1.h5.\n",
      "ANN scaler for V1 is loaded from ./ann_data/scaler_V1.pkl.\n",
      "ANN error_adjustment for V1 is loaded from ./ann_data/error_adjustment_V1.json.\n",
      "Interpolator will be loaded for L1 detector from ./interpolator_pickle/L1/partialSNR_dict_1.pickle\n",
      "Interpolator will be loaded for H1 detector from ./interpolator_pickle/H1/partialSNR_dict_1.pickle\n",
      "Interpolator will be loaded for V1 detector from ./interpolator_pickle/V1/partialSNR_dict_1.pickle\n",
      "\n",
      "Chosen GWSNR initialization parameters:\n",
      "\n",
      "npool:  8\n",
      "snr type:  ann\n",
      "waveform approximant:  IMRPhenomXPHM\n",
      "sampling frequency:  2048.0\n",
      "minimum frequency (fmin):  20.0\n",
      "mtot=mass1+mass2\n",
      "min(mtot):  9.96\n",
      "max(mtot) (with the given fmin=20.0): 235.0\n",
      "detectors:  ['L1', 'H1', 'V1']\n",
      "psds:  [PowerSpectralDensity(psd_file='None', asd_file='/Users/phurailatpamhemantakumar/anaconda3/envs/ler/lib/python3.10/site-packages/bilby/gw/detector/noise_curves/aLIGO_O4_high_asd.txt'), PowerSpectralDensity(psd_file='None', asd_file='/Users/phurailatpamhemantakumar/anaconda3/envs/ler/lib/python3.10/site-packages/bilby/gw/detector/noise_curves/aLIGO_O4_high_asd.txt'), PowerSpectralDensity(psd_file='None', asd_file='/Users/phurailatpamhemantakumar/anaconda3/envs/ler/lib/python3.10/site-packages/bilby/gw/detector/noise_curves/AdV_asd.txt')]\n",
      "\n",
      "\n"
     ]
    }
   ],
   "source": [
    "import numpy as np\n",
    "import matplotlib.pyplot as plt\n",
    "import gwsnr\n",
    "\n",
    "# initialize the class for pdet calculation\n",
    "# it will use the interpolated partial SNR generated for spin aligned systems\n",
    "gwsnr = gwsnr.GWSNR(\n",
    "    npool=8,\n",
    "    snr_type='ann', \n",
    "    waveform_approximant='IMRPhenomXPHM', \n",
    "    # ann_path_dict='./ann_data/ann_path_dict.json',  # ann_path_dict can be used if you generate your own ANN models\n",
    "    pdet=False)  # set pdet to True if you only want pdet values"
   ]
  },
  {
   "cell_type": "code",
   "execution_count": 2,
   "metadata": {},
   "outputs": [
    {
     "name": "stdout",
     "output_type": "stream",
     "text": [
      "Computed SNRs with ANN:\n",
      " [11.21304336  8.82199905 17.93970861  0.        ]\n",
      "Probability of detection (with ANN): \n",
      " [1 1 1 0]\n"
     ]
    }
   ],
   "source": [
    "# set the GW parameters\n",
    "mass_1 = np.array([5, 10.,50.,200.])\n",
    "ratio = np.array([1, 0.8,0.5,0.2])\n",
    "param_dict = dict(\n",
    "    mass_1 = mass_1,\n",
    "    mass_2 = mass_1*ratio,\n",
    "    luminosity_distance = np.array([1000, 2000, 3000, 4000]),\n",
    "    theta_jn = np.array([0.1, 0.2, 0.3, 0.4]),\n",
    "    ra = np.array([0.1, 0.2, 0.3, 0.4]), \n",
    "    dec = np.array([0.1, 0.2, 0.3, 0.4]), \n",
    "    psi = np.array([0.1, 0.2, 0.3, 0.4]),\n",
    "    a_1 = np.array([0.1, 0.2, 0.3, 0.4]),\n",
    "    a_2 = np.array([0.1, 0.2, 0.3, 0.4]),\n",
    "    tilt_1 = np.array([0.1, 0.2, 0.3, 0.4]),\n",
    "    tilt_2 = np.array([0.1, 0.2, 0.3, 0.4]),\n",
    "    phi_12 = np.array([0.1, 0.2, 0.3, 0.4]),\n",
    "    phi_jl = np.array([0.1, 0.2, 0.3, 0.4]),\n",
    "    geocent_time = np.array([0.0, 0.0, 0.0, 0.0]),\n",
    "    phase = np.array([0.0, 0.0, 0.0, 0.0]),\n",
    ")\n",
    "\n",
    "# pdet calculation with ANN\n",
    "snr_ann = gwsnr.snr(gw_param_dict=param_dict)\n",
    "pdet_ann = gwsnr.probability_of_detection(snr_ann, snr_th=8, snr_th_net=8, type='bool')\n",
    "print('Computed SNRs with ANN:\\n', snr_ann['optimal_snr_net'])\n",
    "print('Probability of detection (with ANN): \\n', pdet_ann['pdet_net'])"
   ]
  },
  {
   "cell_type": "code",
   "execution_count": 3,
   "metadata": {},
   "outputs": [
    {
     "name": "stderr",
     "output_type": "stream",
     "text": [
      "100%|█████████████████████████████████████████████████████████████████| 3/3 [00:00<00:00,  4.24it/s]"
     ]
    },
    {
     "name": "stdout",
     "output_type": "stream",
     "text": [
      "Computed SNRs with inner product:\n",
      " [11.41880125  9.31791303 17.87350892  0.        ]\n",
      "Probability of detection (with inner product): \n",
      " [1 1 1 0]\n"
     ]
    },
    {
     "name": "stderr",
     "output_type": "stream",
     "text": [
      "\n"
     ]
    }
   ],
   "source": [
    "# pdet calculation with inner product\n",
    "snr_bilby = gwsnr.compute_bilby_snr(gw_param_dict=param_dict)\n",
    "# pdet calculation with inner product\n",
    "pdet_bilby = gwsnr.probability_of_detection(snr_dict=snr_bilby, type='bool')\n",
    "print('Computed SNRs with inner product:\\n', snr_bilby['optimal_snr_net'])\n",
    "print('Probability of detection (with inner product): \\n', pdet_bilby['pdet_net'])"
   ]
  },
  {
   "cell_type": "markdown",
   "metadata": {},
   "source": [
    "* **Note:** The accuracy can be improved by increasing the number of training samples in the sparse region of the parameter space."
   ]
  },
  {
   "cell_type": "markdown",
   "metadata": {},
   "source": [
    "### ANN with SNR recalculation"
   ]
  },
  {
   "cell_type": "code",
   "execution_count": 1,
   "metadata": {},
   "outputs": [
    {
     "name": "stdout",
     "output_type": "stream",
     "text": [
      "\n",
      "Initializing GWSNR class...\n",
      "\n",
      "psds not given. Choosing bilby's default psds\n",
      "Intel processor has trouble allocating memory when the data is huge. So, by default for IMRPhenomXPHM, duration_max = 64.0. Otherwise, set to some max value like duration_max = 600.0 (10 mins)\n",
      "ANN model and scaler path is not given. Using the default path.\n",
      "ANN model for L1 is loaded from ./ann_data/ann_model_L1.h5.\n",
      "ANN scaler for L1 is loaded from ./ann_data/scaler_L1.pkl.\n",
      "ANN error_adjustment for L1 is loaded from ./ann_data/error_adjustment_L1.json.\n",
      "ANN model for H1 is loaded from ./ann_data/ann_model_H1.h5.\n",
      "ANN scaler for H1 is loaded from ./ann_data/scaler_H1.pkl.\n",
      "ANN error_adjustment for H1 is loaded from ./ann_data/error_adjustment_H1.json.\n",
      "ANN model for V1 is loaded from ./ann_data/ann_model_V1.h5.\n",
      "ANN scaler for V1 is loaded from ./ann_data/scaler_V1.pkl.\n",
      "ANN error_adjustment for V1 is loaded from ./ann_data/error_adjustment_V1.json.\n",
      "Interpolator will be loaded for L1 detector from ./interpolator_pickle/L1/partialSNR_dict_1.pickle\n",
      "Interpolator will be loaded for H1 detector from ./interpolator_pickle/H1/partialSNR_dict_1.pickle\n",
      "Interpolator will be loaded for V1 detector from ./interpolator_pickle/V1/partialSNR_dict_1.pickle\n",
      "\n",
      "\n"
     ]
    }
   ],
   "source": [
    "import numpy as np\n",
    "import matplotlib.pyplot as plt\n",
    "import gwsnr\n",
    "\n",
    "# initialize the class for pdet calculation\n",
    "# it will use the interpolated partial SNR generated for spin aligned systems\n",
    "gwsnr = gwsnr.GWSNR(\n",
    "    npool=8,\n",
    "    snr_type='ann', \n",
    "    waveform_approximant='IMRPhenomXPHM',\n",
    "    gwsnr_verbose=False,\n",
    "    snr_recalculation=True,  # Enable recalculation of SNRs\n",
    "    snr_recalculation_range=[4,12],  # Range of optimal SNR for recalculation\n",
    "    snr_recalculation_waveform_approximant='IMRPhenomXPHM',  # Waveform approximant for recalculation. This can be different from the main one\n",
    ")"
   ]
  },
  {
   "cell_type": "code",
   "execution_count": 2,
   "metadata": {},
   "outputs": [],
   "source": [
    "# gerneral case, random parameters\n",
    "# add random seed for reproducibility\n",
    "np.random.seed(42)\n",
    "nsamples = 10000\n",
    "mtot = np.random.uniform(2*4.98, 2*112.5,nsamples)\n",
    "mass_ratio = np.random.uniform(0.2,1,size=nsamples)\n",
    "param_dict = dict(\n",
    "    # convert to component masses\n",
    "    mass_1 = mtot / (1 + mass_ratio),\n",
    "    mass_2 = mtot * mass_ratio / (1 + mass_ratio),\n",
    "    # Fix luminosity distance\n",
    "    luminosity_distance = np.random.uniform(100, 10000, size=nsamples),  # Random luminosity distance between 100 and 10000 Mpc\n",
    "    # Randomly sample everything else:\n",
    "    theta_jn = np.random.uniform(0,2*np.pi, size=nsamples),\n",
    "    ra = np.random.uniform(0,2*np.pi, size=nsamples), \n",
    "    dec = np.random.uniform(-np.pi/2,np.pi/2, size=nsamples), \n",
    "    psi = np.random.uniform(0,2*np.pi, size=nsamples),\n",
    "    phase = np.random.uniform(0,2*np.pi, size=nsamples),\n",
    "    geocent_time = 1246527224.169434*np.ones(nsamples),\n",
    "    # spin zero\n",
    "    a_1 = np.random.uniform(0.0,0.8, size=nsamples),\n",
    "    a_2 = np.random.uniform(0.0,0.8, size=nsamples),\n",
    "    tilt_1 = np.random.uniform(0, np.pi, size=nsamples),  # tilt angle of the primary black hole in radians\n",
    "    tilt_2 = np.random.uniform(0, np.pi, size=nsamples),\n",
    "    phi_12 = np.random.uniform(0, 2*np.pi, size=nsamples),  # Relative angle between the primary and secondary spin of the binary in radians\n",
    "    phi_jl = np.random.uniform(0, 2*np.pi, size=nsamples),  # Angle between the total angular momentum and the orbital angular momentum in radians\n",
    ")"
   ]
  },
  {
   "cell_type": "code",
   "execution_count": 3,
   "metadata": {},
   "outputs": [
    {
     "name": "stdout",
     "output_type": "stream",
     "text": [
      "Recalculating SNR for 4245 out of 10000 samples in the SNR range of 4 to 12\n"
     ]
    },
    {
     "name": "stderr",
     "output_type": "stream",
     "text": [
      "100%|██████████████████████████████████████████████████████████| 4245/4245 [00:04<00:00, 970.71it/s]\n"
     ]
    }
   ],
   "source": [
    "# with recalculation enabled, the SNR will be recalculated for the specified range\n",
    "ann_snr = gwsnr.snr(gw_param_dict=param_dict.copy())"
   ]
  },
  {
   "cell_type": "code",
   "execution_count": 4,
   "metadata": {},
   "outputs": [
    {
     "name": "stderr",
     "output_type": "stream",
     "text": [
      "100%|███████████████████████████████████████████████████████| 10000/10000 [00:09<00:00, 1020.48it/s]\n"
     ]
    }
   ],
   "source": [
    "# inner product method\n",
    "bilby_snr = gwsnr.compute_bilby_snr(gw_param_dict=param_dict.copy())"
   ]
  },
  {
   "cell_type": "code",
   "execution_count": 5,
   "metadata": {},
   "outputs": [
    {
     "data": {
      "image/png": "[encoded data removed]",
      "text/plain": [
       "<Figure size 800x400 with 2 Axes>"
      ]
     },
     "metadata": {},
     "output_type": "display_data"
    }
   ],
   "source": [
    "# compare the SNRs\n",
    "plt.figure(figsize=(8,4))\n",
    "\n",
    "# Left panel: rho_pred vs rho_true\n",
    "plt.subplot(1, 2, 1)\n",
    "plt.plot(bilby_snr['optimal_snr_net'], ann_snr['optimal_snr_net'], 'o', color='C0')\n",
    "# diagonal line\n",
    "max_ = 100\n",
    "min_ = 0\n",
    "plt.plot([min_, max_], [min_, max_], 'r--', label='y=x')\n",
    "plt.xlabel(r\"$\\rho_{pred}$\")\n",
    "plt.ylabel(r\"$\\rho_{true}$\")\n",
    "# plt.xscale('log')\n",
    "# plt.yscale('log')\n",
    "plt.xlim(min_, max_)\n",
    "plt.ylim(min_, max_)\n",
    "plt.legend()\n",
    "plt.title(r\"Predicted vs. True SNR\")\n",
    "plt.grid(alpha=0.4)\n",
    "\n",
    "# Right panel: SNR difference\n",
    "plt.subplot(1, 2, 2)\n",
    "idx = (bilby_snr['optimal_snr_net'] > 4) & (bilby_snr['optimal_snr_net'] < 12)\n",
    "plt.plot(bilby_snr['optimal_snr_net'][idx], abs(ann_snr['optimal_snr_net'][idx]-bilby_snr['optimal_snr_net'][idx]), 'o', color='C0')\n",
    "plt.xlabel(r\"$\\rho_{true}$\")\n",
    "plt.ylabel(r\"$|\\rho_{true} - \\rho_{interp}|$\")\n",
    "plt.title(r\"SNR difference\")\n",
    "plt.grid(alpha=0.4)\n",
    "plt.title(r\"SNR difference for $4 < \\rho_{true} < 12$\")\n",
    "plt.tight_layout()  # Adjust layout to prevent overlapping titles/labels\n",
    "plt.show()"
   ]
  },
  {
   "cell_type": "code",
   "execution_count": 6,
   "metadata": {},
   "outputs": [
    {
     "name": "stdout",
     "output_type": "stream",
     "text": [
      "Confusion Matrix:\n",
      "[[5501    7]\n",
      " [   3 4489]]\n",
      "Accuracy: 0.999\n"
     ]
    }
   ],
   "source": [
    "# accuracy of the probability of detection\n",
    "from sklearn.metrics import confusion_matrix, accuracy_score\n",
    "\n",
    "pdet_pred = gwsnr.probability_of_detection(snr_dict=ann_snr, snr_th=8.0, snr_th_net=8.0, type='bool')\n",
    "pdet_true = gwsnr.probability_of_detection(snr_dict=bilby_snr, snr_th=8.0, snr_th_net=8.0, type='bool')\n",
    "\n",
    "cm = confusion_matrix(pdet_true['pdet_net'], pdet_pred['pdet_net'])\n",
    "print(\"Confusion Matrix:\")\n",
    "print(cm)\n",
    "\n",
    "acc = accuracy_score(pdet_true['pdet_net'], pdet_pred['pdet_net'])\n",
    "print(\"Accuracy:\", acc)"
   ]
  },
  {
   "cell_type": "markdown",
   "metadata": {},
   "source": [
    "* it has similar accuracy with that of the interpolation method with SNR recalculation."
   ]
  },
  {
   "cell_type": "code",
   "execution_count": null,
   "metadata": {},
   "outputs": [],
   "source": []
  },
  {
   "cell_type": "markdown",
   "metadata": {},
   "source": [
    "## Inner product assisted with JAX \n",
    "\n",
    "*  `ripple` is used to generate the waveform\n",
    "   *  `ripple` available waveform : IMRPhenomXAS, IMRPhenomD (aligned spin), TaylorF2 with tidal effects, IMRPhenomD_NRTidalv2\n",
    "*  It is further assisted with jax.jit+jax.vmap"
   ]
  },
  {
   "cell_type": "code",
   "execution_count": null,
   "metadata": {},
   "outputs": [
    {
     "name": "stdout",
     "output_type": "stream",
     "text": [
      "\n",
      "Initializing GWSNR class...\n",
      "\n",
      "psds not given. Choosing bilby's default psds\n",
      "\n",
      "Chosen GWSNR initialization parameters:\n",
      "\n",
      "npool:  4\n",
      "snr type:  inner_product_jax\n",
      "waveform approximant:  IMRPhenomXAS\n",
      "sampling frequency:  2048.0\n",
      "minimum frequency (fmin):  20.0\n",
      "mtot=mass1+mass2\n",
      "min(mtot):  9.96\n",
      "max(mtot) (with the given fmin=20.0): 235.0\n",
      "detectors:  ['L1', 'H1', 'V1']\n",
      "psds:  [PowerSpectralDensity(psd_file='None', asd_file='/Users/phurailatpamhemantakumar/anaconda3/envs/ler/lib/python3.10/site-packages/bilby/gw/detector/noise_curves/aLIGO_O4_high_asd.txt'), PowerSpectralDensity(psd_file='None', asd_file='/Users/phurailatpamhemantakumar/anaconda3/envs/ler/lib/python3.10/site-packages/bilby/gw/detector/noise_curves/aLIGO_O4_high_asd.txt'), PowerSpectralDensity(psd_file='None', asd_file='/Users/phurailatpamhemantakumar/anaconda3/envs/ler/lib/python3.10/site-packages/bilby/gw/detector/noise_curves/AdV_asd.txt')]\n",
      "\n",
      "\n"
     ]
    }
   ],
   "source": [
    "import numpy as np\n",
    "import gwsnr\n",
    "\n",
    "# innitialize the class for pdet calculation\n",
    "gwsnr = gwsnr.GWSNR(snr_type='inner_product_jax', waveform_approximant='IMRPhenomXAS', multiprocessing_verbose=False)"
   ]
  },
  {
   "cell_type": "code",
   "execution_count": 2,
   "metadata": {},
   "outputs": [
    {
     "name": "stdout",
     "output_type": "stream",
     "text": [
      "solving SNR with inner product JAX\n"
     ]
    },
    {
     "name": "stderr",
     "output_type": "stream",
     "text": [
      "/Users/phurailatpamhemantakumar/anaconda3/envs/ler/lib/python3.10/multiprocessing/popen_fork.py:66: RuntimeWarning: os.fork() was called. os.fork() is incompatible with multithreaded code, and JAX is multithreaded, so this will likely lead to a deadlock.\n",
      "  self.pid = os.fork()\n"
     ]
    },
    {
     "name": "stdout",
     "output_type": "stream",
     "text": [
      "SNR (inner product JAX assisted) :  [11.35196022  9.22145362 17.49735282  0.        ]\n"
     ]
    },
    {
     "name": "stderr",
     "output_type": "stream",
     "text": [
      "/Users/phurailatpamhemantakumar/anaconda3/envs/ler/lib/python3.10/multiprocessing/popen_fork.py:66: RuntimeWarning: os.fork() was called. os.fork() is incompatible with multithreaded code, and JAX is multithreaded, so this will likely lead to a deadlock.\n",
      "  self.pid = os.fork()\n"
     ]
    },
    {
     "name": "stdout",
     "output_type": "stream",
     "text": [
      "SNR (inner product bilby) :  [11.35193503  9.22043669 17.49735262  0.        ]\n"
     ]
    }
   ],
   "source": [
    "# set the GW parameters\n",
    "mass_1 = np.array([5, 10.,50.,200.])\n",
    "ratio = np.array([1, 0.8,0.5,0.2])\n",
    "param_dict = dict(\n",
    "    mass_1 = mass_1,\n",
    "    mass_2 = mass_1*ratio,\n",
    "    luminosity_distance = np.array([1000, 2000, 3000, 4000]),\n",
    "    theta_jn = np.array([0.1, 0.2, 0.3, 0.4]),\n",
    "    ra = np.array([0.1, 0.2, 0.3, 0.4]), \n",
    "    dec = np.array([0.1, 0.2, 0.3, 0.4]), \n",
    "    psi = np.array([0.1, 0.2, 0.3, 0.4]),\n",
    "    a_1 = np.array([0.1, 0.2, 0.3, 0.4]),\n",
    "    a_2 = np.array([0.1, 0.2, 0.3, 0.4]),\n",
    "    geocent_time = np.array([0.0, 0.0, 0.0, 0.0]),\n",
    "    phase = np.array([0.0, 0.0, 0.0, 0.0]),\n",
    ")\n",
    "\n",
    "# jax.jit functions are slow when run for the first time\n",
    "snr_jax = gwsnr.snr(gw_param_dict=param_dict)\n",
    "print(\"SNR (inner product JAX assisted) : \", snr_jax[\"optimal_snr_net\"])\n",
    "\n",
    "# snr with inner product\n",
    "snr_bilby = gwsnr.compute_bilby_snr(gw_param_dict=param_dict)\n",
    "print(\"SNR (inner product bilby) : \", snr_bilby[\"optimal_snr_net\"])\n"
   ]
  },
  {
   "cell_type": "markdown",
   "metadata": {},
   "source": [
    "* as of 26 June 2025, jax implementation of inner product is not fully optimized yet.\n",
    "\n",
    "* While the waveform generation is fast via `jax.vamp` parallelization, the overall inner product calculation has extra overhead which will be optimized in the future."
   ]
  },
  {
   "cell_type": "code",
   "execution_count": null,
   "metadata": {},
   "outputs": [],
   "source": []
  },
  {
   "cell_type": "code",
   "execution_count": null,
   "metadata": {},
   "outputs": [
    {
     "name": "stdout",
     "output_type": "stream",
     "text": [
      "\n",
      "Initializing GWSNR class...\n",
      "\n",
      "psds not given. Choosing bilby's default psds\n",
      "Interpolator will be generated for L1 detector at ./interpolator_pickle/L1/partialSNR_dict_3.pickle\n",
      "Interpolator will be generated for H1 detector at ./interpolator_pickle/H1/partialSNR_dict_3.pickle\n",
      "Interpolator will be generated for V1 detector at ./interpolator_pickle/V1/partialSNR_dict_3.pickle\n",
      "Please be patient while the interpolator is generated\n",
      "Generating interpolator for ['L1', 'H1', 'V1'] detectors\n"
     ]
    },
    {
     "name": "stderr",
     "output_type": "stream",
     "text": [
      "  1%|▌                                                      | 3634/399700 [00:02<03:47, 1740.52it/s]Process ForkPoolWorker-4:\n",
      "Process ForkPoolWorker-2:\n",
      "Process ForkPoolWorker-3:\n",
      "Process ForkPoolWorker-1:\n",
      "\n"
     ]
    },
    {
     "ename": "KeyboardInterrupt",
     "evalue": "",
     "output_type": "error",
     "traceback": [
      "\u001b[0;31m---------------------------------------------------------------------------\u001b[0m",
      "\u001b[0;31mIndexError\u001b[0m                                Traceback (most recent call last)",
      "File \u001b[0;32m~/anaconda3/envs/gwsnr/lib/python3.10/multiprocessing/pool.py:856\u001b[0m, in \u001b[0;36mIMapIterator.next\u001b[0;34m(self, timeout)\u001b[0m\n\u001b[1;32m    855\u001b[0m \u001b[38;5;28;01mtry\u001b[39;00m:\n\u001b[0;32m--> 856\u001b[0m     item \u001b[38;5;241m=\u001b[39m \u001b[38;5;28;43mself\u001b[39;49m\u001b[38;5;241;43m.\u001b[39;49m\u001b[43m_items\u001b[49m\u001b[38;5;241;43m.\u001b[39;49m\u001b[43mpopleft\u001b[49m\u001b[43m(\u001b[49m\u001b[43m)\u001b[49m\n\u001b[1;32m    857\u001b[0m \u001b[38;5;28;01mexcept\u001b[39;00m \u001b[38;5;167;01mIndexError\u001b[39;00m:\n",
      "\u001b[0;31mIndexError\u001b[0m: pop from an empty deque",
      "\nDuring handling of the above exception, another exception occurred:\n",
      "\u001b[0;31mKeyboardInterrupt\u001b[0m                         Traceback (most recent call last)",
      "Cell \u001b[0;32mIn[1], line 58\u001b[0m\n\u001b[1;32m      8\u001b[0m param_dict \u001b[38;5;241m=\u001b[39m \u001b[38;5;28mdict\u001b[39m(\n\u001b[1;32m      9\u001b[0m     \u001b[38;5;66;03m# convert to component masses\u001b[39;00m\n\u001b[1;32m     10\u001b[0m     mass_1 \u001b[38;5;241m=\u001b[39m mtot \u001b[38;5;241m/\u001b[39m (\u001b[38;5;241m1\u001b[39m \u001b[38;5;241m+\u001b[39m mass_ratio),\n\u001b[0;32m   (...)\u001b[0m\n\u001b[1;32m     20\u001b[0m     geocent_time \u001b[38;5;241m=\u001b[39m \u001b[38;5;241m1246527224.169434\u001b[39m\u001b[38;5;241m*\u001b[39mnp\u001b[38;5;241m.\u001b[39mones(nsamples),\n\u001b[1;32m     21\u001b[0m )\n\u001b[1;32m     23\u001b[0m \u001b[38;5;66;03m# # Test with interpolation_no_spins_jax\u001b[39;00m\n\u001b[1;32m     24\u001b[0m \u001b[38;5;66;03m# gwsnr = GWSNR(snr_type=\"interpolation_no_spins_jax\", gwsnr_verbose=False)\u001b[39;00m\n\u001b[1;32m     25\u001b[0m \u001b[38;5;66;03m# interp_snr = gwsnr.snr(gw_param_dict=param_dict)\u001b[39;00m\n\u001b[0;32m   (...)\u001b[0m\n\u001b[1;32m     56\u001b[0m \n\u001b[1;32m     57\u001b[0m \u001b[38;5;66;03m# Test with interpolation_aligned_spins_jax\u001b[39;00m\n\u001b[0;32m---> 58\u001b[0m gwsnr \u001b[38;5;241m=\u001b[39m \u001b[43mGWSNR\u001b[49m\u001b[43m(\u001b[49m\u001b[43msnr_type\u001b[49m\u001b[38;5;241;43m=\u001b[39;49m\u001b[38;5;124;43m\"\u001b[39;49m\u001b[38;5;124;43minterpolation_aligned_spins_jax\u001b[39;49m\u001b[38;5;124;43m\"\u001b[39;49m\u001b[43m,\u001b[49m\u001b[43m \u001b[49m\u001b[43mgwsnr_verbose\u001b[49m\u001b[38;5;241;43m=\u001b[39;49m\u001b[38;5;28;43;01mFalse\u001b[39;49;00m\u001b[43m)\u001b[49m\n\u001b[1;32m     59\u001b[0m interp_snr \u001b[38;5;241m=\u001b[39m gwsnr\u001b[38;5;241m.\u001b[39msnr(gw_param_dict\u001b[38;5;241m=\u001b[39mparam_dict)\n\u001b[1;32m     61\u001b[0m \u001b[38;5;66;03m# # Output checks\u001b[39;00m\n\u001b[1;32m     62\u001b[0m \u001b[38;5;66;03m# assert isinstance(interp_snr, dict), \"SNR output should be a dictionary\"\u001b[39;00m\n\u001b[1;32m     63\u001b[0m \u001b[38;5;66;03m# assert \"optimal_snr_net\" in interp_snr, \"Expected 'optimal_snr_net' in SNR output\"\u001b[39;00m\n\u001b[0;32m   (...)\u001b[0m\n\u001b[1;32m     69\u001b[0m \u001b[38;5;66;03m# assert np.all(snr_arr >= 0), \"SNR should not be negative\"\u001b[39;00m\n\u001b[1;32m     70\u001b[0m \u001b[38;5;66;03m# assert snr_arr.dtype == np.float64, f\"Expected float64, got {snr_arr.dtype}\"\u001b[39;00m\n",
      "File \u001b[0;32m~/phd/mypackages/gwsnr/gwsnr/core/gwsnr.py:645\u001b[0m, in \u001b[0;36mGWSNR.__init__\u001b[0;34m(self, npool, mtot_min, mtot_max, ratio_min, ratio_max, spin_max, mtot_resolution, ratio_resolution, spin_resolution, sampling_frequency, waveform_approximant, frequency_domain_source_model, minimum_frequency, duration_max, duration_min, snr_type, psds, ifos, interpolator_dir, create_new_interpolator, gwsnr_verbose, multiprocessing_verbose, mtot_cut, pdet, snr_th, snr_th_net, ann_path_dict, snr_recalculation, snr_recalculation_range, snr_recalculation_waveform_approximant)\u001b[0m\n\u001b[1;32m    643\u001b[0m     \u001b[38;5;28mself\u001b[39m\u001b[38;5;241m.\u001b[39mparam_dict_given[\u001b[38;5;124m'\u001b[39m\u001b[38;5;124mspin_resolution\u001b[39m\u001b[38;5;124m'\u001b[39m] \u001b[38;5;241m=\u001b[39m \u001b[38;5;28mself\u001b[39m\u001b[38;5;241m.\u001b[39mspin_resolution\n\u001b[1;32m    644\u001b[0m     \u001b[38;5;66;03m# dealing with interpolator\u001b[39;00m\n\u001b[0;32m--> 645\u001b[0m     \u001b[38;5;28mself\u001b[39m\u001b[38;5;241m.\u001b[39mpath_interpolator \u001b[38;5;241m=\u001b[39m \u001b[38;5;28;43mself\u001b[39;49m\u001b[38;5;241;43m.\u001b[39;49m\u001b[43minterpolator_setup\u001b[49m\u001b[43m(\u001b[49m\u001b[43minterpolator_dir\u001b[49m\u001b[43m,\u001b[49m\u001b[43m \u001b[49m\u001b[43mcreate_new_interpolator\u001b[49m\u001b[43m,\u001b[49m\u001b[43m \u001b[49m\u001b[43mpsds_list\u001b[49m\u001b[43m,\u001b[49m\u001b[43m \u001b[49m\u001b[43mdetector_tensor_list\u001b[49m\u001b[43m,\u001b[49m\u001b[43m \u001b[49m\u001b[43mdetector_list\u001b[49m\u001b[43m)\u001b[49m\n\u001b[1;32m    647\u001b[0m \u001b[38;5;66;03m# inner product method doesn't need interpolator generation\u001b[39;00m\n\u001b[1;32m    648\u001b[0m \u001b[38;5;28;01melif\u001b[39;00m snr_type \u001b[38;5;241m==\u001b[39m \u001b[38;5;124m\"\u001b[39m\u001b[38;5;124minner_product\u001b[39m\u001b[38;5;124m\"\u001b[39m:\n",
      "File \u001b[0;32m~/phd/mypackages/gwsnr/gwsnr/core/gwsnr.py:751\u001b[0m, in \u001b[0;36mGWSNR.interpolator_setup\u001b[0;34m(self, interpolator_dir, create_new_interpolator, psds_list, detector_tensor_list, detector_list)\u001b[0m\n\u001b[1;32m    747\u001b[0m     \u001b[38;5;28mprint\u001b[39m(\u001b[38;5;124m\"\u001b[39m\u001b[38;5;124mPlease be patient while the interpolator is generated\u001b[39m\u001b[38;5;124m\"\u001b[39m)\n\u001b[1;32m    748\u001b[0m     \u001b[38;5;66;03m# if self.snr_type == 'interpolation_aligned_spins':\u001b[39;00m\n\u001b[1;32m    749\u001b[0m     \u001b[38;5;66;03m#     self.init_partialscaled_aligned_spins()\u001b[39;00m\n\u001b[1;32m    750\u001b[0m     \u001b[38;5;66;03m# else:\u001b[39;00m\n\u001b[0;32m--> 751\u001b[0m     \u001b[38;5;28;43mself\u001b[39;49m\u001b[38;5;241;43m.\u001b[39;49m\u001b[43minit_partialscaled\u001b[49m\u001b[43m(\u001b[49m\u001b[43m)\u001b[49m\n\u001b[1;32m    752\u001b[0m \u001b[38;5;28;01melif\u001b[39;00m create_new_interpolator:\n\u001b[1;32m    753\u001b[0m     \u001b[38;5;66;03m# change back to original\u001b[39;00m\n\u001b[1;32m    754\u001b[0m     \u001b[38;5;28mself\u001b[39m\u001b[38;5;241m.\u001b[39mpsds_list \u001b[38;5;241m=\u001b[39m psds_list\n",
      "File \u001b[0;32m~/phd/mypackages/gwsnr/gwsnr/core/gwsnr.py:1860\u001b[0m, in \u001b[0;36mGWSNR.init_partialscaled\u001b[0;34m(self)\u001b[0m\n\u001b[1;32m   1858\u001b[0m \u001b[38;5;28mprint\u001b[39m(\u001b[38;5;124mf\u001b[39m\u001b[38;5;124m\"\u001b[39m\u001b[38;5;124mGenerating interpolator for \u001b[39m\u001b[38;5;132;01m{\u001b[39;00mdetectors\u001b[38;5;132;01m}\u001b[39;00m\u001b[38;5;124m detectors\u001b[39m\u001b[38;5;124m\"\u001b[39m)\n\u001b[1;32m   1859\u001b[0m \u001b[38;5;66;03m# calling bilby_snr\u001b[39;00m\n\u001b[0;32m-> 1860\u001b[0m optimal_snr_unscaled \u001b[38;5;241m=\u001b[39m \u001b[38;5;28;43mself\u001b[39;49m\u001b[38;5;241;43m.\u001b[39;49m\u001b[43mcompute_bilby_snr\u001b[49m\u001b[43m(\u001b[49m\n\u001b[1;32m   1861\u001b[0m \u001b[43m    \u001b[49m\u001b[43mmass_1\u001b[49m\u001b[38;5;241;43m=\u001b[39;49m\u001b[43mmass_1\u001b[49m\u001b[38;5;241;43m.\u001b[39;49m\u001b[43mflatten\u001b[49m\u001b[43m(\u001b[49m\u001b[43m)\u001b[49m\u001b[43m,\u001b[49m\n\u001b[1;32m   1862\u001b[0m \u001b[43m    \u001b[49m\u001b[43mmass_2\u001b[49m\u001b[38;5;241;43m=\u001b[39;49m\u001b[43mmass_2\u001b[49m\u001b[38;5;241;43m.\u001b[39;49m\u001b[43mflatten\u001b[49m\u001b[43m(\u001b[49m\u001b[43m)\u001b[49m\u001b[43m,\u001b[49m\n\u001b[1;32m   1863\u001b[0m \u001b[43m    \u001b[49m\u001b[43mluminosity_distance\u001b[49m\u001b[38;5;241;43m=\u001b[39;49m\u001b[43mluminosity_distance_\u001b[49m\u001b[43m,\u001b[49m\n\u001b[1;32m   1864\u001b[0m \u001b[43m    \u001b[49m\u001b[43mtheta_jn\u001b[49m\u001b[38;5;241;43m=\u001b[39;49m\u001b[43mtheta_jn_\u001b[49m\u001b[43m,\u001b[49m\n\u001b[1;32m   1865\u001b[0m \u001b[43m    \u001b[49m\u001b[43mpsi\u001b[49m\u001b[38;5;241;43m=\u001b[39;49m\u001b[43mpsi_\u001b[49m\u001b[43m,\u001b[49m\n\u001b[1;32m   1866\u001b[0m \u001b[43m    \u001b[49m\u001b[43mphase\u001b[49m\u001b[38;5;241;43m=\u001b[39;49m\u001b[43mphase_\u001b[49m\u001b[43m,\u001b[49m\n\u001b[1;32m   1867\u001b[0m \u001b[43m    \u001b[49m\u001b[43mgeocent_time\u001b[49m\u001b[38;5;241;43m=\u001b[39;49m\u001b[43mgeocent_time_\u001b[49m\u001b[43m,\u001b[49m\n\u001b[1;32m   1868\u001b[0m \u001b[43m    \u001b[49m\u001b[43mra\u001b[49m\u001b[38;5;241;43m=\u001b[39;49m\u001b[43mra_\u001b[49m\u001b[43m,\u001b[49m\n\u001b[1;32m   1869\u001b[0m \u001b[43m    \u001b[49m\u001b[43mdec\u001b[49m\u001b[38;5;241;43m=\u001b[39;49m\u001b[43mdec_\u001b[49m\u001b[43m,\u001b[49m\n\u001b[1;32m   1870\u001b[0m \u001b[43m    \u001b[49m\u001b[43ma_1\u001b[49m\u001b[38;5;241;43m=\u001b[39;49m\u001b[43ma_1\u001b[49m\u001b[38;5;241;43m.\u001b[39;49m\u001b[43mflatten\u001b[49m\u001b[43m(\u001b[49m\u001b[43m)\u001b[49m\u001b[43m,\u001b[49m\n\u001b[1;32m   1871\u001b[0m \u001b[43m    \u001b[49m\u001b[43ma_2\u001b[49m\u001b[38;5;241;43m=\u001b[39;49m\u001b[43ma_2\u001b[49m\u001b[38;5;241;43m.\u001b[39;49m\u001b[43mflatten\u001b[49m\u001b[43m(\u001b[49m\u001b[43m)\u001b[49m\u001b[43m,\u001b[49m\n\u001b[1;32m   1872\u001b[0m \u001b[43m\u001b[49m\u001b[43m)\u001b[49m\n\u001b[1;32m   1874\u001b[0m \u001b[38;5;66;03m# for partialscaledSNR\u001b[39;00m\n\u001b[1;32m   1875\u001b[0m Mchirp \u001b[38;5;241m=\u001b[39m ((mass_1 \u001b[38;5;241m*\u001b[39m mass_2) \u001b[38;5;241m*\u001b[39m\u001b[38;5;241m*\u001b[39m (\u001b[38;5;241m3\u001b[39m \u001b[38;5;241m/\u001b[39m \u001b[38;5;241m5\u001b[39m)) \u001b[38;5;241m/\u001b[39m ((mass_1 \u001b[38;5;241m+\u001b[39m mass_2) \u001b[38;5;241m*\u001b[39m\u001b[38;5;241m*\u001b[39m (\u001b[38;5;241m1\u001b[39m \u001b[38;5;241m/\u001b[39m \u001b[38;5;241m5\u001b[39m)) \u001b[38;5;66;03m# shape (size1, size2, size3, size4)\u001b[39;00m\n",
      "File \u001b[0;32m~/phd/mypackages/gwsnr/gwsnr/core/gwsnr.py:2094\u001b[0m, in \u001b[0;36mGWSNR.compute_bilby_snr\u001b[0;34m(self, mass_1, mass_2, luminosity_distance, theta_jn, psi, phase, geocent_time, ra, dec, a_1, a_2, tilt_1, tilt_2, phi_12, phi_jl, lambda_1, lambda_2, eccentricity, gw_param_dict, output_jsonfile)\u001b[0m\n\u001b[1;32m   2090\u001b[0m \u001b[38;5;28;01mwith\u001b[39;00m mp\u001b[38;5;241m.\u001b[39mPool(processes\u001b[38;5;241m=\u001b[39mnpool) \u001b[38;5;28;01mas\u001b[39;00m pool:\n\u001b[1;32m   2091\u001b[0m     \u001b[38;5;66;03m# call the same function with different data in parallel\u001b[39;00m\n\u001b[1;32m   2092\u001b[0m     \u001b[38;5;66;03m# imap->retain order in the list, while map->doesn't\u001b[39;00m\n\u001b[1;32m   2093\u001b[0m     \u001b[38;5;28;01mif\u001b[39;00m \u001b[38;5;28mself\u001b[39m\u001b[38;5;241m.\u001b[39mmultiprocessing_verbose:\n\u001b[0;32m-> 2094\u001b[0m         \u001b[38;5;28;01mfor\u001b[39;00m result \u001b[38;5;129;01min\u001b[39;00m tqdm(\n\u001b[1;32m   2095\u001b[0m             pool\u001b[38;5;241m.\u001b[39mimap_unordered(noise_weighted_inner_prod, input_arguments),\n\u001b[1;32m   2096\u001b[0m             total\u001b[38;5;241m=\u001b[39m\u001b[38;5;28mlen\u001b[39m(input_arguments),\n\u001b[1;32m   2097\u001b[0m             ncols\u001b[38;5;241m=\u001b[39m\u001b[38;5;241m100\u001b[39m,\n\u001b[1;32m   2098\u001b[0m         ):\n\u001b[1;32m   2099\u001b[0m             \u001b[38;5;66;03m# but, np.shape(hp_inner_hp_i) = (size1, len(num_det))\u001b[39;00m\n\u001b[1;32m   2100\u001b[0m             hp_inner_hp_i, hc_inner_hc_i, iter_i \u001b[38;5;241m=\u001b[39m result\n\u001b[1;32m   2101\u001b[0m             hp_inner_hp[:, iter_i] \u001b[38;5;241m=\u001b[39m hp_inner_hp_i\n",
      "File \u001b[0;32m~/anaconda3/envs/gwsnr/lib/python3.10/site-packages/tqdm/std.py:1181\u001b[0m, in \u001b[0;36mtqdm.__iter__\u001b[0;34m(self)\u001b[0m\n\u001b[1;32m   1178\u001b[0m time \u001b[38;5;241m=\u001b[39m \u001b[38;5;28mself\u001b[39m\u001b[38;5;241m.\u001b[39m_time\n\u001b[1;32m   1180\u001b[0m \u001b[38;5;28;01mtry\u001b[39;00m:\n\u001b[0;32m-> 1181\u001b[0m     \u001b[38;5;28;01mfor\u001b[39;00m obj \u001b[38;5;129;01min\u001b[39;00m iterable:\n\u001b[1;32m   1182\u001b[0m         \u001b[38;5;28;01myield\u001b[39;00m obj\n\u001b[1;32m   1183\u001b[0m         \u001b[38;5;66;03m# Update and possibly print the progressbar.\u001b[39;00m\n\u001b[1;32m   1184\u001b[0m         \u001b[38;5;66;03m# Note: does not call self.update(1) for speed optimisation.\u001b[39;00m\n",
      "File \u001b[0;32m~/anaconda3/envs/gwsnr/lib/python3.10/multiprocessing/pool.py:861\u001b[0m, in \u001b[0;36mIMapIterator.next\u001b[0;34m(self, timeout)\u001b[0m\n\u001b[1;32m    859\u001b[0m     \u001b[38;5;28mself\u001b[39m\u001b[38;5;241m.\u001b[39m_pool \u001b[38;5;241m=\u001b[39m \u001b[38;5;28;01mNone\u001b[39;00m\n\u001b[1;32m    860\u001b[0m     \u001b[38;5;28;01mraise\u001b[39;00m \u001b[38;5;167;01mStopIteration\u001b[39;00m \u001b[38;5;28;01mfrom\u001b[39;00m \u001b[38;5;28;01mNone\u001b[39;00m\n\u001b[0;32m--> 861\u001b[0m \u001b[38;5;28;43mself\u001b[39;49m\u001b[38;5;241;43m.\u001b[39;49m\u001b[43m_cond\u001b[49m\u001b[38;5;241;43m.\u001b[39;49m\u001b[43mwait\u001b[49m\u001b[43m(\u001b[49m\u001b[43mtimeout\u001b[49m\u001b[43m)\u001b[49m\n\u001b[1;32m    862\u001b[0m \u001b[38;5;28;01mtry\u001b[39;00m:\n\u001b[1;32m    863\u001b[0m     item \u001b[38;5;241m=\u001b[39m \u001b[38;5;28mself\u001b[39m\u001b[38;5;241m.\u001b[39m_items\u001b[38;5;241m.\u001b[39mpopleft()\n",
      "File \u001b[0;32m~/anaconda3/envs/gwsnr/lib/python3.10/threading.py:320\u001b[0m, in \u001b[0;36mCondition.wait\u001b[0;34m(self, timeout)\u001b[0m\n\u001b[1;32m    318\u001b[0m \u001b[38;5;28;01mtry\u001b[39;00m:    \u001b[38;5;66;03m# restore state no matter what (e.g., KeyboardInterrupt)\u001b[39;00m\n\u001b[1;32m    319\u001b[0m     \u001b[38;5;28;01mif\u001b[39;00m timeout \u001b[38;5;129;01mis\u001b[39;00m \u001b[38;5;28;01mNone\u001b[39;00m:\n\u001b[0;32m--> 320\u001b[0m         \u001b[43mwaiter\u001b[49m\u001b[38;5;241;43m.\u001b[39;49m\u001b[43macquire\u001b[49m\u001b[43m(\u001b[49m\u001b[43m)\u001b[49m\n\u001b[1;32m    321\u001b[0m         gotit \u001b[38;5;241m=\u001b[39m \u001b[38;5;28;01mTrue\u001b[39;00m\n\u001b[1;32m    322\u001b[0m     \u001b[38;5;28;01melse\u001b[39;00m:\n",
      "\u001b[0;31mKeyboardInterrupt\u001b[0m: "
     ]
    }
   ],
   "source": [
    "from gwsnr import GWSNR\n",
    "import numpy as np\n",
    "import pytest\n",
    "\n",
    "nsamples = 5\n",
    "mtot = np.random.uniform(2*4.98, 2*112.5, nsamples)\n",
    "mass_ratio = np.random.uniform(0.2, 1, size=nsamples)\n",
    "param_dict = dict(\n",
    "    # convert to component masses\n",
    "    mass_1 = mtot / (1 + mass_ratio),\n",
    "    mass_2 = mtot * mass_ratio / (1 + mass_ratio),\n",
    "    # Fix luminosity distance\n",
    "    luminosity_distance = 500*np.ones(nsamples),\n",
    "    # Randomly sample everything else:\n",
    "    theta_jn = np.random.uniform(0, 2*np.pi, size=nsamples),\n",
    "    ra = np.random.uniform(0, 2*np.pi, size=nsamples), \n",
    "    dec = np.random.uniform(-np.pi/2, np.pi/2, size=nsamples), \n",
    "    psi = np.random.uniform(0, 2*np.pi, size=nsamples),\n",
    "    phase = np.random.uniform(0, 2*np.pi, size=nsamples),\n",
    "    geocent_time = 1246527224.169434*np.ones(nsamples),\n",
    ")\n",
    "\n",
    "# # Test with interpolation_no_spins_jax\n",
    "# gwsnr = GWSNR(snr_type=\"interpolation_no_spins_jax\", gwsnr_verbose=False)\n",
    "# interp_snr = gwsnr.snr(gw_param_dict=param_dict)\n",
    "\n",
    "# # Output checks\n",
    "# assert isinstance(interp_snr, dict), \"SNR output should be a dictionary\"\n",
    "# assert \"optimal_snr_net\" in interp_snr, \"Expected 'optimal_snr_net' in SNR output\"\n",
    "\n",
    "# snr_arr = np.asarray(interp_snr[\"optimal_snr_net\"])\n",
    "# assert snr_arr.shape == (nsamples,), f\"Expected shape ({nsamples},), got {snr_arr.shape}\"\n",
    "# assert np.all(np.isfinite(snr_arr)), \"Non-finite SNR values present\"\n",
    "# assert np.all(np.isreal(snr_arr)), \"SNR values should be real numbers\"\n",
    "# assert np.all(snr_arr >= 0), \"SNR should not be negative\"\n",
    "# assert snr_arr.dtype == np.float64, f\"Expected float64, got {snr_arr.dtype}\"\n",
    "\n",
    "# # add spins to the parameters\n",
    "# param_dict[\"a_1\"] = np.random.uniform(-0.8,0.8, size=nsamples)\n",
    "# param_dict[\"a_2\"] = np.random.uniform(-0.8,0.8, size=nsamples)\n",
    "\n",
    "# # Test with interpolation_aligned_spins\n",
    "# gwsnr = GWSNR(snr_type=\"interpolation_aligned_spins\", gwsnr_verbose=False)\n",
    "# interp_snr = gwsnr.snr(gw_param_dict=param_dict)\n",
    "\n",
    "# # Output checks\n",
    "# assert isinstance(interp_snr, dict), \"SNR output should be a dictionary\"\n",
    "# assert \"optimal_snr_net\" in interp_snr, \"Expected 'optimal_snr_net' in SNR output\"\n",
    "\n",
    "# snr_arr = np.asarray(interp_snr[\"optimal_snr_net\"])\n",
    "# assert snr_arr.shape == (nsamples,), f\"Expected shape ({nsamples},), got {snr_arr.shape}\"\n",
    "# assert np.all(np.isfinite(snr_arr)), \"Non-finite SNR values present\"\n",
    "# assert np.all(np.isreal(snr_arr)), \"SNR values should be real numbers\"\n",
    "# assert np.all(snr_arr >= 0), \"SNR should not be negative\"\n",
    "# assert snr_arr.dtype == np.float64, f\"Expected float64, got {snr_arr.dtype}\"\n",
    "\n",
    "# Test with interpolation_aligned_spins_jax\n",
    "gwsnr = GWSNR(snr_type=\"interpolation_aligned_spins_jax\", gwsnr_verbose=False)\n",
    "interp_snr = gwsnr.snr(gw_param_dict=param_dict)\n",
    "\n",
    "# # Output checks\n",
    "# assert isinstance(interp_snr, dict), \"SNR output should be a dictionary\"\n",
    "# assert \"optimal_snr_net\" in interp_snr, \"Expected 'optimal_snr_net' in SNR output\"\n",
    "\n",
    "# snr_arr = np.asarray(interp_snr[\"optimal_snr_net\"])\n",
    "# assert snr_arr.shape == (nsamples,), f\"Expected shape ({nsamples},), got {snr_arr.shape}\"\n",
    "# assert np.all(np.isfinite(snr_arr)), \"Non-finite SNR values present\"\n",
    "# assert np.all(np.isreal(snr_arr)), \"SNR values should be real numbers\"\n",
    "# assert np.all(snr_arr >= 0), \"SNR should not be negative\"\n",
    "# assert snr_arr.dtype == np.float64, f\"Expected float64, got {snr_arr.dtype}\""
   ]
  },
  {
   "cell_type": "code",
   "execution_count": 13,
   "metadata": {},
   "outputs": [
    {
     "data": {
      "text/plain": [
       "{'L1': array([0.18061065, 1.        , 1.        , 1.        ,\n",
       "        0.83294417]),\n",
       " 'H1': array([0.99325351, 1.        , 1.        , 1.        ,\n",
       "        1.        ]),\n",
       " 'V1': array([1.        , 1.        , 1.        , 0.99756439,\n",
       "        1.        ]),\n",
       " 'pdet_net': array([1., 1., 1., 1., 1.])}"
      ]
     },
     "execution_count": 13,
     "metadata": {},
     "output_type": "execute_result"
    }
   ],
   "source": [
    "interp_pdet_match_filter"
   ]
  },
  {
   "cell_type": "code",
   "execution_count": null,
   "metadata": {},
   "outputs": [],
   "source": []
  }
 ],
 "metadata": {
  "kernelspec": {
   "display_name": "gwsnr",
   "language": "python",
   "name": "gwsnr"
  },
  "language_info": {
   "codemirror_mode": {
    "name": "ipython",
    "version": 3
   },
   "file_extension": ".py",
   "mimetype": "text/x-python",
   "name": "python",
   "nbconvert_exporter": "python",
   "pygments_lexer": "ipython3",
   "version": "3.10.18"
  }
 },
 "nbformat": 4,
 "nbformat_minor": 2
}
