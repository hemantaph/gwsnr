{
 "cells": [
  {
   "cell_type": "code",
   "execution_count": null,
   "id": "2922030a",
   "metadata": {},
   "outputs": [],
   "source": [
    "import numpy as np\n",
    "import matplotlib.pyplot as plt\n",
    "from scipy.stats import norm\n",
    "\n",
    "plt.rcParams.update({\n",
    "    \"text.usetex\": True,\n",
    "    \"font.family\": \"serif\",\n",
    "    \"font.serif\": [\"Computer Modern Roman\"],    \n",
    "    \"font.size\": 12\n",
    "})\n",
    "plt.figure(figsize=(8., 4.))   \n",
    "\n",
    "# Parameters\n",
    "rho_th = 8\n",
    "mu = 8.2  # mean SNR\n",
    "sigma = 1\n",
    "\n",
    "# Range of optimal SNRs for visualization\n",
    "rho_opt = np.linspace(4, 12, 500)\n",
    "\n",
    "# Step function (deterministic)\n",
    "step_prob = (rho_opt > rho_th).astype(float)\n",
    "\n",
    "# Probabilistic detection: CDF of Gaussian\n",
    "gauss_prob = 1 - norm.cdf(rho_th, loc=rho_opt, scale=sigma)\n"
   ]
  },
  {
   "cell_type": "code",
   "execution_count": null,
   "id": "d760c60f",
   "metadata": {},
   "outputs": [],
   "source": [
    "plt.figure(figsize=(6,4))\n",
    "plt.plot(rho_opt, step_prob, label='Deterministic Probability\\n(Step Function)', color='C0', lw=2)\n",
    "plt.plot(rho_opt, gauss_prob, label='Probabilistic Detection\\n(Gaussian Noise Model)', color='C1', lw=2)\n",
    "plt.axvline(mu, color='C2', ls='--', lw=2, label=r'$\\rho_{\\rm opt}$')\n",
    "plt.axvline(rho_th, color='C3', ls='--', lw=2, label=r'$\\rho_{\\rm opt}=8.2$' +'\\n'+ r'$P_{\\rm det}=5.8$')\n",
    "plt.xlabel(r'$\\rho_{\\rm opt}$', fontsize=14)\n",
    "plt.ylabel(r'$P_{\\rm det}$', fontsize=14)\n",
    "\n",
    "plt.ylim(-0.05, 1.05)\n",
    "\n",
    "legend = plt.legend(['Deterministic Probability\\n(Step Function)', 'Probabilistic Detection\\n(Gaussian Noise Model)', r'$\\rho_{\\rm opt}=8.2$' +'\\n'+ r'$P_{\\rm det,mf}=5.8,P_{\\rm det,bool}=1$', r'$\\rho_{\\rm th}$'], handlelength=2, loc='upper left', bbox_to_anchor=(0.0, 1.0), frameon=True, fontsize=12, edgecolor='lightgray')\n",
    "legend.get_frame().set_boxstyle('Round', pad=0.0, rounding_size=0.2)\n",
    "# Modify line width for legend entries\n",
    "for handle in legend.get_lines():\n",
    "    handle.set_linewidth(2)\n",
    "    handle.set_alpha(0.8)\n",
    "\n",
    "plt.grid(alpha=0.3)\n",
    "plt.tight_layout()\n",
    "plt.savefig('../docs/_static/pdet_comparison.png', dpi=300)  # Save the figure\n",
    "plt.show()"
   ]
  }
 ],
 "metadata": {
  "kernelspec": {
   "display_name": "ler",
   "language": "python",
   "name": "ler"
  },
  "language_info": {
   "name": "python",
   "version": "3.10.18"
  }
 },
 "nbformat": 4,
 "nbformat_minor": 5
}
