{
 "cells": [
  {
   "cell_type": "markdown",
   "metadata": {},
   "source": [
    "# Pdet calculation with logistic regression"
   ]
  },
  {
   "cell_type": "code",
   "execution_count": 5,
   "metadata": {},
   "outputs": [],
   "source": [
    "import json\n",
    "import numpy as np\n",
    "import matplotlib.pyplot as plt\n",
    "%matplotlib inline  \n",
    "import pycbc\n",
    "from ler import LeR\n",
    "from gwsnr import GWSNR \n",
    "import bilby"
   ]
  },
  {
   "cell_type": "code",
   "execution_count": 2,
   "metadata": {},
   "outputs": [
    {
     "name": "stdout",
     "output_type": "stream",
     "text": [
      "\u001b[0;31mInit signature:\u001b[0m\n",
      "\u001b[0mGWSNR\u001b[0m\u001b[0;34m(\u001b[0m\u001b[0;34m\u001b[0m\n",
      "\u001b[0;34m\u001b[0m    \u001b[0mnpool\u001b[0m\u001b[0;34m=\u001b[0m\u001b[0;36m4\u001b[0m\u001b[0;34m,\u001b[0m\u001b[0;34m\u001b[0m\n",
      "\u001b[0;34m\u001b[0m    \u001b[0mmtot_min\u001b[0m\u001b[0;34m=\u001b[0m\u001b[0;36m2.0\u001b[0m\u001b[0;34m,\u001b[0m\u001b[0;34m\u001b[0m\n",
      "\u001b[0;34m\u001b[0m    \u001b[0mmtot_max\u001b[0m\u001b[0;34m=\u001b[0m\u001b[0;36m439.6\u001b[0m\u001b[0;34m,\u001b[0m\u001b[0;34m\u001b[0m\n",
      "\u001b[0;34m\u001b[0m    \u001b[0mnsamples_mtot\u001b[0m\u001b[0;34m=\u001b[0m\u001b[0;36m100\u001b[0m\u001b[0;34m,\u001b[0m\u001b[0;34m\u001b[0m\n",
      "\u001b[0;34m\u001b[0m    \u001b[0mnsamples_mass_ratio\u001b[0m\u001b[0;34m=\u001b[0m\u001b[0;36m50\u001b[0m\u001b[0;34m,\u001b[0m\u001b[0;34m\u001b[0m\n",
      "\u001b[0;34m\u001b[0m    \u001b[0msampling_frequency\u001b[0m\u001b[0;34m=\u001b[0m\u001b[0;36m2048.0\u001b[0m\u001b[0;34m,\u001b[0m\u001b[0;34m\u001b[0m\n",
      "\u001b[0;34m\u001b[0m    \u001b[0mwaveform_approximant\u001b[0m\u001b[0;34m=\u001b[0m\u001b[0;34m'IMRPhenomD'\u001b[0m\u001b[0;34m,\u001b[0m\u001b[0;34m\u001b[0m\n",
      "\u001b[0;34m\u001b[0m    \u001b[0mminimum_frequency\u001b[0m\u001b[0;34m=\u001b[0m\u001b[0;36m20.0\u001b[0m\u001b[0;34m,\u001b[0m\u001b[0;34m\u001b[0m\n",
      "\u001b[0;34m\u001b[0m    \u001b[0msnr_type\u001b[0m\u001b[0;34m=\u001b[0m\u001b[0;34m'interpolation'\u001b[0m\u001b[0;34m,\u001b[0m\u001b[0;34m\u001b[0m\n",
      "\u001b[0;34m\u001b[0m    \u001b[0mwaveform_inspiral_must_be_above_fmin\u001b[0m\u001b[0;34m=\u001b[0m\u001b[0;32mFalse\u001b[0m\u001b[0;34m,\u001b[0m\u001b[0;34m\u001b[0m\n",
      "\u001b[0;34m\u001b[0m    \u001b[0mpsds\u001b[0m\u001b[0;34m=\u001b[0m\u001b[0;32mNone\u001b[0m\u001b[0;34m,\u001b[0m\u001b[0;34m\u001b[0m\n",
      "\u001b[0;34m\u001b[0m    \u001b[0mpsd_file\u001b[0m\u001b[0;34m=\u001b[0m\u001b[0;32mFalse\u001b[0m\u001b[0;34m,\u001b[0m\u001b[0;34m\u001b[0m\n",
      "\u001b[0;34m\u001b[0m    \u001b[0mifos\u001b[0m\u001b[0;34m=\u001b[0m\u001b[0;32mNone\u001b[0m\u001b[0;34m,\u001b[0m\u001b[0;34m\u001b[0m\n",
      "\u001b[0;34m\u001b[0m    \u001b[0minterpolator_dir\u001b[0m\u001b[0;34m=\u001b[0m\u001b[0;34m'./interpolator_pickle'\u001b[0m\u001b[0;34m,\u001b[0m\u001b[0;34m\u001b[0m\n",
      "\u001b[0;34m\u001b[0m\u001b[0;34m)\u001b[0m\u001b[0;34m\u001b[0m\u001b[0;34m\u001b[0m\u001b[0m\n",
      "\u001b[0;31mDocstring:\u001b[0m      <no docstring>\n",
      "\u001b[0;31mInit docstring:\u001b[0m\n",
      "Initialized parameters and functions\n",
      "snr_half_scaled() : function for finding (f/PSD) integration in the limit [f_min,f_max]\n",
      "list_of_detectors :  list of detector initials, e.g. L1 for Livingston\n",
      "f_min : minimum frequency for the detector\n",
      "-----------------\n",
      "input parameters\n",
      "-----------------\n",
      "mtot_min           : minimum value of Mtotal=mass_1+mass_2, use in interpolation\n",
      "mtot_max           : maximum value of Mtotal=mass_1+mass_2, use in interpolation\n",
      "nsamples           : number of points you want to use for SNR interpolation (here it is half SNR not complete)\n",
      "list_of_detectors  : detector list. It can be single or multiple.\n",
      "duration           : duration of the data in time domain. \n",
      "sampling_frequency : sampling frequency of the data. e.g. 4096Hz,2048Hz,1024Hz\n",
      "waveform_arguments : contains which waveform model to use for interpolation. Extra paramters like reference_frequency                             minimum_frequency are also included. minimum_frequency will also relate to the mtot_max set inside                             the code. High mass blackholes tends to merge at lower frequency < f_min, and can have SNR=0\n",
      "snr_type           : method for SNR calculation. Values: 'interpolation', 'inner_product' \n",
      "\n",
      "psds               : psd dict.\n",
      "                       example_1=> when values are psd name from pycbc analytical psds, \n",
      "                       psds={'L1':'aLIGOaLIGODesignSensitivityT1800044','H1':'aLIGOaLIGODesignSensitivityT1800044','V1':'AdvVirgo'}\n",
      "                       to check available psd name run $ import pycbc.psd ; $ pycbc.psd.get_lalsim_psd_list()\n",
      "                       example_2=> when values are psd txt file in bilby,\n",
      "                       psds={'L1':'aLIGO_O4_high_asd.txt','H1':'aLIGO_O4_high_asd.txt', 'V1':'AdV_asd.txt', 'K1':'KAGRA_design_asd.txt'}\n",
      "                       For other psd files, check https://github.com/lscsoft/bilby/tree/master/bilby/gw/detector/noise_curves\n",
      "                       example_3=> when values are custom psd txt file.\n",
      "                       psds={'L1':'custom_psd.txt','H1':'custom_psd.txt'}\n",
      "                       custom created txt file has two columns. 1st column: frequency array, 2nd column: strain \n",
      "psd_file           : if set True, the given value of psds param should be of psds instead of asd. If asd, set psd_file=False.\n",
      "\u001b[0;31mFile:\u001b[0m           ~/phd/mypackages/gwsnr/gwsnr/gwsnr.py\n",
      "\u001b[0;31mType:\u001b[0m           type\n",
      "\u001b[0;31mSubclasses:\u001b[0m     "
     ]
    }
   ],
   "source": [
    "GWSNR?"
   ]
  },
  {
   "cell_type": "code",
   "execution_count": 4,
   "metadata": {},
   "outputs": [
    {
     "name": "stdout",
     "output_type": "stream",
     "text": [
      "Given: IMR waveform, {self.waveform_approximant}.\n",
      "psds not given. Choosing bilby's default psds\n",
      "given psds:  {'L1': 'aLIGO_O4_high_asd.txt', 'H1': 'aLIGO_O4_high_asd.txt', 'V1': 'AdV_asd.txt'}\n",
      "Interpolator will be loaded for L1 detector from ./interpolator_pickle/L1/halfSNR_dict_5.pickle\n",
      "Interpolator will be loaded for H1 detector from ./interpolator_pickle/H1/halfSNR_dict_5.pickle\n",
      "Interpolator will be loaded for V1 detector from ./interpolator_pickle/V1/halfSNR_dict_5.pickle\n"
     ]
    }
   ],
   "source": [
    "gwsnr = GWSNR(\n",
    "    npool=4,\n",
    "    mtot_min=2.0,\n",
    "    mtot_max=439.6,\n",
    "    nsamples_mtot=200,\n",
    "    nsamples_mass_ratio=500,\n",
    "    sampling_frequency=2048.0,\n",
    "    waveform_approximant='IMRPhenomXPHM',\n",
    "    minimum_frequency=20.0,\n",
    "    snr_type='interpolation',\n",
    "    waveform_inspiral_must_be_above_fmin=False,\n",
    "    psds=None,\n",
    "    psd_file=False,\n",
    "    ifos=None,\n",
    "    interpolator_dir='./interpolator_pickle',\n",
    ")"
   ]
  },
  {
   "cell_type": "code",
   "execution_count": 14,
   "metadata": {},
   "outputs": [],
   "source": [
    "bilby.core.utils.logger.disabled = True\n",
    "prior_default = bilby.gw.prior.BBHPriorDict()"
   ]
  },
  {
   "cell_type": "code",
   "execution_count": 23,
   "metadata": {},
   "outputs": [],
   "source": [
    "# luminosity distance\n",
    "nsamples = 10000\n",
    "dL = prior_default['luminosity_distance'].sample(nsamples)\n",
    "# mass prior\n",
    "m1 = prior_default['mass_1'].sample(nsamples)\n",
    "m2 = prior_default['mass_2'].sample(nsamples)"
   ]
  },
  {
   "cell_type": "code",
   "execution_count": 16,
   "metadata": {},
   "outputs": [
    {
     "data": {
      "image/png": "[encoded data removed]",
      "text/plain": [
       "<Figure size 640x480 with 1 Axes>"
      ]
     },
     "metadata": {},
     "output_type": "display_data"
    }
   ],
   "source": [
    "# plot histogram of dL\n",
    "plt.hist(dL, bins=100, density=True, alpha=0.5, label='dL')\n",
    "plt.show()"
   ]
  },
  {
   "cell_type": "code",
   "execution_count": null,
   "metadata": {},
   "outputs": [],
   "source": [
    "nsamples = 10000\n",
    "batch = 10000\n",
    "# specify minimum and maximum redshift\n",
    "zmin = 0.01\n",
    "zmax = 2\n",
    "# specify minimum and maximum mass\n",
    "mmin = 2\n",
    "mmax = 439.6\n",
    "\n",
    "# convert redshift to luminosity distance\n",
    "from astropy.cosmology import Planck18\n",
    "dL_min = Planck18.luminosity_distance(zmin).value \n",
    "dL_max = Planck18.luminosity_distance(zmax).value\n",
    "# print(\"Step 2: Simulation of unlensed CBCs\")\n",
    "# get priors\n",
    "\n",
    "# assume \n",
    "snr_th = 8\n",
    "# data1 (snr<7), data2 (7<snr<9), data3 (snr>9)\n",
    "data1, data2, data3 = [], [], []\n",
    "\n",
    "while True:\n",
    "    # draw associated angles\n",
    "    ra = prior_default[\"ra\"].sample(nsamples)\n",
    "    dec = prior_default[\"dec\"].sample(nsamples)\n",
    "    psi = prior_default[\"psi\"].sample(nsamples)\n",
    "    theta_jn = prior_default[\"theta_jn\"].sample(nsamples)\n",
    "    phase = prior_default[\"phase\"].sample(nsamples)\n",
    "    a_1 = prior_default[\"a_1\"].sample(nsamples)\n",
    "    a_2 = prior_default[\"a_2\"].sample(nsamples)\n",
    "    tilt_1 = prior_default[\"tilt_1\"].sample(nsamples)\n",
    "    tilt_2 = prior_default[\"tilt_2\"].sample(nsamples)\n",
    "    phi_12 = prior_default[\"phi_12\"].sample(nsamples)\n",
    "    phi_jl = prior_default[\"phi_jl\"].sample(nsamples)\n",
    "\n",
    "    # draw masses with uniform prior in m1 and m2\n",
    "    m_1 = np.random.uniform(low=mmin, high=mmax, size=nsamples)\n",
    "    m_2 = np.random.uniform(low=mmin, high=mmax, size=nsamples)\n",
    "    # if m_1 < m_2, swap them\n",
    "    m_1, m_2 = np.where(m_1 < m_2, (m_2, m_1), (m_1, m_2))\n",
    "    # draw luminosity distance\n",
    "    dL = np.random.uniform(low=dL_min, high=dL_max, size=nsamples)\n",
    "\n",
    "    # calculate snr\n",
    "    snr = gwsnr.snr(m_1, m_2, dL, ra, dec, psi, theta_jn, phase, a_1, a_2, tilt_1, tilt_2, phi_12, phi_jl)\n",
    "\n",
    "    # populate data1, data2, data3\n",
    "    if len(data1)<batch:\n",
    "        data1.append([m_1, m_2, dL, ra, dec, psi, theta_jn, phase, a_1, a_2, tilt_1, tilt_2, phi_12, phi_jl])\n",
    "    elif len(data2)<batch:\n",
    "        data2.append([m_1, m_2, dL, ra, dec, psi, theta_jn, phase, a_1, a_2, tilt_1, tilt_2, phi_12, phi_jl])\n",
    "    elif len(data3)<batch:\n",
    "        data3.append([m_1, m_2, dL, ra, dec, psi, theta_jn, phase, a_1, a_2, tilt_1, tilt_2, phi_12, phi_jl])\n",
    "    else:\n",
    "        break\n",
    "\n",
    "data1 = np.array(data1)\n",
    "data2 = np.array(data2)\n",
    "data3 = np.array(data3)\n"
   ]
  },
  {
   "cell_type": "code",
   "execution_count": 12,
   "metadata": {},
   "outputs": [],
   "source": []
  },
  {
   "cell_type": "code",
   "execution_count": 13,
   "metadata": {},
   "outputs": [
    {
     "data": {
      "text/plain": [
       "4.434262480323607"
      ]
     },
     "execution_count": 13,
     "metadata": {},
     "output_type": "execute_result"
    }
   ],
   "source": [
    "dL"
   ]
  },
  {
   "cell_type": "code",
   "execution_count": null,
   "metadata": {},
   "outputs": [],
   "source": []
  },
  {
   "cell_type": "code",
   "execution_count": null,
   "metadata": {},
   "outputs": [],
   "source": []
  },
  {
   "cell_type": "code",
   "execution_count": null,
   "metadata": {},
   "outputs": [],
   "source": []
  },
  {
   "cell_type": "code",
   "execution_count": null,
   "metadata": {},
   "outputs": [],
   "source": []
  },
  {
   "cell_type": "code",
   "execution_count": null,
   "metadata": {},
   "outputs": [],
   "source": []
  },
  {
   "cell_type": "markdown",
   "metadata": {},
   "source": []
  }
 ],
 "metadata": {
  "kernelspec": {
   "display_name": "lal",
   "language": "python",
   "name": "python3"
  },
  "language_info": {
   "codemirror_mode": {
    "name": "ipython",
    "version": 3
   },
   "file_extension": ".py",
   "mimetype": "text/x-python",
   "name": "python",
   "nbconvert_exporter": "python",
   "pygments_lexer": "ipython3",
   "version": "3.10.12"
  },
  "orig_nbformat": 4
 },
 "nbformat": 4,
 "nbformat_minor": 2
}
