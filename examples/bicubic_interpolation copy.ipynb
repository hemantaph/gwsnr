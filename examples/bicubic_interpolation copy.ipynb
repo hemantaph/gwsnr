{
 "cells": [
  {
   "cell_type": "markdown",
   "metadata": {},
   "source": [
    "# bicubic interpolation "
   ]
  },
  {
   "cell_type": "code",
   "execution_count": 77,
   "metadata": {},
   "outputs": [],
   "source": [
    "import numpy as np\n",
    "from scipy.interpolate import RectBivariateSpline, CubicSpline\n",
    "from numba import njit, jit\n",
    "\n",
    "# Example 2D grid (x, y) and corresponding function values z\n",
    "x = np.linspace(0., 5, 50)\n",
    "z = np.sin(x**2)  # Example function values\n",
    "fn_ = lambda x_: np.sin(x_**2)"
   ]
  },
  {
   "cell_type": "code",
   "execution_count": 78,
   "metadata": {},
   "outputs": [
    {
     "data": {
      "text/plain": [
       "array([0.        , 0.10204082, 0.20408163, 0.30612245, 0.40816327,\n",
       "       0.51020408, 0.6122449 , 0.71428571, 0.81632653, 0.91836735,\n",
       "       1.02040816, 1.12244898, 1.2244898 , 1.32653061, 1.42857143,\n",
       "       1.53061224, 1.63265306, 1.73469388, 1.83673469, 1.93877551,\n",
       "       2.04081633, 2.14285714, 2.24489796, 2.34693878, 2.44897959,\n",
       "       2.55102041, 2.65306122, 2.75510204, 2.85714286, 2.95918367,\n",
       "       3.06122449, 3.16326531, 3.26530612, 3.36734694, 3.46938776,\n",
       "       3.57142857, 3.67346939, 3.7755102 , 3.87755102, 3.97959184,\n",
       "       4.08163265, 4.18367347, 4.28571429, 4.3877551 , 4.48979592,\n",
       "       4.59183673, 4.69387755, 4.79591837, 4.89795918, 5.        ])"
      ]
     },
     "execution_count": 78,
     "metadata": {},
     "output_type": "execute_result"
    }
   ],
   "source": [
    "x"
   ]
  },
  {
   "cell_type": "code",
   "execution_count": 79,
   "metadata": {},
   "outputs": [],
   "source": [
    "interp_spline = CubicSpline(x, z, extrapolate=True)"
   ]
  },
  {
   "cell_type": "code",
   "execution_count": 80,
   "metadata": {},
   "outputs": [
    {
     "data": {
      "text/plain": [
       "array(0.00999975)"
      ]
     },
     "execution_count": 80,
     "metadata": {},
     "output_type": "execute_result"
    }
   ],
   "source": [
    "x_new = 0.1\n",
    "interp_spline(x_new)"
   ]
  },
  {
   "cell_type": "code",
   "execution_count": 81,
   "metadata": {},
   "outputs": [
    {
     "data": {
      "text/plain": [
       "0.009999833334166666"
      ]
     },
     "execution_count": 81,
     "metadata": {},
     "output_type": "execute_result"
    }
   ],
   "source": [
    "fn_(x_new)"
   ]
  },
  {
   "cell_type": "code",
   "execution_count": 82,
   "metadata": {},
   "outputs": [
    {
     "name": "stdout",
     "output_type": "stream",
     "text": [
      "0.1\n",
      "1\n"
     ]
    }
   ],
   "source": [
    "# vectorization\n",
    "# search for the nearest (but above) x and y\n",
    "x_idx = np.searchsorted(x, x_new)\n",
    "print(x_new)\n",
    "print(x_idx)"
   ]
  },
  {
   "cell_type": "code",
   "execution_count": 85,
   "metadata": {},
   "outputs": [
    {
     "data": {
      "text/plain": [
       "1"
      ]
     },
     "execution_count": 85,
     "metadata": {},
     "output_type": "execute_result"
    }
   ],
   "source": [
    "x_idx3"
   ]
  },
  {
   "cell_type": "code",
   "execution_count": 87,
   "metadata": {},
   "outputs": [],
   "source": [
    "# if x_idx-1==0:\n",
    "x_idx1 = x_idx-1\n",
    "x_idx2 = x_idx\n",
    "x_idx3 = x_idx+1\n",
    "x1, x2, x3 = x[x_idx1], x[x_idx2], x[x_idx3]\n",
    "z1, z2, z3 = z[x_idx1], z[x_idx2], z[x_idx3]\n",
    "\n",
    "matrixA = np.array([\n",
    "    [x1**3, x1**2, x1, 1, 0, 0, 0, 0],\n",
    "    [x2**3, x2**2, x2, 1, 0, 0, 0, 0],\n",
    "    [0, 0, 0, 0, x2**3, x2**2, x2, 1],\n",
    "    [0, 0, 0, 0, x3**3, x3**2, x3, 1],\n",
    "    [3*x2**2, 2*x2, 1, 0, -3*x2**2, -2*x2, -1, 0],\n",
    "    [6*x2, 2, 0, 0, -6*x2, -2, 0, 0],\n",
    "    [6*x1, 2, 0, 0, 0, 0, 0, 0],\n",
    "    [0, 0, 0, 0, 6*x3, 2, 0, 0]\n",
    "])\n",
    "\n",
    "matrixC = np.array([z1, z2, z2, z3, 0, 0, 0, 0])\n",
    "coeff = np.linalg.solve(matrixA, matrixC)\n",
    "matrixD = coeff[0:4]"
   ]
  },
  {
   "cell_type": "code",
   "execution_count": 88,
   "metadata": {},
   "outputs": [
    {
     "data": {
      "text/plain": [
       "0.010001969598909926"
      ]
     },
     "execution_count": 88,
     "metadata": {},
     "output_type": "execute_result"
    }
   ],
   "source": [
    "matrixB = np.array([x_new**3, x_new**2, x_new, 1])\n",
    "np.dot(matrixB, matrixD)"
   ]
  },
  {
   "cell_type": "code",
   "execution_count": 84,
   "metadata": {},
   "outputs": [],
   "source": [
    "# max_idx = len(x)\n",
    "# if not x_idx-1==0:\n",
    "x_idx1 = x_idx-2\n",
    "x_idx2 = x_idx-1\n",
    "x_idx3 = x_idx\n",
    "x_idx4 = x_idx+1\n",
    "x1, x2, x3, x4 = x[x_idx1], x[x_idx2], x[x_idx3], x[x_idx4]\n",
    "z1, z2, z3, z4 = z[x_idx1], z[x_idx2], z[x_idx3], z[x_idx4]\n",
    "\n",
    "matrixA = np.array([\n",
    "    [x1**3, x1**2, x1, 1, 0, 0, 0, 0, 0, 0, 0, 0],\n",
    "    [x2**3, x2**2, x2, 1, 0, 0, 0, 0, 0, 0, 0, 0],\n",
    "    [0, 0, 0, 0, x2**3, x2**2, x2, 1, 0, 0, 0, 0],\n",
    "    [0, 0, 0, 0, x3**3, x3**2, x3, 1, 0, 0, 0, 0],\n",
    "    [0, 0, 0, 0, 0, 0, 0, 0, x3**3, x3**2, x3, 1],\n",
    "    [0, 0, 0, 0, 0, 0, 0, 0, x4**3, x4**2, x4, 1],\n",
    "    [3*x2**2, 2*x2, 1, 0, -3*x2**2, -2*x2, -1, 0, 0, 0, 0, 0],\n",
    "    [0, 0, 0, 0, 3*x3**2, 2*x3, 1, 0, -3*x3**2, -2*x3, -1, 0],\n",
    "    [6*x2, 2, 0, 0, -6*x2, -2, 0, 0, 0, 0, 0, 0],\n",
    "    [0, 0, 0, 0, 6*x3, 2, 0, 0, -6*x3, -2, 0, 0],\n",
    "    [6*x1, 2, 0, 0, 0, 0, 0, 0, 0, 0, 0, 0],\n",
    "    [0, 0, 0, 0, 0, 0, 0, 0, 6*x4, 2, 0, 0],\n",
    "])\n",
    "\n",
    "matrixC = np.array([z1, z2, z2, z3, z3, z4, 0, 0, 0, 0, 0, 0])\n",
    "coeff = np.dot(np.linalg.inv(matrixA), matrixC)\n",
    "matrixD = coeff[4:8]\n"
   ]
  },
  {
   "cell_type": "code",
   "execution_count": 61,
   "metadata": {},
   "outputs": [
    {
     "data": {
      "text/plain": [
       "-0.2869920012417424"
      ]
     },
     "execution_count": 61,
     "metadata": {},
     "output_type": "execute_result"
    }
   ],
   "source": [
    "matrixB = np.array([x_new**3, x_new**2, x_new, 1])\n",
    "np.dot(matrixB, matrixD)"
   ]
  },
  {
   "cell_type": "code",
   "execution_count": 89,
   "metadata": {},
   "outputs": [
    {
     "name": "stdout",
     "output_type": "stream",
     "text": [
      "0.010203897251716384\n"
     ]
    }
   ],
   "source": [
    "# linear interpolation\n",
    "x1, x2 = x[x_idx-1], x[x_idx]\n",
    "z1, z2 = z[x_idx-1], z[x_idx]\n",
    "\n",
    "z_new = z1 + (z2-z1)/(x2-x1)*(x_new-x1)\n",
    "print(z_new)"
   ]
  },
  {
   "cell_type": "code",
   "execution_count": null,
   "metadata": {},
   "outputs": [],
   "source": []
  },
  {
   "cell_type": "code",
   "execution_count": 255,
   "metadata": {},
   "outputs": [],
   "source": [
    "@njit\n",
    "def cubic_spline_interpolator(xnew, coefficients, x):\n",
    "    # Handling extrapolation\n",
    "    i = np.searchsorted(x, xnew) - 1\n",
    "    idx1 = xnew <= x[0]\n",
    "    idx2 = xnew > x[-1]\n",
    "    i[idx1] = 0\n",
    "    i[idx2] = len(x) - 2\n",
    "\n",
    "    # Calculate the relative position within the interval\n",
    "    dx = xnew - x[i]\n",
    "\n",
    "    # Calculate the interpolated value\n",
    "    # Cubic polynomial: a + b*dx + c*dx^2 + d*dx^3\n",
    "    a, b, c, d = coefficients[:, i]\n",
    "    #result = a + b*dx + c*dx**2 + d*dx**3\n",
    "    result = d + c*dx + b*dx**2 + a*dx**3\n",
    "    return result"
   ]
  },
  {
   "cell_type": "code",
   "execution_count": null,
   "metadata": {},
   "outputs": [],
   "source": []
  }
 ],
 "metadata": {
  "kernelspec": {
   "display_name": "ler",
   "language": "python",
   "name": "ler"
  },
  "language_info": {
   "codemirror_mode": {
    "name": "ipython",
    "version": 3
   },
   "file_extension": ".py",
   "mimetype": "text/x-python",
   "name": "python",
   "nbconvert_exporter": "python",
   "pygments_lexer": "ipython3",
   "version": "3.10.12"
  }
 },
 "nbformat": 4,
 "nbformat_minor": 2
}
