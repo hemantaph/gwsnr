{
 "cells": [
  {
   "cell_type": "markdown",
   "metadata": {},
   "source": [
    "# ANN Model creation and testing\n",
    "\n",
    "## Contents\n",
    "\n",
    "1. Training data generation\n",
    "2. ANN model training and testing\n",
    "3. Implementation of the model in GWSNR"
   ]
  },
  {
   "cell_type": "code",
   "execution_count": 1,
   "metadata": {},
   "outputs": [],
   "source": [
    "# # If you have not installed the following packages, please uncomment and run the following command:\n",
    "# !pip install ler"
   ]
  },
  {
   "cell_type": "markdown",
   "metadata": {},
   "source": [
    "## 1. Training data generation\n",
    "\n",
    "* The training data is generated using [ler](https://ler.readthedocs.io/en/latest/) package.\n",
    "* Data needs to be trained for each detector separately.\n",
    "* I will choose 'L1' detector for this notebook with the following specified parameters:\n",
    "    * Sampling frequency : 2048 Hz\n",
    "    * waveform approximant : IMRPhenomXPHM\n",
    "    * minimum frequency : 20.0\n",
    "    * psd : aLIGO_O4_high_asd.txt from `pycbc` package"
   ]
  },
  {
   "cell_type": "code",
   "execution_count": 1,
   "metadata": {},
   "outputs": [],
   "source": [
    "import numpy as np\n",
    "import matplotlib.pyplot as plt\n",
    "from ler.utils import TrainingDataGenerator"
   ]
  },
  {
   "cell_type": "code",
   "execution_count": 2,
   "metadata": {},
   "outputs": [],
   "source": [
    "tdg = TrainingDataGenerator(\n",
    "    npool=8,  # number of processes\n",
    "    verbose=False, # set it to True if you are running the code for the first time\n",
    "    # GWSNR parameters\n",
    "    sampling_frequency=2048.,\n",
    "    waveform_approximant='IMRPhenomXPHM',  # spin-precessing waveform model\n",
    "    minimum_frequency=20.,\n",
    "    psds={'V1':'AdV_asd.txt'}, # chosen interferometer is 'L1'. If multiple interferometers are chosen, optimal network SNR will be considered.\n",
    "    spin_zero=False,\n",
    "    spin_precessing=True,\n",
    "    snr_type='inner_product',  # 'interpolation' or 'inner_product'\n",
    ")"
   ]
  },
  {
   "cell_type": "markdown",
   "metadata": {},
   "source": [
    "* `ler` package, by default, generates astrophysical signals that most likely will not be detected by the detector, i.e. low SNR signals.\n",
    "\n",
    "* But you want your ANN model to be sensitive to the signals that near the detection threshold.\n",
    "\n",
    "* So, I will generate most of the training data with SNR near the detection threshold.\n",
    "\n",
    "**Note:** Increase sample size of the training data to get better accuracy in the ANN model."
   ]
  },
  {
   "cell_type": "code",
   "execution_count": 3,
   "metadata": {},
   "outputs": [
    {
     "name": "stdout",
     "output_type": "stream",
     "text": [
      "\n",
      "Initializing GWRATES class...\n",
      "\n",
      "current size of the json file: 8397\n",
      "\n",
      "total event to collect: 10000\n",
      "\n"
     ]
    },
    {
     "name": "stderr",
     "output_type": "stream",
     "text": [
      "100%|████████████████████████████████████████████████████████████| 144/144 [00:00<00:00, 260.70it/s]\n"
     ]
    },
    {
     "name": "stdout",
     "output_type": "stream",
     "text": [
      "Collected number of events: 8487\n"
     ]
    },
    {
     "name": "stderr",
     "output_type": "stream",
     "text": [
      "100%|████████████████████████████████████████████████████████████| 161/161 [00:00<00:00, 268.47it/s]\n"
     ]
    },
    {
     "name": "stdout",
     "output_type": "stream",
     "text": [
      "Collected number of events: 8613\n"
     ]
    },
    {
     "name": "stderr",
     "output_type": "stream",
     "text": [
      "100%|████████████████████████████████████████████████████████████| 171/171 [00:00<00:00, 278.00it/s]\n"
     ]
    },
    {
     "name": "stdout",
     "output_type": "stream",
     "text": [
      "Collected number of events: 8721\n"
     ]
    },
    {
     "name": "stderr",
     "output_type": "stream",
     "text": [
      "100%|████████████████████████████████████████████████████████████| 213/213 [00:00<00:00, 304.72it/s]\n"
     ]
    },
    {
     "name": "stdout",
     "output_type": "stream",
     "text": [
      "Collected number of events: 8865\n"
     ]
    },
    {
     "name": "stderr",
     "output_type": "stream",
     "text": [
      "100%|████████████████████████████████████████████████████████████| 189/189 [00:00<00:00, 292.19it/s]\n"
     ]
    },
    {
     "name": "stdout",
     "output_type": "stream",
     "text": [
      "Collected number of events: 9009\n"
     ]
    },
    {
     "name": "stderr",
     "output_type": "stream",
     "text": [
      "100%|████████████████████████████████████████████████████████████| 108/108 [00:00<00:00, 214.69it/s]\n"
     ]
    },
    {
     "name": "stdout",
     "output_type": "stream",
     "text": [
      "Collected number of events: 9054\n"
     ]
    },
    {
     "name": "stderr",
     "output_type": "stream",
     "text": [
      "100%|████████████████████████████████████████████████████████████| 153/153 [00:00<00:00, 274.24it/s]\n"
     ]
    },
    {
     "name": "stdout",
     "output_type": "stream",
     "text": [
      "Collected number of events: 9126\n"
     ]
    },
    {
     "name": "stderr",
     "output_type": "stream",
     "text": [
      "100%|████████████████████████████████████████████████████████████| 231/231 [00:00<00:00, 312.34it/s]\n"
     ]
    },
    {
     "name": "stdout",
     "output_type": "stream",
     "text": [
      "Collected number of events: 9297\n"
     ]
    },
    {
     "name": "stderr",
     "output_type": "stream",
     "text": [
      "100%|████████████████████████████████████████████████████████████| 152/152 [00:00<00:00, 255.09it/s]\n"
     ]
    },
    {
     "name": "stdout",
     "output_type": "stream",
     "text": [
      "Collected number of events: 9405\n"
     ]
    },
    {
     "name": "stderr",
     "output_type": "stream",
     "text": [
      "100%|████████████████████████████████████████████████████████████| 117/117 [00:00<00:00, 223.55it/s]\n"
     ]
    },
    {
     "name": "stdout",
     "output_type": "stream",
     "text": [
      "Collected number of events: 9477\n"
     ]
    },
    {
     "name": "stderr",
     "output_type": "stream",
     "text": [
      "100%|████████████████████████████████████████████████████████████| 108/108 [00:00<00:00, 201.90it/s]\n"
     ]
    },
    {
     "name": "stdout",
     "output_type": "stream",
     "text": [
      "Collected number of events: 9531\n"
     ]
    },
    {
     "name": "stderr",
     "output_type": "stream",
     "text": [
      "100%|████████████████████████████████████████████████████████████| 126/126 [00:00<00:00, 229.30it/s]\n"
     ]
    },
    {
     "name": "stdout",
     "output_type": "stream",
     "text": [
      "Collected number of events: 9639\n"
     ]
    },
    {
     "name": "stderr",
     "output_type": "stream",
     "text": [
      "100%|████████████████████████████████████████████████████████████| 188/188 [00:00<00:00, 289.85it/s]\n"
     ]
    },
    {
     "name": "stdout",
     "output_type": "stream",
     "text": [
      "Collected number of events: 9783\n"
     ]
    },
    {
     "name": "stderr",
     "output_type": "stream",
     "text": [
      "100%|████████████████████████████████████████████████████████████| 225/225 [00:00<00:00, 313.44it/s]\n"
     ]
    },
    {
     "name": "stdout",
     "output_type": "stream",
     "text": [
      "Collected number of events: 9927\n"
     ]
    },
    {
     "name": "stderr",
     "output_type": "stream",
     "text": [
      "100%|████████████████████████████████████████████████████████████| 162/162 [00:00<00:00, 258.57it/s]\n"
     ]
    },
    {
     "name": "stdout",
     "output_type": "stream",
     "text": [
      "Collected number of events: 10062\n",
      "final size: 10062\n",
      "\n",
      "json file saved at: ./ler_data/IMRPhenomXPHM_O4_high_asd_V1_1.json\n",
      "\n"
     ]
    }
   ],
   "source": [
    "# might take 13mins~15mins\n",
    "# 48 mins 43.4 s, 20000 samples with 8 processes and batch_size=400000\n",
    "ler = tdg.gw_parameters_generator(\n",
    "    size=10000,  # number of samples to generate\n",
    "    batch_size=400000,  # reduce this number if you have memory issues\n",
    "    snr_recalculation=True,  # pick SNR generated with 'interpolation'; recalculate SNR using 'inner product'\n",
    "    trim_to_size=False, verbose=True,\n",
    "    data_distribution_range = [0., 2., 4., 6., 8., 10., 12., 14., 16., 100.],  # equal data samples will be distributed in these ranges\n",
    "    replace=False,  # set to True if you want to replace the existing data\n",
    "    output_jsonfile=\"IMRPhenomXPHM_O4_high_asd_V1_1.json\",\n",
    ")"
   ]
  },
  {
   "cell_type": "code",
   "execution_count": null,
   "metadata": {},
   "outputs": [],
   "source": []
  },
  {
   "cell_type": "code",
   "execution_count": 3,
   "metadata": {},
   "outputs": [
    {
     "name": "stdout",
     "output_type": "stream",
     "text": [
      "\n",
      "Initializing GWRATES class...\n",
      "\n",
      "current size of the json file: 5070\n",
      "\n",
      "total event to collect: 5000\n",
      "\n",
      "final size: 5070\n",
      "\n",
      "json file saved at: ./ler_data/IMRPhenomXPHM_O4_high_asd_V1_2.json\n",
      "\n"
     ]
    }
   ],
   "source": [
    "# might take 2mins~3mins\n",
    "# 10 mins 0.7 s, 10000 samples with 8 processes and batch_size=200000  \n",
    "tdg.gw_parameters_generator(\n",
    "    size=5000, \n",
    "    batch_size=200000, \n",
    "    snr_recalculation=True,\n",
    "    trim_to_size=False, verbose=True, \n",
    "    data_distribution_range = [4., 8., 12.], # equal data samples will be distributed in these ranges\n",
    "    replace=False,\n",
    "    output_jsonfile=\"IMRPhenomXPHM_O4_high_asd_V1_2.json\",\n",
    ")"
   ]
  },
  {
   "cell_type": "code",
   "execution_count": 4,
   "metadata": {},
   "outputs": [
    {
     "name": "stdout",
     "output_type": "stream",
     "text": [
      "\n",
      "Initializing GWRATES class...\n",
      "\n",
      "total event to collect: 10000\n",
      "\n",
      "final size: 10000\n",
      "\n",
      "json file saved at: ./ler_data/IMRPhenomXPHM_O4_high_asd_V1_3.json\n",
      "\n"
     ]
    }
   ],
   "source": [
    "tdg.gw_parameters_generator(\n",
    "    size=10000,\n",
    "    batch_size=10000, \n",
    "    snr_recalculation=True,\n",
    "    trim_to_size=False, \n",
    "    verbose=False, \n",
    "    data_distribution_range = None,\n",
    "    replace=True,\n",
    "    output_jsonfile=\"IMRPhenomXPHM_O4_high_asd_V1_3.json\",\n",
    ")"
   ]
  },
  {
   "cell_type": "markdown",
   "metadata": {},
   "source": [
    "### Additional random samples"
   ]
  },
  {
   "cell_type": "code",
   "execution_count": 5,
   "metadata": {},
   "outputs": [
    {
     "name": "stdout",
     "output_type": "stream",
     "text": [
      "\n",
      "Initializing GWSNR class...\n",
      "\n",
      "Intel processor has trouble allocating memory when the data is huge. So, by default for IMRPhenomXPHM, duration_max = 64.0. Otherwise, set to some max value like duration_max = 600.0 (10 mins)\n",
      "\n",
      "Chosen GWSNR initialization parameters:\n",
      "\n",
      "npool:  8\n",
      "snr type:  inner_product\n",
      "waveform approximant:  IMRPhenomXPHM\n",
      "sampling frequency:  2048.0\n",
      "minimum frequency (fmin):  20.0\n",
      "mtot=mass1+mass2\n",
      "min(mtot):  9.96\n",
      "max(mtot) (with the given fmin=20.0): 235.0\n",
      "detectors:  ['V1']\n",
      "psds:  [PowerSpectralDensity(psd_file='None', asd_file='/Users/phurailatpamhemantakumar/anaconda3/envs/ler/lib/python3.10/site-packages/bilby/gw/detector/noise_curves/AdV_asd.txt')]\n",
      "\n",
      "\n"
     ]
    }
   ],
   "source": [
    "from gwsnr import GWSNR\n",
    "import numpy as np\n",
    "\n",
    "gwsnr = GWSNR(\n",
    "    npool=8,  # number of processes\n",
    "    # GWSNR parameters\n",
    "    sampling_frequency=2048.,\n",
    "    waveform_approximant='IMRPhenomXPHM',  # spin-precessing waveform model\n",
    "    minimum_frequency=20.,\n",
    "    psds={'V1':'AdV_asd.txt'}, # chosen interferometer is 'L1'. If multiple network SNR will be considered.\n",
    "    snr_type='inner_product',  # 'interpolation' or 'inner_product'\n",
    ")"
   ]
  },
  {
   "cell_type": "code",
   "execution_count": 6,
   "metadata": {},
   "outputs": [
    {
     "name": "stdout",
     "output_type": "stream",
     "text": [
      "solving SNR with inner product\n"
     ]
    },
    {
     "name": "stderr",
     "output_type": "stream",
     "text": [
      "100%|███████████████████████████████████████████████████████| 50000/50000 [00:38<00:00, 1313.88it/s]\n"
     ]
    }
   ],
   "source": [
    "# gerneral case, random parameters\n",
    "np.random.seed(64)\n",
    "nsamples = 50000\n",
    "mtot = np.random.uniform(2*4.98, 2*112.5,nsamples)\n",
    "mass_ratio = np.random.uniform(0.2,1,size=nsamples)\n",
    "param_dict = dict(\n",
    "    # convert to component masses\n",
    "    mass_1 = mtot / (1 + mass_ratio),\n",
    "    mass_2 = mtot * mass_ratio / (1 + mass_ratio),\n",
    "    # Fix luminosity distance\n",
    "    luminosity_distance = np.random.uniform(40, 10000, size=nsamples),  # Random luminosity distance between 40 and 10000 Mpc\n",
    "    # Randomly sample everything else:\n",
    "    theta_jn = np.random.uniform(0,2*np.pi, size=nsamples),\n",
    "    ra = np.random.uniform(0,2*np.pi, size=nsamples), \n",
    "    dec = np.random.uniform(-np.pi/2,np.pi/2, size=nsamples), \n",
    "    psi = np.random.uniform(0,2*np.pi, size=nsamples),\n",
    "    phase = np.random.uniform(0,2*np.pi, size=nsamples),\n",
    "    geocent_time = 1246527224.169434*np.ones(nsamples),\n",
    "    # spin zero\n",
    "    a_1 = np.random.uniform(0.0,0.8, size=nsamples),\n",
    "    a_2 = np.random.uniform(0.0,0.8, size=nsamples),\n",
    "    tilt_1 = np.random.uniform(0, np.pi, size=nsamples),  # tilt angle of the primary black hole in radians\n",
    "    tilt_2 = np.random.uniform(0, np.pi, size=nsamples),\n",
    "    phi_12 = np.random.uniform(0, 2*np.pi, size=nsamples),  # Relative angle between the primary and secondary spin of the binary in radians\n",
    "    phi_jl = np.random.uniform(0, 2*np.pi, size=nsamples),  # Angle between the total angular momentum and the orbital angular momentum in radians\n",
    ")\n",
    "\n",
    "snrs_ = gwsnr.snr(gw_param_dict=param_dict)\n",
    "# time: 0.2 s for 50000 samples with 8 processes"
   ]
  },
  {
   "cell_type": "code",
   "execution_count": 7,
   "metadata": {},
   "outputs": [],
   "source": [
    "param_dict.update(snrs_)\n",
    "from gwsnr.utils import append_json\n",
    "append_json(\n",
    "    file_name=\"ler_data/IMRPhenomXPHM_O4_high_asd_V1_4.json\", \n",
    "    new_dictionary =param_dict,\n",
    "    replace=True,  # set to True if you want to replace the existing data\n",
    ");"
   ]
  },
  {
   "cell_type": "code",
   "execution_count": null,
   "metadata": {},
   "outputs": [],
   "source": []
  },
  {
   "cell_type": "markdown",
   "metadata": {},
   "source": [
    "### Combine all the data files into one"
   ]
  },
  {
   "cell_type": "markdown",
   "metadata": {},
   "source": [
    "## V1 detector"
   ]
  },
  {
   "cell_type": "code",
   "execution_count": 6,
   "metadata": {},
   "outputs": [
    {
     "name": "stdout",
     "output_type": "stream",
     "text": [
      "json file saved at: ./ler_data/IMRPhenomXPHM_O4_high_asd_V1.json\n",
      "\n"
     ]
    }
   ],
   "source": [
    "import numpy as np\n",
    "import matplotlib.pyplot as plt\n",
    "from ler.utils import TrainingDataGenerator\n",
    "\n",
    "tdg = TrainingDataGenerator()\n",
    "tdg.combine_dicts(\n",
    "    file_name_list=[\"IMRPhenomXPHM_O4_high_asd_V1_1.json\", \"IMRPhenomXPHM_O4_high_asd_V1_2.json\", \"IMRPhenomXPHM_O4_high_asd_V1_3.json\", \"IMRPhenomXPHM_O4_high_asd_V1_4.json\"],\n",
    "    detector='V1',\n",
    "    output_jsonfile=\"IMRPhenomXPHM_O4_high_asd_V1.json\",\n",
    ")"
   ]
  },
  {
   "cell_type": "code",
   "execution_count": 13,
   "metadata": {},
   "outputs": [],
   "source": [
    "# from gwsnr.utils import get_param_from_json\n",
    "# test1 = get_param_from_json(\"./ler_data/IMRPhenomXPHM_O4_high_asd_V1.json\")\n",
    "\n",
    "# snr = np.array(test1['V1'])\n",
    "# print(f\"Number of samples: {len(snr)}\")\n",
    "\n",
    "# plt.figure(figsize=[4,4])\n",
    "# plt.hist(snr, bins=100, density=True, alpha=0.5, color='b', histtype='step', label='L1')\n",
    "# plt.xlim([0, 40])\n",
    "# plt.xlabel('Optimal SNR')\n",
    "# plt.ylabel('Density')\n",
    "# plt.legend()\n",
    "# plt.show()"
   ]
  },
  {
   "cell_type": "markdown",
   "metadata": {},
   "source": [
    "### ANN model training and testing"
   ]
  },
  {
   "cell_type": "code",
   "execution_count": 7,
   "metadata": {},
   "outputs": [],
   "source": [
    "import numpy as np\n",
    "import matplotlib.pyplot as plt\n",
    "from gwsnr.ann import ANNModelGenerator"
   ]
  },
  {
   "cell_type": "code",
   "execution_count": 8,
   "metadata": {},
   "outputs": [
    {
     "name": "stdout",
     "output_type": "stream",
     "text": [
      "\n",
      "Initializing GWSNR class...\n",
      "\n",
      "Intel processor has trouble allocating memory when the data is huge. So, by default for IMRPhenomXPHM, duration_max = 64.0. Otherwise, set to some max value like duration_max = 600.0 (10 mins)\n",
      "Interpolator will be loaded for V1 detector from ./interpolator_pickle/V1/partialSNR_dict_1.pickle\n",
      "\n",
      "\n"
     ]
    }
   ],
   "source": [
    "amg = ANNModelGenerator(\n",
    "    directory='./ann_data',\n",
    "    npool=8,\n",
    "    gwsnr_verbose=False,\n",
    "    snr_th=8.0,\n",
    "    waveform_approximant=\"IMRPhenomXPHM\",\n",
    "    psds={'V1': 'AdV_asd.txt'},  \n",
    ")"
   ]
  },
  {
   "cell_type": "code",
   "execution_count": 9,
   "metadata": {},
   "outputs": [
    {
     "name": "stdout",
     "output_type": "stream",
     "text": [
      "Epoch 1/100\n",
      "\u001b[1m2114/2114\u001b[0m \u001b[32m━━━━━━━━━━━━━━━━━━━━\u001b[0m\u001b[37m\u001b[0m \u001b[1m1s\u001b[0m 331us/step - accuracy: 4.9722e-04 - loss: 634.2419\n",
      "Epoch 2/100\n",
      "\u001b[1m2114/2114\u001b[0m \u001b[32m━━━━━━━━━━━━━━━━━━━━\u001b[0m\u001b[37m\u001b[0m \u001b[1m1s\u001b[0m 312us/step - accuracy: 6.1082e-04 - loss: 531.6430\n",
      "Epoch 3/100\n",
      "\u001b[1m2114/2114\u001b[0m \u001b[32m━━━━━━━━━━━━━━━━━━━━\u001b[0m\u001b[37m\u001b[0m \u001b[1m1s\u001b[0m 318us/step - accuracy: 7.5976e-04 - loss: 512.5308\n",
      "Epoch 4/100\n",
      "\u001b[1m2114/2114\u001b[0m \u001b[32m━━━━━━━━━━━━━━━━━━━━\u001b[0m\u001b[37m\u001b[0m \u001b[1m1s\u001b[0m 327us/step - accuracy: 5.8624e-04 - loss: 420.2160\n",
      "Epoch 5/100\n",
      "\u001b[1m2114/2114\u001b[0m \u001b[32m━━━━━━━━━━━━━━━━━━━━\u001b[0m\u001b[37m\u001b[0m \u001b[1m1s\u001b[0m 325us/step - accuracy: 9.7015e-04 - loss: 382.3360\n",
      "Epoch 6/100\n",
      "\u001b[1m2114/2114\u001b[0m \u001b[32m━━━━━━━━━━━━━━━━━━━━\u001b[0m\u001b[37m\u001b[0m \u001b[1m1s\u001b[0m 315us/step - accuracy: 0.0012 - loss: 446.1954\n",
      "Epoch 7/100\n",
      "\u001b[1m2114/2114\u001b[0m \u001b[32m━━━━━━━━━━━━━━━━━━━━\u001b[0m\u001b[37m\u001b[0m \u001b[1m1s\u001b[0m 321us/step - accuracy: 0.0011 - loss: 365.3071\n",
      "Epoch 8/100\n",
      "\u001b[1m2114/2114\u001b[0m \u001b[32m━━━━━━━━━━━━━━━━━━━━\u001b[0m\u001b[37m\u001b[0m \u001b[1m1s\u001b[0m 312us/step - accuracy: 9.2758e-04 - loss: 364.1766\n",
      "Epoch 9/100\n",
      "\u001b[1m2114/2114\u001b[0m \u001b[32m━━━━━━━━━━━━━━━━━━━━\u001b[0m\u001b[37m\u001b[0m \u001b[1m1s\u001b[0m 325us/step - accuracy: 0.0011 - loss: 313.1184\n",
      "Epoch 10/100\n",
      "\u001b[1m2114/2114\u001b[0m \u001b[32m━━━━━━━━━━━━━━━━━━━━\u001b[0m\u001b[37m\u001b[0m \u001b[1m1s\u001b[0m 316us/step - accuracy: 0.0012 - loss: 240.2306\n",
      "Epoch 11/100\n",
      "\u001b[1m2114/2114\u001b[0m \u001b[32m━━━━━━━━━━━━━━━━━━━━\u001b[0m\u001b[37m\u001b[0m \u001b[1m1s\u001b[0m 311us/step - accuracy: 0.0011 - loss: 212.0592\n",
      "Epoch 12/100\n",
      "\u001b[1m2114/2114\u001b[0m \u001b[32m━━━━━━━━━━━━━━━━━━━━\u001b[0m\u001b[37m\u001b[0m \u001b[1m1s\u001b[0m 356us/step - accuracy: 0.0011 - loss: 246.3936\n",
      "Epoch 13/100\n",
      "\u001b[1m2114/2114\u001b[0m \u001b[32m━━━━━━━━━━━━━━━━━━━━\u001b[0m\u001b[37m\u001b[0m \u001b[1m1s\u001b[0m 313us/step - accuracy: 0.0013 - loss: 173.5179\n",
      "Epoch 14/100\n",
      "\u001b[1m2114/2114\u001b[0m \u001b[32m━━━━━━━━━━━━━━━━━━━━\u001b[0m\u001b[37m\u001b[0m \u001b[1m1s\u001b[0m 321us/step - accuracy: 0.0016 - loss: 164.2672\n",
      "Epoch 15/100\n",
      "\u001b[1m2114/2114\u001b[0m \u001b[32m━━━━━━━━━━━━━━━━━━━━\u001b[0m\u001b[37m\u001b[0m \u001b[1m1s\u001b[0m 318us/step - accuracy: 0.0012 - loss: 142.3115\n",
      "Epoch 16/100\n",
      "\u001b[1m2114/2114\u001b[0m \u001b[32m━━━━━━━━━━━━━━━━━━━━\u001b[0m\u001b[37m\u001b[0m \u001b[1m1s\u001b[0m 312us/step - accuracy: 0.0015 - loss: 141.1275\n",
      "Epoch 17/100\n",
      "\u001b[1m2114/2114\u001b[0m \u001b[32m━━━━━━━━━━━━━━━━━━━━\u001b[0m\u001b[37m\u001b[0m \u001b[1m1s\u001b[0m 321us/step - accuracy: 0.0018 - loss: 129.4894\n",
      "Epoch 18/100\n",
      "\u001b[1m2114/2114\u001b[0m \u001b[32m━━━━━━━━━━━━━━━━━━━━\u001b[0m\u001b[37m\u001b[0m \u001b[1m1s\u001b[0m 309us/step - accuracy: 0.0019 - loss: 184.2175\n",
      "Epoch 19/100\n",
      "\u001b[1m2114/2114\u001b[0m \u001b[32m━━━━━━━━━━━━━━━━━━━━\u001b[0m\u001b[37m\u001b[0m \u001b[1m1s\u001b[0m 312us/step - accuracy: 0.0017 - loss: 130.0166\n",
      "Epoch 20/100\n",
      "\u001b[1m2114/2114\u001b[0m \u001b[32m━━━━━━━━━━━━━━━━━━━━\u001b[0m\u001b[37m\u001b[0m \u001b[1m1s\u001b[0m 309us/step - accuracy: 0.0015 - loss: 173.1753\n",
      "Epoch 21/100\n",
      "\u001b[1m2114/2114\u001b[0m \u001b[32m━━━━━━━━━━━━━━━━━━━━\u001b[0m\u001b[37m\u001b[0m \u001b[1m1s\u001b[0m 314us/step - accuracy: 0.0018 - loss: 135.1954\n",
      "Epoch 22/100\n",
      "\u001b[1m2114/2114\u001b[0m \u001b[32m━━━━━━━━━━━━━━━━━━━━\u001b[0m\u001b[37m\u001b[0m \u001b[1m1s\u001b[0m 309us/step - accuracy: 0.0015 - loss: 108.0055\n",
      "Epoch 23/100\n",
      "\u001b[1m2114/2114\u001b[0m \u001b[32m━━━━━━━━━━━━━━━━━━━━\u001b[0m\u001b[37m\u001b[0m \u001b[1m1s\u001b[0m 314us/step - accuracy: 0.0019 - loss: 106.8267\n",
      "Epoch 24/100\n",
      "\u001b[1m2114/2114\u001b[0m \u001b[32m━━━━━━━━━━━━━━━━━━━━\u001b[0m\u001b[37m\u001b[0m \u001b[1m1s\u001b[0m 307us/step - accuracy: 0.0020 - loss: 122.2862\n",
      "Epoch 25/100\n",
      "\u001b[1m2114/2114\u001b[0m \u001b[32m━━━━━━━━━━━━━━━━━━━━\u001b[0m\u001b[37m\u001b[0m \u001b[1m1s\u001b[0m 312us/step - accuracy: 0.0019 - loss: 93.1115\n",
      "Epoch 26/100\n",
      "\u001b[1m2114/2114\u001b[0m \u001b[32m━━━━━━━━━━━━━━━━━━━━\u001b[0m\u001b[37m\u001b[0m \u001b[1m1s\u001b[0m 300us/step - accuracy: 0.0018 - loss: 92.9218\n",
      "Epoch 27/100\n",
      "\u001b[1m2114/2114\u001b[0m \u001b[32m━━━━━━━━━━━━━━━━━━━━\u001b[0m\u001b[37m\u001b[0m \u001b[1m1s\u001b[0m 346us/step - accuracy: 0.0020 - loss: 95.1183\n",
      "Epoch 28/100\n",
      "\u001b[1m2114/2114\u001b[0m \u001b[32m━━━━━━━━━━━━━━━━━━━━\u001b[0m\u001b[37m\u001b[0m \u001b[1m1s\u001b[0m 307us/step - accuracy: 0.0021 - loss: 106.1340\n",
      "Epoch 29/100\n",
      "\u001b[1m2114/2114\u001b[0m \u001b[32m━━━━━━━━━━━━━━━━━━━━\u001b[0m\u001b[37m\u001b[0m \u001b[1m1s\u001b[0m 301us/step - accuracy: 0.0019 - loss: 91.4352\n",
      "Epoch 30/100\n",
      "\u001b[1m2114/2114\u001b[0m \u001b[32m━━━━━━━━━━━━━━━━━━━━\u001b[0m\u001b[37m\u001b[0m \u001b[1m1s\u001b[0m 299us/step - accuracy: 0.0018 - loss: 101.9172\n",
      "Epoch 31/100\n",
      "\u001b[1m2114/2114\u001b[0m \u001b[32m━━━━━━━━━━━━━━━━━━━━\u001b[0m\u001b[37m\u001b[0m \u001b[1m1s\u001b[0m 297us/step - accuracy: 0.0018 - loss: 100.1532\n",
      "Epoch 32/100\n",
      "\u001b[1m2114/2114\u001b[0m \u001b[32m━━━━━━━━━━━━━━━━━━━━\u001b[0m\u001b[37m\u001b[0m \u001b[1m1s\u001b[0m 297us/step - accuracy: 0.0020 - loss: 67.6877\n",
      "Epoch 33/100\n",
      "\u001b[1m2114/2114\u001b[0m \u001b[32m━━━━━━━━━━━━━━━━━━━━\u001b[0m\u001b[37m\u001b[0m \u001b[1m1s\u001b[0m 306us/step - accuracy: 0.0021 - loss: 64.8185\n",
      "Epoch 34/100\n",
      "\u001b[1m2114/2114\u001b[0m \u001b[32m━━━━━━━━━━━━━━━━━━━━\u001b[0m\u001b[37m\u001b[0m \u001b[1m1s\u001b[0m 312us/step - accuracy: 0.0018 - loss: 75.7193\n",
      "Epoch 35/100\n",
      "\u001b[1m2114/2114\u001b[0m \u001b[32m━━━━━━━━━━━━━━━━━━━━\u001b[0m\u001b[37m\u001b[0m \u001b[1m1s\u001b[0m 307us/step - accuracy: 0.0021 - loss: 84.0345\n",
      "Epoch 36/100\n",
      "\u001b[1m2114/2114\u001b[0m \u001b[32m━━━━━━━━━━━━━━━━━━━━\u001b[0m\u001b[37m\u001b[0m \u001b[1m1s\u001b[0m 319us/step - accuracy: 0.0015 - loss: 64.5812\n",
      "Epoch 37/100\n",
      "\u001b[1m2114/2114\u001b[0m \u001b[32m━━━━━━━━━━━━━━━━━━━━\u001b[0m\u001b[37m\u001b[0m \u001b[1m1s\u001b[0m 324us/step - accuracy: 0.0018 - loss: 64.7468\n",
      "Epoch 38/100\n",
      "\u001b[1m2114/2114\u001b[0m \u001b[32m━━━━━━━━━━━━━━━━━━━━\u001b[0m\u001b[37m\u001b[0m \u001b[1m1s\u001b[0m 321us/step - accuracy: 0.0016 - loss: 87.1702\n",
      "Epoch 39/100\n",
      "\u001b[1m2114/2114\u001b[0m \u001b[32m━━━━━━━━━━━━━━━━━━━━\u001b[0m\u001b[37m\u001b[0m \u001b[1m1s\u001b[0m 324us/step - accuracy: 0.0019 - loss: 44.2729\n",
      "Epoch 40/100\n",
      "\u001b[1m2114/2114\u001b[0m \u001b[32m━━━━━━━━━━━━━━━━━━━━\u001b[0m\u001b[37m\u001b[0m \u001b[1m1s\u001b[0m 353us/step - accuracy: 0.0019 - loss: 91.4910\n",
      "Epoch 41/100\n",
      "\u001b[1m2114/2114\u001b[0m \u001b[32m━━━━━━━━━━━━━━━━━━━━\u001b[0m\u001b[37m\u001b[0m \u001b[1m1s\u001b[0m 324us/step - accuracy: 0.0021 - loss: 41.7079\n",
      "Epoch 42/100\n",
      "\u001b[1m2114/2114\u001b[0m \u001b[32m━━━━━━━━━━━━━━━━━━━━\u001b[0m\u001b[37m\u001b[0m \u001b[1m1s\u001b[0m 336us/step - accuracy: 0.0022 - loss: 68.6522\n",
      "Epoch 43/100\n",
      "\u001b[1m2114/2114\u001b[0m \u001b[32m━━━━━━━━━━━━━━━━━━━━\u001b[0m\u001b[37m\u001b[0m \u001b[1m1s\u001b[0m 326us/step - accuracy: 0.0017 - loss: 62.2947\n",
      "Epoch 44/100\n",
      "\u001b[1m2114/2114\u001b[0m \u001b[32m━━━━━━━━━━━━━━━━━━━━\u001b[0m\u001b[37m\u001b[0m \u001b[1m1s\u001b[0m 321us/step - accuracy: 0.0017 - loss: 58.8529\n",
      "Epoch 45/100\n",
      "\u001b[1m2114/2114\u001b[0m \u001b[32m━━━━━━━━━━━━━━━━━━━━\u001b[0m\u001b[37m\u001b[0m \u001b[1m1s\u001b[0m 322us/step - accuracy: 0.0018 - loss: 59.3220\n",
      "Epoch 46/100\n",
      "\u001b[1m2114/2114\u001b[0m \u001b[32m━━━━━━━━━━━━━━━━━━━━\u001b[0m\u001b[37m\u001b[0m \u001b[1m1s\u001b[0m 304us/step - accuracy: 0.0018 - loss: 60.3810\n",
      "Epoch 47/100\n",
      "\u001b[1m2114/2114\u001b[0m \u001b[32m━━━━━━━━━━━━━━━━━━━━\u001b[0m\u001b[37m\u001b[0m \u001b[1m1s\u001b[0m 330us/step - accuracy: 0.0026 - loss: 69.3106\n",
      "Epoch 48/100\n",
      "\u001b[1m2114/2114\u001b[0m \u001b[32m━━━━━━━━━━━━━━━━━━━━\u001b[0m\u001b[37m\u001b[0m \u001b[1m1s\u001b[0m 320us/step - accuracy: 0.0016 - loss: 41.5503\n",
      "Epoch 49/100\n",
      "\u001b[1m2114/2114\u001b[0m \u001b[32m━━━━━━━━━━━━━━━━━━━━\u001b[0m\u001b[37m\u001b[0m \u001b[1m1s\u001b[0m 339us/step - accuracy: 0.0021 - loss: 46.4616\n",
      "Epoch 50/100\n",
      "\u001b[1m2114/2114\u001b[0m \u001b[32m━━━━━━━━━━━━━━━━━━━━\u001b[0m\u001b[37m\u001b[0m \u001b[1m1s\u001b[0m 304us/step - accuracy: 0.0020 - loss: 35.7064\n",
      "Epoch 51/100\n",
      "\u001b[1m2114/2114\u001b[0m \u001b[32m━━━━━━━━━━━━━━━━━━━━\u001b[0m\u001b[37m\u001b[0m \u001b[1m1s\u001b[0m 296us/step - accuracy: 0.0018 - loss: 42.2540\n",
      "Epoch 52/100\n",
      "\u001b[1m2114/2114\u001b[0m \u001b[32m━━━━━━━━━━━━━━━━━━━━\u001b[0m\u001b[37m\u001b[0m \u001b[1m1s\u001b[0m 308us/step - accuracy: 0.0016 - loss: 38.8075\n",
      "Epoch 53/100\n",
      "\u001b[1m2114/2114\u001b[0m \u001b[32m━━━━━━━━━━━━━━━━━━━━\u001b[0m\u001b[37m\u001b[0m \u001b[1m1s\u001b[0m 329us/step - accuracy: 0.0014 - loss: 56.6096\n",
      "Epoch 54/100\n",
      "\u001b[1m2114/2114\u001b[0m \u001b[32m━━━━━━━━━━━━━━━━━━━━\u001b[0m\u001b[37m\u001b[0m \u001b[1m1s\u001b[0m 302us/step - accuracy: 0.0014 - loss: 51.7963\n",
      "Epoch 55/100\n",
      "\u001b[1m2114/2114\u001b[0m \u001b[32m━━━━━━━━━━━━━━━━━━━━\u001b[0m\u001b[37m\u001b[0m \u001b[1m1s\u001b[0m 332us/step - accuracy: 0.0015 - loss: 50.9346\n",
      "Epoch 56/100\n",
      "\u001b[1m2114/2114\u001b[0m \u001b[32m━━━━━━━━━━━━━━━━━━━━\u001b[0m\u001b[37m\u001b[0m \u001b[1m1s\u001b[0m 315us/step - accuracy: 0.0020 - loss: 43.7647\n",
      "Epoch 57/100\n",
      "\u001b[1m2114/2114\u001b[0m \u001b[32m━━━━━━━━━━━━━━━━━━━━\u001b[0m\u001b[37m\u001b[0m \u001b[1m1s\u001b[0m 315us/step - accuracy: 0.0015 - loss: 32.5926\n",
      "Epoch 58/100\n",
      "\u001b[1m2114/2114\u001b[0m \u001b[32m━━━━━━━━━━━━━━━━━━━━\u001b[0m\u001b[37m\u001b[0m \u001b[1m1s\u001b[0m 388us/step - accuracy: 0.0016 - loss: 28.8327\n",
      "Epoch 59/100\n",
      "\u001b[1m2114/2114\u001b[0m \u001b[32m━━━━━━━━━━━━━━━━━━━━\u001b[0m\u001b[37m\u001b[0m \u001b[1m1s\u001b[0m 319us/step - accuracy: 0.0018 - loss: 28.9346\n",
      "Epoch 60/100\n",
      "\u001b[1m2114/2114\u001b[0m \u001b[32m━━━━━━━━━━━━━━━━━━━━\u001b[0m\u001b[37m\u001b[0m \u001b[1m1s\u001b[0m 305us/step - accuracy: 0.0016 - loss: 40.3922\n",
      "Epoch 61/100\n",
      "\u001b[1m2114/2114\u001b[0m \u001b[32m━━━━━━━━━━━━━━━━━━━━\u001b[0m\u001b[37m\u001b[0m \u001b[1m1s\u001b[0m 317us/step - accuracy: 0.0020 - loss: 29.5015\n",
      "Epoch 62/100\n",
      "\u001b[1m2114/2114\u001b[0m \u001b[32m━━━━━━━━━━━━━━━━━━━━\u001b[0m\u001b[37m\u001b[0m \u001b[1m1s\u001b[0m 337us/step - accuracy: 0.0015 - loss: 36.2070\n",
      "Epoch 63/100\n",
      "\u001b[1m2114/2114\u001b[0m \u001b[32m━━━━━━━━━━━━━━━━━━━━\u001b[0m\u001b[37m\u001b[0m \u001b[1m1s\u001b[0m 314us/step - accuracy: 0.0018 - loss: 22.8742\n",
      "Epoch 64/100\n",
      "\u001b[1m2114/2114\u001b[0m \u001b[32m━━━━━━━━━━━━━━━━━━━━\u001b[0m\u001b[37m\u001b[0m \u001b[1m1s\u001b[0m 335us/step - accuracy: 0.0017 - loss: 43.5581\n",
      "Epoch 65/100\n",
      "\u001b[1m2114/2114\u001b[0m \u001b[32m━━━━━━━━━━━━━━━━━━━━\u001b[0m\u001b[37m\u001b[0m \u001b[1m1s\u001b[0m 324us/step - accuracy: 0.0019 - loss: 35.0790\n",
      "Epoch 66/100\n",
      "\u001b[1m2114/2114\u001b[0m \u001b[32m━━━━━━━━━━━━━━━━━━━━\u001b[0m\u001b[37m\u001b[0m \u001b[1m1s\u001b[0m 350us/step - accuracy: 0.0018 - loss: 26.0482\n",
      "Epoch 67/100\n",
      "\u001b[1m2114/2114\u001b[0m \u001b[32m━━━━━━━━━━━━━━━━━━━━\u001b[0m\u001b[37m\u001b[0m \u001b[1m1s\u001b[0m 315us/step - accuracy: 0.0018 - loss: 34.4211\n",
      "Epoch 68/100\n",
      "\u001b[1m2114/2114\u001b[0m \u001b[32m━━━━━━━━━━━━━━━━━━━━\u001b[0m\u001b[37m\u001b[0m \u001b[1m1s\u001b[0m 370us/step - accuracy: 0.0020 - loss: 33.5048\n",
      "Epoch 69/100\n",
      "\u001b[1m2114/2114\u001b[0m \u001b[32m━━━━━━━━━━━━━━━━━━━━\u001b[0m\u001b[37m\u001b[0m \u001b[1m1s\u001b[0m 401us/step - accuracy: 0.0015 - loss: 29.8547\n",
      "Epoch 70/100\n",
      "\u001b[1m2114/2114\u001b[0m \u001b[32m━━━━━━━━━━━━━━━━━━━━\u001b[0m\u001b[37m\u001b[0m \u001b[1m1s\u001b[0m 344us/step - accuracy: 0.0019 - loss: 36.0088\n",
      "Epoch 71/100\n",
      "\u001b[1m2114/2114\u001b[0m \u001b[32m━━━━━━━━━━━━━━━━━━━━\u001b[0m\u001b[37m\u001b[0m \u001b[1m1s\u001b[0m 375us/step - accuracy: 0.0019 - loss: 26.5596\n",
      "Epoch 72/100\n",
      "\u001b[1m2114/2114\u001b[0m \u001b[32m━━━━━━━━━━━━━━━━━━━━\u001b[0m\u001b[37m\u001b[0m \u001b[1m1s\u001b[0m 372us/step - accuracy: 0.0018 - loss: 27.1795\n",
      "Epoch 73/100\n",
      "\u001b[1m2114/2114\u001b[0m \u001b[32m━━━━━━━━━━━━━━━━━━━━\u001b[0m\u001b[37m\u001b[0m \u001b[1m1s\u001b[0m 328us/step - accuracy: 0.0016 - loss: 24.8353\n",
      "Epoch 74/100\n",
      "\u001b[1m2114/2114\u001b[0m \u001b[32m━━━━━━━━━━━━━━━━━━━━\u001b[0m\u001b[37m\u001b[0m \u001b[1m1s\u001b[0m 318us/step - accuracy: 0.0019 - loss: 27.9290\n",
      "Epoch 75/100\n",
      "\u001b[1m2114/2114\u001b[0m \u001b[32m━━━━━━━━━━━━━━━━━━━━\u001b[0m\u001b[37m\u001b[0m \u001b[1m1s\u001b[0m 322us/step - accuracy: 0.0020 - loss: 20.3072\n",
      "Epoch 76/100\n",
      "\u001b[1m2114/2114\u001b[0m \u001b[32m━━━━━━━━━━━━━━━━━━━━\u001b[0m\u001b[37m\u001b[0m \u001b[1m1s\u001b[0m 308us/step - accuracy: 0.0014 - loss: 28.9466\n",
      "Epoch 77/100\n",
      "\u001b[1m2114/2114\u001b[0m \u001b[32m━━━━━━━━━━━━━━━━━━━━\u001b[0m\u001b[37m\u001b[0m \u001b[1m1s\u001b[0m 306us/step - accuracy: 0.0018 - loss: 18.5622\n",
      "Epoch 78/100\n",
      "\u001b[1m2114/2114\u001b[0m \u001b[32m━━━━━━━━━━━━━━━━━━━━\u001b[0m\u001b[37m\u001b[0m \u001b[1m1s\u001b[0m 305us/step - accuracy: 0.0016 - loss: 26.5149\n",
      "Epoch 79/100\n",
      "\u001b[1m2114/2114\u001b[0m \u001b[32m━━━━━━━━━━━━━━━━━━━━\u001b[0m\u001b[37m\u001b[0m \u001b[1m1s\u001b[0m 317us/step - accuracy: 0.0017 - loss: 21.2507\n",
      "Epoch 80/100\n",
      "\u001b[1m2114/2114\u001b[0m \u001b[32m━━━━━━━━━━━━━━━━━━━━\u001b[0m\u001b[37m\u001b[0m \u001b[1m1s\u001b[0m 311us/step - accuracy: 0.0018 - loss: 21.1422\n",
      "Epoch 81/100\n",
      "\u001b[1m2114/2114\u001b[0m \u001b[32m━━━━━━━━━━━━━━━━━━━━\u001b[0m\u001b[37m\u001b[0m \u001b[1m1s\u001b[0m 306us/step - accuracy: 0.0019 - loss: 24.7421\n",
      "Epoch 82/100\n",
      "\u001b[1m2114/2114\u001b[0m \u001b[32m━━━━━━━━━━━━━━━━━━━━\u001b[0m\u001b[37m\u001b[0m \u001b[1m1s\u001b[0m 324us/step - accuracy: 0.0016 - loss: 20.6475\n",
      "Epoch 83/100\n",
      "\u001b[1m2114/2114\u001b[0m \u001b[32m━━━━━━━━━━━━━━━━━━━━\u001b[0m\u001b[37m\u001b[0m \u001b[1m1s\u001b[0m 318us/step - accuracy: 0.0016 - loss: 21.2651\n",
      "Epoch 84/100\n",
      "\u001b[1m2114/2114\u001b[0m \u001b[32m━━━━━━━━━━━━━━━━━━━━\u001b[0m\u001b[37m\u001b[0m \u001b[1m1s\u001b[0m 315us/step - accuracy: 0.0015 - loss: 24.1250\n",
      "Epoch 85/100\n",
      "\u001b[1m2114/2114\u001b[0m \u001b[32m━━━━━━━━━━━━━━━━━━━━\u001b[0m\u001b[37m\u001b[0m \u001b[1m1s\u001b[0m 326us/step - accuracy: 0.0017 - loss: 25.8972\n",
      "Epoch 86/100\n",
      "\u001b[1m2114/2114\u001b[0m \u001b[32m━━━━━━━━━━━━━━━━━━━━\u001b[0m\u001b[37m\u001b[0m \u001b[1m1s\u001b[0m 352us/step - accuracy: 0.0019 - loss: 25.8675\n",
      "Epoch 87/100\n",
      "\u001b[1m2114/2114\u001b[0m \u001b[32m━━━━━━━━━━━━━━━━━━━━\u001b[0m\u001b[37m\u001b[0m \u001b[1m1s\u001b[0m 316us/step - accuracy: 0.0019 - loss: 22.0565\n",
      "Epoch 88/100\n",
      "\u001b[1m2114/2114\u001b[0m \u001b[32m━━━━━━━━━━━━━━━━━━━━\u001b[0m\u001b[37m\u001b[0m \u001b[1m1s\u001b[0m 314us/step - accuracy: 0.0016 - loss: 18.1558\n",
      "Epoch 89/100\n",
      "\u001b[1m2114/2114\u001b[0m \u001b[32m━━━━━━━━━━━━━━━━━━━━\u001b[0m\u001b[37m\u001b[0m \u001b[1m1s\u001b[0m 323us/step - accuracy: 0.0014 - loss: 23.6879\n",
      "Epoch 90/100\n",
      "\u001b[1m2114/2114\u001b[0m \u001b[32m━━━━━━━━━━━━━━━━━━━━\u001b[0m\u001b[37m\u001b[0m \u001b[1m1s\u001b[0m 310us/step - accuracy: 0.0018 - loss: 16.8522\n",
      "Epoch 91/100\n",
      "\u001b[1m2114/2114\u001b[0m \u001b[32m━━━━━━━━━━━━━━━━━━━━\u001b[0m\u001b[37m\u001b[0m \u001b[1m1s\u001b[0m 309us/step - accuracy: 0.0016 - loss: 23.0075\n",
      "Epoch 92/100\n",
      "\u001b[1m2114/2114\u001b[0m \u001b[32m━━━━━━━━━━━━━━━━━━━━\u001b[0m\u001b[37m\u001b[0m \u001b[1m1s\u001b[0m 311us/step - accuracy: 0.0020 - loss: 18.1964\n",
      "Epoch 93/100\n",
      "\u001b[1m2114/2114\u001b[0m \u001b[32m━━━━━━━━━━━━━━━━━━━━\u001b[0m\u001b[37m\u001b[0m \u001b[1m1s\u001b[0m 306us/step - accuracy: 0.0018 - loss: 20.6705\n",
      "Epoch 94/100\n",
      "\u001b[1m2114/2114\u001b[0m \u001b[32m━━━━━━━━━━━━━━━━━━━━\u001b[0m\u001b[37m\u001b[0m \u001b[1m1s\u001b[0m 331us/step - accuracy: 0.0024 - loss: 17.0162\n",
      "Epoch 95/100\n",
      "\u001b[1m2114/2114\u001b[0m \u001b[32m━━━━━━━━━━━━━━━━━━━━\u001b[0m\u001b[37m\u001b[0m \u001b[1m1s\u001b[0m 327us/step - accuracy: 0.0018 - loss: 21.4700\n",
      "Epoch 96/100\n",
      "\u001b[1m2114/2114\u001b[0m \u001b[32m━━━━━━━━━━━━━━━━━━━━\u001b[0m\u001b[37m\u001b[0m \u001b[1m1s\u001b[0m 308us/step - accuracy: 0.0020 - loss: 17.9364\n",
      "Epoch 97/100\n",
      "\u001b[1m2114/2114\u001b[0m \u001b[32m━━━━━━━━━━━━━━━━━━━━\u001b[0m\u001b[37m\u001b[0m \u001b[1m1s\u001b[0m 310us/step - accuracy: 0.0022 - loss: 15.6987\n",
      "Epoch 98/100\n",
      "\u001b[1m2114/2114\u001b[0m \u001b[32m━━━━━━━━━━━━━━━━━━━━\u001b[0m\u001b[37m\u001b[0m \u001b[1m1s\u001b[0m 306us/step - accuracy: 0.0018 - loss: 16.7658\n",
      "Epoch 99/100\n",
      "\u001b[1m2114/2114\u001b[0m \u001b[32m━━━━━━━━━━━━━━━━━━━━\u001b[0m\u001b[37m\u001b[0m \u001b[1m1s\u001b[0m 341us/step - accuracy: 0.0020 - loss: 14.9741\n",
      "Epoch 100/100\n",
      "\u001b[1m2114/2114\u001b[0m \u001b[32m━━━━━━━━━━━━━━━━━━━━\u001b[0m\u001b[37m\u001b[0m \u001b[1m1s\u001b[0m 320us/step - accuracy: 0.0020 - loss: 14.4795\n",
      "\u001b[1m235/235\u001b[0m \u001b[32m━━━━━━━━━━━━━━━━━━━━\u001b[0m\u001b[37m\u001b[0m \u001b[1m0s\u001b[0m 288us/step\n",
      "scaler saved at: ./ann_data/scaler_V1.pkl\n",
      "model saved at: ./ann_data/ann_model_V1.h5\n",
      "error adjustment saved at: ./ann_data/error_adjustment_V1.json\n",
      "ann path dict saved at: ./ann_data/ann_path_dict.json\n"
     ]
    }
   ],
   "source": [
    "amg.ann_model_training(\n",
    "    gw_param_dict='ler_data/IMRPhenomXPHM_O4_high_asd_V1.json', # you can also get the dict from a json file first\n",
    "    randomize=True,\n",
    "    test_size=0.1,\n",
    "    random_state=42,\n",
    "    num_nodes_list = [5, 32, 32, 1],\n",
    "    activation_fn_list = ['relu', 'relu', 'sigmoid', 'linear'],\n",
    "    optimizer='adam',\n",
    "    loss='mean_squared_error',\n",
    "    metrics=['accuracy'],\n",
    "    batch_size=32,\n",
    "    epochs=100,\n",
    "    error_adjustment_snr_range=[2,14],\n",
    "    ann_file_name = 'ann_model_V1.h5',\n",
    "    scaler_file_name = 'scaler_V1.pkl',\n",
    "    error_adjustment_file_name='error_adjustment_V1.json',\n",
    "    ann_path_dict_file_name='ann_path_dict.json',\n",
    ")\n",
    "\n",
    "# # Uncomment the following, if you have already trained the model\n",
    "# # load the trained model\n",
    "# amg.load_model_scaler_error(\n",
    "#     ann_file_name='ann_model_V1.h5', \n",
    "#     scaler_file_name='scaler_V1.pkl',\n",
    "#     error_adjustment_file_name='error_adjustment_V1.json',\n",
    "# )"
   ]
  },
  {
   "cell_type": "code",
   "execution_count": 10,
   "metadata": {},
   "outputs": [
    {
     "name": "stdout",
     "output_type": "stream",
     "text": [
      "\u001b[1m235/235\u001b[0m \u001b[32m━━━━━━━━━━━━━━━━━━━━\u001b[0m\u001b[37m\u001b[0m \u001b[1m0s\u001b[0m 248us/step\n",
      "Error: 2.21%\n"
     ]
    },
    {
     "data": {
      "text/plain": [
       "(2.2092094756454617,\n",
       " array([ 5.2581983,  4.103989 , 18.503712 , ..., 13.549152 ,\n",
       "         2.9394546,  7.342362 ], dtype=float32),\n",
       " array([ 5.61821048,  3.7988082 , 18.9255821 , ..., 12.95032423,\n",
       "         2.30812529,  7.72703788]))"
      ]
     },
     "execution_count": 10,
     "metadata": {},
     "output_type": "execute_result"
    }
   ],
   "source": [
    "amg.pdet_error()"
   ]
  },
  {
   "cell_type": "code",
   "execution_count": 11,
   "metadata": {},
   "outputs": [
    {
     "name": "stdout",
     "output_type": "stream",
     "text": [
      "\u001b[1m  1/235\u001b[0m \u001b[37m━━━━━━━━━━━━━━━━━━━━\u001b[0m \u001b[1m2s\u001b[0m 11ms/step"
     ]
    },
    {
     "name": "stdout",
     "output_type": "stream",
     "text": [
      "\u001b[1m235/235\u001b[0m \u001b[32m━━━━━━━━━━━━━━━━━━━━\u001b[0m\u001b[37m\u001b[0m \u001b[1m0s\u001b[0m 603us/step\n",
      "[[5539   96]\n",
      " [  62 1817]]\n",
      "Accuracy: 97.897%\n"
     ]
    },
    {
     "data": {
      "text/plain": [
       "(array([[5539,   96],\n",
       "        [  62, 1817]]),\n",
       " 97.89725845089167,\n",
       " array([False, False,  True, ...,  True, False, False]),\n",
       " array([False, False,  True, ...,  True, False, False]))"
      ]
     },
     "execution_count": 11,
     "metadata": {},
     "output_type": "execute_result"
    }
   ],
   "source": [
    "amg.pdet_confusion_matrix()"
   ]
  },
  {
   "cell_type": "code",
   "execution_count": 12,
   "metadata": {},
   "outputs": [
    {
     "name": "stdout",
     "output_type": "stream",
     "text": [
      "\u001b[1m2348/2348\u001b[0m \u001b[32m━━━━━━━━━━━━━━━━━━━━\u001b[0m\u001b[37m\u001b[0m \u001b[1m1s\u001b[0m 226us/step\n"
     ]
    },
    {
     "data": {
      "image/png": "[encoded data removed]",
      "text/plain": [
       "<Figure size 400x400 with 1 Axes>"
      ]
     },
     "metadata": {},
     "output_type": "display_data"
    }
   ],
   "source": [
    "# predicted snr\n",
    "pred_snr= amg.predict_snr(gw_param_dict='ler_data/IMRPhenomXPHM_O4_high_asd_V1.json')\n",
    "# true snr\n",
    "true_snr = amg.get_parameters(gw_param_dict='ler_data/IMRPhenomXPHM_O4_high_asd_V1.json')['V1']\n",
    "# select only snr between 4 and 12\n",
    "snr_min = 4\n",
    "snr_max = 12\n",
    "mask = (true_snr >= snr_min) & (true_snr <= snr_max)\n",
    "true_snr = true_snr[mask]\n",
    "pred_snr = pred_snr[mask]\n",
    "\n",
    "# plot the predicted snr vs true snr\n",
    "plt.figure(figsize=[4,4])\n",
    "plt.scatter(true_snr, pred_snr, s=1)\n",
    "snr_lim = [np.min([true_snr, true_snr]), np.max([true_snr, true_snr])]\n",
    "plt.plot(snr_lim, snr_lim, 'r--')\n",
    "plt.xlabel('True SNR')\n",
    "plt.ylabel('Predicted SNR')\n",
    "plt.xlim([snr_min, snr_max])\n",
    "plt.ylim([snr_min, snr_max])\n",
    "plt.show()"
   ]
  },
  {
   "cell_type": "code",
   "execution_count": null,
   "metadata": {},
   "outputs": [
    {
     "name": "stdout",
     "output_type": "stream",
     "text": [
      "\u001b[1m2348/2348\u001b[0m \u001b[32m━━━━━━━━━━━━━━━━━━━━\u001b[0m\u001b[37m\u001b[0m \u001b[1m1s\u001b[0m 218us/step\n",
      "[[55566   783]\n",
      " [  717 18066]]\n",
      "0.980035138156844\n"
     ]
    }
   ],
   "source": [
    "# use the following function to predict the pdet\n",
    "pred_pdet = amg.predict_pdet(gw_param_dict='ler_data/IMRPhenomXPHM_O4_high_asd_V1.json', snr_threshold=8.0)\n",
    "\n",
    "true_snr = amg.get_parameters(gw_param_dict='ler_data/IMRPhenomXPHM_O4_high_asd_V1.json')['V1']\n",
    "# true pdet\n",
    "true_pdet = np.array([1 if snr >= 8.0 else 0 for snr in true_snr])\n",
    "\n",
    "from sklearn.metrics import confusion_matrix, accuracy_score\n",
    "cm = confusion_matrix(true_pdet, pred_pdet)\n",
    "print(cm)\n",
    "\n",
    "acc = accuracy_score(true_pdet, pred_pdet)\n",
    "print(acc)\n"
   ]
  },
  {
   "cell_type": "code",
   "execution_count": null,
   "metadata": {
    "vscode": {
     "languageId": "markdown"
    }
   },
   "outputs": [],
   "source": []
  },
  {
   "cell_type": "markdown",
   "metadata": {},
   "source": [
    "## 3. Implementation of the ANN model in GWSNR\n",
    "\n",
    "Generate new astrophysical data and test the model on it using GWSNR class."
   ]
  },
  {
   "cell_type": "code",
   "execution_count": 1,
   "metadata": {},
   "outputs": [
    {
     "name": "stdout",
     "output_type": "stream",
     "text": [
      "\n",
      "Initializing GWRATES class...\n",
      "\n",
      "current size of the json file: 20000\n",
      "\n",
      "total event to collect: 20000\n",
      "\n",
      "final size: 20000\n",
      "\n",
      "json file saved at: ./ler_data/IMRPhenomXPHM_O4_high_asd_V1_5.json\n",
      "\n"
     ]
    }
   ],
   "source": [
    "from ler.utils import TrainingDataGenerator\n",
    "\n",
    "# generate some new data\n",
    "tdg = TrainingDataGenerator(\n",
    "    npool=4,\n",
    "    verbose=False, \n",
    "    # GWSNR parameters\n",
    "    sampling_frequency=2048,\n",
    "    waveform_approximant='IMRPhenomXPHM',\n",
    "    psds={'V1': 'AdV_asd.txt'},  \n",
    "    minimum_frequency=20,\n",
    "    spin_zero=False,\n",
    "    spin_precessing=True,\n",
    "    snr_type='inner_product',\n",
    ")\n",
    "\n",
    "tdg.gw_parameters_generator(\n",
    "    size=20000, \n",
    "    batch_size=20000, \n",
    "    snr_recalculation=False,\n",
    "    trim_to_size=False, \n",
    "    verbose=True, \n",
    "    data_distribution_range = None, \n",
    "    replace=False,\n",
    "    output_jsonfile=\"IMRPhenomXPHM_O4_high_asd_V1_5.json\",\n",
    ")"
   ]
  },
  {
   "cell_type": "markdown",
   "metadata": {},
   "source": [
    "* using GWSNR class, with the trained ANN model, you can generate SNR of the astrophysical GW signal parameters"
   ]
  },
  {
   "cell_type": "code",
   "execution_count": 2,
   "metadata": {},
   "outputs": [
    {
     "name": "stdout",
     "output_type": "stream",
     "text": [
      "\n",
      "Initializing GWSNR class...\n",
      "\n",
      "Intel processor has trouble allocating memory when the data is huge. So, by default for IMRPhenomXPHM, duration_max = 64.0. Otherwise, set to some max value like duration_max = 600.0 (10 mins)\n",
      "ANN model and scaler path is given. Using the given path.\n",
      "ANN model for V1 is loaded from ./ann_data/ann_model_V1.h5.\n",
      "ANN scaler for V1 is loaded from ./ann_data/scaler_V1.pkl.\n",
      "ANN error_adjustment for V1 is loaded from ./ann_data/error_adjustment_V1.json.\n",
      "Interpolator will be loaded for V1 detector from ./interpolator_pickle/V1/partialSNR_dict_1.pickle\n",
      "\n",
      "Chosen GWSNR initialization parameters:\n",
      "\n",
      "npool:  8\n",
      "snr type:  ann\n",
      "waveform approximant:  IMRPhenomXPHM\n",
      "sampling frequency:  2048.0\n",
      "minimum frequency (fmin):  20.0\n",
      "mtot=mass1+mass2\n",
      "min(mtot):  9.96\n",
      "max(mtot) (with the given fmin=20.0): 235.0\n",
      "detectors:  ['V1']\n",
      "psds:  [PowerSpectralDensity(psd_file='None', asd_file='/Users/phurailatpamhemantakumar/anaconda3/envs/ler/lib/python3.10/site-packages/bilby/gw/detector/noise_curves/AdV_asd.txt')]\n",
      "\n",
      "\n"
     ]
    }
   ],
   "source": [
    "import numpy as np\n",
    "import matplotlib.pyplot as plt\n",
    "from gwsnr import GWSNR\n",
    "\n",
    "gwsnr = GWSNR(\n",
    "    snr_type='ann',\n",
    "    npool=8,  # number of processes\n",
    "    waveform_approximant=\"IMRPhenomXPHM\",\n",
    "    psds={'V1': 'AdV_asd.txt'},\n",
    "    ann_path_dict='./ann_data/ann_path_dict.json',\n",
    ")"
   ]
  },
  {
   "cell_type": "code",
   "execution_count": 3,
   "metadata": {},
   "outputs": [],
   "source": [
    "# predicted snr, using ANN model \n",
    "pred_snr = gwsnr.snr_with_ann(gw_param_dict='./ler_data/IMRPhenomXPHM_O4_high_asd_V1_5.json')['V1']#['optimal_snr_net']"
   ]
  },
  {
   "cell_type": "code",
   "execution_count": 4,
   "metadata": {},
   "outputs": [],
   "source": [
    "from gwsnr.utils import get_param_from_json\n",
    "true_snr = get_param_from_json('./ler_data/IMRPhenomXPHM_O4_high_asd_V1_5.json')['V1']#['optimal_snr_net']"
   ]
  },
  {
   "cell_type": "code",
   "execution_count": 5,
   "metadata": {},
   "outputs": [
    {
     "data": {
      "image/png": "[encoded data removed]",
      "text/plain": [
       "<Figure size 400x400 with 1 Axes>"
      ]
     },
     "metadata": {},
     "output_type": "display_data"
    }
   ],
   "source": [
    "# select only snr between 4 and 12\n",
    "# snr_min = 4\n",
    "# snr_max = 12\n",
    "# mask = (true_snr >= snr_min) & (true_snr <= snr_max)\n",
    "# true_snr = true_snr[mask]\n",
    "# pred_snr = pred_snr[mask]\n",
    "\n",
    "# plot the predicted snr vs true snr\n",
    "plt.figure(figsize=[4,4])\n",
    "plt.scatter(true_snr, pred_snr, s=1)\n",
    "snr_lim = [np.min([true_snr, true_snr]), np.max([true_snr, true_snr])]\n",
    "plt.plot(snr_lim, snr_lim, 'r--')\n",
    "plt.xlabel('True SNR')\n",
    "plt.ylabel('Predicted SNR')\n",
    "# plt.xlim([snr_min, snr_max])\n",
    "# plt.ylim([snr_min, snr_max])\n",
    "plt.show()"
   ]
  },
  {
   "cell_type": "code",
   "execution_count": 6,
   "metadata": {},
   "outputs": [
    {
     "name": "stdout",
     "output_type": "stream",
     "text": [
      "[[19984     1]\n",
      " [    0    15]]\n",
      "0.99995\n"
     ]
    }
   ],
   "source": [
    "# use the following function to predict the pdet\n",
    "pred_pdet = np.array([1 if snr >= 8.0 else 0 for snr in pred_snr])\n",
    "# true pdet\n",
    "true_pdet = np.array([1 if snr >= 8.0 else 0 for snr in true_snr])\n",
    "\n",
    "from sklearn.metrics import confusion_matrix, accuracy_score\n",
    "cm = confusion_matrix(true_pdet, pred_pdet)\n",
    "print(cm)\n",
    "\n",
    "acc = accuracy_score(true_pdet, pred_pdet)\n",
    "print(acc)"
   ]
  },
  {
   "cell_type": "code",
   "execution_count": null,
   "metadata": {},
   "outputs": [],
   "source": []
  }
 ],
 "metadata": {
  "kernelspec": {
   "display_name": "ler",
   "language": "python",
   "name": "ler"
  },
  "language_info": {
   "codemirror_mode": {
    "name": "ipython",
    "version": 3
   },
   "file_extension": ".py",
   "mimetype": "text/x-python",
   "name": "python",
   "nbconvert_exporter": "python",
   "pygments_lexer": "ipython3",
   "version": "3.10.18"
  }
 },
 "nbformat": 4,
 "nbformat_minor": 2
}
