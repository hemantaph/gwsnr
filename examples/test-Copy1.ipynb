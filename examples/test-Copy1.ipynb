{
 "cells": [
  {
   "cell_type": "markdown",
   "id": "ac970395-2120-40b0-9dc7-9aa7b9ae229d",
   "metadata": {},
   "source": [
    "# Installation \n",
    "\n",
    "* git clone https://github.com/hemantaph/gwsnr.git\n",
    "* cd gwsnr .\n",
    "* python setup.py install."
   ]
  },
  {
   "cell_type": "markdown",
   "id": "2172aa29-0df1-4e91-a527-bb90f5e79182",
   "metadata": {},
   "source": [
    "# modified Findchirp method, or Half Scaling method. \n",
    "* SNR : $$ \\rho= \\left( \\frac{1 Mpc}{D_{eff}} \\right)\\mathcal{A}_{1Mpc} \\sqrt{ 4\\int_0^\\infty \\frac{f^{-7/3}}{S_n(f)}df } $$\n",
    "\n",
    "* Half scaled SNR : $$ \\rho_{1/2} = \\left( \\frac{D_{eff}}{1 Mpc} \\right)\\mathcal{A}_{1Mpc}^{-1} \\times \\rho $$\n",
    "                    $$ \\rho_{1/2} = \\sqrt{ 4\\int_0^\\infty \\frac{f^{-7/3}}{S_n(f)}df } $$\n",
    "                    \n",
    "* It shouldn't depend on the GW parameters\n",
    "* It depends on the noise curve of the detector : $S_n(f)$\n",
    "\n",
    "# taking care of units\n",
    "* $\\mathcal{M}$ : chirp mass in $M_{\\odot}$, $\\mathcal{D}$: luminosity distance in Mpc. \n",
    "* $F_+,F_{\\times}$: Antenna pattern, $\\iota$: inclination angle\n",
    "$$\\mathcal{A}_{1Mpc}=\\left(\\frac{5}{24\\pi}\\right)^{1/2}\\left(\\frac{GM_{\\odot}/c^2}{1Mpc}\\right)\\left(\\frac{\\pi GM_{\\odot}}{c^3}\\right)^{-1/6}\\left(\\frac{\\mathcal{M}}{M_{\\odot}}\\right)^{5/6} $$\n",
    "$$ \\mathcal{D}_{eff} = \\mathcal{D}\\left[ F_+^2\\left(\\frac{1+cos^2\\iota}{2}\\right)^2 + F_{\\times}^2 cos^2\\iota \\right]^{-1/2} $$ \n",
    "\n",
    "* Half scaled SNR : \n",
    "$$ \\rho_{1/2} = \\left( \\frac{D_{eff}}{1 Mpc} \\right) \\mathcal{M}^{-5/6} \\times \\rho $$\n",
    "$$ \\rho_{1/2} = \\left(\\frac{5}{24\\pi}\\right)^{1/2}\\left(\\frac{GM_{\\odot}/c^2}{1Mpc}\\right)\\left(\\frac{\\pi GM_{\\odot}}{c^3}\\right)^{-1/6}\\left(\\frac{1}{M_{\\odot}}\\right)^{5/6} \\sqrt{ 4\\int_0^\\infty \\frac{f^{-7/3}}{S_n(f)}df } $$\n",
    "\n",
    "* Putting a upper integration limit at $f_{ISCO}$ lower limit to a chosen $f_{min}$\n",
    "$$ f_{ISCO} = \\frac{f c^3}{ G M_{tot}\\pi 6^{3/2} } $$\n",
    "$$ \\rho_{1/2} = \\left(\\frac{5}{24\\pi}\\right)^{1/2}\\left(\\frac{GM_{\\odot}/c^2}{1Mpc}\\right)\\left(\\frac{\\pi GM_{\\odot}}{c^3}\\right)^{-1/6}\\left(\\frac{1}{M_{\\odot}}\\right)^{5/6} \\sqrt{ 4\\int_{f_{min}}^{f_{ISCO}} \\frac{f^{-7/3}}{S_n(f)}df } $$"
   ]
  },
  {
   "cell_type": "code",
   "execution_count": 1,
   "id": "a3399232-d105-473a-ad68-f9d49483ccb4",
   "metadata": {},
   "outputs": [],
   "source": [
    "import numpy as np\n",
    "import pylab as plt\n",
    "from datetime import datetime"
   ]
  },
  {
   "cell_type": "code",
   "execution_count": 2,
   "id": "612309f3-0595-4348-990d-72aeef045dd1",
   "metadata": {},
   "outputs": [],
   "source": [
    "from gwsnr import GWSNR as snr"
   ]
  },
  {
   "cell_type": "code",
   "execution_count": 3,
   "id": "662975c5-ab26-44de-b6cd-9be882070f73",
   "metadata": {},
   "outputs": [
    {
     "name": "stdout",
     "output_type": "stream",
     "text": [
      "Given: IMR waveform\n",
      "psds not given. Choosing bilby's default psds\n",
      "given psds:  {'L1': 'aLIGO_O4_high_asd.txt', 'H1': 'aLIGO_O4_high_asd.txt', 'V1': 'AdV_asd.txt'}\n",
      "Interpolator will be generated for L1 detector at ./interpolator_pickle/L1/halfSNR_dict_0.pickle\n",
      "Interpolator will be generated for H1 detector at ./interpolator_pickle/H1/halfSNR_dict_0.pickle\n",
      "Interpolator will be generated for V1 detector at ./interpolator_pickle/V1/halfSNR_dict_0.pickle\n",
      "Generating interpolator for ['L1', 'H1', 'V1'] detectors\n"
     ]
    },
    {
     "name": "stderr",
     "output_type": "stream",
     "text": [
      "interpolation for each mass_ratios: 100%|█████████████████████████| 500/500 [08:46<00:00,  1.05s/it]"
     ]
    },
    {
     "name": "stdout",
     "output_type": "stream",
     "text": [
      "interpolator generated\n"
     ]
    },
    {
     "name": "stderr",
     "output_type": "stream",
     "text": [
      "\n"
     ]
    }
   ],
   "source": [
    "# nsamples is use for fitting. default: nsamples=100\n",
    "# nsamples with higher value will give better result.\n",
    "# for BNS events nsamples can be kept low\n",
    "# with defult bilby's psd\n",
    "snr_ = snr(npool=int(4), mtot_min=2., mtot_max=439.6, nsamples_mtot=200, nsamples_mass_ratio=500, \\\n",
    "                 sampling_frequency=4096.,\\\n",
    "                 waveform_approximant = 'IMRPhenomD', minimum_frequency = 20., \\\n",
    "                 snr_type = 'interpolation', waveform_inspiral_must_be_above_fmin=False)"
   ]
  },
  {
   "cell_type": "markdown",
   "id": "11c928d8-1f94-4fda-8868-59da73b070a3",
   "metadata": {},
   "source": [
    "## simple performance checks\n",
    "* the taylorF2 results are trucated at the f_max"
   ]
  },
  {
   "cell_type": "code",
   "execution_count": 4,
   "id": "2482976f-8682-4723-a4eb-644187643e39",
   "metadata": {},
   "outputs": [
    {
     "name": "stderr",
     "output_type": "stream",
     "text": [
      "100%|█████████████████████████████████████████████████████████████████| 3/3 [00:00<00:00, 93.28it/s]\n"
     ]
    },
    {
     "data": {
      "text/plain": [
       "{'L1': array([126.70396042, 429.63564752, 703.0618793 ]),\n",
       " 'H1': array([ 80.58284938, 273.24532365, 447.14253081]),\n",
       " 'V1': array([ 37.52216402, 129.97904764, 215.62974384]),\n",
       " 'opt_snr_net': array([154.77532747, 525.49438565, 860.65593324])}"
      ]
     },
     "execution_count": 4,
     "metadata": {},
     "output_type": "execute_result"
    }
   ],
   "source": [
    "# Bilby\n",
    "snr_.compute_bilby_snr_(mass_1=np.array([10.,50.,100.]), mass_2=np.array([10.,50.,100.]))"
   ]
  },
  {
   "cell_type": "code",
   "execution_count": 5,
   "id": "7ffbb1aa-2828-423f-bc11-edb7894798a7",
   "metadata": {},
   "outputs": [
    {
     "data": {
      "text/plain": [
       "{'opt_snr_net': array([154.75253917, 525.49407154, 860.65729984]),\n",
       " 'L1': array([126.68154731, 429.63537969, 703.06306899]),\n",
       " 'H1': array([ 80.5685948 , 273.24515331, 447.14328744]),\n",
       " 'V1': array([ 37.5344573 , 129.97902113, 215.62975047])}"
      ]
     },
     "execution_count": 5,
     "metadata": {},
     "output_type": "execute_result"
    }
   ],
   "source": [
    "# with interpolation\n",
    "snr_.snr(mass_1=np.array([10.,50.,100.]), mass_2=np.array([10.,50.,100.]))"
   ]
  },
  {
   "cell_type": "markdown",
   "id": "9444e43d-015d-4156-9505-37224230c1ee",
   "metadata": {},
   "source": [
    "* notice how SNR decrease with mass\n",
    "* mtot=1000 has $f_{lso}(f_{max})$ below 20Hz\n",
    "* last stable orbit's frequency is calculated as, $f_{lso} = \\frac{C^3}{ G(m_{tot})M_\\odot\\pi 6^{3/2} }$"
   ]
  },
  {
   "cell_type": "markdown",
   "id": "fe661359-6e66-4c5b-8156-0b6cbe2f31f3",
   "metadata": {},
   "source": [
    "# speed test\n",
    "* bilby Vs interpolation with half SNR"
   ]
  },
  {
   "cell_type": "code",
   "execution_count": 6,
   "id": "61d04820-b802-4aad-95c9-a15d734a17fe",
   "metadata": {},
   "outputs": [],
   "source": [
    "# gerneral case, random parameters\n",
    "# chirp mass can go upto only 95 if f_min=20. to get non zero SNR\n",
    "nsamples = 1000\n",
    "chirp_mass = np.linspace(5,80,nsamples)\n",
    "mass_ratio = np.random.uniform(0.2,1,size=nsamples)\n",
    "mass_1 = (chirp_mass*(1+mass_ratio)**(1/5))/mass_ratio**(3/5)\n",
    "mass_2 = chirp_mass*mass_ratio**(2/5)*(1+mass_ratio)**(1/5)\n",
    "total_mass = mass_1+mass_2\n",
    "mass_ratio = mass_2/mass_1\n",
    "# Fix luminosity distance\n",
    "luminosity_distance = 80*np.ones(nsamples)\n",
    "# Randomly sample everything else:\n",
    "theta_jn = np.random.uniform(0,2*np.pi, size=nsamples)\n",
    "ra, dec, psi, phase = np.random.uniform(0,2*np.pi, size=nsamples), np.random.uniform(0,np.pi, size=nsamples), np.random.uniform(0,2*np.pi, size=nsamples), np.random.uniform(0,2*np.pi, size=nsamples)\n",
    "a_1, a_2, tilt_1, tilt_2, phi_12, phi_jl = 0,0,0,0,0,0 # Zero spin"
   ]
  },
  {
   "cell_type": "code",
   "execution_count": 7,
   "id": "6e7711de-6d2d-4719-acb4-47a2cbbfa865",
   "metadata": {},
   "outputs": [
    {
     "name": "stderr",
     "output_type": "stream",
     "text": [
      "100%|██████████████████████████████████████████████████████████| 1000/1000 [00:04<00:00, 234.08it/s]"
     ]
    },
    {
     "name": "stdout",
     "output_type": "stream",
     "text": [
      "Duration: 0:00:04.350602\n"
     ]
    },
    {
     "name": "stderr",
     "output_type": "stream",
     "text": [
      "\n"
     ]
    }
   ],
   "source": [
    "# error might occur for mchirp>95., if f_min=20. \n",
    "start_time = datetime.now()\n",
    "bilby_ = snr_.compute_bilby_snr_(mass_1=mass_1, mass_2=mass_1, luminosity_distance=luminosity_distance, theta_jn=theta_jn, \\\n",
    "                            psi=psi, phase=phase, ra=ra, dec=dec)\n",
    "end_time = datetime.now()\n",
    "print('Duration: {}'.format(end_time - start_time))"
   ]
  },
  {
   "cell_type": "markdown",
   "id": "fc9049cd-2aa9-40a2-b7f7-bc75a5b90c84",
   "metadata": {},
   "source": [
    "* here is bilby is faster than usual as I have initialized the interferometer objects and PSDs commonly \n",
    "* multiprocessing is used here"
   ]
  },
  {
   "cell_type": "code",
   "execution_count": 8,
   "id": "8865e0c6-8ca2-48de-b57f-f4d2a976cd46",
   "metadata": {},
   "outputs": [
    {
     "name": "stdout",
     "output_type": "stream",
     "text": [
      "Duration: 0:00:00.277759\n"
     ]
    }
   ],
   "source": [
    "start_time = datetime.now()\n",
    "mine_ = snr_.snr(mass_1=mass_1, mass_2=mass_1, luminosity_distance=luminosity_distance, iota=theta_jn, \\\n",
    "            psi=psi, phase=phase, ra=ra, dec=dec)\n",
    "end_time = datetime.now()\n",
    "print('Duration: {}'.format(end_time - start_time))"
   ]
  },
  {
   "cell_type": "code",
   "execution_count": 9,
   "id": "34f31119-38f0-4628-bff5-cbb7803d5d60",
   "metadata": {},
   "outputs": [
    {
     "data": {
      "text/plain": [
       "730.8773972383814"
      ]
     },
     "execution_count": 9,
     "metadata": {},
     "output_type": "execute_result"
    }
   ],
   "source": [
    "(1*60+31.464921)/0.125144"
   ]
  },
  {
   "cell_type": "markdown",
   "id": "ac0d8024-37b5-42bb-8e6d-c5ea577f235b",
   "metadata": {},
   "source": [
    "* interpolation is 730.8773972383814 times faster than that of bilby's (with 4 cores' calculation)"
   ]
  },
  {
   "cell_type": "markdown",
   "id": "bb8bb12d-4a9f-4178-93af-3935510170d7",
   "metadata": {},
   "source": [
    "## Accuracy checks\n",
    "* SNR difference"
   ]
  },
  {
   "cell_type": "code",
   "execution_count": 10,
   "id": "6fa1a6eb-6e43-44aa-a90d-f04fd1559818",
   "metadata": {},
   "outputs": [],
   "source": [
    "mtot_min=2.\n",
    "mtot_max=439.6\n",
    "idx = (total_mass<=mtot_min)&(total_mass>=mtot_max)\n",
    "bilby_['opt_snr_net'][idx] = 0."
   ]
  },
  {
   "cell_type": "code",
   "execution_count": 11,
   "id": "dde6f8af-f76f-4597-8404-01b2337cb4b7",
   "metadata": {},
   "outputs": [
    {
     "data": {
      "image/png": "[encoded data removed]",
      "text/plain": [
       "<Figure size 640x480 with 1 Axes>"
      ]
     },
     "metadata": {},
     "output_type": "display_data"
    }
   ],
   "source": [
    "plt.plot(total_mass, abs(mine_['opt_snr_net']-bilby_['opt_snr_net']), 'o', color='cyan')\n",
    "plt.xlabel(r\"$m_{tot}$ [$\\rm M_\\odot$]\")\n",
    "plt.ylabel(r\"difference\")\n",
    "plt.show()"
   ]
  },
  {
   "cell_type": "code",
   "execution_count": 12,
   "id": "27c910dd-4173-4f94-a06e-ba618bca38ac",
   "metadata": {},
   "outputs": [
    {
     "data": {
      "image/png": "[encoded data removed]",
      "text/plain": [
       "<Figure size 640x480 with 1 Axes>"
      ]
     },
     "metadata": {},
     "output_type": "display_data"
    }
   ],
   "source": [
    "plt.plot(bilby_['opt_snr_net'], abs(mine_['opt_snr_net']-bilby_['opt_snr_net']), 'o', color='cyan')\n",
    "plt.xlabel(r\"$SNR_{bilby}$\")\n",
    "plt.ylabel(r\"difference\")\n",
    "plt.show()"
   ]
  },
  {
   "cell_type": "markdown",
   "id": "6d34b48b-61f9-42fd-be80-5b868afe15c6",
   "metadata": {},
   "source": [
    "* close enough"
   ]
  },
  {
   "cell_type": "code",
   "execution_count": null,
   "id": "4f086810-13f8-45da-bd6f-1928269efa64",
   "metadata": {},
   "outputs": [],
   "source": []
  }
 ],
 "metadata": {
  "kernelspec": {
   "display_name": "Python 3 (ipykernel)",
   "language": "python",
   "name": "python3"
  },
  "language_info": {
   "codemirror_mode": {
    "name": "ipython",
    "version": 3
   },
   "file_extension": ".py",
   "mimetype": "text/x-python",
   "name": "python",
   "nbconvert_exporter": "python",
   "pygments_lexer": "ipython3",
   "version": "3.10.9"
  }
 },
 "nbformat": 4,
 "nbformat_minor": 5
}
