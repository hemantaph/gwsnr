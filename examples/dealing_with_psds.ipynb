{
 "cells": [
  {
   "cell_type": "markdown",
   "metadata": {},
   "source": [
    "# Dealing with PSDs/ASDs in Gravitational Wave Detectors\n",
    "\n",
    "This notebook is a tutorial on how to deal with various PSDs (Power Spectral Densities) or ASDs (Amplitude spectral Density) in the context of gravitational wave detectors. \n",
    "\n",
    "## Contents\n",
    "\n",
    "1. Default PSDs/ASDs in `gwsnr`\n",
    "\n",
    "2. PSDs with GPS time\n",
    "\n",
    "3. PSDs from .txt files\n",
    "   \n",
    "3. PSDs from `bilby`\n",
    "   \n",
    "4. PSDs from `pycbc`"
   ]
  },
  {
   "cell_type": "markdown",
   "metadata": {},
   "source": [
    "## 1. Default PSDs/ASDs in `gwsnr`\n",
    "\n",
    "`gwsnr` by default uses the following PSDs, which are also the default PSDs in `bilby`. It considers O4, observing run 4, design sensitivities. \n",
    "\n",
    "* L1, Livingston detector: `aLIGO_O4_high_asd.txt`\n",
    "  \n",
    "* H1, Hanford detector: `aLIGO_O4_high_asd.txt`\n",
    "  \n",
    "* V1, Virgo detector: `AdV_asd.txt`"
   ]
  },
  {
   "cell_type": "code",
   "execution_count": 10,
   "metadata": {},
   "outputs": [],
   "source": [
    "from gwsnr import GWSNR\n",
    "import numpy as np"
   ]
  },
  {
   "cell_type": "code",
   "execution_count": 11,
   "metadata": {},
   "outputs": [
    {
     "name": "stdout",
     "output_type": "stream",
     "text": [
      "psds not given. Choosing bilby's default psds\n",
      "\n",
      "Chosen GWSNR initialization parameters:\n",
      "\n",
      "npool:  4\n",
      "snr type:  inner_product\n",
      "waveform approximant:  IMRPhenomD\n",
      "sampling frequency:  2048.0\n",
      "minimum frequency (fmin):  20.0\n",
      "mtot=mass1+mass2\n",
      "min(mtot):  2.0\n",
      "max(mtot) (with the given fmin=20.0): 184.98599853446768\n",
      "detectors:  ['L1', 'H1', 'V1']\n",
      "psds:  [PowerSpectralDensity(psd_file='None', asd_file='/Users/phurailatpamhemantakumar/anaconda3/envs/ler/lib/python3.10/site-packages/bilby/gw/detector/noise_curves/aLIGO_O4_high_asd.txt'), PowerSpectralDensity(psd_file='None', asd_file='/Users/phurailatpamhemantakumar/anaconda3/envs/ler/lib/python3.10/site-packages/bilby/gw/detector/noise_curves/aLIGO_O4_high_asd.txt'), PowerSpectralDensity(psd_file='None', asd_file='/Users/phurailatpamhemantakumar/anaconda3/envs/ler/lib/python3.10/site-packages/bilby/gw/detector/noise_curves/AdV_asd.txt')]\n"
     ]
    }
   ],
   "source": [
    "gwsnr = GWSNR(snr_type='inner_product')"
   ]
  },
  {
   "cell_type": "code",
   "execution_count": 12,
   "metadata": {},
   "outputs": [
    {
     "name": "stdout",
     "output_type": "stream",
     "text": [
      "PowerSpectralDensity(psd_file='None', asd_file='/Users/phurailatpamhemantakumar/anaconda3/envs/ler/lib/python3.10/site-packages/bilby/gw/detector/noise_curves/aLIGO_O4_high_asd.txt')\n",
      "PowerSpectralDensity(psd_file='None', asd_file='/Users/phurailatpamhemantakumar/anaconda3/envs/ler/lib/python3.10/site-packages/bilby/gw/detector/noise_curves/aLIGO_O4_high_asd.txt')\n",
      "PowerSpectralDensity(psd_file='None', asd_file='/Users/phurailatpamhemantakumar/anaconda3/envs/ler/lib/python3.10/site-packages/bilby/gw/detector/noise_curves/AdV_asd.txt')\n"
     ]
    }
   ],
   "source": [
    "# signal-to-noise ratio for a binary black hole merger with masses 10, 10 Msun at a luminosity distance of 100 Mpc\n",
    "for psd in gwsnr.psds_list:\n",
    "    print(psd)"
   ]
  },
  {
   "cell_type": "code",
   "execution_count": 13,
   "metadata": {},
   "outputs": [
    {
     "name": "stdout",
     "output_type": "stream",
     "text": [
      "solving SNR with inner product\n"
     ]
    },
    {
     "name": "stderr",
     "output_type": "stream",
     "text": [
      "100%|█████████████████████████████████████████████████████████████████| 1/1 [00:04<00:00,  4.61s/it]\n"
     ]
    },
    {
     "data": {
      "text/plain": [
       "{'L1': array([126.70353165]),\n",
       " 'H1': array([80.58750192]),\n",
       " 'V1': array([37.52436425]),\n",
       " 'optimal_snr_net': array([154.77793225])}"
      ]
     },
     "execution_count": 13,
     "metadata": {},
     "output_type": "execute_result"
    }
   ],
   "source": [
    "# signal-to-noise ratio for a binary black hole merger with masses 10, 10 Msun at a luminosity distance of 100 Mpc\n",
    "gwsnr.snr(mass_1=np.array([10.0]), mass_2=np.array([10.0]), luminosity_distance=np.array([100.0]))"
   ]
  },
  {
   "cell_type": "markdown",
   "metadata": {},
   "source": [
    "## 2. PSDs with GPS time\n",
    "\n",
    "The PSDs in `gwsnr` can be accessed with GPS time. Internally `gwsnr` uses `gwpy`'s `TimeSeries.fetch_open_data` attribute to download the PSDs. Fetched PSDs are stored in the `psd_data` directory and will be loaded from there if the same PSD is requested again.\n",
    "\n",
    "I will get L1, H1 and V1 PSDs at GPS time 1187008682.4, which is 200s before the event GW170817. 16x32=512s of data will be downloaded starting from GPS time 1187008682.4-256=1187008426.4 to 1187008682.4."
   ]
  },
  {
   "cell_type": "code",
   "execution_count": 15,
   "metadata": {},
   "outputs": [
    {
     "name": "stdout",
     "output_type": "stream",
     "text": [
      "Loading psd data for L1 detector from ./psd_data/L1_1187008683_psd.txt\n",
      "Loading psd data for H1 detector from ./psd_data/H1_1187008683_psd.txt\n",
      "\n",
      "Chosen GWSNR initialization parameters:\n",
      "\n",
      "npool:  4\n",
      "snr type:  inner_product\n",
      "waveform approximant:  IMRPhenomD\n",
      "sampling frequency:  2048.0\n",
      "minimum frequency (fmin):  20.0\n",
      "mtot=mass1+mass2\n",
      "min(mtot):  2.0\n",
      "max(mtot) (with the given fmin=20.0): 184.98599853446768\n",
      "detectors:  ['L1', 'H1']\n",
      "psds:  [PowerSpectralDensity(psd_file='./psd_data/L1_1187008683_psd.txt', asd_file='None'), PowerSpectralDensity(psd_file='./psd_data/H1_1187008683_psd.txt', asd_file='None')]\n"
     ]
    }
   ],
   "source": [
    "from gwsnr import GWSNR\n",
    "import numpy as np\n",
    "\n",
    "gwsnr = GWSNR(\n",
    "\tpsds=dict(\n",
    "\t\tL1=1187008682.4, # If loaded before, it will be called from the saved data (.txt file)\n",
    "\t\tH1=1187008682.4,  # If loaded before, it will be called from the saved data (.txt file)\n",
    "\t),\n",
    "\tsnr_type='inner_product',\n",
    ")"
   ]
  },
  {
   "cell_type": "code",
   "execution_count": 16,
   "metadata": {},
   "outputs": [
    {
     "name": "stdout",
     "output_type": "stream",
     "text": [
      "PowerSpectralDensity(psd_file='./psd_data/L1_1187008683_psd.txt', asd_file='None')\n",
      "PowerSpectralDensity(psd_file='./psd_data/H1_1187008683_psd.txt', asd_file='None')\n"
     ]
    }
   ],
   "source": [
    "# Print the list of PSD objects\n",
    "for psd in gwsnr.psds_list:\n",
    "    print(psd)"
   ]
  },
  {
   "cell_type": "code",
   "execution_count": 17,
   "metadata": {},
   "outputs": [
    {
     "name": "stdout",
     "output_type": "stream",
     "text": [
      "solving SNR with inner product\n"
     ]
    },
    {
     "name": "stderr",
     "output_type": "stream",
     "text": [
      "100%|█████████████████████████████████████████████████████████████████| 1/1 [00:04<00:00,  4.61s/it]\n"
     ]
    },
    {
     "data": {
      "text/plain": [
       "{'L1': array([66.59435999]),\n",
       " 'H1': array([25.15463239]),\n",
       " 'optimal_snr_net': array([71.18682682])}"
      ]
     },
     "execution_count": 17,
     "metadata": {},
     "output_type": "execute_result"
    }
   ],
   "source": [
    "# signal-to-noise ratio for a binary black hole merger with masses 10, 10 Msun at a luminosity distance of 100 Mpc\n",
    "gwsnr.snr(mass_1=np.array([10.0]), mass_2=np.array([10.0]), luminosity_distance=np.array([100.0]))"
   ]
  },
  {
   "cell_type": "markdown",
   "metadata": {},
   "source": [
    "## 3. PSDs from .txt files\n",
    "\n",
    "Let's use the PSDs saved in the `psd_data` directory in the previous section. This file has two columns: frequency and PSD.\n",
    "\n",
    "**Note**: PSD filename should end with `psd.txt` and ASD filename should end with `asd.txt`."
   ]
  },
  {
   "cell_type": "code",
   "execution_count": 18,
   "metadata": {},
   "outputs": [
    {
     "name": "stdout",
     "output_type": "stream",
     "text": [
      "Loading psd data for V1 detector from ./psd_data/V1_1187008683_psd.txt\n",
      "\n",
      "Chosen GWSNR initialization parameters:\n",
      "\n",
      "npool:  4\n",
      "snr type:  inner_product\n",
      "waveform approximant:  IMRPhenomD\n",
      "sampling frequency:  2048.0\n",
      "minimum frequency (fmin):  20.0\n",
      "mtot=mass1+mass2\n",
      "min(mtot):  2.0\n",
      "max(mtot) (with the given fmin=20.0): 184.98599853446768\n",
      "detectors:  ['L1', 'H1', 'V1']\n",
      "psds:  [PowerSpectralDensity(psd_file='./psd_data/L1_1187008683_psd.txt', asd_file='None'), PowerSpectralDensity(psd_file='./psd_data/H1_1187008683_psd.txt', asd_file='None'), PowerSpectralDensity(psd_file='./psd_data/V1_1187008683_psd.txt', asd_file='None')]\n"
     ]
    }
   ],
   "source": [
    "from gwsnr import GWSNR\n",
    "import numpy as np\n",
    "\n",
    "gwsnr = GWSNR(\n",
    "\tpsds=dict(\n",
    "\t\tL1='./psd_data/L1_1187008683_psd.txt',\n",
    "\t\tH1='./psd_data/H1_1187008683_psd.txt',\n",
    "\t\tV1=1187008682.4,  # you can mix and match different types of psds/asds.If loaded before, it will be called from the saved data (.txt file)\n",
    "\t),\n",
    "\tsnr_type='inner_product',\n",
    ")"
   ]
  },
  {
   "cell_type": "code",
   "execution_count": 19,
   "metadata": {},
   "outputs": [
    {
     "name": "stdout",
     "output_type": "stream",
     "text": [
      "PowerSpectralDensity(psd_file='./psd_data/L1_1187008683_psd.txt', asd_file='None')\n",
      "PowerSpectralDensity(psd_file='./psd_data/H1_1187008683_psd.txt', asd_file='None')\n",
      "PowerSpectralDensity(psd_file='./psd_data/V1_1187008683_psd.txt', asd_file='None')\n"
     ]
    }
   ],
   "source": [
    "# Print the list of PSD objects\n",
    "for psd in gwsnr.psds_list:\n",
    "    print(psd)"
   ]
  },
  {
   "cell_type": "code",
   "execution_count": 20,
   "metadata": {},
   "outputs": [
    {
     "name": "stdout",
     "output_type": "stream",
     "text": [
      "solving SNR with inner product\n"
     ]
    },
    {
     "name": "stderr",
     "output_type": "stream",
     "text": [
      "100%|█████████████████████████████████████████████████████████████████| 1/1 [00:04<00:00,  4.83s/it]\n"
     ]
    },
    {
     "data": {
      "text/plain": [
       "{'L1': array([66.59435999]),\n",
       " 'H1': array([25.15463239]),\n",
       " 'V1': array([7.04454351]),\n",
       " 'optimal_snr_net': array([71.53453646])}"
      ]
     },
     "execution_count": 20,
     "metadata": {},
     "output_type": "execute_result"
    }
   ],
   "source": [
    "# signal-to-noise ratio for a binary black hole merger with masses 10, 10 Msun at a luminosity distance of 100 Mpc\n",
    "gwsnr.snr(mass_1=np.array([10.0]), mass_2=np.array([10.0]), luminosity_distance=np.array([100.0]))"
   ]
  },
  {
   "cell_type": "markdown",
   "metadata": {},
   "source": [
    "## 4. PSDs from `bilby`\n",
    "\n",
    "User can also use the PSDs or ASDs from `bilby`. Check for available PSDs/ASDs in `bilby` [here](https://github.com/bilby-dev/bilby/tree/master/bilby/gw/detector/noise_curves). Use the filename wit the extension as shown in the example below."
   ]
  },
  {
   "cell_type": "code",
   "execution_count": 21,
   "metadata": {},
   "outputs": [
    {
     "name": "stdout",
     "output_type": "stream",
     "text": [
      "Loading psd data for V1 detector from ./psd_data/V1_1187008683_psd.txt\n",
      "\n",
      "Chosen GWSNR initialization parameters:\n",
      "\n",
      "npool:  4\n",
      "snr type:  inner_product\n",
      "waveform approximant:  IMRPhenomD\n",
      "sampling frequency:  2048.0\n",
      "minimum frequency (fmin):  20.0\n",
      "mtot=mass1+mass2\n",
      "min(mtot):  2.0\n",
      "max(mtot) (with the given fmin=20.0): 184.98599853446768\n",
      "detectors:  ['L1', 'H1', 'V1']\n",
      "psds:  [PowerSpectralDensity(psd_file='None', asd_file='/Users/phurailatpamhemantakumar/anaconda3/envs/ler/lib/python3.10/site-packages/bilby/gw/detector/noise_curves/aLIGO_O4_high_asd.txt'), PowerSpectralDensity(psd_file='./psd_data/H1_1187008683_psd.txt', asd_file='None'), PowerSpectralDensity(psd_file='./psd_data/V1_1187008683_psd.txt', asd_file='None')]\n"
     ]
    }
   ],
   "source": [
    "from gwsnr import GWSNR\n",
    "import numpy as np\n",
    "\n",
    "gwsnr = GWSNR(\n",
    "\tpsds=dict(\n",
    "\t\tL1='aLIGO_O4_high_asd.txt',  # asd from bilby\n",
    "\t\tH1='./psd_data/H1_1187008683_psd.txt',  # psd from txt file\n",
    "\t\tV1=1187008682.4,  # psd from the give GPS time. If loaded before, it will be called from the saved data (.txt file)\n",
    "\t),\n",
    "\tsnr_type='inner_product',\n",
    ")"
   ]
  },
  {
   "cell_type": "code",
   "execution_count": 22,
   "metadata": {},
   "outputs": [
    {
     "name": "stdout",
     "output_type": "stream",
     "text": [
      "PowerSpectralDensity(psd_file='None', asd_file='/Users/phurailatpamhemantakumar/anaconda3/envs/ler/lib/python3.10/site-packages/bilby/gw/detector/noise_curves/aLIGO_O4_high_asd.txt')\n",
      "PowerSpectralDensity(psd_file='./psd_data/H1_1187008683_psd.txt', asd_file='None')\n",
      "PowerSpectralDensity(psd_file='./psd_data/V1_1187008683_psd.txt', asd_file='None')\n"
     ]
    }
   ],
   "source": [
    "# Print the list of PSD objects\n",
    "for psd in gwsnr.psds_list:\n",
    "    print(psd)"
   ]
  },
  {
   "cell_type": "code",
   "execution_count": 23,
   "metadata": {},
   "outputs": [
    {
     "name": "stdout",
     "output_type": "stream",
     "text": [
      "solving SNR with inner product\n"
     ]
    },
    {
     "name": "stderr",
     "output_type": "stream",
     "text": [
      "100%|█████████████████████████████████████████████████████████████████| 1/1 [00:05<00:00,  5.19s/it]\n"
     ]
    },
    {
     "data": {
      "text/plain": [
       "{'L1': array([126.70353165]),\n",
       " 'H1': array([25.15463239]),\n",
       " 'V1': array([7.04454351]),\n",
       " 'optimal_snr_net': array([129.36833483])}"
      ]
     },
     "execution_count": 23,
     "metadata": {},
     "output_type": "execute_result"
    }
   ],
   "source": [
    "# signal-to-noise ratio for a binary black hole merger with masses 10, 10 Msun at a luminosity distance of 100 Mpc\n",
    "gwsnr.snr(mass_1=np.array([10.0]), mass_2=np.array([10.0]), luminosity_distance=np.array([100.0]))"
   ]
  },
  {
   "cell_type": "markdown",
   "metadata": {},
   "source": [
    "## 5. PSDs from `pycbc`\n",
    "\n",
    "User can use the PSDs or ASDs from `pycbc` package.\n",
    "\n",
    "Check for available PSDs/ASDs in `pycbc` as shown below.\n",
    "\n",
    "```python\n",
    "    import pycbc.psd\n",
    "    pycbc.psd.get_lalsim_psd_list()\n",
    "```"
   ]
  },
  {
   "cell_type": "code",
   "execution_count": 1,
   "metadata": {},
   "outputs": [
    {
     "name": "stderr",
     "output_type": "stream",
     "text": [
      "PyCBC.libutils: pkg-config call failed, setting NO_PKGCONFIG=1\n"
     ]
    }
   ],
   "source": [
    "# load pycbc first to avoid lal related  and multiprocessing issues\n",
    "import warnings\n",
    "warnings.filterwarnings(\"ignore\", \"Wswiglal-redir-stdio\")\n",
    "import pycbc"
   ]
  },
  {
   "cell_type": "code",
   "execution_count": 2,
   "metadata": {},
   "outputs": [
    {
     "name": "stdout",
     "output_type": "stream",
     "text": [
      "Trying to get the psd from pycbc:  aLIGOaLIGODesignSensitivityT1800044\n",
      "Trying to get the psd from pycbc:  aLIGOaLIGODesignSensitivityT1800044\n",
      "Trying to get the psd from pycbc:  AdvVirgo\n",
      "\n",
      "Chosen GWSNR initialization parameters:\n",
      "\n",
      "npool:  4\n",
      "snr type:  inner_product\n",
      "waveform approximant:  IMRPhenomD\n",
      "sampling frequency:  2048.0\n",
      "minimum frequency (fmin):  20.0\n",
      "mtot=mass1+mass2\n",
      "min(mtot):  2.0\n",
      "max(mtot) (with the given fmin=20.0): 184.98599853446768\n",
      "detectors:  ['L1', 'H1', 'V1']\n",
      "psds:  [PowerSpectralDensity(frequency_array=[0.0000000e+00 6.2500000e-02 1.2500000e-01 ... 2.0478125e+03\n",
      " 2.0478750e+03 2.0479375e+03], psd_array=[0.00000000e+00 0.00000000e+00 0.00000000e+00 ... 1.06169994e-46\n",
      " 1.06176023e-46 0.00000000e+00], asd_array=[0.00000000e+00 0.00000000e+00 0.00000000e+00 ... 1.03038825e-23\n",
      " 1.03041750e-23 0.00000000e+00]), PowerSpectralDensity(frequency_array=[0.0000000e+00 6.2500000e-02 1.2500000e-01 ... 2.0478125e+03\n",
      " 2.0478750e+03 2.0479375e+03], psd_array=[0.00000000e+00 0.00000000e+00 0.00000000e+00 ... 1.06169994e-46\n",
      " 1.06176023e-46 0.00000000e+00], asd_array=[0.00000000e+00 0.00000000e+00 0.00000000e+00 ... 1.03038825e-23\n",
      " 1.03041750e-23 0.00000000e+00]), PowerSpectralDensity(frequency_array=[0.0000000e+00 6.2500000e-02 1.2500000e-01 ... 2.0478125e+03\n",
      " 2.0478750e+03 2.0479375e+03], psd_array=[0.00000000e+00 0.00000000e+00 0.00000000e+00 ... 2.44678421e-45\n",
      " 2.44695644e-45 0.00000000e+00], asd_array=[0.00000000e+00 0.00000000e+00 0.00000000e+00 ... 4.94649796e-23\n",
      " 4.94667205e-23 0.00000000e+00])]\n"
     ]
    }
   ],
   "source": [
    "from gwsnr import GWSNR\n",
    "import numpy as np\n",
    "\n",
    "gwsnr = GWSNR(\n",
    "\tpsds={\n",
    "\t\t'L1':'aLIGOaLIGODesignSensitivityT1800044',\n",
    "\t\t'H1':'aLIGOaLIGODesignSensitivityT1800044',\n",
    "\t\t'V1':'AdvVirgo'\n",
    "\t\t},\n",
    "\tsnr_type='inner_product',\n",
    ")"
   ]
  },
  {
   "cell_type": "code",
   "execution_count": 3,
   "metadata": {},
   "outputs": [
    {
     "name": "stdout",
     "output_type": "stream",
     "text": [
      "PowerSpectralDensity(frequency_array=[0.0000000e+00 6.2500000e-02 1.2500000e-01 ... 2.0478125e+03\n",
      " 2.0478750e+03 2.0479375e+03], psd_array=[0.00000000e+00 0.00000000e+00 0.00000000e+00 ... 1.06169994e-46\n",
      " 1.06176023e-46 0.00000000e+00], asd_array=[0.00000000e+00 0.00000000e+00 0.00000000e+00 ... 1.03038825e-23\n",
      " 1.03041750e-23 0.00000000e+00])\n",
      "PowerSpectralDensity(frequency_array=[0.0000000e+00 6.2500000e-02 1.2500000e-01 ... 2.0478125e+03\n",
      " 2.0478750e+03 2.0479375e+03], psd_array=[0.00000000e+00 0.00000000e+00 0.00000000e+00 ... 1.06169994e-46\n",
      " 1.06176023e-46 0.00000000e+00], asd_array=[0.00000000e+00 0.00000000e+00 0.00000000e+00 ... 1.03038825e-23\n",
      " 1.03041750e-23 0.00000000e+00])\n",
      "PowerSpectralDensity(frequency_array=[0.0000000e+00 6.2500000e-02 1.2500000e-01 ... 2.0478125e+03\n",
      " 2.0478750e+03 2.0479375e+03], psd_array=[0.00000000e+00 0.00000000e+00 0.00000000e+00 ... 2.44678421e-45\n",
      " 2.44695644e-45 0.00000000e+00], asd_array=[0.00000000e+00 0.00000000e+00 0.00000000e+00 ... 4.94649796e-23\n",
      " 4.94667205e-23 0.00000000e+00])\n"
     ]
    }
   ],
   "source": [
    "# Print the list of PSD objects\n",
    "for psd in gwsnr.psds_list:\n",
    "    print(psd)"
   ]
  },
  {
   "cell_type": "code",
   "execution_count": 4,
   "metadata": {},
   "outputs": [
    {
     "name": "stdout",
     "output_type": "stream",
     "text": [
      "solving SNR with inner product\n"
     ]
    },
    {
     "name": "stderr",
     "output_type": "stream",
     "text": [
      "100%|█████████████████████████████████████████████████████████████████| 1/1 [00:00<00:00,  2.56it/s]\n"
     ]
    },
    {
     "data": {
      "text/plain": [
       "{'L1': array([118.87799633]),\n",
       " 'H1': array([75.61021096]),\n",
       " 'V1': array([39.78184802]),\n",
       " 'optimal_snr_net': array([146.39493654])}"
      ]
     },
     "execution_count": 4,
     "metadata": {},
     "output_type": "execute_result"
    }
   ],
   "source": [
    "# signal-to-noise ratio for a binary black hole merger with masses 10, 10 Msun at a luminosity distance of 100 Mpc\n",
    "gwsnr.snr(mass_1=np.array([10.0]), mass_2=np.array([10.0]), luminosity_distance=np.array([100.0]))"
   ]
  },
  {
   "cell_type": "code",
   "execution_count": null,
   "metadata": {},
   "outputs": [],
   "source": []
  }
 ],
 "metadata": {
  "kernelspec": {
   "display_name": "ler",
   "language": "python",
   "name": "ler"
  },
  "language_info": {
   "codemirror_mode": {
    "name": "ipython",
    "version": 3
   },
   "file_extension": ".py",
   "mimetype": "text/x-python",
   "name": "python",
   "nbconvert_exporter": "python",
   "pygments_lexer": "ipython3",
   "version": "3.10.14"
  }
 },
 "nbformat": 4,
 "nbformat_minor": 2
}
