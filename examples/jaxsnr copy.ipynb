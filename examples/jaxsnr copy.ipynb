{
 "cells": [
  {
   "cell_type": "code",
   "execution_count": 5,
   "metadata": {},
   "outputs": [],
   "source": [
    "# jax import \n",
    "import jax.numpy as jnp\n",
    "from jax import grad, jit, vmap\n",
    "from jax import random\n",
    "\n",
    "import bilby\n",
    "import numpy as np\n",
    "\n",
    "C = 299792458.0\n",
    "G = 6.67408 * 1e-11\n",
    "Mo = 1.989 * 1e30\n",
    "Gamma = 0.5772156649015329\n",
    "Pi = jnp.pi\n",
    "MTSUN_SI = 4.925491025543576e-06"
   ]
  },
  {
   "cell_type": "code",
   "execution_count": null,
   "metadata": {},
   "outputs": [],
   "source": [
    "from math import fmod\n",
    "from bilby.core.utils import ra_dec_to_theta_phi\n",
    "\n",
    "def greenwich_mean_sidereal_time(time):\n",
    "    from lal import GreenwichMeanSiderealTime\n",
    "    time = float(time)\n",
    "    return GreenwichMeanSiderealTime(time)"
   ]
  },
  {
   "cell_type": "code",
   "execution_count": 1,
   "metadata": {},
   "outputs": [],
   "source": [
    "from lal import GreenwichMeanSiderealTime"
   ]
  },
  {
   "cell_type": "code",
   "execution_count": 10,
   "metadata": {},
   "outputs": [
    {
     "data": {
      "text/plain": [
       "1576800000"
      ]
     },
     "execution_count": 10,
     "metadata": {},
     "output_type": "execute_result"
    }
   ],
   "source": [
    "# GPS time 50 years from 1126259642.413"
   ]
  },
  {
   "cell_type": "code",
   "execution_count": 100,
   "metadata": {},
   "outputs": [],
   "source": [
    "# gps time from 2015 to 2050\n",
    "time = np.linspace(1126259642.413, 1126259642.413+24*60*60*365, 1000)\n",
    "gmst = []\n",
    "for i in time:\n",
    "    t_ = float(i)\n",
    "    gmst.append(GreenwichMeanSiderealTime(t_))\n",
    "gmst = np.array(gmst)"
   ]
  },
  {
   "cell_type": "code",
   "execution_count": 90,
   "metadata": {},
   "outputs": [
    {
     "data": {
      "text/plain": [
       "36137.068361399164"
      ]
     },
     "execution_count": 90,
     "metadata": {},
     "output_type": "execute_result"
    }
   ],
   "source": [
    "GreenwichMeanSiderealTime(1126259642.413)"
   ]
  },
  {
   "cell_type": "code",
   "execution_count": 107,
   "metadata": {},
   "outputs": [
    {
     "data": {
      "image/png": "[encoded data removed]",
      "text/plain": [
       "<Figure size 640x480 with 1 Axes>"
      ]
     },
     "metadata": {},
     "output_type": "display_data"
    }
   ],
   "source": [
    "# plot the gmst\n",
    "import matplotlib.pyplot as plt\n",
    "x_ = np.linspace(0, 24*60*60*365, 1000)\n",
    "plt.plot(time-time[0], gmst)\n",
    "plt.plot(time-time[0], gps_to_gmst(time)) \n",
    "plt.xlabel('GPS time')\n",
    "plt.ylabel('GMST')\n",
    "plt.show()"
   ]
  },
  {
   "cell_type": "markdown",
   "metadata": {},
   "source": []
  },
  {
   "cell_type": "code",
   "execution_count": 97,
   "metadata": {},
   "outputs": [
    {
     "name": "stdout",
     "output_type": "stream",
     "text": [
      "7.292115855382993e-05\n"
     ]
    }
   ],
   "source": [
    "x2 = 1126259642.413+24*60*60\n",
    "x1 = 1126259642.413\n",
    "y2 = GreenwichMeanSiderealTime(x2)\n",
    "y1 = GreenwichMeanSiderealTime(x1)\n",
    "slope = (y2-y1)/(x2-x1)\n",
    "print(slope)"
   ]
  },
  {
   "cell_type": "code",
   "execution_count": 156,
   "metadata": {},
   "outputs": [],
   "source": [
    "@jit\n",
    "def gps_to_gmst(gps_time):\n",
    "    slope = 7.292115855382993e-05\n",
    "    time0 = 1126259642.413\n",
    "    time = gps_time - time0\n",
    "    return slope*time+36137.068361399164\n",
    "\n",
    "@jit\n",
    "def ra_dec_to_theta_phi(ra, dec, gmst):\n",
    "    phi = ra - gmst\n",
    "    theta = jnp.pi / 2.0 - dec\n",
    "    return theta, phi"
   ]
  },
  {
   "cell_type": "code",
   "execution_count": 181,
   "metadata": {},
   "outputs": [],
   "source": [
    "# define values\n",
    "time = 1126259642.413\n",
    "ra = 1.375\n",
    "dec = -1.2108\n",
    "psi = 0.1\n",
    "mode = \"plus\"\n",
    "ifos = bilby.gw.detector.InterferometerList(['H1', 'L1'])\n",
    "detector_tensor = ifos[0].detector_tensor\n"
   ]
  },
  {
   "cell_type": "code",
   "execution_count": 182,
   "metadata": {},
   "outputs": [],
   "source": [
    "@jit\n",
    "def get_polarization_tensor(ra, dec, time, psi):\n",
    "    gmst = jnp.fmod(gps_to_gmst(time), 2 * jnp.pi)\n",
    "    theta, phi = ra_dec_to_theta_phi(ra, dec, gmst)\n",
    "    u = jnp.array([jnp.cos(phi) * jnp.cos(theta), jnp.cos(theta) * jnp.sin(phi), -jnp.sin(theta)])\n",
    "    v = jnp.array([-jnp.sin(phi), jnp.cos(phi), 0])\n",
    "    m = -u * jnp.sin(psi) - v * jnp.cos(psi)\n",
    "    n = -u * jnp.cos(psi) + v * jnp.sin(psi)\n",
    "\n",
    "    return jnp.einsum('i,j->ij', m, m) - jnp.einsum('i,j->ij', n, n)\n",
    "\n",
    "@jit\n",
    "def antenna_response(ra, dec, time, psi, detector_tensor):\n",
    "\n",
    "    polarization_tensor = get_polarization_tensor(ra, dec, time, psi)\n",
    "    return jnp.einsum('ij,ij->', detector_tensor, polarization_tensor)"
   ]
  },
  {
   "cell_type": "code",
   "execution_count": 183,
   "metadata": {},
   "outputs": [
    {
     "data": {
      "text/plain": [
       "Array(-0.19871911, dtype=float32)"
      ]
     },
     "execution_count": 183,
     "metadata": {},
     "output_type": "execute_result"
    }
   ],
   "source": [
    "antenna_response(ra, dec, time, psi, jnp.array(detector_tensor))"
   ]
  },
  {
   "cell_type": "code",
   "execution_count": 185,
   "metadata": {},
   "outputs": [],
   "source": [
    "gmst = jnp.fmod(gps_to_gmst(time), 2 * jnp.pi)\n",
    "theta, phi = ra_dec_to_theta_phi(ra, dec, gmst)\n",
    "u = jnp.array([jnp.cos(phi) * jnp.cos(theta), jnp.cos(theta) * jnp.sin(phi), -jnp.sin(theta)])\n",
    "v = jnp.array([-jnp.sin(phi), jnp.cos(phi), 0])\n",
    "m = -u * jnp.sin(psi) - v * jnp.cos(psi)\n",
    "n = -u * jnp.cos(psi) + v * jnp.sin(psi)"
   ]
  },
  {
   "cell_type": "code",
   "execution_count": 195,
   "metadata": {},
   "outputs": [
    {
     "data": {
      "text/plain": [
       "(1, 3)"
      ]
     },
     "execution_count": 195,
     "metadata": {},
     "output_type": "execute_result"
    }
   ],
   "source": [
    "np.shape(np.array([m]))"
   ]
  },
  {
   "cell_type": "code",
   "execution_count": 198,
   "metadata": {},
   "outputs": [],
   "source": [
    "@jit\n",
    "def einsum1(m,n):\n",
    "    ans = jnp.zeros((3,3))\n",
    "    ans[0,0] = m[0]*n[0]\n",
    "    ans[0,1] = m[0]*n[1]\n",
    "    ans[0,2] = m[0]*n[2]\n",
    "    ans[1,0] = m[1]*n[0]\n",
    "    ans[1,1] = m[1]*n[1]\n",
    "    ans[1,2] = m[1]*n[2]\n",
    "    ans[2,0] = m[2]*n[0]\n",
    "    ans[2,1] = m[2]*n[1]\n",
    "    ans[2,2] = m[2]*n[2]\n",
    "    return ans\n",
    "@jit\n",
    "def einsum2(m,n):\n",
    "    ans = m[0,0]*n[0,0] + m[0,1]*n[0,1] + m[0,2]*n[0,2] + m[1,0]*n[1,0] + m[1,1]*n[1,1] + m[1,2]*n[1,2] + m[2,0]*n[2,0] + m[2,1]*n[2,1] + m[2,2]*n[2,2]\n",
    "    return ans"
   ]
  },
  {
   "cell_type": "code",
   "execution_count": 190,
   "metadata": {},
   "outputs": [
    {
     "name": "stdout",
     "output_type": "stream",
     "text": [
      "0.70899144946569\n",
      "0.453261222304491\n",
      "-0.029612357624757002\n",
      "0.453261222304491\n"
     ]
    }
   ],
   "source": [
    "print(-0.8420163*-0.8420163)\n",
    "print(-0.8420163*-0.53830457)\n",
    "print(-0.8420163*0.03516839)\n",
    "print(-0.8420163*-0.53830457)"
   ]
  },
  {
   "cell_type": "code",
   "execution_count": 187,
   "metadata": {},
   "outputs": [
    {
     "data": {
      "text/plain": [
       "Array([[ 0.7089914 ,  0.4532612 , -0.02961235],\n",
       "       [ 0.4532612 ,  0.2897718 , -0.0189313 ],\n",
       "       [-0.02961235, -0.0189313 ,  0.00123682]], dtype=float32)"
      ]
     },
     "execution_count": 187,
     "metadata": {},
     "output_type": "execute_result"
    }
   ],
   "source": [
    "jnp.einsum('i,j->ij', m, m)"
   ]
  },
  {
   "cell_type": "code",
   "execution_count": 160,
   "metadata": {},
   "outputs": [],
   "source": [
    "ifos = bilby.gw.detector.InterferometerList(['H1', 'L1'])"
   ]
  },
  {
   "cell_type": "code",
   "execution_count": 199,
   "metadata": {},
   "outputs": [
    {
     "data": {
      "text/plain": [
       "0.5911086754149112"
      ]
     },
     "execution_count": 199,
     "metadata": {},
     "output_type": "execute_result"
    }
   ],
   "source": [
    "# randor ra and dec\n",
    "# ra = np.random.uniform(0, 2*np.pi)\n",
    "# dec = np.random.uniform(-np.pi/2, np.pi/2)\n",
    "ifos[0].antenna_response(ra, dec, time, psi, 'cross')"
   ]
  },
  {
   "cell_type": "code",
   "execution_count": null,
   "metadata": {},
   "outputs": [],
   "source": [
    "gmst = jnp.fmod(gps_to_gmst(time), 2 * jnp.pi)\n",
    "theta, phi = ra_dec_to_theta_phi(ra, dec, gmst)\n",
    "jnp.array([jnp.cos(phi) * jnp.cos(theta), jnp.cos(theta) * jnp.sin(phi), -jnp.sin(theta)])"
   ]
  },
  {
   "cell_type": "code",
   "execution_count": null,
   "metadata": {},
   "outputs": [],
   "source": []
  },
  {
   "cell_type": "code",
   "execution_count": null,
   "metadata": {},
   "outputs": [],
   "source": []
  },
  {
   "cell_type": "code",
   "execution_count": null,
   "metadata": {},
   "outputs": [],
   "source": []
  },
  {
   "cell_type": "code",
   "execution_count": null,
   "metadata": {},
   "outputs": [],
   "source": []
  },
  {
   "cell_type": "code",
   "execution_count": 136,
   "metadata": {},
   "outputs": [],
   "source": [
    "def greenwich_mean_sidereal_time(time):\n",
    "    from lal import GreenwichMeanSiderealTime\n",
    "    time = float(time)\n",
    "    return GreenwichMeanSiderealTime(time)\n",
    "\n",
    "def ra_dec_to_theta_phi(ra, dec, gmst):\n",
    "    phi = ra - gmst\n",
    "    theta = np.pi / 2.0 - dec\n",
    "    return theta, phi\n",
    "\n",
    "def get_polarization_tensor(ra, dec, time, psi, mode):\n",
    "\n",
    "    gmst = fmod(greenwich_mean_sidereal_time(time), 2 * np.pi)\n",
    "    theta, phi = ra_dec_to_theta_phi(ra, dec, gmst)\n",
    "    u = np.array([np.cos(phi) * np.cos(theta), np.cos(theta) * np.sin(phi), -np.sin(theta)])\n",
    "    v = np.array([-np.sin(phi), np.cos(phi), 0])\n",
    "    m = -u * np.sin(psi) - v * np.cos(psi)\n",
    "    n = -u * np.cos(psi) + v * np.sin(psi)\n",
    "\n",
    "    if mode.lower() == 'plus':\n",
    "        return np.einsum('i,j->ij', m, m) - np.einsum('i,j->ij', n, n)\n",
    "    elif mode.lower() == 'cross':\n",
    "        return np.einsum('i,j->ij', m, n) + np.einsum('i,j->ij', n, m)\n",
    "    elif mode.lower() == 'breathing':\n",
    "        return np.einsum('i,j->ij', m, m) + np.einsum('i,j->ij', n, n)\n",
    "\n",
    "    # Calculating omega here to avoid calculation when model in [plus, cross, breathing]\n",
    "    omega = np.cross(m, n)\n",
    "    if mode.lower() == 'longitudinal':\n",
    "        return np.einsum('i,j->ij', omega, omega)\n",
    "    elif mode.lower() == 'x':\n",
    "        return np.einsum('i,j->ij', m, omega) + np.einsum('i,j->ij', omega, m)\n",
    "    elif mode.lower() == 'y':\n",
    "        return np.einsum('i,j->ij', n, omega) + np.einsum('i,j->ij', omega, n)\n",
    "    else:\n",
    "        raise ValueError(\"{} not a polarization mode!\".format(mode))"
   ]
  },
  {
   "cell_type": "code",
   "execution_count": 115,
   "metadata": {},
   "outputs": [
    {
     "ename": "ConcretizationTypeError",
     "evalue": "Abstract tracer value encountered where concrete value is expected: Traced<ShapedArray(float32[], weak_type=True)>with<DynamicJaxprTrace(level=1/0)>\nThe problem arose with the `float` function. If trying to convert the data type of a value, try using `x.astype(float)` or `jnp.array(x, float)` instead.\nThe error occurred while tracing the function greenwich_mean_sidereal_time at /var/folders/ws/0948zvwd7g795j2l3fryghjw0000gp/T/ipykernel_40273/2180254075.py:1 for jit. This concrete value was not available in Python because it depends on the value of the argument time.\n\nSee https://jax.readthedocs.io/en/latest/errors.html#jax.errors.ConcretizationTypeError",
     "output_type": "error",
     "traceback": [
      "\u001b[0;31m---------------------------------------------------------------------------\u001b[0m",
      "\u001b[0;31mConcretizationTypeError\u001b[0m                   Traceback (most recent call last)",
      "Cell \u001b[0;32mIn[115], line 1\u001b[0m\n\u001b[0;32m----> 1\u001b[0m \u001b[43mgreenwich_mean_sidereal_time\u001b[49m\u001b[43m(\u001b[49m\u001b[38;5;241;43m1126259642.413\u001b[39;49m\u001b[43m)\u001b[49m\n",
      "    \u001b[0;31m[... skipping hidden 12 frame]\u001b[0m\n",
      "Cell \u001b[0;32mIn[114], line 4\u001b[0m, in \u001b[0;36mgreenwich_mean_sidereal_time\u001b[0;34m(time)\u001b[0m\n\u001b[1;32m      1\u001b[0m \u001b[38;5;129m@jit\u001b[39m\n\u001b[1;32m      2\u001b[0m \u001b[38;5;28;01mdef\u001b[39;00m \u001b[38;5;21mgreenwich_mean_sidereal_time\u001b[39m(time):\n\u001b[1;32m      3\u001b[0m     \u001b[38;5;28;01mfrom\u001b[39;00m \u001b[38;5;21;01mlal\u001b[39;00m \u001b[38;5;28;01mimport\u001b[39;00m GreenwichMeanSiderealTime\n\u001b[0;32m----> 4\u001b[0m     time \u001b[38;5;241m=\u001b[39m \u001b[38;5;28;43mfloat\u001b[39;49m\u001b[43m(\u001b[49m\u001b[43mtime\u001b[49m\u001b[43m)\u001b[49m\n\u001b[1;32m      5\u001b[0m     \u001b[38;5;28;01mreturn\u001b[39;00m GreenwichMeanSiderealTime(time)\n",
      "    \u001b[0;31m[... skipping hidden 1 frame]\u001b[0m\n",
      "File \u001b[0;32m~/anaconda3/envs/ler/lib/python3.10/site-packages/jax/_src/core.py:1345\u001b[0m, in \u001b[0;36mconcretization_function_error.<locals>.error\u001b[0;34m(self, arg)\u001b[0m\n\u001b[1;32m   1344\u001b[0m \u001b[38;5;28;01mdef\u001b[39;00m \u001b[38;5;21merror\u001b[39m(\u001b[38;5;28mself\u001b[39m, arg):\n\u001b[0;32m-> 1345\u001b[0m   \u001b[38;5;28;01mraise\u001b[39;00m ConcretizationTypeError(arg, fname_context)\n",
      "\u001b[0;31mConcretizationTypeError\u001b[0m: Abstract tracer value encountered where concrete value is expected: Traced<ShapedArray(float32[], weak_type=True)>with<DynamicJaxprTrace(level=1/0)>\nThe problem arose with the `float` function. If trying to convert the data type of a value, try using `x.astype(float)` or `jnp.array(x, float)` instead.\nThe error occurred while tracing the function greenwich_mean_sidereal_time at /var/folders/ws/0948zvwd7g795j2l3fryghjw0000gp/T/ipykernel_40273/2180254075.py:1 for jit. This concrete value was not available in Python because it depends on the value of the argument time.\n\nSee https://jax.readthedocs.io/en/latest/errors.html#jax.errors.ConcretizationTypeError"
     ]
    }
   ],
   "source": [
    "greenwich_mean_sidereal_time(1126259642.413)"
   ]
  },
  {
   "cell_type": "code",
   "execution_count": 116,
   "metadata": {},
   "outputs": [
    {
     "data": {
      "text/plain": [
       "0.2777777777777778"
      ]
     },
     "execution_count": 116,
     "metadata": {},
     "output_type": "execute_result"
    }
   ],
   "source": [
    "10e-3*100000/3600"
   ]
  },
  {
   "cell_type": "code",
   "execution_count": null,
   "metadata": {},
   "outputs": [],
   "source": []
  }
 ],
 "metadata": {
  "kernelspec": {
   "display_name": "ler",
   "language": "python",
   "name": "ler"
  },
  "language_info": {
   "codemirror_mode": {
    "name": "ipython",
    "version": 3
   },
   "file_extension": ".py",
   "mimetype": "text/x-python",
   "name": "python",
   "nbconvert_exporter": "python",
   "pygments_lexer": "ipython3",
   "version": "3.10.12"
  }
 },
 "nbformat": 4,
 "nbformat_minor": 2
}
