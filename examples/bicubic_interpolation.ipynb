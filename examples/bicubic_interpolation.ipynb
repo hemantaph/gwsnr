{
 "cells": [
  {
   "cell_type": "markdown",
   "metadata": {},
   "source": [
    "# bicubic interpolation "
   ]
  },
  {
   "cell_type": "code",
   "execution_count": null,
   "metadata": {},
   "outputs": [],
   "source": []
  },
  {
   "cell_type": "code",
   "execution_count": 265,
   "metadata": {},
   "outputs": [],
   "source": [
    "import numpy as np\n",
    "from scipy.interpolate import RectBivariateSpline, CubicSpline\n",
    "from numba import njit, jit\n",
    "\n",
    "# Example 2D grid (x, y) and corresponding function values z\n",
    "x = np.linspace(0., 5, 100)\n",
    "y = np.linspace(0., 5, 100)\n",
    "x_, y_ = np.meshgrid(x, y)\n",
    "z = np.sin(x_**2 + y_**2)  # Example function values\n",
    "fn_ = lambda x_,y_: np.sin(x_**2 + y_**2)"
   ]
  },
  {
   "cell_type": "markdown",
   "metadata": {},
   "source": [
    "* RectBivariateSpline needs size of x and y the same"
   ]
  },
  {
   "cell_type": "code",
   "execution_count": 266,
   "metadata": {},
   "outputs": [],
   "source": [
    "interp_spline = RectBivariateSpline(x_[0, :], y_[:,0], z)"
   ]
  },
  {
   "cell_type": "code",
   "execution_count": 267,
   "metadata": {},
   "outputs": [
    {
     "data": {
      "text/plain": [
       "array([[0.55138675]])"
      ]
     },
     "execution_count": 267,
     "metadata": {},
     "output_type": "execute_result"
    }
   ],
   "source": [
    "x_new = 4\n",
    "y_new = 4\n",
    "interp_spline(x_new, y_new)"
   ]
  },
  {
   "cell_type": "code",
   "execution_count": 268,
   "metadata": {},
   "outputs": [
    {
     "data": {
      "text/plain": [
       "0.5514266812416906"
      ]
     },
     "execution_count": 268,
     "metadata": {},
     "output_type": "execute_result"
    }
   ],
   "source": [
    "fn_(x_new, y_new)"
   ]
  },
  {
   "cell_type": "code",
   "execution_count": 43,
   "metadata": {},
   "outputs": [],
   "source": [
    "x_new = np.random.uniform(0, 5, 25000)\n",
    "y_new = np.random.uniform(0, 5, 25000)\n",
    "\n",
    "def interp(x_new, y_new):\n",
    "    z_new = np.zeros_like(x_new)\n",
    "    for i in range(len(x_new)):\n",
    "        z_new[i] = interp_spline(x_new[i], y_new[i])\n",
    "    return z_new"
   ]
  },
  {
   "cell_type": "code",
   "execution_count": 46,
   "metadata": {},
   "outputs": [
    {
     "name": "stdout",
     "output_type": "stream",
     "text": [
      "CPU times: user 47.6 ms, sys: 2.47 ms, total: 50.1 ms\n",
      "Wall time: 48.6 ms\n"
     ]
    },
    {
     "data": {
      "text/plain": [
       "array([ 0.40865133, -0.79037589,  0.91349236, ...,  0.7891974 ,\n",
       "       -0.41989411, -0.34900501])"
      ]
     },
     "execution_count": 46,
     "metadata": {},
     "output_type": "execute_result"
    }
   ],
   "source": [
    "%time interp(x_new, y_new)"
   ]
  },
  {
   "cell_type": "code",
   "execution_count": null,
   "metadata": {},
   "outputs": [],
   "source": []
  },
  {
   "cell_type": "code",
   "execution_count": null,
   "metadata": {},
   "outputs": [],
   "source": []
  },
  {
   "cell_type": "code",
   "execution_count": 269,
   "metadata": {},
   "outputs": [],
   "source": [
    "x = np.linspace(0, 5, 100)\n",
    "y = np.linspace(0, 5, 100)\n",
    "fn_ = lambda x_,y_: np.sin(x_**2 + y_**2)"
   ]
  },
  {
   "cell_type": "code",
   "execution_count": 270,
   "metadata": {},
   "outputs": [
    {
     "name": "stdout",
     "output_type": "stream",
     "text": [
      "(100, 100)\n"
     ]
    }
   ],
   "source": [
    "y_, x_ = np.meshgrid(y, x)\n",
    "z = fn_(x_, y_)\n",
    "print(np.shape(z))"
   ]
  },
  {
   "cell_type": "code",
   "execution_count": 271,
   "metadata": {},
   "outputs": [],
   "source": [
    "# yfixed\n",
    "coeff_yfixed = []\n",
    "derivatives1_yfixed = []\n",
    "derivatives2_yfixed = []\n",
    "for i in range(len(y)):\n",
    "    spline = CubicSpline(x, z[:, i])\n",
    "    coeff_yfixed.append(spline.c)\n",
    "    derivatives1_yfixed.append(spline.derivative(1)(x))\n",
    "    derivatives2_yfixed.append(spline.derivative(2)(x))\n",
    "coeff_yfixed = np.array(coeff_yfixed)\n",
    "derivatives1_yfixed = np.array(derivatives1_yfixed)\n",
    "derivatives2_yfixed = np.array(derivatives2_yfixed)"
   ]
  },
  {
   "cell_type": "code",
   "execution_count": 272,
   "metadata": {},
   "outputs": [],
   "source": [
    "# xfixed\n",
    "coeff_xfixed = []\n",
    "derivatives1_xfixed = []\n",
    "derivatives2_xfixed = []\n",
    "for i in range(len(x)):\n",
    "    spline = CubicSpline(y, z[i, :])\n",
    "    coeff_xfixed.append(spline.c)\n",
    "    derivatives1_xfixed.append(spline.derivative(1)(y))\n",
    "    derivatives2_xfixed.append(spline.derivative(2)(y))\n",
    "coeff_xfixed = np.array(coeff_xfixed)\n",
    "derivatives1_xfixed = np.array(derivatives1_xfixed)\n",
    "derivatives2_xfixed = np.array(derivatives2_xfixed)"
   ]
  },
  {
   "cell_type": "code",
   "execution_count": 273,
   "metadata": {},
   "outputs": [
    {
     "name": "stdout",
     "output_type": "stream",
     "text": [
      "(100, 100)\n",
      "(100, 100)\n"
     ]
    }
   ],
   "source": [
    "print(np.shape(derivatives1_yfixed))\n",
    "print(np.shape(derivatives1_xfixed))"
   ]
  },
  {
   "cell_type": "code",
   "execution_count": 274,
   "metadata": {},
   "outputs": [],
   "source": [
    "# partial derivatives at each [x,y] points\n",
    "partial_derivatives1 = np.zeros((len(x), len(y), 2))\n",
    "partial_derivatives2 = np.zeros((len(x), len(y), 2))\n",
    "for i in range(len(x)):\n",
    "    for j in range(len(y)):\n",
    "        partial_derivatives1[i, j,0] = derivatives1_yfixed[j, i]\n",
    "        partial_derivatives1[i, j, 1] = derivatives1_xfixed[i, j]\n",
    "        partial_derivatives2[i, j,0] = derivatives2_yfixed[j, i]\n",
    "        partial_derivatives2[i, j, 1] = derivatives2_xfixed[i, j]"
   ]
  },
  {
   "cell_type": "code",
   "execution_count": 275,
   "metadata": {},
   "outputs": [
    {
     "name": "stdout",
     "output_type": "stream",
     "text": [
      "(100, 100, 2)\n"
     ]
    }
   ],
   "source": [
    "print(np.shape(partial_derivatives1))"
   ]
  },
  {
   "cell_type": "code",
   "execution_count": 276,
   "metadata": {},
   "outputs": [
    {
     "name": "stdout",
     "output_type": "stream",
     "text": [
      "[0.         0.05050505 0.1010101  0.15151515 0.2020202  0.25252525\n",
      " 0.3030303  0.35353535 0.4040404  0.45454545 0.50505051 0.55555556\n",
      " 0.60606061 0.65656566 0.70707071 0.75757576 0.80808081 0.85858586\n",
      " 0.90909091 0.95959596 1.01010101 1.06060606 1.11111111 1.16161616\n",
      " 1.21212121 1.26262626 1.31313131 1.36363636 1.41414141 1.46464646\n",
      " 1.51515152 1.56565657 1.61616162 1.66666667 1.71717172 1.76767677\n",
      " 1.81818182 1.86868687 1.91919192 1.96969697 2.02020202 2.07070707\n",
      " 2.12121212 2.17171717 2.22222222 2.27272727 2.32323232 2.37373737\n",
      " 2.42424242 2.47474747 2.52525253 2.57575758 2.62626263 2.67676768\n",
      " 2.72727273 2.77777778 2.82828283 2.87878788 2.92929293 2.97979798\n",
      " 3.03030303 3.08080808 3.13131313 3.18181818 3.23232323 3.28282828\n",
      " 3.33333333 3.38383838 3.43434343 3.48484848 3.53535354 3.58585859\n",
      " 3.63636364 3.68686869 3.73737374 3.78787879 3.83838384 3.88888889\n",
      " 3.93939394 3.98989899 4.04040404 4.09090909 4.14141414 4.19191919\n",
      " 4.24242424 4.29292929 4.34343434 4.39393939 4.44444444 4.49494949\n",
      " 4.54545455 4.5959596  4.64646465 4.6969697  4.74747475 4.7979798\n",
      " 4.84848485 4.8989899  4.94949495 5.        ]\n",
      "[0.         0.05050505 0.1010101  0.15151515 0.2020202  0.25252525\n",
      " 0.3030303  0.35353535 0.4040404  0.45454545 0.50505051 0.55555556\n",
      " 0.60606061 0.65656566 0.70707071 0.75757576 0.80808081 0.85858586\n",
      " 0.90909091 0.95959596 1.01010101 1.06060606 1.11111111 1.16161616\n",
      " 1.21212121 1.26262626 1.31313131 1.36363636 1.41414141 1.46464646\n",
      " 1.51515152 1.56565657 1.61616162 1.66666667 1.71717172 1.76767677\n",
      " 1.81818182 1.86868687 1.91919192 1.96969697 2.02020202 2.07070707\n",
      " 2.12121212 2.17171717 2.22222222 2.27272727 2.32323232 2.37373737\n",
      " 2.42424242 2.47474747 2.52525253 2.57575758 2.62626263 2.67676768\n",
      " 2.72727273 2.77777778 2.82828283 2.87878788 2.92929293 2.97979798\n",
      " 3.03030303 3.08080808 3.13131313 3.18181818 3.23232323 3.28282828\n",
      " 3.33333333 3.38383838 3.43434343 3.48484848 3.53535354 3.58585859\n",
      " 3.63636364 3.68686869 3.73737374 3.78787879 3.83838384 3.88888889\n",
      " 3.93939394 3.98989899 4.04040404 4.09090909 4.14141414 4.19191919\n",
      " 4.24242424 4.29292929 4.34343434 4.39393939 4.44444444 4.49494949\n",
      " 4.54545455 4.5959596  4.64646465 4.6969697  4.74747475 4.7979798\n",
      " 4.84848485 4.8989899  4.94949495 5.        ]\n",
      "[[ 0.          0.00255076  0.01020286 ... -0.90553508 -0.5933715\n",
      "  -0.13235175]\n",
      " [ 0.00255076  0.0051015   0.01275345 ... -0.90444992 -0.59131639\n",
      "  -0.129823  ]\n",
      " [ 0.01020286  0.01275345  0.02040466 ... -0.90115916 -0.58512803\n",
      "  -0.12223175]\n",
      " ...\n",
      " [-0.90553508 -0.90444992 -0.90115916 ... -0.76838527 -0.98064176\n",
      "  -0.95372198]\n",
      " [-0.5933715  -0.59131639 -0.58512803 ... -0.98064176 -0.95524354\n",
      "  -0.69468522]\n",
      " [-0.13235175 -0.129823   -0.12223175 ... -0.95372198 -0.69468522\n",
      "  -0.26237485]]\n"
     ]
    }
   ],
   "source": [
    "print(x)\n",
    "print(y)\n",
    "print(z)"
   ]
  },
  {
   "cell_type": "code",
   "execution_count": 277,
   "metadata": {},
   "outputs": [],
   "source": [
    "# vectorization\n",
    "# bicubic interpolation\n",
    "x_new = 4\n",
    "y_new = 4\n",
    "# search for the nearest (but above) x and y\n",
    "x_idx = np.searchsorted(x, x_new)-1\n",
    "y_idx = np.searchsorted(y, y_new)-1"
   ]
  },
  {
   "cell_type": "code",
   "execution_count": 278,
   "metadata": {},
   "outputs": [
    {
     "name": "stdout",
     "output_type": "stream",
     "text": [
      "79\n",
      "79\n"
     ]
    }
   ],
   "source": [
    "print(x_idx)\n",
    "print(y_idx)"
   ]
  },
  {
   "cell_type": "code",
   "execution_count": 279,
   "metadata": {},
   "outputs": [
    {
     "name": "stderr",
     "output_type": "stream",
     "text": [
      "/var/folders/ws/0948zvwd7g795j2l3fryghjw0000gp/T/ipykernel_99764/1700135318.py:17: VisibleDeprecationWarning: Creating an ndarray from ragged nested sequences (which is a list-or-tuple of lists-or-tuples-or ndarrays with different lengths or shapes) is deprecated. If you meant to do this, you must specify 'dtype=object' when creating the ndarray.\n",
      "  matrixA = np.array([\n"
     ]
    }
   ],
   "source": [
    "x_idx1 = x_idx+1\n",
    "x_idx2 = x_idx+1\n",
    "x_idx3 = x_idx\n",
    "x_idx4 = x_idx\n",
    "y_idx1 = y_idx+1\n",
    "y_idx2 = y_idx\n",
    "y_idx3 = y_idx+1\n",
    "y_idx4 = y_idx\n",
    "x1, x2, x3, x4 = x[x_idx1], x[x_idx2], x[x_idx3], x[x_idx4]\n",
    "y1, y2, y3, y4 = y[y_idx1], y[y_idx2], y[y_idx3], y[y_idx4]\n",
    "\n",
    "x_idx1_ = x_idx1-1\n",
    "x_idx2_ = x_idx2-1\n",
    "x_idx3_ = x_idx3-1\n",
    "x_idx4_ = x_idx4-1\n",
    "\n",
    "matrixA = np.array([\n",
    "    [x1**3, x1**2, x1, y1**3, y1**2, y1, x1**2*y1, x1*y1**2, x1*y1, 1,0,0,0,0,0,0,0,0,0,0,0,0,0,0,0,0,0,0,0,0],\n",
    "    [x2**3, x2**2, x2, y1**3, y1**2, y1, x2**2*y1, x2*y1**2, x2*y1, 1,0,0,0,0,0,0,0,0,0,0,0,0,0,0,0,0,0,0,0,0],\n",
    "    [0,0,0,0,0,0,0,0,0,0,x2**3, x2**2, x2, y1**3, y1**2, y1, x2**2*y1, x2*y1**2, x2*y1, 1,0,0,0,0,0,0,0,0,0,0],\n",
    "    [0,0,0,0,0,0,0,0,0,0,x3**3, x3**2, x3, y1**3, y1**2, y1, x3**2*y1, x3*y1**2, x3*y1, 1,0,0,0,0,0,0,0,0,0,0],\n",
    "    [0,0,0,0,0,0,0,0,0,0,0,0,0,0,0,0,0,0,0,0,x3**3, x3**2, x3, y1**3, y1**2, y1, x3**2*y1, x3*y1**2, x3*y1, 1],\n",
    "    [0,0,0,0,0,0,0,0,0,0,0,0,0,0,0,0,0,0,0,0,x4**3, x4**2, x4, y1**3, y1**2, y1, x4**2*y1, x4*y1**2, x4*y1],\n",
    "\n",
    "    \n",
    "    ])"
   ]
  },
  {
   "cell_type": "code",
   "execution_count": 280,
   "metadata": {},
   "outputs": [],
   "source": [
    "matrixA = np.array([\n",
    "    [x1**3, x1**2, x1, y1**3, y1**2, y1, x1**2*y1, x1*y1**2, x1*y1, 1],\n",
    "    [x2**3, x2**2, x2, y2**3, y2**2, y2, x2**2*y2, x2*y2**2, x2*y2, 1],\n",
    "    [x3**3, x3**2, x3, y3**3, y3**2, y3, x3**2*y3, x3*y3**2, x3*y3, 1],\n",
    "    [x4**3, x4**2, x4, y4**3, y4**2, y4, x4**2*y4, x4*y4**2, x4*y4, 1],\n",
    "    [3*x1**2, 2*x1, 1,0,0,0, 2*x1*y1, y1**2, y1,0],\n",
    "    [3*x2**2, 2*x2, 1,0,0,0, 2*x2*y2, y2**2, y2,0],\n",
    "    [3*x4**2, 2*x4, 1,0,0,0, 2*x4*y4, y4**2, y4,0],\n",
    "    [0,0,0, 3*y1**2, 2*y1, 1, x1**2, 2*x1*y1, x1,0],\n",
    "    [0,0,0, 3*y2**2, 2*y2, 1, x2**2, 2*x2*y2, x2,0],\n",
    "    [0,0,0, 3*y4**2, 2*y4, 1, x4**2, 2*x4*y4, x4,0],\n",
    "    ])"
   ]
  },
  {
   "cell_type": "code",
   "execution_count": 281,
   "metadata": {},
   "outputs": [],
   "source": [
    "# vectorization\n",
    "x_new = 4\n",
    "y_new = 4\n",
    "# search for the nearest (but above) x and y\n",
    "x_idx = np.searchsorted(x, x_new)\n",
    "y_idx = np.searchsorted(y, y_new)\n",
    "# bicubic interpolation\n",
    "x_idx1 = x_idx-1\n",
    "x_idx2 = x_idx-1\n",
    "x_idx3 = x_idx\n",
    "x_idx4 = x_idx\n",
    "y_idx1 = y_idx-1\n",
    "y_idx2 = y_idx\n",
    "y_idx3 = y_idx-1\n",
    "y_idx4 = y_idx\n",
    "x1, x2, x3, x4 = x[x_idx1], x[x_idx2], x[x_idx3], x[x_idx4]\n",
    "y1, y2, y3, y4 = y[y_idx1], y[y_idx2], y[y_idx3], y[y_idx4]\n",
    "\n",
    "matrixA = np.array([\n",
    "    [x4**3, x4**2, x4, y4**3, y4**2, y4, x4**2*y4, x4*y4**2, x4*y4, 1],\n",
    "    [3*x1**2, 2*x1, 1,0,0,0, 2*x1*y1, y1**2, y1,0],\n",
    "    [3*x2**2, 2*x2, 1,0,0,0, 2*x2*y2, y2**2, y2,0],\n",
    "    [3*x3**2, 2*x3, 1,0,0,0, 2*x3*y3, y3**2, y3,0],\n",
    "    [0,0,0, 3*y1**2, 2*y1, 1, x1**2, 2*x1*y1, x1,0],\n",
    "    [0,0,0, 3*y2**2, 2*y2, 1, x2**2, 2*x2*y2, x2,0],\n",
    "    [0,0,0, 3*y3**2, 2*y3, 1, x3**2, 2*x3*y3, x3,0],\n",
    "    [6*x1, 2, 0,0,0,0, 2*y1, 0, 0,0],\n",
    "    [6*x2, 2, 0,0,0,0, 2*y2, 0, 0,0],\n",
    "    [6*x3, 2, 0,0,0,0, 2*y3, 0, 0,0],\n",
    "    ])\n",
    "\n",
    "matrixC = np.array([z[x_idx4, y_idx4], partial_derivatives1[x_idx1, y_idx1,0], partial_derivatives1[x_idx2, y_idx2,0], partial_derivatives1[x_idx3, y_idx3,0], partial_derivatives1[x_idx1, y_idx1, 1], partial_derivatives1[x_idx2, y_idx2, 1], partial_derivatives1[x_idx3, y_idx3, 1], partial_derivatives2[x_idx1, y_idx1,0], partial_derivatives2[x_idx2, y_idx2,0], partial_derivatives2[x_idx3, y_idx3,0]])"
   ]
  },
  {
   "cell_type": "code",
   "execution_count": 282,
   "metadata": {},
   "outputs": [
    {
     "data": {
      "text/plain": [
       "10"
      ]
     },
     "execution_count": 282,
     "metadata": {},
     "output_type": "execute_result"
    }
   ],
   "source": [
    "len(matrixC)"
   ]
  },
  {
   "cell_type": "code",
   "execution_count": 283,
   "metadata": {},
   "outputs": [
    {
     "data": {
      "text/plain": [
       "-8.932613372897297e-21"
      ]
     },
     "execution_count": 283,
     "metadata": {},
     "output_type": "execute_result"
    }
   ],
   "source": [
    "# numpy determinant\n",
    "np.linalg.det(matrixA) "
   ]
  },
  {
   "cell_type": "code",
   "execution_count": 284,
   "metadata": {},
   "outputs": [],
   "source": [
    "coeff = np.dot(np.linalg.inv(matrixA), matrixC)"
   ]
  },
  {
   "cell_type": "code",
   "execution_count": 285,
   "metadata": {},
   "outputs": [
    {
     "data": {
      "text/plain": [
       "18.195744021169048"
      ]
     },
     "execution_count": 285,
     "metadata": {},
     "output_type": "execute_result"
    }
   ],
   "source": [
    "x_new = 4\n",
    "y_new = 4\n",
    "matrixB = np.array([x_new**3, x_new**2, x_new, y_new**3, y_new**2, y_new, x_new**2*y_new, x_new*y_new**2, x_new*y_new, 1])\n",
    "np.dot(matrixB, coeff)"
   ]
  },
  {
   "cell_type": "code",
   "execution_count": 286,
   "metadata": {},
   "outputs": [
    {
     "data": {
      "text/plain": [
       "0.5514266812416906"
      ]
     },
     "execution_count": 286,
     "metadata": {},
     "output_type": "execute_result"
    }
   ],
   "source": [
    "fn_(x_new,y_new)"
   ]
  },
  {
   "cell_type": "code",
   "execution_count": 287,
   "metadata": {},
   "outputs": [
    {
     "data": {
      "text/plain": [
       "array([[0.55138675]])"
      ]
     },
     "execution_count": 287,
     "metadata": {},
     "output_type": "execute_result"
    }
   ],
   "source": [
    "x_, y_ = np.meshgrid(x, y)\n",
    "ztest = fn_(x_, y_)\n",
    "spline = RectBivariateSpline(x_[0, :], y_[:,0], ztest)\n",
    "spline(x_new,y_new)"
   ]
  },
  {
   "cell_type": "code",
   "execution_count": 256,
   "metadata": {},
   "outputs": [
    {
     "data": {
      "text/plain": [
       "array([[-1.20046257]])"
      ]
     },
     "execution_count": 256,
     "metadata": {},
     "output_type": "execute_result"
    }
   ],
   "source": []
  },
  {
   "cell_type": "code",
   "execution_count": 255,
   "metadata": {},
   "outputs": [],
   "source": [
    "@njit\n",
    "def cubic_spline_interpolator(xnew, coefficients, x):\n",
    "    # Handling extrapolation\n",
    "    i = np.searchsorted(x, xnew) - 1\n",
    "    idx1 = xnew <= x[0]\n",
    "    idx2 = xnew > x[-1]\n",
    "    i[idx1] = 0\n",
    "    i[idx2] = len(x) - 2\n",
    "\n",
    "    # Calculate the relative position within the interval\n",
    "    dx = xnew - x[i]\n",
    "\n",
    "    # Calculate the interpolated value\n",
    "    # Cubic polynomial: a + b*dx + c*dx^2 + d*dx^3\n",
    "    a, b, c, d = coefficients[:, i]\n",
    "    #result = a + b*dx + c*dx**2 + d*dx**3\n",
    "    result = d + c*dx + b*dx**2 + a*dx**3\n",
    "    return result"
   ]
  },
  {
   "cell_type": "code",
   "execution_count": null,
   "metadata": {},
   "outputs": [],
   "source": []
  }
 ],
 "metadata": {
  "kernelspec": {
   "display_name": "ler",
   "language": "python",
   "name": "ler"
  },
  "language_info": {
   "codemirror_mode": {
    "name": "ipython",
    "version": 3
   },
   "file_extension": ".py",
   "mimetype": "text/x-python",
   "name": "python",
   "nbconvert_exporter": "python",
   "pygments_lexer": "ipython3",
   "version": "3.10.12"
  }
 },
 "nbformat": 4,
 "nbformat_minor": 2
}
