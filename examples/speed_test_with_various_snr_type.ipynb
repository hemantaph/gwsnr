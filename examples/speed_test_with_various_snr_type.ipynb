{
 "cells": [
  {
   "cell_type": "code",
   "execution_count": 3,
   "id": "e46c4972",
   "metadata": {},
   "outputs": [
    {
     "name": "stdout",
     "output_type": "stream",
     "text": [
      "\n",
      "Initializing GWSNR class...\n",
      "\n",
      "psds not given. Choosing bilby's default psds\n",
      "Interpolator will be loaded for L1 detector from ./interpolator_pickle/L1/partialSNR_dict_0.pickle\n",
      "Interpolator will be loaded for H1 detector from ./interpolator_pickle/H1/partialSNR_dict_0.pickle\n",
      "Interpolator will be loaded for V1 detector from ./interpolator_pickle/V1/partialSNR_dict_0.pickle\n",
      "\n",
      "\n",
      "Computed SNRs:\n",
      " {'L1': array([29.31369781]), 'H1': array([18.70657349]), 'V1': array([8.94173241]), 'optimal_snr_net': array([35.90520096])}\n"
     ]
    }
   ],
   "source": [
    "# loading GWSNR class from the gwsnr package\n",
    "from gwsnr import GWSNR\n",
    "import numpy as np\n",
    "\n",
    "# initializing the GWSNR class with default parameters\n",
    "gwsnr = GWSNR(snr_type='interpolation_aligned_spins_jax', npool=8, gwsnr_verbose=False)\n",
    "\n",
    "# signal-to-noise ratio for a binary black hole merger with masses 10, 10 Msun at a luminosity distance of 100 Mpc\n",
    "snrs = gwsnr.snr(mass_1=np.array([30.0]), mass_2=np.array([30.0]), luminosity_distance=np.array([1000.0]), a_1=np.array([0.0]), a_2=np.array([0.0]))\n",
    "\n",
    "# print the signal-to-noise ratio\n",
    "print('Computed SNRs:\\n', snrs)"
   ]
  },
  {
   "cell_type": "code",
   "execution_count": 4,
   "id": "4b964d33",
   "metadata": {},
   "outputs": [],
   "source": [
    "# gerneral case, random parameters\n",
    "# chirp mass can go upto only 95 if f_min=20. to get non zero SNR\n",
    "np.random.seed(42)\n",
    "nsamples = 100000\n",
    "mtot = np.random.uniform(2*4.98, 2*112.5,nsamples)\n",
    "mass_ratio = np.random.uniform(0.2,1,size=nsamples)\n",
    "param_dict = dict(\n",
    "    # convert to component masses\n",
    "    mass_1 = mtot / (1 + mass_ratio),\n",
    "    mass_2 = mtot * mass_ratio / (1 + mass_ratio),\n",
    "    # Fix luminosity distance\n",
    "    luminosity_distance = 500*np.ones(nsamples),\n",
    "    # Randomly sample everything else:\n",
    "    theta_jn = np.random.uniform(0,2*np.pi, size=nsamples),\n",
    "    ra = np.random.uniform(0,2*np.pi, size=nsamples), \n",
    "    dec = np.random.uniform(-np.pi/2,np.pi/2, size=nsamples), \n",
    "    psi = np.random.uniform(0,2*np.pi, size=nsamples),\n",
    "    phase = np.random.uniform(0,2*np.pi, size=nsamples),\n",
    "    geocent_time = 1246527224.169434*np.ones(nsamples),\n",
    "    a_1 = np.random.uniform(-0.8,0.8, size=nsamples),\n",
    "    a_2 = np.random.uniform(-0.8,0.8, size=nsamples),\n",
    ")"
   ]
  },
  {
   "cell_type": "code",
   "execution_count": 5,
   "id": "b5e4e89a",
   "metadata": {},
   "outputs": [
    {
     "name": "stdout",
     "output_type": "stream",
     "text": [
      "144 ms ± 4.69 ms per loop (mean ± std. dev. of 7 runs, 1 loop each)\n"
     ]
    }
   ],
   "source": [
    "## aligned spins\n",
    "# numba njit: time=28.8 ms ± 339 μs; jax jit: time= 13.1 ms ± 180 μs (forkserver), time= 13.1 ms ± 141 μs (fork)\n",
    "%timeit snrs = gwsnr.snr(**param_dict)"
   ]
  },
  {
   "cell_type": "code",
   "execution_count": 6,
   "id": "3e1daecd",
   "metadata": {},
   "outputs": [],
   "source": [
    "## no spins\n",
    "# numba : 64.8 ms\n",
    "# jax: 17.7 ms\n",
    "\n",
    "## aligned spins\n",
    "# numba : 232 ms\n",
    "# jax: 141 ms"
   ]
  },
  {
   "cell_type": "code",
   "execution_count": null,
   "id": "e63a964d",
   "metadata": {},
   "outputs": [],
   "source": []
  },
  {
   "cell_type": "code",
   "execution_count": 9,
   "id": "bce7c71f",
   "metadata": {},
   "outputs": [],
   "source": [
    "from gwsnr.utils import save_pickle, load_pickle\n"
   ]
  },
  {
   "cell_type": "code",
   "execution_count": 10,
   "id": "4991d2a0",
   "metadata": {},
   "outputs": [
    {
     "data": {
      "text/plain": [
       "10112.359550561798"
      ]
     },
     "execution_count": 10,
     "metadata": {},
     "output_type": "execute_result"
    }
   ],
   "source": [
    "15*60/89e-3"
   ]
  },
  {
   "cell_type": "code",
   "execution_count": null,
   "id": "67d57f03",
   "metadata": {},
   "outputs": [],
   "source": [
    "x10000 improvement in speed"
   ]
  }
 ],
 "metadata": {
  "kernelspec": {
   "display_name": "ler",
   "language": "python",
   "name": "ler"
  },
  "language_info": {
   "codemirror_mode": {
    "name": "ipython",
    "version": 3
   },
   "file_extension": ".py",
   "mimetype": "text/x-python",
   "name": "python",
   "nbconvert_exporter": "python",
   "pygments_lexer": "ipython3",
   "version": "3.10.18"
  }
 },
 "nbformat": 4,
 "nbformat_minor": 5
}
