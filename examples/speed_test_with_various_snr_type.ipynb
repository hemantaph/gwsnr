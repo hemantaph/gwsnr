{
 "cells": [
  {
   "cell_type": "code",
   "execution_count": 1,
   "id": "e46c4972",
   "metadata": {},
   "outputs": [
    {
     "name": "stdout",
     "output_type": "stream",
     "text": [
      "GWSNR: Setting multiprocessing start method to 'fork'.\n",
      "If you need to use the 'spawn' method (in case error or warning due to other library dependencies),\n",
      "set the environment variable GWSNR_USE_SPAWN=True *before* running your script.\n",
      "Command line (single line):\n",
      "    GWSNR_USE_SPAWN=True python yourscript.py\n",
      "In a Python script (before importing GWSNR):\n",
      "    import os\n",
      "    os.environ['GWSNR_USE_SPAWN'] = 'True'\n",
      "    import gwsnr\n",
      "\n",
      "\n",
      "Initializing GWSNR class...\n",
      "\n",
      "psds not given. Choosing bilby's default psds\n",
      "[{'mtot_min': 9.96, 'mtot_max': 235.0, 'mtot_resolution': 200, 'ratio_min': 0.1, 'ratio_max': 1.0, 'ratio_resolution': 20, 'sampling_frequency': 2048.0, 'waveform_approximant': 'IMRPhenomD', 'minimum_frequency': 20.0, 'detector': 'L1', 'psds': \"PowerSpectralDensity(psd_file='None', asd_file='/Users/phurailatpamhemantakumar/anaconda3/envs/ler/lib/python3.10/site-packages/bilby/gw/detector/noise_curves/aLIGO_O4_high_asd.txt')\", 'detector_tensor': '[[ 0.41128086  0.14021027  0.24729459]\\n [ 0.14021027 -0.10900569 -0.18161563]\\n [ 0.24729459 -0.18161563 -0.30227517]]', 'spin_max': 0.99, 'spin_resolution': 10}, {'mtot_min': 9.96, 'mtot_max': 235.0, 'mtot_resolution': 200, 'ratio_min': 0.1, 'ratio_max': 1.0, 'ratio_resolution': 20, 'sampling_frequency': 2048.0, 'waveform_approximant': 'IMRPhenomXPHM', 'minimum_frequency': 20.0, 'detector': 'L1', 'psds': \"PowerSpectralDensity(psd_file='None', asd_file='/Users/phurailatpamhemantakumar/anaconda3/envs/ler/lib/python3.10/site-packages/bilby/gw/detector/noise_curves/aLIGO_O4_high_asd.txt')\", 'detector_tensor': '[[ 0.41128086  0.14021027  0.24729459]\\n [ 0.14021027 -0.10900569 -0.18161563]\\n [ 0.24729459 -0.18161563 -0.30227517]]', 'spin_max': 0.99, 'spin_resolution': 10}, {'mtot_min': 9.96, 'mtot_max': 235.0, 'mtot_resolution': 200, 'ratio_min': 0.1, 'ratio_max': 1.0, 'ratio_resolution': 20, 'sampling_frequency': 2048.0, 'waveform_approximant': 'IMRPhenomD', 'minimum_frequency': 20.0, 'detector': 'L1', 'psds': \"PowerSpectralDensity(psd_file='None', asd_file='/Users/phurailatpamhemantakumar/anaconda3/envs/ler/lib/python3.10/site-packages/bilby/gw/detector/noise_curves/aLIGO_O4_high_asd.txt')\", 'detector_tensor': '[[ 0.41128086  0.14021027  0.24729459]\\n [ 0.14021027 -0.10900569 -0.18161563]\\n [ 0.24729459 -0.18161563 -0.30227517]]'}]\n",
      "Interpolator will be loaded for L1 detector from ./interpolator_pickle/L1/partialSNR_dict_0.pickle\n",
      "[{'mtot_min': 9.96, 'mtot_max': 235.0, 'mtot_resolution': 200, 'ratio_min': 0.1, 'ratio_max': 1.0, 'ratio_resolution': 20, 'sampling_frequency': 2048.0, 'waveform_approximant': 'IMRPhenomD', 'minimum_frequency': 20.0, 'detector': 'H1', 'psds': \"PowerSpectralDensity(psd_file='None', asd_file='/Users/phurailatpamhemantakumar/anaconda3/envs/ler/lib/python3.10/site-packages/bilby/gw/detector/noise_curves/aLIGO_O4_high_asd.txt')\", 'detector_tensor': '[[-0.3926141  -0.07761341 -0.24738904]\\n [-0.07761341  0.31952407  0.22799783]\\n [-0.24738904  0.22799783  0.07309003]]', 'spin_max': 0.99, 'spin_resolution': 10}, {'mtot_min': 9.96, 'mtot_max': 235.0, 'mtot_resolution': 200, 'ratio_min': 0.1, 'ratio_max': 1.0, 'ratio_resolution': 20, 'sampling_frequency': 2048.0, 'waveform_approximant': 'IMRPhenomXPHM', 'minimum_frequency': 20.0, 'detector': 'H1', 'psds': \"PowerSpectralDensity(psd_file='None', asd_file='/Users/phurailatpamhemantakumar/anaconda3/envs/ler/lib/python3.10/site-packages/bilby/gw/detector/noise_curves/aLIGO_O4_high_asd.txt')\", 'detector_tensor': '[[-0.3926141  -0.07761341 -0.24738904]\\n [-0.07761341  0.31952407  0.22799783]\\n [-0.24738904  0.22799783  0.07309003]]', 'spin_max': 0.99, 'spin_resolution': 10}, {'mtot_min': 9.96, 'mtot_max': 235.0, 'mtot_resolution': 200, 'ratio_min': 0.1, 'ratio_max': 1.0, 'ratio_resolution': 20, 'sampling_frequency': 2048.0, 'waveform_approximant': 'IMRPhenomD', 'minimum_frequency': 20.0, 'detector': 'H1', 'psds': \"PowerSpectralDensity(psd_file='None', asd_file='/Users/phurailatpamhemantakumar/anaconda3/envs/ler/lib/python3.10/site-packages/bilby/gw/detector/noise_curves/aLIGO_O4_high_asd.txt')\", 'detector_tensor': '[[-0.3926141  -0.07761341 -0.24738904]\\n [-0.07761341  0.31952407  0.22799783]\\n [-0.24738904  0.22799783  0.07309003]]'}]\n",
      "Interpolator will be loaded for H1 detector from ./interpolator_pickle/H1/partialSNR_dict_0.pickle\n",
      "[{'mtot_min': 9.96, 'mtot_max': 235.0, 'mtot_resolution': 200, 'ratio_min': 0.1, 'ratio_max': 1.0, 'ratio_resolution': 20, 'sampling_frequency': 2048.0, 'waveform_approximant': 'IMRPhenomD', 'minimum_frequency': 20.0, 'detector': 'V1', 'psds': \"PowerSpectralDensity(psd_file='None', asd_file='/Users/phurailatpamhemantakumar/anaconda3/envs/ler/lib/python3.10/site-packages/bilby/gw/detector/noise_curves/AdV_asd.txt')\", 'detector_tensor': '[[ 0.24387404 -0.09908378 -0.23257622]\\n [-0.09908378 -0.44782584  0.1878331 ]\\n [-0.23257622  0.1878331   0.2039518 ]]', 'spin_max': 0.99, 'spin_resolution': 10}, {'mtot_min': 9.96, 'mtot_max': 235.0, 'mtot_resolution': 200, 'ratio_min': 0.1, 'ratio_max': 1.0, 'ratio_resolution': 20, 'sampling_frequency': 2048.0, 'waveform_approximant': 'IMRPhenomXPHM', 'minimum_frequency': 20.0, 'detector': 'V1', 'psds': \"PowerSpectralDensity(psd_file='None', asd_file='/Users/phurailatpamhemantakumar/anaconda3/envs/ler/lib/python3.10/site-packages/bilby/gw/detector/noise_curves/AdV_asd.txt')\", 'detector_tensor': '[[ 0.24387404 -0.09908378 -0.23257622]\\n [-0.09908378 -0.44782584  0.1878331 ]\\n [-0.23257622  0.1878331   0.2039518 ]]', 'spin_max': 0.99, 'spin_resolution': 10}, {'mtot_min': 9.96, 'mtot_max': 235.0, 'mtot_resolution': 200, 'ratio_min': 0.1, 'ratio_max': 1.0, 'ratio_resolution': 20, 'sampling_frequency': 2048.0, 'waveform_approximant': 'IMRPhenomD', 'minimum_frequency': 20.0, 'detector': 'V1', 'psds': \"PowerSpectralDensity(psd_file='None', asd_file='/Users/phurailatpamhemantakumar/anaconda3/envs/ler/lib/python3.10/site-packages/bilby/gw/detector/noise_curves/AdV_asd.txt')\", 'detector_tensor': '[[ 0.24387404 -0.09908378 -0.23257622]\\n [-0.09908378 -0.44782584  0.1878331 ]\\n [-0.23257622  0.1878331   0.2039518 ]]'}]\n",
      "Interpolator will be loaded for V1 detector from ./interpolator_pickle/V1/partialSNR_dict_0.pickle\n",
      "\n",
      "Chosen GWSNR initialization parameters:\n",
      "\n",
      "npool:  4\n",
      "snr type:  interpolation_aligned_spins_jax\n",
      "waveform approximant:  IMRPhenomD\n",
      "sampling frequency:  2048.0\n",
      "minimum frequency (fmin):  20.0\n",
      "mtot=mass1+mass2\n",
      "min(mtot):  9.96\n",
      "max(mtot) (with the given fmin=20.0): 235.0\n",
      "detectors:  ['L1', 'H1', 'V1']\n",
      "psds:  [PowerSpectralDensity(psd_file='None', asd_file='/Users/phurailatpamhemantakumar/anaconda3/envs/ler/lib/python3.10/site-packages/bilby/gw/detector/noise_curves/aLIGO_O4_high_asd.txt'), PowerSpectralDensity(psd_file='None', asd_file='/Users/phurailatpamhemantakumar/anaconda3/envs/ler/lib/python3.10/site-packages/bilby/gw/detector/noise_curves/aLIGO_O4_high_asd.txt'), PowerSpectralDensity(psd_file='None', asd_file='/Users/phurailatpamhemantakumar/anaconda3/envs/ler/lib/python3.10/site-packages/bilby/gw/detector/noise_curves/AdV_asd.txt')]\n",
      "\n",
      "\n",
      "solving SNR with interpolation\n",
      "Computed SNRs:\n",
      " {'L1': array([29.26359008]), 'H1': array([18.61258002]), 'V1': array([8.91382658]), 'optimal_snr_net': array([35.80840885])}\n"
     ]
    }
   ],
   "source": [
    "# loading GWSNR class from the gwsnr package\n",
    "from gwsnr import GWSNR\n",
    "import numpy as np\n",
    "\n",
    "# initializing the GWSNR class with default parameters\n",
    "gwsnr = GWSNR(snr_type='interpolation_aligned_spins_jax')\n",
    "\n",
    "# signal-to-noise ratio for a binary black hole merger with masses 10, 10 Msun at a luminosity distance of 100 Mpc\n",
    "snrs = gwsnr.snr(mass_1=np.array([30.0]), mass_2=np.array([30.0]), luminosity_distance=np.array([1000.0]), a_1=np.array([0.0]), a_2=np.array([0.0]))\n",
    "\n",
    "# print the signal-to-noise ratio\n",
    "print('Computed SNRs:\\n', snrs)"
   ]
  },
  {
   "cell_type": "code",
   "execution_count": 7,
   "id": "d5fae6d3",
   "metadata": {},
   "outputs": [
    {
     "data": {
      "text/plain": [
       "True"
      ]
     },
     "execution_count": 7,
     "metadata": {},
     "output_type": "execute_result"
    }
   ],
   "source": [
    "'gwsnr.psds_list[0].psd_array' == 'gwsnr.psds_list[0].psd_array'"
   ]
  },
  {
   "cell_type": "code",
   "execution_count": null,
   "id": "6e061cd2",
   "metadata": {},
   "outputs": [],
   "source": []
  },
  {
   "cell_type": "code",
   "execution_count": 2,
   "id": "0e5f6738",
   "metadata": {},
   "outputs": [],
   "source": [
    "from gwsnr.utils import load_pickle\n",
    "\n",
    "test = load_pickle('/Users/phurailatpamhemantakumar/phd/mypackages/gwsnr/examples/interpolator_pickle/L1/param_dict_list.pickle')"
   ]
  },
  {
   "cell_type": "code",
   "execution_count": 3,
   "id": "285b0ec3",
   "metadata": {},
   "outputs": [
    {
     "data": {
      "text/plain": [
       "[{'mtot_min': 9.96,\n",
       "  'mtot_max': 235.0,\n",
       "  'mtot_resolution': 200,\n",
       "  'ratio_min': 0.1,\n",
       "  'ratio_max': 1.0,\n",
       "  'ratio_resolution': 20,\n",
       "  'sampling_frequency': 2048.0,\n",
       "  'waveform_approximant': 'IMRPhenomD',\n",
       "  'minimum_frequency': 20.0,\n",
       "  'detector': 'L1',\n",
       "  'psds': \"PowerSpectralDensity(psd_file='None', asd_file='/Users/phurailatpamhemantakumar/anaconda3/envs/ler/lib/python3.10/site-packages/bilby/gw/detector/noise_curves/aLIGO_O4_high_asd.txt')\",\n",
       "  'detector_tensor': '[[ 0.41128086  0.14021027  0.24729459]\\n [ 0.14021027 -0.10900569 -0.18161563]\\n [ 0.24729459 -0.18161563 -0.30227517]]',\n",
       "  'spin_max': 0.99,\n",
       "  'spin_resolution': 10},\n",
       " {'mtot_min': 9.96,\n",
       "  'mtot_max': 235.0,\n",
       "  'mtot_resolution': 200,\n",
       "  'ratio_min': 0.1,\n",
       "  'ratio_max': 1.0,\n",
       "  'ratio_resolution': 20,\n",
       "  'sampling_frequency': 2048.0,\n",
       "  'waveform_approximant': 'IMRPhenomXPHM',\n",
       "  'minimum_frequency': 20.0,\n",
       "  'detector': 'L1',\n",
       "  'psds': \"PowerSpectralDensity(psd_file='None', asd_file='/Users/phurailatpamhemantakumar/anaconda3/envs/ler/lib/python3.10/site-packages/bilby/gw/detector/noise_curves/aLIGO_O4_high_asd.txt')\",\n",
       "  'detector_tensor': '[[ 0.41128086  0.14021027  0.24729459]\\n [ 0.14021027 -0.10900569 -0.18161563]\\n [ 0.24729459 -0.18161563 -0.30227517]]',\n",
       "  'spin_max': 0.99,\n",
       "  'spin_resolution': 10},\n",
       " {'mtot_min': 9.96,\n",
       "  'mtot_max': 235.0,\n",
       "  'mtot_resolution': 200,\n",
       "  'ratio_min': 0.1,\n",
       "  'ratio_max': 1.0,\n",
       "  'ratio_resolution': 20,\n",
       "  'sampling_frequency': 2048.0,\n",
       "  'waveform_approximant': 'IMRPhenomD',\n",
       "  'minimum_frequency': 20.0,\n",
       "  'detector': 'L1',\n",
       "  'psds': \"PowerSpectralDensity(psd_file='None', asd_file='/Users/phurailatpamhemantakumar/anaconda3/envs/ler/lib/python3.10/site-packages/bilby/gw/detector/noise_curves/aLIGO_O4_high_asd.txt')\",\n",
       "  'detector_tensor': '[[ 0.41128086  0.14021027  0.24729459]\\n [ 0.14021027 -0.10900569 -0.18161563]\\n [ 0.24729459 -0.18161563 -0.30227517]]'},\n",
       " {'mtot_min': 9.96,\n",
       "  'mtot_max': 235.0,\n",
       "  'mtot_resolution': 200,\n",
       "  'ratio_min': 0.1,\n",
       "  'ratio_max': 1.0,\n",
       "  'ratio_resolution': 20,\n",
       "  'sampling_frequency': 2048.0,\n",
       "  'waveform_approximant': 'IMRPhenomD',\n",
       "  'minimum_frequency': 20.0,\n",
       "  'detector': 'L1',\n",
       "  'psds': \"PowerSpectralDensity(psd_file='None', asd_file='/Users/phurailatpamhemantakumar/anaconda3/envs/gwsnr/lib/python3.10/site-packages/bilby/gw/detector/noise_curves/aLIGO_O4_high_asd.txt')\",\n",
       "  'detector_tensor': '[[ 0.41128086  0.14021027  0.24729459]\\n [ 0.14021027 -0.10900569 -0.18161563]\\n [ 0.24729459 -0.18161563 -0.30227517]]',\n",
       "  'spin_max': 0.99,\n",
       "  'spin_resolution': 10}]"
      ]
     },
     "execution_count": 3,
     "metadata": {},
     "output_type": "execute_result"
    }
   ],
   "source": [
    "test"
   ]
  },
  {
   "cell_type": "code",
   "execution_count": null,
   "id": "4f45447d",
   "metadata": {},
   "outputs": [],
   "source": [
    "PowerSpectralDensity(psd_file='None', asd_file='/Users/phurailatpamhemantakumar/anaconda3/envs/gwsnr/lib/python3.10/site-packages/bilby/gw/detector/noise_curves/aLIGO_O4_high_asd.txt') \n",
    "PowerSpectralDensity(psd_file='None', asd_file='/Users/phurailatpamhemantakumar/anaconda3/envs/ler/lib/python3.10/site-packages/bilby/gw/detector/noise_curves/aLIGO_O4_high_asd.txt')"
   ]
  },
  {
   "cell_type": "code",
   "execution_count": 6,
   "id": "6b5d0a16",
   "metadata": {},
   "outputs": [
    {
     "name": "stdout",
     "output_type": "stream",
     "text": [
      "aLIGO_O4_high_asd.txt\n"
     ]
    }
   ],
   "source": [
    "import os\n",
    "\n",
    "asd_file = 'noise/aLIGO_O4_high_asd.txt'\n",
    "filename = os.path.basename(asd_file)\n",
    "print(filename)  # Output: aLIGO_O4_high_asd.txt\n"
   ]
  },
  {
   "cell_type": "code",
   "execution_count": null,
   "id": "57b6bebb",
   "metadata": {},
   "outputs": [],
   "source": []
  },
  {
   "cell_type": "code",
   "execution_count": 2,
   "id": "4b964d33",
   "metadata": {},
   "outputs": [],
   "source": [
    "# gerneral case, random parameters\n",
    "# chirp mass can go upto only 95 if f_min=20. to get non zero SNR\n",
    "nsamples = 10000\n",
    "chirp_mass = np.linspace(5,60,nsamples)\n",
    "mass_ratio = np.random.uniform(0.2,1,size=nsamples)\n",
    "param_dict = dict(\n",
    "    mass_1 = (chirp_mass*(1+mass_ratio)**(1/5))/mass_ratio**(3/5),\n",
    "    mass_2 = chirp_mass*mass_ratio**(2/5)*(1+mass_ratio)**(1/5),\n",
    "    # Fix luminosity distance\n",
    "    luminosity_distance = 500*np.ones(nsamples),\n",
    "    # Randomly sample everything else:\n",
    "    theta_jn = np.random.uniform(0,2*np.pi, size=nsamples),\n",
    "    ra = np.random.uniform(0,2*np.pi, size=nsamples), \n",
    "    dec = np.random.uniform(-np.pi/2,np.pi/2, size=nsamples), \n",
    "    psi = np.random.uniform(0,2*np.pi, size=nsamples),\n",
    "    phase = np.random.uniform(0,2*np.pi, size=nsamples),\n",
    "    geocent_time = 1246527224.169434*np.ones(nsamples),\n",
    "    a_1 = np.random.uniform(-0.8,0.8, size=nsamples),\n",
    "    a_2 = np.random.uniform(-0.8,0.8, size=nsamples),\n",
    ")"
   ]
  },
  {
   "cell_type": "code",
   "execution_count": null,
   "id": "b5e4e89a",
   "metadata": {},
   "outputs": [
    {
     "name": "stdout",
     "output_type": "stream",
     "text": [
      "13.1 ms ± 141 μs per loop (mean ± std. dev. of 7 runs, 1 loop each)\n"
     ]
    }
   ],
   "source": [
    "## aligned spins\n",
    "# numba njit: time=28.8 ms ± 339 μs; jax jit: time= 13.1 ms ± 180 μs (forkserver), time= 13.1 ms ± 141 μs (fork)\n",
    "\n",
    "%timeit snrs = gwsnr.snr_with_interpolation(**param_dict)"
   ]
  },
  {
   "cell_type": "code",
   "execution_count": 8,
   "id": "3e1daecd",
   "metadata": {},
   "outputs": [],
   "source": [
    "snrs = gwsnr.snr_with_interpolation(**param_dict)"
   ]
  },
  {
   "cell_type": "code",
   "execution_count": null,
   "id": "bce7c71f",
   "metadata": {},
   "outputs": [],
   "source": [
    "from gwsnr.utils import save_pickle, load_pickle\n"
   ]
  }
 ],
 "metadata": {
  "kernelspec": {
   "display_name": "ler",
   "language": "python",
   "name": "ler"
  },
  "language_info": {
   "codemirror_mode": {
    "name": "ipython",
    "version": 3
   },
   "file_extension": ".py",
   "mimetype": "text/x-python",
   "name": "python",
   "nbconvert_exporter": "python",
   "pygments_lexer": "ipython3",
   "version": "3.10.18"
  }
 },
 "nbformat": 4,
 "nbformat_minor": 5
}
