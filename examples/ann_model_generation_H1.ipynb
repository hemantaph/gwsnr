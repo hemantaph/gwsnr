{
 "cells": [
  {
   "cell_type": "markdown",
   "metadata": {},
   "source": [
    "# ANN Model creation and testing\n",
    "\n",
    "## Contents\n",
    "\n",
    "1. Training data generation\n",
    "2. ANN model training and testing\n",
    "3. Implementation of the model in GWSNR"
   ]
  },
  {
   "cell_type": "code",
   "execution_count": 1,
   "metadata": {},
   "outputs": [],
   "source": [
    "# # If you have not installed the following packages, please uncomment and run the following command:\n",
    "# !pip install ler"
   ]
  },
  {
   "cell_type": "markdown",
   "metadata": {},
   "source": [
    "## 1. Training data generation\n",
    "\n",
    "* The training data is generated using [ler](https://ler.readthedocs.io/en/latest/) package.\n",
    "* Data needs to be trained for each detector separately.\n",
    "* I will choose 'H1' detector for this notebook with the following specified parameters:\n",
    "    * Sampling frequency : 2048 Hz\n",
    "    * waveform approximant : IMRPhenomXPHM\n",
    "    * minimum frequency : 20.0\n",
    "    * psd : aLIGO_O4_high_asd.txt from `pycbc` package"
   ]
  },
  {
   "cell_type": "code",
   "execution_count": 1,
   "metadata": {},
   "outputs": [],
   "source": [
    "import numpy as np\n",
    "import matplotlib.pyplot as plt\n",
    "from ler.utils import TrainingDataGenerator"
   ]
  },
  {
   "cell_type": "code",
   "execution_count": 2,
   "metadata": {},
   "outputs": [],
   "source": [
    "tdg = TrainingDataGenerator(\n",
    "    npool=8,  # number of processes\n",
    "    verbose=False, # set it to True if you are running the code for the first time\n",
    "    # GWSNR parameters\n",
    "    sampling_frequency=2048.,\n",
    "    waveform_approximant='IMRPhenomXPHM',  # spin-precessing waveform model\n",
    "    minimum_frequency=20.,\n",
    "    psds={'H1':'aLIGO_O4_high_asd.txt'}, # chosen interferometer is 'H1'. If multiple interferometers are chosen, optimal network SNR will be considered.\n",
    "    spin_zero=False,\n",
    "    spin_precessing=True,\n",
    "    snr_type='inner_product',  # 'interpolation' or 'inner_product'\n",
    ")"
   ]
  },
  {
   "cell_type": "markdown",
   "metadata": {},
   "source": [
    "* `ler` package, by default, generates astrophysical signals that most likely will not be detected by the detector, i.e. low SNR signals.\n",
    "\n",
    "* But you want your ANN model to be sensitive to the signals that near the detection threshold.\n",
    "\n",
    "* So, I will generate most of the training data with SNR near the detection threshold.\n",
    "\n",
    "**Note:** Increase sample size of the training data to get better accuracy in the ANN model."
   ]
  },
  {
   "cell_type": "code",
   "execution_count": 3,
   "metadata": {},
   "outputs": [
    {
     "name": "stdout",
     "output_type": "stream",
     "text": [
      "\n",
      "Initializing GWRATES class...\n",
      "\n",
      "total event to collect: 10000\n",
      "\n"
     ]
    },
    {
     "name": "stderr",
     "output_type": "stream",
     "text": [
      "100%|████████████████████████████████████████████████████████████| 395/395 [00:01<00:00, 391.11it/s]\n"
     ]
    },
    {
     "name": "stdout",
     "output_type": "stream",
     "text": [
      "Collected number of events: 351\n"
     ]
    },
    {
     "name": "stderr",
     "output_type": "stream",
     "text": [
      "100%|████████████████████████████████████████████████████████████| 412/412 [00:01<00:00, 384.30it/s]\n"
     ]
    },
    {
     "name": "stdout",
     "output_type": "stream",
     "text": [
      "Collected number of events: 702\n"
     ]
    },
    {
     "name": "stderr",
     "output_type": "stream",
     "text": [
      "100%|████████████████████████████████████████████████████████████| 466/466 [00:01<00:00, 406.49it/s]\n"
     ]
    },
    {
     "name": "stdout",
     "output_type": "stream",
     "text": [
      "Collected number of events: 1080\n"
     ]
    },
    {
     "name": "stderr",
     "output_type": "stream",
     "text": [
      "100%|████████████████████████████████████████████████████████████| 530/530 [00:01<00:00, 406.02it/s]\n"
     ]
    },
    {
     "name": "stdout",
     "output_type": "stream",
     "text": [
      "Collected number of events: 1548\n"
     ]
    },
    {
     "name": "stderr",
     "output_type": "stream",
     "text": [
      "100%|████████████████████████████████████████████████████████████| 341/341 [00:00<00:00, 355.22it/s]\n"
     ]
    },
    {
     "name": "stdout",
     "output_type": "stream",
     "text": [
      "Collected number of events: 1836\n"
     ]
    },
    {
     "name": "stderr",
     "output_type": "stream",
     "text": [
      "100%|████████████████████████████████████████████████████████████| 377/377 [00:01<00:00, 370.71it/s]\n"
     ]
    },
    {
     "name": "stdout",
     "output_type": "stream",
     "text": [
      "Collected number of events: 2160\n"
     ]
    },
    {
     "name": "stderr",
     "output_type": "stream",
     "text": [
      "100%|████████████████████████████████████████████████████████████| 341/341 [00:00<00:00, 399.63it/s]\n"
     ]
    },
    {
     "name": "stdout",
     "output_type": "stream",
     "text": [
      "Collected number of events: 2457\n"
     ]
    },
    {
     "name": "stderr",
     "output_type": "stream",
     "text": [
      "100%|████████████████████████████████████████████████████████████| 351/351 [00:00<00:00, 377.56it/s]\n"
     ]
    },
    {
     "name": "stdout",
     "output_type": "stream",
     "text": [
      "Collected number of events: 2700\n"
     ]
    },
    {
     "name": "stderr",
     "output_type": "stream",
     "text": [
      "100%|████████████████████████████████████████████████████████████| 332/332 [00:00<00:00, 372.97it/s]\n"
     ]
    },
    {
     "name": "stdout",
     "output_type": "stream",
     "text": [
      "Collected number of events: 2934\n"
     ]
    },
    {
     "name": "stderr",
     "output_type": "stream",
     "text": [
      "100%|████████████████████████████████████████████████████████████| 494/494 [00:01<00:00, 406.50it/s]\n"
     ]
    },
    {
     "name": "stdout",
     "output_type": "stream",
     "text": [
      "Collected number of events: 3366\n"
     ]
    },
    {
     "name": "stderr",
     "output_type": "stream",
     "text": [
      "100%|████████████████████████████████████████████████████████████| 475/475 [00:01<00:00, 397.88it/s]\n"
     ]
    },
    {
     "name": "stdout",
     "output_type": "stream",
     "text": [
      "Collected number of events: 3717\n"
     ]
    },
    {
     "name": "stderr",
     "output_type": "stream",
     "text": [
      "100%|████████████████████████████████████████████████████████████| 394/394 [00:00<00:00, 406.61it/s]\n"
     ]
    },
    {
     "name": "stdout",
     "output_type": "stream",
     "text": [
      "Collected number of events: 4041\n"
     ]
    },
    {
     "name": "stderr",
     "output_type": "stream",
     "text": [
      "100%|████████████████████████████████████████████████████████████| 375/375 [00:00<00:00, 389.93it/s]\n"
     ]
    },
    {
     "name": "stdout",
     "output_type": "stream",
     "text": [
      "Collected number of events: 4383\n"
     ]
    },
    {
     "name": "stderr",
     "output_type": "stream",
     "text": [
      "100%|████████████████████████████████████████████████████████████| 468/468 [00:01<00:00, 431.18it/s]\n"
     ]
    },
    {
     "name": "stdout",
     "output_type": "stream",
     "text": [
      "Collected number of events: 4779\n"
     ]
    },
    {
     "name": "stderr",
     "output_type": "stream",
     "text": [
      "100%|████████████████████████████████████████████████████████████| 360/360 [00:00<00:00, 382.35it/s]\n"
     ]
    },
    {
     "name": "stdout",
     "output_type": "stream",
     "text": [
      "Collected number of events: 5076\n"
     ]
    },
    {
     "name": "stderr",
     "output_type": "stream",
     "text": [
      "100%|████████████████████████████████████████████████████████████| 395/395 [00:01<00:00, 384.34it/s]\n"
     ]
    },
    {
     "name": "stdout",
     "output_type": "stream",
     "text": [
      "Collected number of events: 5427\n"
     ]
    },
    {
     "name": "stderr",
     "output_type": "stream",
     "text": [
      "100%|████████████████████████████████████████████████████████████| 351/351 [00:00<00:00, 357.97it/s]\n"
     ]
    },
    {
     "name": "stdout",
     "output_type": "stream",
     "text": [
      "Collected number of events: 5724\n"
     ]
    },
    {
     "name": "stderr",
     "output_type": "stream",
     "text": [
      "100%|████████████████████████████████████████████████████████████| 312/312 [00:00<00:00, 370.16it/s]\n"
     ]
    },
    {
     "name": "stdout",
     "output_type": "stream",
     "text": [
      "Collected number of events: 5940\n"
     ]
    },
    {
     "name": "stderr",
     "output_type": "stream",
     "text": [
      "100%|████████████████████████████████████████████████████████████| 378/378 [00:00<00:00, 386.80it/s]\n"
     ]
    },
    {
     "name": "stdout",
     "output_type": "stream",
     "text": [
      "Collected number of events: 6219\n"
     ]
    },
    {
     "name": "stderr",
     "output_type": "stream",
     "text": [
      "100%|████████████████████████████████████████████████████████████| 375/375 [00:01<00:00, 368.15it/s]\n"
     ]
    },
    {
     "name": "stdout",
     "output_type": "stream",
     "text": [
      "Collected number of events: 6516\n"
     ]
    },
    {
     "name": "stderr",
     "output_type": "stream",
     "text": [
      "100%|████████████████████████████████████████████████████████████| 557/557 [00:01<00:00, 443.68it/s]\n"
     ]
    },
    {
     "name": "stdout",
     "output_type": "stream",
     "text": [
      "Collected number of events: 6930\n"
     ]
    },
    {
     "name": "stderr",
     "output_type": "stream",
     "text": [
      "100%|████████████████████████████████████████████████████████████| 414/414 [00:01<00:00, 399.43it/s]\n"
     ]
    },
    {
     "name": "stdout",
     "output_type": "stream",
     "text": [
      "Collected number of events: 7290\n"
     ]
    },
    {
     "name": "stderr",
     "output_type": "stream",
     "text": [
      "100%|████████████████████████████████████████████████████████████| 387/387 [00:00<00:00, 389.18it/s]\n"
     ]
    },
    {
     "name": "stdout",
     "output_type": "stream",
     "text": [
      "Collected number of events: 7578\n"
     ]
    },
    {
     "name": "stderr",
     "output_type": "stream",
     "text": [
      "100%|████████████████████████████████████████████████████████████| 378/378 [00:00<00:00, 400.78it/s]\n"
     ]
    },
    {
     "name": "stdout",
     "output_type": "stream",
     "text": [
      "Collected number of events: 7884\n"
     ]
    },
    {
     "name": "stderr",
     "output_type": "stream",
     "text": [
      "100%|████████████████████████████████████████████████████████████| 332/332 [00:01<00:00, 300.06it/s]\n"
     ]
    },
    {
     "name": "stdout",
     "output_type": "stream",
     "text": [
      "Collected number of events: 8172\n"
     ]
    },
    {
     "name": "stderr",
     "output_type": "stream",
     "text": [
      "100%|████████████████████████████████████████████████████████████| 348/348 [00:00<00:00, 371.15it/s]\n"
     ]
    },
    {
     "name": "stdout",
     "output_type": "stream",
     "text": [
      "Collected number of events: 8460\n"
     ]
    },
    {
     "name": "stderr",
     "output_type": "stream",
     "text": [
      "100%|████████████████████████████████████████████████████████████| 360/360 [00:00<00:00, 388.12it/s]\n"
     ]
    },
    {
     "name": "stdout",
     "output_type": "stream",
     "text": [
      "Collected number of events: 8748\n"
     ]
    },
    {
     "name": "stderr",
     "output_type": "stream",
     "text": [
      "100%|████████████████████████████████████████████████████████████| 351/351 [00:00<00:00, 388.52it/s]\n"
     ]
    },
    {
     "name": "stdout",
     "output_type": "stream",
     "text": [
      "Collected number of events: 9036\n"
     ]
    },
    {
     "name": "stderr",
     "output_type": "stream",
     "text": [
      "100%|████████████████████████████████████████████████████████████| 278/278 [00:00<00:00, 344.11it/s]\n"
     ]
    },
    {
     "name": "stdout",
     "output_type": "stream",
     "text": [
      "Collected number of events: 9198\n"
     ]
    },
    {
     "name": "stderr",
     "output_type": "stream",
     "text": [
      "100%|████████████████████████████████████████████████████████████| 457/457 [00:01<00:00, 403.50it/s]\n"
     ]
    },
    {
     "name": "stdout",
     "output_type": "stream",
     "text": [
      "Collected number of events: 9576\n"
     ]
    },
    {
     "name": "stderr",
     "output_type": "stream",
     "text": [
      "100%|████████████████████████████████████████████████████████████| 349/349 [00:00<00:00, 376.53it/s]\n"
     ]
    },
    {
     "name": "stdout",
     "output_type": "stream",
     "text": [
      "Collected number of events: 9900\n"
     ]
    },
    {
     "name": "stderr",
     "output_type": "stream",
     "text": [
      "100%|████████████████████████████████████████████████████████████| 404/404 [00:01<00:00, 401.31it/s]\n"
     ]
    },
    {
     "name": "stdout",
     "output_type": "stream",
     "text": [
      "Collected number of events: 10215\n",
      "final size: 10215\n",
      "\n",
      "json file saved at: ./ler_data/IMRPhenomXPHM_O4_high_asd_H1_1.json\n",
      "\n"
     ]
    }
   ],
   "source": [
    "# rerun if hanged\n",
    "ler = tdg.gw_parameters_generator(\n",
    "    size=10000,  # number of samples to generate\n",
    "    batch_size=400000,  # reduce this number if you have memory issues\n",
    "    snr_recalculation=True,  # pick SNR generated with 'interpolation'; recalculate SNR using 'inner product'\n",
    "    trim_to_size=False, verbose=True,\n",
    "    data_distribution_range = [0., 2., 4., 6., 8., 10., 12., 14., 16., 100.],  # equal data samples will be distributed in these ranges\n",
    "    replace=False,  # set to True if you want to replace the existing data\n",
    "    output_jsonfile=\"IMRPhenomXPHM_O4_high_asd_H1_1.json\",\n",
    ")"
   ]
  },
  {
   "cell_type": "code",
   "execution_count": null,
   "metadata": {},
   "outputs": [],
   "source": []
  },
  {
   "cell_type": "code",
   "execution_count": 4,
   "metadata": {},
   "outputs": [
    {
     "name": "stdout",
     "output_type": "stream",
     "text": [
      "\n",
      "Initializing GWRATES class...\n",
      "\n",
      "total event to collect: 5000\n",
      "\n"
     ]
    },
    {
     "name": "stderr",
     "output_type": "stream",
     "text": [
      "100%|████████████████████████████████████████████████████████████| 460/460 [00:01<00:00, 410.90it/s]\n"
     ]
    },
    {
     "name": "stdout",
     "output_type": "stream",
     "text": [
      "Collected number of events: 406\n"
     ]
    },
    {
     "name": "stderr",
     "output_type": "stream",
     "text": [
      "100%|████████████████████████████████████████████████████████████| 518/518 [00:01<00:00, 438.37it/s]\n"
     ]
    },
    {
     "name": "stdout",
     "output_type": "stream",
     "text": [
      "Collected number of events: 860\n"
     ]
    },
    {
     "name": "stderr",
     "output_type": "stream",
     "text": [
      "100%|████████████████████████████████████████████████████████████| 456/456 [00:01<00:00, 419.49it/s]\n"
     ]
    },
    {
     "name": "stdout",
     "output_type": "stream",
     "text": [
      "Collected number of events: 1250\n"
     ]
    },
    {
     "name": "stderr",
     "output_type": "stream",
     "text": [
      "100%|████████████████████████████████████████████████████████████| 474/474 [00:01<00:00, 397.48it/s]\n"
     ]
    },
    {
     "name": "stdout",
     "output_type": "stream",
     "text": [
      "Collected number of events: 1664\n"
     ]
    },
    {
     "name": "stderr",
     "output_type": "stream",
     "text": [
      "100%|████████████████████████████████████████████████████████████| 478/478 [00:01<00:00, 441.65it/s]\n"
     ]
    },
    {
     "name": "stdout",
     "output_type": "stream",
     "text": [
      "Collected number of events: 2086\n"
     ]
    },
    {
     "name": "stderr",
     "output_type": "stream",
     "text": [
      "100%|████████████████████████████████████████████████████████████| 508/508 [00:01<00:00, 445.10it/s]\n"
     ]
    },
    {
     "name": "stdout",
     "output_type": "stream",
     "text": [
      "Collected number of events: 2536\n"
     ]
    },
    {
     "name": "stderr",
     "output_type": "stream",
     "text": [
      "100%|████████████████████████████████████████████████████████████| 472/472 [00:01<00:00, 403.63it/s]\n"
     ]
    },
    {
     "name": "stdout",
     "output_type": "stream",
     "text": [
      "Collected number of events: 2960\n"
     ]
    },
    {
     "name": "stderr",
     "output_type": "stream",
     "text": [
      "100%|████████████████████████████████████████████████████████████| 474/474 [00:01<00:00, 421.65it/s]\n"
     ]
    },
    {
     "name": "stdout",
     "output_type": "stream",
     "text": [
      "Collected number of events: 3382\n"
     ]
    },
    {
     "name": "stderr",
     "output_type": "stream",
     "text": [
      "100%|████████████████████████████████████████████████████████████| 482/482 [00:01<00:00, 425.66it/s]\n"
     ]
    },
    {
     "name": "stdout",
     "output_type": "stream",
     "text": [
      "Collected number of events: 3792\n"
     ]
    },
    {
     "name": "stderr",
     "output_type": "stream",
     "text": [
      "100%|████████████████████████████████████████████████████████████| 476/476 [00:01<00:00, 436.38it/s]\n"
     ]
    },
    {
     "name": "stdout",
     "output_type": "stream",
     "text": [
      "Collected number of events: 4190\n"
     ]
    },
    {
     "name": "stderr",
     "output_type": "stream",
     "text": [
      "100%|████████████████████████████████████████████████████████████| 502/502 [00:01<00:00, 439.45it/s]\n"
     ]
    },
    {
     "name": "stdout",
     "output_type": "stream",
     "text": [
      "Collected number of events: 4638\n"
     ]
    },
    {
     "name": "stderr",
     "output_type": "stream",
     "text": [
      "100%|████████████████████████████████████████████████████████████| 500/500 [00:01<00:00, 440.24it/s]"
     ]
    },
    {
     "name": "stdout",
     "output_type": "stream",
     "text": [
      "Collected number of events: 5076\n",
      "final size: 5076\n",
      "\n",
      "json file saved at: ./ler_data/IMRPhenomXPHM_O4_high_asd_H1_2.json\n",
      "\n"
     ]
    },
    {
     "name": "stderr",
     "output_type": "stream",
     "text": [
      "\n"
     ]
    }
   ],
   "source": [
    "# might take 2mins~3mins\n",
    "# 10 mins 0.7 s, 10000 samples with 8 processes and batch_size=200000  \n",
    "tdg.gw_parameters_generator(\n",
    "    size=5000, \n",
    "    batch_size=200000, \n",
    "    snr_recalculation=True,\n",
    "    trim_to_size=False, verbose=True, \n",
    "    data_distribution_range = [4., 8., 12.], # equal data samples will be distributed in these ranges\n",
    "    replace=False,\n",
    "    output_jsonfile=\"IMRPhenomXPHM_O4_high_asd_H1_2.json\",\n",
    ")"
   ]
  },
  {
   "cell_type": "code",
   "execution_count": 5,
   "metadata": {},
   "outputs": [
    {
     "name": "stdout",
     "output_type": "stream",
     "text": [
      "\n",
      "Initializing GWRATES class...\n",
      "\n",
      "total event to collect: 10000\n",
      "\n",
      "final size: 10000\n",
      "\n",
      "json file saved at: ./ler_data/IMRPhenomXPHM_O4_high_asd_H1_3.json\n",
      "\n"
     ]
    }
   ],
   "source": [
    "tdg.gw_parameters_generator(\n",
    "    size=10000,\n",
    "    batch_size=10000, \n",
    "    snr_recalculation=True,\n",
    "    trim_to_size=False, \n",
    "    verbose=False, \n",
    "    data_distribution_range = None,\n",
    "    replace=True,\n",
    "    output_jsonfile=\"IMRPhenomXPHM_O4_high_asd_H1_3.json\",\n",
    ")"
   ]
  },
  {
   "cell_type": "markdown",
   "metadata": {},
   "source": [
    "### Additional random samples"
   ]
  },
  {
   "cell_type": "code",
   "execution_count": 6,
   "metadata": {},
   "outputs": [
    {
     "name": "stdout",
     "output_type": "stream",
     "text": [
      "\n",
      "Initializing GWSNR class...\n",
      "\n",
      "Intel processor has trouble allocating memory when the data is huge. So, by default for IMRPhenomXPHM, duration_max = 64.0. Otherwise, set to some max value like duration_max = 600.0 (10 mins)\n",
      "\n",
      "Chosen GWSNR initialization parameters:\n",
      "\n",
      "npool:  8\n",
      "snr type:  inner_product\n",
      "waveform approximant:  IMRPhenomXPHM\n",
      "sampling frequency:  2048.0\n",
      "minimum frequency (fmin):  20.0\n",
      "mtot=mass1+mass2\n",
      "min(mtot):  9.96\n",
      "max(mtot) (with the given fmin=20.0): 235.0\n",
      "detectors:  ['H1']\n",
      "psds:  [PowerSpectralDensity(psd_file='None', asd_file='/Users/phurailatpamhemantakumar/anaconda3/envs/ler/lib/python3.10/site-packages/bilby/gw/detector/noise_curves/aLIGO_O4_high_asd.txt')]\n",
      "\n",
      "\n"
     ]
    }
   ],
   "source": [
    "from gwsnr import GWSNR\n",
    "import numpy as np\n",
    "\n",
    "gwsnr = GWSNR(\n",
    "    npool=8,  # number of processes\n",
    "    # GWSNR parameters\n",
    "    sampling_frequency=2048.,\n",
    "    waveform_approximant='IMRPhenomXPHM',  # spin-precessing waveform model\n",
    "    minimum_frequency=20.,\n",
    "    psds={'H1':'aLIGO_O4_high_asd.txt'}, # chosen interferometer is 'H1'. If multiple network SNR will be considered.\n",
    "    snr_type='inner_product',  # 'interpolation' or 'inner_product'\n",
    ")"
   ]
  },
  {
   "cell_type": "code",
   "execution_count": 7,
   "metadata": {},
   "outputs": [
    {
     "name": "stdout",
     "output_type": "stream",
     "text": [
      "solving SNR with inner product\n"
     ]
    },
    {
     "name": "stderr",
     "output_type": "stream",
     "text": [
      "100%|███████████████████████████████████████████████████████| 50000/50000 [00:37<00:00, 1338.73it/s]\n"
     ]
    }
   ],
   "source": [
    "# gerneral case, random parameters\n",
    "np.random.seed(64)\n",
    "nsamples = 50000\n",
    "mtot = np.random.uniform(2*4.98, 2*112.5,nsamples)\n",
    "mass_ratio = np.random.uniform(0.2,1,size=nsamples)\n",
    "param_dict = dict(\n",
    "    # convert to component masses\n",
    "    mass_1 = mtot / (1 + mass_ratio),\n",
    "    mass_2 = mtot * mass_ratio / (1 + mass_ratio),\n",
    "    # Fix luminosity distance\n",
    "    luminosity_distance = np.random.uniform(40, 10000, size=nsamples),  # Random luminosity distance between 40 and 10000 Mpc\n",
    "    # Randomly sample everything else:\n",
    "    theta_jn = np.random.uniform(0,2*np.pi, size=nsamples),\n",
    "    ra = np.random.uniform(0,2*np.pi, size=nsamples), \n",
    "    dec = np.random.uniform(-np.pi/2,np.pi/2, size=nsamples), \n",
    "    psi = np.random.uniform(0,2*np.pi, size=nsamples),\n",
    "    phase = np.random.uniform(0,2*np.pi, size=nsamples),\n",
    "    geocent_time = 1246527224.169434*np.ones(nsamples),\n",
    "    # spin zero\n",
    "    a_1 = np.random.uniform(0.0,0.8, size=nsamples),\n",
    "    a_2 = np.random.uniform(0.0,0.8, size=nsamples),\n",
    "    tilt_1 = np.random.uniform(0, np.pi, size=nsamples),  # tilt angle of the primary black hole in radians\n",
    "    tilt_2 = np.random.uniform(0, np.pi, size=nsamples),\n",
    "    phi_12 = np.random.uniform(0, 2*np.pi, size=nsamples),  # Relative angle between the primary and secondary spin of the binary in radians\n",
    "    phi_jl = np.random.uniform(0, 2*np.pi, size=nsamples),  # Angle between the total angular momentum and the orbital angular momentum in radians\n",
    ")\n",
    "\n",
    "snrs_ = gwsnr.snr(gw_param_dict=param_dict)\n",
    "# time: 0.2 s for 50000 samples with 8 processes"
   ]
  },
  {
   "cell_type": "code",
   "execution_count": 8,
   "metadata": {},
   "outputs": [],
   "source": [
    "param_dict.update(snrs_)\n",
    "from gwsnr.utils import append_json\n",
    "append_json(\n",
    "    file_name=\"ler_data/IMRPhenomXPHM_O4_high_asd_H1_4.json\", \n",
    "    new_dictionary =param_dict,\n",
    "    replace=True,  # set to True if you want to replace the existing data\n",
    ");"
   ]
  },
  {
   "cell_type": "code",
   "execution_count": null,
   "metadata": {},
   "outputs": [],
   "source": []
  },
  {
   "cell_type": "markdown",
   "metadata": {},
   "source": [
    "### Combine all the data files into one"
   ]
  },
  {
   "cell_type": "markdown",
   "metadata": {},
   "source": [
    "## H1 detector"
   ]
  },
  {
   "cell_type": "code",
   "execution_count": 9,
   "metadata": {},
   "outputs": [
    {
     "name": "stdout",
     "output_type": "stream",
     "text": [
      "json file saved at: ./ler_data/IMRPhenomXPHM_O4_high_asd_H1.json\n",
      "\n"
     ]
    }
   ],
   "source": [
    "import numpy as np\n",
    "import matplotlib.pyplot as plt\n",
    "from ler.utils import TrainingDataGenerator\n",
    "\n",
    "tdg = TrainingDataGenerator()\n",
    "tdg.combine_dicts(\n",
    "    file_name_list=[\"IMRPhenomXPHM_O4_high_asd_H1_1.json\", \"IMRPhenomXPHM_O4_high_asd_H1_2.json\", \"IMRPhenomXPHM_O4_high_asd_H1_3.json\", \"IMRPhenomXPHM_O4_high_asd_H1_4.json\"],\n",
    "    detector='H1',\n",
    "    output_jsonfile=\"IMRPhenomXPHM_O4_high_asd_H1.json\",\n",
    ")"
   ]
  },
  {
   "cell_type": "code",
   "execution_count": 10,
   "metadata": {},
   "outputs": [],
   "source": [
    "# from gwsnr.utils import get_param_from_json\n",
    "# test1 = get_param_from_json(\"./ler_data/IMRPhenomXPHM_O4_high_asd_H1.json\")\n",
    "\n",
    "# snr = np.array(test1['H1'])\n",
    "# print(f\"Number of samples: {len(snr)}\")\n",
    "\n",
    "# plt.figure(figsize=[4,4])\n",
    "# plt.hist(snr, bins=100, density=True, alpha=0.5, color='b', histtype='step', label='H1')\n",
    "# plt.xlim([0, 40])\n",
    "# plt.xlabel('Optimal SNR')\n",
    "# plt.ylabel('Density')\n",
    "# plt.legend()\n",
    "# plt.show()"
   ]
  },
  {
   "cell_type": "markdown",
   "metadata": {},
   "source": [
    "### ANN model training and testing"
   ]
  },
  {
   "cell_type": "code",
   "execution_count": 11,
   "metadata": {},
   "outputs": [],
   "source": [
    "import numpy as np\n",
    "import matplotlib.pyplot as plt\n",
    "from gwsnr.ann import ANNModelGenerator"
   ]
  },
  {
   "cell_type": "code",
   "execution_count": 12,
   "metadata": {},
   "outputs": [
    {
     "name": "stdout",
     "output_type": "stream",
     "text": [
      "\n",
      "Initializing GWSNR class...\n",
      "\n",
      "Intel processor has trouble allocating memory when the data is huge. So, by default for IMRPhenomXPHM, duration_max = 64.0. Otherwise, set to some max value like duration_max = 600.0 (10 mins)\n",
      "Interpolator will be loaded for H1 detector from ./interpolator_pickle/H1/partialSNR_dict_1.pickle\n",
      "\n",
      "\n"
     ]
    }
   ],
   "source": [
    "amg = ANNModelGenerator(\n",
    "    directory='./ann_data',\n",
    "    npool=8,\n",
    "    gwsnr_verbose=False,\n",
    "    snr_th=8.0,\n",
    "    waveform_approximant=\"IMRPhenomXPHM\",\n",
    "    psds={'H1': 'aLIGO_O4_high_asd.txt'},  \n",
    ")"
   ]
  },
  {
   "cell_type": "code",
   "execution_count": 13,
   "metadata": {},
   "outputs": [
    {
     "name": "stdout",
     "output_type": "stream",
     "text": [
      "Epoch 1/100\n",
      "\u001b[1m2118/2118\u001b[0m \u001b[32m━━━━━━━━━━━━━━━━━━━━\u001b[0m\u001b[37m\u001b[0m \u001b[1m1s\u001b[0m 321us/step - accuracy: 4.6322e-04 - loss: 1075.6736\n",
      "Epoch 2/100\n",
      "\u001b[1m2118/2118\u001b[0m \u001b[32m━━━━━━━━━━━━━━━━━━━━\u001b[0m\u001b[37m\u001b[0m \u001b[1m1s\u001b[0m 314us/step - accuracy: 4.8894e-04 - loss: 1000.9934\n",
      "Epoch 3/100\n",
      "\u001b[1m2118/2118\u001b[0m \u001b[32m━━━━━━━━━━━━━━━━━━━━\u001b[0m\u001b[37m\u001b[0m \u001b[1m1s\u001b[0m 313us/step - accuracy: 6.7348e-04 - loss: 1045.1288\n",
      "Epoch 4/100\n",
      "\u001b[1m2118/2118\u001b[0m \u001b[32m━━━━━━━━━━━━━━━━━━━━\u001b[0m\u001b[37m\u001b[0m \u001b[1m1s\u001b[0m 309us/step - accuracy: 7.5949e-04 - loss: 712.6802\n",
      "Epoch 5/100\n",
      "\u001b[1m2118/2118\u001b[0m \u001b[32m━━━━━━━━━━━━━━━━━━━━\u001b[0m\u001b[37m\u001b[0m \u001b[1m1s\u001b[0m 360us/step - accuracy: 9.9912e-04 - loss: 609.4849\n",
      "Epoch 6/100\n",
      "\u001b[1m2118/2118\u001b[0m \u001b[32m━━━━━━━━━━━━━━━━━━━━\u001b[0m\u001b[37m\u001b[0m \u001b[1m1s\u001b[0m 311us/step - accuracy: 0.0010 - loss: 699.9709  \n",
      "Epoch 7/100\n",
      "\u001b[1m2118/2118\u001b[0m \u001b[32m━━━━━━━━━━━━━━━━━━━━\u001b[0m\u001b[37m\u001b[0m \u001b[1m1s\u001b[0m 313us/step - accuracy: 0.0011 - loss: 569.9766\n",
      "Epoch 8/100\n",
      "\u001b[1m2118/2118\u001b[0m \u001b[32m━━━━━━━━━━━━━━━━━━━━\u001b[0m\u001b[37m\u001b[0m \u001b[1m1s\u001b[0m 315us/step - accuracy: 0.0011 - loss: 635.4453\n",
      "Epoch 9/100\n",
      "\u001b[1m2118/2118\u001b[0m \u001b[32m━━━━━━━━━━━━━━━━━━━━\u001b[0m\u001b[37m\u001b[0m \u001b[1m1s\u001b[0m 322us/step - accuracy: 0.0014 - loss: 454.8651\n",
      "Epoch 10/100\n",
      "\u001b[1m2118/2118\u001b[0m \u001b[32m━━━━━━━━━━━━━━━━━━━━\u001b[0m\u001b[37m\u001b[0m \u001b[1m1s\u001b[0m 310us/step - accuracy: 0.0013 - loss: 462.4346\n",
      "Epoch 11/100\n",
      "\u001b[1m2118/2118\u001b[0m \u001b[32m━━━━━━━━━━━━━━━━━━━━\u001b[0m\u001b[37m\u001b[0m \u001b[1m1s\u001b[0m 311us/step - accuracy: 8.7601e-04 - loss: 379.2724\n",
      "Epoch 12/100\n",
      "\u001b[1m2118/2118\u001b[0m \u001b[32m━━━━━━━━━━━━━━━━━━━━\u001b[0m\u001b[37m\u001b[0m \u001b[1m1s\u001b[0m 310us/step - accuracy: 0.0011 - loss: 366.9682\n",
      "Epoch 13/100\n",
      "\u001b[1m2118/2118\u001b[0m \u001b[32m━━━━━━━━━━━━━━━━━━━━\u001b[0m\u001b[37m\u001b[0m \u001b[1m1s\u001b[0m 310us/step - accuracy: 0.0013 - loss: 316.7130\n",
      "Epoch 14/100\n",
      "\u001b[1m2118/2118\u001b[0m \u001b[32m━━━━━━━━━━━━━━━━━━━━\u001b[0m\u001b[37m\u001b[0m \u001b[1m1s\u001b[0m 310us/step - accuracy: 8.1629e-04 - loss: 385.9897\n",
      "Epoch 15/100\n",
      "\u001b[1m2118/2118\u001b[0m \u001b[32m━━━━━━━━━━━━━━━━━━━━\u001b[0m\u001b[37m\u001b[0m \u001b[1m1s\u001b[0m 314us/step - accuracy: 9.7396e-04 - loss: 339.5156\n",
      "Epoch 16/100\n",
      "\u001b[1m2118/2118\u001b[0m \u001b[32m━━━━━━━━━━━━━━━━━━━━\u001b[0m\u001b[37m\u001b[0m \u001b[1m1s\u001b[0m 310us/step - accuracy: 9.4315e-04 - loss: 337.7216\n",
      "Epoch 17/100\n",
      "\u001b[1m2118/2118\u001b[0m \u001b[32m━━━━━━━━━━━━━━━━━━━━\u001b[0m\u001b[37m\u001b[0m \u001b[1m1s\u001b[0m 307us/step - accuracy: 7.2754e-04 - loss: 278.2105\n",
      "Epoch 18/100\n",
      "\u001b[1m2118/2118\u001b[0m \u001b[32m━━━━━━━━━━━━━━━━━━━━\u001b[0m\u001b[37m\u001b[0m \u001b[1m1s\u001b[0m 306us/step - accuracy: 6.4371e-04 - loss: 264.4070\n",
      "Epoch 19/100\n",
      "\u001b[1m2118/2118\u001b[0m \u001b[32m━━━━━━━━━━━━━━━━━━━━\u001b[0m\u001b[37m\u001b[0m \u001b[1m1s\u001b[0m 309us/step - accuracy: 5.5663e-04 - loss: 344.1332\n",
      "Epoch 20/100\n",
      "\u001b[1m2118/2118\u001b[0m \u001b[32m━━━━━━━━━━━━━━━━━━━━\u001b[0m\u001b[37m\u001b[0m \u001b[1m1s\u001b[0m 308us/step - accuracy: 7.6489e-04 - loss: 262.2130\n",
      "Epoch 21/100\n",
      "\u001b[1m2118/2118\u001b[0m \u001b[32m━━━━━━━━━━━━━━━━━━━━\u001b[0m\u001b[37m\u001b[0m \u001b[1m1s\u001b[0m 306us/step - accuracy: 6.6737e-04 - loss: 254.0027\n",
      "Epoch 22/100\n",
      "\u001b[1m2118/2118\u001b[0m \u001b[32m━━━━━━━━━━━━━━━━━━━━\u001b[0m\u001b[37m\u001b[0m \u001b[1m1s\u001b[0m 307us/step - accuracy: 6.8231e-04 - loss: 237.2391\n",
      "Epoch 23/100\n",
      "\u001b[1m2118/2118\u001b[0m \u001b[32m━━━━━━━━━━━━━━━━━━━━\u001b[0m\u001b[37m\u001b[0m \u001b[1m1s\u001b[0m 307us/step - accuracy: 6.5680e-04 - loss: 278.1555\n",
      "Epoch 24/100\n",
      "\u001b[1m2118/2118\u001b[0m \u001b[32m━━━━━━━━━━━━━━━━━━━━\u001b[0m\u001b[37m\u001b[0m \u001b[1m1s\u001b[0m 310us/step - accuracy: 7.8558e-04 - loss: 225.1441\n",
      "Epoch 25/100\n",
      "\u001b[1m2118/2118\u001b[0m \u001b[32m━━━━━━━━━━━━━━━━━━━━\u001b[0m\u001b[37m\u001b[0m \u001b[1m1s\u001b[0m 309us/step - accuracy: 5.2702e-04 - loss: 297.9148\n",
      "Epoch 26/100\n",
      "\u001b[1m2118/2118\u001b[0m \u001b[32m━━━━━━━━━━━━━━━━━━━━\u001b[0m\u001b[37m\u001b[0m \u001b[1m1s\u001b[0m 308us/step - accuracy: 6.9270e-04 - loss: 199.5784\n",
      "Epoch 27/100\n",
      "\u001b[1m2118/2118\u001b[0m \u001b[32m━━━━━━━━━━━━━━━━━━━━\u001b[0m\u001b[37m\u001b[0m \u001b[1m1s\u001b[0m 310us/step - accuracy: 4.1427e-04 - loss: 207.3116\n",
      "Epoch 28/100\n",
      "\u001b[1m2118/2118\u001b[0m \u001b[32m━━━━━━━━━━━━━━━━━━━━\u001b[0m\u001b[37m\u001b[0m \u001b[1m1s\u001b[0m 348us/step - accuracy: 8.2757e-04 - loss: 227.7025\n",
      "Epoch 29/100\n",
      "\u001b[1m2118/2118\u001b[0m \u001b[32m━━━━━━━━━━━━━━━━━━━━\u001b[0m\u001b[37m\u001b[0m \u001b[1m1s\u001b[0m 309us/step - accuracy: 4.7269e-04 - loss: 217.5070\n",
      "Epoch 30/100\n",
      "\u001b[1m2118/2118\u001b[0m \u001b[32m━━━━━━━━━━━━━━━━━━━━\u001b[0m\u001b[37m\u001b[0m \u001b[1m1s\u001b[0m 309us/step - accuracy: 4.9578e-04 - loss: 262.5026\n",
      "Epoch 31/100\n",
      "\u001b[1m2118/2118\u001b[0m \u001b[32m━━━━━━━━━━━━━━━━━━━━\u001b[0m\u001b[37m\u001b[0m \u001b[1m1s\u001b[0m 308us/step - accuracy: 7.6044e-04 - loss: 153.7805\n",
      "Epoch 32/100\n",
      "\u001b[1m2118/2118\u001b[0m \u001b[32m━━━━━━━━━━━━━━━━━━━━\u001b[0m\u001b[37m\u001b[0m \u001b[1m1s\u001b[0m 307us/step - accuracy: 9.7171e-04 - loss: 210.5375\n",
      "Epoch 33/100\n",
      "\u001b[1m2118/2118\u001b[0m \u001b[32m━━━━━━━━━━━━━━━━━━━━\u001b[0m\u001b[37m\u001b[0m \u001b[1m1s\u001b[0m 307us/step - accuracy: 8.5232e-04 - loss: 167.3121\n",
      "Epoch 34/100\n",
      "\u001b[1m2118/2118\u001b[0m \u001b[32m━━━━━━━━━━━━━━━━━━━━\u001b[0m\u001b[37m\u001b[0m \u001b[1m1s\u001b[0m 306us/step - accuracy: 8.9627e-04 - loss: 191.3164\n",
      "Epoch 35/100\n",
      "\u001b[1m2118/2118\u001b[0m \u001b[32m━━━━━━━━━━━━━━━━━━━━\u001b[0m\u001b[37m\u001b[0m \u001b[1m1s\u001b[0m 307us/step - accuracy: 8.2373e-04 - loss: 137.3890\n",
      "Epoch 36/100\n",
      "\u001b[1m2118/2118\u001b[0m \u001b[32m━━━━━━━━━━━━━━━━━━━━\u001b[0m\u001b[37m\u001b[0m \u001b[1m1s\u001b[0m 310us/step - accuracy: 8.9196e-04 - loss: 135.2054\n",
      "Epoch 37/100\n",
      "\u001b[1m2118/2118\u001b[0m \u001b[32m━━━━━━━━━━━━━━━━━━━━\u001b[0m\u001b[37m\u001b[0m \u001b[1m1s\u001b[0m 307us/step - accuracy: 6.1114e-04 - loss: 157.5761\n",
      "Epoch 38/100\n",
      "\u001b[1m2118/2118\u001b[0m \u001b[32m━━━━━━━━━━━━━━━━━━━━\u001b[0m\u001b[37m\u001b[0m \u001b[1m1s\u001b[0m 309us/step - accuracy: 8.3511e-04 - loss: 132.0671\n",
      "Epoch 39/100\n",
      "\u001b[1m2118/2118\u001b[0m \u001b[32m━━━━━━━━━━━━━━━━━━━━\u001b[0m\u001b[37m\u001b[0m \u001b[1m1s\u001b[0m 310us/step - accuracy: 4.9899e-04 - loss: 155.3805\n",
      "Epoch 40/100\n",
      "\u001b[1m2118/2118\u001b[0m \u001b[32m━━━━━━━━━━━━━━━━━━━━\u001b[0m\u001b[37m\u001b[0m \u001b[1m1s\u001b[0m 312us/step - accuracy: 7.1111e-04 - loss: 91.5991\n",
      "Epoch 41/100\n",
      "\u001b[1m2118/2118\u001b[0m \u001b[32m━━━━━━━━━━━━━━━━━━━━\u001b[0m\u001b[37m\u001b[0m \u001b[1m1s\u001b[0m 314us/step - accuracy: 7.7725e-04 - loss: 129.3458\n",
      "Epoch 42/100\n",
      "\u001b[1m2118/2118\u001b[0m \u001b[32m━━━━━━━━━━━━━━━━━━━━\u001b[0m\u001b[37m\u001b[0m \u001b[1m1s\u001b[0m 345us/step - accuracy: 8.7233e-04 - loss: 114.6771\n",
      "Epoch 43/100\n",
      "\u001b[1m2118/2118\u001b[0m \u001b[32m━━━━━━━━━━━━━━━━━━━━\u001b[0m\u001b[37m\u001b[0m \u001b[1m1s\u001b[0m 308us/step - accuracy: 9.1166e-04 - loss: 139.0640\n",
      "Epoch 44/100\n",
      "\u001b[1m2118/2118\u001b[0m \u001b[32m━━━━━━━━━━━━━━━━━━━━\u001b[0m\u001b[37m\u001b[0m \u001b[1m1s\u001b[0m 311us/step - accuracy: 8.6714e-04 - loss: 132.2744\n",
      "Epoch 45/100\n",
      "\u001b[1m2118/2118\u001b[0m \u001b[32m━━━━━━━━━━━━━━━━━━━━\u001b[0m\u001b[37m\u001b[0m \u001b[1m1s\u001b[0m 313us/step - accuracy: 8.3637e-04 - loss: 149.3459\n",
      "Epoch 46/100\n",
      "\u001b[1m2118/2118\u001b[0m \u001b[32m━━━━━━━━━━━━━━━━━━━━\u001b[0m\u001b[37m\u001b[0m \u001b[1m1s\u001b[0m 307us/step - accuracy: 5.7313e-04 - loss: 101.3650\n",
      "Epoch 47/100\n",
      "\u001b[1m2118/2118\u001b[0m \u001b[32m━━━━━━━━━━━━━━━━━━━━\u001b[0m\u001b[37m\u001b[0m \u001b[1m1s\u001b[0m 304us/step - accuracy: 7.7442e-04 - loss: 168.3640\n",
      "Epoch 48/100\n",
      "\u001b[1m2118/2118\u001b[0m \u001b[32m━━━━━━━━━━━━━━━━━━━━\u001b[0m\u001b[37m\u001b[0m \u001b[1m1s\u001b[0m 305us/step - accuracy: 8.2501e-04 - loss: 101.4201\n",
      "Epoch 49/100\n",
      "\u001b[1m2118/2118\u001b[0m \u001b[32m━━━━━━━━━━━━━━━━━━━━\u001b[0m\u001b[37m\u001b[0m \u001b[1m1s\u001b[0m 310us/step - accuracy: 7.6466e-04 - loss: 91.6752\n",
      "Epoch 50/100\n",
      "\u001b[1m2118/2118\u001b[0m \u001b[32m━━━━━━━━━━━━━━━━━━━━\u001b[0m\u001b[37m\u001b[0m \u001b[1m1s\u001b[0m 312us/step - accuracy: 8.4219e-04 - loss: 81.6775\n",
      "Epoch 51/100\n",
      "\u001b[1m2118/2118\u001b[0m \u001b[32m━━━━━━━━━━━━━━━━━━━━\u001b[0m\u001b[37m\u001b[0m \u001b[1m1s\u001b[0m 310us/step - accuracy: 7.0280e-04 - loss: 124.4404\n",
      "Epoch 52/100\n",
      "\u001b[1m2118/2118\u001b[0m \u001b[32m━━━━━━━━━━━━━━━━━━━━\u001b[0m\u001b[37m\u001b[0m \u001b[1m1s\u001b[0m 314us/step - accuracy: 8.5478e-04 - loss: 78.7547\n",
      "Epoch 53/100\n",
      "\u001b[1m2118/2118\u001b[0m \u001b[32m━━━━━━━━━━━━━━━━━━━━\u001b[0m\u001b[37m\u001b[0m \u001b[1m1s\u001b[0m 310us/step - accuracy: 8.1356e-04 - loss: 109.2986\n",
      "Epoch 54/100\n",
      "\u001b[1m2118/2118\u001b[0m \u001b[32m━━━━━━━━━━━━━━━━━━━━\u001b[0m\u001b[37m\u001b[0m \u001b[1m1s\u001b[0m 315us/step - accuracy: 5.8297e-04 - loss: 89.6535\n",
      "Epoch 55/100\n",
      "\u001b[1m2118/2118\u001b[0m \u001b[32m━━━━━━━━━━━━━━━━━━━━\u001b[0m\u001b[37m\u001b[0m \u001b[1m1s\u001b[0m 315us/step - accuracy: 8.7006e-04 - loss: 63.5000\n",
      "Epoch 56/100\n",
      "\u001b[1m2118/2118\u001b[0m \u001b[32m━━━━━━━━━━━━━━━━━━━━\u001b[0m\u001b[37m\u001b[0m \u001b[1m1s\u001b[0m 315us/step - accuracy: 8.3341e-04 - loss: 154.6114\n",
      "Epoch 57/100\n",
      "\u001b[1m2118/2118\u001b[0m \u001b[32m━━━━━━━━━━━━━━━━━━━━\u001b[0m\u001b[37m\u001b[0m \u001b[1m1s\u001b[0m 312us/step - accuracy: 6.3682e-04 - loss: 58.6995\n",
      "Epoch 58/100\n",
      "\u001b[1m2118/2118\u001b[0m \u001b[32m━━━━━━━━━━━━━━━━━━━━\u001b[0m\u001b[37m\u001b[0m \u001b[1m1s\u001b[0m 314us/step - accuracy: 7.6764e-04 - loss: 115.6081\n",
      "Epoch 59/100\n",
      "\u001b[1m2118/2118\u001b[0m \u001b[32m━━━━━━━━━━━━━━━━━━━━\u001b[0m\u001b[37m\u001b[0m \u001b[1m1s\u001b[0m 315us/step - accuracy: 7.9012e-04 - loss: 98.9410\n",
      "Epoch 60/100\n",
      "\u001b[1m2118/2118\u001b[0m \u001b[32m━━━━━━━━━━━━━━━━━━━━\u001b[0m\u001b[37m\u001b[0m \u001b[1m1s\u001b[0m 313us/step - accuracy: 7.2181e-04 - loss: 76.1526\n",
      "Epoch 61/100\n",
      "\u001b[1m2118/2118\u001b[0m \u001b[32m━━━━━━━━━━━━━━━━━━━━\u001b[0m\u001b[37m\u001b[0m \u001b[1m1s\u001b[0m 348us/step - accuracy: 6.9839e-04 - loss: 69.0541\n",
      "Epoch 62/100\n",
      "\u001b[1m2118/2118\u001b[0m \u001b[32m━━━━━━━━━━━━━━━━━━━━\u001b[0m\u001b[37m\u001b[0m \u001b[1m1s\u001b[0m 311us/step - accuracy: 7.4616e-04 - loss: 78.8723\n",
      "Epoch 63/100\n",
      "\u001b[1m2118/2118\u001b[0m \u001b[32m━━━━━━━━━━━━━━━━━━━━\u001b[0m\u001b[37m\u001b[0m \u001b[1m1s\u001b[0m 311us/step - accuracy: 8.3254e-04 - loss: 83.2020\n",
      "Epoch 64/100\n",
      "\u001b[1m2118/2118\u001b[0m \u001b[32m━━━━━━━━━━━━━━━━━━━━\u001b[0m\u001b[37m\u001b[0m \u001b[1m1s\u001b[0m 313us/step - accuracy: 8.4569e-04 - loss: 116.0898\n",
      "Epoch 65/100\n",
      "\u001b[1m2118/2118\u001b[0m \u001b[32m━━━━━━━━━━━━━━━━━━━━\u001b[0m\u001b[37m\u001b[0m \u001b[1m1s\u001b[0m 309us/step - accuracy: 7.2003e-04 - loss: 105.4725\n",
      "Epoch 66/100\n",
      "\u001b[1m2118/2118\u001b[0m \u001b[32m━━━━━━━━━━━━━━━━━━━━\u001b[0m\u001b[37m\u001b[0m \u001b[1m1s\u001b[0m 311us/step - accuracy: 8.8376e-04 - loss: 57.3317\n",
      "Epoch 67/100\n",
      "\u001b[1m2118/2118\u001b[0m \u001b[32m━━━━━━━━━━━━━━━━━━━━\u001b[0m\u001b[37m\u001b[0m \u001b[1m1s\u001b[0m 311us/step - accuracy: 8.9955e-04 - loss: 90.4666\n",
      "Epoch 68/100\n",
      "\u001b[1m2118/2118\u001b[0m \u001b[32m━━━━━━━━━━━━━━━━━━━━\u001b[0m\u001b[37m\u001b[0m \u001b[1m1s\u001b[0m 310us/step - accuracy: 9.4960e-04 - loss: 69.9685\n",
      "Epoch 69/100\n",
      "\u001b[1m2118/2118\u001b[0m \u001b[32m━━━━━━━━━━━━━━━━━━━━\u001b[0m\u001b[37m\u001b[0m \u001b[1m1s\u001b[0m 312us/step - accuracy: 9.4885e-04 - loss: 68.2325\n",
      "Epoch 70/100\n",
      "\u001b[1m2118/2118\u001b[0m \u001b[32m━━━━━━━━━━━━━━━━━━━━\u001b[0m\u001b[37m\u001b[0m \u001b[1m1s\u001b[0m 313us/step - accuracy: 7.6944e-04 - loss: 74.0794\n",
      "Epoch 71/100\n",
      "\u001b[1m2118/2118\u001b[0m \u001b[32m━━━━━━━━━━━━━━━━━━━━\u001b[0m\u001b[37m\u001b[0m \u001b[1m1s\u001b[0m 311us/step - accuracy: 6.8383e-04 - loss: 87.1999\n",
      "Epoch 72/100\n",
      "\u001b[1m2118/2118\u001b[0m \u001b[32m━━━━━━━━━━━━━━━━━━━━\u001b[0m\u001b[37m\u001b[0m \u001b[1m1s\u001b[0m 312us/step - accuracy: 6.2174e-04 - loss: 51.2246\n",
      "Epoch 73/100\n",
      "\u001b[1m2118/2118\u001b[0m \u001b[32m━━━━━━━━━━━━━━━━━━━━\u001b[0m\u001b[37m\u001b[0m \u001b[1m1s\u001b[0m 313us/step - accuracy: 9.7345e-04 - loss: 69.8967\n",
      "Epoch 74/100\n",
      "\u001b[1m2118/2118\u001b[0m \u001b[32m━━━━━━━━━━━━━━━━━━━━\u001b[0m\u001b[37m\u001b[0m \u001b[1m1s\u001b[0m 313us/step - accuracy: 8.7693e-04 - loss: 46.6457\n",
      "Epoch 75/100\n",
      "\u001b[1m2118/2118\u001b[0m \u001b[32m━━━━━━━━━━━━━━━━━━━━\u001b[0m\u001b[37m\u001b[0m \u001b[1m1s\u001b[0m 311us/step - accuracy: 9.2389e-04 - loss: 43.7834\n",
      "Epoch 76/100\n",
      "\u001b[1m2118/2118\u001b[0m \u001b[32m━━━━━━━━━━━━━━━━━━━━\u001b[0m\u001b[37m\u001b[0m \u001b[1m1s\u001b[0m 313us/step - accuracy: 9.4189e-04 - loss: 54.1627\n",
      "Epoch 77/100\n",
      "\u001b[1m2118/2118\u001b[0m \u001b[32m━━━━━━━━━━━━━━━━━━━━\u001b[0m\u001b[37m\u001b[0m \u001b[1m1s\u001b[0m 346us/step - accuracy: 0.0010 - loss: 73.9399\n",
      "Epoch 78/100\n",
      "\u001b[1m2118/2118\u001b[0m \u001b[32m━━━━━━━━━━━━━━━━━━━━\u001b[0m\u001b[37m\u001b[0m \u001b[1m1s\u001b[0m 311us/step - accuracy: 7.2583e-04 - loss: 69.0231\n",
      "Epoch 79/100\n",
      "\u001b[1m2118/2118\u001b[0m \u001b[32m━━━━━━━━━━━━━━━━━━━━\u001b[0m\u001b[37m\u001b[0m \u001b[1m1s\u001b[0m 314us/step - accuracy: 8.2656e-04 - loss: 60.8908\n",
      "Epoch 80/100\n",
      "\u001b[1m2118/2118\u001b[0m \u001b[32m━━━━━━━━━━━━━━━━━━━━\u001b[0m\u001b[37m\u001b[0m \u001b[1m1s\u001b[0m 311us/step - accuracy: 9.1120e-04 - loss: 40.8791\n",
      "Epoch 81/100\n",
      "\u001b[1m2118/2118\u001b[0m \u001b[32m━━━━━━━━━━━━━━━━━━━━\u001b[0m\u001b[37m\u001b[0m \u001b[1m1s\u001b[0m 311us/step - accuracy: 8.6303e-04 - loss: 66.2857\n",
      "Epoch 82/100\n",
      "\u001b[1m2118/2118\u001b[0m \u001b[32m━━━━━━━━━━━━━━━━━━━━\u001b[0m\u001b[37m\u001b[0m \u001b[1m1s\u001b[0m 309us/step - accuracy: 8.3968e-04 - loss: 56.6575\n",
      "Epoch 83/100\n",
      "\u001b[1m2118/2118\u001b[0m \u001b[32m━━━━━━━━━━━━━━━━━━━━\u001b[0m\u001b[37m\u001b[0m \u001b[1m1s\u001b[0m 311us/step - accuracy: 8.3691e-04 - loss: 54.3026\n",
      "Epoch 84/100\n",
      "\u001b[1m2118/2118\u001b[0m \u001b[32m━━━━━━━━━━━━━━━━━━━━\u001b[0m\u001b[37m\u001b[0m \u001b[1m1s\u001b[0m 314us/step - accuracy: 0.0011 - loss: 41.2726\n",
      "Epoch 85/100\n",
      "\u001b[1m2118/2118\u001b[0m \u001b[32m━━━━━━━━━━━━━━━━━━━━\u001b[0m\u001b[37m\u001b[0m \u001b[1m1s\u001b[0m 311us/step - accuracy: 0.0011 - loss: 56.5052\n",
      "Epoch 86/100\n",
      "\u001b[1m2118/2118\u001b[0m \u001b[32m━━━━━━━━━━━━━━━━━━━━\u001b[0m\u001b[37m\u001b[0m \u001b[1m1s\u001b[0m 311us/step - accuracy: 9.1221e-04 - loss: 53.7026\n",
      "Epoch 87/100\n",
      "\u001b[1m2118/2118\u001b[0m \u001b[32m━━━━━━━━━━━━━━━━━━━━\u001b[0m\u001b[37m\u001b[0m \u001b[1m1s\u001b[0m 310us/step - accuracy: 0.0010 - loss: 89.2997\n",
      "Epoch 88/100\n",
      "\u001b[1m2118/2118\u001b[0m \u001b[32m━━━━━━━━━━━━━━━━━━━━\u001b[0m\u001b[37m\u001b[0m \u001b[1m1s\u001b[0m 312us/step - accuracy: 9.0596e-04 - loss: 60.5684\n",
      "Epoch 89/100\n",
      "\u001b[1m2118/2118\u001b[0m \u001b[32m━━━━━━━━━━━━━━━━━━━━\u001b[0m\u001b[37m\u001b[0m \u001b[1m1s\u001b[0m 310us/step - accuracy: 7.7364e-04 - loss: 57.5978\n",
      "Epoch 90/100\n",
      "\u001b[1m2118/2118\u001b[0m \u001b[32m━━━━━━━━━━━━━━━━━━━━\u001b[0m\u001b[37m\u001b[0m \u001b[1m1s\u001b[0m 307us/step - accuracy: 7.1012e-04 - loss: 63.4360\n",
      "Epoch 91/100\n",
      "\u001b[1m2118/2118\u001b[0m \u001b[32m━━━━━━━━━━━━━━━━━━━━\u001b[0m\u001b[37m\u001b[0m \u001b[1m1s\u001b[0m 307us/step - accuracy: 9.0138e-04 - loss: 77.4118\n",
      "Epoch 92/100\n",
      "\u001b[1m2118/2118\u001b[0m \u001b[32m━━━━━━━━━━━━━━━━━━━━\u001b[0m\u001b[37m\u001b[0m \u001b[1m1s\u001b[0m 354us/step - accuracy: 8.8488e-04 - loss: 58.6433\n",
      "Epoch 93/100\n",
      "\u001b[1m2118/2118\u001b[0m \u001b[32m━━━━━━━━━━━━━━━━━━━━\u001b[0m\u001b[37m\u001b[0m \u001b[1m1s\u001b[0m 321us/step - accuracy: 0.0011 - loss: 47.9138\n",
      "Epoch 94/100\n",
      "\u001b[1m2118/2118\u001b[0m \u001b[32m━━━━━━━━━━━━━━━━━━━━\u001b[0m\u001b[37m\u001b[0m \u001b[1m1s\u001b[0m 324us/step - accuracy: 0.0010 - loss: 45.0256\n",
      "Epoch 95/100\n",
      "\u001b[1m2118/2118\u001b[0m \u001b[32m━━━━━━━━━━━━━━━━━━━━\u001b[0m\u001b[37m\u001b[0m \u001b[1m1s\u001b[0m 357us/step - accuracy: 8.8259e-04 - loss: 42.5734\n",
      "Epoch 96/100\n",
      "\u001b[1m2118/2118\u001b[0m \u001b[32m━━━━━━━━━━━━━━━━━━━━\u001b[0m\u001b[37m\u001b[0m \u001b[1m1s\u001b[0m 312us/step - accuracy: 8.7638e-04 - loss: 37.8396\n",
      "Epoch 97/100\n",
      "\u001b[1m2118/2118\u001b[0m \u001b[32m━━━━━━━━━━━━━━━━━━━━\u001b[0m\u001b[37m\u001b[0m \u001b[1m1s\u001b[0m 310us/step - accuracy: 8.9051e-04 - loss: 39.5763\n",
      "Epoch 98/100\n",
      "\u001b[1m2118/2118\u001b[0m \u001b[32m━━━━━━━━━━━━━━━━━━━━\u001b[0m\u001b[37m\u001b[0m \u001b[1m1s\u001b[0m 312us/step - accuracy: 7.4864e-04 - loss: 39.1805\n",
      "Epoch 99/100\n",
      "\u001b[1m2118/2118\u001b[0m \u001b[32m━━━━━━━━━━━━━━━━━━━━\u001b[0m\u001b[37m\u001b[0m \u001b[1m1s\u001b[0m 305us/step - accuracy: 9.0625e-04 - loss: 40.6537\n",
      "Epoch 100/100\n",
      "\u001b[1m2118/2118\u001b[0m \u001b[32m━━━━━━━━━━━━━━━━━━━━\u001b[0m\u001b[37m\u001b[0m \u001b[1m1s\u001b[0m 304us/step - accuracy: 8.7976e-04 - loss: 28.3042\n",
      "\u001b[1m236/236\u001b[0m \u001b[32m━━━━━━━━━━━━━━━━━━━━\u001b[0m\u001b[37m\u001b[0m \u001b[1m0s\u001b[0m 271us/step\n",
      "scaler saved at: ./ann_data/scaler_H1.pkl\n",
      "model saved at: ./ann_data/ann_model_H1.h5\n",
      "error adjustment saved at: ./ann_data/error_adjustment_H1.json\n",
      "ann path dict saved at: ./ann_data/ann_path_dict.json\n"
     ]
    }
   ],
   "source": [
    "amg.ann_model_training(\n",
    "    gw_param_dict='ler_data/IMRPhenomXPHM_O4_high_asd_H1.json', # you can also get the dict from a json file first\n",
    "    randomize=True,\n",
    "    test_size=0.1,\n",
    "    random_state=42,\n",
    "    num_nodes_list = [5, 32, 32, 1],\n",
    "    activation_fn_list = ['relu', 'relu', 'sigmoid', 'linear'],\n",
    "    optimizer='adam',\n",
    "    loss='mean_squared_error',\n",
    "    metrics=['accuracy'],\n",
    "    batch_size=32,\n",
    "    epochs=100,\n",
    "    error_adjustment_snr_range=[2,14],\n",
    "    ann_file_name = 'ann_model_H1.h5',\n",
    "    scaler_file_name = 'scaler_H1.pkl',\n",
    "    error_adjustment_file_name='error_adjustment_H1.json',\n",
    "    ann_path_dict_file_name='ann_path_dict.json',\n",
    ")\n",
    "\n",
    "# # Uncomment the following, if you have already trained the model\n",
    "# # load the trained model\n",
    "# amg.load_model_scaler_error(\n",
    "#     ann_file_name='ann_model_H1.h5', \n",
    "#     scaler_file_name='scaler_H1.pkl',\n",
    "#     error_adjustment_file_name='error_adjustment_H1.json',\n",
    "# )"
   ]
  },
  {
   "cell_type": "code",
   "execution_count": 14,
   "metadata": {},
   "outputs": [
    {
     "name": "stdout",
     "output_type": "stream",
     "text": [
      "\u001b[1m236/236\u001b[0m \u001b[32m━━━━━━━━━━━━━━━━━━━━\u001b[0m\u001b[37m\u001b[0m \u001b[1m0s\u001b[0m 239us/step\n",
      "Error: 2.19%\n"
     ]
    },
    {
     "data": {
      "text/plain": [
       "(2.1912350597609564,\n",
       " array([ 0.5685926, 10.908554 , 13.739377 , ..., 10.180197 ,\n",
       "         2.0716174,  4.467376 ], dtype=float32),\n",
       " array([ 0.31062778, 11.61518456, 14.25082726, ..., 10.88331761,\n",
       "         1.76849256,  5.05261605]))"
      ]
     },
     "execution_count": 14,
     "metadata": {},
     "output_type": "execute_result"
    }
   ],
   "source": [
    "amg.pdet_error()"
   ]
  },
  {
   "cell_type": "code",
   "execution_count": 15,
   "metadata": {},
   "outputs": [
    {
     "name": "stdout",
     "output_type": "stream",
     "text": [
      "\u001b[1m236/236\u001b[0m \u001b[32m━━━━━━━━━━━━━━━━━━━━\u001b[0m\u001b[37m\u001b[0m \u001b[1m0s\u001b[0m 223us/step\n",
      "[[5133   97]\n",
      " [  67 2233]]\n",
      "Accuracy: 97.822%\n"
     ]
    },
    {
     "data": {
      "text/plain": [
       "(array([[5133,   97],\n",
       "        [  67, 2233]]),\n",
       " 97.82204515272245,\n",
       " array([False,  True,  True, ...,  True, False, False]),\n",
       " array([False,  True,  True, ...,  True, False, False]))"
      ]
     },
     "execution_count": 15,
     "metadata": {},
     "output_type": "execute_result"
    }
   ],
   "source": [
    "amg.pdet_confusion_matrix()"
   ]
  },
  {
   "cell_type": "code",
   "execution_count": 16,
   "metadata": {},
   "outputs": [
    {
     "name": "stdout",
     "output_type": "stream",
     "text": [
      "\u001b[1m2353/2353\u001b[0m \u001b[32m━━━━━━━━━━━━━━━━━━━━\u001b[0m\u001b[37m\u001b[0m \u001b[1m1s\u001b[0m 210us/step\n"
     ]
    },
    {
     "data": {
      "image/png": "[encoded data removed]",
      "text/plain": [
       "<Figure size 400x400 with 1 Axes>"
      ]
     },
     "metadata": {},
     "output_type": "display_data"
    }
   ],
   "source": [
    "# predicted snr\n",
    "pred_snr= amg.predict_snr(gw_param_dict='ler_data/IMRPhenomXPHM_O4_high_asd_H1.json')\n",
    "# true snr\n",
    "true_snr = amg.get_parameters(gw_param_dict='ler_data/IMRPhenomXPHM_O4_high_asd_H1.json')['H1']\n",
    "# select only snr between 4 and 12\n",
    "snr_min = 4\n",
    "snr_max = 12\n",
    "mask = (true_snr >= snr_min) & (true_snr <= snr_max)\n",
    "true_snr = true_snr[mask]\n",
    "pred_snr = pred_snr[mask]\n",
    "\n",
    "# plot the predicted snr vs true snr\n",
    "plt.figure(figsize=[4,4])\n",
    "plt.scatter(true_snr, pred_snr, s=1)\n",
    "snr_lim = [np.min([true_snr, true_snr]), np.max([true_snr, true_snr])]\n",
    "plt.plot(snr_lim, snr_lim, 'r--')\n",
    "plt.xlabel('True SNR')\n",
    "plt.ylabel('Predicted SNR')\n",
    "plt.xlim([snr_min, snr_max])\n",
    "plt.ylim([snr_min, snr_max])\n",
    "plt.show()"
   ]
  },
  {
   "cell_type": "code",
   "execution_count": 17,
   "metadata": {},
   "outputs": [
    {
     "name": "stdout",
     "output_type": "stream",
     "text": [
      "\u001b[1m2353/2353\u001b[0m \u001b[32m━━━━━━━━━━━━━━━━━━━━\u001b[0m\u001b[37m\u001b[0m \u001b[1m1s\u001b[0m 213us/step\n",
      "[[51957  1155]\n",
      " [  651 21528]]\n",
      "0.9760130692911503\n"
     ]
    }
   ],
   "source": [
    "# use the following function to predict the pdet\n",
    "pred_pdet = amg.predict_pdet(gw_param_dict='ler_data/IMRPhenomXPHM_O4_high_asd_H1.json', snr_threshold=8.0)\n",
    "\n",
    "true_snr = amg.get_parameters(gw_param_dict='ler_data/IMRPhenomXPHM_O4_high_asd_H1.json')['H1']\n",
    "# true pdet\n",
    "true_pdet = np.array([1 if snr >= 8.0 else 0 for snr in true_snr])\n",
    "\n",
    "from sklearn.metrics import confusion_matrix, accuracy_score\n",
    "cm = confusion_matrix(true_pdet, pred_pdet)\n",
    "print(cm)\n",
    "\n",
    "acc = accuracy_score(true_pdet, pred_pdet)\n",
    "print(acc)\n"
   ]
  },
  {
   "cell_type": "code",
   "execution_count": null,
   "metadata": {},
   "outputs": [],
   "source": []
  },
  {
   "cell_type": "markdown",
   "metadata": {},
   "source": [
    "## 3. Implementation of the ANN model in GWSNR\n",
    "\n",
    "Generate new astrophysical data and test the model on it using GWSNR class."
   ]
  },
  {
   "cell_type": "code",
   "execution_count": 19,
   "metadata": {},
   "outputs": [
    {
     "name": "stdout",
     "output_type": "stream",
     "text": [
      "\n",
      "Initializing GWRATES class...\n",
      "\n",
      "total event to collect: 20000\n",
      "\n"
     ]
    },
    {
     "name": "stderr",
     "output_type": "stream",
     "text": [
      "100%|████████████████████████████████████████████████████████| 19512/19512 [00:26<00:00, 730.12it/s]\n"
     ]
    },
    {
     "name": "stdout",
     "output_type": "stream",
     "text": [
      "Collected number of events: 20000\n",
      "final size: 20000\n",
      "\n",
      "json file saved at: ./ler_data/IMRPhenomXPHM_O4_high_asd_H1_5.json\n",
      "\n"
     ]
    }
   ],
   "source": [
    "from ler.utils import TrainingDataGenerator\n",
    "\n",
    "# generate some new data\n",
    "tdg = TrainingDataGenerator(\n",
    "    npool=4,\n",
    "    verbose=False, \n",
    "    # GWSNR parameters\n",
    "    sampling_frequency=2048,\n",
    "    waveform_approximant='IMRPhenomXPHM',\n",
    "    psds={'H1': 'aLIGO_O4_high_asd.txt'},  \n",
    "    minimum_frequency=20,\n",
    "    spin_zero=False,\n",
    "    spin_precessing=True,\n",
    "    snr_type='inner_product',\n",
    ")\n",
    "\n",
    "tdg.gw_parameters_generator(\n",
    "    size=20000, \n",
    "    batch_size=20000, \n",
    "    snr_recalculation=False,\n",
    "    trim_to_size=False, \n",
    "    verbose=True, \n",
    "    data_distribution_range = None, \n",
    "    replace=False,\n",
    "    output_jsonfile=\"IMRPhenomXPHM_O4_high_asd_H1_5.json\",\n",
    ")"
   ]
  },
  {
   "cell_type": "markdown",
   "metadata": {},
   "source": [
    "* using GWSNR class, with the trained ANN model, you can generate SNR of the astrophysical GW signal parameters"
   ]
  },
  {
   "cell_type": "code",
   "execution_count": 20,
   "metadata": {},
   "outputs": [
    {
     "name": "stdout",
     "output_type": "stream",
     "text": [
      "\n",
      "Initializing GWSNR class...\n",
      "\n",
      "Intel processor has trouble allocating memory when the data is huge. So, by default for IMRPhenomXPHM, duration_max = 64.0. Otherwise, set to some max value like duration_max = 600.0 (10 mins)\n",
      "ANN model and scaler path is given. Using the given path.\n",
      "ANN model for H1 is loaded from ./ann_data/ann_model_H1.h5.\n",
      "ANN scaler for H1 is loaded from ./ann_data/scaler_H1.pkl.\n",
      "ANN error_adjustment for H1 is loaded from ./ann_data/error_adjustment_H1.json.\n",
      "Interpolator will be loaded for H1 detector from ./interpolator_pickle/H1/partialSNR_dict_1.pickle\n",
      "\n",
      "Chosen GWSNR initialization parameters:\n",
      "\n",
      "npool:  8\n",
      "snr type:  ann\n",
      "waveform approximant:  IMRPhenomXPHM\n",
      "sampling frequency:  2048.0\n",
      "minimum frequency (fmin):  20.0\n",
      "mtot=mass1+mass2\n",
      "min(mtot):  9.96\n",
      "max(mtot) (with the given fmin=20.0): 235.0\n",
      "detectors:  ['H1']\n",
      "psds:  [PowerSpectralDensity(psd_file='None', asd_file='/Users/phurailatpamhemantakumar/anaconda3/envs/ler/lib/python3.10/site-packages/bilby/gw/detector/noise_curves/aLIGO_O4_high_asd.txt')]\n",
      "\n",
      "\n"
     ]
    }
   ],
   "source": [
    "import numpy as np\n",
    "import matplotlib.pyplot as plt\n",
    "from gwsnr import GWSNR\n",
    "\n",
    "gwsnr = GWSNR(\n",
    "    snr_type='ann',\n",
    "    npool=8,  # number of processes\n",
    "    waveform_approximant=\"IMRPhenomXPHM\",\n",
    "    psds={'H1': 'aLIGO_O4_high_asd.txt'},\n",
    "    ann_path_dict='./ann_data/ann_path_dict.json',\n",
    ")"
   ]
  },
  {
   "cell_type": "code",
   "execution_count": 21,
   "metadata": {},
   "outputs": [],
   "source": [
    "# predicted snr, using ANN model \n",
    "pred_snr = gwsnr.snr_with_ann(gw_param_dict='./ler_data/IMRPhenomXPHM_O4_high_asd_H1_5.json')['H1']#['optimal_snr_net']"
   ]
  },
  {
   "cell_type": "code",
   "execution_count": 22,
   "metadata": {},
   "outputs": [],
   "source": [
    "from gwsnr.utils import get_param_from_json\n",
    "true_snr = get_param_from_json('./ler_data/IMRPhenomXPHM_O4_high_asd_H1_5.json')['H1']#['optimal_snr_net']"
   ]
  },
  {
   "cell_type": "code",
   "execution_count": 23,
   "metadata": {},
   "outputs": [
    {
     "data": {
      "image/png": "[encoded data removed]",
      "text/plain": [
       "<Figure size 400x400 with 1 Axes>"
      ]
     },
     "metadata": {},
     "output_type": "display_data"
    }
   ],
   "source": [
    "# select only snr between 4 and 12\n",
    "# snr_min = 4\n",
    "# snr_max = 12\n",
    "# mask = (true_snr >= snr_min) & (true_snr <= snr_max)\n",
    "# true_snr = true_snr[mask]\n",
    "# pred_snr = pred_snr[mask]\n",
    "\n",
    "# plot the predicted snr vs true snr\n",
    "plt.figure(figsize=[4,4])\n",
    "plt.scatter(true_snr, pred_snr, s=1)\n",
    "snr_lim = [np.min([true_snr, true_snr]), np.max([true_snr, true_snr])]\n",
    "plt.plot(snr_lim, snr_lim, 'r--')\n",
    "plt.xlabel('True SNR')\n",
    "plt.ylabel('Predicted SNR')\n",
    "# plt.xlim([snr_min, snr_max])\n",
    "# plt.ylim([snr_min, snr_max])\n",
    "plt.show()"
   ]
  },
  {
   "cell_type": "code",
   "execution_count": 24,
   "metadata": {},
   "outputs": [
    {
     "name": "stdout",
     "output_type": "stream",
     "text": [
      "[[19965     2]\n",
      " [    0    33]]\n",
      "0.9999\n"
     ]
    }
   ],
   "source": [
    "# use the following function to predict the pdet\n",
    "pred_pdet = np.array([1 if snr >= 8.0 else 0 for snr in pred_snr])\n",
    "# true pdet\n",
    "true_pdet = np.array([1 if snr >= 8.0 else 0 for snr in true_snr])\n",
    "\n",
    "from sklearn.metrics import confusion_matrix, accuracy_score\n",
    "cm = confusion_matrix(true_pdet, pred_pdet)\n",
    "print(cm)\n",
    "\n",
    "acc = accuracy_score(true_pdet, pred_pdet)\n",
    "print(acc)"
   ]
  },
  {
   "cell_type": "code",
   "execution_count": null,
   "metadata": {},
   "outputs": [],
   "source": []
  }
 ],
 "metadata": {
  "kernelspec": {
   "display_name": "ler",
   "language": "python",
   "name": "ler"
  },
  "language_info": {
   "codemirror_mode": {
    "name": "ipython",
    "version": 3
   },
   "file_extension": ".py",
   "mimetype": "text/x-python",
   "name": "python",
   "nbconvert_exporter": "python",
   "pygments_lexer": "ipython3",
   "version": "3.10.18"
  }
 },
 "nbformat": 4,
 "nbformat_minor": 2
}
