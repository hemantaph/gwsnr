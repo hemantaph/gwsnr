{
 "cells": [
  {
   "cell_type": "code",
   "execution_count": 1,
   "id": "7f1705c5",
   "metadata": {},
   "outputs": [],
   "source": [
    "import numpy as np\n",
    "import matplotlib.pyplot as plt\n",
    "from datetime import datetime\n",
    "from gwsnr import GWSNR\n",
    "from ler.utils import save_json, load_json"
   ]
  },
  {
   "cell_type": "code",
   "execution_count": 2,
   "id": "9b11ceef",
   "metadata": {},
   "outputs": [],
   "source": [
    "# from ler.gw_source_population import CBCSourceParameterDistribution\n",
    "\n",
    "# ler = CBCSourceParameterDistribution()\n",
    "\n",
    "# param_dict = ler.sample_gw_parameters(1000000)"
   ]
  },
  {
   "cell_type": "code",
   "execution_count": 3,
   "id": "9a6568b1",
   "metadata": {},
   "outputs": [],
   "source": [
    "# save_json('param_dict_bbh_1e6.json', param_dict)\n",
    "param_dict_1e6 = load_json('param_dict_bbh_1e6.json')\n",
    "# convert to np.array\n",
    "param_dict_1e6 = {key: np.array(value) for key, value in param_dict_1e6.items()}"
   ]
  },
  {
   "cell_type": "markdown",
   "id": "0a0c019e",
   "metadata": {},
   "source": [
    "## Interpolation\n",
    "\n",
    "### Numba - CPU"
   ]
  },
  {
   "cell_type": "code",
   "execution_count": 4,
   "id": "2323c798",
   "metadata": {},
   "outputs": [
    {
     "name": "stdout",
     "output_type": "stream",
     "text": [
      "\n",
      "Initializing GWSNR class...\n",
      "\n",
      "psds not given. Choosing bilby's default psds\n",
      "Interpolator will be loaded for L1 detector from ./interpolator_pickle/L1/partialSNR_dict_8.pickle\n",
      "Interpolator will be loaded for H1 detector from ./interpolator_pickle/H1/partialSNR_dict_8.pickle\n",
      "Interpolator will be loaded for V1 detector from ./interpolator_pickle/V1/partialSNR_dict_8.pickle\n",
      "\n",
      "\n"
     ]
    }
   ],
   "source": [
    "# initializing the GWSNR class with default configuration and interpolation method\n",
    "# for aligned-spinning IMRPhenomD waveform \n",
    "gwsnr = GWSNR(\n",
    "    snr_type='interpolation_aligned_spins',\n",
    "    gwsnr_verbose=False,\n",
    "    mtot_cut=True,\n",
    ")"
   ]
  },
  {
   "cell_type": "code",
   "execution_count": 24,
   "id": "74ba72ed",
   "metadata": {},
   "outputs": [],
   "source": [
    "# gerneral case, random parameters\n",
    "# add random seed for reproducibility\n",
    "np.random.seed(42)\n",
    "nsamples = np.linspace(1000, 1000000, 10)\n",
    "def run_time_cal(nsamples):\n",
    "    \n",
    "    time_list = []\n",
    "    for n in nsamples:\n",
    "        # select n samples for each values in the dict\n",
    "        idx = np.random.choice(len(param_dict_1e6['mass_1']), size=int(n), replace=False)\n",
    "        param_dict = {key: value[idx] for key, value in param_dict_1e6.items()}\n",
    "\n",
    "        # measure the time taken for SNR calculation\n",
    "        time_ = []\n",
    "        for _ in range(11):  # repeat 6 times to get an average\n",
    "            start_time = datetime.now()\n",
    "            snr = gwsnr.snr_with_interpolation(gw_param_dict=param_dict)\n",
    "            end_time = datetime.now()\n",
    "            time_.append((end_time - start_time).total_seconds() * 1000)  # convert to milliseconds\n",
    "\n",
    "        time_list.append(np.mean(time_[1:]))  # average time over 10 runs\n",
    "\n",
    "    return nsamples, np.array(time_list)"
   ]
  },
  {
   "cell_type": "code",
   "execution_count": 3,
   "id": "da03db4b",
   "metadata": {},
   "outputs": [],
   "source": [
    "# _, run_time_numba_cpu = run_time_cal(nsamples)\n",
    "# # save\n",
    "# np.save('run_time_numba_cpu.npy', run_time_numba_cpu)\n",
    "# load\n",
    "run_time_numba_cpu = np.load('run_time_numba_cpu.npy')"
   ]
  },
  {
   "cell_type": "code",
   "execution_count": 13,
   "id": "eac2111d",
   "metadata": {},
   "outputs": [
    {
     "data": {
      "text/plain": [
       "array([   4.356 ,  195.8752,  329.1386,  482.7428,  620.5922,\n",
       "        788.4502,  938.587 , 1099.5354, 1227.898 , 1362.8958])"
      ]
     },
     "execution_count": 13,
     "metadata": {},
     "output_type": "execute_result"
    }
   ],
   "source": [
    "run_time_numba_cpu"
   ]
  },
  {
   "cell_type": "markdown",
   "id": "79ef17de",
   "metadata": {},
   "source": [
    "### JAX - CPU"
   ]
  },
  {
   "cell_type": "code",
   "execution_count": 9,
   "id": "ebbd63de",
   "metadata": {},
   "outputs": [
    {
     "name": "stdout",
     "output_type": "stream",
     "text": [
      "\n",
      "Initializing GWSNR class...\n",
      "\n",
      "psds not given. Choosing bilby's default psds\n",
      "Interpolator will be loaded for L1 detector from ./interpolator_pickle/L1/partialSNR_dict_8.pickle\n",
      "Interpolator will be loaded for H1 detector from ./interpolator_pickle/H1/partialSNR_dict_8.pickle\n",
      "Interpolator will be loaded for V1 detector from ./interpolator_pickle/V1/partialSNR_dict_8.pickle\n",
      "\n",
      "\n"
     ]
    }
   ],
   "source": [
    "gwsnr = GWSNR(\n",
    "    snr_type='interpolation_aligned_spins_jax',\n",
    "    gwsnr_verbose=False,\n",
    "    mtot_cut=True,\n",
    ")"
   ]
  },
  {
   "cell_type": "code",
   "execution_count": 4,
   "id": "ac25cec0",
   "metadata": {},
   "outputs": [],
   "source": [
    "# _, run_time_jax_cpu = run_time_cal(nsamples)\n",
    "# # save\n",
    "# np.save('run_time_jax_cpu.npy', run_time_jax_cpu)\n",
    "# load\n",
    "run_time_jax_cpu = np.load('run_time_jax_cpu.npy')"
   ]
  },
  {
   "cell_type": "code",
   "execution_count": 11,
   "id": "b9ba7069",
   "metadata": {},
   "outputs": [
    {
     "data": {
      "text/plain": [
       "array([   5.4564,  197.3658,  376.4862,  557.4246,  733.148 ,\n",
       "        909.5018, 1085.3078, 1255.8524, 1405.818 , 1589.8646])"
      ]
     },
     "execution_count": 11,
     "metadata": {},
     "output_type": "execute_result"
    }
   ],
   "source": [
    "run_time_jax_cpu"
   ]
  },
  {
   "cell_type": "markdown",
   "id": "126df5f8",
   "metadata": {},
   "source": [
    "### MLX - GPU"
   ]
  },
  {
   "cell_type": "code",
   "execution_count": 18,
   "id": "90447726",
   "metadata": {},
   "outputs": [
    {
     "name": "stdout",
     "output_type": "stream",
     "text": [
      "\n",
      "Initializing GWSNR class...\n",
      "\n",
      "psds not given. Choosing bilby's default psds\n",
      "Interpolator will be loaded for L1 detector from ./interpolator_pickle/L1/partialSNR_dict_8.pickle\n",
      "Interpolator will be loaded for H1 detector from ./interpolator_pickle/H1/partialSNR_dict_8.pickle\n",
      "Interpolator will be loaded for V1 detector from ./interpolator_pickle/V1/partialSNR_dict_8.pickle\n",
      "\n",
      "\n"
     ]
    }
   ],
   "source": [
    "gwsnr = GWSNR(\n",
    "    snr_type='interpolation_aligned_spins_mlx',\n",
    "    gwsnr_verbose=False,\n",
    "    mtot_cut=True,\n",
    ")"
   ]
  },
  {
   "cell_type": "code",
   "execution_count": 5,
   "id": "6f826f33",
   "metadata": {},
   "outputs": [],
   "source": [
    "# _, run_time_mlx_gpu = run_time_cal(nsamples)\n",
    "# # save\n",
    "# np.save('run_time_mlx_gpu.npy', run_time_mlx_gpu)\n",
    "# load\n",
    "run_time_mlx_gpu = np.load('run_time_mlx_gpu.npy')"
   ]
  },
  {
   "cell_type": "code",
   "execution_count": 20,
   "id": "6dc6ec55",
   "metadata": {},
   "outputs": [
    {
     "data": {
      "text/plain": [
       "array([   6.346 ,  103.3834,  198.0804,  286.3992,  390.5948,\n",
       "        503.4248,  619.2182,  704.8304, 1411.7104,  983.2656])"
      ]
     },
     "execution_count": 20,
     "metadata": {},
     "output_type": "execute_result"
    }
   ],
   "source": [
    "run_time_mlx_gpu"
   ]
  },
  {
   "cell_type": "markdown",
   "id": "2b6a0ef2",
   "metadata": {},
   "source": [
    "### JAX - GPU"
   ]
  },
  {
   "cell_type": "code",
   "execution_count": 6,
   "id": "020ff7a4",
   "metadata": {},
   "outputs": [],
   "source": [
    "# tested with Nvidia 3080 GPU\n",
    "run_time_jax_gpu = np.array([11.159,  26.794,  34.861,  43.266, 100.089, 108.236, 125.064, 131.672, 139.722, 145.458])\n",
    "# np.save('run_time_jax_gpu.npy', run_time_jax_gpu)"
   ]
  },
  {
   "cell_type": "markdown",
   "id": "e0de095d",
   "metadata": {},
   "source": [
    "### Plot comparison"
   ]
  },
  {
   "cell_type": "code",
   "execution_count": 19,
   "id": "064ff27f",
   "metadata": {},
   "outputs": [
    {
     "data": {
      "image/png": "[encoded data removed]",
      "text/plain": [
       "<Figure size 400x400 with 1 Axes>"
      ]
     },
     "metadata": {},
     "output_type": "display_data"
    }
   ],
   "source": [
    "# plotting the run time\n",
    "plt.figure(figsize=(4, 4))\n",
    "plt.rcParams.update({\n",
    "    \"text.usetex\": True,\n",
    "    \"font.family\": \"serif\",\n",
    "    \"font.serif\": [\"Computer Modern Roman\"],\n",
    "})\n",
    "np.random.seed(42)\n",
    "nsamples = np.linspace(1000, 1000000, 10)\n",
    "plt.plot(nsamples, run_time_numba_cpu, marker='o', linestyle='-', color='C0', label='numba-CPU')\n",
    "plt.plot(nsamples, run_time_jax_cpu, marker='o', linestyle='-', color='C1', label='jax-CPU')\n",
    "plt.plot(nsamples, run_time_mlx_gpu, marker='o', linestyle='-', color='C2', label='mlx-GPU')\n",
    "plt.plot(nsamples, run_time_jax_gpu, marker='o', linestyle='-', color='C3', label='jax-GPU')\n",
    "plt.xlim(1e3, 1e6)\n",
    "plt.xlabel('Number of samples')\n",
    "plt.ylabel('Run time (ms)')\n",
    "# plt.xscale('log')\n",
    "# plt.yscale('log')\n",
    "# legend\n",
    "legend = plt.legend(handlelength=1.5, loc='upper left', bbox_to_anchor=(0.0, 1.0), frameon=True, fontsize=12, edgecolor='lightgray')\n",
    "legend.get_frame().set_boxstyle('Round', pad=0.0, rounding_size=0.2)\n",
    "\n",
    "# Modify line width for legend entries\n",
    "for handle in legend.get_lines():\n",
    "    handle.set_linewidth(2)\n",
    "    handle.set_alpha(0.8)   \n",
    "\n",
    "plt.grid(alpha=0.4)\n",
    "plt.tight_layout()\n",
    "plt.savefig('../_static/interpolation_speed_test.png', dpi=300, bbox_inches='tight')\n",
    "plt.show()"
   ]
  },
  {
   "cell_type": "markdown",
   "id": "672ab42e",
   "metadata": {},
   "source": [
    "## Table\n",
    "\n",
    "<!-- ### Hardware Specifications\n",
    "\n",
    "#### System 1: Apple Silicon (Primary Testing Environment)\n",
    "**MacBook Pro (Model: MPHH3ZP/A)**\n",
    "- **Processor**: Apple M2 Pro (10-core: 6 performance + 4 efficiency cores)\n",
    "- **GPU**: Apple M2 Pro (16-core GPU with Metal support)\n",
    "- **Memory**: 16 GB unified memory\n",
    "- **Architecture**: ARM64 (Apple Silicon)\n",
    "\n",
    "#### System 2: x86_64 with NVIDIA GPU (Performance Comparison)\n",
    "**AMD EPYC Workstation**\n",
    "- **Processor**: AMD EPYC 7502P (32-core, 64 threads)\n",
    "- **GPU**: NVIDIA GeForce RTX 3080 (GA102 architecture)\n",
    "- **Memory**: System RAM (specifications not detailed)\n",
    "- **Architecture**: x86_64\n",
    "- **Cache Hierarchy**: L1d/L1i: 32KB, L2: 512KB, L3: 16MB -->\n",
    "\n",
    "### Interpolation Performance\n",
    "\n",
    "| Hardware Acceleration Type | Machine | Time \\[ms\\]<br>(BBH/BNS) | Vs. Inner-Product (bilby)<br>(BBH, BNS) |\n",
    "|:--|:--|:--:|:--:|\n",
    "| Interpolation (mlx-gpu, multi-threaded) | Apple Silicon M2 pro, GPU | 94 | x864, x104653 |\n",
    "| Interpolation (jax-gpu, multi-threaded) | NVIDIA GeForce RTX 3080, CIT | 117 | x694, x84081 |\n",
    "| Interpolation (jax-cpu, multi-threaded) | Apple Silicon M2 pro | 187 | x434, x52606 |\n",
    "| Interpolation (numba-cpu, multi-threaded) | Apple Silicon M2 pro | 193 | x420, x50971 |\n",
    "\n",
    "### Inner-Product Performance\n",
    "\n",
    "| Hardware Acceleration Type | Machine | Time \\[s\\]<br>(BBH, BNS) | Vs. Inner-Product (bilby)<br>(BBH, BNS) |\n",
    "|:--|:--|:--|:--|\n",
    "| Inner-Product (gwsnr, multi-core) | Apple Silicon M2 pro, 4CPU | 38.654, 111.474 | x2.1, x88.2 |\n",
    "| Inner-Product (bilby, single-core) | Apple Silicon M2 pro, 1CPU | 81.229, 9837.443 | x1, x1 |"
   ]
  },
  {
   "cell_type": "code",
   "execution_count": 34,
   "id": "9559c4db",
   "metadata": {},
   "outputs": [
    {
     "data": {
      "text/plain": [
       "1185.8936170212767"
      ]
     },
     "execution_count": 34,
     "metadata": {},
     "output_type": "execute_result"
    }
   ],
   "source": [
    "111.474*1000/94"
   ]
  },
  {
   "cell_type": "code",
   "execution_count": 33,
   "id": "bb427910",
   "metadata": {},
   "outputs": [
    {
     "data": {
      "text/plain": [
       "2.7326230555555555"
      ]
     },
     "execution_count": 33,
     "metadata": {},
     "output_type": "execute_result"
    }
   ],
   "source": [
    "9837.443/60/60"
   ]
  },
  {
   "cell_type": "code",
   "execution_count": null,
   "id": "df4c1fd8",
   "metadata": {},
   "outputs": [],
   "source": []
  }
 ],
 "metadata": {
  "kernelspec": {
   "display_name": "ler",
   "language": "python",
   "name": "ler"
  },
  "language_info": {
   "codemirror_mode": {
    "name": "ipython",
    "version": 3
   },
   "file_extension": ".py",
   "mimetype": "text/x-python",
   "name": "python",
   "nbconvert_exporter": "python",
   "pygments_lexer": "ipython3",
   "version": "3.10.18"
  }
 },
 "nbformat": 4,
 "nbformat_minor": 5
}
