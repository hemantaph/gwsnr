{
 "cells": [
  {
   "cell_type": "code",
   "execution_count": 3,
   "id": "e8aa1c38",
   "metadata": {},
   "outputs": [],
   "source": [
    "import numpy as np\n",
    "np.random.seed(42)  # for reproducibility\n",
    "import matplotlib.pyplot as plt\n",
    "from datetime import datetime\n",
    "\n",
    "import bilby\n",
    "from bilby.gw.utils import noise_weighted_inner_product\n",
    "# dont print bilby output\n",
    "bilby.core.utils.logger.setLevel(\"ERROR\")\n",
    "\n",
    "from gwsnr.utils import get_gw_parameters"
   ]
  },
  {
   "cell_type": "code",
   "execution_count": 4,
   "id": "dbec24d0",
   "metadata": {},
   "outputs": [],
   "source": [
    "Gamma = 0.5772156649015329\n",
    "Pi = np.pi\n",
    "MTSUN_SI = 4.925491025543576e-06\n",
    "\n",
    "def calculate_time_to_merger(m1, m2, fmin):\n",
    "    \"\"\"\n",
    "    Time taken from f_min to f_lso (last stable orbit). 3.5PN in fourier phase considered.\n",
    "\n",
    "    Parameters\n",
    "    ----------\n",
    "    m1 : `float`\n",
    "        Mass of the first body in solar masses.\n",
    "    m2 : `float`\n",
    "        Mass of the second body in solar masses.\n",
    "    fmin : `float`\n",
    "        Lower frequency cutoff.\n",
    "\n",
    "    Returns\n",
    "    -------\n",
    "    chirp_time : float\n",
    "        Time taken from f_min to f_lso (last stable orbit frequency).\n",
    "    \"\"\"\n",
    "\n",
    "    # variables used to compute chirp time\n",
    "    m = m1 + m2\n",
    "    eta = m1 * m2 / m / m\n",
    "    c0T = c2T = c3T = c4T = c5T = c6T = c6LogT = c7T = 0.0\n",
    "\n",
    "    c7T = Pi * (\n",
    "        14809.0 * eta * eta / 378.0 - 75703.0 * eta / 756.0 - 15419335.0 / 127008.0\n",
    "    )\n",
    "\n",
    "    c6T = (\n",
    "        Gamma * 6848.0 / 105.0\n",
    "        - 10052469856691.0 / 23471078400.0\n",
    "        + Pi * Pi * 128.0 / 3.0\n",
    "        + eta * (3147553127.0 / 3048192.0 - Pi * Pi * 451.0 / 12.0)\n",
    "        - eta * eta * 15211.0 / 1728.0\n",
    "        + eta * eta * eta * 25565.0 / 1296.0\n",
    "        + eta * eta * eta * 25565.0 / 1296.0\n",
    "        + np.log(4.0) * 6848.0 / 105.0\n",
    "    )\n",
    "    c6LogT = 6848.0 / 105.0\n",
    "\n",
    "    c5T = 13.0 * Pi * eta / 3.0 - 7729.0 * Pi / 252.0\n",
    "\n",
    "    c4T = 3058673.0 / 508032.0 + eta * (5429.0 / 504.0 + eta * 617.0 / 72.0)\n",
    "    c3T = -32.0 * Pi / 5.0\n",
    "    c2T = 743.0 / 252.0 + eta * 11.0 / 3.0\n",
    "    c0T = 5.0 * m * MTSUN_SI / (256.0 * eta)\n",
    "\n",
    "    # This is the PN parameter v evaluated at the lower freq. cutoff\n",
    "    xT = np.power(Pi * m * MTSUN_SI * fmin, 1.0 / 3.0)\n",
    "    x2T = xT * xT\n",
    "    x3T = xT * x2T\n",
    "    x4T = x2T * x2T\n",
    "    x5T = x2T * x3T\n",
    "    x6T = x3T * x3T\n",
    "    x7T = x3T * x4T\n",
    "    x8T = x4T * x4T\n",
    "\n",
    "    # Computes the chirp time as tC = t(v_low)\n",
    "    # tC = t(v_low) - t(v_upper) would be more\n",
    "    # correct, but the difference is negligble.\n",
    "    return (\n",
    "        c0T\n",
    "        * (\n",
    "            1\n",
    "            + c2T * x2T\n",
    "            + c3T * x3T\n",
    "            + c4T * x4T\n",
    "            + c5T * x5T\n",
    "            + (c6T + c6LogT * np.log(xT)) * x6T\n",
    "            + c7T * x7T\n",
    "        )\n",
    "        / x8T\n",
    "    )"
   ]
  },
  {
   "cell_type": "markdown",
   "id": "729e87cb",
   "metadata": {},
   "source": [
    "## Data generation with ler"
   ]
  },
  {
   "cell_type": "code",
   "execution_count": 5,
   "id": "ee4ed4b8",
   "metadata": {},
   "outputs": [],
   "source": [
    "# from ler.gw_source_population import CBCSourceParameterDistribution\n",
    "\n",
    "# ler = CBCSourceParameterDistribution()\n",
    "\n",
    "# param_dict = ler.sample_gw_parameters(100000)"
   ]
  },
  {
   "cell_type": "code",
   "execution_count": 4,
   "id": "535621d3",
   "metadata": {},
   "outputs": [],
   "source": [
    "from ler.utils import save_json, load_json\n",
    "\n",
    "# save_json('param_dict_bbh.json', param_dict)\n",
    "param_dict = load_json('param_dict_bbh.json')\n",
    "# convert to np.array\n",
    "param_dict = {key: np.array(value) for key, value in param_dict.items()}"
   ]
  },
  {
   "cell_type": "code",
   "execution_count": 5,
   "id": "09563dbd",
   "metadata": {},
   "outputs": [
    {
     "data": {
      "text/plain": [
       "(13.236215821976153, 1284.4836512781233)"
      ]
     },
     "execution_count": 5,
     "metadata": {},
     "output_type": "execute_result"
    }
   ],
   "source": [
    "np.min(param_dict['mass_1']+param_dict['mass_2']), np.max(param_dict['mass_1']+param_dict['mass_2'])"
   ]
  },
  {
   "cell_type": "markdown",
   "id": "4c2ebaf8",
   "metadata": {},
   "source": [
    "## set-up bilby snr calculator"
   ]
  },
  {
   "cell_type": "code",
   "execution_count": 9,
   "id": "55898e7d",
   "metadata": {},
   "outputs": [],
   "source": [
    "# Waveform arguments for waveform generation\n",
    "output_jsonfile = 'inner_product_bilby.json'\n",
    "waveform_approximant = 'IMRphenomD'\n",
    "minimum_frequency = 20.0\n",
    "sampling_frequency = 2048.0\n",
    "\n",
    "waveform_arguments = dict(\n",
    "    waveform_approximant=waveform_approximant,\n",
    "    reference_frequency=20.0,\n",
    "    minimum_frequency=minimum_frequency,\n",
    ")\n",
    "\n",
    "# psd objects\n",
    "psds = dict()\n",
    "psds[\"L1\"] = \"aLIGO_O4_high_asd.txt\"\n",
    "psds[\"H1\"] = \"aLIGO_O4_high_asd.txt\"\n",
    "psds[\"V1\"] = \"AdV_asd.txt\"\n",
    "list_of_detectors = ['L1', 'H1', 'V1']\n",
    "ifos = bilby.gw.detector.InterferometerList(list_of_detectors)\n",
    "psds_objects = []\n",
    "for i, det in enumerate(list_of_detectors):\n",
    "    psds_objects.append(\n",
    "            bilby.gw.detector.PowerSpectralDensity(asd_file=psds[det])\n",
    "        )\n",
    "\n",
    "def bilby_inner_product(mass_1=10,\n",
    "        mass_2=10,\n",
    "        luminosity_distance=100.0,\n",
    "        theta_jn=0.0,\n",
    "        psi=0.0,\n",
    "        phase=0.0,\n",
    "        geocent_time=1246527224.169434,\n",
    "        ra=0.0,\n",
    "        dec=0.0,\n",
    "        a_1=0.0,\n",
    "        a_2=0.0,\n",
    "        tilt_1=0.0,\n",
    "        tilt_2=0.0,\n",
    "        phi_12=0.0,\n",
    "        phi_jl=0.0,\n",
    "        lambda_1=0.0,\n",
    "        lambda_2=0.0,\n",
    "        eccentricity=0.0,\n",
    "        gw_param_dict=False,\n",
    "        mtot_min=9.96, \n",
    "        mtot_max=235.0,\n",
    "        mtot_cut=True,\n",
    "        fixed_duration=None,\n",
    "        duration_min=None,\n",
    "        duration_max=None,\n",
    "    ):\n",
    "\n",
    "    # if gw_param_dict is given, then use that\n",
    "    if gw_param_dict is not False:\n",
    "        mass_1, mass_2, luminosity_distance, theta_jn, psi, phase, geocent_time, ra, dec, a_1, a_2, tilt_1, tilt_2, phi_12, phi_jl, lambda_1, lambda_2, eccentricity  = get_gw_parameters(gw_param_dict)\n",
    "    else:\n",
    "        mass_1, mass_2, luminosity_distance, theta_jn, psi, phase, geocent_time, ra, dec, a_1, a_2, tilt_1, tilt_2, phi_12, phi_jl, lambda_1, lambda_2, eccentricity = get_gw_parameters(dict(mass_1=mass_1, mass_2=mass_2, luminosity_distance=luminosity_distance, theta_jn=theta_jn, psi=psi, phase=phase, geocent_time=geocent_time, ra=ra, dec=dec, a_1=a_1, a_2=a_2, tilt_1=tilt_1, tilt_2=tilt_2, phi_12=phi_12, phi_jl=phi_jl, lambda_1=lambda_1, lambda_2=lambda_2, eccentricity=eccentricity))\n",
    "\n",
    "    if mtot_cut:\n",
    "        mtot = mass_1 + mass_2\n",
    "        n = np.where((mtot >= mtot_min) & (mtot <= mtot_max))[0]\n",
    "    else:\n",
    "        n = np.arange(len(mass_1))\n",
    "\n",
    "    opt_snr_all = np.zeros((len(list_of_detectors), len(mass_1)))\n",
    "    opt_snr_effective = np.zeros(len(mass_1))\n",
    "\n",
    "    for idx in n:\n",
    "\n",
    "        # IMPORTANT: time duration calculation for each of the mass combination\n",
    "        if fixed_duration:\n",
    "            duration = fixed_duration\n",
    "        else:\n",
    "            safety = 1.1\n",
    "            approx_duration = safety * calculate_time_to_merger(mass_1[idx], mass_2[idx], minimum_frequency)\n",
    "            duration = np.ceil(approx_duration + 2.0)\n",
    "\n",
    "            if duration_max and (duration > duration_max):\n",
    "                duration = duration_max  # IMRPheonomXPHM has maximum duration of 371s\n",
    "            if duration_min and (duration < duration_min):\n",
    "                duration = duration_min\n",
    "\n",
    "        waveform_generator = bilby.gw.WaveformGenerator(\n",
    "            duration=duration,\n",
    "            sampling_frequency=sampling_frequency,\n",
    "            frequency_domain_source_model=bilby.gw.source.lal_binary_black_hole,\n",
    "            waveform_arguments=waveform_arguments,\n",
    "        )\n",
    "\n",
    "        injection_parameters = dict(\n",
    "            mass_1=mass_1[idx],\n",
    "            mass_2=mass_2[idx],\n",
    "            luminosity_distance=luminosity_distance[idx],\n",
    "            geocent_time=geocent_time[idx],\n",
    "            theta_jn=theta_jn[idx],\n",
    "            ra=ra[idx],\n",
    "            dec=dec[idx],\n",
    "            psi=psi[idx],\n",
    "            phase=phase[idx],\n",
    "            a_1=a_1[idx],\n",
    "            a_2=a_2[idx],\n",
    "            tilt_1=tilt_1[idx],\n",
    "            tilt_2=tilt_2[idx],\n",
    "            phi_12=phi_12[idx],\n",
    "            phi_jl=phi_jl[idx],\n",
    "        )\n",
    "\n",
    "        polas = waveform_generator.frequency_domain_strain(parameters=injection_parameters)\n",
    "\n",
    "        opt_snr_dets = []\n",
    "        snr_effective = 0.\n",
    "        for j, det in enumerate(list_of_detectors):\n",
    "\n",
    "            # need to compute the inner product for\n",
    "            p_array = psds_objects[j].get_power_spectral_density_array(waveform_generator.frequency_array)\n",
    "\n",
    "            idx2 = (p_array != 0.0) & (p_array != np.inf)\n",
    "            hp_inner_hp = noise_weighted_inner_product(\n",
    "                polas[\"plus\"][idx2],\n",
    "                polas[\"plus\"][idx2],\n",
    "                p_array[idx2],\n",
    "                waveform_generator.duration,\n",
    "            )\n",
    "            hc_inner_hc = noise_weighted_inner_product(\n",
    "                polas[\"cross\"][idx2],\n",
    "                polas[\"cross\"][idx2],\n",
    "                p_array[idx2],\n",
    "                waveform_generator.duration,\n",
    "            )\n",
    "\n",
    "            Fp = ifos[j].antenna_response(\n",
    "                ra=ra[idx],\n",
    "                dec=dec[idx],\n",
    "                time=geocent_time[idx],\n",
    "                psi=psi[idx],\n",
    "                mode='plus'\n",
    "            )\n",
    "            Fc = ifos[j].antenna_response(\n",
    "                ra=ra[idx],\n",
    "                dec=dec[idx],\n",
    "                time=geocent_time[idx],\n",
    "                psi=psi[idx],\n",
    "                mode='cross'\n",
    "            )\n",
    "            print(f\"Detector: {det}\")\n",
    "            print(f\"hp_inner_hp: {hp_inner_hp}\")\n",
    "            print(f\"hc_inner_hc: {hc_inner_hc}\")\n",
    "            print(f\"Fp: {Fp}\")\n",
    "            print(f\"Fc: {Fc}\")\n",
    "\n",
    "            snrs_sq = abs((Fp**2) * hp_inner_hp + (Fc**2) * hc_inner_hc)\n",
    "            snr_effective += snrs_sq\n",
    "\n",
    "            opt_snr_dets.append(np.sqrt(snrs_sq))\n",
    "\n",
    "        opt_snr_all[:,idx] = opt_snr_dets\n",
    "        opt_snr_effective[idx] = np.sqrt(snr_effective)\n",
    "\n",
    "    # organizing the snr dictionary\n",
    "    optimal_snr = dict()\n",
    "    for j, det in enumerate(list_of_detectors):\n",
    "        optimal_snr[det] = opt_snr_all[j]\n",
    "\n",
    "    optimal_snr[\"optimal_snr_net\"] = opt_snr_effective\n",
    "    return optimal_snr"
   ]
  },
  {
   "cell_type": "code",
   "execution_count": null,
   "id": "8f6bec34",
   "metadata": {},
   "outputs": [],
   "source": [
    "bilby_inner_product(1,1,40, mtot_min=2)"
   ]
  },
  {
   "cell_type": "code",
   "execution_count": null,
   "id": "859fe3fc",
   "metadata": {},
   "outputs": [],
   "source": [
    "# measure the time taken for SNR calculation\n",
    "start_time = datetime.now()\n",
    "snr = bilby_inner_product(gw_param_dict=param_dict)\n",
    "end_time = datetime.now()\n",
    "execution_time_bilby = (end_time - start_time).total_seconds() * 1000  # convert to milliseconds\n",
    "execution_time_bilby"
   ]
  },
  {
   "cell_type": "code",
   "execution_count": null,
   "id": "003375cc",
   "metadata": {},
   "outputs": [],
   "source": []
  },
  {
   "cell_type": "code",
   "execution_count": 1,
   "id": "1dbd16e0",
   "metadata": {},
   "outputs": [
    {
     "name": "stdout",
     "output_type": "stream",
     "text": [
      "\n",
      "Initializing GWSNR class...\n",
      "\n",
      "psds not given. Choosing bilby's default psds\n",
      "\n",
      "\n"
     ]
    }
   ],
   "source": [
    "import numpy as np\n",
    "import matplotlib.pyplot as plt\n",
    "from datetime import datetime\n",
    "from gwsnr import GWSNR\n",
    "\n",
    "gwsnr = GWSNR(npool=4, snr_type='inner_product', gwsnr_verbose=False, multiprocessing_verbose=False, mtot_cut=True)"
   ]
  },
  {
   "cell_type": "code",
   "execution_count": 10,
   "id": "b27ae937",
   "metadata": {},
   "outputs": [
    {
     "name": "stdout",
     "output_type": "stream",
     "text": [
      "Detector: L1\n",
      "hp_inner_hp: (5112.061451796086+0j)\n",
      "hc_inner_hc: (5112.061451796086+0j)\n",
      "Fp: 0.7391039324961559\n",
      "Fc: -0.3263982271180008\n",
      "Detector: H1\n",
      "hp_inner_hp: (5112.061451796086+0j)\n",
      "hc_inner_hc: (5112.061451796086+0j)\n",
      "Fp: -0.42251192643910535\n",
      "Fc: 0.2924673998038122\n",
      "Detector: V1\n",
      "hp_inner_hp: (3053.890391466239+0j)\n",
      "hc_inner_hc: (3053.890391466239+0j)\n",
      "Fp: -0.1213381362683638\n",
      "Fc: 0.2944513812095745\n"
     ]
    },
    {
     "data": {
      "text/plain": [
       "{'L1': array([57.76856422]),\n",
       " 'H1': array([36.74041044]),\n",
       " 'V1': array([17.59941723]),\n",
       " 'optimal_snr_net': array([70.6880772])}"
      ]
     },
     "execution_count": 10,
     "metadata": {},
     "output_type": "execute_result"
    }
   ],
   "source": [
    "bilby_inner_product(30,29,500)"
   ]
  },
  {
   "cell_type": "code",
   "execution_count": null,
   "id": "d4cfa44c",
   "metadata": {},
   "outputs": [],
   "source": []
  },
  {
   "cell_type": "code",
   "execution_count": 2,
   "id": "0bc09af3",
   "metadata": {},
   "outputs": [
    {
     "data": {
      "text/plain": [
       "{'L1': array([57.76856371]),\n",
       " 'H1': array([36.74040947]),\n",
       " 'V1': array([17.59941695]),\n",
       " 'optimal_snr_net': array([70.68807621])}"
      ]
     },
     "execution_count": 2,
     "metadata": {},
     "output_type": "execute_result"
    }
   ],
   "source": [
    "gwsnr.compute_bilby_snr(mass_1=30.0, mass_2=29.0, luminosity_distance=500.0)"
   ]
  },
  {
   "cell_type": "code",
   "execution_count": 3,
   "id": "5b075101",
   "metadata": {},
   "outputs": [],
   "source": [
    "from gwsnr.numba.njit_functions import gps_to_gmst"
   ]
  },
  {
   "cell_type": "code",
   "execution_count": 4,
   "id": "925e792a",
   "metadata": {},
   "outputs": [
    {
     "data": {
      "text/plain": [
       "44907.11975954579"
      ]
     },
     "execution_count": 4,
     "metadata": {},
     "output_type": "execute_result"
    }
   ],
   "source": [
    "gps_to_gmst(1246527224.169434)"
   ]
  },
  {
   "cell_type": "code",
   "execution_count": 13,
   "id": "f39d22e9",
   "metadata": {},
   "outputs": [
    {
     "data": {
      "text/plain": [
       "(-1, 2)"
      ]
     },
     "execution_count": 13,
     "metadata": {},
     "output_type": "execute_result"
    }
   ],
   "source": [
    "np.searchsorted(np.array([1.,2.,3.]),0.1)-1, len(np.array([1.,2.,3.]))-1"
   ]
  },
  {
   "cell_type": "code",
   "execution_count": null,
   "id": "394b4c24",
   "metadata": {},
   "outputs": [],
   "source": []
  },
  {
   "cell_type": "code",
   "execution_count": null,
   "id": "a8222305",
   "metadata": {},
   "outputs": [],
   "source": []
  },
  {
   "cell_type": "code",
   "execution_count": null,
   "id": "0510dd51",
   "metadata": {},
   "outputs": [],
   "source": [
    "gwsnr.mtot_min, gwsnr.mtot_max"
   ]
  },
  {
   "cell_type": "code",
   "execution_count": 3,
   "id": "59e9fdff",
   "metadata": {},
   "outputs": [],
   "source": [
    "from ler.utils import load_json\n",
    "\n",
    "param_dict = load_json('param_dict_bbh.json')\n",
    "# convert to np.array\n",
    "param_dict = {key: np.array(value) for key, value in param_dict.items()}"
   ]
  },
  {
   "cell_type": "code",
   "execution_count": 4,
   "id": "cce8cf90",
   "metadata": {},
   "outputs": [
    {
     "data": {
      "text/plain": [
       "14864.995"
      ]
     },
     "execution_count": 4,
     "metadata": {},
     "output_type": "execute_result"
    }
   ],
   "source": [
    "start_time = datetime.now()\n",
    "snr = gwsnr.compute_bilby_snr(gw_param_dict=param_dict)\n",
    "end_time = datetime.now()\n",
    "execution_time_gwsnr = (end_time - start_time).total_seconds() * 1000  # convert to milliseconds\n",
    "execution_time_gwsnr"
   ]
  },
  {
   "cell_type": "code",
   "execution_count": 5,
   "id": "17972efa",
   "metadata": {},
   "outputs": [
    {
     "data": {
      "text/plain": [
       "16651.651"
      ]
     },
     "execution_count": 5,
     "metadata": {},
     "output_type": "execute_result"
    }
   ],
   "source": [
    "start_time = datetime.now()\n",
    "snr = gwsnr.compute_bilby_snr(gw_param_dict=param_dict)\n",
    "end_time = datetime.now()\n",
    "execution_time_gwsnr = (end_time - start_time).total_seconds() * 1000  # convert to milliseconds\n",
    "execution_time_gwsnr"
   ]
  },
  {
   "cell_type": "code",
   "execution_count": null,
   "id": "e639bd6c",
   "metadata": {},
   "outputs": [],
   "source": []
  },
  {
   "cell_type": "code",
   "execution_count": null,
   "id": "d5e36fd7",
   "metadata": {},
   "outputs": [],
   "source": []
  },
  {
   "cell_type": "markdown",
   "id": "73eda7a9",
   "metadata": {},
   "source": [
    "* 2-cores: 53.560 s\n",
    "* 4-cores: 35.772 s"
   ]
  },
  {
   "cell_type": "code",
   "execution_count": 5,
   "id": "99833665",
   "metadata": {},
   "outputs": [
    {
     "data": {
      "text/plain": [
       "array([  3.95574105, 700.75531915, 563.        , 352.2513369 ,\n",
       "       341.30051813])"
      ]
     },
     "execution_count": 5,
     "metadata": {},
     "output_type": "execute_result"
    }
   ],
   "source": [
    "import numpy as np\n",
    "65871/ np.array([16652, 94, 117, 187, 193])"
   ]
  },
  {
   "cell_type": "code",
   "execution_count": null,
   "id": "188b687a",
   "metadata": {},
   "outputs": [],
   "source": [
    "gwsnr = GWSNR(\n",
    "    snr_type='interpolation_aligned_spins',\n",
    "    gwsnr_verbose=False,\n",
    ")"
   ]
  },
  {
   "cell_type": "code",
   "execution_count": null,
   "id": "010aeb3f",
   "metadata": {},
   "outputs": [],
   "source": [
    "%timeit snr = gwsnr.snr_with_interpolation(gw_param_dict=param_dict)"
   ]
  },
  {
   "cell_type": "code",
   "execution_count": null,
   "id": "e8d18181",
   "metadata": {},
   "outputs": [],
   "source": [
    "gwsnr = GWSNR(\n",
    "    snr_type='interpolation_aligned_spins_jax',\n",
    "    gwsnr_verbose=False,\n",
    ")"
   ]
  },
  {
   "cell_type": "code",
   "execution_count": null,
   "id": "833612b9",
   "metadata": {},
   "outputs": [],
   "source": [
    "%timeit snr = gwsnr.snr_with_interpolation(gw_param_dict=param_dict)"
   ]
  },
  {
   "cell_type": "code",
   "execution_count": null,
   "id": "f31291e3",
   "metadata": {},
   "outputs": [],
   "source": [
    "gwsnr = GWSNR(\n",
    "    snr_type='interpolation_aligned_spins_mlx',\n",
    "    gwsnr_verbose=False,\n",
    ")"
   ]
  },
  {
   "cell_type": "code",
   "execution_count": null,
   "id": "139a777d",
   "metadata": {},
   "outputs": [],
   "source": [
    "%timeit snr = gwsnr.snr_with_interpolation(gw_param_dict=param_dict)"
   ]
  },
  {
   "cell_type": "markdown",
   "id": "5e229c58",
   "metadata": {},
   "source": [
    "## jax-gpu\n",
    "- 117 ms"
   ]
  },
  {
   "cell_type": "markdown",
   "id": "5f272aa5",
   "metadata": {},
   "source": []
  }
 ],
 "metadata": {
  "kernelspec": {
   "display_name": "ler",
   "language": "python",
   "name": "ler"
  },
  "language_info": {
   "codemirror_mode": {
    "name": "ipython",
    "version": 3
   },
   "file_extension": ".py",
   "mimetype": "text/x-python",
   "name": "python",
   "nbconvert_exporter": "python",
   "pygments_lexer": "ipython3",
   "version": "3.10.18"
  }
 },
 "nbformat": 4,
 "nbformat_minor": 5
}
