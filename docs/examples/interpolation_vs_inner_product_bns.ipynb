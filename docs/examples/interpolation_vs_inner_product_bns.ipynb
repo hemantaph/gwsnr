{
 "cells": [
  {
   "cell_type": "code",
   "execution_count": 1,
   "id": "e8aa1c38",
   "metadata": {},
   "outputs": [],
   "source": [
    "import numpy as np\n",
    "np.random.seed(42)  # for reproducibility\n",
    "import matplotlib.pyplot as plt\n",
    "from datetime import datetime\n",
    "\n",
    "import bilby\n",
    "from bilby.gw.utils import calculate_time_to_merger, noise_weighted_inner_product\n",
    "# dont print bilby output\n",
    "bilby.core.utils.logger.setLevel(\"ERROR\")\n",
    "\n",
    "from gwsnr.utils import get_gw_parameters"
   ]
  },
  {
   "cell_type": "code",
   "execution_count": 3,
   "id": "ab830061",
   "metadata": {},
   "outputs": [],
   "source": [
    "Gamma = 0.5772156649015329\n",
    "Pi = np.pi\n",
    "MTSUN_SI = 4.925491025543576e-06\n",
    "\n",
    "def calculate_time_to_merger(m1, m2, fmin):\n",
    "    \"\"\"\n",
    "    Time taken from f_min to f_lso (last stable orbit). 3.5PN in fourier phase considered.\n",
    "\n",
    "    Parameters\n",
    "    ----------\n",
    "    m1 : `float`\n",
    "        Mass of the first body in solar masses.\n",
    "    m2 : `float`\n",
    "        Mass of the second body in solar masses.\n",
    "    fmin : `float`\n",
    "        Lower frequency cutoff.\n",
    "\n",
    "    Returns\n",
    "    -------\n",
    "    chirp_time : float\n",
    "        Time taken from f_min to f_lso (last stable orbit frequency).\n",
    "    \"\"\"\n",
    "\n",
    "    # variables used to compute chirp time\n",
    "    m = m1 + m2\n",
    "    eta = m1 * m2 / m / m\n",
    "    c0T = c2T = c3T = c4T = c5T = c6T = c6LogT = c7T = 0.0\n",
    "\n",
    "    c7T = Pi * (\n",
    "        14809.0 * eta * eta / 378.0 - 75703.0 * eta / 756.0 - 15419335.0 / 127008.0\n",
    "    )\n",
    "\n",
    "    c6T = (\n",
    "        Gamma * 6848.0 / 105.0\n",
    "        - 10052469856691.0 / 23471078400.0\n",
    "        + Pi * Pi * 128.0 / 3.0\n",
    "        + eta * (3147553127.0 / 3048192.0 - Pi * Pi * 451.0 / 12.0)\n",
    "        - eta * eta * 15211.0 / 1728.0\n",
    "        + eta * eta * eta * 25565.0 / 1296.0\n",
    "        + eta * eta * eta * 25565.0 / 1296.0\n",
    "        + np.log(4.0) * 6848.0 / 105.0\n",
    "    )\n",
    "    c6LogT = 6848.0 / 105.0\n",
    "\n",
    "    c5T = 13.0 * Pi * eta / 3.0 - 7729.0 * Pi / 252.0\n",
    "\n",
    "    c4T = 3058673.0 / 508032.0 + eta * (5429.0 / 504.0 + eta * 617.0 / 72.0)\n",
    "    c3T = -32.0 * Pi / 5.0\n",
    "    c2T = 743.0 / 252.0 + eta * 11.0 / 3.0\n",
    "    c0T = 5.0 * m * MTSUN_SI / (256.0 * eta)\n",
    "\n",
    "    # This is the PN parameter v evaluated at the lower freq. cutoff\n",
    "    xT = np.power(Pi * m * MTSUN_SI * fmin, 1.0 / 3.0)\n",
    "    x2T = xT * xT\n",
    "    x3T = xT * x2T\n",
    "    x4T = x2T * x2T\n",
    "    x5T = x2T * x3T\n",
    "    x6T = x3T * x3T\n",
    "    x7T = x3T * x4T\n",
    "    x8T = x4T * x4T\n",
    "\n",
    "    # Computes the chirp time as tC = t(v_low)\n",
    "    # tC = t(v_low) - t(v_upper) would be more\n",
    "    # correct, but the difference is negligble.\n",
    "    return (\n",
    "        c0T\n",
    "        * (\n",
    "            1\n",
    "            + c2T * x2T\n",
    "            + c3T * x3T\n",
    "            + c4T * x4T\n",
    "            + c5T * x5T\n",
    "            + (c6T + c6LogT * np.log(xT)) * x6T\n",
    "            + c7T * x7T\n",
    "        )\n",
    "        / x8T\n",
    "    )"
   ]
  },
  {
   "cell_type": "markdown",
   "id": "729e87cb",
   "metadata": {},
   "source": [
    "## Data generation with ler"
   ]
  },
  {
   "cell_type": "code",
   "execution_count": null,
   "id": "ee4ed4b8",
   "metadata": {},
   "outputs": [],
   "source": [
    "# from ler.gw_source_population import CBCSourceParameterDistribution\n",
    "\n",
    "# ler = CBCSourceParameterDistribution(event_type='BNS')\n",
    "\n",
    "# param_dict = ler.sample_gw_parameters(100000)"
   ]
  },
  {
   "cell_type": "code",
   "execution_count": 4,
   "id": "535621d3",
   "metadata": {},
   "outputs": [],
   "source": [
    "from ler.utils import save_json, load_json\n",
    "\n",
    "# save_json('param_dict_bns.json', param_dict)\n",
    "param_dict = load_json('param_dict_bns.json')\n",
    "# convert to np.array\n",
    "param_dict = {key: np.array(value) for key, value in param_dict.items()}\n"
   ]
  },
  {
   "cell_type": "code",
   "execution_count": 5,
   "id": "4845d437",
   "metadata": {},
   "outputs": [
    {
     "data": {
      "text/plain": [
       "(2.742593216713824, 45.35505870230284)"
      ]
     },
     "execution_count": 5,
     "metadata": {},
     "output_type": "execute_result"
    }
   ],
   "source": [
    "np.min(param_dict['mass_1']+param_dict['mass_2']), np.max(param_dict['mass_1']+param_dict['mass_2'])"
   ]
  },
  {
   "cell_type": "code",
   "execution_count": null,
   "id": "16daf41a",
   "metadata": {},
   "outputs": [],
   "source": []
  },
  {
   "cell_type": "markdown",
   "id": "4c2ebaf8",
   "metadata": {},
   "source": [
    "## set-up bilby snr calculator"
   ]
  },
  {
   "cell_type": "code",
   "execution_count": 8,
   "id": "55898e7d",
   "metadata": {},
   "outputs": [],
   "source": [
    "# Waveform arguments for waveform generation\n",
    "output_jsonfile = 'inner_product_bilby.json'\n",
    "waveform_approximant = 'IMRphenomD'\n",
    "minimum_frequency = 20.0\n",
    "sampling_frequency = 2048.0\n",
    "\n",
    "waveform_arguments = dict(\n",
    "    waveform_approximant=waveform_approximant,\n",
    "    reference_frequency=20.0,\n",
    "    minimum_frequency=minimum_frequency,\n",
    ")\n",
    "\n",
    "# psd objects\n",
    "psds = dict()\n",
    "psds[\"L1\"] = \"aLIGO_O4_high_asd.txt\"\n",
    "psds[\"H1\"] = \"aLIGO_O4_high_asd.txt\"\n",
    "psds[\"V1\"] = \"AdV_asd.txt\"\n",
    "list_of_detectors = ['L1', 'H1', 'V1']\n",
    "ifos = bilby.gw.detector.InterferometerList(list_of_detectors)\n",
    "psds_objects = []\n",
    "for i, det in enumerate(list_of_detectors):\n",
    "    psds_objects.append(\n",
    "            bilby.gw.detector.PowerSpectralDensity(asd_file=psds[det])\n",
    "        )\n",
    "\n",
    "def bilby_inner_product(mass_1=10,\n",
    "        mass_2=10,\n",
    "        luminosity_distance=100.0,\n",
    "        theta_jn=0.0,\n",
    "        psi=0.0,\n",
    "        phase=0.0,\n",
    "        geocent_time=1246527224.169434,\n",
    "        ra=0.0,\n",
    "        dec=0.0,\n",
    "        a_1=0.0,\n",
    "        a_2=0.0,\n",
    "        tilt_1=0.0,\n",
    "        tilt_2=0.0,\n",
    "        phi_12=0.0,\n",
    "        phi_jl=0.0,\n",
    "        lambda_1=0.0,\n",
    "        lambda_2=0.0,\n",
    "        eccentricity=0.0,\n",
    "        gw_param_dict=False,\n",
    "        mtot_min=2.0,\n",
    "        mtot_max=50.0,\n",
    "        mtot_cut=True,\n",
    "        fixed_duration=None,\n",
    "        duration_min=None,\n",
    "        duration_max=None,\n",
    "    ):\n",
    "\n",
    "    # if gw_param_dict is given, then use that\n",
    "    if gw_param_dict is not False:\n",
    "        mass_1, mass_2, luminosity_distance, theta_jn, psi, phase, geocent_time, ra, dec, a_1, a_2, tilt_1, tilt_2, phi_12, phi_jl, lambda_1, lambda_2, eccentricity  = get_gw_parameters(gw_param_dict)\n",
    "    else:\n",
    "        mass_1, mass_2, luminosity_distance, theta_jn, psi, phase, geocent_time, ra, dec, a_1, a_2, tilt_1, tilt_2, phi_12, phi_jl, lambda_1, lambda_2, eccentricity = get_gw_parameters(dict(mass_1=mass_1, mass_2=mass_2, luminosity_distance=luminosity_distance, theta_jn=theta_jn, psi=psi, phase=phase, geocent_time=geocent_time, ra=ra, dec=dec, a_1=a_1, a_2=a_2, tilt_1=tilt_1, tilt_2=tilt_2, phi_12=phi_12, phi_jl=phi_jl, lambda_1=lambda_1, lambda_2=lambda_2, eccentricity=eccentricity))\n",
    "\n",
    "    if mtot_cut:\n",
    "        mtot = mass_1 + mass_2\n",
    "        n = np.where((mtot >= mtot_min) & (mtot <= mtot_max))[0]\n",
    "    else:\n",
    "        n = np.arange(len(mass_1))\n",
    "\n",
    "    opt_snr_all = np.zeros((len(list_of_detectors), len(mass_1)))\n",
    "    opt_snr_effective = np.zeros(len(mass_1))\n",
    "\n",
    "    for idx in n:\n",
    "\n",
    "        # IMPORTANT: time duration calculation for each of the mass combination\n",
    "        if fixed_duration:\n",
    "            duration = fixed_duration\n",
    "        else:\n",
    "            safety = 1.1\n",
    "            approx_duration = safety * calculate_time_to_merger(mass_1[idx], mass_2[idx], minimum_frequency)\n",
    "            duration = np.ceil(approx_duration + 2.0)\n",
    "\n",
    "            if duration_max and (duration > duration_max):\n",
    "                duration = duration_max  # IMRPheonomXPHM has maximum duration of 371s\n",
    "            if duration_min and (duration < duration_min):\n",
    "                duration = duration_min\n",
    "\n",
    "        waveform_generator = bilby.gw.WaveformGenerator(\n",
    "            duration=duration,\n",
    "            sampling_frequency=sampling_frequency,\n",
    "            frequency_domain_source_model=bilby.gw.source.lal_binary_black_hole,\n",
    "            waveform_arguments=waveform_arguments,\n",
    "        )\n",
    "\n",
    "        injection_parameters = dict(\n",
    "            mass_1=mass_1[idx],\n",
    "            mass_2=mass_2[idx],\n",
    "            luminosity_distance=luminosity_distance[idx],\n",
    "            geocent_time=geocent_time[idx],\n",
    "            theta_jn=theta_jn[idx],\n",
    "            ra=ra[idx],\n",
    "            dec=dec[idx],\n",
    "            psi=psi[idx],\n",
    "            phase=phase[idx],\n",
    "            a_1=a_1[idx],\n",
    "            a_2=a_2[idx],\n",
    "            tilt_1=tilt_1[idx],\n",
    "            tilt_2=tilt_2[idx],\n",
    "            phi_12=phi_12[idx],\n",
    "            phi_jl=phi_jl[idx],\n",
    "        )\n",
    "\n",
    "        polas = waveform_generator.frequency_domain_strain(parameters=injection_parameters)\n",
    "\n",
    "        opt_snr_dets = []\n",
    "        snr_effective = 0.\n",
    "        for j, det in enumerate(list_of_detectors):\n",
    "\n",
    "            # need to compute the inner product for\n",
    "            p_array = psds_objects[j].get_power_spectral_density_array(waveform_generator.frequency_array)\n",
    "\n",
    "            idx2 = (p_array != 0.0) & (p_array != np.inf)\n",
    "            hp_inner_hp = noise_weighted_inner_product(\n",
    "                polas[\"plus\"][idx2],\n",
    "                polas[\"plus\"][idx2],\n",
    "                p_array[idx2],\n",
    "                waveform_generator.duration,\n",
    "            )\n",
    "            hc_inner_hc = noise_weighted_inner_product(\n",
    "                polas[\"cross\"][idx2],\n",
    "                polas[\"cross\"][idx2],\n",
    "                p_array[idx2],\n",
    "                waveform_generator.duration,\n",
    "            )\n",
    "\n",
    "            Fp = ifos[j].antenna_response(\n",
    "                ra=ra[idx],\n",
    "                dec=dec[idx],\n",
    "                time=geocent_time[idx],\n",
    "                psi=psi[idx],\n",
    "                mode='plus'\n",
    "            )\n",
    "            Fc = ifos[j].antenna_response(\n",
    "                ra=ra[idx],\n",
    "                dec=dec[idx],\n",
    "                time=geocent_time[idx],\n",
    "                psi=psi[idx],\n",
    "                mode='cross'\n",
    "            )\n",
    "\n",
    "            snrs_sq = abs((Fp**2) * hp_inner_hp + (Fc**2) * hc_inner_hc)\n",
    "            snr_effective += snrs_sq\n",
    "\n",
    "            opt_snr_dets.append(np.sqrt(snrs_sq))\n",
    "\n",
    "        opt_snr_all[:,idx] = opt_snr_dets\n",
    "        opt_snr_effective[idx] = np.sqrt(snr_effective)\n",
    "\n",
    "    # organizing the snr dictionary\n",
    "    optimal_snr = dict()\n",
    "    for j, det in enumerate(list_of_detectors):\n",
    "        optimal_snr[det] = opt_snr_all[j]\n",
    "\n",
    "    optimal_snr[\"optimal_snr_net\"] = opt_snr_effective\n",
    "    return optimal_snr"
   ]
  },
  {
   "cell_type": "code",
   "execution_count": 10,
   "id": "305fb2a4",
   "metadata": {},
   "outputs": [
    {
     "data": {
      "text/plain": [
       "{'L1': array([51.17029227,  0.        ]),\n",
       " 'H1': array([32.54395475,  0.        ]),\n",
       " 'V1': array([15.39366455,  0.        ]),\n",
       " 'optimal_snr_net': array([62.5657471,  0.       ])}"
      ]
     },
     "execution_count": 10,
     "metadata": {},
     "output_type": "execute_result"
    }
   ],
   "source": [
    "bilby_inner_product(np.array([1, 60]), np.array([1, 60]), np.array([40, 1000]))"
   ]
  },
  {
   "cell_type": "code",
   "execution_count": 11,
   "id": "f82ca6c1",
   "metadata": {},
   "outputs": [
    {
     "data": {
      "text/plain": [
       "443624.828"
      ]
     },
     "execution_count": 11,
     "metadata": {},
     "output_type": "execute_result"
    }
   ],
   "source": [
    "# measure the time taken for SNR calculation\n",
    "start_time = datetime.now()\n",
    "snr = bilby_inner_product(gw_param_dict=param_dict)\n",
    "end_time = datetime.now()\n",
    "execution_time_bilby = (end_time - start_time).total_seconds() * 1000  # convert to milliseconds\n",
    "execution_time_bilby"
   ]
  },
  {
   "cell_type": "code",
   "execution_count": 12,
   "id": "f7d9407c",
   "metadata": {},
   "outputs": [
    {
     "data": {
      "text/plain": [
       "4719.4130638297875"
      ]
     },
     "execution_count": 12,
     "metadata": {},
     "output_type": "execute_result"
    }
   ],
   "source": [
    "443624.828/94"
   ]
  },
  {
   "cell_type": "code",
   "execution_count": null,
   "id": "61ca34ac",
   "metadata": {},
   "outputs": [],
   "source": []
  },
  {
   "cell_type": "code",
   "execution_count": 40,
   "id": "859fe3fc",
   "metadata": {},
   "outputs": [
    {
     "data": {
      "text/plain": [
       "9837443.405"
      ]
     },
     "execution_count": 40,
     "metadata": {},
     "output_type": "execute_result"
    }
   ],
   "source": [
    "# measure the time taken for SNR calculation\n",
    "start_time = datetime.now()\n",
    "snr = bilby_inner_product(gw_param_dict=param_dict)\n",
    "end_time = datetime.now()\n",
    "execution_time_bilby = (end_time - start_time).total_seconds() * 1000  # convert to milliseconds\n",
    "execution_time_bilby"
   ]
  },
  {
   "cell_type": "code",
   "execution_count": 1,
   "id": "1dbd16e0",
   "metadata": {},
   "outputs": [
    {
     "name": "stdout",
     "output_type": "stream",
     "text": [
      "\n",
      "Initializing GWSNR class...\n",
      "\n",
      "psds not given. Choosing bilby's default psds\n",
      "\n",
      "\n"
     ]
    }
   ],
   "source": [
    "import numpy as np\n",
    "import matplotlib.pyplot as plt\n",
    "from datetime import datetime\n",
    "from gwsnr import GWSNR\n",
    "\n",
    "gwsnr = GWSNR(npool=4, snr_type='inner_product', gwsnr_verbose=False, multiprocessing_verbose=False, mtot_min=2.0, mtot_max=50.0, mtot_cut=True)"
   ]
  },
  {
   "cell_type": "code",
   "execution_count": 2,
   "id": "33a50262",
   "metadata": {},
   "outputs": [],
   "source": [
    "from ler.utils import load_json\n",
    "\n",
    "param_dict = load_json('param_dict_bns.json')\n",
    "# convert to np.array\n",
    "param_dict = {key: np.array(value) for key, value in param_dict.items()}"
   ]
  },
  {
   "cell_type": "code",
   "execution_count": 3,
   "id": "7aa888ff",
   "metadata": {},
   "outputs": [
    {
     "data": {
      "text/plain": [
       "91325.564"
      ]
     },
     "execution_count": 3,
     "metadata": {},
     "output_type": "execute_result"
    }
   ],
   "source": [
    "start_time = datetime.now()\n",
    "snr = gwsnr.compute_bilby_snr(gw_param_dict=param_dict)\n",
    "end_time = datetime.now()\n",
    "execution_time_gwsnr = (end_time - start_time).total_seconds() * 1000  # convert to milliseconds\n",
    "execution_time_gwsnr"
   ]
  },
  {
   "cell_type": "code",
   "execution_count": null,
   "id": "6a32b1be",
   "metadata": {},
   "outputs": [],
   "source": []
  },
  {
   "cell_type": "code",
   "execution_count": 5,
   "id": "bdfe99c6",
   "metadata": {},
   "outputs": [
    {
     "data": {
      "text/plain": [
       "122879.33099999999"
      ]
     },
     "execution_count": 5,
     "metadata": {},
     "output_type": "execute_result"
    }
   ],
   "source": [
    "start_time = datetime.now()\n",
    "snr = gwsnr.compute_bilby_snr(gw_param_dict=param_dict)\n",
    "end_time = datetime.now()\n",
    "execution_time_gwsnr = (end_time - start_time).total_seconds() * 1000  # convert to milliseconds\n",
    "execution_time_gwsnr"
   ]
  },
  {
   "cell_type": "code",
   "execution_count": 5,
   "id": "a642c7e1",
   "metadata": {},
   "outputs": [
    {
     "data": {
      "text/plain": [
       "4.857651245551601"
      ]
     },
     "execution_count": 5,
     "metadata": {},
     "output_type": "execute_result"
    }
   ],
   "source": [
    "443.625/91.325"
   ]
  },
  {
   "cell_type": "code",
   "execution_count": 4,
   "id": "e8b7db71",
   "metadata": {},
   "outputs": [
    {
     "data": {
      "text/plain": [
       "array([3.61025887e+00, 5.68750000e+03, 4.71941489e+03, 2.37232620e+03,\n",
       "       2.29857513e+03])"
      ]
     },
     "execution_count": 4,
     "metadata": {},
     "output_type": "execute_result"
    }
   ],
   "source": [
    "import numpy as np\n",
    "443625/ np.array([122879, 78, 94, 187, 193])"
   ]
  },
  {
   "cell_type": "code",
   "execution_count": null,
   "id": "27b15aeb",
   "metadata": {},
   "outputs": [],
   "source": [
    "44362"
   ]
  },
  {
   "cell_type": "code",
   "execution_count": 46,
   "id": "17972efa",
   "metadata": {},
   "outputs": [
    {
     "data": {
      "text/plain": [
       "111474.365"
      ]
     },
     "execution_count": 46,
     "metadata": {},
     "output_type": "execute_result"
    }
   ],
   "source": [
    "start_time = datetime.now()\n",
    "snr = gwsnr.compute_bilby_snr(gw_param_dict=param_dict)\n",
    "end_time = datetime.now()\n",
    "execution_time_gwsnr = (end_time - start_time).total_seconds() * 1000  # convert to milliseconds\n",
    "execution_time_gwsnr"
   ]
  },
  {
   "cell_type": "code",
   "execution_count": 44,
   "id": "daecc6c4",
   "metadata": {},
   "outputs": [
    {
     "data": {
      "text/plain": [
       "(2.742593216713824, 45.35505870230284)"
      ]
     },
     "execution_count": 44,
     "metadata": {},
     "output_type": "execute_result"
    }
   ],
   "source": [
    "np.min(param_dict['mass_1']+param_dict['mass_2']),np.max(param_dict['mass_1']+param_dict['mass_2']),"
   ]
  },
  {
   "cell_type": "code",
   "execution_count": null,
   "id": "1ed92a05",
   "metadata": {},
   "outputs": [],
   "source": [
    "gwsnr.mtot_max"
   ]
  },
  {
   "cell_type": "code",
   "execution_count": 18,
   "id": "99833665",
   "metadata": {},
   "outputs": [
    {
     "data": {
      "text/plain": [
       "2.101444458592682"
      ]
     },
     "execution_count": 18,
     "metadata": {},
     "output_type": "execute_result"
    }
   ],
   "source": [
    "81229.667/38654.206"
   ]
  },
  {
   "cell_type": "code",
   "execution_count": 9,
   "id": "f926ca4d",
   "metadata": {},
   "outputs": [
    {
     "data": {
      "text/plain": [
       "6"
      ]
     },
     "execution_count": 9,
     "metadata": {},
     "output_type": "execute_result"
    }
   ],
   "source": [
    "3*(1+1)"
   ]
  },
  {
   "cell_type": "code",
   "execution_count": 47,
   "id": "188b687a",
   "metadata": {},
   "outputs": [
    {
     "name": "stdout",
     "output_type": "stream",
     "text": [
      "\n",
      "Initializing GWSNR class...\n",
      "\n",
      "psds not given. Choosing bilby's default psds\n",
      "Interpolator will be loaded for L1 detector from ./interpolator_pickle/L1/partialSNR_dict_7.pickle\n",
      "Interpolator will be loaded for H1 detector from ./interpolator_pickle/H1/partialSNR_dict_7.pickle\n",
      "Interpolator will be loaded for V1 detector from ./interpolator_pickle/V1/partialSNR_dict_7.pickle\n",
      "\n",
      "\n"
     ]
    }
   ],
   "source": [
    "from gwsnr import GWSNR\n",
    "\n",
    "gwsnr = GWSNR(\n",
    "    snr_type='interpolation_aligned_spins',\n",
    "    gwsnr_verbose=False,\n",
    "    mtot_min=2.,\n",
    "    mtot_max=50.,\n",
    ")"
   ]
  },
  {
   "cell_type": "code",
   "execution_count": 48,
   "id": "010aeb3f",
   "metadata": {},
   "outputs": [
    {
     "name": "stdout",
     "output_type": "stream",
     "text": [
      "187 ms ± 6.05 ms per loop (mean ± std. dev. of 7 runs, 10 loops each)\n"
     ]
    }
   ],
   "source": [
    "%timeit snr = gwsnr.snr_with_interpolation(gw_param_dict=param_dict)"
   ]
  },
  {
   "cell_type": "code",
   "execution_count": 52,
   "id": "e8d18181",
   "metadata": {},
   "outputs": [
    {
     "name": "stdout",
     "output_type": "stream",
     "text": [
      "\n",
      "Initializing GWSNR class...\n",
      "\n",
      "psds not given. Choosing bilby's default psds\n",
      "Interpolator will be loaded for L1 detector from ./interpolator_pickle/L1/partialSNR_dict_7.pickle\n",
      "Interpolator will be loaded for H1 detector from ./interpolator_pickle/H1/partialSNR_dict_7.pickle\n",
      "Interpolator will be loaded for V1 detector from ./interpolator_pickle/V1/partialSNR_dict_7.pickle\n",
      "\n",
      "\n"
     ]
    }
   ],
   "source": [
    "gwsnr = GWSNR(\n",
    "    snr_type='interpolation_aligned_spins_jax',\n",
    "    gwsnr_verbose=False,\n",
    "    mtot_min=2.,\n",
    "    mtot_max=50.,\n",
    ")"
   ]
  },
  {
   "cell_type": "code",
   "execution_count": 53,
   "id": "833612b9",
   "metadata": {},
   "outputs": [
    {
     "name": "stdout",
     "output_type": "stream",
     "text": [
      "193 ms ± 8.22 ms per loop (mean ± std. dev. of 7 runs, 1 loop each)\n"
     ]
    }
   ],
   "source": [
    "%timeit snr = gwsnr.snr_with_interpolation(gw_param_dict=param_dict)"
   ]
  },
  {
   "cell_type": "code",
   "execution_count": 54,
   "id": "f31291e3",
   "metadata": {},
   "outputs": [
    {
     "name": "stdout",
     "output_type": "stream",
     "text": [
      "\n",
      "Initializing GWSNR class...\n",
      "\n",
      "psds not given. Choosing bilby's default psds\n",
      "Interpolator will be loaded for L1 detector from ./interpolator_pickle/L1/partialSNR_dict_7.pickle\n",
      "Interpolator will be loaded for H1 detector from ./interpolator_pickle/H1/partialSNR_dict_7.pickle\n",
      "Interpolator will be loaded for V1 detector from ./interpolator_pickle/V1/partialSNR_dict_7.pickle\n",
      "\n",
      "\n"
     ]
    }
   ],
   "source": [
    "gwsnr = GWSNR(\n",
    "    snr_type='interpolation_aligned_spins_mlx',\n",
    "    gwsnr_verbose=False,\n",
    "    mtot_min=2.,\n",
    "    mtot_max=50.,\n",
    ")"
   ]
  },
  {
   "cell_type": "code",
   "execution_count": 55,
   "id": "139a777d",
   "metadata": {},
   "outputs": [
    {
     "name": "stdout",
     "output_type": "stream",
     "text": [
      "93.9 ms ± 995 μs per loop (mean ± std. dev. of 7 runs, 1 loop each)\n"
     ]
    }
   ],
   "source": [
    "%timeit snr = gwsnr.snr_with_interpolation(gw_param_dict=param_dict)"
   ]
  },
  {
   "cell_type": "markdown",
   "id": "5e229c58",
   "metadata": {},
   "source": [
    "## jax-gpu\n",
    "- 117 ms"
   ]
  },
  {
   "cell_type": "markdown",
   "id": "5f272aa5",
   "metadata": {},
   "source": []
  },
  {
   "cell_type": "markdown",
   "id": "391c3c3e",
   "metadata": {},
   "source": []
  }
 ],
 "metadata": {
  "kernelspec": {
   "display_name": "ler",
   "language": "python",
   "name": "ler"
  },
  "language_info": {
   "codemirror_mode": {
    "name": "ipython",
    "version": 3
   },
   "file_extension": ".py",
   "mimetype": "text/x-python",
   "name": "python",
   "nbconvert_exporter": "python",
   "pygments_lexer": "ipython3",
   "version": "3.10.18"
  }
 },
 "nbformat": 4,
 "nbformat_minor": 5
}
