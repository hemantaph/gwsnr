{
 "cells": [
  {
   "cell_type": "code",
   "execution_count": null,
   "id": "0e751d87",
   "metadata": {},
   "outputs": [
    {
     "name": "stdout",
     "output_type": "stream",
     "text": [
      "\n",
      "Initializing GWSNR class...\n",
      "\n",
      "Interpolator will be loaded for L1 detector from ./interpolator_pickle/L1/partialSNR_dict_0.pickle\n",
      "Interpolator will be loaded for H1 detector from ./interpolator_pickle/H1/partialSNR_dict_0.pickle\n",
      "Interpolator will be loaded for V1 detector from ./interpolator_pickle/V1/partialSNR_dict_0.pickle\n",
      "\n",
      "Chosen GWSNR initialization parameters:\n",
      "\n",
      "npool:  4\n",
      "snr type:  interpolation_no_spins\n",
      "waveform approximant:  IMRPhenomD\n",
      "sampling frequency:  2048.0\n",
      "minimum frequency (fmin):  20.0\n",
      "mtot=mass1+mass2\n",
      "min(mtot):  2.0\n",
      "max(mtot) (with the given fmin=20.0): 6.0\n",
      "detectors:  ['L1', 'H1', 'V1']\n",
      "psds:  [PowerSpectralDensity(psd_file='None', asd_file='/Users/phurailatpamhemantakumar/anaconda3/envs/ler/lib/python3.10/site-packages/bilby/gw/detector/noise_curves/aLIGO_O4_high_asd.txt'), PowerSpectralDensity(psd_file='None', asd_file='/Users/phurailatpamhemantakumar/anaconda3/envs/ler/lib/python3.10/site-packages/bilby/gw/detector/noise_curves/aLIGO_O4_high_asd.txt'), PowerSpectralDensity(psd_file='/Users/phurailatpamhemantakumar/anaconda3/envs/ler/lib/python3.10/site-packages/bilby/gw/detector/noise_curves/AdV_psd.txt', asd_file='None')]\n",
      "\n",
      "\n"
     ]
    }
   ],
   "source": [
    "# loading GWSNR class from the gwsnr package\n",
    "from gwsnr import GWSNR\n",
    "import numpy as np\n",
    "\n",
    "# initializing the GWSNR class with default configuration and interpolation method\n",
    "gwsnr = GWSNR(mtot_min=2., mtot_max=6., mtot_max=6., ifos=['L1', 'H1', 'V1'])\n",
    "\n",
    "# 1. Analytical Method\n",
    "d_hor_analytical = gwsnr.horizon_distance_analytical(mass_1=1.4, mass_2=1.4)\n",
    "\n",
    "# 2. Numerical Method\n",
    "d_hor_numerical, _, _ = gwsnr.horizon_distance_numerical(mass_1=1.4, mass_2=1.4)"
   ]
  },
  {
   "cell_type": "code",
   "execution_count": 15,
   "id": "5cec91c1",
   "metadata": {},
   "outputs": [
    {
     "name": "stdout",
     "output_type": "stream",
     "text": [
      "horizon distance (analytical): {'L1': array([416.49490771]), 'H1': array([416.49490771]), 'V1': array([317.93916075])} Mpc\n",
      "horizon distance (numerical): {'L1': 416.49483499582857, 'H1': 416.4948722301051, 'V1': 228.76581222284585, 'optimal_snr_net': 557.9508489044383} Mpc\n"
     ]
    }
   ],
   "source": [
    "# print the type of the SNRs\n",
    "print(f\"horizon distance (analytical): {d_hor_analytical} Mpc\")\n",
    "print(f\"horizon distance (numerical): {d_hor_numerical} Mpc\")"
   ]
  },
  {
   "cell_type": "code",
   "execution_count": null,
   "id": "645b2d9a",
   "metadata": {},
   "outputs": [
    {
     "name": "stdout",
     "output_type": "stream",
     "text": [
      "\n",
      "Initializing GWSNR class...\n",
      "\n",
      "psds not given. Choosing bilby's default psds\n",
      "Interpolator will be generated for L1 detector at ./interpolator_pickle/L1/partialSNR_dict_0.pickle\n",
      "Interpolator will be generated for H1 detector at ./interpolator_pickle/H1/partialSNR_dict_0.pickle\n",
      "Interpolator will be generated for V1 detector at ./interpolator_pickle/V1/partialSNR_dict_0.pickle\n",
      "Please be patient while the interpolator is generated\n",
      "Generating interpolator for ['L1', 'H1', 'V1'] detectors\n"
     ]
    },
    {
     "name": "stderr",
     "output_type": "stream",
     "text": [
      "100%|██████████████████████████████████████████████████████████| 3996/3996 [00:23<00:00, 170.45it/s]\n"
     ]
    },
    {
     "name": "stdout",
     "output_type": "stream",
     "text": [
      "\n",
      "Saving Partial-SNR for L1 detector with shape (20, 200)\n",
      "\n",
      "Saving Partial-SNR for H1 detector with shape (20, 200)\n",
      "\n",
      "Saving Partial-SNR for V1 detector with shape (20, 200)\n",
      "\n",
      "Chosen GWSNR initialization parameters:\n",
      "\n",
      "npool:  4\n",
      "snr type:  interpolation_no_spins\n",
      "waveform approximant:  IMRPhenomD\n",
      "sampling frequency:  2048.0\n",
      "minimum frequency (fmin):  20.0\n",
      "mtot=mass1+mass2\n",
      "min(mtot):  2.0\n",
      "max(mtot) (with the given fmin=20.0): 6.0\n",
      "detectors:  ['L1', 'H1', 'V1']\n",
      "psds:  [PowerSpectralDensity(psd_file='None', asd_file='/Users/phurailatpamhemantakumar/anaconda3/envs/ler/lib/python3.10/site-packages/bilby/gw/detector/noise_curves/aLIGO_O4_high_asd.txt'), PowerSpectralDensity(psd_file='None', asd_file='/Users/phurailatpamhemantakumar/anaconda3/envs/ler/lib/python3.10/site-packages/bilby/gw/detector/noise_curves/aLIGO_O4_high_asd.txt'), PowerSpectralDensity(psd_file='None', asd_file='/Users/phurailatpamhemantakumar/anaconda3/envs/ler/lib/python3.10/site-packages/bilby/gw/detector/noise_curves/AdV_asd.txt')]\n",
      "\n",
      "\n"
     ]
    }
   ],
   "source": [
    "import numpy as np\n",
    "import matplotlib.pyplot as plt\n",
    "# Example cosmology: FlatLambdaCDM (change if your package provides another)\n",
    "from astropy.cosmology import FlatLambdaCDM\n",
    "from astropy import units as u\n",
    "from astropy.cosmology import z_at_value\n",
    "\n",
    "# loading GWSNR class from the gwsnr package\n",
    "from gwsnr import GWSNR\n",
    "\n",
    "# initializing the GWSNR class with default configuration and interpolation method\n",
    "gwsnr = GWSNR(mtot_min=2., mtot_max=6., mtot_max=6., ifos=['L1', 'H1', 'V1'])\n",
    "\n",
    "# Define cosmology\n",
    "cosmo = FlatLambdaCDM(H0=67.7, Om0=0.307)\n",
    "\n",
    "# Define mass ranges\n",
    "mass_1_range = np.linspace(1.0, 3.0, 100)\n",
    "mass_2_range = np.linspace(1.0, 3.0, 100)   \n",
    "\n",
    "# Calculate horizon distances for varying masses\n",
    "d_hor_analytical = gwsnr.horizon_distance_analytical(mass_1=mass_1_range, mass_2=mass_2_range)\n",
    "D_hor = d_hor_analytical['L1']  # Array of horizon distances (Mpc)\n",
    "# Compute min and max redshift\n",
    "z_min = z_at_value(cosmo.luminosity_distance, D_hor.min() * u.Mpc)\n",
    "z_max = z_at_value(cosmo.luminosity_distance, D_hor.max() * u.Mpc)\n"
   ]
  },
  {
   "cell_type": "code",
   "execution_count": 9,
   "id": "df1b9465",
   "metadata": {},
   "outputs": [
    {
     "data": {
      "image/png": "[encoded data removed]",
      "text/plain": [
       "<Figure size 400x400 with 1 Axes>"
      ]
     },
     "metadata": {},
     "output_type": "display_data"
    }
   ],
   "source": [
    "# Plotting\n",
    "# Setup the figure\n",
    "plt.rcParams.update({\n",
    "    \"text.usetex\": True,\n",
    "    \"font.family\": \"serif\",\n",
    "    \"font.serif\": [\"Computer Modern Roman\"],\n",
    "    \"font.size\": 12\n",
    "})\n",
    "plt.figure(figsize=(4., 4.))\n",
    "\n",
    "total_mass = mass_1_range + mass_2_range  # Total mass array\n",
    "plt.plot(total_mass, D_hor, label='L1 detector', color='C0')\n",
    "# plt.title('Horizon Distance vs Total Mass\\nwithin\\nthe BNS total-mass range of 2–6 M$_\\odot$')\n",
    "plt.xlabel(r'$M$ (M$_\\odot$)')\n",
    "plt.ylabel(r'$D_{\\rm hor}$ (Mpc)')\n",
    "plt.grid(alpha=0.5)\n",
    "plt.legend()\n",
    "\n",
    "z_min_label = r'$z_{\\rm min}$=' + f'{z_min.value:.2f}'\n",
    "z_max_label = r'$z_{\\rm max}$=' + f'{z_max.value:.2f}'\n",
    "plt.axhline(y=cosmo.luminosity_distance(z_min).value, color='r', linestyle='--', label=z_min_label, linewidth=1, alpha=0.8)\n",
    "plt.axhline(y=cosmo.luminosity_distance(z_max).value, color='g', linestyle='--', label=z_max_label, linewidth=1, alpha=0.8)\n",
    "\n",
    "# Get the legend object first\n",
    "legend = plt.legend(['L1 detector', z_min_label, z_max_label], handlelength=2, loc='upper left', bbox_to_anchor=(0.0, 1.0), frameon=True, fontsize=12, edgecolor='lightgray')\n",
    "\n",
    "# Modify line width for legend entries\n",
    "legend.get_frame().set_boxstyle('Round', pad=0.0, rounding_size=0.2)\n",
    "for handle in legend.get_lines():\n",
    "    handle.set_linewidth(1)\n",
    "    handle.set_alpha(0.8)\n",
    "plt.tight_layout()\n",
    "plt.savefig('../_static/horizon_distance_vs_total_mass.png')\n",
    "plt.show()"
   ]
  },
  {
   "cell_type": "code",
   "execution_count": 25,
   "id": "db3b4e0c",
   "metadata": {},
   "outputs": [
    {
     "name": "stdout",
     "output_type": "stream",
     "text": [
      "\n",
      "Initializing GWSNR class...\n",
      "\n",
      "Interpolator will be loaded for L1 detector from ./interpolator_pickle/L1/partialSNR_dict_0.pickle\n",
      "Interpolator will be loaded for H1 detector from ./interpolator_pickle/H1/partialSNR_dict_0.pickle\n",
      "Interpolator will be loaded for V1 detector from ./interpolator_pickle/V1/partialSNR_dict_0.pickle\n",
      "\n",
      "Chosen GWSNR initialization parameters:\n",
      "\n",
      "npool:  4\n",
      "snr type:  interpolation_no_spins\n",
      "waveform approximant:  IMRPhenomD\n",
      "sampling frequency:  2048.0\n",
      "minimum frequency (fmin):  20.0\n",
      "mtot=mass1+mass2\n",
      "min(mtot):  2.0\n",
      "max(mtot) (with the given fmin=20.0): 6.0\n",
      "detectors:  ['L1', 'H1', 'V1']\n",
      "psds:  [PowerSpectralDensity(psd_file='None', asd_file='/Users/phurailatpamhemantakumar/anaconda3/envs/ler/lib/python3.10/site-packages/bilby/gw/detector/noise_curves/aLIGO_O4_high_asd.txt'), PowerSpectralDensity(psd_file='None', asd_file='/Users/phurailatpamhemantakumar/anaconda3/envs/ler/lib/python3.10/site-packages/bilby/gw/detector/noise_curves/aLIGO_O4_high_asd.txt'), PowerSpectralDensity(psd_file='/Users/phurailatpamhemantakumar/anaconda3/envs/ler/lib/python3.10/site-packages/bilby/gw/detector/noise_curves/AdV_psd.txt', asd_file='None')]\n",
      "\n",
      "\n"
     ]
    }
   ],
   "source": [
    "import numpy as np\n",
    "import matplotlib.pyplot as plt\n",
    "# Example cosmology: FlatLambdaCDM (change if your package provides another)\n",
    "from astropy.cosmology import FlatLambdaCDM\n",
    "from astropy import units as u\n",
    "from astropy.cosmology import z_at_value\n",
    "\n",
    "# loading GWSNR class from the gwsnr package\n",
    "from gwsnr import GWSNR\n",
    "\n",
    "# initializing the GWSNR class with default configuration and interpolation method\n",
    "gwsnr = GWSNR(mtot_min=2., mtot_max=6., ifos=['L1', 'H1', 'V1'])\n",
    "\n",
    "# Define cosmology\n",
    "cosmo = FlatLambdaCDM(H0=67.7, Om0=0.307)\n",
    "\n",
    "# Define mass for GW150914\n",
    "mass_1 = 1.4\n",
    "mass_2 = 1.4\n",
    "\n",
    "# Calculate horizon distances for varying masses\n",
    "d_hor_numerical, _, _ = gwsnr.horizon_distance_numerical(mass_1=mass_1, mass_2=mass_2)\n"
   ]
  },
  {
   "cell_type": "code",
   "execution_count": 26,
   "id": "a4ab75a6",
   "metadata": {},
   "outputs": [],
   "source": [
    "D_hor_L1 = d_hor_numerical['L1']  # Array of horizon distances (Mpc)\n",
    "D_hor_H1 = d_hor_numerical['H1']  # Array of horizon distances (Mpc)\n",
    "D_hor_V1 = d_hor_numerical['V1']  # Array of horizon distances (Mpc)\n",
    "D_hor_L1H1V1 = d_hor_numerical['optimal_snr_net']  # Array of horizon distances (Mpc)"
   ]
  },
  {
   "cell_type": "code",
   "execution_count": 27,
   "id": "875b95c9",
   "metadata": {},
   "outputs": [],
   "source": [
    "# Compute min and max redshift\n",
    "z_min_L1 = z_at_value(cosmo.luminosity_distance, D_hor_L1 * u.Mpc)\n",
    "z_max_L1 = z_at_value(cosmo.luminosity_distance, D_hor_L1 * u.Mpc)\n",
    "z_min_H1 = z_at_value(cosmo.luminosity_distance, D_hor_H1 * u.Mpc)\n",
    "z_max_L1H1V1 = z_at_value(cosmo.luminosity_distance, D_hor_L1H1V1 * u.Mpc)"
   ]
  },
  {
   "cell_type": "code",
   "execution_count": 28,
   "id": "8d747033",
   "metadata": {},
   "outputs": [
    {
     "data": {
      "image/png": "[encoded data removed]",
      "text/plain": [
       "<Figure size 400x400 with 1 Axes>"
      ]
     },
     "metadata": {},
     "output_type": "display_data"
    }
   ],
   "source": [
    "# create a bar plot\n",
    "\n",
    "plt.rcParams.update({\n",
    "    \"text.usetex\": True,\n",
    "    \"font.family\": \"serif\",\n",
    "    \"font.serif\": [\"Computer Modern Roman\"],    \n",
    "    \"font.size\": 12\n",
    "})\n",
    "plt.figure(figsize=(4., 4.))    \n",
    "\n",
    "plt.bar(['L1', 'H1', 'V1', 'L1+H1+V1'],\n",
    "        [D_hor_L1, D_hor_H1, D_hor_V1, D_hor_L1H1V1],\n",
    "        color=['C0', 'C1', 'C2', 'C3'],\n",
    "        alpha=0.8)  \n",
    "plt.ylabel(r'$D_{\\rm hor}$ (Mpc)')\n",
    "plt.xlabel('Detector')\n",
    "plt.tight_layout()\n",
    "plt.savefig('../_static/horizon_distance_for_GW150914.png')\n",
    "plt.show()\n",
    "        "
   ]
  },
  {
   "cell_type": "code",
   "execution_count": 29,
   "id": "873b3cd4",
   "metadata": {},
   "outputs": [
    {
     "name": "stdout",
     "output_type": "stream",
     "text": [
      "\n",
      "Initializing GWSNR class...\n",
      "\n",
      "Interpolator will be generated for ET1 detector at ./interpolator_pickle/ET1/partialSNR_dict_1.pickle\n",
      "Interpolator will be generated for ET2 detector at ./interpolator_pickle/ET2/partialSNR_dict_1.pickle\n",
      "Interpolator will be generated for ET3 detector at ./interpolator_pickle/ET3/partialSNR_dict_1.pickle\n",
      "Please be patient while the interpolator is generated\n",
      "Generating interpolator for ['ET1', 'ET2', 'ET3'] detectors\n"
     ]
    },
    {
     "name": "stderr",
     "output_type": "stream",
     "text": [
      "100%|██████████████████████████████████████████████████████████| 3996/3996 [00:22<00:00, 175.43it/s]\n"
     ]
    },
    {
     "name": "stdout",
     "output_type": "stream",
     "text": [
      "\n",
      "Saving Partial-SNR for ET1 detector with shape (20, 200)\n",
      "\n",
      "Saving Partial-SNR for ET2 detector with shape (20, 200)\n",
      "\n",
      "Saving Partial-SNR for ET3 detector with shape (20, 200)\n",
      "\n",
      "Chosen GWSNR initialization parameters:\n",
      "\n",
      "npool:  4\n",
      "snr type:  interpolation_no_spins\n",
      "waveform approximant:  IMRPhenomD\n",
      "sampling frequency:  2048.0\n",
      "minimum frequency (fmin):  20.0\n",
      "mtot=mass1+mass2\n",
      "min(mtot):  2.0\n",
      "max(mtot) (with the given fmin=20.0): 6.0\n",
      "detectors:  ['ET1', 'ET2', 'ET3']\n",
      "psds:  [PowerSpectralDensity(psd_file='/Users/phurailatpamhemantakumar/anaconda3/envs/ler/lib/python3.10/site-packages/bilby/gw/detector/noise_curves/ET_D_psd.txt', asd_file='None'), PowerSpectralDensity(psd_file='/Users/phurailatpamhemantakumar/anaconda3/envs/ler/lib/python3.10/site-packages/bilby/gw/detector/noise_curves/ET_D_psd.txt', asd_file='None'), PowerSpectralDensity(psd_file='/Users/phurailatpamhemantakumar/anaconda3/envs/ler/lib/python3.10/site-packages/bilby/gw/detector/noise_curves/ET_D_psd.txt', asd_file='None')]\n",
      "\n",
      "\n"
     ]
    }
   ],
   "source": [
    "import numpy as np\n",
    "import matplotlib.pyplot as plt\n",
    "# Example cosmology: FlatLambdaCDM (change if your package provides another)\n",
    "from astropy.cosmology import FlatLambdaCDM\n",
    "from astropy import units as u\n",
    "from astropy.cosmology import z_at_value\n",
    "\n",
    "# loading GWSNR class from the gwsnr package\n",
    "from gwsnr import GWSNR\n",
    "\n",
    "# initializing the GWSNR class with default configuration and interpolation method\n",
    "gwsnr = GWSNR(mtot_min=2., mtot_max=6., ifos=['ET'])\n",
    "\n",
    "# Define cosmology\n",
    "cosmo = FlatLambdaCDM(H0=67.7, Om0=0.307)\n",
    "\n",
    "# Define mass for GW150914\n",
    "mass_1 = 1.4\n",
    "mass_2 = 1.4\n",
    "\n",
    "# Calculate horizon distances for varying masses\n",
    "d_hor_numerical, _, _ = gwsnr.horizon_distance_numerical(mass_1=mass_1, mass_2=mass_2)\n",
    "\n",
    "D_hor_ET = d_hor_numerical['optimal_snr_net']  # Array of horizon distances (Mpc)"
   ]
  },
  {
   "cell_type": "code",
   "execution_count": 30,
   "id": "eec30331",
   "metadata": {},
   "outputs": [],
   "source": [
    "z_max_ET = z_at_value(cosmo.luminosity_distance, D_hor_ET * u.Mpc)"
   ]
  },
  {
   "cell_type": "code",
   "execution_count": 31,
   "id": "4766f9ee",
   "metadata": {},
   "outputs": [
    {
     "name": "stdout",
     "output_type": "stream",
     "text": [
      "\n",
      "Initializing GWSNR class...\n",
      "\n",
      "Interpolator will be loaded for ET1 detector from ./interpolator_pickle/ET1/partialSNR_dict_1.pickle\n",
      "Interpolator will be loaded for ET2 detector from ./interpolator_pickle/ET2/partialSNR_dict_1.pickle\n",
      "Interpolator will be loaded for ET3 detector from ./interpolator_pickle/ET3/partialSNR_dict_1.pickle\n",
      "Interpolator will be generated for CE detector at ./interpolator_pickle/CE/partialSNR_dict_1.pickle\n",
      "Please be patient while the interpolator is generated\n",
      "Generating interpolator for ['CE'] detectors\n"
     ]
    },
    {
     "name": "stderr",
     "output_type": "stream",
     "text": [
      "100%|██████████████████████████████████████████████████████████| 3996/3996 [00:15<00:00, 250.96it/s]\n"
     ]
    },
    {
     "name": "stdout",
     "output_type": "stream",
     "text": [
      "\n",
      "Saving Partial-SNR for CE detector with shape (20, 200)\n",
      "\n",
      "Chosen GWSNR initialization parameters:\n",
      "\n",
      "npool:  4\n",
      "snr type:  interpolation_no_spins\n",
      "waveform approximant:  IMRPhenomD\n",
      "sampling frequency:  2048.0\n",
      "minimum frequency (fmin):  20.0\n",
      "mtot=mass1+mass2\n",
      "min(mtot):  2.0\n",
      "max(mtot) (with the given fmin=20.0): 6.0\n",
      "detectors:  ['ET1', 'ET2', 'ET3', 'CE']\n",
      "psds:  [PowerSpectralDensity(psd_file='/Users/phurailatpamhemantakumar/anaconda3/envs/ler/lib/python3.10/site-packages/bilby/gw/detector/noise_curves/ET_D_psd.txt', asd_file='None'), PowerSpectralDensity(psd_file='/Users/phurailatpamhemantakumar/anaconda3/envs/ler/lib/python3.10/site-packages/bilby/gw/detector/noise_curves/ET_D_psd.txt', asd_file='None'), PowerSpectralDensity(psd_file='/Users/phurailatpamhemantakumar/anaconda3/envs/ler/lib/python3.10/site-packages/bilby/gw/detector/noise_curves/ET_D_psd.txt', asd_file='None'), PowerSpectralDensity(psd_file='/Users/phurailatpamhemantakumar/anaconda3/envs/ler/lib/python3.10/site-packages/bilby/gw/detector/noise_curves/CE_psd.txt', asd_file='None')]\n",
      "\n",
      "\n"
     ]
    }
   ],
   "source": [
    "import numpy as np\n",
    "import matplotlib.pyplot as plt\n",
    "# Example cosmology: FlatLambdaCDM (change if your package provides another)\n",
    "from astropy.cosmology import FlatLambdaCDM\n",
    "from astropy import units as u\n",
    "from astropy.cosmology import z_at_value\n",
    "\n",
    "# loading GWSNR class from the gwsnr package\n",
    "from gwsnr import GWSNR\n",
    "\n",
    "# initializing the GWSNR class with default configuration and interpolation method\n",
    "gwsnr = GWSNR(mtot_min=2., mtot_max=6., ifos=['ET', 'CE'])\n",
    "\n",
    "# Define cosmology\n",
    "cosmo = FlatLambdaCDM(H0=67.7, Om0=0.307)\n",
    "\n",
    "# Define mass for GW150914\n",
    "mass_1 = 1.4\n",
    "mass_2 = 1.4\n",
    "\n",
    "# Calculate horizon distances for varying masses\n",
    "d_hor_numerical, _, _ = gwsnr.horizon_distance_numerical(mass_1=mass_1, mass_2=mass_2)\n",
    "\n",
    "D_hor_CE = d_hor_numerical['CE']  # Array of horizon distances (Mpc)\n",
    "D_hor_ETCE = d_hor_numerical['optimal_snr_net']  # Array of horizon distances (Mpc)"
   ]
  },
  {
   "cell_type": "code",
   "execution_count": 32,
   "id": "abd2e746",
   "metadata": {},
   "outputs": [],
   "source": [
    "z_max_CE = z_at_value(cosmo.luminosity_distance, D_hor_CE * u.Mpc)\n",
    "z_max_ETCE = z_at_value(cosmo.luminosity_distance, D_hor_ETCE * u.Mpc)"
   ]
  },
  {
   "cell_type": "code",
   "execution_count": 33,
   "id": "f38e21af",
   "metadata": {},
   "outputs": [
    {
     "data": {
      "text/plain": [
       "(13846.996669025466, 6492.192721545798)"
      ]
     },
     "execution_count": 33,
     "metadata": {},
     "output_type": "execute_result"
    }
   ],
   "source": [
    "D_hor_ETCE, D_hor_ET"
   ]
  },
  {
   "cell_type": "code",
   "execution_count": 47,
   "id": "13304ebb",
   "metadata": {},
   "outputs": [
    {
     "data": {
      "image/png": "[encoded data removed]",
      "text/plain": [
       "<Figure size 800x400 with 1 Axes>"
      ]
     },
     "metadata": {},
     "output_type": "display_data"
    }
   ],
   "source": [
    "# create a bar plot\n",
    "\n",
    "plt.rcParams.update({\n",
    "    \"text.usetex\": True,\n",
    "    \"font.family\": \"serif\",\n",
    "    \"font.serif\": [\"Computer Modern Roman\"],    \n",
    "    \"font.size\": 12\n",
    "})\n",
    "plt.figure(figsize=(8., 4.))    \n",
    "\n",
    "bars = plt.bar(['L1', 'H1', 'V1', 'L1+H1+V1', 'ET', 'CE'],\n",
    "    [D_hor_L1, D_hor_H1, D_hor_V1, D_hor_L1H1V1, D_hor_ET, D_hor_CE],\n",
    "    color=['C0', 'C1', 'C2', 'C3', 'C4', 'C5'],\n",
    "    alpha=0.8)\n",
    "\n",
    "# Add z values at the top of each bar\n",
    "z_values = [z_max_L1.value, z_min_H1.value, z_max_L1.value, z_max_L1H1V1.value, z_max_ET.value, z_max_CE.value]\n",
    "for bar, z_val in zip(bars, z_values):\n",
    "    plt.text(bar.get_x() + bar.get_width()/2, bar.get_height() * 1.05, \n",
    "         f'z={z_val:.2f}', ha='center', va='bottom', fontsize=10)\n",
    "\n",
    "plt.ylabel(r'$D_{\\rm hor}$ (Mpc)')\n",
    "plt.xlabel('Detector')\n",
    "plt.yscale('log')\n",
    "plt.ylim(10., 40000.)\n",
    "plt.grid(alpha=0.5)\n",
    "plt.tight_layout()\n",
    "plt.savefig('../_static/horizon_distance_for_BNS.png')\n",
    "plt.show()"
   ]
  },
  {
   "cell_type": "code",
   "execution_count": null,
   "id": "55726baa",
   "metadata": {},
   "outputs": [],
   "source": []
  },
  {
   "cell_type": "code",
   "execution_count": null,
   "id": "87cb9b2d",
   "metadata": {},
   "outputs": [],
   "source": []
  }
 ],
 "metadata": {
  "kernelspec": {
   "display_name": "ler",
   "language": "python",
   "name": "ler"
  },
  "language_info": {
   "codemirror_mode": {
    "name": "ipython",
    "version": 3
   },
   "file_extension": ".py",
   "mimetype": "text/x-python",
   "name": "python",
   "nbconvert_exporter": "python",
   "pygments_lexer": "ipython3",
   "version": "3.10.18"
  }
 },
 "nbformat": 4,
 "nbformat_minor": 5
}
