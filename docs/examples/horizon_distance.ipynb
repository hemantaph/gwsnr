{
 "cells": [
  {
   "cell_type": "markdown",
   "id": "328349f5",
   "metadata": {},
   "source": [
    "# Horizon Distance Calculation with Mass-Dependent SNR Thresholds\n",
    "\n",
    "## Find the threshold for BNS systems\n",
    "\n",
    "* choose 'mass1_source' $\\in [1,3]$"
   ]
  },
  {
   "cell_type": "code",
   "execution_count": 2,
   "id": "7cc9098e",
   "metadata": {},
   "outputs": [
    {
     "name": "stdout",
     "output_type": "stream",
     "text": [
      "--2025-10-28 18:08:14--  https://raw.githubusercontent.com/hemantaph/gwsnr/refs/heads/main/tests/unit/injection_data_bns.json\n",
      "Resolving raw.githubusercontent.com (raw.githubusercontent.com)... 185.199.109.133, 185.199.110.133, 185.199.108.133, ...\n",
      "Connecting to raw.githubusercontent.com (raw.githubusercontent.com)|185.199.109.133|:443... connected.\n",
      "HTTP request sent, awaiting response... 200 OK\n",
      "Length: 6444606 (6.1M) [text/plain]\n",
      "Saving to: ‘injection_data_bns.json’\n",
      "\n",
      "injection_data_bns. 100%[===================>]   6.15M  1.92MB/s    in 3.2s    \n",
      "\n",
      "2025-10-28 18:08:18 (1.92 MB/s) - ‘injection_data_bns.json’ saved [6444606/6444606]\n",
      "\n"
     ]
    }
   ],
   "source": [
    "! wget https://raw.githubusercontent.com/hemantaph/gwsnr/refs/heads/main/tests/unit/injection_data_bns.json"
   ]
  },
  {
   "cell_type": "code",
   "execution_count": 3,
   "id": "58dd2996",
   "metadata": {},
   "outputs": [
    {
     "name": "stderr",
     "output_type": "stream",
     "text": [
      "100%|███████████████████████████████████████████████████████████████| 10/10 [00:10<00:00,  1.01s/it]"
     ]
    },
    {
     "name": "stdout",
     "output_type": "stream",
     "text": [
      "Best SNR threshold: 11.53\n"
     ]
    },
    {
     "name": "stderr",
     "output_type": "stream",
     "text": [
      "\n"
     ]
    }
   ],
   "source": [
    "import h5py\n",
    "import numpy as np\n",
    "import matplotlib.pyplot as plt\n",
    "from gwsnr.threshold import SNRThresholdFinder\n",
    "\n",
    "from gwsnr.utils import get_param_from_json\n",
    "params = get_param_from_json('injection_data_bns.json')\n",
    "\n",
    "gstlal_far = params['gstlal_far']\n",
    "observed_snr_net = params['observed_snr_net']\n",
    "z = params['z']\n",
    "mass1_source = params['mass1_source']\n",
    "\n",
    "test = SNRThresholdFinder(\n",
    "    catalog_file = None,\n",
    "    # below are all default values. You can omit them if you want. \n",
    "    npool=4,\n",
    "    original_detection_statistic = dict(\n",
    "                key_name='gstlal_far',\n",
    "                threshold=1,  # 1 per year\n",
    "                parameter=gstlal_far,\n",
    "            ),\n",
    "    projected_detection_statistic = dict(\n",
    "                key_name='observed_snr_net',\n",
    "                threshold=None, # to be determined\n",
    "                threshold_search_bounds=(8, 14),\n",
    "                parameter=observed_snr_net,\n",
    "            ),\n",
    "    parameters_to_fit = dict(\n",
    "        key_name = 'z',\n",
    "        parameter=z,\n",
    "    ),\n",
    "    sample_size=20000,\n",
    "    selection_range = dict(\n",
    "        key_name = 'mass1_source',\n",
    "        range = (1, 3), # in solar masses\n",
    "        parameter = mass1_source,\n",
    "    ),\n",
    ")\n",
    "\n",
    "best_thr, _, _, _, _ = test.find_threshold(iteration=10, print_output=True, no_multiprocessing=True)"
   ]
  },
  {
   "cell_type": "markdown",
   "id": "b54f5930",
   "metadata": {},
   "source": [
    "## Horizon Distance - Analytic"
   ]
  },
  {
   "cell_type": "code",
   "execution_count": null,
   "id": "631a5b82",
   "metadata": {},
   "outputs": [],
   "source": []
  },
  {
   "cell_type": "code",
   "execution_count": null,
   "id": "93ce4996",
   "metadata": {},
   "outputs": [],
   "source": []
  }
 ],
 "metadata": {
  "kernelspec": {
   "display_name": "gwsnr",
   "language": "python",
   "name": "python3"
  },
  "language_info": {
   "codemirror_mode": {
    "name": "ipython",
    "version": 3
   },
   "file_extension": ".py",
   "mimetype": "text/x-python",
   "name": "python",
   "nbconvert_exporter": "python",
   "pygments_lexer": "ipython3",
   "version": "3.10.18"
  }
 },
 "nbformat": 4,
 "nbformat_minor": 5
}
