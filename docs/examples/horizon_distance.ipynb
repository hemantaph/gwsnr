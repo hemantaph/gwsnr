{
 "cells": [
  {
   "cell_type": "markdown",
   "id": "328349f5",
   "metadata": {},
   "source": [
    "# Horizon Distance Calculation with Mass-Dependent SNR Thresholds\n",
    "\n",
    "## Find the threshold for BNS systems\n",
    "\n",
    "* choose 'mass1_source' $\\in [1,3]$"
   ]
  },
  {
   "cell_type": "code",
   "execution_count": null,
   "id": "58dd2996",
   "metadata": {},
   "outputs": [],
   "source": [
    "import h5py\n",
    "import numpy as np\n",
    "import matplotlib.pyplot as plt\n",
    "from gwsnr.threshold import SNRThresholdFinder"
   ]
  },
  {
   "cell_type": "code",
   "execution_count": null,
   "id": "631a5b82",
   "metadata": {},
   "outputs": [],
   "source": []
  },
  {
   "cell_type": "code",
   "execution_count": null,
   "id": "93ce4996",
   "metadata": {},
   "outputs": [],
   "source": []
  }
 ],
 "metadata": {
  "kernelspec": {
   "display_name": "gwsnr",
   "language": "python",
   "name": "python3"
  },
  "language_info": {
   "codemirror_mode": {
    "name": "ipython",
    "version": 3
   },
   "file_extension": ".py",
   "mimetype": "text/x-python",
   "name": "python",
   "nbconvert_exporter": "python",
   "pygments_lexer": "ipython3",
   "version": "3.10.18"
  }
 },
 "nbformat": 4,
 "nbformat_minor": 5
}
