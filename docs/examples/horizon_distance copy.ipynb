{
 "cells": [
  {
   "cell_type": "code",
   "execution_count": 2,
   "id": "5d7ddab7",
   "metadata": {},
   "outputs": [
    {
     "name": "stdout",
     "output_type": "stream",
     "text": [
      "luminosity_distance_to_z interpolator will be loaded from ./interpolator_pickle/luminosity_distance_to_z/luminosity_distance_to_z_0.pickle\n"
     ]
    }
   ],
   "source": [
    "from ler.image_properties import ImageProperties\n",
    "\n",
    "ler = ImageProperties()"
   ]
  },
  {
   "cell_type": "code",
   "execution_count": 24,
   "id": "645b2d9a",
   "metadata": {},
   "outputs": [
    {
     "name": "stdout",
     "output_type": "stream",
     "text": [
      "\n",
      "Initializing GWSNR class...\n",
      "\n",
      "Interpolator will be generated for L1 detector at ./interpolator_pickle/L1/partialSNR_dict_5.pickle\n",
      "Interpolator will be generated for H1 detector at ./interpolator_pickle/H1/partialSNR_dict_5.pickle\n",
      "Interpolator will be generated for V1 detector at ./interpolator_pickle/V1/partialSNR_dict_5.pickle\n",
      "Please be patient while the interpolator is generated\n",
      "Generating interpolator for ['L1', 'H1', 'V1'] detectors\n"
     ]
    },
    {
     "name": "stderr",
     "output_type": "stream",
     "text": [
      "100%|█████████████████████████████████████████████████████████| 3996/3996 [00:02<00:00, 1865.41it/s]"
     ]
    },
    {
     "name": "stdout",
     "output_type": "stream",
     "text": [
      "\n",
      "Saving Partial-SNR for L1 detector with shape (20, 200)\n",
      "\n",
      "Saving Partial-SNR for H1 detector with shape (20, 200)\n",
      "\n",
      "Saving Partial-SNR for V1 detector with shape (20, 200)\n",
      "\n",
      "Chosen GWSNR initialization parameters:\n",
      "\n",
      "npool:  4\n",
      "snr type:  interpolation_no_spins\n",
      "waveform approximant:  IMRPhenomD\n",
      "sampling frequency:  2048.0\n",
      "minimum frequency (fmin):  20.0\n",
      "mtot=mass1+mass2\n",
      "min(mtot):  2\n",
      "max(mtot) (with the given fmin=20.0): 184.98599853446768\n",
      "detectors:  ['L1', 'H1', 'V1']\n",
      "psds:  [PowerSpectralDensity(psd_file='None', asd_file='/Users/phurailatpamhemantakumar/anaconda3/envs/ler/lib/python3.10/site-packages/bilby/gw/detector/noise_curves/aLIGO_O4_high_asd.txt'), PowerSpectralDensity(psd_file='None', asd_file='/Users/phurailatpamhemantakumar/anaconda3/envs/ler/lib/python3.10/site-packages/bilby/gw/detector/noise_curves/aLIGO_O4_high_asd.txt'), PowerSpectralDensity(psd_file='/Users/phurailatpamhemantakumar/anaconda3/envs/ler/lib/python3.10/site-packages/bilby/gw/detector/noise_curves/AdV_psd.txt', asd_file='None')]\n",
      "\n",
      "\n"
     ]
    },
    {
     "name": "stderr",
     "output_type": "stream",
     "text": [
      "\n"
     ]
    }
   ],
   "source": [
    "import numpy as np\n",
    "import matplotlib.pyplot as plt\n",
    "# loading GWSNR class from the gwsnr package\n",
    "from gwsnr import GWSNR\n",
    "\n",
    "# initializing the GWSNR class with default configuration and interpolation method\n",
    "gwsnr = GWSNR(ifos=['L1', 'H1', 'V1'], mtot_min=2, mtot_cut=True)\n",
    "\n",
    "# Define mass ranges\n",
    "size = 10000\n",
    "chirp_mass_range = np.random.uniform(5, 200, size)  # Chirp mass in solar masses\n",
    "mass_ratio = np.random.uniform(1, 1, size)  # Mass ratio (q = m2/m1)\n",
    "mass_1 = chirp_mass_range / (1 + mass_ratio) ** (3/5)\n",
    "mass_2 = chirp_mass_range * (mass_ratio / (1 + mass_ratio))\n",
    "idx = (mass_1>5) & (mass_2>5)  # Ensure both masses are greater than 5 solar masses\n",
    "mass_1 = mass_1[idx]\n",
    "mass_2 = mass_2[idx]\n",
    "chirp_mass_range = chirp_mass_range[idx]\n",
    "\n",
    "# Calculate horizon distances for varying masses\n",
    "d_hor_analytical = gwsnr.horizon_distance_analytical(mass_1=mass_1, mass_2=mass_2)\n",
    "# Compute min and max redshift\n",
    "z_L1 = ler.luminosity_distance_to_z(d_hor_analytical['L1'])\n",
    "z_H1 = ler.luminosity_distance_to_z(d_hor_analytical['H1'])\n",
    "z_V1 = ler.luminosity_distance_to_z(d_hor_analytical['V1'])"
   ]
  },
  {
   "cell_type": "code",
   "execution_count": 30,
   "id": "df1b9465",
   "metadata": {},
   "outputs": [
    {
     "data": {
      "image/png": "[encoded data removed]",
      "text/plain": [
       "<Figure size 400x400 with 1 Axes>"
      ]
     },
     "metadata": {},
     "output_type": "display_data"
    }
   ],
   "source": [
    "# Plotting\n",
    "# Setup the figure\n",
    "plt.rcParams.update({\n",
    "    \"text.usetex\": True,\n",
    "    \"font.family\": \"serif\",\n",
    "    \"font.serif\": [\"Computer Modern Roman\"],\n",
    "    \"font.size\": 12\n",
    "})\n",
    "plt.figure(figsize=(4., 4.))\n",
    "idx = np.argsort(chirp_mass_range)\n",
    "plt.plot(chirp_mass_range[idx], z_L1[idx], '.', markersize=1, label='L1', color='C0')\n",
    "plt.plot(chirp_mass_range[idx], z_H1[idx], '.', markersize=1, label='H1', color='C1')\n",
    "plt.plot(chirp_mass_range[idx], z_V1[idx], '.', markersize=1, label='V1', color='C2')\n",
    "plt.xlabel(r'$M$ (M$_\\odot$)')\n",
    "plt.ylabel(r'$z$')\n",
    "plt.xlim(5, 200)\n",
    "plt.grid(alpha=0.5)\n",
    "plt.legend()    \n",
    "\n",
    "# z_min_label = r'$z_{\\rm min}$=' + f'{z_min:.3f}'\n",
    "# z_max_label = r'$z_{\\rm max}$=' + f'{z_max:.3f}'\n",
    "# plt.axhline(y=cosmo.luminosity_distance(z_min), color='r', linestyle='--', label=z_min_label, linewidth=1, alpha=0.8)\n",
    "# plt.axhline(y=cosmo.luminosity_distance(z_max), color='g', linestyle='--', label=z_max_label, linewidth=1, alpha=0.8)\n",
    "\n",
    "# # Get the legend object first\n",
    "# legend = plt.legend(['L1 detector', z_min_label, z_max_label], handlelength=2, loc='upper left', bbox_to_anchor=(0.0, 1.0), frameon=True, fontsize=12, edgecolor='lightgray')\n",
    "\n",
    "# # Modify line width for legend entries\n",
    "# legend.get_frame().set_boxstyle('Round', pad=0.0, rounding_size=0.2)\n",
    "# for handle in legend.get_lines():\n",
    "#     handle.set_linewidth(1)\n",
    "#     handle.set_alpha(0.8)\n",
    "# plt.tight_layout()\n",
    "# plt.savefig('../_static/horizon_distance_vs_total_mass.png')\n",
    "plt.show()"
   ]
  },
  {
   "cell_type": "code",
   "execution_count": 31,
   "id": "767431b5",
   "metadata": {},
   "outputs": [
    {
     "name": "stdout",
     "output_type": "stream",
     "text": [
      "luminosity_distance_to_z interpolator will be loaded from ./interpolator_pickle/luminosity_distance_to_z/luminosity_distance_to_z_0.pickle\n"
     ]
    }
   ],
   "source": [
    "from ler.image_properties import ImageProperties\n",
    "\n",
    "ler = ImageProperties()"
   ]
  },
  {
   "cell_type": "code",
   "execution_count": 38,
   "id": "db3b4e0c",
   "metadata": {},
   "outputs": [
    {
     "name": "stdout",
     "output_type": "stream",
     "text": [
      "\n",
      "Initializing GWSNR class...\n",
      "\n",
      "Interpolator will be loaded for L1 detector from ./interpolator_pickle/L1/partialSNR_dict_3.pickle\n",
      "Interpolator will be loaded for H1 detector from ./interpolator_pickle/H1/partialSNR_dict_3.pickle\n",
      "Interpolator will be loaded for V1 detector from ./interpolator_pickle/V1/partialSNR_dict_3.pickle\n",
      "\n",
      "Chosen GWSNR initialization parameters:\n",
      "\n",
      "npool:  4\n",
      "snr type:  interpolation_no_spins\n",
      "waveform approximant:  IMRPhenomD\n",
      "sampling frequency:  2048.0\n",
      "minimum frequency (fmin):  20.0\n",
      "mtot=mass1+mass2\n",
      "min(mtot):  2.0\n",
      "max(mtot) (with the given fmin=20.0): 6.0\n",
      "detectors:  ['L1', 'H1', 'V1']\n",
      "psds:  [PowerSpectralDensity(psd_file='None', asd_file='/Users/phurailatpamhemantakumar/anaconda3/envs/ler/lib/python3.10/site-packages/bilby/gw/detector/noise_curves/aLIGO_O4_high_asd.txt'), PowerSpectralDensity(psd_file='None', asd_file='/Users/phurailatpamhemantakumar/anaconda3/envs/ler/lib/python3.10/site-packages/bilby/gw/detector/noise_curves/aLIGO_O4_high_asd.txt'), PowerSpectralDensity(psd_file='/Users/phurailatpamhemantakumar/anaconda3/envs/ler/lib/python3.10/site-packages/bilby/gw/detector/noise_curves/AdV_psd.txt', asd_file='None')]\n",
      "\n",
      "\n"
     ]
    },
    {
     "ename": "ValueError",
     "evalue": "f(a) and f(b) must have different signs",
     "output_type": "error",
     "traceback": [
      "\u001b[0;31m---------------------------------------------------------------------------\u001b[0m",
      "\u001b[0;31mValueError\u001b[0m                                Traceback (most recent call last)",
      "Cell \u001b[0;32mIn[38], line 24\u001b[0m\n\u001b[1;32m     22\u001b[0m \u001b[38;5;66;03m# Calculate horizon distances for varying masses\u001b[39;00m\n\u001b[1;32m     23\u001b[0m \u001b[38;5;28;01mfor\u001b[39;00m i \u001b[38;5;129;01min\u001b[39;00m \u001b[38;5;28mrange\u001b[39m(\u001b[38;5;28mlen\u001b[39m(mass_1)):\n\u001b[0;32m---> 24\u001b[0m     d_hor_analytical, _, _ \u001b[38;5;241m=\u001b[39m \u001b[43mgwsnr\u001b[49m\u001b[38;5;241;43m.\u001b[39;49m\u001b[43mhorizon_distance_numerical\u001b[49m\u001b[43m(\u001b[49m\u001b[43mmass_1\u001b[49m\u001b[38;5;241;43m=\u001b[39;49m\u001b[43mmass_1\u001b[49m\u001b[43m[\u001b[49m\u001b[43mi\u001b[49m\u001b[43m]\u001b[49m\u001b[43m,\u001b[49m\u001b[43m \u001b[49m\u001b[43mmass_2\u001b[49m\u001b[38;5;241;43m=\u001b[39;49m\u001b[43mmass_2\u001b[49m\u001b[43m[\u001b[49m\u001b[43mi\u001b[49m\u001b[43m]\u001b[49m\u001b[43m,\u001b[49m\u001b[43m \u001b[49m\u001b[43mroot_scalar_dict\u001b[49m\u001b[43m \u001b[49m\u001b[38;5;241;43m=\u001b[39;49m\u001b[43m \u001b[49m\u001b[38;5;28;43mdict\u001b[39;49m\u001b[43m(\u001b[49m\u001b[43mbracket\u001b[49m\u001b[38;5;241;43m=\u001b[39;49m\u001b[43m[\u001b[49m\u001b[38;5;241;43m1\u001b[39;49m\u001b[43m,\u001b[49m\u001b[43m \u001b[49m\u001b[38;5;241;43m1000000\u001b[39;49m\u001b[43m]\u001b[49m\u001b[43m,\u001b[49m\u001b[43m \u001b[49m\u001b[43mmethod\u001b[49m\u001b[38;5;241;43m=\u001b[39;49m\u001b[38;5;124;43m'\u001b[39;49m\u001b[38;5;124;43mbisect\u001b[39;49m\u001b[38;5;124;43m'\u001b[39;49m\u001b[43m,\u001b[49m\u001b[43m \u001b[49m\u001b[43mxtol\u001b[49m\u001b[38;5;241;43m=\u001b[39;49m\u001b[38;5;241;43m1e-5\u001b[39;49m\u001b[43m)\u001b[49m\u001b[43m)\u001b[49m\n\u001b[1;32m     25\u001b[0m     \u001b[38;5;66;03m# # Compute min and max redshift\u001b[39;00m\n\u001b[1;32m     26\u001b[0m     \u001b[38;5;66;03m# z_L1 = ler.luminosity_distance_to_z(d_hor_analytical['L1'])\u001b[39;00m\n\u001b[1;32m     27\u001b[0m     \u001b[38;5;66;03m# z_H1 = ler.luminosity_distance_to_z(d_hor_analytical['H1'])\u001b[39;00m\n\u001b[1;32m     28\u001b[0m     \u001b[38;5;66;03m# z_V1 = ler.luminosity_distance_to_z(d_hor_analytical['V1'])\u001b[39;00m\n\u001b[1;32m     29\u001b[0m     \u001b[38;5;66;03m# z_L1H1V1 = ler.luminosity_distance_to_z(d_hor_analytical['optimal_snr_net'])\u001b[39;00m\n",
      "File \u001b[0;32m~/phd/mypackages/gwsnr/gwsnr/core/gwsnr.py:2785\u001b[0m, in \u001b[0;36mGWSNR.horizon_distance_numerical\u001b[0;34m(self, mass_1, mass_2, snr_th, snr_th_net, minimize_function_dict, root_scalar_dict)\u001b[0m\n\u001b[1;32m   2773\u001b[0m     \u001b[38;5;28;01mreturn\u001b[39;00m \u001b[38;5;28mself\u001b[39m\u001b[38;5;241m.\u001b[39msnr(\n\u001b[1;32m   2774\u001b[0m         mass_1\u001b[38;5;241m=\u001b[39mmass_1,\n\u001b[1;32m   2775\u001b[0m         mass_2\u001b[38;5;241m=\u001b[39mmass_2,\n\u001b[0;32m   (...)\u001b[0m\n\u001b[1;32m   2781\u001b[0m         geocent_time\u001b[38;5;241m=\u001b[39mgeocent_time_max,\n\u001b[1;32m   2782\u001b[0m     )[det][\u001b[38;5;241m0\u001b[39m] \u001b[38;5;241m-\u001b[39m snr_th_net\n\u001b[1;32m   2784\u001b[0m \u001b[38;5;66;03m# find root i.e. snr = snr_th\u001b[39;00m\n\u001b[0;32m-> 2785\u001b[0m horizon[det] \u001b[38;5;241m=\u001b[39m \u001b[43mroot_scalar\u001b[49m\u001b[43m(\u001b[49m\n\u001b[1;32m   2786\u001b[0m \u001b[43m    \u001b[49m\u001b[43msnr_fn\u001b[49m\u001b[43m,\u001b[49m\u001b[43m \u001b[49m\u001b[43mbracket\u001b[49m\u001b[38;5;241;43m=\u001b[39;49m\u001b[43mroot_scalar_dict\u001b[49m\u001b[43m[\u001b[49m\u001b[38;5;124;43m'\u001b[39;49m\u001b[38;5;124;43mbracket\u001b[39;49m\u001b[38;5;124;43m'\u001b[39;49m\u001b[43m]\u001b[49m\u001b[43m,\u001b[49m\u001b[43m \u001b[49m\u001b[43mmethod\u001b[49m\u001b[38;5;241;43m=\u001b[39;49m\u001b[43mroot_scalar_dict\u001b[49m\u001b[43m[\u001b[49m\u001b[38;5;124;43m'\u001b[39;49m\u001b[38;5;124;43mmethod\u001b[39;49m\u001b[38;5;124;43m'\u001b[39;49m\u001b[43m]\u001b[49m\u001b[43m,\u001b[49m\u001b[43m \u001b[49m\u001b[43mxtol\u001b[49m\u001b[38;5;241;43m=\u001b[39;49m\u001b[43mroot_scalar_dict\u001b[49m\u001b[43m[\u001b[49m\u001b[38;5;124;43m'\u001b[39;49m\u001b[38;5;124;43mxtol\u001b[39;49m\u001b[38;5;124;43m'\u001b[39;49m\u001b[43m]\u001b[49m\n\u001b[1;32m   2787\u001b[0m \u001b[43m\u001b[49m\u001b[43m)\u001b[49m\u001b[38;5;241m.\u001b[39mroot\n\u001b[1;32m   2788\u001b[0m sky_location[det] \u001b[38;5;241m=\u001b[39m (ra_max, dec_max)\n\u001b[1;32m   2789\u001b[0m time[det] \u001b[38;5;241m=\u001b[39m geocent_time_max\n",
      "File \u001b[0;32m~/anaconda3/envs/ler/lib/python3.10/site-packages/scipy/optimize/_root_scalar.py:286\u001b[0m, in \u001b[0;36mroot_scalar\u001b[0;34m(f, args, method, bracket, fprime, fprime2, x0, x1, xtol, rtol, maxiter, options)\u001b[0m\n\u001b[1;32m    284\u001b[0m a, b \u001b[38;5;241m=\u001b[39m bracket[:\u001b[38;5;241m2\u001b[39m]\n\u001b[1;32m    285\u001b[0m \u001b[38;5;28;01mtry\u001b[39;00m:\n\u001b[0;32m--> 286\u001b[0m     r, sol \u001b[38;5;241m=\u001b[39m \u001b[43mmethodc\u001b[49m\u001b[43m(\u001b[49m\u001b[43mf\u001b[49m\u001b[43m,\u001b[49m\u001b[43m \u001b[49m\u001b[43ma\u001b[49m\u001b[43m,\u001b[49m\u001b[43m \u001b[49m\u001b[43mb\u001b[49m\u001b[43m,\u001b[49m\u001b[43m \u001b[49m\u001b[43margs\u001b[49m\u001b[38;5;241;43m=\u001b[39;49m\u001b[43margs\u001b[49m\u001b[43m,\u001b[49m\u001b[43m \u001b[49m\u001b[38;5;241;43m*\u001b[39;49m\u001b[38;5;241;43m*\u001b[39;49m\u001b[43mkwargs\u001b[49m\u001b[43m)\u001b[49m\n\u001b[1;32m    287\u001b[0m \u001b[38;5;28;01mexcept\u001b[39;00m \u001b[38;5;167;01mValueError\u001b[39;00m \u001b[38;5;28;01mas\u001b[39;00m e:\n\u001b[1;32m    288\u001b[0m     \u001b[38;5;66;03m# gh-17622 fixed some bugs in low-level solvers by raising an error\u001b[39;00m\n\u001b[1;32m    289\u001b[0m     \u001b[38;5;66;03m# (rather than returning incorrect results) when the callable\u001b[39;00m\n\u001b[1;32m    290\u001b[0m     \u001b[38;5;66;03m# returns a NaN. It did so by wrapping the callable rather than\u001b[39;00m\n\u001b[1;32m    291\u001b[0m     \u001b[38;5;66;03m# modifying compiled code, so the iteration count is not available.\u001b[39;00m\n\u001b[1;32m    292\u001b[0m     \u001b[38;5;28;01mif\u001b[39;00m \u001b[38;5;28mhasattr\u001b[39m(e, \u001b[38;5;124m\"\u001b[39m\u001b[38;5;124m_x\u001b[39m\u001b[38;5;124m\"\u001b[39m):\n",
      "File \u001b[0;32m~/anaconda3/envs/ler/lib/python3.10/site-packages/scipy/optimize/_zeros_py.py:577\u001b[0m, in \u001b[0;36mbisect\u001b[0;34m(f, a, b, args, xtol, rtol, maxiter, full_output, disp)\u001b[0m\n\u001b[1;32m    575\u001b[0m     \u001b[38;5;28;01mraise\u001b[39;00m \u001b[38;5;167;01mValueError\u001b[39;00m(\u001b[38;5;124mf\u001b[39m\u001b[38;5;124m\"\u001b[39m\u001b[38;5;124mrtol too small (\u001b[39m\u001b[38;5;132;01m{\u001b[39;00mrtol\u001b[38;5;132;01m:\u001b[39;00m\u001b[38;5;124mg\u001b[39m\u001b[38;5;132;01m}\u001b[39;00m\u001b[38;5;124m < \u001b[39m\u001b[38;5;132;01m{\u001b[39;00m_rtol\u001b[38;5;132;01m:\u001b[39;00m\u001b[38;5;124mg\u001b[39m\u001b[38;5;132;01m}\u001b[39;00m\u001b[38;5;124m)\u001b[39m\u001b[38;5;124m\"\u001b[39m)\n\u001b[1;32m    576\u001b[0m f \u001b[38;5;241m=\u001b[39m _wrap_nan_raise(f)\n\u001b[0;32m--> 577\u001b[0m r \u001b[38;5;241m=\u001b[39m \u001b[43m_zeros\u001b[49m\u001b[38;5;241;43m.\u001b[39;49m\u001b[43m_bisect\u001b[49m\u001b[43m(\u001b[49m\u001b[43mf\u001b[49m\u001b[43m,\u001b[49m\u001b[43m \u001b[49m\u001b[43ma\u001b[49m\u001b[43m,\u001b[49m\u001b[43m \u001b[49m\u001b[43mb\u001b[49m\u001b[43m,\u001b[49m\u001b[43m \u001b[49m\u001b[43mxtol\u001b[49m\u001b[43m,\u001b[49m\u001b[43m \u001b[49m\u001b[43mrtol\u001b[49m\u001b[43m,\u001b[49m\u001b[43m \u001b[49m\u001b[43mmaxiter\u001b[49m\u001b[43m,\u001b[49m\u001b[43m \u001b[49m\u001b[43margs\u001b[49m\u001b[43m,\u001b[49m\u001b[43m \u001b[49m\u001b[43mfull_output\u001b[49m\u001b[43m,\u001b[49m\u001b[43m \u001b[49m\u001b[43mdisp\u001b[49m\u001b[43m)\u001b[49m\n\u001b[1;32m    578\u001b[0m \u001b[38;5;28;01mreturn\u001b[39;00m results_c(full_output, r, \u001b[38;5;124m\"\u001b[39m\u001b[38;5;124mbisect\u001b[39m\u001b[38;5;124m\"\u001b[39m)\n",
      "\u001b[0;31mValueError\u001b[0m: f(a) and f(b) must have different signs"
     ]
    }
   ],
   "source": [
    "import numpy as np\n",
    "import matplotlib.pyplot as plt\n",
    "\n",
    "# loading GWSNR class from the gwsnr package\n",
    "from gwsnr import GWSNR\n",
    "\n",
    "# initializing the GWSNR class with default configuration and interpolation method\n",
    "gwsnr = GWSNR(mtot_min=2., mtot_max=6., ifos=['L1', 'H1', 'V1'])\n",
    "\n",
    "# Define mass for GW150914\n",
    "# Define mass ranges\n",
    "size = 10000\n",
    "chirp_mass_range = np.random.uniform(5, 200, size)  # Chirp mass in solar masses\n",
    "mass_ratio = np.random.uniform(1, 1, size)  # Mass ratio (q = m2/m1)\n",
    "mass_1 = chirp_mass_range / (1 + mass_ratio) ** (3/5)\n",
    "mass_2 = chirp_mass_range * (mass_ratio / (1 + mass_ratio))\n",
    "idx = (mass_1>5) & (mass_2>5)  # Ensure both masses are greater than 5 solar masses\n",
    "mass_1 = mass_1[idx]\n",
    "mass_2 = mass_2[idx]\n",
    "chirp_mass_range = chirp_mass_range[idx]\n",
    "\n",
    "# Calculate horizon distances for varying masses\n",
    "for i in range(len(mass_1)):\n",
    "    d_hor_analytical, _, _ = gwsnr.horizon_distance_numerical(mass_1=mass_1[i], mass_2=mass_2[i], root_scalar_dict = dict(bracket=[1, 1000000], method='bisect', xtol=1e-5))\n",
    "    # # Compute min and max redshift\n",
    "    # z_L1 = ler.luminosity_distance_to_z(d_hor_analytical['L1'])\n",
    "    # z_H1 = ler.luminosity_distance_to_z(d_hor_analytical['H1'])\n",
    "    # z_V1 = ler.luminosity_distance_to_z(d_hor_analytical['V1'])\n",
    "    # z_L1H1V1 = ler.luminosity_distance_to_z(d_hor_analytical['optimal_snr_net'])"
   ]
  },
  {
   "cell_type": "code",
   "execution_count": 34,
   "id": "b62187ad",
   "metadata": {},
   "outputs": [
    {
     "data": {
      "text/plain": [
       "'L1'"
      ]
     },
     "execution_count": 34,
     "metadata": {},
     "output_type": "execute_result"
    }
   ],
   "source": [
    "d_hor_analytical"
   ]
  },
  {
   "cell_type": "code",
   "execution_count": 3,
   "id": "a4ab75a6",
   "metadata": {},
   "outputs": [],
   "source": [
    "D_hor_L1 = d_hor_numerical['L1']  # Array of horizon distances (Mpc)\n",
    "D_hor_H1 = d_hor_numerical['H1']  # Array of horizon distances (Mpc)\n",
    "D_hor_V1 = d_hor_numerical['V1']  # Array of horizon distances (Mpc)\n",
    "D_hor_L1H1V1 = d_hor_numerical['optimal_snr_net']  # Array of horizon distances (Mpc)"
   ]
  },
  {
   "cell_type": "code",
   "execution_count": 13,
   "id": "875b95c9",
   "metadata": {},
   "outputs": [
    {
     "data": {
      "text/plain": [
       "(0.09103259983627375,\n",
       " 0.09103260702450684,\n",
       " 0.05140484220065359,\n",
       " 0.11964953348303396)"
      ]
     },
     "execution_count": 13,
     "metadata": {},
     "output_type": "execute_result"
    }
   ],
   "source": [
    "# Compute min and max redshift\n",
    "z_max_L1, z_max_H1, z_max_V1, z_max_L1H1V1 = ler.luminosity_distance_to_z(np.array([D_hor_L1, D_hor_H1, D_hor_V1, D_hor_L1H1V1]))\n",
    "z_max_L1, z_max_H1, z_max_V1, z_max_L1H1V1 "
   ]
  },
  {
   "cell_type": "code",
   "execution_count": 7,
   "id": "8d747033",
   "metadata": {},
   "outputs": [],
   "source": [
    "# # create a bar plot\n",
    "\n",
    "# plt.rcParams.update({\n",
    "#     \"text.usetex\": True,\n",
    "#     \"font.family\": \"serif\",\n",
    "#     \"font.serif\": [\"Computer Modern Roman\"],    \n",
    "#     \"font.size\": 12\n",
    "# })\n",
    "# plt.figure(figsize=(4., 4.))    \n",
    "\n",
    "# plt.bar(['L1', 'H1', 'V1', 'L1+H1+V1'],\n",
    "#         [D_hor_L1, D_hor_H1, D_hor_V1, D_hor_L1H1V1],\n",
    "#         color=['C0', 'C1', 'C2', 'C3'],\n",
    "#         alpha=0.8)  \n",
    "# plt.ylabel(r'$D_{\\rm hor}$ (Mpc)')\n",
    "# plt.xlabel('Detector')\n",
    "# plt.tight_layout()\n",
    "# plt.savefig('../_static/horizon_distance_for_GW150914.png')\n",
    "# plt.show()\n",
    "        "
   ]
  },
  {
   "cell_type": "code",
   "execution_count": 8,
   "id": "873b3cd4",
   "metadata": {},
   "outputs": [
    {
     "name": "stdout",
     "output_type": "stream",
     "text": [
      "\n",
      "Initializing GWSNR class...\n",
      "\n",
      "Interpolator will be loaded for ET1 detector from ./interpolator_pickle/ET1/partialSNR_dict_1.pickle\n",
      "Interpolator will be loaded for ET2 detector from ./interpolator_pickle/ET2/partialSNR_dict_1.pickle\n",
      "Interpolator will be loaded for ET3 detector from ./interpolator_pickle/ET3/partialSNR_dict_1.pickle\n",
      "\n",
      "Chosen GWSNR initialization parameters:\n",
      "\n",
      "npool:  4\n",
      "snr type:  interpolation_no_spins\n",
      "waveform approximant:  IMRPhenomD\n",
      "sampling frequency:  2048.0\n",
      "minimum frequency (fmin):  20.0\n",
      "mtot=mass1+mass2\n",
      "min(mtot):  2.0\n",
      "max(mtot) (with the given fmin=20.0): 6.0\n",
      "detectors:  ['ET1', 'ET2', 'ET3']\n",
      "psds:  [PowerSpectralDensity(psd_file='/Users/phurailatpamhemantakumar/anaconda3/envs/ler/lib/python3.10/site-packages/bilby/gw/detector/noise_curves/ET_D_psd.txt', asd_file='None'), PowerSpectralDensity(psd_file='/Users/phurailatpamhemantakumar/anaconda3/envs/ler/lib/python3.10/site-packages/bilby/gw/detector/noise_curves/ET_D_psd.txt', asd_file='None'), PowerSpectralDensity(psd_file='/Users/phurailatpamhemantakumar/anaconda3/envs/ler/lib/python3.10/site-packages/bilby/gw/detector/noise_curves/ET_D_psd.txt', asd_file='None')]\n",
      "\n",
      "\n"
     ]
    }
   ],
   "source": [
    "# loading GWSNR class from the gwsnr package\n",
    "from gwsnr import GWSNR\n",
    "\n",
    "# initializing the GWSNR class with default configuration and interpolation method\n",
    "gwsnr = GWSNR(mtot_min=2., mtot_max=6., ifos=['ET'])\n",
    "\n",
    "# Define mass for GW150914\n",
    "mass_1 = 1.4\n",
    "mass_2 = 1.4\n",
    "\n",
    "# Calculate horizon distances for varying masses\n",
    "d_hor_numerical, _, _ = gwsnr.horizon_distance_numerical(mass_1=mass_1, mass_2=mass_2)\n",
    "\n",
    "D_hor_ET = d_hor_numerical['optimal_snr_net']  # Array of horizon distances (Mpc)"
   ]
  },
  {
   "cell_type": "code",
   "execution_count": 9,
   "id": "eec30331",
   "metadata": {},
   "outputs": [
    {
     "data": {
      "text/plain": [
       "0.9858398077620325"
      ]
     },
     "execution_count": 9,
     "metadata": {},
     "output_type": "execute_result"
    }
   ],
   "source": [
    "z_max_ET = ler.luminosity_distance_to_z(np.array([D_hor_ET]))[0]\n",
    "z_max_ET"
   ]
  },
  {
   "cell_type": "code",
   "execution_count": 10,
   "id": "4766f9ee",
   "metadata": {},
   "outputs": [
    {
     "name": "stdout",
     "output_type": "stream",
     "text": [
      "\n",
      "Initializing GWSNR class...\n",
      "\n",
      "Interpolator will be loaded for ET1 detector from ./interpolator_pickle/ET1/partialSNR_dict_1.pickle\n",
      "Interpolator will be loaded for ET2 detector from ./interpolator_pickle/ET2/partialSNR_dict_1.pickle\n",
      "Interpolator will be loaded for ET3 detector from ./interpolator_pickle/ET3/partialSNR_dict_1.pickle\n",
      "Interpolator will be loaded for CE detector from ./interpolator_pickle/CE/partialSNR_dict_1.pickle\n",
      "\n",
      "Chosen GWSNR initialization parameters:\n",
      "\n",
      "npool:  4\n",
      "snr type:  interpolation_no_spins\n",
      "waveform approximant:  IMRPhenomD\n",
      "sampling frequency:  2048.0\n",
      "minimum frequency (fmin):  20.0\n",
      "mtot=mass1+mass2\n",
      "min(mtot):  2.0\n",
      "max(mtot) (with the given fmin=20.0): 6.0\n",
      "detectors:  ['ET1', 'ET2', 'ET3', 'CE']\n",
      "psds:  [PowerSpectralDensity(psd_file='/Users/phurailatpamhemantakumar/anaconda3/envs/ler/lib/python3.10/site-packages/bilby/gw/detector/noise_curves/ET_D_psd.txt', asd_file='None'), PowerSpectralDensity(psd_file='/Users/phurailatpamhemantakumar/anaconda3/envs/ler/lib/python3.10/site-packages/bilby/gw/detector/noise_curves/ET_D_psd.txt', asd_file='None'), PowerSpectralDensity(psd_file='/Users/phurailatpamhemantakumar/anaconda3/envs/ler/lib/python3.10/site-packages/bilby/gw/detector/noise_curves/ET_D_psd.txt', asd_file='None'), PowerSpectralDensity(psd_file='/Users/phurailatpamhemantakumar/anaconda3/envs/ler/lib/python3.10/site-packages/bilby/gw/detector/noise_curves/CE_psd.txt', asd_file='None')]\n",
      "\n",
      "\n"
     ]
    }
   ],
   "source": [
    "# loading GWSNR class from the gwsnr package\n",
    "from gwsnr import GWSNR\n",
    "\n",
    "# initializing the GWSNR class with default configuration and interpolation method\n",
    "gwsnr = GWSNR(mtot_min=2., mtot_max=6., ifos=['ET', 'CE'])\n",
    "\n",
    "\n",
    "# Define mass for GW150914\n",
    "mass_1 = 1.4\n",
    "mass_2 = 1.4\n",
    "\n",
    "# Calculate horizon distances for varying masses\n",
    "d_hor_numerical, _, _ = gwsnr.horizon_distance_numerical(mass_1=mass_1, mass_2=mass_2)\n",
    "\n",
    "D_hor_CE = d_hor_numerical['CE']  # Array of horizon distances (Mpc)\n",
    "D_hor_ETCE = d_hor_numerical['optimal_snr_net']  # Array of horizon distances (Mpc)"
   ]
  },
  {
   "cell_type": "code",
   "execution_count": 11,
   "id": "abd2e746",
   "metadata": {},
   "outputs": [
    {
     "name": "stdout",
     "output_type": "stream",
     "text": [
      "z_max_CE: 1.9743360027490944, z_max_ETCE: 1.8204629046823522\n"
     ]
    }
   ],
   "source": [
    "z_max_CE = ler.luminosity_distance_to_z(np.array([D_hor_CE]))[0]\n",
    "z_max_ETCE = ler.luminosity_distance_to_z(np.array([D_hor_ETCE]))[0]\n",
    "print(f\"z_max_CE: {z_max_CE}, z_max_ETCE: {z_max_ETCE}\")"
   ]
  },
  {
   "cell_type": "code",
   "execution_count": 15,
   "id": "13304ebb",
   "metadata": {},
   "outputs": [
    {
     "data": {
      "image/png": "[encoded data removed]",
      "text/plain": [
       "<Figure size 800x400 with 1 Axes>"
      ]
     },
     "metadata": {},
     "output_type": "display_data"
    }
   ],
   "source": [
    "# create a bar plot\n",
    "\n",
    "plt.rcParams.update({\n",
    "    \"text.usetex\": True,\n",
    "    \"font.family\": \"serif\",\n",
    "    \"font.serif\": [\"Computer Modern Roman\"],    \n",
    "    \"font.size\": 12\n",
    "})\n",
    "plt.figure(figsize=(8., 4.))    \n",
    "\n",
    "bars = plt.bar(['L1', 'H1', 'V1', 'L1+H1+V1', 'ET', 'CE'],\n",
    "    [D_hor_L1, D_hor_H1, D_hor_V1, D_hor_L1H1V1, D_hor_ET, D_hor_CE],\n",
    "    color=['C0', 'C1', 'C2', 'C3', 'C4', 'C5'],\n",
    "    alpha=0.8)\n",
    "\n",
    "# Add z values at the top of each bar\n",
    "z_values = [z_max_L1, z_max_H1, z_max_L1, z_max_L1H1V1, z_max_ET, z_max_CE]\n",
    "for bar, z_val in zip(bars, z_values):\n",
    "    plt.text(bar.get_x() + bar.get_width()/2, bar.get_height() * 1.05, \n",
    "         f'z={z_val:.3f}', ha='center', va='bottom', fontsize=10)\n",
    "\n",
    "plt.ylabel(r'$D_{\\rm hor}$ (Mpc)')\n",
    "plt.xlabel('Detector')\n",
    "plt.yscale('log')\n",
    "plt.ylim(10., 40000.)\n",
    "plt.grid(alpha=0.5)\n",
    "plt.tight_layout()\n",
    "plt.savefig('../_static/horizon_distance_for_BNS.png')\n",
    "plt.show()"
   ]
  },
  {
   "cell_type": "code",
   "execution_count": null,
   "id": "55726baa",
   "metadata": {},
   "outputs": [],
   "source": []
  },
  {
   "cell_type": "code",
   "execution_count": null,
   "id": "87cb9b2d",
   "metadata": {},
   "outputs": [],
   "source": []
  }
 ],
 "metadata": {
  "kernelspec": {
   "display_name": "ler",
   "language": "python",
   "name": "ler"
  },
  "language_info": {
   "codemirror_mode": {
    "name": "ipython",
    "version": 3
   },
   "file_extension": ".py",
   "mimetype": "text/x-python",
   "name": "python",
   "nbconvert_exporter": "python",
   "pygments_lexer": "ipython3",
   "version": "3.10.18"
  }
 },
 "nbformat": 4,
 "nbformat_minor": 5
}
