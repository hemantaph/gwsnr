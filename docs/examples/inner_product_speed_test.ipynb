{
 "cells": [
  {
   "cell_type": "markdown",
   "id": "6d0058f2",
   "metadata": {},
   "source": [
    "# Inner-product speed test"
   ]
  },
  {
   "cell_type": "code",
   "execution_count": 7,
   "id": "7f1705c5",
   "metadata": {},
   "outputs": [],
   "source": [
    "import numpy as np\n",
    "import matplotlib.pyplot as plt\n",
    "from datetime import datetime\n",
    "\n",
    "import bilby\n",
    "from bilby.gw.utils import calculate_time_to_merger, noise_weighted_inner_product\n",
    "# dont print bilby output\n",
    "bilby.core.utils.logger.setLevel(\"ERROR\")\n",
    "\n",
    "from gwsnr.utils import get_gw_parameters"
   ]
  },
  {
   "cell_type": "markdown",
   "id": "88d65e2d",
   "metadata": {},
   "source": [
    "## SNR with `bilby`\n",
    "\n",
    "* This traditional method will be compared with `gwsnr` inner-product SNR."
   ]
  },
  {
   "cell_type": "code",
   "execution_count": 13,
   "id": "f901a0c7",
   "metadata": {},
   "outputs": [],
   "source": [
    "# Waveform arguments for waveform generation\n",
    "output_jsonfile = 'inner_product_bilby.json'\n",
    "waveform_approximant = 'IMRphenomD'\n",
    "minimum_frequency = 20.0\n",
    "sampling_frequency = 2048.0\n",
    "\n",
    "waveform_arguments = dict(\n",
    "    waveform_approximant=waveform_approximant,\n",
    "    reference_frequency=20.0,\n",
    "    minimum_frequency=minimum_frequency,\n",
    ")\n",
    "\n",
    "# psd objects\n",
    "psds = dict()\n",
    "psds[\"L1\"] = \"aLIGO_O4_high_asd.txt\"\n",
    "psds[\"H1\"] = \"aLIGO_O4_high_asd.txt\"\n",
    "psds[\"V1\"] = \"AdV_asd.txt\"\n",
    "list_of_detectors = ['L1', 'H1', 'V1']\n",
    "ifos = bilby.gw.detector.InterferometerList(list_of_detectors)\n",
    "psds_objects = []\n",
    "for i, det in enumerate(list_of_detectors):\n",
    "    psds_objects.append(\n",
    "            bilby.gw.detector.PowerSpectralDensity(asd_file=psds[det])\n",
    "        )\n",
    "\n",
    "def bilby_inner_product(mass_1=10,\n",
    "        mass_2=10,\n",
    "        luminosity_distance=100.0,\n",
    "        theta_jn=0.0,\n",
    "        psi=0.0,\n",
    "        phase=0.0,\n",
    "        geocent_time=1246527224.169434,\n",
    "        ra=0.0,\n",
    "        dec=0.0,\n",
    "        a_1=0.0,\n",
    "        a_2=0.0,\n",
    "        tilt_1=0.0,\n",
    "        tilt_2=0.0,\n",
    "        phi_12=0.0,\n",
    "        phi_jl=0.0,\n",
    "        lambda_1=0.0,\n",
    "        lambda_2=0.0,\n",
    "        eccentricity=0.0,\n",
    "        gw_param_dict=False,\n",
    "        mtot_min=9.96, \n",
    "        mtot_max=235.0,\n",
    "        mtot_cut=True,\n",
    "        fixed_duration=None,\n",
    "        duration_min=None,\n",
    "        duration_max=None,\n",
    "    ):\n",
    "\n",
    "    # if gw_param_dict is given, then use that\n",
    "    if gw_param_dict is not False:\n",
    "        mass_1, mass_2, luminosity_distance, theta_jn, psi, phase, geocent_time, ra, dec, a_1, a_2, tilt_1, tilt_2, phi_12, phi_jl, lambda_1, lambda_2, eccentricity  = get_gw_parameters(gw_param_dict)\n",
    "    else:\n",
    "        mass_1, mass_2, luminosity_distance, theta_jn, psi, phase, geocent_time, ra, dec, a_1, a_2, tilt_1, tilt_2, phi_12, phi_jl, lambda_1, lambda_2, eccentricity = get_gw_parameters(dict(mass_1=mass_1, mass_2=mass_2, luminosity_distance=luminosity_distance, theta_jn=theta_jn, psi=psi, phase=phase, geocent_time=geocent_time, ra=ra, dec=dec, a_1=a_1, a_2=a_2, tilt_1=tilt_1, tilt_2=tilt_2, phi_12=phi_12, phi_jl=phi_jl, lambda_1=lambda_1, lambda_2=lambda_2, eccentricity=eccentricity))\n",
    "\n",
    "    if mtot_cut:\n",
    "        mtot = mass_1 + mass_2\n",
    "        n = np.where((mtot >= mtot_min) & (mtot <= mtot_max))[0]\n",
    "    else:\n",
    "        n = np.arange(len(mass_1))\n",
    "\n",
    "    opt_snr_all = np.zeros((len(list_of_detectors), len(mass_1)))\n",
    "    opt_snr_effective = np.zeros(len(mass_1))\n",
    "\n",
    "    for idx in n:\n",
    "\n",
    "        # IMPORTANT: time duration calculation for each of the mass combination\n",
    "        if fixed_duration:\n",
    "            duration = fixed_duration\n",
    "        else:\n",
    "            safety = 1.1\n",
    "            approx_duration = safety * calculate_time_to_merger(mass_1[idx], mass_2[idx], minimum_frequency)\n",
    "            duration = np.ceil(approx_duration + 2.0)\n",
    "\n",
    "            if duration_max and (duration > duration_max):\n",
    "                duration = duration_max  # IMRPheonomXPHM has maximum duration of 371s\n",
    "            if duration_min and (duration < duration_min):\n",
    "                duration = duration_min\n",
    "\n",
    "        waveform_generator = bilby.gw.WaveformGenerator(\n",
    "            duration=duration,\n",
    "            sampling_frequency=sampling_frequency,\n",
    "            frequency_domain_source_model=bilby.gw.source.lal_binary_black_hole,\n",
    "            waveform_arguments=waveform_arguments,\n",
    "        )\n",
    "\n",
    "        injection_parameters = dict(\n",
    "            mass_1=mass_1[idx],\n",
    "            mass_2=mass_2[idx],\n",
    "            luminosity_distance=luminosity_distance[idx],\n",
    "            geocent_time=geocent_time[idx],\n",
    "            theta_jn=theta_jn[idx],\n",
    "            ra=ra[idx],\n",
    "            dec=dec[idx],\n",
    "            psi=psi[idx],\n",
    "            phase=phase[idx],\n",
    "            a_1=a_1[idx],\n",
    "            a_2=a_2[idx],\n",
    "            tilt_1=tilt_1[idx],\n",
    "            tilt_2=tilt_2[idx],\n",
    "            phi_12=phi_12[idx],\n",
    "            phi_jl=phi_jl[idx],\n",
    "        )\n",
    "\n",
    "        polas = waveform_generator.frequency_domain_strain(parameters=injection_parameters)\n",
    "\n",
    "        opt_snr_dets = []\n",
    "        snr_effective = 0.\n",
    "        for j, det in enumerate(list_of_detectors):\n",
    "\n",
    "            # need to compute the inner product for\n",
    "            p_array = psds_objects[j].get_power_spectral_density_array(waveform_generator.frequency_array)\n",
    "\n",
    "            idx2 = (p_array != 0.0) & (p_array != np.inf)\n",
    "            hp_inner_hp = noise_weighted_inner_product(\n",
    "                polas[\"plus\"][idx2],\n",
    "                polas[\"plus\"][idx2],\n",
    "                p_array[idx2],\n",
    "                waveform_generator.duration,\n",
    "            )\n",
    "            hc_inner_hc = noise_weighted_inner_product(\n",
    "                polas[\"cross\"][idx2],\n",
    "                polas[\"cross\"][idx2],\n",
    "                p_array[idx2],\n",
    "                waveform_generator.duration,\n",
    "            )\n",
    "\n",
    "            Fp = ifos[j].antenna_response(\n",
    "                ra=ra[idx],\n",
    "                dec=dec[idx],\n",
    "                time=geocent_time[idx],\n",
    "                psi=psi[idx],\n",
    "                mode='plus'\n",
    "            )\n",
    "            Fc = ifos[j].antenna_response(\n",
    "                ra=ra[idx],\n",
    "                dec=dec[idx],\n",
    "                time=geocent_time[idx],\n",
    "                psi=psi[idx],\n",
    "                mode='cross'\n",
    "            )\n",
    "\n",
    "            snrs_sq = abs((Fp**2) * hp_inner_hp + (Fc**2) * hc_inner_hc)\n",
    "            snr_effective += snrs_sq\n",
    "\n",
    "            opt_snr_dets.append(np.sqrt(snrs_sq))\n",
    "\n",
    "        opt_snr_all[:,idx] = opt_snr_dets\n",
    "        opt_snr_effective[idx] = np.sqrt(snr_effective)\n",
    "\n",
    "    # organizing the snr dictionary\n",
    "    optimal_snr = dict()\n",
    "    for j, det in enumerate(list_of_detectors):\n",
    "        optimal_snr[det] = opt_snr_all[j]\n",
    "\n",
    "    optimal_snr[\"optimal_snr_net\"] = opt_snr_effective\n",
    "    return optimal_snr"
   ]
  },
  {
   "cell_type": "code",
   "execution_count": 2,
   "id": "16b204bc",
   "metadata": {},
   "outputs": [],
   "source": [
    "from ler.utils import load_json\n",
    "\n",
    "param_dict = load_json('param_dict_bbh.json')\n",
    "# convert to np.array\n",
    "param_dict_1e5 = {key: np.array(value) for key, value in param_dict.items()}"
   ]
  },
  {
   "cell_type": "code",
   "execution_count": 19,
   "id": "74ba72ed",
   "metadata": {},
   "outputs": [],
   "source": [
    "# gerneral case, random parameters\n",
    "# add random seed for reproducibility\n",
    "np.random.seed(0)\n",
    "nsamples = np.array([1e4, 2e4, 3e4, 4e4, 5e4, 6e4, 7e4, 8e4, 9e4, 1e5])\n",
    "def run_time_cal_bilby(nsamples):\n",
    "    \n",
    "    time_list = []\n",
    "    for n in nsamples:\n",
    "        # select n samples for each values in the dict\n",
    "        idx = np.random.choice(len(param_dict_1e5['mass_1']), size=int(n), replace=False)\n",
    "        param_dict = {key: value[idx] for key, value in param_dict_1e5.items()}\n",
    "\n",
    "        # measure the time taken for SNR calculation\n",
    "        start_time = datetime.now()\n",
    "        snr = bilby_inner_product(gw_param_dict=param_dict)\n",
    "        end_time = datetime.now()\n",
    "        execution_time = (end_time - start_time).total_seconds() * 1000  # convert to milliseconds\n",
    "\n",
    "        time_list.append(execution_time)  # average time over 10 runs\n",
    "\n",
    "    return nsamples, np.array(time_list)"
   ]
  },
  {
   "cell_type": "code",
   "execution_count": 8,
   "id": "da03db4b",
   "metadata": {},
   "outputs": [],
   "source": [
    "# _, run_time_bilby_inner_product = run_time_cal_bilby(nsamples)\n",
    "# # save\n",
    "# np.save('run_time_bilby_inner_product.npy', run_time_bilby_inner_product)\n",
    "# load\n",
    "run_time_bilby_inner_product = np.load('run_time_bilby_inner_product.npy')"
   ]
  },
  {
   "cell_type": "code",
   "execution_count": 4,
   "id": "3aae7b9e",
   "metadata": {},
   "outputs": [
    {
     "data": {
      "text/plain": [
       "array([ 7675.132, 15763.178, 21293.586, 31483.498, 39764.478,\n",
       "       45889.148, 50434.777, 60968.971, 66952.214, 74634.555])"
      ]
     },
     "execution_count": 4,
     "metadata": {},
     "output_type": "execute_result"
    }
   ],
   "source": [
    "run_time_bilby_inner_product"
   ]
  },
  {
   "cell_type": "markdown",
   "id": "585d3522",
   "metadata": {},
   "source": [
    "## SNR with `gwsnr`\n",
    "\n",
    "* `gwsnr` inner-product SNR computation is significantly faster than the traditional `bilby` method due to two key optimizations:\n",
    "\n",
    "    * **JIT compilation**: Utilizes `numba.njit` for just-in-time compilation of computationally intensive functions, including antenna response calculations and power spectral density interpolation.\n",
    "\n",
    "    * **Parallel processing**: Leverages multi-processing to distribute SNR calculations across multiple CPU cores, enabling parallel computation of large parameter sets."
   ]
  },
  {
   "cell_type": "code",
   "execution_count": 23,
   "id": "e567af71",
   "metadata": {},
   "outputs": [
    {
     "name": "stdout",
     "output_type": "stream",
     "text": [
      "\n",
      "Initializing GWSNR class...\n",
      "\n",
      "psds not given. Choosing bilby's default psds\n",
      "\n",
      "\n"
     ]
    }
   ],
   "source": [
    "import numpy as np\n",
    "import matplotlib.pyplot as plt\n",
    "from datetime import datetime\n",
    "from gwsnr import GWSNR\n",
    "\n",
    "gwsnr = GWSNR(npool=4, snr_type='inner_product', gwsnr_verbose=False, multiprocessing_verbose=False, mtot_cut=True)"
   ]
  },
  {
   "cell_type": "code",
   "execution_count": 24,
   "id": "625eb4e2",
   "metadata": {},
   "outputs": [],
   "source": [
    "# gerneral case, random parameters\n",
    "# add random seed for reproducibility\n",
    "np.random.seed(0)\n",
    "nsamples = np.array([1e4, 2e4, 3e4, 4e4, 5e4, 6e4, 7e4, 8e4, 9e4, 1e5])\n",
    "def run_time_cal_gwsnr(nsamples):\n",
    "    \n",
    "    time_list = []\n",
    "    for n in nsamples:\n",
    "        # select n samples for each values in the dict\n",
    "        idx = np.random.choice(len(param_dict_1e5['mass_1']), size=int(n), replace=False)\n",
    "        param_dict = {key: value[idx] for key, value in param_dict_1e5.items()}\n",
    "        \n",
    "        # measure the time taken for SNR calculation\n",
    "        start_time = datetime.now()\n",
    "        snr = gwsnr.compute_bilby_snr(gw_param_dict=param_dict)\n",
    "        end_time = datetime.now()\n",
    "        execution_time = (end_time - start_time).total_seconds() * 1000  # convert to milliseconds\n",
    "\n",
    "        time_list.append(execution_time)  # average time over 10 runs\n",
    "\n",
    "    return nsamples, np.array(time_list)"
   ]
  },
  {
   "cell_type": "code",
   "execution_count": 9,
   "id": "dec9ac49",
   "metadata": {},
   "outputs": [],
   "source": [
    "# _, run_time_gwsnr_inner_product_4cpu = run_time_cal_gwsnr(nsamples)\n",
    "# # save\n",
    "# np.save('run_time_gwsnr_inner_product_4cpu.npy', run_time_gwsnr_inner_product_4cpu)\n",
    "# load\n",
    "run_time_gwsnr_inner_product_4cpu = np.load('run_time_gwsnr_inner_product_4cpu.npy')"
   ]
  },
  {
   "cell_type": "code",
   "execution_count": 11,
   "id": "672ab42e",
   "metadata": {},
   "outputs": [
    {
     "data": {
      "image/png": "[encoded data removed]",
      "text/plain": [
       "<Figure size 400x400 with 1 Axes>"
      ]
     },
     "metadata": {},
     "output_type": "display_data"
    }
   ],
   "source": [
    "# plotting the run time\n",
    "plt.figure(figsize=(4, 4))\n",
    "plt.rcParams.update({\n",
    "    \"text.usetex\": True,\n",
    "    \"font.family\": \"serif\",\n",
    "    \"font.serif\": [\"Computer Modern Roman\"],\n",
    "})\n",
    "nsamples = np.array([1e4, 2e4, 3e4, 4e4, 5e4, 6e4, 7e4, 8e4, 9e4, 1e5])\n",
    "plt.plot(nsamples, run_time_bilby_inner_product/1000, marker='o', linestyle='-', color='C0', label='bilby: 1 CPU core')\n",
    "# plt.plot(nsamples, run_time_gwsnr_inner_product/1000, marker='o', linestyle='-', color='C1', label='gwsnr: 8 CPU cores')\n",
    "plt.plot(nsamples, run_time_gwsnr_inner_product_4cpu/1000, marker='o', linestyle='-', color='C1', label='gwsnr: 4 CPU cores')\n",
    "plt.xlabel('Number of samples')\n",
    "plt.ylabel('Run time (s)')\n",
    "plt.xlim(10000, 100000)\n",
    "# plt.xscale('log')\n",
    "# plt.yscale('log')\n",
    "# legend\n",
    "legend = plt.legend(handlelength=1.5, loc='upper left', bbox_to_anchor=(0.0, 1.0), frameon=True, fontsize=12, edgecolor='lightgray')\n",
    "legend.get_frame().set_boxstyle('Round', pad=0.0, rounding_size=0.2)\n",
    "# Modify line width for legend entries\n",
    "for handle in legend.get_lines():\n",
    "    handle.set_linewidth(2)\n",
    "    handle.set_alpha(0.8)\n",
    "\n",
    "plt.grid(alpha=0.4)\n",
    "plt.tight_layout()\n",
    "plt.savefig('../_static/inner_product_speed_test.png', dpi=300, bbox_inches='tight')\n",
    "plt.show()"
   ]
  },
  {
   "cell_type": "code",
   "execution_count": 6,
   "id": "4bef809a",
   "metadata": {},
   "outputs": [
    {
     "data": {
      "text/plain": [
       "array([1.25976002, 1.73515721, 1.70034274, 2.02584962,\n",
       "       1.92645184, 1.85569029, 1.91915557, 1.91947673,\n",
       "       2.02773713, 2.03936093])"
      ]
     },
     "execution_count": 6,
     "metadata": {},
     "output_type": "execute_result"
    }
   ],
   "source": [
    "run_time_bilby_inner_product/run_time_gwsnr_inner_product_4cpu"
   ]
  },
  {
   "cell_type": "code",
   "execution_count": null,
   "id": "8893bcf7",
   "metadata": {},
   "outputs": [],
   "source": []
  },
  {
   "cell_type": "code",
   "execution_count": 10,
   "id": "c68e6bdb",
   "metadata": {},
   "outputs": [
    {
     "data": {
      "text/plain": [
       "91785.348"
      ]
     },
     "execution_count": 10,
     "metadata": {},
     "output_type": "execute_result"
    }
   ],
   "source": [
    "run_time_bilby_inner_product[-1]/"
   ]
  },
  {
   "cell_type": "code",
   "execution_count": 11,
   "id": "078506cc",
   "metadata": {},
   "outputs": [
    {
     "name": "stdout",
     "output_type": "stream",
     "text": [
      "run_time_bilby_inner_product[-1]: 91785.348\n",
      "run_time_jax_gpu_1e5: 25.10372972972973\n",
      "speedup: 3656.2434741042034\n"
     ]
    }
   ],
   "source": [
    "# given\n",
    "nsamples = np.linspace(1000, 1000000, 10)\n",
    "run_time_jax_gpu = np.array([11.159,  26.794,  34.861,  43.266, 100.089, 108.236, 125.064, 131.672, 139.722, 145.458])\n",
    "# find run_time_jax_gpu at 1e5\n",
    "run_time_jax_gpu_1e5 = np.interp(1e5, nsamples, run_time_jax_gpu)\n",
    "\n",
    "# compare run_time_bilby_inner_product[-1] (1e5) with run_time_jax_gpu_1e5\n",
    "print(\"run_time_bilby_inner_product[-1]:\", run_time_bilby_inner_product[-1])\n",
    "print(\"run_time_jax_gpu_1e5:\", run_time_jax_gpu_1e5)\n",
    "print(\"speedup:\", run_time_bilby_inner_product[-1] / run_time_jax_gpu_1e5)"
   ]
  },
  {
   "cell_type": "code",
   "execution_count": 18,
   "id": "ee65ce5d",
   "metadata": {},
   "outputs": [],
   "source": [
    "\n",
    "nsamples = np.array([1e4, 2e4, 3e4, 4e4, 5e4, 6e4, 7e4, 8e4, 9e4, 1e5])\n",
    "# run_time_bilby_inner_product\n",
    "# fit a straight line\n",
    "from scipy import stats\n",
    "\n",
    "slope, intercept, r_value, p_value, std_err = stats.linregress(nsamples, run_time_bilby_inner_product)\n",
    "\n",
    "# extrapolate to 1e6\n",
    "extrapolated_time = slope * 1e6 + intercept"
   ]
  },
  {
   "cell_type": "code",
   "execution_count": 19,
   "id": "824db7e3",
   "metadata": {},
   "outputs": [
    {
     "data": {
      "text/plain": [
       "910188.7010909091"
      ]
     },
     "execution_count": 19,
     "metadata": {},
     "output_type": "execute_result"
    }
   ],
   "source": [
    "extrapolated_time"
   ]
  },
  {
   "cell_type": "code",
   "execution_count": 20,
   "id": "93e81c5a",
   "metadata": {},
   "outputs": [
    {
     "data": {
      "text/plain": [
       "6257.398706780714"
      ]
     },
     "execution_count": 20,
     "metadata": {},
     "output_type": "execute_result"
    }
   ],
   "source": [
    "extrapolated_time/145.458"
   ]
  },
  {
   "cell_type": "code",
   "execution_count": null,
   "id": "aa4dbc09",
   "metadata": {},
   "outputs": [],
   "source": []
  }
 ],
 "metadata": {
  "kernelspec": {
   "display_name": "ler",
   "language": "python",
   "name": "ler"
  },
  "language_info": {
   "codemirror_mode": {
    "name": "ipython",
    "version": 3
   },
   "file_extension": ".py",
   "mimetype": "text/x-python",
   "name": "python",
   "nbconvert_exporter": "python",
   "pygments_lexer": "ipython3",
   "version": "3.10.18"
  }
 },
 "nbformat": 4,
 "nbformat_minor": 5
}
