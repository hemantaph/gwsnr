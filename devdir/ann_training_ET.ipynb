{
 "cells": [
  {
   "cell_type": "markdown",
   "metadata": {},
   "source": [
    "# SNR finder ANN model training"
   ]
  },
  {
   "cell_type": "code",
   "execution_count": 1,
   "metadata": {},
   "outputs": [],
   "source": [
    "import numpy as np\n",
    "import matplotlib.pyplot as plt\n",
    "import pandas as pd\n",
    "from scipy.optimize import curve_fit\n",
    "from ler.utils import add_dict_values, append_json, get_param_from_json, load_json, save_json\n",
    "import tensorflow as tf\n",
    "\n",
    "import pickle\n",
    "from sklearn.preprocessing import StandardScaler\n",
    "from sklearn.model_selection import train_test_split\n",
    "from sklearn.metrics import confusion_matrix, accuracy_score\n",
    "from tensorflow.keras.models import load_model\n",
    "\n",
    "from gwsnr import antenna_response_array, cubic_spline_interpolator2d"
   ]
  },
  {
   "cell_type": "code",
   "execution_count": 2,
   "metadata": {},
   "outputs": [],
   "source": [
    "# # Uncomment to generate new data to test the model\n",
    "\n",
    "# # generating astrophysical data for testing using `ler` package\n",
    "# from ler.rates import LeR\n",
    "# from ler.utils import get_param_from_json\n",
    "\n",
    "# ler = LeR(\n",
    "#     npool=8,\n",
    "#     z_max=10,  # becareful with this value\n",
    "#     spin_zero=False,\n",
    "#     spin_precession=True,\n",
    "#     verbose=False,\n",
    "#     mtot_max=500,\n",
    "#     minimum_frequency=10,\n",
    "#     waveform_approximant='IMRPhenomXPHM',\n",
    "#     snr_type='inner_product',\n",
    "#     ifos=['ET', 'CE'],\n",
    "# )\n",
    "\n",
    "# size_ = 50000\n",
    "# ler.batch_size = 50000\n",
    "# ler.unlensed_cbc_statistics(size=size_, output_jsonfile='unlensed_param_testing_ETCE.json', resume=True);"
   ]
  },
  {
   "cell_type": "code",
   "execution_count": 4,
   "metadata": {},
   "outputs": [
    {
     "name": "stdout",
     "output_type": "stream",
     "text": [
      "Interpolator will be generated for ET1 detector at ./interpolator_pickle/ET1/partialSNR_dict_1.pickle\n",
      "Interpolator will be generated for ET2 detector at ./interpolator_pickle/ET2/partialSNR_dict_1.pickle\n",
      "Interpolator will be generated for ET3 detector at ./interpolator_pickle/ET3/partialSNR_dict_1.pickle\n",
      "Interpolator will be generated for CE detector at ./interpolator_pickle/CE/partialSNR_dict_1.pickle\n",
      "Please be patient while the interpolator is generated\n",
      "Generating interpolator for ['ET1', 'ET2', 'ET3', 'CE'] detectors\n"
     ]
    },
    {
     "name": "stderr",
     "output_type": "stream",
     "text": [
      "interpolation for each mass_ratios: 100%|███████████████████████████| 50/50 [05:58<00:00,  7.17s/it]"
     ]
    },
    {
     "name": "stdout",
     "output_type": "stream",
     "text": [
      "\n",
      "Chosen GWSNR initialization parameters:\n",
      "\n",
      "npool:  4\n",
      "snr type:  interpolation\n",
      "waveform approximant:  IMRPhenomXPHM\n",
      "sampling frequency:  2048.0\n",
      "minimum frequency (fmin):  10\n",
      "mtot=mass1+mass2\n",
      "min(mtot):  2.0\n",
      "max(mtot) (with the given fmin=10): 369.97199706893525\n",
      "detectors:  ['ET1', 'ET2', 'ET3', 'CE']\n",
      "psds:  [PowerSpectralDensity(psd_file='/Users/phurailatpamhemantakumar/anaconda3/envs/ler/lib/python3.10/site-packages/bilby/gw/detector/noise_curves/ET_D_psd.txt', asd_file='None'), PowerSpectralDensity(psd_file='/Users/phurailatpamhemantakumar/anaconda3/envs/ler/lib/python3.10/site-packages/bilby/gw/detector/noise_curves/ET_D_psd.txt', asd_file='None'), PowerSpectralDensity(psd_file='/Users/phurailatpamhemantakumar/anaconda3/envs/ler/lib/python3.10/site-packages/bilby/gw/detector/noise_curves/ET_D_psd.txt', asd_file='None'), PowerSpectralDensity(psd_file='/Users/phurailatpamhemantakumar/anaconda3/envs/ler/lib/python3.10/site-packages/bilby/gw/detector/noise_curves/CE_psd.txt', asd_file='None')]\n",
      "min(ratio):  0.1\n",
      "max(ratio):  1.0\n",
      "mtot resolution:  500\n",
      "ratio resolution:  50\n",
      "interpolator directory:  ./interpolator_pickle\n"
     ]
    },
    {
     "name": "stderr",
     "output_type": "stream",
     "text": [
      "\n"
     ]
    }
   ],
   "source": [
    "# let's generate IMRPhenomXPHM (spinless) interpolartor for the partial_half (refer to gwsnr documentation)\n",
    "# One of the training input is partial_snr\n",
    "from gwsnr import GWSNR\n",
    "gwsnr = GWSNR(snr_type='interpolation',\n",
    "    mtot_max=500,\n",
    "    minimum_frequency=10,\n",
    "    waveform_approximant='IMRPhenomXPHM',\n",
    "    ifos=['ET', 'CE'],\n",
    ")"
   ]
  },
  {
   "cell_type": "markdown",
   "metadata": {},
   "source": [
    "### Input-Output generator function"
   ]
  },
  {
   "cell_type": "code",
   "execution_count": 5,
   "metadata": {},
   "outputs": [],
   "source": [
    "def input_data(idx, params):\n",
    "    \"\"\"\n",
    "        Function to generate input and output data for the neural network\n",
    "    \"\"\"\n",
    "\n",
    "    mass_1 = np.array(params['mass_1'])[idx]\n",
    "    mass_2 = np.array(params['mass_2'])[idx]\n",
    "    luminosity_distance = np.array(params['luminosity_distance'])[idx]\n",
    "    theta_jn = np.array(params['theta_jn'])[idx]\n",
    "    psi = np.array(params['psi'])[idx]\n",
    "    geocent_time = np.array(params['geocent_time'])[idx]\n",
    "    ra = np.array(params['ra'])[idx]\n",
    "    dec = np.array(params['dec'])[idx]\n",
    "    \n",
    "    detector_tensor = gwsnr.detector_tensor_list\n",
    "    snr_halfscaled = np.array(gwsnr.snr_partialsacaled_list)\n",
    "    ratio_arr = gwsnr.ratio_arr\n",
    "    mtot_arr = gwsnr.mtot_arr\n",
    "    \n",
    "    size = len(mass_1)\n",
    "    len_ = len(detector_tensor)\n",
    "    mtot = mass_1 + mass_2\n",
    "    ratio = mass_2 / mass_1\n",
    "    # get array of antenna response\n",
    "    Fp, Fc = antenna_response_array(ra, dec, geocent_time, psi, detector_tensor)\n",
    "\n",
    "    Mc = ((mass_1 * mass_2) ** (3 / 5)) / ((mass_1 + mass_2) ** (1 / 5))\n",
    "    eta = mass_1 * mass_2/(mass_1 + mass_2)**2.\n",
    "    A1 = Mc ** (5.0 / 6.0)\n",
    "    ci_2 = np.cos(theta_jn) ** 2\n",
    "    ci_param = ((1 + np.cos(theta_jn) ** 2) / 2) ** 2\n",
    "    \n",
    "    size = len(mass_1)\n",
    "    snr_half_ = np.zeros((len_,size))\n",
    "    d_eff = np.zeros((len_,size))\n",
    "\n",
    "    # loop over the detectors\n",
    "    for j in range(len_):\n",
    "        # loop over the parameter points\n",
    "        for i in range(size):\n",
    "            snr_half_coeff = snr_halfscaled[j]\n",
    "            snr_half_[j,i] = cubic_spline_interpolator2d(mtot[i], ratio[i], snr_half_coeff, mtot_arr, ratio_arr)\n",
    "            d_eff[j,i] =luminosity_distance[i] / np.sqrt(\n",
    "                    Fp[j,i]**2 * ci_param[i] + Fc[j,i]**2 * ci_2[i]\n",
    "                )\n",
    "\n",
    "    #amp0\n",
    "    amp0 =  A1 / d_eff\n",
    "\n",
    "    # get spin parameters\n",
    "    a_1 = np.array(params['a_1'])[idx]\n",
    "    a_2 = np.array(params['a_2'])[idx]\n",
    "    tilt_1 = np.array(params['tilt_1'])[idx]\n",
    "    tilt_2 = np.array(params['tilt_2'])[idx]\n",
    "\n",
    "    # spinless snr\n",
    "    snr = snr_half_ * amp0\n",
    "\n",
    "    # effective spin\n",
    "    chi_eff = (mass_1 * a_1 * np.cos(tilt_1) + mass_2 * a_2 * np.cos(tilt_2)) / (mass_1 + mass_2)\n",
    "\n",
    "\n",
    "    # input data\n",
    "    XET1 = np.vstack([snr[0], amp0[0], eta, chi_eff, theta_jn]).T\n",
    "    XET2 = np.vstack([snr[1], amp0[1], eta, chi_eff, theta_jn]).T\n",
    "    XET3 = np.vstack([snr[2], amp0[2], eta, chi_eff, theta_jn]).T\n",
    "    XCE = np.vstack([snr[3], amp0[3], eta, chi_eff, theta_jn]).T\n",
    "\n",
    "    return XET1, XET2, XET3, XCE\n",
    "\n",
    "def input_output(idx, params, det='ET1'):\n",
    "\n",
    "    XET1, XET2, XET3, XCE = input_data(idx, params)\n",
    "\n",
    "    if det == 'ET1':\n",
    "        X = XET1\n",
    "        y = np.array(params['ET1'])[idx]\n",
    "    elif det == 'ET2':\n",
    "        X = XET2\n",
    "        y = np.array(params['ET2'])[idx]\n",
    "    elif det == 'ET3':\n",
    "        X = XET3\n",
    "        y = np.array(params['ET3'])[idx]\n",
    "    # elif det == 'CE':\n",
    "    #     X = XCE\n",
    "    #     y = np.array(params['CE'])[idx]\n",
    "    elif det == 'NET':\n",
    "        yET1 = np.array(params['ET1'])[idx]\n",
    "        yET2 = np.array(params['ET2'])[idx]\n",
    "        yET3 = np.array(params['ET3'])[idx]\n",
    "        yET = np.sqrt(yET1**2 + yET2**2 + yET3**2)\n",
    "        # yCE = np.array(params['CE'])[idx]\n",
    "        # yNET = np.sqrt(yET**2 + yCE**2)\n",
    "        yNET = yET\n",
    "        \n",
    "        # return(XET1, yET1, XET2, yET2, XET3, yET3, XCE, yCE, yNET)\n",
    "        return(XET1, yET1, XET2, yET2, XET3, yET3, yNET)\n",
    "\n",
    "    return X, y"
   ]
  },
  {
   "cell_type": "markdown",
   "metadata": {},
   "source": [
    "## For ET detector\n",
    "\n",
    "### Get all necessary data"
   ]
  },
  {
   "cell_type": "code",
   "execution_count": 6,
   "metadata": {},
   "outputs": [
    {
     "name": "stdout",
     "output_type": "stream",
     "text": [
      "size before SNR cut: 697365\n",
      "size after SNR cut: 696708\n"
     ]
    }
   ],
   "source": [
    "# these are pre-generated datas\n",
    "# join all dictionaries into one\n",
    "unlensed_params1 = get_param_from_json(\"ler_data/unlensed_param_ET.json\")\n",
    "\n",
    "# len_ = int(len(unlensed_params1['ET1'])/2)\n",
    "# print(len_)\n",
    "# for key, value in unlensed_params1.items():\n",
    "#     unlensed_params1[key] = value[:len_]\n",
    "\n",
    "unlensed_params2 = get_param_from_json(\"ler_data/joint_new_optsnr_ET1.json\")\n",
    "\n",
    "unlensed_params = add_dict_values(unlensed_params1, unlensed_params2)\n",
    "del unlensed_params1, unlensed_params2\n",
    "\n",
    "# snr = unlensed_params['ET1']\n",
    "# idx = snr>0\n",
    "# for key, value in unlensed_params.items():\n",
    "#     unlensed_params[key] = value[idx]\n",
    "\n",
    "# unlensed_params = get_param_from_json(\"ler_data/unlensed_param_ET.json\")\n",
    "\n",
    "print(f\"size before SNR cut: {len(unlensed_params['ET1'])}\")\n",
    "# set SNR cut\n",
    "idx_constrain = unlensed_params['ET1']<100\n",
    "for key, value in unlensed_params.items():\n",
    "    unlensed_params[key] = value[idx_constrain]\n",
    "\n",
    "print(f\"size after SNR cut: {len(unlensed_params['ET1'])}\")"
   ]
  },
  {
   "cell_type": "code",
   "execution_count": 7,
   "metadata": {},
   "outputs": [
    {
     "data": {
      "image/png": "[encoded data removed]",
      "text/plain": [
       "<Figure size 400x400 with 1 Axes>"
      ]
     },
     "metadata": {},
     "output_type": "display_data"
    }
   ],
   "source": [
    "# visualize the data\n",
    "import matplotlib.pyplot as plt\n",
    "#unlensed_params = get_param_from_json(\"joint_new_optsnr.json\")\n",
    "test = np.array(unlensed_params['ET1'])\n",
    "test = test[test<20]\n",
    "plt.figure(figsize=(4,4))\n",
    "plt.hist(test, bins=30, alpha=0.6, histtype='step', density=True)\n",
    "plt.xlim(0,20)\n",
    "plt.grid(alpha=0.4)\n",
    "plt.show()"
   ]
  },
  {
   "cell_type": "code",
   "execution_count": 8,
   "metadata": {},
   "outputs": [
    {
     "data": {
      "text/plain": [
       "(696708, 5)"
      ]
     },
     "execution_count": 8,
     "metadata": {},
     "output_type": "execute_result"
    }
   ],
   "source": [
    "len_ = len(unlensed_params['ET1'])\n",
    "idx = np.arange(len_)\n",
    "# randomize the train set\n",
    "idx = np.random.permutation(idx)\n",
    "XET1,yET1 = input_output(idx, unlensed_params, det='ET1')\n",
    "np.shape(XET1)"
   ]
  },
  {
   "cell_type": "markdown",
   "metadata": {},
   "source": [
    "* It is expected to have larger error in the sparse region of the input data, e.g. $\\eta<0.2$"
   ]
  },
  {
   "cell_type": "markdown",
   "metadata": {},
   "source": [
    "## Scaling the data"
   ]
  },
  {
   "cell_type": "code",
   "execution_count": 9,
   "metadata": {},
   "outputs": [],
   "source": [
    "X_train, X_test, y_train, y_test = train_test_split(XET1, yET1, test_size = 0.1, random_state = 0)\n",
    "\n",
    "# Uncomment the following if you have not generated the scaler\n",
    "\n",
    "# feature scaling\n",
    "sc = StandardScaler()\n",
    "X_train = sc.fit_transform(X_train)\n",
    "X_test = sc.transform(X_test)\n",
    "\n",
    "# save the scaler\n",
    "pickle.dump(sc, open('scalerET1_final.pkl', 'wb'))\n",
    "\n",
    "# # Uncomment the following if you have already generated the scaler\n",
    "\n",
    "# # load the scaler\n",
    "# scalerET1 = pickle.load(open('scalerET1_final.pkl', 'rb'))\n",
    "# sc = scalerET1\n",
    "# X_train = sc.transform(X_train)\n",
    "# X_test = sc.transform(X_test)"
   ]
  },
  {
   "cell_type": "markdown",
   "metadata": {},
   "source": [
    "### Generate ANN model"
   ]
  },
  {
   "cell_type": "code",
   "execution_count": 10,
   "metadata": {},
   "outputs": [
    {
     "name": "stdout",
     "output_type": "stream",
     "text": [
      "Epoch 1/100\n",
      "\u001b[1m19595/19595\u001b[0m \u001b[32m━━━━━━━━━━━━━━━━━━━━\u001b[0m\u001b[37m\u001b[0m \u001b[1m7s\u001b[0m 340us/step - accuracy: 8.1022e-05 - loss: 26.7634\n",
      "Epoch 2/100\n",
      "\u001b[1m19595/19595\u001b[0m \u001b[32m━━━━━━━━━━━━━━━━━━━━\u001b[0m\u001b[37m\u001b[0m \u001b[1m7s\u001b[0m 333us/step - accuracy: 4.3866e-06 - loss: 3.8817\n",
      "Epoch 3/100\n",
      "\u001b[1m19595/19595\u001b[0m \u001b[32m━━━━━━━━━━━━━━━━━━━━\u001b[0m\u001b[37m\u001b[0m \u001b[1m7s\u001b[0m 331us/step - accuracy: 2.5260e-05 - loss: 3.5139\n",
      "Epoch 4/100\n",
      "\u001b[1m19595/19595\u001b[0m \u001b[32m━━━━━━━━━━━━━━━━━━━━\u001b[0m\u001b[37m\u001b[0m \u001b[1m7s\u001b[0m 368us/step - accuracy: 2.7446e-05 - loss: 3.7995\n",
      "Epoch 5/100\n",
      "\u001b[1m19595/19595\u001b[0m \u001b[32m━━━━━━━━━━━━━━━━━━━━\u001b[0m\u001b[37m\u001b[0m \u001b[1m7s\u001b[0m 343us/step - accuracy: 5.7728e-05 - loss: 3.5808\n",
      "Epoch 6/100\n",
      "\u001b[1m19595/19595\u001b[0m \u001b[32m━━━━━━━━━━━━━━━━━━━━\u001b[0m\u001b[37m\u001b[0m \u001b[1m7s\u001b[0m 336us/step - accuracy: 1.2959e-04 - loss: 3.3529\n",
      "Epoch 7/100\n",
      "\u001b[1m19595/19595\u001b[0m \u001b[32m━━━━━━━━━━━━━━━━━━━━\u001b[0m\u001b[37m\u001b[0m \u001b[1m7s\u001b[0m 335us/step - accuracy: 2.3603e-04 - loss: 3.4217\n",
      "Epoch 8/100\n",
      "\u001b[1m19595/19595\u001b[0m \u001b[32m━━━━━━━━━━━━━━━━━━━━\u001b[0m\u001b[37m\u001b[0m \u001b[1m6s\u001b[0m 327us/step - accuracy: 2.0444e-04 - loss: 3.1391\n",
      "Epoch 9/100\n",
      "\u001b[1m19595/19595\u001b[0m \u001b[32m━━━━━━━━━━━━━━━━━━━━\u001b[0m\u001b[37m\u001b[0m \u001b[1m7s\u001b[0m 331us/step - accuracy: 2.2257e-04 - loss: 2.9304\n",
      "Epoch 10/100\n",
      "\u001b[1m19595/19595\u001b[0m \u001b[32m━━━━━━━━━━━━━━━━━━━━\u001b[0m\u001b[37m\u001b[0m \u001b[1m6s\u001b[0m 330us/step - accuracy: 4.9342e-04 - loss: 2.9196\n",
      "Epoch 11/100\n",
      "\u001b[1m19595/19595\u001b[0m \u001b[32m━━━━━━━━━━━━━━━━━━━━\u001b[0m\u001b[37m\u001b[0m \u001b[1m7s\u001b[0m 331us/step - accuracy: 7.1979e-04 - loss: 2.8737\n",
      "Epoch 12/100\n",
      "\u001b[1m19595/19595\u001b[0m \u001b[32m━━━━━━━━━━━━━━━━━━━━\u001b[0m\u001b[37m\u001b[0m \u001b[1m7s\u001b[0m 333us/step - accuracy: 7.5333e-04 - loss: 2.6405\n",
      "Epoch 13/100\n",
      "\u001b[1m19595/19595\u001b[0m \u001b[32m━━━━━━━━━━━━━━━━━━━━\u001b[0m\u001b[37m\u001b[0m \u001b[1m7s\u001b[0m 335us/step - accuracy: 7.6668e-04 - loss: 2.7907\n",
      "Epoch 14/100\n",
      "\u001b[1m19595/19595\u001b[0m \u001b[32m━━━━━━━━━━━━━━━━━━━━\u001b[0m\u001b[37m\u001b[0m \u001b[1m7s\u001b[0m 336us/step - accuracy: 7.9785e-04 - loss: 2.8539\n",
      "Epoch 15/100\n",
      "\u001b[1m19595/19595\u001b[0m \u001b[32m━━━━━━━━━━━━━━━━━━━━\u001b[0m\u001b[37m\u001b[0m \u001b[1m7s\u001b[0m 342us/step - accuracy: 9.1024e-04 - loss: 2.7642\n",
      "Epoch 16/100\n",
      "\u001b[1m19595/19595\u001b[0m \u001b[32m━━━━━━━━━━━━━━━━━━━━\u001b[0m\u001b[37m\u001b[0m \u001b[1m7s\u001b[0m 341us/step - accuracy: 9.7226e-04 - loss: 2.6719\n",
      "Epoch 17/100\n",
      "\u001b[1m19595/19595\u001b[0m \u001b[32m━━━━━━━━━━━━━━━━━━━━\u001b[0m\u001b[37m\u001b[0m \u001b[1m7s\u001b[0m 344us/step - accuracy: 0.0011 - loss: 2.6342\n",
      "Epoch 18/100\n",
      "\u001b[1m19595/19595\u001b[0m \u001b[32m━━━━━━━━━━━━━━━━━━━━\u001b[0m\u001b[37m\u001b[0m \u001b[1m7s\u001b[0m 346us/step - accuracy: 9.8731e-04 - loss: 2.7133\n",
      "Epoch 19/100\n",
      "\u001b[1m19595/19595\u001b[0m \u001b[32m━━━━━━━━━━━━━━━━━━━━\u001b[0m\u001b[37m\u001b[0m \u001b[1m7s\u001b[0m 337us/step - accuracy: 9.4814e-04 - loss: 2.5286\n",
      "Epoch 20/100\n",
      "\u001b[1m19595/19595\u001b[0m \u001b[32m━━━━━━━━━━━━━━━━━━━━\u001b[0m\u001b[37m\u001b[0m \u001b[1m7s\u001b[0m 339us/step - accuracy: 0.0011 - loss: 2.5198\n",
      "Epoch 21/100\n",
      "\u001b[1m19595/19595\u001b[0m \u001b[32m━━━━━━━━━━━━━━━━━━━━\u001b[0m\u001b[37m\u001b[0m \u001b[1m7s\u001b[0m 347us/step - accuracy: 0.0011 - loss: 2.6856\n",
      "Epoch 22/100\n",
      "\u001b[1m19595/19595\u001b[0m \u001b[32m━━━━━━━━━━━━━━━━━━━━\u001b[0m\u001b[37m\u001b[0m \u001b[1m7s\u001b[0m 350us/step - accuracy: 0.0012 - loss: 2.5757\n",
      "Epoch 23/100\n",
      "\u001b[1m19595/19595\u001b[0m \u001b[32m━━━━━━━━━━━━━━━━━━━━\u001b[0m\u001b[37m\u001b[0m \u001b[1m7s\u001b[0m 346us/step - accuracy: 0.0012 - loss: 2.5465\n",
      "Epoch 24/100\n",
      "\u001b[1m19595/19595\u001b[0m \u001b[32m━━━━━━━━━━━━━━━━━━━━\u001b[0m\u001b[37m\u001b[0m \u001b[1m7s\u001b[0m 350us/step - accuracy: 0.0012 - loss: 2.5921\n",
      "Epoch 25/100\n",
      "\u001b[1m19595/19595\u001b[0m \u001b[32m━━━━━━━━━━━━━━━━━━━━\u001b[0m\u001b[37m\u001b[0m \u001b[1m7s\u001b[0m 347us/step - accuracy: 0.0012 - loss: 2.4776\n",
      "Epoch 26/100\n",
      "\u001b[1m19595/19595\u001b[0m \u001b[32m━━━━━━━━━━━━━━━━━━━━\u001b[0m\u001b[37m\u001b[0m \u001b[1m7s\u001b[0m 346us/step - accuracy: 0.0012 - loss: 2.5762\n",
      "Epoch 27/100\n",
      "\u001b[1m19595/19595\u001b[0m \u001b[32m━━━━━━━━━━━━━━━━━━━━\u001b[0m\u001b[37m\u001b[0m \u001b[1m7s\u001b[0m 371us/step - accuracy: 0.0012 - loss: 2.5391\n",
      "Epoch 28/100\n",
      "\u001b[1m19595/19595\u001b[0m \u001b[32m━━━━━━━━━━━━━━━━━━━━\u001b[0m\u001b[37m\u001b[0m \u001b[1m7s\u001b[0m 350us/step - accuracy: 0.0014 - loss: 2.3992\n",
      "Epoch 29/100\n",
      "\u001b[1m19595/19595\u001b[0m \u001b[32m━━━━━━━━━━━━━━━━━━━━\u001b[0m\u001b[37m\u001b[0m \u001b[1m7s\u001b[0m 345us/step - accuracy: 0.0013 - loss: 2.5864\n",
      "Epoch 30/100\n",
      "\u001b[1m19595/19595\u001b[0m \u001b[32m━━━━━━━━━━━━━━━━━━━━\u001b[0m\u001b[37m\u001b[0m \u001b[1m7s\u001b[0m 344us/step - accuracy: 0.0013 - loss: 2.4505\n",
      "Epoch 31/100\n",
      "\u001b[1m19595/19595\u001b[0m \u001b[32m━━━━━━━━━━━━━━━━━━━━\u001b[0m\u001b[37m\u001b[0m \u001b[1m7s\u001b[0m 345us/step - accuracy: 0.0014 - loss: 2.5150\n",
      "Epoch 32/100\n",
      "\u001b[1m19595/19595\u001b[0m \u001b[32m━━━━━━━━━━━━━━━━━━━━\u001b[0m\u001b[37m\u001b[0m \u001b[1m7s\u001b[0m 346us/step - accuracy: 0.0013 - loss: 2.6842\n",
      "Epoch 33/100\n",
      "\u001b[1m19595/19595\u001b[0m \u001b[32m━━━━━━━━━━━━━━━━━━━━\u001b[0m\u001b[37m\u001b[0m \u001b[1m7s\u001b[0m 348us/step - accuracy: 0.0014 - loss: 2.4911\n",
      "Epoch 34/100\n",
      "\u001b[1m19595/19595\u001b[0m \u001b[32m━━━━━━━━━━━━━━━━━━━━\u001b[0m\u001b[37m\u001b[0m \u001b[1m7s\u001b[0m 345us/step - accuracy: 0.0014 - loss: 2.4455\n",
      "Epoch 35/100\n",
      "\u001b[1m19595/19595\u001b[0m \u001b[32m━━━━━━━━━━━━━━━━━━━━\u001b[0m\u001b[37m\u001b[0m \u001b[1m7s\u001b[0m 348us/step - accuracy: 0.0014 - loss: 2.4055\n",
      "Epoch 36/100\n",
      "\u001b[1m19595/19595\u001b[0m \u001b[32m━━━━━━━━━━━━━━━━━━━━\u001b[0m\u001b[37m\u001b[0m \u001b[1m7s\u001b[0m 344us/step - accuracy: 0.0014 - loss: 2.3989\n",
      "Epoch 37/100\n",
      "\u001b[1m19595/19595\u001b[0m \u001b[32m━━━━━━━━━━━━━━━━━━━━\u001b[0m\u001b[37m\u001b[0m \u001b[1m7s\u001b[0m 345us/step - accuracy: 0.0013 - loss: 2.5042\n",
      "Epoch 38/100\n",
      "\u001b[1m19595/19595\u001b[0m \u001b[32m━━━━━━━━━━━━━━━━━━━━\u001b[0m\u001b[37m\u001b[0m \u001b[1m7s\u001b[0m 335us/step - accuracy: 0.0014 - loss: 2.4227\n",
      "Epoch 39/100\n",
      "\u001b[1m19595/19595\u001b[0m \u001b[32m━━━━━━━━━━━━━━━━━━━━\u001b[0m\u001b[37m\u001b[0m \u001b[1m7s\u001b[0m 357us/step - accuracy: 0.0014 - loss: 2.4068\n",
      "Epoch 40/100\n",
      "\u001b[1m19595/19595\u001b[0m \u001b[32m━━━━━━━━━━━━━━━━━━━━\u001b[0m\u001b[37m\u001b[0m \u001b[1m7s\u001b[0m 332us/step - accuracy: 0.0017 - loss: 2.2608\n",
      "Epoch 41/100\n",
      "\u001b[1m19595/19595\u001b[0m \u001b[32m━━━━━━━━━━━━━━━━━━━━\u001b[0m\u001b[37m\u001b[0m \u001b[1m7s\u001b[0m 356us/step - accuracy: 0.0015 - loss: 2.4923\n",
      "Epoch 42/100\n",
      "\u001b[1m19595/19595\u001b[0m \u001b[32m━━━━━━━━━━━━━━━━━━━━\u001b[0m\u001b[37m\u001b[0m \u001b[1m7s\u001b[0m 351us/step - accuracy: 0.0015 - loss: 2.2568\n",
      "Epoch 43/100\n",
      "\u001b[1m19595/19595\u001b[0m \u001b[32m━━━━━━━━━━━━━━━━━━━━\u001b[0m\u001b[37m\u001b[0m \u001b[1m7s\u001b[0m 369us/step - accuracy: 0.0014 - loss: 2.4013\n",
      "Epoch 44/100\n",
      "\u001b[1m19595/19595\u001b[0m \u001b[32m━━━━━━━━━━━━━━━━━━━━\u001b[0m\u001b[37m\u001b[0m \u001b[1m8s\u001b[0m 387us/step - accuracy: 0.0016 - loss: 2.3562\n",
      "Epoch 45/100\n",
      "\u001b[1m19595/19595\u001b[0m \u001b[32m━━━━━━━━━━━━━━━━━━━━\u001b[0m\u001b[37m\u001b[0m \u001b[1m7s\u001b[0m 366us/step - accuracy: 0.0017 - loss: 2.4159\n",
      "Epoch 46/100\n",
      "\u001b[1m19595/19595\u001b[0m \u001b[32m━━━━━━━━━━━━━━━━━━━━\u001b[0m\u001b[37m\u001b[0m \u001b[1m7s\u001b[0m 341us/step - accuracy: 0.0016 - loss: 2.3025\n",
      "Epoch 47/100\n",
      "\u001b[1m19595/19595\u001b[0m \u001b[32m━━━━━━━━━━━━━━━━━━━━\u001b[0m\u001b[37m\u001b[0m \u001b[1m7s\u001b[0m 341us/step - accuracy: 0.0014 - loss: 2.1889\n",
      "Epoch 48/100\n",
      "\u001b[1m19595/19595\u001b[0m \u001b[32m━━━━━━━━━━━━━━━━━━━━\u001b[0m\u001b[37m\u001b[0m \u001b[1m7s\u001b[0m 345us/step - accuracy: 0.0014 - loss: 2.3992\n",
      "Epoch 49/100\n",
      "\u001b[1m19595/19595\u001b[0m \u001b[32m━━━━━━━━━━━━━━━━━━━━\u001b[0m\u001b[37m\u001b[0m \u001b[1m7s\u001b[0m 355us/step - accuracy: 0.0015 - loss: 2.3582\n",
      "Epoch 50/100\n",
      "\u001b[1m19595/19595\u001b[0m \u001b[32m━━━━━━━━━━━━━━━━━━━━\u001b[0m\u001b[37m\u001b[0m \u001b[1m7s\u001b[0m 336us/step - accuracy: 0.0016 - loss: 2.2538\n",
      "Epoch 51/100\n",
      "\u001b[1m19595/19595\u001b[0m \u001b[32m━━━━━━━━━━━━━━━━━━━━\u001b[0m\u001b[37m\u001b[0m \u001b[1m7s\u001b[0m 361us/step - accuracy: 0.0015 - loss: 2.3767\n",
      "Epoch 52/100\n",
      "\u001b[1m19595/19595\u001b[0m \u001b[32m━━━━━━━━━━━━━━━━━━━━\u001b[0m\u001b[37m\u001b[0m \u001b[1m7s\u001b[0m 339us/step - accuracy: 0.0013 - loss: 2.4924\n",
      "Epoch 53/100\n",
      "\u001b[1m19595/19595\u001b[0m \u001b[32m━━━━━━━━━━━━━━━━━━━━\u001b[0m\u001b[37m\u001b[0m \u001b[1m7s\u001b[0m 339us/step - accuracy: 0.0016 - loss: 2.2875\n",
      "Epoch 54/100\n",
      "\u001b[1m19595/19595\u001b[0m \u001b[32m━━━━━━━━━━━━━━━━━━━━\u001b[0m\u001b[37m\u001b[0m \u001b[1m7s\u001b[0m 339us/step - accuracy: 0.0015 - loss: 2.3472\n",
      "Epoch 55/100\n",
      "\u001b[1m19595/19595\u001b[0m \u001b[32m━━━━━━━━━━━━━━━━━━━━\u001b[0m\u001b[37m\u001b[0m \u001b[1m7s\u001b[0m 339us/step - accuracy: 0.0017 - loss: 2.2909\n",
      "Epoch 56/100\n",
      "\u001b[1m19595/19595\u001b[0m \u001b[32m━━━━━━━━━━━━━━━━━━━━\u001b[0m\u001b[37m\u001b[0m \u001b[1m7s\u001b[0m 340us/step - accuracy: 0.0016 - loss: 2.2879\n",
      "Epoch 57/100\n",
      "\u001b[1m19595/19595\u001b[0m \u001b[32m━━━━━━━━━━━━━━━━━━━━\u001b[0m\u001b[37m\u001b[0m \u001b[1m7s\u001b[0m 341us/step - accuracy: 0.0015 - loss: 2.2971\n",
      "Epoch 58/100\n",
      "\u001b[1m19595/19595\u001b[0m \u001b[32m━━━━━━━━━━━━━━━━━━━━\u001b[0m\u001b[37m\u001b[0m \u001b[1m7s\u001b[0m 340us/step - accuracy: 0.0016 - loss: 2.2435\n",
      "Epoch 59/100\n",
      "\u001b[1m19595/19595\u001b[0m \u001b[32m━━━━━━━━━━━━━━━━━━━━\u001b[0m\u001b[37m\u001b[0m \u001b[1m7s\u001b[0m 342us/step - accuracy: 0.0017 - loss: 2.2688\n",
      "Epoch 60/100\n",
      "\u001b[1m19595/19595\u001b[0m \u001b[32m━━━━━━━━━━━━━━━━━━━━\u001b[0m\u001b[37m\u001b[0m \u001b[1m7s\u001b[0m 340us/step - accuracy: 0.0015 - loss: 2.3383\n",
      "Epoch 61/100\n",
      "\u001b[1m19595/19595\u001b[0m \u001b[32m━━━━━━━━━━━━━━━━━━━━\u001b[0m\u001b[37m\u001b[0m \u001b[1m7s\u001b[0m 341us/step - accuracy: 0.0015 - loss: 2.4753\n",
      "Epoch 62/100\n",
      "\u001b[1m19595/19595\u001b[0m \u001b[32m━━━━━━━━━━━━━━━━━━━━\u001b[0m\u001b[37m\u001b[0m \u001b[1m7s\u001b[0m 340us/step - accuracy: 0.0016 - loss: 2.3252\n",
      "Epoch 63/100\n",
      "\u001b[1m19595/19595\u001b[0m \u001b[32m━━━━━━━━━━━━━━━━━━━━\u001b[0m\u001b[37m\u001b[0m \u001b[1m7s\u001b[0m 341us/step - accuracy: 0.0017 - loss: 2.2709\n",
      "Epoch 64/100\n",
      "\u001b[1m19595/19595\u001b[0m \u001b[32m━━━━━━━━━━━━━━━━━━━━\u001b[0m\u001b[37m\u001b[0m \u001b[1m7s\u001b[0m 340us/step - accuracy: 0.0017 - loss: 2.2707\n",
      "Epoch 65/100\n",
      "\u001b[1m19595/19595\u001b[0m \u001b[32m━━━━━━━━━━━━━━━━━━━━\u001b[0m\u001b[37m\u001b[0m \u001b[1m7s\u001b[0m 340us/step - accuracy: 0.0011 - loss: 2.3129\n",
      "Epoch 66/100\n",
      "\u001b[1m19595/19595\u001b[0m \u001b[32m━━━━━━━━━━━━━━━━━━━━\u001b[0m\u001b[37m\u001b[0m \u001b[1m7s\u001b[0m 340us/step - accuracy: 0.0016 - loss: 2.2503\n",
      "Epoch 67/100\n",
      "\u001b[1m19595/19595\u001b[0m \u001b[32m━━━━━━━━━━━━━━━━━━━━\u001b[0m\u001b[37m\u001b[0m \u001b[1m7s\u001b[0m 343us/step - accuracy: 0.0016 - loss: 2.3685\n",
      "Epoch 68/100\n",
      "\u001b[1m19595/19595\u001b[0m \u001b[32m━━━━━━━━━━━━━━━━━━━━\u001b[0m\u001b[37m\u001b[0m \u001b[1m7s\u001b[0m 342us/step - accuracy: 0.0018 - loss: 2.2123\n",
      "Epoch 69/100\n",
      "\u001b[1m19595/19595\u001b[0m \u001b[32m━━━━━━━━━━━━━━━━━━━━\u001b[0m\u001b[37m\u001b[0m \u001b[1m7s\u001b[0m 340us/step - accuracy: 0.0015 - loss: 2.3974\n",
      "Epoch 70/100\n",
      "\u001b[1m19595/19595\u001b[0m \u001b[32m━━━━━━━━━━━━━━━━━━━━\u001b[0m\u001b[37m\u001b[0m \u001b[1m7s\u001b[0m 342us/step - accuracy: 0.0016 - loss: 2.3116\n",
      "Epoch 71/100\n",
      "\u001b[1m19595/19595\u001b[0m \u001b[32m━━━━━━━━━━━━━━━━━━━━\u001b[0m\u001b[37m\u001b[0m \u001b[1m7s\u001b[0m 338us/step - accuracy: 0.0019 - loss: 2.2481\n",
      "Epoch 72/100\n",
      "\u001b[1m19595/19595\u001b[0m \u001b[32m━━━━━━━━━━━━━━━━━━━━\u001b[0m\u001b[37m\u001b[0m \u001b[1m7s\u001b[0m 338us/step - accuracy: 0.0018 - loss: 2.1805\n",
      "Epoch 73/100\n",
      "\u001b[1m19595/19595\u001b[0m \u001b[32m━━━━━━━━━━━━━━━━━━━━\u001b[0m\u001b[37m\u001b[0m \u001b[1m7s\u001b[0m 339us/step - accuracy: 0.0018 - loss: 2.3974\n",
      "Epoch 74/100\n",
      "\u001b[1m19595/19595\u001b[0m \u001b[32m━━━━━━━━━━━━━━━━━━━━\u001b[0m\u001b[37m\u001b[0m \u001b[1m7s\u001b[0m 338us/step - accuracy: 0.0019 - loss: 2.1422\n",
      "Epoch 75/100\n",
      "\u001b[1m19595/19595\u001b[0m \u001b[32m━━━━━━━━━━━━━━━━━━━━\u001b[0m\u001b[37m\u001b[0m \u001b[1m7s\u001b[0m 337us/step - accuracy: 0.0017 - loss: 2.1281\n",
      "Epoch 76/100\n",
      "\u001b[1m19595/19595\u001b[0m \u001b[32m━━━━━━━━━━━━━━━━━━━━\u001b[0m\u001b[37m\u001b[0m \u001b[1m7s\u001b[0m 340us/step - accuracy: 0.0018 - loss: 2.1876\n",
      "Epoch 77/100\n",
      "\u001b[1m19595/19595\u001b[0m \u001b[32m━━━━━━━━━━━━━━━━━━━━\u001b[0m\u001b[37m\u001b[0m \u001b[1m7s\u001b[0m 338us/step - accuracy: 0.0018 - loss: 2.3655\n",
      "Epoch 78/100\n",
      "\u001b[1m19595/19595\u001b[0m \u001b[32m━━━━━━━━━━━━━━━━━━━━\u001b[0m\u001b[37m\u001b[0m \u001b[1m7s\u001b[0m 340us/step - accuracy: 0.0016 - loss: 2.2208\n",
      "Epoch 79/100\n",
      "\u001b[1m19595/19595\u001b[0m \u001b[32m━━━━━━━━━━━━━━━━━━━━\u001b[0m\u001b[37m\u001b[0m \u001b[1m7s\u001b[0m 338us/step - accuracy: 0.0016 - loss: 2.2238\n",
      "Epoch 80/100\n",
      "\u001b[1m19595/19595\u001b[0m \u001b[32m━━━━━━━━━━━━━━━━━━━━\u001b[0m\u001b[37m\u001b[0m \u001b[1m7s\u001b[0m 337us/step - accuracy: 0.0017 - loss: 2.2037\n",
      "Epoch 81/100\n",
      "\u001b[1m19595/19595\u001b[0m \u001b[32m━━━━━━━━━━━━━━━━━━━━\u001b[0m\u001b[37m\u001b[0m \u001b[1m7s\u001b[0m 339us/step - accuracy: 0.0017 - loss: 2.2167\n",
      "Epoch 82/100\n",
      "\u001b[1m19595/19595\u001b[0m \u001b[32m━━━━━━━━━━━━━━━━━━━━\u001b[0m\u001b[37m\u001b[0m \u001b[1m7s\u001b[0m 338us/step - accuracy: 0.0019 - loss: 2.1489\n",
      "Epoch 83/100\n",
      "\u001b[1m19595/19595\u001b[0m \u001b[32m━━━━━━━━━━━━━━━━━━━━\u001b[0m\u001b[37m\u001b[0m \u001b[1m7s\u001b[0m 339us/step - accuracy: 0.0017 - loss: 2.2947\n",
      "Epoch 84/100\n",
      "\u001b[1m19595/19595\u001b[0m \u001b[32m━━━━━━━━━━━━━━━━━━━━\u001b[0m\u001b[37m\u001b[0m \u001b[1m7s\u001b[0m 341us/step - accuracy: 0.0016 - loss: 2.2585\n",
      "Epoch 85/100\n",
      "\u001b[1m19595/19595\u001b[0m \u001b[32m━━━━━━━━━━━━━━━━━━━━\u001b[0m\u001b[37m\u001b[0m \u001b[1m7s\u001b[0m 355us/step - accuracy: 0.0018 - loss: 2.3829\n",
      "Epoch 86/100\n",
      "\u001b[1m19595/19595\u001b[0m \u001b[32m━━━━━━━━━━━━━━━━━━━━\u001b[0m\u001b[37m\u001b[0m \u001b[1m7s\u001b[0m 337us/step - accuracy: 0.0018 - loss: 2.2015\n",
      "Epoch 87/100\n",
      "\u001b[1m19595/19595\u001b[0m \u001b[32m━━━━━━━━━━━━━━━━━━━━\u001b[0m\u001b[37m\u001b[0m \u001b[1m7s\u001b[0m 339us/step - accuracy: 0.0018 - loss: 2.2815\n",
      "Epoch 88/100\n",
      "\u001b[1m19595/19595\u001b[0m \u001b[32m━━━━━━━━━━━━━━━━━━━━\u001b[0m\u001b[37m\u001b[0m \u001b[1m7s\u001b[0m 335us/step - accuracy: 0.0019 - loss: 2.1006\n",
      "Epoch 89/100\n",
      "\u001b[1m19595/19595\u001b[0m \u001b[32m━━━━━━━━━━━━━━━━━━━━\u001b[0m\u001b[37m\u001b[0m \u001b[1m7s\u001b[0m 336us/step - accuracy: 0.0016 - loss: 2.2310\n",
      "Epoch 90/100\n",
      "\u001b[1m19595/19595\u001b[0m \u001b[32m━━━━━━━━━━━━━━━━━━━━\u001b[0m\u001b[37m\u001b[0m \u001b[1m7s\u001b[0m 336us/step - accuracy: 0.0016 - loss: 2.2634\n",
      "Epoch 91/100\n",
      "\u001b[1m19595/19595\u001b[0m \u001b[32m━━━━━━━━━━━━━━━━━━━━\u001b[0m\u001b[37m\u001b[0m \u001b[1m7s\u001b[0m 335us/step - accuracy: 0.0019 - loss: 2.1129\n",
      "Epoch 92/100\n",
      "\u001b[1m19595/19595\u001b[0m \u001b[32m━━━━━━━━━━━━━━━━━━━━\u001b[0m\u001b[37m\u001b[0m \u001b[1m7s\u001b[0m 336us/step - accuracy: 0.0017 - loss: 2.1715\n",
      "Epoch 93/100\n",
      "\u001b[1m19595/19595\u001b[0m \u001b[32m━━━━━━━━━━━━━━━━━━━━\u001b[0m\u001b[37m\u001b[0m \u001b[1m7s\u001b[0m 336us/step - accuracy: 0.0018 - loss: 2.2263\n",
      "Epoch 94/100\n",
      "\u001b[1m19595/19595\u001b[0m \u001b[32m━━━━━━━━━━━━━━━━━━━━\u001b[0m\u001b[37m\u001b[0m \u001b[1m7s\u001b[0m 336us/step - accuracy: 0.0019 - loss: 2.2164\n",
      "Epoch 95/100\n",
      "\u001b[1m19595/19595\u001b[0m \u001b[32m━━━━━━━━━━━━━━━━━━━━\u001b[0m\u001b[37m\u001b[0m \u001b[1m7s\u001b[0m 338us/step - accuracy: 0.0018 - loss: 2.2221\n",
      "Epoch 96/100\n",
      "\u001b[1m19595/19595\u001b[0m \u001b[32m━━━━━━━━━━━━━━━━━━━━\u001b[0m\u001b[37m\u001b[0m \u001b[1m7s\u001b[0m 335us/step - accuracy: 0.0016 - loss: 2.2879\n",
      "Epoch 97/100\n",
      "\u001b[1m19595/19595\u001b[0m \u001b[32m━━━━━━━━━━━━━━━━━━━━\u001b[0m\u001b[37m\u001b[0m \u001b[1m7s\u001b[0m 336us/step - accuracy: 0.0017 - loss: 2.1888\n",
      "Epoch 98/100\n",
      "\u001b[1m19595/19595\u001b[0m \u001b[32m━━━━━━━━━━━━━━━━━━━━\u001b[0m\u001b[37m\u001b[0m \u001b[1m7s\u001b[0m 337us/step - accuracy: 0.0019 - loss: 2.1978\n",
      "Epoch 99/100\n",
      "\u001b[1m19595/19595\u001b[0m \u001b[32m━━━━━━━━━━━━━━━━━━━━\u001b[0m\u001b[37m\u001b[0m \u001b[1m7s\u001b[0m 335us/step - accuracy: 0.0019 - loss: 2.1218\n",
      "Epoch 100/100\n",
      "\u001b[1m19595/19595\u001b[0m \u001b[32m━━━━━━━━━━━━━━━━━━━━\u001b[0m\u001b[37m\u001b[0m \u001b[1m7s\u001b[0m 338us/step - accuracy: 0.0020 - loss: 2.2015\n"
     ]
    },
    {
     "data": {
      "text/plain": [
       "<keras.src.callbacks.history.History at 0x33f988610>"
      ]
     },
     "execution_count": 10,
     "metadata": {},
     "output_type": "execute_result"
    }
   ],
   "source": [
    "# Uncomment the following if you have already trained the model\n",
    "\n",
    "# initialize the ANN\n",
    "ann = tf.keras.models.Sequential() \n",
    "\n",
    "# adding the input layer and the first hidden layer\n",
    "# units=5, where 5 is the number of neurons in the first input layer\n",
    "ann.add(tf.keras.layers.Dense(units=5, activation='relu'))\n",
    "# adding the second hidden layer\n",
    "ann.add(tf.keras.layers.Dense(units=32, activation='relu'))\n",
    "# adding the third hidden layer\n",
    "ann.add(tf.keras.layers.Dense(units=32, activation='sigmoid'))\n",
    "# adding the output layer, absolute value of the snr\n",
    "ann.add(tf.keras.layers.Dense(units=1, activation='linear'))\n",
    "\n",
    "# compile the ANN\n",
    "ann.compile(optimizer = 'adam', loss = 'mean_squared_error', metrics = ['accuracy'])\n",
    "\n",
    "# train the ANN on the training set\n",
    "ann.fit(X_train, y_train, batch_size = 32, epochs = 100)"
   ]
  },
  {
   "cell_type": "code",
   "execution_count": 12,
   "metadata": {},
   "outputs": [
    {
     "name": "stdout",
     "output_type": "stream",
     "text": [
      "WARNING:absl:You are saving your model as an HDF5 file via `model.save()` or `keras.saving.save_model(model)`. This file format is considered legacy. We recommend using instead the native Keras format, e.g. `model.save('my_model.keras')` or `keras.saving.save_model(model, 'my_model.keras')`. \n"
     ]
    }
   ],
   "source": [
    "# Uncomment the following if you have not trained the model\n",
    "\n",
    "# Save the model to a file\n",
    "ann.save('ann_modelET1_final.h5')\n",
    "modelET1 = ann"
   ]
  },
  {
   "cell_type": "code",
   "execution_count": 13,
   "metadata": {},
   "outputs": [],
   "source": [
    "# # Uncomment the following if you have already generated the model\n",
    "\n",
    "# # load the model\n",
    "# from tensorflow.keras.models import load_model\n",
    "# modelET1 = load_model('ann_modelET1_final.h5')"
   ]
  },
  {
   "cell_type": "markdown",
   "metadata": {},
   "source": [
    "### Test the Model on the test data"
   ]
  },
  {
   "cell_type": "code",
   "execution_count": 14,
   "metadata": {},
   "outputs": [
    {
     "name": "stdout",
     "output_type": "stream",
     "text": [
      "\u001b[1m2178/2178\u001b[0m \u001b[32m━━━━━━━━━━━━━━━━━━━━\u001b[0m\u001b[37m\u001b[0m \u001b[1m1s\u001b[0m 233us/step\n",
      "[[26.2891655  27.63367505]\n",
      " [11.49224854 11.36603721]\n",
      " [ 3.33380771  3.10222831]\n",
      " [ 5.38878918  5.09082781]\n",
      " [ 5.99786711  6.07512927]\n",
      " [ 4.02997208  3.78017034]\n",
      " [34.22657013 31.1040625 ]\n",
      " [ 5.38475084  5.52190493]\n",
      " [ 6.1685462   5.85286104]\n",
      " [ 5.79096413  5.85617613]\n",
      " [13.05470657 13.88994907]\n",
      " [15.52290726 15.03601211]\n",
      " [ 8.93467712  9.08254655]\n",
      " [18.09013557 15.92601414]\n",
      " [20.77788734 20.05668437]]\n"
     ]
    }
   ],
   "source": [
    "# left: predicted snr, right: actual snr\n",
    "y_pred = modelET1.predict(X_test)\n",
    "#y_pred = (y_pred > 0.5)\n",
    "print(np.concatenate((y_pred.reshape(len(y_pred),1), y_test.reshape(len(y_test),1)),1)[10:25])"
   ]
  },
  {
   "cell_type": "code",
   "execution_count": 12,
   "metadata": {},
   "outputs": [
    {
     "name": "stdout",
     "output_type": "stream",
     "text": [
      "\u001b[1m2178/2178\u001b[0m \u001b[32m━━━━━━━━━━━━━━━━━━━━\u001b[0m\u001b[37m\u001b[0m \u001b[1m1s\u001b[0m 230us/step\n",
      "[[ 6.6826849   7.35809249]\n",
      " [ 5.56951427  5.42523128]\n",
      " [10.53016663 10.1989236 ]\n",
      " [26.41267586 27.44021167]\n",
      " [23.62282181 21.84402224]\n",
      " [ 5.35305595  5.65090402]\n",
      " [ 2.21993208  2.01032584]\n",
      " [ 2.9688313   2.74796444]\n",
      " [ 2.45241213  2.60097399]\n",
      " [ 6.19739437  6.09195775]\n",
      " [20.34118652 20.97324572]\n",
      " [29.94248199 32.60894487]\n",
      " [ 3.93978882  4.09372782]\n",
      " [ 9.95970917 10.0410052 ]\n",
      " [ 4.86493731  4.84587965]]\n"
     ]
    }
   ],
   "source": [
    "# left: predicted snr, right: actual snr\n",
    "y_pred = modelET1.predict(X_test)\n",
    "#y_pred = (y_pred > 0.5)\n",
    "print(np.concatenate((y_pred.reshape(len(y_pred),1), y_test.reshape(len(y_test),1)),1)[10:25])"
   ]
  },
  {
   "cell_type": "code",
   "execution_count": 15,
   "metadata": {},
   "outputs": [
    {
     "name": "stdout",
     "output_type": "stream",
     "text": [
      "Error: 3.00%\n"
     ]
    }
   ],
   "source": [
    "# calculate the error\n",
    "len1 = len(y_pred)\n",
    "len2 = np.sum((y_pred.flatten()>8) != (y_test>8))\n",
    "error = len2/len1*100\n",
    "print(f\"Error: {error:.2f}%\")"
   ]
  },
  {
   "cell_type": "code",
   "execution_count": 13,
   "metadata": {},
   "outputs": [
    {
     "name": "stdout",
     "output_type": "stream",
     "text": [
      "Error: 3.03%\n"
     ]
    }
   ],
   "source": [
    "# calculate the error\n",
    "len1 = len(y_pred)\n",
    "len2 = np.sum((y_pred.flatten()>8) != (y_test>8))\n",
    "error = len2/len1*100\n",
    "print(f\"Error: {error:.2f}%\")"
   ]
  },
  {
   "cell_type": "code",
   "execution_count": 13,
   "metadata": {},
   "outputs": [
    {
     "name": "stdout",
     "output_type": "stream",
     "text": [
      "Error: 3.12%\n"
     ]
    }
   ],
   "source": [
    "# calculate the error\n",
    "len1 = len(y_pred)\n",
    "len2 = np.sum((y_pred.flatten()>8) != (y_test>8))\n",
    "error = len2/len1*100\n",
    "print(f\"Error: {error:.2f}%\")"
   ]
  },
  {
   "cell_type": "code",
   "execution_count": 13,
   "metadata": {},
   "outputs": [
    {
     "name": "stdout",
     "output_type": "stream",
     "text": [
      "Error: 3.08%\n"
     ]
    }
   ],
   "source": [
    "# calculate the error\n",
    "len1 = len(y_pred)\n",
    "len2 = np.sum((y_pred.flatten()>8) != (y_test>8))\n",
    "error = len2/len1*100\n",
    "print(f\"Error: {error:.2f}%\")"
   ]
  },
  {
   "cell_type": "code",
   "execution_count": 16,
   "metadata": {},
   "outputs": [
    {
     "name": "stdout",
     "output_type": "stream",
     "text": [
      "[[37366  1194]\n",
      " [  893 30218]]\n",
      "Accuracy: 97.004%\n"
     ]
    }
   ],
   "source": [
    "# 5 param: 97.627%\n",
    "# 4 param, without theta_jn: 98.536%\n",
    "y_pred_ = y_pred\n",
    "y_test_ = y_test\n",
    "cm = confusion_matrix((y_test_>8), ((y_pred_)>8))\n",
    "print(cm)\n",
    "accuracy = accuracy_score((y_test_>8), (y_pred_>8))*100\n",
    "print(f\"Accuracy: {accuracy:.3f}%\")"
   ]
  },
  {
   "cell_type": "code",
   "execution_count": 14,
   "metadata": {},
   "outputs": [
    {
     "name": "stdout",
     "output_type": "stream",
     "text": [
      "[[37542  1124]\n",
      " [  989 30016]]\n",
      "Accuracy: 96.967%\n"
     ]
    }
   ],
   "source": [
    "# 5 param: 97.627%\n",
    "# 4 param, without theta_jn: 98.536%\n",
    "y_pred_ = y_pred\n",
    "y_test_ = y_test\n",
    "cm = confusion_matrix((y_test_>8), ((y_pred_)>8))\n",
    "print(cm)\n",
    "accuracy = accuracy_score((y_test_>8), (y_pred_>8))*100\n",
    "print(f\"Accuracy: {accuracy:.3f}%\")"
   ]
  },
  {
   "cell_type": "code",
   "execution_count": 14,
   "metadata": {},
   "outputs": [
    {
     "name": "stdout",
     "output_type": "stream",
     "text": [
      "[[37538  1171]\n",
      " [ 1005 29957]]\n",
      "Accuracy: 96.877%\n"
     ]
    }
   ],
   "source": [
    "# 5 param: 97.627%\n",
    "# 4 param, without theta_jn: 98.536%\n",
    "y_pred_ = y_pred\n",
    "y_test_ = y_test\n",
    "cm = confusion_matrix((y_test_>8), ((y_pred_)>8))\n",
    "print(cm)\n",
    "accuracy = accuracy_score((y_test_>8), (y_pred_>8))*100\n",
    "print(f\"Accuracy: {accuracy:.3f}%\")"
   ]
  },
  {
   "cell_type": "code",
   "execution_count": 15,
   "metadata": {},
   "outputs": [
    {
     "name": "stdout",
     "output_type": "stream",
     "text": [
      "[[37621   980]\n",
      " [ 1165 29905]]\n",
      "Accuracy: 96.921%\n"
     ]
    }
   ],
   "source": [
    "# 5 param: 97.627%\n",
    "# 4 param, without theta_jn: 98.536%\n",
    "y_pred_ = y_pred\n",
    "y_test_ = y_test\n",
    "cm = confusion_matrix((y_test_>8), ((y_pred_)>8))\n",
    "print(cm)\n",
    "accuracy = accuracy_score((y_test_>8), (y_pred_>8))*100\n",
    "print(f\"Accuracy: {accuracy:.3f}%\")"
   ]
  },
  {
   "cell_type": "markdown",
   "metadata": {},
   "source": [
    "### Test with astrophysical parameters"
   ]
  },
  {
   "cell_type": "code",
   "execution_count": 17,
   "metadata": {},
   "outputs": [
    {
     "name": "stdout",
     "output_type": "stream",
     "text": [
      "WARNING:absl:Compiled the loaded model, but the compiled metrics have yet to be built. `model.compile_metrics` will be empty until you train or evaluate the model.\n",
      "\u001b[1m1563/1563\u001b[0m \u001b[32m━━━━━━━━━━━━━━━━━━━━\u001b[0m\u001b[37m\u001b[0m \u001b[1m0s\u001b[0m 239us/step\n",
      "[[26878   992]\n",
      " [  610 21520]]\n",
      "Accuracy: 96.796%\n"
     ]
    }
   ],
   "source": [
    "# Get the data. This data is generated using `ler` package.\n",
    "unlensed_params = get_param_from_json(\"ler_data/unlensed_param_testing_ETCE.json\")\n",
    "X_,Y_ = input_output(np.arange(len(unlensed_params['ET1'])), unlensed_params, det='ET1')\n",
    "scalerET1 = pickle.load(open('scalerET1_final.pkl', 'rb'))\n",
    "X_ = scalerET1.transform(X_)\n",
    "\n",
    "modelET1 = load_model('ann_modelET1_final.h5')\n",
    "y_pred_ = modelET1.predict(X_).flatten()\n",
    "y_test_ = Y_\n",
    "cm = confusion_matrix((y_test_>8), ((y_pred_)>8))\n",
    "print(cm)\n",
    "accuracy = accuracy_score((y_test_>8), (y_pred_>8))*100\n",
    "print(f\"Accuracy: {accuracy:.3f}%\")"
   ]
  },
  {
   "cell_type": "code",
   "execution_count": 16,
   "metadata": {},
   "outputs": [
    {
     "name": "stdout",
     "output_type": "stream",
     "text": [
      "WARNING:absl:Compiled the loaded model, but the compiled metrics have yet to be built. `model.compile_metrics` will be empty until you train or evaluate the model.\n",
      "\u001b[1m1563/1563\u001b[0m \u001b[32m━━━━━━━━━━━━━━━━━━━━\u001b[0m\u001b[37m\u001b[0m \u001b[1m0s\u001b[0m 241us/step\n",
      "[[27110   760]\n",
      " [  837 21293]]\n",
      "Accuracy: 96.806%\n"
     ]
    }
   ],
   "source": [
    "# Get the data. This data is generated using `ler` package.\n",
    "unlensed_params = get_param_from_json(\"ler_data/unlensed_param_testing_ETCE.json\")\n",
    "X_,Y_ = input_output(np.arange(len(unlensed_params['ET1'])), unlensed_params, det='ET1')\n",
    "scalerET1 = pickle.load(open('scalerET1_final.pkl', 'rb'))\n",
    "X_ = scalerET1.transform(X_)\n",
    "\n",
    "modelET1 = load_model('ann_modelET1_final.h5')\n",
    "y_pred_ = modelET1.predict(X_).flatten()\n",
    "y_test_ = Y_\n",
    "cm = confusion_matrix((y_test_>8), ((y_pred_)>8))\n",
    "print(cm)\n",
    "accuracy = accuracy_score((y_test_>8), (y_pred_>8))*100\n",
    "print(f\"Accuracy: {accuracy:.3f}%\")"
   ]
  },
  {
   "cell_type": "code",
   "execution_count": 17,
   "metadata": {},
   "outputs": [
    {
     "name": "stdout",
     "output_type": "stream",
     "text": [
      "\u001b[1m1563/1563\u001b[0m \u001b[32m━━━━━━━━━━━━━━━━━━━━\u001b[0m\u001b[37m\u001b[0m \u001b[1m0s\u001b[0m 284us/step\n"
     ]
    },
    {
     "data": {
      "image/png": "[encoded data removed]",
      "text/plain": [
       "<Figure size 400x400 with 1 Axes>"
      ]
     },
     "metadata": {},
     "output_type": "display_data"
    }
   ],
   "source": [
    "y_pred_ = modelET1.predict(X_).flatten()\n",
    "y_test_ = Y_.copy()\n",
    "# y_test = Y_\n",
    "hist_ = y_pred_-y_test_\n",
    "idx = (y_test_>6) & (y_test_<10)  # selection wrt snr\n",
    "# idx = idx & (X_[:,2]>-2)  # selection wrt eta\n",
    "hist_ = hist_[idx]\n",
    "plt.figure(figsize=(4,4)) \n",
    "plt.hist(hist_, bins=100, histtype='step', density=True)\n",
    "# plt.xlim(-5,5)\n",
    "plt.xlabel('snr_ml and snr_inner_product difference')\n",
    "plt.ylabel('pdf')\n",
    "plt.grid(alpha=0.4)\n",
    "plt.show()"
   ]
  },
  {
   "cell_type": "markdown",
   "metadata": {},
   "source": [
    "### Error analysis"
   ]
  },
  {
   "cell_type": "code",
   "execution_count": 21,
   "metadata": {},
   "outputs": [
    {
     "name": "stdout",
     "output_type": "stream",
     "text": [
      "slope: 0.0005, intercept: -0.0769\n"
     ]
    }
   ],
   "source": [
    "# Uncomment to create error ajustment\n",
    "\n",
    "# do linear fitting of the error y_pred-y_test\n",
    "def func(x, a, b):\n",
    "    return a*x + b\n",
    "\n",
    "idx = (y_pred_>4) & (y_pred_<10)\n",
    "idx = idx & (y_test_!=0)\n",
    "popt, pcov = curve_fit(func, y_pred_[idx], y_pred_[idx]-y_test_[idx])\n",
    "print(f\"slope: {popt[0]:.4f}, intercept: {popt[1]:.4f}\")\n",
    "\n",
    "try:\n",
    "    adjustment_dict = load_json('error_adjustment_final.json')\n",
    "except:\n",
    "    adjustment_dict = {}\n",
    "adjustment_dict['ET1'] = {'slope': popt[0], 'intercept': popt[1]}\n",
    "# save json\n",
    "save_json('error_adjustment_final.json', adjustment_dict)"
   ]
  },
  {
   "cell_type": "code",
   "execution_count": 22,
   "metadata": {},
   "outputs": [
    {
     "name": "stdout",
     "output_type": "stream",
     "text": [
      "\u001b[1m1563/1563\u001b[0m \u001b[32m━━━━━━━━━━━━━━━━━━━━\u001b[0m\u001b[37m\u001b[0m \u001b[1m0s\u001b[0m 228us/step\n",
      "[[27013   857]\n",
      " [  696 21434]]\n",
      "Accuracy (after error ajustment): 96.894%\n"
     ]
    }
   ],
   "source": [
    "# load json\n",
    "adjustment_dict = load_json('error_adjustment_final.json')\n",
    "a = adjustment_dict['ET1']['slope']\n",
    "b = adjustment_dict['ET1']['intercept']\n",
    "\n",
    "y_pred_ = modelET1.predict(X_).flatten()\n",
    "y_pred_ = y_pred_-(a*y_pred_ + b)\n",
    "y_test_ = Y_\n",
    "cm = confusion_matrix((y_test_>8), ((y_pred_)>8))\n",
    "print(cm)\n",
    "accuracy = accuracy_score((y_test_>8), (y_pred_>8))*100\n",
    "print(f\"Accuracy (after error ajustment): {accuracy:.3f}%\")"
   ]
  },
  {
   "cell_type": "code",
   "execution_count": null,
   "metadata": {},
   "outputs": [],
   "source": []
  },
  {
   "cell_type": "markdown",
   "metadata": {},
   "source": [
    "## ET2"
   ]
  },
  {
   "cell_type": "code",
   "execution_count": 18,
   "metadata": {},
   "outputs": [
    {
     "name": "stdout",
     "output_type": "stream",
     "text": [
      "size before SNR cut: 697169\n",
      "size after SNR cut: 696536\n"
     ]
    }
   ],
   "source": [
    "# these are pre-generated datas\n",
    "# join all dictionaries into one\n",
    "unlensed_params1 = get_param_from_json(\"ler_data/unlensed_param_ET.json\")\n",
    "\n",
    "# len_ = int(len(unlensed_params1['ET2'])/2)\n",
    "# print(len_)\n",
    "# for key, value in unlensed_params1.items():\n",
    "#     unlensed_params1[key] = value[:len_]\n",
    "\n",
    "unlensed_params2 = get_param_from_json(\"ler_data/joint_new_optsnr_ET2.json\")\n",
    "\n",
    "unlensed_params = add_dict_values(unlensed_params1, unlensed_params2)\n",
    "del unlensed_params1, unlensed_params2\n",
    "\n",
    "# snr = unlensed_params['ET2']\n",
    "# idx = snr>0\n",
    "# for key, value in unlensed_params.items():\n",
    "#     unlensed_params[key] = value[idx]\n",
    "\n",
    "# unlensed_params = get_param_from_json(\"ler_data/unlensed_param_ET.json\")\n",
    "\n",
    "print(f\"size before SNR cut: {len(unlensed_params['ET2'])}\")\n",
    "# set SNR cut\n",
    "idx_constrain = unlensed_params['ET2']<100\n",
    "for key, value in unlensed_params.items():\n",
    "    unlensed_params[key] = value[idx_constrain]\n",
    "\n",
    "print(f\"size after SNR cut: {len(unlensed_params['ET2'])}\")"
   ]
  },
  {
   "cell_type": "code",
   "execution_count": 19,
   "metadata": {},
   "outputs": [
    {
     "data": {
      "image/png": "[encoded data removed]",
      "text/plain": [
       "<Figure size 400x400 with 1 Axes>"
      ]
     },
     "metadata": {},
     "output_type": "display_data"
    }
   ],
   "source": [
    "# visualize the data\n",
    "import matplotlib.pyplot as plt\n",
    "#unlensed_params = get_param_from_json(\"joint_new_optsnr.json\")\n",
    "test = np.array(unlensed_params['ET2'])\n",
    "test = test[test<20]\n",
    "plt.figure(figsize=(4,4))\n",
    "plt.hist(test, bins=30, alpha=0.6, histtype='step', density=True)\n",
    "plt.xlim(0,20)\n",
    "plt.grid(alpha=0.4)\n",
    "plt.show()"
   ]
  },
  {
   "cell_type": "code",
   "execution_count": 20,
   "metadata": {},
   "outputs": [
    {
     "data": {
      "text/plain": [
       "(696536, 5)"
      ]
     },
     "execution_count": 20,
     "metadata": {},
     "output_type": "execute_result"
    }
   ],
   "source": [
    "len_ = len(unlensed_params['ET2'])\n",
    "idx = np.arange(len_)\n",
    "# randomize the train set\n",
    "idx = np.random.permutation(idx)\n",
    "XET2,yET2 = input_output(idx, unlensed_params, det='ET2')\n",
    "np.shape(XET2)"
   ]
  },
  {
   "cell_type": "code",
   "execution_count": 21,
   "metadata": {},
   "outputs": [],
   "source": [
    "X_train, X_test, y_train, y_test = train_test_split(XET2, yET2, test_size = 0.1, random_state = 0)\n",
    "\n",
    "# Uncomment the following if you have not generated the scaler\n",
    "\n",
    "# feature scaling\n",
    "sc = StandardScaler()\n",
    "X_train = sc.fit_transform(X_train)\n",
    "X_test = sc.transform(X_test)\n",
    "\n",
    "# save the scaler\n",
    "pickle.dump(sc, open('scalerET2_final.pkl', 'wb'))\n",
    "\n",
    "# # Uncomment the following if you have already generated the scaler\n",
    "\n",
    "# # load the scaler\n",
    "# scalerET2 = pickle.load(open('scalerET2_final.pkl', 'rb'))\n",
    "# sc = scalerET2\n",
    "# X_train = sc.transform(X_train)\n",
    "# X_test = sc.transform(X_test)"
   ]
  },
  {
   "cell_type": "code",
   "execution_count": 22,
   "metadata": {},
   "outputs": [
    {
     "name": "stdout",
     "output_type": "stream",
     "text": [
      "Epoch 1/100\n",
      "\u001b[1m19591/19591\u001b[0m \u001b[32m━━━━━━━━━━━━━━━━━━━━\u001b[0m\u001b[37m\u001b[0m \u001b[1m7s\u001b[0m 351us/step - accuracy: 5.6604e-05 - loss: 23.8054\n",
      "Epoch 2/100\n",
      "\u001b[1m19591/19591\u001b[0m \u001b[32m━━━━━━━━━━━━━━━━━━━━\u001b[0m\u001b[37m\u001b[0m \u001b[1m7s\u001b[0m 347us/step - accuracy: 1.7029e-05 - loss: 3.9941\n",
      "Epoch 3/100\n",
      "\u001b[1m19591/19591\u001b[0m \u001b[32m━━━━━━━━━━━━━━━━━━━━\u001b[0m\u001b[37m\u001b[0m \u001b[1m7s\u001b[0m 343us/step - accuracy: 2.1186e-05 - loss: 3.7290\n",
      "Epoch 4/100\n",
      "\u001b[1m19591/19591\u001b[0m \u001b[32m━━━━━━━━━━━━━━━━━━━━\u001b[0m\u001b[37m\u001b[0m \u001b[1m7s\u001b[0m 365us/step - accuracy: 3.4494e-05 - loss: 3.7794\n",
      "Epoch 5/100\n",
      "\u001b[1m19591/19591\u001b[0m \u001b[32m━━━━━━━━━━━━━━━━━━━━\u001b[0m\u001b[37m\u001b[0m \u001b[1m7s\u001b[0m 347us/step - accuracy: 8.4148e-05 - loss: 3.5028\n",
      "Epoch 6/100\n",
      "\u001b[1m19591/19591\u001b[0m \u001b[32m━━━━━━━━━━━━━━━━━━━━\u001b[0m\u001b[37m\u001b[0m \u001b[1m7s\u001b[0m 348us/step - accuracy: 1.6213e-04 - loss: 3.5083\n",
      "Epoch 7/100\n",
      "\u001b[1m19591/19591\u001b[0m \u001b[32m━━━━━━━━━━━━━━━━━━━━\u001b[0m\u001b[37m\u001b[0m \u001b[1m7s\u001b[0m 342us/step - accuracy: 2.3574e-04 - loss: 3.7162\n",
      "Epoch 8/100\n",
      "\u001b[1m19591/19591\u001b[0m \u001b[32m━━━━━━━━━━━━━━━━━━━━\u001b[0m\u001b[37m\u001b[0m \u001b[1m7s\u001b[0m 346us/step - accuracy: 3.0115e-04 - loss: 3.2566\n",
      "Epoch 9/100\n",
      "\u001b[1m19591/19591\u001b[0m \u001b[32m━━━━━━━━━━━━━━━━━━━━\u001b[0m\u001b[37m\u001b[0m \u001b[1m7s\u001b[0m 346us/step - accuracy: 4.0042e-04 - loss: 3.4717\n",
      "Epoch 10/100\n",
      "\u001b[1m19591/19591\u001b[0m \u001b[32m━━━━━━━━━━━━━━━━━━━━\u001b[0m\u001b[37m\u001b[0m \u001b[1m7s\u001b[0m 343us/step - accuracy: 5.5153e-04 - loss: 3.1378\n",
      "Epoch 11/100\n",
      "\u001b[1m19591/19591\u001b[0m \u001b[32m━━━━━━━━━━━━━━━━━━━━\u001b[0m\u001b[37m\u001b[0m \u001b[1m7s\u001b[0m 349us/step - accuracy: 6.0076e-04 - loss: 3.1035\n",
      "Epoch 12/100\n",
      "\u001b[1m19591/19591\u001b[0m \u001b[32m━━━━━━━━━━━━━━━━━━━━\u001b[0m\u001b[37m\u001b[0m \u001b[1m7s\u001b[0m 358us/step - accuracy: 6.8503e-04 - loss: 3.0859\n",
      "Epoch 13/100\n",
      "\u001b[1m19591/19591\u001b[0m \u001b[32m━━━━━━━━━━━━━━━━━━━━\u001b[0m\u001b[37m\u001b[0m \u001b[1m7s\u001b[0m 343us/step - accuracy: 7.3293e-04 - loss: 2.9633\n",
      "Epoch 14/100\n",
      "\u001b[1m19591/19591\u001b[0m \u001b[32m━━━━━━━━━━━━━━━━━━━━\u001b[0m\u001b[37m\u001b[0m \u001b[1m7s\u001b[0m 346us/step - accuracy: 7.4874e-04 - loss: 3.0126\n",
      "Epoch 15/100\n",
      "\u001b[1m19591/19591\u001b[0m \u001b[32m━━━━━━━━━━━━━━━━━━━━\u001b[0m\u001b[37m\u001b[0m \u001b[1m7s\u001b[0m 344us/step - accuracy: 8.9640e-04 - loss: 2.8818\n",
      "Epoch 16/100\n",
      "\u001b[1m19591/19591\u001b[0m \u001b[32m━━━━━━━━━━━━━━━━━━━━\u001b[0m\u001b[37m\u001b[0m \u001b[1m7s\u001b[0m 351us/step - accuracy: 8.0945e-04 - loss: 2.8089\n",
      "Epoch 17/100\n",
      "\u001b[1m19591/19591\u001b[0m \u001b[32m━━━━━━━━━━━━━━━━━━━━\u001b[0m\u001b[37m\u001b[0m \u001b[1m7s\u001b[0m 350us/step - accuracy: 9.8626e-04 - loss: 2.7255\n",
      "Epoch 18/100\n",
      "\u001b[1m19591/19591\u001b[0m \u001b[32m━━━━━━━━━━━━━━━━━━━━\u001b[0m\u001b[37m\u001b[0m \u001b[1m7s\u001b[0m 349us/step - accuracy: 0.0010 - loss: 2.8513\n",
      "Epoch 19/100\n",
      "\u001b[1m19591/19591\u001b[0m \u001b[32m━━━━━━━━━━━━━━━━━━━━\u001b[0m\u001b[37m\u001b[0m \u001b[1m7s\u001b[0m 351us/step - accuracy: 0.0010 - loss: 2.8406\n",
      "Epoch 20/100\n",
      "\u001b[1m19591/19591\u001b[0m \u001b[32m━━━━━━━━━━━━━━━━━━━━\u001b[0m\u001b[37m\u001b[0m \u001b[1m7s\u001b[0m 363us/step - accuracy: 0.0011 - loss: 2.6911\n",
      "Epoch 21/100\n",
      "\u001b[1m19591/19591\u001b[0m \u001b[32m━━━━━━━━━━━━━━━━━━━━\u001b[0m\u001b[37m\u001b[0m \u001b[1m7s\u001b[0m 370us/step - accuracy: 0.0012 - loss: 2.8296\n",
      "Epoch 22/100\n",
      "\u001b[1m19591/19591\u001b[0m \u001b[32m━━━━━━━━━━━━━━━━━━━━\u001b[0m\u001b[37m\u001b[0m \u001b[1m7s\u001b[0m 373us/step - accuracy: 0.0012 - loss: 2.6640\n",
      "Epoch 23/100\n",
      "\u001b[1m19591/19591\u001b[0m \u001b[32m━━━━━━━━━━━━━━━━━━━━\u001b[0m\u001b[37m\u001b[0m \u001b[1m7s\u001b[0m 375us/step - accuracy: 0.0011 - loss: 2.6030\n",
      "Epoch 24/100\n",
      "\u001b[1m19591/19591\u001b[0m \u001b[32m━━━━━━━━━━━━━━━━━━━━\u001b[0m\u001b[37m\u001b[0m \u001b[1m7s\u001b[0m 371us/step - accuracy: 0.0011 - loss: 2.7651\n",
      "Epoch 25/100\n",
      "\u001b[1m19591/19591\u001b[0m \u001b[32m━━━━━━━━━━━━━━━━━━━━\u001b[0m\u001b[37m\u001b[0m \u001b[1m7s\u001b[0m 361us/step - accuracy: 0.0011 - loss: 2.6608\n",
      "Epoch 26/100\n",
      "\u001b[1m19591/19591\u001b[0m \u001b[32m━━━━━━━━━━━━━━━━━━━━\u001b[0m\u001b[37m\u001b[0m \u001b[1m7s\u001b[0m 362us/step - accuracy: 0.0011 - loss: 2.7672\n",
      "Epoch 27/100\n",
      "\u001b[1m19591/19591\u001b[0m \u001b[32m━━━━━━━━━━━━━━━━━━━━\u001b[0m\u001b[37m\u001b[0m \u001b[1m7s\u001b[0m 357us/step - accuracy: 0.0012 - loss: 2.5655\n",
      "Epoch 28/100\n",
      "\u001b[1m19591/19591\u001b[0m \u001b[32m━━━━━━━━━━━━━━━━━━━━\u001b[0m\u001b[37m\u001b[0m \u001b[1m7s\u001b[0m 363us/step - accuracy: 0.0011 - loss: 2.6229\n",
      "Epoch 29/100\n",
      "\u001b[1m19591/19591\u001b[0m \u001b[32m━━━━━━━━━━━━━━━━━━━━\u001b[0m\u001b[37m\u001b[0m \u001b[1m7s\u001b[0m 358us/step - accuracy: 0.0012 - loss: 2.6583\n",
      "Epoch 30/100\n",
      "\u001b[1m19591/19591\u001b[0m \u001b[32m━━━━━━━━━━━━━━━━━━━━\u001b[0m\u001b[37m\u001b[0m \u001b[1m7s\u001b[0m 359us/step - accuracy: 0.0012 - loss: 2.6811\n",
      "Epoch 31/100\n",
      "\u001b[1m19591/19591\u001b[0m \u001b[32m━━━━━━━━━━━━━━━━━━━━\u001b[0m\u001b[37m\u001b[0m \u001b[1m7s\u001b[0m 360us/step - accuracy: 0.0010 - loss: 2.5997\n",
      "Epoch 32/100\n",
      "\u001b[1m19591/19591\u001b[0m \u001b[32m━━━━━━━━━━━━━━━━━━━━\u001b[0m\u001b[37m\u001b[0m \u001b[1m7s\u001b[0m 360us/step - accuracy: 0.0011 - loss: 2.5747\n",
      "Epoch 33/100\n",
      "\u001b[1m19591/19591\u001b[0m \u001b[32m━━━━━━━━━━━━━━━━━━━━\u001b[0m\u001b[37m\u001b[0m \u001b[1m7s\u001b[0m 359us/step - accuracy: 0.0012 - loss: 2.7258\n",
      "Epoch 34/100\n",
      "\u001b[1m19591/19591\u001b[0m \u001b[32m━━━━━━━━━━━━━━━━━━━━\u001b[0m\u001b[37m\u001b[0m \u001b[1m7s\u001b[0m 359us/step - accuracy: 0.0013 - loss: 2.7082\n",
      "Epoch 35/100\n",
      "\u001b[1m19591/19591\u001b[0m \u001b[32m━━━━━━━━━━━━━━━━━━━━\u001b[0m\u001b[37m\u001b[0m \u001b[1m7s\u001b[0m 377us/step - accuracy: 0.0013 - loss: 2.5678\n",
      "Epoch 36/100\n",
      "\u001b[1m19591/19591\u001b[0m \u001b[32m━━━━━━━━━━━━━━━━━━━━\u001b[0m\u001b[37m\u001b[0m \u001b[1m7s\u001b[0m 360us/step - accuracy: 0.0013 - loss: 2.7137\n",
      "Epoch 37/100\n",
      "\u001b[1m19591/19591\u001b[0m \u001b[32m━━━━━━━━━━━━━━━━━━━━\u001b[0m\u001b[37m\u001b[0m \u001b[1m7s\u001b[0m 363us/step - accuracy: 0.0013 - loss: 2.4859\n",
      "Epoch 38/100\n",
      "\u001b[1m19591/19591\u001b[0m \u001b[32m━━━━━━━━━━━━━━━━━━━━\u001b[0m\u001b[37m\u001b[0m \u001b[1m7s\u001b[0m 360us/step - accuracy: 0.0013 - loss: 2.4844\n",
      "Epoch 39/100\n",
      "\u001b[1m19591/19591\u001b[0m \u001b[32m━━━━━━━━━━━━━━━━━━━━\u001b[0m\u001b[37m\u001b[0m \u001b[1m7s\u001b[0m 362us/step - accuracy: 0.0013 - loss: 2.4546\n",
      "Epoch 40/100\n",
      "\u001b[1m19591/19591\u001b[0m \u001b[32m━━━━━━━━━━━━━━━━━━━━\u001b[0m\u001b[37m\u001b[0m \u001b[1m7s\u001b[0m 365us/step - accuracy: 0.0013 - loss: 2.4995\n",
      "Epoch 41/100\n",
      "\u001b[1m19591/19591\u001b[0m \u001b[32m━━━━━━━━━━━━━━━━━━━━\u001b[0m\u001b[37m\u001b[0m \u001b[1m7s\u001b[0m 361us/step - accuracy: 0.0013 - loss: 2.3907\n",
      "Epoch 42/100\n",
      "\u001b[1m19591/19591\u001b[0m \u001b[32m━━━━━━━━━━━━━━━━━━━━\u001b[0m\u001b[37m\u001b[0m \u001b[1m7s\u001b[0m 364us/step - accuracy: 0.0013 - loss: 2.5207\n",
      "Epoch 43/100\n",
      "\u001b[1m19591/19591\u001b[0m \u001b[32m━━━━━━━━━━━━━━━━━━━━\u001b[0m\u001b[37m\u001b[0m \u001b[1m7s\u001b[0m 362us/step - accuracy: 0.0014 - loss: 2.4725\n",
      "Epoch 44/100\n",
      "\u001b[1m19591/19591\u001b[0m \u001b[32m━━━━━━━━━━━━━━━━━━━━\u001b[0m\u001b[37m\u001b[0m \u001b[1m7s\u001b[0m 366us/step - accuracy: 0.0014 - loss: 2.3986\n",
      "Epoch 45/100\n",
      "\u001b[1m19591/19591\u001b[0m \u001b[32m━━━━━━━━━━━━━━━━━━━━\u001b[0m\u001b[37m\u001b[0m \u001b[1m7s\u001b[0m 362us/step - accuracy: 0.0013 - loss: 2.4644\n",
      "Epoch 46/100\n",
      "\u001b[1m19591/19591\u001b[0m \u001b[32m━━━━━━━━━━━━━━━━━━━━\u001b[0m\u001b[37m\u001b[0m \u001b[1m7s\u001b[0m 363us/step - accuracy: 0.0014 - loss: 2.3607\n",
      "Epoch 47/100\n",
      "\u001b[1m19591/19591\u001b[0m \u001b[32m━━━━━━━━━━━━━━━━━━━━\u001b[0m\u001b[37m\u001b[0m \u001b[1m7s\u001b[0m 380us/step - accuracy: 0.0015 - loss: 2.3637\n",
      "Epoch 48/100\n",
      "\u001b[1m19591/19591\u001b[0m \u001b[32m━━━━━━━━━━━━━━━━━━━━\u001b[0m\u001b[37m\u001b[0m \u001b[1m7s\u001b[0m 364us/step - accuracy: 0.0014 - loss: 2.3702\n",
      "Epoch 49/100\n",
      "\u001b[1m19591/19591\u001b[0m \u001b[32m━━━━━━━━━━━━━━━━━━━━\u001b[0m\u001b[37m\u001b[0m \u001b[1m7s\u001b[0m 364us/step - accuracy: 0.0015 - loss: 2.3715\n",
      "Epoch 50/100\n",
      "\u001b[1m19591/19591\u001b[0m \u001b[32m━━━━━━━━━━━━━━━━━━━━\u001b[0m\u001b[37m\u001b[0m \u001b[1m7s\u001b[0m 367us/step - accuracy: 0.0016 - loss: 2.4079\n",
      "Epoch 51/100\n",
      "\u001b[1m19591/19591\u001b[0m \u001b[32m━━━━━━━━━━━━━━━━━━━━\u001b[0m\u001b[37m\u001b[0m \u001b[1m7s\u001b[0m 366us/step - accuracy: 0.0016 - loss: 2.3747\n",
      "Epoch 52/100\n",
      "\u001b[1m19591/19591\u001b[0m \u001b[32m━━━━━━━━━━━━━━━━━━━━\u001b[0m\u001b[37m\u001b[0m \u001b[1m7s\u001b[0m 364us/step - accuracy: 0.0017 - loss: 2.3936\n",
      "Epoch 53/100\n",
      "\u001b[1m19591/19591\u001b[0m \u001b[32m━━━━━━━━━━━━━━━━━━━━\u001b[0m\u001b[37m\u001b[0m \u001b[1m7s\u001b[0m 364us/step - accuracy: 0.0017 - loss: 2.3042\n",
      "Epoch 54/100\n",
      "\u001b[1m19591/19591\u001b[0m \u001b[32m━━━━━━━━━━━━━━━━━━━━\u001b[0m\u001b[37m\u001b[0m \u001b[1m7s\u001b[0m 375us/step - accuracy: 0.0016 - loss: 2.4055\n",
      "Epoch 55/100\n",
      "\u001b[1m19591/19591\u001b[0m \u001b[32m━━━━━━━━━━━━━━━━━━━━\u001b[0m\u001b[37m\u001b[0m \u001b[1m7s\u001b[0m 365us/step - accuracy: 0.0018 - loss: 2.5922\n",
      "Epoch 56/100\n",
      "\u001b[1m19591/19591\u001b[0m \u001b[32m━━━━━━━━━━━━━━━━━━━━\u001b[0m\u001b[37m\u001b[0m \u001b[1m7s\u001b[0m 370us/step - accuracy: 0.0017 - loss: 2.3138\n",
      "Epoch 57/100\n",
      "\u001b[1m19591/19591\u001b[0m \u001b[32m━━━━━━━━━━━━━━━━━━━━\u001b[0m\u001b[37m\u001b[0m \u001b[1m7s\u001b[0m 364us/step - accuracy: 0.0018 - loss: 2.2618\n",
      "Epoch 58/100\n",
      "\u001b[1m19591/19591\u001b[0m \u001b[32m━━━━━━━━━━━━━━━━━━━━\u001b[0m\u001b[37m\u001b[0m \u001b[1m7s\u001b[0m 365us/step - accuracy: 0.0019 - loss: 2.3305\n",
      "Epoch 59/100\n",
      "\u001b[1m19591/19591\u001b[0m \u001b[32m━━━━━━━━━━━━━━━━━━━━\u001b[0m\u001b[37m\u001b[0m \u001b[1m7s\u001b[0m 367us/step - accuracy: 0.0019 - loss: 2.2430\n",
      "Epoch 60/100\n",
      "\u001b[1m19591/19591\u001b[0m \u001b[32m━━━━━━━━━━━━━━━━━━━━\u001b[0m\u001b[37m\u001b[0m \u001b[1m7s\u001b[0m 365us/step - accuracy: 0.0018 - loss: 2.4670\n",
      "Epoch 61/100\n",
      "\u001b[1m19591/19591\u001b[0m \u001b[32m━━━━━━━━━━━━━━━━━━━━\u001b[0m\u001b[37m\u001b[0m \u001b[1m7s\u001b[0m 364us/step - accuracy: 0.0020 - loss: 2.2037\n",
      "Epoch 62/100\n",
      "\u001b[1m19591/19591\u001b[0m \u001b[32m━━━━━━━━━━━━━━━━━━━━\u001b[0m\u001b[37m\u001b[0m \u001b[1m7s\u001b[0m 369us/step - accuracy: 0.0018 - loss: 2.2860\n",
      "Epoch 63/100\n",
      "\u001b[1m19591/19591\u001b[0m \u001b[32m━━━━━━━━━━━━━━━━━━━━\u001b[0m\u001b[37m\u001b[0m \u001b[1m7s\u001b[0m 365us/step - accuracy: 0.0018 - loss: 2.3516\n",
      "Epoch 64/100\n",
      "\u001b[1m19591/19591\u001b[0m \u001b[32m━━━━━━━━━━━━━━━━━━━━\u001b[0m\u001b[37m\u001b[0m \u001b[1m7s\u001b[0m 372us/step - accuracy: 0.0019 - loss: 2.3011\n",
      "Epoch 65/100\n",
      "\u001b[1m19591/19591\u001b[0m \u001b[32m━━━━━━━━━━━━━━━━━━━━\u001b[0m\u001b[37m\u001b[0m \u001b[1m7s\u001b[0m 365us/step - accuracy: 0.0019 - loss: 2.2313\n",
      "Epoch 66/100\n",
      "\u001b[1m19591/19591\u001b[0m \u001b[32m━━━━━━━━━━━━━━━━━━━━\u001b[0m\u001b[37m\u001b[0m \u001b[1m7s\u001b[0m 382us/step - accuracy: 0.0020 - loss: 2.2822\n",
      "Epoch 67/100\n",
      "\u001b[1m19591/19591\u001b[0m \u001b[32m━━━━━━━━━━━━━━━━━━━━\u001b[0m\u001b[37m\u001b[0m \u001b[1m7s\u001b[0m 364us/step - accuracy: 0.0021 - loss: 2.2958\n",
      "Epoch 68/100\n",
      "\u001b[1m19591/19591\u001b[0m \u001b[32m━━━━━━━━━━━━━━━━━━━━\u001b[0m\u001b[37m\u001b[0m \u001b[1m7s\u001b[0m 372us/step - accuracy: 0.0018 - loss: 2.3904\n",
      "Epoch 69/100\n",
      "\u001b[1m19591/19591\u001b[0m \u001b[32m━━━━━━━━━━━━━━━━━━━━\u001b[0m\u001b[37m\u001b[0m \u001b[1m7s\u001b[0m 367us/step - accuracy: 0.0019 - loss: 2.3182\n",
      "Epoch 70/100\n",
      "\u001b[1m19591/19591\u001b[0m \u001b[32m━━━━━━━━━━━━━━━━━━━━\u001b[0m\u001b[37m\u001b[0m \u001b[1m7s\u001b[0m 368us/step - accuracy: 0.0019 - loss: 2.3719\n",
      "Epoch 71/100\n",
      "\u001b[1m19591/19591\u001b[0m \u001b[32m━━━━━━━━━━━━━━━━━━━━\u001b[0m\u001b[37m\u001b[0m \u001b[1m7s\u001b[0m 367us/step - accuracy: 0.0020 - loss: 2.2294\n",
      "Epoch 72/100\n",
      "\u001b[1m19591/19591\u001b[0m \u001b[32m━━━━━━━━━━━━━━━━━━━━\u001b[0m\u001b[37m\u001b[0m \u001b[1m7s\u001b[0m 363us/step - accuracy: 0.0022 - loss: 2.1770\n",
      "Epoch 73/100\n",
      "\u001b[1m19591/19591\u001b[0m \u001b[32m━━━━━━━━━━━━━━━━━━━━\u001b[0m\u001b[37m\u001b[0m \u001b[1m7s\u001b[0m 369us/step - accuracy: 0.0021 - loss: 2.3488\n",
      "Epoch 74/100\n",
      "\u001b[1m19591/19591\u001b[0m \u001b[32m━━━━━━━━━━━━━━━━━━━━\u001b[0m\u001b[37m\u001b[0m \u001b[1m7s\u001b[0m 365us/step - accuracy: 0.0021 - loss: 2.1947\n",
      "Epoch 75/100\n",
      "\u001b[1m19591/19591\u001b[0m \u001b[32m━━━━━━━━━━━━━━━━━━━━\u001b[0m\u001b[37m\u001b[0m \u001b[1m7s\u001b[0m 369us/step - accuracy: 0.0022 - loss: 2.1738\n",
      "Epoch 76/100\n",
      "\u001b[1m19591/19591\u001b[0m \u001b[32m━━━━━━━━━━━━━━━━━━━━\u001b[0m\u001b[37m\u001b[0m \u001b[1m7s\u001b[0m 367us/step - accuracy: 0.0021 - loss: 2.2017\n",
      "Epoch 77/100\n",
      "\u001b[1m19591/19591\u001b[0m \u001b[32m━━━━━━━━━━━━━━━━━━━━\u001b[0m\u001b[37m\u001b[0m \u001b[1m7s\u001b[0m 371us/step - accuracy: 0.0021 - loss: 2.2758\n",
      "Epoch 78/100\n",
      "\u001b[1m19591/19591\u001b[0m \u001b[32m━━━━━━━━━━━━━━━━━━━━\u001b[0m\u001b[37m\u001b[0m \u001b[1m7s\u001b[0m 366us/step - accuracy: 0.0023 - loss: 2.1400\n",
      "Epoch 79/100\n",
      "\u001b[1m19591/19591\u001b[0m \u001b[32m━━━━━━━━━━━━━━━━━━━━\u001b[0m\u001b[37m\u001b[0m \u001b[1m7s\u001b[0m 370us/step - accuracy: 0.0024 - loss: 2.1765\n",
      "Epoch 80/100\n",
      "\u001b[1m19591/19591\u001b[0m \u001b[32m━━━━━━━━━━━━━━━━━━━━\u001b[0m\u001b[37m\u001b[0m \u001b[1m7s\u001b[0m 366us/step - accuracy: 0.0024 - loss: 2.1708\n",
      "Epoch 81/100\n",
      "\u001b[1m19591/19591\u001b[0m \u001b[32m━━━━━━━━━━━━━━━━━━━━\u001b[0m\u001b[37m\u001b[0m \u001b[1m8s\u001b[0m 385us/step - accuracy: 0.0023 - loss: 2.3154\n",
      "Epoch 82/100\n",
      "\u001b[1m19591/19591\u001b[0m \u001b[32m━━━━━━━━━━━━━━━━━━━━\u001b[0m\u001b[37m\u001b[0m \u001b[1m7s\u001b[0m 367us/step - accuracy: 0.0022 - loss: 2.2480\n",
      "Epoch 83/100\n",
      "\u001b[1m19591/19591\u001b[0m \u001b[32m━━━━━━━━━━━━━━━━━━━━\u001b[0m\u001b[37m\u001b[0m \u001b[1m7s\u001b[0m 368us/step - accuracy: 0.0023 - loss: 2.1718\n",
      "Epoch 84/100\n",
      "\u001b[1m19591/19591\u001b[0m \u001b[32m━━━━━━━━━━━━━━━━━━━━\u001b[0m\u001b[37m\u001b[0m \u001b[1m7s\u001b[0m 370us/step - accuracy: 0.0023 - loss: 2.2645\n",
      "Epoch 85/100\n",
      "\u001b[1m19591/19591\u001b[0m \u001b[32m━━━━━━━━━━━━━━━━━━━━\u001b[0m\u001b[37m\u001b[0m \u001b[1m7s\u001b[0m 368us/step - accuracy: 0.0024 - loss: 2.2869\n",
      "Epoch 86/100\n",
      "\u001b[1m19591/19591\u001b[0m \u001b[32m━━━━━━━━━━━━━━━━━━━━\u001b[0m\u001b[37m\u001b[0m \u001b[1m7s\u001b[0m 370us/step - accuracy: 0.0023 - loss: 2.2374\n",
      "Epoch 87/100\n",
      "\u001b[1m19591/19591\u001b[0m \u001b[32m━━━━━━━━━━━━━━━━━━━━\u001b[0m\u001b[37m\u001b[0m \u001b[1m7s\u001b[0m 366us/step - accuracy: 0.0021 - loss: 2.4339\n",
      "Epoch 88/100\n",
      "\u001b[1m19591/19591\u001b[0m \u001b[32m━━━━━━━━━━━━━━━━━━━━\u001b[0m\u001b[37m\u001b[0m \u001b[1m8s\u001b[0m 389us/step - accuracy: 0.0023 - loss: 2.2853\n",
      "Epoch 89/100\n",
      "\u001b[1m19591/19591\u001b[0m \u001b[32m━━━━━━━━━━━━━━━━━━━━\u001b[0m\u001b[37m\u001b[0m \u001b[1m7s\u001b[0m 372us/step - accuracy: 0.0023 - loss: 2.2492\n",
      "Epoch 90/100\n",
      "\u001b[1m19591/19591\u001b[0m \u001b[32m━━━━━━━━━━━━━━━━━━━━\u001b[0m\u001b[37m\u001b[0m \u001b[1m7s\u001b[0m 368us/step - accuracy: 0.0022 - loss: 2.2498\n",
      "Epoch 91/100\n",
      "\u001b[1m19591/19591\u001b[0m \u001b[32m━━━━━━━━━━━━━━━━━━━━\u001b[0m\u001b[37m\u001b[0m \u001b[1m7s\u001b[0m 373us/step - accuracy: 0.0023 - loss: 2.1487\n",
      "Epoch 92/100\n",
      "\u001b[1m19591/19591\u001b[0m \u001b[32m━━━━━━━━━━━━━━━━━━━━\u001b[0m\u001b[37m\u001b[0m \u001b[1m7s\u001b[0m 372us/step - accuracy: 0.0024 - loss: 2.2580\n",
      "Epoch 93/100\n",
      "\u001b[1m19591/19591\u001b[0m \u001b[32m━━━━━━━━━━━━━━━━━━━━\u001b[0m\u001b[37m\u001b[0m \u001b[1m7s\u001b[0m 368us/step - accuracy: 0.0022 - loss: 2.2682\n",
      "Epoch 94/100\n",
      "\u001b[1m19591/19591\u001b[0m \u001b[32m━━━━━━━━━━━━━━━━━━━━\u001b[0m\u001b[37m\u001b[0m \u001b[1m7s\u001b[0m 371us/step - accuracy: 0.0023 - loss: 2.3559\n",
      "Epoch 95/100\n",
      "\u001b[1m19591/19591\u001b[0m \u001b[32m━━━━━━━━━━━━━━━━━━━━\u001b[0m\u001b[37m\u001b[0m \u001b[1m7s\u001b[0m 372us/step - accuracy: 0.0022 - loss: 2.3141\n",
      "Epoch 96/100\n",
      "\u001b[1m19591/19591\u001b[0m \u001b[32m━━━━━━━━━━━━━━━━━━━━\u001b[0m\u001b[37m\u001b[0m \u001b[1m8s\u001b[0m 388us/step - accuracy: 0.0023 - loss: 2.2967\n",
      "Epoch 97/100\n",
      "\u001b[1m19591/19591\u001b[0m \u001b[32m━━━━━━━━━━━━━━━━━━━━\u001b[0m\u001b[37m\u001b[0m \u001b[1m7s\u001b[0m 370us/step - accuracy: 0.0024 - loss: 2.1338\n",
      "Epoch 98/100\n",
      "\u001b[1m19591/19591\u001b[0m \u001b[32m━━━━━━━━━━━━━━━━━━━━\u001b[0m\u001b[37m\u001b[0m \u001b[1m7s\u001b[0m 368us/step - accuracy: 0.0023 - loss: 2.3437\n",
      "Epoch 99/100\n",
      "\u001b[1m19591/19591\u001b[0m \u001b[32m━━━━━━━━━━━━━━━━━━━━\u001b[0m\u001b[37m\u001b[0m \u001b[1m7s\u001b[0m 372us/step - accuracy: 0.0023 - loss: 2.1670\n",
      "Epoch 100/100\n",
      "\u001b[1m19591/19591\u001b[0m \u001b[32m━━━━━━━━━━━━━━━━━━━━\u001b[0m\u001b[37m\u001b[0m \u001b[1m8s\u001b[0m 390us/step - accuracy: 0.0024 - loss: 2.1650\n"
     ]
    },
    {
     "data": {
      "text/plain": [
       "<keras.src.callbacks.history.History at 0x32f2ee0b0>"
      ]
     },
     "execution_count": 22,
     "metadata": {},
     "output_type": "execute_result"
    }
   ],
   "source": [
    "# Uncomment the following if you have already trained the model\n",
    "\n",
    "# initialize the ANN\n",
    "ann = tf.keras.models.Sequential() \n",
    "\n",
    "# adding the input layer and the first hidden layer\n",
    "# units=5, where 5 is the number of neurons in the first input layer\n",
    "ann.add(tf.keras.layers.Dense(units=5, activation='relu'))\n",
    "# adding the second hidden layer\n",
    "ann.add(tf.keras.layers.Dense(units=32, activation='relu'))\n",
    "# adding the third hidden layer\n",
    "ann.add(tf.keras.layers.Dense(units=32, activation='sigmoid'))\n",
    "# adding the output layer, absolute value of the snr\n",
    "ann.add(tf.keras.layers.Dense(units=1, activation='linear'))\n",
    "\n",
    "# compile the ANN\n",
    "ann.compile(optimizer = 'adam', loss = 'mean_squared_error', metrics = ['accuracy'])\n",
    "\n",
    "# train the ANN on the training set\n",
    "ann.fit(X_train, y_train, batch_size = 32, epochs = 100)"
   ]
  },
  {
   "cell_type": "code",
   "execution_count": 23,
   "metadata": {},
   "outputs": [
    {
     "name": "stdout",
     "output_type": "stream",
     "text": [
      "WARNING:absl:You are saving your model as an HDF5 file via `model.save()` or `keras.saving.save_model(model)`. This file format is considered legacy. We recommend using instead the native Keras format, e.g. `model.save('my_model.keras')` or `keras.saving.save_model(model, 'my_model.keras')`. \n"
     ]
    }
   ],
   "source": [
    "# Save the model to a file\n",
    "ann.save('ann_modelET2_final.h5')\n",
    "modelET2 = ann"
   ]
  },
  {
   "cell_type": "code",
   "execution_count": 24,
   "metadata": {},
   "outputs": [],
   "source": [
    "# # Uncomment the following if you have already generated the model\n",
    "\n",
    "# # load the model\n",
    "# from tensorflow.keras.models import load_model\n",
    "# modelET2 = load_model('ann_modelET2_final.h5')"
   ]
  },
  {
   "cell_type": "code",
   "execution_count": 25,
   "metadata": {},
   "outputs": [
    {
     "name": "stdout",
     "output_type": "stream",
     "text": [
      "\u001b[1m2177/2177\u001b[0m \u001b[32m━━━━━━━━━━━━━━━━━━━━\u001b[0m\u001b[37m\u001b[0m \u001b[1m1s\u001b[0m 239us/step\n",
      "[[10.52247524  9.56997269]\n",
      " [ 2.65808439  2.62966915]\n",
      " [ 5.36120605  5.33616631]\n",
      " [ 4.3813715   4.26774525]\n",
      " [ 4.416677    4.14764793]\n",
      " [18.76843262 17.88953047]\n",
      " [ 4.2925601   4.29928295]\n",
      " [ 3.46281862  3.09975251]\n",
      " [ 6.3896265   6.2901915 ]\n",
      " [13.19214821 13.75831676]\n",
      " [ 5.02232265  4.84546348]\n",
      " [ 3.6394105   3.53958734]\n",
      " [23.15038681 24.78505214]\n",
      " [ 2.23121738  2.02530801]\n",
      " [ 4.83520555  4.73614035]]\n"
     ]
    }
   ],
   "source": [
    "# left: predicted snr, right: actual snr\n",
    "y_pred = modelET2.predict(X_test)\n",
    "#y_pred = (y_pred > 0.5)\n",
    "print(np.concatenate((y_pred.reshape(len(y_pred),1), y_test.reshape(len(y_test),1)),1)[10:25])"
   ]
  },
  {
   "cell_type": "code",
   "execution_count": 26,
   "metadata": {},
   "outputs": [
    {
     "name": "stdout",
     "output_type": "stream",
     "text": [
      "Error: 3.01%\n"
     ]
    }
   ],
   "source": [
    "# calculate the error\n",
    "len1 = len(y_pred)\n",
    "len2 = np.sum((y_pred.flatten()>8) != (y_test>8))\n",
    "error = len2/len1*100\n",
    "print(f\"Error: {error:.2f}%\")"
   ]
  },
  {
   "cell_type": "code",
   "execution_count": 27,
   "metadata": {},
   "outputs": [
    {
     "name": "stdout",
     "output_type": "stream",
     "text": [
      "[[37190  1320]\n",
      " [  780 30364]]\n",
      "Accuracy: 96.985%\n"
     ]
    }
   ],
   "source": [
    "# 5 param: 97.627%\n",
    "# 4 param, without theta_jn: 98.536%\n",
    "y_pred_ = y_pred\n",
    "y_test_ = y_test\n",
    "cm = confusion_matrix((y_test_>8), ((y_pred_)>8))\n",
    "print(cm)\n",
    "accuracy = accuracy_score((y_test_>8), (y_pred_>8))*100\n",
    "print(f\"Accuracy: {accuracy:.3f}%\")"
   ]
  },
  {
   "cell_type": "markdown",
   "metadata": {},
   "source": [
    "### Test with astrophysical parameters"
   ]
  },
  {
   "cell_type": "code",
   "execution_count": 28,
   "metadata": {},
   "outputs": [
    {
     "name": "stdout",
     "output_type": "stream",
     "text": [
      "WARNING:absl:Compiled the loaded model, but the compiled metrics have yet to be built. `model.compile_metrics` will be empty until you train or evaluate the model.\n",
      "\u001b[1m1563/1563\u001b[0m \u001b[32m━━━━━━━━━━━━━━━━━━━━\u001b[0m\u001b[37m\u001b[0m \u001b[1m0s\u001b[0m 238us/step\n",
      "[[26828   979]\n",
      " [  534 21659]]\n",
      "Accuracy: 96.974%\n"
     ]
    }
   ],
   "source": [
    "# Get the data. This data is generated using `ler` package.\n",
    "unlensed_params = get_param_from_json(\"ler_data/unlensed_param_testing_ETCE.json\")\n",
    "X_,Y_ = input_output(np.arange(len(unlensed_params['ET2'])), unlensed_params, det='ET2')\n",
    "scalerET2 = pickle.load(open('scalerET2_final.pkl', 'rb'))\n",
    "X_ = scalerET2.transform(X_)\n",
    "\n",
    "modelET2 = load_model('ann_modelET2_final.h5')\n",
    "y_pred_ = modelET2.predict(X_).flatten()\n",
    "y_test_ = Y_\n",
    "cm = confusion_matrix((y_test_>8), ((y_pred_)>8))\n",
    "print(cm)\n",
    "accuracy = accuracy_score((y_test_>8), (y_pred_>8))*100\n",
    "print(f\"Accuracy: {accuracy:.3f}%\")"
   ]
  },
  {
   "cell_type": "code",
   "execution_count": 29,
   "metadata": {},
   "outputs": [
    {
     "name": "stdout",
     "output_type": "stream",
     "text": [
      "slope: 0.0187, intercept: -0.0746\n"
     ]
    }
   ],
   "source": [
    "# Uncomment to create error ajustment\n",
    "\n",
    "# do linear fitting of the error y_pred-y_test\n",
    "def func(x, a, b):\n",
    "    return a*x + b\n",
    "\n",
    "idx = (y_pred_>4) & (y_pred_<10)\n",
    "idx = idx & (y_test_!=0)\n",
    "popt, pcov = curve_fit(func, y_pred_[idx], y_pred_[idx]-y_test_[idx])\n",
    "print(f\"slope: {popt[0]:.4f}, intercept: {popt[1]:.4f}\")\n",
    "\n",
    "try:\n",
    "    adjustment_dict = load_json('error_adjustment_final.json')\n",
    "except:\n",
    "    adjustment_dict = {}\n",
    "adjustment_dict['ET2'] = {'slope': popt[0], 'intercept': popt[1]}\n",
    "# save json\n",
    "save_json('error_adjustment_final.json', adjustment_dict)"
   ]
  },
  {
   "cell_type": "code",
   "execution_count": 30,
   "metadata": {},
   "outputs": [
    {
     "name": "stdout",
     "output_type": "stream",
     "text": [
      "\u001b[1m1563/1563\u001b[0m \u001b[32m━━━━━━━━━━━━━━━━━━━━\u001b[0m\u001b[37m\u001b[0m \u001b[1m0s\u001b[0m 237us/step\n",
      "[[26958   849]\n",
      " [  655 21538]]\n",
      "Accuracy (after error ajustment): 96.992%\n"
     ]
    }
   ],
   "source": [
    "# load json\n",
    "adjustment_dict = load_json('error_adjustment_final.json')\n",
    "a = adjustment_dict['ET2']['slope']\n",
    "b = adjustment_dict['ET2']['intercept']\n",
    "\n",
    "y_pred_ = modelET2.predict(X_).flatten()\n",
    "y_pred_ = y_pred_-(a*y_pred_ + b)\n",
    "y_test_ = Y_\n",
    "cm = confusion_matrix((y_test_>8), ((y_pred_)>8))\n",
    "print(cm)\n",
    "accuracy = accuracy_score((y_test_>8), (y_pred_>8))*100\n",
    "print(f\"Accuracy (after error ajustment): {accuracy:.3f}%\")"
   ]
  },
  {
   "cell_type": "code",
   "execution_count": null,
   "metadata": {},
   "outputs": [],
   "source": []
  },
  {
   "cell_type": "markdown",
   "metadata": {},
   "source": [
    "## ET3"
   ]
  },
  {
   "cell_type": "code",
   "execution_count": 31,
   "metadata": {},
   "outputs": [
    {
     "name": "stdout",
     "output_type": "stream",
     "text": [
      "size before SNR cut: 697283\n",
      "size after SNR cut: 696635\n"
     ]
    }
   ],
   "source": [
    "# these are pre-generated datas\n",
    "# join all dictionaries into one\n",
    "unlensed_params1 = get_param_from_json(\"ler_data/unlensed_param_ET.json\")\n",
    "\n",
    "# len_ = int(len(unlensed_params1['ET3'])/2)\n",
    "# print(len_)\n",
    "# for key, value in unlensed_params1.items():\n",
    "#     unlensed_params1[key] = value[:len_]\n",
    "\n",
    "unlensed_params2 = get_param_from_json(\"ler_data/joint_new_optsnr_ET3.json\")\n",
    "\n",
    "unlensed_params = add_dict_values(unlensed_params1, unlensed_params2)\n",
    "del unlensed_params1, unlensed_params2\n",
    "\n",
    "# snr = unlensed_params['ET3']\n",
    "# idx = snr>0\n",
    "# for key, value in unlensed_params.items():\n",
    "#     unlensed_params[key] = value[idx]\n",
    "\n",
    "# unlensed_params = get_param_from_json(\"ler_data/unlensed_param_ET.json\")\n",
    "\n",
    "print(f\"size before SNR cut: {len(unlensed_params['ET3'])}\")\n",
    "# set SNR cut\n",
    "idx_constrain = unlensed_params['ET3']<100\n",
    "for key, value in unlensed_params.items():\n",
    "    unlensed_params[key] = value[idx_constrain]\n",
    "\n",
    "print(f\"size after SNR cut: {len(unlensed_params['ET3'])}\")"
   ]
  },
  {
   "cell_type": "code",
   "execution_count": 32,
   "metadata": {},
   "outputs": [
    {
     "data": {
      "image/png": "[encoded data removed]",
      "text/plain": [
       "<Figure size 400x400 with 1 Axes>"
      ]
     },
     "metadata": {},
     "output_type": "display_data"
    }
   ],
   "source": [
    "# visualize the data\n",
    "import matplotlib.pyplot as plt\n",
    "#unlensed_params = get_param_from_json(\"joint_new_optsnr.json\")\n",
    "test = np.array(unlensed_params['ET3'])\n",
    "test = test[test<20]\n",
    "plt.figure(figsize=(4,4))\n",
    "plt.hist(test, bins=30, alpha=0.6, histtype='step', density=True)\n",
    "plt.xlim(0,20)\n",
    "plt.grid(alpha=0.4)\n",
    "plt.show()"
   ]
  },
  {
   "cell_type": "code",
   "execution_count": 33,
   "metadata": {},
   "outputs": [
    {
     "data": {
      "text/plain": [
       "(696635, 5)"
      ]
     },
     "execution_count": 33,
     "metadata": {},
     "output_type": "execute_result"
    }
   ],
   "source": [
    "len_ = len(unlensed_params['ET3'])\n",
    "idx = np.arange(len_)\n",
    "# randomize the train set\n",
    "idx = np.random.permutation(idx)\n",
    "XET3,yET3 = input_output(idx, unlensed_params, det='ET3')\n",
    "np.shape(XET3)"
   ]
  },
  {
   "cell_type": "code",
   "execution_count": 34,
   "metadata": {},
   "outputs": [],
   "source": [
    "X_train, X_test, y_train, y_test = train_test_split(XET3, yET3, test_size = 0.1, random_state = 0)\n",
    "\n",
    "# Uncomment the following if you have not generated the scaler\n",
    "\n",
    "# feature scaling\n",
    "sc = StandardScaler()\n",
    "X_train = sc.fit_transform(X_train)\n",
    "X_test = sc.transform(X_test)\n",
    "\n",
    "# save the scaler\n",
    "pickle.dump(sc, open('scalerET3_final.pkl', 'wb'))\n",
    "\n",
    "# # Uncomment the following if you have already generated the scaler\n",
    "\n",
    "# # load the scaler\n",
    "# scalerET3 = pickle.load(open('scalerET3_final.pkl', 'rb'))\n",
    "# sc = scalerET3\n",
    "# X_train = sc.transform(X_train)\n",
    "# X_test = sc.transform(X_test)"
   ]
  },
  {
   "cell_type": "code",
   "execution_count": 35,
   "metadata": {},
   "outputs": [
    {
     "name": "stdout",
     "output_type": "stream",
     "text": [
      "Epoch 1/100\n",
      "\u001b[1m19593/19593\u001b[0m \u001b[32m━━━━━━━━━━━━━━━━━━━━\u001b[0m\u001b[37m\u001b[0m \u001b[1m7s\u001b[0m 352us/step - accuracy: 4.8169e-05 - loss: 22.6077\n",
      "Epoch 2/100\n",
      "\u001b[1m19593/19593\u001b[0m \u001b[32m━━━━━━━━━━━━━━━━━━━━\u001b[0m\u001b[37m\u001b[0m \u001b[1m7s\u001b[0m 349us/step - accuracy: 7.3079e-05 - loss: 3.7918\n",
      "Epoch 3/100\n",
      "\u001b[1m19593/19593\u001b[0m \u001b[32m━━━━━━━━━━━━━━━━━━━━\u001b[0m\u001b[37m\u001b[0m \u001b[1m7s\u001b[0m 344us/step - accuracy: 1.0068e-04 - loss: 3.5741\n",
      "Epoch 4/100\n",
      "\u001b[1m19593/19593\u001b[0m \u001b[32m━━━━━━━━━━━━━━━━━━━━\u001b[0m\u001b[37m\u001b[0m \u001b[1m7s\u001b[0m 346us/step - accuracy: 1.1910e-04 - loss: 3.3245\n",
      "Epoch 5/100\n",
      "\u001b[1m19593/19593\u001b[0m \u001b[32m━━━━━━━━━━━━━━━━━━━━\u001b[0m\u001b[37m\u001b[0m \u001b[1m7s\u001b[0m 349us/step - accuracy: 1.6854e-04 - loss: 3.4585\n",
      "Epoch 6/100\n",
      "\u001b[1m19593/19593\u001b[0m \u001b[32m━━━━━━━━━━━━━━━━━━━━\u001b[0m\u001b[37m\u001b[0m \u001b[1m7s\u001b[0m 343us/step - accuracy: 2.6222e-04 - loss: 3.5509\n",
      "Epoch 7/100\n",
      "\u001b[1m19593/19593\u001b[0m \u001b[32m━━━━━━━━━━━━━━━━━━━━\u001b[0m\u001b[37m\u001b[0m \u001b[1m7s\u001b[0m 347us/step - accuracy: 2.2820e-04 - loss: 3.2520\n",
      "Epoch 8/100\n",
      "\u001b[1m19593/19593\u001b[0m \u001b[32m━━━━━━━━━━━━━━━━━━━━\u001b[0m\u001b[37m\u001b[0m \u001b[1m7s\u001b[0m 347us/step - accuracy: 3.8618e-04 - loss: 3.1127\n",
      "Epoch 9/100\n",
      "\u001b[1m19593/19593\u001b[0m \u001b[32m━━━━━━━━━━━━━━━━━━━━\u001b[0m\u001b[37m\u001b[0m \u001b[1m7s\u001b[0m 345us/step - accuracy: 6.5536e-04 - loss: 3.1109\n",
      "Epoch 10/100\n",
      "\u001b[1m19593/19593\u001b[0m \u001b[32m━━━━━━━━━━━━━━━━━━━━\u001b[0m\u001b[37m\u001b[0m \u001b[1m7s\u001b[0m 344us/step - accuracy: 7.7189e-04 - loss: 3.1389\n",
      "Epoch 11/100\n",
      "\u001b[1m19593/19593\u001b[0m \u001b[32m━━━━━━━━━━━━━━━━━━━━\u001b[0m\u001b[37m\u001b[0m \u001b[1m7s\u001b[0m 348us/step - accuracy: 8.1530e-04 - loss: 3.0671\n",
      "Epoch 12/100\n",
      "\u001b[1m19593/19593\u001b[0m \u001b[32m━━━━━━━━━━━━━━━━━━━━\u001b[0m\u001b[37m\u001b[0m \u001b[1m7s\u001b[0m 342us/step - accuracy: 8.5846e-04 - loss: 3.0218\n",
      "Epoch 13/100\n",
      "\u001b[1m19593/19593\u001b[0m \u001b[32m━━━━━━━━━━━━━━━━━━━━\u001b[0m\u001b[37m\u001b[0m \u001b[1m7s\u001b[0m 342us/step - accuracy: 9.6363e-04 - loss: 2.9671\n",
      "Epoch 14/100\n",
      "\u001b[1m19593/19593\u001b[0m \u001b[32m━━━━━━━━━━━━━━━━━━━━\u001b[0m\u001b[37m\u001b[0m \u001b[1m7s\u001b[0m 344us/step - accuracy: 0.0010 - loss: 2.8915\n",
      "Epoch 15/100\n",
      "\u001b[1m19593/19593\u001b[0m \u001b[32m━━━━━━━━━━━━━━━━━━━━\u001b[0m\u001b[37m\u001b[0m \u001b[1m7s\u001b[0m 347us/step - accuracy: 0.0011 - loss: 2.7574\n",
      "Epoch 16/100\n",
      "\u001b[1m19593/19593\u001b[0m \u001b[32m━━━━━━━━━━━━━━━━━━━━\u001b[0m\u001b[37m\u001b[0m \u001b[1m7s\u001b[0m 346us/step - accuracy: 0.0011 - loss: 2.8609\n",
      "Epoch 17/100\n",
      "\u001b[1m19593/19593\u001b[0m \u001b[32m━━━━━━━━━━━━━━━━━━━━\u001b[0m\u001b[37m\u001b[0m \u001b[1m7s\u001b[0m 341us/step - accuracy: 0.0013 - loss: 2.7480\n",
      "Epoch 18/100\n",
      "\u001b[1m19593/19593\u001b[0m \u001b[32m━━━━━━━━━━━━━━━━━━━━\u001b[0m\u001b[37m\u001b[0m \u001b[1m7s\u001b[0m 345us/step - accuracy: 0.0013 - loss: 2.6982\n",
      "Epoch 19/100\n",
      "\u001b[1m19593/19593\u001b[0m \u001b[32m━━━━━━━━━━━━━━━━━━━━\u001b[0m\u001b[37m\u001b[0m \u001b[1m7s\u001b[0m 346us/step - accuracy: 0.0014 - loss: 2.8035\n",
      "Epoch 20/100\n",
      "\u001b[1m19593/19593\u001b[0m \u001b[32m━━━━━━━━━━━━━━━━━━━━\u001b[0m\u001b[37m\u001b[0m \u001b[1m7s\u001b[0m 344us/step - accuracy: 0.0014 - loss: 2.6462\n",
      "Epoch 21/100\n",
      "\u001b[1m19593/19593\u001b[0m \u001b[32m━━━━━━━━━━━━━━━━━━━━\u001b[0m\u001b[37m\u001b[0m \u001b[1m7s\u001b[0m 342us/step - accuracy: 0.0013 - loss: 2.6323\n",
      "Epoch 22/100\n",
      "\u001b[1m19593/19593\u001b[0m \u001b[32m━━━━━━━━━━━━━━━━━━━━\u001b[0m\u001b[37m\u001b[0m \u001b[1m7s\u001b[0m 345us/step - accuracy: 0.0014 - loss: 2.6716\n",
      "Epoch 23/100\n",
      "\u001b[1m19593/19593\u001b[0m \u001b[32m━━━━━━━━━━━━━━━━━━━━\u001b[0m\u001b[37m\u001b[0m \u001b[1m7s\u001b[0m 345us/step - accuracy: 0.0016 - loss: 2.6509\n",
      "Epoch 24/100\n",
      "\u001b[1m19593/19593\u001b[0m \u001b[32m━━━━━━━━━━━━━━━━━━━━\u001b[0m\u001b[37m\u001b[0m \u001b[1m7s\u001b[0m 345us/step - accuracy: 0.0013 - loss: 2.7255\n",
      "Epoch 25/100\n",
      "\u001b[1m19593/19593\u001b[0m \u001b[32m━━━━━━━━━━━━━━━━━━━━\u001b[0m\u001b[37m\u001b[0m \u001b[1m7s\u001b[0m 344us/step - accuracy: 0.0016 - loss: 2.7853\n",
      "Epoch 26/100\n",
      "\u001b[1m19593/19593\u001b[0m \u001b[32m━━━━━━━━━━━━━━━━━━━━\u001b[0m\u001b[37m\u001b[0m \u001b[1m7s\u001b[0m 342us/step - accuracy: 0.0016 - loss: 2.6526\n",
      "Epoch 27/100\n",
      "\u001b[1m19593/19593\u001b[0m \u001b[32m━━━━━━━━━━━━━━━━━━━━\u001b[0m\u001b[37m\u001b[0m \u001b[1m7s\u001b[0m 344us/step - accuracy: 0.0016 - loss: 2.6121\n",
      "Epoch 28/100\n",
      "\u001b[1m19593/19593\u001b[0m \u001b[32m━━━━━━━━━━━━━━━━━━━━\u001b[0m\u001b[37m\u001b[0m \u001b[1m7s\u001b[0m 360us/step - accuracy: 0.0017 - loss: 2.4945\n",
      "Epoch 29/100\n",
      "\u001b[1m19593/19593\u001b[0m \u001b[32m━━━━━━━━━━━━━━━━━━━━\u001b[0m\u001b[37m\u001b[0m \u001b[1m7s\u001b[0m 344us/step - accuracy: 0.0018 - loss: 2.5472\n",
      "Epoch 30/100\n",
      "\u001b[1m19593/19593\u001b[0m \u001b[32m━━━━━━━━━━━━━━━━━━━━\u001b[0m\u001b[37m\u001b[0m \u001b[1m7s\u001b[0m 345us/step - accuracy: 0.0020 - loss: 2.4295\n",
      "Epoch 31/100\n",
      "\u001b[1m19593/19593\u001b[0m \u001b[32m━━━━━━━━━━━━━━━━━━━━\u001b[0m\u001b[37m\u001b[0m \u001b[1m7s\u001b[0m 345us/step - accuracy: 0.0020 - loss: 2.4112\n",
      "Epoch 32/100\n",
      "\u001b[1m19593/19593\u001b[0m \u001b[32m━━━━━━━━━━━━━━━━━━━━\u001b[0m\u001b[37m\u001b[0m \u001b[1m7s\u001b[0m 345us/step - accuracy: 0.0019 - loss: 2.4010\n",
      "Epoch 33/100\n",
      "\u001b[1m19593/19593\u001b[0m \u001b[32m━━━━━━━━━━━━━━━━━━━━\u001b[0m\u001b[37m\u001b[0m \u001b[1m7s\u001b[0m 345us/step - accuracy: 0.0020 - loss: 2.5501\n",
      "Epoch 34/100\n",
      "\u001b[1m19593/19593\u001b[0m \u001b[32m━━━━━━━━━━━━━━━━━━━━\u001b[0m\u001b[37m\u001b[0m \u001b[1m7s\u001b[0m 346us/step - accuracy: 0.0019 - loss: 2.4109\n",
      "Epoch 35/100\n",
      "\u001b[1m19593/19593\u001b[0m \u001b[32m━━━━━━━━━━━━━━━━━━━━\u001b[0m\u001b[37m\u001b[0m \u001b[1m7s\u001b[0m 342us/step - accuracy: 0.0019 - loss: 2.5003\n",
      "Epoch 36/100\n",
      "\u001b[1m19593/19593\u001b[0m \u001b[32m━━━━━━━━━━━━━━━━━━━━\u001b[0m\u001b[37m\u001b[0m \u001b[1m7s\u001b[0m 357us/step - accuracy: 0.0020 - loss: 2.3839\n",
      "Epoch 37/100\n",
      "\u001b[1m19593/19593\u001b[0m \u001b[32m━━━━━━━━━━━━━━━━━━━━\u001b[0m\u001b[37m\u001b[0m \u001b[1m7s\u001b[0m 343us/step - accuracy: 0.0020 - loss: 2.4610\n",
      "Epoch 38/100\n",
      "\u001b[1m19593/19593\u001b[0m \u001b[32m━━━━━━━━━━━━━━━━━━━━\u001b[0m\u001b[37m\u001b[0m \u001b[1m7s\u001b[0m 346us/step - accuracy: 0.0020 - loss: 2.4000\n",
      "Epoch 39/100\n",
      "\u001b[1m19593/19593\u001b[0m \u001b[32m━━━━━━━━━━━━━━━━━━━━\u001b[0m\u001b[37m\u001b[0m \u001b[1m7s\u001b[0m 346us/step - accuracy: 0.0020 - loss: 2.4614\n",
      "Epoch 40/100\n",
      "\u001b[1m19593/19593\u001b[0m \u001b[32m━━━━━━━━━━━━━━━━━━━━\u001b[0m\u001b[37m\u001b[0m \u001b[1m7s\u001b[0m 348us/step - accuracy: 0.0020 - loss: 2.4239\n",
      "Epoch 41/100\n",
      "\u001b[1m19593/19593\u001b[0m \u001b[32m━━━━━━━━━━━━━━━━━━━━\u001b[0m\u001b[37m\u001b[0m \u001b[1m7s\u001b[0m 347us/step - accuracy: 0.0020 - loss: 2.4802\n",
      "Epoch 42/100\n",
      "\u001b[1m19593/19593\u001b[0m \u001b[32m━━━━━━━━━━━━━━━━━━━━\u001b[0m\u001b[37m\u001b[0m \u001b[1m7s\u001b[0m 344us/step - accuracy: 0.0020 - loss: 2.4448\n",
      "Epoch 43/100\n",
      "\u001b[1m19593/19593\u001b[0m \u001b[32m━━━━━━━━━━━━━━━━━━━━\u001b[0m\u001b[37m\u001b[0m \u001b[1m7s\u001b[0m 346us/step - accuracy: 0.0020 - loss: 2.4852\n",
      "Epoch 44/100\n",
      "\u001b[1m19593/19593\u001b[0m \u001b[32m━━━━━━━━━━━━━━━━━━━━\u001b[0m\u001b[37m\u001b[0m \u001b[1m7s\u001b[0m 347us/step - accuracy: 0.0019 - loss: 2.5281\n",
      "Epoch 45/100\n",
      "\u001b[1m19593/19593\u001b[0m \u001b[32m━━━━━━━━━━━━━━━━━━━━\u001b[0m\u001b[37m\u001b[0m \u001b[1m7s\u001b[0m 347us/step - accuracy: 0.0019 - loss: 2.5260\n",
      "Epoch 46/100\n",
      "\u001b[1m19593/19593\u001b[0m \u001b[32m━━━━━━━━━━━━━━━━━━━━\u001b[0m\u001b[37m\u001b[0m \u001b[1m7s\u001b[0m 342us/step - accuracy: 0.0019 - loss: 2.4445\n",
      "Epoch 47/100\n",
      "\u001b[1m19593/19593\u001b[0m \u001b[32m━━━━━━━━━━━━━━━━━━━━\u001b[0m\u001b[37m\u001b[0m \u001b[1m7s\u001b[0m 347us/step - accuracy: 0.0022 - loss: 2.3239\n",
      "Epoch 48/100\n",
      "\u001b[1m19593/19593\u001b[0m \u001b[32m━━━━━━━━━━━━━━━━━━━━\u001b[0m\u001b[37m\u001b[0m \u001b[1m7s\u001b[0m 346us/step - accuracy: 0.0021 - loss: 2.4110\n",
      "Epoch 49/100\n",
      "\u001b[1m19593/19593\u001b[0m \u001b[32m━━━━━━━━━━━━━━━━━━━━\u001b[0m\u001b[37m\u001b[0m \u001b[1m7s\u001b[0m 359us/step - accuracy: 0.0022 - loss: 2.3710\n",
      "Epoch 50/100\n",
      "\u001b[1m19593/19593\u001b[0m \u001b[32m━━━━━━━━━━━━━━━━━━━━\u001b[0m\u001b[37m\u001b[0m \u001b[1m7s\u001b[0m 351us/step - accuracy: 0.0019 - loss: 2.4108\n",
      "Epoch 51/100\n",
      "\u001b[1m19593/19593\u001b[0m \u001b[32m━━━━━━━━━━━━━━━━━━━━\u001b[0m\u001b[37m\u001b[0m \u001b[1m7s\u001b[0m 349us/step - accuracy: 0.0019 - loss: 2.4467\n",
      "Epoch 52/100\n",
      "\u001b[1m19593/19593\u001b[0m \u001b[32m━━━━━━━━━━━━━━━━━━━━\u001b[0m\u001b[37m\u001b[0m \u001b[1m7s\u001b[0m 345us/step - accuracy: 0.0021 - loss: 2.3441\n",
      "Epoch 53/100\n",
      "\u001b[1m19593/19593\u001b[0m \u001b[32m━━━━━━━━━━━━━━━━━━━━\u001b[0m\u001b[37m\u001b[0m \u001b[1m7s\u001b[0m 349us/step - accuracy: 0.0021 - loss: 2.3546\n",
      "Epoch 54/100\n",
      "\u001b[1m19593/19593\u001b[0m \u001b[32m━━━━━━━━━━━━━━━━━━━━\u001b[0m\u001b[37m\u001b[0m \u001b[1m7s\u001b[0m 344us/step - accuracy: 0.0021 - loss: 2.4039\n",
      "Epoch 55/100\n",
      "\u001b[1m19593/19593\u001b[0m \u001b[32m━━━━━━━━━━━━━━━━━━━━\u001b[0m\u001b[37m\u001b[0m \u001b[1m7s\u001b[0m 343us/step - accuracy: 0.0023 - loss: 2.3517\n",
      "Epoch 56/100\n",
      "\u001b[1m19593/19593\u001b[0m \u001b[32m━━━━━━━━━━━━━━━━━━━━\u001b[0m\u001b[37m\u001b[0m \u001b[1m7s\u001b[0m 349us/step - accuracy: 0.0021 - loss: 2.4174\n",
      "Epoch 57/100\n",
      "\u001b[1m19593/19593\u001b[0m \u001b[32m━━━━━━━━━━━━━━━━━━━━\u001b[0m\u001b[37m\u001b[0m \u001b[1m7s\u001b[0m 347us/step - accuracy: 0.0022 - loss: 2.2927\n",
      "Epoch 58/100\n",
      "\u001b[1m19593/19593\u001b[0m \u001b[32m━━━━━━━━━━━━━━━━━━━━\u001b[0m\u001b[37m\u001b[0m \u001b[1m7s\u001b[0m 349us/step - accuracy: 0.0023 - loss: 2.3008\n",
      "Epoch 59/100\n",
      "\u001b[1m19593/19593\u001b[0m \u001b[32m━━━━━━━━━━━━━━━━━━━━\u001b[0m\u001b[37m\u001b[0m \u001b[1m7s\u001b[0m 346us/step - accuracy: 0.0021 - loss: 2.2826\n",
      "Epoch 60/100\n",
      "\u001b[1m19593/19593\u001b[0m \u001b[32m━━━━━━━━━━━━━━━━━━━━\u001b[0m\u001b[37m\u001b[0m \u001b[1m7s\u001b[0m 348us/step - accuracy: 0.0022 - loss: 2.3586\n",
      "Epoch 61/100\n",
      "\u001b[1m19593/19593\u001b[0m \u001b[32m━━━━━━━━━━━━━━━━━━━━\u001b[0m\u001b[37m\u001b[0m \u001b[1m7s\u001b[0m 346us/step - accuracy: 0.0021 - loss: 2.4193\n",
      "Epoch 62/100\n",
      "\u001b[1m19593/19593\u001b[0m \u001b[32m━━━━━━━━━━━━━━━━━━━━\u001b[0m\u001b[37m\u001b[0m \u001b[1m7s\u001b[0m 341us/step - accuracy: 0.0021 - loss: 2.3271\n",
      "Epoch 63/100\n",
      "\u001b[1m19593/19593\u001b[0m \u001b[32m━━━━━━━━━━━━━━━━━━━━\u001b[0m\u001b[37m\u001b[0m \u001b[1m7s\u001b[0m 345us/step - accuracy: 0.0021 - loss: 2.4630\n",
      "Epoch 64/100\n",
      "\u001b[1m19593/19593\u001b[0m \u001b[32m━━━━━━━━━━━━━━━━━━━━\u001b[0m\u001b[37m\u001b[0m \u001b[1m7s\u001b[0m 346us/step - accuracy: 0.0024 - loss: 2.3786\n",
      "Epoch 65/100\n",
      "\u001b[1m19593/19593\u001b[0m \u001b[32m━━━━━━━━━━━━━━━━━━━━\u001b[0m\u001b[37m\u001b[0m \u001b[1m7s\u001b[0m 356us/step - accuracy: 0.0021 - loss: 2.3649\n",
      "Epoch 66/100\n",
      "\u001b[1m19593/19593\u001b[0m \u001b[32m━━━━━━━━━━━━━━━━━━━━\u001b[0m\u001b[37m\u001b[0m \u001b[1m7s\u001b[0m 346us/step - accuracy: 0.0025 - loss: 2.3497\n",
      "Epoch 67/100\n",
      "\u001b[1m19593/19593\u001b[0m \u001b[32m━━━━━━━━━━━━━━━━━━━━\u001b[0m\u001b[37m\u001b[0m \u001b[1m7s\u001b[0m 343us/step - accuracy: 0.0022 - loss: 2.2668\n",
      "Epoch 68/100\n",
      "\u001b[1m19593/19593\u001b[0m \u001b[32m━━━━━━━━━━━━━━━━━━━━\u001b[0m\u001b[37m\u001b[0m \u001b[1m7s\u001b[0m 346us/step - accuracy: 0.0023 - loss: 2.2931\n",
      "Epoch 69/100\n",
      "\u001b[1m19593/19593\u001b[0m \u001b[32m━━━━━━━━━━━━━━━━━━━━\u001b[0m\u001b[37m\u001b[0m \u001b[1m7s\u001b[0m 345us/step - accuracy: 0.0022 - loss: 2.3409\n",
      "Epoch 70/100\n",
      "\u001b[1m19593/19593\u001b[0m \u001b[32m━━━━━━━━━━━━━━━━━━━━\u001b[0m\u001b[37m\u001b[0m \u001b[1m7s\u001b[0m 341us/step - accuracy: 0.0022 - loss: 2.2579\n",
      "Epoch 71/100\n",
      "\u001b[1m19593/19593\u001b[0m \u001b[32m━━━━━━━━━━━━━━━━━━━━\u001b[0m\u001b[37m\u001b[0m \u001b[1m7s\u001b[0m 346us/step - accuracy: 0.0022 - loss: 2.3455\n",
      "Epoch 72/100\n",
      "\u001b[1m19593/19593\u001b[0m \u001b[32m━━━━━━━━━━━━━━━━━━━━\u001b[0m\u001b[37m\u001b[0m \u001b[1m7s\u001b[0m 358us/step - accuracy: 0.0022 - loss: 2.3379\n",
      "Epoch 73/100\n",
      "\u001b[1m19593/19593\u001b[0m \u001b[32m━━━━━━━━━━━━━━━━━━━━\u001b[0m\u001b[37m\u001b[0m \u001b[1m7s\u001b[0m 343us/step - accuracy: 0.0023 - loss: 2.4630\n",
      "Epoch 74/100\n",
      "\u001b[1m19593/19593\u001b[0m \u001b[32m━━━━━━━━━━━━━━━━━━━━\u001b[0m\u001b[37m\u001b[0m \u001b[1m7s\u001b[0m 348us/step - accuracy: 0.0021 - loss: 2.1954\n",
      "Epoch 75/100\n",
      "\u001b[1m19593/19593\u001b[0m \u001b[32m━━━━━━━━━━━━━━━━━━━━\u001b[0m\u001b[37m\u001b[0m \u001b[1m7s\u001b[0m 346us/step - accuracy: 0.0023 - loss: 2.3479\n",
      "Epoch 76/100\n",
      "\u001b[1m19593/19593\u001b[0m \u001b[32m━━━━━━━━━━━━━━━━━━━━\u001b[0m\u001b[37m\u001b[0m \u001b[1m7s\u001b[0m 348us/step - accuracy: 0.0024 - loss: 2.4099\n",
      "Epoch 77/100\n",
      "\u001b[1m19593/19593\u001b[0m \u001b[32m━━━━━━━━━━━━━━━━━━━━\u001b[0m\u001b[37m\u001b[0m \u001b[1m7s\u001b[0m 346us/step - accuracy: 0.0025 - loss: 2.3157\n",
      "Epoch 78/100\n",
      "\u001b[1m19593/19593\u001b[0m \u001b[32m━━━━━━━━━━━━━━━━━━━━\u001b[0m\u001b[37m\u001b[0m \u001b[1m7s\u001b[0m 346us/step - accuracy: 0.0021 - loss: 2.4139\n",
      "Epoch 79/100\n",
      "\u001b[1m19593/19593\u001b[0m \u001b[32m━━━━━━━━━━━━━━━━━━━━\u001b[0m\u001b[37m\u001b[0m \u001b[1m7s\u001b[0m 347us/step - accuracy: 0.0025 - loss: 2.2955\n",
      "Epoch 80/100\n",
      "\u001b[1m19593/19593\u001b[0m \u001b[32m━━━━━━━━━━━━━━━━━━━━\u001b[0m\u001b[37m\u001b[0m \u001b[1m7s\u001b[0m 357us/step - accuracy: 0.0023 - loss: 2.3825\n",
      "Epoch 81/100\n",
      "\u001b[1m19593/19593\u001b[0m \u001b[32m━━━━━━━━━━━━━━━━━━━━\u001b[0m\u001b[37m\u001b[0m \u001b[1m7s\u001b[0m 346us/step - accuracy: 0.0026 - loss: 2.1085\n",
      "Epoch 82/100\n",
      "\u001b[1m19593/19593\u001b[0m \u001b[32m━━━━━━━━━━━━━━━━━━━━\u001b[0m\u001b[37m\u001b[0m \u001b[1m7s\u001b[0m 346us/step - accuracy: 0.0025 - loss: 2.1600\n",
      "Epoch 83/100\n",
      "\u001b[1m19593/19593\u001b[0m \u001b[32m━━━━━━━━━━━━━━━━━━━━\u001b[0m\u001b[37m\u001b[0m \u001b[1m7s\u001b[0m 346us/step - accuracy: 0.0022 - loss: 2.2412\n",
      "Epoch 84/100\n",
      "\u001b[1m19593/19593\u001b[0m \u001b[32m━━━━━━━━━━━━━━━━━━━━\u001b[0m\u001b[37m\u001b[0m \u001b[1m7s\u001b[0m 349us/step - accuracy: 0.0024 - loss: 2.2357\n",
      "Epoch 85/100\n",
      "\u001b[1m19593/19593\u001b[0m \u001b[32m━━━━━━━━━━━━━━━━━━━━\u001b[0m\u001b[37m\u001b[0m \u001b[1m7s\u001b[0m 347us/step - accuracy: 0.0024 - loss: 2.1841\n",
      "Epoch 86/100\n",
      "\u001b[1m19593/19593\u001b[0m \u001b[32m━━━━━━━━━━━━━━━━━━━━\u001b[0m\u001b[37m\u001b[0m \u001b[1m7s\u001b[0m 345us/step - accuracy: 0.0025 - loss: 2.1091\n",
      "Epoch 87/100\n",
      "\u001b[1m19593/19593\u001b[0m \u001b[32m━━━━━━━━━━━━━━━━━━━━\u001b[0m\u001b[37m\u001b[0m \u001b[1m7s\u001b[0m 346us/step - accuracy: 0.0025 - loss: 2.1553\n",
      "Epoch 88/100\n",
      "\u001b[1m19593/19593\u001b[0m \u001b[32m━━━━━━━━━━━━━━━━━━━━\u001b[0m\u001b[37m\u001b[0m \u001b[1m7s\u001b[0m 346us/step - accuracy: 0.0024 - loss: 2.3514\n",
      "Epoch 89/100\n",
      "\u001b[1m19593/19593\u001b[0m \u001b[32m━━━━━━━━━━━━━━━━━━━━\u001b[0m\u001b[37m\u001b[0m \u001b[1m7s\u001b[0m 347us/step - accuracy: 0.0026 - loss: 2.1770\n",
      "Epoch 90/100\n",
      "\u001b[1m19593/19593\u001b[0m \u001b[32m━━━━━━━━━━━━━━━━━━━━\u001b[0m\u001b[37m\u001b[0m \u001b[1m7s\u001b[0m 348us/step - accuracy: 0.0025 - loss: 2.3072\n",
      "Epoch 91/100\n",
      "\u001b[1m19593/19593\u001b[0m \u001b[32m━━━━━━━━━━━━━━━━━━━━\u001b[0m\u001b[37m\u001b[0m \u001b[1m7s\u001b[0m 347us/step - accuracy: 0.0024 - loss: 2.3358\n",
      "Epoch 92/100\n",
      "\u001b[1m19593/19593\u001b[0m \u001b[32m━━━━━━━━━━━━━━━━━━━━\u001b[0m\u001b[37m\u001b[0m \u001b[1m7s\u001b[0m 358us/step - accuracy: 0.0026 - loss: 2.1860\n",
      "Epoch 93/100\n",
      "\u001b[1m19593/19593\u001b[0m \u001b[32m━━━━━━━━━━━━━━━━━━━━\u001b[0m\u001b[37m\u001b[0m \u001b[1m7s\u001b[0m 350us/step - accuracy: 0.0026 - loss: 2.1706\n",
      "Epoch 94/100\n",
      "\u001b[1m19593/19593\u001b[0m \u001b[32m━━━━━━━━━━━━━━━━━━━━\u001b[0m\u001b[37m\u001b[0m \u001b[1m7s\u001b[0m 346us/step - accuracy: 0.0025 - loss: 2.2909\n",
      "Epoch 95/100\n",
      "\u001b[1m19593/19593\u001b[0m \u001b[32m━━━━━━━━━━━━━━━━━━━━\u001b[0m\u001b[37m\u001b[0m \u001b[1m7s\u001b[0m 347us/step - accuracy: 0.0025 - loss: 2.2614\n",
      "Epoch 96/100\n",
      "\u001b[1m19593/19593\u001b[0m \u001b[32m━━━━━━━━━━━━━━━━━━━━\u001b[0m\u001b[37m\u001b[0m \u001b[1m7s\u001b[0m 348us/step - accuracy: 0.0024 - loss: 2.2621\n",
      "Epoch 97/100\n",
      "\u001b[1m19593/19593\u001b[0m \u001b[32m━━━━━━━━━━━━━━━━━━━━\u001b[0m\u001b[37m\u001b[0m \u001b[1m7s\u001b[0m 349us/step - accuracy: 0.0026 - loss: 2.2381\n",
      "Epoch 98/100\n",
      "\u001b[1m19593/19593\u001b[0m \u001b[32m━━━━━━━━━━━━━━━━━━━━\u001b[0m\u001b[37m\u001b[0m \u001b[1m7s\u001b[0m 345us/step - accuracy: 0.0025 - loss: 2.2363\n",
      "Epoch 99/100\n",
      "\u001b[1m19593/19593\u001b[0m \u001b[32m━━━━━━━━━━━━━━━━━━━━\u001b[0m\u001b[37m\u001b[0m \u001b[1m7s\u001b[0m 342us/step - accuracy: 0.0026 - loss: 2.2344\n",
      "Epoch 100/100\n",
      "\u001b[1m19593/19593\u001b[0m \u001b[32m━━━━━━━━━━━━━━━━━━━━\u001b[0m\u001b[37m\u001b[0m \u001b[1m7s\u001b[0m 344us/step - accuracy: 0.0025 - loss: 2.2628\n"
     ]
    },
    {
     "data": {
      "text/plain": [
       "<keras.src.callbacks.history.History at 0x32ea6b010>"
      ]
     },
     "execution_count": 35,
     "metadata": {},
     "output_type": "execute_result"
    }
   ],
   "source": [
    "# Uncomment the following if you have already trained the model\n",
    "\n",
    "# initialize the ANN\n",
    "ann = tf.keras.models.Sequential() \n",
    "\n",
    "# adding the input layer and the first hidden layer\n",
    "# units=5, where 5 is the number of neurons in the first input layer\n",
    "ann.add(tf.keras.layers.Dense(units=5, activation='relu'))\n",
    "# adding the second hidden layer\n",
    "ann.add(tf.keras.layers.Dense(units=32, activation='relu'))\n",
    "# adding the third hidden layer\n",
    "ann.add(tf.keras.layers.Dense(units=32, activation='sigmoid'))\n",
    "# adding the output layer, absolute value of the snr\n",
    "ann.add(tf.keras.layers.Dense(units=1, activation='linear'))\n",
    "\n",
    "# compile the ANN\n",
    "ann.compile(optimizer = 'adam', loss = 'mean_squared_error', metrics = ['accuracy'])\n",
    "\n",
    "# train the ANN on the training set\n",
    "ann.fit(X_train, y_train, batch_size = 32, epochs = 100)"
   ]
  },
  {
   "cell_type": "code",
   "execution_count": 36,
   "metadata": {},
   "outputs": [
    {
     "name": "stdout",
     "output_type": "stream",
     "text": [
      "WARNING:absl:You are saving your model as an HDF5 file via `model.save()` or `keras.saving.save_model(model)`. This file format is considered legacy. We recommend using instead the native Keras format, e.g. `model.save('my_model.keras')` or `keras.saving.save_model(model, 'my_model.keras')`. \n"
     ]
    }
   ],
   "source": [
    "# Save the model to a file\n",
    "ann.save('ann_modelET3_final.h5')\n",
    "modelET3 = ann"
   ]
  },
  {
   "cell_type": "code",
   "execution_count": 37,
   "metadata": {},
   "outputs": [],
   "source": [
    "# # Uncomment the following if you have already generated the model\n",
    "\n",
    "# # load the model\n",
    "# from tensorflow.keras.models import load_model\n",
    "# modelET3 = load_model('ann_modelET3_final.h5')"
   ]
  },
  {
   "cell_type": "code",
   "execution_count": 38,
   "metadata": {},
   "outputs": [
    {
     "name": "stdout",
     "output_type": "stream",
     "text": [
      "\u001b[1m2177/2177\u001b[0m \u001b[32m━━━━━━━━━━━━━━━━━━━━\u001b[0m\u001b[37m\u001b[0m \u001b[1m1s\u001b[0m 224us/step\n",
      "[[ 5.57245541  5.81567874]\n",
      " [46.00018311 44.21110949]\n",
      " [ 6.35019255  6.44040196]\n",
      " [13.57101536 14.21956844]\n",
      " [ 5.31488514  6.56740713]\n",
      " [ 7.44659281  5.9749794 ]\n",
      " [11.38140678 13.34405854]\n",
      " [ 5.26468515  5.09018546]\n",
      " [ 5.17257738  5.52839025]\n",
      " [15.80698776 15.90368436]\n",
      " [ 9.94339561 10.55422675]\n",
      " [11.15847397 10.64564161]\n",
      " [ 4.02502918  4.3257658 ]\n",
      " [ 6.32746983  6.52467123]\n",
      " [34.57960129 30.74351223]]\n"
     ]
    }
   ],
   "source": [
    "# left: predicted snr, right: actual snr\n",
    "y_pred = modelET3.predict(X_test)\n",
    "#y_pred = (y_pred > 0.5)\n",
    "print(np.concatenate((y_pred.reshape(len(y_pred),1), y_test.reshape(len(y_test),1)),1)[10:25])"
   ]
  },
  {
   "cell_type": "code",
   "execution_count": 39,
   "metadata": {},
   "outputs": [
    {
     "name": "stdout",
     "output_type": "stream",
     "text": [
      "Error: 2.99%\n"
     ]
    }
   ],
   "source": [
    "# calculate the error\n",
    "len1 = len(y_pred)\n",
    "len2 = np.sum((y_pred.flatten()>8) != (y_test>8))\n",
    "error = len2/len1*100\n",
    "print(f\"Error: {error:.2f}%\")"
   ]
  },
  {
   "cell_type": "code",
   "execution_count": 40,
   "metadata": {},
   "outputs": [
    {
     "name": "stdout",
     "output_type": "stream",
     "text": [
      "[[37466  1146]\n",
      " [  939 30113]]\n",
      "Accuracy: 97.007%\n"
     ]
    }
   ],
   "source": [
    "# 5 param: 97.627%\n",
    "# 4 param, without theta_jn: 98.536%\n",
    "y_pred_ = y_pred\n",
    "y_test_ = y_test\n",
    "cm = confusion_matrix((y_test_>8), ((y_pred_)>8))\n",
    "print(cm)\n",
    "accuracy = accuracy_score((y_test_>8), (y_pred_>8))*100\n",
    "print(f\"Accuracy: {accuracy:.3f}%\")"
   ]
  },
  {
   "cell_type": "markdown",
   "metadata": {},
   "source": [
    "### Test with astrophysical parameters"
   ]
  },
  {
   "cell_type": "code",
   "execution_count": 41,
   "metadata": {},
   "outputs": [
    {
     "name": "stdout",
     "output_type": "stream",
     "text": [
      "WARNING:absl:Compiled the loaded model, but the compiled metrics have yet to be built. `model.compile_metrics` will be empty until you train or evaluate the model.\n",
      "\u001b[1m1563/1563\u001b[0m \u001b[32m━━━━━━━━━━━━━━━━━━━━\u001b[0m\u001b[37m\u001b[0m \u001b[1m0s\u001b[0m 234us/step\n",
      "[[27014   810]\n",
      " [  738 21438]]\n",
      "Accuracy: 96.904%\n"
     ]
    }
   ],
   "source": [
    "# Get the data. This data is generated using `ler` package.\n",
    "unlensed_params = get_param_from_json(\"ler_data/unlensed_param_testing_ETCE.json\")\n",
    "X_,Y_ = input_output(np.arange(len(unlensed_params['ET3'])), unlensed_params, det='ET3')\n",
    "scalerET3 = pickle.load(open('scalerET3_final.pkl', 'rb'))\n",
    "X_ = scalerET3.transform(X_)\n",
    "\n",
    "modelET3 = load_model('ann_modelET3_final.h5')\n",
    "y_pred_ = modelET3.predict(X_).flatten()\n",
    "y_test_ = Y_\n",
    "cm = confusion_matrix((y_test_>8), ((y_pred_)>8))\n",
    "print(cm)\n",
    "accuracy = accuracy_score((y_test_>8), (y_pred_>8))*100\n",
    "print(f\"Accuracy: {accuracy:.3f}%\")"
   ]
  },
  {
   "cell_type": "code",
   "execution_count": 42,
   "metadata": {},
   "outputs": [
    {
     "name": "stdout",
     "output_type": "stream",
     "text": [
      "slope: 0.0048, intercept: -0.0472\n"
     ]
    }
   ],
   "source": [
    "# Uncomment to create error ajustment\n",
    "\n",
    "# do linear fitting of the error y_pred-y_test\n",
    "def func(x, a, b):\n",
    "    return a*x + b\n",
    "\n",
    "idx = (y_pred_>4) & (y_pred_<10)\n",
    "idx = idx & (y_test_!=0)\n",
    "popt, pcov = curve_fit(func, y_pred_[idx], y_pred_[idx]-y_test_[idx])\n",
    "print(f\"slope: {popt[0]:.4f}, intercept: {popt[1]:.4f}\")\n",
    "\n",
    "try:\n",
    "    adjustment_dict = load_json('error_adjustment_final.json')\n",
    "except:\n",
    "    adjustment_dict = {}\n",
    "adjustment_dict['ET3'] = {'slope': popt[0], 'intercept': popt[1]}\n",
    "# save json\n",
    "save_json('error_adjustment_final.json', adjustment_dict)"
   ]
  },
  {
   "cell_type": "code",
   "execution_count": 43,
   "metadata": {},
   "outputs": [
    {
     "name": "stdout",
     "output_type": "stream",
     "text": [
      "\u001b[1m1563/1563\u001b[0m \u001b[32m━━━━━━━━━━━━━━━━━━━━\u001b[0m\u001b[37m\u001b[0m \u001b[1m0s\u001b[0m 234us/step\n",
      "[[26997   827]\n",
      " [  722 21454]]\n",
      "Accuracy (after error ajustment): 96.902%\n"
     ]
    }
   ],
   "source": [
    "# load json\n",
    "adjustment_dict = load_json('error_adjustment_final.json')\n",
    "a = adjustment_dict['ET3']['slope']\n",
    "b = adjustment_dict['ET3']['intercept']\n",
    "\n",
    "y_pred_ = modelET3.predict(X_).flatten()\n",
    "y_pred_ = y_pred_-(a*y_pred_ + b)\n",
    "y_test_ = Y_\n",
    "cm = confusion_matrix((y_test_>8), ((y_pred_)>8))\n",
    "print(cm)\n",
    "accuracy = accuracy_score((y_test_>8), (y_pred_>8))*100\n",
    "print(f\"Accuracy (after error ajustment): {accuracy:.3f}%\")"
   ]
  },
  {
   "cell_type": "code",
   "execution_count": null,
   "metadata": {},
   "outputs": [],
   "source": []
  },
  {
   "cell_type": "markdown",
   "metadata": {},
   "source": [
    "## Load all models and test them"
   ]
  },
  {
   "cell_type": "code",
   "execution_count": 23,
   "metadata": {},
   "outputs": [
    {
     "name": "stdout",
     "output_type": "stream",
     "text": [
      "WARNING:absl:Compiled the loaded model, but the compiled metrics have yet to be built. `model.compile_metrics` will be empty until you train or evaluate the model.\n",
      "WARNING:absl:Compiled the loaded model, but the compiled metrics have yet to be built. `model.compile_metrics` will be empty until you train or evaluate the model.\n",
      "WARNING:absl:Compiled the loaded model, but the compiled metrics have yet to be built. `model.compile_metrics` will be empty until you train or evaluate the model.\n"
     ]
    }
   ],
   "source": [
    "from tensorflow.keras.models import load_model\n",
    "modelET1 = load_model('ann_modelET1_final.h5')\n",
    "modelET2 = load_model('ann_modelET2_final.h5')\n",
    "modelET3 = load_model('ann_modelET3_final.h5')\n",
    "\n",
    "# load the scaler\n",
    "import pickle\n",
    "scalerET1 = pickle.load(open('scalerET1_final.pkl', 'rb'))\n",
    "scalerET2 = pickle.load(open('scalerET2_final.pkl', 'rb'))\n",
    "scalerET3 = pickle.load(open('scalerET3_final.pkl', 'rb'))\n",
    "\n",
    "# load the correction slope and intercept\n",
    "correction = load_json('error_adjustment_final.json')\n",
    "aET1 = correction['ET1']['slope']\n",
    "bET1 = correction['ET1']['intercept']\n",
    "aET2 = correction['ET2']['slope']\n",
    "bET2 = correction['ET2']['intercept']\n",
    "aET3 = correction['ET3']['slope']\n",
    "bET3 = correction['ET3']['intercept']"
   ]
  },
  {
   "cell_type": "code",
   "execution_count": 24,
   "metadata": {},
   "outputs": [],
   "source": [
    "unlensed_params = get_param_from_json(\"ler_data/unlensed_param_testing_ETCE.json\")"
   ]
  },
  {
   "cell_type": "code",
   "execution_count": 25,
   "metadata": {},
   "outputs": [],
   "source": [
    "XET1_,yET1_,XET2_,yET2_, XET3_,yET3_,yNET_ = input_output(np.arange(len(unlensed_params['ET1'])), unlensed_params, det='NET')"
   ]
  },
  {
   "cell_type": "code",
   "execution_count": 26,
   "metadata": {},
   "outputs": [],
   "source": [
    "def predict_snr_net_ANN(XET1, XET2, XET3):\n",
    "    \"\"\"\n",
    "        Function to predict the network SNR using the ANN models\n",
    "\n",
    "        Parameters:\n",
    "        XET1: input data for ET1, [snr_half_[0], amp0[0], eta, chi_eff, theta_jn]\n",
    "        XET2: input data for ET2, [snr_half_[1], amp0[1], eta, chi_eff, theta_jn]\n",
    "        XET3: input data for ET3, [snr_half_[2], amp0[2], eta, chi_eff, theta_jn]\n",
    "\n",
    "        Returns:\n",
    "        y: network SNR\n",
    "    \"\"\"\n",
    "    x = scalerET1.transform(XET1)\n",
    "    yET1 = modelET1.predict(x)\n",
    "    yET1 = yET1 - (aET1*yET1 + bET1)\n",
    "    x = scalerET2.transform(XET2)\n",
    "    yET2 = modelET2.predict(x)\n",
    "    yET2 = yET2 - (aET2*yET2 + bET2)\n",
    "    x = scalerET3.transform(XET3)\n",
    "    yET3 = modelET3.predict(x)\n",
    "    yET3 = yET3 - (aET3*yET3 + bET3)\n",
    "    y = np.sqrt(yET1**2 + yET2**2 + yET3**2)\n",
    "\n",
    "    # mass_1 = np.array(unlensed_params['mass_1'])\n",
    "    # mass_2 = np.array(unlensed_params['mass_2'])\n",
    "    # mtot = mass_1 + mass_2\n",
    "    # y[mtot>gwsnr.mtot_max] = 0.\n",
    "\n",
    "    # return(y)\n",
    "    return yET1, yET2, yET3, y"
   ]
  },
  {
   "cell_type": "code",
   "execution_count": 27,
   "metadata": {},
   "outputs": [
    {
     "name": "stdout",
     "output_type": "stream",
     "text": [
      "\u001b[1m1563/1563\u001b[0m \u001b[32m━━━━━━━━━━━━━━━━━━━━\u001b[0m\u001b[37m\u001b[0m \u001b[1m0s\u001b[0m 237us/step\n",
      "\u001b[1m1563/1563\u001b[0m \u001b[32m━━━━━━━━━━━━━━━━━━━━\u001b[0m\u001b[37m\u001b[0m \u001b[1m0s\u001b[0m 236us/step\n",
      "\u001b[1m1563/1563\u001b[0m \u001b[32m━━━━━━━━━━━━━━━━━━━━\u001b[0m\u001b[37m\u001b[0m \u001b[1m0s\u001b[0m 242us/step\n",
      "[[28.53900528 29.83070384]\n",
      " [46.29739761 54.33960261]\n",
      " [17.75957108 15.33198284]\n",
      " [22.81264496 22.41579184]\n",
      " [14.09397507 12.4347551 ]\n",
      " [ 6.52673721  6.33845441]\n",
      " [10.80855846 10.29623933]\n",
      " [ 0.16650869  0.        ]\n",
      " [ 8.32227707  7.83343622]\n",
      " [ 8.61046124  8.69505497]\n",
      " [ 5.06292486  4.71481899]\n",
      " [25.84856224 23.25769735]\n",
      " [ 7.74353743  8.15459608]\n",
      " [ 5.98157406  5.73405412]\n",
      " [12.89855385 12.58034079]]\n"
     ]
    }
   ],
   "source": [
    "# left: predicted snr, right: actual snr\n",
    "_,_,_,y_pred_ = predict_snr_net_ANN(XET1_, XET2_, XET3_)\n",
    "y_pred_ = y_pred_.flatten()\n",
    "# idx = (y_pred>4) & (y_pred<10)\n",
    "# y_pred_ = y_pred[idx]\n",
    "# y_true_ = yNET[idx]\n",
    "y_true_ = yNET_\n",
    "print(np.concatenate((y_pred_.reshape(len(y_pred_),1), y_true_.reshape(len(y_true_),1)),1)[10:25])"
   ]
  },
  {
   "cell_type": "code",
   "execution_count": 28,
   "metadata": {},
   "outputs": [
    {
     "name": "stdout",
     "output_type": "stream",
     "text": [
      "\u001b[1m1563/1563\u001b[0m \u001b[32m━━━━━━━━━━━━━━━━━━━━\u001b[0m\u001b[37m\u001b[0m \u001b[1m0s\u001b[0m 228us/step\n",
      "\u001b[1m1563/1563\u001b[0m \u001b[32m━━━━━━━━━━━━━━━━━━━━\u001b[0m\u001b[37m\u001b[0m \u001b[1m0s\u001b[0m 223us/step\n",
      "\u001b[1m1563/1563\u001b[0m \u001b[32m━━━━━━━━━━━━━━━━━━━━\u001b[0m\u001b[37m\u001b[0m \u001b[1m0s\u001b[0m 222us/step\n",
      "[[11404   958]\n",
      " [  367 37271]]\n",
      "Accuracy: 97.350%\n"
     ]
    }
   ],
   "source": [
    "_,_,_,y_pred_ = predict_snr_net_ANN(XET1_, XET2_, XET3_)\n",
    "y_pred_ = y_pred_.flatten()\n",
    "# idx = (y_pred>4) & (y_pred<10)\n",
    "# y_pred_ = y_pred[idx]\n",
    "# y_true_ = yNET[idx]\n",
    "y_true_ = yNET_\n",
    "cm = confusion_matrix((y_true_>8), ((y_pred_)>8))\n",
    "print(cm)\n",
    "accuracy = accuracy_score((y_true_>8), (y_pred_>8))*100\n",
    "print(f\"Accuracy: {accuracy:.3f}%\")"
   ]
  },
  {
   "cell_type": "code",
   "execution_count": 29,
   "metadata": {},
   "outputs": [
    {
     "data": {
      "image/png": "[encoded data removed]",
      "text/plain": [
       "<Figure size 400x400 with 1 Axes>"
      ]
     },
     "metadata": {},
     "output_type": "display_data"
    }
   ],
   "source": [
    "# idx = (y_pred_>4) & (y_pred_<12)\n",
    "plt.figure(figsize=(4,4))\n",
    "plt.scatter(y_pred_, y_pred_-y_true_, alpha=0.1)\n",
    "plt.xlabel(\"Predicted SNR\")\n",
    "#plt.xscale(\"log\")\n",
    "plt.xlim(4,10)\n",
    "plt.ylabel(\"Error\")\n",
    "plt.ylim(-5,5)\n",
    "plt.grid(alpha=0.4)\n",
    "plt.show()"
   ]
  },
  {
   "cell_type": "code",
   "execution_count": null,
   "metadata": {},
   "outputs": [],
   "source": []
  },
  {
   "cell_type": "code",
   "execution_count": null,
   "metadata": {},
   "outputs": [],
   "source": []
  },
  {
   "cell_type": "code",
   "execution_count": null,
   "metadata": {},
   "outputs": [],
   "source": []
  }
 ],
 "metadata": {
  "kernelspec": {
   "display_name": "ler",
   "language": "python",
   "name": "python3"
  },
  "language_info": {
   "codemirror_mode": {
    "name": "ipython",
    "version": 3
   },
   "file_extension": ".py",
   "mimetype": "text/x-python",
   "name": "python",
   "nbconvert_exporter": "python",
   "pygments_lexer": "ipython3",
   "version": "3.10.14"
  }
 },
 "nbformat": 4,
 "nbformat_minor": 2
}
