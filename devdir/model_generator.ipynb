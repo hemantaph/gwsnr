{
 "cells": [
  {
   "cell_type": "code",
   "execution_count": null,
   "metadata": {},
   "outputs": [
    {
     "name": "stdout",
     "output_type": "stream",
     "text": [
      "Setting multiprocessing start method to 'fork'\n"
     ]
    }
   ],
   "source": [
    "import os\n",
    "import numpy as np\n",
    "import matplotlib.pyplot as plt\n",
    "import contextlib\n",
    "from ler.rates import LeR\n",
    "from gwsnr import GWSNR\n",
    "from ler.utils import append_json, get_param_from_json"
   ]
  },
  {
   "cell_type": "code",
   "execution_count": null,
   "metadata": {},
   "outputs": [],
   "source": [
    "class TrainingDataGenerator():\n",
    "\n",
    "    def __init__(self,\n",
    "        npool=4,\n",
    "        z_min=0.0,\n",
    "        z_max=5.0,\n",
    "        verbose=True,\n",
    "        output_jsonfile=\"L1H1V1_IMRPhenomXPHM.json\",\n",
    "        **kwargs,  # ler and gwsnr arguments\n",
    "    ):\n",
    "\n",
    "        self.npool = npool\n",
    "        self.z_min = z_min\n",
    "        self.z_max = z_max\n",
    "        self.verbose = verbose\n",
    "\n",
    "        self.ler_init_args = dict(\n",
    "            event_type=\"BBH\",\n",
    "            cosmology=None,\n",
    "            ler_directory=\"./ler_data\",\n",
    "            spin_zero=False,\n",
    "            spin_precession=True,\n",
    "            # gwsnr args\n",
    "            mtot_min=2.0,\n",
    "            mtot_max=200,\n",
    "            ratio_min=0.1,\n",
    "            ratio_max=1.0,\n",
    "            mtot_resolution=500,\n",
    "            ratio_resolution=50,\n",
    "            sampling_frequency=2048.0,\n",
    "            waveform_approximant=\"IMRPhenomXPHM\",\n",
    "            minimum_frequency=20.0,\n",
    "            snr_type=\"inner_product\",\n",
    "            psds=None,\n",
    "            ifos=None,\n",
    "            interpolator_dir=\"./interpolator_pickle\",\n",
    "            create_new_interpolator=False,\n",
    "            gwsnr_verbose=False,\n",
    "            multiprocessing_verbose=True,\n",
    "            mtot_cut=True,\n",
    "        )\n",
    "        self.ler_init_args.update(kwargs)\n",
    "\n",
    "        self.json_path = f\"{self.ler_init_gwsnr_args['ler_directory']}/{output_jsonfile}\"\n",
    "\n",
    "        # recalculate snr within the snr_range.\n",
    "        # find snr in astrophysical range\n",
    "        # save it\n",
    "\n",
    "    def gw_parameters_generator(self, size, batch_size, snr_recalculation=True,trim_to_size=False, verbose=True, replace=False, data_distribution_range = [0, 2, 4, 6, 8, 10, 12, 14, 16, 100]):\n",
    "\n",
    "        args = self.ler_init_args.copy()\n",
    "        if snr_recalculation:\n",
    "            snr_type = 'interpolation'\n",
    "        else:\n",
    "            snr_type = 'inner_product'\n",
    "\n",
    "        # ler initialization\n",
    "        ler = LeR(\n",
    "            npool=self.npool,\n",
    "            z_min=self.z_min,\n",
    "            z_max=self.z_max,  # becareful with this value\n",
    "            verbose=self.verbose,\n",
    "            # ler\n",
    "            event_type=self.gwsnr_args['event_type'],\n",
    "            cosmology=self.gwsnr_args['cosmology'],\n",
    "            ler_directory=self.gwsnr_args['ler_directory'],\n",
    "            spin_zero=self.gwsnr_args['spin_zero'],\n",
    "            spin_precession=self.gwsnr_args['spin_precession'],\n",
    "            # gwsnr args\n",
    "            mtot_min=self.gwsnr_args['mtot_min'],\n",
    "            mtot_max=self.gwsnr_args['mtot_max'],\n",
    "            ratio_min=self.gwsnr_args['ratio_min'],\n",
    "            ratio_max=self.gwsnr_args['ratio_max'],\n",
    "            mtot_resolution=self.gwsnr_args['mtot_resolution'],\n",
    "            ratio_resolution=self.gwsnr_args['ratio_resolution'],\n",
    "            sampling_frequency=self.gwsnr_args['sampling_frequency'],\n",
    "            waveform_approximant=self.gwsnr_args['waveform_approximant'],\n",
    "            minimum_frequency=self.gwsnr_args['minimum_frequency'],\n",
    "            snr_type=snr_type,\n",
    "            psds=self.gwsnr_args['psds'],\n",
    "            ifos=self.gwsnr_args['ifos'],\n",
    "            interpolator_dir=self.gwsnr_args['interpolator_dir'],\n",
    "            create_new_interpolator=self.gwsnr_args['create_new_interpolator'],\n",
    "            gwsnr_verbose=self.gwsnr_args['gwsnr_verbose'],\n",
    "            multiprocessing_verbose=self.gwsnr_args['multiprocessing_verbose'],\n",
    "            mtot_cut=self.gwsnr_args['mtot_cut'],\n",
    "        )\n",
    "        ler.batch_size = batch_size\n",
    "\n",
    "        # path to save parameters\n",
    "        json_path = self.json_path\n",
    "        if replace:\n",
    "            if os.path.exists(json_path):\n",
    "                os.remove(json_path)\n",
    "            len_final = 0\n",
    "        else:\n",
    "            unlensed_param = get_param_from_json(json_path)\n",
    "            len_final = len(unlensed_param['optimal_snr_net'])\n",
    "            print(f'current size of the json file: {len_final}\\n')\n",
    "\n",
    "        print(f'total event to collect: {size}\\n')\n",
    "        while len_final<size:\n",
    "            with contextlib.redirect_stdout(None):\n",
    "                unlensed_param = ler.unlensed_cbc_statistics(size=ler.batch_size, resume=False)\n",
    "\n",
    "            if data_distribution_range is not None:\n",
    "                unlensed_param = self.helper_data_distribution(unlensed_param, data_distribution_range)\n",
    "\n",
    "                if snr_recalculation:\n",
    "                    snrs = ler.snr_bilby(gw_param_dict=unlensed_param)\n",
    "                    unlensed_param.update(snrs)\n",
    "\n",
    "                    unlensed_param = self.helper_data_distribution(unlensed_param, data_distribution_range)\n",
    "\n",
    "            # save the parameters\n",
    "            append_json(json_path, unlensed_param, replace=False);\n",
    "\n",
    "            # print(f\"Collected number of events: {len_}\")\n",
    "            len_final += len(unlensed_param['optimal_snr_net'])\n",
    "            if verbose:\n",
    "                print(f\"Collected number of events: {len_final}\")\n",
    "\n",
    "        if trim_to_size:\n",
    "            unlensed_param = get_param_from_json(json_path)\n",
    "            for key, value in unlensed_param.items():\n",
    "                unlensed_param[key] = value[:size]\n",
    "            append_json(json_path, unlensed_param, replace=True);\n",
    "            len_final = len(unlensed_param['optimal_snr_net'])\n",
    "\n",
    "        print(f\"final size: {len_final}\\n\")\n",
    "        print(f\"json file saved at: {json_path}\\n\")\n",
    "\n",
    "    def helper_data_distribution(self, unlensed_param, data_distribution_range):\n",
    "    # optimal SNR \n",
    "        snr = np.array(unlensed_param['optimal_snr_net'])\n",
    "\n",
    "        idx_arr = []\n",
    "        snr_range = np.array(data_distribution_range)\n",
    "        len_ = len(snr_range) \n",
    "        len_arr = []  # size of len_arr is len_-1  \n",
    "        for j in range(len_-1):\n",
    "            idx_ = np.argwhere((snr>=snr_range[j]) & (snr<snr_range[j+1])).flatten()\n",
    "            idx_arr.append(idx_)\n",
    "            len_arr.append(len(idx_))\n",
    "\n",
    "        idx_arr = np.array(idx_arr, dtype=object)\n",
    "        len_ref = min(len_arr)\n",
    "        unlensed_param_final = {}\n",
    "\n",
    "        for j, len_ in enumerate(len_arr):  # loop over snr range\n",
    "            idx_buffer = np.random.choice(idx_arr[j], len_ref, replace=False)\n",
    "\n",
    "            for key, value in unlensed_param.items():    \n",
    "                buffer_ = value[idx_buffer]\n",
    "                if j==0:\n",
    "                    unlensed_param_final[key] = buffer_\n",
    "                else:\n",
    "                    unlensed_param_final[key] = np.concatenate([unlensed_param_final[key], buffer_])\n",
    "\n",
    "        return unlensed_param_final\n",
    "\n",
    "    def combine_dicts(self, \n",
    "        path_list, \n",
    "        detector,\n",
    "        parameter_list=['mass_1', 'mass_2', 'luminosity_distance', 'theta_jn', 'psi', 'geocent_time', 'ra', 'dec', 'a_1', 'a_2', 'tilt_1', 'tilt_2'],\n",
    "        output_jsonfile=\"combined_data.json\",\n",
    "    ):\n",
    "\n",
    "        parameter_list += [detector]\n",
    "        combined_dict = {}\n",
    "\n",
    "        for path in path_list:\n",
    "            data = get_param_from_json(path)\n",
    "            for key, value in data.items():\n",
    "                if key in parameter_list:\n",
    "                    if key in combined_dict:\n",
    "                        combined_dict[key] = np.concatenate([combined_dict[key], value])\n",
    "                    else:\n",
    "                        combined_dict[key] = value\n",
    "\n",
    "        json_path = f\"{self.ler_init_gwsnr_args['ler_directory']}/{output_jsonfile}\"\n",
    "        print(f\"json file saved at: {json_path}\\n\")\n",
    "        append_json(json_path, combined_dict, replace=True);\n",
    "\n",
    "    def delete_json_file(self, path_list):\n",
    "        for path in path_list:\n",
    "            if os.path.exists(path):\n",
    "                os.remove(path)"
   ]
  },
  {
   "cell_type": "code",
   "execution_count": null,
   "metadata": {},
   "outputs": [],
   "source": []
  },
  {
   "cell_type": "code",
   "execution_count": 56,
   "metadata": {},
   "outputs": [
    {
     "name": "stdout",
     "output_type": "stream",
     "text": [
      "current size of the json file: 3150\n",
      "\n",
      "total event to collect: 10000\n",
      "\n"
     ]
    },
    {
     "name": "stderr",
     "output_type": "stream",
     "text": [
      "100%|████████████████████████████████████████████████████████████| 162/162 [00:00<00:00, 354.35it/s]\n"
     ]
    },
    {
     "name": "stdout",
     "output_type": "stream",
     "text": [
      "Collected number of events: 3276\n"
     ]
    },
    {
     "name": "stderr",
     "output_type": "stream",
     "text": [
      "100%|████████████████████████████████████████████████████████████| 135/135 [00:00<00:00, 330.28it/s]\n"
     ]
    },
    {
     "name": "stdout",
     "output_type": "stream",
     "text": [
      "Collected number of events: 3384\n"
     ]
    },
    {
     "name": "stderr",
     "output_type": "stream",
     "text": [
      "100%|████████████████████████████████████████████████████████████| 142/142 [00:00<00:00, 331.24it/s]\n"
     ]
    },
    {
     "name": "stdout",
     "output_type": "stream",
     "text": [
      "Collected number of events: 3483\n"
     ]
    },
    {
     "name": "stderr",
     "output_type": "stream",
     "text": [
      "100%|████████████████████████████████████████████████████████████| 188/188 [00:00<00:00, 376.68it/s]\n"
     ]
    },
    {
     "name": "stdout",
     "output_type": "stream",
     "text": [
      "Collected number of events: 3618\n"
     ]
    },
    {
     "name": "stderr",
     "output_type": "stream",
     "text": [
      "100%|████████████████████████████████████████████████████████████| 170/170 [00:00<00:00, 380.15it/s]\n"
     ]
    },
    {
     "name": "stdout",
     "output_type": "stream",
     "text": [
      "Collected number of events: 3753\n"
     ]
    },
    {
     "name": "stderr",
     "output_type": "stream",
     "text": [
      "100%|████████████████████████████████████████████████████████████| 178/178 [00:00<00:00, 339.55it/s]\n"
     ]
    },
    {
     "name": "stdout",
     "output_type": "stream",
     "text": [
      "Collected number of events: 3861\n"
     ]
    },
    {
     "name": "stderr",
     "output_type": "stream",
     "text": [
      "100%|████████████████████████████████████████████████████████████| 135/135 [00:00<00:00, 310.60it/s]\n"
     ]
    },
    {
     "name": "stdout",
     "output_type": "stream",
     "text": [
      "Collected number of events: 3933\n"
     ]
    },
    {
     "name": "stderr",
     "output_type": "stream",
     "text": [
      "100%|████████████████████████████████████████████████████████████| 135/135 [00:00<00:00, 305.21it/s]\n"
     ]
    },
    {
     "name": "stdout",
     "output_type": "stream",
     "text": [
      "Collected number of events: 4041\n"
     ]
    },
    {
     "name": "stderr",
     "output_type": "stream",
     "text": [
      "100%|████████████████████████████████████████████████████████████| 153/153 [00:00<00:00, 284.13it/s]\n"
     ]
    },
    {
     "name": "stdout",
     "output_type": "stream",
     "text": [
      "Collected number of events: 4158\n"
     ]
    },
    {
     "name": "stderr",
     "output_type": "stream",
     "text": [
      "100%|████████████████████████████████████████████████████████████| 215/215 [00:00<00:00, 350.78it/s]\n"
     ]
    },
    {
     "name": "stdout",
     "output_type": "stream",
     "text": [
      "Collected number of events: 4329\n"
     ]
    },
    {
     "name": "stderr",
     "output_type": "stream",
     "text": [
      "100%|████████████████████████████████████████████████████████████| 170/170 [00:00<00:00, 369.60it/s]\n"
     ]
    },
    {
     "name": "stdout",
     "output_type": "stream",
     "text": [
      "Collected number of events: 4464\n"
     ]
    },
    {
     "name": "stderr",
     "output_type": "stream",
     "text": [
      "100%|████████████████████████████████████████████████████████████| 143/143 [00:00<00:00, 326.22it/s]\n"
     ]
    },
    {
     "name": "stdout",
     "output_type": "stream",
     "text": [
      "Collected number of events: 4572\n"
     ]
    },
    {
     "name": "stderr",
     "output_type": "stream",
     "text": [
      "100%|████████████████████████████████████████████████████████████| 117/117 [00:00<00:00, 305.56it/s]\n"
     ]
    },
    {
     "name": "stdout",
     "output_type": "stream",
     "text": [
      "Collected number of events: 4635\n"
     ]
    },
    {
     "name": "stderr",
     "output_type": "stream",
     "text": [
      "100%|████████████████████████████████████████████████████████████| 169/169 [00:00<00:00, 344.02it/s]\n"
     ]
    },
    {
     "name": "stdout",
     "output_type": "stream",
     "text": [
      "Collected number of events: 4752\n"
     ]
    },
    {
     "name": "stderr",
     "output_type": "stream",
     "text": [
      "100%|████████████████████████████████████████████████████████████| 126/126 [00:00<00:00, 317.32it/s]\n"
     ]
    },
    {
     "name": "stdout",
     "output_type": "stream",
     "text": [
      "Collected number of events: 4851\n"
     ]
    },
    {
     "name": "stderr",
     "output_type": "stream",
     "text": [
      "100%|████████████████████████████████████████████████████████████| 198/198 [00:00<00:00, 346.08it/s]\n"
     ]
    },
    {
     "name": "stdout",
     "output_type": "stream",
     "text": [
      "Collected number of events: 4995\n"
     ]
    },
    {
     "name": "stderr",
     "output_type": "stream",
     "text": [
      "100%|████████████████████████████████████████████████████████████| 162/162 [00:00<00:00, 340.86it/s]\n"
     ]
    },
    {
     "name": "stdout",
     "output_type": "stream",
     "text": [
      "Collected number of events: 5103\n"
     ]
    },
    {
     "name": "stderr",
     "output_type": "stream",
     "text": [
      "100%|████████████████████████████████████████████████████████████| 187/187 [00:00<00:00, 355.81it/s]\n"
     ]
    },
    {
     "name": "stdout",
     "output_type": "stream",
     "text": [
      "Collected number of events: 5211\n"
     ]
    },
    {
     "name": "stderr",
     "output_type": "stream",
     "text": [
      "100%|██████████████████████████████████████████████████████████████| 90/90 [00:00<00:00, 227.65it/s]\n"
     ]
    },
    {
     "name": "stdout",
     "output_type": "stream",
     "text": [
      "Collected number of events: 5283\n"
     ]
    },
    {
     "name": "stderr",
     "output_type": "stream",
     "text": [
      "100%|████████████████████████████████████████████████████████████| 106/106 [00:00<00:00, 291.05it/s]\n"
     ]
    },
    {
     "name": "stdout",
     "output_type": "stream",
     "text": [
      "Collected number of events: 5373\n"
     ]
    },
    {
     "name": "stderr",
     "output_type": "stream",
     "text": [
      "100%|██████████████████████████████████████████████████████████████| 90/90 [00:00<00:00, 263.23it/s]\n"
     ]
    },
    {
     "name": "stdout",
     "output_type": "stream",
     "text": [
      "Collected number of events: 5418\n"
     ]
    },
    {
     "name": "stderr",
     "output_type": "stream",
     "text": [
      "100%|████████████████████████████████████████████████████████████| 106/106 [00:00<00:00, 275.54it/s]\n"
     ]
    },
    {
     "name": "stdout",
     "output_type": "stream",
     "text": [
      "Collected number of events: 5508\n"
     ]
    },
    {
     "name": "stderr",
     "output_type": "stream",
     "text": [
      "100%|██████████████████████████████████████████████████████████████| 79/79 [00:00<00:00, 235.81it/s]\n"
     ]
    },
    {
     "name": "stdout",
     "output_type": "stream",
     "text": [
      "Collected number of events: 5562\n"
     ]
    },
    {
     "name": "stderr",
     "output_type": "stream",
     "text": [
      "100%|████████████████████████████████████████████████████████████| 206/206 [00:00<00:00, 387.91it/s]\n"
     ]
    },
    {
     "name": "stdout",
     "output_type": "stream",
     "text": [
      "Collected number of events: 5724\n"
     ]
    },
    {
     "name": "stderr",
     "output_type": "stream",
     "text": [
      "100%|████████████████████████████████████████████████████████████| 108/108 [00:00<00:00, 302.97it/s]\n"
     ]
    },
    {
     "name": "stdout",
     "output_type": "stream",
     "text": [
      "Collected number of events: 5787\n"
     ]
    },
    {
     "name": "stderr",
     "output_type": "stream",
     "text": [
      "100%|████████████████████████████████████████████████████████████| 206/206 [00:00<00:00, 351.24it/s]\n"
     ]
    },
    {
     "name": "stdout",
     "output_type": "stream",
     "text": [
      "Collected number of events: 5931\n"
     ]
    },
    {
     "name": "stderr",
     "output_type": "stream",
     "text": [
      "100%|████████████████████████████████████████████████████████████| 144/144 [00:00<00:00, 339.37it/s]\n"
     ]
    },
    {
     "name": "stdout",
     "output_type": "stream",
     "text": [
      "Collected number of events: 6057\n"
     ]
    },
    {
     "name": "stderr",
     "output_type": "stream",
     "text": [
      "100%|████████████████████████████████████████████████████████████| 162/162 [00:00<00:00, 344.23it/s]\n"
     ]
    },
    {
     "name": "stdout",
     "output_type": "stream",
     "text": [
      "Collected number of events: 6183\n"
     ]
    },
    {
     "name": "stderr",
     "output_type": "stream",
     "text": [
      "100%|████████████████████████████████████████████████████████████| 178/178 [00:00<00:00, 338.57it/s]\n"
     ]
    },
    {
     "name": "stdout",
     "output_type": "stream",
     "text": [
      "Collected number of events: 6291\n"
     ]
    },
    {
     "name": "stderr",
     "output_type": "stream",
     "text": [
      "100%|████████████████████████████████████████████████████████████| 215/215 [00:00<00:00, 401.24it/s]\n"
     ]
    },
    {
     "name": "stdout",
     "output_type": "stream",
     "text": [
      "Collected number of events: 6462\n"
     ]
    },
    {
     "name": "stderr",
     "output_type": "stream",
     "text": [
      "100%|████████████████████████████████████████████████████████████| 123/123 [00:00<00:00, 294.29it/s]\n"
     ]
    },
    {
     "name": "stdout",
     "output_type": "stream",
     "text": [
      "Collected number of events: 6561\n"
     ]
    },
    {
     "name": "stderr",
     "output_type": "stream",
     "text": [
      "100%|████████████████████████████████████████████████████████████| 170/170 [00:00<00:00, 337.76it/s]\n"
     ]
    },
    {
     "name": "stdout",
     "output_type": "stream",
     "text": [
      "Collected number of events: 6714\n"
     ]
    },
    {
     "name": "stderr",
     "output_type": "stream",
     "text": [
      "100%|████████████████████████████████████████████████████████████| 175/175 [00:00<00:00, 349.27it/s]\n"
     ]
    },
    {
     "name": "stdout",
     "output_type": "stream",
     "text": [
      "Collected number of events: 6858\n"
     ]
    },
    {
     "name": "stderr",
     "output_type": "stream",
     "text": [
      "100%|████████████████████████████████████████████████████████████| 107/107 [00:00<00:00, 279.35it/s]\n"
     ]
    },
    {
     "name": "stdout",
     "output_type": "stream",
     "text": [
      "Collected number of events: 6939\n"
     ]
    },
    {
     "name": "stderr",
     "output_type": "stream",
     "text": [
      "100%|████████████████████████████████████████████████████████████| 126/126 [00:00<00:00, 322.07it/s]\n"
     ]
    },
    {
     "name": "stdout",
     "output_type": "stream",
     "text": [
      "Collected number of events: 7038\n"
     ]
    },
    {
     "name": "stderr",
     "output_type": "stream",
     "text": [
      "100%|████████████████████████████████████████████████████████████| 116/116 [00:00<00:00, 272.76it/s]\n"
     ]
    },
    {
     "name": "stdout",
     "output_type": "stream",
     "text": [
      "Collected number of events: 7128\n"
     ]
    },
    {
     "name": "stderr",
     "output_type": "stream",
     "text": [
      "100%|████████████████████████████████████████████████████████████| 168/168 [00:00<00:00, 249.69it/s]\n"
     ]
    },
    {
     "name": "stdout",
     "output_type": "stream",
     "text": [
      "Collected number of events: 7245\n"
     ]
    },
    {
     "name": "stderr",
     "output_type": "stream",
     "text": [
      "100%|████████████████████████████████████████████████████████████| 142/142 [00:00<00:00, 290.09it/s]\n"
     ]
    },
    {
     "name": "stdout",
     "output_type": "stream",
     "text": [
      "Collected number of events: 7335\n"
     ]
    },
    {
     "name": "stderr",
     "output_type": "stream",
     "text": [
      "100%|████████████████████████████████████████████████████████████| 116/116 [00:00<00:00, 271.98it/s]\n"
     ]
    },
    {
     "name": "stdout",
     "output_type": "stream",
     "text": [
      "Collected number of events: 7389\n"
     ]
    },
    {
     "name": "stderr",
     "output_type": "stream",
     "text": [
      "100%|████████████████████████████████████████████████████████████| 162/162 [00:00<00:00, 356.55it/s]\n"
     ]
    },
    {
     "name": "stdout",
     "output_type": "stream",
     "text": [
      "Collected number of events: 7524\n"
     ]
    },
    {
     "name": "stderr",
     "output_type": "stream",
     "text": [
      "100%|██████████████████████████████████████████████████████████████| 89/89 [00:00<00:00, 280.67it/s]\n"
     ]
    },
    {
     "name": "stdout",
     "output_type": "stream",
     "text": [
      "Collected number of events: 7587\n"
     ]
    },
    {
     "name": "stderr",
     "output_type": "stream",
     "text": [
      "100%|████████████████████████████████████████████████████████████| 170/170 [00:00<00:00, 336.99it/s]\n"
     ]
    },
    {
     "name": "stdout",
     "output_type": "stream",
     "text": [
      "Collected number of events: 7695\n"
     ]
    },
    {
     "name": "stderr",
     "output_type": "stream",
     "text": [
      "100%|████████████████████████████████████████████████████████████| 135/135 [00:00<00:00, 312.08it/s]\n"
     ]
    },
    {
     "name": "stdout",
     "output_type": "stream",
     "text": [
      "Collected number of events: 7794\n"
     ]
    },
    {
     "name": "stderr",
     "output_type": "stream",
     "text": [
      "100%|████████████████████████████████████████████████████████████| 176/176 [00:00<00:00, 363.05it/s]\n"
     ]
    },
    {
     "name": "stdout",
     "output_type": "stream",
     "text": [
      "Collected number of events: 7929\n"
     ]
    },
    {
     "name": "stderr",
     "output_type": "stream",
     "text": [
      "100%|████████████████████████████████████████████████████████████| 188/188 [00:00<00:00, 365.59it/s]\n"
     ]
    },
    {
     "name": "stdout",
     "output_type": "stream",
     "text": [
      "Collected number of events: 8046\n"
     ]
    },
    {
     "name": "stderr",
     "output_type": "stream",
     "text": [
      "100%|████████████████████████████████████████████████████████████| 179/179 [00:00<00:00, 340.20it/s]\n"
     ]
    },
    {
     "name": "stdout",
     "output_type": "stream",
     "text": [
      "Collected number of events: 8181\n"
     ]
    },
    {
     "name": "stderr",
     "output_type": "stream",
     "text": [
      "100%|████████████████████████████████████████████████████████████| 152/152 [00:00<00:00, 316.74it/s]\n"
     ]
    },
    {
     "name": "stdout",
     "output_type": "stream",
     "text": [
      "Collected number of events: 8298\n"
     ]
    },
    {
     "name": "stderr",
     "output_type": "stream",
     "text": [
      "100%|████████████████████████████████████████████████████████████| 151/151 [00:00<00:00, 319.66it/s]\n"
     ]
    },
    {
     "name": "stdout",
     "output_type": "stream",
     "text": [
      "Collected number of events: 8406\n"
     ]
    },
    {
     "name": "stderr",
     "output_type": "stream",
     "text": [
      "100%|████████████████████████████████████████████████████████████| 179/179 [00:00<00:00, 352.61it/s]\n"
     ]
    },
    {
     "name": "stdout",
     "output_type": "stream",
     "text": [
      "Collected number of events: 8523\n"
     ]
    },
    {
     "name": "stderr",
     "output_type": "stream",
     "text": [
      "100%|████████████████████████████████████████████████████████████| 188/188 [00:00<00:00, 356.38it/s]\n"
     ]
    },
    {
     "name": "stdout",
     "output_type": "stream",
     "text": [
      "Collected number of events: 8658\n"
     ]
    },
    {
     "name": "stderr",
     "output_type": "stream",
     "text": [
      "100%|████████████████████████████████████████████████████████████| 153/153 [00:00<00:00, 310.29it/s]\n"
     ]
    },
    {
     "name": "stdout",
     "output_type": "stream",
     "text": [
      "Collected number of events: 8784\n"
     ]
    },
    {
     "name": "stderr",
     "output_type": "stream",
     "text": [
      "100%|████████████████████████████████████████████████████████████| 144/144 [00:00<00:00, 319.76it/s]\n"
     ]
    },
    {
     "name": "stdout",
     "output_type": "stream",
     "text": [
      "Collected number of events: 8892\n"
     ]
    },
    {
     "name": "stderr",
     "output_type": "stream",
     "text": [
      "100%|████████████████████████████████████████████████████████████| 116/116 [00:00<00:00, 300.85it/s]\n"
     ]
    },
    {
     "name": "stdout",
     "output_type": "stream",
     "text": [
      "Collected number of events: 8964\n"
     ]
    },
    {
     "name": "stderr",
     "output_type": "stream",
     "text": [
      "100%|████████████████████████████████████████████████████████████| 241/241 [00:00<00:00, 398.56it/s]\n"
     ]
    },
    {
     "name": "stdout",
     "output_type": "stream",
     "text": [
      "Collected number of events: 9153\n"
     ]
    },
    {
     "name": "stderr",
     "output_type": "stream",
     "text": [
      "100%|████████████████████████████████████████████████████████████| 187/187 [00:00<00:00, 372.83it/s]\n"
     ]
    },
    {
     "name": "stdout",
     "output_type": "stream",
     "text": [
      "Collected number of events: 9252\n"
     ]
    },
    {
     "name": "stderr",
     "output_type": "stream",
     "text": [
      "100%|████████████████████████████████████████████████████████████| 169/169 [00:00<00:00, 344.73it/s]\n"
     ]
    },
    {
     "name": "stdout",
     "output_type": "stream",
     "text": [
      "Collected number of events: 9369\n"
     ]
    },
    {
     "name": "stderr",
     "output_type": "stream",
     "text": [
      "100%|████████████████████████████████████████████████████████████| 140/140 [00:00<00:00, 324.42it/s]\n"
     ]
    },
    {
     "name": "stdout",
     "output_type": "stream",
     "text": [
      "Collected number of events: 9477\n"
     ]
    },
    {
     "name": "stderr",
     "output_type": "stream",
     "text": [
      "100%|██████████████████████████████████████████████████████████████| 80/80 [00:00<00:00, 247.99it/s]\n"
     ]
    },
    {
     "name": "stdout",
     "output_type": "stream",
     "text": [
      "Collected number of events: 9522\n"
     ]
    },
    {
     "name": "stderr",
     "output_type": "stream",
     "text": [
      "100%|████████████████████████████████████████████████████████████| 152/152 [00:00<00:00, 336.96it/s]\n"
     ]
    },
    {
     "name": "stdout",
     "output_type": "stream",
     "text": [
      "Collected number of events: 9639\n"
     ]
    },
    {
     "name": "stderr",
     "output_type": "stream",
     "text": [
      "100%|████████████████████████████████████████████████████████████| 188/188 [00:00<00:00, 378.25it/s]\n"
     ]
    },
    {
     "name": "stdout",
     "output_type": "stream",
     "text": [
      "Collected number of events: 9792\n"
     ]
    },
    {
     "name": "stderr",
     "output_type": "stream",
     "text": [
      "100%|████████████████████████████████████████████████████████████| 117/117 [00:00<00:00, 296.06it/s]\n"
     ]
    },
    {
     "name": "stdout",
     "output_type": "stream",
     "text": [
      "Collected number of events: 9882\n"
     ]
    },
    {
     "name": "stderr",
     "output_type": "stream",
     "text": [
      "100%|████████████████████████████████████████████████████████████| 144/144 [00:00<00:00, 329.31it/s]\n"
     ]
    },
    {
     "name": "stdout",
     "output_type": "stream",
     "text": [
      "Collected number of events: 9963\n"
     ]
    },
    {
     "name": "stderr",
     "output_type": "stream",
     "text": [
      "100%|████████████████████████████████████████████████████████████| 160/160 [00:00<00:00, 355.17it/s]\n"
     ]
    },
    {
     "name": "stdout",
     "output_type": "stream",
     "text": [
      "Collected number of events: 10089\n",
      "final size: 10089\n",
      "\n",
      "json file saved at: ./ler_data/L1_IMRPhenomXPHM_1.json\n",
      "\n"
     ]
    }
   ],
   "source": [
    "mg = TrainingDataGenerator(\n",
    "    npool=4,\n",
    "    verbose=False, \n",
    "    ifos=['L1'], \n",
    "    output_jsonfile=\"L1_IMRPhenomXPHM_1.json\",\n",
    ")\n",
    "mg.gw_parameters_generator(size=10000, batch_size=200000, snr_recalculation=True,trim_to_size=False, verbose=True, data_distribution_range = [0., 2., 4., 6., 8., 10., 12., 14., 16., 100.], replace=False)\n",
    "# mg.snr_recalculation();"
   ]
  },
  {
   "cell_type": "code",
   "execution_count": 61,
   "metadata": {},
   "outputs": [
    {
     "data": {
      "image/png": "[encoded data removed]",
      "text/plain": [
       "<Figure size 400x400 with 1 Axes>"
      ]
     },
     "metadata": {},
     "output_type": "display_data"
    }
   ],
   "source": [
    "test1 = get_param_from_json(\"ler_data/L1_IMRPhenomXPHM_1.json\")\n",
    "snr = np.array(test1['optimal_snr_net'])\n",
    "\n",
    "plt.figure(figsize=[4,4])\n",
    "plt.hist(snr, bins=100, density=True, alpha=0.5, color='b', histtype='step', label='L1')\n",
    "plt.xlim([0, 20])\n",
    "plt.xlabel('Optimal SNR')\n",
    "plt.ylabel('Density')\n",
    "plt.legend()\n",
    "plt.show()"
   ]
  },
  {
   "cell_type": "code",
   "execution_count": 60,
   "metadata": {},
   "outputs": [
    {
     "name": "stdout",
     "output_type": "stream",
     "text": [
      "total event to collect: 1000\n",
      "\n"
     ]
    },
    {
     "name": "stderr",
     "output_type": "stream",
     "text": [
      "100%|████████████████████████████████████████████████████████████| 246/246 [00:00<00:00, 387.96it/s]\n"
     ]
    },
    {
     "name": "stdout",
     "output_type": "stream",
     "text": [
      "Collected number of events: 188\n"
     ]
    },
    {
     "name": "stderr",
     "output_type": "stream",
     "text": [
      "100%|████████████████████████████████████████████████████████████| 270/270 [00:00<00:00, 394.30it/s]\n"
     ]
    },
    {
     "name": "stdout",
     "output_type": "stream",
     "text": [
      "Collected number of events: 398\n"
     ]
    },
    {
     "name": "stderr",
     "output_type": "stream",
     "text": [
      "100%|████████████████████████████████████████████████████████████| 238/238 [00:00<00:00, 386.45it/s]\n"
     ]
    },
    {
     "name": "stdout",
     "output_type": "stream",
     "text": [
      "Collected number of events: 556\n"
     ]
    },
    {
     "name": "stderr",
     "output_type": "stream",
     "text": [
      "100%|████████████████████████████████████████████████████████████| 282/282 [00:00<00:00, 424.94it/s]\n"
     ]
    },
    {
     "name": "stdout",
     "output_type": "stream",
     "text": [
      "Collected number of events: 768\n"
     ]
    },
    {
     "name": "stderr",
     "output_type": "stream",
     "text": [
      "100%|████████████████████████████████████████████████████████████| 290/290 [00:00<00:00, 425.98it/s]\n"
     ]
    },
    {
     "name": "stdout",
     "output_type": "stream",
     "text": [
      "Collected number of events: 1008\n",
      "final size: 1008\n",
      "\n",
      "json file saved at: ./ler_data/L1_IMRPhenomXPHM_2.json\n",
      "\n"
     ]
    }
   ],
   "source": [
    "mg = TrainingDataGenerator(\n",
    "    npool=4,\n",
    "    verbose=False, \n",
    "    ifos=['L1'], \n",
    "    output_jsonfile=\"L1_IMRPhenomXPHM_2.json\",\n",
    ")\n",
    "mg.gw_parameters_generator(size=1000, batch_size=200000, snr_recalculation=True,trim_to_size=False, verbose=True, data_distribution_range = [6., 8., 10.], replace=False)"
   ]
  },
  {
   "cell_type": "code",
   "execution_count": 63,
   "metadata": {},
   "outputs": [
    {
     "data": {
      "image/png": "[encoded data removed]",
      "text/plain": [
       "<Figure size 400x400 with 1 Axes>"
      ]
     },
     "metadata": {},
     "output_type": "display_data"
    }
   ],
   "source": [
    "test1 = get_param_from_json(\"ler_data/L1_IMRPhenomXPHM_2.json\")\n",
    "snr = np.array(test1['optimal_snr_net'])\n",
    "\n",
    "plt.figure(figsize=[4,4])\n",
    "plt.hist(snr, bins=50, density=True, alpha=0.5, color='b', histtype='step', label='L1')\n",
    "plt.xlim([0, 20])\n",
    "plt.xlabel('Optimal SNR')\n",
    "plt.ylabel('Density')\n",
    "plt.legend()\n",
    "plt.show()"
   ]
  },
  {
   "cell_type": "code",
   "execution_count": 64,
   "metadata": {},
   "outputs": [
    {
     "name": "stdout",
     "output_type": "stream",
     "text": [
      "total event to collect: 1000\n",
      "\n"
     ]
    },
    {
     "name": "stderr",
     "output_type": "stream",
     "text": [
      "100%|████████████████████████████████████████████████████████████| 522/522 [00:01<00:00, 476.79it/s]\n"
     ]
    },
    {
     "name": "stdout",
     "output_type": "stream",
     "text": [
      "Collected number of events: 405\n"
     ]
    },
    {
     "name": "stderr",
     "output_type": "stream",
     "text": [
      "100%|████████████████████████████████████████████████████████████| 564/564 [00:01<00:00, 472.51it/s]\n"
     ]
    },
    {
     "name": "stdout",
     "output_type": "stream",
     "text": [
      "Collected number of events: 846\n"
     ]
    },
    {
     "name": "stderr",
     "output_type": "stream",
     "text": [
      "100%|████████████████████████████████████████████████████████████| 556/556 [00:01<00:00, 415.76it/s]"
     ]
    },
    {
     "name": "stdout",
     "output_type": "stream",
     "text": [
      "Collected number of events: 1242\n",
      "final size: 1242\n",
      "\n",
      "json file saved at: ./ler_data/L1H1V1_IMRPhenomXPHM.json\n",
      "\n"
     ]
    },
    {
     "name": "stderr",
     "output_type": "stream",
     "text": [
      "\n"
     ]
    }
   ],
   "source": [
    "mg = TrainingDataGenerator(\n",
    "    npool=4,\n",
    "    verbose=False, \n",
    "    ifos=['L1', 'H1', 'V1'], \n",
    "    output_jsonfile=\"L1H1V1_IMRPhenomXPHM.json\",\n",
    ")\n",
    "mg.gw_parameters_generator(size=1000, batch_size=200000, snr_recalculation=True,trim_to_size=False, verbose=True, data_distribution_range = [0., 2., 4., 6., 8., 10., 12., 14., 16., 100.], replace=True)"
   ]
  },
  {
   "cell_type": "code",
   "execution_count": 66,
   "metadata": {},
   "outputs": [
    {
     "data": {
      "image/png": "[encoded data removed]",
      "text/plain": [
       "<Figure size 400x400 with 1 Axes>"
      ]
     },
     "metadata": {},
     "output_type": "display_data"
    }
   ],
   "source": [
    "test1 = get_param_from_json(\"ler_data/L1H1V1_IMRPhenomXPHM.json\")\n",
    "snr = np.array(test1['optimal_snr_net'])\n",
    "L1 = np.array(test1['L1'])\n",
    "\n",
    "plt.figure(figsize=[4,4])\n",
    "plt.hist(L1, bins=50, density=True, alpha=0.5, color='b', histtype='step', label='L1')\n",
    "plt.hist(snr, bins=50, density=True, alpha=0.5, color='r', histtype='step', label='L1H1V1')\n",
    "plt.xlim([0, 20])\n",
    "plt.xlabel('Optimal SNR')\n",
    "plt.ylabel('Density')\n",
    "plt.legend()\n",
    "plt.show()"
   ]
  },
  {
   "cell_type": "code",
   "execution_count": null,
   "metadata": {},
   "outputs": [],
   "source": []
  },
  {
   "cell_type": "code",
   "execution_count": 67,
   "metadata": {},
   "outputs": [
    {
     "name": "stdout",
     "output_type": "stream",
     "text": [
      "total event to collect: 1000\n",
      "\n",
      "Collected number of events: 1000\n",
      "final size: 1000\n",
      "\n",
      "json file saved at: ./ler_data/L1H1V1_IMRPhenomXPHM_astro.json\n",
      "\n"
     ]
    }
   ],
   "source": [
    "mg = TrainingDataGenerator(\n",
    "    npool=4,\n",
    "    verbose=False, \n",
    "    ifos=['L1', 'H1', 'V1'], \n",
    "    output_jsonfile=\"L1H1V1_IMRPhenomXPHM_astro.json\",\n",
    ")\n",
    "mg.gw_parameters_generator(size=1000, batch_size=1000, trim_to_size=False, verbose=True, data_distribution_range = None, replace=True)"
   ]
  },
  {
   "cell_type": "code",
   "execution_count": 68,
   "metadata": {},
   "outputs": [
    {
     "data": {
      "image/png": "[encoded data removed]",
      "text/plain": [
       "<Figure size 400x400 with 1 Axes>"
      ]
     },
     "metadata": {},
     "output_type": "display_data"
    }
   ],
   "source": [
    "test1 = get_param_from_json(\"ler_data/L1H1V1_IMRPhenomXPHM_astro.json\")\n",
    "snr = np.array(test1['optimal_snr_net'])\n",
    "L1 = np.array(test1['L1'])\n",
    "\n",
    "plt.figure(figsize=[4,4])\n",
    "plt.hist(L1, bins=50, density=True, alpha=0.5, color='b', histtype='step', label='L1')\n",
    "plt.hist(snr, bins=50, density=True, alpha=0.5, color='r', histtype='step', label='L1H1V1')\n",
    "plt.xlim([0, 20])\n",
    "plt.xlabel('Optimal SNR')\n",
    "plt.ylabel('Density')\n",
    "plt.legend()\n",
    "plt.show()"
   ]
  },
  {
   "cell_type": "code",
   "execution_count": null,
   "metadata": {},
   "outputs": [],
   "source": []
  },
  {
   "cell_type": "code",
   "execution_count": 76,
   "metadata": {},
   "outputs": [
    {
     "name": "stdout",
     "output_type": "stream",
     "text": [
      "json file saved at: ./ler_data/L1_IMRPhenomXPHM_combined.json\n",
      "\n"
     ]
    }
   ],
   "source": [
    "mg = TrainingDataGenerator()\n",
    "mg.combine_dicts(\n",
    "    path_list=[\n",
    "        \"ler_data/L1_IMRPhenomXPHM_1.json\",\n",
    "        \"ler_data/L1_IMRPhenomXPHM_2.json\",\n",
    "        \"ler_data/L1H1V1_IMRPhenomXPHM.json\",\n",
    "        \"ler_data/L1H1V1_IMRPhenomXPHM_astro.json\",\n",
    "    ],\n",
    "    detector='L1',\n",
    "    output_jsonfile=\"L1_IMRPhenomXPHM_combined.json\",\n",
    ")"
   ]
  },
  {
   "cell_type": "code",
   "execution_count": 78,
   "metadata": {},
   "outputs": [
    {
     "data": {
      "image/png": "[encoded data removed]",
      "text/plain": [
       "<Figure size 400x400 with 1 Axes>"
      ]
     },
     "metadata": {},
     "output_type": "display_data"
    }
   ],
   "source": [
    "test1 = get_param_from_json(\"ler_data/L1_IMRPhenomXPHM_combined.json\")\n",
    "snr = np.array(test1['L1'])\n",
    "\n",
    "plt.figure(figsize=[4,4])\n",
    "plt.hist(snr, bins=100, density=True, alpha=0.5, color='b', histtype='step', label='L1')\n",
    "plt.xlim([0, 20])\n",
    "plt.xlabel('Optimal SNR')\n",
    "plt.ylabel('Density')\n",
    "plt.legend()\n",
    "plt.show()"
   ]
  },
  {
   "cell_type": "code",
   "execution_count": null,
   "metadata": {},
   "outputs": [],
   "source": []
  },
  {
   "cell_type": "markdown",
   "metadata": {},
   "source": [
    "## ANNModelGenerator"
   ]
  },
  {
   "cell_type": "code",
   "execution_count": 159,
   "metadata": {},
   "outputs": [],
   "source": [
    "import numpy as np\n",
    "import os\n",
    "import pickle\n",
    "from gwsnr import GWSNR\n",
    "from ler.utils import append_json, get_param_from_json, load_json, load_pickle, save_pickle, load_hdf5, save_hdf5\n",
    "from scipy.optimize import curve_fit"
   ]
  },
  {
   "cell_type": "code",
   "execution_count": 160,
   "metadata": {},
   "outputs": [],
   "source": [
    "from gwsnr import antenna_response_array, cubic_spline_interpolator2d\n",
    "import tensorflow as tf\n",
    "from sklearn.preprocessing import StandardScaler\n",
    "from sklearn.model_selection import train_test_split\n",
    "from sklearn.metrics import confusion_matrix, accuracy_score\n",
    "from tensorflow.keras.models import load_model"
   ]
  },
  {
   "cell_type": "code",
   "execution_count": 168,
   "metadata": {},
   "outputs": [],
   "source": [
    "class ANNModelGenerator():\n",
    "    def __init__(self,\n",
    "        directory=\"./ler_data\",\n",
    "        npool=4,\n",
    "        gwsnr_verbose=True,\n",
    "        snr_th=8.0,\n",
    "        **kwargs,  # ler and gwsnr arguments\n",
    "    ):\n",
    "\n",
    "        self.directory = directory\n",
    "        self.ann_model = self.ann_model_4layers\n",
    "        self.ann = None\n",
    "        self.scaler = None\n",
    "\n",
    "        self.gwsnr_args = dict(\n",
    "            npool=npool,\n",
    "            # gwsnr args\n",
    "            mtot_min=2.0,\n",
    "            mtot_max=200,\n",
    "            ratio_min=0.1,\n",
    "            ratio_max=1.0,\n",
    "            mtot_resolution=500,\n",
    "            ratio_resolution=50,\n",
    "            sampling_frequency=2048.0,\n",
    "            waveform_approximant=\"IMRPhenomXPHM\",\n",
    "            minimum_frequency=20.0,\n",
    "            snr_type=\"interpolation\",\n",
    "            psds=None,\n",
    "            ifos=None,\n",
    "            interpolator_dir=\"./interpolator_pickle\",\n",
    "            create_new_interpolator=False,\n",
    "            gwsnr_verbose=gwsnr_verbose,\n",
    "            multiprocessing_verbose=True,\n",
    "            mtot_cut=True,\n",
    "            snr_th=snr_th,\n",
    "        )\n",
    "        self.gwsnr_args.update(kwargs)\n",
    "\n",
    "        # gwsnr initialization\n",
    "        # spinless\n",
    "        self.gwsnr = GWSNR(\n",
    "            npool=self.gwsnr_args['npool'],\n",
    "            # gwsnr args\n",
    "            mtot_min=self.gwsnr_args['mtot_min'],\n",
    "            mtot_max=self.gwsnr_args['mtot_max'],\n",
    "            ratio_min=self.gwsnr_args['ratio_min'],\n",
    "            ratio_max=self.gwsnr_args['ratio_max'],\n",
    "            mtot_resolution=self.gwsnr_args['mtot_resolution'],\n",
    "            ratio_resolution=self.gwsnr_args['ratio_resolution'],\n",
    "            sampling_frequency=self.gwsnr_args['sampling_frequency'],\n",
    "            waveform_approximant=self.gwsnr_args['waveform_approximant'],\n",
    "            minimum_frequency=self.gwsnr_args['minimum_frequency'],\n",
    "            snr_type='interpolation',\n",
    "            psds=self.gwsnr_args['psds'],\n",
    "            ifos=self.gwsnr_args['ifos'],\n",
    "            interpolator_dir=self.gwsnr_args['interpolator_dir'],\n",
    "            create_new_interpolator=self.gwsnr_args['create_new_interpolator'],\n",
    "            gwsnr_verbose=self.gwsnr_args['gwsnr_verbose'],\n",
    "            multiprocessing_verbose=self.gwsnr_args['multiprocessing_verbose'],\n",
    "            mtot_cut=self.gwsnr_args['mtot_cut'],\n",
    "            snr_th=self.gwsnr_args['snr_th'],\n",
    "        )\n",
    "\n",
    "    def get_input_output_data(self, params=None, randomize=True):\n",
    "\n",
    "        params = self.get_parameters(params)\n",
    "\n",
    "        if randomize:\n",
    "            idx = np.random.choice(len(params['mass_1']), size=len(params['mass_1']), replace=False)\n",
    "        else:\n",
    "            idx = np.arange(len(params['mass_1']))\n",
    "\n",
    "        for key, value in params.items():\n",
    "            params[key] = np.array(value)[idx]\n",
    "\n",
    "        X1 = self.get_input_data(params=params)\n",
    "        # output data\n",
    "        # get snr for y train\n",
    "        det_ = self.gwsnr.detector_list[0]\n",
    "        if 'optimal_snr_net' in params:\n",
    "            y1 = np.array(params['optimal_snr_net'])\n",
    "        elif det_ in params:\n",
    "            y1 = np.array(params[det_])\n",
    "        else:\n",
    "            raise ValueError(\"Output data (snr) not found\")\n",
    "\n",
    "        return X1, y1\n",
    "        \n",
    "    def get_input_data(self, params):\n",
    "        \"\"\"\n",
    "        Function to generate input and output data for the neural network\n",
    "\n",
    "        Parameters:\n",
    "        idx: index of the parameter points\n",
    "        params: dictionary of parameter points\n",
    "            params.keys() = ['mass_1', 'mass_2', 'luminosity_distance', 'theta_jn', 'psi', 'geocent_time', 'ra', 'dec', 'a_1', 'a_2', 'tilt_1', 'tilt_2', 'L1']\n",
    "\n",
    "        Returns:\n",
    "        X: input data, [snr_partial_[0], amp0[0], eta, chi_eff, theta_jn]\n",
    "        y: output data, [L1]\n",
    "        \"\"\"\n",
    "\n",
    "        mass_1 = np.array(params['mass_1'])\n",
    "        mass_2 = np.array(params['mass_2'])\n",
    "        luminosity_distance = np.array(params['luminosity_distance'])\n",
    "        theta_jn = np.array(params['theta_jn'])\n",
    "        psi = np.array(params['psi'])\n",
    "        geocent_time = np.array(params['geocent_time'])\n",
    "        ra = np.array(params['ra'])\n",
    "        dec = np.array(params['dec'])\n",
    "        \n",
    "        detector_tensor = self.gwsnr.detector_tensor_list\n",
    "        snr_partial_coeff = np.array(self.gwsnr.snr_partialsacaled_list)[0]\n",
    "        ratio_arr = self.gwsnr.ratio_arr\n",
    "        mtot_arr = self.gwsnr.mtot_arr\n",
    "        \n",
    "        size = len(mass_1)\n",
    "        len_ = len(detector_tensor)\n",
    "        if len_ != 1:\n",
    "            raise ValueError(\"Only one detector is allowed\")\n",
    "\n",
    "        mtot = mass_1 + mass_2\n",
    "        ratio = mass_2 / mass_1\n",
    "        # get array of antenna response\n",
    "        Fp, Fc = antenna_response_array(ra, dec, geocent_time, psi, detector_tensor)\n",
    "        Fp = np.array(Fp[0])\n",
    "        Fc = np.array(Fc[0])\n",
    "\n",
    "        Mc = ((mass_1 * mass_2) ** (3 / 5)) / ((mass_1 + mass_2) ** (1 / 5))\n",
    "        eta = mass_1 * mass_2/(mass_1 + mass_2)**2.\n",
    "        A1 = Mc ** (5.0 / 6.0)\n",
    "        ci_2 = np.cos(theta_jn) ** 2\n",
    "        ci_param = ((1 + np.cos(theta_jn) ** 2) / 2) ** 2\n",
    "        \n",
    "        size = len(mass_1)\n",
    "        snr_partial_ = np.zeros(size)\n",
    "        d_eff = np.zeros(size)\n",
    "\n",
    "        # loop over the detectors\n",
    "        for i in range(size):\n",
    "            snr_partial_[i] = cubic_spline_interpolator2d(mtot[i], ratio[i], snr_partial_coeff, mtot_arr, ratio_arr)\n",
    "            d_eff[i] =luminosity_distance[i] / np.sqrt(\n",
    "                    Fp[i]**2 * ci_param[i] + Fc[i]**2 * ci_2[i]\n",
    "                )\n",
    "        #amp0\n",
    "        amp0 =  A1 / d_eff\n",
    "\n",
    "        # get spin parameters\n",
    "        a_1 = np.array(params['a_1'])\n",
    "        a_2 = np.array(params['a_2'])\n",
    "        tilt_1 = np.array(params['tilt_1'])\n",
    "        tilt_2 = np.array(params['tilt_2'])\n",
    "\n",
    "        # effective spin\n",
    "        chi_eff = (mass_1 * a_1 * np.cos(tilt_1) + mass_2 * a_2 * np.cos(tilt_2)) / (mass_1 + mass_2)\n",
    "\n",
    "\n",
    "        # input data\n",
    "        X1 = np.vstack([snr_partial_, amp0, eta, chi_eff, theta_jn]).T\n",
    "\n",
    "        return X1\n",
    "\n",
    "    def standard_scaling_initialization(self, X_train):\n",
    "\n",
    "        sc = StandardScaler()\n",
    "        X_train = sc.fit_transform(X_train)\n",
    "        self.scaler = sc\n",
    "\n",
    "        return X_train, sc\n",
    "\n",
    "    def ann_model_4layers(self, \n",
    "        num_nodes_list,\n",
    "        activation_fn_list,\n",
    "        optimizer,\n",
    "        loss,\n",
    "        metrics,\n",
    "    ):\n",
    "        ann = tf.keras.models.Sequential()\n",
    "\n",
    "        for i in range(1, len(num_nodes_list)):\n",
    "            ann.add(tf.keras.layers.Dense(units=num_nodes_list[i], activation=activation_fn_list[i]))\n",
    "\n",
    "        # compile the ANN\n",
    "        ann.compile(optimizer=optimizer, loss=loss, metrics=metrics)\n",
    "\n",
    "        return ann\n",
    "\n",
    "    def get_parameters(self, gw_param_dict):\n",
    "\n",
    "        # get the parameters\n",
    "        if isinstance(gw_param_dict, str):\n",
    "            path_ = f\"{self.directory}/{gw_param_dict}\"\n",
    "            gw_param_dict = get_param_from_json(path_)\n",
    "        elif isinstance(gw_param_dict, dict):\n",
    "            pass\n",
    "        else:\n",
    "            raise ValueError(\"gw_param_dict must be a dictionary or a json file\")\n",
    "\n",
    "        return gw_param_dict\n",
    "\n",
    "    def get_scaled_data(self, gw_param_dict, randomize=True, test_size=0.1, random_state=42):\n",
    "\n",
    "        gw_param_dict = self.get_parameters(gw_param_dict)\n",
    "\n",
    "        # input and output data\n",
    "        X, y = self.get_input_output_data(params=gw_param_dict, randomize=randomize)\n",
    "\n",
    "        # scaling\n",
    "        X_test = self.scaler.transform(X_test)\n",
    "\n",
    "        return X_test, y_test\n",
    "\n",
    "    def ann_model_training(self,\n",
    "        gw_param_dict,\n",
    "        randomize=True,\n",
    "        test_size=0.1,\n",
    "        random_state=42,\n",
    "        num_nodes_list = [5, 32, 32, 1],\n",
    "        activation_fn_list = ['relu', 'relu', 'sigmoid', 'linear'],\n",
    "        optimizer='adam',\n",
    "        loss='mean_squared_error',\n",
    "        metrics=['accuracy'],\n",
    "        batch_size=32,\n",
    "        epochs=100,\n",
    "        error_adjustment_snr_range=[4,10],\n",
    "        ann_file_name = 'ann_model.h5',\n",
    "        scaler_file_name = 'scaler.pkl',\n",
    "        error_adjustment_file_name='error_adjustment.json',\n",
    "        ann_path_dict_file_name='ann_path_dict.json',\n",
    "    ):\n",
    "        snr_threshold = self.gwsnr_args['snr_th']   # snr threshold\n",
    "\n",
    "        # input and output data\n",
    "        X, y = self.get_input_output_data(params=gw_param_dict, randomize=randomize)\n",
    "\n",
    "        # split the data\n",
    "        X_train, X_test, y_train, y_test = train_test_split(X, y, test_size=test_size, random_state=random_state)\n",
    "\n",
    "        # scaling\n",
    "        X_scaled, scaler = self.standard_scaling_initialization(X_train)\n",
    "        self.X_test = scaler.transform(X_test)\n",
    "        self.y_test = y_test\n",
    "        # save the scaler\n",
    "        pickle.dump(scaler, open(f'{self.directory}/{scaler_file_name}', 'wb'))\n",
    "\n",
    "        # initialize the ANN\n",
    "        ann = self.ann_model(num_nodes_list, activation_fn_list, optimizer, loss, metrics)\n",
    "\n",
    "        # fit the ANN to the training set\n",
    "        ann.fit(X_scaled, y_train, batch_size=batch_size, epochs=epochs)\n",
    "        # for testing\n",
    "        self.ann = ann\n",
    "        # save the model\n",
    "        ann.save(f'{self.directory}/{ann_file_name}')\n",
    "\n",
    "        # error adjustment\n",
    "        y_pred = np.array(ann.predict(self.X_test)).flatten()\n",
    "        self.error_adjustment = self.helper_error_adjustment(y_pred, y_test, snr_range=error_adjustment_snr_range)\n",
    "        append_json(f'{self.directory}/{error_adjustment_file_name}', self.error_adjustment, replace=True)\n",
    "\n",
    "        # print the results\n",
    "        print(f\"scaler saved at: {self.directory}/{scaler_file_name}\")\n",
    "        print(f\"model saved at: {self.directory}/{ann_file_name}\")\n",
    "        print(f\"error adjustment saved at: {self.directory}/{error_adjustment_file_name}\")\n",
    "\n",
    "        # save the path of the model, scaler, and error adjustment\n",
    "        self.save_ann_path_dict(\n",
    "            ann_file_name=ann_file_name, \n",
    "            scaler_file_name=scaler_file_name, \n",
    "            error_adjustment_file_name=error_adjustment_file_name,\n",
    "            ann_path_dict_file_name=ann_path_dict_file_name,\n",
    "        )\n",
    "\n",
    "    def pdet_error(self, gw_param_dict=None, randomize=True):\n",
    "\n",
    "        snr_threshold = self.gwsnr_args['snr_th']   # snr threshold\n",
    "\n",
    "        if gw_param_dict is not None:\n",
    "            gw_param_dict = self.get_parameters(gw_param_dict)\n",
    "            # input and output data\n",
    "            X_test, y_test = self.get_input_output_data(params=gw_param_dict, randomize=randomize)\n",
    "            X_test = self.scaler.transform(X_test)\n",
    "        else:\n",
    "            X_test = self.X_test\n",
    "            y_test = self.y_test\n",
    "\n",
    "        # calculate the error\n",
    "        y_pred = self.ann.predict(X_test).flatten()\n",
    "        len1 = len(y_pred)\n",
    "        len2 = np.sum((y_pred>snr_threshold) != (y_test>snr_threshold))\n",
    "        error = len2/len1*100\n",
    "        print(f\"Error: {error:.2f}%\")\n",
    "\n",
    "        return error, y_pred, y_test\n",
    "\n",
    "    def save_ann_path_dict(self, \n",
    "        ann_file_name='ann_model.h5', \n",
    "        scaler_file_name='scaler.pkl', error_adjustment_file_name='error_adjustment.json',\n",
    "        ann_path_dict_file_name='ann_path_dict.json',\n",
    "    ):\n",
    "\n",
    "        if not os.path.exists(f'{self.directory}/{ann_path_dict_file_name}'):\n",
    "            ann_path_dict = {}\n",
    "        else:\n",
    "            ann_path_dict = load_json(f'{self.directory}/{ann_path_dict_file_name}')\n",
    "\n",
    "        # check if the files exist\n",
    "        if not os.path.exists(f'{self.directory}/{ann_file_name}'):\n",
    "            raise ValueError(\"Model file does not exist\")\n",
    "        if not os.path.exists(f'{self.directory}/{scaler_file_name}'):\n",
    "            raise ValueError(\"Scaler file does not exist\")\n",
    "        if not os.path.exists(f'{self.directory}/{error_adjustment_file_name}'):\n",
    "            raise ValueError(\"Error adjustment file does not exist\")\n",
    "            \n",
    "        ann_path_dict_ = {\n",
    "            \"L1\": {\n",
    "                \"model_path\": f'{self.directory}/{ann_file_name}',\n",
    "                \"scaler_path\": f'{self.directory}/{scaler_file_name}',\n",
    "                \"error_adjustment_path\": f'{self.directory}/{error_adjustment_file_name}',\n",
    "                \"sampling_frequency\": self.gwsnr_args['sampling_frequency'],\n",
    "                \"minimum_frequency\": self.gwsnr_args['minimum_frequency'],\n",
    "                \"waveform_approximant\": self.gwsnr_args['waveform_approximant'], \n",
    "                \"snr_th\": self.gwsnr_args['snr_th'],},\n",
    "        }\n",
    "\n",
    "        ann_path_dict.update(ann_path_dict_)\n",
    "        append_json(f'{self.directory}/{ann_path_dict_file_name}', ann_path_dict, replace=True)\n",
    "        print(f\"ann path dict saved at: {self.directory}/{ann_path_dict_file_name}\")\n",
    "\n",
    "        return ann_path_dict\n",
    "\n",
    "    def pdet_confusion_matrix(self, gw_param_dict=None, randomize=True, snr_threshold=8.0):\n",
    "\n",
    "        if gw_param_dict is not None:\n",
    "            gw_param_dict = self.get_parameters(gw_param_dict)\n",
    "            # input and output data\n",
    "            X_test, y_test = self.get_input_output_data(params=gw_param_dict, randomize=randomize)\n",
    "            X_test = self.scaler.transform(X_test)\n",
    "        else:\n",
    "            X_test = self.X_test\n",
    "            y_test = self.y_test\n",
    "\n",
    "        # calculate the error\n",
    "        y_pred = self.ann.predict(X_test).flatten()\n",
    "        y_pred = (y_pred>snr_threshold)\n",
    "        y_test = (y_test>snr_threshold)\n",
    "\n",
    "        # # Making the Confusion Matrix\n",
    "        cm = confusion_matrix(y_test, y_pred)\n",
    "        print(cm)\n",
    "\n",
    "        accuracy = accuracy_score(y_test, y_pred)*100\n",
    "        print(f\"Accuracy: {accuracy:.3f}%\")\n",
    "\n",
    "        return cm, accuracy, y_pred, y_test\n",
    "\n",
    "    def load_model_scaler_error(self, \n",
    "        ann_file_name='ann_model.h5', \n",
    "        scaler_file_name='scaler.pkl',\n",
    "        error_adjustment_file_name=False,\n",
    "    ):\n",
    "        # load the model\n",
    "        self.ann = load_model(f'{self.directory}/{ann_file_name}')\n",
    "        self.scaler = pickle.load(open(f'{self.directory}/{scaler_file_name}', 'rb'))\n",
    "        if error_adjustment_file_name:\n",
    "            self.error_adjustment = get_param_from_json(f'{self.directory}/{error_adjustment_file_name}')\n",
    "\n",
    "            return self.ann, self.scaler, self.error_adjustment\n",
    "        else:\n",
    "            return self.ann, self.scaler\n",
    "\n",
    "    def helper_error_adjustment(self, y_pred, y_test, snr_range=[4,10]):\n",
    "\n",
    "        def linear_fit_fn(x, a, b):\n",
    "            return a*x + b\n",
    "\n",
    "        idx = (y_pred>snr_range[0]) & (y_pred<snr_range[1])\n",
    "        idx &= (y_test != 0)\n",
    "        popt, pcov = curve_fit(linear_fit_fn, y_pred[idx], y_pred[idx]-y_test[idx])\n",
    "\n",
    "        adjustment_dict = {'slope': popt[0], 'intercept': popt[1]}\n",
    "\n",
    "        return adjustment_dict\n",
    "\n",
    "    def snr_error_adjustment(self, gw_param_dict=None, randomize=True, snr_threshold=8.0, snr_range=[4,10], error_adjustment_file_name='error_adjustment.json'):\n",
    "\n",
    "        _, y_pred_, y_test_ = self.pdet_error(gw_param_dict=gw_param_dict, randomize=True, snr_threshold=snr_threshold)\n",
    "\n",
    "        self.error_adjustment = self.helper_error_adjustment(y_pred_, y_test_, snr_range=snr_range)\n",
    "\n",
    "        print(f\"slope: {self.error_adjustment['slope']:.4f}, intercept: {self.error_adjustment['intercept']:.4f}\")\n",
    "\n",
    "        # save json file\n",
    "        append_json(f'{self.directory}/{error_adjustment_file_name}', self.error_adjustment, replace=True)\n",
    "        print(f\"error adjustment saved at: {self.directory}/{error_adjustment_file_name}\")\n",
    "\n",
    "        return self.error_adjustment\n",
    "\n",
    "    def predict_snr(self, gw_param_dict):\n",
    "\n",
    "        params = self.get_parameters(gw_param_dict)\n",
    "\n",
    "        # input and output data\n",
    "        X_test, y_test = self.get_input_output_data(params=params)\n",
    "        X_test = self.scaler.transform(X_test)\n",
    "\n",
    "        # calculate the error\n",
    "        y_pred = self.ann.predict(X_test).flatten()\n",
    "\n",
    "        return y_pred, y_test\n",
    "\n",
    "    def predict_pdet(self, gw_param_dict, snr_threshold=8.0):\n",
    "\n",
    "        y_pred, y_test = self.predict_snr(gw_param_dict)\n",
    "        y_pred = (y_pred>snr_threshold)\n",
    "        y_test = (y_test>snr_threshold)\n",
    "\n",
    "        return y_pred, y_test"
   ]
  },
  {
   "cell_type": "code",
   "execution_count": 169,
   "metadata": {},
   "outputs": [
    {
     "name": "stdout",
     "output_type": "stream",
     "text": [
      "Intel processor has trouble allocating memory when the data is huge. So, by default for IMRPhenomXPHM, duration_max = 64.0. Otherwise, set to some max value like duration_max = 600.0 (10 mins)\n",
      "Interpolator will be loaded for L1 detector from ./interpolator_pickle/L1/partialSNR_dict_1.pickle\n"
     ]
    }
   ],
   "source": [
    "ann = ANNModelGenerator(ifos=['L1'], gwsnr_verbose=False)"
   ]
  },
  {
   "cell_type": "code",
   "execution_count": 173,
   "metadata": {},
   "outputs": [
    {
     "name": "stdout",
     "output_type": "stream",
     "text": [
      "\u001b[1m417/417\u001b[0m \u001b[32m━━━━━━━━━━━━━━━━━━━━\u001b[0m\u001b[37m\u001b[0m \u001b[1m0s\u001b[0m 234us/step\n"
     ]
    },
    {
     "data": {
      "text/plain": [
       "(array([False,  True, False, ...,  True,  True, False]),\n",
       " array([False,  True,  True, ...,  True,  True, False]))"
      ]
     },
     "execution_count": 173,
     "metadata": {},
     "output_type": "execute_result"
    }
   ],
   "source": [
    "ann.predict_pdet('L1_IMRPhenomXPHM_combined.json', snr_threshold=8.0)"
   ]
  },
  {
   "cell_type": "code",
   "execution_count": null,
   "metadata": {},
   "outputs": [],
   "source": []
  },
  {
   "cell_type": "code",
   "execution_count": 126,
   "metadata": {},
   "outputs": [],
   "source": [
    "ann.load_model_scaler_error(ann_file_name='ann_model.h5', scaler_file_name='scaler.pkl');"
   ]
  },
  {
   "cell_type": "code",
   "execution_count": 175,
   "metadata": {},
   "outputs": [
    {
     "name": "stdout",
     "output_type": "stream",
     "text": [
      "\u001b[1m417/417\u001b[0m \u001b[32m━━━━━━━━━━━━━━━━━━━━\u001b[0m\u001b[37m\u001b[0m \u001b[1m0s\u001b[0m 232us/step\n",
      "Error: 3.91%\n"
     ]
    }
   ],
   "source": [
    "ann.pdet_error(gw_param_dict='L1_IMRPhenomXPHM_combined.json', randomize=True);"
   ]
  },
  {
   "cell_type": "code",
   "execution_count": 176,
   "metadata": {},
   "outputs": [
    {
     "name": "stdout",
     "output_type": "stream",
     "text": [
      "\u001b[1m417/417\u001b[0m \u001b[32m━━━━━━━━━━━━━━━━━━━━\u001b[0m\u001b[37m\u001b[0m \u001b[1m0s\u001b[0m 235us/step\n",
      "[[6644  229]\n",
      " [ 292 6174]]\n",
      "Accuracy: 96.094%\n"
     ]
    }
   ],
   "source": [
    "ann.pdet_confusion_matrix(gw_param_dict='L1_IMRPhenomXPHM_combined.json', randomize=True, snr_threshold=8.0);"
   ]
  },
  {
   "cell_type": "code",
   "execution_count": 127,
   "metadata": {},
   "outputs": [
    {
     "name": "stdout",
     "output_type": "stream",
     "text": [
      "\u001b[1m417/417\u001b[0m \u001b[32m━━━━━━━━━━━━━━━━━━━━\u001b[0m\u001b[37m\u001b[0m \u001b[1m0s\u001b[0m 346us/step\n",
      "Error: 3.92%\n",
      "number of data points: 13339\n",
      "slope: -0.0076, intercept: 0.0013\n",
      "error adjustment saved at: ./ler_data/error_adjustment.json\n"
     ]
    }
   ],
   "source": [
    "ann.snr_error_adjustment(gw_param_dict='L1_IMRPhenomXPHM_combined.json', randomize=True, snr_threshold=8.0, snr_range=[4,10], error_adjustment_file_name='error_adjustment.json');"
   ]
  },
  {
   "cell_type": "code",
   "execution_count": null,
   "metadata": {},
   "outputs": [],
   "source": []
  },
  {
   "cell_type": "code",
   "execution_count": null,
   "metadata": {},
   "outputs": [],
   "source": []
  },
  {
   "cell_type": "code",
   "execution_count": 170,
   "metadata": {},
   "outputs": [
    {
     "name": "stdout",
     "output_type": "stream",
     "text": [
      "Epoch 1/100\n",
      "\u001b[1m376/376\u001b[0m \u001b[32m━━━━━━━━━━━━━━━━━━━━\u001b[0m\u001b[37m\u001b[0m \u001b[1m0s\u001b[0m 352us/step - accuracy: 0.0000e+00 - loss: 71.5183\n",
      "Epoch 2/100\n",
      "\u001b[1m376/376\u001b[0m \u001b[32m━━━━━━━━━━━━━━━━━━━━\u001b[0m\u001b[37m\u001b[0m \u001b[1m0s\u001b[0m 311us/step - accuracy: 1.3396e-04 - loss: 20.4197\n",
      "Epoch 3/100\n",
      "\u001b[1m376/376\u001b[0m \u001b[32m━━━━━━━━━━━━━━━━━━━━\u001b[0m\u001b[37m\u001b[0m \u001b[1m0s\u001b[0m 312us/step - accuracy: 9.5095e-04 - loss: 14.9034\n",
      "Epoch 4/100\n",
      "\u001b[1m376/376\u001b[0m \u001b[32m━━━━━━━━━━━━━━━━━━━━\u001b[0m\u001b[37m\u001b[0m \u001b[1m0s\u001b[0m 316us/step - accuracy: 6.5603e-04 - loss: 11.1339\n",
      "Epoch 5/100\n",
      "\u001b[1m376/376\u001b[0m \u001b[32m━━━━━━━━━━━━━━━━━━━━\u001b[0m\u001b[37m\u001b[0m \u001b[1m0s\u001b[0m 321us/step - accuracy: 4.5039e-04 - loss: 8.0265\n",
      "Epoch 6/100\n",
      "\u001b[1m376/376\u001b[0m \u001b[32m━━━━━━━━━━━━━━━━━━━━\u001b[0m\u001b[37m\u001b[0m \u001b[1m0s\u001b[0m 325us/step - accuracy: 4.2797e-04 - loss: 7.3401\n",
      "Epoch 7/100\n",
      "\u001b[1m376/376\u001b[0m \u001b[32m━━━━━━━━━━━━━━━━━━━━\u001b[0m\u001b[37m\u001b[0m \u001b[1m0s\u001b[0m 337us/step - accuracy: 5.9168e-04 - loss: 5.6126\n",
      "Epoch 8/100\n",
      "\u001b[1m376/376\u001b[0m \u001b[32m━━━━━━━━━━━━━━━━━━━━\u001b[0m\u001b[37m\u001b[0m \u001b[1m0s\u001b[0m 318us/step - accuracy: 6.7254e-04 - loss: 6.6672\n",
      "Epoch 9/100\n",
      "\u001b[1m376/376\u001b[0m \u001b[32m━━━━━━━━━━━━━━━━━━━━\u001b[0m\u001b[37m\u001b[0m \u001b[1m0s\u001b[0m 326us/step - accuracy: 2.7297e-04 - loss: 4.3140\n",
      "Epoch 10/100\n",
      "\u001b[1m376/376\u001b[0m \u001b[32m━━━━━━━━━━━━━━━━━━━━\u001b[0m\u001b[37m\u001b[0m \u001b[1m0s\u001b[0m 323us/step - accuracy: 5.9710e-04 - loss: 4.3143\n",
      "Epoch 11/100\n",
      "\u001b[1m376/376\u001b[0m \u001b[32m━━━━━━━━━━━━━━━━━━━━\u001b[0m\u001b[37m\u001b[0m \u001b[1m0s\u001b[0m 314us/step - accuracy: 4.9325e-04 - loss: 2.5173\n",
      "Epoch 12/100\n",
      "\u001b[1m376/376\u001b[0m \u001b[32m━━━━━━━━━━━━━━━━━━━━\u001b[0m\u001b[37m\u001b[0m \u001b[1m0s\u001b[0m 312us/step - accuracy: 7.4839e-04 - loss: 2.9883\n",
      "Epoch 13/100\n",
      "\u001b[1m376/376\u001b[0m \u001b[32m━━━━━━━━━━━━━━━━━━━━\u001b[0m\u001b[37m\u001b[0m \u001b[1m0s\u001b[0m 319us/step - accuracy: 8.1413e-04 - loss: 2.8807\n",
      "Epoch 14/100\n",
      "\u001b[1m376/376\u001b[0m \u001b[32m━━━━━━━━━━━━━━━━━━━━\u001b[0m\u001b[37m\u001b[0m \u001b[1m0s\u001b[0m 319us/step - accuracy: 5.5875e-04 - loss: 2.3184\n",
      "Epoch 15/100\n",
      "\u001b[1m376/376\u001b[0m \u001b[32m━━━━━━━━━━━━━━━━━━━━\u001b[0m\u001b[37m\u001b[0m \u001b[1m0s\u001b[0m 323us/step - accuracy: 6.6920e-04 - loss: 1.7020\n",
      "Epoch 16/100\n",
      "\u001b[1m376/376\u001b[0m \u001b[32m━━━━━━━━━━━━━━━━━━━━\u001b[0m\u001b[37m\u001b[0m \u001b[1m0s\u001b[0m 375us/step - accuracy: 9.8157e-04 - loss: 1.9803\n",
      "Epoch 17/100\n",
      "\u001b[1m376/376\u001b[0m \u001b[32m━━━━━━━━━━━━━━━━━━━━\u001b[0m\u001b[37m\u001b[0m \u001b[1m0s\u001b[0m 317us/step - accuracy: 0.0014 - loss: 1.3914\n",
      "Epoch 18/100\n",
      "\u001b[1m376/376\u001b[0m \u001b[32m━━━━━━━━━━━━━━━━━━━━\u001b[0m\u001b[37m\u001b[0m \u001b[1m0s\u001b[0m 315us/step - accuracy: 0.0011 - loss: 2.1624\n",
      "Epoch 19/100\n",
      "\u001b[1m376/376\u001b[0m \u001b[32m━━━━━━━━━━━━━━━━━━━━\u001b[0m\u001b[37m\u001b[0m \u001b[1m0s\u001b[0m 457us/step - accuracy: 9.8237e-04 - loss: 1.3081\n",
      "Epoch 20/100\n",
      "\u001b[1m376/376\u001b[0m \u001b[32m━━━━━━━━━━━━━━━━━━━━\u001b[0m\u001b[37m\u001b[0m \u001b[1m0s\u001b[0m 314us/step - accuracy: 0.0014 - loss: 1.4052  \n",
      "Epoch 21/100\n",
      "\u001b[1m376/376\u001b[0m \u001b[32m━━━━━━━━━━━━━━━━━━━━\u001b[0m\u001b[37m\u001b[0m \u001b[1m0s\u001b[0m 317us/step - accuracy: 0.0016 - loss: 1.2762\n",
      "Epoch 22/100\n",
      "\u001b[1m376/376\u001b[0m \u001b[32m━━━━━━━━━━━━━━━━━━━━\u001b[0m\u001b[37m\u001b[0m \u001b[1m0s\u001b[0m 318us/step - accuracy: 0.0012 - loss: 1.0015  \n",
      "Epoch 23/100\n",
      "\u001b[1m376/376\u001b[0m \u001b[32m━━━━━━━━━━━━━━━━━━━━\u001b[0m\u001b[37m\u001b[0m \u001b[1m0s\u001b[0m 316us/step - accuracy: 0.0013 - loss: 1.0225  \n",
      "Epoch 24/100\n",
      "\u001b[1m376/376\u001b[0m \u001b[32m━━━━━━━━━━━━━━━━━━━━\u001b[0m\u001b[37m\u001b[0m \u001b[1m0s\u001b[0m 310us/step - accuracy: 0.0019 - loss: 0.9803\n",
      "Epoch 25/100\n",
      "\u001b[1m376/376\u001b[0m \u001b[32m━━━━━━━━━━━━━━━━━━━━\u001b[0m\u001b[37m\u001b[0m \u001b[1m0s\u001b[0m 370us/step - accuracy: 9.9074e-04 - loss: 0.9906\n",
      "Epoch 26/100\n",
      "\u001b[1m376/376\u001b[0m \u001b[32m━━━━━━━━━━━━━━━━━━━━\u001b[0m\u001b[37m\u001b[0m \u001b[1m0s\u001b[0m 317us/step - accuracy: 0.0013 - loss: 0.8198  \n",
      "Epoch 27/100\n",
      "\u001b[1m376/376\u001b[0m \u001b[32m━━━━━━━━━━━━━━━━━━━━\u001b[0m\u001b[37m\u001b[0m \u001b[1m0s\u001b[0m 317us/step - accuracy: 0.0019 - loss: 1.0963\n",
      "Epoch 28/100\n",
      "\u001b[1m376/376\u001b[0m \u001b[32m━━━━━━━━━━━━━━━━━━━━\u001b[0m\u001b[37m\u001b[0m \u001b[1m0s\u001b[0m 310us/step - accuracy: 0.0023 - loss: 1.1491\n",
      "Epoch 29/100\n",
      "\u001b[1m376/376\u001b[0m \u001b[32m━━━━━━━━━━━━━━━━━━━━\u001b[0m\u001b[37m\u001b[0m \u001b[1m0s\u001b[0m 315us/step - accuracy: 0.0026 - loss: 1.3629\n",
      "Epoch 30/100\n",
      "\u001b[1m376/376\u001b[0m \u001b[32m━━━━━━━━━━━━━━━━━━━━\u001b[0m\u001b[37m\u001b[0m \u001b[1m0s\u001b[0m 342us/step - accuracy: 0.0018 - loss: 1.1431\n",
      "Epoch 31/100\n",
      "\u001b[1m376/376\u001b[0m \u001b[32m━━━━━━━━━━━━━━━━━━━━\u001b[0m\u001b[37m\u001b[0m \u001b[1m0s\u001b[0m 326us/step - accuracy: 0.0021 - loss: 0.7691\n",
      "Epoch 32/100\n",
      "\u001b[1m376/376\u001b[0m \u001b[32m━━━━━━━━━━━━━━━━━━━━\u001b[0m\u001b[37m\u001b[0m \u001b[1m0s\u001b[0m 324us/step - accuracy: 0.0028 - loss: 0.9554\n",
      "Epoch 33/100\n",
      "\u001b[1m376/376\u001b[0m \u001b[32m━━━━━━━━━━━━━━━━━━━━\u001b[0m\u001b[37m\u001b[0m \u001b[1m0s\u001b[0m 312us/step - accuracy: 0.0018 - loss: 0.8632\n",
      "Epoch 34/100\n",
      "\u001b[1m376/376\u001b[0m \u001b[32m━━━━━━━━━━━━━━━━━━━━\u001b[0m\u001b[37m\u001b[0m \u001b[1m0s\u001b[0m 311us/step - accuracy: 0.0017 - loss: 0.9083\n",
      "Epoch 35/100\n",
      "\u001b[1m376/376\u001b[0m \u001b[32m━━━━━━━━━━━━━━━━━━━━\u001b[0m\u001b[37m\u001b[0m \u001b[1m0s\u001b[0m 459us/step - accuracy: 0.0018 - loss: 0.8466\n",
      "Epoch 36/100\n",
      "\u001b[1m376/376\u001b[0m \u001b[32m━━━━━━━━━━━━━━━━━━━━\u001b[0m\u001b[37m\u001b[0m \u001b[1m0s\u001b[0m 317us/step - accuracy: 0.0016 - loss: 0.7980\n",
      "Epoch 37/100\n",
      "\u001b[1m376/376\u001b[0m \u001b[32m━━━━━━━━━━━━━━━━━━━━\u001b[0m\u001b[37m\u001b[0m \u001b[1m0s\u001b[0m 313us/step - accuracy: 0.0013 - loss: 0.8853  \n",
      "Epoch 38/100\n",
      "\u001b[1m376/376\u001b[0m \u001b[32m━━━━━━━━━━━━━━━━━━━━\u001b[0m\u001b[37m\u001b[0m \u001b[1m0s\u001b[0m 310us/step - accuracy: 0.0020 - loss: 0.7815\n",
      "Epoch 39/100\n",
      "\u001b[1m376/376\u001b[0m \u001b[32m━━━━━━━━━━━━━━━━━━━━\u001b[0m\u001b[37m\u001b[0m \u001b[1m0s\u001b[0m 371us/step - accuracy: 0.0026 - loss: 0.7812\n",
      "Epoch 40/100\n",
      "\u001b[1m376/376\u001b[0m \u001b[32m━━━━━━━━━━━━━━━━━━━━\u001b[0m\u001b[37m\u001b[0m \u001b[1m0s\u001b[0m 315us/step - accuracy: 0.0020 - loss: 0.8186\n",
      "Epoch 41/100\n",
      "\u001b[1m376/376\u001b[0m \u001b[32m━━━━━━━━━━━━━━━━━━━━\u001b[0m\u001b[37m\u001b[0m \u001b[1m0s\u001b[0m 315us/step - accuracy: 0.0018 - loss: 0.7069\n",
      "Epoch 42/100\n",
      "\u001b[1m376/376\u001b[0m \u001b[32m━━━━━━━━━━━━━━━━━━━━\u001b[0m\u001b[37m\u001b[0m \u001b[1m0s\u001b[0m 315us/step - accuracy: 0.0023 - loss: 0.8670\n",
      "Epoch 43/100\n",
      "\u001b[1m376/376\u001b[0m \u001b[32m━━━━━━━━━━━━━━━━━━━━\u001b[0m\u001b[37m\u001b[0m \u001b[1m0s\u001b[0m 312us/step - accuracy: 0.0025 - loss: 0.8247\n",
      "Epoch 44/100\n",
      "\u001b[1m376/376\u001b[0m \u001b[32m━━━━━━━━━━━━━━━━━━━━\u001b[0m\u001b[37m\u001b[0m \u001b[1m0s\u001b[0m 313us/step - accuracy: 0.0029 - loss: 0.7960\n",
      "Epoch 45/100\n",
      "\u001b[1m376/376\u001b[0m \u001b[32m━━━━━━━━━━━━━━━━━━━━\u001b[0m\u001b[37m\u001b[0m \u001b[1m0s\u001b[0m 319us/step - accuracy: 0.0024 - loss: 0.8878\n",
      "Epoch 46/100\n",
      "\u001b[1m376/376\u001b[0m \u001b[32m━━━━━━━━━━━━━━━━━━━━\u001b[0m\u001b[37m\u001b[0m \u001b[1m0s\u001b[0m 321us/step - accuracy: 0.0027 - loss: 0.7527\n",
      "Epoch 47/100\n",
      "\u001b[1m376/376\u001b[0m \u001b[32m━━━━━━━━━━━━━━━━━━━━\u001b[0m\u001b[37m\u001b[0m \u001b[1m0s\u001b[0m 320us/step - accuracy: 0.0023 - loss: 0.7529\n",
      "Epoch 48/100\n",
      "\u001b[1m376/376\u001b[0m \u001b[32m━━━━━━━━━━━━━━━━━━━━\u001b[0m\u001b[37m\u001b[0m \u001b[1m0s\u001b[0m 322us/step - accuracy: 0.0021 - loss: 0.6836\n",
      "Epoch 49/100\n",
      "\u001b[1m376/376\u001b[0m \u001b[32m━━━━━━━━━━━━━━━━━━━━\u001b[0m\u001b[37m\u001b[0m \u001b[1m0s\u001b[0m 317us/step - accuracy: 0.0020 - loss: 0.8114\n",
      "Epoch 50/100\n",
      "\u001b[1m376/376\u001b[0m \u001b[32m━━━━━━━━━━━━━━━━━━━━\u001b[0m\u001b[37m\u001b[0m \u001b[1m0s\u001b[0m 317us/step - accuracy: 0.0023 - loss: 0.8311\n",
      "Epoch 51/100\n",
      "\u001b[1m376/376\u001b[0m \u001b[32m━━━━━━━━━━━━━━━━━━━━\u001b[0m\u001b[37m\u001b[0m \u001b[1m0s\u001b[0m 314us/step - accuracy: 0.0022 - loss: 0.9554\n",
      "Epoch 52/100\n",
      "\u001b[1m376/376\u001b[0m \u001b[32m━━━━━━━━━━━━━━━━━━━━\u001b[0m\u001b[37m\u001b[0m \u001b[1m0s\u001b[0m 315us/step - accuracy: 0.0026 - loss: 0.6637\n",
      "Epoch 53/100\n",
      "\u001b[1m376/376\u001b[0m \u001b[32m━━━━━━━━━━━━━━━━━━━━\u001b[0m\u001b[37m\u001b[0m \u001b[1m0s\u001b[0m 312us/step - accuracy: 0.0024 - loss: 0.7203\n",
      "Epoch 54/100\n",
      "\u001b[1m376/376\u001b[0m \u001b[32m━━━━━━━━━━━━━━━━━━━━\u001b[0m\u001b[37m\u001b[0m \u001b[1m0s\u001b[0m 317us/step - accuracy: 0.0030 - loss: 0.7188\n",
      "Epoch 55/100\n",
      "\u001b[1m376/376\u001b[0m \u001b[32m━━━━━━━━━━━━━━━━━━━━\u001b[0m\u001b[37m\u001b[0m \u001b[1m0s\u001b[0m 456us/step - accuracy: 0.0027 - loss: 0.7408\n",
      "Epoch 56/100\n",
      "\u001b[1m376/376\u001b[0m \u001b[32m━━━━━━━━━━━━━━━━━━━━\u001b[0m\u001b[37m\u001b[0m \u001b[1m0s\u001b[0m 362us/step - accuracy: 0.0016 - loss: 0.6987\n",
      "Epoch 57/100\n",
      "\u001b[1m376/376\u001b[0m \u001b[32m━━━━━━━━━━━━━━━━━━━━\u001b[0m\u001b[37m\u001b[0m \u001b[1m0s\u001b[0m 320us/step - accuracy: 0.0035 - loss: 0.7193\n",
      "Epoch 58/100\n",
      "\u001b[1m376/376\u001b[0m \u001b[32m━━━━━━━━━━━━━━━━━━━━\u001b[0m\u001b[37m\u001b[0m \u001b[1m0s\u001b[0m 317us/step - accuracy: 0.0023 - loss: 0.7823\n",
      "Epoch 59/100\n",
      "\u001b[1m376/376\u001b[0m \u001b[32m━━━━━━━━━━━━━━━━━━━━\u001b[0m\u001b[37m\u001b[0m \u001b[1m0s\u001b[0m 316us/step - accuracy: 0.0024 - loss: 0.6965\n",
      "Epoch 60/100\n",
      "\u001b[1m376/376\u001b[0m \u001b[32m━━━━━━━━━━━━━━━━━━━━\u001b[0m\u001b[37m\u001b[0m \u001b[1m0s\u001b[0m 311us/step - accuracy: 0.0028 - loss: 0.7904\n",
      "Epoch 61/100\n",
      "\u001b[1m376/376\u001b[0m \u001b[32m━━━━━━━━━━━━━━━━━━━━\u001b[0m\u001b[37m\u001b[0m \u001b[1m0s\u001b[0m 315us/step - accuracy: 0.0035 - loss: 0.6601\n",
      "Epoch 62/100\n",
      "\u001b[1m376/376\u001b[0m \u001b[32m━━━━━━━━━━━━━━━━━━━━\u001b[0m\u001b[37m\u001b[0m \u001b[1m0s\u001b[0m 315us/step - accuracy: 0.0027 - loss: 0.7581\n",
      "Epoch 63/100\n",
      "\u001b[1m376/376\u001b[0m \u001b[32m━━━━━━━━━━━━━━━━━━━━\u001b[0m\u001b[37m\u001b[0m \u001b[1m0s\u001b[0m 370us/step - accuracy: 0.0027 - loss: 0.8622\n",
      "Epoch 64/100\n",
      "\u001b[1m376/376\u001b[0m \u001b[32m━━━━━━━━━━━━━━━━━━━━\u001b[0m\u001b[37m\u001b[0m \u001b[1m0s\u001b[0m 314us/step - accuracy: 0.0027 - loss: 0.6588\n",
      "Epoch 65/100\n",
      "\u001b[1m376/376\u001b[0m \u001b[32m━━━━━━━━━━━━━━━━━━━━\u001b[0m\u001b[37m\u001b[0m \u001b[1m0s\u001b[0m 315us/step - accuracy: 0.0033 - loss: 0.7272\n",
      "Epoch 66/100\n",
      "\u001b[1m376/376\u001b[0m \u001b[32m━━━━━━━━━━━━━━━━━━━━\u001b[0m\u001b[37m\u001b[0m \u001b[1m0s\u001b[0m 313us/step - accuracy: 0.0025 - loss: 0.7518\n",
      "Epoch 67/100\n",
      "\u001b[1m376/376\u001b[0m \u001b[32m━━━━━━━━━━━━━━━━━━━━\u001b[0m\u001b[37m\u001b[0m \u001b[1m0s\u001b[0m 313us/step - accuracy: 0.0023 - loss: 0.7739\n",
      "Epoch 68/100\n",
      "\u001b[1m376/376\u001b[0m \u001b[32m━━━━━━━━━━━━━━━━━━━━\u001b[0m\u001b[37m\u001b[0m \u001b[1m0s\u001b[0m 317us/step - accuracy: 0.0022 - loss: 0.6640\n",
      "Epoch 69/100\n",
      "\u001b[1m376/376\u001b[0m \u001b[32m━━━━━━━━━━━━━━━━━━━━\u001b[0m\u001b[37m\u001b[0m \u001b[1m0s\u001b[0m 312us/step - accuracy: 0.0023 - loss: 0.6793\n",
      "Epoch 70/100\n",
      "\u001b[1m376/376\u001b[0m \u001b[32m━━━━━━━━━━━━━━━━━━━━\u001b[0m\u001b[37m\u001b[0m \u001b[1m0s\u001b[0m 373us/step - accuracy: 0.0024 - loss: 0.6499\n",
      "Epoch 71/100\n",
      "\u001b[1m376/376\u001b[0m \u001b[32m━━━━━━━━━━━━━━━━━━━━\u001b[0m\u001b[37m\u001b[0m \u001b[1m0s\u001b[0m 311us/step - accuracy: 0.0028 - loss: 0.6503\n",
      "Epoch 72/100\n",
      "\u001b[1m376/376\u001b[0m \u001b[32m━━━━━━━━━━━━━━━━━━━━\u001b[0m\u001b[37m\u001b[0m \u001b[1m0s\u001b[0m 315us/step - accuracy: 0.0035 - loss: 0.7345\n",
      "Epoch 73/100\n",
      "\u001b[1m376/376\u001b[0m \u001b[32m━━━━━━━━━━━━━━━━━━━━\u001b[0m\u001b[37m\u001b[0m \u001b[1m0s\u001b[0m 315us/step - accuracy: 0.0034 - loss: 0.6882\n",
      "Epoch 74/100\n",
      "\u001b[1m376/376\u001b[0m \u001b[32m━━━━━━━━━━━━━━━━━━━━\u001b[0m\u001b[37m\u001b[0m \u001b[1m0s\u001b[0m 462us/step - accuracy: 0.0022 - loss: 0.7663\n",
      "Epoch 75/100\n",
      "\u001b[1m376/376\u001b[0m \u001b[32m━━━━━━━━━━━━━━━━━━━━\u001b[0m\u001b[37m\u001b[0m \u001b[1m0s\u001b[0m 317us/step - accuracy: 0.0032 - loss: 0.7405\n",
      "Epoch 76/100\n",
      "\u001b[1m376/376\u001b[0m \u001b[32m━━━━━━━━━━━━━━━━━━━━\u001b[0m\u001b[37m\u001b[0m \u001b[1m0s\u001b[0m 337us/step - accuracy: 0.0029 - loss: 0.7095\n",
      "Epoch 77/100\n",
      "\u001b[1m376/376\u001b[0m \u001b[32m━━━━━━━━━━━━━━━━━━━━\u001b[0m\u001b[37m\u001b[0m \u001b[1m0s\u001b[0m 324us/step - accuracy: 0.0033 - loss: 0.7061\n",
      "Epoch 78/100\n",
      "\u001b[1m376/376\u001b[0m \u001b[32m━━━━━━━━━━━━━━━━━━━━\u001b[0m\u001b[37m\u001b[0m \u001b[1m0s\u001b[0m 317us/step - accuracy: 0.0035 - loss: 0.7239\n",
      "Epoch 79/100\n",
      "\u001b[1m376/376\u001b[0m \u001b[32m━━━━━━━━━━━━━━━━━━━━\u001b[0m\u001b[37m\u001b[0m \u001b[1m0s\u001b[0m 312us/step - accuracy: 0.0029 - loss: 0.6407\n",
      "Epoch 80/100\n",
      "\u001b[1m376/376\u001b[0m \u001b[32m━━━━━━━━━━━━━━━━━━━━\u001b[0m\u001b[37m\u001b[0m \u001b[1m0s\u001b[0m 313us/step - accuracy: 0.0039 - loss: 0.7204\n",
      "Epoch 81/100\n",
      "\u001b[1m376/376\u001b[0m \u001b[32m━━━━━━━━━━━━━━━━━━━━\u001b[0m\u001b[37m\u001b[0m \u001b[1m0s\u001b[0m 313us/step - accuracy: 0.0026 - loss: 0.6334\n",
      "Epoch 82/100\n",
      "\u001b[1m376/376\u001b[0m \u001b[32m━━━━━━━━━━━━━━━━━━━━\u001b[0m\u001b[37m\u001b[0m \u001b[1m0s\u001b[0m 371us/step - accuracy: 0.0039 - loss: 0.6685\n",
      "Epoch 83/100\n",
      "\u001b[1m376/376\u001b[0m \u001b[32m━━━━━━━━━━━━━━━━━━━━\u001b[0m\u001b[37m\u001b[0m \u001b[1m0s\u001b[0m 317us/step - accuracy: 0.0030 - loss: 0.6601\n",
      "Epoch 84/100\n",
      "\u001b[1m376/376\u001b[0m \u001b[32m━━━━━━━━━━━━━━━━━━━━\u001b[0m\u001b[37m\u001b[0m \u001b[1m0s\u001b[0m 315us/step - accuracy: 0.0023 - loss: 0.6636\n",
      "Epoch 85/100\n",
      "\u001b[1m376/376\u001b[0m \u001b[32m━━━━━━━━━━━━━━━━━━━━\u001b[0m\u001b[37m\u001b[0m \u001b[1m0s\u001b[0m 313us/step - accuracy: 0.0038 - loss: 0.6683\n",
      "Epoch 86/100\n",
      "\u001b[1m376/376\u001b[0m \u001b[32m━━━━━━━━━━━━━━━━━━━━\u001b[0m\u001b[37m\u001b[0m \u001b[1m0s\u001b[0m 320us/step - accuracy: 0.0031 - loss: 0.6470\n",
      "Epoch 87/100\n",
      "\u001b[1m376/376\u001b[0m \u001b[32m━━━━━━━━━━━━━━━━━━━━\u001b[0m\u001b[37m\u001b[0m \u001b[1m0s\u001b[0m 377us/step - accuracy: 0.0023 - loss: 0.7258\n",
      "Epoch 88/100\n",
      "\u001b[1m376/376\u001b[0m \u001b[32m━━━━━━━━━━━━━━━━━━━━\u001b[0m\u001b[37m\u001b[0m \u001b[1m0s\u001b[0m 322us/step - accuracy: 0.0030 - loss: 0.6587\n",
      "Epoch 89/100\n",
      "\u001b[1m376/376\u001b[0m \u001b[32m━━━━━━━━━━━━━━━━━━━━\u001b[0m\u001b[37m\u001b[0m \u001b[1m0s\u001b[0m 329us/step - accuracy: 0.0023 - loss: 0.6258\n",
      "Epoch 90/100\n",
      "\u001b[1m376/376\u001b[0m \u001b[32m━━━━━━━━━━━━━━━━━━━━\u001b[0m\u001b[37m\u001b[0m \u001b[1m0s\u001b[0m 334us/step - accuracy: 0.0031 - loss: 0.7139\n",
      "Epoch 91/100\n",
      "\u001b[1m376/376\u001b[0m \u001b[32m━━━━━━━━━━━━━━━━━━━━\u001b[0m\u001b[37m\u001b[0m \u001b[1m0s\u001b[0m 323us/step - accuracy: 0.0030 - loss: 0.6219\n",
      "Epoch 92/100\n",
      "\u001b[1m376/376\u001b[0m \u001b[32m━━━━━━━━━━━━━━━━━━━━\u001b[0m\u001b[37m\u001b[0m \u001b[1m0s\u001b[0m 451us/step - accuracy: 0.0025 - loss: 0.7272\n",
      "Epoch 93/100\n",
      "\u001b[1m376/376\u001b[0m \u001b[32m━━━━━━━━━━━━━━━━━━━━\u001b[0m\u001b[37m\u001b[0m \u001b[1m0s\u001b[0m 332us/step - accuracy: 0.0031 - loss: 0.6602\n",
      "Epoch 94/100\n",
      "\u001b[1m376/376\u001b[0m \u001b[32m━━━━━━━━━━━━━━━━━━━━\u001b[0m\u001b[37m\u001b[0m \u001b[1m0s\u001b[0m 322us/step - accuracy: 0.0027 - loss: 0.6774\n",
      "Epoch 95/100\n",
      "\u001b[1m376/376\u001b[0m \u001b[32m━━━━━━━━━━━━━━━━━━━━\u001b[0m\u001b[37m\u001b[0m \u001b[1m0s\u001b[0m 351us/step - accuracy: 0.0036 - loss: 0.6864\n",
      "Epoch 96/100\n",
      "\u001b[1m376/376\u001b[0m \u001b[32m━━━━━━━━━━━━━━━━━━━━\u001b[0m\u001b[37m\u001b[0m \u001b[1m0s\u001b[0m 327us/step - accuracy: 0.0021 - loss: 0.6696\n",
      "Epoch 97/100\n",
      "\u001b[1m376/376\u001b[0m \u001b[32m━━━━━━━━━━━━━━━━━━━━\u001b[0m\u001b[37m\u001b[0m \u001b[1m0s\u001b[0m 317us/step - accuracy: 0.0033 - loss: 0.6462\n",
      "Epoch 98/100\n",
      "\u001b[1m376/376\u001b[0m \u001b[32m━━━━━━━━━━━━━━━━━━━━\u001b[0m\u001b[37m\u001b[0m \u001b[1m0s\u001b[0m 325us/step - accuracy: 0.0039 - loss: 0.6868\n",
      "Epoch 99/100\n",
      "\u001b[1m376/376\u001b[0m \u001b[32m━━━━━━━━━━━━━━━━━━━━\u001b[0m\u001b[37m\u001b[0m \u001b[1m0s\u001b[0m 319us/step - accuracy: 0.0041 - loss: 0.7479\n",
      "Epoch 100/100\n",
      "\u001b[1m376/376\u001b[0m \u001b[32m━━━━━━━━━━━━━━━━━━━━\u001b[0m\u001b[37m\u001b[0m \u001b[1m0s\u001b[0m 321us/step - accuracy: 0.0032 - loss: 0.6994\n",
      "\u001b[1m42/42\u001b[0m \u001b[32m━━━━━━━━━━━━━━━━━━━━\u001b[0m\u001b[37m\u001b[0m \u001b[1m0s\u001b[0m 524us/step\n",
      "scaler saved at: ./ler_data/scaler.pkl\n",
      "model saved at: ./ler_data/ann_model.h5\n",
      "error adjustment saved at: ./ler_data/error_adjustment.json\n",
      "ann path dict saved at: ./ler_data/ann_path_dict.json\n"
     ]
    }
   ],
   "source": [
    "ann.ann_model_training(epochs=100, gw_param_dict='L1_IMRPhenomXPHM_combined.json')"
   ]
  },
  {
   "cell_type": "code",
   "execution_count": 171,
   "metadata": {},
   "outputs": [
    {
     "data": {
      "text/plain": [
       "array([13.21199  ,  9.393047 ,  5.794366 , ...,  2.1224108,\n",
       "       11.827897 ,  4.223282 ], dtype=float32)"
      ]
     },
     "execution_count": 171,
     "metadata": {},
     "output_type": "execute_result"
    }
   ],
   "source": [
    "np.array(ann.ann(ann.X_test)).flatten()"
   ]
  },
  {
   "cell_type": "code",
   "execution_count": 172,
   "metadata": {},
   "outputs": [
    {
     "data": {
      "text/plain": [
       "array([13.59773649,  9.90530982,  5.85352611, ...,  2.12768409,\n",
       "       12.5382342 ,  4.06693041])"
      ]
     },
     "execution_count": 172,
     "metadata": {},
     "output_type": "execute_result"
    }
   ],
   "source": [
    "ann.y_test"
   ]
  },
  {
   "cell_type": "code",
   "execution_count": 3,
   "metadata": {},
   "outputs": [
    {
     "name": "stdout",
     "output_type": "stream",
     "text": [
      "Intel processor has trouble allocating memory when the data is huge. So, by default for IMRPhenomXPHM, duration_max = 64.0. Otherwise, set to some max value like duration_max = 600.0 (10 mins)\n",
      "ANN model for L1 is loaded from ./ler_data/ann_model.h5.\n",
      "ANN scaler for L1 is loaded from ./ler_data/scaler.pkl.\n",
      "ANN error_adjustment for L1 is loaded from ./ler_data/error_adjustment.json.\n",
      "Interpolator will be loaded for L1 detector from ./interpolator_pickle/L1/partialSNR_dict_1.pickle\n",
      "\n",
      "Chosen GWSNR initialization parameters:\n",
      "\n",
      "npool:  4\n",
      "snr type:  ann\n",
      "waveform approximant:  IMRPhenomXPHM\n",
      "sampling frequency:  2048.0\n",
      "minimum frequency (fmin):  20.0\n",
      "mtot=mass1+mass2\n",
      "min(mtot):  2.0\n",
      "max(mtot) (with the given fmin=20.0): 184.98599853446768\n",
      "detectors:  ['L1']\n",
      "psds:  [PowerSpectralDensity(psd_file='None', asd_file='/Users/phurailatpamhemantakumar/anaconda3/envs/ler/lib/python3.10/site-packages/bilby/gw/detector/noise_curves/aLIGO_O4_high_asd.txt')]\n"
     ]
    }
   ],
   "source": [
    "from gwsnr import GWSNR\n",
    "import numpy as np\n",
    "\n",
    "gwsnr = GWSNR(\n",
    "    snr_type='ann',\n",
    "    waveform_approximant=\"IMRPhenomXPHM\",\n",
    "    ifos=['L1'],\n",
    "    ann_path_dict='./ler_data/ann_path_dict.json',\n",
    ")"
   ]
  },
  {
   "cell_type": "code",
   "execution_count": 6,
   "metadata": {},
   "outputs": [
    {
     "name": "stdout",
     "output_type": "stream",
     "text": [
      "Probability of detection (with ANN): \n",
      "{'L1': array([ 7.55985785,  6.10763454, 11.9991436 ,  0.        ]), 'optimal_snr_net': array([ 7.55985785,  6.10763454, 11.9991436 ,  0.        ])}\n"
     ]
    }
   ],
   "source": [
    "# set the GW parameters\n",
    "mass_1 = np.array([5, 10.,50.,200.])\n",
    "ratio = np.array([1, 0.8,0.5,0.2])\n",
    "param_dict = dict(\n",
    "    mass_1 = mass_1,\n",
    "    mass_2 = mass_1*ratio,\n",
    "    luminosity_distance = np.array([1000, 2000, 3000, 4000]),\n",
    "    theta_jn = np.array([0.1, 0.2, 0.3, 0.4]),\n",
    "    ra = np.array([0.1, 0.2, 0.3, 0.4]), \n",
    "    dec = np.array([0.1, 0.2, 0.3, 0.4]), \n",
    "    psi = np.array([0.1, 0.2, 0.3, 0.4]),\n",
    "    a_1 = np.array([0.1, 0.2, 0.3, 0.4]),\n",
    "    a_2 = np.array([0.1, 0.2, 0.3, 0.4]),\n",
    "    tilt_1 = np.array([0.1, 0.2, 0.3, 0.4]),\n",
    "    tilt_2 = np.array([0.1, 0.2, 0.3, 0.4]),\n",
    "    phi_12 = np.array([0.1, 0.2, 0.3, 0.4]),\n",
    "    phi_jl = np.array([0.1, 0.2, 0.3, 0.4]),\n",
    "    geocent_time = np.array([0.0, 0.0, 0.0, 0.0]),\n",
    "    phase = np.array([0.0, 0.0, 0.0, 0.0]),\n",
    ")\n",
    "\n",
    "# pdet calculation with ANN\n",
    "pdet_ann = gwsnr.snr(gw_param_dict=param_dict)\n",
    "print(f'Probability of detection (with ANN): \\n{pdet_ann}')"
   ]
  },
  {
   "cell_type": "code",
   "execution_count": 5,
   "metadata": {},
   "outputs": [
    {
     "name": "stderr",
     "output_type": "stream",
     "text": [
      "100%|█████████████████████████████████████████████████████████████████| 3/3 [00:05<00:00,  1.70s/it]\n"
     ]
    },
    {
     "data": {
      "text/plain": [
       "{'L1': array([ 8.30585543,  6.87001242, 13.2429687 ,  0.        ]),\n",
       " 'optimal_snr_net': array([ 8.30585543,  6.87001242, 13.2429687 ,  0.        ])}"
      ]
     },
     "execution_count": 5,
     "metadata": {},
     "output_type": "execute_result"
    }
   ],
   "source": [
    "gwsnr.compute_bilby_snr(gw_param_dict=param_dict)"
   ]
  },
  {
   "cell_type": "code",
   "execution_count": 7,
   "metadata": {},
   "outputs": [
    {
     "ename": "TypeError",
     "evalue": "GWSNR.snr_with_interpolation() got an unexpected keyword argument 'gw_param_dict'",
     "output_type": "error",
     "traceback": [
      "\u001b[0;31m---------------------------------------------------------------------------\u001b[0m",
      "\u001b[0;31mTypeError\u001b[0m                                 Traceback (most recent call last)",
      "Cell \u001b[0;32mIn[7], line 1\u001b[0m\n\u001b[0;32m----> 1\u001b[0m \u001b[43mgwsnr\u001b[49m\u001b[38;5;241;43m.\u001b[39;49m\u001b[43msnr_with_interpolation\u001b[49m\u001b[43m(\u001b[49m\u001b[43mgw_param_dict\u001b[49m\u001b[38;5;241;43m=\u001b[39;49m\u001b[43mparam_dict\u001b[49m\u001b[43m)\u001b[49m\n",
      "\u001b[0;31mTypeError\u001b[0m: GWSNR.snr_with_interpolation() got an unexpected keyword argument 'gw_param_dict'"
     ]
    }
   ],
   "source": [
    "gwsnr.snr_with_interpolation(gw_param_dict=param_dict)"
   ]
  },
  {
   "cell_type": "code",
   "execution_count": null,
   "metadata": {},
   "outputs": [],
   "source": []
  },
  {
   "cell_type": "code",
   "execution_count": null,
   "metadata": {},
   "outputs": [],
   "source": []
  }
 ],
 "metadata": {
  "kernelspec": {
   "display_name": "ler",
   "language": "python",
   "name": "ler"
  },
  "language_info": {
   "codemirror_mode": {
    "name": "ipython",
    "version": 3
   },
   "file_extension": ".py",
   "mimetype": "text/x-python",
   "name": "python",
   "nbconvert_exporter": "python",
   "pygments_lexer": "ipython3",
   "version": "3.10.14"
  }
 },
 "nbformat": 4,
 "nbformat_minor": 2
}
