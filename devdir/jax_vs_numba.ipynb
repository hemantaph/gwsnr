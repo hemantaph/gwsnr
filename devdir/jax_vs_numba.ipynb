{
 "cells": [
  {
   "cell_type": "code",
   "execution_count": 2,
   "id": "72f4b9cb",
   "metadata": {},
   "outputs": [],
   "source": [
    "import numpy as np\n",
    "from numba import njit, prange\n",
    "import jax\n",
    "import jax.numpy as jnp\n",
    "import time\n",
    "\n",
    "# Numba parallel sum\n",
    "@njit(parallel=True)\n",
    "def numba_sum(arr):\n",
    "    total = 0.0\n",
    "    for i in prange(len(arr)):\n",
    "        total += arr[i]\n",
    "    return total\n",
    "\n",
    "# JAX sum\n",
    "@jax.jit\n",
    "def jax_sum(arr):\n",
    "    return jnp.sum(arr)"
   ]
  },
  {
   "cell_type": "code",
   "execution_count": 3,
   "id": "1b14aef0",
   "metadata": {},
   "outputs": [],
   "source": [
    "arr_np = np.random.rand(10_000_000).astype(np.float64)\n",
    "arr_jax = jnp.array(arr_np)\n",
    "\n",
    "# Warm-up\n",
    "numba_sum(arr_np);\n",
    "jax_sum(arr_jax).block_until_ready();"
   ]
  },
  {
   "cell_type": "code",
   "execution_count": 4,
   "id": "3f9f7322",
   "metadata": {},
   "outputs": [
    {
     "name": "stdout",
     "output_type": "stream",
     "text": [
      "Numba time: 0.0033452510833740234\n",
      "JAX time: 0.0074198246002197266\n"
     ]
    }
   ],
   "source": [
    "# Timing\n",
    "start = time.time()\n",
    "numba_sum(arr_np)\n",
    "print(\"Numba time:\", time.time() - start)\n",
    "\n",
    "start = time.time()\n",
    "jax_sum(arr_jax).block_until_ready()\n",
    "print(\"JAX time:\", time.time() - start)"
   ]
  },
  {
   "cell_type": "code",
   "execution_count": 5,
   "id": "f4394996",
   "metadata": {},
   "outputs": [
    {
     "name": "stdout",
     "output_type": "stream",
     "text": [
      "JAX time: 1.7573049068450928\n"
     ]
    }
   ],
   "source": [
    "# JAX version\n",
    "import jax\n",
    "import jax.numpy as jnp\n",
    "import time\n",
    "\n",
    "x = jnp.ones((8192, 8192))\n",
    "y = jnp.ones((8192, 8192))\n",
    "\n",
    "jax.block_until_ready(x @ y)  # warm-up\n",
    "start = time.time()\n",
    "out = x @ y\n",
    "jax.block_until_ready(out)\n",
    "print(\"JAX time:\", time.time() - start)"
   ]
  },
  {
   "cell_type": "code",
   "execution_count": 6,
   "id": "357f2e2b",
   "metadata": {},
   "outputs": [
    {
     "name": "stderr",
     "output_type": "stream",
     "text": [
      "/Users/phurailatpamhemantakumar/anaconda3/envs/gwsnrtest/lib/python3.10/pty.py:89: RuntimeWarning: os.fork() was called. os.fork() is incompatible with multithreaded code, and JAX is multithreaded, so this will likely lead to a deadlock.\n",
      "  pid, fd = os.forkpty()\n"
     ]
    },
    {
     "name": "stdout",
     "output_type": "stream",
     "text": [
      "Collecting mlx\n",
      "  Downloading mlx-0.26.1-cp310-cp310-macosx_15_0_arm64.whl.metadata (5.3 kB)\n",
      "Downloading mlx-0.26.1-cp310-cp310-macosx_15_0_arm64.whl (31.9 MB)\n",
      "\u001b[2K   \u001b[90m━━━━━━━━━━━━━━━━━━━━━━━━━━━━━━━━━━━━━━━━\u001b[0m \u001b[32m31.9/31.9 MB\u001b[0m \u001b[31m23.4 MB/s\u001b[0m eta \u001b[36m0:00:00\u001b[0ma \u001b[36m0:00:01\u001b[0m\n",
      "\u001b[?25hInstalling collected packages: mlx\n",
      "Successfully installed mlx-0.26.1\n"
     ]
    }
   ],
   "source": [
    "!pip install mlx"
   ]
  },
  {
   "cell_type": "code",
   "execution_count": 7,
   "id": "a4cfd202",
   "metadata": {},
   "outputs": [
    {
     "name": "stdout",
     "output_type": "stream",
     "text": [
      "MLX time: 0.2774200439453125\n"
     ]
    }
   ],
   "source": [
    "# MLX version\n",
    "import mlx.core as mx\n",
    "import time\n",
    "\n",
    "a = mx.ones((8192, 8192))\n",
    "b = mx.ones((8192, 8192))\n",
    "\n",
    "mx.eval(a @ b)  # warm-up\n",
    "start = time.time()\n",
    "c = a @ b\n",
    "mx.eval(c)\n",
    "print(\"MLX time:\", time.time() - start)\n"
   ]
  },
  {
   "cell_type": "code",
   "execution_count": null,
   "id": "ba8df14d",
   "metadata": {},
   "outputs": [],
   "source": []
  }
 ],
 "metadata": {
  "kernelspec": {
   "display_name": "gwsnrtest",
   "language": "python",
   "name": "python3"
  },
  "language_info": {
   "codemirror_mode": {
    "name": "ipython",
    "version": 3
   },
   "file_extension": ".py",
   "mimetype": "text/x-python",
   "name": "python",
   "nbconvert_exporter": "python",
   "pygments_lexer": "ipython3",
   "version": "3.10.16"
  }
 },
 "nbformat": 4,
 "nbformat_minor": 5
}
