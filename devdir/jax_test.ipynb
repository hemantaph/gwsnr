{
 "cells": [
  {
   "cell_type": "code",
   "execution_count": 1,
   "id": "594f156e",
   "metadata": {},
   "outputs": [],
   "source": [
    "from gwsnr import GWSNR\n",
    "import numpy as np"
   ]
  },
  {
   "cell_type": "code",
   "execution_count": 2,
   "id": "163fab7f",
   "metadata": {},
   "outputs": [
    {
     "name": "stdout",
     "output_type": "stream",
     "text": [
      "\n",
      "Initializing GWSNR class...\n",
      "\n",
      "psds not given. Choosing bilby's default psds\n",
      "Interpolator will be loaded for L1 detector from ./interpolator_pickle/L1/partialSNR_dict_2.pickle\n",
      "Interpolator will be loaded for H1 detector from ./interpolator_pickle/H1/partialSNR_dict_2.pickle\n",
      "Interpolator will be loaded for V1 detector from ./interpolator_pickle/V1/partialSNR_dict_2.pickle\n",
      "\n",
      "Chosen GWSNR initialization parameters:\n",
      "\n",
      "npool:  4\n",
      "snr type:  interpolation_aligned_spins_jax\n",
      "waveform approximant:  IMRPhenomD\n",
      "sampling frequency:  2048.0\n",
      "minimum frequency (fmin):  20.0\n",
      "mtot=mass1+mass2\n",
      "min(mtot):  9.96\n",
      "max(mtot) (with the given fmin=20.0): 235.0\n",
      "detectors:  ['L1', 'H1', 'V1']\n",
      "psds:  [PowerSpectralDensity(psd_file='None', asd_file='/Users/phurailatpamhemantakumar/anaconda3/envs/ler/lib/python3.10/site-packages/bilby/gw/detector/noise_curves/aLIGO_O4_high_asd.txt'), PowerSpectralDensity(psd_file='None', asd_file='/Users/phurailatpamhemantakumar/anaconda3/envs/ler/lib/python3.10/site-packages/bilby/gw/detector/noise_curves/aLIGO_O4_high_asd.txt'), PowerSpectralDensity(psd_file='None', asd_file='/Users/phurailatpamhemantakumar/anaconda3/envs/ler/lib/python3.10/site-packages/bilby/gw/detector/noise_curves/AdV_asd.txt')]\n",
      "\n",
      "\n"
     ]
    }
   ],
   "source": [
    "gwsnr = GWSNR(snr_type='interpolation_aligned_spins_jax')"
   ]
  },
  {
   "cell_type": "code",
   "execution_count": 4,
   "id": "cc4c38f3",
   "metadata": {},
   "outputs": [],
   "source": [
    "# gerneral case, random parameters\n",
    "# add random seed for reproducibility\n",
    "np.random.seed(0)\n",
    "nsamples = 1000\n",
    "mtot = np.random.uniform(2*4.98, 2*112.5,nsamples)\n",
    "mass_ratio = np.random.uniform(0.2,1,size=nsamples)\n",
    "param_dict = dict(\n",
    "    # convert to component masses\n",
    "    mass_1 = mtot / (1 + mass_ratio),\n",
    "    mass_2 = mtot * mass_ratio / (1 + mass_ratio),\n",
    "    # Fix luminosity distance\n",
    "    luminosity_distance = 500*np.ones(nsamples),\n",
    "    # Randomly sample everything else:\n",
    "    theta_jn = np.random.uniform(0,2*np.pi, size=nsamples),\n",
    "    ra = np.random.uniform(0,2*np.pi, size=nsamples), \n",
    "    dec = np.random.uniform(-np.pi/2,np.pi/2, size=nsamples), \n",
    "    psi = np.random.uniform(0,2*np.pi, size=nsamples),\n",
    "    phase = np.random.uniform(0,2*np.pi, size=nsamples),\n",
    "    geocent_time = 1246527224.169434*np.ones(nsamples),\n",
    "    a_1 = np.random.uniform(-0.8,0.8, size=nsamples),\n",
    "    a_2 = np.random.uniform(-0.8,0.8, size=nsamples),\n",
    ")"
   ]
  },
  {
   "cell_type": "code",
   "execution_count": 7,
   "id": "97fc476a",
   "metadata": {},
   "outputs": [],
   "source": [
    "snr = gwsnr.snr_with_interpolation(gw_param_dict=param_dict)"
   ]
  },
  {
   "cell_type": "code",
   "execution_count": 8,
   "id": "c922d573",
   "metadata": {},
   "outputs": [
    {
     "name": "stdout",
     "output_type": "stream",
     "text": [
      "1.81 s ± 350 ms per loop (mean ± std. dev. of 7 runs, 1 loop each)\n"
     ]
    }
   ],
   "source": [
    "# new\n",
    "%timeit snr = gwsnr.snr_with_interpolation(gw_param_dict=param_dict)"
   ]
  },
  {
   "cell_type": "code",
   "execution_count": 8,
   "id": "463a7309",
   "metadata": {},
   "outputs": [
    {
     "name": "stdout",
     "output_type": "stream",
     "text": [
      "2.42 s ± 58.5 ms per loop (mean ± std. dev. of 7 runs, 1 loop each)\n"
     ]
    }
   ],
   "source": [
    "# old\n",
    "%timeit snr = gwsnr.snr_with_interpolation(gw_param_dict=param_dict)"
   ]
  },
  {
   "cell_type": "code",
   "execution_count": 15,
   "id": "24fac3a2",
   "metadata": {},
   "outputs": [
    {
     "data": {
      "text/plain": [
       "(3, 20, 200, 10, 10)"
      ]
     },
     "execution_count": 15,
     "metadata": {},
     "output_type": "execute_result"
    }
   ],
   "source": [
    "gwsnr.snr_partialsacaled_list.shape"
   ]
  },
  {
   "cell_type": "code",
   "execution_count": 32,
   "id": "3b6d5076",
   "metadata": {},
   "outputs": [
    {
     "data": {
      "text/plain": [
       "(0.0, 3214.884521484375, 1835.2403855581665)"
      ]
     },
     "execution_count": 32,
     "metadata": {},
     "output_type": "execute_result"
    }
   ],
   "source": [
    "# Check available attributes and methods\n",
    "snr_partialsacaled = gwsnr.snr_partialsacaled_list[0]\n",
    "snr_partialsacaled.min(), snr_partialsacaled.max(), snr_partialsacaled.mean()  "
   ]
  },
  {
   "cell_type": "code",
   "execution_count": 33,
   "id": "28ebde2f",
   "metadata": {},
   "outputs": [
    {
     "data": {
      "text/plain": [
       "array([ 629.57250977,  629.86712646,  630.1663208 , ...,\n",
       "       3214.83544922, 3214.8828125 , 3214.88452148])"
      ]
     },
     "execution_count": 33,
     "metadata": {},
     "output_type": "execute_result"
    }
   ],
   "source": [
    "np.sort(snr_partialsacaled[snr_partialsacaled!=0.0])"
   ]
  },
  {
   "cell_type": "code",
   "execution_count": 34,
   "id": "e666472d",
   "metadata": {},
   "outputs": [
    {
     "data": {
      "text/plain": [
       "(-1835.2403855581665, 1379.6441359262085, -2.747401595115662e-13)"
      ]
     },
     "execution_count": 34,
     "metadata": {},
     "output_type": "execute_result"
    }
   ],
   "source": [
    "snr_partialsacaled = gwsnr.snr_partialsacaled_list[0]-1835.2403855581665#-629.57250977\n",
    "snr_partialsacaled.min(), snr_partialsacaled.max(), snr_partialsacaled.mean()  "
   ]
  },
  {
   "cell_type": "code",
   "execution_count": 27,
   "id": "985f6482",
   "metadata": {},
   "outputs": [
    {
     "data": {
      "text/plain": [
       "array([-629.5725, 2585.312 , 1205.6678], dtype=float32)"
      ]
     },
     "execution_count": 27,
     "metadata": {},
     "output_type": "execute_result"
    }
   ],
   "source": [
    "np.array([snr_partialsacaled.min(), snr_partialsacaled.max(), snr_partialsacaled.mean()], dtype=np.float32)"
   ]
  },
  {
   "cell_type": "code",
   "execution_count": 30,
   "id": "a35550f2",
   "metadata": {},
   "outputs": [
    {
     "data": {
      "text/plain": [
       "(-0.24351896, 1.0, 0.46635294)"
      ]
     },
     "execution_count": 30,
     "metadata": {},
     "output_type": "execute_result"
    }
   ],
   "source": [
    "scale = np.max(snr_partialsacaled)    # or use mean, as you prefer\n",
    "snrpartialscaled_array_scaled = (snr_partialsacaled / scale).astype(np.float32)\n",
    "snrpartialscaled_array_scaled.min(), snrpartialscaled_array_scaled.max(), snrpartialscaled_array_scaled.mean()\n"
   ]
  },
  {
   "cell_type": "code",
   "execution_count": null,
   "id": "92b5a9f3",
   "metadata": {},
   "outputs": [],
   "source": []
  }
 ],
 "metadata": {
  "kernelspec": {
   "display_name": "ler",
   "language": "python",
   "name": "ler"
  },
  "language_info": {
   "codemirror_mode": {
    "name": "ipython",
    "version": 3
   },
   "file_extension": ".py",
   "mimetype": "text/x-python",
   "name": "python",
   "nbconvert_exporter": "python",
   "pygments_lexer": "ipython3",
   "version": "3.10.18"
  }
 },
 "nbformat": 4,
 "nbformat_minor": 5
}
