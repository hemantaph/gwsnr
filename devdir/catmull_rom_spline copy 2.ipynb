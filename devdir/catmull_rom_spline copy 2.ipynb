{
 "cells": [
  {
   "cell_type": "code",
   "execution_count": 1,
   "metadata": {},
   "outputs": [],
   "source": [
    "import numpy as np\n",
    "import matplotlib.pyplot as plt\n",
    "from gwsnr import GWSNR\n",
    "from gwsnr import (\n",
    "    antenna_response, save_pickle\n",
    ")\n",
    "from tqdm import tqdm"
   ]
  },
  {
   "cell_type": "code",
   "execution_count": 6,
   "metadata": {},
   "outputs": [
    {
     "name": "stdout",
     "output_type": "stream",
     "text": [
      "\n",
      "Initializing GWSNR class...\n",
      "\n",
      "Interpolator will be generated for L1 detector at ./interpolator_pickle/L1/partialSNR_dict_9.pickle\n",
      "Please be patient while the interpolator is generated\n",
      "Generating interpolator for ['L1'] detectors\n"
     ]
    },
    {
     "name": "stderr",
     "output_type": "stream",
     "text": [
      "/Users/phurailatpamhemantakumar/anaconda3/envs/ler/lib/python3.10/multiprocessing/popen_fork.py:66: RuntimeWarning: os.fork() was called. os.fork() is incompatible with multithreaded code, and JAX is multithreaded, so this will likely lead to a deadlock.\n",
      "  self.pid = os.fork()\n",
      "100%|█████████████████████████████████████████████████████████| 9992/9992 [00:02<00:00, 4180.17it/s]"
     ]
    },
    {
     "name": "stdout",
     "output_type": "stream",
     "text": [
      "\n",
      "Chosen GWSNR initialization parameters:\n",
      "\n",
      "npool:  4\n",
      "snr type:  interpolation\n",
      "waveform approximant:  IMRPhenomD\n",
      "sampling frequency:  2048.0\n",
      "minimum frequency (fmin):  20.0\n",
      "mtot=mass1+mass2\n",
      "min(mtot):  2.0\n",
      "max(mtot) (with the given fmin=20.0): 184.98599853446768\n",
      "detectors:  ['L1']\n",
      "psds:  [PowerSpectralDensity(psd_file='None', asd_file='/Users/phurailatpamhemantakumar/anaconda3/envs/ler/lib/python3.10/site-packages/bilby/gw/detector/noise_curves/aLIGO_O4_high_asd.txt')]\n",
      "min(ratio):  0.1\n",
      "max(ratio):  1.0\n",
      "mtot resolution:  200\n",
      "ratio resolution:  50\n",
      "interpolator directory:  ./interpolator_pickle\n"
     ]
    },
    {
     "name": "stderr",
     "output_type": "stream",
     "text": [
      "\n"
     ]
    }
   ],
   "source": [
    "snr = GWSNR(create_new_interpolator=True, ifos=['L1'], npool=4, \n",
    "        snr_type = \"interpolation\", #\"interpolation_aligned_spins\", #\"interpolation\",\n",
    "        mtot_resolution=200,\n",
    "        ratio_resolution=50,\n",
    "        spin_resolution=20,)\n",
    "# "
   ]
  },
  {
   "cell_type": "code",
   "execution_count": null,
   "metadata": {},
   "outputs": [],
   "source": []
  },
  {
   "cell_type": "code",
   "execution_count": 7,
   "metadata": {},
   "outputs": [
    {
     "name": "stdout",
     "output_type": "stream",
     "text": [
      "Interpolation results: \n",
      "{'L1': array([ 7.40717342, 11.59602878, 31.03606488, 26.59902133]), 'optimal_snr_net': array([ 7.40717342, 11.59602878, 31.03606488, 26.59902133])}\n",
      "\n",
      " Inner product results: \n"
     ]
    },
    {
     "name": "stderr",
     "output_type": "stream",
     "text": [
      "/Users/phurailatpamhemantakumar/anaconda3/envs/ler/lib/python3.10/multiprocessing/popen_fork.py:66: RuntimeWarning: os.fork() was called. os.fork() is incompatible with multithreaded code, and JAX is multithreaded, so this will likely lead to a deadlock.\n",
      "  self.pid = os.fork()\n",
      "100%|█████████████████████████████████████████████████████████████████| 4/4 [00:00<00:00, 11.56it/s]"
     ]
    },
    {
     "name": "stdout",
     "output_type": "stream",
     "text": [
      "{'L1': array([ 7.32448649, 11.46416946, 31.33248115, 29.16220033]), 'optimal_snr_net': array([ 7.32448649, 11.46416946, 31.33248115, 29.16220033])}\n",
      "\n",
      " Inner product results with no spins: \n"
     ]
    },
    {
     "name": "stderr",
     "output_type": "stream",
     "text": [
      "\n",
      "100%|█████████████████████████████████████████████████████████████████| 4/4 [00:00<00:00, 13.85it/s]"
     ]
    },
    {
     "name": "stdout",
     "output_type": "stream",
     "text": [
      "{'L1': array([ 7.40709512, 11.59602211, 31.03567109, 26.59869097]), 'optimal_snr_net': array([ 7.40709512, 11.59602211, 31.03567109, 26.59869097])}\n"
     ]
    },
    {
     "name": "stderr",
     "output_type": "stream",
     "text": [
      "\n"
     ]
    }
   ],
   "source": [
    "mass_1 = np.array([5, 10.,50.,100.])\n",
    "ratio = np.array([1, 0.8,0.5,0.2])\n",
    "a_1 = np.ones_like(mass_1)*0.3\n",
    "a_2 = np.ones_like(mass_1)*-0.6\n",
    "dl = 1000\n",
    "print('Interpolation results: ')\n",
    "print(snr.snr_with_interpolation(mass_1=mass_1, mass_2=mass_1*ratio, luminosity_distance=dl, a_1=a_1, a_2=a_2))\n",
    "print('\\n Inner product results: ')\n",
    "print(snr.compute_bilby_snr(mass_1=mass_1, mass_2=mass_1*ratio, luminosity_distance=dl, a_1=a_1, a_2=a_2))\n",
    "print('\\n Inner product results with no spins: ')\n",
    "print(snr.compute_bilby_snr(mass_1=mass_1, mass_2=mass_1*ratio, luminosity_distance=dl))"
   ]
  },
  {
   "cell_type": "code",
   "execution_count": 3,
   "metadata": {},
   "outputs": [
    {
     "data": {
      "text/plain": [
       "(1, 50, 4, 499)"
      ]
     },
     "execution_count": 3,
     "metadata": {},
     "output_type": "execute_result"
    }
   ],
   "source": [
    "partialsacaled = np.array(snr.snr_partialsacaled_list)\n",
    "partialsacaled.shape"
   ]
  },
  {
   "cell_type": "code",
   "execution_count": 12,
   "metadata": {},
   "outputs": [
    {
     "data": {
      "text/plain": [
       "[array([[0.1, 0.1],\n",
       "        [0.2, 0.2],\n",
       "        [0.3, 0.3]]),\n",
       " array([[20, 30],\n",
       "        [20, 30],\n",
       "        [20, 30]])]"
      ]
     },
     "execution_count": 12,
     "metadata": {},
     "output_type": "execute_result"
    }
   ],
   "source": [
    "np.meshgrid(np.array([0.1,0.2,0.3]), np.array([20,30]), indexing='ij')"
   ]
  },
  {
   "cell_type": "code",
   "execution_count": null,
   "metadata": {},
   "outputs": [],
   "source": []
  },
  {
   "cell_type": "code",
   "execution_count": 4,
   "metadata": {},
   "outputs": [],
   "source": []
  },
  {
   "cell_type": "code",
   "execution_count": 11,
   "metadata": {},
   "outputs": [],
   "source": [
    "size1 = 50\n",
    "size2 = 200\n",
    "size3 = 20\n",
    "# 50*200*20*20 32MB\n",
    "\n",
    "mtot_min = snr.mtot_min\n",
    "detectors = snr.detector_list.copy()\n",
    "detector_tensor = snr.detector_tensor_list.copy()\n",
    "num_det = np.arange(len(detectors), dtype=int)\n",
    "mtot_table = np.sort(\n",
    "            mtot_min + snr.mtot_max - np.geomspace(mtot_min, snr.mtot_max, size2)\n",
    "        )\n",
    "ratio_table = np.geomspace(snr.ratio_min, snr.ratio_max, size1)\n",
    "a_max = 0.8\n",
    "a_1_table = np.linspace(-a_max, a_max, size3)\n",
    "a_2_table = np.linspace(-a_max, a_max, size3)\n",
    "\n",
    "mass_1 = np.zeros((size1, size2, size3, size3), dtype=float)\n",
    "mass_2 = np.zeros((size1, size2, size3, size3), dtype=float) \n",
    "a_1 = np.zeros((size1, size2, size3, size3), dtype=float)\n",
    "a_2 = np.zeros((size1, size2, size3, size3), dtype=float)\n"
   ]
  },
  {
   "cell_type": "code",
   "execution_count": 70,
   "metadata": {},
   "outputs": [],
   "source": [
    "#np.sum(np.reshape(ratio.flatten(), (50,500)) != ratio)"
   ]
  },
  {
   "cell_type": "code",
   "execution_count": 45,
   "metadata": {},
   "outputs": [
    {
     "name": "stdout",
     "output_type": "stream",
     "text": [
      "Generating interpolator for ['L1'] detectors\n"
     ]
    },
    {
     "name": "stderr",
     "output_type": "stream",
     "text": [
      "100%|███████████████████████████████████████████████████| 3996800/3996800 [13:39<00:00, 4877.00it/s]\n"
     ]
    }
   ],
   "source": [
    "print(f\"Generating interpolator for {detectors} detectors\")\n",
    "\n",
    "if mtot_min < 1.0:\n",
    "    raise ValueError(\"Error: mass too low\")\n",
    "\n",
    "# this geocent_time is only to get partialScaledSNR\n",
    "geocent_time_ = 1246527224.169434  # random time from O3\n",
    "theta_jn_, ra_, dec_, psi_, phase_ = np.zeros(5)\n",
    "luminosity_distance_ = 100.0\n",
    "\n",
    "# calling bilby_snr\n",
    "optimal_snr_unscaled_ref = snr.compute_bilby_snr(\n",
    "    mass_1=mass_1.flatten(),\n",
    "    mass_2=mass_2.flatten(),\n",
    "    luminosity_distance=luminosity_distance_,\n",
    "    theta_jn=theta_jn_,\n",
    "    psi=psi_,\n",
    "    phase=phase_,\n",
    "    geocent_time=geocent_time_,\n",
    "    ra=ra_,\n",
    "    dec=dec_,\n",
    "    a_1=a_1.flatten(),\n",
    "    a_2=a_2.flatten(),\n",
    ")"
   ]
  },
  {
   "cell_type": "code",
   "execution_count": 47,
   "metadata": {},
   "outputs": [],
   "source": [
    "# Vectorized computation for effective luminosity distance\n",
    "Fp = np.array(\n",
    "    [\n",
    "        antenna_response(ra_, dec_, geocent_time_, psi_, tensor, \"plus\")\n",
    "        for tensor in detector_tensor\n",
    "    ]\n",
    ")\n",
    "Fc = np.array(\n",
    "    [\n",
    "        antenna_response(ra_, dec_, geocent_time_, psi_, tensor, \"cross\")\n",
    "        for tensor in detector_tensor\n",
    "    ]\n",
    ")\n",
    "dl_eff = luminosity_distance_ / np.sqrt(\n",
    "    Fp**2 * ((1 + np.cos(theta_jn_) ** 2) / 2) ** 2\n",
    "    + Fc**2 * np.cos(theta_jn_) ** 2\n",
    ")\n",
    "\n",
    "# for partialscaledSNR\n",
    "Mchirp = ((mass_1.flatten() * mass_2.flatten()) ** (3 / 5)) / ((mass_1.flatten() + mass_2.flatten()) ** (1 / 5))\n",
    "Mchirp_scaled = Mchirp ** (5.0 / 6.0)\n",
    "# filling in interpolation table for different detectors\n",
    "snr_partial_buffer = []\n",
    "for j in num_det:\n",
    "    snr_partial_buffer.append(\n",
    "            (dl_eff[j] / Mchirp_scaled) * optimal_snr_unscaled_ref[detectors[j]],\n",
    "    )\n",
    "snr_partial_ref = np.reshape(np.array(snr_partial_buffer)[0], \n",
    "                             (size1, size2, size3, size3))\n",
    "# save array\n",
    "np.save('snr_partial_4D.npy', snr_partial_ref)"
   ]
  },
  {
   "cell_type": "code",
   "execution_count": 12,
   "metadata": {},
   "outputs": [],
   "source": [
    "# loading array\n",
    "snr_partial_ref = np.load('snr_partial_4D.npy')"
   ]
  },
  {
   "cell_type": "code",
   "execution_count": 9,
   "metadata": {},
   "outputs": [
    {
     "data": {
      "text/plain": [
       "(20, 100, 5, 5)"
      ]
     },
     "execution_count": 9,
     "metadata": {},
     "output_type": "execute_result"
    }
   ],
   "source": [
    "snr_partial_ref.shape"
   ]
  },
  {
   "cell_type": "code",
   "execution_count": 10,
   "metadata": {},
   "outputs": [
    {
     "data": {
      "text/plain": [
       "array([ 11.63112154,  11.63166019,  11.63219823, ...,\n",
       "       679.44864431, 684.80864862, 690.28298574])"
      ]
     },
     "execution_count": 10,
     "metadata": {},
     "output_type": "execute_result"
    }
   ],
   "source": [
    "(snr_partial_ref.flatten()*(Mchirp_scaled/dl_eff[0]))"
   ]
  },
  {
   "cell_type": "code",
   "execution_count": 11,
   "metadata": {},
   "outputs": [
    {
     "data": {
      "text/plain": [
       "array([ 11.63112154,  11.63166019,  11.63219823, ...,\n",
       "       679.44864431, 684.80864862, 690.28298574])"
      ]
     },
     "execution_count": 11,
     "metadata": {},
     "output_type": "execute_result"
    }
   ],
   "source": [
    "optimal_snr_unscaled_ref['L1']"
   ]
  },
  {
   "cell_type": "code",
   "execution_count": null,
   "metadata": {},
   "outputs": [],
   "source": []
  },
  {
   "cell_type": "code",
   "execution_count": 25,
   "metadata": {},
   "outputs": [],
   "source": [
    "# snr.multiprocessing_verbose = False\n",
    "# mtot_min = snr.mtot_min\n",
    "# detectors = snr.detector_list.copy()\n",
    "# detector_tensor = snr.detector_tensor_list.copy()\n",
    "# num_det = np.arange(len(detectors), dtype=int)\n",
    "# mtot_table = snr.mtot_arr\n",
    "# print(f\"Generating interpolator for {detectors} detectors\")\n",
    "\n",
    "# if mtot_min < 1.0:\n",
    "#     raise ValueError(\"Error: mass too low\")\n",
    "\n",
    "# # geocent_time cannot be array here\n",
    "# # this geocent_time is only to get partialScaledSNR\n",
    "# geocent_time_ = 1246527224.169434  # random time from O3\n",
    "# theta_jn_, ra_, dec_, psi_, phase_ = np.zeros(5)\n",
    "# luminosity_distance_ = 100.0\n",
    "\n",
    "# # Vectorized computation for effective luminosity distance\n",
    "# Fp = np.array(\n",
    "#     [\n",
    "#         antenna_response(ra_, dec_, geocent_time_, psi_, tensor, \"plus\")\n",
    "#         for tensor in detector_tensor\n",
    "#     ]\n",
    "# )\n",
    "# Fc = np.array(\n",
    "#     [\n",
    "#         antenna_response(ra_, dec_, geocent_time_, psi_, tensor, \"cross\")\n",
    "#         for tensor in detector_tensor\n",
    "#     ]\n",
    "# )\n",
    "# dl_eff = luminosity_distance_ / np.sqrt(\n",
    "#     Fp**2 * ((1 + np.cos(theta_jn_) ** 2) / 2) ** 2\n",
    "#     + Fc**2 * np.cos(theta_jn_) ** 2\n",
    "# )\n",
    "\n",
    "# ratio = snr.ratio_arr.copy()\n",
    "# snr_partial_ = []\n",
    "# # interpolation along mtot for each mass_ratio\n",
    "# for q in tqdm(\n",
    "#     ratio,\n",
    "#     desc=\"interpolation for each mass_ratios\",\n",
    "#     total=len(ratio),\n",
    "#     ncols=100,\n",
    "# ):\n",
    "#     mass_1_ = mtot_table / (1 + q)\n",
    "#     mass_2_ = mass_1_ * q\n",
    "#     # calling bilby_snr\n",
    "#     optimal_snr_unscaled = snr.compute_bilby_snr(\n",
    "#         mass_1=mass_1_,\n",
    "#         mass_2=mass_2_,\n",
    "#         luminosity_distance=luminosity_distance_,\n",
    "#         theta_jn=theta_jn_,\n",
    "#         psi=psi_,\n",
    "#         phase=phase_,\n",
    "#         geocent_time=geocent_time_,\n",
    "#         ra=ra_,\n",
    "#         dec=dec_,\n",
    "#     )\n",
    "#     # for partialscaledSNR\n",
    "#     Mchirp = ((mass_1_ * mass_2_) ** (3 / 5)) / ((mtot_table) ** (1 / 5))\n",
    "#     a2 = Mchirp ** (5.0 / 6.0)\n",
    "#     # filling in interpolation table for different detectors\n",
    "#     snr_partial_buffer = []\n",
    "#     for j in num_det:\n",
    "#         snr_partial_buffer.append((dl_eff[j] / a2) * optimal_snr_unscaled[detectors[j]])\n",
    "#     snr_partial_.append(np.array(snr_partial_buffer))\n",
    "# snr_partial_ = np.array(snr_partial_)\n",
    "# snr.multiprocessing_verbose = True"
   ]
  },
  {
   "cell_type": "code",
   "execution_count": 26,
   "metadata": {},
   "outputs": [],
   "source": [
    "# snr_partial_ref, snr_partial_[:,0,:]"
   ]
  },
  {
   "cell_type": "code",
   "execution_count": 71,
   "metadata": {},
   "outputs": [
    {
     "data": {
      "text/plain": [
       "184.98599853446768"
      ]
     },
     "execution_count": 71,
     "metadata": {},
     "output_type": "execute_result"
    }
   ],
   "source": [
    "snr.mtot_max"
   ]
  },
  {
   "cell_type": "code",
   "execution_count": 82,
   "metadata": {},
   "outputs": [
    {
     "data": {
      "text/plain": [
       "4.0"
      ]
     },
     "execution_count": 82,
     "metadata": {},
     "output_type": "execute_result"
    }
   ],
   "source": [
    "10*0.4"
   ]
  },
  {
   "cell_type": "code",
   "execution_count": 85,
   "metadata": {},
   "outputs": [
    {
     "name": "stderr",
     "output_type": "stream",
     "text": [
      "/Users/phurailatpamhemantakumar/anaconda3/envs/ler/lib/python3.10/multiprocessing/popen_fork.py:66: RuntimeWarning: os.fork() was called. os.fork() is incompatible with multithreaded code, and JAX is multithreaded, so this will likely lead to a deadlock.\n",
      "  self.pid = os.fork()\n"
     ]
    },
    {
     "name": "stderr",
     "output_type": "stream",
     "text": [
      "100%|█████████████████████████████████████████████████████████| 1000/1000 [00:00<00:00, 2323.51it/s]\n"
     ]
    }
   ],
   "source": [
    "size = 1000\n",
    "# q = np.random.uniform(snr.ratio_min, snr.ratio_max, size=size)\n",
    "# mtot = np.random.uniform(snr.mtot_min, snr.mtot_max, size=size)\n",
    "q = np.random.uniform(0.2, 1, size=size)\n",
    "mtot = np.random.uniform(10, 100, size=size)\n",
    "mass_1_ = mtot / (1 + q)\n",
    "mass_2_ = mass_1_ * q\n",
    "a_1_ = np.random.uniform(-a_max, a_max, size=size)\n",
    "a_2_ = np.random.uniform(-a_max, a_max, size=size)\n",
    "# mass_1_ = 30.* np.ones(size)\n",
    "# mass_2_ = 25.* np.ones(size)\n",
    "# a_1_ = np.random.uniform(-0.1, 0.1, size=size)\n",
    "# a_2_ = np.random.uniform(-0.1, 0.1, size=size)\n",
    "\n",
    "# geocent_time cannot be array here\n",
    "# this geocent_time is only to get partialScaledSNR\n",
    "geocent_time_ = 1246527224.169434  # random time from O3\n",
    "theta_jn_, ra_, dec_, psi_, phase_ = np.zeros(5)\n",
    "luminosity_distance_ = 500.0\n",
    "\n",
    "# Vectorized computation for effective luminosity distance\n",
    "Fp = np.array(\n",
    "    [\n",
    "        antenna_response(ra_, dec_, geocent_time_, psi_, tensor, \"plus\")\n",
    "        for tensor in detector_tensor\n",
    "    ]\n",
    ")\n",
    "Fc = np.array(\n",
    "    [\n",
    "        antenna_response(ra_, dec_, geocent_time_, psi_, tensor, \"cross\")\n",
    "        for tensor in detector_tensor\n",
    "    ]\n",
    ")\n",
    "dl_eff = luminosity_distance_ / np.sqrt(\n",
    "    Fp**2 * ((1 + np.cos(theta_jn_) ** 2) / 2) ** 2\n",
    "    + Fc**2 * np.cos(theta_jn_) ** 2\n",
    ")\n",
    "\n",
    "ratio = snr.ratio_arr.copy()\n",
    "# interpolation along mtot for each mass_ratio\n",
    "\n",
    "# calling bilby_snr\n",
    "optimal_snr_unscaled = snr.compute_bilby_snr(\n",
    "    mass_1=mass_1_,\n",
    "    mass_2=mass_2_,\n",
    "    luminosity_distance=luminosity_distance_,\n",
    "    theta_jn=theta_jn_,\n",
    "    psi=psi_,\n",
    "    phase=phase_,\n",
    "    geocent_time=geocent_time_,\n",
    "    ra=ra_,\n",
    "    dec=dec_,\n",
    "    a_1=a_1_,\n",
    "    a_2=a_2_,\n",
    ")\n",
    "# for partialscaledSNR\n",
    "Mchirp = ((mass_1_ * mass_2_) ** (3 / 5)) / ((mass_1_ + mass_2_) ** (1 / 5))\n",
    "Mchirp_scaled = Mchirp ** (5.0 / 6.0)\n",
    "# filling in interpolation table for different detectors\n",
    "snr_partial_buffer = []\n",
    "for j in num_det:\n",
    "    snr_partial_buffer.append(\n",
    "            (dl_eff[j] / Mchirp_scaled) * optimal_snr_unscaled[detectors[j]],\n",
    "    )\n",
    "\n",
    "snr_partial_true = np.array(snr_partial_buffer)"
   ]
  },
  {
   "cell_type": "code",
   "execution_count": 73,
   "metadata": {},
   "outputs": [
    {
     "data": {
      "text/plain": [
       "array([2035.56227647, 2111.63337719, 2360.04689928, ...,\n",
       "       2285.47480179, 2022.08014843, 2654.86745384])"
      ]
     },
     "execution_count": 73,
     "metadata": {},
     "output_type": "execute_result"
    }
   ],
   "source": [
    "snr_partial_true[0]"
   ]
  },
  {
   "cell_type": "code",
   "execution_count": null,
   "metadata": {},
   "outputs": [],
   "source": []
  },
  {
   "cell_type": "code",
   "execution_count": 49,
   "metadata": {},
   "outputs": [],
   "source": [
    "def catmull_rom_spline(p, t):\n",
    "    \"\"\"1D Catmull-Rom interpolation with 4 points.\"\"\"\n",
    "    M = 0.5 * np.array([\n",
    "        [0,  2,  0,  0],\n",
    "        [-1, 0,  1,  0],\n",
    "        [2, -5,  4, -1],\n",
    "        [-1, 3, -3,  1]\n",
    "    ])\n",
    "    T = np.array([1, t, t**2, t**3])\n",
    "    return T @ M @ p\n",
    "\n",
    "def find_index_1d(x_array, x_new):\n",
    "    \"\"\"Find index i such that x_array[i] <= x_new <= x_array[i+1], with clamping.\"\"\"\n",
    "    N = len(x_array)\n",
    "    if x_new <= x_array[1]:\n",
    "        return 1\n",
    "    elif x_new >= x_array[N - 2]:\n",
    "        return N - 3\n",
    "    else:\n",
    "        i = np.searchsorted(x_array, x_new) - 1\n",
    "        return max(1, min(i, N - 3))\n",
    "\n",
    "def catmull_rom_4d_interp(q_array, mtot_array, a1_array, a2_array, snr_array, q_new, mtot_new, a1_new, a2_new):\n",
    "    \"\"\"Perform 4D Catmull-Rom interpolation.\"\"\"\n",
    "    q_idx = find_index_1d(q_array, q_new)\n",
    "    m_idx = find_index_1d(mtot_array, mtot_new)\n",
    "    a1_idx = find_index_1d(a1_array, a1_new)\n",
    "    a2_idx = find_index_1d(a2_array, a2_new)\n",
    "\n",
    "    # Extract 4-point windows in each dimension\n",
    "    qs = q_array[q_idx - 1 : q_idx + 3]\n",
    "    ms = mtot_array[m_idx - 1 : m_idx + 3]\n",
    "    a1s = a1_array[a1_idx - 1 : a1_idx + 3]\n",
    "    a2s = a2_array[a2_idx - 1 : a2_idx + 3]\n",
    "    F = snr_array[q_idx - 1 : q_idx + 3,\n",
    "                  m_idx - 1 : m_idx + 3,\n",
    "                  a1_idx - 1 : a1_idx + 3,\n",
    "                  a2_idx - 1 : a2_idx + 3]  # shape (4,4,4,4)\n",
    "\n",
    "    # Normalized coordinates\n",
    "    tq = (q_new - qs[1]) / (qs[2] - qs[1])\n",
    "    tm = (mtot_new - ms[1]) / (ms[2] - ms[1])\n",
    "    ta1 = (a1_new - a1s[1]) / (a1s[2] - a1s[1])\n",
    "    ta2 = (a2_new - a2s[1]) / (a2s[2] - a2s[1])\n",
    "    # tq = np.clip(tq, 0, 1)\n",
    "    # tm = np.clip(tm, 0, 1)\n",
    "    # ta1 = np.clip(ta1, 0, 1)\n",
    "    # ta2 = np.clip(ta2, 0, 1)\n",
    "\n",
    "    # Tricubic interpolation logic, extended to 4D:\n",
    "    temp_q = np.zeros(4)\n",
    "    for i in range(4):\n",
    "        temp_m = np.zeros(4)\n",
    "        for j in range(4):\n",
    "            temp_a1 = np.zeros(4)\n",
    "            for k in range(4):\n",
    "                # Interpolate along a2 (last axis)\n",
    "                temp_a1[k] = catmull_rom_spline(F[i, j, k, :], ta2)\n",
    "            # Interpolate along a1\n",
    "            temp_m[j] = catmull_rom_spline(temp_a1, ta1)\n",
    "        # Interpolate along mtot\n",
    "        temp_q[i] = catmull_rom_spline(temp_m, tm)\n",
    "    # Interpolate along q\n",
    "    snr_new = catmull_rom_spline(temp_q, tq)\n",
    "    return snr_new"
   ]
  },
  {
   "cell_type": "code",
   "execution_count": 50,
   "metadata": {},
   "outputs": [
    {
     "data": {
      "text/plain": [
       "((50,), (200,), (50, 200, 20, 20))"
      ]
     },
     "execution_count": 50,
     "metadata": {},
     "output_type": "execute_result"
    }
   ],
   "source": [
    "ratio_table.shape, mtot_table.shape, snr_partial_ref.shape"
   ]
  },
  {
   "cell_type": "code",
   "execution_count": 51,
   "metadata": {},
   "outputs": [
    {
     "data": {
      "text/plain": [
       "2581.020383219454"
      ]
     },
     "execution_count": 51,
     "metadata": {},
     "output_type": "execute_result"
    }
   ],
   "source": [
    "i = 0\n",
    "q_new = mass_2_[i] / mass_1_[i] \n",
    "mtot_new = mass_1_[i] + mass_2_[i]\n",
    "a_1_new = a_1_[i]\n",
    "a_2_new = a_2_[i] \n",
    "catmull_rom_4d_interp(\n",
    "    ratio_table, mtot_table, a_1_table, a_2_table,\n",
    "    snr_partial_ref,\n",
    "    q_new= q_new,\n",
    "    mtot_new= mtot_new,\n",
    "    a1_new= a_1_new,\n",
    "    a2_new= a_2_new,\n",
    ")#* Mchirp_scaled[i]/dl_eff[0]    # scale by effective distance and chirp mass"
   ]
  },
  {
   "cell_type": "code",
   "execution_count": 52,
   "metadata": {},
   "outputs": [
    {
     "data": {
      "text/plain": [
       "2581.071461543123"
      ]
     },
     "execution_count": 52,
     "metadata": {},
     "output_type": "execute_result"
    }
   ],
   "source": [
    "snr_partial_true[0][i]#* Mchirp_scaled[i]/dl_eff[0]"
   ]
  },
  {
   "cell_type": "code",
   "execution_count": 16,
   "metadata": {},
   "outputs": [],
   "source": [
    "import jax.numpy as jnp\n",
    "from jax import jit, vmap, lax\n",
    "\n",
    "@jit\n",
    "def catmull_rom_spline(p, t):\n",
    "    M = 0.5 * jnp.array([\n",
    "        [0,  2,  0,  0],\n",
    "        [-1, 0,  1,  0],\n",
    "        [2, -5,  4, -1],\n",
    "        [-1, 3, -3,  1]\n",
    "    ])\n",
    "    T = jnp.array([1.0, t, t**2, t**3])\n",
    "    return T @ M @ p\n",
    "\n",
    "@jit\n",
    "def find_index_1d(x_array, x_new):\n",
    "    N = x_array.shape[0]\n",
    "    i = jnp.sum(x_array <= x_new) - 1\n",
    "    return jnp.clip(i, 1, N - 3)\n",
    "\n",
    "@jit\n",
    "def catmull_rom_4d_interp_single(q_array, mtot_array, a1_array, a2_array, snr_array, q_new, mtot_new, a1_new, a2_new):\n",
    "    q_idx = find_index_1d(q_array, q_new)\n",
    "    m_idx = find_index_1d(mtot_array, mtot_new)\n",
    "    a1_idx = find_index_1d(a1_array, a1_new)\n",
    "    a2_idx = find_index_1d(a2_array, a2_new)\n",
    "\n",
    "    # Dynamic slices (for 4x4 neighborhood)\n",
    "    F = lax.dynamic_slice(snr_array, (q_idx-1, m_idx-1, a1_idx-1, a2_idx-1), (4,4,4,4))\n",
    "    qs = lax.dynamic_slice(q_array, (q_idx - 1,), (4,))\n",
    "    ms = lax.dynamic_slice(mtot_array, (m_idx - 1,), (4,))\n",
    "    a1s = lax.dynamic_slice(a1_array, (a1_idx - 1,), (4,))\n",
    "    a2s = lax.dynamic_slice(a2_array, (a2_idx - 1,), (4,))\n",
    "\n",
    "    # Relative coordinates\n",
    "    tq = (q_new - qs[1]) / (qs[2] - qs[1])\n",
    "    tm = (mtot_new - ms[1]) / (ms[2] - ms[1])\n",
    "    ta1 = (a1_new - a1s[1]) / (a1s[2] - a1s[1])\n",
    "    ta2 = (a2_new - a2s[1]) / (a2s[2] - a2s[1])\n",
    "\n",
    "    # Tricubic interpolation logic, extended to 4D:\n",
    "    temp_q = jnp.zeros(4)\n",
    "    for i in range(4):\n",
    "        temp_m = jnp.zeros(4)\n",
    "        for j in range(4):\n",
    "            temp_a1 = jnp.zeros(4)\n",
    "            for k in range(4):\n",
    "                # Interpolate along a2 (last axis)\n",
    "                temp_a1= temp_a1.at[k].set(catmull_rom_spline(F[i, j, k, :], ta2))\n",
    "            # Interpolate along a1\n",
    "            temp_m = temp_m.at[j].set(catmull_rom_spline(temp_a1, ta1))\n",
    "        # Interpolate along mtot\n",
    "        temp_q = temp_q.at[i].set(catmull_rom_spline(temp_m, tm))\n",
    "    # Interpolate along q\n",
    "    snr_new = catmull_rom_spline(temp_q, tq)\n",
    "    return snr_new\n",
    "\n",
    "@jit\n",
    "def batched_catmull_rom_4d(q_array, mtot_array, a1_array, a2_array, snr_array, q_new_batch, mtot_new_batch, a1_new_batch, a2_new_batch):\n",
    "    # Vectorize only over q_new and mtot_new\n",
    "    vmapped_interp = vmap(\n",
    "        lambda q, m, a1, a2: catmull_rom_4d_interp_single(q_array, mtot_array, a1_array, a2_array, snr_array, q, m, a1, a2),\n",
    "        in_axes=(0, 0, 0, 0)\n",
    "    )\n",
    "    return vmapped_interp(q_new_batch, mtot_new_batch, a1_new_batch, a2_new_batch)"
   ]
  },
  {
   "cell_type": "code",
   "execution_count": null,
   "metadata": {},
   "outputs": [],
   "source": [
    "snr_new = batched_catmull_rom_4d(\n",
    "    q_array= jnp.array(ratio_table),\n",
    "    mtot_array= jnp.array(mtot_table),\n",
    "    a1_array= jnp.array(a_1_table),\n",
    "    a2_array= jnp.array(a_2_table),\n",
    "    snr_array= jnp.array(snr_partial_ref),\n",
    "    q_new_batch= jnp.array(mass_2_ / mass_1_),\n",
    "    mtot_new_batch= jnp.array(mass_1_ + mass_2_),\n",
    "    a1_new_batch= jnp.array(a_1_),\n",
    "    a2_new_batch= jnp.array(a_2_),\n",
    ")\n",
    "print(snr_new)"
   ]
  },
  {
   "cell_type": "code",
   "execution_count": 20,
   "metadata": {},
   "outputs": [
    {
     "name": "stdout",
     "output_type": "stream",
     "text": [
      "Interpolation results: \n",
      "{'L1': array([ 7.40717342, 11.59602878, 31.03606488, 26.59902133]), 'H1': array([ 4.7111994 ,  7.37544549, 19.73993073, 16.917829  ]), 'V1': array([2.22230497, 3.44041858, 9.33487065, 7.86143837]), 'optimal_snr_net': array([ 9.05539934, 14.16691779, 37.9478853 , 32.4888148 ])}\n",
      "\n",
      " Inner product results: \n"
     ]
    },
    {
     "name": "stderr",
     "output_type": "stream",
     "text": [
      "100%|█████████████████████████████████████████████████████████████████| 4/4 [00:00<00:00, 11.27it/s]"
     ]
    },
    {
     "name": "stdout",
     "output_type": "stream",
     "text": [
      "{'L1': array([ 7.40709512, 11.59602211, 31.03567109, 26.59869097]), 'H1': array([ 4.7111496 ,  7.37544125, 19.73968027, 16.91761888]), 'V1': array([2.22230853, 3.44041035, 9.33473625, 7.86132463]), 'optimal_snr_net': array([ 9.05531026, 14.16690812, 37.94739989, 32.48840739])}\n"
     ]
    },
    {
     "name": "stderr",
     "output_type": "stream",
     "text": [
      "\n"
     ]
    }
   ],
   "source": [
    "mass_1_ = np.array([5, 10.,50.,100.])\n",
    "ratio_ = np.array([1, 0.8,0.5,0.2])\n",
    "mass_2_ = mass_1_ * ratio_\n",
    "a_1_ = np.ones_like(mass_1_)*0.0\n",
    "a_2_ = np.ones_like(mass_1_)*0.0\n",
    "luminosity_distance_ = 1000\n",
    "\n",
    "print('Interpolation results: ')\n",
    "print(snr.snr_with_interpolation(mass_1=mass_1_, mass_2=mass_2_, luminosity_distance=luminosity_distance_, a_1=a_1_, a_2=a_2_))\n",
    "print('\\n Inner product results: ')\n",
    "print(snr.compute_bilby_snr(mass_1=mass_1_, mass_2=mass_1_*ratio_, luminosity_distance=luminosity_distance_, a_1=a_1_, a_2=a_2_))"
   ]
  },
  {
   "cell_type": "code",
   "execution_count": 21,
   "metadata": {},
   "outputs": [
    {
     "name": "stdout",
     "output_type": "stream",
     "text": [
      "[ 7.407109 11.595981 31.034664 26.596611]\n"
     ]
    }
   ],
   "source": [
    "\n",
    "geocent_time_ = 1246527224.169434  # random time from O3\n",
    "theta_jn_, ra_, dec_, psi_, phase_ = np.zeros(5)\n",
    "\n",
    "# Vectorized computation for effective luminosity distance\n",
    "Fp = np.array(\n",
    "    [\n",
    "        antenna_response(ra_, dec_, geocent_time_, psi_, tensor, \"plus\")\n",
    "        for tensor in detector_tensor\n",
    "    ]\n",
    ")\n",
    "Fc = np.array(\n",
    "    [\n",
    "        antenna_response(ra_, dec_, geocent_time_, psi_, tensor, \"cross\")\n",
    "        for tensor in detector_tensor\n",
    "    ]\n",
    ")\n",
    "dl_eff = luminosity_distance_ / np.sqrt(\n",
    "    Fp**2 * ((1 + np.cos(theta_jn_) ** 2) / 2) ** 2\n",
    "    + Fc**2 * np.cos(theta_jn_) ** 2\n",
    ")\n",
    "Mchirp = ((mass_1_ * mass_2_) ** (3 / 5)) / ((mass_1_ + mass_2_) ** (1 / 5))\n",
    "Mchirp_scaled = Mchirp ** (5.0 / 6.0)\n",
    "\n",
    "snr_new = batched_catmull_rom_4d(\n",
    "    q_array= jnp.array(ratio_table),\n",
    "    mtot_array= jnp.array(mtot_table),\n",
    "    a1_array= jnp.array(a_1_table),\n",
    "    a2_array= jnp.array(a_2_table),\n",
    "    snr_array= jnp.array(snr_partial_ref),\n",
    "    q_new_batch= jnp.array(mass_2_ / mass_1_),\n",
    "    mtot_new_batch= jnp.array(mass_1_ + mass_2_),\n",
    "    a1_new_batch= jnp.array(a_1_),\n",
    "    a2_new_batch= jnp.array(a_2_),\n",
    ")* Mchirp_scaled / dl_eff[0]  # scale by effective distance and chirp mass\n",
    "print(snr_new)"
   ]
  },
  {
   "cell_type": "code",
   "execution_count": 87,
   "metadata": {},
   "outputs": [
    {
     "data": {
      "text/plain": [
       "array([2386.63086801, 2166.92157257, 2413.38348646, ...,\n",
       "       2277.76211177, 1751.45627258, 2643.37506019])"
      ]
     },
     "execution_count": 87,
     "metadata": {},
     "output_type": "execute_result"
    }
   ],
   "source": [
    "snr_partial_true[0]"
   ]
  },
  {
   "cell_type": "code",
   "execution_count": 4,
   "metadata": {},
   "outputs": [
    {
     "data": {
      "text/plain": [
       "array([1., 2., 3.])"
      ]
     },
     "execution_count": 4,
     "metadata": {},
     "output_type": "execute_result"
    }
   ],
   "source": [
    "np.array([1,2,3], dtype=float)"
   ]
  },
  {
   "cell_type": "code",
   "execution_count": 89,
   "metadata": {},
   "outputs": [
    {
     "data": {
      "image/png": "[encoded data removed]",
      "text/plain": [
       "<Figure size 640x480 with 1 Axes>"
      ]
     },
     "metadata": {},
     "output_type": "display_data"
    }
   ],
   "source": [
    "snr_true = snr_partial_true[0]* (Mchirp_scaled / dl_eff[0])  # scale by effective distance and chirp mass\n",
    "snr_pred = snr_new * (Mchirp_scaled / dl_eff[0])  # scale by effective distance and chirp mass\n",
    "idx = snr_true> 0\n",
    "plt.plot(snr_true[idx], (snr_true[idx] - snr_pred[idx]), label='diff1', marker='x', linestyle='None', color='C0')\n",
    "plt.xlabel('Relative Error (%)')\n",
    "plt.ylabel('Density')\n",
    "plt.title('Relative Error Distribution')\n",
    "plt.legend()\n",
    "# plt.xlim(0, 10)\n",
    "plt.show()"
   ]
  },
  {
   "cell_type": "code",
   "execution_count": 77,
   "metadata": {},
   "outputs": [],
   "source": [
    "idx_prb = abs(snr_true[idx] - snr_pred[idx])/ snr_true[idx]*100>1"
   ]
  },
  {
   "cell_type": "code",
   "execution_count": 78,
   "metadata": {},
   "outputs": [
    {
     "data": {
      "text/plain": [
       "(array([3.33503121, 2.1163964 ]),\n",
       " array([5.37005757, 3.50502223]),\n",
       " array([-0.26325482,  0.05847464]),\n",
       " array([-0.37631515, -0.4909177 ]))"
      ]
     },
     "execution_count": 78,
     "metadata": {},
     "output_type": "execute_result"
    }
   ],
   "source": [
    "mass_2_[idx][idx_prb], mass_1_[idx][idx_prb], a_1_[idx][idx_prb], a_2_[idx][idx_prb]"
   ]
  },
  {
   "cell_type": "code",
   "execution_count": 66,
   "metadata": {},
   "outputs": [
    {
     "data": {
      "text/plain": [
       "(1000,)"
      ]
     },
     "execution_count": 66,
     "metadata": {},
     "output_type": "execute_result"
    }
   ],
   "source": [
    "snr_true[idx].shape"
   ]
  },
  {
   "cell_type": "code",
   "execution_count": 108,
   "metadata": {},
   "outputs": [
    {
     "data": {
      "image/png": "[encoded data removed]",
      "text/plain": [
       "<Figure size 640x480 with 1 Axes>"
      ]
     },
     "metadata": {},
     "output_type": "display_data"
    }
   ],
   "source": [
    "import matplotlib.pyplot as plt\n",
    "snr_true = optimal_snr_unscaled['L1']\n",
    "idx = snr_true> 0\n",
    "plt.plot(snr_true[idx],snr_true[idx]-snr_pred1[idx], label='diff1', marker='x', linestyle='None', color='C0')\n",
    "plt.plot(snr_true[idx],snr_true[idx]-snr_pred2[idx], label='diff2', marker='x', linestyle='None', color='C1')\n",
    "plt.plot(snr_true[idx], snr_true[idx]-snr_pred3[idx], label='pred1', marker='o', linestyle='None', color='C2')\n",
    "plt.legend()\n",
    "plt.show()"
   ]
  },
  {
   "cell_type": "code",
   "execution_count": 44,
   "metadata": {},
   "outputs": [
    {
     "data": {
      "text/plain": [
       "(array([1609.0088373 , 1130.62721984, 2830.24120997,\n",
       "        2834.30848108, 2816.66420316, 2837.9980039 ,\n",
       "        2808.26012532, 2838.7975963 , 2834.87381701,\n",
       "        2831.80851502, 2810.54504652, 1536.15323049,\n",
       "        2826.0876688 , 1710.51857877, 1145.07116205,\n",
       "        2830.7712454 , 2787.98064342, 1270.49799518,\n",
       "        1190.39652363, 2794.13600757, 2824.71821444,\n",
       "        1317.34811655, 1163.3988352 ]),\n",
       " Array([1614.9395, 1132.0879, 2788.6804, 2803.6162, 2796.3408,\n",
       "        2805.8687, 2806.6282, 2799.209 , 2796.3445, 2806.5635,\n",
       "        2805.4143, 1550.6266, 2803.1323, 1713.3921, 1162.6875,\n",
       "        2806.6282, 2928.6113, 1285.6229, 1193.2913, 2783.1853,\n",
       "        2803.2961, 1323.7009, 1174.3912], dtype=float32))"
      ]
     },
     "execution_count": 44,
     "metadata": {},
     "output_type": "execute_result"
    }
   ],
   "source": [
    "idx_no = abs(snr_true[idx]-snr_batch[idx])>1\n",
    "snr_true[idx][idx_no], snr_batch[idx][idx_no]"
   ]
  },
  {
   "cell_type": "code",
   "execution_count": null,
   "metadata": {},
   "outputs": [],
   "source": []
  },
  {
   "cell_type": "code",
   "execution_count": null,
   "metadata": {},
   "outputs": [],
   "source": []
  },
  {
   "cell_type": "code",
   "execution_count": null,
   "metadata": {},
   "outputs": [],
   "source": []
  },
  {
   "cell_type": "code",
   "execution_count": null,
   "metadata": {},
   "outputs": [],
   "source": []
  }
 ],
 "metadata": {
  "kernelspec": {
   "display_name": "ler",
   "language": "python",
   "name": "ler"
  },
  "language_info": {
   "codemirror_mode": {
    "name": "ipython",
    "version": 3
   },
   "file_extension": ".py",
   "mimetype": "text/x-python",
   "name": "python",
   "nbconvert_exporter": "python",
   "pygments_lexer": "ipython3",
   "version": "3.10.14"
  }
 },
 "nbformat": 4,
 "nbformat_minor": 2
}
