{
 "cells": [
  {
   "cell_type": "code",
   "execution_count": 1,
   "metadata": {},
   "outputs": [],
   "source": [
    "import numpy as np\n",
    "import pandas as pd\n",
    "import tensorflow as tf"
   ]
  },
  {
   "cell_type": "markdown",
   "metadata": {},
   "source": [
    "## Data preprocessing"
   ]
  },
  {
   "cell_type": "code",
   "execution_count": 2,
   "metadata": {},
   "outputs": [
    {
     "name": "stdout",
     "output_type": "stream",
     "text": [
      "psds not given. Choosing bilby's default psds\n",
      "npool:  4\n",
      "snr type:  inner_product\n",
      "waveform approximant:  IMRPhenomXPHM\n",
      "sampling frequency:  2048.0\n",
      "minimum frequency (fmin):  10.0\n",
      "mtot=mass1+mass2\n",
      "min(mtot):  2.0\n",
      "max(mtot) (with the given fmin=10.0): 369.97199706893525\n"
     ]
    }
   ],
   "source": [
    "# get data\n",
    "from ler.utils import append_json, load_json\n",
    "import numpy as np\n",
    "# let's generate IMRPhenomD (spinless) interpolartor\n",
    "from gwsnr import GWSNR\n",
    "gwsnr = GWSNR(waveform_approximant='IMRPhenomXPHM', minimum_frequency=10., snr_type='inner_product')"
   ]
  },
  {
   "cell_type": "code",
   "execution_count": 10,
   "metadata": {},
   "outputs": [],
   "source": [
    "# data generation\n",
    "def samples(nsamples = 25000, json_file='samplesL1.json'):\n",
    "    unlensed_param = {}\n",
    "    mtot = np.random.uniform(1,370, size=nsamples)\n",
    "    mass_ratio = np.random.uniform(0.1,1,size=nsamples)\n",
    "    unlensed_param['mass_1'] = mtot/(1+mass_ratio)\n",
    "    unlensed_param['mass_2'] = mtot/(1+1/mass_ratio)\n",
    "    unlensed_param['luminosity_distance'] = np.random.uniform(1,10000, size=nsamples)\n",
    "    unlensed_param['theta_jn'] = np.random.uniform(0,np.pi, size=nsamples)\n",
    "    unlensed_param['ra'] = np.random.uniform(0,2*np.pi, size=nsamples)\n",
    "    unlensed_param['dec'] = np.random.uniform(0,np.pi, size=nsamples)\n",
    "    unlensed_param['psi'] = np.random.uniform(0,np.pi, size=nsamples)\n",
    "    unlensed_param['phase'] = np.random.uniform(0,2*np.pi, size=nsamples)\n",
    "    unlensed_param['a_1'] = np.random.uniform(0,0.99, size=nsamples)\n",
    "    unlensed_param['a_2'] = np.random.uniform(0,0.99, size=nsamples)\n",
    "    unlensed_param['tilt_1'] = np.random.uniform(0,np.pi, size=nsamples)\n",
    "    unlensed_param['tilt_2'] = np.random.uniform(0,np.pi, size=nsamples)\n",
    "    unlensed_param['phi_12'] = np.random.uniform(0,2*np.pi, size=nsamples)\n",
    "    unlensed_param['phi_jl'] = np.random.uniform(0,2*np.pi, size=nsamples)\n",
    "    unlensed_param['geocent_time'] = 1246527224.169434* np.ones(nsamples)\n",
    "\n",
    "    snr = gwsnr.snr(gw_param_dict=unlensed_param)\n",
    "    unlensed_param.update(snr)\n",
    "    append_json(json_file, unlensed_param, replace=False)\n"
   ]
  },
  {
   "cell_type": "code",
   "execution_count": 11,
   "metadata": {},
   "outputs": [
    {
     "name": "stdout",
     "output_type": "stream",
     "text": [
      "solving SNR with inner product\n"
     ]
    },
    {
     "name": "stderr",
     "output_type": "stream",
     "text": [
      "100%|██████████████████████████████████████████████████████████| 9958/9958 [01:00<00:00, 164.28it/s]\n"
     ]
    },
    {
     "name": "stdout",
     "output_type": "stream",
     "text": [
      "solving SNR with inner product\n"
     ]
    },
    {
     "name": "stderr",
     "output_type": "stream",
     "text": [
      "100%|██████████████████████████████████████████████████████████| 9959/9959 [01:00<00:00, 165.88it/s]\n"
     ]
    },
    {
     "name": "stdout",
     "output_type": "stream",
     "text": [
      "solving SNR with inner product\n"
     ]
    },
    {
     "name": "stderr",
     "output_type": "stream",
     "text": [
      "100%|██████████████████████████████████████████████████████████| 9974/9974 [00:54<00:00, 181.38it/s]\n"
     ]
    },
    {
     "name": "stdout",
     "output_type": "stream",
     "text": [
      "solving SNR with inner product\n"
     ]
    },
    {
     "name": "stderr",
     "output_type": "stream",
     "text": [
      "100%|█████████████████████████████████████████████████████████▉| 9971/9972 [01:07<00:00, 148.59it/s]\n"
     ]
    },
    {
     "ename": "KeyboardInterrupt",
     "evalue": "",
     "output_type": "error",
     "traceback": [
      "\u001b[0;31m---------------------------------------------------------------------------\u001b[0m",
      "\u001b[0;31mIndexError\u001b[0m                                Traceback (most recent call last)",
      "File \u001b[0;32m~/anaconda3/envs/ler/lib/python3.10/multiprocessing/pool.py:856\u001b[0m, in \u001b[0;36mIMapIterator.next\u001b[0;34m(self, timeout)\u001b[0m\n\u001b[1;32m    855\u001b[0m \u001b[38;5;28;01mtry\u001b[39;00m:\n\u001b[0;32m--> 856\u001b[0m     item \u001b[38;5;241m=\u001b[39m \u001b[38;5;28;43mself\u001b[39;49m\u001b[38;5;241;43m.\u001b[39;49m\u001b[43m_items\u001b[49m\u001b[38;5;241;43m.\u001b[39;49m\u001b[43mpopleft\u001b[49m\u001b[43m(\u001b[49m\u001b[43m)\u001b[49m\n\u001b[1;32m    857\u001b[0m \u001b[38;5;28;01mexcept\u001b[39;00m \u001b[38;5;167;01mIndexError\u001b[39;00m:\n",
      "\u001b[0;31mIndexError\u001b[0m: pop from an empty deque",
      "\nDuring handling of the above exception, another exception occurred:\n",
      "\u001b[0;31mKeyboardInterrupt\u001b[0m                         Traceback (most recent call last)",
      "Cell \u001b[0;32mIn[11], line 2\u001b[0m\n\u001b[1;32m      1\u001b[0m \u001b[38;5;28;01mfor\u001b[39;00m i \u001b[38;5;129;01min\u001b[39;00m \u001b[38;5;28mrange\u001b[39m(\u001b[38;5;241m5\u001b[39m):\n\u001b[0;32m----> 2\u001b[0m     \u001b[43msamples\u001b[49m\u001b[43m(\u001b[49m\u001b[43mnsamples\u001b[49m\u001b[43m \u001b[49m\u001b[38;5;241;43m=\u001b[39;49m\u001b[43m \u001b[49m\u001b[38;5;241;43m10000\u001b[39;49m\u001b[43m)\u001b[49m\n",
      "Cell \u001b[0;32mIn[10], line 22\u001b[0m, in \u001b[0;36msamples\u001b[0;34m(nsamples, json_file)\u001b[0m\n\u001b[1;32m     19\u001b[0m unlensed_param[\u001b[38;5;124m'\u001b[39m\u001b[38;5;124mphi_jl\u001b[39m\u001b[38;5;124m'\u001b[39m] \u001b[38;5;241m=\u001b[39m np\u001b[38;5;241m.\u001b[39mrandom\u001b[38;5;241m.\u001b[39muniform(\u001b[38;5;241m0\u001b[39m,\u001b[38;5;241m2\u001b[39m\u001b[38;5;241m*\u001b[39mnp\u001b[38;5;241m.\u001b[39mpi, size\u001b[38;5;241m=\u001b[39mnsamples)\n\u001b[1;32m     20\u001b[0m unlensed_param[\u001b[38;5;124m'\u001b[39m\u001b[38;5;124mgeocent_time\u001b[39m\u001b[38;5;124m'\u001b[39m] \u001b[38;5;241m=\u001b[39m \u001b[38;5;241m1246527224.169434\u001b[39m\u001b[38;5;241m*\u001b[39m np\u001b[38;5;241m.\u001b[39mones(nsamples)\n\u001b[0;32m---> 22\u001b[0m snr \u001b[38;5;241m=\u001b[39m \u001b[43mgwsnr\u001b[49m\u001b[38;5;241;43m.\u001b[39;49m\u001b[43msnr\u001b[49m\u001b[43m(\u001b[49m\u001b[43mgw_param_dict\u001b[49m\u001b[38;5;241;43m=\u001b[39;49m\u001b[43munlensed_param\u001b[49m\u001b[43m)\u001b[49m\n\u001b[1;32m     23\u001b[0m unlensed_param\u001b[38;5;241m.\u001b[39mupdate(snr)\n\u001b[1;32m     24\u001b[0m append_json(json_file, unlensed_param, replace\u001b[38;5;241m=\u001b[39m\u001b[38;5;28;01mFalse\u001b[39;00m)\n",
      "File \u001b[0;32m~/phd/mypackages/gwsnr/gwsnr/gwsnr.py:558\u001b[0m, in \u001b[0;36mGWSNR.snr\u001b[0;34m(self, mass_1, mass_2, luminosity_distance, theta_jn, psi, phase, geocent_time, ra, dec, a_1, a_2, tilt_1, tilt_2, phi_12, phi_jl, gw_param_dict, output_jsonfile)\u001b[0m\n\u001b[1;32m    553\u001b[0m     \u001b[38;5;28;01melse\u001b[39;00m:\n\u001b[1;32m    554\u001b[0m         \u001b[38;5;28;01mraise\u001b[39;00m \u001b[38;5;167;01mValueError\u001b[39;00m(\n\u001b[1;32m    555\u001b[0m             \u001b[38;5;124m\"\u001b[39m\u001b[38;5;124mSNR function type not recognised, using inner_product method instead\u001b[39m\u001b[38;5;124m\"\u001b[39m\n\u001b[1;32m    556\u001b[0m         )\n\u001b[0;32m--> 558\u001b[0m     snr_dict \u001b[38;5;241m=\u001b[39m \u001b[38;5;28;43mself\u001b[39;49m\u001b[38;5;241;43m.\u001b[39;49m\u001b[43mcompute_bilby_snr\u001b[49m\u001b[43m(\u001b[49m\n\u001b[1;32m    559\u001b[0m \u001b[43m        \u001b[49m\u001b[43mmass_1\u001b[49m\u001b[43m,\u001b[49m\n\u001b[1;32m    560\u001b[0m \u001b[43m        \u001b[49m\u001b[43mmass_2\u001b[49m\u001b[43m,\u001b[49m\n\u001b[1;32m    561\u001b[0m \u001b[43m        \u001b[49m\u001b[43mluminosity_distance\u001b[49m\u001b[38;5;241;43m=\u001b[39;49m\u001b[43mluminosity_distance\u001b[49m\u001b[43m,\u001b[49m\n\u001b[1;32m    562\u001b[0m \u001b[43m        \u001b[49m\u001b[43mtheta_jn\u001b[49m\u001b[38;5;241;43m=\u001b[39;49m\u001b[43mtheta_jn\u001b[49m\u001b[43m,\u001b[49m\n\u001b[1;32m    563\u001b[0m \u001b[43m        \u001b[49m\u001b[43mpsi\u001b[49m\u001b[38;5;241;43m=\u001b[39;49m\u001b[43mpsi\u001b[49m\u001b[43m,\u001b[49m\n\u001b[1;32m    564\u001b[0m \u001b[43m        \u001b[49m\u001b[43mphase\u001b[49m\u001b[38;5;241;43m=\u001b[39;49m\u001b[43mphase\u001b[49m\u001b[43m,\u001b[49m\n\u001b[1;32m    565\u001b[0m \u001b[43m        \u001b[49m\u001b[43mgeocent_time\u001b[49m\u001b[38;5;241;43m=\u001b[39;49m\u001b[43mgeocent_time\u001b[49m\u001b[43m,\u001b[49m\n\u001b[1;32m    566\u001b[0m \u001b[43m        \u001b[49m\u001b[43mra\u001b[49m\u001b[38;5;241;43m=\u001b[39;49m\u001b[43mra\u001b[49m\u001b[43m,\u001b[49m\n\u001b[1;32m    567\u001b[0m \u001b[43m        \u001b[49m\u001b[43mdec\u001b[49m\u001b[38;5;241;43m=\u001b[39;49m\u001b[43mdec\u001b[49m\u001b[43m,\u001b[49m\n\u001b[1;32m    568\u001b[0m \u001b[43m        \u001b[49m\u001b[43ma_1\u001b[49m\u001b[38;5;241;43m=\u001b[39;49m\u001b[43ma_1\u001b[49m\u001b[43m,\u001b[49m\n\u001b[1;32m    569\u001b[0m \u001b[43m        \u001b[49m\u001b[43ma_2\u001b[49m\u001b[38;5;241;43m=\u001b[39;49m\u001b[43ma_2\u001b[49m\u001b[43m,\u001b[49m\n\u001b[1;32m    570\u001b[0m \u001b[43m        \u001b[49m\u001b[43mtilt_1\u001b[49m\u001b[38;5;241;43m=\u001b[39;49m\u001b[43mtilt_1\u001b[49m\u001b[43m,\u001b[49m\n\u001b[1;32m    571\u001b[0m \u001b[43m        \u001b[49m\u001b[43mtilt_2\u001b[49m\u001b[38;5;241;43m=\u001b[39;49m\u001b[43mtilt_2\u001b[49m\u001b[43m,\u001b[49m\n\u001b[1;32m    572\u001b[0m \u001b[43m        \u001b[49m\u001b[43mphi_12\u001b[49m\u001b[38;5;241;43m=\u001b[39;49m\u001b[43mphi_12\u001b[49m\u001b[43m,\u001b[49m\n\u001b[1;32m    573\u001b[0m \u001b[43m        \u001b[49m\u001b[43mphi_jl\u001b[49m\u001b[38;5;241;43m=\u001b[39;49m\u001b[43mphi_jl\u001b[49m\u001b[43m,\u001b[49m\n\u001b[1;32m    574\u001b[0m \u001b[43m        \u001b[49m\u001b[43moutput_jsonfile\u001b[49m\u001b[38;5;241;43m=\u001b[39;49m\u001b[43moutput_jsonfile\u001b[49m\u001b[43m,\u001b[49m\n\u001b[1;32m    575\u001b[0m \u001b[43m    \u001b[49m\u001b[43m)\u001b[49m\n\u001b[1;32m    576\u001b[0m \u001b[38;5;28;01mreturn\u001b[39;00m snr_dict\n",
      "File \u001b[0;32m~/phd/mypackages/gwsnr/gwsnr/gwsnr.py:958\u001b[0m, in \u001b[0;36mGWSNR.compute_bilby_snr\u001b[0;34m(self, mass_1, mass_2, luminosity_distance, theta_jn, psi, phase, geocent_time, ra, dec, a_1, a_2, tilt_1, tilt_2, phi_12, phi_jl, output_jsonfile)\u001b[0m\n\u001b[1;32m    954\u001b[0m \u001b[38;5;28;01mwith\u001b[39;00m Pool(processes\u001b[38;5;241m=\u001b[39mnpool) \u001b[38;5;28;01mas\u001b[39;00m pool:\n\u001b[1;32m    955\u001b[0m     \u001b[38;5;66;03m# call the same function with different data in parallel\u001b[39;00m\n\u001b[1;32m    956\u001b[0m     \u001b[38;5;66;03m# imap->retain order in the list, while map->doesn't\u001b[39;00m\n\u001b[1;32m    957\u001b[0m     \u001b[38;5;28;01mif\u001b[39;00m \u001b[38;5;28mself\u001b[39m\u001b[38;5;241m.\u001b[39mmultiprocessing_verbose:\n\u001b[0;32m--> 958\u001b[0m         \u001b[38;5;28;01mfor\u001b[39;00m result \u001b[38;5;129;01min\u001b[39;00m tqdm(\n\u001b[1;32m    959\u001b[0m             pool\u001b[38;5;241m.\u001b[39mimap_unordered(noise_weighted_inner_prod, input_arguments),\n\u001b[1;32m    960\u001b[0m             total\u001b[38;5;241m=\u001b[39m\u001b[38;5;28mlen\u001b[39m(input_arguments),\n\u001b[1;32m    961\u001b[0m             ncols\u001b[38;5;241m=\u001b[39m\u001b[38;5;241m100\u001b[39m,\n\u001b[1;32m    962\u001b[0m         ):\n\u001b[1;32m    963\u001b[0m             \u001b[38;5;66;03m# but, np.shape(hp_inner_hp_i) = (size1, len(num_det))\u001b[39;00m\n\u001b[1;32m    964\u001b[0m             hp_inner_hp_i, hc_inner_hc_i, iter_i \u001b[38;5;241m=\u001b[39m result\n\u001b[1;32m    965\u001b[0m             hp_inner_hp[:, iter_i] \u001b[38;5;241m=\u001b[39m hp_inner_hp_i\n",
      "File \u001b[0;32m~/anaconda3/envs/ler/lib/python3.10/site-packages/tqdm/std.py:1182\u001b[0m, in \u001b[0;36mtqdm.__iter__\u001b[0;34m(self)\u001b[0m\n\u001b[1;32m   1179\u001b[0m time \u001b[38;5;241m=\u001b[39m \u001b[38;5;28mself\u001b[39m\u001b[38;5;241m.\u001b[39m_time\n\u001b[1;32m   1181\u001b[0m \u001b[38;5;28;01mtry\u001b[39;00m:\n\u001b[0;32m-> 1182\u001b[0m     \u001b[38;5;28;01mfor\u001b[39;00m obj \u001b[38;5;129;01min\u001b[39;00m iterable:\n\u001b[1;32m   1183\u001b[0m         \u001b[38;5;28;01myield\u001b[39;00m obj\n\u001b[1;32m   1184\u001b[0m         \u001b[38;5;66;03m# Update and possibly print the progressbar.\u001b[39;00m\n\u001b[1;32m   1185\u001b[0m         \u001b[38;5;66;03m# Note: does not call self.update(1) for speed optimisation.\u001b[39;00m\n",
      "File \u001b[0;32m~/anaconda3/envs/ler/lib/python3.10/multiprocessing/pool.py:861\u001b[0m, in \u001b[0;36mIMapIterator.next\u001b[0;34m(self, timeout)\u001b[0m\n\u001b[1;32m    859\u001b[0m     \u001b[38;5;28mself\u001b[39m\u001b[38;5;241m.\u001b[39m_pool \u001b[38;5;241m=\u001b[39m \u001b[38;5;28;01mNone\u001b[39;00m\n\u001b[1;32m    860\u001b[0m     \u001b[38;5;28;01mraise\u001b[39;00m \u001b[38;5;167;01mStopIteration\u001b[39;00m \u001b[38;5;28;01mfrom\u001b[39;00m \u001b[38;5;28;01mNone\u001b[39;00m\n\u001b[0;32m--> 861\u001b[0m \u001b[38;5;28;43mself\u001b[39;49m\u001b[38;5;241;43m.\u001b[39;49m\u001b[43m_cond\u001b[49m\u001b[38;5;241;43m.\u001b[39;49m\u001b[43mwait\u001b[49m\u001b[43m(\u001b[49m\u001b[43mtimeout\u001b[49m\u001b[43m)\u001b[49m\n\u001b[1;32m    862\u001b[0m \u001b[38;5;28;01mtry\u001b[39;00m:\n\u001b[1;32m    863\u001b[0m     item \u001b[38;5;241m=\u001b[39m \u001b[38;5;28mself\u001b[39m\u001b[38;5;241m.\u001b[39m_items\u001b[38;5;241m.\u001b[39mpopleft()\n",
      "File \u001b[0;32m~/anaconda3/envs/ler/lib/python3.10/threading.py:320\u001b[0m, in \u001b[0;36mCondition.wait\u001b[0;34m(self, timeout)\u001b[0m\n\u001b[1;32m    318\u001b[0m \u001b[38;5;28;01mtry\u001b[39;00m:    \u001b[38;5;66;03m# restore state no matter what (e.g., KeyboardInterrupt)\u001b[39;00m\n\u001b[1;32m    319\u001b[0m     \u001b[38;5;28;01mif\u001b[39;00m timeout \u001b[38;5;129;01mis\u001b[39;00m \u001b[38;5;28;01mNone\u001b[39;00m:\n\u001b[0;32m--> 320\u001b[0m         \u001b[43mwaiter\u001b[49m\u001b[38;5;241;43m.\u001b[39;49m\u001b[43macquire\u001b[49m\u001b[43m(\u001b[49m\u001b[43m)\u001b[49m\n\u001b[1;32m    321\u001b[0m         gotit \u001b[38;5;241m=\u001b[39m \u001b[38;5;28;01mTrue\u001b[39;00m\n\u001b[1;32m    322\u001b[0m     \u001b[38;5;28;01melse\u001b[39;00m:\n",
      "\u001b[0;31mKeyboardInterrupt\u001b[0m: "
     ]
    }
   ],
   "source": [
    "for i in range(5):\n",
    "    samples(nsamples = 10000)"
   ]
  },
  {
   "cell_type": "code",
   "execution_count": 4,
   "metadata": {},
   "outputs": [
    {
     "data": {
      "image/png": "[encoded data removed]",
      "text/plain": [
       "<Figure size 640x480 with 1 Axes>"
      ]
     },
     "metadata": {},
     "output_type": "display_data"
    }
   ],
   "source": [
    "unlensed_params = load_json('samplesL1.json')\n",
    "snr = np.array(unlensed_params['L1'])\n",
    "len(snr)\n",
    "import matplotlib.pyplot as plt\n",
    "plt.hist(snr[snr<100], bins=100)\n",
    "plt.show()"
   ]
  },
  {
   "cell_type": "code",
   "execution_count": 5,
   "metadata": {},
   "outputs": [],
   "source": [
    "# get half_snr \n",
    "# open pickle file\n",
    "import pickle\n",
    "with open('./interpolator_pickle/L1/halfSNR_dict_0.pickle', 'rb') as f:\n",
    "    half_snr = pickle.load(f)"
   ]
  },
  {
   "cell_type": "code",
   "execution_count": 19,
   "metadata": {},
   "outputs": [
    {
     "name": "stdout",
     "output_type": "stream",
     "text": [
      "psds not given. Choosing bilby's default psds\n",
      "Interpolator will be generated for L1 detector at ./interpolator_pickle/L1/halfSNR_dict_2.pickle\n",
      "Interpolator will be generated for H1 detector at ./interpolator_pickle/H1/halfSNR_dict_2.pickle\n",
      "Interpolator will be generated for V1 detector at ./interpolator_pickle/V1/halfSNR_dict_2.pickle\n",
      "Please be patient while the interpolator is generated\n",
      "Generating interpolator for ['L1', 'H1', 'V1'] detectors\n"
     ]
    },
    {
     "name": "stderr",
     "output_type": "stream",
     "text": [
      "interpolation for each mass_ratios: 100%|███████████████████████████| 50/50 [01:28<00:00,  1.76s/it]\n"
     ]
    }
   ],
   "source": [
    "# let's generate IMRPhenomD (spinless) interpolartor\n",
    "from gwsnr import GWSNR\n",
    "gwsnr = GWSNR(gwsnr_verbose=False, minimum_frequency=10.)"
   ]
  },
  {
   "cell_type": "code",
   "execution_count": 20,
   "metadata": {},
   "outputs": [],
   "source": [
    "from gwsnr import antenna_response_array, cubic_spline_interpolator2d\n",
    "\n",
    "def input_output(idx, params):\n",
    "\n",
    "    det_idx = 0 # L1\n",
    "\n",
    "    mass_1 = np.array(params['mass_1'])[idx]\n",
    "    mass_2 = np.array(params['mass_2'])[idx]\n",
    "    luminosity_distance = np.array(params['luminosity_distance'])[idx]\n",
    "    theta_jn = np.array(params['theta_jn'])[idx]\n",
    "    psi = np.array(params['psi'])[idx]\n",
    "    geocent_time = np.array(params['geocent_time'])[idx]\n",
    "    ra = np.array(params['ra'])[idx]\n",
    "    dec = np.array(params['dec'])[idx]\n",
    "    \n",
    "    detector_tensor = gwsnr.detector_tensor_list\n",
    "    snr_halfscaled = np.array(gwsnr.snr_halfsacaled_list)\n",
    "    ratio_arr = gwsnr.ratio_arr\n",
    "    mtot_arr = gwsnr.mtot_arr\n",
    "    \n",
    "    size = len(mass_1)\n",
    "    len_ = len(detector_tensor)\n",
    "    mtot = mass_1 + mass_2\n",
    "    ratio = mass_2 / mass_1\n",
    "    # get array of antenna response\n",
    "    Fp, Fc = antenna_response_array(ra, dec, geocent_time, psi, detector_tensor)\n",
    "\n",
    "    Mc = ((mass_1 * mass_2) ** (3 / 5)) / ((mass_1 + mass_2) ** (1 / 5))\n",
    "    eta = mass_1 * mass_2/(mass_1 + mass_2)**2.\n",
    "    A1 = Mc ** (5.0 / 6.0)\n",
    "    ci_2 = np.cos(theta_jn) ** 2\n",
    "    ci_param = ((1 + np.cos(theta_jn) ** 2) / 2) ** 2\n",
    "    \n",
    "    size = len(mass_1)\n",
    "    snr_half_ = np.zeros((len_,size))\n",
    "    d_eff = np.zeros((len_,size))\n",
    "\n",
    "    # loop over the detectors\n",
    "    for j in range(len_):\n",
    "        # loop over the parameter points\n",
    "        for i in range(size):\n",
    "            snr_half_coeff = snr_halfscaled[j]\n",
    "            snr_half_[j,i] = cubic_spline_interpolator2d(mtot[i], ratio[i], snr_half_coeff, mtot_arr, ratio_arr)\n",
    "            d_eff[j,i] =luminosity_distance[i] / np.sqrt(\n",
    "                    Fp[j,i]**2 * ci_param[i] + Fc[j,i]**2 * ci_2[i]\n",
    "                )\n",
    "\n",
    "    #amp0\n",
    "    amp0 =  A1 / d_eff\n",
    "\n",
    "    # get spin parameters\n",
    "    a_1 = np.array(params['a_1'])[idx]\n",
    "    a_2 = np.array(params['a_2'])[idx]\n",
    "    tilt_1 = np.array(params['tilt_1'])[idx]\n",
    "    tilt_2 = np.array(params['tilt_2'])[idx]\n",
    "    phi_12 = np.array(params['phi_12'])[idx]\n",
    "    phi_jl = np.array(params['phi_jl'])[idx]\n",
    "\n",
    "    # input data\n",
    "    # X = np.vstack([L1, amp0, Mc, eta, theta_jn, a_1, a_2, tilt_1, tilt_2, phi_12, phi_jl]).T\n",
    "    X = np.vstack([snr_half_[det_idx], amp0[det_idx], eta, a_1, a_2, tilt_1, tilt_2, phi_12, phi_jl]).T\n",
    "\n",
    "    # output data\n",
    "    # get L1 snr for y train \n",
    "    y = snr[idx]\n",
    "\n",
    "    return(X,y)"
   ]
  },
  {
   "cell_type": "code",
   "execution_count": 21,
   "metadata": {},
   "outputs": [
    {
     "data": {
      "text/plain": [
       "dict_keys(['mass_1', 'mass_2', 'luminosity_distance', 'theta_jn', 'ra', 'dec', 'psi', 'phase', 'a_1', 'a_2', 'tilt_1', 'tilt_2', 'phi_12', 'phi_jl', 'geocent_time', 'L1', 'H1', 'V1', 'optimal_snr_net'])"
      ]
     },
     "execution_count": 21,
     "metadata": {},
     "output_type": "execute_result"
    }
   ],
   "source": [
    "# training set\n",
    "unlensed_params.keys()"
   ]
  },
  {
   "cell_type": "code",
   "execution_count": 22,
   "metadata": {},
   "outputs": [],
   "source": [
    "# snr_min = 6.\n",
    "# snr_max = 10.\n",
    "# bool_ = (snr>snr_min) & (snr<snr_max) \n",
    "\n",
    "len_ = len(snr)\n",
    "idx = np.arange(len_)\n",
    "# randomize the train set\n",
    "idx = np.random.choice(idx, len(idx), replace=False)"
   ]
  },
  {
   "cell_type": "code",
   "execution_count": 23,
   "metadata": {},
   "outputs": [],
   "source": [
    "X, y = input_output(idx, unlensed_params)"
   ]
  },
  {
   "cell_type": "code",
   "execution_count": 24,
   "metadata": {},
   "outputs": [
    {
     "data": {
      "text/plain": [
       "(100000, 9)"
      ]
     },
     "execution_count": 24,
     "metadata": {},
     "output_type": "execute_result"
    }
   ],
   "source": [
    "np.shape(X)"
   ]
  },
  {
   "cell_type": "markdown",
   "metadata": {},
   "source": [
    "## Now back to ANN"
   ]
  },
  {
   "cell_type": "code",
   "execution_count": 25,
   "metadata": {},
   "outputs": [],
   "source": [
    "from sklearn.model_selection import train_test_split\n",
    "X_train, X_test, y_train, y_test = train_test_split(X, y, test_size = 0.2, random_state = 0)"
   ]
  },
  {
   "cell_type": "code",
   "execution_count": 26,
   "metadata": {},
   "outputs": [
    {
     "name": "stdout",
     "output_type": "stream",
     "text": [
      "(80000, 9)\n",
      "(20000, 9)\n"
     ]
    }
   ],
   "source": [
    "print(np.shape(X_train))\n",
    "print(np.shape(X_test))"
   ]
  },
  {
   "cell_type": "code",
   "execution_count": 27,
   "metadata": {},
   "outputs": [],
   "source": [
    "# feature scaling\n",
    "from sklearn.preprocessing import StandardScaler\n",
    "sc = StandardScaler()\n",
    "X_train = sc.fit_transform(X_train)\n",
    "X_test = sc.transform(X_test)"
   ]
  },
  {
   "cell_type": "code",
   "execution_count": 28,
   "metadata": {},
   "outputs": [
    {
     "data": {
      "text/plain": [
       "array([ 0.30465758, -0.04696796, -0.2789885 ,  0.63293202, -1.35328141,\n",
       "        0.36040427, -1.40198665, -0.03385537,  0.61397705])"
      ]
     },
     "execution_count": 28,
     "metadata": {},
     "output_type": "execute_result"
    }
   ],
   "source": [
    "X_train[0]"
   ]
  },
  {
   "cell_type": "code",
   "execution_count": 29,
   "metadata": {},
   "outputs": [],
   "source": [
    "# initialize the ANN\n",
    "ann = tf.keras.models.Sequential() \n",
    "\n",
    "# adding the input layer and the first hidden layer\n",
    "ann.add(tf.keras.layers.Dense(units=9, activation='relu'))\n",
    "# adding the second hidden layer\n",
    "ann.add(tf.keras.layers.Dense(units=32, activation='relu'))\n",
    "# adding the third hidden layer\n",
    "ann.add(tf.keras.layers.Dense(units=32, activation='sigmoid'))\n",
    "# adding the output layer, absolute value of the snr\n",
    "ann.add(tf.keras.layers.Dense(units=1, activation='linear'))\n",
    "#ann.add(tf.keras.layers.Dense(units=1, activation='sigmoid'))"
   ]
  },
  {
   "cell_type": "code",
   "execution_count": 30,
   "metadata": {},
   "outputs": [],
   "source": [
    "# compile the ANN\n",
    "# loss = 'mean_squared_error'\n",
    "ann.compile(optimizer = 'adam', loss = 'mean_squared_error', metrics = ['accuracy'])"
   ]
  },
  {
   "cell_type": "code",
   "execution_count": 31,
   "metadata": {},
   "outputs": [
    {
     "name": "stdout",
     "output_type": "stream",
     "text": [
      "Epoch 1/100\n",
      "2500/2500 [==============================] - 1s 492us/step - loss: 132436.2969 - accuracy: 3.7500e-05\n",
      "Epoch 2/100\n",
      "2500/2500 [==============================] - 1s 494us/step - loss: 131804.0156 - accuracy: 1.8750e-04\n",
      "Epoch 3/100\n",
      "2500/2500 [==============================] - 1s 516us/step - loss: 131226.6094 - accuracy: 1.2500e-04\n",
      "Epoch 4/100\n",
      "2500/2500 [==============================] - 1s 506us/step - loss: 130678.3594 - accuracy: 3.5000e-04\n",
      "Epoch 5/100\n",
      "2500/2500 [==============================] - 1s 497us/step - loss: 130197.0078 - accuracy: 4.3750e-04\n",
      "Epoch 6/100\n",
      "2500/2500 [==============================] - 1s 502us/step - loss: 129728.4453 - accuracy: 6.3750e-04\n",
      "Epoch 7/100\n",
      "2500/2500 [==============================] - 1s 556us/step - loss: 129298.8906 - accuracy: 8.0000e-04\n",
      "Epoch 8/100\n",
      "2500/2500 [==============================] - 1s 507us/step - loss: 128897.1250 - accuracy: 0.0010\n",
      "Epoch 9/100\n",
      "2500/2500 [==============================] - 1s 509us/step - loss: 128522.1484 - accuracy: 0.0010\n",
      "Epoch 10/100\n",
      "2500/2500 [==============================] - 1s 518us/step - loss: 128136.9609 - accuracy: 7.7500e-04\n",
      "Epoch 11/100\n",
      "2500/2500 [==============================] - 1s 497us/step - loss: 127778.8047 - accuracy: 8.8750e-04\n",
      "Epoch 12/100\n",
      "2500/2500 [==============================] - 1s 532us/step - loss: 127426.0000 - accuracy: 7.1250e-04\n",
      "Epoch 13/100\n",
      "2500/2500 [==============================] - 1s 497us/step - loss: 127090.9062 - accuracy: 7.7500e-04\n",
      "Epoch 14/100\n",
      "2500/2500 [==============================] - 1s 516us/step - loss: 126762.2266 - accuracy: 5.6250e-04\n",
      "Epoch 15/100\n",
      "2500/2500 [==============================] - 1s 497us/step - loss: 126425.0859 - accuracy: 6.0000e-04\n",
      "Epoch 16/100\n",
      "2500/2500 [==============================] - 1s 497us/step - loss: 126091.3516 - accuracy: 9.7500e-04\n",
      "Epoch 17/100\n",
      "2500/2500 [==============================] - 1s 512us/step - loss: 125788.5312 - accuracy: 5.1250e-04\n",
      "Epoch 18/100\n",
      "2500/2500 [==============================] - 1s 498us/step - loss: 125488.0234 - accuracy: 5.7500e-04\n",
      "Epoch 19/100\n",
      "2500/2500 [==============================] - 1s 512us/step - loss: 125191.6797 - accuracy: 5.8750e-04\n",
      "Epoch 20/100\n",
      "2500/2500 [==============================] - 1s 510us/step - loss: 124896.4062 - accuracy: 7.6250e-04\n",
      "Epoch 21/100\n",
      "2500/2500 [==============================] - 1s 497us/step - loss: 124605.1094 - accuracy: 6.6250e-04\n",
      "Epoch 22/100\n",
      "2500/2500 [==============================] - 1s 546us/step - loss: 124320.8203 - accuracy: 6.2500e-04\n",
      "Epoch 23/100\n",
      "2500/2500 [==============================] - 1s 594us/step - loss: 124049.7500 - accuracy: 6.0000e-04\n",
      "Epoch 24/100\n",
      "2500/2500 [==============================] - 1s 547us/step - loss: 123769.1250 - accuracy: 8.7500e-04\n",
      "Epoch 25/100\n",
      "2500/2500 [==============================] - 1s 549us/step - loss: 123509.8984 - accuracy: 7.2500e-04\n",
      "Epoch 26/100\n",
      "2500/2500 [==============================] - 1s 508us/step - loss: 123237.1094 - accuracy: 7.8750e-04\n",
      "Epoch 27/100\n",
      "2500/2500 [==============================] - 1s 507us/step - loss: 122964.8672 - accuracy: 7.5000e-04\n",
      "Epoch 28/100\n",
      "2500/2500 [==============================] - 1s 502us/step - loss: 122718.7422 - accuracy: 5.1250e-04\n",
      "Epoch 29/100\n",
      "2500/2500 [==============================] - 1s 518us/step - loss: 122477.0703 - accuracy: 6.1250e-04\n",
      "Epoch 30/100\n",
      "2500/2500 [==============================] - 1s 499us/step - loss: 122221.2344 - accuracy: 6.7500e-04\n",
      "Epoch 31/100\n",
      "2500/2500 [==============================] - 1s 513us/step - loss: 121974.9609 - accuracy: 6.6250e-04\n",
      "Epoch 32/100\n",
      "2500/2500 [==============================] - 1s 495us/step - loss: 121711.3750 - accuracy: 9.1250e-04\n",
      "Epoch 33/100\n",
      "2500/2500 [==============================] - 1s 508us/step - loss: 121464.2969 - accuracy: 0.0010\n",
      "Epoch 34/100\n",
      "2500/2500 [==============================] - 1s 491us/step - loss: 121233.3672 - accuracy: 0.0011\n",
      "Epoch 35/100\n",
      "2500/2500 [==============================] - 1s 498us/step - loss: 120998.1797 - accuracy: 0.0011\n",
      "Epoch 36/100\n",
      "2500/2500 [==============================] - 1s 541us/step - loss: 120760.5391 - accuracy: 0.0012\n",
      "Epoch 37/100\n",
      "2500/2500 [==============================] - 1s 498us/step - loss: 120532.5938 - accuracy: 0.0010\n",
      "Epoch 38/100\n",
      "2500/2500 [==============================] - 1s 507us/step - loss: 120298.3281 - accuracy: 0.0013\n",
      "Epoch 39/100\n",
      "2500/2500 [==============================] - 1s 496us/step - loss: 120070.2344 - accuracy: 0.0012\n",
      "Epoch 40/100\n",
      "2500/2500 [==============================] - 1s 498us/step - loss: 119843.8906 - accuracy: 0.0014\n",
      "Epoch 41/100\n",
      "2500/2500 [==============================] - 1s 506us/step - loss: 119611.8438 - accuracy: 0.0016\n",
      "Epoch 42/100\n",
      "2500/2500 [==============================] - 1s 496us/step - loss: 119392.5625 - accuracy: 0.0016\n",
      "Epoch 43/100\n",
      "2500/2500 [==============================] - 1s 508us/step - loss: 119178.1484 - accuracy: 0.0018\n",
      "Epoch 44/100\n",
      "2500/2500 [==============================] - 1s 500us/step - loss: 118959.1953 - accuracy: 0.0017\n",
      "Epoch 45/100\n",
      "2500/2500 [==============================] - 1s 514us/step - loss: 118742.6328 - accuracy: 0.0014\n",
      "Epoch 46/100\n",
      "2500/2500 [==============================] - 1s 492us/step - loss: 118522.1484 - accuracy: 0.0017\n",
      "Epoch 47/100\n",
      "2500/2500 [==============================] - 1s 497us/step - loss: 118311.5938 - accuracy: 0.0017\n",
      "Epoch 48/100\n",
      "2500/2500 [==============================] - 1s 533us/step - loss: 118107.8516 - accuracy: 0.0019\n",
      "Epoch 49/100\n",
      "2500/2500 [==============================] - 1s 498us/step - loss: 117907.5859 - accuracy: 0.0019\n",
      "Epoch 50/100\n",
      "2500/2500 [==============================] - 1s 507us/step - loss: 117691.6875 - accuracy: 0.0019\n",
      "Epoch 51/100\n",
      "2500/2500 [==============================] - 1s 500us/step - loss: 117490.4609 - accuracy: 0.0018\n",
      "Epoch 52/100\n",
      "2500/2500 [==============================] - 1s 510us/step - loss: 117287.0156 - accuracy: 0.0016\n",
      "Epoch 53/100\n",
      "2500/2500 [==============================] - 1s 491us/step - loss: 117089.6250 - accuracy: 0.0017\n",
      "Epoch 54/100\n",
      "2500/2500 [==============================] - 1s 494us/step - loss: 116874.5469 - accuracy: 0.0017\n",
      "Epoch 55/100\n",
      "2500/2500 [==============================] - 1s 509us/step - loss: 116683.2500 - accuracy: 0.0015\n",
      "Epoch 56/100\n",
      "2500/2500 [==============================] - 1s 498us/step - loss: 116494.3359 - accuracy: 0.0018\n",
      "Epoch 57/100\n",
      "2500/2500 [==============================] - 1s 509us/step - loss: 116298.9844 - accuracy: 0.0019\n",
      "Epoch 58/100\n",
      "2500/2500 [==============================] - 1s 521us/step - loss: 116108.3047 - accuracy: 0.0018\n",
      "Epoch 59/100\n",
      "2500/2500 [==============================] - 1s 509us/step - loss: 115915.8672 - accuracy: 0.0018\n",
      "Epoch 60/100\n",
      "2500/2500 [==============================] - 1s 499us/step - loss: 115725.3516 - accuracy: 0.0019\n",
      "Epoch 61/100\n",
      "2500/2500 [==============================] - 1s 498us/step - loss: 115528.8203 - accuracy: 0.0020\n",
      "Epoch 62/100\n",
      "2500/2500 [==============================] - 1s 515us/step - loss: 115331.6875 - accuracy: 0.0019\n",
      "Epoch 63/100\n",
      "2500/2500 [==============================] - 1s 495us/step - loss: 115155.2500 - accuracy: 0.0019\n",
      "Epoch 64/100\n",
      "2500/2500 [==============================] - 1s 513us/step - loss: 114968.5859 - accuracy: 0.0019\n",
      "Epoch 65/100\n",
      "2500/2500 [==============================] - 1s 497us/step - loss: 114784.5859 - accuracy: 0.0019\n",
      "Epoch 66/100\n",
      "2500/2500 [==============================] - 1s 509us/step - loss: 114605.4141 - accuracy: 0.0020\n",
      "Epoch 67/100\n",
      "2500/2500 [==============================] - 1s 497us/step - loss: 114424.6641 - accuracy: 0.0021\n",
      "Epoch 68/100\n",
      "2500/2500 [==============================] - 1s 494us/step - loss: 114245.4531 - accuracy: 0.0019\n",
      "Epoch 69/100\n",
      "2500/2500 [==============================] - 1s 510us/step - loss: 114064.3828 - accuracy: 0.0019\n",
      "Epoch 70/100\n",
      "2500/2500 [==============================] - 1s 495us/step - loss: 113894.0312 - accuracy: 0.0018\n",
      "Epoch 71/100\n",
      "2500/2500 [==============================] - 1s 505us/step - loss: 113710.1953 - accuracy: 0.0018\n",
      "Epoch 72/100\n",
      "2500/2500 [==============================] - 1s 498us/step - loss: 113542.6328 - accuracy: 0.0018\n",
      "Epoch 73/100\n",
      "2500/2500 [==============================] - 1s 509us/step - loss: 113368.2969 - accuracy: 0.0015\n",
      "Epoch 74/100\n",
      "2500/2500 [==============================] - 1s 497us/step - loss: 113198.5000 - accuracy: 0.0018\n",
      "Epoch 75/100\n",
      "2500/2500 [==============================] - 1s 496us/step - loss: 113024.5781 - accuracy: 0.0019\n",
      "Epoch 76/100\n",
      "2500/2500 [==============================] - 1s 506us/step - loss: 112847.4766 - accuracy: 0.0018\n",
      "Epoch 77/100\n",
      "2500/2500 [==============================] - 1s 496us/step - loss: 112677.6172 - accuracy: 0.0019\n",
      "Epoch 78/100\n",
      "2500/2500 [==============================] - 1s 513us/step - loss: 112508.5312 - accuracy: 0.0019\n",
      "Epoch 79/100\n",
      "2500/2500 [==============================] - 1s 515us/step - loss: 112345.9297 - accuracy: 0.0019\n",
      "Epoch 80/100\n",
      "2500/2500 [==============================] - 1s 513us/step - loss: 112181.8906 - accuracy: 0.0019\n",
      "Epoch 81/100\n",
      "2500/2500 [==============================] - 1s 495us/step - loss: 112014.3359 - accuracy: 0.0018\n",
      "Epoch 82/100\n",
      "2500/2500 [==============================] - 1s 507us/step - loss: 111846.4375 - accuracy: 0.0017\n",
      "Epoch 83/100\n",
      "2500/2500 [==============================] - 1s 496us/step - loss: 111679.3594 - accuracy: 0.0021\n",
      "Epoch 84/100\n",
      "2500/2500 [==============================] - 1s 508us/step - loss: 111518.3984 - accuracy: 0.0016\n",
      "Epoch 85/100\n",
      "2500/2500 [==============================] - 1s 494us/step - loss: 111359.6797 - accuracy: 0.0019\n",
      "Epoch 86/100\n",
      "2500/2500 [==============================] - 1s 500us/step - loss: 111202.4297 - accuracy: 0.0019\n",
      "Epoch 87/100\n",
      "2500/2500 [==============================] - 1s 511us/step - loss: 111031.7812 - accuracy: 0.0015\n",
      "Epoch 88/100\n",
      "2500/2500 [==============================] - 1s 496us/step - loss: 110874.7891 - accuracy: 0.0020\n",
      "Epoch 89/100\n",
      "2500/2500 [==============================] - 1s 508us/step - loss: 110712.3984 - accuracy: 0.0018\n",
      "Epoch 90/100\n",
      "2500/2500 [==============================] - 1s 495us/step - loss: 110562.4844 - accuracy: 0.0018\n",
      "Epoch 91/100\n",
      "2500/2500 [==============================] - 1s 509us/step - loss: 110391.0938 - accuracy: 0.0019\n",
      "Epoch 92/100\n",
      "2500/2500 [==============================] - 1s 499us/step - loss: 110233.0859 - accuracy: 0.0019\n",
      "Epoch 93/100\n",
      "2500/2500 [==============================] - 1s 511us/step - loss: 110079.6406 - accuracy: 0.0019\n",
      "Epoch 94/100\n",
      "2500/2500 [==============================] - 1s 493us/step - loss: 109922.0078 - accuracy: 0.0019\n",
      "Epoch 95/100\n",
      "2500/2500 [==============================] - 1s 510us/step - loss: 109770.9844 - accuracy: 0.0018\n",
      "Epoch 96/100\n",
      "2500/2500 [==============================] - 1s 493us/step - loss: 109611.1875 - accuracy: 0.0018\n",
      "Epoch 97/100\n",
      "2500/2500 [==============================] - 1s 505us/step - loss: 109464.0391 - accuracy: 0.0019\n",
      "Epoch 98/100\n",
      "2500/2500 [==============================] - 1s 495us/step - loss: 109315.4141 - accuracy: 0.0019\n",
      "Epoch 99/100\n",
      "2500/2500 [==============================] - 1s 502us/step - loss: 109152.9219 - accuracy: 0.0019\n",
      "Epoch 100/100\n",
      "2500/2500 [==============================] - 1s 494us/step - loss: 109015.8438 - accuracy: 0.0017\n"
     ]
    },
    {
     "data": {
      "text/plain": [
       "<keras.src.callbacks.History at 0x2d85a42b0>"
      ]
     },
     "execution_count": 31,
     "metadata": {},
     "output_type": "execute_result"
    }
   ],
   "source": [
    "# train the ANN on the training set\n",
    "ann.fit(X_train, y_train, batch_size = 32, epochs = 100, workers=4, use_multiprocessing=True)"
   ]
  },
  {
   "cell_type": "code",
   "execution_count": 32,
   "metadata": {},
   "outputs": [
    {
     "name": "stdout",
     "output_type": "stream",
     "text": [
      "625/625 [==============================] - 0s 275us/step\n",
      "[[ 2.90637207  2.77783652]\n",
      " [ 4.79985046  2.6934239 ]\n",
      " [ 5.78448486  5.16251817]\n",
      " [58.72959137 46.3247993 ]\n",
      " [ 2.92173004  2.15959324]\n",
      " [-0.31486511  1.17218455]\n",
      " [10.77792358 12.43385128]\n",
      " [ 2.71967316  3.39174388]\n",
      " [ 5.32328796  4.75306197]\n",
      " [ 1.47682953  1.34130512]]\n"
     ]
    }
   ],
   "source": [
    "y_pred = ann.predict(X_test)\n",
    "#y_pred = (y_pred > 0.5)\n",
    "print(np.concatenate((y_pred.reshape(len(y_pred),1), y_test.reshape(len(y_test),1)),1)[10:20])"
   ]
  },
  {
   "cell_type": "code",
   "execution_count": 33,
   "metadata": {},
   "outputs": [],
   "source": [
    "idx = (y_test>4) & (y_test<100)"
   ]
  },
  {
   "cell_type": "code",
   "execution_count": 34,
   "metadata": {},
   "outputs": [
    {
     "name": "stdout",
     "output_type": "stream",
     "text": [
      "20000\n",
      "10825\n"
     ]
    },
    {
     "data": {
      "image/png": "[encoded data removed]",
      "text/plain": [
       "<Figure size 400x400 with 1 Axes>"
      ]
     },
     "metadata": {},
     "output_type": "display_data"
    }
   ],
   "source": [
    "import matplotlib.pyplot as plt\n",
    "hist_ = y_pred.flatten()-y_test\n",
    "print(len(hist_))\n",
    "hist_ = hist_[idx]\n",
    "#hist_ = hist_[abs(hist_)<5.]\n",
    "print(len(hist_))\n",
    "plt.figure(figsize=(4,4)) \n",
    "plt.hist(hist_, bins=100, histtype='step', density=True)\n",
    "plt.xlim(-10,10)\n",
    "plt.xlabel('snr_ml and snr_inner_product difference')\n",
    "plt.ylabel('pdf')\n",
    "plt.grid(alpha=0.4)\n",
    "plt.show()"
   ]
  },
  {
   "cell_type": "code",
   "execution_count": null,
   "metadata": {},
   "outputs": [],
   "source": []
  },
  {
   "cell_type": "code",
   "execution_count": null,
   "metadata": {},
   "outputs": [
    {
     "ename": "ValueError",
     "evalue": "continuous is not supported",
     "output_type": "error",
     "traceback": [
      "\u001b[0;31m---------------------------------------------------------------------------\u001b[0m",
      "\u001b[0;31mValueError\u001b[0m                                Traceback (most recent call last)",
      "Cell \u001b[0;32mIn[140], line 2\u001b[0m\n\u001b[1;32m      1\u001b[0m \u001b[38;5;28;01mfrom\u001b[39;00m \u001b[38;5;21;01msklearn\u001b[39;00m\u001b[38;5;21;01m.\u001b[39;00m\u001b[38;5;21;01mmetrics\u001b[39;00m \u001b[38;5;28;01mimport\u001b[39;00m confusion_matrix, accuracy_score\n\u001b[0;32m----> 2\u001b[0m cm \u001b[38;5;241m=\u001b[39m \u001b[43mconfusion_matrix\u001b[49m\u001b[43m(\u001b[49m\u001b[43my_test\u001b[49m\u001b[43m,\u001b[49m\u001b[43m \u001b[49m\u001b[43my_pred\u001b[49m\u001b[43m)\u001b[49m\n\u001b[1;32m      3\u001b[0m \u001b[38;5;28mprint\u001b[39m(cm)\n\u001b[1;32m      4\u001b[0m accuracy_score(y_test, y_pred)\n",
      "File \u001b[0;32m~/anaconda3/envs/ler/lib/python3.10/site-packages/sklearn/utils/_param_validation.py:214\u001b[0m, in \u001b[0;36mvalidate_params.<locals>.decorator.<locals>.wrapper\u001b[0;34m(*args, **kwargs)\u001b[0m\n\u001b[1;32m    208\u001b[0m \u001b[38;5;28;01mtry\u001b[39;00m:\n\u001b[1;32m    209\u001b[0m     \u001b[38;5;28;01mwith\u001b[39;00m config_context(\n\u001b[1;32m    210\u001b[0m         skip_parameter_validation\u001b[38;5;241m=\u001b[39m(\n\u001b[1;32m    211\u001b[0m             prefer_skip_nested_validation \u001b[38;5;129;01mor\u001b[39;00m global_skip_validation\n\u001b[1;32m    212\u001b[0m         )\n\u001b[1;32m    213\u001b[0m     ):\n\u001b[0;32m--> 214\u001b[0m         \u001b[38;5;28;01mreturn\u001b[39;00m \u001b[43mfunc\u001b[49m\u001b[43m(\u001b[49m\u001b[38;5;241;43m*\u001b[39;49m\u001b[43margs\u001b[49m\u001b[43m,\u001b[49m\u001b[43m \u001b[49m\u001b[38;5;241;43m*\u001b[39;49m\u001b[38;5;241;43m*\u001b[39;49m\u001b[43mkwargs\u001b[49m\u001b[43m)\u001b[49m\n\u001b[1;32m    215\u001b[0m \u001b[38;5;28;01mexcept\u001b[39;00m InvalidParameterError \u001b[38;5;28;01mas\u001b[39;00m e:\n\u001b[1;32m    216\u001b[0m     \u001b[38;5;66;03m# When the function is just a wrapper around an estimator, we allow\u001b[39;00m\n\u001b[1;32m    217\u001b[0m     \u001b[38;5;66;03m# the function to delegate validation to the estimator, but we replace\u001b[39;00m\n\u001b[1;32m    218\u001b[0m     \u001b[38;5;66;03m# the name of the estimator by the name of the function in the error\u001b[39;00m\n\u001b[1;32m    219\u001b[0m     \u001b[38;5;66;03m# message to avoid confusion.\u001b[39;00m\n\u001b[1;32m    220\u001b[0m     msg \u001b[38;5;241m=\u001b[39m re\u001b[38;5;241m.\u001b[39msub(\n\u001b[1;32m    221\u001b[0m         \u001b[38;5;124mr\u001b[39m\u001b[38;5;124m\"\u001b[39m\u001b[38;5;124mparameter of \u001b[39m\u001b[38;5;124m\\\u001b[39m\u001b[38;5;124mw+ must be\u001b[39m\u001b[38;5;124m\"\u001b[39m,\n\u001b[1;32m    222\u001b[0m         \u001b[38;5;124mf\u001b[39m\u001b[38;5;124m\"\u001b[39m\u001b[38;5;124mparameter of \u001b[39m\u001b[38;5;132;01m{\u001b[39;00mfunc\u001b[38;5;241m.\u001b[39m\u001b[38;5;18m__qualname__\u001b[39m\u001b[38;5;132;01m}\u001b[39;00m\u001b[38;5;124m must be\u001b[39m\u001b[38;5;124m\"\u001b[39m,\n\u001b[1;32m    223\u001b[0m         \u001b[38;5;28mstr\u001b[39m(e),\n\u001b[1;32m    224\u001b[0m     )\n",
      "File \u001b[0;32m~/anaconda3/envs/ler/lib/python3.10/site-packages/sklearn/metrics/_classification.py:326\u001b[0m, in \u001b[0;36mconfusion_matrix\u001b[0;34m(y_true, y_pred, labels, sample_weight, normalize)\u001b[0m\n\u001b[1;32m    231\u001b[0m \u001b[38;5;129m@validate_params\u001b[39m(\n\u001b[1;32m    232\u001b[0m     {\n\u001b[1;32m    233\u001b[0m         \u001b[38;5;124m\"\u001b[39m\u001b[38;5;124my_true\u001b[39m\u001b[38;5;124m\"\u001b[39m: [\u001b[38;5;124m\"\u001b[39m\u001b[38;5;124marray-like\u001b[39m\u001b[38;5;124m\"\u001b[39m],\n\u001b[0;32m   (...)\u001b[0m\n\u001b[1;32m    242\u001b[0m     y_true, y_pred, \u001b[38;5;241m*\u001b[39m, labels\u001b[38;5;241m=\u001b[39m\u001b[38;5;28;01mNone\u001b[39;00m, sample_weight\u001b[38;5;241m=\u001b[39m\u001b[38;5;28;01mNone\u001b[39;00m, normalize\u001b[38;5;241m=\u001b[39m\u001b[38;5;28;01mNone\u001b[39;00m\n\u001b[1;32m    243\u001b[0m ):\n\u001b[1;32m    244\u001b[0m \u001b[38;5;250m    \u001b[39m\u001b[38;5;124;03m\"\"\"Compute confusion matrix to evaluate the accuracy of a classification.\u001b[39;00m\n\u001b[1;32m    245\u001b[0m \n\u001b[1;32m    246\u001b[0m \u001b[38;5;124;03m    By definition a confusion matrix :math:`C` is such that :math:`C_{i, j}`\u001b[39;00m\n\u001b[0;32m   (...)\u001b[0m\n\u001b[1;32m    324\u001b[0m \u001b[38;5;124;03m    (0, 2, 1, 1)\u001b[39;00m\n\u001b[1;32m    325\u001b[0m \u001b[38;5;124;03m    \"\"\"\u001b[39;00m\n\u001b[0;32m--> 326\u001b[0m     y_type, y_true, y_pred \u001b[38;5;241m=\u001b[39m \u001b[43m_check_targets\u001b[49m\u001b[43m(\u001b[49m\u001b[43my_true\u001b[49m\u001b[43m,\u001b[49m\u001b[43m \u001b[49m\u001b[43my_pred\u001b[49m\u001b[43m)\u001b[49m\n\u001b[1;32m    327\u001b[0m     \u001b[38;5;28;01mif\u001b[39;00m y_type \u001b[38;5;129;01mnot\u001b[39;00m \u001b[38;5;129;01min\u001b[39;00m (\u001b[38;5;124m\"\u001b[39m\u001b[38;5;124mbinary\u001b[39m\u001b[38;5;124m\"\u001b[39m, \u001b[38;5;124m\"\u001b[39m\u001b[38;5;124mmulticlass\u001b[39m\u001b[38;5;124m\"\u001b[39m):\n\u001b[1;32m    328\u001b[0m         \u001b[38;5;28;01mraise\u001b[39;00m \u001b[38;5;167;01mValueError\u001b[39;00m(\u001b[38;5;124m\"\u001b[39m\u001b[38;5;132;01m%s\u001b[39;00m\u001b[38;5;124m is not supported\u001b[39m\u001b[38;5;124m\"\u001b[39m \u001b[38;5;241m%\u001b[39m y_type)\n",
      "File \u001b[0;32m~/anaconda3/envs/ler/lib/python3.10/site-packages/sklearn/metrics/_classification.py:104\u001b[0m, in \u001b[0;36m_check_targets\u001b[0;34m(y_true, y_pred)\u001b[0m\n\u001b[1;32m    102\u001b[0m \u001b[38;5;66;03m# No metrics support \"multiclass-multioutput\" format\u001b[39;00m\n\u001b[1;32m    103\u001b[0m \u001b[38;5;28;01mif\u001b[39;00m y_type \u001b[38;5;129;01mnot\u001b[39;00m \u001b[38;5;129;01min\u001b[39;00m [\u001b[38;5;124m\"\u001b[39m\u001b[38;5;124mbinary\u001b[39m\u001b[38;5;124m\"\u001b[39m, \u001b[38;5;124m\"\u001b[39m\u001b[38;5;124mmulticlass\u001b[39m\u001b[38;5;124m\"\u001b[39m, \u001b[38;5;124m\"\u001b[39m\u001b[38;5;124mmultilabel-indicator\u001b[39m\u001b[38;5;124m\"\u001b[39m]:\n\u001b[0;32m--> 104\u001b[0m     \u001b[38;5;28;01mraise\u001b[39;00m \u001b[38;5;167;01mValueError\u001b[39;00m(\u001b[38;5;124m\"\u001b[39m\u001b[38;5;132;01m{0}\u001b[39;00m\u001b[38;5;124m is not supported\u001b[39m\u001b[38;5;124m\"\u001b[39m\u001b[38;5;241m.\u001b[39mformat(y_type))\n\u001b[1;32m    106\u001b[0m \u001b[38;5;28;01mif\u001b[39;00m y_type \u001b[38;5;129;01min\u001b[39;00m [\u001b[38;5;124m\"\u001b[39m\u001b[38;5;124mbinary\u001b[39m\u001b[38;5;124m\"\u001b[39m, \u001b[38;5;124m\"\u001b[39m\u001b[38;5;124mmulticlass\u001b[39m\u001b[38;5;124m\"\u001b[39m]:\n\u001b[1;32m    107\u001b[0m     y_true \u001b[38;5;241m=\u001b[39m column_or_1d(y_true)\n",
      "\u001b[0;31mValueError\u001b[0m: continuous is not supported"
     ]
    }
   ],
   "source": [
    "from sklearn.metrics import confusion_matrix, accuracy_score\n",
    "cm = confusion_matrix(y_test, y_pred)\n",
    "print(cm)\n",
    "accuracy_score(y_test, y_pred)"
   ]
  },
  {
   "cell_type": "code",
   "execution_count": null,
   "metadata": {},
   "outputs": [],
   "source": []
  }
 ],
 "metadata": {
  "kernelspec": {
   "display_name": "ler",
   "language": "python",
   "name": "ler"
  },
  "language_info": {
   "codemirror_mode": {
    "name": "ipython",
    "version": 3
   },
   "file_extension": ".py",
   "mimetype": "text/x-python",
   "name": "python",
   "nbconvert_exporter": "python",
   "pygments_lexer": "ipython3",
   "version": "3.10.12"
  }
 },
 "nbformat": 4,
 "nbformat_minor": 2
}
