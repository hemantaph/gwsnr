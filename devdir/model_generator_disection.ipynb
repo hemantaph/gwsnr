{
 "cells": [
  {
   "cell_type": "code",
   "execution_count": 1,
   "metadata": {},
   "outputs": [
    {
     "name": "stdout",
     "output_type": "stream",
     "text": [
      "Setting multiprocessing start method to 'fork'\n"
     ]
    }
   ],
   "source": [
    "import os\n",
    "import numpy as np\n",
    "import matplotlib.pyplot as plt\n",
    "import contextlib\n",
    "from ler.rates import LeR\n",
    "from gwsnr import GWSNR\n",
    "from ler.utils import append_json, get_param_from_json"
   ]
  },
  {
   "cell_type": "code",
   "execution_count": 2,
   "metadata": {},
   "outputs": [],
   "source": [
    "class TrainingDataGenerator():\n",
    "\n",
    "    def __init__(self,\n",
    "        npool=4,\n",
    "        z_min=0.0,\n",
    "        z_max=5.0,\n",
    "        verbose=True,\n",
    "        output_jsonfile=\"L1H1V1_IMRPhenomXPHM.json\",\n",
    "        **kwargs,  # ler and gwsnr arguments\n",
    "    ):\n",
    "\n",
    "        self.npool = npool\n",
    "        self.z_min = z_min\n",
    "        self.z_max = z_max\n",
    "        self.verbose = verbose\n",
    "\n",
    "        self.ler_init_args = dict(\n",
    "            event_type=\"BBH\",\n",
    "            cosmology=None,\n",
    "            ler_directory=\"./ler_data\",\n",
    "            # gwsnr args\n",
    "            mtot_min=2.0,\n",
    "            mtot_max=200,\n",
    "            ratio_min=0.1,\n",
    "            ratio_max=1.0,\n",
    "            mtot_resolution=500,\n",
    "            ratio_resolution=50,\n",
    "            sampling_frequency=2048.0,\n",
    "            waveform_approximant=\"IMRPhenomXPHM\",\n",
    "            minimum_frequency=20.0,\n",
    "            snr_type=\"inner_product\",\n",
    "            psds=None,\n",
    "            ifos=None,\n",
    "            interpolator_dir=\"./interpolator_pickle\",\n",
    "            create_new_interpolator=False,\n",
    "            gwsnr_verbose=False,\n",
    "            multiprocessing_verbose=True,\n",
    "            mtot_cut=True,\n",
    "        )\n",
    "        self.ler_init_args.update(kwargs)\n",
    "\n",
    "        self.json_path = f\"{self.ler_init_args['ler_directory']}/{output_jsonfile}\"\n",
    "\n",
    "        # recalculate snr within the snr_range.\n",
    "        # find snr in astrophysical range\n",
    "        # save it\n",
    "\n",
    "    def snr_recalculation(self):\n",
    "        \n",
    "        args = self.ler_init_args.copy()\n",
    "\n",
    "        # gwsnr initialization\n",
    "        gwsnr = GWSNR(\n",
    "            npool=self.npool,\n",
    "            mtot_min=args['mtot_min'],\n",
    "            mtot_max=args['mtot_max'],\n",
    "            ratio_min=args['ratio_min'],\n",
    "            ratio_max=args['ratio_max'],\n",
    "            mtot_resolution=args['mtot_resolution'],\n",
    "            ratio_resolution=args['ratio_resolution'],\n",
    "            sampling_frequency=args['sampling_frequency'],\n",
    "            waveform_approximant=args['waveform_approximant'],\n",
    "            minimum_frequency=args['minimum_frequency'],\n",
    "            snr_type='inner_product', \n",
    "            psds=args['psds'],\n",
    "            ifos=args['ifos'],\n",
    "            interpolator_dir=args['interpolator_dir'],\n",
    "            create_new_interpolator=args['create_new_interpolator'],\n",
    "            gwsnr_verbose=args['gwsnr_verbose'],\n",
    "            multiprocessing_verbose=args['multiprocessing_verbose'],\n",
    "            mtot_cut=args['mtot_cut'],\n",
    "        )\n",
    "\n",
    "        # get the spinless snr\n",
    "        print(f'getting the GW parameters with spinless snr from {self.json_path}')\n",
    "        unlensed_params = get_param_from_json(self.json_path)\n",
    "        print('Recalculating SNRs using inner_product method')\n",
    "        snrs = gwsnr.snr(gw_param_dict=unlensed_params)\n",
    "        unlensed_params.update(snrs)\n",
    "\n",
    "        # save the parameters\n",
    "        append_json(self.json_path, unlensed_params, replace=True);\n",
    "        print(f\"json file saved at: {self.json_path}\\n\")\n",
    "\n",
    "    def gw_parameters_generator(self, size, batch_size, spinless=True,trim_to_size=False, verbose=True, replace=False, data_distribution_range = [0, 2, 4, 6, 8, 10, 12, 14, 16, 100]):\n",
    "\n",
    "        args = self.ler_init_args.copy()\n",
    "\n",
    "        # ler initialization\n",
    "        ler = LeR(\n",
    "            npool=self.npool,\n",
    "            z_min=self.z_min,\n",
    "            z_max=self.z_max,  # becareful with this value\n",
    "            verbose=self.verbose,\n",
    "            spin_zero=False,\n",
    "            spin_precession=True,\n",
    "            # ler\n",
    "            event_type=args['event_type'],\n",
    "            cosmology=args['cosmology'],\n",
    "            ler_directory=args['ler_directory'],\n",
    "            # gwsnr args\n",
    "            mtot_min=args['mtot_min'],\n",
    "            mtot_max=args['mtot_max'],\n",
    "            ratio_min=args['ratio_min'],\n",
    "            ratio_max=args['ratio_max'],\n",
    "            mtot_resolution=args['mtot_resolution'],\n",
    "            ratio_resolution=args['ratio_resolution'],\n",
    "            sampling_frequency=args['sampling_frequency'],\n",
    "            waveform_approximant=args['waveform_approximant'],\n",
    "            minimum_frequency=args['minimum_frequency'],\n",
    "            snr_type='interpolation',\n",
    "            psds=args['psds'],\n",
    "            ifos=args['ifos'],\n",
    "            interpolator_dir=args['interpolator_dir'],\n",
    "            create_new_interpolator=args['create_new_interpolator'],\n",
    "            gwsnr_verbose=args['gwsnr_verbose'],\n",
    "            multiprocessing_verbose=args['multiprocessing_verbose'],\n",
    "            mtot_cut=args['mtot_cut'],\n",
    "        )\n",
    "        ler.batch_size = batch_size\n",
    "\n",
    "        gwsnr = GWSNR(\n",
    "            npool=self.npool,\n",
    "            mtot_min=args['mtot_min'],\n",
    "            mtot_max=args['mtot_max'],\n",
    "            ratio_min=args['ratio_min'],\n",
    "            ratio_max=args['ratio_max'],\n",
    "            mtot_resolution=args['mtot_resolution'],\n",
    "            ratio_resolution=args['ratio_resolution'],\n",
    "            sampling_frequency=args['sampling_frequency'],\n",
    "            waveform_approximant=args['waveform_approximant'],\n",
    "            minimum_frequency=args['minimum_frequency'],\n",
    "            snr_type='inner_product', \n",
    "            psds=args['psds'],\n",
    "            ifos=args['ifos'],\n",
    "            interpolator_dir=args['interpolator_dir'],\n",
    "            create_new_interpolator=args['create_new_interpolator'],\n",
    "            gwsnr_verbose=args['gwsnr_verbose'],\n",
    "            multiprocessing_verbose=args['multiprocessing_verbose'],\n",
    "            mtot_cut=args['mtot_cut'],\n",
    "        )\n",
    "\n",
    "        # path to save parameters\n",
    "        json_path = self.json_path\n",
    "        if replace:\n",
    "            if os.path.exists(json_path):\n",
    "                os.remove(json_path)\n",
    "            len_final = 0\n",
    "        else:\n",
    "            unlensed_param = get_param_from_json(json_path)\n",
    "            len_final = len(unlensed_param['optimal_snr_net'])\n",
    "            print(f'current size of the json file: {len_final}\\n')\n",
    "\n",
    "        print(f'total event to collect: {size}\\n')\n",
    "        while len_final<size:\n",
    "            with contextlib.redirect_stdout(None):\n",
    "                unlensed_param = ler.unlensed_cbc_statistics(size=ler.batch_size, resume=False)\n",
    "\n",
    "            if data_distribution_range is not None:\n",
    "                unlensed_param_ = self.helper_data_distribution(unlensed_param, data_distribution_range)\n",
    "                #print(f'spinless snr :{unlensed_param_[\"optimal_snr_net\"]}')  \n",
    "\n",
    "                snrs = gwsnr.snr(gw_param_dict=unlensed_param_)\n",
    "                unlensed_param_['optimal_snr_net'] = snrs['optimal_snr_net']\n",
    "                #print(f'inner product snr :{unlensed_param_[\"optimal_snr_net\"]}')\n",
    "\n",
    "                unlensed_param = self.helper_data_distribution(unlensed_param_, data_distribution_range)\n",
    "                #print(f'inner product snr resampled:{unlensed_param[\"optimal_snr_net\"]}')\n",
    "\n",
    "            # save the parameters\n",
    "            append_json(json_path, unlensed_param, replace=False);\n",
    "\n",
    "            # print(f\"Collected number of events: {len_}\")\n",
    "            len_final += len(unlensed_param['optimal_snr_net'])\n",
    "            if verbose:\n",
    "                print(f\"Collected number of events: {len_final}\")\n",
    "\n",
    "        if trim_to_size:\n",
    "            unlensed_param = get_param_from_json(json_path)\n",
    "            for key, value in unlensed_param.items():\n",
    "                unlensed_param[key] = value[:size]\n",
    "            append_json(json_path, unlensed_param, replace=True);\n",
    "            len_final = len(unlensed_param['optimal_snr_net'])\n",
    "\n",
    "        print(f\"final size: {len_final}\\n\")\n",
    "        print(f\"json file saved at: {json_path}\\n\")\n",
    "\n",
    "    def helper_data_distribution(self, unlensed_param, data_distribution_range):\n",
    "    # optimal SNR \n",
    "        snr = np.array(unlensed_param['optimal_snr_net'])\n",
    "\n",
    "        idx_arr = []\n",
    "        snr_range = np.array(data_distribution_range)\n",
    "        len_ = len(snr_range) \n",
    "        len_arr = []  # size of len_arr is len_-1  \n",
    "        for j in range(len_-1):\n",
    "            idx_ = np.argwhere((snr>=snr_range[j]) & (snr<snr_range[j+1])).flatten()\n",
    "            idx_arr.append(idx_)\n",
    "            len_arr.append(len(idx_))\n",
    "\n",
    "        idx_arr = np.array(idx_arr, dtype=object)\n",
    "        len_ref = min(len_arr)\n",
    "        unlensed_param_final = {}\n",
    "\n",
    "        for key, value in unlensed_param.items():\n",
    "            for j, len_ in enumerate(len_arr):  # loop over snr range\n",
    "                idx_buffer = np.random.choice(idx_arr[j], len_ref, replace=False)\n",
    "                buffer_ = value[idx_buffer]\n",
    "\n",
    "                if j==0:\n",
    "                    unlensed_param_final[key] = buffer_\n",
    "                else:\n",
    "                    unlensed_param_final[key] = np.concatenate([unlensed_param_final[key], buffer_])\n",
    "\n",
    "        return unlensed_param_final\n",
    "\n",
    "    def combine_dicts(self, \n",
    "        path_list, \n",
    "        detector,\n",
    "        parameter_list=['mass_1', 'mass_2', 'luminosity_distance', 'theta_jn', 'psi', 'geocent_time', 'ra', 'dec', 'a_1', 'a_2', 'tilt_1', 'tilt_2'],\n",
    "        output_jsonfile=\"combined_data.json\",\n",
    "    ):\n",
    "\n",
    "        parameter_list += [detector]\n",
    "        \n",
    "        combined_dict = {}\n",
    "\n",
    "        for path in path_list:\n",
    "            data = get_param_from_json(path)\n",
    "            for key, value in data.items():\n",
    "                if key in parameter_list:\n",
    "                    if key in combined_dict:\n",
    "                        combined_dict[key] = np.concatenate([combined_dict[key], value])\n",
    "                    else:\n",
    "                        combined_dict[key] = value\n",
    "\n",
    "        json_path = f\"{self.ler_init_args['ler_directory']}/{output_jsonfile}\"\n",
    "        append_json(json_path, combined_dict, replace=True);\n",
    "\n",
    "    def delete_json_file(self, path_list):\n",
    "        for path in path_list:\n",
    "            if os.path.exists(path):\n",
    "                os.remove(path)"
   ]
  },
  {
   "cell_type": "code",
   "execution_count": 3,
   "metadata": {},
   "outputs": [],
   "source": [
    "mg = TrainingDataGenerator(\n",
    "    verbose=False, \n",
    "    ifos=['L1'], \n",
    "    output_jsonfile=\"L1_IMRPhenomXPHM_1.json\",\n",
    ")"
   ]
  },
  {
   "cell_type": "code",
   "execution_count": 5,
   "metadata": {},
   "outputs": [],
   "source": [
    "size = 5\n",
    "batch_size = 100000\n",
    "spinless=True\n",
    "trim_to_size=False\n",
    "verbose=True\n",
    "replace=False\n",
    "data_distribution_range = [0, 2, 4, 6, 8, 10, 12, 14, 16, 100]\n",
    "\n",
    "args = mg.ler_init_args.copy()\n",
    "\n",
    "# ler initialization\n",
    "ler = LeR(\n",
    "    npool=mg.npool,\n",
    "    z_min=mg.z_min,\n",
    "    z_max=mg.z_max,  # becareful with this value\n",
    "    verbose=mg.verbose,\n",
    "    spin_zero=False,\n",
    "    spin_precession=True,\n",
    "    # ler\n",
    "    event_type=args['event_type'],\n",
    "    cosmology=args['cosmology'],\n",
    "    ler_directory=args['ler_directory'],\n",
    "    # gwsnr args\n",
    "    mtot_min=args['mtot_min'],\n",
    "    mtot_max=args['mtot_max'],\n",
    "    ratio_min=args['ratio_min'],\n",
    "    ratio_max=args['ratio_max'],\n",
    "    mtot_resolution=args['mtot_resolution'],\n",
    "    ratio_resolution=args['ratio_resolution'],\n",
    "    sampling_frequency=args['sampling_frequency'],\n",
    "    waveform_approximant=args['waveform_approximant'],\n",
    "    minimum_frequency=args['minimum_frequency'],\n",
    "    snr_type='interpolation',\n",
    "    psds=args['psds'],\n",
    "    ifos=args['ifos'],\n",
    "    interpolator_dir=args['interpolator_dir'],\n",
    "    create_new_interpolator=args['create_new_interpolator'],\n",
    "    gwsnr_verbose=args['gwsnr_verbose'],\n",
    "    multiprocessing_verbose=args['multiprocessing_verbose'],\n",
    "    mtot_cut=args['mtot_cut'],\n",
    ")\n",
    "ler.batch_size = batch_size"
   ]
  },
  {
   "cell_type": "code",
   "execution_count": 7,
   "metadata": {},
   "outputs": [],
   "source": [
    "json_path = mg.json_path\n",
    "os.remove(json_path)"
   ]
  },
  {
   "cell_type": "code",
   "execution_count": 8,
   "metadata": {},
   "outputs": [],
   "source": [
    "with contextlib.redirect_stdout(None):\n",
    "    unlensed_param = ler.unlensed_cbc_statistics(size=ler.batch_size, resume=False)"
   ]
  },
  {
   "cell_type": "code",
   "execution_count": 11,
   "metadata": {},
   "outputs": [
    {
     "data": {
      "text/plain": [
       "(array([1.15875597, 0.96751973, 0.73100406, ..., 1.05818217,\n",
       "        0.18407855, 0.65020764]),\n",
       " array([1.15875597, 0.96751973, 0.73100406, ..., 1.05818217,\n",
       "        0.18407855, 0.65020764]))"
      ]
     },
     "execution_count": 11,
     "metadata": {},
     "output_type": "execute_result"
    }
   ],
   "source": [
    "np.array(unlensed_param['optimal_snr_net']), np.array(unlensed_param['L1'])"
   ]
  },
  {
   "cell_type": "code",
   "execution_count": 12,
   "metadata": {},
   "outputs": [],
   "source": [
    "snr = np.array(unlensed_param['optimal_snr_net'])\n",
    "\n",
    "idx_arr = []\n",
    "snr_range = np.array(data_distribution_range)\n",
    "len_ = len(snr_range) \n",
    "len_arr = []  # size of len_arr is len_-1  \n",
    "for j in range(len_-1):\n",
    "    idx_ = np.argwhere((snr>=snr_range[j]) & (snr<snr_range[j+1])).flatten()\n",
    "    idx_arr.append(idx_)\n",
    "    len_arr.append(len(idx_))\n",
    "    \n",
    "idx_arr = np.array(idx_arr, dtype=object)\n",
    "len_ref = min(len_arr)"
   ]
  },
  {
   "cell_type": "code",
   "execution_count": 15,
   "metadata": {},
   "outputs": [
    {
     "data": {
      "text/plain": [
       "[93718, 5247, 716, 180, 78, 24, 13, 12, 12]"
      ]
     },
     "execution_count": 15,
     "metadata": {},
     "output_type": "execute_result"
    }
   ],
   "source": [
    "len_arr"
   ]
  },
  {
   "cell_type": "code",
   "execution_count": 16,
   "metadata": {},
   "outputs": [],
   "source": [
    "unlensed_param_final = {}\n",
    "for key, value in unlensed_param.items():\n",
    "    for j, len_ in enumerate(len_arr):  # loop over snr range\n",
    "        idx_buffer = np.random.choice(idx_arr[j], len_ref, replace=False)\n",
    "        buffer_ = value[idx_buffer]\n",
    "\n",
    "        if j==0:\n",
    "            unlensed_param_final[key] = buffer_\n",
    "        else:\n",
    "            unlensed_param_final[key] = np.concatenate([unlensed_param_final[key], buffer_])"
   ]
  },
  {
   "cell_type": "code",
   "execution_count": 20,
   "metadata": {},
   "outputs": [
    {
     "data": {
      "text/plain": [
       "array([0.55413689, 0.46795928, 1.74669297, 0.76307435,\n",
       "       0.19183647])"
      ]
     },
     "execution_count": 20,
     "metadata": {},
     "output_type": "execute_result"
    }
   ],
   "source": [
    "unlensed_param_final['optimal_snr_net'][:5]"
   ]
  },
  {
   "cell_type": "code",
   "execution_count": 25,
   "metadata": {},
   "outputs": [
    {
     "name": "stderr",
     "output_type": "stream",
     "text": [
      "100%|████████████████████████████████████████████████████████████| 107/107 [00:00<00:00, 294.11it/s]\n"
     ]
    },
    {
     "data": {
      "text/plain": [
       "array([0.39493652, 1.38641851, 0.22151475, 0.56420354,\n",
       "       0.22221154])"
      ]
     },
     "execution_count": 25,
     "metadata": {},
     "output_type": "execute_result"
    }
   ],
   "source": [
    "snrs = ler.snr_bilby(gw_param_dict=unlensed_param_final)\n",
    "snrs['optimal_snr_net'][:5]"
   ]
  },
  {
   "cell_type": "code",
   "execution_count": 28,
   "metadata": {},
   "outputs": [
    {
     "data": {
      "text/plain": [
       "array([0.39493652, 1.38641851, 0.22151475, 0.56420354,\n",
       "       0.22221154])"
      ]
     },
     "execution_count": 28,
     "metadata": {},
     "output_type": "execute_result"
    }
   ],
   "source": [
    "unlensed_param_final_1 = unlensed_param_final.copy()\n",
    "unlensed_param_final_1.update(snrs)\n",
    "unlensed_param_final_1['optimal_snr_net'][:5]"
   ]
  },
  {
   "cell_type": "code",
   "execution_count": null,
   "metadata": {},
   "outputs": [],
   "source": [
    "snr = np.array(unlensed_param_final_1['optimal_snr_net'])\n",
    "\n",
    "idx_arr = []\n",
    "snr_range = np.array(data_distribution_range)\n",
    "len_ = len(snr_range) \n",
    "len_arr = []  # size of len_arr is len_-1  \n",
    "for j in range(len_-1):\n",
    "    idx_ = np.argwhere((snr>=snr_range[j]) & (snr<snr_range[j+1])).flatten()\n",
    "    idx_arr.append(idx_)\n",
    "    len_arr.append(len(idx_))\n",
    "    \n",
    "idx_arr = np.array(idx_arr, dtype=object)\n",
    "len_ref = min(len_arr)\n",
    "\n",
    "unlensed_param_final_2 = {}\n",
    "# for key, value in unlensed_param_final_1.items():\n",
    "#     for j, len_ in enumerate(len_arr):  # loop over snr range\n",
    "#         idx_buffer = np.random.choice(idx_arr[j], len_ref, replace=False)\n",
    "#         buffer_ = value[idx_buffer]\n",
    "\n",
    "#         if j==0:\n",
    "#             unlensed_param_final_2[key] = buffer_\n",
    "#         else:\n",
    "#             unlensed_param_final_2[key] = np.concatenate([unlensed_param_final_2[key], buffer_])"
   ]
  },
  {
   "cell_type": "code",
   "execution_count": null,
   "metadata": {},
   "outputs": [],
   "source": [
    "for j, idx_arr_ in enumerate(idx_arr):\n",
    "    idx_buffer = np.random.choice(idx_arr_, len_ref, replace=False)\n",
    "    for key, value in unlensed_param_final_1.items():\n",
    "        if j==0:\n",
    "            unlensed_param_final_2[key] = value[idx_buffer]\n",
    "        else:\n",
    "            unlensed_param_final_2[key] = np.concatenate([unlensed_param_final_2[key], value[idx_buffer]])"
   ]
  },
  {
   "cell_type": "code",
   "execution_count": null,
   "metadata": {},
   "outputs": [],
   "source": []
  },
  {
   "cell_type": "code",
   "execution_count": 33,
   "metadata": {},
   "outputs": [
    {
     "data": {
      "text/plain": [
       "array([0.78906626, 1.98614363, 0.07591927, 0.22221154,\n",
       "       3.23720039])"
      ]
     },
     "execution_count": 33,
     "metadata": {},
     "output_type": "execute_result"
    }
   ],
   "source": [
    "unlensed_param_final_2['optimal_snr_net'][:5]"
   ]
  },
  {
   "cell_type": "code",
   "execution_count": 34,
   "metadata": {},
   "outputs": [
    {
     "name": "stderr",
     "output_type": "stream",
     "text": [
      "100%|██████████████████████████████████████████████████████████████| 36/36 [00:00<00:00, 152.63it/s]\n"
     ]
    },
    {
     "data": {
      "text/plain": [
       "array([1.91069509, 3.51437789, 0.71882275, 0.24882254,\n",
       "       0.86881772])"
      ]
     },
     "execution_count": 34,
     "metadata": {},
     "output_type": "execute_result"
    }
   ],
   "source": [
    "snrs_test = ler.snr_bilby(gw_param_dict=unlensed_param_final_2)\n",
    "snrs_test['optimal_snr_net'][:5]"
   ]
  },
  {
   "cell_type": "code",
   "execution_count": null,
   "metadata": {},
   "outputs": [],
   "source": []
  },
  {
   "cell_type": "code",
   "execution_count": null,
   "metadata": {},
   "outputs": [],
   "source": []
  },
  {
   "cell_type": "code",
   "execution_count": null,
   "metadata": {},
   "outputs": [],
   "source": []
  },
  {
   "cell_type": "code",
   "execution_count": 28,
   "metadata": {},
   "outputs": [
    {
     "name": "stdout",
     "output_type": "stream",
     "text": [
      "Intel processor has trouble allocating memory when the data is huge. So, by default for IMRPhenomXPHM, duration_max = 64.0. Otherwise, set to some max value like duration_max = 600.0 (10 mins)\n",
      "total event to collect: 5\n",
      "\n",
      "solving SNR with inner product\n"
     ]
    },
    {
     "name": "stderr",
     "output_type": "stream",
     "text": [
      "100%|████████████████████████████████████████████████████████████| 126/126 [00:00<00:00, 341.80it/s]\n"
     ]
    },
    {
     "name": "stdout",
     "output_type": "stream",
     "text": [
      "Collected number of events: 9\n",
      "final size: 9\n",
      "\n",
      "json file saved at: ./ler_data/L1_IMRPhenomXPHM_1.json\n",
      "\n"
     ]
    }
   ],
   "source": [
    "mg = TrainingDataGenerator(\n",
    "    verbose=False, \n",
    "    ifos=['L1'], \n",
    "    output_jsonfile=\"L1_IMRPhenomXPHM_1.json\",\n",
    ")\n",
    "mg.gw_parameters_generator(size=5, batch_size=200000, spinless=True,trim_to_size=False, verbose=True, data_distribution_range = [0., 2., 4., 6., 8., 10., 12., 14., 16., 100.], replace=True)\n",
    "# mg.snr_recalculation();"
   ]
  },
  {
   "cell_type": "code",
   "execution_count": 29,
   "metadata": {},
   "outputs": [
    {
     "data": {
      "text/plain": [
       "array([ 4.9843872 ,  5.80797364, 16.58241323,  7.58600327,\n",
       "       14.17423978,  5.60001593, 17.51488846,  8.99315381,\n",
       "       10.86477994])"
      ]
     },
     "execution_count": 29,
     "metadata": {},
     "output_type": "execute_result"
    }
   ],
   "source": [
    "test1 = get_param_from_json(\"ler_data/L1_IMRPhenomXPHM_1.json\")\n",
    "test1['L1']"
   ]
  },
  {
   "cell_type": "code",
   "execution_count": 30,
   "metadata": {},
   "outputs": [
    {
     "data": {
      "text/plain": [
       "array([ 0.96105075,  2.05824634,  5.60258136,  7.96500186,\n",
       "        9.07968089, 11.77710788, 13.16624714, 15.77174165,\n",
       "       63.99038263])"
      ]
     },
     "execution_count": 30,
     "metadata": {},
     "output_type": "execute_result"
    }
   ],
   "source": [
    "test1['optimal_snr_net']"
   ]
  },
  {
   "cell_type": "code",
   "execution_count": 36,
   "metadata": {},
   "outputs": [
    {
     "name": "stdout",
     "output_type": "stream",
     "text": [
      "Intel processor has trouble allocating memory when the data is huge. So, by default for IMRPhenomXPHM, duration_max = 64.0. Otherwise, set to some max value like duration_max = 600.0 (10 mins)\n",
      "solving SNR with inner product\n"
     ]
    },
    {
     "name": "stderr",
     "output_type": "stream",
     "text": [
      "100%|█████████████████████████████████████████████████████████████████| 9/9 [00:00<00:00, 44.23it/s]\n"
     ]
    },
    {
     "data": {
      "text/plain": [
       "array([ 1.38529498,  5.66772634, 14.3207243 ,  2.66654595,\n",
       "       10.28865623, 11.77710788, 13.16624714,  7.03926581,\n",
       "       21.64688701])"
      ]
     },
     "execution_count": 36,
     "metadata": {},
     "output_type": "execute_result"
    }
   ],
   "source": [
    "gwsnr = GWSNR(npool=6, ifos=['L1'], snr_type='inner_product', gwsnr_verbose=False, waveform_approximant='IMRPhenomXPHM')\n",
    "test2 = gwsnr.snr(gw_param_dict=test1)\n",
    "test2['optimal_snr_net']"
   ]
  },
  {
   "cell_type": "code",
   "execution_count": 32,
   "metadata": {},
   "outputs": [
    {
     "data": {
      "text/plain": [
       "array([ 1.38529498,  5.66772634, 14.3207243 ,  2.66654595,\n",
       "       10.28865623, 11.77710788, 13.16624714,  7.03926581,\n",
       "       21.64688701])"
      ]
     },
     "execution_count": 32,
     "metadata": {},
     "output_type": "execute_result"
    }
   ],
   "source": [
    "test2['L1']"
   ]
  },
  {
   "cell_type": "code",
   "execution_count": 166,
   "metadata": {},
   "outputs": [
    {
     "data": {
      "text/plain": [
       "(dict_keys(['zs', 'geocent_time', 'ra', 'dec', 'phase', 'psi', 'theta_jn', 'a_1', 'a_2', 'tilt_1', 'tilt_2', 'phi_12', 'phi_jl', 'luminosity_distance', 'mass_1_source', 'mass_2_source', 'mass_1', 'mass_2', 'L1', 'optimal_snr_net']),\n",
       " dict_keys(['L1', 'optimal_snr_net']))"
      ]
     },
     "execution_count": 166,
     "metadata": {},
     "output_type": "execute_result"
    }
   ],
   "source": [
    "test1.keys(), test2.keys()"
   ]
  },
  {
   "cell_type": "code",
   "execution_count": null,
   "metadata": {},
   "outputs": [],
   "source": []
  },
  {
   "cell_type": "code",
   "execution_count": null,
   "metadata": {},
   "outputs": [],
   "source": []
  },
  {
   "cell_type": "code",
   "execution_count": 156,
   "metadata": {},
   "outputs": [
    {
     "data": {
      "text/plain": [
       "array([ 1.24436489,  1.5831693 ,  2.45158835, ..., 23.60688699,\n",
       "       24.48652324, 22.77524959])"
      ]
     },
     "execution_count": 156,
     "metadata": {},
     "output_type": "execute_result"
    }
   ],
   "source": [
    "test['L1']"
   ]
  },
  {
   "cell_type": "code",
   "execution_count": 159,
   "metadata": {},
   "outputs": [],
   "source": [
    "test2 = get_param_from_json(\"ler_data/L1_IMRPhenomXPHM_1.json\")"
   ]
  },
  {
   "cell_type": "code",
   "execution_count": 161,
   "metadata": {},
   "outputs": [
    {
     "data": {
      "text/plain": [
       "array([ 2.75690654,  5.24783857,  3.90793817, ..., 26.11107896,\n",
       "       39.67790435,  7.10242841])"
      ]
     },
     "execution_count": 161,
     "metadata": {},
     "output_type": "execute_result"
    }
   ],
   "source": [
    "test2['L1']"
   ]
  },
  {
   "cell_type": "code",
   "execution_count": 158,
   "metadata": {},
   "outputs": [
    {
     "name": "stdout",
     "output_type": "stream",
     "text": [
      "Intel processor has trouble allocating memory when the data is huge. So, by default for IMRPhenomXPHM, duration_max = 64.0. Otherwise, set to some max value like duration_max = 600.0 (10 mins)\n",
      "getting the GW parameters with spinless snr from ./ler_data/L1_IMRPhenomXPHM_1.json\n",
      "Recalculating SNRs using inner_product method\n",
      "solving SNR with inner product\n"
     ]
    },
    {
     "name": "stderr",
     "output_type": "stream",
     "text": [
      "100%|██████████████████████████████████████████████████████████| 1024/1024 [00:01<00:00, 807.62it/s]\n"
     ]
    },
    {
     "name": "stdout",
     "output_type": "stream",
     "text": [
      "json file saved at: ./ler_data/L1_IMRPhenomXPHM_1.json\n",
      "\n"
     ]
    }
   ],
   "source": [
    "mg = TrainingDataGenerator(\n",
    "    npool=8,\n",
    "    verbose=False, \n",
    "    ifos=['L1'], \n",
    "    output_jsonfile=\"L1_IMRPhenomXPHM_1.json\",\n",
    ")\n",
    "mg.snr_recalculation();"
   ]
  },
  {
   "cell_type": "code",
   "execution_count": null,
   "metadata": {},
   "outputs": [],
   "source": []
  },
  {
   "cell_type": "code",
   "execution_count": null,
   "metadata": {},
   "outputs": [],
   "source": []
  },
  {
   "cell_type": "code",
   "execution_count": 144,
   "metadata": {},
   "outputs": [
    {
     "name": "stdout",
     "output_type": "stream",
     "text": [
      "current size of the json file: 1026\n",
      "\n",
      "total event to collect: 1000\n",
      "\n",
      "final size: 1026\n",
      "\n",
      "json file saved at: ./ler_data/L1H1V1_IMRPhenomXPHM.json\n",
      "\n",
      "Intel processor has trouble allocating memory when the data is huge. So, by default for IMRPhenomXPHM, duration_max = 64.0. Otherwise, set to some max value like duration_max = 600.0 (10 mins)\n",
      "getting the GW parameters with spinless snr from ./ler_data/L1H1V1_IMRPhenomXPHM.json\n",
      "Recalculating SNRs using inner_product method\n",
      "solving SNR with inner product\n"
     ]
    },
    {
     "name": "stderr",
     "output_type": "stream",
     "text": [
      "100%|██████████████████████████████████████████████████████████| 1024/1024 [00:01<00:00, 592.07it/s]\n"
     ]
    },
    {
     "name": "stdout",
     "output_type": "stream",
     "text": [
      "json file saved at: ./ler_data/L1H1V1_IMRPhenomXPHM.json\n",
      "\n"
     ]
    }
   ],
   "source": [
    "mg = TrainingDataGenerator(\n",
    "    verbose=False, \n",
    "    ifos=['L1','H1','V1'], \n",
    "    output_jsonfile=\"L1H1V1_IMRPhenomXPHM.json\",\n",
    "    data_distribution_range = [0., 2., 4., 6., 8., 10., 12., 14., 16., 100.],\n",
    "    )\n",
    "mg.gw_parameters_generator(size=1000, batch_size=10000,spinless=True,trim_to_size=False, verbose=False)\n",
    "mg.snr_recalculation();"
   ]
  },
  {
   "cell_type": "code",
   "execution_count": 105,
   "metadata": {},
   "outputs": [
    {
     "name": "stdout",
     "output_type": "stream",
     "text": [
      "total event to collect: 1000\n",
      "\n",
      "Collected number of events: 10000\n",
      "final size: 1000\n",
      "\n",
      "json file saved at: ./ler_data/L1H1V1_IMRPhenomXPHM_astro.json\n",
      "\n",
      "Intel processor has trouble allocating memory when the data is huge. So, by default for IMRPhenomXPHM, duration_max = 64.0. Otherwise, set to some max value like duration_max = 600.0 (10 mins)\n",
      "getting the GW parameters with spinless snr from ./ler_data/L1H1V1_IMRPhenomXPHM_astro.json\n",
      "Recalculating SNRs using inner_product method\n",
      "solving SNR with inner product\n"
     ]
    },
    {
     "name": "stderr",
     "output_type": "stream",
     "text": [
      "100%|████████████████████████████████████████████████████████████| 942/942 [00:01<00:00, 487.06it/s]"
     ]
    },
    {
     "name": "stdout",
     "output_type": "stream",
     "text": [
      "json file saved at: ./ler_data/L1H1V1_IMRPhenomXPHM_astro.json\n",
      "\n"
     ]
    },
    {
     "name": "stderr",
     "output_type": "stream",
     "text": [
      "\n"
     ]
    }
   ],
   "source": [
    "mg = TrainingDataGenerator(\n",
    "    verbose=False, \n",
    "    ifos=['L1','H1','V1'], \n",
    "    output_jsonfile=\"L1H1V1_IMRPhenomXPHM_astro.json\",\n",
    "    data_distribution_range = None,\n",
    "    )\n",
    "mg.gw_parameters_generator(size=1000, batch_size=10000,spinless=True,trim_to_size=True)\n",
    "mg.snr_recalculation();"
   ]
  },
  {
   "cell_type": "code",
   "execution_count": 145,
   "metadata": {},
   "outputs": [],
   "source": [
    "mg.combine_dicts(\n",
    "    path_list=[\n",
    "        \"ler_data/L1_IMRPhenomXPHM_1.json\",\n",
    "        \"ler_data/L1_IMRPhenomXPHM_2.json\",\n",
    "        \"ler_data/L1H1V1_IMRPhenomXPHM.json\",\n",
    "        \"ler_data/L1H1V1_IMRPhenomXPHM_astro.json\",\n",
    "    ],\n",
    "    detector='L1',\n",
    "    output_jsonfile=\"L1H1V1_IMRPhenomXPHM_combined.json\",\n",
    ")"
   ]
  },
  {
   "cell_type": "code",
   "execution_count": 124,
   "metadata": {},
   "outputs": [
    {
     "name": "stdout",
     "output_type": "stream",
     "text": [
      "112\n",
      "112\n",
      "112\n"
     ]
    }
   ],
   "source": [
    "# 0, 2, 4, 6, 8, 10, 12, 14, 16, 100\n",
    "print(np.sum((data['L1']>2)&(data['L1']<4)))\n",
    "print(np.sum((data['L1']>14)&(data['L1']<16)))\n",
    "print(np.sum((data['L1']>16)&(data['L1']<100)))"
   ]
  },
  {
   "cell_type": "code",
   "execution_count": 149,
   "metadata": {},
   "outputs": [
    {
     "data": {
      "image/png": "[encoded data removed]",
      "text/plain": [
       "<Figure size 640x480 with 1 Axes>"
      ]
     },
     "metadata": {},
     "output_type": "display_data"
    }
   ],
   "source": [
    "#data = get_param_from_json(\"ler_data/L1H1V1_IMRPhenomXPHM_combined.json\")\n",
    "data = get_param_from_json(\"ler_data/L1_IMRPhenomXPHM_2.json\")\n",
    "\n",
    "# plot 'L1' SNR\n",
    "plt.hist(data['L1'], bins=50, alpha=0.5, label='L1')\n",
    "plt.xlim(0, 16)\n",
    "plt.legend()\n",
    "plt.show()"
   ]
  },
  {
   "cell_type": "code",
   "execution_count": 122,
   "metadata": {},
   "outputs": [
    {
     "data": {
      "image/png": "[encoded data removed]",
      "text/plain": [
       "<Figure size 640x480 with 1 Axes>"
      ]
     },
     "metadata": {},
     "output_type": "display_data"
    }
   ],
   "source": [
    "#data = get_param_from_json(\"ler_data/L1H1V1_IMRPhenomXPHM_combined.json\")\n",
    "data = get_param_from_json(\"ler_data/L1_IMRPhenomXPHM.json\")\n",
    "\n",
    "# plot 'L1' SNR\n",
    "plt.hist(data['L1'], bins=50, alpha=0.5, label='L1')\n",
    "plt.xlim(0, 16)\n",
    "plt.legend()\n",
    "plt.show()"
   ]
  },
  {
   "cell_type": "code",
   "execution_count": null,
   "metadata": {},
   "outputs": [],
   "source": []
  },
  {
   "cell_type": "code",
   "execution_count": null,
   "metadata": {},
   "outputs": [],
   "source": []
  },
  {
   "cell_type": "code",
   "execution_count": null,
   "metadata": {},
   "outputs": [],
   "source": [
    "class ModelGenerator():\n",
    "\n",
    "    def __init__(self,\n",
    "        npool=4,\n",
    "        size=1000,\n",
    "        batch_size=200000,\n",
    "        z_min=0.0,\n",
    "        z_max=5.0,\n",
    "        psds={'L1':'aLIGO_O4_high_asd.txt','H1':'aLIGO_O4_high_asd.txt', 'V1':'AdV_asd.txt', 'K1':'KAGRA_design_asd.txt'},\n",
    "        verbose=True,\n",
    "        create_new=True,\n",
    "        data_distribution_range = dict(\n",
    "            snr_range=[0, 2, 4, 6, 8, 10, 12, 14, 16, 100],\n",
    "            reference_range = 16,\n",
    "        ),\n",
    "        extra_astrophysical_data = True,\n",
    "        **kwargs,  # ler and gwsnr arguments\n",
    "    ):\n",
    "\n",
    "        self.npool = npool\n",
    "        self.z_min = z_min\n",
    "        self.z_max = z_max\n",
    "        self.verbose = verbose\n",
    "        self.data_distribution_range = data_distribution_range\n",
    "        self.extra_astrophysical_data = extra_astrophysical_data\n",
    "\n",
    "        self.ler_init_args = dict(\n",
    "            event_type=\"BBH\",\n",
    "            cosmology=None,\n",
    "            # gwsnr args\n",
    "            mtot_min=2.0,\n",
    "            mtot_max=200,\n",
    "            ratio_min=0.1,\n",
    "            ratio_max=1.0,\n",
    "            mtot_resolution=500,\n",
    "            ratio_resolution=50,\n",
    "            sampling_frequency=2048.0,\n",
    "            waveform_approximant=\"IMRPhenomXPHM\",\n",
    "            minimum_frequency=20.0,\n",
    "            snr_type=\"inner_product\",\n",
    "            psds=None,\n",
    "            ifos=None,\n",
    "            interpolator_dir=\"./interpolator_pickle\",\n",
    "            create_new_interpolator=False,\n",
    "            gwsnr_verbose=False,\n",
    "            multiprocessing_verbose=True,\n",
    "            mtot_cut=True,\n",
    "        )\n",
    "        self.ler_init_args.update(kwargs)\n",
    "\n",
    "        if (self.ler_init_args['psds'] is None) & (self.ler_init_args['ifos'] is None):\n",
    "            self.ler_init_args['ifos'] = ['L1', 'H1', 'V1']\n",
    "\n",
    "        path_list = []\n",
    "        self.detectors = detectors\n",
    "        for det in detectors:\n",
    "            path_list.append(\"ler_data/snr_\"+det+\"_spinless\"+self.ler_init_args['waveform_approximant']+\".json\")\n",
    "        self.path_list = path_list\n",
    "\n",
    "\n",
    "        # use os to delete the exsiting file\n",
    "        # to save snpinless snr first \n",
    "        if create_new:\n",
    "            for i, det in enumerate(detectors):\n",
    "                if os.path.exists(path_list[i]):\n",
    "                    os.remove(path_list[i])\n",
    "\n",
    "        # generate spinless snr for snr_range and astrophysical range\n",
    "        self.spinless_waveform_snrs(size=size, batch_size=batch_size);\n",
    "\n",
    "        # recalculate snr within the snr_range.\n",
    "        # find snr in astrophysical range\n",
    "        # save it\n",
    "\n",
    "    def snr_recalculation(self):\n",
    "        \n",
    "        args = self.ler_init_args.copy()\n",
    "        detectors = self.detectors\n",
    "\n",
    "        for i, det in enumerate(detectors):\n",
    "\n",
    "            if args['psds'] is not None:\n",
    "                psds = args['psds'][det]\n",
    "            else:\n",
    "                psds = None\n",
    "            if args['ifos'] is not None:\n",
    "                ifos = args['ifos'][i]\n",
    "            else:\n",
    "                psds = None\n",
    "\n",
    "            # gwsnr initialization\n",
    "            gwsnr = GWSNR(\n",
    "                npool=self.npool,\n",
    "                mtot_min=args['mtot_min'],\n",
    "                mtot_max=args['mtot_max'],\n",
    "                ratio_min=args['ratio_min'],\n",
    "                ratio_max=args['ratio_max'],\n",
    "                mtot_resolution=args['mtot_resolution'],\n",
    "                ratio_resolution=args['ratio_resolution'],\n",
    "                sampling_frequency=args['sampling_frequency'],\n",
    "                waveform_approximant=args['waveform_approximant'],\n",
    "                minimum_frequency=args['minimum_frequency'],\n",
    "                snr_type='inner_product', \n",
    "                psds=psds,\n",
    "                ifos=ifos,\n",
    "                interpolator_dir=args['interpolator_dir'],\n",
    "                create_new_interpolator=args['create_new_interpolator'],\n",
    "                gwsnr_verbose=args['gwsnr_verbose'],\n",
    "                multiprocessing_verbose=args['multiprocessing_verbose'],\n",
    "                mtot_cut=args['mtot_cut'],\n",
    "            )\n",
    "\n",
    "            # get the spinless snr\n",
    "            unlensed_params = get_param_from_json(self.path_list[i])\n",
    "            print('Recalculating SNRs using inner_product method')\n",
    "            snrs = gwsnr.snr(gw_param_dict=unlensed_params)\n",
    "            unlensed_params.update(snrs)\n",
    "\n",
    "            # save the parameters\n",
    "            append_json(path_list[i], unlensed_params, replace=True);\n",
    "\n",
    "\n",
    "    def spinless_waveform_snrs(self, size, batch_size):\n",
    "\n",
    "        args = self.ler_init_args.copy()\n",
    "        detectors = self.detectors\n",
    "\n",
    "        # ler initialization\n",
    "        ler = LeR(\n",
    "            npool=self.npool,\n",
    "            z_min=self.z_min,\n",
    "            z_max=self.z_max,  # becareful with this value\n",
    "            verbose=self.verbose,\n",
    "            spin_zero=False,\n",
    "            spin_precession=True,\n",
    "            # ler\n",
    "            event_type=args['event_type'],\n",
    "            cosmology=args['cosmology'],\n",
    "            # gwsnr args\n",
    "            mtot_min=args['mtot_min'],\n",
    "            mtot_max=args['mtot_max'],\n",
    "            ratio_min=args['ratio_min'],\n",
    "            ratio_max=args['ratio_max'],\n",
    "            mtot_resolution=args['mtot_resolution'],\n",
    "            ratio_resolution=args['ratio_resolution'],\n",
    "            sampling_frequency=args['sampling_frequency'],\n",
    "            waveform_approximant=args['waveform_approximant'],\n",
    "            minimum_frequency=args['minimum_frequency'],\n",
    "            snr_type='interpolation', # inner_product\n",
    "            psds=args['psds'],\n",
    "            ifos=args['ifos'],\n",
    "            interpolator_dir=args['interpolator_dir'],\n",
    "            create_new_interpolator=args['create_new_interpolator'],\n",
    "            gwsnr_verbose=args['gwsnr_verbose'],\n",
    "            multiprocessing_verbose=args['multiprocessing_verbose'],\n",
    "            mtot_cut=args['mtot_cut'],\n",
    "        )\n",
    "\n",
    "        ler.batch_size = batch_size\n",
    "\n",
    "        # path for each detector\n",
    "        path_list = self.path_list\n",
    "\n",
    "        # check if the file exist and how many data points already there\n",
    "        # print(f\"Collected number of events: {len_}\")\n",
    "        for i, det in enumerate(detectors):\n",
    "            if os.path.exists(path_list[i]):\n",
    "                unlensed_params = get_param_from_json(path_list[i])\n",
    "                len_final = len(unlensed_params[det])\n",
    "                print(f\"Already Collected number of events for {det}: {len_final}\")\n",
    "            else:\n",
    "                len_final = 0\n",
    "\n",
    "        # size = self.size\n",
    "        print(f'total event to collect: {size}\\n')\n",
    "        while len_final<size:\n",
    "            with contextlib.redirect_stdout(None):\n",
    "                unlensed_param = ler.unlensed_cbc_statistics(size=ler.batch_size, resume=False)\n",
    "\n",
    "            # SNR for each detector\n",
    "            for i,det in enumerate(detectors):\n",
    "                try:\n",
    "                    snr = np.array(unlensed_param[det])\n",
    "                except:\n",
    "                    raise ValueError(f\"Detector {det} is not available in the list of detectors. Check your input psds and ifos.\")\n",
    "\n",
    "                idx_arr = []\n",
    "                snr_range = np.array(self.data_distribution_range['snr_range'])\n",
    "                len_ = len(snr_range) \n",
    "                len_arr = []  # size of len_arr is len_-1  \n",
    "                for j in range(len_-1):\n",
    "                    idx_ = np.argwhere((snr>=j) & (snr<j+1)).flatten()\n",
    "                    idx_arr.append(idx_)\n",
    "                    len_arr.append(len(idx_))\n",
    "\n",
    "                idx_arr = np.array(idx_arr, dtype=object)\n",
    "                reference_range = self.data_distribution_range['reference_range']\n",
    "                \n",
    "                idx_ref = np.argwhere(snr_range==reference_range).flatten()\n",
    "                len_ref = len_arr[idx_ref[0]]\n",
    "\n",
    "                unlensed_param_final = {}\n",
    "\n",
    "                for key, value in unlensed_param.items():\n",
    "                    for j in range(len(len_arr)):\n",
    "                        if len(idx_arr[j])>len_ref:\n",
    "\n",
    "                            idx_buffer = np.random.choice(idx_arr[j], len_ref, replace=False)\n",
    "\n",
    "                            # print(idx_buffer)\n",
    "                            buffer_ = value[idx_buffer]\n",
    "                        else:\n",
    "                            buffer_ = value[idx_arr[j]]\n",
    "\n",
    "                        if j==0:\n",
    "                            unlensed_param_final[key] = buffer_\n",
    "                        else:\n",
    "                            unlensed_param_final[key] = np.concatenate([unlensed_param_final[key], buffer_])\n",
    "\n",
    "                # save the parameters\n",
    "                append_json(path_list[i], unlensed_param_final, replace=False);\n",
    "\n",
    "            # print(f\"Collected number of events: {len_}\")\n",
    "            for i, det in enumerate(detectors):\n",
    "                unlensed_params = get_param_from_json(path_list[i])\n",
    "                len_final = len(unlensed_params[det])\n",
    "                print(f\"Collected number of events for {det}: {len_final}\")\n",
    "\n",
    "            print(f\"final size: {len_final}\\n\")"
   ]
  },
  {
   "cell_type": "markdown",
   "metadata": {},
   "source": [
    "## ANNModelGenerator"
   ]
  },
  {
   "cell_type": "code",
   "execution_count": null,
   "metadata": {},
   "outputs": [],
   "source": [
    "class ANNModelGenerator():\n",
    "    def __init__(self,  parameters, detector, verbose=True):\n",
    "        self.path_list = path_list\n",
    "        self.detectors = detectors\n",
    "        self.verbose = verbose"
   ]
  },
  {
   "cell_type": "code",
   "execution_count": null,
   "metadata": {},
   "outputs": [],
   "source": []
  },
  {
   "cell_type": "code",
   "execution_count": null,
   "metadata": {},
   "outputs": [],
   "source": []
  },
  {
   "cell_type": "code",
   "execution_count": null,
   "metadata": {},
   "outputs": [],
   "source": []
  },
  {
   "cell_type": "code",
   "execution_count": null,
   "metadata": {},
   "outputs": [],
   "source": []
  },
  {
   "cell_type": "code",
   "execution_count": null,
   "metadata": {},
   "outputs": [],
   "source": []
  },
  {
   "cell_type": "code",
   "execution_count": null,
   "metadata": {},
   "outputs": [],
   "source": []
  }
 ],
 "metadata": {
  "kernelspec": {
   "display_name": "ler",
   "language": "python",
   "name": "ler"
  },
  "language_info": {
   "codemirror_mode": {
    "name": "ipython",
    "version": 3
   },
   "file_extension": ".py",
   "mimetype": "text/x-python",
   "name": "python",
   "nbconvert_exporter": "python",
   "pygments_lexer": "ipython3",
   "version": "3.10.14"
  }
 },
 "nbformat": 4,
 "nbformat_minor": 2
}
