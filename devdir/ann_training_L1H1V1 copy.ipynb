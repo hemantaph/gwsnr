{
 "cells": [
  {
   "cell_type": "markdown",
   "metadata": {},
   "source": [
    "# SNR finder ANN model training"
   ]
  },
  {
   "cell_type": "code",
   "execution_count": 1,
   "metadata": {},
   "outputs": [],
   "source": [
    "import numpy as np\n",
    "import matplotlib.pyplot as plt\n",
    "import pandas as pd\n",
    "from scipy.optimize import curve_fit\n",
    "from ler.utils import add_dict_values, append_json, get_param_from_json\n",
    "import tensorflow as tf\n",
    "\n",
    "import pickle\n",
    "from sklearn.preprocessing import StandardScaler\n",
    "from sklearn.model_selection import train_test_split\n",
    "from sklearn.metrics import confusion_matrix, accuracy_score\n",
    "from tensorflow.keras.models import load_model\n",
    "\n",
    "from gwsnr import antenna_response_array, cubic_spline_interpolator2d\n",
    "\n",
    "from numba import njit"
   ]
  },
  {
   "cell_type": "code",
   "execution_count": 2,
   "metadata": {},
   "outputs": [],
   "source": [
    "# # Uncomment to generate new data to test the model\n",
    "\n",
    "# # generating astrophysical data for testing using `ler` package\n",
    "# from ler.rates import LeR\n",
    "# from ler.utils import get_param_from_json\n",
    "\n",
    "# ler = LeR(verbose=False, snr_type='inner_product', waveform_approximant=\"IMRPhenomXPHM\", spin_zero=False, spin_precession=True, z_max=5)\n",
    "\n",
    "# size_ = 50000\n",
    "# ler.batch_size = 50000\n",
    "# ler.unlensed_cbc_statistics(size=size_, output_jsonfile='unlensed_param_testing.json', resume=True);"
   ]
  },
  {
   "cell_type": "code",
   "execution_count": 3,
   "metadata": {},
   "outputs": [
    {
     "name": "stdout",
     "output_type": "stream",
     "text": [
      "You have chosen default ANN model. This model only works for gwsnr default parameters.\n",
      "ANN model will be save and loaded from 'ann_data' directory. To create new model, follow instructions from the 'gwsnr' documentation.\n",
      "Please be patient while the interpolator is generated for partialscaledSNR.\n",
      "Interpolator will be loaded for L1 detector from ./interpolator_pickle/L1/partialSNR_dict_1.pickle\n",
      "Interpolator will be loaded for H1 detector from ./interpolator_pickle/H1/partialSNR_dict_1.pickle\n",
      "Interpolator will be loaded for V1 detector from ./interpolator_pickle/V1/partialSNR_dict_5.pickle\n",
      "\n",
      "Chosen GWSNR initialization parameters:\n",
      "\n",
      "npool:  4\n",
      "snr type:  ann\n",
      "waveform approximant:  IMRPhenomXPHM\n",
      "sampling frequency:  2048.0\n",
      "minimum frequency (fmin):  20.0\n",
      "mtot=mass1+mass2\n",
      "min(mtot):  2.0\n",
      "max(mtot) (with the given fmin=20.0): 184.98599853446768\n",
      "detectors:  ['L1', 'H1', 'V1']\n",
      "psds:  [PowerSpectralDensity(psd_file='None', asd_file='/Users/phurailatpamhemantakumar/anaconda3/envs/ler/lib/python3.10/site-packages/bilby/gw/detector/noise_curves/aLIGO_O4_high_asd.txt'), PowerSpectralDensity(psd_file='None', asd_file='/Users/phurailatpamhemantakumar/anaconda3/envs/ler/lib/python3.10/site-packages/bilby/gw/detector/noise_curves/aLIGO_O4_high_asd.txt'), PowerSpectralDensity(psd_file='/Users/phurailatpamhemantakumar/anaconda3/envs/ler/lib/python3.10/site-packages/bilby/gw/detector/noise_curves/AdV_psd.txt', asd_file='None')]\n"
     ]
    }
   ],
   "source": [
    "# let's generate IMRPhenomD (spinless) interpolartor for the snr_half (refer to gwsnr documentation)\n",
    "# One of the training input is half_snr\n",
    "from gwsnr import GWSNR\n",
    "gwsnr = GWSNR(snr_type='ann', waveform_approximant='IMRPhenomXPHM', ifos=['L1', 'H1', 'V1'])"
   ]
  },
  {
   "cell_type": "markdown",
   "metadata": {},
   "source": [
    "### Input-Output generator function"
   ]
  },
  {
   "cell_type": "code",
   "execution_count": 4,
   "metadata": {},
   "outputs": [],
   "source": [
    "def input_output(idx, params):\n",
    "    \"\"\"\n",
    "        Function to generate input and output data for the neural network\n",
    "\n",
    "        Parameters:\n",
    "        idx: index of the parameter points\n",
    "        params: dictionary of parameter points\n",
    "            params.keys() = ['mass_1', 'mass_2', 'luminosity_distance', 'theta_jn', 'psi', 'geocent_time', 'ra', 'dec', 'a_1', 'a_2', 'tilt_1', 'tilt_2', 'L1']\n",
    "\n",
    "        Returns:\n",
    "        X: input data, [snr_half_[0], amp0[0], eta, chi_eff, theta_jn]\n",
    "        y: output data, [L1]\n",
    "    \"\"\"\n",
    "\n",
    "    mass_1 = np.array(params['mass_1'])[idx]\n",
    "    mass_2 = np.array(params['mass_2'])[idx]\n",
    "    luminosity_distance = np.array(params['luminosity_distance'])[idx]\n",
    "    theta_jn = np.array(params['theta_jn'])[idx]\n",
    "    psi = np.array(params['psi'])[idx]\n",
    "    geocent_time = np.array(params['geocent_time'])[idx]\n",
    "    ra = np.array(params['ra'])[idx]\n",
    "    dec = np.array(params['dec'])[idx]\n",
    "    \n",
    "    detector_tensor = gwsnr.detector_tensor_list\n",
    "    snr_halfscaled = np.array(gwsnr.snr_partialsacaled_list)\n",
    "    ratio_arr = gwsnr.ratio_arr\n",
    "    mtot_arr = gwsnr.mtot_arr\n",
    "    \n",
    "    size = len(mass_1)\n",
    "    len_ = len(detector_tensor)\n",
    "    mtot = mass_1 + mass_2\n",
    "    ratio = mass_2 / mass_1\n",
    "    # get array of antenna response\n",
    "    Fp, Fc = antenna_response_array(ra, dec, geocent_time, psi, detector_tensor)\n",
    "\n",
    "    Mc = ((mass_1 * mass_2) ** (3 / 5)) / ((mass_1 + mass_2) ** (1 / 5))\n",
    "    eta = mass_1 * mass_2/(mass_1 + mass_2)**2.\n",
    "    A1 = Mc ** (5.0 / 6.0)\n",
    "    ci_2 = np.cos(theta_jn) ** 2\n",
    "    ci_param = ((1 + np.cos(theta_jn) ** 2) / 2) ** 2\n",
    "    \n",
    "    size = len(mass_1)\n",
    "    snr_half_ = np.zeros((len_,size))\n",
    "    d_eff = np.zeros((len_,size))\n",
    "\n",
    "    # loop over the detectors\n",
    "    for j in range(len_):\n",
    "        # loop over the parameter points\n",
    "        for i in range(size):\n",
    "            snr_half_coeff = snr_halfscaled[j]\n",
    "            snr_half_[j,i] = cubic_spline_interpolator2d(mtot[i], ratio[i], snr_half_coeff, mtot_arr, ratio_arr)\n",
    "            d_eff[j,i] = 1 / np.sqrt(\n",
    "                    Fp[j,i]**2 * ci_param[i] + Fc[j,i]**2 * ci_2[i]\n",
    "                )\n",
    "\n",
    "    #amp0\n",
    "    amp0 =  A1 / d_eff\n",
    "\n",
    "    # get spin parameters\n",
    "    a_1 = np.array(params['a_1'])[idx]\n",
    "    a_2 = np.array(params['a_2'])[idx]\n",
    "    tilt_1 = np.array(params['tilt_1'])[idx]\n",
    "    tilt_2 = np.array(params['tilt_2'])[idx]\n",
    "\n",
    "    # effective spin\n",
    "    chi_eff = (mass_1 * a_1 * np.cos(tilt_1) + mass_2 * a_2 * np.cos(tilt_2)) / (mass_1 + mass_2)\n",
    "\n",
    "\n",
    "    # input data\n",
    "    XL1 = np.vstack([snr_half_[0], amp0[0], eta, chi_eff, theta_jn]).T\n",
    "    XH1 = np.vstack([snr_half_[1], amp0[1], eta, chi_eff, theta_jn]).T\n",
    "    XV1 = np.vstack([snr_half_[2], amp0[2], eta, chi_eff, theta_jn]).T\n",
    "\n",
    "    # output data\n",
    "    # get snr for y train\n",
    "    yL1 = np.array(params['L1'])[idx]*luminosity_distance\n",
    "    yH1 = np.array(params['H1'])[idx]*luminosity_distance\n",
    "    yV1 = np.array(params['V1'])[idx]*luminosity_distance\n",
    "    yNET = np.sqrt(yL1**2 + yH1**2 + yV1**2)/luminosity_distance\n",
    "\n",
    "    return(XL1, yL1, XH1, yH1, XV1, yV1, yNET, luminosity_distance)\n",
    "\n",
    "\n",
    "def get_index(X_test, XL1):\n",
    "    idx_test = np.zeros_like(X_test)\n",
    "    for i in range(len(X_test)):\n",
    "        idx_test[i] = np.where(XL1==X_test[i])[0][0]\n",
    "\n",
    "    return idx_test.astype(int)"
   ]
  },
  {
   "cell_type": "markdown",
   "metadata": {},
   "source": [
    "## For L1 detector\n",
    "\n",
    "### Get all necessary data"
   ]
  },
  {
   "cell_type": "code",
   "execution_count": 5,
   "metadata": {},
   "outputs": [
    {
     "name": "stdout",
     "output_type": "stream",
     "text": [
      "size before SNR cut: 428819\n",
      "size after SNR cut: 417189\n"
     ]
    }
   ],
   "source": [
    "# these are pre-generated datas\n",
    "# join all dictionaries into one\n",
    "# the naming of data files are based on what you have saved. Refer to 'training_data_generation_ann.ipynb' to see how the data is generated with `ler` package and saved.\n",
    "unlensed_params = get_param_from_json(\"snr_L1.json\")\n",
    "unlensed_params3 = get_param_from_json(\"joint_new_optsnr2.json\")\n",
    "unlensed_params4 = get_param_from_json(\"joint_new_optsnr3.json\")\n",
    "unlensed_params5 = get_param_from_json(\"joint_new_optsnr4.json\")\n",
    "unlensed_params6 = get_param_from_json(\"joint_new_optsnr5.json\")\n",
    "unlensed_params7 = get_param_from_json(\"joint_new_optsnr6.json\")\n",
    "unlensed_params8 = get_param_from_json(\"joint_new_optsnr_uniform.json\")\n",
    "\n",
    "unlensed_params = add_dict_values(unlensed_params, unlensed_params3)\n",
    "unlensed_params = add_dict_values(unlensed_params, unlensed_params4)\n",
    "unlensed_params = add_dict_values(unlensed_params, unlensed_params5)\n",
    "unlensed_params = add_dict_values(unlensed_params, unlensed_params6)\n",
    "unlensed_params = add_dict_values(unlensed_params, unlensed_params7)\n",
    "unlensed_params = add_dict_values(unlensed_params, unlensed_params8)\n",
    "del unlensed_params8\n",
    "del unlensed_params3, unlensed_params4, unlensed_params5, unlensed_params6, unlensed_params7\n",
    "print(f\"size before SNR cut: {len(unlensed_params['L1'])}\")\n",
    "# set SNR cut\n",
    "idx_constrain = unlensed_params['L1']<100\n",
    "for key, value in unlensed_params.items():\n",
    "    unlensed_params[key] = value[idx_constrain]\n",
    "\n",
    "print(f\"size after SNR cut: {len(unlensed_params['L1'])}\")"
   ]
  },
  {
   "cell_type": "code",
   "execution_count": 6,
   "metadata": {},
   "outputs": [
    {
     "data": {
      "text/plain": [
       "(417189, 5)"
      ]
     },
     "execution_count": 6,
     "metadata": {},
     "output_type": "execute_result"
    }
   ],
   "source": [
    "len_ = len(unlensed_params['L1'])\n",
    "idx = np.arange(len_)\n",
    "# randomize the train set\n",
    "idx = np.random.permutation(idx)\n",
    "XL1, yL1, _, _, _, _,_,dl = input_output(idx, unlensed_params)\n",
    "np.shape(XL1)"
   ]
  },
  {
   "cell_type": "markdown",
   "metadata": {},
   "source": [
    "* It is expected to have larger error in the sparse region of the input data, e.g. $\\eta<0.2$"
   ]
  },
  {
   "cell_type": "markdown",
   "metadata": {},
   "source": [
    "### Scaling the data"
   ]
  },
  {
   "cell_type": "code",
   "execution_count": 8,
   "metadata": {},
   "outputs": [],
   "source": [
    "X_train, X_test, y_train, y_test = train_test_split(XL1, yL1, test_size = 0.1, random_state = 0)\n",
    "idx_test = get_index(X_test[:,0], XL1[:,0])\n",
    "dl_test = dl[idx_test]"
   ]
  },
  {
   "cell_type": "code",
   "execution_count": 9,
   "metadata": {},
   "outputs": [],
   "source": [
    "# # Uncomment the following if you have already generated the scaler\n",
    "\n",
    "# # load the scaler\n",
    "# scalerL1 = pickle.load(open('scalerL1_final2.pkl', 'rb'))\n",
    "# sc = scalerL1\n",
    "# X_train = sc.transform(X_train)\n",
    "# X_test = sc.transform(X_test)\n",
    "\n",
    "# Uncomment the following if you have not generated the scaler\n",
    "\n",
    "# feature scaling\n",
    "sc = StandardScaler()\n",
    "X_train = sc.fit_transform(X_train)\n",
    "X_test = sc.transform(X_test)\n",
    "\n",
    "# save the scaler\n",
    "pickle.dump(sc, open('scalerL1_final2.pkl', 'wb'))"
   ]
  },
  {
   "cell_type": "markdown",
   "metadata": {},
   "source": [
    "### Generate ANN model"
   ]
  },
  {
   "cell_type": "code",
   "execution_count": 10,
   "metadata": {},
   "outputs": [
    {
     "name": "stdout",
     "output_type": "stream",
     "text": [
      "Epoch 1/50\n",
      "\u001b[1m11734/11734\u001b[0m \u001b[32m━━━━━━━━━━━━━━━━━━━━\u001b[0m\u001b[37m\u001b[0m \u001b[1m5s\u001b[0m 338us/step - accuracy: 0.0000e+00 - loss: 531101024.0000\n",
      "Epoch 2/50\n",
      "\u001b[1m11734/11734\u001b[0m \u001b[32m━━━━━━━━━━━━━━━━━━━━\u001b[0m\u001b[37m\u001b[0m \u001b[1m4s\u001b[0m 350us/step - accuracy: 0.0000e+00 - loss: 521054784.0000\n",
      "Epoch 3/50\n",
      "\u001b[1m11734/11734\u001b[0m \u001b[32m━━━━━━━━━━━━━━━━━━━━\u001b[0m\u001b[37m\u001b[0m \u001b[1m4s\u001b[0m 350us/step - accuracy: 0.0000e+00 - loss: 513758848.0000\n",
      "Epoch 4/50\n",
      "\u001b[1m11734/11734\u001b[0m \u001b[32m━━━━━━━━━━━━━━━━━━━━\u001b[0m\u001b[37m\u001b[0m \u001b[1m4s\u001b[0m 353us/step - accuracy: 0.0000e+00 - loss: 500974592.0000\n",
      "Epoch 5/50\n",
      "\u001b[1m11734/11734\u001b[0m \u001b[32m━━━━━━━━━━━━━━━━━━━━\u001b[0m\u001b[37m\u001b[0m \u001b[1m4s\u001b[0m 366us/step - accuracy: 0.0000e+00 - loss: 491864288.0000\n",
      "Epoch 6/50\n",
      "\u001b[1m11734/11734\u001b[0m \u001b[32m━━━━━━━━━━━━━━━━━━━━\u001b[0m\u001b[37m\u001b[0m \u001b[1m4s\u001b[0m 339us/step - accuracy: 0.0000e+00 - loss: 479319936.0000\n",
      "Epoch 7/50\n",
      "\u001b[1m11734/11734\u001b[0m \u001b[32m━━━━━━━━━━━━━━━━━━━━\u001b[0m\u001b[37m\u001b[0m \u001b[1m4s\u001b[0m 345us/step - accuracy: 0.0000e+00 - loss: 469900064.0000\n",
      "Epoch 8/50\n",
      "\u001b[1m11734/11734\u001b[0m \u001b[32m━━━━━━━━━━━━━━━━━━━━\u001b[0m\u001b[37m\u001b[0m \u001b[1m4s\u001b[0m 329us/step - accuracy: 0.0000e+00 - loss: 460366304.0000\n",
      "Epoch 9/50\n",
      "\u001b[1m11734/11734\u001b[0m \u001b[32m━━━━━━━━━━━━━━━━━━━━\u001b[0m\u001b[37m\u001b[0m \u001b[1m4s\u001b[0m 341us/step - accuracy: 0.0000e+00 - loss: 450185216.0000\n",
      "Epoch 10/50\n",
      "\u001b[1m11734/11734\u001b[0m \u001b[32m━━━━━━━━━━━━━━━━━━━━\u001b[0m\u001b[37m\u001b[0m \u001b[1m4s\u001b[0m 356us/step - accuracy: 0.0000e+00 - loss: 442115648.0000\n",
      "Epoch 11/50\n",
      "\u001b[1m11734/11734\u001b[0m \u001b[32m━━━━━━━━━━━━━━━━━━━━\u001b[0m\u001b[37m\u001b[0m \u001b[1m4s\u001b[0m 339us/step - accuracy: 0.0000e+00 - loss: 432287264.0000\n",
      "Epoch 12/50\n",
      "\u001b[1m11734/11734\u001b[0m \u001b[32m━━━━━━━━━━━━━━━━━━━━\u001b[0m\u001b[37m\u001b[0m \u001b[1m4s\u001b[0m 320us/step - accuracy: 0.0000e+00 - loss: 423156992.0000\n",
      "Epoch 13/50\n",
      "\u001b[1m11734/11734\u001b[0m \u001b[32m━━━━━━━━━━━━━━━━━━━━\u001b[0m\u001b[37m\u001b[0m \u001b[1m4s\u001b[0m 338us/step - accuracy: 0.0000e+00 - loss: 415087648.0000\n",
      "Epoch 14/50\n",
      "\u001b[1m11734/11734\u001b[0m \u001b[32m━━━━━━━━━━━━━━━━━━━━\u001b[0m\u001b[37m\u001b[0m \u001b[1m4s\u001b[0m 320us/step - accuracy: 0.0000e+00 - loss: 404778688.0000\n",
      "Epoch 15/50\n",
      "\u001b[1m11734/11734\u001b[0m \u001b[32m━━━━━━━━━━━━━━━━━━━━\u001b[0m\u001b[37m\u001b[0m \u001b[1m4s\u001b[0m 332us/step - accuracy: 0.0000e+00 - loss: 398279968.0000\n",
      "Epoch 16/50\n",
      "\u001b[1m11734/11734\u001b[0m \u001b[32m━━━━━━━━━━━━━━━━━━━━\u001b[0m\u001b[37m\u001b[0m \u001b[1m4s\u001b[0m 333us/step - accuracy: 0.0000e+00 - loss: 390489664.0000\n",
      "Epoch 17/50\n",
      "\u001b[1m11734/11734\u001b[0m \u001b[32m━━━━━━━━━━━━━━━━━━━━\u001b[0m\u001b[37m\u001b[0m \u001b[1m4s\u001b[0m 325us/step - accuracy: 0.0000e+00 - loss: 381578688.0000\n",
      "Epoch 18/50\n",
      "\u001b[1m11734/11734\u001b[0m \u001b[32m━━━━━━━━━━━━━━━━━━━━\u001b[0m\u001b[37m\u001b[0m \u001b[1m4s\u001b[0m 337us/step - accuracy: 0.0000e+00 - loss: 372810336.0000\n",
      "Epoch 19/50\n",
      "\u001b[1m11734/11734\u001b[0m \u001b[32m━━━━━━━━━━━━━━━━━━━━\u001b[0m\u001b[37m\u001b[0m \u001b[1m4s\u001b[0m 324us/step - accuracy: 0.0000e+00 - loss: 364165632.0000\n",
      "Epoch 20/50\n",
      "\u001b[1m11734/11734\u001b[0m \u001b[32m━━━━━━━━━━━━━━━━━━━━\u001b[0m\u001b[37m\u001b[0m \u001b[1m4s\u001b[0m 341us/step - accuracy: 0.0000e+00 - loss: 358464256.0000\n",
      "Epoch 21/50\n",
      "\u001b[1m11734/11734\u001b[0m \u001b[32m━━━━━━━━━━━━━━━━━━━━\u001b[0m\u001b[37m\u001b[0m \u001b[1m4s\u001b[0m 341us/step - accuracy: 0.0000e+00 - loss: 351248128.0000\n",
      "Epoch 22/50\n",
      "\u001b[1m11734/11734\u001b[0m \u001b[32m━━━━━━━━━━━━━━━━━━━━\u001b[0m\u001b[37m\u001b[0m \u001b[1m4s\u001b[0m 325us/step - accuracy: 0.0000e+00 - loss: 341851904.0000\n",
      "Epoch 23/50\n",
      "\u001b[1m11734/11734\u001b[0m \u001b[32m━━━━━━━━━━━━━━━━━━━━\u001b[0m\u001b[37m\u001b[0m \u001b[1m4s\u001b[0m 342us/step - accuracy: 0.0000e+00 - loss: 334636448.0000\n",
      "Epoch 24/50\n",
      "\u001b[1m11734/11734\u001b[0m \u001b[32m━━━━━━━━━━━━━━━━━━━━\u001b[0m\u001b[37m\u001b[0m \u001b[1m4s\u001b[0m 353us/step - accuracy: 0.0000e+00 - loss: 327464288.0000\n",
      "Epoch 25/50\n",
      "\u001b[1m11734/11734\u001b[0m \u001b[32m━━━━━━━━━━━━━━━━━━━━\u001b[0m\u001b[37m\u001b[0m \u001b[1m4s\u001b[0m 352us/step - accuracy: 0.0000e+00 - loss: 319751168.0000\n",
      "Epoch 26/50\n",
      "\u001b[1m11734/11734\u001b[0m \u001b[32m━━━━━━━━━━━━━━━━━━━━\u001b[0m\u001b[37m\u001b[0m \u001b[1m4s\u001b[0m 339us/step - accuracy: 0.0000e+00 - loss: 314402624.0000\n",
      "Epoch 27/50\n",
      "\u001b[1m11734/11734\u001b[0m \u001b[32m━━━━━━━━━━━━━━━━━━━━\u001b[0m\u001b[37m\u001b[0m \u001b[1m4s\u001b[0m 352us/step - accuracy: 0.0000e+00 - loss: 304704320.0000\n",
      "Epoch 28/50\n",
      "\u001b[1m11734/11734\u001b[0m \u001b[32m━━━━━━━━━━━━━━━━━━━━\u001b[0m\u001b[37m\u001b[0m \u001b[1m4s\u001b[0m 354us/step - accuracy: 0.0000e+00 - loss: 300900224.0000\n",
      "Epoch 29/50\n",
      "\u001b[1m11734/11734\u001b[0m \u001b[32m━━━━━━━━━━━━━━━━━━━━\u001b[0m\u001b[37m\u001b[0m \u001b[1m4s\u001b[0m 353us/step - accuracy: 0.0000e+00 - loss: 292858880.0000\n",
      "Epoch 30/50\n",
      "\u001b[1m11734/11734\u001b[0m \u001b[32m━━━━━━━━━━━━━━━━━━━━\u001b[0m\u001b[37m\u001b[0m \u001b[1m4s\u001b[0m 368us/step - accuracy: 0.0000e+00 - loss: 288197472.0000\n",
      "Epoch 31/50\n",
      "\u001b[1m11734/11734\u001b[0m \u001b[32m━━━━━━━━━━━━━━━━━━━━\u001b[0m\u001b[37m\u001b[0m \u001b[1m4s\u001b[0m 356us/step - accuracy: 0.0000e+00 - loss: 281947584.0000\n",
      "Epoch 32/50\n",
      "\u001b[1m11734/11734\u001b[0m \u001b[32m━━━━━━━━━━━━━━━━━━━━\u001b[0m\u001b[37m\u001b[0m \u001b[1m4s\u001b[0m 358us/step - accuracy: 0.0000e+00 - loss: 276025824.0000\n",
      "Epoch 33/50\n",
      "\u001b[1m11734/11734\u001b[0m \u001b[32m━━━━━━━━━━━━━━━━━━━━\u001b[0m\u001b[37m\u001b[0m \u001b[1m4s\u001b[0m 345us/step - accuracy: 0.0000e+00 - loss: 268384960.0000\n",
      "Epoch 34/50\n",
      "\u001b[1m11734/11734\u001b[0m \u001b[32m━━━━━━━━━━━━━━━━━━━━\u001b[0m\u001b[37m\u001b[0m \u001b[1m4s\u001b[0m 351us/step - accuracy: 0.0000e+00 - loss: 263593504.0000\n",
      "Epoch 35/50\n",
      "\u001b[1m11734/11734\u001b[0m \u001b[32m━━━━━━━━━━━━━━━━━━━━\u001b[0m\u001b[37m\u001b[0m \u001b[1m4s\u001b[0m 364us/step - accuracy: 0.0000e+00 - loss: 259291008.0000\n",
      "Epoch 36/50\n",
      "\u001b[1m11734/11734\u001b[0m \u001b[32m━━━━━━━━━━━━━━━━━━━━\u001b[0m\u001b[37m\u001b[0m \u001b[1m4s\u001b[0m 372us/step - accuracy: 0.0000e+00 - loss: 254266480.0000\n",
      "Epoch 37/50\n",
      "\u001b[1m11734/11734\u001b[0m \u001b[32m━━━━━━━━━━━━━━━━━━━━\u001b[0m\u001b[37m\u001b[0m \u001b[1m4s\u001b[0m 352us/step - accuracy: 0.0000e+00 - loss: 248609792.0000\n",
      "Epoch 38/50\n",
      "\u001b[1m11734/11734\u001b[0m \u001b[32m━━━━━━━━━━━━━━━━━━━━\u001b[0m\u001b[37m\u001b[0m \u001b[1m4s\u001b[0m 363us/step - accuracy: 0.0000e+00 - loss: 243515248.0000\n",
      "Epoch 39/50\n",
      "\u001b[1m11734/11734\u001b[0m \u001b[32m━━━━━━━━━━━━━━━━━━━━\u001b[0m\u001b[37m\u001b[0m \u001b[1m4s\u001b[0m 361us/step - accuracy: 0.0000e+00 - loss: 239388368.0000\n",
      "Epoch 40/50\n",
      "\u001b[1m11734/11734\u001b[0m \u001b[32m━━━━━━━━━━━━━━━━━━━━\u001b[0m\u001b[37m\u001b[0m \u001b[1m4s\u001b[0m 363us/step - accuracy: 0.0000e+00 - loss: 234414512.0000\n",
      "Epoch 41/50\n",
      "\u001b[1m11734/11734\u001b[0m \u001b[32m━━━━━━━━━━━━━━━━━━━━\u001b[0m\u001b[37m\u001b[0m \u001b[1m4s\u001b[0m 345us/step - accuracy: 0.0000e+00 - loss: 228844784.0000\n",
      "Epoch 42/50\n",
      "\u001b[1m11734/11734\u001b[0m \u001b[32m━━━━━━━━━━━━━━━━━━━━\u001b[0m\u001b[37m\u001b[0m \u001b[1m4s\u001b[0m 365us/step - accuracy: 0.0000e+00 - loss: 223549616.0000\n",
      "Epoch 43/50\n",
      "\u001b[1m11734/11734\u001b[0m \u001b[32m━━━━━━━━━━━━━━━━━━━━\u001b[0m\u001b[37m\u001b[0m \u001b[1m4s\u001b[0m 365us/step - accuracy: 0.0000e+00 - loss: 220407168.0000\n",
      "Epoch 44/50\n",
      "\u001b[1m11734/11734\u001b[0m \u001b[32m━━━━━━━━━━━━━━━━━━━━\u001b[0m\u001b[37m\u001b[0m \u001b[1m4s\u001b[0m 366us/step - accuracy: 0.0000e+00 - loss: 216547920.0000\n",
      "Epoch 45/50\n",
      "\u001b[1m11734/11734\u001b[0m \u001b[32m━━━━━━━━━━━━━━━━━━━━\u001b[0m\u001b[37m\u001b[0m \u001b[1m4s\u001b[0m 351us/step - accuracy: 0.0000e+00 - loss: 214315824.0000\n",
      "Epoch 46/50\n",
      "\u001b[1m11734/11734\u001b[0m \u001b[32m━━━━━━━━━━━━━━━━━━━━\u001b[0m\u001b[37m\u001b[0m \u001b[1m0s\u001b[0m 19us/step - accuracy: 0.0000e+00 - loss: 210257072.0000 \n",
      "Epoch 47/50\n",
      "\u001b[1m11734/11734\u001b[0m \u001b[32m━━━━━━━━━━━━━━━━━━━━\u001b[0m\u001b[37m\u001b[0m \u001b[1m4s\u001b[0m 365us/step - accuracy: 0.0000e+00 - loss: 206717504.0000\n",
      "Epoch 48/50\n",
      "\u001b[1m11734/11734\u001b[0m \u001b[32m━━━━━━━━━━━━━━━━━━━━\u001b[0m\u001b[37m\u001b[0m \u001b[1m5s\u001b[0m 391us/step - accuracy: 0.0000e+00 - loss: 202321024.0000\n",
      "Epoch 49/50\n",
      "\u001b[1m11734/11734\u001b[0m \u001b[32m━━━━━━━━━━━━━━━━━━━━\u001b[0m\u001b[37m\u001b[0m \u001b[1m4s\u001b[0m 356us/step - accuracy: 0.0000e+00 - loss: 199895168.0000\n",
      "Epoch 50/50\n",
      "\u001b[1m11734/11734\u001b[0m \u001b[32m━━━━━━━━━━━━━━━━━━━━\u001b[0m\u001b[37m\u001b[0m \u001b[1m4s\u001b[0m 365us/step - accuracy: 0.0000e+00 - loss: 195906320.0000\n"
     ]
    },
    {
     "data": {
      "text/plain": [
       "<keras.src.callbacks.history.History at 0x341db8e20>"
      ]
     },
     "execution_count": 10,
     "metadata": {},
     "output_type": "execute_result"
    }
   ],
   "source": [
    "# Uncomment the following if you have already trained the model\n",
    "\n",
    "# initialize the ANN\n",
    "ann = tf.keras.models.Sequential() \n",
    "\n",
    "# adding the input layer and the first hidden layer\n",
    "# units=5, where 5 is the number of neurons in the first input layer\n",
    "ann.add(tf.keras.layers.Dense(units=5, activation='relu'))\n",
    "# adding the second hidden layer\n",
    "ann.add(tf.keras.layers.Dense(units=32, activation='relu'))\n",
    "# adding the third hidden layer\n",
    "ann.add(tf.keras.layers.Dense(units=32, activation='sigmoid'))\n",
    "# adding the output layer, absolute value of the snr\n",
    "ann.add(tf.keras.layers.Dense(units=1, activation='linear'))\n",
    "\n",
    "# compile the ANN\n",
    "ann.compile(optimizer = 'adam', loss = 'mean_squared_error', metrics = ['accuracy'])\n",
    "\n",
    "# train the ANN on the training set\n",
    "ann.fit(X_train, y_train, batch_size = 32, epochs = 50)"
   ]
  },
  {
   "cell_type": "code",
   "execution_count": 11,
   "metadata": {},
   "outputs": [
    {
     "name": "stdout",
     "output_type": "stream",
     "text": [
      "WARNING:absl:You are saving your model as an HDF5 file via `model.save()` or `keras.saving.save_model(model)`. This file format is considered legacy. We recommend using instead the native Keras format, e.g. `model.save('my_model.keras')` or `keras.saving.save_model(model, 'my_model.keras')`. \n"
     ]
    }
   ],
   "source": [
    "# Uncomment the following if you have not trained the model\n",
    "\n",
    "# Save the model to a file\n",
    "ann.save('ann_modelL1_final2.h5')\n",
    "modelL1 = ann"
   ]
  },
  {
   "cell_type": "code",
   "execution_count": 12,
   "metadata": {},
   "outputs": [
    {
     "name": "stdout",
     "output_type": "stream",
     "text": [
      "WARNING:absl:Compiled the loaded model, but the compiled metrics have yet to be built. `model.compile_metrics` will be empty until you train or evaluate the model.\n"
     ]
    }
   ],
   "source": [
    "# Uncomment the following if you have already generated the model\n",
    "\n",
    "# load the model\n",
    "from tensorflow.keras.models import load_model\n",
    "modelL1 = load_model('ann_modelL1_final2.h5')"
   ]
  },
  {
   "cell_type": "markdown",
   "metadata": {},
   "source": [
    "### Test the Model on the test data"
   ]
  },
  {
   "cell_type": "code",
   "execution_count": 13,
   "metadata": {},
   "outputs": [
    {
     "name": "stdout",
     "output_type": "stream",
     "text": [
      "\u001b[1m1304/1304\u001b[0m \u001b[32m━━━━━━━━━━━━━━━━━━━━\u001b[0m\u001b[37m\u001b[0m \u001b[1m0s\u001b[0m 245us/step\n",
      "[[ 3.29086844  4.38644446]\n",
      " [ 4.09272217  4.64245177]\n",
      " [ 2.0057697   2.88138791]\n",
      " ...\n",
      " [ 1.28121643  1.39248947]\n",
      " [ 7.46031639  3.99619515]\n",
      " [10.63120258 16.37039099]]\n"
     ]
    }
   ],
   "source": [
    "# left: predicted snr*dl, right: actual snr*dl\n",
    "y_pred = modelL1.predict(X_test).flatten()/dl_test\n",
    "y_true = y_test/dl_test\n",
    "#y_pred = (y_pred > 0.5)\n",
    "print(np.concatenate((y_pred.reshape(len(y_pred),1), y_true.reshape(len(y_true),1)),1))"
   ]
  },
  {
   "cell_type": "code",
   "execution_count": 14,
   "metadata": {},
   "outputs": [
    {
     "data": {
      "image/png": "[encoded data removed]",
      "text/plain": [
       "<Figure size 400x400 with 1 Axes>"
      ]
     },
     "metadata": {},
     "output_type": "display_data"
    }
   ],
   "source": [
    "# error distribution\n",
    "idx = (y_pred>2) & (y_pred<20)\n",
    "idx = idx & (y_test!=0)\n",
    "y_pred_ = y_pred[idx]\n",
    "y_true_ = y_true[idx]\n",
    "\n",
    "plt.figure(figsize=(4,4))\n",
    "plt.hist(y_pred_-y_true_, bins=100)\n",
    "plt.xlabel('Relative error')\n",
    "plt.ylabel('Frequency')\n",
    "plt.title('Relative error distribution')\n",
    "plt.show()"
   ]
  },
  {
   "cell_type": "markdown",
   "metadata": {},
   "source": [
    "### Test with astrophysical parameters"
   ]
  },
  {
   "cell_type": "code",
   "execution_count": 15,
   "metadata": {},
   "outputs": [
    {
     "name": "stdout",
     "output_type": "stream",
     "text": [
      "\u001b[1m1563/1563\u001b[0m \u001b[32m━━━━━━━━━━━━━━━━━━━━\u001b[0m\u001b[37m\u001b[0m \u001b[1m0s\u001b[0m 233us/step\n",
      "[[49838    99]\n",
      " [   28    35]]\n",
      "Accuracy: 99.746%\n"
     ]
    }
   ],
   "source": [
    "# Get the data. This data is generated using `ler` package.\n",
    "unlensed_params = get_param_from_json(\"ler_data/unlensed_param_testing.json\")\n",
    "X_, Y_,_,_,_,_,_,dl = input_output(np.arange(len(unlensed_params['L1'])), unlensed_params)\n",
    "scalerL1 = pickle.load(open('scalerL1_final2.pkl', 'rb'))\n",
    "X_ = scalerL1.transform(X_)\n",
    "\n",
    "y_pred_ = modelL1.predict(X_).flatten()/dl\n",
    "y_true_ = Y_/dl\n",
    "cm = confusion_matrix((y_true_>8), ((y_pred_)>8))\n",
    "print(cm)\n",
    "accuracy = accuracy_score((y_true_>8), (y_pred_>8))*100\n",
    "print(f\"Accuracy: {accuracy:.3f}%\")"
   ]
  },
  {
   "cell_type": "code",
   "execution_count": 16,
   "metadata": {},
   "outputs": [
    {
     "data": {
      "image/png": "[encoded data removed]",
      "text/plain": [
       "<Figure size 400x400 with 1 Axes>"
      ]
     },
     "metadata": {},
     "output_type": "display_data"
    }
   ],
   "source": [
    "# y_pred_ = modelL1.predict(X_).flatten()\n",
    "# y_test_ = Y_.copy()\n",
    "# y_test = Y_\n",
    "hist_ = y_pred_-y_true_\n",
    "idx = (y_true_>6) & (y_true_<10)  # selection wrt snr\n",
    "# idx = idx & (X_[:,2]>-2)  # selection wrt eta\n",
    "hist_ = hist_[idx]\n",
    "plt.figure(figsize=(4,4)) \n",
    "plt.hist(hist_, bins=100, histtype='step', density=True)\n",
    "# plt.xlim(-5,5)\n",
    "plt.xlabel('snr_ml and snr_inner_product difference')\n",
    "plt.ylabel('pdf')\n",
    "plt.grid(alpha=0.4)\n",
    "plt.show()"
   ]
  },
  {
   "cell_type": "markdown",
   "metadata": {},
   "source": [
    "* not good enough"
   ]
  },
  {
   "cell_type": "code",
   "execution_count": 32,
   "metadata": {},
   "outputs": [
    {
     "name": "stdout",
     "output_type": "stream",
     "text": [
      "[[4.50827322 3.89710769]\n",
      " [4.14749742 4.33615409]\n",
      " [4.05061945 4.40511338]\n",
      " [4.4080634  6.53987562]\n",
      " [4.28277849 4.28398339]\n",
      " [5.38910224 4.88480809]\n",
      " [7.62235847 7.64317072]\n",
      " [6.14288915 6.45474988]\n",
      " [4.42235409 4.34786309]\n",
      " [5.1236819  5.31394697]\n",
      " [4.34959218 5.49669684]\n",
      " [4.19277564 3.27550753]\n",
      " [4.0038338  7.42176855]\n",
      " [4.00365663 4.37354735]\n",
      " [5.67748522 6.43454205]]\n"
     ]
    }
   ],
   "source": [
    "idx = (y_pred_>4)&(y_pred_<10)\n",
    "y_pred = y_pred_[idx]\n",
    "y_true = y_true_[idx]\n",
    "print(np.concatenate((y_pred.reshape(len(y_pred),1), y_true.reshape(len(y_true),1)),1)[10:25])"
   ]
  },
  {
   "cell_type": "code",
   "execution_count": null,
   "metadata": {},
   "outputs": [],
   "source": []
  },
  {
   "cell_type": "markdown",
   "metadata": {},
   "source": [
    "### Error analysis"
   ]
  },
  {
   "cell_type": "code",
   "execution_count": 40,
   "metadata": {},
   "outputs": [
    {
     "name": "stdout",
     "output_type": "stream",
     "text": [
      "slope: -0.0160, intercept: -0.0015\n",
      "\u001b[1m1563/1563\u001b[0m \u001b[32m━━━━━━━━━━━━━━━━━━━━\u001b[0m\u001b[37m\u001b[0m \u001b[1m0s\u001b[0m 286us/step\n",
      "[[49885    52]\n",
      " [    6    57]]\n",
      "Accuracy (after error ajustment): 99.884%\n"
     ]
    }
   ],
   "source": [
    "# do linear fitting of the error y_pred-y_test\n",
    "from scipy.optimize import curve_fit\n",
    "\n",
    "def func(x, a, b):\n",
    "    return a*x + b\n",
    "\n",
    "idx = (y_pred_>4) & (y_pred_<10)\n",
    "idx = idx & (y_test_!=0)\n",
    "popt, pcov = curve_fit(func, y_pred_[idx], y_pred_[idx]-y_test_[idx])\n",
    "print(f\"slope: {popt[0]:.4f}, intercept: {popt[1]:.4f}\")\n",
    "\n",
    "a,b = popt\n",
    "y_pred_ = modelL1.predict(X_).flatten()\n",
    "y_pred_ = y_pred_-(a*y_pred_ + b)\n",
    "y_test_ = Y_\n",
    "cm = confusion_matrix((y_test_>8), ((y_pred_)>8))\n",
    "print(cm)\n",
    "accuracy = accuracy_score((y_test_>8), (y_pred_>8))*100\n",
    "print(f\"Accuracy (after error ajustment): {accuracy:.3f}%\")"
   ]
  },
  {
   "cell_type": "code",
   "execution_count": 42,
   "metadata": {},
   "outputs": [],
   "source": [
    "# save adjustment function as pickle\n",
    "def correction(x):\n",
    "    a = -0.0160\n",
    "    b = -0.0015\n",
    "    return a*x + b\n",
    "\n",
    "pickle.dump(correction, open('correctionL1_final.pkl', 'wb'))"
   ]
  },
  {
   "cell_type": "code",
   "execution_count": 27,
   "metadata": {},
   "outputs": [
    {
     "name": "stdout",
     "output_type": "stream",
     "text": [
      "[[16113.72558594 15822.5221076 ]\n",
      " [23815.27929688 22344.25827187]\n",
      " [ 9811.81542969  7737.96259477]\n",
      " ...\n",
      " [23815.28125    36043.07212574]\n",
      " [12603.15234375 12575.07867475]\n",
      " [ 3247.22509766  2306.1364013 ]]\n"
     ]
    }
   ],
   "source": []
  },
  {
   "cell_type": "markdown",
   "metadata": {},
   "source": [
    "## H1"
   ]
  },
  {
   "cell_type": "code",
   "execution_count": 64,
   "metadata": {},
   "outputs": [
    {
     "name": "stdout",
     "output_type": "stream",
     "text": [
      "size before SNR cut: 425469\n",
      "size after SNR cut: 413822\n"
     ]
    }
   ],
   "source": [
    "# the naming of data files are based on what you have saved. Refer to 'training_data_generation_ann.ipynb' to see how the data is generated with `ler` package and saved.\n",
    "\n",
    "# joint all dict\n",
    "unlensed_params = get_param_from_json(\"snr_H1.json\")\n",
    "unlensed_params3 = get_param_from_json(\"joint_new_optsnr2.json\")\n",
    "unlensed_params4 = get_param_from_json(\"joint_new_optsnr3.json\")\n",
    "unlensed_params5 = get_param_from_json(\"joint_new_optsnr4.json\")\n",
    "unlensed_params6 = get_param_from_json(\"joint_new_optsnr5.json\")\n",
    "unlensed_params7 = get_param_from_json(\"joint_new_optsnr6.json\")\n",
    "unlensed_params8 = get_param_from_json(\"joint_new_optsnr_uniform.json\")\n",
    "unlensed_params = add_dict_values(unlensed_params, unlensed_params3)\n",
    "unlensed_params = add_dict_values(unlensed_params, unlensed_params4)\n",
    "unlensed_params = add_dict_values(unlensed_params, unlensed_params5)\n",
    "unlensed_params = add_dict_values(unlensed_params, unlensed_params6)\n",
    "unlensed_params = add_dict_values(unlensed_params, unlensed_params7)\n",
    "unlensed_params = add_dict_values(unlensed_params, unlensed_params8)\n",
    "del unlensed_params8\n",
    "del unlensed_params3, unlensed_params4, unlensed_params5, unlensed_params6, unlensed_params7\n",
    "print(f\"size before SNR cut: {len(unlensed_params['H1'])}\")\n",
    "# set SNR cut\n",
    "# this is optimise the ANN by ignoring the high SNR\n",
    "idx_constrain = unlensed_params['H1']<100\n",
    "for key, value in unlensed_params.items():\n",
    "    unlensed_params[key] = value[idx_constrain]\n",
    "\n",
    "print(f\"size after SNR cut: {len(unlensed_params['H1'])}\")"
   ]
  },
  {
   "cell_type": "code",
   "execution_count": 65,
   "metadata": {},
   "outputs": [
    {
     "data": {
      "text/plain": [
       "(413822, 5)"
      ]
     },
     "execution_count": 65,
     "metadata": {},
     "output_type": "execute_result"
    }
   ],
   "source": [
    "len_ = len(unlensed_params['H1'])\n",
    "idx = np.arange(len_)\n",
    "# randomize the train set\n",
    "idx = np.random.permutation(idx)\n",
    "_, _, XH1, yH1, _, _, _ = input_output(idx, unlensed_params)\n",
    "np.shape(XH1)"
   ]
  },
  {
   "cell_type": "markdown",
   "metadata": {},
   "source": [
    "### Feature scaling"
   ]
  },
  {
   "cell_type": "code",
   "execution_count": 66,
   "metadata": {},
   "outputs": [],
   "source": [
    "X_train, X_test, y_train, y_test = train_test_split(XH1, yH1, test_size = 0.1, random_state = 0)\n",
    "\n",
    "# # Uncomment the following if you have already generated the scaler\n",
    "\n",
    "# # load the scaler\n",
    "# scalerH1 = pickle.load(open('scalerH1_final.pkl', 'rb'))\n",
    "# sc = scalerH1\n",
    "# X_train = sc.transform(X_train)\n",
    "# X_test = sc.transform(X_test)\n",
    "\n",
    "# Uncomment the following if you have not generated the scaler\n",
    "\n",
    "# feature scaling\n",
    "sc = StandardScaler()\n",
    "X_train = sc.fit_transform(X_train)\n",
    "X_test = sc.transform(X_test)\n",
    "\n",
    "# save the scaler\n",
    "pickle.dump(sc, open('scalerH1_final.pkl', 'wb'))"
   ]
  },
  {
   "cell_type": "code",
   "execution_count": 67,
   "metadata": {},
   "outputs": [
    {
     "name": "stdout",
     "output_type": "stream",
     "text": [
      "Epoch 1/100\n",
      "\u001b[1m11639/11639\u001b[0m \u001b[32m━━━━━━━━━━━━━━━━━━━━\u001b[0m\u001b[37m\u001b[0m \u001b[1m4s\u001b[0m 346us/step - accuracy: 3.0232e-05 - loss: 78.3699\n",
      "Epoch 2/100\n",
      "\u001b[1m11639/11639\u001b[0m \u001b[32m━━━━━━━━━━━━━━━━━━━━\u001b[0m\u001b[37m\u001b[0m \u001b[1m4s\u001b[0m 354us/step - accuracy: 0.0000e+00 - loss: 5.5597\n",
      "Epoch 3/100\n",
      "\u001b[1m11639/11639\u001b[0m \u001b[32m━━━━━━━━━━━━━━━━━━━━\u001b[0m\u001b[37m\u001b[0m \u001b[1m4s\u001b[0m 343us/step - accuracy: 0.0000e+00 - loss: 5.3319\n",
      "Epoch 4/100\n",
      "\u001b[1m11639/11639\u001b[0m \u001b[32m━━━━━━━━━━━━━━━━━━━━\u001b[0m\u001b[37m\u001b[0m \u001b[1m4s\u001b[0m 336us/step - accuracy: 3.8461e-06 - loss: 5.1318\n",
      "Epoch 5/100\n",
      "\u001b[1m11639/11639\u001b[0m \u001b[32m━━━━━━━━━━━━━━━━━━━━\u001b[0m\u001b[37m\u001b[0m \u001b[1m4s\u001b[0m 334us/step - accuracy: 2.7003e-06 - loss: 5.2215\n",
      "Epoch 6/100\n",
      "\u001b[1m11639/11639\u001b[0m \u001b[32m━━━━━━━━━━━━━━━━━━━━\u001b[0m\u001b[37m\u001b[0m \u001b[1m4s\u001b[0m 336us/step - accuracy: 7.1926e-06 - loss: 5.2535\n",
      "Epoch 7/100\n",
      "\u001b[1m11639/11639\u001b[0m \u001b[32m━━━━━━━━━━━━━━━━━━━━\u001b[0m\u001b[37m\u001b[0m \u001b[1m4s\u001b[0m 349us/step - accuracy: 1.3457e-05 - loss: 5.1201\n",
      "Epoch 8/100\n",
      "\u001b[1m11639/11639\u001b[0m \u001b[32m━━━━━━━━━━━━━━━━━━━━\u001b[0m\u001b[37m\u001b[0m \u001b[1m4s\u001b[0m 368us/step - accuracy: 3.4992e-06 - loss: 5.0459\n",
      "Epoch 9/100\n",
      "\u001b[1m11639/11639\u001b[0m \u001b[32m━━━━━━━━━━━━━━━━━━━━\u001b[0m\u001b[37m\u001b[0m \u001b[1m4s\u001b[0m 360us/step - accuracy: 5.2687e-06 - loss: 4.9651\n",
      "Epoch 10/100\n",
      "\u001b[1m11639/11639\u001b[0m \u001b[32m━━━━━━━━━━━━━━━━━━━━\u001b[0m\u001b[37m\u001b[0m \u001b[1m4s\u001b[0m 357us/step - accuracy: 1.1979e-06 - loss: 5.1233\n",
      "Epoch 11/100\n",
      "\u001b[1m11639/11639\u001b[0m \u001b[32m━━━━━━━━━━━━━━━━━━━━\u001b[0m\u001b[37m\u001b[0m \u001b[1m4s\u001b[0m 341us/step - accuracy: 3.1416e-06 - loss: 4.9261\n",
      "Epoch 12/100\n",
      "\u001b[1m11639/11639\u001b[0m \u001b[32m━━━━━━━━━━━━━━━━━━━━\u001b[0m\u001b[37m\u001b[0m \u001b[1m4s\u001b[0m 343us/step - accuracy: 3.2037e-06 - loss: 4.9947\n",
      "Epoch 13/100\n",
      "\u001b[1m11639/11639\u001b[0m \u001b[32m━━━━━━━━━━━━━━━━━━━━\u001b[0m\u001b[37m\u001b[0m \u001b[1m4s\u001b[0m 343us/step - accuracy: 6.9753e-06 - loss: 5.0194\n",
      "Epoch 14/100\n",
      "\u001b[1m11639/11639\u001b[0m \u001b[32m━━━━━━━━━━━━━━━━━━━━\u001b[0m\u001b[37m\u001b[0m \u001b[1m4s\u001b[0m 349us/step - accuracy: 1.7016e-05 - loss: 4.8845\n",
      "Epoch 15/100\n",
      "\u001b[1m11639/11639\u001b[0m \u001b[32m━━━━━━━━━━━━━━━━━━━━\u001b[0m\u001b[37m\u001b[0m \u001b[1m4s\u001b[0m 349us/step - accuracy: 4.1745e-06 - loss: 5.0349\n",
      "Epoch 16/100\n",
      "\u001b[1m11639/11639\u001b[0m \u001b[32m━━━━━━━━━━━━━━━━━━━━\u001b[0m\u001b[37m\u001b[0m \u001b[1m4s\u001b[0m 355us/step - accuracy: 2.1837e-06 - loss: 4.8577\n",
      "Epoch 17/100\n",
      "\u001b[1m11639/11639\u001b[0m \u001b[32m━━━━━━━━━━━━━━━━━━━━\u001b[0m\u001b[37m\u001b[0m \u001b[1m4s\u001b[0m 371us/step - accuracy: 2.6296e-06 - loss: 4.9196\n",
      "Epoch 18/100\n",
      "\u001b[1m11639/11639\u001b[0m \u001b[32m━━━━━━━━━━━━━━━━━━━━\u001b[0m\u001b[37m\u001b[0m \u001b[1m4s\u001b[0m 362us/step - accuracy: 1.8412e-05 - loss: 4.9658\n",
      "Epoch 19/100\n",
      "\u001b[1m11639/11639\u001b[0m \u001b[32m━━━━━━━━━━━━━━━━━━━━\u001b[0m\u001b[37m\u001b[0m \u001b[1m4s\u001b[0m 353us/step - accuracy: 4.6837e-06 - loss: 4.9378\n",
      "Epoch 20/100\n",
      "\u001b[1m11639/11639\u001b[0m \u001b[32m━━━━━━━━━━━━━━━━━━━━\u001b[0m\u001b[37m\u001b[0m \u001b[1m4s\u001b[0m 357us/step - accuracy: 7.3697e-06 - loss: 4.9685\n",
      "Epoch 21/100\n",
      "\u001b[1m11639/11639\u001b[0m \u001b[32m━━━━━━━━━━━━━━━━━━━━\u001b[0m\u001b[37m\u001b[0m \u001b[1m4s\u001b[0m 348us/step - accuracy: 9.4766e-06 - loss: 4.9208\n",
      "Epoch 22/100\n",
      "\u001b[1m11639/11639\u001b[0m \u001b[32m━━━━━━━━━━━━━━━━━━━━\u001b[0m\u001b[37m\u001b[0m \u001b[1m4s\u001b[0m 362us/step - accuracy: 5.9729e-06 - loss: 4.8032\n",
      "Epoch 23/100\n",
      "\u001b[1m11639/11639\u001b[0m \u001b[32m━━━━━━━━━━━━━━━━━━━━\u001b[0m\u001b[37m\u001b[0m \u001b[1m4s\u001b[0m 363us/step - accuracy: 1.3898e-05 - loss: 5.0124\n",
      "Epoch 24/100\n",
      "\u001b[1m11639/11639\u001b[0m \u001b[32m━━━━━━━━━━━━━━━━━━━━\u001b[0m\u001b[37m\u001b[0m \u001b[1m4s\u001b[0m 348us/step - accuracy: 5.6328e-06 - loss: 4.9171\n",
      "Epoch 25/100\n",
      "\u001b[1m11639/11639\u001b[0m \u001b[32m━━━━━━━━━━━━━━━━━━━━\u001b[0m\u001b[37m\u001b[0m \u001b[1m4s\u001b[0m 360us/step - accuracy: 4.8742e-06 - loss: 4.7920\n",
      "Epoch 26/100\n",
      "\u001b[1m11639/11639\u001b[0m \u001b[32m━━━━━━━━━━━━━━━━━━━━\u001b[0m\u001b[37m\u001b[0m \u001b[1m4s\u001b[0m 358us/step - accuracy: 9.0592e-06 - loss: 4.9706\n",
      "Epoch 27/100\n",
      "\u001b[1m11639/11639\u001b[0m \u001b[32m━━━━━━━━━━━━━━━━━━━━\u001b[0m\u001b[37m\u001b[0m \u001b[1m4s\u001b[0m 344us/step - accuracy: 5.8095e-06 - loss: 4.9029\n",
      "Epoch 28/100\n",
      "\u001b[1m11639/11639\u001b[0m \u001b[32m━━━━━━━━━━━━━━━━━━━━\u001b[0m\u001b[37m\u001b[0m \u001b[1m4s\u001b[0m 345us/step - accuracy: 2.4176e-06 - loss: 4.8011\n",
      "Epoch 29/100\n",
      "\u001b[1m11639/11639\u001b[0m \u001b[32m━━━━━━━━━━━━━━━━━━━━\u001b[0m\u001b[37m\u001b[0m \u001b[1m4s\u001b[0m 353us/step - accuracy: 4.0714e-06 - loss: 4.8488\n",
      "Epoch 30/100\n",
      "\u001b[1m11639/11639\u001b[0m \u001b[32m━━━━━━━━━━━━━━━━━━━━\u001b[0m\u001b[37m\u001b[0m \u001b[1m4s\u001b[0m 352us/step - accuracy: 2.1903e-05 - loss: 4.9839\n",
      "Epoch 31/100\n",
      "\u001b[1m11639/11639\u001b[0m \u001b[32m━━━━━━━━━━━━━━━━━━━━\u001b[0m\u001b[37m\u001b[0m \u001b[1m4s\u001b[0m 344us/step - accuracy: 8.7866e-06 - loss: 4.9374\n",
      "Epoch 32/100\n",
      "\u001b[1m11639/11639\u001b[0m \u001b[32m━━━━━━━━━━━━━━━━━━━━\u001b[0m\u001b[37m\u001b[0m \u001b[1m4s\u001b[0m 362us/step - accuracy: 1.5727e-05 - loss: 4.9169\n",
      "Epoch 33/100\n",
      "\u001b[1m11639/11639\u001b[0m \u001b[32m━━━━━━━━━━━━━━━━━━━━\u001b[0m\u001b[37m\u001b[0m \u001b[1m4s\u001b[0m 347us/step - accuracy: 4.5255e-06 - loss: 4.6958\n",
      "Epoch 34/100\n",
      "\u001b[1m11639/11639\u001b[0m \u001b[32m━━━━━━━━━━━━━━━━━━━━\u001b[0m\u001b[37m\u001b[0m \u001b[1m4s\u001b[0m 358us/step - accuracy: 6.9249e-06 - loss: 4.8748\n",
      "Epoch 35/100\n",
      "\u001b[1m11639/11639\u001b[0m \u001b[32m━━━━━━━━━━━━━━━━━━━━\u001b[0m\u001b[37m\u001b[0m \u001b[1m4s\u001b[0m 364us/step - accuracy: 1.0476e-05 - loss: 4.7102\n",
      "Epoch 36/100\n",
      "\u001b[1m11639/11639\u001b[0m \u001b[32m━━━━━━━━━━━━━━━━━━━━\u001b[0m\u001b[37m\u001b[0m \u001b[1m4s\u001b[0m 347us/step - accuracy: 6.7593e-06 - loss: 4.9155\n",
      "Epoch 37/100\n",
      "\u001b[1m11639/11639\u001b[0m \u001b[32m━━━━━━━━━━━━━━━━━━━━\u001b[0m\u001b[37m\u001b[0m \u001b[1m4s\u001b[0m 356us/step - accuracy: 2.7932e-06 - loss: 4.7846\n",
      "Epoch 38/100\n",
      "\u001b[1m11639/11639\u001b[0m \u001b[32m━━━━━━━━━━━━━━━━━━━━\u001b[0m\u001b[37m\u001b[0m \u001b[1m4s\u001b[0m 358us/step - accuracy: 1.0930e-05 - loss: 4.7308\n",
      "Epoch 39/100\n",
      "\u001b[1m11639/11639\u001b[0m \u001b[32m━━━━━━━━━━━━━━━━━━━━\u001b[0m\u001b[37m\u001b[0m \u001b[1m4s\u001b[0m 353us/step - accuracy: 1.1823e-05 - loss: 4.7059\n",
      "Epoch 40/100\n",
      "\u001b[1m11639/11639\u001b[0m \u001b[32m━━━━━━━━━━━━━━━━━━━━\u001b[0m\u001b[37m\u001b[0m \u001b[1m4s\u001b[0m 353us/step - accuracy: 2.0068e-05 - loss: 4.7904\n",
      "Epoch 41/100\n",
      "\u001b[1m11639/11639\u001b[0m \u001b[32m━━━━━━━━━━━━━━━━━━━━\u001b[0m\u001b[37m\u001b[0m \u001b[1m4s\u001b[0m 372us/step - accuracy: 3.6909e-06 - loss: 4.7055\n",
      "Epoch 42/100\n",
      "\u001b[1m11639/11639\u001b[0m \u001b[32m━━━━━━━━━━━━━━━━━━━━\u001b[0m\u001b[37m\u001b[0m \u001b[1m4s\u001b[0m 351us/step - accuracy: 8.8662e-06 - loss: 4.7421\n",
      "Epoch 43/100\n",
      "\u001b[1m11639/11639\u001b[0m \u001b[32m━━━━━━━━━━━━━━━━━━━━\u001b[0m\u001b[37m\u001b[0m \u001b[1m4s\u001b[0m 349us/step - accuracy: 1.3919e-05 - loss: 4.7084\n",
      "Epoch 44/100\n",
      "\u001b[1m11639/11639\u001b[0m \u001b[32m━━━━━━━━━━━━━━━━━━━━\u001b[0m\u001b[37m\u001b[0m \u001b[1m4s\u001b[0m 366us/step - accuracy: 7.0238e-06 - loss: 4.7104\n",
      "Epoch 45/100\n",
      "\u001b[1m11639/11639\u001b[0m \u001b[32m━━━━━━━━━━━━━━━━━━━━\u001b[0m\u001b[37m\u001b[0m \u001b[1m4s\u001b[0m 370us/step - accuracy: 1.0200e-05 - loss: 4.6851\n",
      "Epoch 46/100\n",
      "\u001b[1m11639/11639\u001b[0m \u001b[32m━━━━━━━━━━━━━━━━━━━━\u001b[0m\u001b[37m\u001b[0m \u001b[1m4s\u001b[0m 365us/step - accuracy: 8.8792e-06 - loss: 4.7884\n",
      "Epoch 47/100\n",
      "\u001b[1m11639/11639\u001b[0m \u001b[32m━━━━━━━━━━━━━━━━━━━━\u001b[0m\u001b[37m\u001b[0m \u001b[1m4s\u001b[0m 359us/step - accuracy: 2.0793e-05 - loss: 4.6756\n",
      "Epoch 48/100\n",
      "\u001b[1m11639/11639\u001b[0m \u001b[32m━━━━━━━━━━━━━━━━━━━━\u001b[0m\u001b[37m\u001b[0m \u001b[1m4s\u001b[0m 368us/step - accuracy: 8.8936e-06 - loss: 4.6028\n",
      "Epoch 49/100\n",
      "\u001b[1m11639/11639\u001b[0m \u001b[32m━━━━━━━━━━━━━━━━━━━━\u001b[0m\u001b[37m\u001b[0m \u001b[1m4s\u001b[0m 366us/step - accuracy: 2.3909e-05 - loss: 4.6028\n",
      "Epoch 50/100\n",
      "\u001b[1m11639/11639\u001b[0m \u001b[32m━━━━━━━━━━━━━━━━━━━━\u001b[0m\u001b[37m\u001b[0m \u001b[1m4s\u001b[0m 375us/step - accuracy: 1.4960e-05 - loss: 4.7767\n",
      "Epoch 51/100\n",
      "\u001b[1m11639/11639\u001b[0m \u001b[32m━━━━━━━━━━━━━━━━━━━━\u001b[0m\u001b[37m\u001b[0m \u001b[1m4s\u001b[0m 370us/step - accuracy: 1.8347e-05 - loss: 4.7516\n",
      "Epoch 52/100\n",
      "\u001b[1m11639/11639\u001b[0m \u001b[32m━━━━━━━━━━━━━━━━━━━━\u001b[0m\u001b[37m\u001b[0m \u001b[1m4s\u001b[0m 357us/step - accuracy: 6.9403e-06 - loss: 4.7768\n",
      "Epoch 53/100\n",
      "\u001b[1m11639/11639\u001b[0m \u001b[32m━━━━━━━━━━━━━━━━━━━━\u001b[0m\u001b[37m\u001b[0m \u001b[1m4s\u001b[0m 362us/step - accuracy: 3.7985e-06 - loss: 4.7325\n",
      "Epoch 54/100\n",
      "\u001b[1m11639/11639\u001b[0m \u001b[32m━━━━━━━━━━━━━━━━━━━━\u001b[0m\u001b[37m\u001b[0m \u001b[1m4s\u001b[0m 355us/step - accuracy: 2.1984e-05 - loss: 4.7332\n",
      "Epoch 55/100\n",
      "\u001b[1m11639/11639\u001b[0m \u001b[32m━━━━━━━━━━━━━━━━━━━━\u001b[0m\u001b[37m\u001b[0m \u001b[1m4s\u001b[0m 356us/step - accuracy: 3.2319e-05 - loss: 4.8564\n",
      "Epoch 56/100\n",
      "\u001b[1m11639/11639\u001b[0m \u001b[32m━━━━━━━━━━━━━━━━━━━━\u001b[0m\u001b[37m\u001b[0m \u001b[1m4s\u001b[0m 359us/step - accuracy: 1.8361e-05 - loss: 4.6987\n",
      "Epoch 57/100\n",
      "\u001b[1m11639/11639\u001b[0m \u001b[32m━━━━━━━━━━━━━━━━━━━━\u001b[0m\u001b[37m\u001b[0m \u001b[1m4s\u001b[0m 359us/step - accuracy: 1.1402e-05 - loss: 4.6246\n",
      "Epoch 58/100\n",
      "\u001b[1m11639/11639\u001b[0m \u001b[32m━━━━━━━━━━━━━━━━━━━━\u001b[0m\u001b[37m\u001b[0m \u001b[1m4s\u001b[0m 350us/step - accuracy: 2.4555e-05 - loss: 4.7051\n",
      "Epoch 59/100\n",
      "\u001b[1m11639/11639\u001b[0m \u001b[32m━━━━━━━━━━━━━━━━━━━━\u001b[0m\u001b[37m\u001b[0m \u001b[1m4s\u001b[0m 349us/step - accuracy: 1.9869e-05 - loss: 4.7592\n",
      "Epoch 60/100\n",
      "\u001b[1m11639/11639\u001b[0m \u001b[32m━━━━━━━━━━━━━━━━━━━━\u001b[0m\u001b[37m\u001b[0m \u001b[1m4s\u001b[0m 348us/step - accuracy: 1.1110e-05 - loss: 4.6854\n",
      "Epoch 61/100\n",
      "\u001b[1m11639/11639\u001b[0m \u001b[32m━━━━━━━━━━━━━━━━━━━━\u001b[0m\u001b[37m\u001b[0m \u001b[1m4s\u001b[0m 348us/step - accuracy: 2.1782e-05 - loss: 4.7688\n",
      "Epoch 62/100\n",
      "\u001b[1m11639/11639\u001b[0m \u001b[32m━━━━━━━━━━━━━━━━━━━━\u001b[0m\u001b[37m\u001b[0m \u001b[1m4s\u001b[0m 350us/step - accuracy: 4.6747e-06 - loss: 4.8007\n",
      "Epoch 63/100\n",
      "\u001b[1m11639/11639\u001b[0m \u001b[32m━━━━━━━━━━━━━━━━━━━━\u001b[0m\u001b[37m\u001b[0m \u001b[1m4s\u001b[0m 365us/step - accuracy: 1.3072e-05 - loss: 4.7061\n",
      "Epoch 64/100\n",
      "\u001b[1m11639/11639\u001b[0m \u001b[32m━━━━━━━━━━━━━━━━━━━━\u001b[0m\u001b[37m\u001b[0m \u001b[1m4s\u001b[0m 349us/step - accuracy: 7.5023e-06 - loss: 4.6836\n",
      "Epoch 65/100\n",
      "\u001b[1m11639/11639\u001b[0m \u001b[32m━━━━━━━━━━━━━━━━━━━━\u001b[0m\u001b[37m\u001b[0m \u001b[1m4s\u001b[0m 349us/step - accuracy: 2.2671e-05 - loss: 4.7992\n",
      "Epoch 66/100\n",
      "\u001b[1m11639/11639\u001b[0m \u001b[32m━━━━━━━━━━━━━━━━━━━━\u001b[0m\u001b[37m\u001b[0m \u001b[1m4s\u001b[0m 351us/step - accuracy: 1.3492e-05 - loss: 4.8434\n",
      "Epoch 67/100\n",
      "\u001b[1m11639/11639\u001b[0m \u001b[32m━━━━━━━━━━━━━━━━━━━━\u001b[0m\u001b[37m\u001b[0m \u001b[1m4s\u001b[0m 351us/step - accuracy: 1.5922e-05 - loss: 4.8750\n",
      "Epoch 68/100\n",
      "\u001b[1m11639/11639\u001b[0m \u001b[32m━━━━━━━━━━━━━━━━━━━━\u001b[0m\u001b[37m\u001b[0m \u001b[1m4s\u001b[0m 363us/step - accuracy: 8.8008e-06 - loss: 4.7434\n",
      "Epoch 69/100\n",
      "\u001b[1m11639/11639\u001b[0m \u001b[32m━━━━━━━━━━━━━━━━━━━━\u001b[0m\u001b[37m\u001b[0m \u001b[1m4s\u001b[0m 351us/step - accuracy: 3.2794e-06 - loss: 4.7177\n",
      "Epoch 70/100\n",
      "\u001b[1m11639/11639\u001b[0m \u001b[32m━━━━━━━━━━━━━━━━━━━━\u001b[0m\u001b[37m\u001b[0m \u001b[1m4s\u001b[0m 352us/step - accuracy: 1.6718e-05 - loss: 4.5797\n",
      "Epoch 71/100\n",
      "\u001b[1m11639/11639\u001b[0m \u001b[32m━━━━━━━━━━━━━━━━━━━━\u001b[0m\u001b[37m\u001b[0m \u001b[1m4s\u001b[0m 371us/step - accuracy: 2.4811e-05 - loss: 4.6422\n",
      "Epoch 72/100\n",
      "\u001b[1m11639/11639\u001b[0m \u001b[32m━━━━━━━━━━━━━━━━━━━━\u001b[0m\u001b[37m\u001b[0m \u001b[1m4s\u001b[0m 368us/step - accuracy: 1.2853e-05 - loss: 4.6945\n",
      "Epoch 73/100\n",
      "\u001b[1m11639/11639\u001b[0m \u001b[32m━━━━━━━━━━━━━━━━━━━━\u001b[0m\u001b[37m\u001b[0m \u001b[1m4s\u001b[0m 358us/step - accuracy: 3.4074e-05 - loss: 4.7171\n",
      "Epoch 74/100\n",
      "\u001b[1m11639/11639\u001b[0m \u001b[32m━━━━━━━━━━━━━━━━━━━━\u001b[0m\u001b[37m\u001b[0m \u001b[1m4s\u001b[0m 358us/step - accuracy: 1.6041e-06 - loss: 4.6882\n",
      "Epoch 75/100\n",
      "\u001b[1m11639/11639\u001b[0m \u001b[32m━━━━━━━━━━━━━━━━━━━━\u001b[0m\u001b[37m\u001b[0m \u001b[1m4s\u001b[0m 352us/step - accuracy: 4.4484e-06 - loss: 4.6401\n",
      "Epoch 76/100\n",
      "\u001b[1m11639/11639\u001b[0m \u001b[32m━━━━━━━━━━━━━━━━━━━━\u001b[0m\u001b[37m\u001b[0m \u001b[1m4s\u001b[0m 362us/step - accuracy: 1.4909e-05 - loss: 4.5957\n",
      "Epoch 77/100\n",
      "\u001b[1m11639/11639\u001b[0m \u001b[32m━━━━━━━━━━━━━━━━━━━━\u001b[0m\u001b[37m\u001b[0m \u001b[1m4s\u001b[0m 382us/step - accuracy: 1.1216e-05 - loss: 4.7678\n",
      "Epoch 78/100\n",
      "\u001b[1m11639/11639\u001b[0m \u001b[32m━━━━━━━━━━━━━━━━━━━━\u001b[0m\u001b[37m\u001b[0m \u001b[1m4s\u001b[0m 365us/step - accuracy: 1.8271e-05 - loss: 4.7561\n",
      "Epoch 79/100\n",
      "\u001b[1m11639/11639\u001b[0m \u001b[32m━━━━━━━━━━━━━━━━━━━━\u001b[0m\u001b[37m\u001b[0m \u001b[1m4s\u001b[0m 367us/step - accuracy: 1.4806e-05 - loss: 4.7927\n",
      "Epoch 80/100\n",
      "\u001b[1m11639/11639\u001b[0m \u001b[32m━━━━━━━━━━━━━━━━━━━━\u001b[0m\u001b[37m\u001b[0m \u001b[1m4s\u001b[0m 357us/step - accuracy: 8.4087e-06 - loss: 4.7289\n",
      "Epoch 81/100\n",
      "\u001b[1m11639/11639\u001b[0m \u001b[32m━━━━━━━━━━━━━━━━━━━━\u001b[0m\u001b[37m\u001b[0m \u001b[1m5s\u001b[0m 437us/step - accuracy: 1.9286e-05 - loss: 4.5575\n",
      "Epoch 82/100\n",
      "\u001b[1m11639/11639\u001b[0m \u001b[32m━━━━━━━━━━━━━━━━━━━━\u001b[0m\u001b[37m\u001b[0m \u001b[1m5s\u001b[0m 406us/step - accuracy: 2.3122e-05 - loss: 4.6989\n",
      "Epoch 83/100\n",
      "\u001b[1m11639/11639\u001b[0m \u001b[32m━━━━━━━━━━━━━━━━━━━━\u001b[0m\u001b[37m\u001b[0m \u001b[1m4s\u001b[0m 363us/step - accuracy: 1.7639e-05 - loss: 4.7699\n",
      "Epoch 84/100\n",
      "\u001b[1m11639/11639\u001b[0m \u001b[32m━━━━━━━━━━━━━━━━━━━━\u001b[0m\u001b[37m\u001b[0m \u001b[1m4s\u001b[0m 359us/step - accuracy: 1.1376e-05 - loss: 4.6949\n",
      "Epoch 85/100\n",
      "\u001b[1m11639/11639\u001b[0m \u001b[32m━━━━━━━━━━━━━━━━━━━━\u001b[0m\u001b[37m\u001b[0m \u001b[1m5s\u001b[0m 397us/step - accuracy: 9.4003e-06 - loss: 4.7141\n",
      "Epoch 86/100\n",
      "\u001b[1m11639/11639\u001b[0m \u001b[32m━━━━━━━━━━━━━━━━━━━━\u001b[0m\u001b[37m\u001b[0m \u001b[1m5s\u001b[0m 410us/step - accuracy: 2.2422e-05 - loss: 4.6262\n",
      "Epoch 87/100\n",
      "\u001b[1m11639/11639\u001b[0m \u001b[32m━━━━━━━━━━━━━━━━━━━━\u001b[0m\u001b[37m\u001b[0m \u001b[1m4s\u001b[0m 380us/step - accuracy: 2.9378e-05 - loss: 4.6965\n",
      "Epoch 88/100\n",
      "\u001b[1m11639/11639\u001b[0m \u001b[32m━━━━━━━━━━━━━━━━━━━━\u001b[0m\u001b[37m\u001b[0m \u001b[1m4s\u001b[0m 379us/step - accuracy: 2.5299e-05 - loss: 4.7003\n",
      "Epoch 89/100\n",
      "\u001b[1m11639/11639\u001b[0m \u001b[32m━━━━━━━━━━━━━━━━━━━━\u001b[0m\u001b[37m\u001b[0m \u001b[1m6s\u001b[0m 482us/step - accuracy: 2.0925e-05 - loss: 4.6801\n",
      "Epoch 90/100\n",
      "\u001b[1m11639/11639\u001b[0m \u001b[32m━━━━━━━━━━━━━━━━━━━━\u001b[0m\u001b[37m\u001b[0m \u001b[1m5s\u001b[0m 424us/step - accuracy: 3.4489e-05 - loss: 4.6217\n",
      "Epoch 91/100\n",
      "\u001b[1m11639/11639\u001b[0m \u001b[32m━━━━━━━━━━━━━━━━━━━━\u001b[0m\u001b[37m\u001b[0m \u001b[1m6s\u001b[0m 471us/step - accuracy: 2.2224e-05 - loss: 4.6075\n",
      "Epoch 92/100\n",
      "\u001b[1m11639/11639\u001b[0m \u001b[32m━━━━━━━━━━━━━━━━━━━━\u001b[0m\u001b[37m\u001b[0m \u001b[1m5s\u001b[0m 393us/step - accuracy: 2.1319e-05 - loss: 4.7217\n",
      "Epoch 93/100\n",
      "\u001b[1m11639/11639\u001b[0m \u001b[32m━━━━━━━━━━━━━━━━━━━━\u001b[0m\u001b[37m\u001b[0m \u001b[1m5s\u001b[0m 398us/step - accuracy: 2.5953e-05 - loss: 4.8175\n",
      "Epoch 94/100\n",
      "\u001b[1m11639/11639\u001b[0m \u001b[32m━━━━━━━━━━━━━━━━━━━━\u001b[0m\u001b[37m\u001b[0m \u001b[1m4s\u001b[0m 364us/step - accuracy: 1.8154e-05 - loss: 4.6539\n",
      "Epoch 95/100\n",
      "\u001b[1m11639/11639\u001b[0m \u001b[32m━━━━━━━━━━━━━━━━━━━━\u001b[0m\u001b[37m\u001b[0m \u001b[1m4s\u001b[0m 365us/step - accuracy: 3.2375e-05 - loss: 4.4961\n",
      "Epoch 96/100\n",
      "\u001b[1m11639/11639\u001b[0m \u001b[32m━━━━━━━━━━━━━━━━━━━━\u001b[0m\u001b[37m\u001b[0m \u001b[1m4s\u001b[0m 372us/step - accuracy: 3.5605e-05 - loss: 4.6528\n",
      "Epoch 97/100\n",
      "\u001b[1m11639/11639\u001b[0m \u001b[32m━━━━━━━━━━━━━━━━━━━━\u001b[0m\u001b[37m\u001b[0m \u001b[1m4s\u001b[0m 370us/step - accuracy: 1.1832e-05 - loss: 4.6952\n",
      "Epoch 98/100\n",
      "\u001b[1m11639/11639\u001b[0m \u001b[32m━━━━━━━━━━━━━━━━━━━━\u001b[0m\u001b[37m\u001b[0m \u001b[1m4s\u001b[0m 376us/step - accuracy: 1.4146e-05 - loss: 4.7436\n",
      "Epoch 99/100\n",
      "\u001b[1m11639/11639\u001b[0m \u001b[32m━━━━━━━━━━━━━━━━━━━━\u001b[0m\u001b[37m\u001b[0m \u001b[1m4s\u001b[0m 374us/step - accuracy: 8.2151e-06 - loss: 4.6403\n",
      "Epoch 100/100\n",
      "\u001b[1m11639/11639\u001b[0m \u001b[32m━━━━━━━━━━━━━━━━━━━━\u001b[0m\u001b[37m\u001b[0m \u001b[1m4s\u001b[0m 380us/step - accuracy: 1.5186e-05 - loss: 4.6126\n"
     ]
    },
    {
     "data": {
      "text/plain": [
       "<keras.src.callbacks.history.History at 0x328092e60>"
      ]
     },
     "execution_count": 67,
     "metadata": {},
     "output_type": "execute_result"
    }
   ],
   "source": [
    "# Uncomment the following if you have already trained the model\n",
    "\n",
    "# initialize the ANN\n",
    "ann = tf.keras.models.Sequential() \n",
    "\n",
    "# adding the input layer and the first hidden layer\n",
    "# units=5, where 5 is the number of neurons in the first input layer\n",
    "ann.add(tf.keras.layers.Dense(units=5, activation='relu'))\n",
    "# adding the second hidden layer\n",
    "ann.add(tf.keras.layers.Dense(units=32, activation='relu'))\n",
    "# adding the third hidden layer\n",
    "ann.add(tf.keras.layers.Dense(units=32, activation='sigmoid'))\n",
    "# adding the output layer, absolute value of the snr\n",
    "ann.add(tf.keras.layers.Dense(units=1, activation='linear'))\n",
    "\n",
    "# compile the ANN\n",
    "ann.compile(optimizer = 'adam', loss = 'mean_squared_error', metrics = ['accuracy'])\n",
    "\n",
    "# train the ANN on the training set\n",
    "ann.fit(X_train, y_train, batch_size = 32, epochs = 100)"
   ]
  },
  {
   "cell_type": "code",
   "execution_count": 68,
   "metadata": {},
   "outputs": [
    {
     "name": "stdout",
     "output_type": "stream",
     "text": [
      "WARNING:absl:You are saving your model as an HDF5 file via `model.save()` or `keras.saving.save_model(model)`. This file format is considered legacy. We recommend using instead the native Keras format, e.g. `model.save('my_model.keras')` or `keras.saving.save_model(model, 'my_model.keras')`. \n"
     ]
    }
   ],
   "source": [
    "# Uncomment the following if you have not trained the model\n",
    "\n",
    "# Save the model to a file\n",
    "ann.save('ann_modelH1_final.h5')\n",
    "modelH1 = ann"
   ]
  },
  {
   "cell_type": "code",
   "execution_count": 69,
   "metadata": {},
   "outputs": [],
   "source": [
    "# # Uncomment the following if you have already generated the model\n",
    "\n",
    "# # load the model\n",
    "# modelH1 = load_model('ann_modelH1_final.h5')"
   ]
  },
  {
   "cell_type": "markdown",
   "metadata": {},
   "source": [
    "### Test the Model on the test data"
   ]
  },
  {
   "cell_type": "code",
   "execution_count": 70,
   "metadata": {},
   "outputs": [
    {
     "name": "stdout",
     "output_type": "stream",
     "text": [
      "\u001b[1m1294/1294\u001b[0m \u001b[32m━━━━━━━━━━━━━━━━━━━━\u001b[0m\u001b[37m\u001b[0m \u001b[1m0s\u001b[0m 329us/step\n",
      "[[ 4.96230125  4.84736541]\n",
      " [ 7.58518314  7.64844737]\n",
      " [ 1.84228086  1.58306088]\n",
      " [21.90776062 24.89381283]\n",
      " [ 2.82919002  1.22388503]\n",
      " [ 3.93394399  4.19605154]\n",
      " [ 6.33704376  7.1175841 ]\n",
      " [12.63951111 10.88828453]\n",
      " [10.32448864  9.23047953]\n",
      " [ 4.10675144  4.2330612 ]\n",
      " [ 4.29956722  3.81040391]\n",
      " [17.14282608 16.21788563]\n",
      " [35.83976364 33.74693141]\n",
      " [ 6.28044415  5.6103741 ]\n",
      " [ 3.06850338  2.23600285]]\n"
     ]
    }
   ],
   "source": [
    "# left: predicted snr, right: actual snr\n",
    "y_pred = modelH1.predict(X_test)\n",
    "#y_pred = (y_pred > 0.5)\n",
    "print(np.concatenate((y_pred.reshape(len(y_pred),1), y_test.reshape(len(y_test),1)),1)[10:25])"
   ]
  },
  {
   "cell_type": "code",
   "execution_count": 71,
   "metadata": {},
   "outputs": [
    {
     "name": "stdout",
     "output_type": "stream",
     "text": [
      "Error: 3.95%\n"
     ]
    }
   ],
   "source": [
    "# calculate the error\n",
    "len1 = len(y_pred)\n",
    "len2 = np.sum((y_pred.flatten()>8) != (y_test>8))\n",
    "error = len2/len1*100\n",
    "print(f\"Error: {error:.2f}%\")"
   ]
  },
  {
   "cell_type": "markdown",
   "metadata": {},
   "source": [
    "### Test with astrophysical parameters"
   ]
  },
  {
   "cell_type": "code",
   "execution_count": 72,
   "metadata": {},
   "outputs": [
    {
     "name": "stdout",
     "output_type": "stream",
     "text": [
      "\u001b[1m1563/1563\u001b[0m \u001b[32m━━━━━━━━━━━━━━━━━━━━\u001b[0m\u001b[37m\u001b[0m \u001b[1m0s\u001b[0m 228us/step\n",
      "[[49904    41]\n",
      " [   10    45]]\n",
      "Accuracy: 99.898%\n"
     ]
    }
   ],
   "source": [
    "# Get the data. This data is generated using `ler` package.\n",
    "unlensed_params = get_param_from_json(\"ler_data/unlensed_param_testing.json\")\n",
    "_, _, X_, Y_, _, _, _ = input_output(np.arange(len(unlensed_params['H1'])), unlensed_params)\n",
    "scalerH1 = pickle.load(open('scalerH1_final.pkl', 'rb'))\n",
    "X_ = scalerH1.transform(X_)\n",
    "\n",
    "y_pred_ = modelH1.predict(X_).flatten()-0.2\n",
    "y_test_ = Y_\n",
    "cm = confusion_matrix((y_test_>8), ((y_pred_)>8))\n",
    "print(cm)\n",
    "accuracy = accuracy_score((y_test_>8), (y_pred_>8))*100\n",
    "print(f\"Accuracy: {accuracy:.3f}%\")"
   ]
  },
  {
   "cell_type": "markdown",
   "metadata": {},
   "source": [
    "### Error analysis"
   ]
  },
  {
   "cell_type": "code",
   "execution_count": 73,
   "metadata": {},
   "outputs": [
    {
     "name": "stdout",
     "output_type": "stream",
     "text": [
      "slope: -0.0183, intercept: 0.1145\n",
      "\u001b[1m   1/1563\u001b[0m \u001b[37m━━━━━━━━━━━━━━━━━━━━\u001b[0m \u001b[1m15s\u001b[0m 10ms/step"
     ]
    },
    {
     "name": "stdout",
     "output_type": "stream",
     "text": [
      "\u001b[1m1563/1563\u001b[0m \u001b[32m━━━━━━━━━━━━━━━━━━━━\u001b[0m\u001b[37m\u001b[0m \u001b[1m0s\u001b[0m 242us/step\n",
      "[[49902    43]\n",
      " [    7    48]]\n",
      "Accuracy (after error ajustment): 99.900%\n"
     ]
    }
   ],
   "source": [
    "# do linear fitting of the error y_pred-y_test\n",
    "def func(x, a, b):\n",
    "    return a*x + b\n",
    "\n",
    "idx = (y_pred_>4) & (y_pred_<10)\n",
    "idx = idx & (y_test_!=0)\n",
    "popt, pcov = curve_fit(func, y_pred_[idx], y_pred_[idx]-y_test_[idx])\n",
    "print(f\"slope: {popt[0]:.4f}, intercept: {popt[1]:.4f}\")\n",
    "\n",
    "a,b = popt\n",
    "y_pred_ = modelH1.predict(X_).flatten()\n",
    "y_pred_ = y_pred_-(a*y_pred_ + b)\n",
    "y_test_ = Y_\n",
    "cm = confusion_matrix((y_test_>8), ((y_pred_)>8))\n",
    "print(cm)\n",
    "accuracy = accuracy_score((y_test_>8), (y_pred_>8))*100\n",
    "print(f\"Accuracy (after error ajustment): {accuracy:.3f}%\")"
   ]
  },
  {
   "cell_type": "code",
   "execution_count": 74,
   "metadata": {},
   "outputs": [],
   "source": [
    "# save adjustment function as pickle\n",
    "def correction(x):\n",
    "    a = -0.0183\n",
    "    b = 0.1145\n",
    "    return a*x + b\n",
    "\n",
    "pickle.dump(correction, open('correctionH1_final.pkl', 'wb'))"
   ]
  },
  {
   "cell_type": "code",
   "execution_count": null,
   "metadata": {},
   "outputs": [],
   "source": []
  },
  {
   "cell_type": "markdown",
   "metadata": {},
   "source": [
    "## V1"
   ]
  },
  {
   "cell_type": "code",
   "execution_count": 75,
   "metadata": {},
   "outputs": [
    {
     "name": "stdout",
     "output_type": "stream",
     "text": [
      "size before SNR cut: 409441\n",
      "size after SNR cut: 400502\n"
     ]
    }
   ],
   "source": [
    "# these are pre-generated datas\n",
    "# join all dictionaries into one\n",
    "# the naming of data files are based on what you have saved. Refer to 'training_data_generation_ann.ipynb' to see how the data is generated with `ler` package and saved.\n",
    "unlensed_params = get_param_from_json(\"snr_V1.json\")\n",
    "unlensed_params3 = get_param_from_json(\"joint_new_optsnr2.json\")\n",
    "unlensed_params4 = get_param_from_json(\"joint_new_optsnr3.json\")\n",
    "unlensed_params5 = get_param_from_json(\"joint_new_optsnr4.json\")\n",
    "unlensed_params6 = get_param_from_json(\"joint_new_optsnr5.json\")\n",
    "unlensed_params7 = get_param_from_json(\"joint_new_optsnr6.json\")\n",
    "unlensed_params8 = get_param_from_json(\"joint_new_optsnr_uniform.json\")\n",
    "\n",
    "unlensed_params = add_dict_values(unlensed_params, unlensed_params3)\n",
    "unlensed_params = add_dict_values(unlensed_params, unlensed_params4)\n",
    "unlensed_params = add_dict_values(unlensed_params, unlensed_params5)\n",
    "unlensed_params = add_dict_values(unlensed_params, unlensed_params6)\n",
    "unlensed_params = add_dict_values(unlensed_params, unlensed_params7)\n",
    "unlensed_params = add_dict_values(unlensed_params, unlensed_params8)\n",
    "del unlensed_params8\n",
    "del unlensed_params3, unlensed_params4, unlensed_params5, unlensed_params6, unlensed_params7\n",
    "print(f\"size before SNR cut: {len(unlensed_params['V1'])}\")\n",
    "# set SNR cut\n",
    "idx_constrain = unlensed_params['V1']<100\n",
    "for key, value in unlensed_params.items():\n",
    "    unlensed_params[key] = value[idx_constrain]\n",
    "\n",
    "print(f\"size after SNR cut: {len(unlensed_params['V1'])}\")"
   ]
  },
  {
   "cell_type": "code",
   "execution_count": 77,
   "metadata": {},
   "outputs": [
    {
     "data": {
      "text/plain": [
       "(400502, 5)"
      ]
     },
     "execution_count": 77,
     "metadata": {},
     "output_type": "execute_result"
    }
   ],
   "source": [
    "len_ = len(unlensed_params['V1'])\n",
    "idx = np.arange(len_)\n",
    "# randomize the train set\n",
    "idx = np.random.permutation(idx)\n",
    "_, _, _, _, XV1, yV1,_ = input_output(idx, unlensed_params)\n",
    "np.shape(XV1)"
   ]
  },
  {
   "cell_type": "markdown",
   "metadata": {},
   "source": [
    "### Feature scaling"
   ]
  },
  {
   "cell_type": "code",
   "execution_count": 78,
   "metadata": {},
   "outputs": [],
   "source": [
    "X_train, X_test, y_train, y_test = train_test_split(XV1, yV1, test_size = 0.1, random_state = 0)\n",
    "\n",
    "# # Uncomment the following if you have already generated the scaler\n",
    "\n",
    "# # load the scaler\n",
    "# scalerV1 = pickle.load(open('scalerV1_final.pkl', 'rb'))\n",
    "# sc = scalerV1\n",
    "# X_train = sc.transform(X_train)\n",
    "# X_test = sc.transform(X_test)\n",
    "\n",
    "# Uncomment the following if you have not generated the scaler\n",
    "\n",
    "# feature scaling\n",
    "sc = StandardScaler()\n",
    "X_train = sc.fit_transform(X_train)\n",
    "X_test = sc.transform(X_test)\n",
    "\n",
    "# save the scaler\n",
    "pickle.dump(sc, open('scalerV1_final.pkl', 'wb'))"
   ]
  },
  {
   "cell_type": "markdown",
   "metadata": {},
   "source": [
    "### Generate ANN model"
   ]
  },
  {
   "cell_type": "code",
   "execution_count": 79,
   "metadata": {},
   "outputs": [
    {
     "name": "stdout",
     "output_type": "stream",
     "text": [
      "Epoch 1/100\n",
      "\u001b[1m11265/11265\u001b[0m \u001b[32m━━━━━━━━━━━━━━━━━━━━\u001b[0m\u001b[37m\u001b[0m \u001b[1m4s\u001b[0m 349us/step - accuracy: 0.0000e+00 - loss: 66.0442\n",
      "Epoch 2/100\n",
      "\u001b[1m11265/11265\u001b[0m \u001b[32m━━━━━━━━━━━━━━━━━━━━\u001b[0m\u001b[37m\u001b[0m \u001b[1m4s\u001b[0m 394us/step - accuracy: 1.0463e-06 - loss: 4.9734\n",
      "Epoch 3/100\n",
      "\u001b[1m11265/11265\u001b[0m \u001b[32m━━━━━━━━━━━━━━━━━━━━\u001b[0m\u001b[37m\u001b[0m \u001b[1m4s\u001b[0m 366us/step - accuracy: 1.5519e-05 - loss: 4.9371\n",
      "Epoch 4/100\n",
      "\u001b[1m11265/11265\u001b[0m \u001b[32m━━━━━━━━━━━━━━━━━━━━\u001b[0m\u001b[37m\u001b[0m \u001b[1m4s\u001b[0m 348us/step - accuracy: 2.1632e-05 - loss: 4.6072\n",
      "Epoch 5/100\n",
      "\u001b[1m11265/11265\u001b[0m \u001b[32m━━━━━━━━━━━━━━━━━━━━\u001b[0m\u001b[37m\u001b[0m \u001b[1m4s\u001b[0m 373us/step - accuracy: 4.6026e-06 - loss: 4.5132\n",
      "Epoch 6/100\n",
      "\u001b[1m11265/11265\u001b[0m \u001b[32m━━━━━━━━━━━━━━━━━━━━\u001b[0m\u001b[37m\u001b[0m \u001b[1m4s\u001b[0m 361us/step - accuracy: 3.7494e-06 - loss: 4.4700\n",
      "Epoch 7/100\n",
      "\u001b[1m11265/11265\u001b[0m \u001b[32m━━━━━━━━━━━━━━━━━━━━\u001b[0m\u001b[37m\u001b[0m \u001b[1m4s\u001b[0m 372us/step - accuracy: 1.4966e-05 - loss: 4.5616\n",
      "Epoch 8/100\n",
      "\u001b[1m11265/11265\u001b[0m \u001b[32m━━━━━━━━━━━━━━━━━━━━\u001b[0m\u001b[37m\u001b[0m \u001b[1m4s\u001b[0m 360us/step - accuracy: 3.3881e-05 - loss: 4.4328\n",
      "Epoch 9/100\n",
      "\u001b[1m11265/11265\u001b[0m \u001b[32m━━━━━━━━━━━━━━━━━━━━\u001b[0m\u001b[37m\u001b[0m \u001b[1m4s\u001b[0m 373us/step - accuracy: 9.4721e-06 - loss: 4.1724\n",
      "Epoch 10/100\n",
      "\u001b[1m11265/11265\u001b[0m \u001b[32m━━━━━━━━━━━━━━━━━━━━\u001b[0m\u001b[37m\u001b[0m \u001b[1m4s\u001b[0m 376us/step - accuracy: 2.6220e-05 - loss: 4.2867\n",
      "Epoch 11/100\n",
      "\u001b[1m11265/11265\u001b[0m \u001b[32m━━━━━━━━━━━━━━━━━━━━\u001b[0m\u001b[37m\u001b[0m \u001b[1m5s\u001b[0m 402us/step - accuracy: 3.5300e-05 - loss: 4.1375\n",
      "Epoch 12/100\n",
      "\u001b[1m11265/11265\u001b[0m \u001b[32m━━━━━━━━━━━━━━━━━━━━\u001b[0m\u001b[37m\u001b[0m \u001b[1m4s\u001b[0m 366us/step - accuracy: 1.4561e-05 - loss: 4.1850\n",
      "Epoch 13/100\n",
      "\u001b[1m11265/11265\u001b[0m \u001b[32m━━━━━━━━━━━━━━━━━━━━\u001b[0m\u001b[37m\u001b[0m \u001b[1m4s\u001b[0m 355us/step - accuracy: 3.3926e-05 - loss: 4.1376\n",
      "Epoch 14/100\n",
      "\u001b[1m11265/11265\u001b[0m \u001b[32m━━━━━━━━━━━━━━━━━━━━\u001b[0m\u001b[37m\u001b[0m \u001b[1m4s\u001b[0m 359us/step - accuracy: 5.3926e-06 - loss: 4.1597\n",
      "Epoch 15/100\n",
      "\u001b[1m11265/11265\u001b[0m \u001b[32m━━━━━━━━━━━━━━━━━━━━\u001b[0m\u001b[37m\u001b[0m \u001b[1m4s\u001b[0m 364us/step - accuracy: 2.3849e-05 - loss: 4.1602\n",
      "Epoch 16/100\n",
      "\u001b[1m11265/11265\u001b[0m \u001b[32m━━━━━━━━━━━━━━━━━━━━\u001b[0m\u001b[37m\u001b[0m \u001b[1m4s\u001b[0m 377us/step - accuracy: 5.1761e-05 - loss: 4.0518\n",
      "Epoch 17/100\n",
      "\u001b[1m11265/11265\u001b[0m \u001b[32m━━━━━━━━━━━━━━━━━━━━\u001b[0m\u001b[37m\u001b[0m \u001b[1m4s\u001b[0m 366us/step - accuracy: 5.2755e-05 - loss: 4.0694\n",
      "Epoch 18/100\n",
      "\u001b[1m11265/11265\u001b[0m \u001b[32m━━━━━━━━━━━━━━━━━━━━\u001b[0m\u001b[37m\u001b[0m \u001b[1m4s\u001b[0m 382us/step - accuracy: 6.2607e-05 - loss: 3.9156\n",
      "Epoch 19/100\n",
      "\u001b[1m11265/11265\u001b[0m \u001b[32m━━━━━━━━━━━━━━━━━━━━\u001b[0m\u001b[37m\u001b[0m \u001b[1m4s\u001b[0m 357us/step - accuracy: 4.7839e-05 - loss: 3.8609\n",
      "Epoch 20/100\n",
      "\u001b[1m11265/11265\u001b[0m \u001b[32m━━━━━━━━━━━━━━━━━━━━\u001b[0m\u001b[37m\u001b[0m \u001b[1m4s\u001b[0m 358us/step - accuracy: 6.2210e-05 - loss: 4.0367\n",
      "Epoch 21/100\n",
      "\u001b[1m11265/11265\u001b[0m \u001b[32m━━━━━━━━━━━━━━━━━━━━\u001b[0m\u001b[37m\u001b[0m \u001b[1m4s\u001b[0m 352us/step - accuracy: 7.4353e-05 - loss: 4.0106\n",
      "Epoch 22/100\n",
      "\u001b[1m11265/11265\u001b[0m \u001b[32m━━━━━━━━━━━━━━━━━━━━\u001b[0m\u001b[37m\u001b[0m \u001b[1m4s\u001b[0m 350us/step - accuracy: 4.9937e-05 - loss: 4.0072\n",
      "Epoch 23/100\n",
      "\u001b[1m11265/11265\u001b[0m \u001b[32m━━━━━━━━━━━━━━━━━━━━\u001b[0m\u001b[37m\u001b[0m \u001b[1m4s\u001b[0m 345us/step - accuracy: 9.7651e-05 - loss: 4.0375\n",
      "Epoch 24/100\n",
      "\u001b[1m11265/11265\u001b[0m \u001b[32m━━━━━━━━━━━━━━━━━━━━\u001b[0m\u001b[37m\u001b[0m \u001b[1m4s\u001b[0m 353us/step - accuracy: 5.1848e-05 - loss: 3.9704\n",
      "Epoch 25/100\n",
      "\u001b[1m11265/11265\u001b[0m \u001b[32m━━━━━━━━━━━━━━━━━━━━\u001b[0m\u001b[37m\u001b[0m \u001b[1m4s\u001b[0m 354us/step - accuracy: 5.9297e-05 - loss: 3.9697\n",
      "Epoch 26/100\n",
      "\u001b[1m11265/11265\u001b[0m \u001b[32m━━━━━━━━━━━━━━━━━━━━\u001b[0m\u001b[37m\u001b[0m \u001b[1m4s\u001b[0m 354us/step - accuracy: 8.6570e-05 - loss: 3.8195\n",
      "Epoch 27/100\n",
      "\u001b[1m11265/11265\u001b[0m \u001b[32m━━━━━━━━━━━━━━━━━━━━\u001b[0m\u001b[37m\u001b[0m \u001b[1m4s\u001b[0m 356us/step - accuracy: 1.0654e-04 - loss: 3.8261\n",
      "Epoch 28/100\n",
      "\u001b[1m11265/11265\u001b[0m \u001b[32m━━━━━━━━━━━━━━━━━━━━\u001b[0m\u001b[37m\u001b[0m \u001b[1m4s\u001b[0m 356us/step - accuracy: 9.8785e-05 - loss: 3.9257\n",
      "Epoch 29/100\n",
      "\u001b[1m11265/11265\u001b[0m \u001b[32m━━━━━━━━━━━━━━━━━━━━\u001b[0m\u001b[37m\u001b[0m \u001b[1m4s\u001b[0m 358us/step - accuracy: 6.9443e-05 - loss: 3.8798\n",
      "Epoch 30/100\n",
      "\u001b[1m11265/11265\u001b[0m \u001b[32m━━━━━━━━━━━━━━━━━━━━\u001b[0m\u001b[37m\u001b[0m \u001b[1m4s\u001b[0m 354us/step - accuracy: 1.0153e-04 - loss: 3.7246\n",
      "Epoch 31/100\n",
      "\u001b[1m11265/11265\u001b[0m \u001b[32m━━━━━━━━━━━━━━━━━━━━\u001b[0m\u001b[37m\u001b[0m \u001b[1m4s\u001b[0m 351us/step - accuracy: 8.8977e-05 - loss: 3.8595\n",
      "Epoch 32/100\n",
      "\u001b[1m11265/11265\u001b[0m \u001b[32m━━━━━━━━━━━━━━━━━━━━\u001b[0m\u001b[37m\u001b[0m \u001b[1m4s\u001b[0m 362us/step - accuracy: 9.7481e-05 - loss: 3.8068\n",
      "Epoch 33/100\n",
      "\u001b[1m11265/11265\u001b[0m \u001b[32m━━━━━━━━━━━━━━━━━━━━\u001b[0m\u001b[37m\u001b[0m \u001b[1m4s\u001b[0m 358us/step - accuracy: 6.2552e-05 - loss: 3.7157\n",
      "Epoch 34/100\n",
      "\u001b[1m11265/11265\u001b[0m \u001b[32m━━━━━━━━━━━━━━━━━━━━\u001b[0m\u001b[37m\u001b[0m \u001b[1m4s\u001b[0m 356us/step - accuracy: 1.1744e-04 - loss: 3.8519\n",
      "Epoch 35/100\n",
      "\u001b[1m11265/11265\u001b[0m \u001b[32m━━━━━━━━━━━━━━━━━━━━\u001b[0m\u001b[37m\u001b[0m \u001b[1m4s\u001b[0m 388us/step - accuracy: 1.0858e-04 - loss: 3.9547\n",
      "Epoch 36/100\n",
      "\u001b[1m11265/11265\u001b[0m \u001b[32m━━━━━━━━━━━━━━━━━━━━\u001b[0m\u001b[37m\u001b[0m \u001b[1m4s\u001b[0m 373us/step - accuracy: 1.1450e-04 - loss: 3.9181\n",
      "Epoch 37/100\n",
      "\u001b[1m11265/11265\u001b[0m \u001b[32m━━━━━━━━━━━━━━━━━━━━\u001b[0m\u001b[37m\u001b[0m \u001b[1m4s\u001b[0m 381us/step - accuracy: 8.9032e-05 - loss: 3.7182\n",
      "Epoch 38/100\n",
      "\u001b[1m11265/11265\u001b[0m \u001b[32m━━━━━━━━━━━━━━━━━━━━\u001b[0m\u001b[37m\u001b[0m \u001b[1m5s\u001b[0m 398us/step - accuracy: 9.7950e-05 - loss: 3.8131\n",
      "Epoch 39/100\n",
      "\u001b[1m11265/11265\u001b[0m \u001b[32m━━━━━━━━━━━━━━━━━━━━\u001b[0m\u001b[37m\u001b[0m \u001b[1m4s\u001b[0m 363us/step - accuracy: 8.9550e-05 - loss: 3.8423\n",
      "Epoch 40/100\n",
      "\u001b[1m11265/11265\u001b[0m \u001b[32m━━━━━━━━━━━━━━━━━━━━\u001b[0m\u001b[37m\u001b[0m \u001b[1m4s\u001b[0m 389us/step - accuracy: 8.5436e-05 - loss: 3.8258\n",
      "Epoch 41/100\n",
      "\u001b[1m11265/11265\u001b[0m \u001b[32m━━━━━━━━━━━━━━━━━━━━\u001b[0m\u001b[37m\u001b[0m \u001b[1m5s\u001b[0m 405us/step - accuracy: 6.0951e-05 - loss: 3.7457\n",
      "Epoch 42/100\n",
      "\u001b[1m11265/11265\u001b[0m \u001b[32m━━━━━━━━━━━━━━━━━━━━\u001b[0m\u001b[37m\u001b[0m \u001b[1m4s\u001b[0m 389us/step - accuracy: 8.1413e-05 - loss: 3.7457\n",
      "Epoch 43/100\n",
      "\u001b[1m11265/11265\u001b[0m \u001b[32m━━━━━━━━━━━━━━━━━━━━\u001b[0m\u001b[37m\u001b[0m \u001b[1m5s\u001b[0m 421us/step - accuracy: 8.4141e-05 - loss: 3.8437\n",
      "Epoch 44/100\n",
      "\u001b[1m11265/11265\u001b[0m \u001b[32m━━━━━━━━━━━━━━━━━━━━\u001b[0m\u001b[37m\u001b[0m \u001b[1m4s\u001b[0m 373us/step - accuracy: 9.8767e-05 - loss: 3.7669\n",
      "Epoch 45/100\n",
      "\u001b[1m11265/11265\u001b[0m \u001b[32m━━━━━━━━━━━━━━━━━━━━\u001b[0m\u001b[37m\u001b[0m \u001b[1m4s\u001b[0m 371us/step - accuracy: 1.3794e-04 - loss: 3.7424\n",
      "Epoch 46/100\n",
      "\u001b[1m11265/11265\u001b[0m \u001b[32m━━━━━━━━━━━━━━━━━━━━\u001b[0m\u001b[37m\u001b[0m \u001b[1m4s\u001b[0m 382us/step - accuracy: 1.2083e-04 - loss: 3.7334\n",
      "Epoch 47/100\n",
      "\u001b[1m11265/11265\u001b[0m \u001b[32m━━━━━━━━━━━━━━━━━━━━\u001b[0m\u001b[37m\u001b[0m \u001b[1m4s\u001b[0m 381us/step - accuracy: 8.5776e-05 - loss: 3.8063\n",
      "Epoch 48/100\n",
      "\u001b[1m11265/11265\u001b[0m \u001b[32m━━━━━━━━━━━━━━━━━━━━\u001b[0m\u001b[37m\u001b[0m \u001b[1m4s\u001b[0m 391us/step - accuracy: 9.0193e-05 - loss: 3.7875\n",
      "Epoch 49/100\n",
      "\u001b[1m11265/11265\u001b[0m \u001b[32m━━━━━━━━━━━━━━━━━━━━\u001b[0m\u001b[37m\u001b[0m \u001b[1m4s\u001b[0m 373us/step - accuracy: 9.6287e-05 - loss: 3.7111\n",
      "Epoch 50/100\n",
      "\u001b[1m11265/11265\u001b[0m \u001b[32m━━━━━━━━━━━━━━━━━━━━\u001b[0m\u001b[37m\u001b[0m \u001b[1m4s\u001b[0m 379us/step - accuracy: 8.3114e-05 - loss: 3.8445\n",
      "Epoch 51/100\n",
      "\u001b[1m11265/11265\u001b[0m \u001b[32m━━━━━━━━━━━━━━━━━━━━\u001b[0m\u001b[37m\u001b[0m \u001b[1m4s\u001b[0m 375us/step - accuracy: 8.4329e-05 - loss: 3.7242\n",
      "Epoch 52/100\n",
      "\u001b[1m11265/11265\u001b[0m \u001b[32m━━━━━━━━━━━━━━━━━━━━\u001b[0m\u001b[37m\u001b[0m \u001b[1m4s\u001b[0m 391us/step - accuracy: 1.1572e-04 - loss: 3.7435\n",
      "Epoch 53/100\n",
      "\u001b[1m11265/11265\u001b[0m \u001b[32m━━━━━━━━━━━━━━━━━━━━\u001b[0m\u001b[37m\u001b[0m \u001b[1m4s\u001b[0m 375us/step - accuracy: 1.0588e-04 - loss: 3.5975\n",
      "Epoch 54/100\n",
      "\u001b[1m11265/11265\u001b[0m \u001b[32m━━━━━━━━━━━━━━━━━━━━\u001b[0m\u001b[37m\u001b[0m \u001b[1m4s\u001b[0m 369us/step - accuracy: 9.5001e-05 - loss: 3.7727\n",
      "Epoch 55/100\n",
      "\u001b[1m11265/11265\u001b[0m \u001b[32m━━━━━━━━━━━━━━━━━━━━\u001b[0m\u001b[37m\u001b[0m \u001b[1m4s\u001b[0m 384us/step - accuracy: 9.4439e-05 - loss: 3.7698\n",
      "Epoch 56/100\n",
      "\u001b[1m11265/11265\u001b[0m \u001b[32m━━━━━━━━━━━━━━━━━━━━\u001b[0m\u001b[37m\u001b[0m \u001b[1m4s\u001b[0m 383us/step - accuracy: 1.0757e-04 - loss: 3.7734\n",
      "Epoch 57/100\n",
      "\u001b[1m11265/11265\u001b[0m \u001b[32m━━━━━━━━━━━━━━━━━━━━\u001b[0m\u001b[37m\u001b[0m \u001b[1m4s\u001b[0m 374us/step - accuracy: 1.0142e-04 - loss: 3.9584\n",
      "Epoch 58/100\n",
      "\u001b[1m11265/11265\u001b[0m \u001b[32m━━━━━━━━━━━━━━━━━━━━\u001b[0m\u001b[37m\u001b[0m \u001b[1m4s\u001b[0m 382us/step - accuracy: 1.3014e-04 - loss: 3.7440\n",
      "Epoch 59/100\n",
      "\u001b[1m11265/11265\u001b[0m \u001b[32m━━━━━━━━━━━━━━━━━━━━\u001b[0m\u001b[37m\u001b[0m \u001b[1m4s\u001b[0m 379us/step - accuracy: 6.9204e-05 - loss: 3.6920\n",
      "Epoch 60/100\n",
      "\u001b[1m11265/11265\u001b[0m \u001b[32m━━━━━━━━━━━━━━━━━━━━\u001b[0m\u001b[37m\u001b[0m \u001b[1m4s\u001b[0m 386us/step - accuracy: 1.1185e-04 - loss: 3.6970\n",
      "Epoch 61/100\n",
      "\u001b[1m11265/11265\u001b[0m \u001b[32m━━━━━━━━━━━━━━━━━━━━\u001b[0m\u001b[37m\u001b[0m \u001b[1m4s\u001b[0m 369us/step - accuracy: 7.7277e-05 - loss: 3.6872\n",
      "Epoch 62/100\n",
      "\u001b[1m11265/11265\u001b[0m \u001b[32m━━━━━━━━━━━━━━━━━━━━\u001b[0m\u001b[37m\u001b[0m \u001b[1m4s\u001b[0m 382us/step - accuracy: 1.0325e-04 - loss: 3.7419\n",
      "Epoch 63/100\n",
      "\u001b[1m11265/11265\u001b[0m \u001b[32m━━━━━━━━━━━━━━━━━━━━\u001b[0m\u001b[37m\u001b[0m \u001b[1m4s\u001b[0m 375us/step - accuracy: 7.8837e-05 - loss: 3.7142\n",
      "Epoch 64/100\n",
      "\u001b[1m11265/11265\u001b[0m \u001b[32m━━━━━━━━━━━━━━━━━━━━\u001b[0m\u001b[37m\u001b[0m \u001b[1m4s\u001b[0m 381us/step - accuracy: 9.3637e-05 - loss: 3.6259\n",
      "Epoch 65/100\n",
      "\u001b[1m11265/11265\u001b[0m \u001b[32m━━━━━━━━━━━━━━━━━━━━\u001b[0m\u001b[37m\u001b[0m \u001b[1m4s\u001b[0m 373us/step - accuracy: 9.8293e-05 - loss: 3.6101\n",
      "Epoch 66/100\n",
      "\u001b[1m11265/11265\u001b[0m \u001b[32m━━━━━━━━━━━━━━━━━━━━\u001b[0m\u001b[37m\u001b[0m \u001b[1m4s\u001b[0m 373us/step - accuracy: 1.0586e-04 - loss: 3.7364\n",
      "Epoch 67/100\n",
      "\u001b[1m11265/11265\u001b[0m \u001b[32m━━━━━━━━━━━━━━━━━━━━\u001b[0m\u001b[37m\u001b[0m \u001b[1m4s\u001b[0m 380us/step - accuracy: 8.4653e-05 - loss: 3.7398\n",
      "Epoch 68/100\n",
      "\u001b[1m11265/11265\u001b[0m \u001b[32m━━━━━━━━━━━━━━━━━━━━\u001b[0m\u001b[37m\u001b[0m \u001b[1m4s\u001b[0m 389us/step - accuracy: 9.0733e-05 - loss: 3.7257\n",
      "Epoch 69/100\n",
      "\u001b[1m11265/11265\u001b[0m \u001b[32m━━━━━━━━━━━━━━━━━━━━\u001b[0m\u001b[37m\u001b[0m \u001b[1m4s\u001b[0m 376us/step - accuracy: 9.4730e-05 - loss: 3.7678\n",
      "Epoch 70/100\n",
      "\u001b[1m11265/11265\u001b[0m \u001b[32m━━━━━━━━━━━━━━━━━━━━\u001b[0m\u001b[37m\u001b[0m \u001b[1m4s\u001b[0m 378us/step - accuracy: 5.8661e-05 - loss: 3.8275\n",
      "Epoch 71/100\n",
      "\u001b[1m11265/11265\u001b[0m \u001b[32m━━━━━━━━━━━━━━━━━━━━\u001b[0m\u001b[37m\u001b[0m \u001b[1m4s\u001b[0m 391us/step - accuracy: 1.1509e-04 - loss: 3.7240\n",
      "Epoch 72/100\n",
      "\u001b[1m11265/11265\u001b[0m \u001b[32m━━━━━━━━━━━━━━━━━━━━\u001b[0m\u001b[37m\u001b[0m \u001b[1m4s\u001b[0m 375us/step - accuracy: 6.8296e-05 - loss: 3.6385\n",
      "Epoch 73/100\n",
      "\u001b[1m11265/11265\u001b[0m \u001b[32m━━━━━━━━━━━━━━━━━━━━\u001b[0m\u001b[37m\u001b[0m \u001b[1m4s\u001b[0m 377us/step - accuracy: 8.2236e-05 - loss: 3.7039\n",
      "Epoch 74/100\n",
      "\u001b[1m11265/11265\u001b[0m \u001b[32m━━━━━━━━━━━━━━━━━━━━\u001b[0m\u001b[37m\u001b[0m \u001b[1m4s\u001b[0m 377us/step - accuracy: 1.0618e-04 - loss: 3.6623\n",
      "Epoch 75/100\n",
      "\u001b[1m11265/11265\u001b[0m \u001b[32m━━━━━━━━━━━━━━━━━━━━\u001b[0m\u001b[37m\u001b[0m \u001b[1m4s\u001b[0m 389us/step - accuracy: 1.1523e-04 - loss: 3.7537\n",
      "Epoch 76/100\n",
      "\u001b[1m11265/11265\u001b[0m \u001b[32m━━━━━━━━━━━━━━━━━━━━\u001b[0m\u001b[37m\u001b[0m \u001b[1m4s\u001b[0m 377us/step - accuracy: 9.8109e-05 - loss: 3.8101\n",
      "Epoch 77/100\n",
      "\u001b[1m11265/11265\u001b[0m \u001b[32m━━━━━━━━━━━━━━━━━━━━\u001b[0m\u001b[37m\u001b[0m \u001b[1m4s\u001b[0m 375us/step - accuracy: 9.3084e-05 - loss: 3.8058\n",
      "Epoch 78/100\n",
      "\u001b[1m11265/11265\u001b[0m \u001b[32m━━━━━━━━━━━━━━━━━━━━\u001b[0m\u001b[37m\u001b[0m \u001b[1m4s\u001b[0m 388us/step - accuracy: 1.3022e-04 - loss: 3.7067\n",
      "Epoch 79/100\n",
      "\u001b[1m11265/11265\u001b[0m \u001b[32m━━━━━━━━━━━━━━━━━━━━\u001b[0m\u001b[37m\u001b[0m \u001b[1m4s\u001b[0m 371us/step - accuracy: 7.6973e-05 - loss: 3.5295\n",
      "Epoch 80/100\n",
      "\u001b[1m11265/11265\u001b[0m \u001b[32m━━━━━━━━━━━━━━━━━━━━\u001b[0m\u001b[37m\u001b[0m \u001b[1m4s\u001b[0m 376us/step - accuracy: 1.2387e-04 - loss: 3.7882\n",
      "Epoch 81/100\n",
      "\u001b[1m11265/11265\u001b[0m \u001b[32m━━━━━━━━━━━━━━━━━━━━\u001b[0m\u001b[37m\u001b[0m \u001b[1m4s\u001b[0m 387us/step - accuracy: 9.8849e-05 - loss: 3.7409\n",
      "Epoch 82/100\n",
      "\u001b[1m11265/11265\u001b[0m \u001b[32m━━━━━━━━━━━━━━━━━━━━\u001b[0m\u001b[37m\u001b[0m \u001b[1m4s\u001b[0m 376us/step - accuracy: 1.1509e-04 - loss: 3.8552\n",
      "Epoch 83/100\n",
      "\u001b[1m11265/11265\u001b[0m \u001b[32m━━━━━━━━━━━━━━━━━━━━\u001b[0m\u001b[37m\u001b[0m \u001b[1m4s\u001b[0m 374us/step - accuracy: 8.6889e-05 - loss: 3.6917\n",
      "Epoch 84/100\n",
      "\u001b[1m11265/11265\u001b[0m \u001b[32m━━━━━━━━━━━━━━━━━━━━\u001b[0m\u001b[37m\u001b[0m \u001b[1m4s\u001b[0m 389us/step - accuracy: 7.4639e-05 - loss: 3.7130\n",
      "Epoch 85/100\n",
      "\u001b[1m11265/11265\u001b[0m \u001b[32m━━━━━━━━━━━━━━━━━━━━\u001b[0m\u001b[37m\u001b[0m \u001b[1m4s\u001b[0m 374us/step - accuracy: 1.0447e-04 - loss: 3.8266\n",
      "Epoch 86/100\n",
      "\u001b[1m11265/11265\u001b[0m \u001b[32m━━━━━━━━━━━━━━━━━━━━\u001b[0m\u001b[37m\u001b[0m \u001b[1m4s\u001b[0m 376us/step - accuracy: 1.0706e-04 - loss: 3.6865\n",
      "Epoch 87/100\n",
      "\u001b[1m11265/11265\u001b[0m \u001b[32m━━━━━━━━━━━━━━━━━━━━\u001b[0m\u001b[37m\u001b[0m \u001b[1m4s\u001b[0m 373us/step - accuracy: 4.8360e-05 - loss: 3.6990\n",
      "Epoch 88/100\n",
      "\u001b[1m11265/11265\u001b[0m \u001b[32m━━━━━━━━━━━━━━━━━━━━\u001b[0m\u001b[37m\u001b[0m \u001b[1m4s\u001b[0m 378us/step - accuracy: 8.4016e-05 - loss: 3.5918\n",
      "Epoch 89/100\n",
      "\u001b[1m11265/11265\u001b[0m \u001b[32m━━━━━━━━━━━━━━━━━━━━\u001b[0m\u001b[37m\u001b[0m \u001b[1m4s\u001b[0m 391us/step - accuracy: 8.5650e-05 - loss: 3.5856\n",
      "Epoch 90/100\n",
      "\u001b[1m11265/11265\u001b[0m \u001b[32m━━━━━━━━━━━━━━━━━━━━\u001b[0m\u001b[37m\u001b[0m \u001b[1m4s\u001b[0m 374us/step - accuracy: 6.1941e-05 - loss: 3.6995\n",
      "Epoch 91/100\n",
      "\u001b[1m11265/11265\u001b[0m \u001b[32m━━━━━━━━━━━━━━━━━━━━\u001b[0m\u001b[37m\u001b[0m \u001b[1m4s\u001b[0m 389us/step - accuracy: 8.7968e-05 - loss: 3.6296\n",
      "Epoch 92/100\n",
      "\u001b[1m11265/11265\u001b[0m \u001b[32m━━━━━━━━━━━━━━━━━━━━\u001b[0m\u001b[37m\u001b[0m \u001b[1m4s\u001b[0m 383us/step - accuracy: 7.5799e-05 - loss: 3.7626\n",
      "Epoch 93/100\n",
      "\u001b[1m11265/11265\u001b[0m \u001b[32m━━━━━━━━━━━━━━━━━━━━\u001b[0m\u001b[37m\u001b[0m \u001b[1m4s\u001b[0m 384us/step - accuracy: 1.0471e-04 - loss: 3.7270\n",
      "Epoch 94/100\n",
      "\u001b[1m11265/11265\u001b[0m \u001b[32m━━━━━━━━━━━━━━━━━━━━\u001b[0m\u001b[37m\u001b[0m \u001b[1m5s\u001b[0m 399us/step - accuracy: 1.1816e-04 - loss: 3.7529\n",
      "Epoch 95/100\n",
      "\u001b[1m11265/11265\u001b[0m \u001b[32m━━━━━━━━━━━━━━━━━━━━\u001b[0m\u001b[37m\u001b[0m \u001b[1m5s\u001b[0m 402us/step - accuracy: 9.2084e-05 - loss: 3.7007\n",
      "Epoch 96/100\n",
      "\u001b[1m11265/11265\u001b[0m \u001b[32m━━━━━━━━━━━━━━━━━━━━\u001b[0m\u001b[37m\u001b[0m \u001b[1m4s\u001b[0m 383us/step - accuracy: 1.1110e-04 - loss: 3.6600\n",
      "Epoch 97/100\n",
      "\u001b[1m11265/11265\u001b[0m \u001b[32m━━━━━━━━━━━━━━━━━━━━\u001b[0m\u001b[37m\u001b[0m \u001b[1m4s\u001b[0m 374us/step - accuracy: 1.0562e-04 - loss: 3.6937\n",
      "Epoch 98/100\n",
      "\u001b[1m11265/11265\u001b[0m \u001b[32m━━━━━━━━━━━━━━━━━━━━\u001b[0m\u001b[37m\u001b[0m \u001b[1m4s\u001b[0m 374us/step - accuracy: 8.8449e-05 - loss: 3.7915\n",
      "Epoch 99/100\n",
      "\u001b[1m11265/11265\u001b[0m \u001b[32m━━━━━━━━━━━━━━━━━━━━\u001b[0m\u001b[37m\u001b[0m \u001b[1m4s\u001b[0m 382us/step - accuracy: 9.3842e-05 - loss: 3.7084\n",
      "Epoch 100/100\n",
      "\u001b[1m11265/11265\u001b[0m \u001b[32m━━━━━━━━━━━━━━━━━━━━\u001b[0m\u001b[37m\u001b[0m \u001b[1m4s\u001b[0m 371us/step - accuracy: 1.0448e-04 - loss: 3.7878\n"
     ]
    },
    {
     "data": {
      "text/plain": [
       "<keras.src.callbacks.history.History at 0x32722f1c0>"
      ]
     },
     "execution_count": 79,
     "metadata": {},
     "output_type": "execute_result"
    }
   ],
   "source": [
    "# Uncomment the following if you have already trained the model\n",
    "\n",
    "# initialize the ANN\n",
    "ann = tf.keras.models.Sequential() \n",
    "\n",
    "# adding the input layer and the first hidden layer\n",
    "# units=5, where 5 is the number of neurons in the first input layer\n",
    "ann.add(tf.keras.layers.Dense(units=5, activation='relu'))\n",
    "# adding the second hidden layer\n",
    "ann.add(tf.keras.layers.Dense(units=32, activation='relu'))\n",
    "# adding the third hidden layer\n",
    "ann.add(tf.keras.layers.Dense(units=32, activation='sigmoid'))\n",
    "# adding the output layer, absolute value of the snr\n",
    "ann.add(tf.keras.layers.Dense(units=1, activation='linear'))\n",
    "\n",
    "# compile the ANN\n",
    "ann.compile(optimizer = 'adam', loss = 'mean_squared_error', metrics = ['accuracy'])\n",
    "\n",
    "# train the ANN on the training set\n",
    "ann.fit(X_train, y_train, batch_size = 32, epochs = 100)"
   ]
  },
  {
   "cell_type": "code",
   "execution_count": 80,
   "metadata": {},
   "outputs": [
    {
     "name": "stdout",
     "output_type": "stream",
     "text": [
      "WARNING:absl:You are saving your model as an HDF5 file via `model.save()` or `keras.saving.save_model(model)`. This file format is considered legacy. We recommend using instead the native Keras format, e.g. `model.save('my_model.keras')` or `keras.saving.save_model(model, 'my_model.keras')`. \n"
     ]
    }
   ],
   "source": [
    "# Uncomment the following if you have not trained the model\n",
    "\n",
    "# Save the model to a file\n",
    "ann.save('ann_modelV1_final.h5')\n",
    "modelV1 = ann"
   ]
  },
  {
   "cell_type": "code",
   "execution_count": 81,
   "metadata": {},
   "outputs": [],
   "source": [
    "# # Uncomment the following if you have already generated the model\n",
    "\n",
    "# # load the model\n",
    "# from tensorflow.keras.models import load_model\n",
    "# modelV1 = load_model('ann_modelV1_final.h5')"
   ]
  },
  {
   "cell_type": "markdown",
   "metadata": {},
   "source": [
    "### Test the Model on the test data"
   ]
  },
  {
   "cell_type": "code",
   "execution_count": 82,
   "metadata": {},
   "outputs": [
    {
     "name": "stdout",
     "output_type": "stream",
     "text": [
      "\u001b[1m1252/1252\u001b[0m \u001b[32m━━━━━━━━━━━━━━━━━━━━\u001b[0m\u001b[37m\u001b[0m \u001b[1m0s\u001b[0m 250us/step\n",
      "[[ 7.46294022  8.70183896]\n",
      " [ 1.69532633  1.87707504]\n",
      " [ 3.07540035  3.11496932]\n",
      " [ 1.52323031  4.23938419]\n",
      " [ 3.91678762  3.89805523]\n",
      " [ 3.05808353  3.02651082]\n",
      " [11.61040783 12.25064902]\n",
      " [ 3.59612608  3.95771974]\n",
      " [ 0.59179592  0.28101124]\n",
      " [ 2.19164467  2.48095565]\n",
      " [18.86106873 26.64630974]\n",
      " [18.74502563 18.13633037]\n",
      " [ 5.89695787  6.27602427]\n",
      " [ 1.43439698  1.50413673]\n",
      " [ 5.90137959  6.97998785]]\n"
     ]
    }
   ],
   "source": [
    "# left: predicted snr, right: actual snr\n",
    "y_pred = modelV1.predict(X_test)\n",
    "#y_pred = (y_pred > 0.5)\n",
    "print(np.concatenate((y_pred.reshape(len(y_pred),1), y_test.reshape(len(y_test),1)),1)[10:25])"
   ]
  },
  {
   "cell_type": "code",
   "execution_count": 83,
   "metadata": {},
   "outputs": [
    {
     "name": "stdout",
     "output_type": "stream",
     "text": [
      "Error: 2.46%\n"
     ]
    }
   ],
   "source": [
    "# calculate the error\n",
    "len1 = len(y_pred)\n",
    "len2 = np.sum((y_pred.flatten()>8) != (y_test>8))\n",
    "error = len2/len1*100\n",
    "print(f\"Error: {error:.2f}%\")"
   ]
  },
  {
   "cell_type": "markdown",
   "metadata": {},
   "source": [
    "### Test with astrophysical parameters"
   ]
  },
  {
   "cell_type": "code",
   "execution_count": 88,
   "metadata": {},
   "outputs": [
    {
     "name": "stdout",
     "output_type": "stream",
     "text": [
      "\u001b[1m1563/1563\u001b[0m \u001b[32m━━━━━━━━━━━━━━━━━━━━\u001b[0m\u001b[37m\u001b[0m \u001b[1m1s\u001b[0m 319us/step\n",
      "[[49696   227]\n",
      " [    6    71]]\n",
      "Accuracy: 99.562%\n"
     ]
    }
   ],
   "source": [
    "# Get the data. This data is generated using `ler` package.\n",
    "unlensed_params = get_param_from_json(\"ler_data/unlensed_param_testing.json\")\n",
    "_,_,_,_,X_,Y_,_ = input_output(np.arange(len(unlensed_params['V1'])), unlensed_params)\n",
    "scalerV1 = pickle.load(open('scalerV1_final.pkl', 'rb'))\n",
    "X_ = scalerV1.transform(X_)\n",
    "\n",
    "y_pred_ = modelV1.predict(X_).flatten()\n",
    "y_test_ = Y_\n",
    "cm = confusion_matrix((y_test_>8), ((y_pred_)>8))\n",
    "print(cm)\n",
    "accuracy = accuracy_score((y_test_>8), (y_pred_>8))*100\n",
    "print(f\"Accuracy: {accuracy:.3f}%\")"
   ]
  },
  {
   "cell_type": "markdown",
   "metadata": {},
   "source": [
    "### Error analysis"
   ]
  },
  {
   "cell_type": "code",
   "execution_count": 95,
   "metadata": {},
   "outputs": [
    {
     "name": "stdout",
     "output_type": "stream",
     "text": [
      "slope: 0.0119, intercept: 0.0019\n",
      "\u001b[1m1563/1563\u001b[0m \u001b[32m━━━━━━━━━━━━━━━━━━━━\u001b[0m\u001b[37m\u001b[0m \u001b[1m0s\u001b[0m 236us/step\n",
      "[[49758   212]\n",
      " [    6    24]]\n",
      "Accuracy (after error ajustment): 99.564%\n"
     ]
    }
   ],
   "source": [
    "# do linear fitting of the error y_pred-y_test\n",
    "from scipy.optimize import curve_fit\n",
    "\n",
    "def func(x, a, b):\n",
    "    return a*x + b\n",
    "\n",
    "idx = (y_pred_>4) & (y_pred_<10)\n",
    "idx = idx & (y_test_!=0)\n",
    "popt, pcov = curve_fit(func, y_pred_[idx], y_pred_[idx]-y_test_[idx])\n",
    "print(f\"slope: {popt[0]:.4f}, intercept: {popt[1]:.4f}\")\n",
    "\n",
    "a,b = popt\n",
    "y_pred_ = modelV1.predict(X_).flatten()\n",
    "y_pred_ = y_pred_-(a*y_pred_ + b)\n",
    "y_test_ = Y_\n",
    "cm = confusion_matrix((y_test_>8), ((y_pred_)>8))\n",
    "print(cm)\n",
    "accuracy = accuracy_score((y_test_>8), (y_pred_>8))*100\n",
    "print(f\"Accuracy (after error ajustment): {accuracy:.3f}%\")"
   ]
  },
  {
   "cell_type": "code",
   "execution_count": 96,
   "metadata": {},
   "outputs": [],
   "source": [
    "# save adjustment function as pickle\n",
    "def correction(x):\n",
    "    a = -0.0160\n",
    "    b = -0.0015\n",
    "    return a*x + b\n",
    "\n",
    "pickle.dump(correction, open('correctionV1_final.pkl', 'wb'))"
   ]
  },
  {
   "cell_type": "code",
   "execution_count": null,
   "metadata": {},
   "outputs": [],
   "source": []
  },
  {
   "cell_type": "markdown",
   "metadata": {},
   "source": [
    "### L1, H1, V1, NET"
   ]
  },
  {
   "cell_type": "markdown",
   "metadata": {},
   "source": [
    "### Load the models, scalers and correction functions"
   ]
  },
  {
   "cell_type": "code",
   "execution_count": 100,
   "metadata": {},
   "outputs": [
    {
     "name": "stdout",
     "output_type": "stream",
     "text": [
      "WARNING:absl:Compiled the loaded model, but the compiled metrics have yet to be built. `model.compile_metrics` will be empty until you train or evaluate the model.\n",
      "WARNING:absl:Compiled the loaded model, but the compiled metrics have yet to be built. `model.compile_metrics` will be empty until you train or evaluate the model.\n",
      "WARNING:absl:Compiled the loaded model, but the compiled metrics have yet to be built. `model.compile_metrics` will be empty until you train or evaluate the model.\n"
     ]
    }
   ],
   "source": [
    "# load the ANN models\n",
    "modelL1 = load_model('ann_modelL1_final.h5')\n",
    "modelH1 = load_model('ann_modelH1_final.h5')\n",
    "modelV1 = load_model('ann_modelV1_final.h5')\n",
    "\n",
    "# load the feature scaler\n",
    "scalerL1 = pickle.load(open('scalerL1_final.pkl', 'rb'))\n",
    "scalerH1 = pickle.load(open('scalerH1_final.pkl', 'rb'))\n",
    "scalerV1 = pickle.load(open('scalerV1_final.pkl', 'rb'))\n",
    "\n",
    "# load the correction functions\n",
    "correctionL1 = pickle.load(open('correctionL1_final.pkl', 'rb'))\n",
    "correctionH1 = pickle.load(open('correctionH1_final.pkl', 'rb'))\n",
    "correctionV1 = pickle.load(open('correctionV1_final.pkl', 'rb'))"
   ]
  },
  {
   "cell_type": "code",
   "execution_count": 101,
   "metadata": {},
   "outputs": [],
   "source": [
    "unlensed_params = get_param_from_json(\"ler_data/unlensed_param_testing.json\")"
   ]
  },
  {
   "cell_type": "code",
   "execution_count": 102,
   "metadata": {},
   "outputs": [],
   "source": [
    "XL1, yL1, XH1, yH1, XV1, yV1, yNET = input_output(np.arange(len(unlensed_params['optimal_snr_net'])), unlensed_params)"
   ]
  },
  {
   "cell_type": "code",
   "execution_count": 108,
   "metadata": {},
   "outputs": [],
   "source": [
    "def predict_snr_net_ANN(XL1, XH1, XV1):\n",
    "    \"\"\"\n",
    "        Function to predict the network SNR using the ANN models\n",
    "\n",
    "        Parameters:\n",
    "        XL1: input data for L1, [snr_half_[0], amp0[0], eta, chi_eff, theta_jn]\n",
    "        XH1: input data for H1, [snr_half_[1], amp0[1], eta, chi_eff, theta_jn]\n",
    "        XV1: input data for V1, [snr_half_[2], amp0[2], eta, chi_eff, theta_jn]\n",
    "\n",
    "        Returns:\n",
    "        y: network SNR\n",
    "    \"\"\"\n",
    "    x = scalerL1.transform(XL1)\n",
    "    yL1 = modelL1.predict(x)\n",
    "    yL1 = yL1 - correctionL1(yL1)\n",
    "    x = scalerH1.transform(XH1)\n",
    "    yH1 = modelH1.predict(x)\n",
    "    yH1 = yH1 - correctionH1(yH1)\n",
    "    x = scalerV1.transform(XV1)\n",
    "    yV1 = modelV1.predict(x)\n",
    "    yV1 = yV1 - correctionV1(yV1)\n",
    "    y = np.sqrt(yL1**2 + yH1**2 + yV1**2)\n",
    "\n",
    "    mass_1 = np.array(unlensed_params['mass_1'])\n",
    "    mass_2 = np.array(unlensed_params['mass_2'])\n",
    "    mtot = mass_1 + mass_2\n",
    "    y[mtot>gwsnr.mtot_max] = 0.\n",
    "\n",
    "    return(y)"
   ]
  },
  {
   "cell_type": "code",
   "execution_count": 112,
   "metadata": {},
   "outputs": [
    {
     "name": "stdout",
     "output_type": "stream",
     "text": [
      "\u001b[1m1563/1563\u001b[0m \u001b[32m━━━━━━━━━━━━━━━━━━━━\u001b[0m\u001b[37m\u001b[0m \u001b[1m0s\u001b[0m 239us/step\n",
      "\u001b[1m1563/1563\u001b[0m \u001b[32m━━━━━━━━━━━━━━━━━━━━\u001b[0m\u001b[37m\u001b[0m \u001b[1m0s\u001b[0m 224us/step\n",
      "\u001b[1m1563/1563\u001b[0m \u001b[32m━━━━━━━━━━━━━━━━━━━━\u001b[0m\u001b[37m\u001b[0m \u001b[1m0s\u001b[0m 224us/step\n",
      "[[3.02149487 2.46947355]\n",
      " [1.28021622 0.95998231]\n",
      " [1.65902102 1.33613099]\n",
      " [4.56972122 4.74315895]\n",
      " [1.52131796 1.46595642]\n",
      " [2.12464452 1.65085218]\n",
      " [1.50326741 1.23096579]\n",
      " [1.96091294 1.9887877 ]\n",
      " [1.56352234 1.03065928]\n",
      " [1.92406559 1.74055025]\n",
      " [1.59190059 0.86150242]\n",
      " [1.60674    1.39648025]\n",
      " [3.46959639 2.51472319]\n",
      " [1.15084291 0.37194413]\n",
      " [2.13587236 1.29327945]]\n"
     ]
    }
   ],
   "source": [
    "# left: predicted snr, right: actual snr\n",
    "y_pred = predict_snr_net_ANN(XL1, XH1, XV1)\n",
    "\n",
    "print(np.concatenate((y_pred.reshape(len(y_pred),1), yNET.reshape(len(yNET),1)),1)[20:35])"
   ]
  },
  {
   "cell_type": "code",
   "execution_count": 117,
   "metadata": {},
   "outputs": [
    {
     "name": "stdout",
     "output_type": "stream",
     "text": [
      "\u001b[1m1563/1563\u001b[0m \u001b[32m━━━━━━━━━━━━━━━━━━━━\u001b[0m\u001b[37m\u001b[0m \u001b[1m0s\u001b[0m 312us/step\n",
      "\u001b[1m1563/1563\u001b[0m \u001b[32m━━━━━━━━━━━━━━━━━━━━\u001b[0m\u001b[37m\u001b[0m \u001b[1m0s\u001b[0m 235us/step\n",
      "\u001b[1m1563/1563\u001b[0m \u001b[32m━━━━━━━━━━━━━━━━━━━━\u001b[0m\u001b[37m\u001b[0m \u001b[1m0s\u001b[0m 231us/step\n",
      "[[49712    39]\n",
      " [   16   233]]\n",
      "Accuracy: 99.890%\n"
     ]
    }
   ],
   "source": [
    "y_pred_ = predict_snr_net_ANN(XL1, XH1, XV1).flatten()\n",
    "y_test_ = yNET\n",
    "cm = confusion_matrix((y_test_>8), ((y_pred_)>8))\n",
    "print(cm)\n",
    "accuracy = accuracy_score((y_test_>8), (y_pred_>8))*100\n",
    "print(f\"Accuracy: {accuracy:.3f}%\")"
   ]
  },
  {
   "cell_type": "markdown",
   "metadata": {},
   "source": [
    "### Error analysis"
   ]
  },
  {
   "cell_type": "code",
   "execution_count": 118,
   "metadata": {},
   "outputs": [
    {
     "name": "stdout",
     "output_type": "stream",
     "text": [
      "slope: 0.0211, intercept: 0.1631\n",
      "[[49731    20]\n",
      " [   29   220]]\n",
      "Accuracy (after error ajustment): 99.902%\n"
     ]
    }
   ],
   "source": [
    "# do linear fitting of the error y_pred-y_test\n",
    "def func(x, a, b):\n",
    "    return a*x + b\n",
    "\n",
    "idx = (y_pred_>4) & (y_pred_<10)\n",
    "idx = idx & (y_test_!=0)\n",
    "popt, pcov = curve_fit(func, y_pred_[idx], y_pred_[idx]-y_test_[idx])\n",
    "print(f\"slope: {popt[0]:.4f}, intercept: {popt[1]:.4f}\")\n",
    "\n",
    "a,b = popt\n",
    "y_pred_ = y_pred_-(a*y_pred_ + b)\n",
    "# y_pred_ = predict_snr_net_ANN(XL1, XH1, XV1).flatten()\n",
    "# y_test_ = yNET\n",
    "cm = confusion_matrix((y_test_>8), ((y_pred_)>8))\n",
    "print(cm)\n",
    "accuracy = accuracy_score((y_test_>8), (y_pred_>8))*100\n",
    "print(f\"Accuracy (after error ajustment): {accuracy:.3f}%\")"
   ]
  },
  {
   "cell_type": "code",
   "execution_count": 119,
   "metadata": {},
   "outputs": [],
   "source": [
    "# save adjustment function as pickle\n",
    "def correction(x):\n",
    "    a = 0.0211\n",
    "    b = 0.1631\n",
    "    return a*x + b\n",
    "\n",
    "pickle.dump(correction, open('correctionNET_final.pkl', 'wb'))"
   ]
  },
  {
   "cell_type": "code",
   "execution_count": 121,
   "metadata": {},
   "outputs": [
    {
     "data": {
      "image/png": "[encoded data removed]",
      "text/plain": [
       "<Figure size 400x400 with 1 Axes>"
      ]
     },
     "metadata": {},
     "output_type": "display_data"
    }
   ],
   "source": [
    "idx = (y_pred_>4) & (y_pred_<12)\n",
    "plt.figure(figsize=(4,4))\n",
    "plt.scatter(y_pred_[idx], y_pred_[idx]-y_test_[idx], alpha=0.1)\n",
    "plt.xlabel(\"Predicted SNR\")\n",
    "#plt.xscale(\"log\")\n",
    "plt.xlim(4,10)\n",
    "plt.ylabel(\"Error\")\n",
    "plt.ylim(-5,5)\n",
    "plt.grid(alpha=0.4)\n",
    "plt.show()"
   ]
  },
  {
   "cell_type": "markdown",
   "metadata": {},
   "source": [
    "* The error is confined to $\\text{SNR}_{-3}^{+3}$, near SNR=8."
   ]
  },
  {
   "cell_type": "code",
   "execution_count": null,
   "metadata": {},
   "outputs": [],
   "source": []
  },
  {
   "cell_type": "code",
   "execution_count": null,
   "metadata": {},
   "outputs": [],
   "source": []
  }
 ],
 "metadata": {
  "kernelspec": {
   "display_name": "ler",
   "language": "python",
   "name": "python3"
  },
  "language_info": {
   "codemirror_mode": {
    "name": "ipython",
    "version": 3
   },
   "file_extension": ".py",
   "mimetype": "text/x-python",
   "name": "python",
   "nbconvert_exporter": "python",
   "pygments_lexer": "ipython3",
   "version": "3.10.14"
  }
 },
 "nbformat": 4,
 "nbformat_minor": 2
}
