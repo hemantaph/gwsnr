{
 "cells": [
  {
   "cell_type": "code",
   "execution_count": 1,
   "metadata": {},
   "outputs": [],
   "source": [
    "import numpy as np\n",
    "import matplotlib.pyplot as plt\n",
    "from gwsnr import GWSNR"
   ]
  },
  {
   "cell_type": "code",
   "execution_count": null,
   "metadata": {},
   "outputs": [
    {
     "name": "stdout",
     "output_type": "stream",
     "text": [
      "\n",
      "Initializing GWSNR class...\n",
      "\n",
      "Interpolator will be generated for L1 detector at ./interpolator_pickle/L1/partialSNR_dict_0.pickle\n",
      "Please be patient while the interpolator is generated\n",
      "Generating interpolator for ['L1'] detectors\n"
     ]
    },
    {
     "name": "stderr",
     "output_type": "stream",
     "text": [
      "interpolation for each mass_ratios: 100%|███████████████████████████| 50/50 [00:26<00:00,  1.92it/s]"
     ]
    },
    {
     "name": "stdout",
     "output_type": "stream",
     "text": [
      "\n",
      "Chosen GWSNR initialization parameters:\n",
      "\n",
      "npool:  8\n",
      "snr type:  interpolation\n",
      "waveform approximant:  IMRPhenomD\n",
      "sampling frequency:  2048.0\n",
      "minimum frequency (fmin):  20.0\n",
      "mtot=mass1+mass2\n",
      "min(mtot):  2.0\n",
      "max(mtot) (with the given fmin=20.0): 184.98599853446768\n",
      "detectors:  ['L1']\n",
      "psds:  [PowerSpectralDensity(psd_file='None', asd_file='/Users/phurailatpamhemantakumar/anaconda3/envs/ler/lib/python3.10/site-packages/bilby/gw/detector/noise_curves/aLIGO_O4_high_asd.txt')]\n",
      "min(ratio):  0.1\n",
      "max(ratio):  1.0\n",
      "mtot resolution:  500\n",
      "ratio resolution:  50\n",
      "interpolator directory:  ./interpolator_pickle\n"
     ]
    },
    {
     "name": "stderr",
     "output_type": "stream",
     "text": [
      "\n"
     ]
    }
   ],
   "source": [
    "snr = GWSNR(create_new_interpolator=False, ifos=['L1'], npool=8)"
   ]
  },
  {
   "cell_type": "code",
   "execution_count": 3,
   "metadata": {},
   "outputs": [
    {
     "data": {
      "text/plain": [
       "(1, 50, 4, 499)"
      ]
     },
     "execution_count": 3,
     "metadata": {},
     "output_type": "execute_result"
    }
   ],
   "source": [
    "partialsacaled = np.array(snr.snr_partialsacaled_list)\n",
    "partialsacaled.shape"
   ]
  },
  {
   "cell_type": "code",
   "execution_count": 4,
   "metadata": {},
   "outputs": [],
   "source": [
    "from gwsnr import (\n",
    "    antenna_response, save_pickle\n",
    ")\n",
    "from tqdm import tqdm"
   ]
  },
  {
   "cell_type": "code",
   "execution_count": 68,
   "metadata": {},
   "outputs": [],
   "source": [
    "size1 = 20\n",
    "size2 = 100\n",
    "\n",
    "mtot_min = snr.mtot_min\n",
    "detectors = snr.detector_list.copy()\n",
    "detector_tensor = snr.detector_tensor_list.copy()\n",
    "num_det = np.arange(len(detectors), dtype=int)\n",
    "mtot_table = np.sort(\n",
    "            mtot_min + snr.mtot_max - np.geomspace(mtot_min, snr.mtot_max, size2)\n",
    "        )\n",
    "\n",
    "ratio_table = np.geomspace(snr.ratio_min, snr.ratio_max, size1)\n",
    "\n",
    "mass_1 = np.zeros((size1, size2))\n",
    "mass_2 = np.zeros((size1, size2))\n",
    "ratio = np.zeros((size1, size2))\n",
    "\n",
    "for i, q in enumerate(ratio_table):\n",
    "    for j, mtot in enumerate(mtot_table):\n",
    "            mass_1[i, j] = mtot / (1 + q)\n",
    "            mass_2[i, j] = mass_1[i, j] * q\n",
    "            ratio[i, j] = q\n",
    "mass_1 = np.array(mass_1)\n",
    "mass_2 = np.array(mass_2)\n",
    "ratio = np.array(ratio)"
   ]
  },
  {
   "cell_type": "code",
   "execution_count": 70,
   "metadata": {},
   "outputs": [],
   "source": [
    "#np.sum(np.reshape(ratio.flatten(), (50,500)) != ratio)"
   ]
  },
  {
   "cell_type": "code",
   "execution_count": 71,
   "metadata": {},
   "outputs": [
    {
     "name": "stdout",
     "output_type": "stream",
     "text": [
      "Generating interpolator for ['L1'] detectors\n"
     ]
    },
    {
     "name": "stderr",
     "output_type": "stream",
     "text": [
      "100%|█████████████████████████████████████████████████████████| 1996/1996 [00:00<00:00, 2075.72it/s]\n"
     ]
    }
   ],
   "source": [
    "print(f\"Generating interpolator for {detectors} detectors\")\n",
    "\n",
    "if mtot_min < 1.0:\n",
    "    raise ValueError(\"Error: mass too low\")\n",
    "\n",
    "# this geocent_time is only to get partialScaledSNR\n",
    "geocent_time_ = 1246527224.169434  # random time from O3\n",
    "theta_jn_, ra_, dec_, psi_, phase_ = np.zeros(5)\n",
    "luminosity_distance_ = 100.0\n",
    "\n",
    "# calling bilby_snr\n",
    "optimal_snr_unscaled_ref = snr.compute_bilby_snr(\n",
    "    mass_1=mass_1.flatten(),\n",
    "    mass_2=mass_2.flatten(),\n",
    "    luminosity_distance=luminosity_distance_,\n",
    "    theta_jn=theta_jn_,\n",
    "    psi=psi_,\n",
    "    phase=phase_,\n",
    "    geocent_time=geocent_time_,\n",
    "    ra=ra_,\n",
    "    dec=dec_,\n",
    ")"
   ]
  },
  {
   "cell_type": "code",
   "execution_count": 72,
   "metadata": {},
   "outputs": [],
   "source": [
    "# Vectorized computation for effective luminosity distance\n",
    "Fp = np.array(\n",
    "    [\n",
    "        antenna_response(ra_, dec_, geocent_time_, psi_, tensor, \"plus\")\n",
    "        for tensor in detector_tensor\n",
    "    ]\n",
    ")\n",
    "Fc = np.array(\n",
    "    [\n",
    "        antenna_response(ra_, dec_, geocent_time_, psi_, tensor, \"cross\")\n",
    "        for tensor in detector_tensor\n",
    "    ]\n",
    ")\n",
    "dl_eff = luminosity_distance_ / np.sqrt(\n",
    "    Fp**2 * ((1 + np.cos(theta_jn_) ** 2) / 2) ** 2\n",
    "    + Fc**2 * np.cos(theta_jn_) ** 2\n",
    ")\n",
    "\n",
    "# for partialscaledSNR\n",
    "Mchirp = ((mass_1.flatten() * mass_2.flatten()) ** (3 / 5)) / ((mass_1.flatten() + mass_2.flatten()) ** (1 / 5))\n",
    "Mchirp_scaled = Mchirp ** (5.0 / 6.0)\n",
    "# filling in interpolation table for different detectors\n",
    "snr_partial_buffer = []\n",
    "for j in num_det:\n",
    "    snr_partial_buffer.append(\n",
    "            (dl_eff[j] / Mchirp_scaled) * optimal_snr_unscaled_ref[detectors[j]],\n",
    "    )\n",
    "snr_partial_ref = np.reshape(np.array(snr_partial_buffer)[0], \n",
    "                             (size1, size2))\n",
    "# save array\n",
    "np.save('snr_partial_2D.npy', snr_partial_ref)"
   ]
  },
  {
   "cell_type": "code",
   "execution_count": 73,
   "metadata": {},
   "outputs": [
    {
     "data": {
      "text/plain": [
       "(20, 100)"
      ]
     },
     "execution_count": 73,
     "metadata": {},
     "output_type": "execute_result"
    }
   ],
   "source": [
    "snr_partial_ref.shape"
   ]
  },
  {
   "cell_type": "code",
   "execution_count": 17,
   "metadata": {},
   "outputs": [
    {
     "data": {
      "text/plain": [
       "array([ 11.64713066,  18.94706344,  25.35638626, ...,\n",
       "       668.29963554, 668.34369177, 669.07503709])"
      ]
     },
     "execution_count": 17,
     "metadata": {},
     "output_type": "execute_result"
    }
   ],
   "source": [
    "(snr_partial_ref.flatten()*(Mchirp_scaled/dl_eff[0]))"
   ]
  },
  {
   "cell_type": "code",
   "execution_count": 18,
   "metadata": {},
   "outputs": [
    {
     "data": {
      "text/plain": [
       "array([ 11.64713066,  18.94706344,  25.35638626, ...,\n",
       "       668.29963554, 668.34369177, 669.07503709])"
      ]
     },
     "execution_count": 18,
     "metadata": {},
     "output_type": "execute_result"
    }
   ],
   "source": [
    "optimal_snr_unscaled_ref['L1']"
   ]
  },
  {
   "cell_type": "code",
   "execution_count": null,
   "metadata": {},
   "outputs": [],
   "source": []
  },
  {
   "cell_type": "code",
   "execution_count": 25,
   "metadata": {},
   "outputs": [],
   "source": [
    "# snr.multiprocessing_verbose = False\n",
    "# mtot_min = snr.mtot_min\n",
    "# detectors = snr.detector_list.copy()\n",
    "# detector_tensor = snr.detector_tensor_list.copy()\n",
    "# num_det = np.arange(len(detectors), dtype=int)\n",
    "# mtot_table = snr.mtot_arr\n",
    "# print(f\"Generating interpolator for {detectors} detectors\")\n",
    "\n",
    "# if mtot_min < 1.0:\n",
    "#     raise ValueError(\"Error: mass too low\")\n",
    "\n",
    "# # geocent_time cannot be array here\n",
    "# # this geocent_time is only to get partialScaledSNR\n",
    "# geocent_time_ = 1246527224.169434  # random time from O3\n",
    "# theta_jn_, ra_, dec_, psi_, phase_ = np.zeros(5)\n",
    "# luminosity_distance_ = 100.0\n",
    "\n",
    "# # Vectorized computation for effective luminosity distance\n",
    "# Fp = np.array(\n",
    "#     [\n",
    "#         antenna_response(ra_, dec_, geocent_time_, psi_, tensor, \"plus\")\n",
    "#         for tensor in detector_tensor\n",
    "#     ]\n",
    "# )\n",
    "# Fc = np.array(\n",
    "#     [\n",
    "#         antenna_response(ra_, dec_, geocent_time_, psi_, tensor, \"cross\")\n",
    "#         for tensor in detector_tensor\n",
    "#     ]\n",
    "# )\n",
    "# dl_eff = luminosity_distance_ / np.sqrt(\n",
    "#     Fp**2 * ((1 + np.cos(theta_jn_) ** 2) / 2) ** 2\n",
    "#     + Fc**2 * np.cos(theta_jn_) ** 2\n",
    "# )\n",
    "\n",
    "# ratio = snr.ratio_arr.copy()\n",
    "# snr_partial_ = []\n",
    "# # interpolation along mtot for each mass_ratio\n",
    "# for q in tqdm(\n",
    "#     ratio,\n",
    "#     desc=\"interpolation for each mass_ratios\",\n",
    "#     total=len(ratio),\n",
    "#     ncols=100,\n",
    "# ):\n",
    "#     mass_1_ = mtot_table / (1 + q)\n",
    "#     mass_2_ = mass_1_ * q\n",
    "#     # calling bilby_snr\n",
    "#     optimal_snr_unscaled = snr.compute_bilby_snr(\n",
    "#         mass_1=mass_1_,\n",
    "#         mass_2=mass_2_,\n",
    "#         luminosity_distance=luminosity_distance_,\n",
    "#         theta_jn=theta_jn_,\n",
    "#         psi=psi_,\n",
    "#         phase=phase_,\n",
    "#         geocent_time=geocent_time_,\n",
    "#         ra=ra_,\n",
    "#         dec=dec_,\n",
    "#     )\n",
    "#     # for partialscaledSNR\n",
    "#     Mchirp = ((mass_1_ * mass_2_) ** (3 / 5)) / ((mtot_table) ** (1 / 5))\n",
    "#     a2 = Mchirp ** (5.0 / 6.0)\n",
    "#     # filling in interpolation table for different detectors\n",
    "#     snr_partial_buffer = []\n",
    "#     for j in num_det:\n",
    "#         snr_partial_buffer.append((dl_eff[j] / a2) * optimal_snr_unscaled[detectors[j]])\n",
    "#     snr_partial_.append(np.array(snr_partial_buffer))\n",
    "# snr_partial_ = np.array(snr_partial_)\n",
    "# snr.multiprocessing_verbose = True"
   ]
  },
  {
   "cell_type": "code",
   "execution_count": 26,
   "metadata": {},
   "outputs": [],
   "source": [
    "# snr_partial_ref, snr_partial_[:,0,:]"
   ]
  },
  {
   "cell_type": "code",
   "execution_count": null,
   "metadata": {},
   "outputs": [],
   "source": []
  },
  {
   "cell_type": "code",
   "execution_count": 74,
   "metadata": {},
   "outputs": [
    {
     "name": "stderr",
     "output_type": "stream",
     "text": [
      "100%|█████████████████████████████████████████████████████████████████| 4/4 [00:00<00:00, 13.94it/s]\n"
     ]
    }
   ],
   "source": [
    "size = 4\n",
    "# q = np.random.uniform(snr.ratio_min, snr.ratio_max, size=size)\n",
    "# mtot = np.random.uniform(snr.mtot_min, snr.mtot_max, size=size)\n",
    "# mass_1_ = mtot / (1 + q)\n",
    "# mass_2_ = mass_1_ * q\n",
    "# a_1_ = np.random.uniform(-a_max, a_max, size=size)\n",
    "# a_2_ = np.random.uniform(-a_max, a_max, size=size)\n",
    "mass_1_ = 30.* np.ones(size)\n",
    "mass_2_ = 25.* np.ones(size)\n",
    "\n",
    "\n",
    "# geocent_time cannot be array here\n",
    "# this geocent_time is only to get partialScaledSNR\n",
    "geocent_time_ = 1246527224.169434  # random time from O3\n",
    "theta_jn_, ra_, dec_, psi_, phase_ = np.zeros(5)\n",
    "luminosity_distance_ = 500.0\n",
    "\n",
    "# Vectorized computation for effective luminosity distance\n",
    "Fp = np.array(\n",
    "    [\n",
    "        antenna_response(ra_, dec_, geocent_time_, psi_, tensor, \"plus\")\n",
    "        for tensor in detector_tensor\n",
    "    ]\n",
    ")\n",
    "Fc = np.array(\n",
    "    [\n",
    "        antenna_response(ra_, dec_, geocent_time_, psi_, tensor, \"cross\")\n",
    "        for tensor in detector_tensor\n",
    "    ]\n",
    ")\n",
    "dl_eff = luminosity_distance_ / np.sqrt(\n",
    "    Fp**2 * ((1 + np.cos(theta_jn_) ** 2) / 2) ** 2\n",
    "    + Fc**2 * np.cos(theta_jn_) ** 2\n",
    ")\n",
    "\n",
    "ratio = snr.ratio_arr.copy()\n",
    "# interpolation along mtot for each mass_ratio\n",
    "\n",
    "# calling bilby_snr\n",
    "optimal_snr_unscaled = snr.compute_bilby_snr(\n",
    "    mass_1=mass_1_,\n",
    "    mass_2=mass_2_,\n",
    "    luminosity_distance=luminosity_distance_,\n",
    "    theta_jn=theta_jn_,\n",
    "    psi=psi_,\n",
    "    phase=phase_,\n",
    "    geocent_time=geocent_time_,\n",
    "    ra=ra_,\n",
    "    dec=dec_,\n",
    ")\n",
    "# for partialscaledSNR\n",
    "Mchirp = ((mass_1_ * mass_2_) ** (3 / 5)) / ((mass_1_ + mass_2_) ** (1 / 5))\n",
    "Mchirp_scaled = Mchirp ** (5.0 / 6.0)\n",
    "# filling in interpolation table for different detectors\n",
    "snr_partial_buffer = []\n",
    "for j in num_det:\n",
    "    snr_partial_buffer.append(\n",
    "            (dl_eff[j] / Mchirp_scaled) * optimal_snr_unscaled[detectors[j]],\n",
    "    )\n",
    "\n",
    "snr_partial_true = np.array(snr_partial_buffer)"
   ]
  },
  {
   "cell_type": "code",
   "execution_count": 75,
   "metadata": {},
   "outputs": [
    {
     "data": {
      "text/plain": [
       "array([2396.92829161, 2396.92829161, 2396.92829161,\n",
       "       2396.92829161])"
      ]
     },
     "execution_count": 75,
     "metadata": {},
     "output_type": "execute_result"
    }
   ],
   "source": [
    "snr_partial_true[0]"
   ]
  },
  {
   "cell_type": "code",
   "execution_count": null,
   "metadata": {},
   "outputs": [],
   "source": []
  },
  {
   "cell_type": "code",
   "execution_count": 38,
   "metadata": {},
   "outputs": [],
   "source": [
    "import numpy as np\n",
    "\n",
    "def catmull_rom_spline(p, t):\n",
    "    \"\"\"1D Catmull-Rom interpolation with 4 points p, at relative position t in [0,1].\"\"\"\n",
    "    M = 0.5 * np.array([\n",
    "        [0,  2,  0,  0],\n",
    "        [-1, 0,  1,  0],\n",
    "        [2, -5,  4, -1],\n",
    "        [-1, 3, -3,  1]\n",
    "    ])\n",
    "    T = np.array([1, t, t**2, t**3])\n",
    "    return T @ M @ p\n",
    "\n",
    "def find_index_1d(x_array, x_new):\n",
    "    \"\"\"Find index i so that x_array[i] <= x_new <= x_array[i+1], with clamping (array must be len >= 4).\"\"\"\n",
    "    N = len(x_array)\n",
    "    if x_new <= x_array[1]:\n",
    "        return 1\n",
    "    elif x_new >= x_array[N - 2]:\n",
    "        return N - 3\n",
    "    else:\n",
    "        i = np.searchsorted(x_array, x_new) - 1\n",
    "        return max(1, min(i, N - 3))\n",
    "\n",
    "def catmull_rom_2d_interp(q_array, mtot_array, snr_array, q_new, mtot_new):\n",
    "    \"\"\"Perform 2D Catmull-Rom spline interpolation for snr_array[q, mtot] at (q_new, mtot_new).\"\"\"\n",
    "    q_idx = find_index_1d(q_array, q_new)\n",
    "    m_idx = find_index_1d(mtot_array, mtot_new)\n",
    "\n",
    "    # Extract 4 points in each direction (assumes arrays are sorted and len >= 4)\n",
    "    qs = q_array[q_idx - 1 : q_idx + 3]\n",
    "    ms = mtot_array[m_idx - 1 : m_idx + 3]\n",
    "    F = snr_array[q_idx - 1 : q_idx + 3, m_idx - 1 : m_idx + 3]  # shape (4,4)\n",
    "\n",
    "    # Compute normalized local coordinates\n",
    "    tq = (q_new - qs[1]) / (qs[2] - qs[1])\n",
    "    tm = (mtot_new - ms[1]) / (ms[2] - ms[1])\n",
    "    tq = np.clip(tq, 0, 1)\n",
    "    tm = np.clip(tm, 0, 1)\n",
    "\n",
    "    # Interpolate: first along mtot for each q-row, then along q\n",
    "    temp = np.array([catmull_rom_spline(F[i, :], tm) for i in range(4)])\n",
    "    snr_new = catmull_rom_spline(temp, tq)\n",
    "    return snr_new"
   ]
  },
  {
   "cell_type": "code",
   "execution_count": 77,
   "metadata": {},
   "outputs": [
    {
     "data": {
      "text/plain": [
       "((20,), (100,), (20, 100))"
      ]
     },
     "execution_count": 77,
     "metadata": {},
     "output_type": "execute_result"
    }
   ],
   "source": [
    "ratio_table.shape, mtot_table.shape, snr_partial_ref.shape"
   ]
  },
  {
   "cell_type": "code",
   "execution_count": 78,
   "metadata": {},
   "outputs": [
    {
     "data": {
      "text/plain": [
       "2396.8467281083076"
      ]
     },
     "execution_count": 78,
     "metadata": {},
     "output_type": "execute_result"
    }
   ],
   "source": [
    "i = 3\n",
    "q_new = mass_2_[i] / mass_1_[i] # 25/30 # \n",
    "mtot_new = mass_1_[i] + mass_2_[i] #30 + 25 # ,\n",
    "catmull_rom_2d_interp(\n",
    "    ratio_table, mtot_table, snr_partial_ref,\n",
    "    q_new= q_new,\n",
    "    mtot_new= mtot_new,\n",
    ")#* Mchirp_scaled[i]/dl_eff[0]    # scale by effective distance and chirp mass"
   ]
  },
  {
   "cell_type": "code",
   "execution_count": 67,
   "metadata": {},
   "outputs": [
    {
     "data": {
      "text/plain": [
       "2396.928291607153"
      ]
     },
     "execution_count": 67,
     "metadata": {},
     "output_type": "execute_result"
    }
   ],
   "source": [
    "snr_partial_true[0][i]#* Mchirp_scaled[i]/dl_eff[0]"
   ]
  },
  {
   "cell_type": "code",
   "execution_count": 51,
   "metadata": {},
   "outputs": [
    {
     "data": {
      "text/plain": [
       "(array([ 12.40074326,  77.81942944,  12.74809701, 101.90713374]),\n",
       " array([12.25497886, 50.48750378, 11.69053176, 75.46294798]))"
      ]
     },
     "execution_count": 51,
     "metadata": {},
     "output_type": "execute_result"
    }
   ],
   "source": [
    "mass_1_,mass_2_"
   ]
  },
  {
   "cell_type": "code",
   "execution_count": null,
   "metadata": {},
   "outputs": [],
   "source": []
  },
  {
   "cell_type": "code",
   "execution_count": 56,
   "metadata": {},
   "outputs": [],
   "source": [
    "def cubic_spline_4pts(x, y, i):\n",
    "\n",
    "    A = np.zeros((12, 12))\n",
    "    b = np.zeros(12)\n",
    "\n",
    "    # Cubic polynomial: a*x^3 + b*x^2 + c*x + d\n",
    "\n",
    "    # Function values at endpoints\n",
    "    A[0, 0:4] = [x[0]**3, x[0]**2, x[0], 1]\n",
    "    A[1, 0:4] = [x[1]**3, x[1]**2, x[1], 1]\n",
    "    A[2, 4:8] = [x[1]**3, x[1]**2, x[1], 1]\n",
    "    A[3, 4:8] = [x[2]**3, x[2]**2, x[2], 1]\n",
    "    A[4, 8:12] = [x[2]**3, x[2]**2, x[2], 1]\n",
    "    A[5, 8:12] = [x[3]**3, x[3]**2, x[3], 1]\n",
    "\n",
    "    b[0:6] = [y[0], y[1], y[1], y[2], y[2], y[3]]\n",
    "\n",
    "    # First derivative continuity at x2 and x3\n",
    "    A[6, 0:4] = [3*x[1]**2, 2*x[1], 1, 0]\n",
    "    A[6, 4:8] = [-3*x[1]**2, -2*x[1], -1, 0]\n",
    "\n",
    "    A[7, 4:8] = [3*x[2]**2, 2*x[2], 1, 0]\n",
    "    A[7, 8:12] = [-3*x[2]**2, -2*x[2], -1, 0]\n",
    "\n",
    "    # Second derivative continuity at x2 and x3\n",
    "    A[8, 0:4] = [6*x[1], 2, 0, 0]\n",
    "    A[8, 4:8] = [-6*x[1], -2, 0, 0]\n",
    "\n",
    "    A[9, 4:8] = [6*x[2], 2, 0, 0]\n",
    "    A[9, 8:12] = [-6*x[2], -2, 0, 0]\n",
    "\n",
    "    # Natural spline boundary conditions (second derivative zero at endpoints)\n",
    "    A[10, 0:4] = [6*x[0], 2, 0, 0]\n",
    "    A[11, 8:12] = [6*x[3], 2, 0, 0]\n",
    "\n",
    "    # Solve linear system\n",
    "    coeffs = np.linalg.solve(A, b)\n",
    "\n",
    "    # Return each interval's coefficients [a_i, b_i, c_i, d_i]\n",
    "    return coeffs[i*4:(i+1)*4]\n",
    "\n",
    "def find_index_1d(x_array, x_new):\n",
    "    \"\"\"Find index i such that x_array[i] <= x_new <= x_array[i+1], with clamping.\"\"\"\n",
    "    N = len(x_array)\n",
    "    if x_new <= x_array[1]:\n",
    "        return 1, 0\n",
    "    elif x_new >= x_array[N - 2]:\n",
    "        return N - 3, 1\n",
    "    else:\n",
    "        i = np.searchsorted(x_array, x_new) - 1\n",
    "        return max(1, min(i, N - 3)), 2\n",
    "    \n",
    "def cubic_function_4pts(x, coeffs):\n",
    "    \"\"\"\n",
    "    Evaluate cubic polynomial defined by 4 points at x.\n",
    "    coeffs should be of the form [a, b, c, d] for the polynomial a*x^3 + b*x^2 + c*x + d\n",
    "    \"\"\"\n",
    "    return coeffs[0] * x**3 + coeffs[1] * x**2 + coeffs[2] * x + coeffs[3]\n",
    "\n",
    "q_array=snr.ratio_arr\n",
    "mtot_array=snr.mtot_arr\n",
    "snr_array=snr_partial_ref\n",
    "q_new=mass_2_[i] / mass_1_[i]\n",
    "mtot_new= mass_1_[i] + mass_2_[i]\n",
    "\"\"\"Perform 2D Catmull-Rom interpolation.\"\"\"\n",
    "q_idx, int_q = find_index_1d(q_array, q_new)\n",
    "m_idx, int_m = find_index_1d(mtot_array, mtot_new)\n",
    "\n",
    "# Select 4x4 grid around (q_new, mtot_new)\n",
    "qs = q_array[q_idx - 1: q_idx + 3]\n",
    "ms = mtot_array[m_idx - 1: m_idx + 3]\n",
    "F = snr_array[q_idx - 1: q_idx + 3, m_idx - 1: m_idx + 3]  # shape (4,4)\n",
    "\n",
    "# Interpolate along mtot for each q-row\n",
    "temp = np.zeros(4)\n",
    "for i in range(4):\n",
    "    coeff_ = cubic_spline_4pts(ms, F[i, :], int_m)\n",
    "    temp[i] = cubic_function_4pts(mtot_new, coeff_)\n",
    "\n",
    "# Interpolate final value along q\n",
    "coeff = cubic_spline_4pts(qs, temp, int_q)\n",
    "snr_new = cubic_function_4pts(q_new, coeff)"
   ]
  },
  {
   "cell_type": "code",
   "execution_count": 58,
   "metadata": {},
   "outputs": [
    {
     "data": {
      "text/plain": [
       "44.43943631991828"
      ]
     },
     "execution_count": 58,
     "metadata": {},
     "output_type": "execute_result"
    }
   ],
   "source": [
    "snr_new* Mchirp_scaled[i] / dl_eff[0]  # scale by effective distance and chirp mass"
   ]
  },
  {
   "cell_type": "code",
   "execution_count": 75,
   "metadata": {},
   "outputs": [],
   "source": [
    "import jax.numpy as jnp\n",
    "from jax import jit, vmap, lax\n",
    "\n",
    "@jit\n",
    "def catmull_rom_spline(p, t):\n",
    "    M = 0.5 * jnp.array([\n",
    "        [0,  2,  0,  0],\n",
    "        [-1, 0,  1,  0],\n",
    "        [2, -5,  4, -1],\n",
    "        [-1, 3, -3,  1]\n",
    "    ])\n",
    "    T = jnp.array([1.0, t, t**2, t**3])\n",
    "    return T @ M @ p\n",
    "\n",
    "@jit\n",
    "def find_index_1d(x_array, x_new):\n",
    "    N = x_array.shape[0]\n",
    "    i = jnp.sum(x_array <= x_new) - 1\n",
    "    return jnp.clip(i, 1, N - 3)\n",
    "\n",
    "@jit\n",
    "def catmull_rom_2d_interp_single(q_array, mtot_array, snr_array, q_new, mtot_new):\n",
    "    q_idx = find_index_1d(q_array, q_new)\n",
    "    m_idx = find_index_1d(mtot_array, mtot_new)\n",
    "\n",
    "    # Dynamic slices (for 4x4 neighborhood)\n",
    "    F = lax.dynamic_slice(snr_array, (q_idx - 1, m_idx - 1), (4, 4))\n",
    "    qs = lax.dynamic_slice(q_array, (q_idx - 1,), (4,))\n",
    "    ms = lax.dynamic_slice(mtot_array, (m_idx - 1,), (4,))\n",
    "\n",
    "    # Relative coordinates\n",
    "    tq = (q_new - qs[1]) / (qs[2] - qs[1])\n",
    "    tm = (mtot_new - ms[1]) / (ms[2] - ms[1])\n",
    "    tq = jnp.clip(tq, 0.0, 1.0)\n",
    "    tm = jnp.clip(tm, 0.0, 1.0)\n",
    "\n",
    "    # Interpolate along mtot (columns)\n",
    "    def interp_m_row(i):\n",
    "        return catmull_rom_spline(F[i, :], tm)\n",
    "    \n",
    "    temp = jnp.stack([interp_m_row(i) for i in range(4)])\n",
    "    return catmull_rom_spline(temp, tq)\n",
    "\n",
    "@jit\n",
    "def batched_catmull_rom_2d(q_array, mtot_array, snr_array, q_new_batch, mtot_new_batch):\n",
    "    # Vectorize only over q_new and mtot_new\n",
    "    vmapped_interp = vmap(\n",
    "        lambda q, m: catmull_rom_2d_interp_single(q_array, mtot_array, snr_array, q, m),\n",
    "        in_axes=(0, 0)\n",
    "    )\n",
    "    return vmapped_interp(q_new_batch, mtot_new_batch)\n",
    "\n",
    "\n",
    "# q_array = jnp.array(snr.ratio_arr)\n",
    "# mtot_array = jnp.array(snr.mtot_arr)\n",
    "# snr_array = jnp.array(snr_partial_[:,0,:])\n",
    "# q_new = jnp.array(q[0])\n",
    "# mtot_new = jnp.array(mtot[0])\n",
    "\n",
    "# snr_new = catmull_rom_2d_interp(q_array, mtot_array, snr_array, q_new, mtot_new)\n",
    "# print(snr_new)"
   ]
  },
  {
   "cell_type": "code",
   "execution_count": 79,
   "metadata": {},
   "outputs": [],
   "source": [
    "q_array = jnp.array(snr.ratio_arr)\n",
    "mtot_array = jnp.array(snr.mtot_arr)\n",
    "snr_array = jnp.array(snr_partial_ref)\n",
    "q_new = jnp.array(mass_2_ / mass_1_)  # Example mass ratio\n",
    "mtot_new = jnp.array(mass_1_ + mass_2_)  # Example total mass\n",
    "\n",
    "# Query batch\n",
    "q_new_batch = jnp.array([0.55, 0.72, 0.90])\n",
    "mtot_new_batch = jnp.array([2.1, 2.5, 2.8])\n",
    "\n",
    "# Interpolate\n",
    "snr_partial_pred1 = batched_catmull_rom_2d(q_array, mtot_array, snr_array, q_new, mtot_new)\n",
    "# snr_pred1 = snr_partial_pred1*(Mchirp_scaled / dl_eff[0])"
   ]
  },
  {
   "cell_type": "code",
   "execution_count": 80,
   "metadata": {},
   "outputs": [
    {
     "data": {
      "text/plain": [
       "Array([2396.9106, 2396.9106, 2396.9106, 2396.9106, 2396.9106,\n",
       "       2396.9106, 2396.9106, 2396.9106, 2396.9106, 2396.9106],      dtype=float32)"
      ]
     },
     "execution_count": 80,
     "metadata": {},
     "output_type": "execute_result"
    }
   ],
   "source": [
    "snr_partial_pred1"
   ]
  },
  {
   "cell_type": "code",
   "execution_count": 76,
   "metadata": {},
   "outputs": [
    {
     "data": {
      "text/plain": [
       "(Array([522.85443, 430.64316, 321.00262, ..., 410.02454,\n",
       "        170.36212, 453.03372], dtype=float32),\n",
       " array([522.88940429, 430.64745172, 321.00320745, ...,\n",
       "        410.02651661, 170.36810368, 453.06071546]))"
      ]
     },
     "execution_count": 76,
     "metadata": {},
     "output_type": "execute_result"
    }
   ],
   "source": [
    "snr_partial_pred1*(a2 / dl_eff[0]), optimal_snr_unscaled['L1']"
   ]
  },
  {
   "cell_type": "code",
   "execution_count": 45,
   "metadata": {},
   "outputs": [
    {
     "name": "stdout",
     "output_type": "stream",
     "text": [
      "235 µs ± 1.17 µs per loop (mean ± std. dev. of 7 runs, 1,000 loops each)\n"
     ]
    }
   ],
   "source": [
    "%timeit snr_batch = batched_catmull_rom_2d(q_array, mtot_array, snr_array, q_new, mtot_new)"
   ]
  },
  {
   "cell_type": "code",
   "execution_count": 39,
   "metadata": {},
   "outputs": [
    {
     "data": {
      "text/plain": [
       "array([[2185.73692206, 1454.52121682, 1411.14488771, ...,\n",
       "        2610.41192525, 2568.81510465, 1987.39630359],\n",
       "       [2185.73692206, 1454.52121682, 1411.14488771, ...,\n",
       "        2610.41192525, 2568.81510465, 1987.39630359],\n",
       "       [1700.6577253 , 1096.48714003, 1051.06353928, ...,\n",
       "        1966.9310175 , 1928.55972619, 1506.69036275]])"
      ]
     },
     "execution_count": 39,
     "metadata": {},
     "output_type": "execute_result"
    }
   ],
   "source": [
    "snr_partial_new"
   ]
  },
  {
   "cell_type": "code",
   "execution_count": 99,
   "metadata": {},
   "outputs": [],
   "source": [
    "import jax.numpy as jnp\n",
    "from jax import jit, vmap, lax\n",
    "\n",
    "@jit\n",
    "def find_index_1d_jax(x_array, x_new):\n",
    "    N = x_array.shape[0]\n",
    "    i = jnp.sum(x_array <= x_new) - 1\n",
    "    i = jnp.clip(i, 1, N - 3)\n",
    "    cond_0 = x_new <= x_array[1]\n",
    "    cond_1 = x_new >= x_array[N - 2]\n",
    "    interval_type = jnp.where(cond_0, 0, jnp.where(cond_1, 1, 2))\n",
    "    return i, interval_type\n",
    "\n",
    "@jit\n",
    "def cubic_spline_4pts_jax(x, y, i):\n",
    "    def row(i, coeff_idx):\n",
    "        return jnp.array([x[i]**3, x[i]**2, x[i], 1.0]) if coeff_idx == 0 else jnp.zeros(4)\n",
    "\n",
    "    A = jnp.zeros((12, 12))\n",
    "    b = jnp.zeros(12)\n",
    "\n",
    "    def set_block(A, row_idx, col_offset, coeffs):\n",
    "        return A.at[row_idx, col_offset:col_offset+4].set(jnp.array(coeffs))\n",
    "\n",
    "    # Fill A and b (fully unrolled for JAX compatibility)\n",
    "    A = set_block(A, 0, 0, [x[0]**3, x[0]**2, x[0], 1])\n",
    "    A = set_block(A, 1, 0, [x[1]**3, x[1]**2, x[1], 1])\n",
    "    A = set_block(A, 2, 4, [x[1]**3, x[1]**2, x[1], 1])\n",
    "    A = set_block(A, 3, 4, [x[2]**3, x[2]**2, x[2], 1])\n",
    "    A = set_block(A, 4, 8, [x[2]**3, x[2]**2, x[2], 1])\n",
    "    A = set_block(A, 5, 8, [x[3]**3, x[3]**2, x[3], 1])\n",
    "\n",
    "    b = b.at[0:6].set(jnp.array([y[0], y[1], y[1], y[2], y[2], y[3]]))\n",
    "\n",
    "    A = A.at[6, 0:4].set(jnp.array([3*x[1]**2, 2*x[1], 1, 0]))\n",
    "    A = A.at[6, 4:8].set(jnp.array([-3*x[1]**2, -2*x[1], -1, 0]))\n",
    "    A = A.at[7, 4:8].set(jnp.array([3*x[2]**2, 2*x[2], 1, 0]))\n",
    "    A = A.at[7, 8:12].set(jnp.array([-3*x[2]**2, -2*x[2], -1, 0]))\n",
    "\n",
    "    A = A.at[8, 0:4].set(jnp.array([6*x[1], 2, 0, 0]))\n",
    "    A = A.at[8, 4:8].set(jnp.array([-6*x[1], -2, 0, 0]))\n",
    "    A = A.at[9, 4:8].set(jnp.array([6*x[2], 2, 0, 0]))\n",
    "    A = A.at[9, 8:12].set(jnp.array([-6*x[2], -2, 0, 0]))\n",
    "\n",
    "    A = A.at[10, 0:4].set(jnp.array([6*x[0], 2, 0, 0]))\n",
    "    A = A.at[11, 8:12].set(jnp.array([6*x[3], 2, 0, 0]))\n",
    "\n",
    "    coeffs = jnp.linalg.solve(A, b)\n",
    "    return coeffs[i*4:(i+1)*4]\n",
    "\n",
    "@jit\n",
    "def cubic_function_4pts_jax(x, coeffs):\n",
    "    return coeffs[0]*x**3 + coeffs[1]*x**2 + coeffs[2]*x + coeffs[3]\n",
    "\n",
    "@jit\n",
    "def spline_interp_2d_single(q_array, mtot_array, snr_array, q_new, mtot_new):\n",
    "    q_idx, int_q = find_index_1d_jax(q_array, q_new)\n",
    "    m_idx, int_m = find_index_1d_jax(mtot_array, mtot_new)\n",
    "\n",
    "    F = lax.dynamic_slice(snr_array, (q_idx - 1, m_idx - 1), (4, 4))\n",
    "    qs = lax.dynamic_slice(q_array, (q_idx - 1,), (4,))\n",
    "    ms = lax.dynamic_slice(mtot_array, (m_idx - 1,), (4,))\n",
    "\n",
    "    temp = jnp.zeros(4)\n",
    "    for i in range(4):\n",
    "        coeff_ = cubic_spline_4pts_jax(ms, F[i, :], int_m)\n",
    "        temp = temp.at[i].set(cubic_function_4pts_jax(mtot_new, coeff_))\n",
    "\n",
    "    coeff_final = cubic_spline_4pts_jax(qs, temp, int_q)\n",
    "    return cubic_function_4pts_jax(q_new, coeff_final)\n",
    "\n",
    "# Vectorized version\n",
    "@jit\n",
    "def batched_spline_interp(q_array, mtot_array, snr_array, q_batch, mtot_batch):\n",
    "    vmapped_interp = vmap(lambda q, m: spline_interp_2d_single(q_array, mtot_array, snr_array, q, m), in_axes=(0, 0))\n",
    "    return vmapped_interp(q_batch, mtot_batch)"
   ]
  },
  {
   "cell_type": "code",
   "execution_count": 100,
   "metadata": {},
   "outputs": [],
   "source": [
    "q_array = jnp.array(snr.ratio_arr)\n",
    "mtot_array = jnp.array(snr.mtot_arr)\n",
    "snr_array = jnp.array(snr_partial_[:,0,:])\n",
    "q_new = jnp.array(q)\n",
    "mtot_new = jnp.array(mtot)\n",
    "\n",
    "\n",
    "# Interpolate\n",
    "snr_partial_pred2 = batched_catmull_rom_2d(q_array, mtot_array, snr_array, q_new, mtot_new)\n",
    "snr_pred2 = snr_partial_pred1*(a2 / dl_eff[0])"
   ]
  },
  {
   "cell_type": "code",
   "execution_count": 101,
   "metadata": {},
   "outputs": [
    {
     "data": {
      "text/plain": [
       "(Array([522.85443, 430.64316, 321.00262, ..., 410.02454,\n",
       "        170.36212, 453.03372], dtype=float32),\n",
       " Array([522.85443, 430.64316, 321.00262, ..., 410.02454,\n",
       "        170.36212, 453.03372], dtype=float32))"
      ]
     },
     "execution_count": 101,
     "metadata": {},
     "output_type": "execute_result"
    }
   ],
   "source": [
    "snr_pred1``, snr_pred2"
   ]
  },
  {
   "cell_type": "code",
   "execution_count": 105,
   "metadata": {},
   "outputs": [],
   "source": [
    "geocent_time_ = 1246527224.169434  # random time from O3\n",
    "theta_jn_, ra_, dec_, psi_, phase_ = np.zeros(5)\n",
    "luminosity_distance_ = 100.0\n",
    "snr_pred3 = snr.snr(mass_1=mass_1_,\n",
    "        mass_2=mass_2_,\n",
    "        luminosity_distance=luminosity_distance_,\n",
    "        theta_jn=theta_jn_,\n",
    "        psi=psi_,\n",
    "        phase=phase_,\n",
    "        geocent_time=geocent_time_,\n",
    "        ra=ra_,\n",
    "        dec=dec_,\n",
    "    )['L1']"
   ]
  },
  {
   "cell_type": "code",
   "execution_count": 108,
   "metadata": {},
   "outputs": [
    {
     "data": {
      "image/png": "[encoded data removed]",
      "text/plain": [
       "<Figure size 640x480 with 1 Axes>"
      ]
     },
     "metadata": {},
     "output_type": "display_data"
    }
   ],
   "source": [
    "import matplotlib.pyplot as plt\n",
    "snr_true = optimal_snr_unscaled['L1']\n",
    "idx = snr_true> 0\n",
    "plt.plot(snr_true[idx],snr_true[idx]-snr_pred1[idx], label='diff1', marker='x', linestyle='None', color='C0')\n",
    "plt.plot(snr_true[idx],snr_true[idx]-snr_pred2[idx], label='diff2', marker='x', linestyle='None', color='C1')\n",
    "plt.plot(snr_true[idx], snr_true[idx]-snr_pred3[idx], label='pred1', marker='o', linestyle='None', color='C2')\n",
    "plt.legend()\n",
    "plt.show()"
   ]
  },
  {
   "cell_type": "code",
   "execution_count": 44,
   "metadata": {},
   "outputs": [
    {
     "data": {
      "text/plain": [
       "(array([1609.0088373 , 1130.62721984, 2830.24120997,\n",
       "        2834.30848108, 2816.66420316, 2837.9980039 ,\n",
       "        2808.26012532, 2838.7975963 , 2834.87381701,\n",
       "        2831.80851502, 2810.54504652, 1536.15323049,\n",
       "        2826.0876688 , 1710.51857877, 1145.07116205,\n",
       "        2830.7712454 , 2787.98064342, 1270.49799518,\n",
       "        1190.39652363, 2794.13600757, 2824.71821444,\n",
       "        1317.34811655, 1163.3988352 ]),\n",
       " Array([1614.9395, 1132.0879, 2788.6804, 2803.6162, 2796.3408,\n",
       "        2805.8687, 2806.6282, 2799.209 , 2796.3445, 2806.5635,\n",
       "        2805.4143, 1550.6266, 2803.1323, 1713.3921, 1162.6875,\n",
       "        2806.6282, 2928.6113, 1285.6229, 1193.2913, 2783.1853,\n",
       "        2803.2961, 1323.7009, 1174.3912], dtype=float32))"
      ]
     },
     "execution_count": 44,
     "metadata": {},
     "output_type": "execute_result"
    }
   ],
   "source": [
    "idx_no = abs(snr_true[idx]-snr_batch[idx])>1\n",
    "snr_true[idx][idx_no], snr_batch[idx][idx_no]"
   ]
  },
  {
   "cell_type": "code",
   "execution_count": null,
   "metadata": {},
   "outputs": [],
   "source": []
  },
  {
   "cell_type": "code",
   "execution_count": null,
   "metadata": {},
   "outputs": [],
   "source": []
  },
  {
   "cell_type": "code",
   "execution_count": null,
   "metadata": {},
   "outputs": [],
   "source": []
  },
  {
   "cell_type": "code",
   "execution_count": null,
   "metadata": {},
   "outputs": [],
   "source": []
  }
 ],
 "metadata": {
  "kernelspec": {
   "display_name": "ler",
   "language": "python",
   "name": "ler"
  },
  "language_info": {
   "codemirror_mode": {
    "name": "ipython",
    "version": 3
   },
   "file_extension": ".py",
   "mimetype": "text/x-python",
   "name": "python",
   "nbconvert_exporter": "python",
   "pygments_lexer": "ipython3",
   "version": "3.10.14"
  }
 },
 "nbformat": 4,
 "nbformat_minor": 2
}
