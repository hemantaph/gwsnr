{
 "cells": [
  {
   "cell_type": "markdown",
   "metadata": {},
   "source": [
    "# SNR finder ANN model training"
   ]
  },
  {
   "cell_type": "code",
   "execution_count": 1,
   "metadata": {},
   "outputs": [],
   "source": [
    "import numpy as np\n",
    "import matplotlib.pyplot as plt\n",
    "import pandas as pd\n",
    "import json\n",
    "from scipy.optimize import curve_fit\n",
    "from ler.utils import add_dict_values, append_json, get_param_from_json, load_json, save_json\n",
    "import tensorflow as tf\n",
    "\n",
    "import pickle\n",
    "from sklearn.preprocessing import StandardScaler\n",
    "from sklearn.model_selection import train_test_split\n",
    "from sklearn.metrics import confusion_matrix, accuracy_score\n",
    "from tensorflow.keras.models import load_model\n",
    "\n",
    "from gwsnr import antenna_response_array, cubic_spline_interpolator2d"
   ]
  },
  {
   "cell_type": "code",
   "execution_count": 2,
   "metadata": {},
   "outputs": [],
   "source": [
    "# # Uncomment to generate new data to test the model\n",
    "\n",
    "# # generating astrophysical data for testing using `ler` package\n",
    "# from ler.rates import LeR\n",
    "# from ler.utils import get_param_from_json\n",
    "\n",
    "# ler = LeR(verbose=False, snr_type='inner_product', waveform_approximant=\"IMRPhenomXPHM\", spin_zero=False, spin_precession=True, z_max=5)\n",
    "\n",
    "# size_ = 50000\n",
    "# ler.batch_size = 50000\n",
    "# ler.unlensed_cbc_statistics(size=size_, output_jsonfile='unlensed_param_testing.json', resume=True);"
   ]
  },
  {
   "cell_type": "code",
   "execution_count": 43,
   "metadata": {},
   "outputs": [
    {
     "name": "stdout",
     "output_type": "stream",
     "text": [
      "WARNING:absl:Compiled the loaded model, but the compiled metrics have yet to be built. `model.compile_metrics` will be empty until you train or evaluate the model.\n",
      "WARNING:absl:Compiled the loaded model, but the compiled metrics have yet to be built. `model.compile_metrics` will be empty until you train or evaluate the model.\n",
      "WARNING:absl:Compiled the loaded model, but the compiled metrics have yet to be built. `model.compile_metrics` will be empty until you train or evaluate the model.\n",
      "Interpolator will be generated for L1 detector at ./interpolator_pickle/L1/partialSNR_dict_1.pickle\n",
      "Interpolator will be generated for H1 detector at ./interpolator_pickle/H1/partialSNR_dict_1.pickle\n",
      "Interpolator will be generated for V1 detector at ./interpolator_pickle/V1/partialSNR_dict_1.pickle\n",
      "Please be patient while the interpolator is generated\n",
      "Generating interpolator for ['L1', 'H1', 'V1'] detectors\n"
     ]
    },
    {
     "name": "stderr",
     "output_type": "stream",
     "text": [
      "interpolation for each mass_ratios: 100%|███████████████████████████| 50/50 [03:44<00:00,  4.48s/it]"
     ]
    },
    {
     "name": "stdout",
     "output_type": "stream",
     "text": [
      "\n",
      "Chosen GWSNR initialization parameters:\n",
      "\n",
      "npool:  4\n",
      "snr type:  ann\n",
      "waveform approximant:  IMRPhenomXPHM\n",
      "sampling frequency:  2048.0\n",
      "minimum frequency (fmin):  20.0\n",
      "mtot=mass1+mass2\n",
      "min(mtot):  2.0\n",
      "max(mtot) (with the given fmin=20.0): 184.98599853446768\n",
      "detectors:  ['L1', 'H1', 'V1']\n",
      "psds:  [PowerSpectralDensity(psd_file='None', asd_file='/Users/phurailatpamhemantakumar/anaconda3/envs/ler/lib/python3.10/site-packages/bilby/gw/detector/noise_curves/aLIGO_O4_high_asd.txt'), PowerSpectralDensity(psd_file='None', asd_file='/Users/phurailatpamhemantakumar/anaconda3/envs/ler/lib/python3.10/site-packages/bilby/gw/detector/noise_curves/aLIGO_O4_high_asd.txt'), PowerSpectralDensity(psd_file='/Users/phurailatpamhemantakumar/anaconda3/envs/ler/lib/python3.10/site-packages/bilby/gw/detector/noise_curves/AdV_psd.txt', asd_file='None')]\n"
     ]
    },
    {
     "name": "stderr",
     "output_type": "stream",
     "text": [
      "\n"
     ]
    }
   ],
   "source": [
    "# let's generate IMRPhenomD (spinless) interpolartor for the snr_half (refer to gwsnr documentation)\n",
    "# One of the training input is half_snr\n",
    "from gwsnr import GWSNR\n",
    "gwsnr = GWSNR(snr_type='ann', waveform_approximant='IMRPhenomXPHM', ifos=['L1', 'H1','V1'], ann_partialscaled_approximant='IMRPhenomXPHM')"
   ]
  },
  {
   "cell_type": "markdown",
   "metadata": {},
   "source": [
    "### Input-Output generator function"
   ]
  },
  {
   "cell_type": "code",
   "execution_count": 44,
   "metadata": {},
   "outputs": [],
   "source": [
    "def input_output(idx, params):\n",
    "    \"\"\"\n",
    "        Function to generate input and output data for the neural network\n",
    "\n",
    "        Parameters:\n",
    "        idx: index of the parameter points\n",
    "        params: dictionary of parameter points\n",
    "            params.keys() = ['mass_1', 'mass_2', 'luminosity_distance', 'theta_jn', 'psi', 'geocent_time', 'ra', 'dec', 'a_1', 'a_2', 'tilt_1', 'tilt_2', 'L1']\n",
    "\n",
    "        Returns:\n",
    "        X: input data, [snr_half_[0], amp0[0], eta, chi_eff, theta_jn]\n",
    "        y: output data, [L1]\n",
    "    \"\"\"\n",
    "\n",
    "    mass_1 = np.array(params['mass_1'])[idx]\n",
    "    mass_2 = np.array(params['mass_2'])[idx]\n",
    "    luminosity_distance = np.array(params['luminosity_distance'])[idx]\n",
    "    theta_jn = np.array(params['theta_jn'])[idx]\n",
    "    psi = np.array(params['psi'])[idx]\n",
    "    geocent_time = np.array(params['geocent_time'])[idx]\n",
    "    ra = np.array(params['ra'])[idx]\n",
    "    dec = np.array(params['dec'])[idx]\n",
    "    \n",
    "    detector_tensor = gwsnr.detector_tensor_list\n",
    "    snr_halfscaled = np.array(gwsnr.snr_partialsacaled_list)\n",
    "    ratio_arr = gwsnr.ratio_arr\n",
    "    mtot_arr = gwsnr.mtot_arr\n",
    "    \n",
    "    size = len(mass_1)\n",
    "    len_ = len(detector_tensor)\n",
    "    mtot = mass_1 + mass_2\n",
    "    ratio = mass_2 / mass_1\n",
    "    # get array of antenna response\n",
    "    Fp, Fc = antenna_response_array(ra, dec, geocent_time, psi, detector_tensor)\n",
    "\n",
    "    Mc = ((mass_1 * mass_2) ** (3 / 5)) / ((mass_1 + mass_2) ** (1 / 5))\n",
    "    eta = mass_1 * mass_2/(mass_1 + mass_2)**2.\n",
    "    A1 = Mc ** (5.0 / 6.0)\n",
    "    ci_2 = np.cos(theta_jn) ** 2\n",
    "    ci_param = ((1 + np.cos(theta_jn) ** 2) / 2) ** 2\n",
    "    \n",
    "    size = len(mass_1)\n",
    "    snr_half_ = np.zeros((len_,size))\n",
    "    d_eff = np.zeros((len_,size))\n",
    "\n",
    "    # loop over the detectors\n",
    "    for j in range(len_):\n",
    "        # loop over the parameter points\n",
    "        for i in range(size):\n",
    "            snr_half_coeff = snr_halfscaled[j]\n",
    "            snr_half_[j,i] = cubic_spline_interpolator2d(mtot[i], ratio[i], snr_half_coeff, mtot_arr, ratio_arr)\n",
    "            d_eff[j,i] =luminosity_distance[i] / np.sqrt(\n",
    "                    Fp[j,i]**2 * ci_param[i] + Fc[j,i]**2 * ci_2[i]\n",
    "                )\n",
    "\n",
    "    #amp0\n",
    "    amp0 =  A1 / d_eff\n",
    "\n",
    "    # get spin parameters\n",
    "    a_1 = np.array(params['a_1'])[idx]\n",
    "    a_2 = np.array(params['a_2'])[idx]\n",
    "    tilt_1 = np.array(params['tilt_1'])[idx]\n",
    "    tilt_2 = np.array(params['tilt_2'])[idx]\n",
    "\n",
    "    # effective spin\n",
    "    chi_eff = (mass_1 * a_1 * np.cos(tilt_1) + mass_2 * a_2 * np.cos(tilt_2)) / (mass_1 + mass_2)\n",
    "\n",
    "\n",
    "    # input data\n",
    "    XL1 = np.vstack([snr_half_[0], amp0[0], eta, chi_eff, theta_jn]).T\n",
    "    XH1 = np.vstack([snr_half_[1], amp0[1], eta, chi_eff, theta_jn]).T\n",
    "    XV1 = np.vstack([snr_half_[2], amp0[2], eta, chi_eff, theta_jn]).T\n",
    "\n",
    "    # output data\n",
    "    # get snr for y train\n",
    "    yL1 = np.array(params['L1'])[idx]\n",
    "    yH1 = np.array(params['H1'])[idx]\n",
    "    yV1 = np.array(params['V1'])[idx]\n",
    "    yNET = np.sqrt(yL1**2 + yH1**2 + yV1**2)\n",
    "\n",
    "    return(XL1, yL1, XH1, yH1, XV1, yV1, yNET)"
   ]
  },
  {
   "cell_type": "markdown",
   "metadata": {},
   "source": [
    "## For L1 detector\n",
    "\n",
    "### Get all necessary data"
   ]
  },
  {
   "cell_type": "code",
   "execution_count": 45,
   "metadata": {},
   "outputs": [
    {
     "name": "stdout",
     "output_type": "stream",
     "text": [
      "size before SNR cut: 428819\n",
      "size after SNR cut: 417189\n"
     ]
    }
   ],
   "source": [
    "# these are pre-generated datas\n",
    "# join all dictionaries into one\n",
    "# the naming of data files are based on what you have saved. Refer to 'training_data_generation_ann.ipynb' to see how the data is generated with `ler` package and saved.\n",
    "unlensed_params = get_param_from_json(\"snr_L1.json\")\n",
    "unlensed_params3 = get_param_from_json(\"joint_new_optsnr2.json\")\n",
    "unlensed_params4 = get_param_from_json(\"joint_new_optsnr3.json\")\n",
    "unlensed_params5 = get_param_from_json(\"joint_new_optsnr4.json\")\n",
    "unlensed_params6 = get_param_from_json(\"joint_new_optsnr5.json\")\n",
    "unlensed_params7 = get_param_from_json(\"joint_new_optsnr6.json\")\n",
    "unlensed_params8 = get_param_from_json(\"joint_new_optsnr_uniform.json\")\n",
    "\n",
    "unlensed_params = add_dict_values(unlensed_params, unlensed_params3)\n",
    "unlensed_params = add_dict_values(unlensed_params, unlensed_params4)\n",
    "unlensed_params = add_dict_values(unlensed_params, unlensed_params5)\n",
    "unlensed_params = add_dict_values(unlensed_params, unlensed_params6)\n",
    "unlensed_params = add_dict_values(unlensed_params, unlensed_params7)\n",
    "unlensed_params = add_dict_values(unlensed_params, unlensed_params8)\n",
    "del unlensed_params8\n",
    "del unlensed_params3, unlensed_params4, unlensed_params5, unlensed_params6, unlensed_params7\n",
    "print(f\"size before SNR cut: {len(unlensed_params['L1'])}\")\n",
    "# set SNR cut\n",
    "idx_constrain = unlensed_params['L1']<100\n",
    "for key, value in unlensed_params.items():\n",
    "    unlensed_params[key] = value[idx_constrain]\n",
    "\n",
    "print(f\"size after SNR cut: {len(unlensed_params['L1'])}\")"
   ]
  },
  {
   "cell_type": "code",
   "execution_count": 46,
   "metadata": {},
   "outputs": [
    {
     "data": {
      "text/plain": [
       "(417189, 5)"
      ]
     },
     "execution_count": 46,
     "metadata": {},
     "output_type": "execute_result"
    }
   ],
   "source": [
    "len_ = len(unlensed_params['L1'])\n",
    "idx = np.arange(len_)\n",
    "# randomize the train set\n",
    "idx = np.random.permutation(idx)\n",
    "XL1, yL1, _, _, _, _,_ = input_output(idx, unlensed_params)\n",
    "np.shape(XL1)"
   ]
  },
  {
   "cell_type": "markdown",
   "metadata": {},
   "source": [
    "* It is expected to have larger error in the sparse region of the input data, e.g. $\\eta<0.2$"
   ]
  },
  {
   "cell_type": "markdown",
   "metadata": {},
   "source": [
    "### Scaling the data"
   ]
  },
  {
   "cell_type": "code",
   "execution_count": 47,
   "metadata": {},
   "outputs": [],
   "source": [
    "X_train, X_test, y_train, y_test = train_test_split(XL1, yL1, test_size = 0.1, random_state = 0)\n",
    "\n",
    "# Uncomment the following if you have not generated the scaler\n",
    "\n",
    "# feature scaling\n",
    "sc = StandardScaler()\n",
    "X_train = sc.fit_transform(X_train)\n",
    "X_test = sc.transform(X_test)\n",
    "\n",
    "# save the scaler\n",
    "pickle.dump(sc, open('scalerL1_final.pkl', 'wb'))\n",
    "\n",
    "# # Uncomment the following if you have already generated the scaler\n",
    "\n",
    "# # load the scaler\n",
    "# scalerL1 = pickle.load(open('scalerL1_final.pkl', 'rb'))\n",
    "# sc = scalerL1\n",
    "# X_train = sc.transform(X_train)\n",
    "# X_test = sc.transform(X_test)"
   ]
  },
  {
   "cell_type": "markdown",
   "metadata": {},
   "source": [
    "### Generate ANN model"
   ]
  },
  {
   "cell_type": "code",
   "execution_count": 48,
   "metadata": {},
   "outputs": [
    {
     "name": "stdout",
     "output_type": "stream",
     "text": [
      "Epoch 1/100\n",
      "\u001b[1m11734/11734\u001b[0m \u001b[32m━━━━━━━━━━━━━━━━━━━━\u001b[0m\u001b[37m\u001b[0m \u001b[1m5s\u001b[0m 360us/step - accuracy: 0.0000e+00 - loss: 64.5272\n",
      "Epoch 2/100\n",
      "\u001b[1m11734/11734\u001b[0m \u001b[32m━━━━━━━━━━━━━━━━━━━━\u001b[0m\u001b[37m\u001b[0m \u001b[1m4s\u001b[0m 358us/step - accuracy: 5.4456e-06 - loss: 5.5053\n",
      "Epoch 3/100\n",
      "\u001b[1m11734/11734\u001b[0m \u001b[32m━━━━━━━━━━━━━━━━━━━━\u001b[0m\u001b[37m\u001b[0m \u001b[1m4s\u001b[0m 347us/step - accuracy: 8.8220e-06 - loss: 5.2864\n",
      "Epoch 4/100\n",
      "\u001b[1m11734/11734\u001b[0m \u001b[32m━━━━━━━━━━━━━━━━━━━━\u001b[0m\u001b[37m\u001b[0m \u001b[1m4s\u001b[0m 366us/step - accuracy: 1.2095e-05 - loss: 5.2766\n",
      "Epoch 5/100\n",
      "\u001b[1m11734/11734\u001b[0m \u001b[32m━━━━━━━━━━━━━━━━━━━━\u001b[0m\u001b[37m\u001b[0m \u001b[1m4s\u001b[0m 348us/step - accuracy: 2.0237e-05 - loss: 4.9760\n",
      "Epoch 6/100\n",
      "\u001b[1m11734/11734\u001b[0m \u001b[32m━━━━━━━━━━━━━━━━━━━━\u001b[0m\u001b[37m\u001b[0m \u001b[1m4s\u001b[0m 343us/step - accuracy: 1.8278e-05 - loss: 4.9457\n",
      "Epoch 7/100\n",
      "\u001b[1m11734/11734\u001b[0m \u001b[32m━━━━━━━━━━━━━━━━━━━━\u001b[0m\u001b[37m\u001b[0m \u001b[1m4s\u001b[0m 338us/step - accuracy: 8.8141e-06 - loss: 5.0208\n",
      "Epoch 8/100\n",
      "\u001b[1m11734/11734\u001b[0m \u001b[32m━━━━━━━━━━━━━━━━━━━━\u001b[0m\u001b[37m\u001b[0m \u001b[1m4s\u001b[0m 344us/step - accuracy: 7.2609e-06 - loss: 5.1035\n",
      "Epoch 9/100\n",
      "\u001b[1m11734/11734\u001b[0m \u001b[32m━━━━━━━━━━━━━━━━━━━━\u001b[0m\u001b[37m\u001b[0m \u001b[1m4s\u001b[0m 347us/step - accuracy: 9.7776e-06 - loss: 4.9122\n",
      "Epoch 10/100\n",
      "\u001b[1m11734/11734\u001b[0m \u001b[32m━━━━━━━━━━━━━━━━━━━━\u001b[0m\u001b[37m\u001b[0m \u001b[1m4s\u001b[0m 347us/step - accuracy: 8.4241e-06 - loss: 5.0820\n",
      "Epoch 11/100\n",
      "\u001b[1m11734/11734\u001b[0m \u001b[32m━━━━━━━━━━━━━━━━━━━━\u001b[0m\u001b[37m\u001b[0m \u001b[1m4s\u001b[0m 348us/step - accuracy: 4.6557e-06 - loss: 5.0250\n",
      "Epoch 12/100\n",
      "\u001b[1m11734/11734\u001b[0m \u001b[32m━━━━━━━━━━━━━━━━━━━━\u001b[0m\u001b[37m\u001b[0m \u001b[1m4s\u001b[0m 346us/step - accuracy: 7.4229e-06 - loss: 4.8512\n",
      "Epoch 13/100\n",
      "\u001b[1m11734/11734\u001b[0m \u001b[32m━━━━━━━━━━━━━━━━━━━━\u001b[0m\u001b[37m\u001b[0m \u001b[1m4s\u001b[0m 346us/step - accuracy: 6.9836e-06 - loss: 4.8024\n",
      "Epoch 14/100\n",
      "\u001b[1m11734/11734\u001b[0m \u001b[32m━━━━━━━━━━━━━━━━━━━━\u001b[0m\u001b[37m\u001b[0m \u001b[1m4s\u001b[0m 350us/step - accuracy: 3.5421e-06 - loss: 4.8818\n",
      "Epoch 15/100\n",
      "\u001b[1m11734/11734\u001b[0m \u001b[32m━━━━━━━━━━━━━━━━━━━━\u001b[0m\u001b[37m\u001b[0m \u001b[1m4s\u001b[0m 349us/step - accuracy: 1.0061e-05 - loss: 4.9095\n",
      "Epoch 16/100\n",
      "\u001b[1m11734/11734\u001b[0m \u001b[32m━━━━━━━━━━━━━━━━━━━━\u001b[0m\u001b[37m\u001b[0m \u001b[1m4s\u001b[0m 342us/step - accuracy: 9.9262e-06 - loss: 4.9284\n",
      "Epoch 17/100\n",
      "\u001b[1m11734/11734\u001b[0m \u001b[32m━━━━━━━━━━━━━━━━━━━━\u001b[0m\u001b[37m\u001b[0m \u001b[1m4s\u001b[0m 347us/step - accuracy: 5.0073e-06 - loss: 5.0761\n",
      "Epoch 18/100\n",
      "\u001b[1m11734/11734\u001b[0m \u001b[32m━━━━━━━━━━━━━━━━━━━━\u001b[0m\u001b[37m\u001b[0m \u001b[1m4s\u001b[0m 348us/step - accuracy: 1.1017e-05 - loss: 4.7668\n",
      "Epoch 19/100\n",
      "\u001b[1m11734/11734\u001b[0m \u001b[32m━━━━━━━━━━━━━━━━━━━━\u001b[0m\u001b[37m\u001b[0m \u001b[1m4s\u001b[0m 351us/step - accuracy: 6.0268e-06 - loss: 4.8438\n",
      "Epoch 20/100\n",
      "\u001b[1m11734/11734\u001b[0m \u001b[32m━━━━━━━━━━━━━━━━━━━━\u001b[0m\u001b[37m\u001b[0m \u001b[1m4s\u001b[0m 349us/step - accuracy: 1.6040e-05 - loss: 4.7890\n",
      "Epoch 21/100\n",
      "\u001b[1m11734/11734\u001b[0m \u001b[32m━━━━━━━━━━━━━━━━━━━━\u001b[0m\u001b[37m\u001b[0m \u001b[1m4s\u001b[0m 346us/step - accuracy: 1.3895e-05 - loss: 4.7343\n",
      "Epoch 22/100\n",
      "\u001b[1m11734/11734\u001b[0m \u001b[32m━━━━━━━━━━━━━━━━━━━━\u001b[0m\u001b[37m\u001b[0m \u001b[1m4s\u001b[0m 352us/step - accuracy: 4.0416e-06 - loss: 4.7715\n",
      "Epoch 23/100\n",
      "\u001b[1m11734/11734\u001b[0m \u001b[32m━━━━━━━━━━━━━━━━━━━━\u001b[0m\u001b[37m\u001b[0m \u001b[1m4s\u001b[0m 351us/step - accuracy: 2.3325e-05 - loss: 4.7861\n",
      "Epoch 24/100\n",
      "\u001b[1m11734/11734\u001b[0m \u001b[32m━━━━━━━━━━━━━━━━━━━━\u001b[0m\u001b[37m\u001b[0m \u001b[1m4s\u001b[0m 354us/step - accuracy: 2.4734e-05 - loss: 4.9478\n",
      "Epoch 25/100\n",
      "\u001b[1m11734/11734\u001b[0m \u001b[32m━━━━━━━━━━━━━━━━━━━━\u001b[0m\u001b[37m\u001b[0m \u001b[1m4s\u001b[0m 350us/step - accuracy: 9.8395e-06 - loss: 4.8322\n",
      "Epoch 26/100\n",
      "\u001b[1m11734/11734\u001b[0m \u001b[32m━━━━━━━━━━━━━━━━━━━━\u001b[0m\u001b[37m\u001b[0m \u001b[1m5s\u001b[0m 393us/step - accuracy: 1.7171e-05 - loss: 4.8330\n",
      "Epoch 27/100\n",
      "\u001b[1m11734/11734\u001b[0m \u001b[32m━━━━━━━━━━━━━━━━━━━━\u001b[0m\u001b[37m\u001b[0m \u001b[1m4s\u001b[0m 349us/step - accuracy: 1.6005e-05 - loss: 4.7801\n",
      "Epoch 28/100\n",
      "\u001b[1m11734/11734\u001b[0m \u001b[32m━━━━━━━━━━━━━━━━━━━━\u001b[0m\u001b[37m\u001b[0m \u001b[1m4s\u001b[0m 354us/step - accuracy: 1.2126e-05 - loss: 4.7505\n",
      "Epoch 29/100\n",
      "\u001b[1m11734/11734\u001b[0m \u001b[32m━━━━━━━━━━━━━━━━━━━━\u001b[0m\u001b[37m\u001b[0m \u001b[1m4s\u001b[0m 357us/step - accuracy: 2.4736e-05 - loss: 4.9167\n",
      "Epoch 30/100\n",
      "\u001b[1m11734/11734\u001b[0m \u001b[32m━━━━━━━━━━━━━━━━━━━━\u001b[0m\u001b[37m\u001b[0m \u001b[1m4s\u001b[0m 359us/step - accuracy: 9.0202e-06 - loss: 4.7505\n",
      "Epoch 31/100\n",
      "\u001b[1m11734/11734\u001b[0m \u001b[32m━━━━━━━━━━━━━━━━━━━━\u001b[0m\u001b[37m\u001b[0m \u001b[1m4s\u001b[0m 353us/step - accuracy: 9.3741e-06 - loss: 4.8379\n",
      "Epoch 32/100\n",
      "\u001b[1m11734/11734\u001b[0m \u001b[32m━━━━━━━━━━━━━━━━━━━━\u001b[0m\u001b[37m\u001b[0m \u001b[1m4s\u001b[0m 361us/step - accuracy: 4.8586e-06 - loss: 4.8571\n",
      "Epoch 33/100\n",
      "\u001b[1m11734/11734\u001b[0m \u001b[32m━━━━━━━━━━━━━━━━━━━━\u001b[0m\u001b[37m\u001b[0m \u001b[1m4s\u001b[0m 354us/step - accuracy: 1.8042e-05 - loss: 4.7758\n",
      "Epoch 34/100\n",
      "\u001b[1m11734/11734\u001b[0m \u001b[32m━━━━━━━━━━━━━━━━━━━━\u001b[0m\u001b[37m\u001b[0m \u001b[1m4s\u001b[0m 347us/step - accuracy: 2.6123e-05 - loss: 4.8688\n",
      "Epoch 35/100\n",
      "\u001b[1m11734/11734\u001b[0m \u001b[32m━━━━━━━━━━━━━━━━━━━━\u001b[0m\u001b[37m\u001b[0m \u001b[1m4s\u001b[0m 347us/step - accuracy: 2.2453e-05 - loss: 4.8624\n",
      "Epoch 36/100\n",
      "\u001b[1m11734/11734\u001b[0m \u001b[32m━━━━━━━━━━━━━━━━━━━━\u001b[0m\u001b[37m\u001b[0m \u001b[1m4s\u001b[0m 352us/step - accuracy: 2.3364e-05 - loss: 4.7282\n",
      "Epoch 37/100\n",
      "\u001b[1m11734/11734\u001b[0m \u001b[32m━━━━━━━━━━━━━━━━━━━━\u001b[0m\u001b[37m\u001b[0m \u001b[1m4s\u001b[0m 343us/step - accuracy: 9.4092e-06 - loss: 4.6540\n",
      "Epoch 38/100\n",
      "\u001b[1m11734/11734\u001b[0m \u001b[32m━━━━━━━━━━━━━━━━━━━━\u001b[0m\u001b[37m\u001b[0m \u001b[1m4s\u001b[0m 353us/step - accuracy: 1.1793e-05 - loss: 4.8679\n",
      "Epoch 39/100\n",
      "\u001b[1m11734/11734\u001b[0m \u001b[32m━━━━━━━━━━━━━━━━━━━━\u001b[0m\u001b[37m\u001b[0m \u001b[1m4s\u001b[0m 343us/step - accuracy: 2.7526e-05 - loss: 4.7226\n",
      "Epoch 40/100\n",
      "\u001b[1m11734/11734\u001b[0m \u001b[32m━━━━━━━━━━━━━━━━━━━━\u001b[0m\u001b[37m\u001b[0m \u001b[1m4s\u001b[0m 346us/step - accuracy: 3.6128e-05 - loss: 4.8024\n",
      "Epoch 41/100\n",
      "\u001b[1m11734/11734\u001b[0m \u001b[32m━━━━━━━━━━━━━━━━━━━━\u001b[0m\u001b[37m\u001b[0m \u001b[1m4s\u001b[0m 342us/step - accuracy: 5.0668e-06 - loss: 4.8792\n",
      "Epoch 42/100\n",
      "\u001b[1m11734/11734\u001b[0m \u001b[32m━━━━━━━━━━━━━━━━━━━━\u001b[0m\u001b[37m\u001b[0m \u001b[1m4s\u001b[0m 376us/step - accuracy: 1.3207e-05 - loss: 4.8058\n",
      "Epoch 43/100\n",
      "\u001b[1m11734/11734\u001b[0m \u001b[32m━━━━━━━━━━━━━━━━━━━━\u001b[0m\u001b[37m\u001b[0m \u001b[1m4s\u001b[0m 349us/step - accuracy: 1.9167e-05 - loss: 4.7825\n",
      "Epoch 44/100\n",
      "\u001b[1m11734/11734\u001b[0m \u001b[32m━━━━━━━━━━━━━━━━━━━━\u001b[0m\u001b[37m\u001b[0m \u001b[1m4s\u001b[0m 355us/step - accuracy: 1.5569e-05 - loss: 4.8248\n",
      "Epoch 45/100\n",
      "\u001b[1m11734/11734\u001b[0m \u001b[32m━━━━━━━━━━━━━━━━━━━━\u001b[0m\u001b[37m\u001b[0m \u001b[1m4s\u001b[0m 354us/step - accuracy: 1.8497e-05 - loss: 4.8527\n",
      "Epoch 46/100\n",
      "\u001b[1m11734/11734\u001b[0m \u001b[32m━━━━━━━━━━━━━━━━━━━━\u001b[0m\u001b[37m\u001b[0m \u001b[1m4s\u001b[0m 355us/step - accuracy: 1.7708e-05 - loss: 4.7736\n",
      "Epoch 47/100\n",
      "\u001b[1m11734/11734\u001b[0m \u001b[32m━━━━━━━━━━━━━━━━━━━━\u001b[0m\u001b[37m\u001b[0m \u001b[1m4s\u001b[0m 355us/step - accuracy: 2.4553e-05 - loss: 4.7811\n",
      "Epoch 48/100\n",
      "\u001b[1m11734/11734\u001b[0m \u001b[32m━━━━━━━━━━━━━━━━━━━━\u001b[0m\u001b[37m\u001b[0m \u001b[1m4s\u001b[0m 353us/step - accuracy: 8.6780e-06 - loss: 4.8000\n",
      "Epoch 49/100\n",
      "\u001b[1m11734/11734\u001b[0m \u001b[32m━━━━━━━━━━━━━━━━━━━━\u001b[0m\u001b[37m\u001b[0m \u001b[1m4s\u001b[0m 354us/step - accuracy: 3.7789e-06 - loss: 4.6494\n",
      "Epoch 50/100\n",
      "\u001b[1m11734/11734\u001b[0m \u001b[32m━━━━━━━━━━━━━━━━━━━━\u001b[0m\u001b[37m\u001b[0m \u001b[1m4s\u001b[0m 358us/step - accuracy: 2.7801e-05 - loss: 4.7640\n",
      "Epoch 51/100\n",
      "\u001b[1m11734/11734\u001b[0m \u001b[32m━━━━━━━━━━━━━━━━━━━━\u001b[0m\u001b[37m\u001b[0m \u001b[1m4s\u001b[0m 350us/step - accuracy: 2.5683e-06 - loss: 4.6758\n",
      "Epoch 52/100\n",
      "\u001b[1m11734/11734\u001b[0m \u001b[32m━━━━━━━━━━━━━━━━━━━━\u001b[0m\u001b[37m\u001b[0m \u001b[1m4s\u001b[0m 357us/step - accuracy: 7.8933e-06 - loss: 5.0225\n",
      "Epoch 53/100\n",
      "\u001b[1m11734/11734\u001b[0m \u001b[32m━━━━━━━━━━━━━━━━━━━━\u001b[0m\u001b[37m\u001b[0m \u001b[1m4s\u001b[0m 358us/step - accuracy: 2.9839e-05 - loss: 4.5980\n",
      "Epoch 54/100\n",
      "\u001b[1m11734/11734\u001b[0m \u001b[32m━━━━━━━━━━━━━━━━━━━━\u001b[0m\u001b[37m\u001b[0m \u001b[1m4s\u001b[0m 363us/step - accuracy: 2.6110e-05 - loss: 4.8596\n",
      "Epoch 55/100\n",
      "\u001b[1m11734/11734\u001b[0m \u001b[32m━━━━━━━━━━━━━━━━━━━━\u001b[0m\u001b[37m\u001b[0m \u001b[1m4s\u001b[0m 360us/step - accuracy: 1.8154e-05 - loss: 4.7605\n",
      "Epoch 56/100\n",
      "\u001b[1m11734/11734\u001b[0m \u001b[32m━━━━━━━━━━━━━━━━━━━━\u001b[0m\u001b[37m\u001b[0m \u001b[1m4s\u001b[0m 360us/step - accuracy: 1.5889e-05 - loss: 4.6685\n",
      "Epoch 57/100\n",
      "\u001b[1m11734/11734\u001b[0m \u001b[32m━━━━━━━━━━━━━━━━━━━━\u001b[0m\u001b[37m\u001b[0m \u001b[1m4s\u001b[0m 369us/step - accuracy: 6.9516e-06 - loss: 4.7801\n",
      "Epoch 58/100\n",
      "\u001b[1m11734/11734\u001b[0m \u001b[32m━━━━━━━━━━━━━━━━━━━━\u001b[0m\u001b[37m\u001b[0m \u001b[1m4s\u001b[0m 367us/step - accuracy: 1.2350e-05 - loss: 4.6869\n",
      "Epoch 59/100\n",
      "\u001b[1m11734/11734\u001b[0m \u001b[32m━━━━━━━━━━━━━━━━━━━━\u001b[0m\u001b[37m\u001b[0m \u001b[1m5s\u001b[0m 399us/step - accuracy: 1.7595e-05 - loss: 4.7250\n",
      "Epoch 60/100\n",
      "\u001b[1m11734/11734\u001b[0m \u001b[32m━━━━━━━━━━━━━━━━━━━━\u001b[0m\u001b[37m\u001b[0m \u001b[1m4s\u001b[0m 363us/step - accuracy: 2.4832e-05 - loss: 4.6351\n",
      "Epoch 61/100\n",
      "\u001b[1m11734/11734\u001b[0m \u001b[32m━━━━━━━━━━━━━━━━━━━━\u001b[0m\u001b[37m\u001b[0m \u001b[1m4s\u001b[0m 365us/step - accuracy: 2.6160e-05 - loss: 4.7139\n",
      "Epoch 62/100\n",
      "\u001b[1m11734/11734\u001b[0m \u001b[32m━━━━━━━━━━━━━━━━━━━━\u001b[0m\u001b[37m\u001b[0m \u001b[1m4s\u001b[0m 358us/step - accuracy: 1.1751e-05 - loss: 4.8279\n",
      "Epoch 63/100\n",
      "\u001b[1m11734/11734\u001b[0m \u001b[32m━━━━━━━━━━━━━━━━━━━━\u001b[0m\u001b[37m\u001b[0m \u001b[1m4s\u001b[0m 366us/step - accuracy: 1.9509e-05 - loss: 4.7198\n",
      "Epoch 64/100\n",
      "\u001b[1m11734/11734\u001b[0m \u001b[32m━━━━━━━━━━━━━━━━━━━━\u001b[0m\u001b[37m\u001b[0m \u001b[1m4s\u001b[0m 376us/step - accuracy: 9.0496e-06 - loss: 4.7191\n",
      "Epoch 65/100\n",
      "\u001b[1m11734/11734\u001b[0m \u001b[32m━━━━━━━━━━━━━━━━━━━━\u001b[0m\u001b[37m\u001b[0m \u001b[1m4s\u001b[0m 374us/step - accuracy: 9.2118e-06 - loss: 4.7443\n",
      "Epoch 66/100\n",
      "\u001b[1m11734/11734\u001b[0m \u001b[32m━━━━━━━━━━━━━━━━━━━━\u001b[0m\u001b[37m\u001b[0m \u001b[1m4s\u001b[0m 367us/step - accuracy: 1.5021e-05 - loss: 4.6894\n",
      "Epoch 67/100\n",
      "\u001b[1m11734/11734\u001b[0m \u001b[32m━━━━━━━━━━━━━━━━━━━━\u001b[0m\u001b[37m\u001b[0m \u001b[1m4s\u001b[0m 360us/step - accuracy: 3.4456e-05 - loss: 4.7507\n",
      "Epoch 68/100\n",
      "\u001b[1m11734/11734\u001b[0m \u001b[32m━━━━━━━━━━━━━━━━━━━━\u001b[0m\u001b[37m\u001b[0m \u001b[1m4s\u001b[0m 367us/step - accuracy: 1.3770e-05 - loss: 4.6873\n",
      "Epoch 69/100\n",
      "\u001b[1m11734/11734\u001b[0m \u001b[32m━━━━━━━━━━━━━━━━━━━━\u001b[0m\u001b[37m\u001b[0m \u001b[1m4s\u001b[0m 370us/step - accuracy: 6.3598e-06 - loss: 4.7698\n",
      "Epoch 70/100\n",
      "\u001b[1m11734/11734\u001b[0m \u001b[32m━━━━━━━━━━━━━━━━━━━━\u001b[0m\u001b[37m\u001b[0m \u001b[1m4s\u001b[0m 360us/step - accuracy: 9.7280e-06 - loss: 4.6265\n",
      "Epoch 71/100\n",
      "\u001b[1m11734/11734\u001b[0m \u001b[32m━━━━━━━━━━━━━━━━━━━━\u001b[0m\u001b[37m\u001b[0m \u001b[1m4s\u001b[0m 368us/step - accuracy: 1.7729e-05 - loss: 4.9024\n",
      "Epoch 72/100\n",
      "\u001b[1m11734/11734\u001b[0m \u001b[32m━━━━━━━━━━━━━━━━━━━━\u001b[0m\u001b[37m\u001b[0m \u001b[1m4s\u001b[0m 376us/step - accuracy: 1.1153e-05 - loss: 4.7209\n",
      "Epoch 73/100\n",
      "\u001b[1m11734/11734\u001b[0m \u001b[32m━━━━━━━━━━━━━━━━━━━━\u001b[0m\u001b[37m\u001b[0m \u001b[1m5s\u001b[0m 378us/step - accuracy: 6.2122e-06 - loss: 4.7405\n",
      "Epoch 74/100\n",
      "\u001b[1m11734/11734\u001b[0m \u001b[32m━━━━━━━━━━━━━━━━━━━━\u001b[0m\u001b[37m\u001b[0m \u001b[1m4s\u001b[0m 364us/step - accuracy: 2.3931e-05 - loss: 4.6738\n",
      "Epoch 75/100\n",
      "\u001b[1m11734/11734\u001b[0m \u001b[32m━━━━━━━━━━━━━━━━━━━━\u001b[0m\u001b[37m\u001b[0m \u001b[1m4s\u001b[0m 366us/step - accuracy: 1.4653e-05 - loss: 4.7910\n",
      "Epoch 76/100\n",
      "\u001b[1m11734/11734\u001b[0m \u001b[32m━━━━━━━━━━━━━━━━━━━━\u001b[0m\u001b[37m\u001b[0m \u001b[1m4s\u001b[0m 372us/step - accuracy: 1.3287e-05 - loss: 4.7694\n",
      "Epoch 77/100\n",
      "\u001b[1m11734/11734\u001b[0m \u001b[32m━━━━━━━━━━━━━━━━━━━━\u001b[0m\u001b[37m\u001b[0m \u001b[1m4s\u001b[0m 361us/step - accuracy: 2.0747e-05 - loss: 4.7200\n",
      "Epoch 78/100\n",
      "\u001b[1m11734/11734\u001b[0m \u001b[32m━━━━━━━━━━━━━━━━━━━━\u001b[0m\u001b[37m\u001b[0m \u001b[1m4s\u001b[0m 365us/step - accuracy: 2.2578e-05 - loss: 4.8144\n",
      "Epoch 79/100\n",
      "\u001b[1m11734/11734\u001b[0m \u001b[32m━━━━━━━━━━━━━━━━━━━━\u001b[0m\u001b[37m\u001b[0m \u001b[1m4s\u001b[0m 371us/step - accuracy: 1.7740e-05 - loss: 4.6355\n",
      "Epoch 80/100\n",
      "\u001b[1m11734/11734\u001b[0m \u001b[32m━━━━━━━━━━━━━━━━━━━━\u001b[0m\u001b[37m\u001b[0m \u001b[1m4s\u001b[0m 359us/step - accuracy: 1.2523e-05 - loss: 4.6416\n",
      "Epoch 81/100\n",
      "\u001b[1m11734/11734\u001b[0m \u001b[32m━━━━━━━━━━━━━━━━━━━━\u001b[0m\u001b[37m\u001b[0m \u001b[1m4s\u001b[0m 357us/step - accuracy: 3.7156e-05 - loss: 4.7911\n",
      "Epoch 82/100\n",
      "\u001b[1m11734/11734\u001b[0m \u001b[32m━━━━━━━━━━━━━━━━━━━━\u001b[0m\u001b[37m\u001b[0m \u001b[1m4s\u001b[0m 357us/step - accuracy: 2.8253e-05 - loss: 4.6433\n",
      "Epoch 83/100\n",
      "\u001b[1m11734/11734\u001b[0m \u001b[32m━━━━━━━━━━━━━━━━━━━━\u001b[0m\u001b[37m\u001b[0m \u001b[1m4s\u001b[0m 355us/step - accuracy: 2.1519e-05 - loss: 4.8067\n",
      "Epoch 84/100\n",
      "\u001b[1m11734/11734\u001b[0m \u001b[32m━━━━━━━━━━━━━━━━━━━━\u001b[0m\u001b[37m\u001b[0m \u001b[1m4s\u001b[0m 368us/step - accuracy: 1.4771e-05 - loss: 4.7634\n",
      "Epoch 85/100\n",
      "\u001b[1m11734/11734\u001b[0m \u001b[32m━━━━━━━━━━━━━━━━━━━━\u001b[0m\u001b[37m\u001b[0m \u001b[1m4s\u001b[0m 374us/step - accuracy: 2.4498e-05 - loss: 4.7347\n",
      "Epoch 86/100\n",
      "\u001b[1m11734/11734\u001b[0m \u001b[32m━━━━━━━━━━━━━━━━━━━━\u001b[0m\u001b[37m\u001b[0m \u001b[1m5s\u001b[0m 392us/step - accuracy: 1.1966e-05 - loss: 4.7187\n",
      "Epoch 87/100\n",
      "\u001b[1m11734/11734\u001b[0m \u001b[32m━━━━━━━━━━━━━━━━━━━━\u001b[0m\u001b[37m\u001b[0m \u001b[1m4s\u001b[0m 375us/step - accuracy: 2.2301e-05 - loss: 4.7508\n",
      "Epoch 88/100\n",
      "\u001b[1m11734/11734\u001b[0m \u001b[32m━━━━━━━━━━━━━━━━━━━━\u001b[0m\u001b[37m\u001b[0m \u001b[1m4s\u001b[0m 366us/step - accuracy: 2.0775e-05 - loss: 4.7098\n",
      "Epoch 89/100\n",
      "\u001b[1m11734/11734\u001b[0m \u001b[32m━━━━━━━━━━━━━━━━━━━━\u001b[0m\u001b[37m\u001b[0m \u001b[1m5s\u001b[0m 394us/step - accuracy: 5.8186e-06 - loss: 4.7019\n",
      "Epoch 90/100\n",
      "\u001b[1m11734/11734\u001b[0m \u001b[32m━━━━━━━━━━━━━━━━━━━━\u001b[0m\u001b[37m\u001b[0m \u001b[1m4s\u001b[0m 368us/step - accuracy: 2.0881e-05 - loss: 4.7003\n",
      "Epoch 91/100\n",
      "\u001b[1m11734/11734\u001b[0m \u001b[32m━━━━━━━━━━━━━━━━━━━━\u001b[0m\u001b[37m\u001b[0m \u001b[1m4s\u001b[0m 362us/step - accuracy: 2.6090e-05 - loss: 4.7895\n",
      "Epoch 92/100\n",
      "\u001b[1m11734/11734\u001b[0m \u001b[32m━━━━━━━━━━━━━━━━━━━━\u001b[0m\u001b[37m\u001b[0m \u001b[1m4s\u001b[0m 361us/step - accuracy: 1.0049e-05 - loss: 4.7630\n",
      "Epoch 93/100\n",
      "\u001b[1m11734/11734\u001b[0m \u001b[32m━━━━━━━━━━━━━━━━━━━━\u001b[0m\u001b[37m\u001b[0m \u001b[1m4s\u001b[0m 361us/step - accuracy: 3.3032e-05 - loss: 4.8429\n",
      "Epoch 94/100\n",
      "\u001b[1m11734/11734\u001b[0m \u001b[32m━━━━━━━━━━━━━━━━━━━━\u001b[0m\u001b[37m\u001b[0m \u001b[1m4s\u001b[0m 358us/step - accuracy: 1.5365e-05 - loss: 4.6622\n",
      "Epoch 95/100\n",
      "\u001b[1m11734/11734\u001b[0m \u001b[32m━━━━━━━━━━━━━━━━━━━━\u001b[0m\u001b[37m\u001b[0m \u001b[1m4s\u001b[0m 363us/step - accuracy: 2.5965e-05 - loss: 4.6853\n",
      "Epoch 96/100\n",
      "\u001b[1m11734/11734\u001b[0m \u001b[32m━━━━━━━━━━━━━━━━━━━━\u001b[0m\u001b[37m\u001b[0m \u001b[1m4s\u001b[0m 366us/step - accuracy: 2.2626e-05 - loss: 4.7835\n",
      "Epoch 97/100\n",
      "\u001b[1m11734/11734\u001b[0m \u001b[32m━━━━━━━━━━━━━━━━━━━━\u001b[0m\u001b[37m\u001b[0m \u001b[1m4s\u001b[0m 361us/step - accuracy: 2.4557e-05 - loss: 4.8429\n",
      "Epoch 98/100\n",
      "\u001b[1m11734/11734\u001b[0m \u001b[32m━━━━━━━━━━━━━━━━━━━━\u001b[0m\u001b[37m\u001b[0m \u001b[1m4s\u001b[0m 359us/step - accuracy: 1.4782e-05 - loss: 4.5912\n",
      "Epoch 99/100\n",
      "\u001b[1m11734/11734\u001b[0m \u001b[32m━━━━━━━━━━━━━━━━━━━━\u001b[0m\u001b[37m\u001b[0m \u001b[1m5s\u001b[0m 392us/step - accuracy: 1.8594e-05 - loss: 4.7415\n",
      "Epoch 100/100\n",
      "\u001b[1m11734/11734\u001b[0m \u001b[32m━━━━━━━━━━━━━━━━━━━━\u001b[0m\u001b[37m\u001b[0m \u001b[1m4s\u001b[0m 362us/step - accuracy: 2.7443e-05 - loss: 4.7747\n"
     ]
    },
    {
     "data": {
      "text/plain": [
       "<keras.src.callbacks.history.History at 0x3438df0a0>"
      ]
     },
     "execution_count": 48,
     "metadata": {},
     "output_type": "execute_result"
    }
   ],
   "source": [
    "# Uncomment the following if you have already trained the model\n",
    "\n",
    "# initialize the ANN\n",
    "ann = tf.keras.models.Sequential() \n",
    "\n",
    "# adding the input layer and the first hidden layer\n",
    "# units=5, where 5 is the number of neurons in the first input layer\n",
    "ann.add(tf.keras.layers.Dense(units=5, activation='relu'))\n",
    "# adding the second hidden layer\n",
    "ann.add(tf.keras.layers.Dense(units=32, activation='relu'))\n",
    "# adding the third hidden layer\n",
    "ann.add(tf.keras.layers.Dense(units=32, activation='sigmoid'))\n",
    "# adding the output layer, absolute value of the snr\n",
    "ann.add(tf.keras.layers.Dense(units=1, activation='linear'))\n",
    "\n",
    "# compile the ANN\n",
    "ann.compile(optimizer = 'adam', loss = 'mean_squared_error', metrics = ['accuracy'])\n",
    "\n",
    "# train the ANN on the training set\n",
    "ann.fit(X_train, y_train, batch_size = 32, epochs = 100)"
   ]
  },
  {
   "cell_type": "code",
   "execution_count": 50,
   "metadata": {},
   "outputs": [
    {
     "name": "stdout",
     "output_type": "stream",
     "text": [
      "WARNING:absl:You are saving your model as an HDF5 file via `model.save()` or `keras.saving.save_model(model)`. This file format is considered legacy. We recommend using instead the native Keras format, e.g. `model.save('my_model.keras')` or `keras.saving.save_model(model, 'my_model.keras')`. \n"
     ]
    }
   ],
   "source": [
    "# Uncomment the following if you have not trained the model\n",
    "\n",
    "# Save the model to a file\n",
    "ann.save('ann_modelL1_final.h5')\n",
    "modelL1 = ann\n",
    "\n",
    "# # Uncomment the following if you have already generated the model\n",
    "\n",
    "# # load the model\n",
    "# from tensorflow.keras.models import load_model\n",
    "# modelL1 = load_model('ann_modelL1_final.h5')"
   ]
  },
  {
   "cell_type": "markdown",
   "metadata": {},
   "source": [
    "### Test the Model on the test data"
   ]
  },
  {
   "cell_type": "code",
   "execution_count": 51,
   "metadata": {},
   "outputs": [
    {
     "name": "stdout",
     "output_type": "stream",
     "text": [
      "\u001b[1m1304/1304\u001b[0m \u001b[32m━━━━━━━━━━━━━━━━━━━━\u001b[0m\u001b[37m\u001b[0m \u001b[1m0s\u001b[0m 245us/step\n",
      "[[16.46255302 15.36925853]\n",
      " [ 7.34299326  8.1631879 ]\n",
      " [18.40270805 19.32192079]\n",
      " [ 4.46133804  4.77382202]\n",
      " [13.76112938 14.52608943]\n",
      " [10.88520241 11.17061064]\n",
      " [26.74387932 27.36483974]\n",
      " [ 3.37854934  2.72201387]\n",
      " [ 4.46126747  4.30502408]\n",
      " [ 3.76576853  3.08507739]\n",
      " [ 3.33378768  3.29667046]\n",
      " [ 4.21110964  3.96505829]\n",
      " [ 1.69420433  1.24720302]\n",
      " [ 3.82559896  2.41829633]\n",
      " [11.03242683 11.02986875]]\n"
     ]
    }
   ],
   "source": [
    "# left: predicted snr, right: actual snr\n",
    "y_pred = modelL1.predict(X_test)\n",
    "#y_pred = (y_pred > 0.5)\n",
    "print(np.concatenate((y_pred.reshape(len(y_pred),1), y_test.reshape(len(y_test),1)),1)[10:25])"
   ]
  },
  {
   "cell_type": "code",
   "execution_count": 52,
   "metadata": {},
   "outputs": [
    {
     "name": "stdout",
     "output_type": "stream",
     "text": [
      "Error: 3.89%\n"
     ]
    }
   ],
   "source": [
    "# calculate the error\n",
    "len1 = len(y_pred)\n",
    "len2 = np.sum((y_pred.flatten()>8) != (y_test>8))\n",
    "error = len2/len1*100\n",
    "print(f\"Error: {error:.2f}%\")"
   ]
  },
  {
   "cell_type": "markdown",
   "metadata": {},
   "source": [
    "### Test with astrophysical parameters"
   ]
  },
  {
   "cell_type": "code",
   "execution_count": 53,
   "metadata": {},
   "outputs": [
    {
     "name": "stdout",
     "output_type": "stream",
     "text": [
      "\u001b[1m1563/1563\u001b[0m \u001b[32m━━━━━━━━━━━━━━━━━━━━\u001b[0m\u001b[37m\u001b[0m \u001b[1m0s\u001b[0m 228us/step\n",
      "[[49832   105]\n",
      " [    4    59]]\n",
      "Accuracy: 99.782%\n"
     ]
    }
   ],
   "source": [
    "# Get the data. This data is generated using `ler` package.\n",
    "unlensed_params = get_param_from_json(\"ler_data/unlensed_param_testing.json\")\n",
    "X_,Y_,_,_,_,_,_ = input_output(np.arange(len(unlensed_params['L1'])), unlensed_params)\n",
    "scalerL1 = pickle.load(open('scalerL1_final.pkl', 'rb'))\n",
    "X_ = scalerL1.transform(X_)\n",
    "\n",
    "modelL1 = load_model('ann_modelL1_final.h5')\n",
    "y_pred_ = modelL1.predict(X_).flatten()\n",
    "y_test_ = Y_\n",
    "cm = confusion_matrix((y_test_>8), ((y_pred_)>8))\n",
    "print(cm)\n",
    "accuracy = accuracy_score((y_test_>8), (y_pred_>8))*100\n",
    "print(f\"Accuracy: {accuracy:.3f}%\")"
   ]
  },
  {
   "cell_type": "markdown",
   "metadata": {},
   "source": [
    "### Error analysis"
   ]
  },
  {
   "cell_type": "code",
   "execution_count": 64,
   "metadata": {},
   "outputs": [
    {
     "name": "stdout",
     "output_type": "stream",
     "text": [
      "slope: 0.0001, intercept: -0.0075\n"
     ]
    }
   ],
   "source": [
    "# Uncomment to create error ajustment\n",
    "\n",
    "# do linear fitting of the error y_pred-y_test\n",
    "def func(x, a, b):\n",
    "    return a*x + b\n",
    "\n",
    "idx = (y_pred_>4) & (y_pred_<10)\n",
    "idx = idx & (y_test_!=0)\n",
    "popt, pcov = curve_fit(func, y_pred_[idx], y_pred_[idx]-y_test_[idx])\n",
    "print(f\"slope: {popt[0]:.4f}, intercept: {popt[1]:.4f}\")\n",
    "\n",
    "adjustment_dict = {'slope': popt[0], 'intercept': popt[1]}\n",
    "\n",
    "# save json\n",
    "save_json('error_adjustmentL1_final.json', adjustment_dict)"
   ]
  },
  {
   "cell_type": "code",
   "execution_count": 65,
   "metadata": {},
   "outputs": [
    {
     "name": "stdout",
     "output_type": "stream",
     "text": [
      "\u001b[1m1563/1563\u001b[0m \u001b[32m━━━━━━━━━━━━━━━━━━━━\u001b[0m\u001b[37m\u001b[0m \u001b[1m0s\u001b[0m 230us/step\n",
      "[[49832   105]\n",
      " [    4    59]]\n",
      "Accuracy (after error ajustment): 99.782%\n"
     ]
    }
   ],
   "source": [
    "# load json\n",
    "adjustment_dict = load_json('error_adjustmentL1_final.json')\n",
    "a = adjustment_dict['slope']\n",
    "b = adjustment_dict['intercept']\n",
    "\n",
    "y_pred_ = modelL1.predict(X_).flatten()\n",
    "y_pred_ = y_pred_-(a*y_pred_ + b)\n",
    "y_test_ = Y_\n",
    "cm = confusion_matrix((y_test_>8), ((y_pred_)>8))\n",
    "print(cm)\n",
    "accuracy = accuracy_score((y_test_>8), (y_pred_>8))*100\n",
    "print(f\"Accuracy (after error ajustment): {accuracy:.3f}%\")"
   ]
  },
  {
   "cell_type": "code",
   "execution_count": null,
   "metadata": {},
   "outputs": [],
   "source": []
  },
  {
   "cell_type": "markdown",
   "metadata": {},
   "source": [
    "## H1"
   ]
  },
  {
   "cell_type": "code",
   "execution_count": 120,
   "metadata": {},
   "outputs": [
    {
     "name": "stdout",
     "output_type": "stream",
     "text": [
      "size before SNR cut: 425469\n",
      "size after SNR cut: 413822\n"
     ]
    }
   ],
   "source": [
    "# the naming of data files are based on what you have saved. Refer to 'training_data_generation_ann.ipynb' to see how the data is generated with `ler` package and saved.\n",
    "\n",
    "# joint all dict\n",
    "unlensed_params = get_param_from_json(\"snr_H1.json\")\n",
    "unlensed_params3 = get_param_from_json(\"joint_new_optsnr2.json\")\n",
    "unlensed_params4 = get_param_from_json(\"joint_new_optsnr3.json\")\n",
    "unlensed_params5 = get_param_from_json(\"joint_new_optsnr4.json\")\n",
    "unlensed_params6 = get_param_from_json(\"joint_new_optsnr5.json\")\n",
    "unlensed_params7 = get_param_from_json(\"joint_new_optsnr6.json\")\n",
    "unlensed_params8 = get_param_from_json(\"joint_new_optsnr_uniform.json\")\n",
    "unlensed_params = add_dict_values(unlensed_params, unlensed_params3)\n",
    "unlensed_params = add_dict_values(unlensed_params, unlensed_params4)\n",
    "unlensed_params = add_dict_values(unlensed_params, unlensed_params5)\n",
    "unlensed_params = add_dict_values(unlensed_params, unlensed_params6)\n",
    "unlensed_params = add_dict_values(unlensed_params, unlensed_params7)\n",
    "unlensed_params = add_dict_values(unlensed_params, unlensed_params8)\n",
    "del unlensed_params8\n",
    "del unlensed_params3, unlensed_params4, unlensed_params5, unlensed_params6, unlensed_params7\n",
    "print(f\"size before SNR cut: {len(unlensed_params['H1'])}\")\n",
    "# set SNR cut\n",
    "# this is optimise the ANN by ignoring the high SNR\n",
    "idx_constrain = unlensed_params['H1']<100\n",
    "for key, value in unlensed_params.items():\n",
    "    unlensed_params[key] = value[idx_constrain]\n",
    "\n",
    "print(f\"size after SNR cut: {len(unlensed_params['H1'])}\")"
   ]
  },
  {
   "cell_type": "code",
   "execution_count": 121,
   "metadata": {},
   "outputs": [
    {
     "data": {
      "text/plain": [
       "(413822, 5)"
      ]
     },
     "execution_count": 121,
     "metadata": {},
     "output_type": "execute_result"
    }
   ],
   "source": [
    "len_ = len(unlensed_params['H1'])\n",
    "idx = np.arange(len_)\n",
    "# randomize the train set\n",
    "idx = np.random.permutation(idx)\n",
    "_, _, XH1, yH1, _, _, _ = input_output(idx, unlensed_params)\n",
    "np.shape(XH1)"
   ]
  },
  {
   "cell_type": "markdown",
   "metadata": {},
   "source": [
    "### Feature scaling"
   ]
  },
  {
   "cell_type": "code",
   "execution_count": 122,
   "metadata": {},
   "outputs": [],
   "source": [
    "X_train, X_test, y_train, y_test = train_test_split(XH1, yH1, test_size = 0.1, random_state = 0)\n",
    "\n",
    "# Uncomment the following if you have not generated the scaler\n",
    "\n",
    "# feature scaling\n",
    "sc = StandardScaler()\n",
    "X_train = sc.fit_transform(X_train)\n",
    "X_test = sc.transform(X_test)\n",
    "\n",
    "# save the scaler\n",
    "pickle.dump(sc, open('scalerH1_final.pkl', 'wb'))\n",
    "\n",
    "# # Uncomment the following if you have already generated the scaler\n",
    "\n",
    "# # load the scaler\n",
    "# scalerH1 = pickle.load(open('scalerH1_final.pkl', 'rb'))\n",
    "# sc = scalerH1\n",
    "# X_train = sc.transform(X_train)\n",
    "# X_test = sc.transform(X_test)"
   ]
  },
  {
   "cell_type": "code",
   "execution_count": 123,
   "metadata": {},
   "outputs": [
    {
     "name": "stdout",
     "output_type": "stream",
     "text": [
      "Epoch 1/100\n",
      "\u001b[1m11639/11639\u001b[0m \u001b[32m━━━━━━━━━━━━━━━━━━━━\u001b[0m\u001b[37m\u001b[0m \u001b[1m4s\u001b[0m 338us/step - accuracy: 1.8018e-06 - loss: 81.5036\n",
      "Epoch 2/100\n",
      "\u001b[1m11639/11639\u001b[0m \u001b[32m━━━━━━━━━━━━━━━━━━━━\u001b[0m\u001b[37m\u001b[0m \u001b[1m4s\u001b[0m 330us/step - accuracy: 1.4028e-05 - loss: 6.0598\n",
      "Epoch 3/100\n",
      "\u001b[1m11639/11639\u001b[0m \u001b[32m━━━━━━━━━━━━━━━━━━━━\u001b[0m\u001b[37m\u001b[0m \u001b[1m4s\u001b[0m 343us/step - accuracy: 3.9449e-06 - loss: 5.3143\n",
      "Epoch 4/100\n",
      "\u001b[1m11639/11639\u001b[0m \u001b[32m━━━━━━━━━━━━━━━━━━━━\u001b[0m\u001b[37m\u001b[0m \u001b[1m4s\u001b[0m 337us/step - accuracy: 1.4624e-06 - loss: 5.0010\n",
      "Epoch 5/100\n",
      "\u001b[1m11639/11639\u001b[0m \u001b[32m━━━━━━━━━━━━━━━━━━━━\u001b[0m\u001b[37m\u001b[0m \u001b[1m4s\u001b[0m 363us/step - accuracy: 6.1660e-06 - loss: 5.1094\n",
      "Epoch 6/100\n",
      "\u001b[1m11639/11639\u001b[0m \u001b[32m━━━━━━━━━━━━━━━━━━━━\u001b[0m\u001b[37m\u001b[0m \u001b[1m4s\u001b[0m 370us/step - accuracy: 0.0000e+00 - loss: 5.0545\n",
      "Epoch 7/100\n",
      "\u001b[1m11639/11639\u001b[0m \u001b[32m━━━━━━━━━━━━━━━━━━━━\u001b[0m\u001b[37m\u001b[0m \u001b[1m4s\u001b[0m 338us/step - accuracy: 0.0000e+00 - loss: 4.7952\n",
      "Epoch 8/100\n",
      "\u001b[1m11639/11639\u001b[0m \u001b[32m━━━━━━━━━━━━━━━━━━━━\u001b[0m\u001b[37m\u001b[0m \u001b[1m4s\u001b[0m 341us/step - accuracy: 0.0000e+00 - loss: 4.9421\n",
      "Epoch 9/100\n",
      "\u001b[1m11639/11639\u001b[0m \u001b[32m━━━━━━━━━━━━━━━━━━━━\u001b[0m\u001b[37m\u001b[0m \u001b[1m4s\u001b[0m 348us/step - accuracy: 1.5122e-05 - loss: 4.8460\n",
      "Epoch 10/100\n",
      "\u001b[1m11639/11639\u001b[0m \u001b[32m━━━━━━━━━━━━━━━━━━━━\u001b[0m\u001b[37m\u001b[0m \u001b[1m4s\u001b[0m 347us/step - accuracy: 5.2802e-06 - loss: 4.9224\n",
      "Epoch 11/100\n",
      "\u001b[1m11639/11639\u001b[0m \u001b[32m━━━━━━━━━━━━━━━━━━━━\u001b[0m\u001b[37m\u001b[0m \u001b[1m4s\u001b[0m 354us/step - accuracy: 0.0000e+00 - loss: 5.0360\n",
      "Epoch 12/100\n",
      "\u001b[1m11639/11639\u001b[0m \u001b[32m━━━━━━━━━━━━━━━━━━━━\u001b[0m\u001b[37m\u001b[0m \u001b[1m4s\u001b[0m 368us/step - accuracy: 6.1221e-06 - loss: 4.9050\n",
      "Epoch 13/100\n",
      "\u001b[1m11639/11639\u001b[0m \u001b[32m━━━━━━━━━━━━━━━━━━━━\u001b[0m\u001b[37m\u001b[0m \u001b[1m4s\u001b[0m 346us/step - accuracy: 2.2289e-06 - loss: 5.0311\n",
      "Epoch 14/100\n",
      "\u001b[1m11639/11639\u001b[0m \u001b[32m━━━━━━━━━━━━━━━━━━━━\u001b[0m\u001b[37m\u001b[0m \u001b[1m4s\u001b[0m 352us/step - accuracy: 5.1504e-07 - loss: 4.8461\n",
      "Epoch 15/100\n",
      "\u001b[1m11639/11639\u001b[0m \u001b[32m━━━━━━━━━━━━━━━━━━━━\u001b[0m\u001b[37m\u001b[0m \u001b[1m4s\u001b[0m 346us/step - accuracy: 1.4820e-05 - loss: 5.0626\n",
      "Epoch 16/100\n",
      "\u001b[1m11639/11639\u001b[0m \u001b[32m━━━━━━━━━━━━━━━━━━━━\u001b[0m\u001b[37m\u001b[0m \u001b[1m4s\u001b[0m 346us/step - accuracy: 5.9103e-06 - loss: 4.7978\n",
      "Epoch 17/100\n",
      "\u001b[1m11639/11639\u001b[0m \u001b[32m━━━━━━━━━━━━━━━━━━━━\u001b[0m\u001b[37m\u001b[0m \u001b[1m4s\u001b[0m 346us/step - accuracy: 1.6141e-05 - loss: 4.8741\n",
      "Epoch 18/100\n",
      "\u001b[1m11639/11639\u001b[0m \u001b[32m━━━━━━━━━━━━━━━━━━━━\u001b[0m\u001b[37m\u001b[0m \u001b[1m4s\u001b[0m 345us/step - accuracy: 4.8241e-06 - loss: 4.8853\n",
      "Epoch 19/100\n",
      "\u001b[1m11639/11639\u001b[0m \u001b[32m━━━━━━━━━━━━━━━━━━━━\u001b[0m\u001b[37m\u001b[0m \u001b[1m4s\u001b[0m 353us/step - accuracy: 3.9896e-06 - loss: 4.9178\n",
      "Epoch 20/100\n",
      "\u001b[1m11639/11639\u001b[0m \u001b[32m━━━━━━━━━━━━━━━━━━━━\u001b[0m\u001b[37m\u001b[0m \u001b[1m4s\u001b[0m 354us/step - accuracy: 8.5965e-06 - loss: 4.7931\n",
      "Epoch 21/100\n",
      "\u001b[1m11639/11639\u001b[0m \u001b[32m━━━━━━━━━━━━━━━━━━━━\u001b[0m\u001b[37m\u001b[0m \u001b[1m4s\u001b[0m 353us/step - accuracy: 1.5961e-08 - loss: 4.9891\n",
      "Epoch 22/100\n",
      "\u001b[1m11639/11639\u001b[0m \u001b[32m━━━━━━━━━━━━━━━━━━━━\u001b[0m\u001b[37m\u001b[0m \u001b[1m4s\u001b[0m 358us/step - accuracy: 2.1334e-06 - loss: 4.9049\n",
      "Epoch 23/100\n",
      "\u001b[1m11639/11639\u001b[0m \u001b[32m━━━━━━━━━━━━━━━━━━━━\u001b[0m\u001b[37m\u001b[0m \u001b[1m4s\u001b[0m 352us/step - accuracy: 9.1989e-07 - loss: 4.7283\n",
      "Epoch 24/100\n",
      "\u001b[1m11639/11639\u001b[0m \u001b[32m━━━━━━━━━━━━━━━━━━━━\u001b[0m\u001b[37m\u001b[0m \u001b[1m4s\u001b[0m 347us/step - accuracy: 5.3696e-06 - loss: 4.8957\n",
      "Epoch 25/100\n",
      "\u001b[1m11639/11639\u001b[0m \u001b[32m━━━━━━━━━━━━━━━━━━━━\u001b[0m\u001b[37m\u001b[0m \u001b[1m4s\u001b[0m 348us/step - accuracy: 0.0000e+00 - loss: 4.7703\n",
      "Epoch 26/100\n",
      "\u001b[1m11639/11639\u001b[0m \u001b[32m━━━━━━━━━━━━━━━━━━━━\u001b[0m\u001b[37m\u001b[0m \u001b[1m4s\u001b[0m 353us/step - accuracy: 6.1611e-07 - loss: 4.9091\n",
      "Epoch 27/100\n",
      "\u001b[1m11639/11639\u001b[0m \u001b[32m━━━━━━━━━━━━━━━━━━━━\u001b[0m\u001b[37m\u001b[0m \u001b[1m4s\u001b[0m 363us/step - accuracy: 3.8470e-07 - loss: 4.8566\n",
      "Epoch 28/100\n",
      "\u001b[1m11639/11639\u001b[0m \u001b[32m━━━━━━━━━━━━━━━━━━━━\u001b[0m\u001b[37m\u001b[0m \u001b[1m5s\u001b[0m 392us/step - accuracy: 1.6442e-06 - loss: 4.7319\n",
      "Epoch 29/100\n",
      "\u001b[1m11639/11639\u001b[0m \u001b[32m━━━━━━━━━━━━━━━━━━━━\u001b[0m\u001b[37m\u001b[0m \u001b[1m4s\u001b[0m 351us/step - accuracy: 1.7634e-06 - loss: 4.8461\n",
      "Epoch 30/100\n",
      "\u001b[1m11639/11639\u001b[0m \u001b[32m━━━━━━━━━━━━━━━━━━━━\u001b[0m\u001b[37m\u001b[0m \u001b[1m4s\u001b[0m 352us/step - accuracy: 0.0000e+00 - loss: 4.7785\n",
      "Epoch 31/100\n",
      "\u001b[1m11639/11639\u001b[0m \u001b[32m━━━━━━━━━━━━━━━━━━━━\u001b[0m\u001b[37m\u001b[0m \u001b[1m4s\u001b[0m 349us/step - accuracy: 1.8119e-06 - loss: 4.7501\n",
      "Epoch 32/100\n",
      "\u001b[1m11639/11639\u001b[0m \u001b[32m━━━━━━━━━━━━━━━━━━━━\u001b[0m\u001b[37m\u001b[0m \u001b[1m4s\u001b[0m 353us/step - accuracy: 0.0000e+00 - loss: 4.8571\n",
      "Epoch 33/100\n",
      "\u001b[1m11639/11639\u001b[0m \u001b[32m━━━━━━━━━━━━━━━━━━━━\u001b[0m\u001b[37m\u001b[0m \u001b[1m4s\u001b[0m 352us/step - accuracy: 1.1568e-06 - loss: 4.9458\n",
      "Epoch 34/100\n",
      "\u001b[1m11639/11639\u001b[0m \u001b[32m━━━━━━━━━━━━━━━━━━━━\u001b[0m\u001b[37m\u001b[0m \u001b[1m4s\u001b[0m 353us/step - accuracy: 6.4332e-06 - loss: 4.8312\n",
      "Epoch 35/100\n",
      "\u001b[1m11639/11639\u001b[0m \u001b[32m━━━━━━━━━━━━━━━━━━━━\u001b[0m\u001b[37m\u001b[0m \u001b[1m4s\u001b[0m 361us/step - accuracy: 1.1875e-06 - loss: 4.7979\n",
      "Epoch 36/100\n",
      "\u001b[1m11639/11639\u001b[0m \u001b[32m━━━━━━━━━━━━━━━━━━━━\u001b[0m\u001b[37m\u001b[0m \u001b[1m4s\u001b[0m 355us/step - accuracy: 6.0164e-07 - loss: 4.8620\n",
      "Epoch 37/100\n",
      "\u001b[1m11639/11639\u001b[0m \u001b[32m━━━━━━━━━━━━━━━━━━━━\u001b[0m\u001b[37m\u001b[0m \u001b[1m4s\u001b[0m 358us/step - accuracy: 6.2841e-06 - loss: 4.7903\n",
      "Epoch 38/100\n",
      "\u001b[1m11639/11639\u001b[0m \u001b[32m━━━━━━━━━━━━━━━━━━━━\u001b[0m\u001b[37m\u001b[0m \u001b[1m4s\u001b[0m 363us/step - accuracy: 9.1730e-07 - loss: 4.7769\n",
      "Epoch 39/100\n",
      "\u001b[1m11639/11639\u001b[0m \u001b[32m━━━━━━━━━━━━━━━━━━━━\u001b[0m\u001b[37m\u001b[0m \u001b[1m4s\u001b[0m 369us/step - accuracy: 5.2232e-07 - loss: 4.6857\n",
      "Epoch 40/100\n",
      "\u001b[1m11639/11639\u001b[0m \u001b[32m━━━━━━━━━━━━━━━━━━━━\u001b[0m\u001b[37m\u001b[0m \u001b[1m4s\u001b[0m 370us/step - accuracy: 1.1519e-06 - loss: 4.8585\n",
      "Epoch 41/100\n",
      "\u001b[1m11639/11639\u001b[0m \u001b[32m━━━━━━━━━━━━━━━━━━━━\u001b[0m\u001b[37m\u001b[0m \u001b[1m4s\u001b[0m 358us/step - accuracy: 0.0000e+00 - loss: 4.7398\n",
      "Epoch 42/100\n",
      "\u001b[1m11639/11639\u001b[0m \u001b[32m━━━━━━━━━━━━━━━━━━━━\u001b[0m\u001b[37m\u001b[0m \u001b[1m4s\u001b[0m 354us/step - accuracy: 1.7357e-06 - loss: 4.7788\n",
      "Epoch 43/100\n",
      "\u001b[1m11639/11639\u001b[0m \u001b[32m━━━━━━━━━━━━━━━━━━━━\u001b[0m\u001b[37m\u001b[0m \u001b[1m4s\u001b[0m 361us/step - accuracy: 1.8580e-06 - loss: 4.8046\n",
      "Epoch 44/100\n",
      "\u001b[1m11639/11639\u001b[0m \u001b[32m━━━━━━━━━━━━━━━━━━━━\u001b[0m\u001b[37m\u001b[0m \u001b[1m4s\u001b[0m 368us/step - accuracy: 8.4967e-07 - loss: 4.9296\n",
      "Epoch 45/100\n",
      "\u001b[1m11639/11639\u001b[0m \u001b[32m━━━━━━━━━━━━━━━━━━━━\u001b[0m\u001b[37m\u001b[0m \u001b[1m4s\u001b[0m 364us/step - accuracy: 1.4732e-06 - loss: 4.8277\n",
      "Epoch 46/100\n",
      "\u001b[1m11639/11639\u001b[0m \u001b[32m━━━━━━━━━━━━━━━━━━━━\u001b[0m\u001b[37m\u001b[0m \u001b[1m4s\u001b[0m 360us/step - accuracy: 0.0000e+00 - loss: 4.7674\n",
      "Epoch 47/100\n",
      "\u001b[1m11639/11639\u001b[0m \u001b[32m━━━━━━━━━━━━━━━━━━━━\u001b[0m\u001b[37m\u001b[0m \u001b[1m4s\u001b[0m 359us/step - accuracy: 2.5258e-06 - loss: 4.7329\n",
      "Epoch 48/100\n",
      "\u001b[1m11639/11639\u001b[0m \u001b[32m━━━━━━━━━━━━━━━━━━━━\u001b[0m\u001b[37m\u001b[0m \u001b[1m4s\u001b[0m 380us/step - accuracy: 8.2277e-06 - loss: 4.8143\n",
      "Epoch 49/100\n",
      "\u001b[1m11639/11639\u001b[0m \u001b[32m━━━━━━━━━━━━━━━━━━━━\u001b[0m\u001b[37m\u001b[0m \u001b[1m4s\u001b[0m 371us/step - accuracy: 1.9078e-06 - loss: 4.6760\n",
      "Epoch 50/100\n",
      "\u001b[1m11639/11639\u001b[0m \u001b[32m━━━━━━━━━━━━━━━━━━━━\u001b[0m\u001b[37m\u001b[0m \u001b[1m4s\u001b[0m 365us/step - accuracy: 2.2001e-06 - loss: 4.6657\n",
      "Epoch 51/100\n",
      "\u001b[1m11639/11639\u001b[0m \u001b[32m━━━━━━━━━━━━━━━━━━━━\u001b[0m\u001b[37m\u001b[0m \u001b[1m4s\u001b[0m 358us/step - accuracy: 4.1855e-06 - loss: 4.7839\n",
      "Epoch 52/100\n",
      "\u001b[1m11639/11639\u001b[0m \u001b[32m━━━━━━━━━━━━━━━━━━━━\u001b[0m\u001b[37m\u001b[0m \u001b[1m4s\u001b[0m 361us/step - accuracy: 3.8515e-06 - loss: 4.7498\n",
      "Epoch 53/100\n",
      "\u001b[1m11639/11639\u001b[0m \u001b[32m━━━━━━━━━━━━━━━━━━━━\u001b[0m\u001b[37m\u001b[0m \u001b[1m4s\u001b[0m 368us/step - accuracy: 1.6408e-06 - loss: 4.7082\n",
      "Epoch 54/100\n",
      "\u001b[1m11639/11639\u001b[0m \u001b[32m━━━━━━━━━━━━━━━━━━━━\u001b[0m\u001b[37m\u001b[0m \u001b[1m4s\u001b[0m 360us/step - accuracy: 1.3549e-06 - loss: 4.9061\n",
      "Epoch 55/100\n",
      "\u001b[1m11639/11639\u001b[0m \u001b[32m━━━━━━━━━━━━━━━━━━━━\u001b[0m\u001b[37m\u001b[0m \u001b[1m4s\u001b[0m 359us/step - accuracy: 0.0000e+00 - loss: 4.8240\n",
      "Epoch 56/100\n",
      "\u001b[1m11639/11639\u001b[0m \u001b[32m━━━━━━━━━━━━━━━━━━━━\u001b[0m\u001b[37m\u001b[0m \u001b[1m4s\u001b[0m 352us/step - accuracy: 2.4650e-06 - loss: 4.7087\n",
      "Epoch 57/100\n",
      "\u001b[1m11639/11639\u001b[0m \u001b[32m━━━━━━━━━━━━━━━━━━━━\u001b[0m\u001b[37m\u001b[0m \u001b[1m4s\u001b[0m 353us/step - accuracy: 0.0000e+00 - loss: 4.7640\n",
      "Epoch 58/100\n",
      "\u001b[1m11639/11639\u001b[0m \u001b[32m━━━━━━━━━━━━━━━━━━━━\u001b[0m\u001b[37m\u001b[0m \u001b[1m4s\u001b[0m 350us/step - accuracy: 4.8894e-06 - loss: 4.7484\n",
      "Epoch 59/100\n",
      "\u001b[1m11639/11639\u001b[0m \u001b[32m━━━━━━━━━━━━━━━━━━━━\u001b[0m\u001b[37m\u001b[0m \u001b[1m4s\u001b[0m 356us/step - accuracy: 1.2588e-06 - loss: 4.7644\n",
      "Epoch 60/100\n",
      "\u001b[1m11639/11639\u001b[0m \u001b[32m━━━━━━━━━━━━━━━━━━━━\u001b[0m\u001b[37m\u001b[0m \u001b[1m4s\u001b[0m 349us/step - accuracy: 3.2902e-06 - loss: 4.7566\n",
      "Epoch 61/100\n",
      "\u001b[1m11639/11639\u001b[0m \u001b[32m━━━━━━━━━━━━━━━━━━━━\u001b[0m\u001b[37m\u001b[0m \u001b[1m4s\u001b[0m 355us/step - accuracy: 0.0000e+00 - loss: 4.6977\n",
      "Epoch 62/100\n",
      "\u001b[1m11639/11639\u001b[0m \u001b[32m━━━━━━━━━━━━━━━━━━━━\u001b[0m\u001b[37m\u001b[0m \u001b[1m4s\u001b[0m 347us/step - accuracy: 7.2541e-07 - loss: 4.6921\n",
      "Epoch 63/100\n",
      "\u001b[1m11639/11639\u001b[0m \u001b[32m━━━━━━━━━━━━━━━━━━━━\u001b[0m\u001b[37m\u001b[0m \u001b[1m4s\u001b[0m 347us/step - accuracy: 3.9951e-06 - loss: 4.7549\n",
      "Epoch 64/100\n",
      "\u001b[1m11639/11639\u001b[0m \u001b[32m━━━━━━━━━━━━━━━━━━━━\u001b[0m\u001b[37m\u001b[0m \u001b[1m4s\u001b[0m 356us/step - accuracy: 2.7397e-06 - loss: 4.8166\n",
      "Epoch 65/100\n",
      "\u001b[1m11639/11639\u001b[0m \u001b[32m━━━━━━━━━━━━━━━━━━━━\u001b[0m\u001b[37m\u001b[0m \u001b[1m4s\u001b[0m 350us/step - accuracy: 9.5450e-06 - loss: 4.6893\n",
      "Epoch 66/100\n",
      "\u001b[1m11639/11639\u001b[0m \u001b[32m━━━━━━━━━━━━━━━━━━━━\u001b[0m\u001b[37m\u001b[0m \u001b[1m4s\u001b[0m 349us/step - accuracy: 3.0693e-06 - loss: 4.7810\n",
      "Epoch 67/100\n",
      "\u001b[1m11639/11639\u001b[0m \u001b[32m━━━━━━━━━━━━━━━━━━━━\u001b[0m\u001b[37m\u001b[0m \u001b[1m4s\u001b[0m 357us/step - accuracy: 9.8135e-07 - loss: 4.8451\n",
      "Epoch 68/100\n",
      "\u001b[1m11639/11639\u001b[0m \u001b[32m━━━━━━━━━━━━━━━━━━━━\u001b[0m\u001b[37m\u001b[0m \u001b[1m4s\u001b[0m 356us/step - accuracy: 0.0000e+00 - loss: 4.6270\n",
      "Epoch 69/100\n",
      "\u001b[1m11639/11639\u001b[0m \u001b[32m━━━━━━━━━━━━━━━━━━━━\u001b[0m\u001b[37m\u001b[0m \u001b[1m4s\u001b[0m 353us/step - accuracy: 1.4740e-05 - loss: 4.7274\n",
      "Epoch 70/100\n",
      "\u001b[1m11639/11639\u001b[0m \u001b[32m━━━━━━━━━━━━━━━━━━━━\u001b[0m\u001b[37m\u001b[0m \u001b[1m4s\u001b[0m 357us/step - accuracy: 1.2263e-05 - loss: 4.7358\n",
      "Epoch 71/100\n",
      "\u001b[1m11639/11639\u001b[0m \u001b[32m━━━━━━━━━━━━━━━━━━━━\u001b[0m\u001b[37m\u001b[0m \u001b[1m4s\u001b[0m 353us/step - accuracy: 2.6860e-06 - loss: 4.7454\n",
      "Epoch 72/100\n",
      "\u001b[1m11639/11639\u001b[0m \u001b[32m━━━━━━━━━━━━━━━━━━━━\u001b[0m\u001b[37m\u001b[0m \u001b[1m4s\u001b[0m 352us/step - accuracy: 3.6521e-06 - loss: 4.7361\n",
      "Epoch 73/100\n",
      "\u001b[1m11639/11639\u001b[0m \u001b[32m━━━━━━━━━━━━━━━━━━━━\u001b[0m\u001b[37m\u001b[0m \u001b[1m4s\u001b[0m 356us/step - accuracy: 1.9285e-05 - loss: 4.8201\n",
      "Epoch 74/100\n",
      "\u001b[1m11639/11639\u001b[0m \u001b[32m━━━━━━━━━━━━━━━━━━━━\u001b[0m\u001b[37m\u001b[0m \u001b[1m4s\u001b[0m 351us/step - accuracy: 3.4539e-06 - loss: 4.7316\n",
      "Epoch 75/100\n",
      "\u001b[1m11639/11639\u001b[0m \u001b[32m━━━━━━━━━━━━━━━━━━━━\u001b[0m\u001b[37m\u001b[0m \u001b[1m4s\u001b[0m 356us/step - accuracy: 9.1437e-06 - loss: 4.7525\n",
      "Epoch 76/100\n",
      "\u001b[1m11639/11639\u001b[0m \u001b[32m━━━━━━━━━━━━━━━━━━━━\u001b[0m\u001b[37m\u001b[0m \u001b[1m4s\u001b[0m 352us/step - accuracy: 1.4551e-06 - loss: 4.7930\n",
      "Epoch 77/100\n",
      "\u001b[1m11639/11639\u001b[0m \u001b[32m━━━━━━━━━━━━━━━━━━━━\u001b[0m\u001b[37m\u001b[0m \u001b[1m4s\u001b[0m 362us/step - accuracy: 3.8061e-06 - loss: 4.7219\n",
      "Epoch 78/100\n",
      "\u001b[1m11639/11639\u001b[0m \u001b[32m━━━━━━━━━━━━━━━━━━━━\u001b[0m\u001b[37m\u001b[0m \u001b[1m4s\u001b[0m 381us/step - accuracy: 4.2794e-06 - loss: 4.8081\n",
      "Epoch 79/100\n",
      "\u001b[1m11639/11639\u001b[0m \u001b[32m━━━━━━━━━━━━━━━━━━━━\u001b[0m\u001b[37m\u001b[0m \u001b[1m4s\u001b[0m 353us/step - accuracy: 3.7972e-06 - loss: 4.7481\n",
      "Epoch 80/100\n",
      "\u001b[1m11639/11639\u001b[0m \u001b[32m━━━━━━━━━━━━━━━━━━━━\u001b[0m\u001b[37m\u001b[0m \u001b[1m4s\u001b[0m 358us/step - accuracy: 2.2160e-06 - loss: 4.6472\n",
      "Epoch 81/100\n",
      "\u001b[1m11639/11639\u001b[0m \u001b[32m━━━━━━━━━━━━━━━━━━━━\u001b[0m\u001b[37m\u001b[0m \u001b[1m4s\u001b[0m 355us/step - accuracy: 2.1257e-06 - loss: 4.6941\n",
      "Epoch 82/100\n",
      "\u001b[1m11639/11639\u001b[0m \u001b[32m━━━━━━━━━━━━━━━━━━━━\u001b[0m\u001b[37m\u001b[0m \u001b[1m4s\u001b[0m 359us/step - accuracy: 5.8374e-06 - loss: 4.8267\n",
      "Epoch 83/100\n",
      "\u001b[1m11639/11639\u001b[0m \u001b[32m━━━━━━━━━━━━━━━━━━━━\u001b[0m\u001b[37m\u001b[0m \u001b[1m4s\u001b[0m 355us/step - accuracy: 6.0172e-06 - loss: 4.6460\n",
      "Epoch 84/100\n",
      "\u001b[1m11639/11639\u001b[0m \u001b[32m━━━━━━━━━━━━━━━━━━━━\u001b[0m\u001b[37m\u001b[0m \u001b[1m4s\u001b[0m 357us/step - accuracy: 6.0221e-06 - loss: 4.6687\n",
      "Epoch 85/100\n",
      "\u001b[1m11639/11639\u001b[0m \u001b[32m━━━━━━━━━━━━━━━━━━━━\u001b[0m\u001b[37m\u001b[0m \u001b[1m4s\u001b[0m 358us/step - accuracy: 5.7071e-06 - loss: 4.6677\n",
      "Epoch 86/100\n",
      "\u001b[1m11639/11639\u001b[0m \u001b[32m━━━━━━━━━━━━━━━━━━━━\u001b[0m\u001b[37m\u001b[0m \u001b[1m4s\u001b[0m 357us/step - accuracy: 1.4962e-05 - loss: 4.6269\n",
      "Epoch 87/100\n",
      "\u001b[1m11639/11639\u001b[0m \u001b[32m━━━━━━━━━━━━━━━━━━━━\u001b[0m\u001b[37m\u001b[0m \u001b[1m4s\u001b[0m 359us/step - accuracy: 1.3232e-05 - loss: 4.7545\n",
      "Epoch 88/100\n",
      "\u001b[1m11639/11639\u001b[0m \u001b[32m━━━━━━━━━━━━━━━━━━━━\u001b[0m\u001b[37m\u001b[0m \u001b[1m4s\u001b[0m 356us/step - accuracy: 3.6721e-06 - loss: 4.7026\n",
      "Epoch 89/100\n",
      "\u001b[1m11639/11639\u001b[0m \u001b[32m━━━━━━━━━━━━━━━━━━━━\u001b[0m\u001b[37m\u001b[0m \u001b[1m4s\u001b[0m 357us/step - accuracy: 1.2507e-05 - loss: 4.6958\n",
      "Epoch 90/100\n",
      "\u001b[1m11639/11639\u001b[0m \u001b[32m━━━━━━━━━━━━━━━━━━━━\u001b[0m\u001b[37m\u001b[0m \u001b[1m4s\u001b[0m 371us/step - accuracy: 3.5061e-06 - loss: 4.7990\n",
      "Epoch 91/100\n",
      "\u001b[1m11639/11639\u001b[0m \u001b[32m━━━━━━━━━━━━━━━━━━━━\u001b[0m\u001b[37m\u001b[0m \u001b[1m4s\u001b[0m 378us/step - accuracy: 3.0140e-05 - loss: 4.7825\n",
      "Epoch 92/100\n",
      "\u001b[1m11639/11639\u001b[0m \u001b[32m━━━━━━━━━━━━━━━━━━━━\u001b[0m\u001b[37m\u001b[0m \u001b[1m4s\u001b[0m 353us/step - accuracy: 1.1994e-05 - loss: 4.7327\n",
      "Epoch 93/100\n",
      "\u001b[1m11639/11639\u001b[0m \u001b[32m━━━━━━━━━━━━━━━━━━━━\u001b[0m\u001b[37m\u001b[0m \u001b[1m4s\u001b[0m 371us/step - accuracy: 7.6030e-06 - loss: 4.8363\n",
      "Epoch 94/100\n",
      "\u001b[1m11639/11639\u001b[0m \u001b[32m━━━━━━━━━━━━━━━━━━━━\u001b[0m\u001b[37m\u001b[0m \u001b[1m4s\u001b[0m 368us/step - accuracy: 1.4705e-06 - loss: 4.5797\n",
      "Epoch 95/100\n",
      "\u001b[1m11639/11639\u001b[0m \u001b[32m━━━━━━━━━━━━━━━━━━━━\u001b[0m\u001b[37m\u001b[0m \u001b[1m4s\u001b[0m 383us/step - accuracy: 6.9083e-06 - loss: 4.6062\n",
      "Epoch 96/100\n",
      "\u001b[1m11639/11639\u001b[0m \u001b[32m━━━━━━━━━━━━━━━━━━━━\u001b[0m\u001b[37m\u001b[0m \u001b[1m4s\u001b[0m 360us/step - accuracy: 3.8029e-06 - loss: 4.7663\n",
      "Epoch 97/100\n",
      "\u001b[1m11639/11639\u001b[0m \u001b[32m━━━━━━━━━━━━━━━━━━━━\u001b[0m\u001b[37m\u001b[0m \u001b[1m4s\u001b[0m 361us/step - accuracy: 5.0593e-06 - loss: 4.5752\n",
      "Epoch 98/100\n",
      "\u001b[1m11639/11639\u001b[0m \u001b[32m━━━━━━━━━━━━━━━━━━━━\u001b[0m\u001b[37m\u001b[0m \u001b[1m4s\u001b[0m 360us/step - accuracy: 8.4021e-06 - loss: 4.6472\n",
      "Epoch 99/100\n",
      "\u001b[1m11639/11639\u001b[0m \u001b[32m━━━━━━━━━━━━━━━━━━━━\u001b[0m\u001b[37m\u001b[0m \u001b[1m4s\u001b[0m 363us/step - accuracy: 5.6637e-06 - loss: 4.7700\n",
      "Epoch 100/100\n",
      "\u001b[1m11639/11639\u001b[0m \u001b[32m━━━━━━━━━━━━━━━━━━━━\u001b[0m\u001b[37m\u001b[0m \u001b[1m4s\u001b[0m 360us/step - accuracy: 1.0727e-05 - loss: 4.6902\n"
     ]
    },
    {
     "data": {
      "text/plain": [
       "<keras.src.callbacks.history.History at 0x34861d660>"
      ]
     },
     "execution_count": 123,
     "metadata": {},
     "output_type": "execute_result"
    }
   ],
   "source": [
    "# Uncomment the following if you have already trained the model\n",
    "\n",
    "# initialize the ANN\n",
    "ann = tf.keras.models.Sequential() \n",
    "\n",
    "# adding the input layer and the first hidden layer\n",
    "# units=5, where 5 is the number of neurons in the first input layer\n",
    "ann.add(tf.keras.layers.Dense(units=5, activation='relu'))\n",
    "# adding the second hidden layer\n",
    "ann.add(tf.keras.layers.Dense(units=32, activation='relu'))\n",
    "# adding the third hidden layer\n",
    "ann.add(tf.keras.layers.Dense(units=32, activation='sigmoid'))\n",
    "# adding the output layer, absolute value of the snr\n",
    "ann.add(tf.keras.layers.Dense(units=1, activation='linear'))\n",
    "\n",
    "# compile the ANN\n",
    "ann.compile(optimizer = 'adam', loss = 'mean_squared_error', metrics = ['accuracy'])\n",
    "\n",
    "# train the ANN on the training set\n",
    "ann.fit(X_train, y_train, batch_size = 32, epochs = 100)"
   ]
  },
  {
   "cell_type": "code",
   "execution_count": 130,
   "metadata": {},
   "outputs": [
    {
     "name": "stdout",
     "output_type": "stream",
     "text": [
      "WARNING:absl:You are saving your model as an HDF5 file via `model.save()` or `keras.saving.save_model(model)`. This file format is considered legacy. We recommend using instead the native Keras format, e.g. `model.save('my_model.keras')` or `keras.saving.save_model(model, 'my_model.keras')`. \n"
     ]
    }
   ],
   "source": [
    "# Uncomment the following if you have not trained the model\n",
    "\n",
    "# Save the model to a file\n",
    "ann.save('ann_modelH1_final.h5')\n",
    "modelH1 = ann\n",
    "\n",
    "# # Uncomment the following if you have already generated the model\n",
    "\n",
    "# # load the model\n",
    "# modelH1 = load_model('ann_modelH1_final.h5')"
   ]
  },
  {
   "cell_type": "markdown",
   "metadata": {},
   "source": [
    "### Test the Model on the test data"
   ]
  },
  {
   "cell_type": "code",
   "execution_count": 131,
   "metadata": {},
   "outputs": [
    {
     "name": "stdout",
     "output_type": "stream",
     "text": [
      "\u001b[1m1294/1294\u001b[0m \u001b[32m━━━━━━━━━━━━━━━━━━━━\u001b[0m\u001b[37m\u001b[0m \u001b[1m0s\u001b[0m 293us/step\n",
      "[[ 2.25415564  1.87825041]\n",
      " [ 3.34012222  3.53847344]\n",
      " [ 9.60850906  9.43302369]\n",
      " [ 5.97652388  5.13859978]\n",
      " [19.10847282 13.83949988]\n",
      " [14.54276085 15.00340638]\n",
      " [ 6.51977968  6.65599621]\n",
      " [ 4.68445778  4.85796818]\n",
      " [ 6.26563549  6.70824177]\n",
      " [ 1.70905924  1.80254243]\n",
      " [63.90172195 59.5720179 ]\n",
      " [ 3.55520535  4.06904557]\n",
      " [ 4.11082363  4.00315261]\n",
      " [ 2.85332918  2.92882747]\n",
      " [ 2.48083162  2.58145873]]\n"
     ]
    }
   ],
   "source": [
    "# left: predicted snr, right: actual snr\n",
    "y_pred = modelH1.predict(X_test)\n",
    "#y_pred = (y_pred > 0.5)\n",
    "print(np.concatenate((y_pred.reshape(len(y_pred),1), y_test.reshape(len(y_test),1)),1)[10:25])"
   ]
  },
  {
   "cell_type": "code",
   "execution_count": 132,
   "metadata": {},
   "outputs": [
    {
     "name": "stdout",
     "output_type": "stream",
     "text": [
      "Error: 4.11%\n"
     ]
    }
   ],
   "source": [
    "# calculate the error\n",
    "len1 = len(y_pred)\n",
    "len2 = np.sum((y_pred.flatten()>8) != (y_test>8))\n",
    "error = len2/len1*100\n",
    "print(f\"Error: {error:.2f}%\")"
   ]
  },
  {
   "cell_type": "markdown",
   "metadata": {},
   "source": [
    "### Test with astrophysical parameters"
   ]
  },
  {
   "cell_type": "code",
   "execution_count": 133,
   "metadata": {},
   "outputs": [
    {
     "name": "stdout",
     "output_type": "stream",
     "text": [
      "WARNING:absl:Compiled the loaded model, but the compiled metrics have yet to be built. `model.compile_metrics` will be empty until you train or evaluate the model.\n",
      "\u001b[1m1563/1563\u001b[0m \u001b[32m━━━━━━━━━━━━━━━━━━━━\u001b[0m\u001b[37m\u001b[0m \u001b[1m0s\u001b[0m 292us/step\n",
      "[[49900    45]\n",
      " [    8    47]]\n",
      "Accuracy: 99.894%\n"
     ]
    }
   ],
   "source": [
    "# Get the data. This data is generated using `ler` package.\n",
    "unlensed_params = get_param_from_json(\"ler_data/unlensed_param_testing.json\")\n",
    "_, _, X_, Y_, _, _, _ = input_output(np.arange(len(unlensed_params['H1'])), unlensed_params)\n",
    "scalerH1 = pickle.load(open('scalerH1_final.pkl', 'rb'))\n",
    "X_ = scalerH1.transform(X_)\n",
    "\n",
    "modelH1 = load_model('ann_modelH1_final.h5')\n",
    "y_pred_ = modelH1.predict(X_).flatten()\n",
    "y_test_ = Y_\n",
    "cm = confusion_matrix((y_test_>8), ((y_pred_)>8))\n",
    "print(cm)\n",
    "accuracy = accuracy_score((y_test_>8), (y_pred_>8))*100\n",
    "print(f\"Accuracy: {accuracy:.3f}%\")"
   ]
  },
  {
   "cell_type": "markdown",
   "metadata": {},
   "source": [
    "### Error analysis"
   ]
  },
  {
   "cell_type": "code",
   "execution_count": 140,
   "metadata": {},
   "outputs": [
    {
     "name": "stdout",
     "output_type": "stream",
     "text": [
      "slope: -0.0039, intercept: 0.0193\n"
     ]
    }
   ],
   "source": [
    "# Uncomment to create error ajustment\n",
    "\n",
    "# do linear fitting of the error y_pred-y_test\n",
    "def func(x, a, b):\n",
    "    return a*x + b\n",
    "\n",
    "idx = (y_pred_>4) & (y_pred_<10)\n",
    "idx = idx & (y_test_!=0)\n",
    "popt, pcov = curve_fit(func, y_pred_[idx], y_pred_[idx]-y_test_[idx])\n",
    "print(f\"slope: {popt[0]:.4f}, intercept: {popt[1]:.4f}\")\n",
    "\n",
    "adjustment_dict = {'slope': popt[0], 'intercept': popt[1]}\n",
    "# save json\n",
    "save_json('error_adjustmentH1_final.json', adjustment_dict)"
   ]
  },
  {
   "cell_type": "code",
   "execution_count": 141,
   "metadata": {},
   "outputs": [
    {
     "name": "stdout",
     "output_type": "stream",
     "text": [
      "\u001b[1m1563/1563\u001b[0m \u001b[32m━━━━━━━━━━━━━━━━━━━━\u001b[0m\u001b[37m\u001b[0m \u001b[1m0s\u001b[0m 239us/step\n",
      "[[49900    45]\n",
      " [    8    47]]\n",
      "Accuracy (after error ajustment): 99.894%\n"
     ]
    }
   ],
   "source": [
    "# load json\n",
    "adjustment_dict = load_json('error_adjustmentH1_final.json')\n",
    "a = adjustment_dict['slope']\n",
    "b = adjustment_dict['intercept']\n",
    "\n",
    "y_pred_ = modelH1.predict(X_).flatten()\n",
    "y_pred_ = y_pred_-(a*y_pred_ + b)\n",
    "y_test_ = Y_\n",
    "cm = confusion_matrix((y_test_>8), ((y_pred_)>8))\n",
    "print(cm)\n",
    "accuracy = accuracy_score((y_test_>8), (y_pred_>8))*100\n",
    "print(f\"Accuracy (after error ajustment): {accuracy:.3f}%\")"
   ]
  },
  {
   "cell_type": "code",
   "execution_count": null,
   "metadata": {},
   "outputs": [],
   "source": []
  },
  {
   "cell_type": "markdown",
   "metadata": {},
   "source": [
    "## V1"
   ]
  },
  {
   "cell_type": "code",
   "execution_count": 142,
   "metadata": {},
   "outputs": [
    {
     "name": "stdout",
     "output_type": "stream",
     "text": [
      "size before SNR cut: 409441\n",
      "size after SNR cut: 400502\n"
     ]
    }
   ],
   "source": [
    "# these are pre-generated datas\n",
    "# join all dictionaries into one\n",
    "# the naming of data files are based on what you have saved. Refer to 'training_data_generation_ann.ipynb' to see how the data is generated with `ler` package and saved.\n",
    "unlensed_params = get_param_from_json(\"snr_V1.json\")\n",
    "unlensed_params3 = get_param_from_json(\"joint_new_optsnr2.json\")\n",
    "unlensed_params4 = get_param_from_json(\"joint_new_optsnr3.json\")\n",
    "unlensed_params5 = get_param_from_json(\"joint_new_optsnr4.json\")\n",
    "unlensed_params6 = get_param_from_json(\"joint_new_optsnr5.json\")\n",
    "unlensed_params7 = get_param_from_json(\"joint_new_optsnr6.json\")\n",
    "unlensed_params8 = get_param_from_json(\"joint_new_optsnr_uniform.json\")\n",
    "\n",
    "unlensed_params = add_dict_values(unlensed_params, unlensed_params3)\n",
    "unlensed_params = add_dict_values(unlensed_params, unlensed_params4)\n",
    "unlensed_params = add_dict_values(unlensed_params, unlensed_params5)\n",
    "unlensed_params = add_dict_values(unlensed_params, unlensed_params6)\n",
    "unlensed_params = add_dict_values(unlensed_params, unlensed_params7)\n",
    "unlensed_params = add_dict_values(unlensed_params, unlensed_params8)\n",
    "del unlensed_params8\n",
    "del unlensed_params3, unlensed_params4, unlensed_params5, unlensed_params6, unlensed_params7\n",
    "print(f\"size before SNR cut: {len(unlensed_params['V1'])}\")\n",
    "# set SNR cut\n",
    "idx_constrain = unlensed_params['V1']<100\n",
    "for key, value in unlensed_params.items():\n",
    "    unlensed_params[key] = value[idx_constrain]\n",
    "\n",
    "print(f\"size after SNR cut: {len(unlensed_params['V1'])}\")"
   ]
  },
  {
   "cell_type": "code",
   "execution_count": 143,
   "metadata": {},
   "outputs": [
    {
     "data": {
      "text/plain": [
       "(400502, 5)"
      ]
     },
     "execution_count": 143,
     "metadata": {},
     "output_type": "execute_result"
    }
   ],
   "source": [
    "len_ = len(unlensed_params['V1'])\n",
    "idx = np.arange(len_)\n",
    "# randomize the train set\n",
    "idx = np.random.permutation(idx)\n",
    "_, _, _, _, XV1, yV1,_ = input_output(idx, unlensed_params)\n",
    "np.shape(XV1)"
   ]
  },
  {
   "cell_type": "markdown",
   "metadata": {},
   "source": [
    "### Feature scaling"
   ]
  },
  {
   "cell_type": "code",
   "execution_count": 144,
   "metadata": {},
   "outputs": [],
   "source": [
    "X_train, X_test, y_train, y_test = train_test_split(XV1, yV1, test_size = 0.1, random_state = 0)\n",
    "\n",
    "# Uncomment the following if you have not generated the scaler\n",
    "\n",
    "# feature scaling\n",
    "sc = StandardScaler()\n",
    "X_train = sc.fit_transform(X_train)\n",
    "X_test = sc.transform(X_test)\n",
    "\n",
    "# save the scaler\n",
    "pickle.dump(sc, open('scalerV1_final.pkl', 'wb'))\n",
    "\n",
    "# # Uncomment the following if you have already generated the scaler\n",
    "\n",
    "# # load the scaler\n",
    "# scalerV1 = pickle.load(open('scalerV1_final.pkl', 'rb'))\n",
    "# sc = scalerV1\n",
    "# X_train = sc.transform(X_train)\n",
    "# X_test = sc.transform(X_test)"
   ]
  },
  {
   "cell_type": "markdown",
   "metadata": {},
   "source": [
    "### Generate ANN model"
   ]
  },
  {
   "cell_type": "code",
   "execution_count": 145,
   "metadata": {},
   "outputs": [
    {
     "name": "stdout",
     "output_type": "stream",
     "text": [
      "Epoch 1/100\n",
      "\u001b[1m11265/11265\u001b[0m \u001b[32m━━━━━━━━━━━━━━━━━━━━\u001b[0m\u001b[37m\u001b[0m \u001b[1m4s\u001b[0m 351us/step - accuracy: 2.6724e-05 - loss: 54.9475\n",
      "Epoch 2/100\n",
      "\u001b[1m11265/11265\u001b[0m \u001b[32m━━━━━━━━━━━━━━━━━━━━\u001b[0m\u001b[37m\u001b[0m \u001b[1m4s\u001b[0m 346us/step - accuracy: 1.8967e-06 - loss: 5.0122\n",
      "Epoch 3/100\n",
      "\u001b[1m11265/11265\u001b[0m \u001b[32m━━━━━━━━━━━━━━━━━━━━\u001b[0m\u001b[37m\u001b[0m \u001b[1m4s\u001b[0m 332us/step - accuracy: 9.8649e-06 - loss: 4.8508\n",
      "Epoch 4/100\n",
      "\u001b[1m11265/11265\u001b[0m \u001b[32m━━━━━━━━━━━━━━━━━━━━\u001b[0m\u001b[37m\u001b[0m \u001b[1m4s\u001b[0m 336us/step - accuracy: 1.2657e-05 - loss: 4.9597\n",
      "Epoch 5/100\n",
      "\u001b[1m11265/11265\u001b[0m \u001b[32m━━━━━━━━━━━━━━━━━━━━\u001b[0m\u001b[37m\u001b[0m \u001b[1m4s\u001b[0m 333us/step - accuracy: 0.0000e+00 - loss: 4.6671\n",
      "Epoch 6/100\n",
      "\u001b[1m11265/11265\u001b[0m \u001b[32m━━━━━━━━━━━━━━━━━━━━\u001b[0m\u001b[37m\u001b[0m \u001b[1m4s\u001b[0m 336us/step - accuracy: 7.8731e-06 - loss: 4.5809\n",
      "Epoch 7/100\n",
      "\u001b[1m11265/11265\u001b[0m \u001b[32m━━━━━━━━━━━━━━━━━━━━\u001b[0m\u001b[37m\u001b[0m \u001b[1m4s\u001b[0m 342us/step - accuracy: 2.2992e-05 - loss: 4.6862\n",
      "Epoch 8/100\n",
      "\u001b[1m11265/11265\u001b[0m \u001b[32m━━━━━━━━━━━━━━━━━━━━\u001b[0m\u001b[37m\u001b[0m \u001b[1m4s\u001b[0m 334us/step - accuracy: 8.5719e-06 - loss: 4.7661\n",
      "Epoch 9/100\n",
      "\u001b[1m11265/11265\u001b[0m \u001b[32m━━━━━━━━━━━━━━━━━━━━\u001b[0m\u001b[37m\u001b[0m \u001b[1m4s\u001b[0m 338us/step - accuracy: 1.5589e-05 - loss: 4.7302\n",
      "Epoch 10/100\n",
      "\u001b[1m11265/11265\u001b[0m \u001b[32m━━━━━━━━━━━━━━━━━━━━\u001b[0m\u001b[37m\u001b[0m \u001b[1m4s\u001b[0m 341us/step - accuracy: 8.2987e-06 - loss: 4.7268\n",
      "Epoch 11/100\n",
      "\u001b[1m11265/11265\u001b[0m \u001b[32m━━━━━━━━━━━━━━━━━━━━\u001b[0m\u001b[37m\u001b[0m \u001b[1m4s\u001b[0m 358us/step - accuracy: 7.3318e-07 - loss: 4.7132\n",
      "Epoch 12/100\n",
      "\u001b[1m11265/11265\u001b[0m \u001b[32m━━━━━━━━━━━━━━━━━━━━\u001b[0m\u001b[37m\u001b[0m \u001b[1m4s\u001b[0m 355us/step - accuracy: 1.4815e-05 - loss: 4.6952\n",
      "Epoch 13/100\n",
      "\u001b[1m11265/11265\u001b[0m \u001b[32m━━━━━━━━━━━━━━━━━━━━\u001b[0m\u001b[37m\u001b[0m \u001b[1m4s\u001b[0m 347us/step - accuracy: 5.4748e-06 - loss: 4.5275\n",
      "Epoch 14/100\n",
      "\u001b[1m11265/11265\u001b[0m \u001b[32m━━━━━━━━━━━━━━━━━━━━\u001b[0m\u001b[37m\u001b[0m \u001b[1m4s\u001b[0m 343us/step - accuracy: 1.1908e-05 - loss: 4.5629\n",
      "Epoch 15/100\n",
      "\u001b[1m11265/11265\u001b[0m \u001b[32m━━━━━━━━━━━━━━━━━━━━\u001b[0m\u001b[37m\u001b[0m \u001b[1m4s\u001b[0m 344us/step - accuracy: 1.6633e-06 - loss: 4.8291\n",
      "Epoch 16/100\n",
      "\u001b[1m11265/11265\u001b[0m \u001b[32m━━━━━━━━━━━━━━━━━━━━\u001b[0m\u001b[37m\u001b[0m \u001b[1m4s\u001b[0m 357us/step - accuracy: 1.3975e-05 - loss: 4.5567\n",
      "Epoch 17/100\n",
      "\u001b[1m11265/11265\u001b[0m \u001b[32m━━━━━━━━━━━━━━━━━━━━\u001b[0m\u001b[37m\u001b[0m \u001b[1m4s\u001b[0m 357us/step - accuracy: 1.2884e-06 - loss: 4.6322\n",
      "Epoch 18/100\n",
      "\u001b[1m11265/11265\u001b[0m \u001b[32m━━━━━━━━━━━━━━━━━━━━\u001b[0m\u001b[37m\u001b[0m \u001b[1m4s\u001b[0m 355us/step - accuracy: 6.9506e-06 - loss: 4.5431\n",
      "Epoch 19/100\n",
      "\u001b[1m11265/11265\u001b[0m \u001b[32m━━━━━━━━━━━━━━━━━━━━\u001b[0m\u001b[37m\u001b[0m \u001b[1m4s\u001b[0m 356us/step - accuracy: 2.7948e-06 - loss: 4.5659\n",
      "Epoch 20/100\n",
      "\u001b[1m11265/11265\u001b[0m \u001b[32m━━━━━━━━━━━━━━━━━━━━\u001b[0m\u001b[37m\u001b[0m \u001b[1m4s\u001b[0m 354us/step - accuracy: 1.3957e-06 - loss: 4.6853\n",
      "Epoch 21/100\n",
      "\u001b[1m11265/11265\u001b[0m \u001b[32m━━━━━━━━━━━━━━━━━━━━\u001b[0m\u001b[37m\u001b[0m \u001b[1m4s\u001b[0m 349us/step - accuracy: 5.9961e-06 - loss: 4.7025\n",
      "Epoch 22/100\n",
      "\u001b[1m11265/11265\u001b[0m \u001b[32m━━━━━━━━━━━━━━━━━━━━\u001b[0m\u001b[37m\u001b[0m \u001b[1m4s\u001b[0m 348us/step - accuracy: 4.1798e-07 - loss: 4.4670\n",
      "Epoch 23/100\n",
      "\u001b[1m11265/11265\u001b[0m \u001b[32m━━━━━━━━━━━━━━━━━━━━\u001b[0m\u001b[37m\u001b[0m \u001b[1m4s\u001b[0m 351us/step - accuracy: 0.0000e+00 - loss: 4.5848\n",
      "Epoch 24/100\n",
      "\u001b[1m11265/11265\u001b[0m \u001b[32m━━━━━━━━━━━━━━━━━━━━\u001b[0m\u001b[37m\u001b[0m \u001b[1m4s\u001b[0m 355us/step - accuracy: 0.0000e+00 - loss: 4.5033\n",
      "Epoch 25/100\n",
      "\u001b[1m11265/11265\u001b[0m \u001b[32m━━━━━━━━━━━━━━━━━━━━\u001b[0m\u001b[37m\u001b[0m \u001b[1m4s\u001b[0m 364us/step - accuracy: 0.0000e+00 - loss: 4.6024\n",
      "Epoch 26/100\n",
      "\u001b[1m11265/11265\u001b[0m \u001b[32m━━━━━━━━━━━━━━━━━━━━\u001b[0m\u001b[37m\u001b[0m \u001b[1m4s\u001b[0m 372us/step - accuracy: 0.0000e+00 - loss: 4.6761\n",
      "Epoch 27/100\n",
      "\u001b[1m11265/11265\u001b[0m \u001b[32m━━━━━━━━━━━━━━━━━━━━\u001b[0m\u001b[37m\u001b[0m \u001b[1m4s\u001b[0m 359us/step - accuracy: 0.0000e+00 - loss: 4.5290\n",
      "Epoch 28/100\n",
      "\u001b[1m11265/11265\u001b[0m \u001b[32m━━━━━━━━━━━━━━━━━━━━\u001b[0m\u001b[37m\u001b[0m \u001b[1m4s\u001b[0m 350us/step - accuracy: 0.0000e+00 - loss: 4.5717\n",
      "Epoch 29/100\n",
      "\u001b[1m11265/11265\u001b[0m \u001b[32m━━━━━━━━━━━━━━━━━━━━\u001b[0m\u001b[37m\u001b[0m \u001b[1m4s\u001b[0m 354us/step - accuracy: 7.7821e-06 - loss: 4.6039\n",
      "Epoch 30/100\n",
      "\u001b[1m11265/11265\u001b[0m \u001b[32m━━━━━━━━━━━━━━━━━━━━\u001b[0m\u001b[37m\u001b[0m \u001b[1m4s\u001b[0m 363us/step - accuracy: 1.2443e-05 - loss: 4.5823\n",
      "Epoch 31/100\n",
      "\u001b[1m11265/11265\u001b[0m \u001b[32m━━━━━━━━━━━━━━━━━━━━\u001b[0m\u001b[37m\u001b[0m \u001b[1m4s\u001b[0m 362us/step - accuracy: 3.0517e-05 - loss: 4.5468\n",
      "Epoch 32/100\n",
      "\u001b[1m11265/11265\u001b[0m \u001b[32m━━━━━━━━━━━━━━━━━━━━\u001b[0m\u001b[37m\u001b[0m \u001b[1m4s\u001b[0m 368us/step - accuracy: 4.7361e-05 - loss: 4.5084\n",
      "Epoch 33/100\n",
      "\u001b[1m11265/11265\u001b[0m \u001b[32m━━━━━━━━━━━━━━━━━━━━\u001b[0m\u001b[37m\u001b[0m \u001b[1m4s\u001b[0m 358us/step - accuracy: 5.9793e-05 - loss: 4.4953\n",
      "Epoch 34/100\n",
      "\u001b[1m11265/11265\u001b[0m \u001b[32m━━━━━━━━━━━━━━━━━━━━\u001b[0m\u001b[37m\u001b[0m \u001b[1m4s\u001b[0m 355us/step - accuracy: 5.4981e-05 - loss: 4.4217\n",
      "Epoch 35/100\n",
      "\u001b[1m11265/11265\u001b[0m \u001b[32m━━━━━━━━━━━━━━━━━━━━\u001b[0m\u001b[37m\u001b[0m \u001b[1m4s\u001b[0m 363us/step - accuracy: 3.8696e-05 - loss: 4.4460\n",
      "Epoch 36/100\n",
      "\u001b[1m11265/11265\u001b[0m \u001b[32m━━━━━━━━━━━━━━━━━━━━\u001b[0m\u001b[37m\u001b[0m \u001b[1m4s\u001b[0m 375us/step - accuracy: 3.2369e-05 - loss: 4.3049\n",
      "Epoch 37/100\n",
      "\u001b[1m11265/11265\u001b[0m \u001b[32m━━━━━━━━━━━━━━━━━━━━\u001b[0m\u001b[37m\u001b[0m \u001b[1m4s\u001b[0m 358us/step - accuracy: 4.2556e-05 - loss: 4.4770\n",
      "Epoch 38/100\n",
      "\u001b[1m11265/11265\u001b[0m \u001b[32m━━━━━━━━━━━━━━━━━━━━\u001b[0m\u001b[37m\u001b[0m \u001b[1m4s\u001b[0m 350us/step - accuracy: 6.8111e-05 - loss: 4.4041\n",
      "Epoch 39/100\n",
      "\u001b[1m11265/11265\u001b[0m \u001b[32m━━━━━━━━━━━━━━━━━━━━\u001b[0m\u001b[37m\u001b[0m \u001b[1m4s\u001b[0m 368us/step - accuracy: 3.9970e-05 - loss: 4.4234\n",
      "Epoch 40/100\n",
      "\u001b[1m11265/11265\u001b[0m \u001b[32m━━━━━━━━━━━━━━━━━━━━\u001b[0m\u001b[37m\u001b[0m \u001b[1m4s\u001b[0m 361us/step - accuracy: 3.4490e-05 - loss: 4.2646\n",
      "Epoch 41/100\n",
      "\u001b[1m11265/11265\u001b[0m \u001b[32m━━━━━━━━━━━━━━━━━━━━\u001b[0m\u001b[37m\u001b[0m \u001b[1m4s\u001b[0m 384us/step - accuracy: 2.0565e-05 - loss: 4.4392\n",
      "Epoch 42/100\n",
      "\u001b[1m11265/11265\u001b[0m \u001b[32m━━━━━━━━━━━━━━━━━━━━\u001b[0m\u001b[37m\u001b[0m \u001b[1m4s\u001b[0m 359us/step - accuracy: 1.4591e-05 - loss: 4.5041\n",
      "Epoch 43/100\n",
      "\u001b[1m11265/11265\u001b[0m \u001b[32m━━━━━━━━━━━━━━━━━━━━\u001b[0m\u001b[37m\u001b[0m \u001b[1m4s\u001b[0m 351us/step - accuracy: 9.2041e-06 - loss: 4.5339\n",
      "Epoch 44/100\n",
      "\u001b[1m11265/11265\u001b[0m \u001b[32m━━━━━━━━━━━━━━━━━━━━\u001b[0m\u001b[37m\u001b[0m \u001b[1m4s\u001b[0m 360us/step - accuracy: 4.1314e-05 - loss: 4.4239\n",
      "Epoch 45/100\n",
      "\u001b[1m11265/11265\u001b[0m \u001b[32m━━━━━━━━━━━━━━━━━━━━\u001b[0m\u001b[37m\u001b[0m \u001b[1m4s\u001b[0m 363us/step - accuracy: 4.1721e-05 - loss: 4.4153\n",
      "Epoch 46/100\n",
      "\u001b[1m11265/11265\u001b[0m \u001b[32m━━━━━━━━━━━━━━━━━━━━\u001b[0m\u001b[37m\u001b[0m \u001b[1m4s\u001b[0m 372us/step - accuracy: 5.3475e-05 - loss: 4.4087\n",
      "Epoch 47/100\n",
      "\u001b[1m11265/11265\u001b[0m \u001b[32m━━━━━━━━━━━━━━━━━━━━\u001b[0m\u001b[37m\u001b[0m \u001b[1m4s\u001b[0m 362us/step - accuracy: 3.3379e-05 - loss: 4.3001\n",
      "Epoch 48/100\n",
      "\u001b[1m11265/11265\u001b[0m \u001b[32m━━━━━━━━━━━━━━━━━━━━\u001b[0m\u001b[37m\u001b[0m \u001b[1m4s\u001b[0m 351us/step - accuracy: 6.3531e-05 - loss: 4.2387\n",
      "Epoch 49/100\n",
      "\u001b[1m11265/11265\u001b[0m \u001b[32m━━━━━━━━━━━━━━━━━━━━\u001b[0m\u001b[37m\u001b[0m \u001b[1m4s\u001b[0m 354us/step - accuracy: 6.4312e-05 - loss: 4.3709\n",
      "Epoch 50/100\n",
      "\u001b[1m11265/11265\u001b[0m \u001b[32m━━━━━━━━━━━━━━━━━━━━\u001b[0m\u001b[37m\u001b[0m \u001b[1m4s\u001b[0m 353us/step - accuracy: 2.3675e-05 - loss: 4.2461\n",
      "Epoch 51/100\n",
      "\u001b[1m11265/11265\u001b[0m \u001b[32m━━━━━━━━━━━━━━━━━━━━\u001b[0m\u001b[37m\u001b[0m \u001b[1m4s\u001b[0m 356us/step - accuracy: 5.2405e-05 - loss: 4.5270\n",
      "Epoch 52/100\n",
      "\u001b[1m11265/11265\u001b[0m \u001b[32m━━━━━━━━━━━━━━━━━━━━\u001b[0m\u001b[37m\u001b[0m \u001b[1m4s\u001b[0m 359us/step - accuracy: 5.2231e-05 - loss: 4.3885\n",
      "Epoch 53/100\n",
      "\u001b[1m11265/11265\u001b[0m \u001b[32m━━━━━━━━━━━━━━━━━━━━\u001b[0m\u001b[37m\u001b[0m \u001b[1m4s\u001b[0m 379us/step - accuracy: 6.7633e-05 - loss: 4.3682\n",
      "Epoch 54/100\n",
      "\u001b[1m11265/11265\u001b[0m \u001b[32m━━━━━━━━━━━━━━━━━━━━\u001b[0m\u001b[37m\u001b[0m \u001b[1m4s\u001b[0m 362us/step - accuracy: 7.3844e-05 - loss: 4.2614\n",
      "Epoch 55/100\n",
      "\u001b[1m11265/11265\u001b[0m \u001b[32m━━━━━━━━━━━━━━━━━━━━\u001b[0m\u001b[37m\u001b[0m \u001b[1m4s\u001b[0m 391us/step - accuracy: 7.7995e-05 - loss: 4.4613\n",
      "Epoch 56/100\n",
      "\u001b[1m11265/11265\u001b[0m \u001b[32m━━━━━━━━━━━━━━━━━━━━\u001b[0m\u001b[37m\u001b[0m \u001b[1m4s\u001b[0m 334us/step - accuracy: 5.4130e-05 - loss: 4.3427\n",
      "Epoch 57/100\n",
      "\u001b[1m11265/11265\u001b[0m \u001b[32m━━━━━━━━━━━━━━━━━━━━\u001b[0m\u001b[37m\u001b[0m \u001b[1m5s\u001b[0m 398us/step - accuracy: 4.4553e-05 - loss: 4.3025\n",
      "Epoch 58/100\n",
      "\u001b[1m11265/11265\u001b[0m \u001b[32m━━━━━━━━━━━━━━━━━━━━\u001b[0m\u001b[37m\u001b[0m \u001b[1m5s\u001b[0m 440us/step - accuracy: 7.4875e-05 - loss: 4.3685\n",
      "Epoch 59/100\n",
      "\u001b[1m11265/11265\u001b[0m \u001b[32m━━━━━━━━━━━━━━━━━━━━\u001b[0m\u001b[37m\u001b[0m \u001b[1m5s\u001b[0m 471us/step - accuracy: 7.4341e-05 - loss: 4.3342\n",
      "Epoch 60/100\n",
      "\u001b[1m11265/11265\u001b[0m \u001b[32m━━━━━━━━━━━━━━━━━━━━\u001b[0m\u001b[37m\u001b[0m \u001b[1m5s\u001b[0m 460us/step - accuracy: 7.7815e-05 - loss: 4.2258\n",
      "Epoch 61/100\n",
      "\u001b[1m11265/11265\u001b[0m \u001b[32m━━━━━━━━━━━━━━━━━━━━\u001b[0m\u001b[37m\u001b[0m \u001b[1m5s\u001b[0m 478us/step - accuracy: 7.7610e-05 - loss: 4.4864\n",
      "Epoch 62/100\n",
      "\u001b[1m11265/11265\u001b[0m \u001b[32m━━━━━━━━━━━━━━━━━━━━\u001b[0m\u001b[37m\u001b[0m \u001b[1m5s\u001b[0m 431us/step - accuracy: 5.2013e-05 - loss: 4.4025\n",
      "Epoch 63/100\n",
      "\u001b[1m11265/11265\u001b[0m \u001b[32m━━━━━━━━━━━━━━━━━━━━\u001b[0m\u001b[37m\u001b[0m \u001b[1m5s\u001b[0m 433us/step - accuracy: 6.8415e-05 - loss: 4.3891\n",
      "Epoch 64/100\n",
      "\u001b[1m11265/11265\u001b[0m \u001b[32m━━━━━━━━━━━━━━━━━━━━\u001b[0m\u001b[37m\u001b[0m \u001b[1m4s\u001b[0m 390us/step - accuracy: 6.0204e-05 - loss: 4.2545\n",
      "Epoch 65/100\n",
      "\u001b[1m11265/11265\u001b[0m \u001b[32m━━━━━━━━━━━━━━━━━━━━\u001b[0m\u001b[37m\u001b[0m \u001b[1m4s\u001b[0m 340us/step - accuracy: 5.5650e-05 - loss: 4.3795\n",
      "Epoch 66/100\n",
      "\u001b[1m11265/11265\u001b[0m \u001b[32m━━━━━━━━━━━━━━━━━━━━\u001b[0m\u001b[37m\u001b[0m \u001b[1m4s\u001b[0m 346us/step - accuracy: 5.4010e-05 - loss: 4.2643\n",
      "Epoch 67/100\n",
      "\u001b[1m11265/11265\u001b[0m \u001b[32m━━━━━━━━━━━━━━━━━━━━\u001b[0m\u001b[37m\u001b[0m \u001b[1m4s\u001b[0m 342us/step - accuracy: 7.3133e-05 - loss: 4.2525\n",
      "Epoch 68/100\n",
      "\u001b[1m11265/11265\u001b[0m \u001b[32m━━━━━━━━━━━━━━━━━━━━\u001b[0m\u001b[37m\u001b[0m \u001b[1m4s\u001b[0m 341us/step - accuracy: 5.5326e-05 - loss: 4.3955\n",
      "Epoch 69/100\n",
      "\u001b[1m11265/11265\u001b[0m \u001b[32m━━━━━━━━━━━━━━━━━━━━\u001b[0m\u001b[37m\u001b[0m \u001b[1m4s\u001b[0m 342us/step - accuracy: 7.4238e-05 - loss: 4.2887\n",
      "Epoch 70/100\n",
      "\u001b[1m11265/11265\u001b[0m \u001b[32m━━━━━━━━━━━━━━━━━━━━\u001b[0m\u001b[37m\u001b[0m \u001b[1m4s\u001b[0m 341us/step - accuracy: 6.4969e-05 - loss: 4.2543\n",
      "Epoch 71/100\n",
      "\u001b[1m11265/11265\u001b[0m \u001b[32m━━━━━━━━━━━━━━━━━━━━\u001b[0m\u001b[37m\u001b[0m \u001b[1m4s\u001b[0m 341us/step - accuracy: 6.8443e-05 - loss: 4.3608\n",
      "Epoch 72/100\n",
      "\u001b[1m11265/11265\u001b[0m \u001b[32m━━━━━━━━━━━━━━━━━━━━\u001b[0m\u001b[37m\u001b[0m \u001b[1m4s\u001b[0m 342us/step - accuracy: 6.8031e-05 - loss: 4.3121\n",
      "Epoch 73/100\n",
      "\u001b[1m11265/11265\u001b[0m \u001b[32m━━━━━━━━━━━━━━━━━━━━\u001b[0m\u001b[37m\u001b[0m \u001b[1m4s\u001b[0m 350us/step - accuracy: 6.5342e-05 - loss: 4.2914\n",
      "Epoch 74/100\n",
      "\u001b[1m11265/11265\u001b[0m \u001b[32m━━━━━━━━━━━━━━━━━━━━\u001b[0m\u001b[37m\u001b[0m \u001b[1m4s\u001b[0m 344us/step - accuracy: 6.6155e-05 - loss: 4.1942\n",
      "Epoch 75/100\n",
      "\u001b[1m11265/11265\u001b[0m \u001b[32m━━━━━━━━━━━━━━━━━━━━\u001b[0m\u001b[37m\u001b[0m \u001b[1m4s\u001b[0m 352us/step - accuracy: 6.2259e-05 - loss: 4.2673\n",
      "Epoch 76/100\n",
      "\u001b[1m11265/11265\u001b[0m \u001b[32m━━━━━━━━━━━━━━━━━━━━\u001b[0m\u001b[37m\u001b[0m \u001b[1m4s\u001b[0m 349us/step - accuracy: 6.1317e-05 - loss: 4.3277\n",
      "Epoch 77/100\n",
      "\u001b[1m11265/11265\u001b[0m \u001b[32m━━━━━━━━━━━━━━━━━━━━\u001b[0m\u001b[37m\u001b[0m \u001b[1m4s\u001b[0m 345us/step - accuracy: 5.3818e-05 - loss: 4.1869\n",
      "Epoch 78/100\n",
      "\u001b[1m11265/11265\u001b[0m \u001b[32m━━━━━━━━━━━━━━━━━━━━\u001b[0m\u001b[37m\u001b[0m \u001b[1m4s\u001b[0m 349us/step - accuracy: 8.3596e-05 - loss: 4.2413\n",
      "Epoch 79/100\n",
      "\u001b[1m11265/11265\u001b[0m \u001b[32m━━━━━━━━━━━━━━━━━━━━\u001b[0m\u001b[37m\u001b[0m \u001b[1m4s\u001b[0m 355us/step - accuracy: 4.9303e-05 - loss: 4.1962\n",
      "Epoch 80/100\n",
      "\u001b[1m11265/11265\u001b[0m \u001b[32m━━━━━━━━━━━━━━━━━━━━\u001b[0m\u001b[37m\u001b[0m \u001b[1m4s\u001b[0m 350us/step - accuracy: 7.3100e-05 - loss: 4.3274\n",
      "Epoch 81/100\n",
      "\u001b[1m11265/11265\u001b[0m \u001b[32m━━━━━━━━━━━━━━━━━━━━\u001b[0m\u001b[37m\u001b[0m \u001b[1m4s\u001b[0m 352us/step - accuracy: 7.7056e-05 - loss: 4.3074\n",
      "Epoch 82/100\n",
      "\u001b[1m11265/11265\u001b[0m \u001b[32m━━━━━━━━━━━━━━━━━━━━\u001b[0m\u001b[37m\u001b[0m \u001b[1m4s\u001b[0m 353us/step - accuracy: 6.1758e-05 - loss: 4.2286\n",
      "Epoch 83/100\n",
      "\u001b[1m11265/11265\u001b[0m \u001b[32m━━━━━━━━━━━━━━━━━━━━\u001b[0m\u001b[37m\u001b[0m \u001b[1m4s\u001b[0m 359us/step - accuracy: 5.8248e-05 - loss: 4.3563\n",
      "Epoch 84/100\n",
      "\u001b[1m11265/11265\u001b[0m \u001b[32m━━━━━━━━━━━━━━━━━━━━\u001b[0m\u001b[37m\u001b[0m \u001b[1m4s\u001b[0m 346us/step - accuracy: 2.8201e-05 - loss: 4.2791\n",
      "Epoch 85/100\n",
      "\u001b[1m11265/11265\u001b[0m \u001b[32m━━━━━━━━━━━━━━━━━━━━\u001b[0m\u001b[37m\u001b[0m \u001b[1m4s\u001b[0m 347us/step - accuracy: 6.1223e-05 - loss: 4.4405\n",
      "Epoch 86/100\n",
      "\u001b[1m11265/11265\u001b[0m \u001b[32m━━━━━━━━━━━━━━━━━━━━\u001b[0m\u001b[37m\u001b[0m \u001b[1m4s\u001b[0m 347us/step - accuracy: 6.0760e-05 - loss: 4.2014\n",
      "Epoch 87/100\n",
      "\u001b[1m11265/11265\u001b[0m \u001b[32m━━━━━━━━━━━━━━━━━━━━\u001b[0m\u001b[37m\u001b[0m \u001b[1m4s\u001b[0m 343us/step - accuracy: 6.1578e-05 - loss: 4.4975\n",
      "Epoch 88/100\n",
      "\u001b[1m11265/11265\u001b[0m \u001b[32m━━━━━━━━━━━━━━━━━━━━\u001b[0m\u001b[37m\u001b[0m \u001b[1m4s\u001b[0m 355us/step - accuracy: 5.5927e-05 - loss: 4.2679\n",
      "Epoch 89/100\n",
      "\u001b[1m11265/11265\u001b[0m \u001b[32m━━━━━━━━━━━━━━━━━━━━\u001b[0m\u001b[37m\u001b[0m \u001b[1m4s\u001b[0m 349us/step - accuracy: 8.3340e-05 - loss: 4.2675\n",
      "Epoch 90/100\n",
      "\u001b[1m11265/11265\u001b[0m \u001b[32m━━━━━━━━━━━━━━━━━━━━\u001b[0m\u001b[37m\u001b[0m \u001b[1m4s\u001b[0m 352us/step - accuracy: 5.6632e-05 - loss: 4.5622\n",
      "Epoch 91/100\n",
      "\u001b[1m11265/11265\u001b[0m \u001b[32m━━━━━━━━━━━━━━━━━━━━\u001b[0m\u001b[37m\u001b[0m \u001b[1m4s\u001b[0m 354us/step - accuracy: 6.2234e-05 - loss: 4.1801\n",
      "Epoch 92/100\n",
      "\u001b[1m11265/11265\u001b[0m \u001b[32m━━━━━━━━━━━━━━━━━━━━\u001b[0m\u001b[37m\u001b[0m \u001b[1m4s\u001b[0m 350us/step - accuracy: 7.9901e-05 - loss: 4.3347\n",
      "Epoch 93/100\n",
      "\u001b[1m11265/11265\u001b[0m \u001b[32m━━━━━━━━━━━━━━━━━━━━\u001b[0m\u001b[37m\u001b[0m \u001b[1m4s\u001b[0m 357us/step - accuracy: 5.8099e-05 - loss: 4.2545\n",
      "Epoch 94/100\n",
      "\u001b[1m11265/11265\u001b[0m \u001b[32m━━━━━━━━━━━━━━━━━━━━\u001b[0m\u001b[37m\u001b[0m \u001b[1m4s\u001b[0m 347us/step - accuracy: 6.1876e-05 - loss: 4.2449\n",
      "Epoch 95/100\n",
      "\u001b[1m11265/11265\u001b[0m \u001b[32m━━━━━━━━━━━━━━━━━━━━\u001b[0m\u001b[37m\u001b[0m \u001b[1m4s\u001b[0m 348us/step - accuracy: 8.3926e-05 - loss: 4.3351\n",
      "Epoch 96/100\n",
      "\u001b[1m11265/11265\u001b[0m \u001b[32m━━━━━━━━━━━━━━━━━━━━\u001b[0m\u001b[37m\u001b[0m \u001b[1m4s\u001b[0m 348us/step - accuracy: 6.9630e-05 - loss: 4.2252\n",
      "Epoch 97/100\n",
      "\u001b[1m11265/11265\u001b[0m \u001b[32m━━━━━━━━━━━━━━━━━━━━\u001b[0m\u001b[37m\u001b[0m \u001b[1m4s\u001b[0m 355us/step - accuracy: 7.1689e-05 - loss: 4.2973\n",
      "Epoch 98/100\n",
      "\u001b[1m11265/11265\u001b[0m \u001b[32m━━━━━━━━━━━━━━━━━━━━\u001b[0m\u001b[37m\u001b[0m \u001b[1m4s\u001b[0m 346us/step - accuracy: 6.4544e-05 - loss: 4.2379\n",
      "Epoch 99/100\n",
      "\u001b[1m11265/11265\u001b[0m \u001b[32m━━━━━━━━━━━━━━━━━━━━\u001b[0m\u001b[37m\u001b[0m \u001b[1m4s\u001b[0m 343us/step - accuracy: 8.6531e-05 - loss: 4.2136\n",
      "Epoch 100/100\n",
      "\u001b[1m11265/11265\u001b[0m \u001b[32m━━━━━━━━━━━━━━━━━━━━\u001b[0m\u001b[37m\u001b[0m \u001b[1m4s\u001b[0m 337us/step - accuracy: 5.4742e-05 - loss: 4.0928\n"
     ]
    },
    {
     "data": {
      "text/plain": [
       "<keras.src.callbacks.history.History at 0x372d1c850>"
      ]
     },
     "execution_count": 145,
     "metadata": {},
     "output_type": "execute_result"
    }
   ],
   "source": [
    "# Uncomment the following if you have already trained the model\n",
    "\n",
    "# initialize the ANN\n",
    "ann = tf.keras.models.Sequential() \n",
    "\n",
    "# adding the input layer and the first hidden layer\n",
    "# units=5, where 5 is the number of neurons in the first input layer\n",
    "ann.add(tf.keras.layers.Dense(units=5, activation='relu'))\n",
    "# adding the second hidden layer\n",
    "ann.add(tf.keras.layers.Dense(units=32, activation='relu'))\n",
    "# adding the third hidden layer\n",
    "ann.add(tf.keras.layers.Dense(units=32, activation='sigmoid'))\n",
    "# adding the output layer, absolute value of the snr\n",
    "ann.add(tf.keras.layers.Dense(units=1, activation='linear'))\n",
    "\n",
    "# compile the ANN\n",
    "ann.compile(optimizer = 'adam', loss = 'mean_squared_error', metrics = ['accuracy'])\n",
    "\n",
    "# train the ANN on the training set\n",
    "ann.fit(X_train, y_train, batch_size = 32, epochs = 100)"
   ]
  },
  {
   "cell_type": "code",
   "execution_count": 146,
   "metadata": {},
   "outputs": [
    {
     "name": "stdout",
     "output_type": "stream",
     "text": [
      "WARNING:absl:You are saving your model as an HDF5 file via `model.save()` or `keras.saving.save_model(model)`. This file format is considered legacy. We recommend using instead the native Keras format, e.g. `model.save('my_model.keras')` or `keras.saving.save_model(model, 'my_model.keras')`. \n"
     ]
    }
   ],
   "source": [
    "# Uncomment the following if you have not trained the model\n",
    "\n",
    "# Save the model to a file\n",
    "ann.save('ann_modelV1_final.h5')\n",
    "modelV1 = ann\n",
    "\n",
    "# # Uncomment the following if you have already generated the model\n",
    "\n",
    "# # load the model\n",
    "# from tensorflow.keras.models import load_model\n",
    "# modelV1 = load_model('ann_modelV1_final.h5')"
   ]
  },
  {
   "cell_type": "markdown",
   "metadata": {},
   "source": [
    "### Test the Model on the test data"
   ]
  },
  {
   "cell_type": "code",
   "execution_count": 147,
   "metadata": {},
   "outputs": [
    {
     "name": "stdout",
     "output_type": "stream",
     "text": [
      "\u001b[1m1252/1252\u001b[0m \u001b[32m━━━━━━━━━━━━━━━━━━━━\u001b[0m\u001b[37m\u001b[0m \u001b[1m0s\u001b[0m 240us/step\n",
      "[[ 2.74133778  2.49808277]\n",
      " [ 5.26034546  4.78553512]\n",
      " [ 3.25269341  2.8022612 ]\n",
      " [ 5.23806095  4.74671099]\n",
      " [ 1.86369276  1.56265661]\n",
      " [ 8.36128235  8.59268207]\n",
      " [ 1.94900537  1.56980042]\n",
      " [ 2.48335981  3.19269323]\n",
      " [ 6.12845612  6.03677146]\n",
      " [ 3.78313708  2.99391856]\n",
      " [ 5.29105759  5.07915485]\n",
      " [13.35671425 13.56670004]\n",
      " [ 4.39101124  4.72982666]\n",
      " [ 0.90243912  0.54252684]\n",
      " [ 4.83383942  4.92850756]]\n"
     ]
    }
   ],
   "source": [
    "# left: predicted snr, right: actual snr\n",
    "y_pred = modelV1.predict(X_test)\n",
    "#y_pred = (y_pred > 0.5)\n",
    "print(np.concatenate((y_pred.reshape(len(y_pred),1), y_test.reshape(len(y_test),1)),1)[10:25])"
   ]
  },
  {
   "cell_type": "code",
   "execution_count": 148,
   "metadata": {},
   "outputs": [
    {
     "name": "stdout",
     "output_type": "stream",
     "text": [
      "Error: 2.11%\n"
     ]
    }
   ],
   "source": [
    "# calculate the error\n",
    "len1 = len(y_pred)\n",
    "len2 = np.sum((y_pred.flatten()>8) != (y_test>8))\n",
    "error = len2/len1*100\n",
    "print(f\"Error: {error:.2f}%\")"
   ]
  },
  {
   "cell_type": "markdown",
   "metadata": {},
   "source": [
    "### Test with astrophysical parameters"
   ]
  },
  {
   "cell_type": "code",
   "execution_count": 149,
   "metadata": {},
   "outputs": [
    {
     "name": "stdout",
     "output_type": "stream",
     "text": [
      "WARNING:absl:Compiled the loaded model, but the compiled metrics have yet to be built. `model.compile_metrics` will be empty until you train or evaluate the model.\n",
      "\u001b[1m1563/1563\u001b[0m \u001b[32m━━━━━━━━━━━━━━━━━━━━\u001b[0m\u001b[37m\u001b[0m \u001b[1m0s\u001b[0m 288us/step\n",
      "[[49952    18]\n",
      " [    4    26]]\n",
      "Accuracy: 99.956%\n"
     ]
    }
   ],
   "source": [
    "# Get the data. This data is generated using `ler` package.\n",
    "unlensed_params = get_param_from_json(\"ler_data/unlensed_param_testing.json\")\n",
    "_,_,_,_,X_,Y_,_ = input_output(np.arange(len(unlensed_params['V1'])), unlensed_params)\n",
    "scalerV1 = pickle.load(open('scalerV1_final.pkl', 'rb'))\n",
    "X_ = scalerV1.transform(X_)\n",
    "\n",
    "modelV1 = load_model('ann_modelV1_final.h5')\n",
    "y_pred_ = modelV1.predict(X_).flatten()\n",
    "y_test_ = Y_\n",
    "cm = confusion_matrix((y_test_>8), ((y_pred_)>8))\n",
    "print(cm)\n",
    "accuracy = accuracy_score((y_test_>8), (y_pred_>8))*100\n",
    "print(f\"Accuracy: {accuracy:.3f}%\")"
   ]
  },
  {
   "cell_type": "markdown",
   "metadata": {},
   "source": [
    "### Error analysis"
   ]
  },
  {
   "cell_type": "code",
   "execution_count": 150,
   "metadata": {},
   "outputs": [
    {
     "name": "stdout",
     "output_type": "stream",
     "text": [
      "slope: -0.0383, intercept: 0.5121\n"
     ]
    }
   ],
   "source": [
    "# Uncomment to create error ajustment\n",
    "\n",
    "# do linear fitting of the error y_pred-y_test\n",
    "def func(x, a, b):\n",
    "    return a*x + b\n",
    "\n",
    "idx = (y_pred_>4) & (y_pred_<10)\n",
    "idx = idx & (y_test_!=0)\n",
    "popt, pcov = curve_fit(func, y_pred_[idx], y_pred_[idx]-y_test_[idx])\n",
    "print(f\"slope: {popt[0]:.4f}, intercept: {popt[1]:.4f}\")\n",
    "\n",
    "adjustment_dict = {'slope': popt[0], 'intercept': popt[1]}\n",
    "# save json\n",
    "save_json('error_adjustmentV1_final.json', adjustment_dict)"
   ]
  },
  {
   "cell_type": "code",
   "execution_count": 151,
   "metadata": {},
   "outputs": [
    {
     "name": "stdout",
     "output_type": "stream",
     "text": [
      "\u001b[1m1563/1563\u001b[0m \u001b[32m━━━━━━━━━━━━━━━━━━━━\u001b[0m\u001b[37m\u001b[0m \u001b[1m0s\u001b[0m 263us/step\n",
      "[[49956    14]\n",
      " [    5    25]]\n",
      "Accuracy (after error ajustment): 99.962%\n"
     ]
    }
   ],
   "source": [
    "# load json\n",
    "adjustment_dict = load_json('error_adjustmentV1_final.json')\n",
    "a = adjustment_dict['slope']\n",
    "b = adjustment_dict['intercept']\n",
    "\n",
    "y_pred_ = modelV1.predict(X_).flatten()\n",
    "y_pred_ = y_pred_-(a*y_pred_ + b)\n",
    "y_test_ = Y_\n",
    "cm = confusion_matrix((y_test_>8), ((y_pred_)>8))\n",
    "print(cm)\n",
    "accuracy = accuracy_score((y_test_>8), (y_pred_>8))*100\n",
    "print(f\"Accuracy (after error ajustment): {accuracy:.3f}%\")"
   ]
  },
  {
   "cell_type": "code",
   "execution_count": null,
   "metadata": {},
   "outputs": [],
   "source": []
  },
  {
   "cell_type": "markdown",
   "metadata": {},
   "source": [
    "### L1, H1, V1, NET"
   ]
  },
  {
   "cell_type": "markdown",
   "metadata": {},
   "source": [
    "### Load the models, scalers and correction functions"
   ]
  },
  {
   "cell_type": "code",
   "execution_count": 152,
   "metadata": {},
   "outputs": [
    {
     "name": "stdout",
     "output_type": "stream",
     "text": [
      "WARNING:absl:Compiled the loaded model, but the compiled metrics have yet to be built. `model.compile_metrics` will be empty until you train or evaluate the model.\n",
      "WARNING:absl:Compiled the loaded model, but the compiled metrics have yet to be built. `model.compile_metrics` will be empty until you train or evaluate the model.\n",
      "WARNING:absl:Compiled the loaded model, but the compiled metrics have yet to be built. `model.compile_metrics` will be empty until you train or evaluate the model.\n"
     ]
    }
   ],
   "source": [
    "# load the ANN models\n",
    "modelL1 = load_model('ann_modelL1_final.h5')\n",
    "modelH1 = load_model('ann_modelH1_final.h5')\n",
    "modelV1 = load_model('ann_modelV1_final.h5')\n",
    "\n",
    "# load the feature scaler\n",
    "scalerL1 = pickle.load(open('scalerL1_final.pkl', 'rb'))\n",
    "scalerH1 = pickle.load(open('scalerH1_final.pkl', 'rb'))\n",
    "scalerV1 = pickle.load(open('scalerV1_final.pkl', 'rb'))\n",
    "\n",
    "# load the correction slope and intercept\n",
    "correctionL1 = load_json('error_adjustmentL1_final.json')\n",
    "correctionH1 = load_json('error_adjustmentH1_final.json')\n",
    "correctionV1 = load_json('error_adjustmentV1_final.json')\n",
    "aL1 = correctionL1['slope']\n",
    "bL1 = correctionL1['intercept']\n",
    "aH1 = correctionH1['slope']\n",
    "bH1 = correctionH1['intercept']\n",
    "aV1 = correctionV1['slope']\n",
    "bV1 = correctionV1['intercept']"
   ]
  },
  {
   "cell_type": "code",
   "execution_count": 153,
   "metadata": {},
   "outputs": [],
   "source": [
    "unlensed_params = get_param_from_json(\"ler_data/unlensed_param_testing.json\")"
   ]
  },
  {
   "cell_type": "code",
   "execution_count": 154,
   "metadata": {},
   "outputs": [],
   "source": [
    "XL1, yL1, XH1, yH1, XV1, yV1, yNET = input_output(np.arange(len(unlensed_params['optimal_snr_net'])), unlensed_params)"
   ]
  },
  {
   "cell_type": "code",
   "execution_count": 155,
   "metadata": {},
   "outputs": [],
   "source": [
    "def predict_snr_net_ANN(XL1, XH1, XV1):\n",
    "    \"\"\"\n",
    "        Function to predict the network SNR using the ANN models\n",
    "\n",
    "        Parameters:\n",
    "        XL1: input data for L1, [snr_half_[0], amp0[0], eta, chi_eff, theta_jn]\n",
    "        XH1: input data for H1, [snr_half_[1], amp0[1], eta, chi_eff, theta_jn]\n",
    "        XV1: input data for V1, [snr_half_[2], amp0[2], eta, chi_eff, theta_jn]\n",
    "\n",
    "        Returns:\n",
    "        y: network SNR\n",
    "    \"\"\"\n",
    "    x = scalerL1.transform(XL1)\n",
    "    yL1 = modelL1.predict(x)\n",
    "    yL1 = yL1 - (aL1*yL1 + bL1)\n",
    "    x = scalerH1.transform(XH1)\n",
    "    yH1 = modelH1.predict(x)\n",
    "    yH1 = yH1 - (aH1*yH1 + bH1)\n",
    "    x = scalerV1.transform(XV1)\n",
    "    yV1 = modelV1.predict(x)\n",
    "    yV1 = yV1 - (aV1*yV1 + bV1)\n",
    "    y = np.sqrt(yL1**2 + yH1**2 + yV1**2)\n",
    "\n",
    "    mass_1 = np.array(unlensed_params['mass_1'])\n",
    "    mass_2 = np.array(unlensed_params['mass_2'])\n",
    "    mtot = mass_1 + mass_2\n",
    "    y[mtot>gwsnr.mtot_max] = 0.\n",
    "\n",
    "    return(y)"
   ]
  },
  {
   "cell_type": "code",
   "execution_count": 156,
   "metadata": {},
   "outputs": [
    {
     "name": "stdout",
     "output_type": "stream",
     "text": [
      "\u001b[1m1563/1563\u001b[0m \u001b[32m━━━━━━━━━━━━━━━━━━━━\u001b[0m\u001b[37m\u001b[0m \u001b[1m0s\u001b[0m 285us/step\n",
      "\u001b[1m1563/1563\u001b[0m \u001b[32m━━━━━━━━━━━━━━━━━━━━\u001b[0m\u001b[37m\u001b[0m \u001b[1m0s\u001b[0m 270us/step\n",
      "\u001b[1m1563/1563\u001b[0m \u001b[32m━━━━━━━━━━━━━━━━━━━━\u001b[0m\u001b[37m\u001b[0m \u001b[1m0s\u001b[0m 262us/step\n"
     ]
    },
    {
     "data": {
      "text/plain": [
       "array([1.3222325, 1.9176006, 1.1828067, ..., 1.2374389, 2.1879537,\n",
       "       1.3156186], dtype=float32)"
      ]
     },
     "execution_count": 156,
     "metadata": {},
     "output_type": "execute_result"
    }
   ],
   "source": [
    "predict_snr_net_ANN(XL1, XH1, XV1).flatten()"
   ]
  },
  {
   "cell_type": "code",
   "execution_count": 157,
   "metadata": {},
   "outputs": [
    {
     "name": "stdout",
     "output_type": "stream",
     "text": [
      "\u001b[1m1563/1563\u001b[0m \u001b[32m━━━━━━━━━━━━━━━━━━━━\u001b[0m\u001b[37m\u001b[0m \u001b[1m0s\u001b[0m 299us/step\n",
      "\u001b[1m1563/1563\u001b[0m \u001b[32m━━━━━━━━━━━━━━━━━━━━\u001b[0m\u001b[37m\u001b[0m \u001b[1m0s\u001b[0m 259us/step\n",
      "\u001b[1m1563/1563\u001b[0m \u001b[32m━━━━━━━━━━━━━━━━━━━━\u001b[0m\u001b[37m\u001b[0m \u001b[1m1s\u001b[0m 478us/step\n",
      "[[4.62136269 4.74315895]\n",
      " [4.31896448 4.41793194]\n",
      " [5.00712204 5.29411108]\n",
      " ...\n",
      " [5.46714211 5.69066226]\n",
      " [4.16106319 3.79827401]\n",
      " [4.21725225 4.43522929]]\n"
     ]
    }
   ],
   "source": [
    "# left: predicted snr, right: actual snr\n",
    "y_pred = predict_snr_net_ANN(XL1, XH1, XV1).flatten()\n",
    "idx = (y_pred>4) & (y_pred<10)\n",
    "y_pred_ = y_pred[idx]\n",
    "y_true_ = yNET[idx]\n",
    "print(np.concatenate((y_pred_.reshape(len(y_pred_),1), y_true_.reshape(len(y_true_),1)),1))"
   ]
  },
  {
   "cell_type": "code",
   "execution_count": 158,
   "metadata": {},
   "outputs": [
    {
     "name": "stdout",
     "output_type": "stream",
     "text": [
      "\u001b[1m1563/1563\u001b[0m \u001b[32m━━━━━━━━━━━━━━━━━━━━\u001b[0m\u001b[37m\u001b[0m \u001b[1m0s\u001b[0m 304us/step\n",
      "\u001b[1m1563/1563\u001b[0m \u001b[32m━━━━━━━━━━━━━━━━━━━━\u001b[0m\u001b[37m\u001b[0m \u001b[1m1s\u001b[0m 642us/step\n",
      "\u001b[1m1563/1563\u001b[0m \u001b[32m━━━━━━━━━━━━━━━━━━━━\u001b[0m\u001b[37m\u001b[0m \u001b[1m0s\u001b[0m 267us/step\n",
      "[[49723    28]\n",
      " [   24   225]]\n",
      "Accuracy: 99.896%\n"
     ]
    }
   ],
   "source": [
    "y_pred_ = predict_snr_net_ANN(XL1, XH1, XV1).flatten()\n",
    "y_test_ = yNET\n",
    "cm = confusion_matrix((y_test_>8), ((y_pred_)>8))\n",
    "print(cm)\n",
    "accuracy = accuracy_score((y_test_>8), (y_pred_>8))*100\n",
    "print(f\"Accuracy: {accuracy:.3f}%\")"
   ]
  },
  {
   "cell_type": "markdown",
   "metadata": {},
   "source": [
    "### Error analysis"
   ]
  },
  {
   "cell_type": "code",
   "execution_count": 122,
   "metadata": {},
   "outputs": [
    {
     "name": "stdout",
     "output_type": "stream",
     "text": [
      "slope: -0.0027, intercept: 0.1292\n"
     ]
    }
   ],
   "source": [
    "# Uncomment to create error ajustment\n",
    "\n",
    "# do linear fitting of the error y_pred-y_test\n",
    "def func(x, a, b):\n",
    "    return a*x + b\n",
    "\n",
    "idx = (y_pred_>4) & (y_pred_<10)\n",
    "idx = idx & (y_test_!=0)\n",
    "popt, pcov = curve_fit(func, y_pred_[idx], y_pred_[idx]-y_test_[idx])\n",
    "print(f\"slope: {popt[0]:.4f}, intercept: {popt[1]:.4f}\")\n",
    "\n",
    "try:\n",
    "    adjustment_dict = load_json('error_adjustment_final.json')\n",
    "except:\n",
    "    adjustment_dict = {}\n",
    "adjustment_dict['L1H1V1'] = {'slope': popt[0], 'intercept': popt[1]}\n",
    "# save json\n",
    "save_json('error_adjustment_final.json', adjustment_dict)"
   ]
  },
  {
   "cell_type": "code",
   "execution_count": 123,
   "metadata": {},
   "outputs": [
    {
     "name": "stdout",
     "output_type": "stream",
     "text": [
      "\u001b[1m1563/1563\u001b[0m \u001b[32m━━━━━━━━━━━━━━━━━━━━\u001b[0m\u001b[37m\u001b[0m \u001b[1m0s\u001b[0m 280us/step\n",
      "\u001b[1m1563/1563\u001b[0m \u001b[32m━━━━━━━━━━━━━━━━━━━━\u001b[0m\u001b[37m\u001b[0m \u001b[1m0s\u001b[0m 238us/step\n",
      "\u001b[1m1563/1563\u001b[0m \u001b[32m━━━━━━━━━━━━━━━━━━━━\u001b[0m\u001b[37m\u001b[0m \u001b[1m0s\u001b[0m 230us/step\n",
      "[[49735    16]\n",
      " [   30   219]]\n",
      "Accuracy (after error ajustment): 99.908%\n"
     ]
    }
   ],
   "source": [
    "# load json\n",
    "adjustment_dict = load_json('error_adjustment_final.json')\n",
    "a = adjustment_dict['L1H1V1']['slope']\n",
    "b = adjustment_dict['L1H1V1']['intercept']\n",
    "\n",
    "y_pred_ = predict_snr_net_ANN(XL1, XH1, XV1).flatten()\n",
    "y_pred_ = y_pred_-(a*y_pred_ + b)\n",
    "y_test_ = yNET\n",
    "cm = confusion_matrix((y_test_>8), ((y_pred_)>8))\n",
    "print(cm)\n",
    "accuracy = accuracy_score((y_test_>8), (y_pred_>8))*100\n",
    "print(f\"Accuracy (after error ajustment): {accuracy:.3f}%\")"
   ]
  },
  {
   "cell_type": "code",
   "execution_count": 124,
   "metadata": {},
   "outputs": [
    {
     "data": {
      "image/png": "[encoded data removed]",
      "text/plain": [
       "<Figure size 400x400 with 1 Axes>"
      ]
     },
     "metadata": {},
     "output_type": "display_data"
    }
   ],
   "source": [
    "idx = (y_pred_>4) & (y_pred_<12)\n",
    "plt.figure(figsize=(4,4))\n",
    "plt.scatter(y_pred_[idx], y_pred_[idx]-y_test_[idx], alpha=0.1)\n",
    "plt.xlabel(\"Predicted SNR\")\n",
    "#plt.xscale(\"log\")\n",
    "plt.xlim(4,10)\n",
    "plt.ylabel(\"Error\")\n",
    "plt.ylim(-5,5)\n",
    "plt.grid(alpha=0.4)\n",
    "plt.show()"
   ]
  },
  {
   "cell_type": "markdown",
   "metadata": {},
   "source": [
    "* The error is confined to $\\text{SNR}_{-3}^{+3}$, near SNR=8."
   ]
  },
  {
   "cell_type": "code",
   "execution_count": 3,
   "metadata": {},
   "outputs": [
    {
     "data": {
      "text/plain": [
       "{'a': 3, 'b': 2, 'c': 4}"
      ]
     },
     "execution_count": 3,
     "metadata": {},
     "output_type": "execute_result"
    }
   ],
   "source": [
    "dict1= {'a': 1, 'b': 2}\n",
    "dict2 = {'a': 3, 'c': 4}\n",
    "dict1.update(dict2)\n",
    "dict1"
   ]
  },
  {
   "cell_type": "code",
   "execution_count": 4,
   "metadata": {},
   "outputs": [
    {
     "data": {
      "text/plain": [
       "True"
      ]
     },
     "execution_count": 4,
     "metadata": {},
     "output_type": "execute_result"
    }
   ],
   "source": [
    "('c' in dict1.keys())"
   ]
  },
  {
   "cell_type": "code",
   "execution_count": null,
   "metadata": {},
   "outputs": [],
   "source": []
  },
  {
   "cell_type": "code",
   "execution_count": 159,
   "metadata": {},
   "outputs": [],
   "source": [
    "ann_path_dict = dict()\n",
    "ann_path_dict['L1'] = dict(\n",
    "    model_path='ann_model_L1_O4.h5', \n",
    "    scaler_path='scaler_L1_O4.pkl', \n",
    "    error_adjustment_path='error_adjustment_L1_O4.json',\n",
    "    sampling_frequency=2048.0, \n",
    "    minimum_frequency=20.0, \n",
    "    waveform_approximant='IMRPhenomXPHM', \n",
    "    snr_th=8.0\n",
    "    )\n",
    "ann_path_dict['H1'] = dict(\n",
    "    model_path='ann_model_H1_O4.h5', \n",
    "    scaler_path='scaler_H1_O4.pkl', \n",
    "    error_adjustment_path='error_adjustment_H1_O4.json',\n",
    "    sampling_frequency=2048.0, \n",
    "    minimum_frequency=20.0, \n",
    "    waveform_approximant='IMRPhenomXPHM', \n",
    "    snr_th=8.0\n",
    "    )\n",
    "ann_path_dict['V1'] = dict(\n",
    "    model_path='ann_model_V1_O4.h5', \n",
    "    scaler_path='scaler_V1_O4.pkl', \n",
    "    error_adjustment_path='error_adjustment_V1_O4.json',\n",
    "    sampling_frequency=2048.0, \n",
    "    minimum_frequency=20.0, \n",
    "    waveform_approximant='IMRPhenomXPHM', \n",
    "    snr_th=8.0\n",
    "    )"
   ]
  },
  {
   "cell_type": "code",
   "execution_count": 160,
   "metadata": {},
   "outputs": [],
   "source": [
    "import json\n",
    "# save json\n",
    "with open('../gwsnr/ann/ann_path_dict.json', 'w') as f:\n",
    "    json.dump(ann_path_dict, f)"
   ]
  },
  {
   "cell_type": "code",
   "execution_count": 161,
   "metadata": {},
   "outputs": [],
   "source": [
    "! cp ann_modelL1_final.h5 ../gwsnr/ann/ann_model_L1_O4.h5\n",
    "! cp scalerL1_final.pkl ../gwsnr/ann/scaler_L1_O4.pkl\n",
    "! cp ann_modelH1_final.h5 ../gwsnr/ann/ann_model_H1_O4.h5\n",
    "! cp scalerH1_final.pkl ../gwsnr/ann/scaler_H1_O4.pkl\n",
    "! cp ann_modelV1_final.h5 ../gwsnr/ann/ann_model_V1_O4.h5\n",
    "! cp scalerV1_final.pkl ../gwsnr/ann/scaler_V1_O4.pkl\n",
    "! cp error_adjustmentL1_final.json ../gwsnr/ann/error_adjustment_L1_O4.json\n",
    "! cp error_adjustmentH1_final.json ../gwsnr/ann/error_adjustment_H1_O4.json\n",
    "! cp error_adjustmentV1_final.json ../gwsnr/ann/error_adjustment_V1_O4.json"
   ]
  },
  {
   "cell_type": "code",
   "execution_count": null,
   "metadata": {},
   "outputs": [],
   "source": []
  }
 ],
 "metadata": {
  "kernelspec": {
   "display_name": "ler",
   "language": "python",
   "name": "python3"
  },
  "language_info": {
   "codemirror_mode": {
    "name": "ipython",
    "version": 3
   },
   "file_extension": ".py",
   "mimetype": "text/x-python",
   "name": "python",
   "nbconvert_exporter": "python",
   "pygments_lexer": "ipython3",
   "version": "3.10.14"
  }
 },
 "nbformat": 4,
 "nbformat_minor": 2
}
