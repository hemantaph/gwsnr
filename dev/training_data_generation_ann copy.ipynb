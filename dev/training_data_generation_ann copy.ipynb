{
 "cells": [
  {
   "cell_type": "markdown",
   "metadata": {},
   "source": [
    "# Training and testing dataset generation using LeR\n",
    "\n",
    "* `ler` package is used to generate training and testing datasets.\n",
    "\n",
    "* It assumes theoretically or observationally available astrophysical models.\n",
    "\n",
    "* Input parameters for ANN needs all the intrinsic and extrinsic parameters of the source.\n",
    "\n",
    "* Output parameters are the net optimal SNR of the given network of data.\n",
    "\n",
    "* The dataset is tuned to accumulated more points between the SNR range 2-16; with the assumption that SNR threshold cut for detection around 8.\n",
    "\n",
    "* The dataset is generated for the network of 3 detectors, namely, LIGO Hanford, LIGO Livingston, and Virgo.\n",
    "\n",
    "* Waveform model used is IMRPhenomXPHM with spin and precession effects.\n",
    "\n",
    "* ANN needs at-least 100000 samples for training and testing."
   ]
  },
  {
   "cell_type": "code",
   "execution_count": 1,
   "metadata": {},
   "outputs": [
    {
     "name": "stdout",
     "output_type": "stream",
     "text": [
      "Setting multiprocessing start method to 'fork'\n"
     ]
    }
   ],
   "source": [
    "import numpy as np\n",
    "import matplotlib.pyplot as plt\n",
    "import contextlib\n",
    "from ler.rates import LeR\n",
    "from gwsnr import GWSNR\n",
    "from ler.utils import append_json, get_param_from_json"
   ]
  },
  {
   "cell_type": "markdown",
   "metadata": {},
   "source": [
    "## Initialization"
   ]
  },
  {
   "cell_type": "code",
   "execution_count": 2,
   "metadata": {},
   "outputs": [
    {
     "name": "stdout",
     "output_type": "stream",
     "text": [
      "psds not given. Choosing bilby's default psds\n",
      "Intel processor has trouble allocating memory when the data is huge. So, by default for IMRPhenomXPHM, duration_max = 64.0. Otherwise, set to some max value like duration_max = 600.0 (10 mins)\n",
      "\n",
      "Chosen GWSNR initialization parameters:\n",
      "\n",
      "npool:  6\n",
      "snr type:  inner_product\n",
      "waveform approximant:  IMRPhenomXPHM\n",
      "sampling frequency:  2048.0\n",
      "minimum frequency (fmin):  20.0\n",
      "mtot=mass1+mass2\n",
      "min(mtot):  2.0\n",
      "max(mtot) (with the given fmin=20.0): 184.98599853446768\n",
      "detectors:  ['L1', 'H1', 'V1']\n",
      "psds:  [PowerSpectralDensity(psd_file='None', asd_file='/Users/phurailatpamhemantakumar/anaconda3/envs/ler/lib/python3.10/site-packages/bilby/gw/detector/noise_curves/aLIGO_O4_high_asd.txt'), PowerSpectralDensity(psd_file='None', asd_file='/Users/phurailatpamhemantakumar/anaconda3/envs/ler/lib/python3.10/site-packages/bilby/gw/detector/noise_curves/aLIGO_O4_high_asd.txt'), PowerSpectralDensity(psd_file='None', asd_file='/Users/phurailatpamhemantakumar/anaconda3/envs/ler/lib/python3.10/site-packages/bilby/gw/detector/noise_curves/AdV_asd.txt')]\n"
     ]
    }
   ],
   "source": [
    "# find out the redshift of detector horizon\n",
    "gwsnr = GWSNR(\n",
    "    npool=6,\n",
    "    waveform_approximant='IMRPhenomXPHM',\n",
    "    snr_type='inner_product',\n",
    ")"
   ]
  },
  {
   "cell_type": "code",
   "execution_count": 5,
   "metadata": {},
   "outputs": [
    {
     "name": "stderr",
     "output_type": "stream",
     "text": [
      "100%|██████████████████████████████████████████████████████████| 1000/1000 [00:02<00:00, 406.18it/s]\n"
     ]
    },
    {
     "data": {
      "text/plain": [
       "dict_keys(['L1', 'H1', 'V1', 'net'])"
      ]
     },
     "execution_count": 5,
     "metadata": {},
     "output_type": "execute_result"
    }
   ],
   "source": [
    "size = 1000\n",
    "mtot = 184.9*np.ones(1000) \n",
    "q = np.linspace(0.1,1,1000)\n",
    "mass_1 = mtot / (1+q)\n",
    "mass_2 = mtot-mass_1\n",
    "\n",
    "horizons = gwsnr.detector_horizon(\n",
    "    mass_1=mass_1,\n",
    "    mass_2=mass_2,\n",
    "    snr_th=8,\n",
    "    snr_th_net=8,\n",
    ");\n",
    "horizons.keys()"
   ]
  },
  {
   "cell_type": "code",
   "execution_count": 13,
   "metadata": {},
   "outputs": [],
   "source": [
    "# initialize the LeR class\n",
    "ler = LeR(\n",
    "    npool=6,\n",
    "    z_max=10,  # becareful with this value\n",
    "    spin_zero=False,\n",
    "    spin_precession=True,\n",
    "    waveform_approximant='IMRPhenomXPHM',\n",
    "    snr_type='inner_product',\n",
    "    verbose=False,\n",
    ")"
   ]
  },
  {
   "cell_type": "code",
   "execution_count": 14,
   "metadata": {},
   "outputs": [
    {
     "name": "stdout",
     "output_type": "stream",
     "text": [
      "max redshift = 4.562955379405955\n"
     ]
    }
   ],
   "source": [
    "zs = ler.luminosity_distance_to_z(horizons['net'])\n",
    "print(f'max redshift = {max(zs)}')"
   ]
  },
  {
   "cell_type": "code",
   "execution_count": 38,
   "metadata": {},
   "outputs": [],
   "source": [
    "# re-initialize the LeR class with the new max redshift\n",
    "# I will choose a value a liitle bit higher than max(zs)\n",
    "\n",
    "# # Uncomment the following if you want to use the  IMRPhenomXPHM with inner product\n",
    "# ler = LeR(\n",
    "#     npool=6,\n",
    "#     z_max=5,  # becareful with this value\n",
    "#     spin_zero=False,\n",
    "#     spin_precession=True,\n",
    "#     waveform_approximant='IMRPhenomXPHM',\n",
    "#     snr_type='inner_product',\n",
    "#     verbose=False,\n",
    "# )\n",
    "\n",
    "# First I will use the fastest SNR calculator with IMRPhenomD\n",
    "# I will pick parameter points within certain SNR range\n",
    "# For these collected point will recalculate SNR with IMRPhenomXPHM\n",
    "ler = LeR(\n",
    "    npool=6,\n",
    "    z_max=5,  # becareful with this value\n",
    "    spin_zero=False,\n",
    "    spin_precession=True,\n",
    "    waveform_approximant='IMRPhenomD',\n",
    "    snr_type='interpolation',\n",
    "    verbose=False,\n",
    ")"
   ]
  },
  {
   "cell_type": "markdown",
   "metadata": {},
   "source": [
    "## Collection of data at the desired SNR range\n",
    "\n",
    "* The idea is, you need more data points in the parameter space where you want the ANN to be more sensitive."
   ]
  },
  {
   "cell_type": "code",
   "execution_count": null,
   "metadata": {},
   "outputs": [],
   "source": [
    "class ModelGenerator(\n",
    "    \n",
    ")"
   ]
  },
  {
   "cell_type": "code",
   "execution_count": 40,
   "metadata": {},
   "outputs": [
    {
     "name": "stdout",
     "output_type": "stream",
     "text": [
      "Collected number of events: 109\n",
      "Collected number of events: 182\n",
      "Collected number of events: 249\n",
      "Collected number of events: 321\n",
      "Collected number of events: 394\n",
      "Collected number of events: 507\n",
      "Collected number of events: 589\n",
      "Collected number of events: 708\n",
      "Collected number of events: 743\n",
      "Collected number of events: 822\n",
      "Collected number of events: 897\n",
      "Collected number of events: 987\n",
      "Collected number of events: 1028\n"
     ]
    }
   ],
   "source": [
    "# uncomment the following line to generate the data\n",
    "\n",
    "## This is data collection based of each detector SNR range. Later I will generate the data based on combined net SNR.\n",
    "ler.batch_size = 200000\n",
    "\n",
    "len_ = 0\n",
    "size = 1000\n",
    "while len_<size:\n",
    "    with contextlib.redirect_stdout(None):\n",
    "        unlensed_param = ler.unlensed_cbc_statistics(size=ler.batch_size, resume=False)\n",
    "\n",
    "    # SNR for each detector\n",
    "    detectors = [\"L1\", \"H1\", \"V1\"]\n",
    "    for i,det in enumerate(detectors):\n",
    "        snr = np.array(unlensed_param[det])\n",
    "\n",
    "        # setting SNR range\n",
    "        idx1 = np.argwhere(snr<2).flatten()\n",
    "        idx2 = np.argwhere((snr>=2) & (snr<4)).flatten()\n",
    "        idx3 = np.argwhere((snr>=4) & (snr<6)).flatten()\n",
    "        idx4 = np.argwhere((snr>=6) & (snr<8)).flatten()\n",
    "        idx5 = np.argwhere((snr>=8) & (snr<10)).flatten()\n",
    "        idx6 = np.argwhere((snr>=10) & (snr<12)).flatten()\n",
    "        idx7 = np.argwhere((snr>=12) & (snr<14)).flatten()\n",
    "        idx8 = np.argwhere((snr>=14) & (snr<16)).flatten()\n",
    "        idx16 = np.argwhere(snr>=16).flatten()\n",
    "\n",
    "        unlensed_param1 = {}\n",
    "        unlensed_param2 = {}\n",
    "        unlensed_param3 = {}\n",
    "        unlensed_param4 = {}\n",
    "        unlensed_param5 = {}\n",
    "        unlensed_param6 = {}\n",
    "        unlensed_param7 = {}\n",
    "        unlensed_param8 = {}\n",
    "        unlensed_param16 = {}\n",
    "        len_idx16 = len(idx16)\n",
    "\n",
    "        for key, value in unlensed_param.items():\n",
    "            if len(idx1)>len_idx16:\n",
    "                unlensed_param1[key] = value[idx1][:len_idx16]\n",
    "            else:\n",
    "                unlensed_param1[key] = value[idx1]\n",
    "            if len(idx2)>len_idx16:\n",
    "                unlensed_param2[key] = value[idx2][:len_idx16]\n",
    "            else:\n",
    "                unlensed_param2[key] = value[idx2]\n",
    "            if len(idx3)>len_idx16:\n",
    "                unlensed_param3[key] = value[idx3][:len_idx16]\n",
    "            else:\n",
    "                unlensed_param3[key] = value[idx3]\n",
    "            if len(idx4)>len_idx16:\n",
    "                unlensed_param4[key] = value[idx4][:len_idx16]\n",
    "            else:\n",
    "                unlensed_param4[key] = value[idx4]\n",
    "            if len(idx5)>len_idx16:\n",
    "                unlensed_param5[key] = value[idx5][:len_idx16]\n",
    "            else:\n",
    "                unlensed_param5[key] = value[idx5]\n",
    "            if len(idx6)>len_idx16:\n",
    "                unlensed_param6[key] = value[idx6][:len_idx16]\n",
    "            else:\n",
    "                unlensed_param6[key] = value[idx6]\n",
    "            if len(idx7)>len_idx16:\n",
    "                unlensed_param7[key] = value[idx7][:len_idx16]\n",
    "            else:\n",
    "                unlensed_param7[key] = value[idx7]\n",
    "            if len(idx8)>len_idx16:\n",
    "                unlensed_param8[key] = value[idx8][:len_idx16]\n",
    "            else:\n",
    "                unlensed_param8[key] = value[idx8]\n",
    "            unlensed_param16[key] = value[idx16]\n",
    "            \n",
    "            unlensed_param[key] = np.concatenate([unlensed_param1[key], unlensed_param2[key], unlensed_param3[key], unlensed_param4[key], unlensed_param5[key], unlensed_param6[key], unlensed_param7[key], unlensed_param8[key], unlensed_param16[key]])\n",
    "\n",
    "        # save the parameters\n",
    "        append_json(ler.ler_directory+\"/snr_\"+det+\"_IMRPhenomD.json\", unlensed_param, replace=False);\n",
    "\n",
    "    unlensed_params = get_param_from_json(ler.ler_directory+\"/snr_\"+det+\"_IMRPhenomD.json\")\n",
    "    len_ = len(unlensed_params[det])\n",
    "\n",
    "    print(f\"Collected number of events: {len_}\")"
   ]
  },
  {
   "cell_type": "code",
   "execution_count": 47,
   "metadata": {},
   "outputs": [],
   "source": [
    "# get spin\n",
    "unlensed_params = get_param_from_json(ler.ler_directory+\"/snr_\"+det+\"_IMRPhenomD.json\")\n",
    "size = len(unlensed_params['optimal_snr_net'])\n",
    "a_1 = ler.sample_a_1(size)\n",
    "a_2 = ler.sample_a_2(size)\n",
    "phi_12 = ler.sample_phi_12\n",
    "phi_jl = ler.sample_phi_jl\n",
    "tilt_1 = ler.sample_tilt_1\n",
    "tilt_2 = ler.sample_tilt_2\n",
    "\n",
    "unlensed_params"
   ]
  },
  {
   "cell_type": "code",
   "execution_count": 49,
   "metadata": {},
   "outputs": [
    {
     "data": {
      "text/plain": [
       "array([0.72855951, 0.79310741, 0.18454806, ..., 0.36760531, 0.65000473,\n",
       "       0.44887412])"
      ]
     },
     "execution_count": 49,
     "metadata": {},
     "output_type": "execute_result"
    }
   ],
   "source": [
    "a_1"
   ]
  },
  {
   "cell_type": "code",
   "execution_count": null,
   "metadata": {},
   "outputs": [],
   "source": []
  },
  {
   "cell_type": "code",
   "execution_count": 41,
   "metadata": {},
   "outputs": [
    {
     "name": "stdout",
     "output_type": "stream",
     "text": [
      "psds not given. Choosing bilby's default psds\n",
      "Interpolator will be loaded for L1 detector from ./interpolator_pickle/L1/partialSNR_dict_0.pickle\n",
      "Interpolator will be loaded for H1 detector from ./interpolator_pickle/H1/partialSNR_dict_0.pickle\n",
      "Interpolator will be loaded for V1 detector from ./interpolator_pickle/V1/partialSNR_dict_3.pickle\n",
      "\n",
      "Chosen GWSNR initialization parameters:\n",
      "\n",
      "npool:  6\n",
      "snr type:  interpolation\n",
      "waveform approximant:  IMRPhenomD\n",
      "sampling frequency:  2048.0\n",
      "minimum frequency (fmin):  20.0\n",
      "mtot=mass1+mass2\n",
      "min(mtot):  2.0\n",
      "max(mtot) (with the given fmin=20.0): 184.98599853446768\n",
      "detectors:  ['L1', 'H1', 'V1']\n",
      "psds:  [PowerSpectralDensity(psd_file='None', asd_file='/Users/phurailatpamhemantakumar/anaconda3/envs/ler/lib/python3.10/site-packages/bilby/gw/detector/noise_curves/aLIGO_O4_high_asd.txt'), PowerSpectralDensity(psd_file='None', asd_file='/Users/phurailatpamhemantakumar/anaconda3/envs/ler/lib/python3.10/site-packages/bilby/gw/detector/noise_curves/aLIGO_O4_high_asd.txt'), PowerSpectralDensity(psd_file='None', asd_file='/Users/phurailatpamhemantakumar/anaconda3/envs/ler/lib/python3.10/site-packages/bilby/gw/detector/noise_curves/AdV_asd.txt')]\n",
      "min(ratio):  0.1\n",
      "max(ratio):  1.0\n",
      "mtot resolution:  500\n",
      "ratio resolution:  50\n",
      "interpolator directory:  ./interpolator_pickle\n"
     ]
    }
   ],
   "source": [
    "gwsnr = GWSNR(\n",
    "    npool=6,\n",
    ")"
   ]
  },
  {
   "cell_type": "code",
   "execution_count": 42,
   "metadata": {},
   "outputs": [],
   "source": [
    "newsnr = gwsnr.snr(gw_param_dict=unlensed_params)"
   ]
  },
  {
   "cell_type": "code",
   "execution_count": 43,
   "metadata": {},
   "outputs": [
    {
     "data": {
      "text/plain": [
       "(array([  0.,   0.,   0.,   0.,   0., 130.,   0.,   0.,   0.,   0.]),\n",
       " array([-0.5, -0.4, -0.3, -0.2, -0.1,  0. ,  0.1,  0.2,  0.3,  0.4,  0.5]),\n",
       " <BarContainer object of 10 artists>)"
      ]
     },
     "execution_count": 43,
     "metadata": {},
     "output_type": "execute_result"
    },
    {
     "data": {
      "image/png": "[encoded data removed]",
      "text/plain": [
       "<Figure size 640x480 with 1 Axes>"
      ]
     },
     "metadata": {},
     "output_type": "display_data"
    }
   ],
   "source": [
    "idx = (unlensed_params['optimal_snr_net']>6) & (unlensed_params['optimal_snr_net']<10) \n",
    "plt.hist(unlensed_params['optimal_snr_net'][idx]-newsnr['optimal_snr_net'][idx])"
   ]
  },
  {
   "cell_type": "code",
   "execution_count": null,
   "metadata": {},
   "outputs": [],
   "source": []
  },
  {
   "cell_type": "code",
   "execution_count": 2,
   "metadata": {},
   "outputs": [],
   "source": [
    "# ## This is data collection based of 'optimal snr net' range\n",
    "# ler.batch_size = 100000\n",
    "\n",
    "# len_ = 0\n",
    "# while len_<100000:\n",
    "#     with contextlib.redirect_stdout(None):\n",
    "#         unlensed_param = ler.unlensed_cbc_statistics(size=100000, resume=False)\n",
    "#     snr = np.sqrt(unlensed_param[\"L1\"]**2 + unlensed_param[\"H1\"]**2 + unlensed_param[\"V1\"]**2)\n",
    "\n",
    "#     idx = np.argwhere(snr>12).flatten()\n",
    "\n",
    "#     unlensed_param_joint = {}\n",
    "\n",
    "#     len_idx = len(idx)\n",
    "\n",
    "#     for key, value in unlensed_param.items():\n",
    "#         unlensed_param_joint[key] = value[idx]\n",
    "\n",
    "#     append_json(\"joint_optsnr.json\", unlensed_param_joint, replace=False)\n",
    "#     unlensed_params = load_json(\"joint_optsnr.json\")\n",
    "#     len_ = len(np.array(unlensed_params[\"optimal_snr_net\"]))\n",
    "\n",
    "#     print(f\"Number of events: {len_}\")"
   ]
  },
  {
   "cell_type": "code",
   "execution_count": 3,
   "metadata": {},
   "outputs": [],
   "source": [
    "# uncomment the following line to generate the data\n",
    "\n",
    "# This is data collection based of 'optimal snr net' range\n",
    " \n",
    "ler.batch_size = 10000\n",
    "\n",
    "len_ = 0\n",
    "while len_<100000:\n",
    "    with contextlib.redirect_stdout(None):\n",
    "        unlensed_param = ler.unlensed_cbc_statistics(size=ler.batch_size, resume=False)\n",
    "    snr = np.sqrt(unlensed_param[\"L1\"]**2 + unlensed_param[\"H1\"]**2 + unlensed_param[\"V1\"]**2)\n",
    "\n",
    "    idx1 = np.argwhere(snr<2).flatten()\n",
    "    idx2 = np.argwhere((snr>=2) & (snr<4)).flatten()\n",
    "    idx3 = np.argwhere((snr>=4) & (snr<6)).flatten()\n",
    "    idx4 = np.argwhere((snr>=6) & (snr<8)).flatten()\n",
    "    idx5 = np.argwhere((snr>=8) & (snr<10)).flatten()\n",
    "    idx6 = np.argwhere((snr>=10) & (snr<12)).flatten()\n",
    "    idx7 = np.argwhere((snr>=12) & (snr<14)).flatten()\n",
    "    idx8 = np.argwhere((snr>=14) & (snr<16)).flatten()\n",
    "    idx16 = np.argwhere(snr>=16).flatten()\n",
    "\n",
    "    unlensed_param1 = {}\n",
    "    unlensed_param2 = {}\n",
    "    unlensed_param3 = {}\n",
    "    unlensed_param4 = {}\n",
    "    unlensed_param5 = {}\n",
    "    unlensed_param6 = {}\n",
    "    unlensed_param7 = {}\n",
    "    unlensed_param8 = {}\n",
    "    unlensed_param16 = {}\n",
    "    unlensed_param_joint = {}\n",
    "\n",
    "    len_idx16 = len(idx16)\n",
    "\n",
    "    for key, value in unlensed_param.items():\n",
    "        if len(idx1)>len_idx16:\n",
    "            unlensed_param1[key] = value[idx1][:len_idx16]\n",
    "        else:\n",
    "            unlensed_param1[key] = value[idx1]\n",
    "        if len(idx2)>len_idx16:\n",
    "            unlensed_param2[key] = value[idx2][:len_idx16]\n",
    "        else:\n",
    "            unlensed_param2[key] = value[idx2]\n",
    "        if len(idx3)>len_idx16:\n",
    "            unlensed_param3[key] = value[idx3][:len_idx16]\n",
    "        else:\n",
    "            unlensed_param3[key] = value[idx3]\n",
    "        if len(idx4)>len_idx16:\n",
    "            unlensed_param4[key] = value[idx4][:len_idx16]\n",
    "        else:\n",
    "            unlensed_param4[key] = value[idx4]\n",
    "        if len(idx5)>len_idx16:\n",
    "            unlensed_param5[key] = value[idx5][:len_idx16]\n",
    "        else:\n",
    "            unlensed_param5[key] = value[idx5]\n",
    "        if len(idx6)>len_idx16:\n",
    "            unlensed_param6[key] = value[idx6][:len_idx16]\n",
    "        else:\n",
    "            unlensed_param6[key] = value[idx6]\n",
    "        if len(idx7)>len_idx16:\n",
    "            unlensed_param7[key] = value[idx7][:len_idx16]\n",
    "        else:\n",
    "            unlensed_param7[key] = value[idx7]\n",
    "        if len(idx8)>len_idx16:\n",
    "            unlensed_param8[key] = value[idx8][:len_idx16]\n",
    "        else:\n",
    "            unlensed_param8[key] = value[idx8]\n",
    "        unlensed_param16[key] = value[idx16]\n",
    "        unlensed_param_joint[key] = np.concatenate([unlensed_param1[key], unlensed_param2[key], unlensed_param3[key], unlensed_param4[key], unlensed_param5[key], unlensed_param6[key], unlensed_param7[key], unlensed_param8[key], unlensed_param16[key]])\n",
    "\n",
    "    append_json(\"joint_new_optsnr.json\", unlensed_param_joint, replace=False)\n",
    "    unlensed_params = load_json(\"joint_new_optsnr.json\")\n",
    "    len_ = len(np.array(unlensed_params[\"optimal_snr_net\"]))\n",
    "\n",
    "    print(f\"collected number of events: {len_}\")"
   ]
  },
  {
   "cell_type": "code",
   "execution_count": 6,
   "metadata": {},
   "outputs": [],
   "source": [
    "# getting data\n",
    "unlensed_params = get_param_from_json(\"joint_new_optsnr.json\")"
   ]
  },
  {
   "cell_type": "code",
   "execution_count": 7,
   "metadata": {},
   "outputs": [
    {
     "data": {
      "text/plain": [
       "dict_keys(['zs', 'geocent_time', 'ra', 'dec', 'phase', 'psi', 'theta_jn', 'a_1', 'a_2', 'tilt_1', 'tilt_2', 'phi_12', 'phi_jl', 'luminosity_distance', 'mass_1_source', 'mass_2_source', 'mass_1', 'mass_2', 'L1', 'H1', 'V1', 'optimal_snr_net'])"
      ]
     },
     "execution_count": 7,
     "metadata": {},
     "output_type": "execute_result"
    }
   ],
   "source": [
    "# checking the keys\n",
    "unlensed_params.keys()"
   ]
  },
  {
   "cell_type": "code",
   "execution_count": 8,
   "metadata": {},
   "outputs": [
    {
     "data": {
      "text/plain": [
       "100007"
      ]
     },
     "execution_count": 8,
     "metadata": {},
     "output_type": "execute_result"
    }
   ],
   "source": [
    "# checking the length of the data\n",
    "len(np.array(unlensed_params[\"optimal_snr_net\"]))"
   ]
  },
  {
   "cell_type": "code",
   "execution_count": 9,
   "metadata": {},
   "outputs": [
    {
     "data": {
      "image/png": "[encoded data removed]",
      "text/plain": [
       "<Figure size 640x480 with 1 Axes>"
      ]
     },
     "metadata": {},
     "output_type": "display_data"
    }
   ],
   "source": [
    "# plotting the SNR distribution (net)\n",
    "test = np.array(unlensed_params[\"optimal_snr_net\"])\n",
    "test = test[test<30]\n",
    "plt.hist(test, bins=30, color='k', density=True)\n",
    "plt.xlabel(\"SNR\")\n",
    "plt.ylabel(\"Density\")\n",
    "plt.title(\"SNR distribution\")\n",
    "#plt.xlim(0, 100)\n",
    "plt.show()\n"
   ]
  },
  {
   "cell_type": "code",
   "execution_count": 10,
   "metadata": {},
   "outputs": [
    {
     "data": {
      "image/png": "[encoded data removed]",
      "text/plain": [
       "<Figure size 640x480 with 1 Axes>"
      ]
     },
     "metadata": {},
     "output_type": "display_data"
    }
   ],
   "source": [
    "# plotting the SNR distribution (L1 detector)\n",
    "test = np.array(unlensed_params[\"L1\"])\n",
    "test = test[test<30]\n",
    "plt.hist(test, bins=30, color='k', density=True)\n",
    "plt.xlabel(\"SNR\")\n",
    "plt.ylabel(\"Density\")\n",
    "plt.title(\"SNR distribution\")\n",
    "#plt.xlim(0, 100)\n",
    "plt.show()"
   ]
  },
  {
   "cell_type": "code",
   "execution_count": 11,
   "metadata": {},
   "outputs": [
    {
     "data": {
      "image/png": "[encoded data removed]",
      "text/plain": [
       "<Figure size 640x480 with 1 Axes>"
      ]
     },
     "metadata": {},
     "output_type": "display_data"
    }
   ],
   "source": [
    "# plotting the SNR distribution (H1 detector)\n",
    "test = np.array(unlensed_params[\"H1\"])\n",
    "test = test[test<30]\n",
    "plt.hist(test, bins=30, color='k', density=True)\n",
    "plt.xlabel(\"SNR\")\n",
    "plt.ylabel(\"Density\")\n",
    "plt.title(\"SNR distribution\")\n",
    "#plt.xlim(0, 100)\n",
    "plt.show()"
   ]
  },
  {
   "cell_type": "code",
   "execution_count": 12,
   "metadata": {},
   "outputs": [
    {
     "data": {
      "image/png": "[encoded data removed]",
      "text/plain": [
       "<Figure size 640x480 with 1 Axes>"
      ]
     },
     "metadata": {},
     "output_type": "display_data"
    }
   ],
   "source": [
    "# plotting the SNR distribution (V1 detector)\n",
    "test = np.array(unlensed_params[\"V1\"])\n",
    "test = test[test<20]\n",
    "plt.hist(test, bins=30, color='k', density=True)\n",
    "plt.xlabel(\"SNR\")\n",
    "plt.ylabel(\"Density\")\n",
    "plt.title(\"SNR distribution\")\n",
    "#plt.xlim(0, 100)\n",
    "plt.show()"
   ]
  },
  {
   "cell_type": "code",
   "execution_count": null,
   "metadata": {},
   "outputs": [],
   "source": [
    "# spin check"
   ]
  },
  {
   "cell_type": "code",
   "execution_count": null,
   "metadata": {},
   "outputs": [],
   "source": []
  },
  {
   "cell_type": "code",
   "execution_count": null,
   "metadata": {},
   "outputs": [],
   "source": []
  },
  {
   "cell_type": "code",
   "execution_count": null,
   "metadata": {},
   "outputs": [],
   "source": []
  },
  {
   "cell_type": "code",
   "execution_count": null,
   "metadata": {},
   "outputs": [],
   "source": []
  },
  {
   "cell_type": "code",
   "execution_count": null,
   "metadata": {},
   "outputs": [],
   "source": []
  }
 ],
 "metadata": {
  "kernelspec": {
   "display_name": "ler",
   "language": "python",
   "name": "python3"
  },
  "language_info": {
   "codemirror_mode": {
    "name": "ipython",
    "version": 3
   },
   "file_extension": ".py",
   "mimetype": "text/x-python",
   "name": "python",
   "nbconvert_exporter": "python",
   "pygments_lexer": "ipython3",
   "version": "3.10.14"
  }
 },
 "nbformat": 4,
 "nbformat_minor": 2
}
