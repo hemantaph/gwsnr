{
 "cells": [
  {
   "cell_type": "markdown",
   "metadata": {},
   "source": [
    "# ANN model testing"
   ]
  },
  {
   "cell_type": "code",
   "execution_count": 1,
   "metadata": {},
   "outputs": [],
   "source": [
    "from gwsnr import GWSNR"
   ]
  },
  {
   "cell_type": "markdown",
   "metadata": {},
   "source": [
    "## How to call ANN model?"
   ]
  },
  {
   "cell_type": "code",
   "execution_count": 2,
   "metadata": {},
   "outputs": [
    {
     "name": "stdout",
     "output_type": "stream",
     "text": [
      "psds not given. Choosing bilby's default psds\n",
      "You have chosen default ANN model. This model only works for gwsnr default parameters.\n",
      "ANN model will be save and loaded from 'ann_data' directory. To create new model, follow instructions from the 'gwsnr' documentation.\n",
      "Please be patient while the interpolator is generated for partialscaledSNR.\n",
      "Interpolator will be loaded for L1 detector from ./interpolator_pickle/L1/partialSNR_dict_1.pickle\n",
      "Interpolator will be loaded for H1 detector from ./interpolator_pickle/H1/partialSNR_dict_1.pickle\n",
      "Interpolator will be loaded for V1 detector from ./interpolator_pickle/V1/partialSNR_dict_1.pickle\n",
      "\n",
      "Chosen GWSNR initialization parameters:\n",
      "\n",
      "npool:  4\n",
      "snr type:  ann\n",
      "waveform approximant:  IMRPhenomXPHM\n",
      "sampling frequency:  2048.0\n",
      "minimum frequency (fmin):  20.0\n",
      "mtot=mass1+mass2\n",
      "min(mtot):  2.0\n",
      "max(mtot) (with the given fmin=20.0): 184.98599853446768\n",
      "detectors:  ['L1', 'H1', 'V1']\n",
      "psds:  [PowerSpectralDensity(psd_file='None', asd_file='/Users/phurailatpamhemantakumar/anaconda3/envs/ler/lib/python3.10/site-packages/bilby/gw/detector/noise_curves/aLIGO_O4_high_asd.txt'), PowerSpectralDensity(psd_file='None', asd_file='/Users/phurailatpamhemantakumar/anaconda3/envs/ler/lib/python3.10/site-packages/bilby/gw/detector/noise_curves/aLIGO_O4_high_asd.txt'), PowerSpectralDensity(psd_file='None', asd_file='/Users/phurailatpamhemantakumar/anaconda3/envs/ler/lib/python3.10/site-packages/bilby/gw/detector/noise_curves/AdV_asd.txt')]\n"
     ]
    }
   ],
   "source": [
    "# This step also save the ann model in 'ann_data' directory\n",
    "mysnr = GWSNR(snr_type='ann', waveform_approximant='IMRPhenomXPHM')"
   ]
  },
  {
   "cell_type": "code",
   "execution_count": 3,
   "metadata": {},
   "outputs": [
    {
     "name": "stdout",
     "output_type": "stream",
     "text": [
      "Please be patient while the interpolator is generated for partialscaledSNR.\n",
      "Interpolator will be loaded for L1 detector from ./interpolator_pickle/L1/partialSNR_dict_1.pickle\n",
      "Interpolator will be loaded for H1 detector from ./interpolator_pickle/H1/partialSNR_dict_1.pickle\n",
      "\n",
      "Chosen GWSNR initialization parameters:\n",
      "\n",
      "npool:  4\n",
      "snr type:  ann\n",
      "waveform approximant:  IMRPhenomXPHM\n",
      "sampling frequency:  2048.0\n",
      "minimum frequency (fmin):  20.0\n",
      "mtot=mass1+mass2\n",
      "min(mtot):  2.0\n",
      "max(mtot) (with the given fmin=20.0): 184.98599853446768\n",
      "detectors:  ['L1', 'H1']\n",
      "psds:  [PowerSpectralDensity(psd_file='None', asd_file='/Users/phurailatpamhemantakumar/anaconda3/envs/ler/lib/python3.10/site-packages/bilby/gw/detector/noise_curves/aLIGO_O4_high_asd.txt'), PowerSpectralDensity(psd_file='None', asd_file='/Users/phurailatpamhemantakumar/anaconda3/envs/ler/lib/python3.10/site-packages/bilby/gw/detector/noise_curves/aLIGO_O4_high_asd.txt')]\n"
     ]
    }
   ],
   "source": [
    "# calling ANN model with path to the model and scaler\n",
    "mysnr = GWSNR(snr_type='ann', waveform_approximant='IMRPhenomXPHM', ifos=['L1', 'H1'], ann_path_dict=dict(\n",
    "    L1=[\"ann_data/ann_model_L1_O4.h5\", \"ann_data/scaler_L1_O4.pkl\"], \n",
    "    H1=[\"ann_data/ann_model_H1_O4.h5\", \"ann_data/scaler_H1_O4.pkl\"]\n",
    "    )\n",
    ")"
   ]
  },
  {
   "cell_type": "code",
   "execution_count": 4,
   "metadata": {},
   "outputs": [
    {
     "name": "stdout",
     "output_type": "stream",
     "text": [
      "snr_ann= [ 8.04942466  6.67040973 13.3803042   0.        ]\n"
     ]
    },
    {
     "name": "stderr",
     "output_type": "stream",
     "text": [
      "100%|█████████████████████████████████████████████████████████████████| 3/3 [00:03<00:00,  1.08s/it]"
     ]
    },
    {
     "name": "stdout",
     "output_type": "stream",
     "text": [
      "snr_bilby= [ 8.8864286   7.1061227  13.82516844  0.        ]\n"
     ]
    },
    {
     "name": "stderr",
     "output_type": "stream",
     "text": [
      "\n"
     ]
    }
   ],
   "source": [
    "# set the GW parameters\n",
    "import numpy as np\n",
    "\n",
    "mass_1 = np.array([5, 10.,50.,200.])\n",
    "ratio = np.array([1, 0.8,0.5,0.2])\n",
    "luminosity_distance = np.array([1000, 2000, 3000, 4000])\n",
    "a_1 = np.array([0.1, 0.2, 0.3, 0.4])\n",
    "a_2 = np.array([0.1, 0.2, 0.3, 0.4])\n",
    "tilt_1 = np.array([0.1, 0.2, 0.3, 0.4])\n",
    "tilt_2 = np.array([0.1, 0.2, 0.3, 0.4])\n",
    "phi_12 = np.array([0.1, 0.2, 0.3, 0.4])\n",
    "phi_jl = np.array([0.1, 0.2, 0.3, 0.4])\n",
    "\n",
    "# looking at the SNRs \n",
    "snr_ann = mysnr.snr_with_ann(mass_1=mass_1, mass_2=mass_1*ratio, luminosity_distance=luminosity_distance, a_1=a_1, a_2=a_2, tilt_1=tilt_1, tilt_2=tilt_2, phi_12=phi_12, phi_jl=phi_jl)\n",
    "print(\"snr_ann=\", snr_ann[\"optimal_snr_net\"])\n",
    "\n",
    "# looking at the inner product SNRs\n",
    "snr_bilby = mysnr.compute_bilby_snr(mass_1=mass_1, mass_2=mass_1*ratio, luminosity_distance=luminosity_distance, a_1=a_1, a_2=a_2, tilt_1=tilt_1, tilt_2=tilt_2, phi_12=phi_12, phi_jl=phi_jl)\n",
    "print(\"snr_bilby=\", snr_bilby[\"optimal_snr_net\"])"
   ]
  },
  {
   "cell_type": "markdown",
   "metadata": {},
   "source": [
    "## ANN SNR with simulated events"
   ]
  },
  {
   "cell_type": "code",
   "execution_count": 35,
   "metadata": {},
   "outputs": [],
   "source": [
    "# generating new data\n",
    "from ler.rates import LeR\n",
    "from ler.utils import load_json\n",
    "ler = LeR(verbose=False, snr_type='inner_product',waveform_approximant=\"IMRPhenomXPHM\", spin_zero=False, spin_precession=True)"
   ]
  },
  {
   "cell_type": "code",
   "execution_count": 36,
   "metadata": {},
   "outputs": [],
   "source": [
    "## Uncomment to generate new data if not already generated\n",
    "# size = 50000\n",
    "# ler.unlensed_cbc_statistics(size=size);"
   ]
  },
  {
   "cell_type": "code",
   "execution_count": 37,
   "metadata": {},
   "outputs": [],
   "source": [
    "unlensed_params = load_json(\"ler_data/unlensed_param.json\")"
   ]
  },
  {
   "cell_type": "code",
   "execution_count": 38,
   "metadata": {},
   "outputs": [
    {
     "name": "stdout",
     "output_type": "stream",
     "text": [
      "psds not given. Choosing bilby's default psds\n",
      "You have chosen default ANN model. This model only works for gwsnr default parameters.\n",
      "ANN model will be save and loaded from 'ann_data' directory. To create new model, follow instructions from the 'gwsnr' documentation.\n",
      "Please be patient while the interpolator is generated for partialscaledSNR.\n",
      "Interpolator will be loaded for L1 detector from ./interpolator_pickle/L1/partialSNR_dict_1.pickle\n",
      "Interpolator will be loaded for H1 detector from ./interpolator_pickle/H1/partialSNR_dict_1.pickle\n",
      "Interpolator will be loaded for V1 detector from ./interpolator_pickle/V1/partialSNR_dict_1.pickle\n",
      "\n",
      "Chosen GWSNR initialization parameters:\n",
      "\n",
      "npool:  4\n",
      "snr type:  ann\n",
      "waveform approximant:  IMRPhenomXPHM\n",
      "sampling frequency:  2048.0\n",
      "minimum frequency (fmin):  20.0\n",
      "mtot=mass1+mass2\n",
      "min(mtot):  2.0\n",
      "max(mtot) (with the given fmin=20.0): 184.98599853446768\n",
      "detectors:  ['L1', 'H1', 'V1']\n",
      "psds:  [PowerSpectralDensity(psd_file='None', asd_file='/Users/phurailatpamhemantakumar/anaconda3/envs/ler/lib/python3.10/site-packages/bilby/gw/detector/noise_curves/aLIGO_O4_high_asd.txt'), PowerSpectralDensity(psd_file='None', asd_file='/Users/phurailatpamhemantakumar/anaconda3/envs/ler/lib/python3.10/site-packages/bilby/gw/detector/noise_curves/aLIGO_O4_high_asd.txt'), PowerSpectralDensity(psd_file='None', asd_file='/Users/phurailatpamhemantakumar/anaconda3/envs/ler/lib/python3.10/site-packages/bilby/gw/detector/noise_curves/AdV_asd.txt')]\n"
     ]
    }
   ],
   "source": [
    "mysnr = GWSNR(snr_type='ann', waveform_approximant='IMRPhenomXPHM')"
   ]
  },
  {
   "cell_type": "code",
   "execution_count": 39,
   "metadata": {},
   "outputs": [],
   "source": [
    "# since I have initialized the GWSNR with ann, I can use the snr calculator attribute\n",
    "snr_ann = mysnr.snr(gw_param_dict=unlensed_params)\n",
    "y_pred = snr_ann[\"optimal_snr_net\"]"
   ]
  },
  {
   "cell_type": "code",
   "execution_count": 40,
   "metadata": {},
   "outputs": [],
   "source": [
    "import numpy as np\n",
    "y_test = np.array(unlensed_params[\"optimal_snr_net\"])"
   ]
  },
  {
   "cell_type": "code",
   "execution_count": 41,
   "metadata": {},
   "outputs": [
    {
     "name": "stdout",
     "output_type": "stream",
     "text": [
      "[[7.46213177 7.87638468]\n",
      " [4.03365765 4.1337412 ]\n",
      " [5.67737589 5.75722924]\n",
      " [4.01018016 4.16869439]\n",
      " [5.11765596 5.44286642]\n",
      " [4.36348863 4.48120252]\n",
      " [4.83514751 4.80380386]\n",
      " [4.84640989 4.87048237]\n",
      " [4.02808384 4.18957226]\n",
      " [4.02084864 4.33679245]\n",
      " [8.37504226 8.04003354]\n",
      " [6.63316513 6.01579406]\n",
      " [5.88570852 5.45421404]\n",
      " [5.06429647 4.77069656]\n",
      " [4.37253951 4.47501782]]\n"
     ]
    }
   ],
   "source": [
    "#y_pred = (y_pred > 0.5)\n",
    "idx = (y_test>4) & (y_pred<12)\n",
    "print(np.concatenate((y_pred.reshape(len(y_pred),1), y_test.reshape(len(y_test),1)),1)[idx][10:25])"
   ]
  },
  {
   "cell_type": "code",
   "execution_count": 42,
   "metadata": {},
   "outputs": [
    {
     "name": "stdout",
     "output_type": "stream",
     "text": [
      "[[49754    20]\n",
      " [   18   208]]\n"
     ]
    },
    {
     "data": {
      "text/plain": [
       "0.99924"
      ]
     },
     "execution_count": 42,
     "metadata": {},
     "output_type": "execute_result"
    }
   ],
   "source": [
    "# for astrophysical sources\n",
    "# but this accuracy can be misleading\n",
    "# most of the sources are at low SNR\n",
    "from sklearn.metrics import confusion_matrix, accuracy_score\n",
    "cm = confusion_matrix((y_test>8), (y_pred>8))\n",
    "print(cm)\n",
    "accuracy_score((y_test>8), (y_pred>8))"
   ]
  },
  {
   "cell_type": "code",
   "execution_count": 44,
   "metadata": {},
   "outputs": [
    {
     "data": {
      "image/png": "[encoded data removed]",
      "text/plain": [
       "<Figure size 400x400 with 1 Axes>"
      ]
     },
     "metadata": {},
     "output_type": "display_data"
    }
   ],
   "source": [
    "# looking correlation between error and snr\n",
    "import matplotlib.pyplot as plt\n",
    "plt.figure(figsize=(4,4))\n",
    "plt.scatter(y_pred, y_test-y_pred, alpha=0.1)\n",
    "plt.xlabel(\"Predicted SNR\")\n",
    "plt.xscale(\"log\")\n",
    "plt.ylabel(\"Error\")\n",
    "plt.grid(alpha=0.4)\n",
    "plt.show()"
   ]
  },
  {
   "cell_type": "markdown",
   "metadata": {},
   "source": [
    "* Increasing number of events in the training set between snr 4 and 12 will improve the performance of the model."
   ]
  },
  {
   "cell_type": "code",
   "execution_count": 46,
   "metadata": {},
   "outputs": [
    {
     "name": "stdout",
     "output_type": "stream",
     "text": [
      "24290\n",
      "25710\n"
     ]
    }
   ],
   "source": [
    "# how many points are below snr=1 and how many are above snr=1\n",
    "print(np.sum(y_pred<1))\n",
    "print(np.sum(y_pred>1))"
   ]
  },
  {
   "cell_type": "code",
   "execution_count": 78,
   "metadata": {},
   "outputs": [
    {
     "name": "stdout",
     "output_type": "stream",
     "text": [
      "[[1271   20]\n",
      " [  18  142]]\n"
     ]
    },
    {
     "data": {
      "text/plain": [
       "0.9738111647139903"
      ]
     },
     "execution_count": 78,
     "metadata": {},
     "output_type": "execute_result"
    }
   ],
   "source": [
    "# Lets check for only SNR around the threshold\n",
    "idx = (y_test>4) & (y_test<12)\n",
    "cm = confusion_matrix((y_test>8)[idx], (y_pred>8)[idx])\n",
    "print(cm)\n",
    "accuracy_score((y_test>8)[idx], (y_pred>8)[idx])"
   ]
  },
  {
   "cell_type": "code",
   "execution_count": 20,
   "metadata": {},
   "outputs": [
    {
     "name": "stdout",
     "output_type": "stream",
     "text": [
      "50000\n",
      "1397\n"
     ]
    },
    {
     "data": {
      "image/png": "[encoded data removed]",
      "text/plain": [
       "<Figure size 400x400 with 1 Axes>"
      ]
     },
     "metadata": {},
     "output_type": "display_data"
    }
   ],
   "source": [
    "import matplotlib.pyplot as plt\n",
    "\n",
    "hist_ = y_pred-y_test\n",
    "print(len(hist_))\n",
    "idx = (y_test>4) & (y_test<10)\n",
    "hist_ = hist_[idx]\n",
    "#hist_ = hist_[abs(hist_)<5.]\n",
    "print(len(hist_))\n",
    "plt.figure(figsize=(4,4)) \n",
    "plt.hist(hist_, bins=30, histtype='step', density=True)\n",
    "plt.xlim(-5,5)\n",
    "plt.xlabel('snr_ann and snr_inner_product difference')\n",
    "plt.ylabel('pdf')\n",
    "plt.grid(alpha=0.4)\n",
    "plt.show()"
   ]
  },
  {
   "cell_type": "markdown",
   "metadata": {},
   "source": [
    "### Allow error bar of -2.5 to 2.5"
   ]
  },
  {
   "cell_type": "code",
   "execution_count": 23,
   "metadata": {},
   "outputs": [],
   "source": [
    "# To allow certain error in the SNR\n",
    "def y_pred_fn(y_pred, y_test, idx, threshold=8, error=2):\n",
    "    y_pred_ = y_pred.copy()\n",
    "    y_test_ = y_test.copy()\n",
    "    idx_ = abs(y_test_-y_pred_)<error\n",
    "    y_pred_[idx_] = y_test_[idx_]\n",
    "    \n",
    "    return (y_pred_>threshold)[idx]"
   ]
  },
  {
   "cell_type": "code",
   "execution_count": 24,
   "metadata": {},
   "outputs": [
    {
     "name": "stdout",
     "output_type": "stream",
     "text": [
      "[[49773     1]\n",
      " [    0   226]]\n"
     ]
    },
    {
     "data": {
      "text/plain": [
       "0.99924"
      ]
     },
     "execution_count": 24,
     "metadata": {},
     "output_type": "execute_result"
    }
   ],
   "source": [
    "# let's allow a error bar of -2.5 to 2.5\n",
    "# idx = (y_test>4) & (y_test<12)\n",
    "idx = np.arange(len(y_test))\n",
    "cm = confusion_matrix((y_test>8)[idx], y_pred_fn(y_pred, y_test, idx, threshold=8, error=2.5))\n",
    "print(cm)\n",
    "accuracy_score((y_test>8)[idx], (y_pred>8)[idx])\n"
   ]
  },
  {
   "cell_type": "markdown",
   "metadata": {},
   "source": [
    "* This is good enough to get the SNR of the signal"
   ]
  },
  {
   "cell_type": "markdown",
   "metadata": {},
   "source": [
    "## BNS"
   ]
  },
  {
   "cell_type": "code",
   "execution_count": 47,
   "metadata": {},
   "outputs": [],
   "source": [
    "# generating new data\n",
    "from ler.rates import LeR\n",
    "ler = LeR(npool=4, event_type = 'BNS', mtot_max=14, z_max = 2.0, verbose=False, snr_type='inner_product', waveform_approximant=\"IMRPhenomXPHM\", spin_zero=False, spin_precession=True)"
   ]
  },
  {
   "cell_type": "code",
   "execution_count": 48,
   "metadata": {},
   "outputs": [],
   "source": [
    "## Uncomment to generate new data if not already generated\n",
    "# size = 50000\n",
    "# unlensed_params = ler.unlensed_cbc_statistics(size=size, output_jsonfile='unlensed_bns_ann_test.json', resume=True)"
   ]
  },
  {
   "cell_type": "code",
   "execution_count": 77,
   "metadata": {},
   "outputs": [
    {
     "name": "stdout",
     "output_type": "stream",
     "text": [
      "psds not given. Choosing bilby's default psds\n",
      "You have chosen default ANN model. This model only works for gwsnr default parameters.\n",
      "ANN model will be save and loaded from 'ann_data' directory. To create new model, follow instructions from the 'gwsnr' documentation.\n",
      "Please be patient while the interpolator is generated for partialscaledSNR.\n",
      "Interpolator will be loaded for L1 detector from ./interpolator_pickle/L1/partialSNR_dict_4.pickle\n",
      "Interpolator will be loaded for H1 detector from ./interpolator_pickle/H1/partialSNR_dict_4.pickle\n",
      "Interpolator will be loaded for V1 detector from ./interpolator_pickle/V1/partialSNR_dict_4.pickle\n",
      "\n",
      "Chosen GWSNR initialization parameters:\n",
      "\n",
      "npool:  4\n",
      "snr type:  ann\n",
      "waveform approximant:  IMRPhenomXPHM\n",
      "sampling frequency:  2048.0\n",
      "minimum frequency (fmin):  20.0\n",
      "mtot=mass1+mass2\n",
      "min(mtot):  2.0\n",
      "max(mtot) (with the given fmin=20.0): 14\n",
      "detectors:  ['L1', 'H1', 'V1']\n",
      "psds:  [PowerSpectralDensity(psd_file='None', asd_file='/Users/phurailatpamhemantakumar/anaconda3/envs/ler/lib/python3.10/site-packages/bilby/gw/detector/noise_curves/aLIGO_O4_high_asd.txt'), PowerSpectralDensity(psd_file='None', asd_file='/Users/phurailatpamhemantakumar/anaconda3/envs/ler/lib/python3.10/site-packages/bilby/gw/detector/noise_curves/aLIGO_O4_high_asd.txt'), PowerSpectralDensity(psd_file='None', asd_file='/Users/phurailatpamhemantakumar/anaconda3/envs/ler/lib/python3.10/site-packages/bilby/gw/detector/noise_curves/AdV_asd.txt')]\n"
     ]
    }
   ],
   "source": [
    "from gwsnr import GWSNR\n",
    "mysnr = GWSNR(snr_type='ann', mtot_max=14, waveform_approximant='IMRPhenomXPHM')"
   ]
  },
  {
   "cell_type": "code",
   "execution_count": 50,
   "metadata": {},
   "outputs": [
    {
     "name": "stdout",
     "output_type": "stream",
     "text": [
      "[[3.54438761 4.21250224]\n",
      " [4.14997507 4.87121279]\n",
      " [7.04572879 8.20531037]\n",
      " [4.98010123 5.8270551 ]\n",
      " [7.20715575 8.33819294]\n",
      " [6.16027853 7.23651706]\n",
      " [8.46576432 9.89793793]\n",
      " [6.45298655 7.49241783]\n",
      " [4.10400597 4.83976967]\n",
      " [4.61853163 5.44790741]\n",
      " [5.51481178 6.48989506]\n",
      " [3.67172505 4.2097633 ]\n",
      " [5.36304907 6.33800808]\n",
      " [3.97159054 4.70775459]\n",
      " [5.04049738 5.93784281]]\n"
     ]
    }
   ],
   "source": [
    "import numpy as np\n",
    "from ler.utils import load_json\n",
    "unlensed_params = load_json(\"ler_data/unlensed_bns_ann_test.json\")\n",
    "y_test = np.array(unlensed_params[\"optimal_snr_net\"])\n",
    "\n",
    "# since I have initialized the GWSNR with ann, I can use the snr calculator attribute\n",
    "snr_ann = mysnr.snr(gw_param_dict=unlensed_params)\n",
    "y_pred = snr_ann[\"optimal_snr_net\"]\n",
    "\n",
    "#y_pred = (y_pred > 0.5)\n",
    "idx = (y_test>4) & (y_pred<12)\n",
    "print(np.concatenate((y_pred.reshape(len(y_pred),1), y_test.reshape(len(y_test),1)),1)[idx][10:25])"
   ]
  },
  {
   "cell_type": "code",
   "execution_count": 53,
   "metadata": {},
   "outputs": [
    {
     "data": {
      "image/png": "[encoded data removed]",
      "text/plain": [
       "<Figure size 400x400 with 1 Axes>"
      ]
     },
     "metadata": {},
     "output_type": "display_data"
    }
   ],
   "source": [
    "# looking correlation between error and snr\n",
    "import matplotlib.pyplot as plt\n",
    "plt.figure(figsize=(4,4))\n",
    "idx = (y_pred>1) & (y_pred<100)\n",
    "plt.scatter(y_pred[idx], (y_test-y_pred)[idx], alpha=0.1)\n",
    "plt.xlabel(\"Predicted SNR\")\n",
    "plt.xscale(\"log\")\n",
    "plt.ylabel(\"Error\")\n",
    "plt.grid(alpha=0.4)\n",
    "plt.show()"
   ]
  },
  {
   "cell_type": "markdown",
   "metadata": {},
   "source": [
    "### let's add a correction factor to the SNR to get the real SNR of the signal"
   ]
  },
  {
   "cell_type": "code",
   "execution_count": 63,
   "metadata": {},
   "outputs": [
    {
     "name": "stdout",
     "output_type": "stream",
     "text": [
      "[0.16765671 0.02430224]\n"
     ]
    }
   ],
   "source": [
    "# linear fit to x=y_pred[idx], y=(y_test-y_pred)[idx]\n",
    "from scipy.optimize import curve_fit\n",
    "def linear_fn(x, a, b):\n",
    "    return a*x+b\n",
    "\n",
    "idx = (y_pred>1) & (y_pred<100)\n",
    "popt, pcov = curve_fit(linear_fn, y_pred[idx], (y_test-y_pred)[idx])\n",
    "print(popt)"
   ]
  },
  {
   "cell_type": "code",
   "execution_count": 74,
   "metadata": {},
   "outputs": [
    {
     "data": {
      "image/png": "[encoded data removed]",
      "text/plain": [
       "<Figure size 400x400 with 1 Axes>"
      ]
     },
     "metadata": {},
     "output_type": "display_data"
    }
   ],
   "source": [
    "import matplotlib.pyplot as plt\n",
    "plt.figure(figsize=(4,4))\n",
    "idx = (y_pred>1) & (y_pred<100)\n",
    "plt.scatter(y_pred[idx], (y_test-y_pred)[idx], alpha=0.1)\n",
    "# plot a*y_pred + b\n",
    "a = 0.16765671\n",
    "b = 0.02430224\n",
    "plt.plot(np.sort(y_pred[idx]), a*np.sort(y_pred[idx])+b, color='red', alpha=0.4, label=\"linear fit\")\n",
    "plt.xlabel(\"Predicted SNR\")\n",
    "#plt.xscale(\"log\")\n",
    "plt.ylabel(\"Error\")\n",
    "plt.grid(alpha=0.4)\n",
    "plt.legend()\n",
    "plt.show()"
   ]
  },
  {
   "cell_type": "markdown",
   "metadata": {},
   "source": [
    "### let's see after applying the correction factor"
   ]
  },
  {
   "cell_type": "code",
   "execution_count": 75,
   "metadata": {},
   "outputs": [],
   "source": [
    "# with correction\n",
    "a = 0.16765671\n",
    "b = 0.02430224\n",
    "y_pred_ = y_pred + a*y_pred + b\n",
    "idx = (y_pred_>1) & (y_pred_<100)"
   ]
  },
  {
   "cell_type": "code",
   "execution_count": 69,
   "metadata": {},
   "outputs": [
    {
     "name": "stdout",
     "output_type": "stream",
     "text": [
      "[[49993     0]\n",
      " [    1     6]]\n"
     ]
    },
    {
     "data": {
      "text/plain": [
       "0.99998"
      ]
     },
     "execution_count": 69,
     "metadata": {},
     "output_type": "execute_result"
    }
   ],
   "source": [
    "idx = np.arange(len(y_test))\n",
    "cm = confusion_matrix((y_test>8)[idx], (y_pred_>8)[idx])\n",
    "print(cm)\n",
    "accuracy_score((y_test>8)[idx], (y_pred_>8)[idx])"
   ]
  },
  {
   "cell_type": "markdown",
   "metadata": {},
   "source": [
    "## Lastly let's plot out the effective spin"
   ]
  },
  {
   "cell_type": "code",
   "execution_count": 79,
   "metadata": {},
   "outputs": [
    {
     "data": {
      "image/png": "[encoded data removed]",
      "text/plain": [
       "<Figure size 400x400 with 1 Axes>"
      ]
     },
     "metadata": {},
     "output_type": "display_data"
    }
   ],
   "source": [
    "mass_1 = np.array(unlensed_params[\"mass_1\"])\n",
    "mass_2 = np.array(unlensed_params[\"mass_2\"])\n",
    "a_1 = np.array(unlensed_params[\"a_1\"])\n",
    "a_2 = np.array(unlensed_params[\"a_2\"])\n",
    "tilt_1 = np.array(unlensed_params[\"tilt_1\"])\n",
    "tilt_2 = np.array(unlensed_params[\"tilt_2\"])\n",
    "\n",
    "# effective spin\n",
    "chi_eff = (mass_1 * a_1 * np.cos(tilt_1) + mass_2 * a_2 * np.cos(tilt_2)) / (mass_1 + mass_2)\n",
    "\n",
    "# hist of chi_eff\n",
    "plt.figure(figsize=(4,4))\n",
    "plt.hist(chi_eff, bins=30, histtype='step', density=True)\n",
    "plt.xlabel(\"chi_eff\")\n",
    "plt.ylabel(\"pdf\")\n",
    "plt.grid(alpha=0.4)\n",
    "plt.show()"
   ]
  },
  {
   "cell_type": "code",
   "execution_count": null,
   "metadata": {},
   "outputs": [],
   "source": []
  },
  {
   "cell_type": "code",
   "execution_count": null,
   "metadata": {},
   "outputs": [],
   "source": []
  },
  {
   "cell_type": "code",
   "execution_count": null,
   "metadata": {},
   "outputs": [],
   "source": []
  },
  {
   "cell_type": "code",
   "execution_count": null,
   "metadata": {},
   "outputs": [],
   "source": []
  },
  {
   "cell_type": "code",
   "execution_count": null,
   "metadata": {},
   "outputs": [],
   "source": []
  },
  {
   "cell_type": "code",
   "execution_count": null,
   "metadata": {},
   "outputs": [],
   "source": []
  }
 ],
 "metadata": {
  "kernelspec": {
   "display_name": "ler",
   "language": "python",
   "name": "python3"
  },
  "language_info": {
   "codemirror_mode": {
    "name": "ipython",
    "version": 3
   },
   "file_extension": ".py",
   "mimetype": "text/x-python",
   "name": "python",
   "nbconvert_exporter": "python",
   "pygments_lexer": "ipython3",
   "version": "3.10.12"
  }
 },
 "nbformat": 4,
 "nbformat_minor": 2
}
