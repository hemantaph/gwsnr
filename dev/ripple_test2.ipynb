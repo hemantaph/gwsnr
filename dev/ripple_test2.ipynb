{
 "cells": [
  {
   "cell_type": "code",
   "execution_count": 1,
   "metadata": {},
   "outputs": [
    {
     "name": "stdout",
     "output_type": "stream",
     "text": [
      "JAX devices: [CpuDevice(id=0)]\n"
     ]
    }
   ],
   "source": [
    "import jax\n",
    "print(\"JAX devices:\", jax.devices())"
   ]
  },
  {
   "cell_type": "code",
   "execution_count": 2,
   "metadata": {},
   "outputs": [],
   "source": [
    "import jax.numpy as jnp\n",
    "import numpy as np\n",
    "\n",
    "#from ripple.waveforms import IMRPhenomD\n",
    "from ripple import ms_to_Mc_eta"
   ]
  },
  {
   "cell_type": "code",
   "execution_count": 3,
   "metadata": {},
   "outputs": [],
   "source": [
    "def select_waveform(waveform_name):\n",
    "    \"\"\"\n",
    "    Imports and returns the specified waveform from ripple.waveforms.\n",
    "\n",
    "    Parameters:\n",
    "    waveform_name (str): The name of the waveform to import.\n",
    "\n",
    "    Returns:\n",
    "    class: The waveform class from ripple.waveforms.\n",
    "    \"\"\"\n",
    "    try:\n",
    "        # Import inside the function\n",
    "        waveform_module = __import__('ripple.waveforms', fromlist=[waveform_name])\n",
    "        mod_ = getattr(waveform_module, waveform_name)\n",
    "        attr_ = \"gen_\"+waveform_name+\"_hphc\"\n",
    "        return getattr(mod_, attr_)\n",
    "    except AttributeError:\n",
    "        raise ValueError(f\"Waveform '{waveform_name}' not found in ripple.waveforms module.\")\n",
    "\n",
    "# Example usage:\n",
    "# waveform = select_waveform(\"IMRPhenomD\")\n"
   ]
  },
  {
   "cell_type": "code",
   "execution_count": 4,
   "metadata": {},
   "outputs": [],
   "source": [
    "waveform_name = \"IMRPhenomD\"\n",
    "waveform_module = __import__('ripple.waveforms', fromlist=[waveform_name])\n",
    "test = getattr(waveform_module, waveform_name)\n",
    "attr = \"gen_\"+waveform_name+\"_hphc\"\n",
    "test2 = getattr(test, attr )"
   ]
  },
  {
   "cell_type": "code",
   "execution_count": 5,
   "metadata": {},
   "outputs": [
    {
     "name": "stdout",
     "output_type": "stream",
     "text": [
      "Object `gen_hphc` not found.\n"
     ]
    }
   ],
   "source": [
    "gen_hphc?"
   ]
  },
  {
   "cell_type": "code",
   "execution_count": 6,
   "metadata": {},
   "outputs": [],
   "source": [
    "gen_hphc = select_waveform('IMRPhenomD')"
   ]
  },
  {
   "cell_type": "code",
   "execution_count": 7,
   "metadata": {},
   "outputs": [],
   "source": [
    "import jax\n",
    "\n",
    "@jax.jit\n",
    "def waveform(fs, theta, f_ref=20):\n",
    "    \n",
    "    hp,hc = [], []\n",
    "    for i in range(theta.shape[0]):\n",
    "\n",
    "        hf = gen_hphc(fs[i], theta[i, :], f_ref)\n",
    "        # hp.append(jnp.sum(hf[0]))\n",
    "        # hc.append(jnp.sum(hf[1]))\n",
    "        hp.append(hf[0])\n",
    "        hc.append(hf[1])\n",
    "\n",
    "    return jnp.array(hp), jnp.array(hc)\n",
    "\n",
    "# def waveform(fs, theta, f_ref=20):\n",
    "    \n",
    "#     hp,hc = [], []\n",
    "#     for i in range(theta.shape[0]):\n",
    "\n",
    "#         hf = gen_hphc(fs[i], theta[i, :], f_ref)\n",
    "#         hp.append(hf[0])\n",
    "#         hc.append(hf[1])\n",
    "\n",
    "#     return np.array(hp), np.array(hc)"
   ]
  },
  {
   "cell_type": "markdown",
   "metadata": {},
   "source": [
    "* let's try vmap"
   ]
  },
  {
   "cell_type": "code",
   "execution_count": 60,
   "metadata": {},
   "outputs": [],
   "source": [
    "@jax.jit\n",
    "def waveform(fs, theta):\n",
    "    f_ref=20\n",
    "    hf = gen_hphc(fs, theta, f_ref)\n",
    "    return hf[0], hf[1]"
   ]
  },
  {
   "cell_type": "code",
   "execution_count": 69,
   "metadata": {},
   "outputs": [],
   "source": [
    "from jax import vmap\n",
    "# use vmap instead of looping\n",
    "vmap_waveform = jax.vmap(waveform)"
   ]
  },
  {
   "cell_type": "code",
   "execution_count": 73,
   "metadata": {},
   "outputs": [],
   "source": [
    "hp, hc = vmap_waveform(fs, theta_ripple)"
   ]
  },
  {
   "cell_type": "code",
   "execution_count": 63,
   "metadata": {},
   "outputs": [
    {
     "data": {
      "text/plain": [
       "((20, 8112), (20, 8112))"
      ]
     },
     "execution_count": 63,
     "metadata": {},
     "output_type": "execute_result"
    }
   ],
   "source": [
    "hp.shape, hc.shape"
   ]
  },
  {
   "cell_type": "code",
   "execution_count": 64,
   "metadata": {},
   "outputs": [],
   "source": [
    "hp, hc = np.array(hp), np.array(hc)"
   ]
  },
  {
   "cell_type": "code",
   "execution_count": 66,
   "metadata": {},
   "outputs": [
    {
     "data": {
      "image/png": "[encoded data removed]",
      "text/plain": [
       "<Figure size 640x480 with 1 Axes>"
      ]
     },
     "metadata": {},
     "output_type": "display_data"
    }
   ],
   "source": [
    "import matplotlib.pyplot as plt\n",
    "# abs(hp[0]), fs\n",
    "plt.plot(fs[10], np.real(hp[10]))\n",
    "plt.show()"
   ]
  },
  {
   "cell_type": "code",
   "execution_count": null,
   "metadata": {},
   "outputs": [],
   "source": []
  },
  {
   "cell_type": "code",
   "execution_count": 33,
   "metadata": {},
   "outputs": [
    {
     "name": "stdout",
     "output_type": "stream",
     "text": [
      "[11. 20. 29.]\n",
      "[[11. 20. 29.]\n",
      " [11. 20. 29.]]\n"
     ]
    }
   ],
   "source": [
    "from jax import vmap\n",
    "\n",
    "x = jnp.arange(5)\n",
    "w = jnp.array([2., 3., 4.])\n",
    "\n",
    "def convolve(x, w):\n",
    "  output = []\n",
    "  for i in range(1, len(x)-1):\n",
    "    output.append(jnp.dot(x[i-1:i+2], w))\n",
    "  return jnp.array(output)\n",
    "\n",
    "print(convolve(x, w))\n",
    "\n",
    "# Suppose we would like to apply this function to a batch of\n",
    "# weights w to a batch of vectors x.\n",
    "xs = jnp.stack([x, x])\n",
    "ws = jnp.stack([w, w])\n",
    "\n",
    "# use vmap instead of looping\n",
    "auto_batch_convolve = vmap(convolve)\n",
    "\n",
    "print(auto_batch_convolve(xs, ws))"
   ]
  },
  {
   "cell_type": "code",
   "execution_count": 38,
   "metadata": {},
   "outputs": [
    {
     "data": {
      "text/plain": [
       "Array([0, 1, 2, 3, 4], dtype=int32)"
      ]
     },
     "execution_count": 38,
     "metadata": {},
     "output_type": "execute_result"
    }
   ],
   "source": []
  },
  {
   "cell_type": "code",
   "execution_count": 37,
   "metadata": {},
   "outputs": [
    {
     "data": {
      "text/plain": [
       "Array([[0, 1, 2, 3, 4],\n",
       "       [0, 1, 2, 3, 4]], dtype=int32)"
      ]
     },
     "execution_count": 37,
     "metadata": {},
     "output_type": "execute_result"
    }
   ],
   "source": []
  },
  {
   "cell_type": "code",
   "execution_count": 68,
   "metadata": {},
   "outputs": [],
   "source": [
    "size_ = 100000\n",
    "m1_msun = 20.0*np.ones(size_) # In solar masses\n",
    "m2_msun = 19.0*np.ones(size_)\n",
    "chi1 = 0.5*np.ones(size_) # Dimensionless spin\n",
    "chi2 = -0.5*np.ones(size_)\n",
    "# lambda1 = 0.0*np.ones(size_) # Dimensionless tidal deformability\n",
    "# lambda2 = 0.0*np.ones(size_) # Dimensionless tidal deformability\n",
    "tc = 0.0*np.ones(size_) # Time of coalescence in seconds\n",
    "phic = 0.0*np.ones(size_) # Time of coalescence\n",
    "dist_mpc = 440*np.ones(size_) # Distance to source in Mpc\n",
    "inclination = 0.0*np.ones(size_) # Inclination Angle\n",
    "\n",
    "Mc, eta = ms_to_Mc_eta(jnp.array([m1_msun, m2_msun]))\n",
    "duration = 4.0*np.ones(size_)\n",
    "del_f = 1.0/duration\n",
    "f_l = 20.0\n",
    "f_u = 2048.0\n",
    "fs = []\n",
    "for df  in del_f:\n",
    "    fs.append(np.arange(f_l, f_u, df))\n",
    "\n",
    "theta_ripple = jnp.array([Mc, eta, chi1, chi2, dist_mpc, tc, phic, inclination]).T"
   ]
  },
  {
   "cell_type": "code",
   "execution_count": 71,
   "metadata": {},
   "outputs": [],
   "source": [
    "fs = jnp.array(fs)"
   ]
  },
  {
   "cell_type": "code",
   "execution_count": 72,
   "metadata": {},
   "outputs": [
    {
     "data": {
      "text/plain": [
       "((100000, 8112), (100000, 8))"
      ]
     },
     "execution_count": 72,
     "metadata": {},
     "output_type": "execute_result"
    }
   ],
   "source": [
    "fs.shape, theta_ripple.shape"
   ]
  },
  {
   "cell_type": "code",
   "execution_count": null,
   "metadata": {},
   "outputs": [],
   "source": []
  },
  {
   "cell_type": "code",
   "execution_count": 59,
   "metadata": {},
   "outputs": [
    {
     "ename": "TypeError",
     "evalue": "waveform() takes 1 positional argument but 2 were given",
     "output_type": "error",
     "traceback": [
      "\u001b[0;31m---------------------------------------------------------------------------\u001b[0m",
      "\u001b[0;31mTypeError\u001b[0m                                 Traceback (most recent call last)",
      "Cell \u001b[0;32mIn[59], line 1\u001b[0m\n\u001b[0;32m----> 1\u001b[0m hp, hc \u001b[38;5;241m=\u001b[39m \u001b[43mwaveform\u001b[49m\u001b[43m(\u001b[49m\u001b[43mfs\u001b[49m\u001b[43m,\u001b[49m\u001b[43m \u001b[49m\u001b[43mtheta_ripple\u001b[49m\u001b[43m)\u001b[49m\n",
      "    \u001b[0;31m[... skipping hidden 10 frame]\u001b[0m\n",
      "File \u001b[0;32m~/anaconda3/envs/ripple1/lib/python3.10/site-packages/jax/_src/linear_util.py:193\u001b[0m, in \u001b[0;36mWrappedFun.call_wrapped\u001b[0;34m(self, *args, **kwargs)\u001b[0m\n\u001b[1;32m    190\u001b[0m gen \u001b[38;5;241m=\u001b[39m gen_static_args \u001b[38;5;241m=\u001b[39m out_store \u001b[38;5;241m=\u001b[39m \u001b[38;5;28;01mNone\u001b[39;00m\n\u001b[1;32m    192\u001b[0m \u001b[38;5;28;01mtry\u001b[39;00m:\n\u001b[0;32m--> 193\u001b[0m   ans \u001b[38;5;241m=\u001b[39m \u001b[38;5;28;43mself\u001b[39;49m\u001b[38;5;241;43m.\u001b[39;49m\u001b[43mf\u001b[49m\u001b[43m(\u001b[49m\u001b[38;5;241;43m*\u001b[39;49m\u001b[43margs\u001b[49m\u001b[43m,\u001b[49m\u001b[43m \u001b[49m\u001b[38;5;241;43m*\u001b[39;49m\u001b[38;5;241;43m*\u001b[39;49m\u001b[38;5;28;43mdict\u001b[39;49m\u001b[43m(\u001b[49m\u001b[38;5;28;43mself\u001b[39;49m\u001b[38;5;241;43m.\u001b[39;49m\u001b[43mparams\u001b[49m\u001b[43m,\u001b[49m\u001b[43m \u001b[49m\u001b[38;5;241;43m*\u001b[39;49m\u001b[38;5;241;43m*\u001b[39;49m\u001b[43mkwargs\u001b[49m\u001b[43m)\u001b[49m\u001b[43m)\u001b[49m\n\u001b[1;32m    194\u001b[0m \u001b[38;5;28;01mexcept\u001b[39;00m:\n\u001b[1;32m    195\u001b[0m   \u001b[38;5;66;03m# Some transformations yield from inside context managers, so we have to\u001b[39;00m\n\u001b[1;32m    196\u001b[0m   \u001b[38;5;66;03m# interrupt them before reraising the exception. Otherwise they will only\u001b[39;00m\n\u001b[1;32m    197\u001b[0m   \u001b[38;5;66;03m# get garbage-collected at some later time, running their cleanup tasks\u001b[39;00m\n\u001b[1;32m    198\u001b[0m   \u001b[38;5;66;03m# only after this exception is handled, which can corrupt the global\u001b[39;00m\n\u001b[1;32m    199\u001b[0m   \u001b[38;5;66;03m# state.\u001b[39;00m\n\u001b[1;32m    200\u001b[0m   \u001b[38;5;28;01mwhile\u001b[39;00m stack:\n",
      "\u001b[0;31mTypeError\u001b[0m: waveform() takes 1 positional argument but 2 were given"
     ]
    }
   ],
   "source": [
    "hp, hc = waveform(fs, theta_ripple)"
   ]
  },
  {
   "cell_type": "code",
   "execution_count": 50,
   "metadata": {},
   "outputs": [
    {
     "data": {
      "image/png": "[encoded data removed]",
      "text/plain": [
       "<Figure size 640x480 with 1 Axes>"
      ]
     },
     "metadata": {},
     "output_type": "display_data"
    }
   ],
   "source": [
    "import matplotlib.pyplot as plt\n",
    "# abs(hp[0]), fs\n",
    "plt.plot(fs[10], np.real(hp[10]))\n",
    "plt.show()"
   ]
  },
  {
   "cell_type": "code",
   "execution_count": null,
   "metadata": {},
   "outputs": [],
   "source": []
  },
  {
   "cell_type": "code",
   "execution_count": null,
   "metadata": {},
   "outputs": [],
   "source": []
  },
  {
   "cell_type": "code",
   "execution_count": null,
   "metadata": {},
   "outputs": [],
   "source": [
    "## Create the function\n",
    "def compute_ripple_snr(\n",
    "    mass_1=10,\n",
    "    mass_2=10,\n",
    "    luminosity_distance=100.0,\n",
    "    theta_jn=0.0,\n",
    "    psi=0.0,\n",
    "    phase=0.0,\n",
    "    geocent_time=1246527224.169434,\n",
    "    ra=0.0,\n",
    "    dec=0.0,\n",
    "    a_1=0.0,\n",
    "    a_2=0.0,\n",
    "    tilt_1=0.0,\n",
    "    tilt_2=0.0,\n",
    "    phi_12=0.0,\n",
    "    phi_jl=0.0,\n",
    "    gw_param_dict=False,\n",
    "    output_jsonfile=False,\n",
    "):\n",
    "    \"\"\"\n",
    "    \"\"\"\n",
    "\n",
    "    # if gw_param_dict is given, then use that\n",
    "    if gw_param_dict is not False:\n",
    "        mass_1 = gw_param_dict[\"mass_1\"]\n",
    "        mass_2 = gw_param_dict[\"mass_2\"]\n",
    "        luminosity_distance = gw_param_dict[\"luminosity_distance\"]\n",
    "        theta_jn = gw_param_dict[\"theta_jn\"]\n",
    "        psi = gw_param_dict[\"psi\"]\n",
    "        phase = gw_param_dict[\"phase\"]\n",
    "        geocent_time = gw_param_dict[\"geocent_time\"]\n",
    "        ra = gw_param_dict[\"ra\"]\n",
    "        dec = gw_param_dict[\"dec\"]\n",
    "        # a_1, a_2, tilt_1, tilt_2, phi_12, phi_jl exist in the dictionary\n",
    "        # if exists, then use that, else pass\n",
    "        if \"a_1\" and \"a_2\" in gw_param_dict:\n",
    "            a_1 = gw_param_dict[\"a_1\"]\n",
    "            a_2 = gw_param_dict[\"a_2\"]\n",
    "        if \"tilt_1\" and \"tilt_2\" and \"phi_12\" and \"phi_jl\" in gw_param_dict:\n",
    "            tilt_1 = gw_param_dict[\"tilt_1\"]\n",
    "            tilt_2 = gw_param_dict[\"tilt_2\"]\n",
    "            phi_12 = gw_param_dict[\"phi_12\"]\n",
    "            phi_jl = gw_param_dict[\"phi_jl\"]\n",
    "\n",
    "    npool = self.npool\n",
    "    sampling_frequency = self.sampling_frequency\n",
    "    detectors = self.detector_list.copy()\n",
    "    detector_tensor = np.array(self.detector_tensor_list.copy())\n",
    "    approximant = self.waveform_approximant\n",
    "    f_min = self.f_min\n",
    "    num_det = np.arange(len(detectors), dtype=int)\n",
    "\n",
    "    # get the psds for the required detectors\n",
    "    psd_dict = {detectors[i]: self.psds_list[i] for i in num_det}\n",
    "\n",
    "    # reshape(-1) is so that either a float value is given or the input is an numpy array\n",
    "    # make sure all parameters are of same length\n",
    "    mass_1, mass_2 = np.array([mass_1]).reshape(-1), np.array([mass_2]).reshape(-1)\n",
    "    num = len(mass_1)\n",
    "    (\n",
    "        mass_1,\n",
    "        mass_2,\n",
    "        luminosity_distance,\n",
    "        theta_jn,\n",
    "        psi,\n",
    "        phase,\n",
    "        geocent_time,\n",
    "        ra,\n",
    "        dec,\n",
    "        a_1,\n",
    "        a_2,\n",
    "        tilt_1,\n",
    "        tilt_2,\n",
    "        phi_12,\n",
    "        phi_jl,\n",
    "    ) = np.broadcast_arrays(\n",
    "        mass_1,\n",
    "        mass_2,\n",
    "        luminosity_distance,\n",
    "        theta_jn,\n",
    "        psi,\n",
    "        phase,\n",
    "        geocent_time,\n",
    "        ra,\n",
    "        dec,\n",
    "        a_1,\n",
    "        a_2,\n",
    "        tilt_1,\n",
    "        tilt_2,\n",
    "        phi_12,\n",
    "        phi_jl,\n",
    "    )\n",
    "\n",
    "    #################################################\n",
    "    # setting up parameters for JAX multiprocessing #\n",
    "    #################################################\n",
    "    mtot = mass_1 + mass_2\n",
    "    idx = (mtot >= self.mtot_min) & (mtot <= self.mtot_max)\n",
    "    # size1 = np.sum(idx)\n",
    "\n",
    "    # IMPORTANT: time duration calculation for each of the mass combination\n",
    "    safety = 1.2\n",
    "    approx_duration = safety * findchirp_chirptime(mass_1[idx], mass_2[idx], f_min)\n",
    "    duration = np.ceil(approx_duration + 2.0)\n",
    "    if self.duration_max:\n",
    "        duration[duration > self.duration_max] = self.duration_max  # IMRPheonomXPHM has maximum duration of 371s\n",
    "\n",
    "    # setting up the input arguments \n",
    "    Mc, eta = ms_to_Mc_eta(jnp.array([mass_1[idx], mass_2[idx]]))\n",
    "    del_f = 1.0/duration\n",
    "    fs = []\n",
    "    for df  in del_f:\n",
    "        fs.append(np.arange(f_l, f_u, df))\n",
    "\n",
    "    input_arguments = jnp.array(\n",
    "        [\n",
    "            Mc,\n",
    "            eta,\n",
    "            a_1[idx],\n",
    "            a_2[idx],\n",
    "            luminosity_distance[idx],\n",
    "            geocent_time[idx],\n",
    "            phase[idx],\n",
    "            theta_jn[idx],\n",
    "        ],\n",
    "    ).T\n",
    "\n",
    "Mc, eta = ms_to_Mc_eta(jnp.array([m1_msun, m2_msun]))\n",
    "duration = 4.0*np.ones(size_)\n",
    "\n",
    "\n",
    "    hp, hc = waveform(input_arguments)"
   ]
  },
  {
   "cell_type": "code",
   "execution_count": 50,
   "metadata": {},
   "outputs": [],
   "source": [
    "Gamma = 0.5772156649015329\n",
    "Pi = np.pi\n",
    "MTSUN_SI = 4.925491025543576e-06\n",
    "\n",
    "@jax.jit\n",
    "def findchirp_chirptime(m1, m2, fmin=20.0):\n",
    "    \"\"\"\n",
    "    Time taken from f_min to f_lso (last stable orbit). 3.5PN in fourier phase considered.\n",
    "\n",
    "    Parameters\n",
    "    ----------\n",
    "    m1 : `float`\n",
    "        Mass of the first body in solar masses.\n",
    "    m2 : `float`\n",
    "        Mass of the second body in solar masses.\n",
    "    fmin : `float`\n",
    "        Lower frequency cutoff.\n",
    "\n",
    "    Returns\n",
    "    -------\n",
    "    chirp_time : float\n",
    "        Time taken from f_min to f_lso (last stable orbit frequency).\n",
    "    \"\"\"\n",
    "\n",
    "    # variables used to compute chirp time\n",
    "    m = m1 + m2\n",
    "    eta = m1 * m2 / m / m\n",
    "    c0T = c2T = c3T = c4T = c5T = c6T = c6LogT = c7T = 0.0\n",
    "\n",
    "    c7T = Pi * (\n",
    "        14809.0 * eta * eta / 378.0 - 75703.0 * eta / 756.0 - 15419335.0 / 127008.0\n",
    "    )\n",
    "\n",
    "    c6T = (\n",
    "        Gamma * 6848.0 / 105.0\n",
    "        - 10052469856691.0 / 23471078400.0\n",
    "        + Pi * Pi * 128.0 / 3.0\n",
    "        + eta * (3147553127.0 / 3048192.0 - Pi * Pi * 451.0 / 12.0)\n",
    "        - eta * eta * 15211.0 / 1728.0\n",
    "        + eta * eta * eta * 25565.0 / 1296.0\n",
    "        + eta * eta * eta * 25565.0 / 1296.0\n",
    "        + jnp.log(4.0) * 6848.0 / 105.0\n",
    "    )\n",
    "    c6LogT = 6848.0 / 105.0\n",
    "\n",
    "    c5T = 13.0 * Pi * eta / 3.0 - 7729.0 * Pi / 252.0\n",
    "\n",
    "    c4T = 3058673.0 / 508032.0 + eta * (5429.0 / 504.0 + eta * 617.0 / 72.0)\n",
    "    c3T = -32.0 * Pi / 5.0\n",
    "    c2T = 743.0 / 252.0 + eta * 11.0 / 3.0\n",
    "    c0T = 5.0 * m * MTSUN_SI / (256.0 * eta)\n",
    "\n",
    "    # This is the PN parameter v evaluated at the lower freq. cutoff\n",
    "    xT = jnp.power(Pi * m * MTSUN_SI * fmin, 1.0 / 3.0)\n",
    "    x2T = xT * xT\n",
    "    x3T = xT * x2T\n",
    "    x4T = x2T * x2T\n",
    "    x5T = x2T * x3T\n",
    "    x6T = x3T * x3T\n",
    "    x7T = x3T * x4T\n",
    "    x8T = x4T * x4T\n",
    "\n",
    "    # Computes the chirp time as tC = t(v_low)\n",
    "    # tC = t(v_low) - t(v_upper) would be more\n",
    "    # correct, but the difference is negligble.\n",
    "    return (\n",
    "        c0T\n",
    "        * (\n",
    "            1\n",
    "            + c2T * x2T\n",
    "            + c3T * x3T\n",
    "            + c4T * x4T\n",
    "            + c5T * x5T\n",
    "            + (c6T + c6LogT * jnp.log(xT)) * x6T\n",
    "            + c7T * x7T\n",
    "        )\n",
    "        / x8T\n",
    "    )"
   ]
  },
  {
   "cell_type": "code",
   "execution_count": 51,
   "metadata": {},
   "outputs": [
    {
     "data": {
      "text/plain": [
       "Array([1.8412848, 1.8412848, 1.8412848, ..., 1.8412848, 1.8412848,\n",
       "       1.8412848], dtype=float32)"
      ]
     },
     "execution_count": 51,
     "metadata": {},
     "output_type": "execute_result"
    }
   ],
   "source": [
    "findchirp_chirptime(m1_msun, m2_msun, 20.0)"
   ]
  },
  {
   "cell_type": "code",
   "execution_count": 54,
   "metadata": {},
   "outputs": [],
   "source": [
    "from ripple.waveforms import IMRPhenomD\n",
    "\n",
    "# Get a frequency domain waveform\n",
    "# source parameters\n",
    "\n",
    "m1_msun = 20.0 # In solar masses\n",
    "m2_msun = 19.0\n",
    "chi1 = 0.5 # Dimensionless spin\n",
    "chi2 = -0.5\n",
    "tc = 0.0 # Time of coalescence in seconds\n",
    "phic = 0.0 # Time of coalescence\n",
    "dist_mpc = 440 # Distance to source in Mpc\n",
    "inclination = 0.0 # Inclination Angle\n",
    "\n",
    "# The PhenomD waveform model is parameterized with the chirp mass and symmetric mass ratio\n",
    "Mc, eta = ms_to_Mc_eta(jnp.array([m1_msun, m2_msun]))\n",
    "\n",
    "# These are the parametrs that go into the waveform generator\n",
    "# Note that JAX does not give index errors, so if you pass in the\n",
    "# the wrong array it will behave strangely\n",
    "theta_ripple = jnp.array([Mc, eta, chi1, chi2, dist_mpc, tc, phic, inclination])\n",
    "\n",
    "# Now we need to generate the frequency grid\n",
    "f_l = 24\n",
    "f_u = 512\n",
    "del_f = 0.01\n",
    "fs = jnp.arange(f_l, f_u, del_f)\n",
    "f_ref = f_l\n",
    "\n",
    "# And finally lets generate the waveform!\n",
    "hp_ripple, hc_ripple = IMRPhenomD.gen_IMRPhenomD_hphc(fs, theta_ripple, f_ref)\n",
    "\n",
    "# Note that we have not internally jitted the functions since this would\n",
    "# introduce an annoying overhead each time the user evaluated the function with a different length frequency array\n",
    "# We therefore recommend that the user jit the function themselves to accelerate evaluations. For example:\n",
    "\n",
    "import jax\n",
    "\n",
    "@jax.jit\n",
    "def waveform(theta):\n",
    "    return IMRPhenomD.gen_IMRPhenomD_hphc(fs, theta)"
   ]
  },
  {
   "cell_type": "code",
   "execution_count": 55,
   "metadata": {},
   "outputs": [
    {
     "data": {
      "text/plain": [
       "Array([ 4.3180034e-23+0.0000000e+00j,  4.3049809e-23+3.0538884e-24j,\n",
       "        4.2704521e-23+6.0856099e-24j, ..., -1.4065979e-25+5.8124834e-25j,\n",
       "       -1.4062667e-25+5.8113090e-25j, -1.4058921e-25+5.8101484e-25j],      dtype=complex64)"
      ]
     },
     "execution_count": 55,
     "metadata": {},
     "output_type": "execute_result"
    }
   ],
   "source": [
    "hp_ripple"
   ]
  },
  {
   "cell_type": "code",
   "execution_count": null,
   "metadata": {},
   "outputs": [],
   "source": []
  }
 ],
 "metadata": {
  "kernelspec": {
   "display_name": "ripple1",
   "language": "python",
   "name": "ripple1"
  },
  "language_info": {
   "codemirror_mode": {
    "name": "ipython",
    "version": 3
   },
   "file_extension": ".py",
   "mimetype": "text/x-python",
   "name": "python",
   "nbconvert_exporter": "python",
   "pygments_lexer": "ipython3",
   "version": "3.10.15"
  }
 },
 "nbformat": 4,
 "nbformat_minor": 2
}
