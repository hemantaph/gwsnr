{
 "cells": [
  {
   "cell_type": "code",
   "execution_count": 96,
   "metadata": {},
   "outputs": [],
   "source": [
    "import numpy as np\n",
    "import pandas as pd\n",
    "import tensorflow as tf"
   ]
  },
  {
   "cell_type": "markdown",
   "metadata": {},
   "source": [
    "## Data preprocessing"
   ]
  },
  {
   "cell_type": "code",
   "execution_count": 97,
   "metadata": {},
   "outputs": [],
   "source": [
    "# get data\n",
    "from ler.utils import append_json, load_json\n",
    "import numpy as np\n",
    "unlensed_params = load_json(\"jointnewL1.json\")\n",
    "snr = np.array(unlensed_params['H1'])"
   ]
  },
  {
   "cell_type": "code",
   "execution_count": 98,
   "metadata": {},
   "outputs": [
    {
     "name": "stdout",
     "output_type": "stream",
     "text": [
      "psds not given. Choosing bilby's default psds\n",
      "Interpolator will be loaded for L1 detector from ./interpolator_pickle/L1/halfSNR_dict_0.pickle\n",
      "Interpolator will be loaded for H1 detector from ./interpolator_pickle/H1/halfSNR_dict_0.pickle\n",
      "Interpolator will be loaded for V1 detector from ./interpolator_pickle/V1/halfSNR_dict_0.pickle\n"
     ]
    }
   ],
   "source": [
    "# let's generate IMRPhenomD (spinless) interpolartor\n",
    "from gwsnr import GWSNR\n",
    "gwsnr = GWSNR(gwsnr_verbose=False)"
   ]
  },
  {
   "cell_type": "code",
   "execution_count": 99,
   "metadata": {},
   "outputs": [],
   "source": [
    "from gwsnr import antenna_response_array, cubic_spline_interpolator2d\n",
    "\n",
    "def input_output(idx, params):\n",
    "\n",
    "    det_idx = 1 # H1\n",
    "\n",
    "    mass_1 = np.array(params['mass_1'])[idx]\n",
    "    mass_2 = np.array(params['mass_2'])[idx]\n",
    "    luminosity_distance = np.array(params['luminosity_distance'])[idx]\n",
    "    theta_jn = np.array(params['theta_jn'])[idx]\n",
    "    psi = np.array(params['psi'])[idx]\n",
    "    geocent_time = np.array(params['geocent_time'])[idx]\n",
    "    ra = np.array(params['ra'])[idx]\n",
    "    dec = np.array(params['dec'])[idx]\n",
    "    \n",
    "    detector_tensor = gwsnr.detector_tensor_list\n",
    "    snr_halfscaled = np.array(gwsnr.snr_halfsacaled_list)\n",
    "    ratio_arr = gwsnr.ratio_arr\n",
    "    mtot_arr = gwsnr.mtot_arr\n",
    "    \n",
    "    size = len(mass_1)\n",
    "    len_ = len(detector_tensor)\n",
    "    mtot = mass_1 + mass_2\n",
    "    ratio = mass_2 / mass_1\n",
    "    # get array of antenna response\n",
    "    Fp, Fc = antenna_response_array(ra, dec, geocent_time, psi, detector_tensor)\n",
    "\n",
    "    Mc = ((mass_1 * mass_2) ** (3 / 5)) / ((mass_1 + mass_2) ** (1 / 5))\n",
    "    eta = mass_1 * mass_2/(mass_1 + mass_2)**2.\n",
    "    A1 = Mc ** (5.0 / 6.0)\n",
    "    ci_2 = np.cos(theta_jn) ** 2\n",
    "    ci_param = ((1 + np.cos(theta_jn) ** 2) / 2) ** 2\n",
    "    \n",
    "    size = len(mass_1)\n",
    "    snr_half_ = np.zeros((len_,size))\n",
    "    d_eff = np.zeros((len_,size))\n",
    "\n",
    "    # loop over the detectors\n",
    "    for j in range(len_):\n",
    "        # loop over the parameter points\n",
    "        for i in range(size):\n",
    "            snr_half_coeff = snr_halfscaled[j]\n",
    "            snr_half_[j,i] = cubic_spline_interpolator2d(mtot[i], ratio[i], snr_half_coeff, mtot_arr, ratio_arr)\n",
    "            d_eff[j,i] =luminosity_distance[i] / np.sqrt(\n",
    "                    Fp[j,i]**2 * ci_param[i] + Fc[j,i]**2 * ci_2[i]\n",
    "                )\n",
    "\n",
    "    #amp0\n",
    "    amp0 =  A1 / d_eff\n",
    "\n",
    "    # get spin parameters\n",
    "    a_1 = np.array(params['a_1'])[idx]\n",
    "    a_2 = np.array(params['a_2'])[idx]\n",
    "    tilt_1 = np.array(params['tilt_1'])[idx]\n",
    "    tilt_2 = np.array(params['tilt_2'])[idx]\n",
    "    phi_12 = np.array(params['phi_12'])[idx]\n",
    "    phi_jl = np.array(params['phi_jl'])[idx]\n",
    "\n",
    "    # input data\n",
    "    # X = np.vstack([H1, amp0, Mc, eta, theta_jn, a_1, a_2, tilt_1, tilt_2, phi_12, phi_jl]).T\n",
    "    X = np.vstack([snr_half_[det_idx], amp0[det_idx], eta, a_1, a_2, tilt_1, tilt_2, phi_12, phi_jl]).T\n",
    "\n",
    "    # output data\n",
    "    # get H1 snr for y train \n",
    "    y = snr[idx]\n",
    "\n",
    "    return(X,y)"
   ]
  },
  {
   "cell_type": "code",
   "execution_count": 100,
   "metadata": {},
   "outputs": [
    {
     "data": {
      "text/plain": [
       "dict_keys(['zs', 'geocent_time', 'ra', 'dec', 'phase', 'psi', 'theta_jn', 'a_1', 'a_2', 'tilt_1', 'tilt_2', 'phi_12', 'phi_jl', 'luminosity_distance', 'mass_1_source', 'mass_2_source', 'mass_1', 'mass_2', 'L1', 'H1', 'V1', 'optimal_snr_net'])"
      ]
     },
     "execution_count": 100,
     "metadata": {},
     "output_type": "execute_result"
    }
   ],
   "source": [
    "# training set\n",
    "unlensed_params.keys()"
   ]
  },
  {
   "cell_type": "code",
   "execution_count": 101,
   "metadata": {},
   "outputs": [
    {
     "data": {
      "text/plain": [
       "77240"
      ]
     },
     "execution_count": 101,
     "metadata": {},
     "output_type": "execute_result"
    }
   ],
   "source": [
    "len(snr)"
   ]
  },
  {
   "cell_type": "code",
   "execution_count": 102,
   "metadata": {},
   "outputs": [],
   "source": [
    "# snr_min = 6.\n",
    "# snr_max = 10.\n",
    "# bool_ = (snr>snr_min) & (snr<snr_max) \n",
    "\n",
    "len_ = len(snr)\n",
    "idx = np.arange(len_)\n",
    "# randomize the train set\n",
    "idx = np.random.permutation(idx)"
   ]
  },
  {
   "cell_type": "code",
   "execution_count": 103,
   "metadata": {},
   "outputs": [],
   "source": [
    "X, y = input_output(idx, unlensed_params)"
   ]
  },
  {
   "cell_type": "code",
   "execution_count": 104,
   "metadata": {},
   "outputs": [
    {
     "data": {
      "text/plain": [
       "(77240, 9)"
      ]
     },
     "execution_count": 104,
     "metadata": {},
     "output_type": "execute_result"
    }
   ],
   "source": [
    "np.shape(X)"
   ]
  },
  {
   "cell_type": "code",
   "execution_count": 105,
   "metadata": {},
   "outputs": [
    {
     "data": {
      "image/png": "[encoded data removed]",
      "text/plain": [
       "<Figure size 640x480 with 1 Axes>"
      ]
     },
     "metadata": {},
     "output_type": "display_data"
    }
   ],
   "source": [
    "import matplotlib.pyplot as plt\n",
    "plt.hist(y[y<100], bins=100)\n",
    "plt.xlim(0,20)\n",
    "plt.show()"
   ]
  },
  {
   "cell_type": "markdown",
   "metadata": {},
   "source": [
    "## Now back to ANN"
   ]
  },
  {
   "cell_type": "code",
   "execution_count": 106,
   "metadata": {},
   "outputs": [],
   "source": [
    "from sklearn.model_selection import train_test_split\n",
    "X_train, X_test, y_train, y_test = train_test_split(X, y, test_size = 0.1, random_state = 0)\n"
   ]
  },
  {
   "cell_type": "code",
   "execution_count": 107,
   "metadata": {},
   "outputs": [
    {
     "name": "stdout",
     "output_type": "stream",
     "text": [
      "(69516, 9)\n",
      "(7724, 9)\n"
     ]
    }
   ],
   "source": [
    "print(np.shape(X_train))\n",
    "print(np.shape(X_test))"
   ]
  },
  {
   "cell_type": "code",
   "execution_count": 108,
   "metadata": {},
   "outputs": [],
   "source": [
    "# feature scaling\n",
    "from sklearn.preprocessing import StandardScaler\n",
    "sc = StandardScaler()\n",
    "X_train = sc.fit_transform(X_train)\n",
    "X_test = sc.transform(X_test)"
   ]
  },
  {
   "cell_type": "code",
   "execution_count": 109,
   "metadata": {},
   "outputs": [
    {
     "data": {
      "text/plain": [
       "array([ 0.01003835, -0.11455631,  0.48930554, -1.49948221, -1.14808649,\n",
       "       -1.81209958, -0.47242355, -0.04896956, -0.691467  ])"
      ]
     },
     "execution_count": 109,
     "metadata": {},
     "output_type": "execute_result"
    }
   ],
   "source": [
    "X_train[0]"
   ]
  },
  {
   "cell_type": "code",
   "execution_count": 110,
   "metadata": {},
   "outputs": [],
   "source": [
    "# initialize the ANN\n",
    "ann = tf.keras.models.Sequential() \n",
    "\n",
    "# adding the input layer and the first hidden layer\n",
    "ann.add(tf.keras.layers.Dense(units=9, activation='relu'))\n",
    "# adding the second hidden layer\n",
    "ann.add(tf.keras.layers.Dense(units=32, activation='relu'))\n",
    "# adding the second hidden layer\n",
    "ann.add(tf.keras.layers.Dense(units=32, activation='sigmoid'))\n",
    "# adding the output layer, absolute value of the snr\n",
    "ann.add(tf.keras.layers.Dense(units=1, activation='linear'))\n",
    "#ann.add(tf.keras.layers.Dense(units=1, activation='sigmoid'))"
   ]
  },
  {
   "cell_type": "code",
   "execution_count": 111,
   "metadata": {},
   "outputs": [],
   "source": [
    "# compile the ANN\n",
    "# loss = 'mean_squared_error'\n",
    "ann.compile(optimizer = 'adam', loss = 'mean_squared_error', metrics = ['accuracy'])"
   ]
  },
  {
   "cell_type": "code",
   "execution_count": 112,
   "metadata": {},
   "outputs": [
    {
     "name": "stdout",
     "output_type": "stream",
     "text": [
      "Epoch 1/100\n",
      "696/696 [==============================] - 1s 515us/step - loss: 1531.9812 - accuracy: 0.0015\n",
      "Epoch 2/100\n",
      "696/696 [==============================] - 0s 511us/step - loss: 1505.9036 - accuracy: 0.0011\n",
      "Epoch 3/100\n",
      "696/696 [==============================] - 0s 510us/step - loss: 1494.4955 - accuracy: 0.0011\n",
      "Epoch 4/100\n",
      "696/696 [==============================] - 0s 503us/step - loss: 1489.8462 - accuracy: 0.0020\n",
      "Epoch 5/100\n",
      "696/696 [==============================] - 0s 518us/step - loss: 1486.8680 - accuracy: 0.0028\n",
      "Epoch 6/100\n",
      "696/696 [==============================] - 0s 523us/step - loss: 1484.6304 - accuracy: 0.0031\n",
      "Epoch 7/100\n",
      "696/696 [==============================] - 0s 598us/step - loss: 1482.7827 - accuracy: 0.0036\n",
      "Epoch 8/100\n",
      "696/696 [==============================] - 0s 500us/step - loss: 1481.1390 - accuracy: 0.0038\n",
      "Epoch 9/100\n",
      "696/696 [==============================] - 0s 502us/step - loss: 1479.7390 - accuracy: 0.0038\n",
      "Epoch 10/100\n",
      "696/696 [==============================] - 0s 492us/step - loss: 1478.5377 - accuracy: 0.0038\n",
      "Epoch 11/100\n",
      "696/696 [==============================] - 0s 425us/step - loss: 1477.5012 - accuracy: 0.0041\n",
      "Epoch 12/100\n",
      "696/696 [==============================] - 0s 424us/step - loss: 1476.5175 - accuracy: 0.0041\n",
      "Epoch 13/100\n",
      "696/696 [==============================] - 0s 423us/step - loss: 1475.6188 - accuracy: 0.0042\n",
      "Epoch 14/100\n",
      "696/696 [==============================] - 0s 426us/step - loss: 1474.7363 - accuracy: 0.0040\n",
      "Epoch 15/100\n",
      "696/696 [==============================] - 0s 424us/step - loss: 1473.8994 - accuracy: 0.0042\n",
      "Epoch 16/100\n",
      "696/696 [==============================] - 0s 422us/step - loss: 1473.0361 - accuracy: 0.0042\n",
      "Epoch 17/100\n",
      "696/696 [==============================] - 0s 437us/step - loss: 1472.2186 - accuracy: 0.0041\n",
      "Epoch 18/100\n",
      "696/696 [==============================] - 0s 691us/step - loss: 1471.5210 - accuracy: 0.0042\n",
      "Epoch 19/100\n",
      "696/696 [==============================] - 0s 520us/step - loss: 1470.8854 - accuracy: 0.0040\n",
      "Epoch 20/100\n",
      "696/696 [==============================] - 0s 529us/step - loss: 1470.2402 - accuracy: 0.0044\n",
      "Epoch 21/100\n",
      "696/696 [==============================] - 0s 513us/step - loss: 1469.5775 - accuracy: 0.0041\n",
      "Epoch 22/100\n",
      "696/696 [==============================] - 0s 506us/step - loss: 1468.9529 - accuracy: 0.0043\n",
      "Epoch 23/100\n",
      "696/696 [==============================] - 0s 668us/step - loss: 1468.3582 - accuracy: 0.0040\n",
      "Epoch 24/100\n",
      "696/696 [==============================] - 0s 522us/step - loss: 1467.7220 - accuracy: 0.0044\n",
      "Epoch 25/100\n",
      "696/696 [==============================] - 0s 512us/step - loss: 1467.1399 - accuracy: 0.0041\n",
      "Epoch 26/100\n",
      "696/696 [==============================] - 0s 514us/step - loss: 1466.5863 - accuracy: 0.0043\n",
      "Epoch 27/100\n",
      "696/696 [==============================] - 0s 510us/step - loss: 1466.0033 - accuracy: 0.0043\n",
      "Epoch 28/100\n",
      "696/696 [==============================] - 0s 512us/step - loss: 1465.4509 - accuracy: 0.0042\n",
      "Epoch 29/100\n",
      "696/696 [==============================] - 0s 501us/step - loss: 1464.8721 - accuracy: 0.0043\n",
      "Epoch 30/100\n",
      "696/696 [==============================] - 0s 580us/step - loss: 1464.3358 - accuracy: 0.0043\n",
      "Epoch 31/100\n",
      "696/696 [==============================] - 0s 496us/step - loss: 1463.8535 - accuracy: 0.0043\n",
      "Epoch 32/100\n",
      "696/696 [==============================] - 0s 498us/step - loss: 1463.3251 - accuracy: 0.0044\n",
      "Epoch 33/100\n",
      "696/696 [==============================] - 0s 498us/step - loss: 1462.7744 - accuracy: 0.0044\n",
      "Epoch 34/100\n",
      "696/696 [==============================] - 0s 503us/step - loss: 1462.3004 - accuracy: 0.0042\n",
      "Epoch 35/100\n",
      "696/696 [==============================] - 0s 511us/step - loss: 1461.8232 - accuracy: 0.0044\n",
      "Epoch 36/100\n",
      "696/696 [==============================] - 0s 498us/step - loss: 1461.3336 - accuracy: 0.0046\n",
      "Epoch 37/100\n",
      "696/696 [==============================] - 0s 497us/step - loss: 1460.8982 - accuracy: 0.0043\n",
      "Epoch 38/100\n",
      "696/696 [==============================] - 0s 501us/step - loss: 1460.4144 - accuracy: 0.0044\n",
      "Epoch 39/100\n",
      "696/696 [==============================] - 0s 497us/step - loss: 1459.9357 - accuracy: 0.0046\n",
      "Epoch 40/100\n",
      "696/696 [==============================] - 0s 573us/step - loss: 1459.4922 - accuracy: 0.0044\n",
      "Epoch 41/100\n",
      "696/696 [==============================] - 0s 499us/step - loss: 1459.0198 - accuracy: 0.0048\n",
      "Epoch 42/100\n",
      "696/696 [==============================] - 0s 494us/step - loss: 1458.5754 - accuracy: 0.0044\n",
      "Epoch 43/100\n",
      "696/696 [==============================] - 0s 500us/step - loss: 1458.1305 - accuracy: 0.0045\n",
      "Epoch 44/100\n",
      "696/696 [==============================] - 0s 495us/step - loss: 1457.6993 - accuracy: 0.0045\n",
      "Epoch 45/100\n",
      "696/696 [==============================] - 0s 500us/step - loss: 1457.2753 - accuracy: 0.0046\n",
      "Epoch 46/100\n",
      "696/696 [==============================] - 0s 495us/step - loss: 1456.8877 - accuracy: 0.0045\n",
      "Epoch 47/100\n",
      "696/696 [==============================] - 0s 492us/step - loss: 1456.4211 - accuracy: 0.0047\n",
      "Epoch 48/100\n",
      "696/696 [==============================] - 0s 497us/step - loss: 1455.9711 - accuracy: 0.0048\n",
      "Epoch 49/100\n",
      "696/696 [==============================] - 0s 493us/step - loss: 1455.5312 - accuracy: 0.0045\n",
      "Epoch 50/100\n",
      "696/696 [==============================] - 0s 510us/step - loss: 1455.1240 - accuracy: 0.0045\n",
      "Epoch 51/100\n",
      "696/696 [==============================] - 0s 576us/step - loss: 1454.6949 - accuracy: 0.0046\n",
      "Epoch 52/100\n",
      "696/696 [==============================] - 0s 501us/step - loss: 1454.2648 - accuracy: 0.0046\n",
      "Epoch 53/100\n",
      "696/696 [==============================] - 0s 523us/step - loss: 1453.8798 - accuracy: 0.0046\n",
      "Epoch 54/100\n",
      "696/696 [==============================] - 0s 506us/step - loss: 1453.4760 - accuracy: 0.0047\n",
      "Epoch 55/100\n",
      "696/696 [==============================] - 0s 498us/step - loss: 1453.0594 - accuracy: 0.0047\n",
      "Epoch 56/100\n",
      "696/696 [==============================] - 0s 498us/step - loss: 1452.6547 - accuracy: 0.0047\n",
      "Epoch 57/100\n",
      "696/696 [==============================] - 0s 498us/step - loss: 1452.2559 - accuracy: 0.0044\n",
      "Epoch 58/100\n",
      "696/696 [==============================] - 0s 553us/step - loss: 1451.8840 - accuracy: 0.0049\n",
      "Epoch 59/100\n",
      "696/696 [==============================] - 0s 503us/step - loss: 1451.4552 - accuracy: 0.0047\n",
      "Epoch 60/100\n",
      "696/696 [==============================] - 0s 505us/step - loss: 1451.0485 - accuracy: 0.0044\n",
      "Epoch 61/100\n",
      "696/696 [==============================] - 0s 601us/step - loss: 1450.6732 - accuracy: 0.0046\n",
      "Epoch 62/100\n",
      "696/696 [==============================] - 0s 531us/step - loss: 1450.2900 - accuracy: 0.0044\n",
      "Epoch 63/100\n",
      "696/696 [==============================] - 0s 556us/step - loss: 1449.9048 - accuracy: 0.0044\n",
      "Epoch 64/100\n",
      "696/696 [==============================] - 0s 541us/step - loss: 1449.4760 - accuracy: 0.0045\n",
      "Epoch 65/100\n",
      "696/696 [==============================] - 0s 591us/step - loss: 1449.1102 - accuracy: 0.0048\n",
      "Epoch 66/100\n",
      "696/696 [==============================] - 0s 499us/step - loss: 1448.7183 - accuracy: 0.0048\n",
      "Epoch 67/100\n",
      "696/696 [==============================] - 0s 496us/step - loss: 1448.3285 - accuracy: 0.0046\n",
      "Epoch 68/100\n",
      "696/696 [==============================] - 0s 520us/step - loss: 1447.9370 - accuracy: 0.0047\n",
      "Epoch 69/100\n",
      "696/696 [==============================] - 0s 561us/step - loss: 1447.5527 - accuracy: 0.0047\n",
      "Epoch 70/100\n",
      "696/696 [==============================] - 0s 510us/step - loss: 1447.1934 - accuracy: 0.0046\n",
      "Epoch 71/100\n",
      "696/696 [==============================] - 0s 522us/step - loss: 1446.8271 - accuracy: 0.0044\n",
      "Epoch 72/100\n",
      "696/696 [==============================] - 0s 585us/step - loss: 1446.4967 - accuracy: 0.0048\n",
      "Epoch 73/100\n",
      "696/696 [==============================] - 0s 493us/step - loss: 1446.1135 - accuracy: 0.0046\n",
      "Epoch 74/100\n",
      "696/696 [==============================] - 0s 497us/step - loss: 1445.7557 - accuracy: 0.0046\n",
      "Epoch 75/100\n",
      "696/696 [==============================] - 0s 507us/step - loss: 1445.4382 - accuracy: 0.0046\n",
      "Epoch 76/100\n",
      "696/696 [==============================] - 0s 490us/step - loss: 1444.9996 - accuracy: 0.0047\n",
      "Epoch 77/100\n",
      "696/696 [==============================] - 0s 505us/step - loss: 1444.6196 - accuracy: 0.0047\n",
      "Epoch 78/100\n",
      "696/696 [==============================] - 0s 513us/step - loss: 1444.2362 - accuracy: 0.0046\n",
      "Epoch 79/100\n",
      "696/696 [==============================] - 0s 560us/step - loss: 1443.8464 - accuracy: 0.0047\n",
      "Epoch 80/100\n",
      "696/696 [==============================] - 0s 522us/step - loss: 1443.4791 - accuracy: 0.0047\n",
      "Epoch 81/100\n",
      "696/696 [==============================] - 0s 499us/step - loss: 1443.1047 - accuracy: 0.0046\n",
      "Epoch 82/100\n",
      "696/696 [==============================] - 0s 509us/step - loss: 1442.7515 - accuracy: 0.0046\n",
      "Epoch 83/100\n",
      "696/696 [==============================] - 0s 506us/step - loss: 1442.4282 - accuracy: 0.0047\n",
      "Epoch 84/100\n",
      "696/696 [==============================] - 0s 515us/step - loss: 1442.0918 - accuracy: 0.0046\n",
      "Epoch 85/100\n",
      "696/696 [==============================] - 0s 500us/step - loss: 1441.7343 - accuracy: 0.0048\n",
      "Epoch 86/100\n",
      "696/696 [==============================] - 0s 511us/step - loss: 1441.3760 - accuracy: 0.0047\n",
      "Epoch 87/100\n",
      "696/696 [==============================] - 0s 514us/step - loss: 1441.0195 - accuracy: 0.0046\n",
      "Epoch 88/100\n",
      "696/696 [==============================] - 0s 601us/step - loss: 1440.6724 - accuracy: 0.0044\n",
      "Epoch 89/100\n",
      "696/696 [==============================] - 0s 512us/step - loss: 1440.3126 - accuracy: 0.0047\n",
      "Epoch 90/100\n",
      "696/696 [==============================] - 0s 517us/step - loss: 1439.9487 - accuracy: 0.0047\n",
      "Epoch 91/100\n",
      "696/696 [==============================] - 0s 508us/step - loss: 1439.5852 - accuracy: 0.0045\n",
      "Epoch 92/100\n",
      "696/696 [==============================] - 0s 524us/step - loss: 1439.2095 - accuracy: 0.0049\n",
      "Epoch 93/100\n",
      "696/696 [==============================] - 0s 628us/step - loss: 1438.8746 - accuracy: 0.0045\n",
      "Epoch 94/100\n",
      "696/696 [==============================] - 0s 526us/step - loss: 1438.5385 - accuracy: 0.0047\n",
      "Epoch 95/100\n",
      "696/696 [==============================] - 0s 530us/step - loss: 1438.2014 - accuracy: 0.0045\n",
      "Epoch 96/100\n",
      "696/696 [==============================] - 0s 521us/step - loss: 1437.8422 - accuracy: 0.0046\n",
      "Epoch 97/100\n",
      "696/696 [==============================] - 0s 637us/step - loss: 1437.4885 - accuracy: 0.0047\n",
      "Epoch 98/100\n",
      "696/696 [==============================] - 0s 537us/step - loss: 1437.1427 - accuracy: 0.0046\n",
      "Epoch 99/100\n",
      "696/696 [==============================] - 0s 536us/step - loss: 1436.8097 - accuracy: 0.0046\n",
      "Epoch 100/100\n",
      "696/696 [==============================] - 0s 539us/step - loss: 1436.5024 - accuracy: 0.0046\n"
     ]
    },
    {
     "data": {
      "text/plain": [
       "<keras.src.callbacks.History at 0x2bfdaa980>"
      ]
     },
     "execution_count": 112,
     "metadata": {},
     "output_type": "execute_result"
    }
   ],
   "source": [
    "# train the ANN on the training set\n",
    "ann.fit(X_train, y_train, batch_size = 100, epochs = 100, workers=4, use_multiprocessing=True)"
   ]
  },
  {
   "cell_type": "code",
   "execution_count": 113,
   "metadata": {},
   "outputs": [
    {
     "name": "stdout",
     "output_type": "stream",
     "text": [
      "242/242 [==============================] - 0s 291us/step\n",
      "[[ 0.73215437  0.62059295]\n",
      " [ 6.58464241  6.8483062 ]\n",
      " [ 9.41683578  9.79500835]\n",
      " [14.01049805 13.38452486]\n",
      " [ 1.24509645  0.        ]\n",
      " [ 0.81042719  0.62546068]\n",
      " [ 9.30552101  8.74454318]\n",
      " [ 3.80291843  3.7847407 ]\n",
      " [ 1.45428777  1.5882667 ]\n",
      " [10.86053085 11.0520371 ]]\n"
     ]
    }
   ],
   "source": [
    "y_pred = ann.predict(X_test)\n",
    "#y_pred = (y_pred > 0.5)\n",
    "print(np.concatenate((y_pred.reshape(len(y_pred),1), y_test.reshape(len(y_test),1)),1)[10:20])"
   ]
  },
  {
   "cell_type": "code",
   "execution_count": 114,
   "metadata": {},
   "outputs": [
    {
     "name": "stdout",
     "output_type": "stream",
     "text": [
      "Error: 2.54%\n"
     ]
    }
   ],
   "source": [
    "len1 = len(y_pred)\n",
    "len2 = np.sum((y_pred.flatten()>8) != (y_test>8))\n",
    "error = len2/len1*100\n",
    "print(f\"Error: {error:.2f}%\")"
   ]
  },
  {
   "cell_type": "code",
   "execution_count": 115,
   "metadata": {},
   "outputs": [
    {
     "name": "stdout",
     "output_type": "stream",
     "text": [
      "7724\n",
      "3923\n"
     ]
    },
    {
     "data": {
      "image/png": "[encoded data removed]",
      "text/plain": [
       "<Figure size 400x400 with 1 Axes>"
      ]
     },
     "metadata": {},
     "output_type": "display_data"
    }
   ],
   "source": [
    "import matplotlib.pyplot as plt\n",
    "y_pred = y_pred.flatten()\n",
    "hist_ = y_pred-y_test\n",
    "print(len(hist_))\n",
    "idx = (y_test>4) & (y_test<100)\n",
    "hist_ = hist_[idx]\n",
    "#hist_ = hist_[abs(hist_)<5.]\n",
    "print(len(hist_))\n",
    "plt.figure(figsize=(4,4)) \n",
    "plt.hist(hist_, bins=100, histtype='step', density=True)\n",
    "plt.xlim(-5,5)\n",
    "plt.xlabel('snr_ml and snr_inner_product difference')\n",
    "plt.ylabel('pdf')\n",
    "plt.grid(alpha=0.4)\n",
    "plt.show()"
   ]
  },
  {
   "cell_type": "code",
   "execution_count": null,
   "metadata": {},
   "outputs": [],
   "source": []
  },
  {
   "cell_type": "code",
   "execution_count": 116,
   "metadata": {},
   "outputs": [],
   "source": [
    "# Save the model to a file\n",
    "ann.save('ann_modelH1.h5')\n",
    "\n",
    "# Load the model from the file\n",
    "from tensorflow.keras.models import load_model\n",
    "model = load_model('ann_modelH1.h5')\n"
   ]
  },
  {
   "cell_type": "code",
   "execution_count": 117,
   "metadata": {},
   "outputs": [
    {
     "name": "stdout",
     "output_type": "stream",
     "text": [
      "242/242 [==============================] - 0s 547us/step\n"
     ]
    },
    {
     "data": {
      "text/plain": [
       "array([[ 9.134704  ],\n",
       "       [ 1.9081287 ],\n",
       "       [ 7.9840503 ],\n",
       "       ...,\n",
       "       [ 2.3602412 ],\n",
       "       [ 0.62421227],\n",
       "       [13.0821905 ]], dtype=float32)"
      ]
     },
     "execution_count": 117,
     "metadata": {},
     "output_type": "execute_result"
    }
   ],
   "source": [
    "model.predict(X_test)"
   ]
  },
  {
   "cell_type": "code",
   "execution_count": null,
   "metadata": {},
   "outputs": [],
   "source": []
  },
  {
   "cell_type": "code",
   "execution_count": 140,
   "metadata": {},
   "outputs": [
    {
     "ename": "ValueError",
     "evalue": "continuous is not supported",
     "output_type": "error",
     "traceback": [
      "\u001b[0;31m---------------------------------------------------------------------------\u001b[0m",
      "\u001b[0;31mValueError\u001b[0m                                Traceback (most recent call last)",
      "Cell \u001b[0;32mIn[140], line 2\u001b[0m\n\u001b[1;32m      1\u001b[0m \u001b[38;5;28;01mfrom\u001b[39;00m \u001b[38;5;21;01msklearn\u001b[39;00m\u001b[38;5;21;01m.\u001b[39;00m\u001b[38;5;21;01mmetrics\u001b[39;00m \u001b[38;5;28;01mimport\u001b[39;00m confusion_matrix, accuracy_score\n\u001b[0;32m----> 2\u001b[0m cm \u001b[38;5;241m=\u001b[39m \u001b[43mconfusion_matrix\u001b[49m\u001b[43m(\u001b[49m\u001b[43my_test\u001b[49m\u001b[43m,\u001b[49m\u001b[43m \u001b[49m\u001b[43my_pred\u001b[49m\u001b[43m)\u001b[49m\n\u001b[1;32m      3\u001b[0m \u001b[38;5;28mprint\u001b[39m(cm)\n\u001b[1;32m      4\u001b[0m accuracy_score(y_test, y_pred)\n",
      "File \u001b[0;32m~/anaconda3/envs/ler/lib/python3.10/site-packages/sklearn/utils/_param_validation.py:214\u001b[0m, in \u001b[0;36mvalidate_params.<locals>.decorator.<locals>.wrapper\u001b[0;34m(*args, **kwargs)\u001b[0m\n\u001b[1;32m    208\u001b[0m \u001b[38;5;28;01mtry\u001b[39;00m:\n\u001b[1;32m    209\u001b[0m     \u001b[38;5;28;01mwith\u001b[39;00m config_context(\n\u001b[1;32m    210\u001b[0m         skip_parameter_validation\u001b[38;5;241m=\u001b[39m(\n\u001b[1;32m    211\u001b[0m             prefer_skip_nested_validation \u001b[38;5;129;01mor\u001b[39;00m global_skip_validation\n\u001b[1;32m    212\u001b[0m         )\n\u001b[1;32m    213\u001b[0m     ):\n\u001b[0;32m--> 214\u001b[0m         \u001b[38;5;28;01mreturn\u001b[39;00m \u001b[43mfunc\u001b[49m\u001b[43m(\u001b[49m\u001b[38;5;241;43m*\u001b[39;49m\u001b[43margs\u001b[49m\u001b[43m,\u001b[49m\u001b[43m \u001b[49m\u001b[38;5;241;43m*\u001b[39;49m\u001b[38;5;241;43m*\u001b[39;49m\u001b[43mkwargs\u001b[49m\u001b[43m)\u001b[49m\n\u001b[1;32m    215\u001b[0m \u001b[38;5;28;01mexcept\u001b[39;00m InvalidParameterError \u001b[38;5;28;01mas\u001b[39;00m e:\n\u001b[1;32m    216\u001b[0m     \u001b[38;5;66;03m# When the function is just a wrapper around an estimator, we allow\u001b[39;00m\n\u001b[1;32m    217\u001b[0m     \u001b[38;5;66;03m# the function to delegate validation to the estimator, but we replace\u001b[39;00m\n\u001b[1;32m    218\u001b[0m     \u001b[38;5;66;03m# the name of the estimator by the name of the function in the error\u001b[39;00m\n\u001b[1;32m    219\u001b[0m     \u001b[38;5;66;03m# message to avoid confusion.\u001b[39;00m\n\u001b[1;32m    220\u001b[0m     msg \u001b[38;5;241m=\u001b[39m re\u001b[38;5;241m.\u001b[39msub(\n\u001b[1;32m    221\u001b[0m         \u001b[38;5;124mr\u001b[39m\u001b[38;5;124m\"\u001b[39m\u001b[38;5;124mparameter of \u001b[39m\u001b[38;5;124m\\\u001b[39m\u001b[38;5;124mw+ must be\u001b[39m\u001b[38;5;124m\"\u001b[39m,\n\u001b[1;32m    222\u001b[0m         \u001b[38;5;124mf\u001b[39m\u001b[38;5;124m\"\u001b[39m\u001b[38;5;124mparameter of \u001b[39m\u001b[38;5;132;01m{\u001b[39;00mfunc\u001b[38;5;241m.\u001b[39m\u001b[38;5;18m__qualname__\u001b[39m\u001b[38;5;132;01m}\u001b[39;00m\u001b[38;5;124m must be\u001b[39m\u001b[38;5;124m\"\u001b[39m,\n\u001b[1;32m    223\u001b[0m         \u001b[38;5;28mstr\u001b[39m(e),\n\u001b[1;32m    224\u001b[0m     )\n",
      "File \u001b[0;32m~/anaconda3/envs/ler/lib/python3.10/site-packages/sklearn/metrics/_classification.py:326\u001b[0m, in \u001b[0;36mconfusion_matrix\u001b[0;34m(y_true, y_pred, labels, sample_weight, normalize)\u001b[0m\n\u001b[1;32m    231\u001b[0m \u001b[38;5;129m@validate_params\u001b[39m(\n\u001b[1;32m    232\u001b[0m     {\n\u001b[1;32m    233\u001b[0m         \u001b[38;5;124m\"\u001b[39m\u001b[38;5;124my_true\u001b[39m\u001b[38;5;124m\"\u001b[39m: [\u001b[38;5;124m\"\u001b[39m\u001b[38;5;124marray-like\u001b[39m\u001b[38;5;124m\"\u001b[39m],\n\u001b[0;32m   (...)\u001b[0m\n\u001b[1;32m    242\u001b[0m     y_true, y_pred, \u001b[38;5;241m*\u001b[39m, labels\u001b[38;5;241m=\u001b[39m\u001b[38;5;28;01mNone\u001b[39;00m, sample_weight\u001b[38;5;241m=\u001b[39m\u001b[38;5;28;01mNone\u001b[39;00m, normalize\u001b[38;5;241m=\u001b[39m\u001b[38;5;28;01mNone\u001b[39;00m\n\u001b[1;32m    243\u001b[0m ):\n\u001b[1;32m    244\u001b[0m \u001b[38;5;250m    \u001b[39m\u001b[38;5;124;03m\"\"\"Compute confusion matrix to evaluate the accuracy of a classification.\u001b[39;00m\n\u001b[1;32m    245\u001b[0m \n\u001b[1;32m    246\u001b[0m \u001b[38;5;124;03m    By definition a confusion matrix :math:`C` is such that :math:`C_{i, j}`\u001b[39;00m\n\u001b[0;32m   (...)\u001b[0m\n\u001b[1;32m    324\u001b[0m \u001b[38;5;124;03m    (0, 2, 1, 1)\u001b[39;00m\n\u001b[1;32m    325\u001b[0m \u001b[38;5;124;03m    \"\"\"\u001b[39;00m\n\u001b[0;32m--> 326\u001b[0m     y_type, y_true, y_pred \u001b[38;5;241m=\u001b[39m \u001b[43m_check_targets\u001b[49m\u001b[43m(\u001b[49m\u001b[43my_true\u001b[49m\u001b[43m,\u001b[49m\u001b[43m \u001b[49m\u001b[43my_pred\u001b[49m\u001b[43m)\u001b[49m\n\u001b[1;32m    327\u001b[0m     \u001b[38;5;28;01mif\u001b[39;00m y_type \u001b[38;5;129;01mnot\u001b[39;00m \u001b[38;5;129;01min\u001b[39;00m (\u001b[38;5;124m\"\u001b[39m\u001b[38;5;124mbinary\u001b[39m\u001b[38;5;124m\"\u001b[39m, \u001b[38;5;124m\"\u001b[39m\u001b[38;5;124mmulticlass\u001b[39m\u001b[38;5;124m\"\u001b[39m):\n\u001b[1;32m    328\u001b[0m         \u001b[38;5;28;01mraise\u001b[39;00m \u001b[38;5;167;01mValueError\u001b[39;00m(\u001b[38;5;124m\"\u001b[39m\u001b[38;5;132;01m%s\u001b[39;00m\u001b[38;5;124m is not supported\u001b[39m\u001b[38;5;124m\"\u001b[39m \u001b[38;5;241m%\u001b[39m y_type)\n",
      "File \u001b[0;32m~/anaconda3/envs/ler/lib/python3.10/site-packages/sklearn/metrics/_classification.py:104\u001b[0m, in \u001b[0;36m_check_targets\u001b[0;34m(y_true, y_pred)\u001b[0m\n\u001b[1;32m    102\u001b[0m \u001b[38;5;66;03m# No metrics support \"multiclass-multioutput\" format\u001b[39;00m\n\u001b[1;32m    103\u001b[0m \u001b[38;5;28;01mif\u001b[39;00m y_type \u001b[38;5;129;01mnot\u001b[39;00m \u001b[38;5;129;01min\u001b[39;00m [\u001b[38;5;124m\"\u001b[39m\u001b[38;5;124mbinary\u001b[39m\u001b[38;5;124m\"\u001b[39m, \u001b[38;5;124m\"\u001b[39m\u001b[38;5;124mmulticlass\u001b[39m\u001b[38;5;124m\"\u001b[39m, \u001b[38;5;124m\"\u001b[39m\u001b[38;5;124mmultilabel-indicator\u001b[39m\u001b[38;5;124m\"\u001b[39m]:\n\u001b[0;32m--> 104\u001b[0m     \u001b[38;5;28;01mraise\u001b[39;00m \u001b[38;5;167;01mValueError\u001b[39;00m(\u001b[38;5;124m\"\u001b[39m\u001b[38;5;132;01m{0}\u001b[39;00m\u001b[38;5;124m is not supported\u001b[39m\u001b[38;5;124m\"\u001b[39m\u001b[38;5;241m.\u001b[39mformat(y_type))\n\u001b[1;32m    106\u001b[0m \u001b[38;5;28;01mif\u001b[39;00m y_type \u001b[38;5;129;01min\u001b[39;00m [\u001b[38;5;124m\"\u001b[39m\u001b[38;5;124mbinary\u001b[39m\u001b[38;5;124m\"\u001b[39m, \u001b[38;5;124m\"\u001b[39m\u001b[38;5;124mmulticlass\u001b[39m\u001b[38;5;124m\"\u001b[39m]:\n\u001b[1;32m    107\u001b[0m     y_true \u001b[38;5;241m=\u001b[39m column_or_1d(y_true)\n",
      "\u001b[0;31mValueError\u001b[0m: continuous is not supported"
     ]
    }
   ],
   "source": [
    "from sklearn.metrics import confusion_matrix, accuracy_score\n",
    "cm = confusion_matrix(y_test, y_pred)\n",
    "print(cm)\n",
    "accuracy_score(y_test, y_pred)"
   ]
  },
  {
   "cell_type": "code",
   "execution_count": null,
   "metadata": {},
   "outputs": [],
   "source": []
  }
 ],
 "metadata": {
  "kernelspec": {
   "display_name": "ler",
   "language": "python",
   "name": "ler"
  },
  "language_info": {
   "codemirror_mode": {
    "name": "ipython",
    "version": 3
   },
   "file_extension": ".py",
   "mimetype": "text/x-python",
   "name": "python",
   "nbconvert_exporter": "python",
   "pygments_lexer": "ipython3",
   "version": "3.10.12"
  }
 },
 "nbformat": 4,
 "nbformat_minor": 2
}
