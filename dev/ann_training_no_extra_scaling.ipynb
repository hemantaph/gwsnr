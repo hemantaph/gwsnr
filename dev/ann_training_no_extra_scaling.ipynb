{
 "cells": [
  {
   "cell_type": "markdown",
   "metadata": {},
   "source": [
    "# SNR finder ANN model training"
   ]
  },
  {
   "cell_type": "code",
   "execution_count": 1,
   "metadata": {},
   "outputs": [],
   "source": [
    "import numpy as np\n",
    "import pandas as pd\n",
    "from ler.utils import add_dict_values\n",
    "import tensorflow as tf\n",
    "\n",
    "# tf.config.threading.set_intra_op_parallelism_threads(6)\n",
    "# tf.config.threading.set_inter_op_parallelism_threads(2)"
   ]
  },
  {
   "cell_type": "markdown",
   "metadata": {},
   "source": [
    "## Get all necessary data"
   ]
  },
  {
   "cell_type": "code",
   "execution_count": 2,
   "metadata": {},
   "outputs": [
    {
     "name": "stdout",
     "output_type": "stream",
     "text": [
      "216908\n"
     ]
    },
    {
     "data": {
      "text/plain": [
       "216856"
      ]
     },
     "execution_count": 2,
     "metadata": {},
     "output_type": "execute_result"
    }
   ],
   "source": [
    "from ler.utils import append_json, get_param_from_json\n",
    "import numpy as np\n",
    "\n",
    "# these are pre-generated datas\n",
    "# join all dictionaries into one\n",
    "unlensed_params = get_param_from_json(\"snr_L1.json\")\n",
    "#unlensed_params2 = get_param_from_json(\"joint_new_optsnr.json\")\n",
    "unlensed_params3 = get_param_from_json(\"joint_new_optsnr2.json\")\n",
    "unlensed_params4 = get_param_from_json(\"joint_new_optsnr3.json\")\n",
    "unlensed_params5 = get_param_from_json(\"joint_new_optsnr4.json\")\n",
    "unlensed_params6 = get_param_from_json(\"joint_new_optsnr5.json\")\n",
    "unlensed_params7 = get_param_from_json(\"joint_new_optsnr6.json\")\n",
    "#unlensed_params = add_dict_values(unlensed_params, unlensed_params2)\n",
    "unlensed_params = add_dict_values(unlensed_params, unlensed_params3)\n",
    "unlensed_params = add_dict_values(unlensed_params, unlensed_params4)\n",
    "unlensed_params = add_dict_values(unlensed_params, unlensed_params5)\n",
    "unlensed_params = add_dict_values(unlensed_params, unlensed_params6)\n",
    "unlensed_params = add_dict_values(unlensed_params, unlensed_params7)\n",
    "#del unlensed_params2\n",
    "del unlensed_params3, unlensed_params4, unlensed_params5, unlensed_params6, unlensed_params7\n",
    "\n",
    "print(len(unlensed_params['L1']))\n",
    "# set SNR cut\n",
    "# this is optimise the ANN by ignoring the high SNR\n",
    "# unlensed_params['L1']<10000 => Error: 4.13%\n",
    "# unlensed_params['L1']<100 => Error: 4.05%\n",
    "# unlensed_params['L1']<50 => Error: 4.16%\n",
    "idx_constrain = unlensed_params['L1']<100\n",
    "for key, value in unlensed_params.items():\n",
    "    unlensed_params[key] = value[idx_constrain]\n",
    "\n",
    "len(unlensed_params['L1'])"
   ]
  },
  {
   "cell_type": "code",
   "execution_count": 3,
   "metadata": {},
   "outputs": [
    {
     "data": {
      "image/png": "[encoded data removed]",
      "text/plain": [
       "<Figure size 640x480 with 1 Axes>"
      ]
     },
     "metadata": {},
     "output_type": "display_data"
    }
   ],
   "source": [
    "# visualize the data\n",
    "import matplotlib.pyplot as plt\n",
    "#unlensed_params = get_param_from_json(\"joint_new_optsnr.json\")\n",
    "test = np.array(unlensed_params['L1'])\n",
    "test = test[test<20]\n",
    "plt.hist(test, bins=30)\n",
    "plt.xlim(0,20)\n",
    "plt.show()"
   ]
  },
  {
   "cell_type": "code",
   "execution_count": 4,
   "metadata": {},
   "outputs": [
    {
     "name": "stdout",
     "output_type": "stream",
     "text": [
      "You have chosen default ANN model. This model only works for gwsnr default parameters.\n",
      "ANN model will be save and loaded from 'ann_data' directory. To create new model, follow instructions from the 'gwsnr' documentation.\n",
      "Please be patient while the interpolator is generated for partialscaledSNR.\n",
      "Interpolator will be loaded for L1 detector from ./interpolator_pickle/L1/partialSNR_dict_1.pickle\n",
      "\n",
      "Chosen GWSNR initialization parameters:\n",
      "\n",
      "npool:  4\n",
      "snr type:  ann\n",
      "waveform approximant:  IMRPhenomXPHM\n",
      "sampling frequency:  2048.0\n",
      "minimum frequency (fmin):  20.0\n",
      "mtot=mass1+mass2\n",
      "min(mtot):  2.0\n",
      "max(mtot) (with the given fmin=20.0): 184.98599853446768\n",
      "detectors:  ['L1']\n",
      "psds:  [PowerSpectralDensity(psd_file='None', asd_file='/Users/phurailatpamhemantakumar/anaconda3/envs/ler/lib/python3.10/site-packages/bilby/gw/detector/noise_curves/aLIGO_O4_high_asd.txt')]\n"
     ]
    }
   ],
   "source": [
    "# let's generate IMRPhenomD (spinless) interpolartor\n",
    "from gwsnr import GWSNR\n",
    "gwsnr = GWSNR(snr_type='ann', waveform_approximant='IMRPhenomXPHM', ifos=['L1'])"
   ]
  },
  {
   "cell_type": "markdown",
   "metadata": {},
   "source": [
    "## Input-Output generator function"
   ]
  },
  {
   "cell_type": "code",
   "execution_count": 5,
   "metadata": {},
   "outputs": [],
   "source": [
    "# from gwsnr import antenna_response_array, cubic_spline_interpolator2d\n",
    "\n",
    "# def input_output(idx, params):\n",
    "\n",
    "#     mass_1 = np.array(params['mass_1'])[idx]\n",
    "#     mass_2 = np.array(params['mass_2'])[idx]\n",
    "#     luminosity_distance = np.array(params['luminosity_distance'])[idx]\n",
    "#     theta_jn = np.array(params['theta_jn'])[idx]\n",
    "#     psi = np.array(params['psi'])[idx]\n",
    "#     geocent_time = np.array(params['geocent_time'])[idx]\n",
    "#     ra = np.array(params['ra'])[idx]\n",
    "#     dec = np.array(params['dec'])[idx]\n",
    "    \n",
    "#     detector_tensor = gwsnr.detector_tensor_list\n",
    "#     snr_halfscaled = np.array(gwsnr.snr_partialsacaled_list)\n",
    "#     ratio_arr = gwsnr.ratio_arr\n",
    "#     mtot_arr = gwsnr.mtot_arr\n",
    "    \n",
    "#     size = len(mass_1)\n",
    "#     len_ = len(detector_tensor)\n",
    "#     mtot = mass_1 + mass_2\n",
    "#     ratio = mass_2 / mass_1\n",
    "#     # get array of antenna response\n",
    "#     Fp, Fc = antenna_response_array(ra, dec, geocent_time, psi, detector_tensor)\n",
    "\n",
    "#     Mc = ((mass_1 * mass_2) ** (3 / 5)) / ((mass_1 + mass_2) ** (1 / 5))\n",
    "#     eta = mass_1 * mass_2/(mass_1 + mass_2)**2.\n",
    "#     A1 = Mc ** (5.0 / 6.0)\n",
    "#     ci_2 = np.cos(theta_jn) ** 2\n",
    "#     ci_param = ((1 + np.cos(theta_jn) ** 2) / 2) ** 2\n",
    "    \n",
    "#     size = len(mass_1)\n",
    "#     snr_half_ = np.zeros((len_,size))\n",
    "#     d_eff = np.zeros((len_,size))\n",
    "\n",
    "#     # loop over the detectors\n",
    "#     for j in range(len_):\n",
    "#         # loop over the parameter points\n",
    "#         for i in range(size):\n",
    "#             snr_half_coeff = snr_halfscaled[j]\n",
    "#             snr_half_[j,i] = cubic_spline_interpolator2d(mtot[i], ratio[i], snr_half_coeff, mtot_arr, ratio_arr)\n",
    "#             d_eff[j,i] =luminosity_distance[i] / np.sqrt(\n",
    "#                     Fp[j,i]**2 * ci_param[i] + Fc[j,i]**2 * ci_2[i]\n",
    "#                 )\n",
    "\n",
    "#     #amp0\n",
    "#     amp0 =  A1 / d_eff\n",
    "\n",
    "#     # get spin parameters\n",
    "#     a_1 = np.array(params['a_1'])[idx]\n",
    "#     a_2 = np.array(params['a_2'])[idx]\n",
    "#     tilt_1 = np.array(params['tilt_1'])[idx]\n",
    "#     tilt_2 = np.array(params['tilt_2'])[idx]\n",
    "#     # phi_12 = np.array(params['phi_12'])[idx]\n",
    "#     # phi_jl = np.array(params['phi_jl'])[idx]\n",
    "\n",
    "#     # effective spin\n",
    "#     chi_eff = (mass_1 * a_1 * np.cos(tilt_1) + mass_2 * a_2 * np.cos(tilt_2)) / (mass_1 + mass_2)\n",
    "\n",
    "\n",
    "#     # input data\n",
    "#     # error=2.41%, 3.60%\n",
    "#     # 4.93%, 3.46%\n",
    "#     # XL1 = np.vstack([snr_half_[0], amp0[0], eta, a_1, a_2, tilt_1, tilt_2]).T\n",
    "#     # XH1 = np.vstack([snr_half_[1], amp0[1], eta, a_1, a_2, tilt_1, tilt_2]).T\n",
    "#     # XV1 = np.vstack([snr_half_[2], amp0[2], eta, a_1, a_2, tilt_1, tilt_2]).T\n",
    "\n",
    "#     # error=2.72%, 3.32%\n",
    "#     # 4.73%, 3.19%\n",
    "#     # 3.20%\n",
    "#     # XL1 = np.vstack([snr_half_[0], amp0[0], eta, a_1, a_2, tilt_1, tilt_2, phi_12, phi_jl]).T\n",
    "#     # XH1 = np.vstack([snr_half_[1], amp0[1], eta, a_1, a_2, tilt_1, tilt_2, phi_12, phi_jl]).T\n",
    "#     # XV1 = np.vstack([snr_half_[2], amp0[2], eta, a_1, a_2, tilt_1, tilt_2, phi_12, phi_jl]).T\n",
    "\n",
    "#     # error=2.79%, 3.28%\n",
    "#     # 4.46%, 3.18%\n",
    "#     # 3.27%\n",
    "#     XL1 = np.vstack([snr_half_[0], amp0[0], eta, chi_eff]).T\n",
    "#     XH1 = np.vstack([snr_half_[1], amp0[1], eta, chi_eff]).T\n",
    "#     XV1 = np.vstack([snr_half_[2], amp0[2], eta, chi_eff]).T    \n",
    "\n",
    "#     # output data\n",
    "#     # get L1 snr for y train\n",
    "#     yL1 = params['L1'][idx]\n",
    "#     yH1 = params['H1'][idx]\n",
    "#     yV1 = params['V1'][idx]\n",
    "\n",
    "#     return(XL1, XH1, XV1, yL1, yH1, yV1)"
   ]
  },
  {
   "cell_type": "code",
   "execution_count": 6,
   "metadata": {},
   "outputs": [],
   "source": [
    "from gwsnr import antenna_response_array, cubic_spline_interpolator2d\n",
    "\n",
    "def input_output(idx, params):\n",
    "\n",
    "    mass_1 = np.array(params['mass_1'])[idx]\n",
    "    mass_2 = np.array(params['mass_2'])[idx]\n",
    "    luminosity_distance = np.array(params['luminosity_distance'])[idx]\n",
    "    theta_jn = np.array(params['theta_jn'])[idx]\n",
    "    psi = np.array(params['psi'])[idx]\n",
    "    geocent_time = np.array(params['geocent_time'])[idx]\n",
    "    ra = np.array(params['ra'])[idx]\n",
    "    dec = np.array(params['dec'])[idx]\n",
    "    \n",
    "    detector_tensor = gwsnr.detector_tensor_list\n",
    "    snr_halfscaled = np.array(gwsnr.snr_partialsacaled_list)\n",
    "    ratio_arr = gwsnr.ratio_arr\n",
    "    mtot_arr = gwsnr.mtot_arr\n",
    "    \n",
    "    size = len(mass_1)\n",
    "    len_ = len(detector_tensor)\n",
    "    mtot = mass_1 + mass_2\n",
    "    ratio = mass_2 / mass_1\n",
    "    # get array of antenna response\n",
    "    Fp, Fc = antenna_response_array(ra, dec, geocent_time, psi, detector_tensor)\n",
    "\n",
    "    Mc = ((mass_1 * mass_2) ** (3 / 5)) / ((mass_1 + mass_2) ** (1 / 5))\n",
    "    eta = mass_1 * mass_2/(mass_1 + mass_2)**2.\n",
    "    A1 = Mc ** (5.0 / 6.0)\n",
    "    ci_2 = np.cos(theta_jn) ** 2\n",
    "    ci_param = ((1 + np.cos(theta_jn) ** 2) / 2) ** 2\n",
    "    \n",
    "    size = len(mass_1)\n",
    "    snr_half_ = np.zeros((len_,size))\n",
    "    d_eff = np.zeros((len_,size))\n",
    "\n",
    "    # loop over the detectors\n",
    "    for j in range(len_):\n",
    "        # loop over the parameter points\n",
    "        for i in range(size):\n",
    "            snr_half_coeff = snr_halfscaled[j]\n",
    "            snr_half_[j,i] = cubic_spline_interpolator2d(mtot[i], ratio[i], snr_half_coeff, mtot_arr, ratio_arr)\n",
    "            d_eff[j,i] =luminosity_distance[i] / np.sqrt(\n",
    "                    Fp[j,i]**2 * ci_param[i] + Fc[j,i]**2 * ci_2[i]\n",
    "                )\n",
    "\n",
    "    #amp0\n",
    "    amp0 =  A1 / d_eff\n",
    "\n",
    "    # get spin parameters\n",
    "    a_1 = np.array(params['a_1'])[idx]\n",
    "    a_2 = np.array(params['a_2'])[idx]\n",
    "    tilt_1 = np.array(params['tilt_1'])[idx]\n",
    "    tilt_2 = np.array(params['tilt_2'])[idx]\n",
    "\n",
    "    # effective spin\n",
    "    chi_eff = (mass_1 * a_1 * np.cos(tilt_1) + mass_2 * a_2 * np.cos(tilt_2)) / (mass_1 + mass_2)\n",
    "\n",
    "\n",
    "    # input data\n",
    "    XL1 = np.vstack([snr_half_[0], amp0[0], eta, chi_eff]).T \n",
    "\n",
    "    # output data\n",
    "    # get L1 snr for y train\n",
    "    yL1 = params['L1'][idx]\n",
    "\n",
    "    return(XL1, yL1)"
   ]
  },
  {
   "cell_type": "code",
   "execution_count": 7,
   "metadata": {},
   "outputs": [
    {
     "data": {
      "text/plain": [
       "(216856, 4)"
      ]
     },
     "execution_count": 7,
     "metadata": {},
     "output_type": "execute_result"
    }
   ],
   "source": [
    "len_ = len(unlensed_params['L1'])\n",
    "idx = np.arange(len_)\n",
    "# randomize the train set\n",
    "idx = np.random.permutation(idx)\n",
    "XL1, yL1 = input_output(idx, unlensed_params)\n",
    "np.shape(XL1)"
   ]
  },
  {
   "cell_type": "code",
   "execution_count": 8,
   "metadata": {},
   "outputs": [],
   "source": [
    "#concatenate XL1, yL1\n",
    "data_new = np.concatenate((XL1, yL1[:,None]), axis=1)"
   ]
  },
  {
   "cell_type": "markdown",
   "metadata": {},
   "source": [
    "## Scaling the data"
   ]
  },
  {
   "cell_type": "code",
   "execution_count": 9,
   "metadata": {},
   "outputs": [],
   "source": [
    "XL1 = data_new[:,:-1]\n",
    "yL1 = data_new[:,-1]"
   ]
  },
  {
   "cell_type": "markdown",
   "metadata": {},
   "source": [
    "## L1"
   ]
  },
  {
   "cell_type": "code",
   "execution_count": 10,
   "metadata": {},
   "outputs": [],
   "source": [
    "from sklearn.model_selection import train_test_split\n",
    "X_train, X_test, y_train, y_test = train_test_split(XL1, yL1, test_size = 0.1, random_state = 0)"
   ]
  },
  {
   "cell_type": "code",
   "execution_count": 11,
   "metadata": {},
   "outputs": [],
   "source": [
    "# feature scaling\n",
    "from sklearn.preprocessing import StandardScaler\n",
    "sc = StandardScaler()\n",
    "X_train = sc.fit_transform(X_train)\n",
    "X_test = sc.transform(X_test)"
   ]
  },
  {
   "cell_type": "code",
   "execution_count": 12,
   "metadata": {},
   "outputs": [],
   "source": [
    "# save the scaler\n",
    "import pickle\n",
    "pickle.dump(sc, open('scalerL1.pkl', 'wb'))"
   ]
  },
  {
   "cell_type": "code",
   "execution_count": 13,
   "metadata": {},
   "outputs": [],
   "source": [
    "# initialize the ANN\n",
    "ann = tf.keras.models.Sequential() \n",
    "\n",
    "# adding the input layer and the first hidden layer\n",
    "ann.add(tf.keras.layers.Dense(units=4, activation='relu'))\n",
    "# adding the second hidden layer\n",
    "ann.add(tf.keras.layers.Dense(units=32, activation='relu'))\n",
    "# adding the third hidden layer\n",
    "ann.add(tf.keras.layers.Dense(units=32, activation='sigmoid'))\n",
    "# adding the output layer, absolute value of the snr\n",
    "ann.add(tf.keras.layers.Dense(units=1, activation='linear'))\n",
    "#ann.add(tf.keras.layers.Dense(units=1, activation='sigmoid'))"
   ]
  },
  {
   "cell_type": "code",
   "execution_count": 14,
   "metadata": {},
   "outputs": [],
   "source": [
    "# compile the ANN\n",
    "ann.compile(optimizer = 'adam', loss = 'mean_squared_error', metrics = ['accuracy'])"
   ]
  },
  {
   "cell_type": "code",
   "execution_count": 15,
   "metadata": {},
   "outputs": [
    {
     "name": "stdout",
     "output_type": "stream",
     "text": [
      "Epoch 1/100\n",
      "\u001b[1m6100/6100\u001b[0m \u001b[32m━━━━━━━━━━━━━━━━━━━━\u001b[0m\u001b[37m\u001b[0m \u001b[1m3s\u001b[0m 369us/step - accuracy: 8.3891e-06 - loss: 16.6380\n",
      "Epoch 2/100\n",
      "\u001b[1m6100/6100\u001b[0m \u001b[32m━━━━━━━━━━━━━━━━━━━━\u001b[0m\u001b[37m\u001b[0m \u001b[1m2s\u001b[0m 332us/step - accuracy: 1.8384e-05 - loss: 1.6141\n",
      "Epoch 3/100\n",
      "\u001b[1m6100/6100\u001b[0m \u001b[32m━━━━━━━━━━━━━━━━━━━━\u001b[0m\u001b[37m\u001b[0m \u001b[1m2s\u001b[0m 367us/step - accuracy: 1.9549e-05 - loss: 0.7583\n",
      "Epoch 4/100\n",
      "\u001b[1m6100/6100\u001b[0m \u001b[32m━━━━━━━━━━━━━━━━━━━━\u001b[0m\u001b[37m\u001b[0m \u001b[1m2s\u001b[0m 380us/step - accuracy: 2.2337e-05 - loss: 0.6012\n",
      "Epoch 5/100\n",
      "\u001b[1m6100/6100\u001b[0m \u001b[32m━━━━━━━━━━━━━━━━━━━━\u001b[0m\u001b[37m\u001b[0m \u001b[1m2s\u001b[0m 332us/step - accuracy: 7.0169e-05 - loss: 0.6141\n",
      "Epoch 6/100\n",
      "\u001b[1m6100/6100\u001b[0m \u001b[32m━━━━━━━━━━━━━━━━━━━━\u001b[0m\u001b[37m\u001b[0m \u001b[1m2s\u001b[0m 332us/step - accuracy: 2.4135e-05 - loss: 0.5698\n",
      "Epoch 7/100\n",
      "\u001b[1m6100/6100\u001b[0m \u001b[32m━━━━━━━━━━━━━━━━━━━━\u001b[0m\u001b[37m\u001b[0m \u001b[1m2s\u001b[0m 342us/step - accuracy: 4.0000e-05 - loss: 0.5674\n",
      "Epoch 8/100\n",
      "\u001b[1m6100/6100\u001b[0m \u001b[32m━━━━━━━━━━━━━━━━━━━━\u001b[0m\u001b[37m\u001b[0m \u001b[1m2s\u001b[0m 336us/step - accuracy: 1.1213e-05 - loss: 0.5679\n",
      "Epoch 9/100\n",
      "\u001b[1m6100/6100\u001b[0m \u001b[32m━━━━━━━━━━━━━━━━━━━━\u001b[0m\u001b[37m\u001b[0m \u001b[1m2s\u001b[0m 365us/step - accuracy: 5.7151e-05 - loss: 0.5592\n",
      "Epoch 10/100\n",
      "\u001b[1m6100/6100\u001b[0m \u001b[32m━━━━━━━━━━━━━━━━━━━━\u001b[0m\u001b[37m\u001b[0m \u001b[1m2s\u001b[0m 331us/step - accuracy: 3.7864e-05 - loss: 0.5440\n",
      "Epoch 11/100\n",
      "\u001b[1m6100/6100\u001b[0m \u001b[32m━━━━━━━━━━━━━━━━━━━━\u001b[0m\u001b[37m\u001b[0m \u001b[1m2s\u001b[0m 334us/step - accuracy: 4.6979e-05 - loss: 0.5618\n",
      "Epoch 12/100\n",
      "\u001b[1m6100/6100\u001b[0m \u001b[32m━━━━━━━━━━━━━━━━━━━━\u001b[0m\u001b[37m\u001b[0m \u001b[1m2s\u001b[0m 364us/step - accuracy: 2.9409e-05 - loss: 0.5605\n",
      "Epoch 13/100\n",
      "\u001b[1m6100/6100\u001b[0m \u001b[32m━━━━━━━━━━━━━━━━━━━━\u001b[0m\u001b[37m\u001b[0m \u001b[1m2s\u001b[0m 333us/step - accuracy: 5.6518e-05 - loss: 0.5505\n",
      "Epoch 14/100\n",
      "\u001b[1m6100/6100\u001b[0m \u001b[32m━━━━━━━━━━━━━━━━━━━━\u001b[0m\u001b[37m\u001b[0m \u001b[1m2s\u001b[0m 362us/step - accuracy: 1.2423e-05 - loss: 0.5516\n",
      "Epoch 15/100\n",
      "\u001b[1m6100/6100\u001b[0m \u001b[32m━━━━━━━━━━━━━━━━━━━━\u001b[0m\u001b[37m\u001b[0m \u001b[1m2s\u001b[0m 338us/step - accuracy: 2.1321e-05 - loss: 0.5443\n",
      "Epoch 16/100\n",
      "\u001b[1m6100/6100\u001b[0m \u001b[32m━━━━━━━━━━━━━━━━━━━━\u001b[0m\u001b[37m\u001b[0m \u001b[1m2s\u001b[0m 331us/step - accuracy: 3.5308e-05 - loss: 0.5524\n",
      "Epoch 17/100\n",
      "\u001b[1m6100/6100\u001b[0m \u001b[32m━━━━━━━━━━━━━━━━━━━━\u001b[0m\u001b[37m\u001b[0m \u001b[1m2s\u001b[0m 342us/step - accuracy: 6.0224e-05 - loss: 0.5520\n",
      "Epoch 18/100\n",
      "\u001b[1m6100/6100\u001b[0m \u001b[32m━━━━━━━━━━━━━━━━━━━━\u001b[0m\u001b[37m\u001b[0m \u001b[1m2s\u001b[0m 336us/step - accuracy: 3.1805e-05 - loss: 0.5502\n",
      "Epoch 19/100\n",
      "\u001b[1m6100/6100\u001b[0m \u001b[32m━━━━━━━━━━━━━━━━━━━━\u001b[0m\u001b[37m\u001b[0m \u001b[1m2s\u001b[0m 338us/step - accuracy: 1.1659e-05 - loss: 0.5354\n",
      "Epoch 20/100\n",
      "\u001b[1m6100/6100\u001b[0m \u001b[32m━━━━━━━━━━━━━━━━━━━━\u001b[0m\u001b[37m\u001b[0m \u001b[1m2s\u001b[0m 340us/step - accuracy: 3.2784e-05 - loss: 0.5421\n",
      "Epoch 21/100\n",
      "\u001b[1m6100/6100\u001b[0m \u001b[32m━━━━━━━━━━━━━━━━━━━━\u001b[0m\u001b[37m\u001b[0m \u001b[1m2s\u001b[0m 333us/step - accuracy: 6.1574e-05 - loss: 0.5389\n",
      "Epoch 22/100\n",
      "\u001b[1m6100/6100\u001b[0m \u001b[32m━━━━━━━━━━━━━━━━━━━━\u001b[0m\u001b[37m\u001b[0m \u001b[1m2s\u001b[0m 370us/step - accuracy: 2.6559e-05 - loss: 0.5302\n",
      "Epoch 23/100\n",
      "\u001b[1m6100/6100\u001b[0m \u001b[32m━━━━━━━━━━━━━━━━━━━━\u001b[0m\u001b[37m\u001b[0m \u001b[1m2s\u001b[0m 333us/step - accuracy: 3.3069e-05 - loss: 0.5451\n",
      "Epoch 24/100\n",
      "\u001b[1m6100/6100\u001b[0m \u001b[32m━━━━━━━━━━━━━━━━━━━━\u001b[0m\u001b[37m\u001b[0m \u001b[1m2s\u001b[0m 359us/step - accuracy: 1.8599e-05 - loss: 0.5424\n",
      "Epoch 25/100\n",
      "\u001b[1m6100/6100\u001b[0m \u001b[32m━━━━━━━━━━━━━━━━━━━━\u001b[0m\u001b[37m\u001b[0m \u001b[1m2s\u001b[0m 338us/step - accuracy: 2.8441e-05 - loss: 0.5075\n",
      "Epoch 26/100\n",
      "\u001b[1m6100/6100\u001b[0m \u001b[32m━━━━━━━━━━━━━━━━━━━━\u001b[0m\u001b[37m\u001b[0m \u001b[1m2s\u001b[0m 333us/step - accuracy: 6.0277e-05 - loss: 0.5211\n",
      "Epoch 27/100\n",
      "\u001b[1m6100/6100\u001b[0m \u001b[32m━━━━━━━━━━━━━━━━━━━━\u001b[0m\u001b[37m\u001b[0m \u001b[1m2s\u001b[0m 394us/step - accuracy: 3.9670e-05 - loss: 0.5360\n",
      "Epoch 28/100\n",
      "\u001b[1m6100/6100\u001b[0m \u001b[32m━━━━━━━━━━━━━━━━━━━━\u001b[0m\u001b[37m\u001b[0m \u001b[1m2s\u001b[0m 370us/step - accuracy: 7.5639e-05 - loss: 0.5323\n",
      "Epoch 29/100\n",
      "\u001b[1m6100/6100\u001b[0m \u001b[32m━━━━━━━━━━━━━━━━━━━━\u001b[0m\u001b[37m\u001b[0m \u001b[1m2s\u001b[0m 336us/step - accuracy: 5.0545e-05 - loss: 0.5327\n",
      "Epoch 30/100\n",
      "\u001b[1m6100/6100\u001b[0m \u001b[32m━━━━━━━━━━━━━━━━━━━━\u001b[0m\u001b[37m\u001b[0m \u001b[1m2s\u001b[0m 339us/step - accuracy: 4.9516e-05 - loss: 0.5428\n",
      "Epoch 31/100\n",
      "\u001b[1m6100/6100\u001b[0m \u001b[32m━━━━━━━━━━━━━━━━━━━━\u001b[0m\u001b[37m\u001b[0m \u001b[1m2s\u001b[0m 351us/step - accuracy: 2.7679e-05 - loss: 0.5105\n",
      "Epoch 32/100\n",
      "\u001b[1m6100/6100\u001b[0m \u001b[32m━━━━━━━━━━━━━━━━━━━━\u001b[0m\u001b[37m\u001b[0m \u001b[1m2s\u001b[0m 393us/step - accuracy: 7.7575e-05 - loss: 0.5296\n",
      "Epoch 33/100\n",
      "\u001b[1m6100/6100\u001b[0m \u001b[32m━━━━━━━━━━━━━━━━━━━━\u001b[0m\u001b[37m\u001b[0m \u001b[1m2s\u001b[0m 349us/step - accuracy: 3.8548e-05 - loss: 0.5295\n",
      "Epoch 34/100\n",
      "\u001b[1m6100/6100\u001b[0m \u001b[32m━━━━━━━━━━━━━━━━━━━━\u001b[0m\u001b[37m\u001b[0m \u001b[1m3s\u001b[0m 446us/step - accuracy: 5.0223e-05 - loss: 0.5400\n",
      "Epoch 35/100\n",
      "\u001b[1m6100/6100\u001b[0m \u001b[32m━━━━━━━━━━━━━━━━━━━━\u001b[0m\u001b[37m\u001b[0m \u001b[1m2s\u001b[0m 373us/step - accuracy: 4.0859e-05 - loss: 0.5209\n",
      "Epoch 36/100\n",
      "\u001b[1m6100/6100\u001b[0m \u001b[32m━━━━━━━━━━━━━━━━━━━━\u001b[0m\u001b[37m\u001b[0m \u001b[1m2s\u001b[0m 343us/step - accuracy: 3.3274e-05 - loss: 0.5268\n",
      "Epoch 37/100\n",
      "\u001b[1m6100/6100\u001b[0m \u001b[32m━━━━━━━━━━━━━━━━━━━━\u001b[0m\u001b[37m\u001b[0m \u001b[1m3s\u001b[0m 429us/step - accuracy: 3.2017e-05 - loss: 0.5364\n",
      "Epoch 38/100\n",
      "\u001b[1m6100/6100\u001b[0m \u001b[32m━━━━━━━━━━━━━━━━━━━━\u001b[0m\u001b[37m\u001b[0m \u001b[1m2s\u001b[0m 374us/step - accuracy: 2.6108e-05 - loss: 0.5316\n",
      "Epoch 39/100\n",
      "\u001b[1m6100/6100\u001b[0m \u001b[32m━━━━━━━━━━━━━━━━━━━━\u001b[0m\u001b[37m\u001b[0m \u001b[1m2s\u001b[0m 345us/step - accuracy: 6.2074e-05 - loss: 0.5327\n",
      "Epoch 40/100\n",
      "\u001b[1m6100/6100\u001b[0m \u001b[32m━━━━━━━━━━━━━━━━━━━━\u001b[0m\u001b[37m\u001b[0m \u001b[1m2s\u001b[0m 356us/step - accuracy: 5.0830e-05 - loss: 0.5450\n",
      "Epoch 41/100\n",
      "\u001b[1m6100/6100\u001b[0m \u001b[32m━━━━━━━━━━━━━━━━━━━━\u001b[0m\u001b[37m\u001b[0m \u001b[1m2s\u001b[0m 348us/step - accuracy: 5.1054e-05 - loss: 0.5335\n",
      "Epoch 42/100\n",
      "\u001b[1m6100/6100\u001b[0m \u001b[32m━━━━━━━━━━━━━━━━━━━━\u001b[0m\u001b[37m\u001b[0m \u001b[1m2s\u001b[0m 395us/step - accuracy: 3.4597e-05 - loss: 0.5289\n",
      "Epoch 43/100\n",
      "\u001b[1m6100/6100\u001b[0m \u001b[32m━━━━━━━━━━━━━━━━━━━━\u001b[0m\u001b[37m\u001b[0m \u001b[1m2s\u001b[0m 375us/step - accuracy: 4.4303e-05 - loss: 0.5309\n",
      "Epoch 44/100\n",
      "\u001b[1m6100/6100\u001b[0m \u001b[32m━━━━━━━━━━━━━━━━━━━━\u001b[0m\u001b[37m\u001b[0m \u001b[1m2s\u001b[0m 391us/step - accuracy: 4.8502e-05 - loss: 0.5439\n",
      "Epoch 45/100\n",
      "\u001b[1m6100/6100\u001b[0m \u001b[32m━━━━━━━━━━━━━━━━━━━━\u001b[0m\u001b[37m\u001b[0m \u001b[1m2s\u001b[0m 356us/step - accuracy: 3.5165e-05 - loss: 0.5231\n",
      "Epoch 46/100\n",
      "\u001b[1m6100/6100\u001b[0m \u001b[32m━━━━━━━━━━━━━━━━━━━━\u001b[0m\u001b[37m\u001b[0m \u001b[1m2s\u001b[0m 345us/step - accuracy: 4.0054e-05 - loss: 0.5345\n",
      "Epoch 47/100\n",
      "\u001b[1m6100/6100\u001b[0m \u001b[32m━━━━━━━━━━━━━━━━━━━━\u001b[0m\u001b[37m\u001b[0m \u001b[1m2s\u001b[0m 346us/step - accuracy: 3.5205e-05 - loss: 0.5134\n",
      "Epoch 48/100\n",
      "\u001b[1m6100/6100\u001b[0m \u001b[32m━━━━━━━━━━━━━━━━━━━━\u001b[0m\u001b[37m\u001b[0m \u001b[1m2s\u001b[0m 358us/step - accuracy: 6.0499e-05 - loss: 0.5386\n",
      "Epoch 49/100\n",
      "\u001b[1m6100/6100\u001b[0m \u001b[32m━━━━━━━━━━━━━━━━━━━━\u001b[0m\u001b[37m\u001b[0m \u001b[1m2s\u001b[0m 345us/step - accuracy: 9.4342e-05 - loss: 0.5280\n",
      "Epoch 50/100\n",
      "\u001b[1m6100/6100\u001b[0m \u001b[32m━━━━━━━━━━━━━━━━━━━━\u001b[0m\u001b[37m\u001b[0m \u001b[1m2s\u001b[0m 375us/step - accuracy: 5.1438e-05 - loss: 0.5301\n",
      "Epoch 51/100\n",
      "\u001b[1m6100/6100\u001b[0m \u001b[32m━━━━━━━━━━━━━━━━━━━━\u001b[0m\u001b[37m\u001b[0m \u001b[1m2s\u001b[0m 354us/step - accuracy: 1.0765e-04 - loss: 0.5259\n",
      "Epoch 52/100\n",
      "\u001b[1m6100/6100\u001b[0m \u001b[32m━━━━━━━━━━━━━━━━━━━━\u001b[0m\u001b[37m\u001b[0m \u001b[1m2s\u001b[0m 385us/step - accuracy: 1.1439e-04 - loss: 0.5296\n",
      "Epoch 53/100\n",
      "\u001b[1m6100/6100\u001b[0m \u001b[32m━━━━━━━━━━━━━━━━━━━━\u001b[0m\u001b[37m\u001b[0m \u001b[1m2s\u001b[0m 364us/step - accuracy: 4.7444e-05 - loss: 0.5237\n",
      "Epoch 54/100\n",
      "\u001b[1m6100/6100\u001b[0m \u001b[32m━━━━━━━━━━━━━━━━━━━━\u001b[0m\u001b[37m\u001b[0m \u001b[1m2s\u001b[0m 353us/step - accuracy: 5.3535e-05 - loss: 0.5462\n",
      "Epoch 55/100\n",
      "\u001b[1m6100/6100\u001b[0m \u001b[32m━━━━━━━━━━━━━━━━━━━━\u001b[0m\u001b[37m\u001b[0m \u001b[1m2s\u001b[0m 382us/step - accuracy: 6.1418e-05 - loss: 0.5346\n",
      "Epoch 56/100\n",
      "\u001b[1m6100/6100\u001b[0m \u001b[32m━━━━━━━━━━━━━━━━━━━━\u001b[0m\u001b[37m\u001b[0m \u001b[1m2s\u001b[0m 394us/step - accuracy: 8.5674e-05 - loss: 0.5398\n",
      "Epoch 57/100\n",
      "\u001b[1m6100/6100\u001b[0m \u001b[32m━━━━━━━━━━━━━━━━━━━━\u001b[0m\u001b[37m\u001b[0m \u001b[1m2s\u001b[0m 390us/step - accuracy: 5.6902e-05 - loss: 0.5295\n",
      "Epoch 58/100\n",
      "\u001b[1m6100/6100\u001b[0m \u001b[32m━━━━━━━━━━━━━━━━━━━━\u001b[0m\u001b[37m\u001b[0m \u001b[1m2s\u001b[0m 357us/step - accuracy: 4.8387e-05 - loss: 0.5219\n",
      "Epoch 59/100\n",
      "\u001b[1m6100/6100\u001b[0m \u001b[32m━━━━━━━━━━━━━━━━━━━━\u001b[0m\u001b[37m\u001b[0m \u001b[1m2s\u001b[0m 374us/step - accuracy: 3.1170e-05 - loss: 0.5283\n",
      "Epoch 60/100\n",
      "\u001b[1m6100/6100\u001b[0m \u001b[32m━━━━━━━━━━━━━━━━━━━━\u001b[0m\u001b[37m\u001b[0m \u001b[1m2s\u001b[0m 354us/step - accuracy: 1.0157e-04 - loss: 0.5301\n",
      "Epoch 61/100\n",
      "\u001b[1m6100/6100\u001b[0m \u001b[32m━━━━━━━━━━━━━━━━━━━━\u001b[0m\u001b[37m\u001b[0m \u001b[1m2s\u001b[0m 388us/step - accuracy: 6.4306e-05 - loss: 0.5263\n",
      "Epoch 62/100\n",
      "\u001b[1m6100/6100\u001b[0m \u001b[32m━━━━━━━━━━━━━━━━━━━━\u001b[0m\u001b[37m\u001b[0m \u001b[1m3s\u001b[0m 420us/step - accuracy: 3.1620e-05 - loss: 0.5262\n",
      "Epoch 63/100\n",
      "\u001b[1m6100/6100\u001b[0m \u001b[32m━━━━━━━━━━━━━━━━━━━━\u001b[0m\u001b[37m\u001b[0m \u001b[1m2s\u001b[0m 357us/step - accuracy: 6.7457e-05 - loss: 0.5298\n",
      "Epoch 64/100\n",
      "\u001b[1m6100/6100\u001b[0m \u001b[32m━━━━━━━━━━━━━━━━━━━━\u001b[0m\u001b[37m\u001b[0m \u001b[1m2s\u001b[0m 350us/step - accuracy: 6.2944e-05 - loss: 0.5268\n",
      "Epoch 65/100\n",
      "\u001b[1m6100/6100\u001b[0m \u001b[32m━━━━━━━━━━━━━━━━━━━━\u001b[0m\u001b[37m\u001b[0m \u001b[1m2s\u001b[0m 385us/step - accuracy: 2.6736e-05 - loss: 0.5294\n",
      "Epoch 66/100\n",
      "\u001b[1m6100/6100\u001b[0m \u001b[32m━━━━━━━━━━━━━━━━━━━━\u001b[0m\u001b[37m\u001b[0m \u001b[1m2s\u001b[0m 354us/step - accuracy: 5.5999e-05 - loss: 0.5305\n",
      "Epoch 67/100\n",
      "\u001b[1m6100/6100\u001b[0m \u001b[32m━━━━━━━━━━━━━━━━━━━━\u001b[0m\u001b[37m\u001b[0m \u001b[1m2s\u001b[0m 358us/step - accuracy: 8.5765e-05 - loss: 0.5291\n",
      "Epoch 68/100\n",
      "\u001b[1m6100/6100\u001b[0m \u001b[32m━━━━━━━━━━━━━━━━━━━━\u001b[0m\u001b[37m\u001b[0m \u001b[1m2s\u001b[0m 353us/step - accuracy: 6.3049e-05 - loss: 0.5111\n",
      "Epoch 69/100\n",
      "\u001b[1m6100/6100\u001b[0m \u001b[32m━━━━━━━━━━━━━━━━━━━━\u001b[0m\u001b[37m\u001b[0m \u001b[1m2s\u001b[0m 351us/step - accuracy: 6.5735e-05 - loss: 0.5144\n",
      "Epoch 70/100\n",
      "\u001b[1m6100/6100\u001b[0m \u001b[32m━━━━━━━━━━━━━━━━━━━━\u001b[0m\u001b[37m\u001b[0m \u001b[1m2s\u001b[0m 381us/step - accuracy: 8.4364e-05 - loss: 0.5394\n",
      "Epoch 71/100\n",
      "\u001b[1m6100/6100\u001b[0m \u001b[32m━━━━━━━━━━━━━━━━━━━━\u001b[0m\u001b[37m\u001b[0m \u001b[1m2s\u001b[0m 387us/step - accuracy: 5.2985e-05 - loss: 0.5105\n",
      "Epoch 72/100\n",
      "\u001b[1m6100/6100\u001b[0m \u001b[32m━━━━━━━━━━━━━━━━━━━━\u001b[0m\u001b[37m\u001b[0m \u001b[1m2s\u001b[0m 359us/step - accuracy: 7.4264e-05 - loss: 0.5246\n",
      "Epoch 73/100\n",
      "\u001b[1m6100/6100\u001b[0m \u001b[32m━━━━━━━━━━━━━━━━━━━━\u001b[0m\u001b[37m\u001b[0m \u001b[1m2s\u001b[0m 386us/step - accuracy: 4.6582e-05 - loss: 0.5192\n",
      "Epoch 74/100\n",
      "\u001b[1m6100/6100\u001b[0m \u001b[32m━━━━━━━━━━━━━━━━━━━━\u001b[0m\u001b[37m\u001b[0m \u001b[1m2s\u001b[0m 349us/step - accuracy: 6.7629e-05 - loss: 0.5238\n",
      "Epoch 75/100\n",
      "\u001b[1m6100/6100\u001b[0m \u001b[32m━━━━━━━━━━━━━━━━━━━━\u001b[0m\u001b[37m\u001b[0m \u001b[1m2s\u001b[0m 386us/step - accuracy: 5.3172e-05 - loss: 0.5219\n",
      "Epoch 76/100\n",
      "\u001b[1m6100/6100\u001b[0m \u001b[32m━━━━━━━━━━━━━━━━━━━━\u001b[0m\u001b[37m\u001b[0m \u001b[1m2s\u001b[0m 400us/step - accuracy: 5.0166e-05 - loss: 0.5158\n",
      "Epoch 77/100\n",
      "\u001b[1m6100/6100\u001b[0m \u001b[32m━━━━━━━━━━━━━━━━━━━━\u001b[0m\u001b[37m\u001b[0m \u001b[1m2s\u001b[0m 405us/step - accuracy: 5.1206e-05 - loss: 0.5204\n",
      "Epoch 78/100\n",
      "\u001b[1m6100/6100\u001b[0m \u001b[32m━━━━━━━━━━━━━━━━━━━━\u001b[0m\u001b[37m\u001b[0m \u001b[1m3s\u001b[0m 424us/step - accuracy: 9.4924e-05 - loss: 0.5262\n",
      "Epoch 79/100\n",
      "\u001b[1m6100/6100\u001b[0m \u001b[32m━━━━━━━━━━━━━━━━━━━━\u001b[0m\u001b[37m\u001b[0m \u001b[1m3s\u001b[0m 418us/step - accuracy: 9.4123e-05 - loss: 0.5145\n",
      "Epoch 80/100\n",
      "\u001b[1m6100/6100\u001b[0m \u001b[32m━━━━━━━━━━━━━━━━━━━━\u001b[0m\u001b[37m\u001b[0m \u001b[1m3s\u001b[0m 410us/step - accuracy: 1.2081e-04 - loss: 0.5281\n",
      "Epoch 81/100\n",
      "\u001b[1m6100/6100\u001b[0m \u001b[32m━━━━━━━━━━━━━━━━━━━━\u001b[0m\u001b[37m\u001b[0m \u001b[1m3s\u001b[0m 433us/step - accuracy: 9.9774e-05 - loss: 0.5209\n",
      "Epoch 82/100\n",
      "\u001b[1m6100/6100\u001b[0m \u001b[32m━━━━━━━━━━━━━━━━━━━━\u001b[0m\u001b[37m\u001b[0m \u001b[1m3s\u001b[0m 434us/step - accuracy: 9.1001e-05 - loss: 0.5257\n",
      "Epoch 83/100\n",
      "\u001b[1m6100/6100\u001b[0m \u001b[32m━━━━━━━━━━━━━━━━━━━━\u001b[0m\u001b[37m\u001b[0m \u001b[1m3s\u001b[0m 428us/step - accuracy: 1.0143e-04 - loss: 0.5259\n",
      "Epoch 84/100\n",
      "\u001b[1m6100/6100\u001b[0m \u001b[32m━━━━━━━━━━━━━━━━━━━━\u001b[0m\u001b[37m\u001b[0m \u001b[1m2s\u001b[0m 403us/step - accuracy: 8.0399e-05 - loss: 0.5318\n",
      "Epoch 85/100\n",
      "\u001b[1m6100/6100\u001b[0m \u001b[32m━━━━━━━━━━━━━━━━━━━━\u001b[0m\u001b[37m\u001b[0m \u001b[1m3s\u001b[0m 445us/step - accuracy: 6.7353e-05 - loss: 0.5292\n",
      "Epoch 86/100\n",
      "\u001b[1m6100/6100\u001b[0m \u001b[32m━━━━━━━━━━━━━━━━━━━━\u001b[0m\u001b[37m\u001b[0m \u001b[1m3s\u001b[0m 440us/step - accuracy: 6.6825e-05 - loss: 0.5164\n",
      "Epoch 87/100\n",
      "\u001b[1m6100/6100\u001b[0m \u001b[32m━━━━━━━━━━━━━━━━━━━━\u001b[0m\u001b[37m\u001b[0m \u001b[1m3s\u001b[0m 445us/step - accuracy: 1.0517e-04 - loss: 0.5184\n",
      "Epoch 88/100\n",
      "\u001b[1m6100/6100\u001b[0m \u001b[32m━━━━━━━━━━━━━━━━━━━━\u001b[0m\u001b[37m\u001b[0m \u001b[1m3s\u001b[0m 499us/step - accuracy: 6.8429e-05 - loss: 0.5177\n",
      "Epoch 89/100\n",
      "\u001b[1m6100/6100\u001b[0m \u001b[32m━━━━━━━━━━━━━━━━━━━━\u001b[0m\u001b[37m\u001b[0m \u001b[1m3s\u001b[0m 456us/step - accuracy: 1.0378e-04 - loss: 0.5176\n",
      "Epoch 90/100\n",
      "\u001b[1m6100/6100\u001b[0m \u001b[32m━━━━━━━━━━━━━━━━━━━━\u001b[0m\u001b[37m\u001b[0m \u001b[1m3s\u001b[0m 435us/step - accuracy: 1.0007e-04 - loss: 0.5303\n",
      "Epoch 91/100\n",
      "\u001b[1m6100/6100\u001b[0m \u001b[32m━━━━━━━━━━━━━━━━━━━━\u001b[0m\u001b[37m\u001b[0m \u001b[1m3s\u001b[0m 413us/step - accuracy: 8.2541e-05 - loss: 0.5272\n",
      "Epoch 92/100\n",
      "\u001b[1m6100/6100\u001b[0m \u001b[32m━━━━━━━━━━━━━━━━━━━━\u001b[0m\u001b[37m\u001b[0m \u001b[1m3s\u001b[0m 432us/step - accuracy: 8.2664e-05 - loss: 0.5289\n",
      "Epoch 93/100\n",
      "\u001b[1m6100/6100\u001b[0m \u001b[32m━━━━━━━━━━━━━━━━━━━━\u001b[0m\u001b[37m\u001b[0m \u001b[1m2s\u001b[0m 406us/step - accuracy: 4.7260e-05 - loss: 0.5224\n",
      "Epoch 94/100\n",
      "\u001b[1m6100/6100\u001b[0m \u001b[32m━━━━━━━━━━━━━━━━━━━━\u001b[0m\u001b[37m\u001b[0m \u001b[1m3s\u001b[0m 409us/step - accuracy: 8.1817e-05 - loss: 0.5155\n",
      "Epoch 95/100\n",
      "\u001b[1m6100/6100\u001b[0m \u001b[32m━━━━━━━━━━━━━━━━━━━━\u001b[0m\u001b[37m\u001b[0m \u001b[1m3s\u001b[0m 414us/step - accuracy: 1.2082e-04 - loss: 0.5239\n",
      "Epoch 96/100\n",
      "\u001b[1m6100/6100\u001b[0m \u001b[32m━━━━━━━━━━━━━━━━━━━━\u001b[0m\u001b[37m\u001b[0m \u001b[1m3s\u001b[0m 432us/step - accuracy: 8.4348e-05 - loss: 0.5273\n",
      "Epoch 97/100\n",
      "\u001b[1m6100/6100\u001b[0m \u001b[32m━━━━━━━━━━━━━━━━━━━━\u001b[0m\u001b[37m\u001b[0m \u001b[1m3s\u001b[0m 421us/step - accuracy: 1.2447e-04 - loss: 0.5196\n",
      "Epoch 98/100\n",
      "\u001b[1m6100/6100\u001b[0m \u001b[32m━━━━━━━━━━━━━━━━━━━━\u001b[0m\u001b[37m\u001b[0m \u001b[1m3s\u001b[0m 444us/step - accuracy: 1.1414e-04 - loss: 0.5117\n",
      "Epoch 99/100\n",
      "\u001b[1m6100/6100\u001b[0m \u001b[32m━━━━━━━━━━━━━━━━━━━━\u001b[0m\u001b[37m\u001b[0m \u001b[1m3s\u001b[0m 442us/step - accuracy: 8.9315e-05 - loss: 0.5160\n",
      "Epoch 100/100\n",
      "\u001b[1m6100/6100\u001b[0m \u001b[32m━━━━━━━━━━━━━━━━━━━━\u001b[0m\u001b[37m\u001b[0m \u001b[1m3s\u001b[0m 438us/step - accuracy: 7.1197e-05 - loss: 0.5300\n"
     ]
    },
    {
     "data": {
      "text/plain": [
       "<keras.src.callbacks.history.History at 0x33b54d3c0>"
      ]
     },
     "execution_count": 15,
     "metadata": {},
     "output_type": "execute_result"
    }
   ],
   "source": [
    "# 3m 29.6s multi-threading\n",
    "# 3m 46.2s single-threading\n",
    "# train the ANN on the training set\n",
    "ann.fit(X_train, y_train, batch_size = 32, epochs = 100)"
   ]
  },
  {
   "cell_type": "code",
   "execution_count": 16,
   "metadata": {},
   "outputs": [
    {
     "name": "stdout",
     "output_type": "stream",
     "text": [
      "WARNING:absl:You are saving your model as an HDF5 file via `model.save()` or `keras.saving.save_model(model)`. This file format is considered legacy. We recommend using instead the native Keras format, e.g. `model.save('my_model.keras')` or `keras.saving.save_model(model, 'my_model.keras')`. \n"
     ]
    }
   ],
   "source": [
    "# Save the model to a file\n",
    "ann.save('ann_modelL1_no_extra_scaling.h5')"
   ]
  },
  {
   "cell_type": "code",
   "execution_count": 33,
   "metadata": {},
   "outputs": [
    {
     "name": "stdout",
     "output_type": "stream",
     "text": [
      "WARNING:absl:Compiled the loaded model, but the compiled metrics have yet to be built. `model.compile_metrics` will be empty until you train or evaluate the model.\n"
     ]
    }
   ],
   "source": [
    "from tensorflow.keras.models import load_model\n",
    "# modelL1 = load_model('ann_modelL1_no_extra_scaling.h5')"
   ]
  },
  {
   "cell_type": "code",
   "execution_count": 34,
   "metadata": {},
   "outputs": [
    {
     "name": "stdout",
     "output_type": "stream",
     "text": [
      "\u001b[1m678/678\u001b[0m \u001b[32m━━━━━━━━━━━━━━━━━━━━\u001b[0m\u001b[37m\u001b[0m \u001b[1m0s\u001b[0m 471us/step\n",
      "[[ 5.26321507  5.2424983 ]\n",
      " [ 4.47142029  4.47856703]\n",
      " [ 3.38243818  3.05511991]\n",
      " [ 4.86401272  4.78211684]\n",
      " [ 3.1142652   3.13775806]\n",
      " [ 7.24734974  7.61543574]\n",
      " [ 4.15143013  3.28504019]\n",
      " [ 4.50670815  4.65370644]\n",
      " [ 3.15082622  3.01801802]\n",
      " [ 7.39093399  7.07858967]\n",
      " [10.64947987 10.33370743]\n",
      " [ 6.5050993   6.83812085]\n",
      " [ 7.6116724   6.62506512]\n",
      " [ 6.95489693  7.10678524]\n",
      " [ 5.93442535  6.05466682]]\n"
     ]
    }
   ],
   "source": [
    "y_pred = modelL1.predict(X_test)\n",
    "#y_pred = (y_pred > 0.5)\n",
    "print(np.concatenate((y_pred.reshape(len(y_pred),1), y_test.reshape(len(y_test),1)),1)[10:25])"
   ]
  },
  {
   "cell_type": "code",
   "execution_count": 35,
   "metadata": {},
   "outputs": [],
   "source": [
    "unlensed_params = get_param_from_json(\"ler_data/unlensed_param_testing.json\")"
   ]
  },
  {
   "cell_type": "code",
   "execution_count": 36,
   "metadata": {},
   "outputs": [
    {
     "name": "stdout",
     "output_type": "stream",
     "text": [
      "\u001b[1m4/4\u001b[0m \u001b[32m━━━━━━━━━━━━━━━━━━━━\u001b[0m\u001b[37m\u001b[0m \u001b[1m0s\u001b[0m 616us/step\n",
      "[[ 9.89567471  8.37264323]\n",
      " [ 6.36933756  6.08253142]\n",
      " [ 7.73420906  8.10900647]\n",
      " [ 6.83384037  6.53987562]\n",
      " [ 7.22859192  7.64317072]\n",
      " [ 6.41443634  6.45474988]\n",
      " [ 7.9500618   7.42176855]\n",
      " [ 6.77188969  6.43454205]\n",
      " [ 6.95174694  6.84108021]\n",
      " [ 6.58113194  6.45232595]\n",
      " [ 5.81172276  6.04834994]\n",
      " [ 8.1357832   8.06745302]\n",
      " [ 6.15501308  6.34537863]\n",
      " [ 6.59115028  7.3953399 ]\n",
      " [ 6.04848576  6.14583937]\n",
      " [ 7.14203548  7.36668992]\n",
      " [ 8.28619194  8.83326747]\n",
      " [ 4.96621704  6.58250399]\n",
      " [ 6.67010498  6.88068083]\n",
      " [ 5.84821701  6.00676755]\n",
      " [ 9.66589546  9.29325364]\n",
      " [ 9.3239193   7.13618657]\n",
      " [ 5.72079468  6.11026731]\n",
      " [ 6.57275009  6.45960054]\n",
      " [ 6.64291906  6.02239107]\n",
      " [ 9.13375378  7.90036234]\n",
      " [ 7.20563316  7.49219498]\n",
      " [ 8.03871632  8.48841842]\n",
      " [ 6.60565376  6.80922024]\n",
      " [ 7.57616043  7.14241753]\n",
      " [ 8.51705647  8.65667959]\n",
      " [ 7.79626274  8.19300083]\n",
      " [ 9.66185188  8.72468378]\n",
      " [ 9.67368793  8.88535465]\n",
      " [10.1775589   9.36444172]\n",
      " [ 9.56618023  9.40366702]\n",
      " [ 8.86736774  8.84068498]\n",
      " [ 6.7141304   7.22267585]\n",
      " [ 6.6677804   6.62378998]\n",
      " [ 5.59749603  6.00151063]\n",
      " [ 6.50058556  6.33230078]\n",
      " [ 7.68356419  7.13999707]\n",
      " [ 9.63956642  8.24761621]\n",
      " [ 8.05945683  7.15634186]\n",
      " [ 8.89793491  9.60383322]\n",
      " [ 8.03887939  7.61451583]\n",
      " [ 7.3971262   7.68632883]\n",
      " [ 6.77417803  7.24674057]\n",
      " [ 7.03152275  6.95204284]\n",
      " [ 8.07260036  8.32375343]\n",
      " [ 7.61480713  7.38012036]\n",
      " [ 7.24206734  6.72096868]\n",
      " [ 7.2712698   6.48803654]\n",
      " [ 8.17335796  8.68886007]\n",
      " [ 6.10895824  6.07340337]\n",
      " [ 6.92255211  6.45085571]\n",
      " [ 5.82866955  6.11972146]\n",
      " [ 8.85624981  9.76893562]\n",
      " [11.3427515   9.86059265]\n",
      " [ 9.41058254  9.56686147]\n",
      " [ 7.95572948  6.33584821]\n",
      " [ 7.13023949  6.77235635]\n",
      " [ 6.36155128  6.29653552]\n",
      " [10.40186787  9.92146309]\n",
      " [ 8.42726803  9.15496175]\n",
      " [ 7.31558132  7.57849817]\n",
      " [ 8.33789635  7.65004954]\n",
      " [10.67713928  9.53144326]\n",
      " [ 9.52658367  9.86922002]\n",
      " [ 6.27632046  6.15278245]\n",
      " [ 7.61534977  7.68495322]\n",
      " [ 8.2575779   8.7598205 ]\n",
      " [ 7.77848721  8.21764307]\n",
      " [ 6.80760098  6.40395654]\n",
      " [ 6.50381804  6.67735281]\n",
      " [ 7.1998558   7.46058754]\n",
      " [ 6.42942286  6.48814618]\n",
      " [ 7.45481396  6.93791371]\n",
      " [11.71358776  9.99189979]\n",
      " [ 7.01422691  7.25863754]\n",
      " [ 5.21629524  6.48526996]\n",
      " [ 7.5796423   7.38645506]\n",
      " [ 8.55853367  8.36154648]\n",
      " [ 6.2428093   6.12382161]\n",
      " [ 6.06786346  6.19166143]\n",
      " [ 8.69883823  7.8229296 ]\n",
      " [ 9.09765244  8.30918885]\n",
      " [ 7.57170963  7.93424334]\n",
      " [ 8.09000587  7.45274731]\n",
      " [ 7.35587215  6.45353659]\n",
      " [ 6.98620987  7.55348602]\n",
      " [ 5.71758556  6.61016938]\n",
      " [ 7.06411457  6.65145229]\n",
      " [ 9.16187477  7.55547126]\n",
      " [ 8.6145649   6.93305786]\n",
      " [ 6.54511356  6.365504  ]\n",
      " [ 6.78873825  6.59285824]\n",
      " [ 5.92357922  6.19648874]\n",
      " [ 7.56770229  6.27985231]\n",
      " [ 7.84702396  7.83498883]\n",
      " [ 9.33019733  9.66243429]\n",
      " [ 2.82557678  6.35281549]\n",
      " [ 8.56997299  7.8099558 ]\n",
      " [ 7.75446606  7.36207698]\n",
      " [ 6.22727346  6.25096765]\n",
      " [ 8.2263546   8.68023884]\n",
      " [ 6.76172209  6.90912912]\n",
      " [ 7.04999638  6.3476796 ]\n",
      " [ 6.44281292  6.43933967]\n",
      " [ 6.264534    6.69169123]\n",
      " [ 6.69143772  6.3646349 ]\n",
      " [ 6.11889362  6.20135572]\n",
      " [ 7.35307693  7.57785385]\n",
      " [ 7.60925102  7.85181164]\n",
      " [ 7.95925331  8.18068531]\n",
      " [ 7.25578594  7.64882459]\n",
      " [ 6.61184359  6.4951073 ]\n",
      " [ 6.09576988  6.49437119]\n",
      " [ 6.45934772  6.75773945]\n",
      " [ 8.1658268   7.93396093]\n",
      " [ 7.34259892  7.18643825]]\n"
     ]
    }
   ],
   "source": [
    "X_, Y_ = input_output(np.arange(len(unlensed_params['L1'])), unlensed_params)\n",
    "X_ = sc.transform(X_)\n",
    "\n",
    "idx = (Y_>6)&(Y_<10)\n",
    "y_pred = ann.predict(X_[idx])\n",
    "y_true = Y_[idx]\n",
    "print(np.concatenate((y_pred.reshape(len(y_pred),1), y_true.reshape(len(y_true),1)),1)[:])"
   ]
  },
  {
   "cell_type": "code",
   "execution_count": 37,
   "metadata": {},
   "outputs": [
    {
     "data": {
      "text/plain": [
       "array([41804])"
      ]
     },
     "execution_count": 37,
     "metadata": {},
     "output_type": "execute_result"
    }
   ],
   "source": [
    "np.where(np.round(Y_,8)==6.35281549)[0]"
   ]
  },
  {
   "cell_type": "code",
   "execution_count": 38,
   "metadata": {},
   "outputs": [
    {
     "data": {
      "text/plain": [
       "(0.0024239513994236722,\n",
       " -1.04110865804642,\n",
       " -3.7849327724746633,\n",
       " 0.2398097037722366,\n",
       " 0.5861459904631146,\n",
       " 0.44975027363156717)"
      ]
     },
     "execution_count": 38,
     "metadata": {},
     "output_type": "execute_result"
    }
   ],
   "source": [
    "idxidx = 41804\n",
    "X_[:,0][idxidx], X_[:,1][idxidx], X_[:,2][idxidx], X_[:,3][idxidx], unlensed_params['a_1'][idxidx], unlensed_params['a_2'][idxidx]"
   ]
  },
  {
   "cell_type": "code",
   "execution_count": 39,
   "metadata": {},
   "outputs": [
    {
     "data": {
      "text/plain": [
       "770"
      ]
     },
     "execution_count": 39,
     "metadata": {},
     "output_type": "execute_result"
    }
   ],
   "source": [
    "np.sum(X_[:,2]<-3)"
   ]
  },
  {
   "cell_type": "code",
   "execution_count": 40,
   "metadata": {},
   "outputs": [
    {
     "name": "stdout",
     "output_type": "stream",
     "text": [
      "\u001b[1m   1/1563\u001b[0m \u001b[37m━━━━━━━━━━━━━━━━━━━━\u001b[0m \u001b[1m18s\u001b[0m 12ms/step"
     ]
    },
    {
     "name": "stdout",
     "output_type": "stream",
     "text": [
      "\u001b[1m1563/1563\u001b[0m \u001b[32m━━━━━━━━━━━━━━━━━━━━\u001b[0m\u001b[37m\u001b[0m \u001b[1m1s\u001b[0m 377us/step\n",
      "50000\n",
      "115\n"
     ]
    },
    {
     "data": {
      "image/png": "[encoded data removed]",
      "text/plain": [
       "<Figure size 400x400 with 1 Axes>"
      ]
     },
     "metadata": {},
     "output_type": "display_data"
    }
   ],
   "source": [
    "import matplotlib.pyplot as plt\n",
    "\n",
    "y_pred_ = ann.predict(X_).flatten()\n",
    "y_test_ = Y_\n",
    "# y_test = Y_\n",
    "hist_ = y_pred_-y_test_\n",
    "print(len(hist_))\n",
    "idx = (y_test_>6) & (y_test_<10)\n",
    "idx = idx & (X_[:,2]>-2)\n",
    "hist_ = hist_[idx]\n",
    "#hist_ = hist_[abs(hist_)<5.]\n",
    "print(len(hist_))\n",
    "# idx_ = abs(hist_)>3.0\n",
    "# print(y_pred_[idx][idx_])\n",
    "# print(y_test_[idx][idx_])\n",
    "plt.figure(figsize=(4,4)) \n",
    "plt.hist(hist_, bins=100, histtype='step', density=True)\n",
    "# plt.xlim(-5,5)\n",
    "plt.xlabel('snr_ml and snr_inner_product difference')\n",
    "plt.ylabel('pdf')\n",
    "plt.grid(alpha=0.4)\n",
    "plt.show()"
   ]
  },
  {
   "cell_type": "code",
   "execution_count": 43,
   "metadata": {},
   "outputs": [
    {
     "name": "stdout",
     "output_type": "stream",
     "text": [
      "\u001b[1m1563/1563\u001b[0m \u001b[32m━━━━━━━━━━━━━━━━━━━━\u001b[0m\u001b[37m\u001b[0m \u001b[1m0s\u001b[0m 233us/step\n",
      "Error: 0.0840%\n"
     ]
    }
   ],
   "source": [
    "y_pred_ = ann.predict(X_).flatten()\n",
    "y_test_ = Y_\n",
    "len1 = len(y_pred_)\n",
    "len2 = np.sum((y_pred_.flatten()>8) != (y_test_>8))\n",
    "error = len2/len1*100\n",
    "print(f\"Error: {error:.4f}%\")"
   ]
  },
  {
   "cell_type": "code",
   "execution_count": 89,
   "metadata": {},
   "outputs": [
    {
     "name": "stdout",
     "output_type": "stream",
     "text": [
      "21686\n",
      "7753\n"
     ]
    },
    {
     "data": {
      "image/png": "[encoded data removed]",
      "text/plain": [
       "<Figure size 400x400 with 1 Axes>"
      ]
     },
     "metadata": {},
     "output_type": "display_data"
    }
   ],
   "source": [
    "import matplotlib.pyplot as plt\n",
    "\n",
    "y_pred = y_pred.copy().flatten()\n",
    "# y_test = Y_\n",
    "hist_ = y_pred-y_test\n",
    "print(len(hist_))\n",
    "idx = (y_test>6) & (y_test<10)\n",
    "hist_ = hist_[idx]\n",
    "#hist_ = hist_[abs(hist_)<5.]\n",
    "print(len(hist_))\n",
    "plt.figure(figsize=(4,4)) \n",
    "plt.hist(hist_, bins=100, histtype='step', density=True)\n",
    "plt.xlim(-5,5)\n",
    "plt.xlabel('snr_ml and snr_inner_product difference')\n",
    "plt.ylabel('pdf')\n",
    "plt.grid(alpha=0.4)\n",
    "plt.show()"
   ]
  },
  {
   "cell_type": "code",
   "execution_count": 41,
   "metadata": {},
   "outputs": [
    {
     "name": "stdout",
     "output_type": "stream",
     "text": [
      "WARNING:absl:You are saving your model as an HDF5 file via `model.save()` or `keras.saving.save_model(model)`. This file format is considered legacy. We recommend using instead the native Keras format, e.g. `model.save('my_model.keras')` or `keras.saving.save_model(model, 'my_model.keras')`. \n"
     ]
    }
   ],
   "source": [
    "# Save the model to a file\n",
    "# ann.save('ann_modelL1.h5')"
   ]
  },
  {
   "cell_type": "code",
   "execution_count": 32,
   "metadata": {},
   "outputs": [
    {
     "data": {
      "image/png": "[encoded data removed]",
      "text/plain": [
       "<Figure size 400x400 with 1 Axes>"
      ]
     },
     "metadata": {},
     "output_type": "display_data"
    }
   ],
   "source": [
    "# looking correlation between error and snr\n",
    "import matplotlib.pyplot as plt\n",
    "idx = (y_pred_>2) & (y_pred_<20)\n",
    "# idx = idx & (X_[:,2]>-2)\n",
    "plt.figure(figsize=(4,4))\n",
    "plt.scatter(y_pred_[idx], y_test_[idx]-y_pred_[idx], alpha=0.1)\n",
    "plt.xlabel(\"Predicted SNR\")\n",
    "plt.xscale(\"log\")\n",
    "plt.ylabel(\"Error\")\n",
    "plt.ylim(-3,3)\n",
    "plt.xlim(6,10)\n",
    "plt.grid(alpha=0.4)\n",
    "plt.savefig(\"error_vs_snrL1_param4.png\")\n",
    "plt.show()"
   ]
  },
  {
   "cell_type": "code",
   "execution_count": null,
   "metadata": {},
   "outputs": [],
   "source": []
  },
  {
   "cell_type": "markdown",
   "metadata": {},
   "source": [
    "## H1"
   ]
  },
  {
   "cell_type": "code",
   "execution_count": 496,
   "metadata": {},
   "outputs": [
    {
     "name": "stdout",
     "output_type": "stream",
     "text": [
      "216908\n",
      "216853\n"
     ]
    }
   ],
   "source": [
    "# get data\n",
    "from ler.utils import append_json, get_param_from_json\n",
    "import numpy as np\n",
    "\n",
    "# joint two dict\n",
    "unlensed_params = get_param_from_json(\"snr_L1.json\")\n",
    "#unlensed_params2 = get_param_from_json(\"joint_new_optsnr.json\")\n",
    "unlensed_params3 = get_param_from_json(\"joint_new_optsnr2.json\")\n",
    "unlensed_params4 = get_param_from_json(\"joint_new_optsnr3.json\")\n",
    "unlensed_params5 = get_param_from_json(\"joint_new_optsnr4.json\")\n",
    "unlensed_params6 = get_param_from_json(\"joint_new_optsnr5.json\")\n",
    "unlensed_params7 = get_param_from_json(\"joint_new_optsnr6.json\")\n",
    "#unlensed_params = add_dict_values(unlensed_params, unlensed_params2)\n",
    "unlensed_params = add_dict_values(unlensed_params, unlensed_params3)\n",
    "unlensed_params = add_dict_values(unlensed_params, unlensed_params4)\n",
    "unlensed_params = add_dict_values(unlensed_params, unlensed_params5)\n",
    "unlensed_params = add_dict_values(unlensed_params, unlensed_params6)\n",
    "unlensed_params = add_dict_values(unlensed_params, unlensed_params7)\n",
    "#del unlensed_params2\n",
    "del unlensed_params3, unlensed_params4, unlensed_params5, unlensed_params6, unlensed_params7\n",
    "\n",
    "print(len(unlensed_params['H1']))\n",
    "# set SNR cut\n",
    "# this is optimise the ANN by ignoring the high SNR\n",
    "idx_constrain = unlensed_params['H1']<100\n",
    "for key, value in unlensed_params.items():\n",
    "    unlensed_params[key] = value[idx_constrain]\n",
    "\n",
    "print(len(unlensed_params['H1']))"
   ]
  },
  {
   "cell_type": "code",
   "execution_count": 497,
   "metadata": {},
   "outputs": [
    {
     "data": {
      "image/png": "[encoded data removed]",
      "text/plain": [
       "<Figure size 640x480 with 1 Axes>"
      ]
     },
     "metadata": {},
     "output_type": "display_data"
    }
   ],
   "source": [
    "# visualize the data\n",
    "import matplotlib.pyplot as plt\n",
    "#unlensed_params = get_param_from_json(\"joint_new_optsnr.json\")\n",
    "test = np.array(unlensed_params['H1'])\n",
    "test = test[test<20]\n",
    "plt.hist(test, bins=30)\n",
    "plt.xlim(0,20)\n",
    "plt.show()"
   ]
  },
  {
   "cell_type": "code",
   "execution_count": 498,
   "metadata": {},
   "outputs": [
    {
     "name": "stdout",
     "output_type": "stream",
     "text": [
      "You have chosen default ANN model. This model only works for gwsnr default parameters.\n",
      "ANN model will be save and loaded from 'ann_data' directory. To create new model, follow instructions from the 'gwsnr' documentation.\n",
      "Please be patient while the interpolator is generated for partialscaledSNR.\n",
      "Interpolator will be loaded for H1 detector from ./interpolator_pickle/H1/partialSNR_dict_1.pickle\n",
      "\n",
      "Chosen GWSNR initialization parameters:\n",
      "\n",
      "npool:  4\n",
      "snr type:  ann\n",
      "waveform approximant:  IMRPhenomXPHM\n",
      "sampling frequency:  2048.0\n",
      "minimum frequency (fmin):  20.0\n",
      "mtot=mass1+mass2\n",
      "min(mtot):  2.0\n",
      "max(mtot) (with the given fmin=20.0): 184.98599853446768\n",
      "detectors:  ['H1']\n",
      "psds:  [PowerSpectralDensity(psd_file='None', asd_file='/Users/phurailatpamhemantakumar/anaconda3/envs/ler/lib/python3.10/site-packages/bilby/gw/detector/noise_curves/aLIGO_O4_high_asd.txt')]\n"
     ]
    }
   ],
   "source": [
    "# let's generate IMRPhenomD (spinless) interpolartor\n",
    "from gwsnr import GWSNR\n",
    "gwsnr = GWSNR(snr_type='ann', waveform_approximant='IMRPhenomXPHM', ifos=['H1'])"
   ]
  },
  {
   "cell_type": "code",
   "execution_count": 499,
   "metadata": {},
   "outputs": [],
   "source": [
    "from gwsnr import antenna_response_array, cubic_spline_interpolator2d\n",
    "\n",
    "def input_output(idx, params):\n",
    "\n",
    "    mass_1 = np.array(params['mass_1'])[idx]\n",
    "    mass_2 = np.array(params['mass_2'])[idx]\n",
    "    luminosity_distance = np.array(params['luminosity_distance'])[idx]\n",
    "    theta_jn = np.array(params['theta_jn'])[idx]\n",
    "    psi = np.array(params['psi'])[idx]\n",
    "    geocent_time = np.array(params['geocent_time'])[idx]\n",
    "    ra = np.array(params['ra'])[idx]\n",
    "    dec = np.array(params['dec'])[idx]\n",
    "    \n",
    "    detector_tensor = gwsnr.detector_tensor_list\n",
    "    snr_halfscaled = np.array(gwsnr.snr_partialsacaled_list)\n",
    "    ratio_arr = gwsnr.ratio_arr\n",
    "    mtot_arr = gwsnr.mtot_arr\n",
    "    \n",
    "    size = len(mass_1)\n",
    "    len_ = len(detector_tensor)\n",
    "    mtot = mass_1 + mass_2\n",
    "    ratio = mass_2 / mass_1\n",
    "    # get array of antenna response\n",
    "    Fp, Fc = antenna_response_array(ra, dec, geocent_time, psi, detector_tensor)\n",
    "\n",
    "    Mc = ((mass_1 * mass_2) ** (3 / 5)) / ((mass_1 + mass_2) ** (1 / 5))\n",
    "    eta = mass_1 * mass_2/(mass_1 + mass_2)**2.\n",
    "    A1 = Mc ** (5.0 / 6.0)\n",
    "    ci_2 = np.cos(theta_jn) ** 2\n",
    "    ci_param = ((1 + np.cos(theta_jn) ** 2) / 2) ** 2\n",
    "    \n",
    "    size = len(mass_1)\n",
    "    snr_half_ = np.zeros((len_,size))\n",
    "    d_eff = np.zeros((len_,size))\n",
    "\n",
    "    # loop over the detectors\n",
    "    for j in range(len_):\n",
    "        # loop over the parameter points\n",
    "        for i in range(size):\n",
    "            snr_half_coeff = snr_halfscaled[j]\n",
    "            snr_half_[j,i] = cubic_spline_interpolator2d(mtot[i], ratio[i], snr_half_coeff, mtot_arr, ratio_arr)\n",
    "            d_eff[j,i] =luminosity_distance[i] / np.sqrt(\n",
    "                    Fp[j,i]**2 * ci_param[i] + Fc[j,i]**2 * ci_2[i]\n",
    "                )\n",
    "\n",
    "    #amp0\n",
    "    amp0 =  A1 / d_eff\n",
    "\n",
    "    # get spin parameters\n",
    "    a_1 = np.array(params['a_1'])[idx]\n",
    "    a_2 = np.array(params['a_2'])[idx]\n",
    "    tilt_1 = np.array(params['tilt_1'])[idx]\n",
    "    tilt_2 = np.array(params['tilt_2'])[idx]\n",
    "\n",
    "    # effective spin\n",
    "    chi_eff = (mass_1 * a_1 * np.cos(tilt_1) + mass_2 * a_2 * np.cos(tilt_2)) / (mass_1 + mass_2)\n",
    "\n",
    "\n",
    "    # input data\n",
    "    XH1 = np.vstack([snr_half_[0], amp0[0], eta, chi_eff, theta_jn]).T \n",
    "\n",
    "    # output data\n",
    "    # get H1 snr for y train\n",
    "    yH1 = params['H1'][idx]\n",
    "\n",
    "    return(XH1, yH1)"
   ]
  },
  {
   "cell_type": "code",
   "execution_count": 500,
   "metadata": {},
   "outputs": [
    {
     "data": {
      "text/plain": [
       "(216853, 5)"
      ]
     },
     "execution_count": 500,
     "metadata": {},
     "output_type": "execute_result"
    }
   ],
   "source": [
    "len_ = len(unlensed_params['H1'])\n",
    "idx = np.arange(len_)\n",
    "# randomize the train set\n",
    "idx = np.random.permutation(idx)\n",
    "XH1, yH1 = input_output(idx, unlensed_params)\n",
    "np.shape(XH1)"
   ]
  },
  {
   "cell_type": "code",
   "execution_count": null,
   "metadata": {},
   "outputs": [],
   "source": []
  },
  {
   "cell_type": "code",
   "execution_count": 501,
   "metadata": {},
   "outputs": [],
   "source": [
    "from sklearn.model_selection import train_test_split\n",
    "X_train, X_test, y_train, y_test = train_test_split(XH1, yH1, test_size = 0.1, random_state = 0)\n",
    "\n",
    "# feature scaling\n",
    "from sklearn.preprocessing import StandardScaler\n",
    "sc = StandardScaler()\n",
    "X_train = sc.fit_transform(X_train)\n",
    "X_test = sc.transform(X_test)\n",
    "\n",
    "# save the scaler\n",
    "import pickle\n",
    "pickle.dump(sc, open('scalerH1.pkl', 'wb'))"
   ]
  },
  {
   "cell_type": "code",
   "execution_count": 502,
   "metadata": {},
   "outputs": [],
   "source": [
    "# initialize the ANN\n",
    "ann = tf.keras.models.Sequential() \n",
    "\n",
    "# adding the input layer and the first hidden layer\n",
    "ann.add(tf.keras.layers.Dense(units=5, activation='relu'))\n",
    "# adding the second hidden layer\n",
    "ann.add(tf.keras.layers.Dense(units=32, activation='relu'))\n",
    "# adding the third hidden layer\n",
    "ann.add(tf.keras.layers.Dense(units=32, activation='sigmoid'))\n",
    "# adding the output layer, absolute value of the snr\n",
    "ann.add(tf.keras.layers.Dense(units=1, activation='linear'))\n",
    "#ann.add(tf.keras.layers.Dense(units=1, activation='sigmoid'))"
   ]
  },
  {
   "cell_type": "code",
   "execution_count": 503,
   "metadata": {},
   "outputs": [],
   "source": [
    "# compile the ANN\n",
    "# loss = 'mean_squared_error'\n",
    "ann.compile(optimizer = 'adam', loss = 'mean_squared_error', metrics = ['accuracy'])"
   ]
  },
  {
   "cell_type": "code",
   "execution_count": 504,
   "metadata": {},
   "outputs": [
    {
     "name": "stdout",
     "output_type": "stream",
     "text": [
      "Epoch 1/200\n"
     ]
    },
    {
     "name": "stdout",
     "output_type": "stream",
     "text": [
      "6099/6099 [==============================] - 3s 426us/step - loss: 6.0057 - accuracy: 1.0248e-05\n",
      "Epoch 2/200\n",
      "6099/6099 [==============================] - 3s 419us/step - loss: 1.0504 - accuracy: 2.5619e-05\n",
      "Epoch 3/200\n",
      "6099/6099 [==============================] - 3s 413us/step - loss: 0.7092 - accuracy: 4.0991e-05\n",
      "Epoch 4/200\n",
      "6099/6099 [==============================] - 3s 438us/step - loss: 0.6242 - accuracy: 4.0991e-05\n",
      "Epoch 5/200\n",
      "6099/6099 [==============================] - 3s 414us/step - loss: 0.5878 - accuracy: 1.5371e-05\n",
      "Epoch 6/200\n",
      "6099/6099 [==============================] - 3s 425us/step - loss: 0.5774 - accuracy: 3.5867e-05\n",
      "Epoch 7/200\n",
      "6099/6099 [==============================] - 3s 412us/step - loss: 0.5698 - accuracy: 3.0743e-05\n",
      "Epoch 8/200\n",
      "6099/6099 [==============================] - 3s 433us/step - loss: 0.5557 - accuracy: 3.0743e-05\n",
      "Epoch 9/200\n",
      "6099/6099 [==============================] - 3s 410us/step - loss: 0.5555 - accuracy: 3.0743e-05\n",
      "Epoch 10/200\n",
      "6099/6099 [==============================] - 3s 427us/step - loss: 0.5515 - accuracy: 3.5867e-05\n",
      "Epoch 11/200\n",
      "6099/6099 [==============================] - 3s 412us/step - loss: 0.5528 - accuracy: 3.0743e-05\n",
      "Epoch 12/200\n",
      "6099/6099 [==============================] - 3s 433us/step - loss: 0.5467 - accuracy: 3.5867e-05\n",
      "Epoch 13/200\n",
      "6099/6099 [==============================] - 2s 407us/step - loss: 0.5486 - accuracy: 3.0743e-05\n",
      "Epoch 14/200\n",
      "6099/6099 [==============================] - 3s 432us/step - loss: 0.5439 - accuracy: 4.0991e-05\n",
      "Epoch 15/200\n",
      "6099/6099 [==============================] - 3s 414us/step - loss: 0.5407 - accuracy: 4.0991e-05\n",
      "Epoch 16/200\n",
      "6099/6099 [==============================] - 3s 412us/step - loss: 0.5376 - accuracy: 4.6114e-05\n",
      "Epoch 17/200\n",
      "6099/6099 [==============================] - 3s 428us/step - loss: 0.5437 - accuracy: 4.0991e-05\n",
      "Epoch 18/200\n",
      "6099/6099 [==============================] - 3s 431us/step - loss: 0.5398 - accuracy: 5.6362e-05\n",
      "Epoch 19/200\n",
      "6099/6099 [==============================] - 2s 408us/step - loss: 0.5443 - accuracy: 4.6114e-05\n",
      "Epoch 20/200\n",
      "6099/6099 [==============================] - 3s 430us/step - loss: 0.5365 - accuracy: 5.1238e-05\n",
      "Epoch 21/200\n",
      "6099/6099 [==============================] - 3s 412us/step - loss: 0.5348 - accuracy: 5.1238e-05\n",
      "Epoch 22/200\n",
      "6099/6099 [==============================] - 3s 426us/step - loss: 0.5372 - accuracy: 4.6114e-05\n",
      "Epoch 23/200\n",
      "6099/6099 [==============================] - 2s 409us/step - loss: 0.5336 - accuracy: 5.6362e-05\n",
      "Epoch 24/200\n",
      "6099/6099 [==============================] - 3s 453us/step - loss: 0.5341 - accuracy: 2.5619e-05\n",
      "Epoch 25/200\n",
      "6099/6099 [==============================] - 3s 437us/step - loss: 0.5362 - accuracy: 6.1486e-05\n",
      "Epoch 26/200\n",
      "6099/6099 [==============================] - 3s 446us/step - loss: 0.5331 - accuracy: 5.1238e-05\n",
      "Epoch 27/200\n",
      "6099/6099 [==============================] - 3s 433us/step - loss: 0.5339 - accuracy: 5.6362e-05\n",
      "Epoch 28/200\n",
      "6099/6099 [==============================] - 3s 435us/step - loss: 0.5338 - accuracy: 5.6362e-05\n",
      "Epoch 29/200\n",
      "6099/6099 [==============================] - 3s 472us/step - loss: 0.5335 - accuracy: 6.1486e-05\n",
      "Epoch 30/200\n",
      "6099/6099 [==============================] - 3s 431us/step - loss: 0.5331 - accuracy: 6.1486e-05\n",
      "Epoch 31/200\n",
      "6099/6099 [==============================] - 3s 432us/step - loss: 0.5326 - accuracy: 6.6610e-05\n",
      "Epoch 32/200\n",
      "6099/6099 [==============================] - 3s 421us/step - loss: 0.5292 - accuracy: 7.1733e-05\n",
      "Epoch 33/200\n",
      "6099/6099 [==============================] - 3s 440us/step - loss: 0.5299 - accuracy: 6.1486e-05\n",
      "Epoch 34/200\n",
      "6099/6099 [==============================] - 3s 411us/step - loss: 0.5314 - accuracy: 8.1981e-05\n",
      "Epoch 35/200\n",
      "6099/6099 [==============================] - 3s 428us/step - loss: 0.5284 - accuracy: 5.6362e-05\n",
      "Epoch 36/200\n",
      "6099/6099 [==============================] - 3s 457us/step - loss: 0.5288 - accuracy: 6.1486e-05\n",
      "Epoch 37/200\n",
      "6099/6099 [==============================] - 3s 477us/step - loss: 0.5312 - accuracy: 6.1486e-05\n",
      "Epoch 38/200\n",
      "6099/6099 [==============================] - 3s 458us/step - loss: 0.5295 - accuracy: 7.6857e-05\n",
      "Epoch 39/200\n",
      "6099/6099 [==============================] - 3s 436us/step - loss: 0.5271 - accuracy: 6.6610e-05\n",
      "Epoch 40/200\n",
      "6099/6099 [==============================] - 3s 438us/step - loss: 0.5283 - accuracy: 6.1486e-05\n",
      "Epoch 41/200\n",
      "6099/6099 [==============================] - 3s 441us/step - loss: 0.5259 - accuracy: 7.1733e-05\n",
      "Epoch 42/200\n",
      "6099/6099 [==============================] - 3s 420us/step - loss: 0.5232 - accuracy: 7.6857e-05\n",
      "Epoch 43/200\n",
      "6099/6099 [==============================] - 3s 433us/step - loss: 0.5272 - accuracy: 6.6610e-05\n",
      "Epoch 44/200\n",
      "6099/6099 [==============================] - 3s 426us/step - loss: 0.5237 - accuracy: 8.7105e-05\n",
      "Epoch 45/200\n",
      "6099/6099 [==============================] - 3s 478us/step - loss: 0.5257 - accuracy: 6.6610e-05\n",
      "Epoch 46/200\n",
      "6099/6099 [==============================] - 3s 491us/step - loss: 0.5237 - accuracy: 7.1733e-05\n",
      "Epoch 47/200\n",
      "6099/6099 [==============================] - 3s 493us/step - loss: 0.5243 - accuracy: 7.1733e-05\n",
      "Epoch 48/200\n",
      "6099/6099 [==============================] - 3s 449us/step - loss: 0.5226 - accuracy: 7.1733e-05\n",
      "Epoch 49/200\n",
      "6099/6099 [==============================] - 3s 456us/step - loss: 0.5241 - accuracy: 6.6610e-05\n",
      "Epoch 50/200\n",
      "6099/6099 [==============================] - 3s 444us/step - loss: 0.5248 - accuracy: 7.6857e-05\n",
      "Epoch 51/200\n",
      "6099/6099 [==============================] - 3s 443us/step - loss: 0.5215 - accuracy: 7.6857e-05\n",
      "Epoch 52/200\n",
      "6099/6099 [==============================] - 3s 455us/step - loss: 0.5214 - accuracy: 7.1733e-05\n",
      "Epoch 53/200\n",
      "6099/6099 [==============================] - 3s 424us/step - loss: 0.5225 - accuracy: 6.6610e-05\n",
      "Epoch 54/200\n",
      "6099/6099 [==============================] - 3s 450us/step - loss: 0.5206 - accuracy: 7.6857e-05\n",
      "Epoch 55/200\n",
      "6099/6099 [==============================] - 3s 434us/step - loss: 0.5224 - accuracy: 7.1733e-05\n",
      "Epoch 56/200\n",
      "6099/6099 [==============================] - 3s 443us/step - loss: 0.5242 - accuracy: 7.1733e-05\n",
      "Epoch 57/200\n",
      "6099/6099 [==============================] - 3s 431us/step - loss: 0.5212 - accuracy: 8.7105e-05\n",
      "Epoch 58/200\n",
      "6099/6099 [==============================] - 3s 448us/step - loss: 0.5216 - accuracy: 7.6857e-05\n",
      "Epoch 59/200\n",
      "6099/6099 [==============================] - 3s 428us/step - loss: 0.5231 - accuracy: 8.1981e-05\n",
      "Epoch 60/200\n",
      "6099/6099 [==============================] - 3s 448us/step - loss: 0.5208 - accuracy: 8.7105e-05\n",
      "Epoch 61/200\n",
      "6099/6099 [==============================] - 3s 447us/step - loss: 0.5204 - accuracy: 8.1981e-05\n",
      "Epoch 62/200\n",
      "6099/6099 [==============================] - 3s 427us/step - loss: 0.5230 - accuracy: 7.6857e-05\n",
      "Epoch 63/200\n",
      "6099/6099 [==============================] - 3s 450us/step - loss: 0.5219 - accuracy: 8.1981e-05\n",
      "Epoch 64/200\n",
      "6099/6099 [==============================] - 3s 431us/step - loss: 0.5220 - accuracy: 8.7105e-05\n",
      "Epoch 65/200\n",
      "6099/6099 [==============================] - 3s 444us/step - loss: 0.5213 - accuracy: 8.7105e-05\n",
      "Epoch 66/200\n",
      "6099/6099 [==============================] - 3s 441us/step - loss: 0.5213 - accuracy: 7.6857e-05\n",
      "Epoch 67/200\n",
      "6099/6099 [==============================] - 3s 446us/step - loss: 0.5235 - accuracy: 9.2229e-05\n",
      "Epoch 68/200\n",
      "6099/6099 [==============================] - 3s 424us/step - loss: 0.5214 - accuracy: 8.7105e-05\n",
      "Epoch 69/200\n",
      "6099/6099 [==============================] - 3s 449us/step - loss: 0.5206 - accuracy: 8.1981e-05\n",
      "Epoch 70/200\n",
      "6099/6099 [==============================] - 3s 432us/step - loss: 0.5222 - accuracy: 9.7353e-05\n",
      "Epoch 71/200\n",
      "6099/6099 [==============================] - 3s 442us/step - loss: 0.5190 - accuracy: 8.1981e-05\n",
      "Epoch 72/200\n",
      "6099/6099 [==============================] - 3s 448us/step - loss: 0.5213 - accuracy: 9.2229e-05\n",
      "Epoch 73/200\n",
      "6099/6099 [==============================] - 3s 432us/step - loss: 0.5193 - accuracy: 9.7353e-05\n",
      "Epoch 74/200\n",
      "6099/6099 [==============================] - 3s 445us/step - loss: 0.5227 - accuracy: 8.1981e-05\n",
      "Epoch 75/200\n",
      "6099/6099 [==============================] - 3s 444us/step - loss: 0.5192 - accuracy: 9.7353e-05\n",
      "Epoch 76/200\n",
      "6099/6099 [==============================] - 3s 444us/step - loss: 0.5219 - accuracy: 8.1981e-05\n",
      "Epoch 77/200\n",
      "6099/6099 [==============================] - 3s 423us/step - loss: 0.5197 - accuracy: 8.7105e-05\n",
      "Epoch 78/200\n",
      "6099/6099 [==============================] - 3s 450us/step - loss: 0.5209 - accuracy: 8.7105e-05\n",
      "Epoch 79/200\n",
      "6099/6099 [==============================] - 3s 427us/step - loss: 0.5213 - accuracy: 8.7105e-05\n",
      "Epoch 80/200\n",
      "6099/6099 [==============================] - 3s 441us/step - loss: 0.5211 - accuracy: 9.7353e-05\n",
      "Epoch 81/200\n",
      "6099/6099 [==============================] - 3s 450us/step - loss: 0.5158 - accuracy: 1.0248e-04\n",
      "Epoch 82/200\n",
      "6099/6099 [==============================] - 3s 430us/step - loss: 0.5180 - accuracy: 8.7105e-05\n",
      "Epoch 83/200\n",
      "6099/6099 [==============================] - 3s 442us/step - loss: 0.5196 - accuracy: 7.6857e-05\n",
      "Epoch 84/200\n",
      "6099/6099 [==============================] - 3s 432us/step - loss: 0.5195 - accuracy: 8.7105e-05\n",
      "Epoch 85/200\n",
      "6099/6099 [==============================] - 3s 444us/step - loss: 0.5183 - accuracy: 8.7105e-05\n",
      "Epoch 86/200\n",
      "6099/6099 [==============================] - 3s 425us/step - loss: 0.5175 - accuracy: 8.1981e-05\n",
      "Epoch 87/200\n",
      "6099/6099 [==============================] - 3s 451us/step - loss: 0.5194 - accuracy: 8.1981e-05\n",
      "Epoch 88/200\n",
      "6099/6099 [==============================] - 3s 429us/step - loss: 0.5184 - accuracy: 8.7105e-05\n",
      "Epoch 89/200\n",
      "6099/6099 [==============================] - 3s 437us/step - loss: 0.5166 - accuracy: 9.2229e-05\n",
      "Epoch 90/200\n",
      "6099/6099 [==============================] - 3s 454us/step - loss: 0.5170 - accuracy: 1.0248e-04\n",
      "Epoch 91/200\n",
      "6099/6099 [==============================] - 3s 427us/step - loss: 0.5156 - accuracy: 7.6857e-05\n",
      "Epoch 92/200\n",
      "6099/6099 [==============================] - 3s 441us/step - loss: 0.5190 - accuracy: 8.7105e-05\n",
      "Epoch 93/200\n",
      "6099/6099 [==============================] - 3s 431us/step - loss: 0.5162 - accuracy: 9.2229e-05\n",
      "Epoch 94/200\n",
      "6099/6099 [==============================] - 3s 447us/step - loss: 0.5186 - accuracy: 8.7105e-05\n",
      "Epoch 95/200\n",
      "6099/6099 [==============================] - 3s 424us/step - loss: 0.5184 - accuracy: 9.7353e-05\n",
      "Epoch 96/200\n",
      "6099/6099 [==============================] - 3s 449us/step - loss: 0.5161 - accuracy: 8.1981e-05\n",
      "Epoch 97/200\n",
      "6099/6099 [==============================] - 3s 444us/step - loss: 0.5182 - accuracy: 9.7353e-05\n",
      "Epoch 98/200\n",
      "6099/6099 [==============================] - 3s 432us/step - loss: 0.5161 - accuracy: 8.1981e-05\n",
      "Epoch 99/200\n",
      "6099/6099 [==============================] - 3s 447us/step - loss: 0.5158 - accuracy: 8.1981e-05\n",
      "Epoch 100/200\n",
      "6099/6099 [==============================] - 3s 427us/step - loss: 0.5165 - accuracy: 8.7105e-05\n",
      "Epoch 101/200\n",
      "6099/6099 [==============================] - 3s 446us/step - loss: 0.5186 - accuracy: 9.7353e-05\n",
      "Epoch 102/200\n",
      "6099/6099 [==============================] - 3s 450us/step - loss: 0.5153 - accuracy: 9.2229e-05\n",
      "Epoch 103/200\n",
      "6099/6099 [==============================] - 3s 427us/step - loss: 0.5126 - accuracy: 8.1981e-05\n",
      "Epoch 104/200\n",
      "6099/6099 [==============================] - 3s 447us/step - loss: 0.5151 - accuracy: 9.2229e-05\n",
      "Epoch 105/200\n",
      "6099/6099 [==============================] - 3s 432us/step - loss: 0.5172 - accuracy: 9.7353e-05\n",
      "Epoch 106/200\n",
      "6099/6099 [==============================] - 3s 446us/step - loss: 0.5148 - accuracy: 8.1981e-05\n",
      "Epoch 107/200\n",
      "6099/6099 [==============================] - 3s 428us/step - loss: 0.5138 - accuracy: 9.7353e-05\n",
      "Epoch 108/200\n",
      "6099/6099 [==============================] - 3s 442us/step - loss: 0.5172 - accuracy: 7.6857e-05\n",
      "Epoch 109/200\n",
      "6099/6099 [==============================] - 3s 440us/step - loss: 0.5162 - accuracy: 9.7353e-05\n",
      "Epoch 110/200\n",
      "6099/6099 [==============================] - 3s 433us/step - loss: 0.5155 - accuracy: 8.7105e-05\n",
      "Epoch 111/200\n",
      "6099/6099 [==============================] - 3s 446us/step - loss: 0.5132 - accuracy: 1.0760e-04\n",
      "Epoch 112/200\n",
      "6099/6099 [==============================] - 3s 425us/step - loss: 0.5151 - accuracy: 1.0248e-04\n",
      "Epoch 113/200\n",
      "6099/6099 [==============================] - 3s 450us/step - loss: 0.5155 - accuracy: 9.2229e-05\n",
      "Epoch 114/200\n",
      "6099/6099 [==============================] - 3s 450us/step - loss: 0.5118 - accuracy: 9.7353e-05\n",
      "Epoch 115/200\n",
      "6099/6099 [==============================] - 3s 423us/step - loss: 0.5151 - accuracy: 8.1981e-05\n",
      "Epoch 116/200\n",
      "6099/6099 [==============================] - 3s 448us/step - loss: 0.5135 - accuracy: 8.1981e-05\n",
      "Epoch 117/200\n",
      "6099/6099 [==============================] - 3s 432us/step - loss: 0.5123 - accuracy: 8.7105e-05\n",
      "Epoch 118/200\n",
      "6099/6099 [==============================] - 3s 446us/step - loss: 0.5137 - accuracy: 8.7105e-05\n",
      "Epoch 119/200\n",
      "6099/6099 [==============================] - 3s 451us/step - loss: 0.5124 - accuracy: 8.1981e-05\n",
      "Epoch 120/200\n",
      "6099/6099 [==============================] - 3s 429us/step - loss: 0.5148 - accuracy: 9.7353e-05\n",
      "Epoch 121/200\n",
      "6099/6099 [==============================] - 3s 451us/step - loss: 0.5148 - accuracy: 8.7105e-05\n",
      "Epoch 122/200\n",
      "6099/6099 [==============================] - 3s 434us/step - loss: 0.5133 - accuracy: 1.0248e-04\n",
      "Epoch 123/200\n",
      "6099/6099 [==============================] - 3s 439us/step - loss: 0.5146 - accuracy: 8.7105e-05\n",
      "Epoch 124/200\n",
      "6099/6099 [==============================] - 3s 446us/step - loss: 0.5130 - accuracy: 8.7105e-05\n",
      "Epoch 125/200\n",
      "6099/6099 [==============================] - 3s 436us/step - loss: 0.5129 - accuracy: 9.2229e-05\n",
      "Epoch 126/200\n",
      "6099/6099 [==============================] - 3s 441us/step - loss: 0.5125 - accuracy: 9.2229e-05\n",
      "Epoch 127/200\n",
      "6099/6099 [==============================] - 3s 447us/step - loss: 0.5131 - accuracy: 9.2229e-05\n",
      "Epoch 128/200\n",
      "6099/6099 [==============================] - 3s 433us/step - loss: 0.5176 - accuracy: 8.1981e-05\n",
      "Epoch 129/200\n",
      "6099/6099 [==============================] - 3s 457us/step - loss: 0.5137 - accuracy: 9.2229e-05\n",
      "Epoch 130/200\n",
      "6099/6099 [==============================] - 3s 434us/step - loss: 0.5142 - accuracy: 9.2229e-05\n",
      "Epoch 131/200\n",
      "6099/6099 [==============================] - 3s 449us/step - loss: 0.5126 - accuracy: 9.7353e-05\n",
      "Epoch 132/200\n",
      "6099/6099 [==============================] - 3s 441us/step - loss: 0.5117 - accuracy: 8.7105e-05\n",
      "Epoch 133/200\n",
      "6099/6099 [==============================] - 3s 438us/step - loss: 0.5111 - accuracy: 9.2229e-05\n",
      "Epoch 134/200\n",
      "6099/6099 [==============================] - 3s 448us/step - loss: 0.5151 - accuracy: 8.7105e-05\n",
      "Epoch 135/200\n",
      "6099/6099 [==============================] - 3s 484us/step - loss: 0.5128 - accuracy: 8.1981e-05\n",
      "Epoch 136/200\n",
      "6099/6099 [==============================] - 3s 444us/step - loss: 0.5121 - accuracy: 7.1733e-05\n",
      "Epoch 137/200\n",
      "6099/6099 [==============================] - 3s 450us/step - loss: 0.5103 - accuracy: 9.2229e-05\n",
      "Epoch 138/200\n",
      "6099/6099 [==============================] - 3s 433us/step - loss: 0.5108 - accuracy: 9.2229e-05\n",
      "Epoch 139/200\n",
      "6099/6099 [==============================] - 3s 457us/step - loss: 0.5119 - accuracy: 9.2229e-05\n",
      "Epoch 140/200\n",
      "6099/6099 [==============================] - 3s 442us/step - loss: 0.5138 - accuracy: 8.7105e-05\n",
      "Epoch 141/200\n",
      "6099/6099 [==============================] - 3s 435us/step - loss: 0.5103 - accuracy: 7.1733e-05\n",
      "Epoch 142/200\n",
      "6099/6099 [==============================] - 3s 441us/step - loss: 0.5105 - accuracy: 8.7105e-05\n",
      "Epoch 143/200\n",
      "6099/6099 [==============================] - 3s 447us/step - loss: 0.5123 - accuracy: 1.0248e-04\n",
      "Epoch 144/200\n",
      "6099/6099 [==============================] - 3s 435us/step - loss: 0.5109 - accuracy: 1.0248e-04\n",
      "Epoch 145/200\n",
      "6099/6099 [==============================] - 3s 447us/step - loss: 0.5131 - accuracy: 1.0248e-04\n",
      "Epoch 146/200\n",
      "6099/6099 [==============================] - 3s 449us/step - loss: 0.5105 - accuracy: 8.1981e-05\n",
      "Epoch 147/200\n",
      "6099/6099 [==============================] - 3s 435us/step - loss: 0.5144 - accuracy: 8.1981e-05\n",
      "Epoch 148/200\n",
      "6099/6099 [==============================] - 3s 444us/step - loss: 0.5128 - accuracy: 7.6857e-05\n",
      "Epoch 149/200\n",
      "6099/6099 [==============================] - 3s 433us/step - loss: 0.5115 - accuracy: 8.1981e-05\n",
      "Epoch 150/200\n",
      "6099/6099 [==============================] - 3s 448us/step - loss: 0.5111 - accuracy: 9.2229e-05\n",
      "Epoch 151/200\n",
      "6099/6099 [==============================] - 3s 444us/step - loss: 0.5126 - accuracy: 7.6857e-05\n",
      "Epoch 152/200\n",
      "6099/6099 [==============================] - 3s 437us/step - loss: 0.5114 - accuracy: 6.1486e-05\n",
      "Epoch 153/200\n",
      "6099/6099 [==============================] - 3s 447us/step - loss: 0.5118 - accuracy: 8.1981e-05\n",
      "Epoch 154/200\n",
      "6099/6099 [==============================] - 3s 447us/step - loss: 0.5119 - accuracy: 8.7105e-05\n",
      "Epoch 155/200\n",
      "6099/6099 [==============================] - 3s 437us/step - loss: 0.5094 - accuracy: 6.6610e-05\n",
      "Epoch 156/200\n",
      "6099/6099 [==============================] - 3s 446us/step - loss: 0.5111 - accuracy: 1.0760e-04\n",
      "Epoch 157/200\n",
      "6099/6099 [==============================] - 3s 445us/step - loss: 0.5109 - accuracy: 8.7105e-05\n",
      "Epoch 158/200\n",
      "6099/6099 [==============================] - 3s 436us/step - loss: 0.5125 - accuracy: 9.2229e-05\n",
      "Epoch 159/200\n",
      "6099/6099 [==============================] - 3s 445us/step - loss: 0.5121 - accuracy: 8.1981e-05\n",
      "Epoch 160/200\n",
      "6099/6099 [==============================] - 3s 448us/step - loss: 0.5108 - accuracy: 9.7353e-05\n",
      "Epoch 161/200\n",
      "6099/6099 [==============================] - 3s 439us/step - loss: 0.5093 - accuracy: 9.7353e-05\n",
      "Epoch 162/200\n",
      "6099/6099 [==============================] - 3s 445us/step - loss: 0.5098 - accuracy: 9.2229e-05\n",
      "Epoch 163/200\n",
      "6099/6099 [==============================] - 3s 446us/step - loss: 0.5119 - accuracy: 8.1981e-05\n",
      "Epoch 164/200\n",
      "6099/6099 [==============================] - 3s 439us/step - loss: 0.5093 - accuracy: 8.7105e-05\n",
      "Epoch 165/200\n",
      "6099/6099 [==============================] - 3s 444us/step - loss: 0.5083 - accuracy: 8.7105e-05\n",
      "Epoch 166/200\n",
      "6099/6099 [==============================] - 3s 452us/step - loss: 0.5101 - accuracy: 8.1981e-05\n",
      "Epoch 167/200\n",
      "6099/6099 [==============================] - 3s 434us/step - loss: 0.5096 - accuracy: 8.7105e-05\n",
      "Epoch 168/200\n",
      "6099/6099 [==============================] - 3s 444us/step - loss: 0.5071 - accuracy: 9.2229e-05\n",
      "Epoch 169/200\n",
      "6099/6099 [==============================] - 3s 433us/step - loss: 0.5100 - accuracy: 8.7105e-05\n",
      "Epoch 170/200\n",
      "6099/6099 [==============================] - 3s 451us/step - loss: 0.5101 - accuracy: 8.1981e-05\n",
      "Epoch 171/200\n",
      "6099/6099 [==============================] - 3s 447us/step - loss: 0.5082 - accuracy: 8.7105e-05\n",
      "Epoch 172/200\n",
      "6099/6099 [==============================] - 3s 437us/step - loss: 0.5090 - accuracy: 9.2229e-05\n",
      "Epoch 173/200\n",
      "6099/6099 [==============================] - 3s 444us/step - loss: 0.5108 - accuracy: 9.7353e-05\n",
      "Epoch 174/200\n",
      "6099/6099 [==============================] - 3s 446us/step - loss: 0.5088 - accuracy: 7.1733e-05\n",
      "Epoch 175/200\n",
      "6099/6099 [==============================] - 3s 434us/step - loss: 0.5099 - accuracy: 9.2229e-05\n",
      "Epoch 176/200\n",
      "6099/6099 [==============================] - 3s 450us/step - loss: 0.5080 - accuracy: 8.1981e-05\n",
      "Epoch 177/200\n",
      "6099/6099 [==============================] - 3s 447us/step - loss: 0.5097 - accuracy: 8.7105e-05\n",
      "Epoch 178/200\n",
      "6099/6099 [==============================] - 3s 453us/step - loss: 0.5088 - accuracy: 8.1981e-05\n",
      "Epoch 179/200\n",
      "6099/6099 [==============================] - 3s 429us/step - loss: 0.5089 - accuracy: 1.0248e-04\n",
      "Epoch 180/200\n",
      "6099/6099 [==============================] - 3s 451us/step - loss: 0.5112 - accuracy: 9.7353e-05\n",
      "Epoch 181/200\n",
      "6099/6099 [==============================] - 3s 434us/step - loss: 0.5103 - accuracy: 9.7353e-05\n",
      "Epoch 182/200\n",
      "6099/6099 [==============================] - 3s 447us/step - loss: 0.5092 - accuracy: 7.6857e-05\n",
      "Epoch 183/200\n",
      "6099/6099 [==============================] - 3s 446us/step - loss: 0.5087 - accuracy: 9.2229e-05\n",
      "Epoch 184/200\n",
      "6099/6099 [==============================] - 3s 441us/step - loss: 0.5100 - accuracy: 7.6857e-05\n",
      "Epoch 185/200\n",
      "6099/6099 [==============================] - 3s 444us/step - loss: 0.5104 - accuracy: 9.7353e-05\n",
      "Epoch 186/200\n",
      "6099/6099 [==============================] - 3s 440us/step - loss: 0.5094 - accuracy: 8.1981e-05\n",
      "Epoch 187/200\n",
      "6099/6099 [==============================] - 3s 434us/step - loss: 0.5079 - accuracy: 8.1981e-05\n",
      "Epoch 188/200\n",
      "6099/6099 [==============================] - 3s 451us/step - loss: 0.5081 - accuracy: 8.7105e-05\n",
      "Epoch 189/200\n",
      "6099/6099 [==============================] - 3s 448us/step - loss: 0.5077 - accuracy: 9.7353e-05\n",
      "Epoch 190/200\n",
      "6099/6099 [==============================] - 3s 449us/step - loss: 0.5081 - accuracy: 8.1981e-05\n",
      "Epoch 191/200\n",
      "6099/6099 [==============================] - 3s 441us/step - loss: 0.5082 - accuracy: 8.7105e-05\n",
      "Epoch 192/200\n",
      "6099/6099 [==============================] - 3s 449us/step - loss: 0.5076 - accuracy: 7.6857e-05\n",
      "Epoch 193/200\n",
      "6099/6099 [==============================] - 3s 455us/step - loss: 0.5093 - accuracy: 9.7353e-05\n",
      "Epoch 194/200\n",
      "6099/6099 [==============================] - 3s 427us/step - loss: 0.5108 - accuracy: 9.2229e-05\n",
      "Epoch 195/200\n",
      "6099/6099 [==============================] - 3s 450us/step - loss: 0.5089 - accuracy: 8.7105e-05\n",
      "Epoch 196/200\n",
      "6099/6099 [==============================] - 3s 455us/step - loss: 0.5087 - accuracy: 9.2229e-05\n",
      "Epoch 197/200\n",
      "6099/6099 [==============================] - 3s 428us/step - loss: 0.5082 - accuracy: 8.7105e-05\n",
      "Epoch 198/200\n",
      "6099/6099 [==============================] - 3s 453us/step - loss: 0.5093 - accuracy: 9.2229e-05\n",
      "Epoch 199/200\n",
      "6099/6099 [==============================] - 3s 454us/step - loss: 0.5099 - accuracy: 8.7105e-05\n",
      "Epoch 200/200\n",
      "6099/6099 [==============================] - 3s 428us/step - loss: 0.5106 - accuracy: 7.6857e-05\n"
     ]
    },
    {
     "data": {
      "text/plain": [
       "<keras.src.callbacks.History at 0x31e657c70>"
      ]
     },
     "execution_count": 504,
     "metadata": {},
     "output_type": "execute_result"
    }
   ],
   "source": [
    "# train the ANN on the training set\n",
    "ann.fit(X_train, y_train, batch_size = 32, epochs = 200, workers=8, use_multiprocessing=True)"
   ]
  },
  {
   "cell_type": "code",
   "execution_count": 505,
   "metadata": {},
   "outputs": [
    {
     "name": "stdout",
     "output_type": "stream",
     "text": [
      "678/678 [==============================] - 0s 416us/step\n",
      "[[35.00002289 37.97115266]\n",
      " [ 7.26647186  7.32079747]\n",
      " [ 5.22119141  5.49172148]\n",
      " [ 8.23579788  7.43225644]\n",
      " [ 9.9419899  10.75588391]\n",
      " [ 5.19015598  4.36140771]\n",
      " [10.4069252  10.10717316]\n",
      " [ 5.26541853  4.91636901]\n",
      " [ 4.82469225  4.77569326]\n",
      " [ 7.35954475  7.67734361]\n",
      " [ 3.12154722  3.37646147]\n",
      " [ 3.19977927  3.00987443]\n",
      " [14.30628777 15.10689954]\n",
      " [ 7.97162342  6.18384042]\n",
      " [ 9.09439564  8.87853961]]\n"
     ]
    }
   ],
   "source": [
    "y_pred = ann.predict(X_test)\n",
    "#y_pred = (y_pred > 0.5)\n",
    "print(np.concatenate((y_pred.reshape(len(y_pred),1), y_test.reshape(len(y_test),1)),1)[10:25])"
   ]
  },
  {
   "cell_type": "code",
   "execution_count": 506,
   "metadata": {},
   "outputs": [
    {
     "name": "stdout",
     "output_type": "stream",
     "text": [
      "Error: 4.02%\n"
     ]
    }
   ],
   "source": [
    "len1 = len(y_pred)\n",
    "len2 = np.sum((y_pred.flatten()>8) != (y_test>8))\n",
    "error = len2/len1*100\n",
    "print(f\"Error: {error:.2f}%\")"
   ]
  },
  {
   "cell_type": "code",
   "execution_count": 507,
   "metadata": {},
   "outputs": [],
   "source": [
    "# Save the model to a file\n",
    "ann.save('ann_modelH1.h5')"
   ]
  },
  {
   "cell_type": "code",
   "execution_count": 508,
   "metadata": {},
   "outputs": [
    {
     "data": {
      "image/png": "[encoded data removed]",
      "text/plain": [
       "<Figure size 400x400 with 1 Axes>"
      ]
     },
     "metadata": {},
     "output_type": "display_data"
    }
   ],
   "source": [
    "# looking correlation between error and snr\n",
    "import matplotlib.pyplot as plt\n",
    "y_pred = y_pred.copy().flatten()\n",
    "idx = (y_pred>2) & (y_pred<20)\n",
    "plt.figure(figsize=(4,4))\n",
    "plt.scatter(y_pred[idx], y_test[idx]-y_pred[idx], alpha=0.1)\n",
    "plt.xlabel(\"Predicted SNR\")\n",
    "#plt.xscale(\"log\")\n",
    "plt.ylabel(\"Error\")\n",
    "plt.ylim(-3,3)\n",
    "plt.grid(alpha=0.4)\n",
    "plt.savefig(\"error_vs_snrL1_param4.png\")\n",
    "plt.show()"
   ]
  },
  {
   "cell_type": "code",
   "execution_count": null,
   "metadata": {},
   "outputs": [],
   "source": []
  },
  {
   "cell_type": "markdown",
   "metadata": {},
   "source": [
    "## V1"
   ]
  },
  {
   "cell_type": "code",
   "execution_count": 509,
   "metadata": {},
   "outputs": [
    {
     "name": "stdout",
     "output_type": "stream",
     "text": [
      "216908\n",
      "216879\n"
     ]
    }
   ],
   "source": [
    "# get data\n",
    "from ler.utils import append_json, get_param_from_json\n",
    "import numpy as np\n",
    "\n",
    "# joint two dict\n",
    "unlensed_params = get_param_from_json(\"snr_L1.json\")\n",
    "#unlensed_params2 = get_param_from_json(\"joint_new_optsnr.json\")\n",
    "unlensed_params3 = get_param_from_json(\"joint_new_optsnr2.json\")\n",
    "unlensed_params4 = get_param_from_json(\"joint_new_optsnr3.json\")\n",
    "unlensed_params5 = get_param_from_json(\"joint_new_optsnr4.json\")\n",
    "unlensed_params6 = get_param_from_json(\"joint_new_optsnr5.json\")\n",
    "unlensed_params7 = get_param_from_json(\"joint_new_optsnr6.json\")\n",
    "#unlensed_params = add_dict_values(unlensed_params, unlensed_params2)\n",
    "unlensed_params = add_dict_values(unlensed_params, unlensed_params3)\n",
    "unlensed_params = add_dict_values(unlensed_params, unlensed_params4)\n",
    "unlensed_params = add_dict_values(unlensed_params, unlensed_params5)\n",
    "unlensed_params = add_dict_values(unlensed_params, unlensed_params6)\n",
    "unlensed_params = add_dict_values(unlensed_params, unlensed_params7)\n",
    "#del unlensed_params2\n",
    "del unlensed_params3, unlensed_params4, unlensed_params5, unlensed_params6, unlensed_params7\n",
    "\n",
    "print(len(unlensed_params['V1']))\n",
    "# set SNR cut\n",
    "# this is optimise the ANN by ignoring the high SNR\n",
    "idx_constrain = unlensed_params['V1']<100\n",
    "for key, value in unlensed_params.items():\n",
    "    unlensed_params[key] = value[idx_constrain]\n",
    "\n",
    "print(len(unlensed_params['V1']))"
   ]
  },
  {
   "cell_type": "code",
   "execution_count": 510,
   "metadata": {},
   "outputs": [
    {
     "data": {
      "image/png": "[encoded data removed]",
      "text/plain": [
       "<Figure size 640x480 with 1 Axes>"
      ]
     },
     "metadata": {},
     "output_type": "display_data"
    }
   ],
   "source": [
    "# visualize the data\n",
    "import matplotlib.pyplot as plt\n",
    "#unlensed_params = get_param_from_json(\"joint_new_optsnr.json\")\n",
    "test = np.array(unlensed_params['V1'])\n",
    "test = test[test<20]\n",
    "plt.hist(test, bins=30)\n",
    "plt.xlim(0,20)\n",
    "plt.show()"
   ]
  },
  {
   "cell_type": "code",
   "execution_count": 511,
   "metadata": {},
   "outputs": [
    {
     "name": "stdout",
     "output_type": "stream",
     "text": [
      "You have chosen default ANN model. This model only works for gwsnr default parameters.\n",
      "ANN model will be save and loaded from 'ann_data' directory. To create new model, follow instructions from the 'gwsnr' documentation.\n",
      "Please be patient while the interpolator is generated for partialscaledSNR.\n",
      "Interpolator will be loaded for V1 detector from ./interpolator_pickle/V1/partialSNR_dict_5.pickle\n",
      "\n",
      "Chosen GWSNR initialization parameters:\n",
      "\n",
      "npool:  4\n",
      "snr type:  ann\n",
      "waveform approximant:  IMRPhenomXPHM\n",
      "sampling frequency:  2048.0\n",
      "minimum frequency (fmin):  20.0\n",
      "mtot=mass1+mass2\n",
      "min(mtot):  2.0\n",
      "max(mtot) (with the given fmin=20.0): 184.98599853446768\n",
      "detectors:  ['V1']\n",
      "psds:  [PowerSpectralDensity(psd_file='/Users/phurailatpamhemantakumar/anaconda3/envs/ler/lib/python3.10/site-packages/bilby/gw/detector/noise_curves/AdV_psd.txt', asd_file='None')]\n"
     ]
    }
   ],
   "source": [
    "# let's generate IMRPhenomD (spinless) interpolartor\n",
    "from gwsnr import GWSNR\n",
    "gwsnr = GWSNR(snr_type='ann', waveform_approximant='IMRPhenomXPHM', ifos=['V1'])"
   ]
  },
  {
   "cell_type": "code",
   "execution_count": 512,
   "metadata": {},
   "outputs": [],
   "source": [
    "from gwsnr import antenna_response_array, cubic_spline_interpolator2d\n",
    "\n",
    "def input_output(idx, params):\n",
    "\n",
    "    mass_1 = np.array(params['mass_1'])[idx]\n",
    "    mass_2 = np.array(params['mass_2'])[idx]\n",
    "    luminosity_distance = np.array(params['luminosity_distance'])[idx]\n",
    "    theta_jn = np.array(params['theta_jn'])[idx]\n",
    "    psi = np.array(params['psi'])[idx]\n",
    "    geocent_time = np.array(params['geocent_time'])[idx]\n",
    "    ra = np.array(params['ra'])[idx]\n",
    "    dec = np.array(params['dec'])[idx]\n",
    "    \n",
    "    detector_tensor = gwsnr.detector_tensor_list\n",
    "    snr_halfscaled = np.array(gwsnr.snr_partialsacaled_list)\n",
    "    ratio_arr = gwsnr.ratio_arr\n",
    "    mtot_arr = gwsnr.mtot_arr\n",
    "    \n",
    "    size = len(mass_1)\n",
    "    len_ = len(detector_tensor)\n",
    "    mtot = mass_1 + mass_2\n",
    "    ratio = mass_2 / mass_1\n",
    "    # get array of antenna response\n",
    "    Fp, Fc = antenna_response_array(ra, dec, geocent_time, psi, detector_tensor)\n",
    "\n",
    "    Mc = ((mass_1 * mass_2) ** (3 / 5)) / ((mass_1 + mass_2) ** (1 / 5))\n",
    "    eta = mass_1 * mass_2/(mass_1 + mass_2)**2.\n",
    "    A1 = Mc ** (5.0 / 6.0)\n",
    "    ci_2 = np.cos(theta_jn) ** 2\n",
    "    ci_param = ((1 + np.cos(theta_jn) ** 2) / 2) ** 2\n",
    "    \n",
    "    size = len(mass_1)\n",
    "    snr_half_ = np.zeros((len_,size))\n",
    "    d_eff = np.zeros((len_,size))\n",
    "\n",
    "    # loop over the detectors\n",
    "    for j in range(len_):\n",
    "        # loop over the parameter points\n",
    "        for i in range(size):\n",
    "            snr_half_coeff = snr_halfscaled[j]\n",
    "            snr_half_[j,i] = cubic_spline_interpolator2d(mtot[i], ratio[i], snr_half_coeff, mtot_arr, ratio_arr)\n",
    "            d_eff[j,i] =luminosity_distance[i] / np.sqrt(\n",
    "                    Fp[j,i]**2 * ci_param[i] + Fc[j,i]**2 * ci_2[i]\n",
    "                )\n",
    "\n",
    "    #amp0\n",
    "    amp0 =  A1 / d_eff\n",
    "\n",
    "    # get spin parameters\n",
    "    a_1 = np.array(params['a_1'])[idx]\n",
    "    a_2 = np.array(params['a_2'])[idx]\n",
    "    tilt_1 = np.array(params['tilt_1'])[idx]\n",
    "    tilt_2 = np.array(params['tilt_2'])[idx]\n",
    "\n",
    "    # effective spin\n",
    "    chi_eff = (mass_1 * a_1 * np.cos(tilt_1) + mass_2 * a_2 * np.cos(tilt_2)) / (mass_1 + mass_2)\n",
    "\n",
    "\n",
    "    # input data\n",
    "    XV1 = np.vstack([snr_half_[0], amp0[0], eta, chi_eff, theta_jn]).T \n",
    "\n",
    "    # output data\n",
    "    # get V1 snr for y train\n",
    "    yV1 = params['V1'][idx]\n",
    "\n",
    "    return(XV1, yV1)"
   ]
  },
  {
   "cell_type": "code",
   "execution_count": 513,
   "metadata": {},
   "outputs": [
    {
     "data": {
      "text/plain": [
       "(216879, 5)"
      ]
     },
     "execution_count": 513,
     "metadata": {},
     "output_type": "execute_result"
    }
   ],
   "source": [
    "len_ = len(unlensed_params['V1'])\n",
    "idx = np.arange(len_)\n",
    "# randomize the train set\n",
    "idx = np.random.permutation(idx)\n",
    "XV1, yV1 = input_output(idx, unlensed_params)\n",
    "np.shape(XV1)"
   ]
  },
  {
   "cell_type": "code",
   "execution_count": 514,
   "metadata": {},
   "outputs": [],
   "source": [
    "from sklearn.model_selection import train_test_split\n",
    "X_train, X_test, y_train, y_test = train_test_split(XV1, yV1, test_size = 0.1, random_state = 0)\n",
    "\n",
    "# feature scaling\n",
    "from sklearn.preprocessing import StandardScaler\n",
    "sc = StandardScaler()\n",
    "X_train = sc.fit_transform(X_train)\n",
    "X_test = sc.transform(X_test)\n",
    "\n",
    "# save the scaler\n",
    "import pickle\n",
    "pickle.dump(sc, open('scalerV1.pkl', 'wb'))"
   ]
  },
  {
   "cell_type": "code",
   "execution_count": 515,
   "metadata": {},
   "outputs": [],
   "source": [
    "# initialize the ANN\n",
    "ann = tf.keras.models.Sequential() \n",
    "\n",
    "# adding the input layer and the first hidden layer\n",
    "ann.add(tf.keras.layers.Dense(units=5, activation='relu'))\n",
    "# adding the second hidden layer\n",
    "ann.add(tf.keras.layers.Dense(units=32, activation='relu'))\n",
    "# adding the third hidden layer\n",
    "ann.add(tf.keras.layers.Dense(units=32, activation='sigmoid'))\n",
    "# adding the output layer, absolute value of the snr\n",
    "ann.add(tf.keras.layers.Dense(units=1, activation='linear'))\n",
    "#ann.add(tf.keras.layers.Dense(units=1, activation='sigmoid'))"
   ]
  },
  {
   "cell_type": "code",
   "execution_count": 516,
   "metadata": {},
   "outputs": [],
   "source": [
    "# compile the ANN\n",
    "# loss = 'mean_squared_error'\n",
    "ann.compile(optimizer = 'adam', loss = 'mean_squared_error', metrics = ['accuracy'])"
   ]
  },
  {
   "cell_type": "code",
   "execution_count": 517,
   "metadata": {},
   "outputs": [
    {
     "name": "stdout",
     "output_type": "stream",
     "text": [
      "Epoch 1/200\n"
     ]
    },
    {
     "name": "stdout",
     "output_type": "stream",
     "text": [
      "6100/6100 [==============================] - 3s 430us/step - loss: 4.7937 - accuracy: 2.5616e-05\n",
      "Epoch 2/200\n",
      "6100/6100 [==============================] - 3s 441us/step - loss: 1.0596 - accuracy: 3.0739e-05\n",
      "Epoch 3/200\n",
      "6100/6100 [==============================] - 3s 425us/step - loss: 0.6419 - accuracy: 3.5862e-05\n",
      "Epoch 4/200\n",
      "6100/6100 [==============================] - 3s 447us/step - loss: 0.4850 - accuracy: 3.0739e-05\n",
      "Epoch 5/200\n",
      "6100/6100 [==============================] - 3s 417us/step - loss: 0.4213 - accuracy: 2.5616e-05\n",
      "Epoch 6/200\n",
      "6100/6100 [==============================] - 3s 440us/step - loss: 0.3833 - accuracy: 1.5370e-05\n",
      "Epoch 7/200\n",
      "6100/6100 [==============================] - 3s 420us/step - loss: 0.3560 - accuracy: 3.0739e-05\n",
      "Epoch 8/200\n",
      "6100/6100 [==============================] - 3s 434us/step - loss: 0.3462 - accuracy: 3.5862e-05\n",
      "Epoch 9/200\n",
      "6100/6100 [==============================] - 3s 417us/step - loss: 0.3355 - accuracy: 1.5370e-05\n",
      "Epoch 10/200\n",
      "6100/6100 [==============================] - 3s 438us/step - loss: 0.3263 - accuracy: 2.0493e-05\n",
      "Epoch 11/200\n",
      "6100/6100 [==============================] - 3s 419us/step - loss: 0.3214 - accuracy: 1.5370e-05\n",
      "Epoch 12/200\n",
      "6100/6100 [==============================] - 3s 438us/step - loss: 0.3173 - accuracy: 2.0493e-05\n",
      "Epoch 13/200\n",
      "6100/6100 [==============================] - 3s 418us/step - loss: 0.3078 - accuracy: 2.0493e-05\n",
      "Epoch 14/200\n",
      "6100/6100 [==============================] - 3s 440us/step - loss: 0.3078 - accuracy: 2.5616e-05\n",
      "Epoch 15/200\n",
      "6100/6100 [==============================] - 3s 417us/step - loss: 0.3100 - accuracy: 1.5370e-05\n",
      "Epoch 16/200\n",
      "6100/6100 [==============================] - 3s 435us/step - loss: 0.3061 - accuracy: 3.0739e-05\n",
      "Epoch 17/200\n",
      "6100/6100 [==============================] - 3s 417us/step - loss: 0.3060 - accuracy: 2.5616e-05\n",
      "Epoch 18/200\n",
      "6100/6100 [==============================] - 3s 436us/step - loss: 0.3009 - accuracy: 2.0493e-05\n",
      "Epoch 19/200\n",
      "6100/6100 [==============================] - 3s 416us/step - loss: 0.3106 - accuracy: 2.5616e-05\n",
      "Epoch 20/200\n",
      "6100/6100 [==============================] - 3s 419us/step - loss: 0.2978 - accuracy: 2.5616e-05\n",
      "Epoch 21/200\n",
      "6100/6100 [==============================] - 3s 434us/step - loss: 0.3055 - accuracy: 3.0739e-05\n",
      "Epoch 22/200\n",
      "6100/6100 [==============================] - 3s 421us/step - loss: 0.2998 - accuracy: 2.0493e-05\n",
      "Epoch 23/200\n",
      "6100/6100 [==============================] - 3s 433us/step - loss: 0.3076 - accuracy: 3.0739e-05\n",
      "Epoch 24/200\n",
      "6100/6100 [==============================] - 3s 416us/step - loss: 0.3000 - accuracy: 2.5616e-05\n",
      "Epoch 25/200\n",
      "6100/6100 [==============================] - 3s 433us/step - loss: 0.3016 - accuracy: 3.0739e-05\n",
      "Epoch 26/200\n",
      "6100/6100 [==============================] - 3s 420us/step - loss: 0.2985 - accuracy: 3.5862e-05\n",
      "Epoch 27/200\n",
      "6100/6100 [==============================] - 3s 433us/step - loss: 0.2973 - accuracy: 5.1232e-05\n",
      "Epoch 28/200\n",
      "6100/6100 [==============================] - 3s 416us/step - loss: 0.2985 - accuracy: 4.6109e-05\n",
      "Epoch 29/200\n",
      "6100/6100 [==============================] - 3s 435us/step - loss: 0.2981 - accuracy: 6.1478e-05\n",
      "Epoch 30/200\n",
      "6100/6100 [==============================] - 3s 419us/step - loss: 0.2988 - accuracy: 5.6355e-05\n",
      "Epoch 31/200\n",
      "6100/6100 [==============================] - 3s 432us/step - loss: 0.2957 - accuracy: 6.6601e-05\n",
      "Epoch 32/200\n",
      "6100/6100 [==============================] - 3s 414us/step - loss: 0.3019 - accuracy: 4.6109e-05\n",
      "Epoch 33/200\n",
      "6100/6100 [==============================] - 3s 432us/step - loss: 0.2975 - accuracy: 6.1478e-05\n",
      "Epoch 34/200\n",
      "6100/6100 [==============================] - 3s 417us/step - loss: 0.2976 - accuracy: 6.1478e-05\n",
      "Epoch 35/200\n",
      "6100/6100 [==============================] - 3s 432us/step - loss: 0.2970 - accuracy: 4.6109e-05\n",
      "Epoch 36/200\n",
      "6100/6100 [==============================] - 3s 418us/step - loss: 0.2971 - accuracy: 5.1232e-05\n",
      "Epoch 37/200\n",
      "6100/6100 [==============================] - 3s 433us/step - loss: 0.2961 - accuracy: 4.0985e-05\n",
      "Epoch 38/200\n",
      "6100/6100 [==============================] - 3s 418us/step - loss: 0.2958 - accuracy: 4.0985e-05\n",
      "Epoch 39/200\n",
      "6100/6100 [==============================] - 3s 445us/step - loss: 0.2971 - accuracy: 5.6355e-05\n",
      "Epoch 40/200\n",
      "6100/6100 [==============================] - 3s 417us/step - loss: 0.2936 - accuracy: 3.0739e-05\n",
      "Epoch 41/200\n",
      "6100/6100 [==============================] - 3s 433us/step - loss: 0.2965 - accuracy: 6.1478e-05\n",
      "Epoch 42/200\n",
      "6100/6100 [==============================] - 3s 418us/step - loss: 0.2990 - accuracy: 5.1232e-05\n",
      "Epoch 43/200\n",
      "6100/6100 [==============================] - 3s 431us/step - loss: 0.2955 - accuracy: 5.1232e-05\n",
      "Epoch 44/200\n",
      "6100/6100 [==============================] - 3s 425us/step - loss: 0.2958 - accuracy: 4.0985e-05\n",
      "Epoch 45/200\n",
      "6100/6100 [==============================] - 3s 471us/step - loss: 0.2968 - accuracy: 5.6355e-05\n",
      "Epoch 46/200\n",
      "6100/6100 [==============================] - 3s 445us/step - loss: 0.2951 - accuracy: 6.1478e-05\n",
      "Epoch 47/200\n",
      "6100/6100 [==============================] - 3s 455us/step - loss: 0.2948 - accuracy: 7.6848e-05\n",
      "Epoch 48/200\n",
      "6100/6100 [==============================] - 3s 439us/step - loss: 0.2958 - accuracy: 4.6109e-05\n",
      "Epoch 49/200\n",
      "6100/6100 [==============================] - 3s 434us/step - loss: 0.2924 - accuracy: 8.1971e-05\n",
      "Epoch 50/200\n",
      "6100/6100 [==============================] - 3s 445us/step - loss: 0.2956 - accuracy: 7.1725e-05\n",
      "Epoch 51/200\n",
      "6100/6100 [==============================] - 3s 431us/step - loss: 0.2952 - accuracy: 7.1725e-05\n",
      "Epoch 52/200\n",
      "6100/6100 [==============================] - 3s 439us/step - loss: 0.2920 - accuracy: 5.6355e-05\n",
      "Epoch 53/200\n",
      "6100/6100 [==============================] - 3s 417us/step - loss: 0.2944 - accuracy: 5.6355e-05\n",
      "Epoch 54/200\n",
      "6100/6100 [==============================] - 3s 436us/step - loss: 0.2944 - accuracy: 5.6355e-05\n",
      "Epoch 55/200\n",
      "6100/6100 [==============================] - 3s 416us/step - loss: 0.2933 - accuracy: 6.6601e-05\n",
      "Epoch 56/200\n",
      "6100/6100 [==============================] - 3s 432us/step - loss: 0.2941 - accuracy: 6.6601e-05\n",
      "Epoch 57/200\n",
      "6100/6100 [==============================] - 3s 417us/step - loss: 0.2949 - accuracy: 5.6355e-05\n",
      "Epoch 58/200\n",
      "6100/6100 [==============================] - 3s 436us/step - loss: 0.2928 - accuracy: 6.1478e-05\n",
      "Epoch 59/200\n",
      "6100/6100 [==============================] - 3s 494us/step - loss: 0.2921 - accuracy: 6.1478e-05\n",
      "Epoch 60/200\n",
      "6100/6100 [==============================] - 3s 492us/step - loss: 0.2907 - accuracy: 6.6601e-05\n",
      "Epoch 61/200\n",
      "6100/6100 [==============================] - 3s 439us/step - loss: 0.2909 - accuracy: 7.6848e-05\n",
      "Epoch 62/200\n",
      "6100/6100 [==============================] - 3s 458us/step - loss: 0.2893 - accuracy: 7.6848e-05\n",
      "Epoch 63/200\n",
      "6100/6100 [==============================] - 3s 438us/step - loss: 0.2909 - accuracy: 6.1478e-05\n",
      "Epoch 64/200\n",
      "6100/6100 [==============================] - 3s 448us/step - loss: 0.2918 - accuracy: 7.6848e-05\n",
      "Epoch 65/200\n",
      "6100/6100 [==============================] - 3s 456us/step - loss: 0.2938 - accuracy: 8.1971e-05\n",
      "Epoch 66/200\n",
      "6100/6100 [==============================] - 3s 434us/step - loss: 0.2902 - accuracy: 7.6848e-05\n",
      "Epoch 67/200\n",
      "6100/6100 [==============================] - 3s 451us/step - loss: 0.2881 - accuracy: 7.6848e-05\n",
      "Epoch 68/200\n",
      "6100/6100 [==============================] - 3s 432us/step - loss: 0.2911 - accuracy: 7.1725e-05\n",
      "Epoch 69/200\n",
      "6100/6100 [==============================] - 3s 449us/step - loss: 0.2934 - accuracy: 5.6355e-05\n",
      "Epoch 70/200\n",
      "6100/6100 [==============================] - 3s 437us/step - loss: 0.2890 - accuracy: 7.1725e-05\n",
      "Epoch 71/200\n",
      "6100/6100 [==============================] - 3s 451us/step - loss: 0.2896 - accuracy: 6.6601e-05\n",
      "Epoch 72/200\n",
      "6100/6100 [==============================] - 3s 432us/step - loss: 0.2902 - accuracy: 6.6601e-05\n",
      "Epoch 73/200\n",
      "6100/6100 [==============================] - 3s 452us/step - loss: 0.2910 - accuracy: 6.1478e-05\n",
      "Epoch 74/200\n",
      "6100/6100 [==============================] - 3s 456us/step - loss: 0.2898 - accuracy: 5.1232e-05\n",
      "Epoch 75/200\n",
      "6100/6100 [==============================] - 3s 434us/step - loss: 0.2903 - accuracy: 5.6355e-05\n",
      "Epoch 76/200\n",
      "6100/6100 [==============================] - 3s 453us/step - loss: 0.2908 - accuracy: 4.0985e-05\n",
      "Epoch 77/200\n",
      "6100/6100 [==============================] - 3s 435us/step - loss: 0.2899 - accuracy: 6.1478e-05\n",
      "Epoch 78/200\n",
      "6100/6100 [==============================] - 3s 451us/step - loss: 0.2872 - accuracy: 6.1478e-05\n",
      "Epoch 79/200\n",
      "6100/6100 [==============================] - 3s 436us/step - loss: 0.2868 - accuracy: 6.1478e-05\n",
      "Epoch 80/200\n",
      "6100/6100 [==============================] - 3s 454us/step - loss: 0.2884 - accuracy: 6.1478e-05\n",
      "Epoch 81/200\n",
      "6100/6100 [==============================] - 3s 452us/step - loss: 0.2922 - accuracy: 5.6355e-05\n",
      "Epoch 82/200\n",
      "6100/6100 [==============================] - 3s 435us/step - loss: 0.2888 - accuracy: 4.6109e-05\n",
      "Epoch 83/200\n",
      "6100/6100 [==============================] - 3s 466us/step - loss: 0.2896 - accuracy: 6.1478e-05\n",
      "Epoch 84/200\n",
      "6100/6100 [==============================] - 3s 435us/step - loss: 0.2893 - accuracy: 5.1232e-05\n",
      "Epoch 85/200\n",
      "6100/6100 [==============================] - 3s 453us/step - loss: 0.2875 - accuracy: 5.6355e-05\n",
      "Epoch 86/200\n",
      "6100/6100 [==============================] - 3s 434us/step - loss: 0.2877 - accuracy: 6.1478e-05\n",
      "Epoch 87/200\n",
      "6100/6100 [==============================] - 3s 450us/step - loss: 0.2924 - accuracy: 7.6848e-05\n",
      "Epoch 88/200\n",
      "6100/6100 [==============================] - 4s 602us/step - loss: 0.2886 - accuracy: 5.6355e-05\n",
      "Epoch 89/200\n",
      "6100/6100 [==============================] - 3s 470us/step - loss: 0.2879 - accuracy: 5.6355e-05\n",
      "Epoch 90/200\n",
      "6100/6100 [==============================] - 3s 438us/step - loss: 0.2866 - accuracy: 4.6109e-05\n",
      "Epoch 91/200\n",
      "6100/6100 [==============================] - 3s 450us/step - loss: 0.2889 - accuracy: 7.1725e-05\n",
      "Epoch 92/200\n",
      "6100/6100 [==============================] - 3s 439us/step - loss: 0.2863 - accuracy: 5.6355e-05\n",
      "Epoch 93/200\n",
      "6100/6100 [==============================] - 3s 458us/step - loss: 0.2872 - accuracy: 5.6355e-05\n",
      "Epoch 94/200\n",
      "6100/6100 [==============================] - 3s 449us/step - loss: 0.2882 - accuracy: 6.1478e-05\n",
      "Epoch 95/200\n",
      "6100/6100 [==============================] - 3s 440us/step - loss: 0.2870 - accuracy: 5.6355e-05\n",
      "Epoch 96/200\n",
      "6100/6100 [==============================] - 3s 454us/step - loss: 0.2895 - accuracy: 5.6355e-05\n",
      "Epoch 97/200\n",
      "6100/6100 [==============================] - 3s 431us/step - loss: 0.2904 - accuracy: 6.1478e-05\n",
      "Epoch 98/200\n",
      "6100/6100 [==============================] - 3s 454us/step - loss: 0.2877 - accuracy: 6.1478e-05\n",
      "Epoch 99/200\n",
      "6100/6100 [==============================] - 3s 433us/step - loss: 0.2893 - accuracy: 5.6355e-05\n",
      "Epoch 100/200\n",
      "6100/6100 [==============================] - 3s 452us/step - loss: 0.2881 - accuracy: 6.1478e-05\n",
      "Epoch 101/200\n",
      "6100/6100 [==============================] - 3s 454us/step - loss: 0.2898 - accuracy: 5.6355e-05\n",
      "Epoch 102/200\n",
      "6100/6100 [==============================] - 3s 434us/step - loss: 0.2882 - accuracy: 6.1478e-05\n",
      "Epoch 103/200\n",
      "6100/6100 [==============================] - 3s 446us/step - loss: 0.2864 - accuracy: 6.6601e-05\n",
      "Epoch 104/200\n",
      "6100/6100 [==============================] - 3s 436us/step - loss: 0.2862 - accuracy: 6.1478e-05\n",
      "Epoch 105/200\n",
      "6100/6100 [==============================] - 3s 450us/step - loss: 0.2868 - accuracy: 5.6355e-05\n",
      "Epoch 106/200\n",
      "6100/6100 [==============================] - 3s 447us/step - loss: 0.2844 - accuracy: 5.6355e-05\n",
      "Epoch 107/200\n",
      "6100/6100 [==============================] - 3s 438us/step - loss: 0.2865 - accuracy: 5.6355e-05\n",
      "Epoch 108/200\n",
      "6100/6100 [==============================] - 3s 454us/step - loss: 0.2903 - accuracy: 5.1232e-05\n",
      "Epoch 109/200\n",
      "6100/6100 [==============================] - 3s 435us/step - loss: 0.2854 - accuracy: 4.6109e-05\n",
      "Epoch 110/200\n",
      "6100/6100 [==============================] - 3s 451us/step - loss: 0.2856 - accuracy: 6.1478e-05\n",
      "Epoch 111/200\n",
      "6100/6100 [==============================] - 3s 447us/step - loss: 0.2868 - accuracy: 5.6355e-05\n",
      "Epoch 112/200\n",
      "6100/6100 [==============================] - 3s 437us/step - loss: 0.2851 - accuracy: 5.1232e-05\n",
      "Epoch 113/200\n",
      "6100/6100 [==============================] - 3s 451us/step - loss: 0.2855 - accuracy: 5.6355e-05\n",
      "Epoch 114/200\n",
      "6100/6100 [==============================] - 3s 431us/step - loss: 0.2862 - accuracy: 4.6109e-05\n",
      "Epoch 115/200\n",
      "6100/6100 [==============================] - 3s 452us/step - loss: 0.2880 - accuracy: 5.6355e-05\n",
      "Epoch 116/200\n",
      "6100/6100 [==============================] - 3s 449us/step - loss: 0.2861 - accuracy: 5.6355e-05\n",
      "Epoch 117/200\n",
      "6100/6100 [==============================] - 3s 434us/step - loss: 0.2886 - accuracy: 6.6601e-05\n",
      "Epoch 118/200\n",
      "6100/6100 [==============================] - 3s 447us/step - loss: 0.2904 - accuracy: 4.0985e-05\n",
      "Epoch 119/200\n",
      "6100/6100 [==============================] - 3s 434us/step - loss: 0.2858 - accuracy: 6.1478e-05\n",
      "Epoch 120/200\n",
      "6100/6100 [==============================] - 3s 451us/step - loss: 0.2869 - accuracy: 4.0985e-05\n",
      "Epoch 121/200\n",
      "6100/6100 [==============================] - 3s 434us/step - loss: 0.2864 - accuracy: 5.1232e-05\n",
      "Epoch 122/200\n",
      "6100/6100 [==============================] - 3s 451us/step - loss: 0.2879 - accuracy: 5.6355e-05\n",
      "Epoch 123/200\n",
      "6100/6100 [==============================] - 3s 455us/step - loss: 0.2892 - accuracy: 5.6355e-05\n",
      "Epoch 124/200\n",
      "6100/6100 [==============================] - 3s 435us/step - loss: 0.2857 - accuracy: 6.1478e-05\n",
      "Epoch 125/200\n",
      "6100/6100 [==============================] - 3s 455us/step - loss: 0.2866 - accuracy: 5.1232e-05\n",
      "Epoch 126/200\n",
      "6100/6100 [==============================] - 3s 424us/step - loss: 0.2869 - accuracy: 4.6109e-05\n",
      "Epoch 127/200\n",
      "6100/6100 [==============================] - 3s 441us/step - loss: 0.2867 - accuracy: 5.1232e-05\n",
      "Epoch 128/200\n",
      "6100/6100 [==============================] - 3s 438us/step - loss: 0.2879 - accuracy: 4.6109e-05\n",
      "Epoch 129/200\n",
      "6100/6100 [==============================] - 3s 419us/step - loss: 0.2865 - accuracy: 6.6601e-05\n",
      "Epoch 130/200\n",
      "6100/6100 [==============================] - 3s 436us/step - loss: 0.2845 - accuracy: 5.6355e-05\n",
      "Epoch 131/200\n",
      "6100/6100 [==============================] - 3s 421us/step - loss: 0.2901 - accuracy: 6.6601e-05\n",
      "Epoch 132/200\n",
      "6100/6100 [==============================] - 3s 437us/step - loss: 0.2848 - accuracy: 5.6355e-05\n",
      "Epoch 133/200\n",
      "6100/6100 [==============================] - 3s 435us/step - loss: 0.2870 - accuracy: 4.0985e-05\n",
      "Epoch 134/200\n",
      "6100/6100 [==============================] - 3s 419us/step - loss: 0.2856 - accuracy: 5.1232e-05\n",
      "Epoch 135/200\n",
      "6100/6100 [==============================] - 3s 440us/step - loss: 0.2857 - accuracy: 4.6109e-05\n",
      "Epoch 136/200\n",
      "6100/6100 [==============================] - 3s 418us/step - loss: 0.2864 - accuracy: 5.1232e-05\n",
      "Epoch 137/200\n",
      "6100/6100 [==============================] - 3s 439us/step - loss: 0.2867 - accuracy: 4.6109e-05\n",
      "Epoch 138/200\n",
      "6100/6100 [==============================] - 3s 441us/step - loss: 0.2845 - accuracy: 6.1478e-05\n",
      "Epoch 139/200\n",
      "6100/6100 [==============================] - 3s 422us/step - loss: 0.2855 - accuracy: 4.6109e-05\n",
      "Epoch 140/200\n",
      "6100/6100 [==============================] - 3s 437us/step - loss: 0.2854 - accuracy: 5.1232e-05\n",
      "Epoch 141/200\n",
      "6100/6100 [==============================] - 3s 421us/step - loss: 0.2884 - accuracy: 4.0985e-05\n",
      "Epoch 142/200\n",
      "6100/6100 [==============================] - 3s 435us/step - loss: 0.2854 - accuracy: 4.0985e-05\n",
      "Epoch 143/200\n",
      "6100/6100 [==============================] - 3s 437us/step - loss: 0.2844 - accuracy: 5.6355e-05\n",
      "Epoch 144/200\n",
      "6100/6100 [==============================] - 3s 421us/step - loss: 0.2868 - accuracy: 5.6355e-05\n",
      "Epoch 145/200\n",
      "6100/6100 [==============================] - 3s 438us/step - loss: 0.2858 - accuracy: 6.1478e-05\n",
      "Epoch 146/200\n",
      "6100/6100 [==============================] - 3s 444us/step - loss: 0.2860 - accuracy: 7.1725e-05\n",
      "Epoch 147/200\n",
      "6100/6100 [==============================] - 3s 422us/step - loss: 0.2847 - accuracy: 6.6601e-05\n",
      "Epoch 148/200\n",
      "6100/6100 [==============================] - 3s 437us/step - loss: 0.2847 - accuracy: 4.6109e-05\n",
      "Epoch 149/200\n",
      "6100/6100 [==============================] - 3s 421us/step - loss: 0.2835 - accuracy: 6.1478e-05\n",
      "Epoch 150/200\n",
      "6100/6100 [==============================] - 3s 434us/step - loss: 0.2866 - accuracy: 4.6109e-05\n",
      "Epoch 151/200\n",
      "6100/6100 [==============================] - 3s 439us/step - loss: 0.2843 - accuracy: 4.0985e-05\n",
      "Epoch 152/200\n",
      "6100/6100 [==============================] - 3s 421us/step - loss: 0.2868 - accuracy: 4.0985e-05\n",
      "Epoch 153/200\n",
      "6100/6100 [==============================] - 3s 437us/step - loss: 0.2839 - accuracy: 3.0739e-05\n",
      "Epoch 154/200\n",
      "6100/6100 [==============================] - 3s 438us/step - loss: 0.2848 - accuracy: 6.1478e-05\n",
      "Epoch 155/200\n",
      "6100/6100 [==============================] - 3s 423us/step - loss: 0.2857 - accuracy: 6.6601e-05\n",
      "Epoch 156/200\n",
      "6100/6100 [==============================] - 3s 438us/step - loss: 0.2966 - accuracy: 4.6109e-05\n",
      "Epoch 157/200\n",
      "6100/6100 [==============================] - 3s 434us/step - loss: 0.2865 - accuracy: 3.5862e-05\n",
      "Epoch 158/200\n",
      "6100/6100 [==============================] - 3s 423us/step - loss: 0.2828 - accuracy: 5.1232e-05\n",
      "Epoch 159/200\n",
      "6100/6100 [==============================] - 3s 440us/step - loss: 0.2866 - accuracy: 5.1232e-05\n",
      "Epoch 160/200\n",
      "6100/6100 [==============================] - 3s 418us/step - loss: 0.2848 - accuracy: 5.1232e-05\n",
      "Epoch 161/200\n",
      "6100/6100 [==============================] - 3s 439us/step - loss: 0.2851 - accuracy: 6.1478e-05\n",
      "Epoch 162/200\n",
      "6100/6100 [==============================] - 3s 438us/step - loss: 0.2868 - accuracy: 5.1232e-05\n",
      "Epoch 163/200\n",
      "6100/6100 [==============================] - 3s 423us/step - loss: 0.2815 - accuracy: 5.1232e-05\n",
      "Epoch 164/200\n",
      "6100/6100 [==============================] - 3s 438us/step - loss: 0.2847 - accuracy: 4.0985e-05\n",
      "Epoch 165/200\n",
      "6100/6100 [==============================] - 3s 436us/step - loss: 0.2843 - accuracy: 3.0739e-05\n",
      "Epoch 166/200\n",
      "6100/6100 [==============================] - 3s 421us/step - loss: 0.2841 - accuracy: 5.1232e-05\n",
      "Epoch 167/200\n",
      "6100/6100 [==============================] - 3s 444us/step - loss: 0.2863 - accuracy: 5.1232e-05\n",
      "Epoch 168/200\n",
      "6100/6100 [==============================] - 3s 418us/step - loss: 0.2846 - accuracy: 3.5862e-05\n",
      "Epoch 169/200\n",
      "6100/6100 [==============================] - 3s 438us/step - loss: 0.2836 - accuracy: 4.0985e-05\n",
      "Epoch 170/200\n",
      "6100/6100 [==============================] - 3s 440us/step - loss: 0.2824 - accuracy: 4.0985e-05\n",
      "Epoch 171/200\n",
      "6100/6100 [==============================] - 3s 424us/step - loss: 0.2897 - accuracy: 4.6109e-05\n",
      "Epoch 172/200\n",
      "6100/6100 [==============================] - 3s 440us/step - loss: 0.2839 - accuracy: 5.6355e-05\n",
      "Epoch 173/200\n",
      "6100/6100 [==============================] - 3s 442us/step - loss: 0.2847 - accuracy: 3.5862e-05\n",
      "Epoch 174/200\n",
      "6100/6100 [==============================] - 3s 431us/step - loss: 0.2837 - accuracy: 3.5862e-05\n",
      "Epoch 175/200\n",
      "6100/6100 [==============================] - 3s 444us/step - loss: 0.2850 - accuracy: 3.0739e-05\n",
      "Epoch 176/200\n",
      "6100/6100 [==============================] - 3s 436us/step - loss: 0.2864 - accuracy: 4.0985e-05\n",
      "Epoch 177/200\n",
      "6100/6100 [==============================] - 3s 422us/step - loss: 0.2840 - accuracy: 5.1232e-05\n",
      "Epoch 178/200\n",
      "6100/6100 [==============================] - 3s 437us/step - loss: 0.2826 - accuracy: 5.6355e-05\n",
      "Epoch 179/200\n",
      "6100/6100 [==============================] - 3s 438us/step - loss: 0.2839 - accuracy: 4.6109e-05\n",
      "Epoch 180/200\n",
      "6100/6100 [==============================] - 3s 423us/step - loss: 0.2846 - accuracy: 4.0985e-05\n",
      "Epoch 181/200\n",
      "6100/6100 [==============================] - 3s 439us/step - loss: 0.2837 - accuracy: 5.6355e-05\n",
      "Epoch 182/200\n",
      "6100/6100 [==============================] - 3s 441us/step - loss: 0.2838 - accuracy: 6.6601e-05\n",
      "Epoch 183/200\n",
      "6100/6100 [==============================] - 3s 421us/step - loss: 0.2896 - accuracy: 5.1232e-05\n",
      "Epoch 184/200\n",
      "6100/6100 [==============================] - 3s 441us/step - loss: 0.2864 - accuracy: 6.1478e-05\n",
      "Epoch 185/200\n",
      "6100/6100 [==============================] - 3s 440us/step - loss: 0.2844 - accuracy: 6.6601e-05\n",
      "Epoch 186/200\n",
      "6100/6100 [==============================] - 3s 423us/step - loss: 0.2841 - accuracy: 4.6109e-05\n",
      "Epoch 187/200\n",
      "6100/6100 [==============================] - 3s 441us/step - loss: 0.2808 - accuracy: 6.1478e-05\n",
      "Epoch 188/200\n",
      "6100/6100 [==============================] - 3s 439us/step - loss: 0.2833 - accuracy: 7.6848e-05\n",
      "Epoch 189/200\n",
      "6100/6100 [==============================] - 3s 420us/step - loss: 0.2838 - accuracy: 5.6355e-05\n",
      "Epoch 190/200\n",
      "6100/6100 [==============================] - 3s 442us/step - loss: 0.2844 - accuracy: 4.6109e-05\n",
      "Epoch 191/200\n",
      "6100/6100 [==============================] - 3s 440us/step - loss: 0.2834 - accuracy: 6.1478e-05\n",
      "Epoch 192/200\n",
      "6100/6100 [==============================] - 3s 424us/step - loss: 0.2828 - accuracy: 7.6848e-05\n",
      "Epoch 193/200\n",
      "6100/6100 [==============================] - 3s 459us/step - loss: 0.2823 - accuracy: 6.1478e-05\n",
      "Epoch 194/200\n",
      "6100/6100 [==============================] - 3s 452us/step - loss: 0.2851 - accuracy: 5.1232e-05\n",
      "Epoch 195/200\n",
      "6100/6100 [==============================] - 3s 426us/step - loss: 0.2829 - accuracy: 6.1478e-05\n",
      "Epoch 196/200\n",
      "6100/6100 [==============================] - 3s 444us/step - loss: 0.2852 - accuracy: 6.1478e-05\n",
      "Epoch 197/200\n",
      "6100/6100 [==============================] - 3s 441us/step - loss: 0.2820 - accuracy: 5.1232e-05\n",
      "Epoch 198/200\n",
      "6100/6100 [==============================] - 3s 426us/step - loss: 0.2811 - accuracy: 6.6601e-05\n",
      "Epoch 199/200\n",
      "6100/6100 [==============================] - 3s 458us/step - loss: 0.2832 - accuracy: 6.1478e-05\n",
      "Epoch 200/200\n",
      "6100/6100 [==============================] - 3s 450us/step - loss: 0.2838 - accuracy: 7.1725e-05\n"
     ]
    },
    {
     "data": {
      "text/plain": [
       "<keras.src.callbacks.History at 0x3962327a0>"
      ]
     },
     "execution_count": 517,
     "metadata": {},
     "output_type": "execute_result"
    }
   ],
   "source": [
    "# train the ANN on the training set\n",
    "ann.fit(X_train, y_train, batch_size = 32, epochs = 200, workers=8, use_multiprocessing=True)"
   ]
  },
  {
   "cell_type": "code",
   "execution_count": 518,
   "metadata": {},
   "outputs": [
    {
     "name": "stdout",
     "output_type": "stream",
     "text": [
      "678/678 [==============================] - 0s 335us/step\n"
     ]
    },
    {
     "name": "stdout",
     "output_type": "stream",
     "text": [
      "[[13.49041462 13.5532527 ]\n",
      " [ 4.03706074  4.11572358]\n",
      " [ 8.59361839  7.79521397]\n",
      " [ 2.1222508   2.16101504]\n",
      " [ 4.0793047   4.08103545]\n",
      " [ 2.22639751  2.08412741]\n",
      " [ 8.18501854  6.70793353]\n",
      " [ 5.5151701   5.41165149]\n",
      " [ 4.33706999  3.41114713]\n",
      " [ 2.18644643  2.22421085]\n",
      " [ 4.75796366  9.33814207]\n",
      " [ 3.4946394   3.29469341]\n",
      " [ 3.73273301  3.8705105 ]\n",
      " [ 5.85980892  6.1987328 ]\n",
      " [ 6.52721453  6.81462945]]\n"
     ]
    }
   ],
   "source": [
    "y_pred = ann.predict(X_test)\n",
    "#y_pred = (y_pred > 0.5)\n",
    "print(np.concatenate((y_pred.reshape(len(y_pred),1), y_test.reshape(len(y_test),1)),1)[10:25])"
   ]
  },
  {
   "cell_type": "code",
   "execution_count": 519,
   "metadata": {},
   "outputs": [
    {
     "name": "stdout",
     "output_type": "stream",
     "text": [
      "Error: 1.98%\n"
     ]
    }
   ],
   "source": [
    "len1 = len(y_pred)\n",
    "len2 = np.sum((y_pred.flatten()>8) != (y_test>8))\n",
    "error = len2/len1*100\n",
    "print(f\"Error: {error:.2f}%\")"
   ]
  },
  {
   "cell_type": "code",
   "execution_count": 520,
   "metadata": {},
   "outputs": [],
   "source": [
    "# Save the model to a file\n",
    "ann.save('ann_modelV1.h5')"
   ]
  },
  {
   "cell_type": "markdown",
   "metadata": {},
   "source": [
    "## Load all models and test them"
   ]
  },
  {
   "cell_type": "code",
   "execution_count": 521,
   "metadata": {},
   "outputs": [],
   "source": [
    "from tensorflow.keras.models import load_model\n",
    "modelL1 = load_model('ann_modelL1.h5')\n",
    "modelH1 = load_model('ann_modelH1.h5')\n",
    "modelV1 = load_model('ann_modelV1.h5')\n",
    "\n",
    "# load the scaler\n",
    "import pickle\n",
    "scalerL1 = pickle.load(open('scalerL1.pkl', 'rb'))\n",
    "scalerH1 = pickle.load(open('scalerH1.pkl', 'rb'))\n",
    "scalerV1 = pickle.load(open('scalerV1.pkl', 'rb'))"
   ]
  },
  {
   "cell_type": "markdown",
   "metadata": {},
   "source": [
    "## BBH"
   ]
  },
  {
   "cell_type": "code",
   "execution_count": 522,
   "metadata": {},
   "outputs": [
    {
     "name": "stdout",
     "output_type": "stream",
     "text": [
      "psds not given. Choosing bilby's default psds\n"
     ]
    },
    {
     "name": "stdout",
     "output_type": "stream",
     "text": [
      "You have chosen default ANN model. This model only works for gwsnr default parameters.\n",
      "ANN model will be save and loaded from 'ann_data' directory. To create new model, follow instructions from the 'gwsnr' documentation.\n",
      "Please be patient while the interpolator is generated for partialscaledSNR.\n",
      "Interpolator will be loaded for L1 detector from ./interpolator_pickle/L1/partialSNR_dict_1.pickle\n",
      "Interpolator will be loaded for H1 detector from ./interpolator_pickle/H1/partialSNR_dict_1.pickle\n",
      "Interpolator will be loaded for V1 detector from ./interpolator_pickle/V1/partialSNR_dict_1.pickle\n",
      "\n",
      "Chosen GWSNR initialization parameters:\n",
      "\n",
      "npool:  4\n",
      "snr type:  ann\n",
      "waveform approximant:  IMRPhenomXPHM\n",
      "sampling frequency:  2048.0\n",
      "minimum frequency (fmin):  20.0\n",
      "mtot=mass1+mass2\n",
      "min(mtot):  2.0\n",
      "max(mtot) (with the given fmin=20.0): 184.98599853446768\n",
      "detectors:  ['L1', 'H1', 'V1']\n",
      "psds:  [PowerSpectralDensity(psd_file='None', asd_file='/Users/phurailatpamhemantakumar/anaconda3/envs/ler/lib/python3.10/site-packages/bilby/gw/detector/noise_curves/aLIGO_O4_high_asd.txt'), PowerSpectralDensity(psd_file='None', asd_file='/Users/phurailatpamhemantakumar/anaconda3/envs/ler/lib/python3.10/site-packages/bilby/gw/detector/noise_curves/aLIGO_O4_high_asd.txt'), PowerSpectralDensity(psd_file='None', asd_file='/Users/phurailatpamhemantakumar/anaconda3/envs/ler/lib/python3.10/site-packages/bilby/gw/detector/noise_curves/AdV_asd.txt')]\n"
     ]
    }
   ],
   "source": [
    "# let's generate IMRPhenomD (spinless) interpolartor\n",
    "from gwsnr import GWSNR\n",
    "gwsnr = GWSNR(snr_type='ann', waveform_approximant='IMRPhenomXPHM')"
   ]
  },
  {
   "cell_type": "code",
   "execution_count": 523,
   "metadata": {},
   "outputs": [],
   "source": [
    "from gwsnr import antenna_response_array, cubic_spline_interpolator2d\n",
    "\n",
    "def input_output_net(idx, params):\n",
    "\n",
    "    mass_1 = np.array(params['mass_1'])[idx]\n",
    "    mass_2 = np.array(params['mass_2'])[idx]\n",
    "    luminosity_distance = np.array(params['luminosity_distance'])[idx]\n",
    "    theta_jn = np.array(params['theta_jn'])[idx]\n",
    "    psi = np.array(params['psi'])[idx]\n",
    "    geocent_time = np.array(params['geocent_time'])[idx]\n",
    "    ra = np.array(params['ra'])[idx]\n",
    "    dec = np.array(params['dec'])[idx]\n",
    "    \n",
    "    detector_tensor = gwsnr.detector_tensor_list\n",
    "    snr_halfscaled = np.array(gwsnr.snr_partialsacaled_list)\n",
    "    ratio_arr = gwsnr.ratio_arr\n",
    "    mtot_arr = gwsnr.mtot_arr\n",
    "    \n",
    "    size = len(mass_1)\n",
    "    len_ = len(detector_tensor)\n",
    "    mtot = mass_1 + mass_2\n",
    "    ratio = mass_2 / mass_1\n",
    "    # get array of antenna response\n",
    "    Fp, Fc = antenna_response_array(ra, dec, geocent_time, psi, detector_tensor)\n",
    "\n",
    "    Mc = ((mass_1 * mass_2) ** (3 / 5)) / ((mass_1 + mass_2) ** (1 / 5))\n",
    "    eta = mass_1 * mass_2/(mass_1 + mass_2)**2.\n",
    "    A1 = Mc ** (5.0 / 6.0)\n",
    "    ci_2 = np.cos(theta_jn) ** 2\n",
    "    ci_param = ((1 + np.cos(theta_jn) ** 2) / 2) ** 2\n",
    "    \n",
    "    size = len(mass_1)\n",
    "    snr_half_ = np.zeros((len_,size))\n",
    "    d_eff = np.zeros((len_,size))\n",
    "\n",
    "    # loop over the detectors\n",
    "    for j in range(len_):\n",
    "        # loop over the parameter points\n",
    "        for i in range(size):\n",
    "            snr_half_coeff = snr_halfscaled[j]\n",
    "            snr_half_[j,i] = cubic_spline_interpolator2d(mtot[i], ratio[i], snr_half_coeff, mtot_arr, ratio_arr)\n",
    "            d_eff[j,i] =luminosity_distance[i] / np.sqrt(\n",
    "                    Fp[j,i]**2 * ci_param[i] + Fc[j,i]**2 * ci_2[i]\n",
    "                )\n",
    "\n",
    "    #amp0\n",
    "    amp0 =  A1 / d_eff\n",
    "\n",
    "    # get spin parameters\n",
    "    a_1 = np.array(params['a_1'])[idx]\n",
    "    a_2 = np.array(params['a_2'])[idx]\n",
    "    tilt_1 = np.array(params['tilt_1'])[idx]\n",
    "    tilt_2 = np.array(params['tilt_2'])[idx]\n",
    "\n",
    "    # effective spin\n",
    "    chi_eff = (mass_1 * a_1 * np.cos(tilt_1) + mass_2 * a_2 * np.cos(tilt_2)) / (mass_1 + mass_2)\n",
    "\n",
    "    # input data\n",
    "    L1 = np.vstack([snr_half_[0], amp0[0], eta, chi_eff, theta_jn]).T\n",
    "    H1 = np.vstack([snr_half_[1], amp0[1], eta, chi_eff, theta_jn]).T\n",
    "    V1 = np.vstack([snr_half_[2], amp0[2], eta, chi_eff, theta_jn]).T    \n",
    "\n",
    "    X = np.array([L1, H1, V1])\n",
    "\n",
    "    # output data\n",
    "    # get L1 snr for y train \n",
    "    y = np.sqrt(np.array(params['L1'])[idx]**2 + np.array(params['H1'])[idx]**2 + np.array(params['V1'])[idx]**2)\n",
    "\n",
    "    # taking care mtot max\n",
    "    # mtot_max = gwsnr.mtot_max\n",
    "    # mtot = mass_1[idx] + mass_2[idx]\n",
    "    # y[mtot>mtot_max] = 0.\n",
    "\n",
    "    return(X,y)"
   ]
  },
  {
   "cell_type": "code",
   "execution_count": 524,
   "metadata": {},
   "outputs": [],
   "source": [
    "# generating new data\n",
    "from ler.rates import LeR\n",
    "from ler.utils import get_param_from_json\n",
    "import numpy as np\n",
    "\n",
    "ler = LeR(verbose=False, snr_type='inner_product', waveform_approximant=\"IMRPhenomXPHM\", spin_zero=False, spin_precession=True, z_max=5)"
   ]
  },
  {
   "cell_type": "code",
   "execution_count": 525,
   "metadata": {},
   "outputs": [
    {
     "name": "stdout",
     "output_type": "stream",
     "text": [
      "unlensed params will be store in ./ler_data/unlensed_param_testing.json\n",
      "chosen batch size = 25000 with total size = 25000\n",
      "There will be 1 batche(s)\n",
      "resuming from ./ler_data/unlensed_param_testing.json\n",
      "saving all unlensed_params in ./ler_data/unlensed_param_testing.json...\n"
     ]
    }
   ],
   "source": [
    "## Uncomment to generate new data if not already generated\n",
    "size_ = 25000\n",
    "ler.batch_size = 25000\n",
    "ler.unlensed_cbc_statistics(size=size_, output_jsonfile='unlensed_param_testing.json', resume=True);"
   ]
  },
  {
   "cell_type": "code",
   "execution_count": 526,
   "metadata": {},
   "outputs": [],
   "source": [
    "unlensed_params = get_param_from_json(\"ler_data/unlensed_param_testing.json\")"
   ]
  },
  {
   "cell_type": "code",
   "execution_count": 527,
   "metadata": {},
   "outputs": [],
   "source": [
    "X_, Y_ = input_output_net(np.arange(size_), unlensed_params)"
   ]
  },
  {
   "cell_type": "code",
   "execution_count": 528,
   "metadata": {},
   "outputs": [],
   "source": [
    "def input_output_netANN(x_array):\n",
    "    x = scalerL1.transform(x_array[0])\n",
    "    yL1 = modelL1.predict(x)\n",
    "    x = scalerH1.transform(x_array[1])\n",
    "    yH1 = modelH1.predict(x)\n",
    "    x = scalerV1.transform(x_array[2])\n",
    "    yV1 = modelV1.predict(x)\n",
    "    y = np.sqrt(yL1**2 + yH1**2 + yV1**2)\n",
    "\n",
    "    mass_1 = np.array(unlensed_params['mass_1'])\n",
    "    mass_2 = np.array(unlensed_params['mass_2'])\n",
    "    mtot = mass_1 + mass_2\n",
    "    y[mtot>gwsnr.mtot_max] = 0.\n",
    "\n",
    "    return(x_array,y)"
   ]
  },
  {
   "cell_type": "code",
   "execution_count": 529,
   "metadata": {},
   "outputs": [
    {
     "name": "stdout",
     "output_type": "stream",
     "text": [
      "782/782 [==============================] - 0s 263us/step\n",
      "782/782 [==============================] - 0s 264us/step\n",
      "782/782 [==============================] - 0s 261us/step\n"
     ]
    }
   ],
   "source": [
    "_, snrANN =input_output_netANN(X_)"
   ]
  },
  {
   "cell_type": "code",
   "execution_count": 530,
   "metadata": {},
   "outputs": [],
   "source": [
    "y_pred = snrANN.flatten()\n",
    "y_test = Y_"
   ]
  },
  {
   "cell_type": "code",
   "execution_count": 531,
   "metadata": {},
   "outputs": [
    {
     "data": {
      "text/plain": [
       "25000"
      ]
     },
     "execution_count": 531,
     "metadata": {},
     "output_type": "execute_result"
    }
   ],
   "source": [
    "len(y_test)"
   ]
  },
  {
   "cell_type": "code",
   "execution_count": 532,
   "metadata": {},
   "outputs": [
    {
     "data": {
      "text/plain": [
       "25000"
      ]
     },
     "execution_count": 532,
     "metadata": {},
     "output_type": "execute_result"
    }
   ],
   "source": [
    "len(y_pred)"
   ]
  },
  {
   "cell_type": "code",
   "execution_count": 563,
   "metadata": {},
   "outputs": [
    {
     "name": "stdout",
     "output_type": "stream",
     "text": [
      "[-0.07411881  0.87044046]\n"
     ]
    }
   ],
   "source": [
    "# do linear fitting of the error y_pred-y_test\n",
    "from scipy.optimize import curve_fit\n",
    "\n",
    "def func(x, a, b):\n",
    "    return a*x + b\n",
    "\n",
    "idx = (y_pred>4) & (y_pred<12)\n",
    "popt, pcov = curve_fit(func, y_pred[idx], y_pred[idx]-y_test[idx])\n",
    "print(popt)"
   ]
  },
  {
   "cell_type": "code",
   "execution_count": null,
   "metadata": {},
   "outputs": [],
   "source": []
  },
  {
   "cell_type": "code",
   "execution_count": 564,
   "metadata": {},
   "outputs": [
    {
     "data": {
      "image/png": "[encoded data removed]",
      "text/plain": [
       "<Figure size 400x400 with 1 Axes>"
      ]
     },
     "metadata": {},
     "output_type": "display_data"
    }
   ],
   "source": [
    "# looking correlation between error and snr\n",
    "import matplotlib.pyplot as plt\n",
    "y_pred = y_pred.copy().flatten()\n",
    "y_pred = y_pred-(popt[0]*y_pred+popt[1])\n",
    "idx = (y_pred>4) & (y_pred<12)\n",
    "plt.figure(figsize=(4,4))\n",
    "plt.scatter(y_pred[idx], y_pred[idx]-y_test[idx], alpha=0.1)\n",
    "#plt.scatter(y_test[idx], y_pred[idx]-y_test[idx], alpha=0.1)\n",
    "plt.xlabel(\"Predicted SNR\")\n",
    "#plt.xscale(\"log\")\n",
    "plt.xlim(4,10)\n",
    "plt.ylabel(\"Error\")\n",
    "plt.ylim(-3,3)\n",
    "plt.grid(alpha=0.4)\n",
    "plt.show()"
   ]
  },
  {
   "cell_type": "code",
   "execution_count": 565,
   "metadata": {},
   "outputs": [
    {
     "name": "stdout",
     "output_type": "stream",
     "text": [
      "25000\n",
      "777\n"
     ]
    },
    {
     "data": {
      "image/png": "[encoded data removed]",
      "text/plain": [
       "<Figure size 400x400 with 1 Axes>"
      ]
     },
     "metadata": {},
     "output_type": "display_data"
    }
   ],
   "source": [
    "import matplotlib.pyplot as plt\n",
    "\n",
    "y_pred = snrANN.flatten()\n",
    "y_test = Y_\n",
    "hist_ = y_pred-y_test\n",
    "print(len(hist_))\n",
    "idx = (y_test>4) & (y_test<10)\n",
    "hist_ = hist_[idx]\n",
    "#hist_ = hist_[abs(hist_)<5.]\n",
    "print(len(hist_))\n",
    "plt.figure(figsize=(4,4)) \n",
    "plt.hist(hist_, bins=30, histtype='step', density=True)\n",
    "plt.xlim(-5,5)\n",
    "plt.xlabel('snr_ml and snr_inner_product difference')\n",
    "plt.ylabel('pdf')\n",
    "plt.grid(alpha=0.4)\n",
    "plt.show()"
   ]
  },
  {
   "cell_type": "code",
   "execution_count": 562,
   "metadata": {},
   "outputs": [
    {
     "name": "stdout",
     "output_type": "stream",
     "text": [
      "Error: 0.1120%\n"
     ]
    }
   ],
   "source": [
    "len1 = len(y_pred)\n",
    "len2 = np.sum((y_pred>8) != (y_test>8))\n",
    "error = len2/len1*100\n",
    "print(f\"Error: {error:.4f}%\")"
   ]
  },
  {
   "cell_type": "code",
   "execution_count": 566,
   "metadata": {},
   "outputs": [
    {
     "name": "stdout",
     "output_type": "stream",
     "text": [
      "Error: 0.1040%\n"
     ]
    }
   ],
   "source": [
    "len1 = len(y_pred)\n",
    "len2 = np.sum(((y_pred-(popt[0]*y_pred+popt[1]))>8) != (y_test>8))\n",
    "error = len2/len1*100\n",
    "print(f\"Error: {error:.4f}%\")"
   ]
  },
  {
   "cell_type": "code",
   "execution_count": 567,
   "metadata": {},
   "outputs": [
    {
     "name": "stdout",
     "output_type": "stream",
     "text": [
      "[[24869    18]\n",
      " [   10   103]]\n"
     ]
    },
    {
     "data": {
      "text/plain": [
       "0.99888"
      ]
     },
     "execution_count": 567,
     "metadata": {},
     "output_type": "execute_result"
    }
   ],
   "source": [
    "from sklearn.metrics import confusion_matrix, accuracy_score\n",
    "cm = confusion_matrix((y_test>8), ((y_pred-0.0)>8))\n",
    "print(cm)\n",
    "accuracy_score((y_test>8), (y_pred>8))"
   ]
  },
  {
   "cell_type": "code",
   "execution_count": 568,
   "metadata": {},
   "outputs": [
    {
     "name": "stdout",
     "output_type": "stream",
     "text": [
      "[[24875    12]\n",
      " [   14    99]]\n"
     ]
    },
    {
     "data": {
      "text/plain": [
       "0.99888"
      ]
     },
     "execution_count": 568,
     "metadata": {},
     "output_type": "execute_result"
    }
   ],
   "source": [
    "from sklearn.metrics import confusion_matrix, accuracy_score\n",
    "cm = confusion_matrix((y_test>8), ((y_pred-0.2)>8))\n",
    "print(cm)\n",
    "accuracy_score((y_test>8), (y_pred>8))"
   ]
  },
  {
   "cell_type": "code",
   "execution_count": 569,
   "metadata": {},
   "outputs": [
    {
     "name": "stdout",
     "output_type": "stream",
     "text": [
      "[[6.98862362 7.3244188 ]\n",
      " [8.07498264 8.73664642]\n",
      " [8.58827877 9.05212486]\n",
      " [6.86917257 7.01070622]\n",
      " [7.88767624 8.33806557]\n",
      " [7.8469162  8.45750222]\n",
      " [8.56952381 8.94146165]\n",
      " [8.12943077 7.33984516]\n",
      " [7.83821392 7.59029936]\n",
      " [6.58561087 7.04858059]]\n"
     ]
    }
   ],
   "source": [
    "#y_pred = (y_pred > 0.5)\n",
    "idx = (y_test>7) & (y_pred<9)\n",
    "print(np.concatenate((y_pred.reshape(len(y_pred),1)-0.2, y_test.reshape(len(y_test),1)),1)[idx][:10])"
   ]
  },
  {
   "cell_type": "markdown",
   "metadata": {},
   "source": [
    "## BNS"
   ]
  },
  {
   "cell_type": "code",
   "execution_count": 540,
   "metadata": {},
   "outputs": [],
   "source": [
    "# generating new data\n",
    "from ler.rates import LeR\n",
    "ler = LeR(npool=4, event_type = 'BNS', mtot_max=14, z_max = 2.0, verbose=False, snr_type='inner_product', waveform_approximant=\"IMRPhenomXPHM\", spin_zero=False, spin_precession=True)"
   ]
  },
  {
   "cell_type": "code",
   "execution_count": 541,
   "metadata": {},
   "outputs": [
    {
     "name": "stdout",
     "output_type": "stream",
     "text": [
      "unlensed params will be store in ./ler_data/unlensed_bns_ann_test.json\n",
      "chosen batch size = 50000 with total size = 50000\n",
      "There will be 1 batche(s)\n",
      "Batch no. 1\n",
      "sampling gw source params...\n",
      "calculating snrs...\n",
      "solving SNR with inner product\n"
     ]
    },
    {
     "name": "stderr",
     "output_type": "stream",
     "text": [
      "  1%|▌                                                          | 527/50000 [00:10<17:00, 48.47it/s]\n"
     ]
    },
    {
     "ename": "KeyboardInterrupt",
     "evalue": "",
     "output_type": "error",
     "traceback": [
      "\u001b[0;31m---------------------------------------------------------------------------\u001b[0m",
      "\u001b[0;31mIndexError\u001b[0m                                Traceback (most recent call last)",
      "File \u001b[0;32m~/anaconda3/envs/ler/lib/python3.10/multiprocessing/pool.py:856\u001b[0m, in \u001b[0;36mIMapIterator.next\u001b[0;34m(self, timeout)\u001b[0m\n\u001b[1;32m    855\u001b[0m \u001b[38;5;28;01mtry\u001b[39;00m:\n\u001b[0;32m--> 856\u001b[0m     item \u001b[38;5;241m=\u001b[39m \u001b[38;5;28;43mself\u001b[39;49m\u001b[38;5;241;43m.\u001b[39;49m\u001b[43m_items\u001b[49m\u001b[38;5;241;43m.\u001b[39;49m\u001b[43mpopleft\u001b[49m\u001b[43m(\u001b[49m\u001b[43m)\u001b[49m\n\u001b[1;32m    857\u001b[0m \u001b[38;5;28;01mexcept\u001b[39;00m \u001b[38;5;167;01mIndexError\u001b[39;00m:\n",
      "\u001b[0;31mIndexError\u001b[0m: pop from an empty deque",
      "\nDuring handling of the above exception, another exception occurred:\n",
      "\u001b[0;31mKeyboardInterrupt\u001b[0m                         Traceback (most recent call last)",
      "Cell \u001b[0;32mIn[541], line 2\u001b[0m\n\u001b[1;32m      1\u001b[0m size \u001b[38;5;241m=\u001b[39m \u001b[38;5;241m50000\u001b[39m\n\u001b[0;32m----> 2\u001b[0m unlensed_params \u001b[38;5;241m=\u001b[39m \u001b[43mler\u001b[49m\u001b[38;5;241;43m.\u001b[39;49m\u001b[43munlensed_cbc_statistics\u001b[49m\u001b[43m(\u001b[49m\u001b[43msize\u001b[49m\u001b[38;5;241;43m=\u001b[39;49m\u001b[43msize\u001b[49m\u001b[43m,\u001b[49m\u001b[43m \u001b[49m\u001b[43moutput_jsonfile\u001b[49m\u001b[38;5;241;43m=\u001b[39;49m\u001b[38;5;124;43m'\u001b[39;49m\u001b[38;5;124;43munlensed_bns_ann_test.json\u001b[39;49m\u001b[38;5;124;43m'\u001b[39;49m\u001b[43m)\u001b[49m\n",
      "File \u001b[0;32m~/phd/mypackages/ler/ler/rates/ler.py:743\u001b[0m, in \u001b[0;36mLeR.unlensed_cbc_statistics\u001b[0;34m(self, size, resume, save_batch, output_jsonfile)\u001b[0m\n\u001b[1;32m    740\u001b[0m \u001b[38;5;28;01melse\u001b[39;00m:\n\u001b[1;32m    741\u001b[0m     \u001b[38;5;28mself\u001b[39m\u001b[38;5;241m.\u001b[39mdict_buffer \u001b[38;5;241m=\u001b[39m \u001b[38;5;28;01mNone\u001b[39;00m\n\u001b[0;32m--> 743\u001b[0m \u001b[43mbatch_handler\u001b[49m\u001b[43m(\u001b[49m\n\u001b[1;32m    744\u001b[0m \u001b[43m    \u001b[49m\u001b[43msize\u001b[49m\u001b[38;5;241;43m=\u001b[39;49m\u001b[43msize\u001b[49m\u001b[43m,\u001b[49m\n\u001b[1;32m    745\u001b[0m \u001b[43m    \u001b[49m\u001b[43mbatch_size\u001b[49m\u001b[38;5;241;43m=\u001b[39;49m\u001b[38;5;28;43mself\u001b[39;49m\u001b[38;5;241;43m.\u001b[39;49m\u001b[43mbatch_size\u001b[49m\u001b[43m,\u001b[49m\n\u001b[1;32m    746\u001b[0m \u001b[43m    \u001b[49m\u001b[43msampling_routine\u001b[49m\u001b[38;5;241;43m=\u001b[39;49m\u001b[38;5;28;43mself\u001b[39;49m\u001b[38;5;241;43m.\u001b[39;49m\u001b[43munlensed_sampling_routine\u001b[49m\u001b[43m,\u001b[49m\n\u001b[1;32m    747\u001b[0m \u001b[43m    \u001b[49m\u001b[43moutput_jsonfile\u001b[49m\u001b[38;5;241;43m=\u001b[39;49m\u001b[43moutput_path\u001b[49m\u001b[43m,\u001b[49m\n\u001b[1;32m    748\u001b[0m \u001b[43m    \u001b[49m\u001b[43msave_batch\u001b[49m\u001b[38;5;241;43m=\u001b[39;49m\u001b[43msave_batch\u001b[49m\u001b[43m,\u001b[49m\n\u001b[1;32m    749\u001b[0m \u001b[43m    \u001b[49m\u001b[43mresume\u001b[49m\u001b[38;5;241;43m=\u001b[39;49m\u001b[43mresume\u001b[49m\u001b[43m,\u001b[49m\n\u001b[1;32m    750\u001b[0m \u001b[43m\u001b[49m\u001b[43m)\u001b[49m\n\u001b[1;32m    752\u001b[0m \u001b[38;5;28;01mif\u001b[39;00m save_batch:\n\u001b[1;32m    753\u001b[0m     unlensed_param \u001b[38;5;241m=\u001b[39m get_param_from_json(output_path)\n",
      "File \u001b[0;32m~/phd/mypackages/ler/ler/utils/utils.py:867\u001b[0m, in \u001b[0;36mbatch_handler\u001b[0;34m(size, batch_size, sampling_routine, output_jsonfile, save_batch, resume)\u001b[0m\n\u001b[1;32m    865\u001b[0m     \u001b[38;5;28mprint\u001b[39m(\u001b[38;5;124mf\u001b[39m\u001b[38;5;124m\"\u001b[39m\u001b[38;5;124mBatch no. \u001b[39m\u001b[38;5;132;01m{\u001b[39;00mtrack_batches\u001b[38;5;132;01m}\u001b[39;00m\u001b[38;5;124m\"\u001b[39m)\n\u001b[1;32m    866\u001b[0m     \u001b[38;5;66;03m# new first batch with the frac_batches\u001b[39;00m\n\u001b[0;32m--> 867\u001b[0m     \u001b[43msampling_routine\u001b[49m\u001b[43m(\u001b[49m\u001b[43msize\u001b[49m\u001b[38;5;241;43m=\u001b[39;49m\u001b[43mfrac_batches\u001b[49m\u001b[43m,\u001b[49m\u001b[43m \u001b[49m\u001b[43msave_batch\u001b[49m\u001b[38;5;241;43m=\u001b[39;49m\u001b[43msave_batch\u001b[49m\u001b[43m,\u001b[49m\u001b[43m \u001b[49m\u001b[43moutput_jsonfile\u001b[49m\u001b[38;5;241;43m=\u001b[39;49m\u001b[43moutput_jsonfile\u001b[49m\u001b[43m)\u001b[49m;\n\u001b[1;32m    868\u001b[0m \u001b[38;5;28;01melse\u001b[39;00m:\n\u001b[1;32m    869\u001b[0m     \u001b[38;5;66;03m# check where to resume from\u001b[39;00m\n\u001b[1;32m    870\u001b[0m     \u001b[38;5;28;01mtry\u001b[39;00m:\n",
      "File \u001b[0;32m~/phd/mypackages/ler/ler/rates/ler.py:797\u001b[0m, in \u001b[0;36mLeR.unlensed_sampling_routine\u001b[0;34m(self, size, output_jsonfile, resume, save_batch)\u001b[0m\n\u001b[1;32m    795\u001b[0m \u001b[38;5;28;01mif\u001b[39;00m \u001b[38;5;28mself\u001b[39m\u001b[38;5;241m.\u001b[39msnr:\n\u001b[1;32m    796\u001b[0m     \u001b[38;5;28mprint\u001b[39m(\u001b[38;5;124m\"\u001b[39m\u001b[38;5;124mcalculating snrs...\u001b[39m\u001b[38;5;124m\"\u001b[39m)\n\u001b[0;32m--> 797\u001b[0m     snrs \u001b[38;5;241m=\u001b[39m \u001b[38;5;28;43mself\u001b[39;49m\u001b[38;5;241;43m.\u001b[39;49m\u001b[43msnr\u001b[49m\u001b[43m(\u001b[49m\u001b[43mgw_param_dict\u001b[49m\u001b[38;5;241;43m=\u001b[39;49m\u001b[43munlensed_param\u001b[49m\u001b[43m)\u001b[49m\n\u001b[1;32m    798\u001b[0m     unlensed_param\u001b[38;5;241m.\u001b[39mupdate(snrs)\n\u001b[1;32m    799\u001b[0m \u001b[38;5;28;01melif\u001b[39;00m \u001b[38;5;28mself\u001b[39m\u001b[38;5;241m.\u001b[39mpdet:\n",
      "File \u001b[0;32m~/phd/mypackages/gwsnr/gwsnr/gwsnr.py:673\u001b[0m, in \u001b[0;36mGWSNR.snr\u001b[0;34m(self, mass_1, mass_2, luminosity_distance, theta_jn, psi, phase, geocent_time, ra, dec, a_1, a_2, tilt_1, tilt_2, phi_12, phi_jl, gw_param_dict, output_jsonfile)\u001b[0m\n\u001b[1;32m    670\u001b[0m \u001b[38;5;28;01melif\u001b[39;00m \u001b[38;5;28mself\u001b[39m\u001b[38;5;241m.\u001b[39msnr_type \u001b[38;5;241m==\u001b[39m \u001b[38;5;124m\"\u001b[39m\u001b[38;5;124minner_product\u001b[39m\u001b[38;5;124m\"\u001b[39m:\n\u001b[1;32m    671\u001b[0m     \u001b[38;5;28mprint\u001b[39m(\u001b[38;5;124m\"\u001b[39m\u001b[38;5;124msolving SNR with inner product\u001b[39m\u001b[38;5;124m\"\u001b[39m)\n\u001b[0;32m--> 673\u001b[0m     snr_dict \u001b[38;5;241m=\u001b[39m \u001b[38;5;28;43mself\u001b[39;49m\u001b[38;5;241;43m.\u001b[39;49m\u001b[43mcompute_bilby_snr\u001b[49m\u001b[43m(\u001b[49m\n\u001b[1;32m    674\u001b[0m \u001b[43m        \u001b[49m\u001b[43mmass_1\u001b[49m\u001b[43m,\u001b[49m\n\u001b[1;32m    675\u001b[0m \u001b[43m        \u001b[49m\u001b[43mmass_2\u001b[49m\u001b[43m,\u001b[49m\n\u001b[1;32m    676\u001b[0m \u001b[43m        \u001b[49m\u001b[43mluminosity_distance\u001b[49m\u001b[38;5;241;43m=\u001b[39;49m\u001b[43mluminosity_distance\u001b[49m\u001b[43m,\u001b[49m\n\u001b[1;32m    677\u001b[0m \u001b[43m        \u001b[49m\u001b[43mtheta_jn\u001b[49m\u001b[38;5;241;43m=\u001b[39;49m\u001b[43mtheta_jn\u001b[49m\u001b[43m,\u001b[49m\n\u001b[1;32m    678\u001b[0m \u001b[43m        \u001b[49m\u001b[43mpsi\u001b[49m\u001b[38;5;241;43m=\u001b[39;49m\u001b[43mpsi\u001b[49m\u001b[43m,\u001b[49m\n\u001b[1;32m    679\u001b[0m \u001b[43m        \u001b[49m\u001b[43mphase\u001b[49m\u001b[38;5;241;43m=\u001b[39;49m\u001b[43mphase\u001b[49m\u001b[43m,\u001b[49m\n\u001b[1;32m    680\u001b[0m \u001b[43m        \u001b[49m\u001b[43mgeocent_time\u001b[49m\u001b[38;5;241;43m=\u001b[39;49m\u001b[43mgeocent_time\u001b[49m\u001b[43m,\u001b[49m\n\u001b[1;32m    681\u001b[0m \u001b[43m        \u001b[49m\u001b[43mra\u001b[49m\u001b[38;5;241;43m=\u001b[39;49m\u001b[43mra\u001b[49m\u001b[43m,\u001b[49m\n\u001b[1;32m    682\u001b[0m \u001b[43m        \u001b[49m\u001b[43mdec\u001b[49m\u001b[38;5;241;43m=\u001b[39;49m\u001b[43mdec\u001b[49m\u001b[43m,\u001b[49m\n\u001b[1;32m    683\u001b[0m \u001b[43m        \u001b[49m\u001b[43ma_1\u001b[49m\u001b[38;5;241;43m=\u001b[39;49m\u001b[43ma_1\u001b[49m\u001b[43m,\u001b[49m\n\u001b[1;32m    684\u001b[0m \u001b[43m        \u001b[49m\u001b[43ma_2\u001b[49m\u001b[38;5;241;43m=\u001b[39;49m\u001b[43ma_2\u001b[49m\u001b[43m,\u001b[49m\n\u001b[1;32m    685\u001b[0m \u001b[43m        \u001b[49m\u001b[43mtilt_1\u001b[49m\u001b[38;5;241;43m=\u001b[39;49m\u001b[43mtilt_1\u001b[49m\u001b[43m,\u001b[49m\n\u001b[1;32m    686\u001b[0m \u001b[43m        \u001b[49m\u001b[43mtilt_2\u001b[49m\u001b[38;5;241;43m=\u001b[39;49m\u001b[43mtilt_2\u001b[49m\u001b[43m,\u001b[49m\n\u001b[1;32m    687\u001b[0m \u001b[43m        \u001b[49m\u001b[43mphi_12\u001b[49m\u001b[38;5;241;43m=\u001b[39;49m\u001b[43mphi_12\u001b[49m\u001b[43m,\u001b[49m\n\u001b[1;32m    688\u001b[0m \u001b[43m        \u001b[49m\u001b[43mphi_jl\u001b[49m\u001b[38;5;241;43m=\u001b[39;49m\u001b[43mphi_jl\u001b[49m\u001b[43m,\u001b[49m\n\u001b[1;32m    689\u001b[0m \u001b[43m        \u001b[49m\u001b[43moutput_jsonfile\u001b[49m\u001b[38;5;241;43m=\u001b[39;49m\u001b[43moutput_jsonfile\u001b[49m\u001b[43m,\u001b[49m\n\u001b[1;32m    690\u001b[0m \u001b[43m    \u001b[49m\u001b[43m)\u001b[49m\n\u001b[1;32m    692\u001b[0m \u001b[38;5;28;01melif\u001b[39;00m \u001b[38;5;28mself\u001b[39m\u001b[38;5;241m.\u001b[39msnr_type \u001b[38;5;241m==\u001b[39m \u001b[38;5;124m\"\u001b[39m\u001b[38;5;124mann\u001b[39m\u001b[38;5;124m\"\u001b[39m:\n\u001b[1;32m    693\u001b[0m     snr_dict \u001b[38;5;241m=\u001b[39m \u001b[38;5;28mself\u001b[39m\u001b[38;5;241m.\u001b[39msnr_with_ann(\n\u001b[1;32m    694\u001b[0m         mass_1,\n\u001b[1;32m    695\u001b[0m         mass_2,\n\u001b[0;32m   (...)\u001b[0m\n\u001b[1;32m    703\u001b[0m         output_jsonfile\u001b[38;5;241m=\u001b[39moutput_jsonfile,\n\u001b[1;32m    704\u001b[0m     )\n",
      "File \u001b[0;32m~/phd/mypackages/gwsnr/gwsnr/gwsnr.py:1375\u001b[0m, in \u001b[0;36mGWSNR.compute_bilby_snr\u001b[0;34m(self, mass_1, mass_2, luminosity_distance, theta_jn, psi, phase, geocent_time, ra, dec, a_1, a_2, tilt_1, tilt_2, phi_12, phi_jl, gw_param_dict, output_jsonfile)\u001b[0m\n\u001b[1;32m   1371\u001b[0m \u001b[38;5;28;01mwith\u001b[39;00m Pool(processes\u001b[38;5;241m=\u001b[39mnpool) \u001b[38;5;28;01mas\u001b[39;00m pool:\n\u001b[1;32m   1372\u001b[0m     \u001b[38;5;66;03m# call the same function with different data in parallel\u001b[39;00m\n\u001b[1;32m   1373\u001b[0m     \u001b[38;5;66;03m# imap->retain order in the list, while map->doesn't\u001b[39;00m\n\u001b[1;32m   1374\u001b[0m     \u001b[38;5;28;01mif\u001b[39;00m \u001b[38;5;28mself\u001b[39m\u001b[38;5;241m.\u001b[39mmultiprocessing_verbose:\n\u001b[0;32m-> 1375\u001b[0m         \u001b[38;5;28;01mfor\u001b[39;00m result \u001b[38;5;129;01min\u001b[39;00m tqdm(\n\u001b[1;32m   1376\u001b[0m             pool\u001b[38;5;241m.\u001b[39mimap_unordered(noise_weighted_inner_prod, input_arguments),\n\u001b[1;32m   1377\u001b[0m             total\u001b[38;5;241m=\u001b[39m\u001b[38;5;28mlen\u001b[39m(input_arguments),\n\u001b[1;32m   1378\u001b[0m             ncols\u001b[38;5;241m=\u001b[39m\u001b[38;5;241m100\u001b[39m,\n\u001b[1;32m   1379\u001b[0m         ):\n\u001b[1;32m   1380\u001b[0m             \u001b[38;5;66;03m# but, np.shape(hp_inner_hp_i) = (size1, len(num_det))\u001b[39;00m\n\u001b[1;32m   1381\u001b[0m             hp_inner_hp_i, hc_inner_hc_i, iter_i \u001b[38;5;241m=\u001b[39m result\n\u001b[1;32m   1382\u001b[0m             hp_inner_hp[:, iter_i] \u001b[38;5;241m=\u001b[39m hp_inner_hp_i\n",
      "File \u001b[0;32m~/anaconda3/envs/ler/lib/python3.10/site-packages/tqdm/std.py:1182\u001b[0m, in \u001b[0;36mtqdm.__iter__\u001b[0;34m(self)\u001b[0m\n\u001b[1;32m   1179\u001b[0m time \u001b[38;5;241m=\u001b[39m \u001b[38;5;28mself\u001b[39m\u001b[38;5;241m.\u001b[39m_time\n\u001b[1;32m   1181\u001b[0m \u001b[38;5;28;01mtry\u001b[39;00m:\n\u001b[0;32m-> 1182\u001b[0m     \u001b[38;5;28;01mfor\u001b[39;00m obj \u001b[38;5;129;01min\u001b[39;00m iterable:\n\u001b[1;32m   1183\u001b[0m         \u001b[38;5;28;01myield\u001b[39;00m obj\n\u001b[1;32m   1184\u001b[0m         \u001b[38;5;66;03m# Update and possibly print the progressbar.\u001b[39;00m\n\u001b[1;32m   1185\u001b[0m         \u001b[38;5;66;03m# Note: does not call self.update(1) for speed optimisation.\u001b[39;00m\n",
      "File \u001b[0;32m~/anaconda3/envs/ler/lib/python3.10/multiprocessing/pool.py:861\u001b[0m, in \u001b[0;36mIMapIterator.next\u001b[0;34m(self, timeout)\u001b[0m\n\u001b[1;32m    859\u001b[0m     \u001b[38;5;28mself\u001b[39m\u001b[38;5;241m.\u001b[39m_pool \u001b[38;5;241m=\u001b[39m \u001b[38;5;28;01mNone\u001b[39;00m\n\u001b[1;32m    860\u001b[0m     \u001b[38;5;28;01mraise\u001b[39;00m \u001b[38;5;167;01mStopIteration\u001b[39;00m \u001b[38;5;28;01mfrom\u001b[39;00m \u001b[38;5;28;01mNone\u001b[39;00m\n\u001b[0;32m--> 861\u001b[0m \u001b[38;5;28;43mself\u001b[39;49m\u001b[38;5;241;43m.\u001b[39;49m\u001b[43m_cond\u001b[49m\u001b[38;5;241;43m.\u001b[39;49m\u001b[43mwait\u001b[49m\u001b[43m(\u001b[49m\u001b[43mtimeout\u001b[49m\u001b[43m)\u001b[49m\n\u001b[1;32m    862\u001b[0m \u001b[38;5;28;01mtry\u001b[39;00m:\n\u001b[1;32m    863\u001b[0m     item \u001b[38;5;241m=\u001b[39m \u001b[38;5;28mself\u001b[39m\u001b[38;5;241m.\u001b[39m_items\u001b[38;5;241m.\u001b[39mpopleft()\n",
      "File \u001b[0;32m~/anaconda3/envs/ler/lib/python3.10/threading.py:320\u001b[0m, in \u001b[0;36mCondition.wait\u001b[0;34m(self, timeout)\u001b[0m\n\u001b[1;32m    318\u001b[0m \u001b[38;5;28;01mtry\u001b[39;00m:    \u001b[38;5;66;03m# restore state no matter what (e.g., KeyboardInterrupt)\u001b[39;00m\n\u001b[1;32m    319\u001b[0m     \u001b[38;5;28;01mif\u001b[39;00m timeout \u001b[38;5;129;01mis\u001b[39;00m \u001b[38;5;28;01mNone\u001b[39;00m:\n\u001b[0;32m--> 320\u001b[0m         \u001b[43mwaiter\u001b[49m\u001b[38;5;241;43m.\u001b[39;49m\u001b[43macquire\u001b[49m\u001b[43m(\u001b[49m\u001b[43m)\u001b[49m\n\u001b[1;32m    321\u001b[0m         gotit \u001b[38;5;241m=\u001b[39m \u001b[38;5;28;01mTrue\u001b[39;00m\n\u001b[1;32m    322\u001b[0m     \u001b[38;5;28;01melse\u001b[39;00m:\n",
      "\u001b[0;31mKeyboardInterrupt\u001b[0m: "
     ]
    }
   ],
   "source": [
    "size = 50000\n",
    "unlensed_params = ler.unlensed_cbc_statistics(size=size, output_jsonfile='unlensed_bns_ann_test.json')"
   ]
  },
  {
   "cell_type": "code",
   "execution_count": null,
   "metadata": {},
   "outputs": [
    {
     "ename": "NameError",
     "evalue": "name 'np' is not defined",
     "output_type": "error",
     "traceback": [
      "\u001b[0;31m---------------------------------------------------------------------------\u001b[0m",
      "\u001b[0;31mNameError\u001b[0m                                 Traceback (most recent call last)",
      "Cell \u001b[0;32mIn[10], line 4\u001b[0m\n\u001b[1;32m      1\u001b[0m \u001b[38;5;28;01mfrom\u001b[39;00m \u001b[38;5;21;01mler\u001b[39;00m\u001b[38;5;21;01m.\u001b[39;00m\u001b[38;5;21;01mutils\u001b[39;00m \u001b[38;5;28;01mimport\u001b[39;00m load_json\n\u001b[1;32m      2\u001b[0m unlensed_params \u001b[38;5;241m=\u001b[39m load_json(\u001b[38;5;124m'\u001b[39m\u001b[38;5;124mler_data/unlensed_bns_ann_test.json\u001b[39m\u001b[38;5;124m'\u001b[39m)\n\u001b[0;32m----> 4\u001b[0m X_, Y_ \u001b[38;5;241m=\u001b[39m input_output_net(\u001b[43mnp\u001b[49m\u001b[38;5;241m.\u001b[39marange(size), unlensed_params)\n",
      "\u001b[0;31mNameError\u001b[0m: name 'np' is not defined"
     ]
    }
   ],
   "source": [
    "from ler.utils import get_param_from_json\n",
    "unlensed_params = get_param_from_json('ler_data/unlensed_bns_ann_test.json')\n",
    "\n",
    "X_, Y_ = input_output_net(np.arange(size), unlensed_params)"
   ]
  },
  {
   "cell_type": "code",
   "execution_count": null,
   "metadata": {},
   "outputs": [],
   "source": []
  }
 ],
 "metadata": {
  "kernelspec": {
   "display_name": "ler",
   "language": "python",
   "name": "python3"
  },
  "language_info": {
   "codemirror_mode": {
    "name": "ipython",
    "version": 3
   },
   "file_extension": ".py",
   "mimetype": "text/x-python",
   "name": "python",
   "nbconvert_exporter": "python",
   "pygments_lexer": "ipython3",
   "version": "3.10.14"
  }
 },
 "nbformat": 4,
 "nbformat_minor": 2
}
