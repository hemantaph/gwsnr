{
 "cells": [
  {
   "cell_type": "code",
   "execution_count": 1,
   "metadata": {},
   "outputs": [],
   "source": [
    "import numpy as np\n",
    "import pandas as pd\n",
    "import tensorflow as tf"
   ]
  },
  {
   "cell_type": "markdown",
   "metadata": {},
   "source": [
    "## Data preprocessing"
   ]
  },
  {
   "cell_type": "code",
   "execution_count": 20,
   "metadata": {},
   "outputs": [],
   "source": [
    "# get data\n",
    "from ler.utils import append_json, load_json\n",
    "import numpy as np\n",
    "unlensed_params = load_json(\"jointnewL1.json\")\n",
    "snr = np.array(unlensed_params['L1'])"
   ]
  },
  {
   "cell_type": "code",
   "execution_count": 21,
   "metadata": {},
   "outputs": [
    {
     "name": "stdout",
     "output_type": "stream",
     "text": [
      "psds not given. Choosing bilby's default psds\n",
      "Interpolator will be loaded for L1 detector from ./interpolator_pickle/L1/halfSNR_dict_0.pickle\n",
      "Interpolator will be loaded for H1 detector from ./interpolator_pickle/H1/halfSNR_dict_0.pickle\n",
      "Interpolator will be loaded for V1 detector from ./interpolator_pickle/V1/halfSNR_dict_0.pickle\n"
     ]
    }
   ],
   "source": [
    "# let's generate IMRPhenomD (spinless) interpolartor\n",
    "from gwsnr import GWSNR\n",
    "gwsnr = GWSNR(gwsnr_verbose=False)"
   ]
  },
  {
   "cell_type": "code",
   "execution_count": 22,
   "metadata": {},
   "outputs": [],
   "source": [
    "# get half_snr \n",
    "# open pickle file\n",
    "import pickle\n",
    "with open('./interpolator_pickle/L1/halfSNR_dict_0.pickle', 'rb') as f:\n",
    "    half_snr = pickle.load(f)"
   ]
  },
  {
   "cell_type": "code",
   "execution_count": 23,
   "metadata": {},
   "outputs": [],
   "source": [
    "from gwsnr import antenna_response_array, cubic_spline_interpolator2d\n",
    "\n",
    "def input_output(idx, params):\n",
    "\n",
    "    det_idx = 0 # L1\n",
    "\n",
    "    mass_1 = np.array(params['mass_1'])[idx]\n",
    "    mass_2 = np.array(params['mass_2'])[idx]\n",
    "    luminosity_distance = np.array(params['luminosity_distance'])[idx]\n",
    "    theta_jn = np.array(params['theta_jn'])[idx]\n",
    "    psi = np.array(params['psi'])[idx]\n",
    "    geocent_time = np.array(params['geocent_time'])[idx]\n",
    "    ra = np.array(params['ra'])[idx]\n",
    "    dec = np.array(params['dec'])[idx]\n",
    "    \n",
    "    detector_tensor = gwsnr.detector_tensor_list\n",
    "    snr_halfscaled = np.array(gwsnr.snr_halfsacaled_list)\n",
    "    ratio_arr = gwsnr.ratio_arr\n",
    "    mtot_arr = gwsnr.mtot_arr\n",
    "    \n",
    "    size = len(mass_1)\n",
    "    len_ = len(detector_tensor)\n",
    "    mtot = mass_1 + mass_2\n",
    "    ratio = mass_2 / mass_1\n",
    "    # get array of antenna response\n",
    "    Fp, Fc = antenna_response_array(ra, dec, geocent_time, psi, detector_tensor)\n",
    "\n",
    "    Mc = ((mass_1 * mass_2) ** (3 / 5)) / ((mass_1 + mass_2) ** (1 / 5))\n",
    "    eta = mass_1 * mass_2/(mass_1 + mass_2)**2.\n",
    "    A1 = Mc ** (5.0 / 6.0)\n",
    "    ci_2 = np.cos(theta_jn) ** 2\n",
    "    ci_param = ((1 + np.cos(theta_jn) ** 2) / 2) ** 2\n",
    "    \n",
    "    size = len(mass_1)\n",
    "    snr_half_ = np.zeros((len_,size))\n",
    "    d_eff = np.zeros((len_,size))\n",
    "\n",
    "    # loop over the detectors\n",
    "    for j in range(len_):\n",
    "        # loop over the parameter points\n",
    "        for i in range(size):\n",
    "            snr_half_coeff = snr_halfscaled[j]\n",
    "            snr_half_[j,i] = cubic_spline_interpolator2d(mtot[i], ratio[i], snr_half_coeff, mtot_arr, ratio_arr)\n",
    "            d_eff[j,i] =luminosity_distance[i] / np.sqrt(\n",
    "                    Fp[j,i]**2 * ci_param[i] + Fc[j,i]**2 * ci_2[i]\n",
    "                )\n",
    "\n",
    "    #amp0\n",
    "    amp0 =  A1 / d_eff\n",
    "\n",
    "    # get spin parameters\n",
    "    a_1 = np.array(params['a_1'])[idx]\n",
    "    a_2 = np.array(params['a_2'])[idx]\n",
    "    tilt_1 = np.array(params['tilt_1'])[idx]\n",
    "    tilt_2 = np.array(params['tilt_2'])[idx]\n",
    "    phi_12 = np.array(params['phi_12'])[idx]\n",
    "    phi_jl = np.array(params['phi_jl'])[idx]\n",
    "\n",
    "    # input data\n",
    "    # X = np.vstack([L1, amp0, Mc, eta, theta_jn, a_1, a_2, tilt_1, tilt_2, phi_12, phi_jl]).T\n",
    "    X = np.vstack([snr_half_[det_idx], amp0[det_idx], eta, a_1, a_2, tilt_1, tilt_2, phi_12, phi_jl]).T\n",
    "\n",
    "    # output data\n",
    "    # get L1 snr for y train \n",
    "    y = snr[idx]\n",
    "\n",
    "    return(X,y)"
   ]
  },
  {
   "cell_type": "code",
   "execution_count": 24,
   "metadata": {},
   "outputs": [],
   "source": [
    "def input_output(idx, params):\n",
    "\n",
    "    det_idx = 0 # L1\n",
    "\n",
    "    mass_1 = np.array(params['mass_1'])[idx]\n",
    "    mass_2 = np.array(params['mass_2'])[idx]\n",
    "    luminosity_distance = np.array(params['luminosity_distance'])[idx]\n",
    "    theta_jn = np.array(params['theta_jn'])[idx]\n",
    "    psi = np.array(params['psi'])[idx]\n",
    "    geocent_time = np.array(params['geocent_time'])[idx]\n",
    "    ra = np.array(params['ra'])[idx]\n",
    "    dec = np.array(params['dec'])[idx]\n",
    "    \n",
    "    detector_tensor = gwsnr.detector_tensor_list\n",
    "    \n",
    "    size = len(mass_1)\n",
    "    len_ = len(detector_tensor)\n",
    "    mtot = mass_1 + mass_2\n",
    "    ratio = mass_2 / mass_1\n",
    "    # get array of antenna response\n",
    "    Fp, Fc = antenna_response_array(ra, dec, geocent_time, psi, detector_tensor)\n",
    "\n",
    "    Mc = ((mass_1 * mass_2) ** (3 / 5)) / ((mass_1 + mass_2) ** (1 / 5))\n",
    "    eta = mass_1 * mass_2/(mass_1 + mass_2)**2.\n",
    "    A1 = Mc ** (5.0 / 6.0)\n",
    "    ci_2 = np.cos(theta_jn) ** 2\n",
    "    ci_param = ((1 + np.cos(theta_jn) ** 2) / 2) ** 2\n",
    "    \n",
    "    size = len(mass_1)\n",
    "    d_eff = np.zeros((len_,size))\n",
    "\n",
    "    # loop over the detectors\n",
    "    for j in range(len_):\n",
    "        # loop over the parameter points\n",
    "        for i in range(size):\n",
    "            d_eff[j,i] =luminosity_distance[i] / np.sqrt(\n",
    "                    Fp[j,i]**2 * ci_param[i] + Fc[j,i]**2 * ci_2[i]\n",
    "                )\n",
    "\n",
    "    # get spin parameters\n",
    "    a_1 = np.array(params['a_1'])[idx]\n",
    "    a_2 = np.array(params['a_2'])[idx]\n",
    "    tilt_1 = np.array(params['tilt_1'])[idx]\n",
    "    tilt_2 = np.array(params['tilt_2'])[idx]\n",
    "    phi_12 = np.array(params['phi_12'])[idx]\n",
    "    phi_jl = np.array(params['phi_jl'])[idx]\n",
    "\n",
    "    # input data\n",
    "    # X = np.vstack([L1, amp0, Mc, eta, theta_jn, a_1, a_2, tilt_1, tilt_2, phi_12, phi_jl]).T\n",
    "    X = np.vstack([d_eff[det_idx], Mc, eta, theta_jn, a_1, a_2, tilt_1, tilt_2, phi_12, phi_jl]).T\n",
    "\n",
    "    # output data\n",
    "    # get L1 snr for y train \n",
    "    y = snr[idx]\n",
    "\n",
    "    return(X,y)"
   ]
  },
  {
   "cell_type": "code",
   "execution_count": 7,
   "metadata": {},
   "outputs": [],
   "source": [
    "from gwsnr import antenna_response_array, cubic_spline_interpolator2d\n",
    "\n",
    "def input_output(idx, params):\n",
    "\n",
    "    det_idx = 0 # L1\n",
    "\n",
    "    mass_1 = np.array(params['mass_1'])[idx]\n",
    "    mass_2 = np.array(params['mass_2'])[idx]\n",
    "    luminosity_distance = np.array(params['luminosity_distance'])[idx]\n",
    "    theta_jn = np.array(params['theta_jn'])[idx]\n",
    "    psi = np.array(params['psi'])[idx]\n",
    "    geocent_time = np.array(params['geocent_time'])[idx]\n",
    "    ra = np.array(params['ra'])[idx]\n",
    "    dec = np.array(params['dec'])[idx]\n",
    "    \n",
    "    detector_tensor = gwsnr.detector_tensor_list\n",
    "    snr_halfscaled = np.array(gwsnr.snr_halfsacaled_list)\n",
    "    ratio_arr = gwsnr.ratio_arr\n",
    "    mtot_arr = gwsnr.mtot_arr\n",
    "    \n",
    "    size = len(mass_1)\n",
    "    len_ = len(detector_tensor)\n",
    "    mtot = mass_1 + mass_2\n",
    "    ratio = mass_2 / mass_1\n",
    "    # get array of antenna response\n",
    "    Fp, Fc = antenna_response_array(ra, dec, geocent_time, psi, detector_tensor)\n",
    "\n",
    "    Mc = ((mass_1 * mass_2) ** (3 / 5)) / ((mass_1 + mass_2) ** (1 / 5))\n",
    "    eta = mass_1 * mass_2/(mass_1 + mass_2)**2.\n",
    "    A1 = Mc ** (5.0 / 6.0)\n",
    "    ci_2 = np.cos(theta_jn) ** 2\n",
    "    ci_param = ((1 + np.cos(theta_jn) ** 2) / 2) ** 2\n",
    "    \n",
    "    size = len(mass_1)\n",
    "    snr_half_ = np.zeros((len_,size))\n",
    "    d_eff = np.zeros((len_,size))\n",
    "\n",
    "    # loop over the detectors\n",
    "    for j in range(len_):\n",
    "        # loop over the parameter points\n",
    "        for i in range(size):\n",
    "            snr_half_coeff = snr_halfscaled[j]\n",
    "            snr_half_[j,i] = cubic_spline_interpolator2d(mtot[i], ratio[i], snr_half_coeff, mtot_arr, ratio_arr)\n",
    "            d_eff[j,i] =luminosity_distance[i] / np.sqrt(\n",
    "                    Fp[j,i]**2 * ci_param[i] + Fc[j,i]**2 * ci_2[i]\n",
    "                )\n",
    "\n",
    "    #amp0\n",
    "    amp0 =  A1 / d_eff\n",
    "\n",
    "    # get spin parameters\n",
    "    a_1 = np.array(params['a_1'])[idx]\n",
    "    a_2 = np.array(params['a_2'])[idx]\n",
    "    tilt_1 = np.array(params['tilt_1'])[idx]\n",
    "    tilt_2 = np.array(params['tilt_2'])[idx]\n",
    "    phi_12 = np.array(params['phi_12'])[idx]\n",
    "    phi_jl = np.array(params['phi_jl'])[idx]\n",
    "\n",
    "    # input data\n",
    "    # X = np.vstack([L1, amp0, Mc, eta, theta_jn, a_1, a_2, tilt_1, tilt_2, phi_12, phi_jl]).T\n",
    "    X = np.vstack([snr_half_[det_idx], amp0[det_idx], eta, a_1, a_2, tilt_1, tilt_2, phi_12, phi_jl]).T\n",
    "\n",
    "    # output data\n",
    "    # get L1 snr for y train \n",
    "    y = snr[idx]\n",
    "    y[snr[idx]>8.] = 1\n",
    "    y[snr[idx]<8.] = 0  \n",
    "\n",
    "    return(X,y)"
   ]
  },
  {
   "cell_type": "code",
   "execution_count": 8,
   "metadata": {},
   "outputs": [],
   "source": [
    "def input_output(idx, params):\n",
    "\n",
    "    det_idx = 0 # L1\n",
    "\n",
    "    mass_1 = np.array(params['mass_1'])[idx]\n",
    "    mass_2 = np.array(params['mass_2'])[idx]\n",
    "    luminosity_distance = np.array(params['luminosity_distance'])[idx]\n",
    "    theta_jn = np.array(params['theta_jn'])[idx]\n",
    "    psi = np.array(params['psi'])[idx]\n",
    "    geocent_time = np.array(params['geocent_time'])[idx]\n",
    "    ra = np.array(params['ra'])[idx]\n",
    "    dec = np.array(params['dec'])[idx]\n",
    "    \n",
    "    detector_tensor = gwsnr.detector_tensor_list\n",
    "    \n",
    "    size = len(mass_1)\n",
    "    len_ = len(detector_tensor)\n",
    "    mtot = mass_1 + mass_2\n",
    "    ratio = mass_2 / mass_1\n",
    "    # get array of antenna response\n",
    "    Fp, Fc = antenna_response_array(ra, dec, geocent_time, psi, detector_tensor)\n",
    "\n",
    "    Mc = ((mass_1 * mass_2) ** (3 / 5)) / ((mass_1 + mass_2) ** (1 / 5))\n",
    "    eta = mass_1 * mass_2/(mass_1 + mass_2)**2.\n",
    "    A1 = Mc ** (5.0 / 6.0)\n",
    "    ci_2 = np.cos(theta_jn) ** 2\n",
    "    ci_param = ((1 + np.cos(theta_jn) ** 2) / 2) ** 2\n",
    "    \n",
    "    size = len(mass_1)\n",
    "    d_eff = np.zeros((len_,size))\n",
    "\n",
    "    # loop over the detectors\n",
    "    for j in range(len_):\n",
    "        # loop over the parameter points\n",
    "        for i in range(size):\n",
    "            d_eff[j,i] =luminosity_distance[i] / np.sqrt(\n",
    "                    Fp[j,i]**2 * ci_param[i] + Fc[j,i]**2 * ci_2[i]\n",
    "                )\n",
    "\n",
    "    # get spin parameters\n",
    "    a_1 = np.array(params['a_1'])[idx]\n",
    "    a_2 = np.array(params['a_2'])[idx]\n",
    "    tilt_1 = np.array(params['tilt_1'])[idx]\n",
    "    tilt_2 = np.array(params['tilt_2'])[idx]\n",
    "    phi_12 = np.array(params['phi_12'])[idx]\n",
    "    phi_jl = np.array(params['phi_jl'])[idx]\n",
    "\n",
    "    # input data\n",
    "    # X = np.vstack([L1, amp0, Mc, eta, theta_jn, a_1, a_2, tilt_1, tilt_2, phi_12, phi_jl]).T\n",
    "    X = np.vstack([d_eff[det_idx], Mc, eta, theta_jn, a_1, a_2, tilt_1, tilt_2, phi_12, phi_jl]).T\n",
    "\n",
    "    # output data\n",
    "    # get L1 snr for y train \n",
    "    y = snr[idx]\n",
    "    y[snr[idx]>8.] = 1\n",
    "    y[snr[idx]<8.] = 0  \n",
    "\n",
    "    return(X,y)"
   ]
  },
  {
   "cell_type": "code",
   "execution_count": 6,
   "metadata": {},
   "outputs": [
    {
     "data": {
      "text/plain": [
       "dict_keys(['zs', 'geocent_time', 'ra', 'dec', 'phase', 'psi', 'theta_jn', 'a_1', 'a_2', 'tilt_1', 'tilt_2', 'phi_12', 'phi_jl', 'luminosity_distance', 'mass_1_source', 'mass_2_source', 'mass_1', 'mass_2', 'L1', 'H1', 'V1', 'optimal_snr_net'])"
      ]
     },
     "execution_count": 6,
     "metadata": {},
     "output_type": "execute_result"
    }
   ],
   "source": [
    "# training set\n",
    "unlensed_params.keys()"
   ]
  },
  {
   "cell_type": "code",
   "execution_count": 25,
   "metadata": {},
   "outputs": [
    {
     "data": {
      "text/plain": [
       "16908"
      ]
     },
     "execution_count": 25,
     "metadata": {},
     "output_type": "execute_result"
    }
   ],
   "source": [
    "len(snr)"
   ]
  },
  {
   "cell_type": "code",
   "execution_count": 26,
   "metadata": {},
   "outputs": [],
   "source": [
    "# snr_min = 6.\n",
    "# snr_max = 10.\n",
    "# bool_ = (snr>snr_min) & (snr<snr_max) \n",
    "\n",
    "len_ = len(snr)\n",
    "idx = np.arange(len_)\n",
    "# randomize the train set\n",
    "idx = np.random.choice(idx, len(idx), replace=False)"
   ]
  },
  {
   "cell_type": "code",
   "execution_count": 27,
   "metadata": {},
   "outputs": [],
   "source": [
    "X, y = input_output(idx, unlensed_params)"
   ]
  },
  {
   "cell_type": "code",
   "execution_count": 28,
   "metadata": {},
   "outputs": [
    {
     "data": {
      "text/plain": [
       "(16908, 10)"
      ]
     },
     "execution_count": 28,
     "metadata": {},
     "output_type": "execute_result"
    }
   ],
   "source": [
    "np.shape(X)"
   ]
  },
  {
   "cell_type": "code",
   "execution_count": 40,
   "metadata": {},
   "outputs": [
    {
     "data": {
      "image/png": "[encoded data removed]",
      "text/plain": [
       "<Figure size 640x480 with 1 Axes>"
      ]
     },
     "metadata": {},
     "output_type": "display_data"
    }
   ],
   "source": [
    "import matplotlib.pyplot as plt\n",
    "plt.hist(y[y<100], bins=100)\n",
    "#plt.xlim(0,10)\n",
    "plt.show()"
   ]
  },
  {
   "cell_type": "markdown",
   "metadata": {},
   "source": [
    "## Now back to ANN"
   ]
  },
  {
   "cell_type": "code",
   "execution_count": 30,
   "metadata": {},
   "outputs": [],
   "source": [
    "from sklearn.model_selection import train_test_split\n",
    "X_train, X_test, y_train, y_test = train_test_split(X, y, test_size = 0.2, random_state = 0)\n"
   ]
  },
  {
   "cell_type": "code",
   "execution_count": 31,
   "metadata": {},
   "outputs": [
    {
     "name": "stdout",
     "output_type": "stream",
     "text": [
      "(13526, 10)\n",
      "(3382, 10)\n"
     ]
    }
   ],
   "source": [
    "print(np.shape(X_train))\n",
    "print(np.shape(X_test))"
   ]
  },
  {
   "cell_type": "code",
   "execution_count": 32,
   "metadata": {},
   "outputs": [],
   "source": [
    "# feature scaling\n",
    "from sklearn.preprocessing import StandardScaler\n",
    "sc = StandardScaler()\n",
    "X_train = sc.fit_transform(X_train)\n",
    "X_test = sc.transform(X_test)"
   ]
  },
  {
   "cell_type": "code",
   "execution_count": 33,
   "metadata": {},
   "outputs": [
    {
     "data": {
      "text/plain": [
       "array([-0.28146217, -0.38958008, -5.33018058, -1.503836  ,  0.36540158,\n",
       "       -0.51720678, -0.77374721, -1.1087212 ,  1.62737639,  1.65683269])"
      ]
     },
     "execution_count": 33,
     "metadata": {},
     "output_type": "execute_result"
    }
   ],
   "source": [
    "X_train[0]"
   ]
  },
  {
   "cell_type": "code",
   "execution_count": 34,
   "metadata": {},
   "outputs": [],
   "source": [
    "# initialize the ANN\n",
    "ann = tf.keras.models.Sequential() \n",
    "\n",
    "# adding the input layer and the first hidden layer\n",
    "ann.add(tf.keras.layers.Dense(units=9, activation='relu'))\n",
    "# adding the second hidden layer\n",
    "ann.add(tf.keras.layers.Dense(units=32, activation='relu'))\n",
    "# adding the third hidden layer\n",
    "ann.add(tf.keras.layers.Dense(units=32, activation='sigmoid'))\n",
    "# adding the output layer, absolute value of the snr\n",
    "ann.add(tf.keras.layers.Dense(units=1, activation='linear'))\n",
    "#ann.add(tf.keras.layers.Dense(units=1, activation='sigmoid'))"
   ]
  },
  {
   "cell_type": "code",
   "execution_count": 35,
   "metadata": {},
   "outputs": [],
   "source": [
    "# compile the ANN\n",
    "# loss = 'mean_squared_error'\n",
    "ann.compile(optimizer = 'adam', loss = 'mean_squared_error', metrics = ['accuracy'])"
   ]
  },
  {
   "cell_type": "code",
   "execution_count": 36,
   "metadata": {},
   "outputs": [
    {
     "name": "stdout",
     "output_type": "stream",
     "text": [
      "Epoch 1/100\n",
      "423/423 [==============================] - 0s 498us/step - loss: 840.8187 - accuracy: 0.0028\n",
      "Epoch 2/100\n",
      "423/423 [==============================] - 0s 491us/step - loss: 826.7892 - accuracy: 0.0000e+00\n",
      "Epoch 3/100\n",
      "423/423 [==============================] - 0s 486us/step - loss: 822.0776 - accuracy: 0.0011\n",
      "Epoch 4/100\n",
      "423/423 [==============================] - 0s 484us/step - loss: 815.6904 - accuracy: 0.0131\n",
      "Epoch 5/100\n",
      "423/423 [==============================] - 0s 481us/step - loss: 810.5552 - accuracy: 0.0161\n",
      "Epoch 6/100\n",
      "423/423 [==============================] - 0s 480us/step - loss: 806.8489 - accuracy: 0.0166\n",
      "Epoch 7/100\n",
      "423/423 [==============================] - 0s 556us/step - loss: 804.3773 - accuracy: 0.0077\n",
      "Epoch 8/100\n",
      "423/423 [==============================] - 0s 484us/step - loss: 801.5282 - accuracy: 0.0037\n",
      "Epoch 9/100\n",
      "423/423 [==============================] - 0s 481us/step - loss: 800.0587 - accuracy: 0.0027\n",
      "Epoch 10/100\n",
      "423/423 [==============================] - 0s 480us/step - loss: 798.2434 - accuracy: 0.0021\n",
      "Epoch 11/100\n",
      "423/423 [==============================] - 0s 477us/step - loss: 797.0474 - accuracy: 0.0018\n",
      "Epoch 12/100\n",
      "423/423 [==============================] - 0s 478us/step - loss: 795.4740 - accuracy: 0.0017\n",
      "Epoch 13/100\n",
      "423/423 [==============================] - 0s 484us/step - loss: 794.7107 - accuracy: 5.1752e-04\n",
      "Epoch 14/100\n",
      "423/423 [==============================] - 0s 482us/step - loss: 793.6816 - accuracy: 7.3932e-05\n",
      "Epoch 15/100\n",
      "423/423 [==============================] - 0s 501us/step - loss: 792.5220 - accuracy: 0.0000e+00\n",
      "Epoch 16/100\n",
      "423/423 [==============================] - 0s 475us/step - loss: 791.7158 - accuracy: 0.0000e+00\n",
      "Epoch 17/100\n",
      "423/423 [==============================] - 0s 479us/step - loss: 791.2606 - accuracy: 0.0000e+00\n",
      "Epoch 18/100\n",
      "423/423 [==============================] - 0s 474us/step - loss: 790.3921 - accuracy: 0.0000e+00\n",
      "Epoch 19/100\n",
      "423/423 [==============================] - 0s 557us/step - loss: 789.4755 - accuracy: 0.0000e+00\n",
      "Epoch 20/100\n",
      "423/423 [==============================] - 0s 484us/step - loss: 788.7316 - accuracy: 0.0000e+00\n",
      "Epoch 21/100\n",
      "423/423 [==============================] - 0s 480us/step - loss: 788.0425 - accuracy: 0.0000e+00\n",
      "Epoch 22/100\n",
      "423/423 [==============================] - 0s 480us/step - loss: 787.8554 - accuracy: 0.0000e+00\n",
      "Epoch 23/100\n",
      "423/423 [==============================] - 0s 485us/step - loss: 786.7055 - accuracy: 0.0000e+00\n",
      "Epoch 24/100\n",
      "423/423 [==============================] - 0s 481us/step - loss: 786.0325 - accuracy: 0.0000e+00\n",
      "Epoch 25/100\n",
      "423/423 [==============================] - 0s 476us/step - loss: 785.3824 - accuracy: 0.0000e+00\n",
      "Epoch 26/100\n",
      "423/423 [==============================] - 0s 481us/step - loss: 785.3243 - accuracy: 0.0000e+00\n",
      "Epoch 27/100\n",
      "423/423 [==============================] - 0s 477us/step - loss: 784.1949 - accuracy: 0.0000e+00\n",
      "Epoch 28/100\n",
      "423/423 [==============================] - 0s 480us/step - loss: 783.5934 - accuracy: 0.0000e+00\n",
      "Epoch 29/100\n",
      "423/423 [==============================] - 0s 555us/step - loss: 783.0181 - accuracy: 0.0000e+00\n",
      "Epoch 30/100\n",
      "423/423 [==============================] - 0s 482us/step - loss: 782.7676 - accuracy: 0.0000e+00\n",
      "Epoch 31/100\n",
      "423/423 [==============================] - 0s 489us/step - loss: 782.0958 - accuracy: 0.0000e+00\n",
      "Epoch 32/100\n",
      "423/423 [==============================] - 0s 478us/step - loss: 782.0527 - accuracy: 0.0000e+00\n",
      "Epoch 33/100\n",
      "423/423 [==============================] - 0s 476us/step - loss: 780.9909 - accuracy: 0.0000e+00\n",
      "Epoch 34/100\n",
      "423/423 [==============================] - 0s 483us/step - loss: 780.4812 - accuracy: 7.3932e-05\n",
      "Epoch 35/100\n",
      "423/423 [==============================] - 0s 485us/step - loss: 780.0759 - accuracy: 3.6966e-04\n",
      "Epoch 36/100\n",
      "423/423 [==============================] - 0s 496us/step - loss: 779.5718 - accuracy: 0.0016\n",
      "Epoch 37/100\n",
      "423/423 [==============================] - 0s 491us/step - loss: 779.7964 - accuracy: 0.0029\n",
      "Epoch 38/100\n",
      "423/423 [==============================] - 0s 580us/step - loss: 779.2344 - accuracy: 0.0030\n",
      "Epoch 39/100\n",
      "423/423 [==============================] - 0s 470us/step - loss: 777.9766 - accuracy: 0.0036\n",
      "Epoch 40/100\n",
      "423/423 [==============================] - 0s 495us/step - loss: 777.9933 - accuracy: 0.0035\n",
      "Epoch 41/100\n",
      "423/423 [==============================] - 0s 546us/step - loss: 777.4126 - accuracy: 0.0033\n",
      "Epoch 42/100\n",
      "423/423 [==============================] - 0s 505us/step - loss: 777.4246 - accuracy: 0.0037\n",
      "Epoch 43/100\n",
      "423/423 [==============================] - 0s 480us/step - loss: 777.4048 - accuracy: 0.0036\n",
      "Epoch 44/100\n",
      "423/423 [==============================] - 0s 480us/step - loss: 776.5881 - accuracy: 0.0041\n",
      "Epoch 45/100\n",
      "423/423 [==============================] - 0s 481us/step - loss: 776.2681 - accuracy: 0.0040\n",
      "Epoch 46/100\n",
      "423/423 [==============================] - 0s 476us/step - loss: 776.6726 - accuracy: 0.0044\n",
      "Epoch 47/100\n",
      "423/423 [==============================] - 0s 479us/step - loss: 775.9703 - accuracy: 0.0041\n",
      "Epoch 48/100\n",
      "423/423 [==============================] - 0s 547us/step - loss: 774.7130 - accuracy: 0.0043\n",
      "Epoch 49/100\n",
      "423/423 [==============================] - 0s 501us/step - loss: 774.9996 - accuracy: 0.0043\n",
      "Epoch 50/100\n",
      "423/423 [==============================] - 0s 482us/step - loss: 773.8233 - accuracy: 0.0046\n",
      "Epoch 51/100\n",
      "423/423 [==============================] - 0s 483us/step - loss: 773.4384 - accuracy: 0.0047\n",
      "Epoch 52/100\n",
      "423/423 [==============================] - 0s 479us/step - loss: 773.7581 - accuracy: 0.0046\n",
      "Epoch 53/100\n",
      "423/423 [==============================] - 0s 482us/step - loss: 774.7341 - accuracy: 0.0047\n",
      "Epoch 54/100\n",
      "423/423 [==============================] - 0s 480us/step - loss: 772.4412 - accuracy: 0.0049\n",
      "Epoch 55/100\n",
      "423/423 [==============================] - 0s 482us/step - loss: 772.6897 - accuracy: 0.0049\n",
      "Epoch 56/100\n",
      "423/423 [==============================] - 0s 480us/step - loss: 772.2292 - accuracy: 0.0052\n",
      "Epoch 57/100\n",
      "423/423 [==============================] - 0s 497us/step - loss: 771.9736 - accuracy: 0.0052\n",
      "Epoch 58/100\n",
      "423/423 [==============================] - 0s 480us/step - loss: 771.4559 - accuracy: 0.0053\n",
      "Epoch 59/100\n",
      "423/423 [==============================] - 0s 557us/step - loss: 771.1749 - accuracy: 0.0055\n",
      "Epoch 60/100\n",
      "423/423 [==============================] - 0s 479us/step - loss: 771.4955 - accuracy: 0.0055\n",
      "Epoch 61/100\n",
      "423/423 [==============================] - 0s 478us/step - loss: 770.6655 - accuracy: 0.0056\n",
      "Epoch 62/100\n",
      "423/423 [==============================] - 0s 479us/step - loss: 771.5399 - accuracy: 0.0058\n",
      "Epoch 63/100\n",
      "423/423 [==============================] - 0s 499us/step - loss: 770.2103 - accuracy: 0.0060\n",
      "Epoch 64/100\n",
      "423/423 [==============================] - 0s 483us/step - loss: 770.3525 - accuracy: 0.0055\n",
      "Epoch 65/100\n",
      "423/423 [==============================] - 0s 479us/step - loss: 769.1882 - accuracy: 0.0065\n",
      "Epoch 66/100\n",
      "423/423 [==============================] - 0s 482us/step - loss: 769.7145 - accuracy: 0.0065\n",
      "Epoch 67/100\n",
      "423/423 [==============================] - 0s 481us/step - loss: 769.2463 - accuracy: 0.0061\n",
      "Epoch 68/100\n",
      "423/423 [==============================] - 0s 481us/step - loss: 768.4527 - accuracy: 0.0064\n",
      "Epoch 69/100\n",
      "423/423 [==============================] - 0s 549us/step - loss: 767.8909 - accuracy: 0.0065\n",
      "Epoch 70/100\n",
      "423/423 [==============================] - 0s 498us/step - loss: 767.6008 - accuracy: 0.0068\n",
      "Epoch 71/100\n",
      "423/423 [==============================] - 0s 479us/step - loss: 769.6794 - accuracy: 0.0059\n",
      "Epoch 72/100\n",
      "423/423 [==============================] - 0s 480us/step - loss: 768.0867 - accuracy: 0.0064\n",
      "Epoch 73/100\n",
      "423/423 [==============================] - 0s 476us/step - loss: 769.1992 - accuracy: 0.0067\n",
      "Epoch 74/100\n",
      "423/423 [==============================] - 0s 480us/step - loss: 768.4294 - accuracy: 0.0064\n",
      "Epoch 75/100\n",
      "423/423 [==============================] - 0s 476us/step - loss: 768.2698 - accuracy: 0.0059\n",
      "Epoch 76/100\n",
      "423/423 [==============================] - 0s 480us/step - loss: 766.5568 - accuracy: 0.0065\n",
      "Epoch 77/100\n",
      "423/423 [==============================] - 0s 483us/step - loss: 766.6009 - accuracy: 0.0066\n",
      "Epoch 78/100\n",
      "423/423 [==============================] - 0s 498us/step - loss: 766.7495 - accuracy: 0.0067\n",
      "Epoch 79/100\n",
      "423/423 [==============================] - 0s 555us/step - loss: 765.9689 - accuracy: 0.0063\n",
      "Epoch 80/100\n",
      "423/423 [==============================] - 0s 475us/step - loss: 791.9401 - accuracy: 0.0062\n",
      "Epoch 81/100\n",
      "423/423 [==============================] - 0s 483us/step - loss: 770.4882 - accuracy: 0.0024\n",
      "Epoch 82/100\n",
      "423/423 [==============================] - 0s 470us/step - loss: 768.0984 - accuracy: 0.0018\n",
      "Epoch 83/100\n",
      "423/423 [==============================] - 0s 476us/step - loss: 767.0186 - accuracy: 0.0024\n",
      "Epoch 84/100\n",
      "423/423 [==============================] - 0s 496us/step - loss: 764.7563 - accuracy: 0.0024\n",
      "Epoch 85/100\n",
      "423/423 [==============================] - 0s 487us/step - loss: 765.0823 - accuracy: 0.0034\n",
      "Epoch 86/100\n",
      "423/423 [==============================] - 0s 524us/step - loss: 766.0199 - accuracy: 0.0052\n",
      "Epoch 87/100\n",
      "423/423 [==============================] - 0s 490us/step - loss: 764.2566 - accuracy: 0.0047\n",
      "Epoch 88/100\n",
      "423/423 [==============================] - 0s 490us/step - loss: 763.9853 - accuracy: 0.0063\n",
      "Epoch 89/100\n",
      "423/423 [==============================] - 0s 557us/step - loss: 763.4930 - accuracy: 0.0061\n",
      "Epoch 90/100\n",
      "423/423 [==============================] - 0s 468us/step - loss: 763.3331 - accuracy: 0.0066\n",
      "Epoch 91/100\n",
      "423/423 [==============================] - 0s 477us/step - loss: 765.9357 - accuracy: 0.0061\n",
      "Epoch 92/100\n",
      "423/423 [==============================] - 0s 483us/step - loss: 763.3313 - accuracy: 0.0067\n",
      "Epoch 93/100\n",
      "423/423 [==============================] - 0s 522us/step - loss: 762.9146 - accuracy: 0.0061\n",
      "Epoch 94/100\n",
      "423/423 [==============================] - 0s 484us/step - loss: 764.0056 - accuracy: 0.0067\n",
      "Epoch 95/100\n",
      "423/423 [==============================] - 0s 492us/step - loss: 761.4608 - accuracy: 0.0063\n",
      "Epoch 96/100\n",
      "423/423 [==============================] - 0s 481us/step - loss: 762.9260 - accuracy: 0.0066\n",
      "Epoch 97/100\n",
      "423/423 [==============================] - 0s 482us/step - loss: 774.4022 - accuracy: 0.0044\n",
      "Epoch 98/100\n",
      "423/423 [==============================] - 0s 471us/step - loss: 767.4155 - accuracy: 0.0071\n",
      "Epoch 99/100\n",
      "423/423 [==============================] - 0s 558us/step - loss: 763.4227 - accuracy: 0.0027\n",
      "Epoch 100/100\n",
      "423/423 [==============================] - 0s 483us/step - loss: 762.4965 - accuracy: 0.0025\n"
     ]
    },
    {
     "data": {
      "text/plain": [
       "<keras.src.callbacks.History at 0x2ca2089d0>"
      ]
     },
     "execution_count": 36,
     "metadata": {},
     "output_type": "execute_result"
    }
   ],
   "source": [
    "# train the ANN on the training set\n",
    "ann.fit(X_train, y_train, batch_size = 32, epochs = 100, workers=4, use_multiprocessing=True)"
   ]
  },
  {
   "cell_type": "code",
   "execution_count": 37,
   "metadata": {},
   "outputs": [
    {
     "name": "stdout",
     "output_type": "stream",
     "text": [
      "106/106 [==============================] - 0s 308us/step\n",
      "[[ 9.81444359  8.06398548]\n",
      " [10.82319832 12.16661337]\n",
      " [ 2.16708088  2.40475596]\n",
      " [ 2.11373591  3.10543428]\n",
      " [ 0.22053409  0.21437948]\n",
      " [ 6.65666485  7.29889267]\n",
      " [20.99600983 35.43968714]\n",
      " [ 6.30148602  6.14548177]\n",
      " [ 2.3788352   2.17600487]\n",
      " [ 8.98745728  8.86427458]]\n"
     ]
    }
   ],
   "source": [
    "y_pred = ann.predict(X_test)\n",
    "#y_pred = (y_pred > 0.5)\n",
    "print(np.concatenate((y_pred.reshape(len(y_pred),1), y_test.reshape(len(y_test),1)),1)[10:20])"
   ]
  },
  {
   "cell_type": "code",
   "execution_count": 291,
   "metadata": {},
   "outputs": [],
   "source": [
    "idx = (y_test>4) & (y_test<100)"
   ]
  },
  {
   "cell_type": "code",
   "execution_count": null,
   "metadata": {},
   "outputs": [],
   "source": [
    "(\n",
    "    x0_image_position,\n",
    "    x1_image_position,\n",
    ") = lens_eq_solver.image_position_from_source(\n",
    "    sourcePos_x=x_source,\n",
    "    sourcePos_y=y_source,\n",
    "    kwargs_lens=kwargs_lens,\n",
    "    solver=\"analytical\",\n",
    "    magnification_limit=1.0 / 1000.0,\n",
    "    arrival_time_sort=True,\n",
    ")"
   ]
  },
  {
   "cell_type": "code",
   "execution_count": 294,
   "metadata": {},
   "outputs": [
    {
     "name": "stdout",
     "output_type": "stream",
     "text": [
      "22836\n",
      "13038\n"
     ]
    },
    {
     "data": {
      "image/png": "[encoded data removed]",
      "text/plain": [
       "<Figure size 400x400 with 1 Axes>"
      ]
     },
     "metadata": {},
     "output_type": "display_data"
    }
   ],
   "source": [
    "import matplotlib.pyplot as plt\n",
    "hist_ = y_pred.flatten()-y_test\n",
    "print(len(hist_))\n",
    "hist_ = hist_[idx]\n",
    "#hist_ = hist_[abs(hist_)<5.]\n",
    "print(len(hist_))\n",
    "plt.figure(figsize=(4,4)) \n",
    "plt.hist(hist_, bins=100, histtype='step', density=True)\n",
    "plt.xlim(-3,3)\n",
    "plt.xlabel('snr_ml and snr_inner_product difference')\n",
    "plt.ylabel('pdf')\n",
    "plt.grid(alpha=0.4)\n",
    "plt.show()"
   ]
  },
  {
   "cell_type": "code",
   "execution_count": null,
   "metadata": {},
   "outputs": [],
   "source": []
  },
  {
   "cell_type": "code",
   "execution_count": 140,
   "metadata": {},
   "outputs": [
    {
     "ename": "ValueError",
     "evalue": "continuous is not supported",
     "output_type": "error",
     "traceback": [
      "\u001b[0;31m---------------------------------------------------------------------------\u001b[0m",
      "\u001b[0;31mValueError\u001b[0m                                Traceback (most recent call last)",
      "Cell \u001b[0;32mIn[140], line 2\u001b[0m\n\u001b[1;32m      1\u001b[0m \u001b[38;5;28;01mfrom\u001b[39;00m \u001b[38;5;21;01msklearn\u001b[39;00m\u001b[38;5;21;01m.\u001b[39;00m\u001b[38;5;21;01mmetrics\u001b[39;00m \u001b[38;5;28;01mimport\u001b[39;00m confusion_matrix, accuracy_score\n\u001b[0;32m----> 2\u001b[0m cm \u001b[38;5;241m=\u001b[39m \u001b[43mconfusion_matrix\u001b[49m\u001b[43m(\u001b[49m\u001b[43my_test\u001b[49m\u001b[43m,\u001b[49m\u001b[43m \u001b[49m\u001b[43my_pred\u001b[49m\u001b[43m)\u001b[49m\n\u001b[1;32m      3\u001b[0m \u001b[38;5;28mprint\u001b[39m(cm)\n\u001b[1;32m      4\u001b[0m accuracy_score(y_test, y_pred)\n",
      "File \u001b[0;32m~/anaconda3/envs/ler/lib/python3.10/site-packages/sklearn/utils/_param_validation.py:214\u001b[0m, in \u001b[0;36mvalidate_params.<locals>.decorator.<locals>.wrapper\u001b[0;34m(*args, **kwargs)\u001b[0m\n\u001b[1;32m    208\u001b[0m \u001b[38;5;28;01mtry\u001b[39;00m:\n\u001b[1;32m    209\u001b[0m     \u001b[38;5;28;01mwith\u001b[39;00m config_context(\n\u001b[1;32m    210\u001b[0m         skip_parameter_validation\u001b[38;5;241m=\u001b[39m(\n\u001b[1;32m    211\u001b[0m             prefer_skip_nested_validation \u001b[38;5;129;01mor\u001b[39;00m global_skip_validation\n\u001b[1;32m    212\u001b[0m         )\n\u001b[1;32m    213\u001b[0m     ):\n\u001b[0;32m--> 214\u001b[0m         \u001b[38;5;28;01mreturn\u001b[39;00m \u001b[43mfunc\u001b[49m\u001b[43m(\u001b[49m\u001b[38;5;241;43m*\u001b[39;49m\u001b[43margs\u001b[49m\u001b[43m,\u001b[49m\u001b[43m \u001b[49m\u001b[38;5;241;43m*\u001b[39;49m\u001b[38;5;241;43m*\u001b[39;49m\u001b[43mkwargs\u001b[49m\u001b[43m)\u001b[49m\n\u001b[1;32m    215\u001b[0m \u001b[38;5;28;01mexcept\u001b[39;00m InvalidParameterError \u001b[38;5;28;01mas\u001b[39;00m e:\n\u001b[1;32m    216\u001b[0m     \u001b[38;5;66;03m# When the function is just a wrapper around an estimator, we allow\u001b[39;00m\n\u001b[1;32m    217\u001b[0m     \u001b[38;5;66;03m# the function to delegate validation to the estimator, but we replace\u001b[39;00m\n\u001b[1;32m    218\u001b[0m     \u001b[38;5;66;03m# the name of the estimator by the name of the function in the error\u001b[39;00m\n\u001b[1;32m    219\u001b[0m     \u001b[38;5;66;03m# message to avoid confusion.\u001b[39;00m\n\u001b[1;32m    220\u001b[0m     msg \u001b[38;5;241m=\u001b[39m re\u001b[38;5;241m.\u001b[39msub(\n\u001b[1;32m    221\u001b[0m         \u001b[38;5;124mr\u001b[39m\u001b[38;5;124m\"\u001b[39m\u001b[38;5;124mparameter of \u001b[39m\u001b[38;5;124m\\\u001b[39m\u001b[38;5;124mw+ must be\u001b[39m\u001b[38;5;124m\"\u001b[39m,\n\u001b[1;32m    222\u001b[0m         \u001b[38;5;124mf\u001b[39m\u001b[38;5;124m\"\u001b[39m\u001b[38;5;124mparameter of \u001b[39m\u001b[38;5;132;01m{\u001b[39;00mfunc\u001b[38;5;241m.\u001b[39m\u001b[38;5;18m__qualname__\u001b[39m\u001b[38;5;132;01m}\u001b[39;00m\u001b[38;5;124m must be\u001b[39m\u001b[38;5;124m\"\u001b[39m,\n\u001b[1;32m    223\u001b[0m         \u001b[38;5;28mstr\u001b[39m(e),\n\u001b[1;32m    224\u001b[0m     )\n",
      "File \u001b[0;32m~/anaconda3/envs/ler/lib/python3.10/site-packages/sklearn/metrics/_classification.py:326\u001b[0m, in \u001b[0;36mconfusion_matrix\u001b[0;34m(y_true, y_pred, labels, sample_weight, normalize)\u001b[0m\n\u001b[1;32m    231\u001b[0m \u001b[38;5;129m@validate_params\u001b[39m(\n\u001b[1;32m    232\u001b[0m     {\n\u001b[1;32m    233\u001b[0m         \u001b[38;5;124m\"\u001b[39m\u001b[38;5;124my_true\u001b[39m\u001b[38;5;124m\"\u001b[39m: [\u001b[38;5;124m\"\u001b[39m\u001b[38;5;124marray-like\u001b[39m\u001b[38;5;124m\"\u001b[39m],\n\u001b[0;32m   (...)\u001b[0m\n\u001b[1;32m    242\u001b[0m     y_true, y_pred, \u001b[38;5;241m*\u001b[39m, labels\u001b[38;5;241m=\u001b[39m\u001b[38;5;28;01mNone\u001b[39;00m, sample_weight\u001b[38;5;241m=\u001b[39m\u001b[38;5;28;01mNone\u001b[39;00m, normalize\u001b[38;5;241m=\u001b[39m\u001b[38;5;28;01mNone\u001b[39;00m\n\u001b[1;32m    243\u001b[0m ):\n\u001b[1;32m    244\u001b[0m \u001b[38;5;250m    \u001b[39m\u001b[38;5;124;03m\"\"\"Compute confusion matrix to evaluate the accuracy of a classification.\u001b[39;00m\n\u001b[1;32m    245\u001b[0m \n\u001b[1;32m    246\u001b[0m \u001b[38;5;124;03m    By definition a confusion matrix :math:`C` is such that :math:`C_{i, j}`\u001b[39;00m\n\u001b[0;32m   (...)\u001b[0m\n\u001b[1;32m    324\u001b[0m \u001b[38;5;124;03m    (0, 2, 1, 1)\u001b[39;00m\n\u001b[1;32m    325\u001b[0m \u001b[38;5;124;03m    \"\"\"\u001b[39;00m\n\u001b[0;32m--> 326\u001b[0m     y_type, y_true, y_pred \u001b[38;5;241m=\u001b[39m \u001b[43m_check_targets\u001b[49m\u001b[43m(\u001b[49m\u001b[43my_true\u001b[49m\u001b[43m,\u001b[49m\u001b[43m \u001b[49m\u001b[43my_pred\u001b[49m\u001b[43m)\u001b[49m\n\u001b[1;32m    327\u001b[0m     \u001b[38;5;28;01mif\u001b[39;00m y_type \u001b[38;5;129;01mnot\u001b[39;00m \u001b[38;5;129;01min\u001b[39;00m (\u001b[38;5;124m\"\u001b[39m\u001b[38;5;124mbinary\u001b[39m\u001b[38;5;124m\"\u001b[39m, \u001b[38;5;124m\"\u001b[39m\u001b[38;5;124mmulticlass\u001b[39m\u001b[38;5;124m\"\u001b[39m):\n\u001b[1;32m    328\u001b[0m         \u001b[38;5;28;01mraise\u001b[39;00m \u001b[38;5;167;01mValueError\u001b[39;00m(\u001b[38;5;124m\"\u001b[39m\u001b[38;5;132;01m%s\u001b[39;00m\u001b[38;5;124m is not supported\u001b[39m\u001b[38;5;124m\"\u001b[39m \u001b[38;5;241m%\u001b[39m y_type)\n",
      "File \u001b[0;32m~/anaconda3/envs/ler/lib/python3.10/site-packages/sklearn/metrics/_classification.py:104\u001b[0m, in \u001b[0;36m_check_targets\u001b[0;34m(y_true, y_pred)\u001b[0m\n\u001b[1;32m    102\u001b[0m \u001b[38;5;66;03m# No metrics support \"multiclass-multioutput\" format\u001b[39;00m\n\u001b[1;32m    103\u001b[0m \u001b[38;5;28;01mif\u001b[39;00m y_type \u001b[38;5;129;01mnot\u001b[39;00m \u001b[38;5;129;01min\u001b[39;00m [\u001b[38;5;124m\"\u001b[39m\u001b[38;5;124mbinary\u001b[39m\u001b[38;5;124m\"\u001b[39m, \u001b[38;5;124m\"\u001b[39m\u001b[38;5;124mmulticlass\u001b[39m\u001b[38;5;124m\"\u001b[39m, \u001b[38;5;124m\"\u001b[39m\u001b[38;5;124mmultilabel-indicator\u001b[39m\u001b[38;5;124m\"\u001b[39m]:\n\u001b[0;32m--> 104\u001b[0m     \u001b[38;5;28;01mraise\u001b[39;00m \u001b[38;5;167;01mValueError\u001b[39;00m(\u001b[38;5;124m\"\u001b[39m\u001b[38;5;132;01m{0}\u001b[39;00m\u001b[38;5;124m is not supported\u001b[39m\u001b[38;5;124m\"\u001b[39m\u001b[38;5;241m.\u001b[39mformat(y_type))\n\u001b[1;32m    106\u001b[0m \u001b[38;5;28;01mif\u001b[39;00m y_type \u001b[38;5;129;01min\u001b[39;00m [\u001b[38;5;124m\"\u001b[39m\u001b[38;5;124mbinary\u001b[39m\u001b[38;5;124m\"\u001b[39m, \u001b[38;5;124m\"\u001b[39m\u001b[38;5;124mmulticlass\u001b[39m\u001b[38;5;124m\"\u001b[39m]:\n\u001b[1;32m    107\u001b[0m     y_true \u001b[38;5;241m=\u001b[39m column_or_1d(y_true)\n",
      "\u001b[0;31mValueError\u001b[0m: continuous is not supported"
     ]
    }
   ],
   "source": [
    "from sklearn.metrics import confusion_matrix, accuracy_score\n",
    "cm = confusion_matrix(y_test, y_pred)\n",
    "print(cm)\n",
    "accuracy_score(y_test, y_pred)"
   ]
  },
  {
   "cell_type": "code",
   "execution_count": null,
   "metadata": {},
   "outputs": [],
   "source": []
  }
 ],
 "metadata": {
  "kernelspec": {
   "display_name": "ler",
   "language": "python",
   "name": "ler"
  },
  "language_info": {
   "codemirror_mode": {
    "name": "ipython",
    "version": 3
   },
   "file_extension": ".py",
   "mimetype": "text/x-python",
   "name": "python",
   "nbconvert_exporter": "python",
   "pygments_lexer": "ipython3",
   "version": "3.10.12"
  }
 },
 "nbformat": 4,
 "nbformat_minor": 2
}
