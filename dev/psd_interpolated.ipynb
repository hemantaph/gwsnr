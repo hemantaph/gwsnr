{
 "cells": [
  {
   "cell_type": "code",
   "execution_count": 22,
   "metadata": {},
   "outputs": [],
   "source": [
    "import numpy as np\n",
    "import jax.numpy as jnp\n",
    "from numba import njit\n",
    "import bilby"
   ]
  },
  {
   "cell_type": "code",
   "execution_count": null,
   "metadata": {},
   "outputs": [],
   "source": [
    "@njit\n",
    "def linear_interpolator(xnew, coefficients, x, bounds_error=False, fill_value=None):\n",
    "    \"\"\"\n",
    "    \"\"\"\n",
    "\n",
    "    idx_max = len(x)-1\n",
    "    if bounds_error:\n",
    "        if (xnew < x[0]) or (xnew > x[idx_max]):\n",
    "            raise ValueError(\"Chosen x values out of bound\")\n",
    "\n",
    "    # Handling extrapolation\n",
    "    i = np.searchsorted(x, xnew) - 1 \n",
    "    idx1 = xnew <= x[0]\n",
    "    i[idx1] = 0\n",
    "    idx2 = xnew > x[idx_max]\n",
    "    i[idx2] = idx_max - 1\n",
    "\n",
    "    # Calculate the relative position within the interval\n",
    "    dx = xnew - x[i]\n",
    "\n",
    "    # Calculate the interpolated value\n",
    "    # linear polynomial: a + b*dx \n",
    "    const, slope = coefficients[i].T\n",
    "    ynew = const + slope*dx\n",
    "\n",
    "    if fill_value is not None:\n",
    "        ynew[idx1] = fill_value\n",
    "        ynew[idx2] = fill_value\n",
    "\n",
    "    return ynew\n",
    "\n",
    "@njit\n",
    "def coefficients_generator_linear(x, y):\n",
    "    \"\"\"\n",
    "    \"\"\"\n",
    "\n",
    "    lenx = len(x)\n",
    "    x2 = x[1:lenx]\n",
    "    x1 = x[0:lenx-1]\n",
    "    y2 = y[1:lenx]\n",
    "    y1 = y[0:lenx-1]\n",
    "\n",
    "    slope = (y2-y1)/(x2-x1)\n",
    "    const = y1\n",
    "\n",
    "    return const,slope"
   ]
  },
  {
   "cell_type": "code",
   "execution_count": 80,
   "metadata": {},
   "outputs": [
    {
     "data": {
      "text/plain": [
       "(array([1., 2., 3., 4., 5., 6., 7., 8., 9.]),\n",
       " array([2.71828183e+00, 7.38905610e+00, 2.00855369e+01, 5.45981500e+01,\n",
       "        1.48413159e+02, 4.03428793e+02, 1.09663316e+03, 2.98095799e+03,\n",
       "        8.10308393e+03]))"
      ]
     },
     "execution_count": 80,
     "metadata": {},
     "output_type": "execute_result"
    }
   ],
   "source": [
    "x_, y_"
   ]
  },
  {
   "cell_type": "code",
   "execution_count": 75,
   "metadata": {},
   "outputs": [
    {
     "data": {
      "text/plain": [
       "array([-1, -1])"
      ]
     },
     "execution_count": 75,
     "metadata": {},
     "output_type": "execute_result"
    }
   ],
   "source": [
    "np.searchsorted(x_, np.array([0,1])) - 1"
   ]
  },
  {
   "cell_type": "code",
   "execution_count": 76,
   "metadata": {},
   "outputs": [
    {
     "data": {
      "text/plain": [
       "array([False, False])"
      ]
     },
     "execution_count": 76,
     "metadata": {},
     "output_type": "execute_result"
    }
   ],
   "source": [
    "np.array([0,1])>x_[0]"
   ]
  },
  {
   "cell_type": "code",
   "execution_count": 126,
   "metadata": {},
   "outputs": [],
   "source": [
    "coeff = np.array(coefficients_generator_linear(x_, y_)).T"
   ]
  },
  {
   "cell_type": "code",
   "execution_count": 193,
   "metadata": {},
   "outputs": [],
   "source": [
    "x_new = np.random.uniform(0,11,10)\n",
    "y_new = cubic_spline_interpolator(x_new, coeff, x_, bounds_error=False, fill_value=None)"
   ]
  },
  {
   "cell_type": "code",
   "execution_count": 188,
   "metadata": {},
   "outputs": [],
   "source": [
    "xnew=np.random.uniform(0,15,10)\n",
    "coefficients=coeff\n",
    "x=x_\n",
    "bounds_error=False \n",
    "fill_value=0.0\n",
    "\n",
    "idx_max = len(x)-1\n",
    "if bounds_error:\n",
    "    if (xnew < x[0]) or (xnew > x[idx_max]):\n",
    "        raise ValueError(\"Chosen x values out of bound\")\n",
    "\n",
    "# Handling extrapolation\n",
    "i = np.searchsorted(x, xnew) - 1 \n",
    "idx1 = xnew <= x[0]\n",
    "i[idx1] = 0\n",
    "idx2 = xnew > x[idx_max]\n",
    "i[idx2] = idx_max - 1\n",
    "\n",
    "# Calculate the relative position within the interval\n",
    "dx = xnew - x[i]\n",
    "\n",
    "# Calculate the interpolated value\n",
    "# linear polynomial: a + b*dx \n",
    "const, slope = coefficients[i].T\n",
    "ynew = const + slope*dx\n",
    "\n",
    "if fill_value is not None:\n",
    "    ynew[idx1] = fill_value\n",
    "    ynew[idx2] = fill_value\n"
   ]
  },
  {
   "cell_type": "code",
   "execution_count": 189,
   "metadata": {},
   "outputs": [
    {
     "data": {
      "text/plain": [
       "array([   0.        ,    0.        ,    4.95501613,    0.        ,\n",
       "          0.        ,    0.        ,    0.        ,    0.        ,\n",
       "          0.        , 1035.45758448])"
      ]
     },
     "execution_count": 189,
     "metadata": {},
     "output_type": "execute_result"
    }
   ],
   "source": [
    "ynew"
   ]
  },
  {
   "cell_type": "code",
   "execution_count": null,
   "metadata": {},
   "outputs": [],
   "source": []
  },
  {
   "cell_type": "code",
   "execution_count": 194,
   "metadata": {},
   "outputs": [
    {
     "data": {
      "text/plain": [
       "[]"
      ]
     },
     "execution_count": 194,
     "metadata": {},
     "output_type": "execute_result"
    },
    {
     "data": {
      "image/png": "[encoded data removed]",
      "text/plain": [
       "<Figure size 400x400 with 1 Axes>"
      ]
     },
     "metadata": {},
     "output_type": "display_data"
    }
   ],
   "source": [
    "# test \n",
    "x_ = np.arange(1.0,10.0,1)\n",
    "y_ = np.exp(x_)\n",
    "\n",
    "# plot\n",
    "import matplotlib.pyplot as plt\n",
    "\n",
    "plt.figure(figsize=(4,4))\n",
    "plt.plot(x_, y_, label='data')\n",
    "plt.scatter(x_new, y_new, label='new', color='r')\n",
    "plt.legend()\n",
    "plt.plot()"
   ]
  },
  {
   "cell_type": "code",
   "execution_count": null,
   "metadata": {},
   "outputs": [],
   "source": [
    "signal1 = np.array()"
   ]
  },
  {
   "cell_type": "code",
   "execution_count": null,
   "metadata": {},
   "outputs": [],
   "source": [
    "def noise_weighted_inner_product(\n",
    "    signal1, signal2, psd, duration,\n",
    "):\n",
    "    \"\"\"\n",
    "    Noise weighted inner product of two time series data sets.\n",
    "\n",
    "    Parameters\n",
    "    ----------\n",
    "    signal1: `numpy.ndarray` or `float`\n",
    "        First series data set.\n",
    "    signal2: `numpy.ndarray` or `float`\n",
    "        Second series data set.\n",
    "    psd: `numpy.ndarray` or `float`\n",
    "        Power spectral density of the detector.\n",
    "    duration: `float`\n",
    "        Duration of the data.\n",
    "    \"\"\"\n",
    "\n",
    "    nwip_arr = np.conj(signal1) * signal2 / psd\n",
    "    return 4 / duration * np.sum(nwip_arr)"
   ]
  },
  {
   "cell_type": "code",
   "execution_count": null,
   "metadata": {},
   "outputs": [],
   "source": []
  },
  {
   "cell_type": "code",
   "execution_count": null,
   "metadata": {},
   "outputs": [],
   "source": []
  },
  {
   "cell_type": "code",
   "execution_count": null,
   "metadata": {},
   "outputs": [],
   "source": []
  },
  {
   "cell_type": "code",
   "execution_count": null,
   "metadata": {},
   "outputs": [],
   "source": []
  }
 ],
 "metadata": {
  "kernelspec": {
   "display_name": "ripple1",
   "language": "python",
   "name": "ripple1"
  },
  "language_info": {
   "codemirror_mode": {
    "name": "ipython",
    "version": 3
   },
   "file_extension": ".py",
   "mimetype": "text/x-python",
   "name": "python",
   "nbconvert_exporter": "python",
   "pygments_lexer": "ipython3",
   "version": "3.10.15"
  }
 },
 "nbformat": 4,
 "nbformat_minor": 2
}
