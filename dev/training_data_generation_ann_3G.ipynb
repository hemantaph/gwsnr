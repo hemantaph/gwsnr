{
 "cells": [
  {
   "cell_type": "markdown",
   "metadata": {},
   "source": [
    "# Training and testing dataset generation using LeR\n",
    "\n",
    "* `ler` package is used to generate training and testing datasets.\n",
    "\n",
    "* It assumes theoretically or observationally available astrophysical models.\n",
    "\n",
    "* Input parameters for ANN needs all the intrinsic and extrinsic parameters of the source.\n",
    "\n",
    "* Output parameters are the net optimal SNR of the given network of data.\n",
    "\n",
    "* The dataset is more accumulated between the SNR range 2-16; with the assumption that SNR threshold cut for detection around 8.\n",
    "\n",
    "* The dataset is generated for the network of 3 detectors, namely, LIGO A+ sensitivity, consmic exploler, and einsteins telescope.\n",
    "\n",
    "* Waveform model used is IMRPhenomXPHM with spin and precession effects.\n",
    "\n",
    "* ANN needs at-least 100000 samples for training and testing."
   ]
  },
  {
   "cell_type": "code",
   "execution_count": 3,
   "metadata": {},
   "outputs": [],
   "source": [
    "import numpy as np\n",
    "import matplotlib.pyplot as plt\n",
    "import contextlib\n",
    "from ler.rates import LeR\n",
    "from ler.utils import append_json, get_param_from_json"
   ]
  },
  {
   "cell_type": "markdown",
   "metadata": {},
   "source": [
    "## CE detector"
   ]
  },
  {
   "cell_type": "code",
   "execution_count": 20,
   "metadata": {},
   "outputs": [],
   "source": [
    "# initialize the LeR class\n",
    "ler = LeR(\n",
    "    npool=6,\n",
    "    z_max=10,  # becareful with this value\n",
    "    spin_zero=False,\n",
    "    spin_precession=True,\n",
    "    verbose=False,\n",
    "    mtot_max=500,\n",
    "    minimum_frequency=10,\n",
    "    waveform_approximant='IMRPhenomXPHM',\n",
    "    snr_type='inner_product',\n",
    "    ifos=['CE'],\n",
    ")"
   ]
  },
  {
   "cell_type": "code",
   "execution_count": 21,
   "metadata": {},
   "outputs": [
    {
     "name": "stdout",
     "output_type": "stream",
     "text": [
      "unlensed params will be store in ./ler_data/unlensed_param_CE.json\n",
      "chosen batch size = 50000 with total size = 200000\n",
      "There will be 4 batche(s)\n",
      "resuming from ./ler_data/unlensed_param_CE.json\n",
      "Batch no. 3\n",
      "sampling gw source params...\n",
      "calculating snrs...\n",
      "solving SNR with inner product\n"
     ]
    },
    {
     "name": "stderr",
     "output_type": "stream",
     "text": [
      "100%|████████████████████████████████████████████████████████| 49547/49547 [02:34<00:00, 319.89it/s]\n"
     ]
    },
    {
     "name": "stdout",
     "output_type": "stream",
     "text": [
      "Batch no. 4\n",
      "sampling gw source params...\n",
      "calculating snrs...\n",
      "solving SNR with inner product\n"
     ]
    },
    {
     "name": "stderr",
     "output_type": "stream",
     "text": [
      "100%|████████████████████████████████████████████████████████| 49529/49529 [02:37<00:00, 314.51it/s]\n"
     ]
    },
    {
     "name": "stdout",
     "output_type": "stream",
     "text": [
      "saving all unlensed_params in ./ler_data/unlensed_param_CE.json \n"
     ]
    }
   ],
   "source": [
    "ler.batch_size = 50000\n",
    "unlensed_param = ler.unlensed_cbc_statistics(size=200000, resume=True, output_jsonfile='unlensed_param_CE.json')"
   ]
  },
  {
   "cell_type": "code",
   "execution_count": 22,
   "metadata": {},
   "outputs": [
    {
     "data": {
      "image/png": "[encoded data removed]",
      "text/plain": [
       "<Figure size 400x400 with 1 Axes>"
      ]
     },
     "metadata": {},
     "output_type": "display_data"
    }
   ],
   "source": [
    "# plot snr distribution\n",
    "snr = unlensed_param['CE']\n",
    "snr = snr[(snr > 0) & (snr < 100)]\n",
    "plt.figure(figsize=(4, 4))\n",
    "plt.hist(snr, bins=30, density=True, alpha=0.5, color='b', histtype='step')\n",
    "plt.xlabel('SNR')\n",
    "plt.ylabel('Probability Density')\n",
    "plt.title('SNR distribution')\n",
    "plt.grid(alpha=0.4)\n",
    "plt.show()"
   ]
  },
  {
   "cell_type": "markdown",
   "metadata": {},
   "source": [
    "### with uniform inclination angle"
   ]
  },
  {
   "cell_type": "code",
   "execution_count": 1,
   "metadata": {},
   "outputs": [],
   "source": [
    "ler = LeR(\n",
    "    npool=6,\n",
    "    z_max=10,  # becareful with this value\n",
    "    spin_zero=False,\n",
    "    spin_precession=True,\n",
    "    verbose=False,\n",
    "    mtot_max=500,\n",
    "    minimum_frequency=10,\n",
    "    waveform_approximant='IMRPhenomXPHM',\n",
    "    snr_type='inner_product',\n",
    "    ifos=['CE'],\n",
    "    source_priors= {\n",
    "        'merger_rate_density': 'merger_rate_density_bbh_popI_II_oguri2018',\n",
    "        'source_frame_masses': 'binary_masses_uniform',\n",
    "        'zs': 'sampler_uniform',\n",
    "        'theta_jn': 'sampler_uniform'\n",
    "        },\n",
    "    source_priors_params= {\n",
    "        'merger_rate_density': {'R0': 2.39e-08, 'b2': 1.6, 'b3': 2.0, 'b4': 30}, \n",
    "        'source_frame_masses': {'m_min': 4.98, 'm_max': 112.5},\n",
    "        'zs': {'z_min': 0.01, 'z_max': 2},\n",
    "        'theta_jn': {'min_': 0.0, 'max_': np.pi}\n",
    "        },\n",
    ")"
   ]
  },
  {
   "cell_type": "code",
   "execution_count": 4,
   "metadata": {},
   "outputs": [
    {
     "name": "stderr",
     "output_type": "stream",
     "text": [
      "100%|████████████████████████████████████████████████████████| 34766/34766 [00:35<00:00, 990.33it/s]\n"
     ]
    },
    {
     "name": "stdout",
     "output_type": "stream",
     "text": [
      "Number of events snr<4: 35\n"
     ]
    },
    {
     "name": "stderr",
     "output_type": "stream",
     "text": [
      "  0%|                                                                     | 0/34677 [00:00<?, ?it/s]"
     ]
    },
    {
     "name": "stdout",
     "output_type": "stream",
     "text": [
      "Number of events: 19097\n"
     ]
    },
    {
     "name": "stderr",
     "output_type": "stream",
     "text": [
      "100%|████████████████████████████████████████████████████████| 34677/34677 [00:35<00:00, 985.11it/s]\n"
     ]
    },
    {
     "name": "stdout",
     "output_type": "stream",
     "text": [
      "Number of events snr<4: 28\n"
     ]
    },
    {
     "name": "stderr",
     "output_type": "stream",
     "text": [
      "  0%|                                                                     | 0/34457 [00:00<?, ?it/s]"
     ]
    },
    {
     "name": "stdout",
     "output_type": "stream",
     "text": [
      "Number of events: 19321\n"
     ]
    },
    {
     "name": "stderr",
     "output_type": "stream",
     "text": [
      "100%|████████████████████████████████████████████████████████| 34457/34457 [00:34<00:00, 998.58it/s]\n"
     ]
    },
    {
     "name": "stdout",
     "output_type": "stream",
     "text": [
      "Number of events snr<4: 32\n"
     ]
    },
    {
     "name": "stderr",
     "output_type": "stream",
     "text": [
      "  0%|                                                                     | 0/34694 [00:00<?, ?it/s]"
     ]
    },
    {
     "name": "stdout",
     "output_type": "stream",
     "text": [
      "Number of events: 19577\n"
     ]
    },
    {
     "name": "stderr",
     "output_type": "stream",
     "text": [
      "100%|████████████████████████████████████████████████████████| 34694/34694 [00:35<00:00, 979.01it/s]\n"
     ]
    },
    {
     "name": "stdout",
     "output_type": "stream",
     "text": [
      "Number of events snr<4: 27\n"
     ]
    },
    {
     "name": "stderr",
     "output_type": "stream",
     "text": [
      "  0%|                                                                     | 0/34885 [00:00<?, ?it/s]"
     ]
    },
    {
     "name": "stdout",
     "output_type": "stream",
     "text": [
      "Number of events: 19793\n"
     ]
    },
    {
     "name": "stderr",
     "output_type": "stream",
     "text": [
      "100%|███████████████████████████████████████████████████████| 34885/34885 [00:34<00:00, 1005.38it/s]\n"
     ]
    },
    {
     "name": "stdout",
     "output_type": "stream",
     "text": [
      "Number of events snr<4: 22\n"
     ]
    },
    {
     "name": "stderr",
     "output_type": "stream",
     "text": [
      "  0%|                                                                     | 0/34764 [00:00<?, ?it/s]"
     ]
    },
    {
     "name": "stdout",
     "output_type": "stream",
     "text": [
      "Number of events: 19969\n"
     ]
    },
    {
     "name": "stderr",
     "output_type": "stream",
     "text": [
      "100%|████████████████████████████████████████████████████████| 34764/34764 [00:35<00:00, 975.33it/s]\n"
     ]
    },
    {
     "name": "stdout",
     "output_type": "stream",
     "text": [
      "Number of events snr<4: 30\n"
     ]
    },
    {
     "name": "stderr",
     "output_type": "stream",
     "text": [
      "  0%|                                                                     | 0/34729 [00:00<?, ?it/s]"
     ]
    },
    {
     "name": "stdout",
     "output_type": "stream",
     "text": [
      "Number of events: 20209\n"
     ]
    },
    {
     "name": "stderr",
     "output_type": "stream",
     "text": [
      "100%|████████████████████████████████████████████████████████| 34729/34729 [00:34<00:00, 996.09it/s]\n"
     ]
    },
    {
     "name": "stdout",
     "output_type": "stream",
     "text": [
      "Number of events snr<4: 35\n"
     ]
    },
    {
     "name": "stderr",
     "output_type": "stream",
     "text": [
      "  0%|                                                                     | 0/35048 [00:00<?, ?it/s]"
     ]
    },
    {
     "name": "stdout",
     "output_type": "stream",
     "text": [
      "Number of events: 20489\n"
     ]
    },
    {
     "name": "stderr",
     "output_type": "stream",
     "text": [
      "100%|████████████████████████████████████████████████████████| 35048/35048 [00:35<00:00, 993.08it/s]\n"
     ]
    },
    {
     "name": "stdout",
     "output_type": "stream",
     "text": [
      "Number of events snr<4: 34\n"
     ]
    },
    {
     "name": "stderr",
     "output_type": "stream",
     "text": [
      "  0%|                                                                     | 0/34683 [00:00<?, ?it/s]"
     ]
    },
    {
     "name": "stdout",
     "output_type": "stream",
     "text": [
      "Number of events: 20761\n"
     ]
    },
    {
     "name": "stderr",
     "output_type": "stream",
     "text": [
      "100%|████████████████████████████████████████████████████████| 34683/34683 [00:35<00:00, 987.00it/s]\n"
     ]
    },
    {
     "name": "stdout",
     "output_type": "stream",
     "text": [
      "Number of events snr<4: 41\n"
     ]
    },
    {
     "name": "stderr",
     "output_type": "stream",
     "text": [
      "  0%|                                                                     | 0/34790 [00:00<?, ?it/s]"
     ]
    },
    {
     "name": "stdout",
     "output_type": "stream",
     "text": [
      "Number of events: 21085\n"
     ]
    },
    {
     "name": "stderr",
     "output_type": "stream",
     "text": [
      "100%|███████████████████████████████████████████████████████| 34790/34790 [00:34<00:00, 1018.32it/s]\n"
     ]
    },
    {
     "name": "stdout",
     "output_type": "stream",
     "text": [
      "Number of events snr<4: 29\n"
     ]
    },
    {
     "name": "stderr",
     "output_type": "stream",
     "text": [
      "  0%|                                                                     | 0/34782 [00:00<?, ?it/s]"
     ]
    },
    {
     "name": "stdout",
     "output_type": "stream",
     "text": [
      "Number of events: 21317\n"
     ]
    },
    {
     "name": "stderr",
     "output_type": "stream",
     "text": [
      "100%|███████████████████████████████████████████████████████| 34782/34782 [00:34<00:00, 1000.61it/s]\n"
     ]
    },
    {
     "name": "stdout",
     "output_type": "stream",
     "text": [
      "Number of events snr<4: 27\n"
     ]
    },
    {
     "name": "stderr",
     "output_type": "stream",
     "text": [
      "  0%|                                                                     | 0/34511 [00:00<?, ?it/s]"
     ]
    },
    {
     "name": "stdout",
     "output_type": "stream",
     "text": [
      "Number of events: 21533\n"
     ]
    },
    {
     "name": "stderr",
     "output_type": "stream",
     "text": [
      "  5%|██▌                                                      | 1582/34511 [00:05<01:47, 307.73it/s]\n"
     ]
    },
    {
     "ename": "KeyboardInterrupt",
     "evalue": "",
     "output_type": "error",
     "traceback": [
      "\u001b[0;31m---------------------------------------------------------------------------\u001b[0m",
      "\u001b[0;31mIndexError\u001b[0m                                Traceback (most recent call last)",
      "File \u001b[0;32m~/anaconda3/envs/ler/lib/python3.10/multiprocessing/pool.py:856\u001b[0m, in \u001b[0;36mIMapIterator.next\u001b[0;34m(self, timeout)\u001b[0m\n\u001b[1;32m    855\u001b[0m \u001b[38;5;28;01mtry\u001b[39;00m:\n\u001b[0;32m--> 856\u001b[0m     item \u001b[38;5;241m=\u001b[39m \u001b[38;5;28;43mself\u001b[39;49m\u001b[38;5;241;43m.\u001b[39;49m\u001b[43m_items\u001b[49m\u001b[38;5;241;43m.\u001b[39;49m\u001b[43mpopleft\u001b[49m\u001b[43m(\u001b[49m\u001b[43m)\u001b[49m\n\u001b[1;32m    857\u001b[0m \u001b[38;5;28;01mexcept\u001b[39;00m \u001b[38;5;167;01mIndexError\u001b[39;00m:\n",
      "\u001b[0;31mIndexError\u001b[0m: pop from an empty deque",
      "\nDuring handling of the above exception, another exception occurred:\n",
      "\u001b[0;31mKeyboardInterrupt\u001b[0m                         Traceback (most recent call last)",
      "Cell \u001b[0;32mIn[4], line 6\u001b[0m\n\u001b[1;32m      4\u001b[0m \u001b[38;5;28;01mwhile\u001b[39;00m len_\u001b[38;5;241m<\u001b[39m\u001b[38;5;241m100000\u001b[39m:\n\u001b[1;32m      5\u001b[0m     \u001b[38;5;28;01mwith\u001b[39;00m contextlib\u001b[38;5;241m.\u001b[39mredirect_stdout(\u001b[38;5;28;01mNone\u001b[39;00m):\n\u001b[0;32m----> 6\u001b[0m         unlensed_param \u001b[38;5;241m=\u001b[39m \u001b[43mler\u001b[49m\u001b[38;5;241;43m.\u001b[39;49m\u001b[43munlensed_cbc_statistics\u001b[49m\u001b[43m(\u001b[49m\u001b[43msize\u001b[49m\u001b[38;5;241;43m=\u001b[39;49m\u001b[38;5;241;43m50000\u001b[39;49m\u001b[43m,\u001b[49m\u001b[43m \u001b[49m\u001b[43mresume\u001b[49m\u001b[38;5;241;43m=\u001b[39;49m\u001b[38;5;28;43;01mFalse\u001b[39;49;00m\u001b[43m)\u001b[49m\n\u001b[1;32m      7\u001b[0m     snr \u001b[38;5;241m=\u001b[39m unlensed_param[\u001b[38;5;124m'\u001b[39m\u001b[38;5;124mCE\u001b[39m\u001b[38;5;124m'\u001b[39m]\n\u001b[1;32m      9\u001b[0m     idx1 \u001b[38;5;241m=\u001b[39m np\u001b[38;5;241m.\u001b[39margwhere((snr\u001b[38;5;241m>\u001b[39m\u001b[38;5;241m0\u001b[39m) \u001b[38;5;241m&\u001b[39m (snr\u001b[38;5;241m<\u001b[39m\u001b[38;5;241m4\u001b[39m))\u001b[38;5;241m.\u001b[39mflatten()\n",
      "File \u001b[0;32m~/phd/mypackages/ler/ler/rates/ler.py:920\u001b[0m, in \u001b[0;36mLeR.unlensed_cbc_statistics\u001b[0;34m(self, size, resume, save_batch, output_jsonfile)\u001b[0m\n\u001b[1;32m    917\u001b[0m \u001b[38;5;28;01melse\u001b[39;00m:\n\u001b[1;32m    918\u001b[0m     \u001b[38;5;28mself\u001b[39m\u001b[38;5;241m.\u001b[39mdict_buffer \u001b[38;5;241m=\u001b[39m \u001b[38;5;28;01mNone\u001b[39;00m\n\u001b[0;32m--> 920\u001b[0m \u001b[43mbatch_handler\u001b[49m\u001b[43m(\u001b[49m\n\u001b[1;32m    921\u001b[0m \u001b[43m    \u001b[49m\u001b[43msize\u001b[49m\u001b[38;5;241;43m=\u001b[39;49m\u001b[43msize\u001b[49m\u001b[43m,\u001b[49m\n\u001b[1;32m    922\u001b[0m \u001b[43m    \u001b[49m\u001b[43mbatch_size\u001b[49m\u001b[38;5;241;43m=\u001b[39;49m\u001b[38;5;28;43mself\u001b[39;49m\u001b[38;5;241;43m.\u001b[39;49m\u001b[43mbatch_size\u001b[49m\u001b[43m,\u001b[49m\n\u001b[1;32m    923\u001b[0m \u001b[43m    \u001b[49m\u001b[43msampling_routine\u001b[49m\u001b[38;5;241;43m=\u001b[39;49m\u001b[38;5;28;43mself\u001b[39;49m\u001b[38;5;241;43m.\u001b[39;49m\u001b[43munlensed_sampling_routine\u001b[49m\u001b[43m,\u001b[49m\n\u001b[1;32m    924\u001b[0m \u001b[43m    \u001b[49m\u001b[43moutput_jsonfile\u001b[49m\u001b[38;5;241;43m=\u001b[39;49m\u001b[43moutput_path\u001b[49m\u001b[43m,\u001b[49m\n\u001b[1;32m    925\u001b[0m \u001b[43m    \u001b[49m\u001b[43msave_batch\u001b[49m\u001b[38;5;241;43m=\u001b[39;49m\u001b[43msave_batch\u001b[49m\u001b[43m,\u001b[49m\n\u001b[1;32m    926\u001b[0m \u001b[43m    \u001b[49m\u001b[43mresume\u001b[49m\u001b[38;5;241;43m=\u001b[39;49m\u001b[43mresume\u001b[49m\u001b[43m,\u001b[49m\n\u001b[1;32m    927\u001b[0m \u001b[43m\u001b[49m\u001b[43m)\u001b[49m\n\u001b[1;32m    929\u001b[0m \u001b[38;5;28;01mif\u001b[39;00m save_batch:\n\u001b[1;32m    930\u001b[0m     unlensed_param \u001b[38;5;241m=\u001b[39m get_param_from_json(output_path)\n",
      "File \u001b[0;32m~/phd/mypackages/ler/ler/utils/utils.py:901\u001b[0m, in \u001b[0;36mbatch_handler\u001b[0;34m(size, batch_size, sampling_routine, output_jsonfile, save_batch, resume)\u001b[0m\n\u001b[1;32m    899\u001b[0m     \u001b[38;5;28mprint\u001b[39m(\u001b[38;5;124mf\u001b[39m\u001b[38;5;124m\"\u001b[39m\u001b[38;5;124mBatch no. \u001b[39m\u001b[38;5;132;01m{\u001b[39;00mtrack_batches\u001b[38;5;132;01m}\u001b[39;00m\u001b[38;5;124m\"\u001b[39m)\n\u001b[1;32m    900\u001b[0m     \u001b[38;5;66;03m# new first batch with the frac_batches\u001b[39;00m\n\u001b[0;32m--> 901\u001b[0m     \u001b[43msampling_routine\u001b[49m\u001b[43m(\u001b[49m\u001b[43msize\u001b[49m\u001b[38;5;241;43m=\u001b[39;49m\u001b[43mfrac_batches\u001b[49m\u001b[43m,\u001b[49m\u001b[43m \u001b[49m\u001b[43msave_batch\u001b[49m\u001b[38;5;241;43m=\u001b[39;49m\u001b[43msave_batch\u001b[49m\u001b[43m,\u001b[49m\u001b[43m \u001b[49m\u001b[43moutput_jsonfile\u001b[49m\u001b[38;5;241;43m=\u001b[39;49m\u001b[43moutput_jsonfile\u001b[49m\u001b[43m)\u001b[49m;\n\u001b[1;32m    902\u001b[0m \u001b[38;5;28;01melse\u001b[39;00m:\n\u001b[1;32m    903\u001b[0m     \u001b[38;5;66;03m# check where to resume from\u001b[39;00m\n\u001b[1;32m    904\u001b[0m     \u001b[38;5;28;01mtry\u001b[39;00m:\n",
      "File \u001b[0;32m~/phd/mypackages/ler/ler/rates/ler.py:975\u001b[0m, in \u001b[0;36mLeR.unlensed_sampling_routine\u001b[0;34m(self, size, output_jsonfile, resume, save_batch)\u001b[0m\n\u001b[1;32m    973\u001b[0m \u001b[38;5;28;01mif\u001b[39;00m \u001b[38;5;28mself\u001b[39m\u001b[38;5;241m.\u001b[39msnr:\n\u001b[1;32m    974\u001b[0m     \u001b[38;5;28mprint\u001b[39m(\u001b[38;5;124m\"\u001b[39m\u001b[38;5;124mcalculating snrs...\u001b[39m\u001b[38;5;124m\"\u001b[39m)\n\u001b[0;32m--> 975\u001b[0m     snrs \u001b[38;5;241m=\u001b[39m \u001b[38;5;28;43mself\u001b[39;49m\u001b[38;5;241;43m.\u001b[39;49m\u001b[43msnr\u001b[49m\u001b[43m(\u001b[49m\u001b[43mgw_param_dict\u001b[49m\u001b[38;5;241;43m=\u001b[39;49m\u001b[43munlensed_param\u001b[49m\u001b[43m)\u001b[49m\n\u001b[1;32m    976\u001b[0m     unlensed_param\u001b[38;5;241m.\u001b[39mupdate(snrs)\n\u001b[1;32m    977\u001b[0m \u001b[38;5;28;01melif\u001b[39;00m \u001b[38;5;28mself\u001b[39m\u001b[38;5;241m.\u001b[39mpdet:\n",
      "File \u001b[0;32m~/phd/mypackages/gwsnr/gwsnr/gwsnr.py:673\u001b[0m, in \u001b[0;36mGWSNR.snr\u001b[0;34m(self, mass_1, mass_2, luminosity_distance, theta_jn, psi, phase, geocent_time, ra, dec, a_1, a_2, tilt_1, tilt_2, phi_12, phi_jl, gw_param_dict, output_jsonfile)\u001b[0m\n\u001b[1;32m    670\u001b[0m \u001b[38;5;28;01melif\u001b[39;00m \u001b[38;5;28mself\u001b[39m\u001b[38;5;241m.\u001b[39msnr_type \u001b[38;5;241m==\u001b[39m \u001b[38;5;124m\"\u001b[39m\u001b[38;5;124minner_product\u001b[39m\u001b[38;5;124m\"\u001b[39m:\n\u001b[1;32m    671\u001b[0m     \u001b[38;5;28mprint\u001b[39m(\u001b[38;5;124m\"\u001b[39m\u001b[38;5;124msolving SNR with inner product\u001b[39m\u001b[38;5;124m\"\u001b[39m)\n\u001b[0;32m--> 673\u001b[0m     snr_dict \u001b[38;5;241m=\u001b[39m \u001b[38;5;28;43mself\u001b[39;49m\u001b[38;5;241;43m.\u001b[39;49m\u001b[43mcompute_bilby_snr\u001b[49m\u001b[43m(\u001b[49m\n\u001b[1;32m    674\u001b[0m \u001b[43m        \u001b[49m\u001b[43mmass_1\u001b[49m\u001b[43m,\u001b[49m\n\u001b[1;32m    675\u001b[0m \u001b[43m        \u001b[49m\u001b[43mmass_2\u001b[49m\u001b[43m,\u001b[49m\n\u001b[1;32m    676\u001b[0m \u001b[43m        \u001b[49m\u001b[43mluminosity_distance\u001b[49m\u001b[38;5;241;43m=\u001b[39;49m\u001b[43mluminosity_distance\u001b[49m\u001b[43m,\u001b[49m\n\u001b[1;32m    677\u001b[0m \u001b[43m        \u001b[49m\u001b[43mtheta_jn\u001b[49m\u001b[38;5;241;43m=\u001b[39;49m\u001b[43mtheta_jn\u001b[49m\u001b[43m,\u001b[49m\n\u001b[1;32m    678\u001b[0m \u001b[43m        \u001b[49m\u001b[43mpsi\u001b[49m\u001b[38;5;241;43m=\u001b[39;49m\u001b[43mpsi\u001b[49m\u001b[43m,\u001b[49m\n\u001b[1;32m    679\u001b[0m \u001b[43m        \u001b[49m\u001b[43mphase\u001b[49m\u001b[38;5;241;43m=\u001b[39;49m\u001b[43mphase\u001b[49m\u001b[43m,\u001b[49m\n\u001b[1;32m    680\u001b[0m \u001b[43m        \u001b[49m\u001b[43mgeocent_time\u001b[49m\u001b[38;5;241;43m=\u001b[39;49m\u001b[43mgeocent_time\u001b[49m\u001b[43m,\u001b[49m\n\u001b[1;32m    681\u001b[0m \u001b[43m        \u001b[49m\u001b[43mra\u001b[49m\u001b[38;5;241;43m=\u001b[39;49m\u001b[43mra\u001b[49m\u001b[43m,\u001b[49m\n\u001b[1;32m    682\u001b[0m \u001b[43m        \u001b[49m\u001b[43mdec\u001b[49m\u001b[38;5;241;43m=\u001b[39;49m\u001b[43mdec\u001b[49m\u001b[43m,\u001b[49m\n\u001b[1;32m    683\u001b[0m \u001b[43m        \u001b[49m\u001b[43ma_1\u001b[49m\u001b[38;5;241;43m=\u001b[39;49m\u001b[43ma_1\u001b[49m\u001b[43m,\u001b[49m\n\u001b[1;32m    684\u001b[0m \u001b[43m        \u001b[49m\u001b[43ma_2\u001b[49m\u001b[38;5;241;43m=\u001b[39;49m\u001b[43ma_2\u001b[49m\u001b[43m,\u001b[49m\n\u001b[1;32m    685\u001b[0m \u001b[43m        \u001b[49m\u001b[43mtilt_1\u001b[49m\u001b[38;5;241;43m=\u001b[39;49m\u001b[43mtilt_1\u001b[49m\u001b[43m,\u001b[49m\n\u001b[1;32m    686\u001b[0m \u001b[43m        \u001b[49m\u001b[43mtilt_2\u001b[49m\u001b[38;5;241;43m=\u001b[39;49m\u001b[43mtilt_2\u001b[49m\u001b[43m,\u001b[49m\n\u001b[1;32m    687\u001b[0m \u001b[43m        \u001b[49m\u001b[43mphi_12\u001b[49m\u001b[38;5;241;43m=\u001b[39;49m\u001b[43mphi_12\u001b[49m\u001b[43m,\u001b[49m\n\u001b[1;32m    688\u001b[0m \u001b[43m        \u001b[49m\u001b[43mphi_jl\u001b[49m\u001b[38;5;241;43m=\u001b[39;49m\u001b[43mphi_jl\u001b[49m\u001b[43m,\u001b[49m\n\u001b[1;32m    689\u001b[0m \u001b[43m        \u001b[49m\u001b[43moutput_jsonfile\u001b[49m\u001b[38;5;241;43m=\u001b[39;49m\u001b[43moutput_jsonfile\u001b[49m\u001b[43m,\u001b[49m\n\u001b[1;32m    690\u001b[0m \u001b[43m    \u001b[49m\u001b[43m)\u001b[49m\n\u001b[1;32m    692\u001b[0m \u001b[38;5;28;01melif\u001b[39;00m \u001b[38;5;28mself\u001b[39m\u001b[38;5;241m.\u001b[39msnr_type \u001b[38;5;241m==\u001b[39m \u001b[38;5;124m\"\u001b[39m\u001b[38;5;124mann\u001b[39m\u001b[38;5;124m\"\u001b[39m:\n\u001b[1;32m    693\u001b[0m     snr_dict \u001b[38;5;241m=\u001b[39m \u001b[38;5;28mself\u001b[39m\u001b[38;5;241m.\u001b[39msnr_with_ann(\n\u001b[1;32m    694\u001b[0m         mass_1,\n\u001b[1;32m    695\u001b[0m         mass_2,\n\u001b[0;32m   (...)\u001b[0m\n\u001b[1;32m    703\u001b[0m         output_jsonfile\u001b[38;5;241m=\u001b[39moutput_jsonfile,\n\u001b[1;32m    704\u001b[0m     )\n",
      "File \u001b[0;32m~/phd/mypackages/gwsnr/gwsnr/gwsnr.py:1375\u001b[0m, in \u001b[0;36mGWSNR.compute_bilby_snr\u001b[0;34m(self, mass_1, mass_2, luminosity_distance, theta_jn, psi, phase, geocent_time, ra, dec, a_1, a_2, tilt_1, tilt_2, phi_12, phi_jl, gw_param_dict, output_jsonfile)\u001b[0m\n\u001b[1;32m   1371\u001b[0m \u001b[38;5;28;01mwith\u001b[39;00m Pool(processes\u001b[38;5;241m=\u001b[39mnpool) \u001b[38;5;28;01mas\u001b[39;00m pool:\n\u001b[1;32m   1372\u001b[0m     \u001b[38;5;66;03m# call the same function with different data in parallel\u001b[39;00m\n\u001b[1;32m   1373\u001b[0m     \u001b[38;5;66;03m# imap->retain order in the list, while map->doesn't\u001b[39;00m\n\u001b[1;32m   1374\u001b[0m     \u001b[38;5;28;01mif\u001b[39;00m \u001b[38;5;28mself\u001b[39m\u001b[38;5;241m.\u001b[39mmultiprocessing_verbose:\n\u001b[0;32m-> 1375\u001b[0m         \u001b[38;5;28;01mfor\u001b[39;00m result \u001b[38;5;129;01min\u001b[39;00m tqdm(\n\u001b[1;32m   1376\u001b[0m             pool\u001b[38;5;241m.\u001b[39mimap_unordered(noise_weighted_inner_prod, input_arguments),\n\u001b[1;32m   1377\u001b[0m             total\u001b[38;5;241m=\u001b[39m\u001b[38;5;28mlen\u001b[39m(input_arguments),\n\u001b[1;32m   1378\u001b[0m             ncols\u001b[38;5;241m=\u001b[39m\u001b[38;5;241m100\u001b[39m,\n\u001b[1;32m   1379\u001b[0m         ):\n\u001b[1;32m   1380\u001b[0m             \u001b[38;5;66;03m# but, np.shape(hp_inner_hp_i) = (size1, len(num_det))\u001b[39;00m\n\u001b[1;32m   1381\u001b[0m             hp_inner_hp_i, hc_inner_hc_i, iter_i \u001b[38;5;241m=\u001b[39m result\n\u001b[1;32m   1382\u001b[0m             hp_inner_hp[:, iter_i] \u001b[38;5;241m=\u001b[39m hp_inner_hp_i\n",
      "File \u001b[0;32m~/anaconda3/envs/ler/lib/python3.10/site-packages/tqdm/std.py:1181\u001b[0m, in \u001b[0;36mtqdm.__iter__\u001b[0;34m(self)\u001b[0m\n\u001b[1;32m   1178\u001b[0m time \u001b[38;5;241m=\u001b[39m \u001b[38;5;28mself\u001b[39m\u001b[38;5;241m.\u001b[39m_time\n\u001b[1;32m   1180\u001b[0m \u001b[38;5;28;01mtry\u001b[39;00m:\n\u001b[0;32m-> 1181\u001b[0m     \u001b[38;5;28;01mfor\u001b[39;00m obj \u001b[38;5;129;01min\u001b[39;00m iterable:\n\u001b[1;32m   1182\u001b[0m         \u001b[38;5;28;01myield\u001b[39;00m obj\n\u001b[1;32m   1183\u001b[0m         \u001b[38;5;66;03m# Update and possibly print the progressbar.\u001b[39;00m\n\u001b[1;32m   1184\u001b[0m         \u001b[38;5;66;03m# Note: does not call self.update(1) for speed optimisation.\u001b[39;00m\n",
      "File \u001b[0;32m~/anaconda3/envs/ler/lib/python3.10/multiprocessing/pool.py:861\u001b[0m, in \u001b[0;36mIMapIterator.next\u001b[0;34m(self, timeout)\u001b[0m\n\u001b[1;32m    859\u001b[0m     \u001b[38;5;28mself\u001b[39m\u001b[38;5;241m.\u001b[39m_pool \u001b[38;5;241m=\u001b[39m \u001b[38;5;28;01mNone\u001b[39;00m\n\u001b[1;32m    860\u001b[0m     \u001b[38;5;28;01mraise\u001b[39;00m \u001b[38;5;167;01mStopIteration\u001b[39;00m \u001b[38;5;28;01mfrom\u001b[39;00m \u001b[38;5;28;01mNone\u001b[39;00m\n\u001b[0;32m--> 861\u001b[0m \u001b[38;5;28;43mself\u001b[39;49m\u001b[38;5;241;43m.\u001b[39;49m\u001b[43m_cond\u001b[49m\u001b[38;5;241;43m.\u001b[39;49m\u001b[43mwait\u001b[49m\u001b[43m(\u001b[49m\u001b[43mtimeout\u001b[49m\u001b[43m)\u001b[49m\n\u001b[1;32m    862\u001b[0m \u001b[38;5;28;01mtry\u001b[39;00m:\n\u001b[1;32m    863\u001b[0m     item \u001b[38;5;241m=\u001b[39m \u001b[38;5;28mself\u001b[39m\u001b[38;5;241m.\u001b[39m_items\u001b[38;5;241m.\u001b[39mpopleft()\n",
      "File \u001b[0;32m~/anaconda3/envs/ler/lib/python3.10/threading.py:320\u001b[0m, in \u001b[0;36mCondition.wait\u001b[0;34m(self, timeout)\u001b[0m\n\u001b[1;32m    318\u001b[0m \u001b[38;5;28;01mtry\u001b[39;00m:    \u001b[38;5;66;03m# restore state no matter what (e.g., KeyboardInterrupt)\u001b[39;00m\n\u001b[1;32m    319\u001b[0m     \u001b[38;5;28;01mif\u001b[39;00m timeout \u001b[38;5;129;01mis\u001b[39;00m \u001b[38;5;28;01mNone\u001b[39;00m:\n\u001b[0;32m--> 320\u001b[0m         \u001b[43mwaiter\u001b[49m\u001b[38;5;241;43m.\u001b[39;49m\u001b[43macquire\u001b[49m\u001b[43m(\u001b[49m\u001b[43m)\u001b[49m\n\u001b[1;32m    321\u001b[0m         gotit \u001b[38;5;241m=\u001b[39m \u001b[38;5;28;01mTrue\u001b[39;00m\n\u001b[1;32m    322\u001b[0m     \u001b[38;5;28;01melse\u001b[39;00m:\n",
      "\u001b[0;31mKeyboardInterrupt\u001b[0m: "
     ]
    }
   ],
   "source": [
    "ler.batch_size = 50000\n",
    "\n",
    "len_ = 0\n",
    "while len_<100000:\n",
    "    with contextlib.redirect_stdout(None):\n",
    "        unlensed_param = ler.unlensed_cbc_statistics(size=50000, resume=False)\n",
    "    snr = unlensed_param['CE']\n",
    "\n",
    "    idx1 = np.argwhere((snr>0) & (snr<4)).flatten()\n",
    "    idx3 = np.argwhere((snr>=4) & (snr<6)).flatten()\n",
    "    idx4 = np.argwhere((snr>=6) & (snr<8)).flatten()\n",
    "    idx5 = np.argwhere((snr>=8) & (snr<10)).flatten()\n",
    "    idx6 = np.argwhere((snr>=10) & (snr<12)).flatten()\n",
    "    idx7 = np.argwhere((snr>=12) & (snr<14)).flatten()\n",
    "    idx8 = np.argwhere((snr>=14) & (snr<16)).flatten()\n",
    "    idx16 = np.argwhere(snr>=16).flatten()\n",
    "\n",
    "    unlensed_param1 = {}\n",
    "    # unlensed_param2 = {}\n",
    "    unlensed_param3 = {}\n",
    "    unlensed_param4 = {}\n",
    "    unlensed_param5 = {}\n",
    "    unlensed_param6 = {}\n",
    "    unlensed_param7 = {}\n",
    "    unlensed_param8 = {}\n",
    "    unlensed_param16 = {}\n",
    "    unlensed_param_joint = {}\n",
    "\n",
    "    len_idx16 = len(idx1)\n",
    "    print(f\"Number of events snr<4: {len_idx16}\")\n",
    "\n",
    "    for key, value in unlensed_param.items():\n",
    "        if len(idx3)>len_idx16:\n",
    "            unlensed_param3[key] = value[idx3][:len_idx16]\n",
    "        else:\n",
    "            unlensed_param3[key] = value[idx3]\n",
    "        if len(idx4)>len_idx16:\n",
    "            unlensed_param4[key] = value[idx4][:len_idx16]\n",
    "        else:\n",
    "            unlensed_param4[key] = value[idx4]\n",
    "        if len(idx5)>len_idx16:\n",
    "            unlensed_param5[key] = value[idx5][:len_idx16]\n",
    "        else:\n",
    "            unlensed_param5[key] = value[idx5]\n",
    "        if len(idx6)>len_idx16:\n",
    "            unlensed_param6[key] = value[idx6][:len_idx16]\n",
    "        else:\n",
    "            unlensed_param6[key] = value[idx6]\n",
    "        if len(idx7)>len_idx16:\n",
    "            unlensed_param7[key] = value[idx7][:len_idx16]\n",
    "        else:\n",
    "            unlensed_param7[key] = value[idx7]\n",
    "        if len(idx8)>len_idx16:\n",
    "            unlensed_param8[key] = value[idx8][:len_idx16]\n",
    "        else:\n",
    "            unlensed_param8[key] = value[idx8]\n",
    "        if len(idx16)>len_idx16:\n",
    "            unlensed_param16[key] = value[idx16][:len_idx16]\n",
    "        else:\n",
    "            unlensed_param16[key] = value[idx16]\n",
    "\n",
    "        unlensed_param1[key] = value[idx1]\n",
    "\n",
    "        unlensed_param_joint[key] = np.concatenate([unlensed_param1[key], unlensed_param3[key], unlensed_param4[key], unlensed_param5[key], unlensed_param6[key], unlensed_param7[key], unlensed_param8[key], unlensed_param16[key]])\n",
    "\n",
    "    append_json(\"ler_data/unlensed_param_CE_uniform.json\", unlensed_param_joint, replace=False)\n",
    "    unlensed_params = get_param_from_json(\"ler_data/unlensed_param_CE_uniform.json\")\n",
    "    len_ = len(np.array(unlensed_params[\"CE\"]))\n",
    "\n",
    "    print(f\"Number of events: {len_}\")"
   ]
  },
  {
   "cell_type": "code",
   "execution_count": 5,
   "metadata": {},
   "outputs": [
    {
     "data": {
      "image/png": "[encoded data removed]",
      "text/plain": [
       "<Figure size 400x400 with 1 Axes>"
      ]
     },
     "metadata": {},
     "output_type": "display_data"
    }
   ],
   "source": [
    "unlensed_param = get_param_from_json(\"ler_data/unlensed_param_CE_uniform\")\n",
    "# plot snr distribution\n",
    "snr = unlensed_param['CE']\n",
    "snr = snr[(snr > 0) & (snr < 20)]\n",
    "plt.figure(figsize=(4, 4))\n",
    "plt.hist(snr, bins=30, density=True, alpha=0.5, color='b', histtype='step')\n",
    "plt.xlabel('SNR')\n",
    "plt.ylabel('Probability Density')\n",
    "plt.title('SNR distribution')\n",
    "plt.grid(alpha=0.4)\n",
    "plt.show()"
   ]
  },
  {
   "cell_type": "markdown",
   "metadata": {},
   "source": [
    "### Focus on samples between snr 4 and 16"
   ]
  },
  {
   "cell_type": "code",
   "execution_count": null,
   "metadata": {},
   "outputs": [],
   "source": [
    "# uncomment the following line to generate the data\n",
    "\n",
    "# This is data collection based of 'optimal snr net' range\n",
    " \n",
    "ler.batch_size = 50000\n",
    "\n",
    "len_ = 0\n",
    "while len_<200000:\n",
    "    with contextlib.redirect_stdout(None):\n",
    "        unlensed_param = ler.unlensed_cbc_statistics(size=50000, resume=False)\n",
    "    snr = unlensed_param['CE']\n",
    "\n",
    "    idx1 = np.argwhere((snr>0) & (snr<4)).flatten()\n",
    "    idx3 = np.argwhere((snr>=4) & (snr<6)).flatten()\n",
    "    idx4 = np.argwhere((snr>=6) & (snr<8)).flatten()\n",
    "    idx5 = np.argwhere((snr>=8) & (snr<10)).flatten()\n",
    "    idx6 = np.argwhere((snr>=10) & (snr<12)).flatten()\n",
    "    idx7 = np.argwhere((snr>=12) & (snr<14)).flatten()\n",
    "    idx8 = np.argwhere((snr>=14) & (snr<16)).flatten()\n",
    "    idx16 = np.argwhere(snr>=16).flatten()\n",
    "\n",
    "    unlensed_param1 = {}\n",
    "    # unlensed_param2 = {}\n",
    "    unlensed_param3 = {}\n",
    "    unlensed_param4 = {}\n",
    "    unlensed_param5 = {}\n",
    "    unlensed_param6 = {}\n",
    "    unlensed_param7 = {}\n",
    "    unlensed_param8 = {}\n",
    "    unlensed_param16 = {}\n",
    "    unlensed_param_joint = {}\n",
    "\n",
    "    len_idx16 = len(idx1)\n",
    "    print(f\"Number of events snr<4: {len_idx16}\")\n",
    "\n",
    "    for key, value in unlensed_param.items():\n",
    "        # if len(idx1)>len_idx16:\n",
    "        #     unlensed_param1[key] = value[idx1][:len_idx16]\n",
    "        # else:\n",
    "        #     unlensed_param1[key] = value[idx1]\n",
    "        # if len(idx2)>len_idx16:\n",
    "        #     unlensed_param2[key] = value[idx2][:len_idx16]\n",
    "        # else:\n",
    "        #     unlensed_param2[key] = value[idx2]\n",
    "        if len(idx3)>len_idx16:\n",
    "            unlensed_param3[key] = value[idx3][:len_idx16]\n",
    "        else:\n",
    "            unlensed_param3[key] = value[idx3]\n",
    "        if len(idx4)>len_idx16:\n",
    "            unlensed_param4[key] = value[idx4][:len_idx16]\n",
    "        else:\n",
    "            unlensed_param4[key] = value[idx4]\n",
    "        if len(idx5)>len_idx16:\n",
    "            unlensed_param5[key] = value[idx5][:len_idx16]\n",
    "        else:\n",
    "            unlensed_param5[key] = value[idx5]\n",
    "        if len(idx6)>len_idx16:\n",
    "            unlensed_param6[key] = value[idx6][:len_idx16]\n",
    "        else:\n",
    "            unlensed_param6[key] = value[idx6]\n",
    "        if len(idx7)>len_idx16:\n",
    "            unlensed_param7[key] = value[idx7][:len_idx16]\n",
    "        else:\n",
    "            unlensed_param7[key] = value[idx7]\n",
    "        if len(idx8)>len_idx16:\n",
    "            unlensed_param8[key] = value[idx8][:len_idx16]\n",
    "        else:\n",
    "            unlensed_param8[key] = value[idx8]\n",
    "        if len(idx16)>len_idx16:\n",
    "            unlensed_param16[key] = value[idx16][:len_idx16]\n",
    "        else:\n",
    "            unlensed_param16[key] = value[idx16]\n",
    "\n",
    "        unlensed_param1[key] = value[idx1]\n",
    "\n",
    "        unlensed_param_joint[key] = np.concatenate([unlensed_param1[key], unlensed_param3[key], unlensed_param4[key], unlensed_param5[key], unlensed_param6[key], unlensed_param7[key], unlensed_param8[key], unlensed_param16[key]])\n",
    "\n",
    "    append_json(\"ler_data/joint_new_optsnr_CE.json\", unlensed_param_joint, replace=False)\n",
    "    unlensed_params = get_param_from_json(\"ler_data/joint_new_optsnr_CE.json\")\n",
    "    len_ = len(np.array(unlensed_params[\"CE\"]))\n",
    "\n",
    "    print(f\"Number of events: {len_}\")"
   ]
  },
  {
   "cell_type": "code",
   "execution_count": 8,
   "metadata": {},
   "outputs": [],
   "source": [
    "from ler.utils import add_dict_values\n",
    "# get params\n",
    "unlensed_params1 = get_param_from_json(\"ler_data/unlensed_param_CE.json\")\n",
    "unlensed_params2 = get_param_from_json(\"ler_data/joint_new_optsnr_CE.json\")\n",
    "unlensed_params3 = get_param_from_json(\"ler_data/unlensed_param_CE_uniform.json\")\n",
    "unlensed_params = add_dict_values(unlensed_params1, unlensed_params2)\n",
    "unlensed_params = add_dict_values(unlensed_params, unlensed_params3)\n",
    "del unlensed_params1, unlensed_params2, unlensed_params3"
   ]
  },
  {
   "cell_type": "code",
   "execution_count": 9,
   "metadata": {},
   "outputs": [
    {
     "name": "stdout",
     "output_type": "stream",
     "text": [
      "Number of events: 424789\n"
     ]
    },
    {
     "data": {
      "image/png": "[encoded data removed]",
      "text/plain": [
       "<Figure size 400x400 with 1 Axes>"
      ]
     },
     "metadata": {},
     "output_type": "display_data"
    }
   ],
   "source": [
    "# visualize the data\n",
    "import matplotlib.pyplot as plt\n",
    "#unlensed_params = get_param_from_json(\"joint_new_optsnr.json\")\n",
    "test = np.array(unlensed_params['CE'])\n",
    "print(f\"Number of events: {len(test)}\")\n",
    "test = test[(test<20) & (test>0)]\n",
    "plt.figure(figsize=(4,4))\n",
    "plt.hist(test, bins=30, alpha=0.6, histtype='step', density=True)\n",
    "plt.xlim(0,20)\n",
    "plt.grid(alpha=0.4)\n",
    "plt.show()"
   ]
  },
  {
   "cell_type": "code",
   "execution_count": null,
   "metadata": {},
   "outputs": [],
   "source": []
  },
  {
   "cell_type": "code",
   "execution_count": 36,
   "metadata": {},
   "outputs": [
    {
     "data": {
      "image/png": "[encoded data removed]",
      "text/plain": [
       "<Figure size 1200x800 with 1 Axes>"
      ]
     },
     "metadata": {},
     "output_type": "display_data"
    }
   ],
   "source": [
    "ET1 = unlensed_param['ET1']\n",
    "ET2 = unlensed_param['ET2']\n",
    "ET3 = unlensed_param['ET3']\n",
    "ET = np.sqrt(ET1**2 + ET2**2 + ET3**2)\n",
    "idx = ET < 50\n",
    "ET = ET[idx]\n",
    "CE = unlensed_param['CE']\n",
    "idx = CE < 50\n",
    "CE = CE[idx]    \n",
    "\n",
    "# plt hist\n",
    "plt.figure(figsize=(12, 8))\n",
    "plt.hist(ET, bins=100, alpha=0.5, label='ET', density=True)\n",
    "plt.hist(CE, bins=100, alpha=0.5, label='CE', density=True)\n",
    "plt.xlim(0, 50)\n",
    "plt.legend()\n",
    "plt.show()\n"
   ]
  },
  {
   "cell_type": "markdown",
   "metadata": {},
   "source": [
    "## ET"
   ]
  },
  {
   "cell_type": "code",
   "execution_count": 43,
   "metadata": {},
   "outputs": [
    {
     "name": "stdout",
     "output_type": "stream",
     "text": [
      "unlensed params will be store in ./ler_data/unlensed_param_ET.json\n",
      "chosen batch size = 100000 with total size = 400000\n",
      "There will be 4 batche(s)\n",
      "resuming from ./ler_data/unlensed_param_ET.json\n",
      "Batch no. 3\n",
      "sampling gw source params...\n",
      "calculating snrs...\n",
      "solving SNR with inner product\n"
     ]
    },
    {
     "name": "stderr",
     "output_type": "stream",
     "text": [
      "100%|████████████████████████████████████████████████████████| 99032/99032 [05:39<00:00, 292.12it/s]\n"
     ]
    },
    {
     "name": "stdout",
     "output_type": "stream",
     "text": [
      "Batch no. 4\n",
      "sampling gw source params...\n",
      "calculating snrs...\n",
      "solving SNR with inner product\n"
     ]
    },
    {
     "name": "stderr",
     "output_type": "stream",
     "text": [
      "100%|████████████████████████████████████████████████████████| 99127/99127 [05:36<00:00, 294.87it/s]\n"
     ]
    },
    {
     "name": "stdout",
     "output_type": "stream",
     "text": [
      "saving all unlensed_params in ./ler_data/unlensed_param_ET.json \n"
     ]
    }
   ],
   "source": [
    "ler.batch_size = 100000\n",
    "unlensed_param = ler.unlensed_cbc_statistics(size=400000, resume=True, output_jsonfile='unlensed_param_ET.json') "
   ]
  },
  {
   "cell_type": "code",
   "execution_count": 56,
   "metadata": {},
   "outputs": [
    {
     "data": {
      "image/png": "[encoded data removed]",
      "text/plain": [
       "<Figure size 400x400 with 1 Axes>"
      ]
     },
     "metadata": {},
     "output_type": "display_data"
    }
   ],
   "source": [
    "# read the json file\n",
    "unlensed_param = get_param_from_json('ler_data/unlensed_param_ET.json')\n",
    "\n",
    "ET1 = unlensed_param['ET1']\n",
    "ET2 = unlensed_param['ET2']\n",
    "ET3 = unlensed_param['ET3']\n",
    "ET = np.sqrt(ET1**2 + ET2**2 + ET3**2)\n",
    "idx = (ET < 20) & (ET > 0)\n",
    "ET = ET[idx]\n",
    "\n",
    "# plt hist\n",
    "plt.figure(figsize=(4, 4))\n",
    "plt.hist(ET, bins=100, alpha=0.5, label='ET', density=True)\n",
    "plt.xlim(0, 20)\n",
    "plt.legend()\n",
    "plt.show()\n"
   ]
  },
  {
   "cell_type": "code",
   "execution_count": 50,
   "metadata": {},
   "outputs": [],
   "source": [
    "# initialize the LeR class\n",
    "ler = LeR(\n",
    "    npool=8,\n",
    "    z_max=10,  # becareful with this value\n",
    "    spin_zero=False,\n",
    "    spin_precession=True,\n",
    "    verbose=False,\n",
    "    mtot_max=500,\n",
    "    minimum_frequency=10,\n",
    "    waveform_approximant='IMRPhenomXPHM',\n",
    "    snr_type='inner_product',\n",
    "    ifos=['ET', 'CE'],\n",
    "    source_priors= {\n",
    "        'source_frame_masses': 'binary_masses_uniform',\n",
    "        'zs': 'sampler_uniform',\n",
    "        'theta_jn': 'sampler_uniform'\n",
    "        },\n",
    "    source_priors_params= {\n",
    "        'source_frame_masses': {'m_min': 4.98, 'm_max': 112.5},\n",
    "        'zs': {'z_min': 0.001, 'z_max': 10},\n",
    "        'theta_jn': {'min_': 0.0, 'max_': np.pi}\n",
    "        },\n",
    ")"
   ]
  },
  {
   "cell_type": "code",
   "execution_count": 52,
   "metadata": {},
   "outputs": [
    {
     "name": "stdout",
     "output_type": "stream",
     "text": [
      "unlensed params will be store in ./ler_data/unlensed_param_ET_uniform.json\n",
      "chosen batch size = 10000 with total size = 10000\n",
      "There will be 1 batche(s)\n",
      "Batch no. 1\n",
      "sampling gw source params...\n",
      "calculating snrs...\n",
      "solving SNR with inner product\n"
     ]
    },
    {
     "name": "stderr",
     "output_type": "stream",
     "text": [
      "100%|██████████████████████████████████████████████████████████| 6885/6885 [00:11<00:00, 588.75it/s]\n"
     ]
    },
    {
     "name": "stdout",
     "output_type": "stream",
     "text": [
      "saving all unlensed_params in ./ler_data/unlensed_param_ET_uniform.json \n"
     ]
    }
   ],
   "source": [
    "ler.batch_size = 10000\n",
    "unlensed_param = ler.unlensed_cbc_statistics(size=10000, resume=False, output_jsonfile='unlensed_param_ET_uniform.json') "
   ]
  },
  {
   "cell_type": "code",
   "execution_count": 55,
   "metadata": {},
   "outputs": [
    {
     "data": {
      "image/png": "[encoded data removed]",
      "text/plain": [
       "<Figure size 400x400 with 1 Axes>"
      ]
     },
     "metadata": {},
     "output_type": "display_data"
    }
   ],
   "source": [
    "# read the json file\n",
    "unlensed_param = get_param_from_json('ler_data/unlensed_param_ET_uniform.json')\n",
    "\n",
    "ET1 = unlensed_param['ET1']\n",
    "ET2 = unlensed_param['ET2']\n",
    "ET3 = unlensed_param['ET3']\n",
    "ET = np.sqrt(ET1**2 + ET2**2 + ET3**2)\n",
    "idx = (ET < 20) & (ET > 0)\n",
    "ET = ET[idx]\n",
    "\n",
    "# plt hist\n",
    "plt.figure(figsize=(4, 4))\n",
    "plt.hist(ET, bins=100, alpha=0.5, label='ET', density=True)\n",
    "plt.xlim(0, 20)\n",
    "plt.legend()\n",
    "plt.show()"
   ]
  },
  {
   "cell_type": "code",
   "execution_count": null,
   "metadata": {},
   "outputs": [],
   "source": []
  },
  {
   "cell_type": "code",
   "execution_count": 3,
   "metadata": {},
   "outputs": [],
   "source": [
    "ler = LeR(\n",
    "    npool=4,\n",
    "    z_max=10,  # becareful with this value\n",
    "    spin_zero=False,\n",
    "    spin_precession=True,\n",
    "    verbose=False,\n",
    "    mtot_max=500,\n",
    "    minimum_frequency=10,\n",
    "    waveform_approximant='IMRPhenomXPHM',\n",
    "    snr_type='inner_product',\n",
    "    ifos=['ET', 'CE'],\n",
    ")"
   ]
  },
  {
   "cell_type": "code",
   "execution_count": 29,
   "metadata": {},
   "outputs": [
    {
     "name": "stderr",
     "output_type": "stream",
     "text": [
      "100%|████████████████████████████████████████████████████████| 49570/49570 [02:59<00:00, 275.55it/s]\n"
     ]
    },
    {
     "name": "stdout",
     "output_type": "stream",
     "text": [
      "Number of events snr<4: 722\n"
     ]
    },
    {
     "name": "stderr",
     "output_type": "stream",
     "text": [
      "  0%|                                                                     | 0/49562 [00:00<?, ?it/s]"
     ]
    },
    {
     "name": "stdout",
     "output_type": "stream",
     "text": [
      "Number of events: 137488\n"
     ]
    },
    {
     "name": "stderr",
     "output_type": "stream",
     "text": [
      "100%|████████████████████████████████████████████████████████| 49562/49562 [02:56<00:00, 280.47it/s]\n"
     ]
    },
    {
     "name": "stdout",
     "output_type": "stream",
     "text": [
      "Number of events snr<4: 698\n"
     ]
    },
    {
     "name": "stderr",
     "output_type": "stream",
     "text": [
      "  0%|                                                                     | 0/49556 [00:00<?, ?it/s]"
     ]
    },
    {
     "name": "stdout",
     "output_type": "stream",
     "text": [
      "Number of events: 143072\n"
     ]
    },
    {
     "name": "stderr",
     "output_type": "stream",
     "text": [
      "100%|████████████████████████████████████████████████████████| 49556/49556 [02:55<00:00, 282.81it/s]\n"
     ]
    },
    {
     "name": "stdout",
     "output_type": "stream",
     "text": [
      "Number of events snr<4: 651\n"
     ]
    },
    {
     "name": "stderr",
     "output_type": "stream",
     "text": [
      "  0%|                                                                     | 0/49568 [00:00<?, ?it/s]"
     ]
    },
    {
     "name": "stdout",
     "output_type": "stream",
     "text": [
      "Number of events: 148280\n"
     ]
    },
    {
     "name": "stderr",
     "output_type": "stream",
     "text": [
      "100%|████████████████████████████████████████████████████████| 49568/49568 [02:52<00:00, 286.70it/s]\n"
     ]
    },
    {
     "name": "stdout",
     "output_type": "stream",
     "text": [
      "Number of events snr<4: 727\n"
     ]
    },
    {
     "name": "stderr",
     "output_type": "stream",
     "text": [
      "  0%|                                                                     | 0/49553 [00:00<?, ?it/s]"
     ]
    },
    {
     "name": "stdout",
     "output_type": "stream",
     "text": [
      "Number of events: 154096\n"
     ]
    },
    {
     "name": "stderr",
     "output_type": "stream",
     "text": [
      "100%|████████████████████████████████████████████████████████| 49553/49553 [02:51<00:00, 288.47it/s]\n"
     ]
    },
    {
     "name": "stdout",
     "output_type": "stream",
     "text": [
      "Number of events snr<4: 685\n"
     ]
    },
    {
     "name": "stderr",
     "output_type": "stream",
     "text": [
      "  0%|                                                                     | 0/49557 [00:00<?, ?it/s]"
     ]
    },
    {
     "name": "stdout",
     "output_type": "stream",
     "text": [
      "Number of events: 159576\n"
     ]
    },
    {
     "name": "stderr",
     "output_type": "stream",
     "text": [
      "100%|████████████████████████████████████████████████████████| 49557/49557 [02:51<00:00, 288.19it/s]\n"
     ]
    },
    {
     "name": "stdout",
     "output_type": "stream",
     "text": [
      "Number of events snr<4: 642\n"
     ]
    },
    {
     "name": "stderr",
     "output_type": "stream",
     "text": [
      "  0%|                                                                     | 0/49562 [00:00<?, ?it/s]"
     ]
    },
    {
     "name": "stdout",
     "output_type": "stream",
     "text": [
      "Number of events: 164712\n"
     ]
    },
    {
     "name": "stderr",
     "output_type": "stream",
     "text": [
      "100%|████████████████████████████████████████████████████████| 49562/49562 [02:52<00:00, 287.43it/s]\n"
     ]
    },
    {
     "name": "stdout",
     "output_type": "stream",
     "text": [
      "Number of events snr<4: 665\n"
     ]
    },
    {
     "name": "stderr",
     "output_type": "stream",
     "text": [
      "  0%|                                                                     | 0/49545 [00:00<?, ?it/s]"
     ]
    },
    {
     "name": "stdout",
     "output_type": "stream",
     "text": [
      "Number of events: 170032\n"
     ]
    },
    {
     "name": "stderr",
     "output_type": "stream",
     "text": [
      "100%|████████████████████████████████████████████████████████| 49545/49545 [02:50<00:00, 290.35it/s]\n"
     ]
    },
    {
     "name": "stdout",
     "output_type": "stream",
     "text": [
      "Number of events snr<4: 684\n"
     ]
    },
    {
     "name": "stderr",
     "output_type": "stream",
     "text": [
      "  0%|                                                                     | 0/49547 [00:00<?, ?it/s]"
     ]
    },
    {
     "name": "stdout",
     "output_type": "stream",
     "text": [
      "Number of events: 175504\n"
     ]
    },
    {
     "name": "stderr",
     "output_type": "stream",
     "text": [
      "100%|████████████████████████████████████████████████████████| 49547/49547 [02:53<00:00, 284.80it/s]\n"
     ]
    },
    {
     "name": "stdout",
     "output_type": "stream",
     "text": [
      "Number of events snr<4: 725\n"
     ]
    },
    {
     "name": "stderr",
     "output_type": "stream",
     "text": [
      "  0%|                                                                     | 0/49541 [00:00<?, ?it/s]"
     ]
    },
    {
     "name": "stdout",
     "output_type": "stream",
     "text": [
      "Number of events: 181304\n"
     ]
    },
    {
     "name": "stderr",
     "output_type": "stream",
     "text": [
      "100%|████████████████████████████████████████████████████████| 49541/49541 [02:55<00:00, 281.62it/s]\n"
     ]
    },
    {
     "name": "stdout",
     "output_type": "stream",
     "text": [
      "Number of events snr<4: 677\n"
     ]
    },
    {
     "name": "stderr",
     "output_type": "stream",
     "text": [
      "  0%|                                                                     | 0/49573 [00:00<?, ?it/s]"
     ]
    },
    {
     "name": "stdout",
     "output_type": "stream",
     "text": [
      "Number of events: 186720\n"
     ]
    },
    {
     "name": "stderr",
     "output_type": "stream",
     "text": [
      "100%|████████████████████████████████████████████████████████| 49573/49573 [02:54<00:00, 283.73it/s]\n"
     ]
    },
    {
     "name": "stdout",
     "output_type": "stream",
     "text": [
      "Number of events snr<4: 685\n"
     ]
    },
    {
     "name": "stderr",
     "output_type": "stream",
     "text": [
      "  0%|                                                                     | 0/49535 [00:00<?, ?it/s]"
     ]
    },
    {
     "name": "stdout",
     "output_type": "stream",
     "text": [
      "Number of events: 192200\n"
     ]
    },
    {
     "name": "stderr",
     "output_type": "stream",
     "text": [
      "100%|████████████████████████████████████████████████████████| 49535/49535 [02:55<00:00, 282.92it/s]\n"
     ]
    },
    {
     "name": "stdout",
     "output_type": "stream",
     "text": [
      "Number of events snr<4: 764\n"
     ]
    },
    {
     "name": "stderr",
     "output_type": "stream",
     "text": [
      "  0%|                                                                     | 0/49533 [00:00<?, ?it/s]"
     ]
    },
    {
     "name": "stdout",
     "output_type": "stream",
     "text": [
      "Number of events: 198312\n"
     ]
    },
    {
     "name": "stderr",
     "output_type": "stream",
     "text": [
      "100%|████████████████████████████████████████████████████████| 49533/49533 [02:55<00:00, 281.81it/s]\n"
     ]
    },
    {
     "name": "stdout",
     "output_type": "stream",
     "text": [
      "Number of events snr<4: 618\n",
      "Number of events: 203256\n"
     ]
    }
   ],
   "source": [
    "# uncomment the following line to generate the data\n",
    "\n",
    "# This is data collection based of 'optimal snr net' range\n",
    " \n",
    "ler.batch_size = 50000\n",
    "\n",
    "len_ = 0\n",
    "while len_<200000:\n",
    "    with contextlib.redirect_stdout(None):\n",
    "        unlensed_param = ler.unlensed_cbc_statistics(size=50000, resume=False)\n",
    "    snr = unlensed_param['CE']\n",
    "\n",
    "    idx1 = np.argwhere((snr>0) & (snr<4)).flatten()\n",
    "    idx3 = np.argwhere((snr>=4) & (snr<6)).flatten()\n",
    "    idx4 = np.argwhere((snr>=6) & (snr<8)).flatten()\n",
    "    idx5 = np.argwhere((snr>=8) & (snr<10)).flatten()\n",
    "    idx6 = np.argwhere((snr>=10) & (snr<12)).flatten()\n",
    "    idx7 = np.argwhere((snr>=12) & (snr<14)).flatten()\n",
    "    idx8 = np.argwhere((snr>=14) & (snr<16)).flatten()\n",
    "    idx16 = np.argwhere(snr>=16).flatten()\n",
    "\n",
    "    unlensed_param1 = {}\n",
    "    # unlensed_param2 = {}\n",
    "    unlensed_param3 = {}\n",
    "    unlensed_param4 = {}\n",
    "    unlensed_param5 = {}\n",
    "    unlensed_param6 = {}\n",
    "    unlensed_param7 = {}\n",
    "    unlensed_param8 = {}\n",
    "    unlensed_param16 = {}\n",
    "    unlensed_param_joint = {}\n",
    "\n",
    "    len_idx16 = len(idx1)\n",
    "    print(f\"Number of events snr<4: {len_idx16}\")\n",
    "\n",
    "    for key, value in unlensed_param.items():\n",
    "        # if len(idx1)>len_idx16:\n",
    "        #     unlensed_param1[key] = value[idx1][:len_idx16]\n",
    "        # else:\n",
    "        #     unlensed_param1[key] = value[idx1]\n",
    "        # if len(idx2)>len_idx16:\n",
    "        #     unlensed_param2[key] = value[idx2][:len_idx16]\n",
    "        # else:\n",
    "        #     unlensed_param2[key] = value[idx2]\n",
    "        if len(idx3)>len_idx16:\n",
    "            unlensed_param3[key] = value[idx3][:len_idx16]\n",
    "        else:\n",
    "            unlensed_param3[key] = value[idx3]\n",
    "        if len(idx4)>len_idx16:\n",
    "            unlensed_param4[key] = value[idx4][:len_idx16]\n",
    "        else:\n",
    "            unlensed_param4[key] = value[idx4]\n",
    "        if len(idx5)>len_idx16:\n",
    "            unlensed_param5[key] = value[idx5][:len_idx16]\n",
    "        else:\n",
    "            unlensed_param5[key] = value[idx5]\n",
    "        if len(idx6)>len_idx16:\n",
    "            unlensed_param6[key] = value[idx6][:len_idx16]\n",
    "        else:\n",
    "            unlensed_param6[key] = value[idx6]\n",
    "        if len(idx7)>len_idx16:\n",
    "            unlensed_param7[key] = value[idx7][:len_idx16]\n",
    "        else:\n",
    "            unlensed_param7[key] = value[idx7]\n",
    "        if len(idx8)>len_idx16:\n",
    "            unlensed_param8[key] = value[idx8][:len_idx16]\n",
    "        else:\n",
    "            unlensed_param8[key] = value[idx8]\n",
    "        if len(idx16)>len_idx16:\n",
    "            unlensed_param16[key] = value[idx16][:len_idx16]\n",
    "        else:\n",
    "            unlensed_param16[key] = value[idx16]\n",
    "\n",
    "        unlensed_param1[key] = value[idx1]\n",
    "\n",
    "        unlensed_param_joint[key] = np.concatenate([unlensed_param1[key], unlensed_param3[key], unlensed_param4[key], unlensed_param5[key], unlensed_param6[key], unlensed_param7[key], unlensed_param8[key], unlensed_param16[key]])\n",
    "\n",
    "    append_json(\"ler_data/joint_new_optsnr_CE.json\", unlensed_param_joint, replace=False)\n",
    "    unlensed_params = get_param_from_json(\"ler_data/joint_new_optsnr_CE.json\")\n",
    "    len_ = len(np.array(unlensed_params[\"CE\"]))\n",
    "\n",
    "    print(f\"Number of events: {len_}\")"
   ]
  },
  {
   "cell_type": "code",
   "execution_count": 1,
   "metadata": {},
   "outputs": [
    {
     "ename": "NameError",
     "evalue": "name 'get_param_from_json' is not defined",
     "output_type": "error",
     "traceback": [
      "\u001b[0;31m---------------------------------------------------------------------------\u001b[0m",
      "\u001b[0;31mNameError\u001b[0m                                 Traceback (most recent call last)",
      "Cell \u001b[0;32mIn[1], line 1\u001b[0m\n\u001b[0;32m----> 1\u001b[0m unlensed_params \u001b[38;5;241m=\u001b[39m \u001b[43mget_param_from_json\u001b[49m(\u001b[38;5;124m\"\u001b[39m\u001b[38;5;124mler_data/joint_new_optsnr_ET1.json\u001b[39m\u001b[38;5;124m\"\u001b[39m)\n\u001b[1;32m      2\u001b[0m np\u001b[38;5;241m.\u001b[39msum(unlensed_params[\u001b[38;5;124m\"\u001b[39m\u001b[38;5;124moptimal_snr_net\u001b[39m\u001b[38;5;124m\"\u001b[39m]\u001b[38;5;241m<\u001b[39m\u001b[38;5;241m4\u001b[39m)\n",
      "\u001b[0;31mNameError\u001b[0m: name 'get_param_from_json' is not defined"
     ]
    }
   ],
   "source": [
    "unlensed_params = get_param_from_json(\"ler_data/joint_new_optsnr_ET1.json\")\n",
    "np.sum(unlensed_params[\"optimal_snr_net\"]<4)"
   ]
  },
  {
   "cell_type": "code",
   "execution_count": null,
   "metadata": {},
   "outputs": [],
   "source": []
  },
  {
   "cell_type": "code",
   "execution_count": 15,
   "metadata": {},
   "outputs": [
    {
     "data": {
      "image/png": "[encoded data removed]",
      "text/plain": [
       "<Figure size 400x400 with 1 Axes>"
      ]
     },
     "metadata": {},
     "output_type": "display_data"
    }
   ],
   "source": [
    "# plot\n",
    "unlensed_params = get_param_from_json(\"ler_data/joint_new_optsnr_ET1.json\")\n",
    "optimal_snr_net = unlensed_params[\"optimal_snr_net\"]\n",
    "snr_ET1 = unlensed_params[\"ET1\"]\n",
    "snr_ET2 = unlensed_params[\"ET2\"]\n",
    "snr_ET3 = unlensed_params[\"ET3\"]\n",
    "idx1 = (snr_ET1 < 20) & (snr_ET1 > 0)\n",
    "idx2 = (snr_ET2 < 20) & (snr_ET2 > 0)\n",
    "idx3 = (snr_ET3 < 20) & (snr_ET3 > 0)\n",
    "idx = (optimal_snr_net < 20) & (optimal_snr_net > 0)\n",
    "\n",
    "\n",
    "plt.figure(figsize=(4, 4))\n",
    "plt.hist(snr_ET1[idx1], bins=30, alpha=0.5, label='ET1', density=True, histtype='step')\n",
    "# plt.hist(snr_ET2[idx], bins=30, alpha=0.5, label='ET2', density=True, histtype='step')\n",
    "# plt.hist(snr_ET3[idx], bins=30, alpha=0.5, label='ET3', density=True, histtype='step')\n",
    "# plt.hist(optimal_snr_net[idx], bins=30, alpha=0.5, label='ET', density=True, histtype='step')\n",
    "plt.hist(snr_ET2[idx2], bins=30, alpha=0.5, label='ET2', density=True, histtype='step')\n",
    "plt.hist(snr_ET3[idx3], bins=30, alpha=0.5, label='ET3', density=True, histtype='step')\n",
    "plt.hist(optimal_snr_net[idx], bins=30, alpha=0.5, label='ET', density=True, histtype='step')\n",
    "plt.xlim(0, 20)\n",
    "plt.legend()\n",
    "plt.show()"
   ]
  },
  {
   "cell_type": "code",
   "execution_count": 4,
   "metadata": {},
   "outputs": [
    {
     "data": {
      "image/png": "[encoded data removed]",
      "text/plain": [
       "<Figure size 400x400 with 1 Axes>"
      ]
     },
     "metadata": {},
     "output_type": "display_data"
    }
   ],
   "source": [
    "# plot\n",
    "unlensed_params = get_param_from_json(\"ler_data/joint_new_optsnr_CE.json\")\n",
    "snr_CE = unlensed_params[\"CE\"]\n",
    "idx1 = (snr_CE < 20) & (snr_CE > 0)\n",
    "\n",
    "plt.figure(figsize=(4, 4))\n",
    "plt.hist(snr_CE[idx1], bins=30, alpha=0.5, label='ET1', density=True, histtype='step')\n",
    "plt.xlim(0, 20)\n",
    "plt.legend()\n",
    "plt.show()"
   ]
  },
  {
   "cell_type": "code",
   "execution_count": null,
   "metadata": {},
   "outputs": [],
   "source": []
  },
  {
   "cell_type": "code",
   "execution_count": null,
   "metadata": {},
   "outputs": [],
   "source": []
  },
  {
   "cell_type": "markdown",
   "metadata": {},
   "source": [
    "## Collection of data at the desired SNR range"
   ]
  },
  {
   "cell_type": "code",
   "execution_count": 44,
   "metadata": {},
   "outputs": [
    {
     "name": "stderr",
     "output_type": "stream",
     "text": [
      "  0%|                                                                      | 0/9913 [00:00<?, ?it/s]"
     ]
    },
    {
     "name": "stderr",
     "output_type": "stream",
     "text": [
      "100%|██████████████████████████████████████████████████████████| 9913/9913 [00:32<00:00, 304.45it/s]\n",
      "  0%|                                                                      | 0/9891 [00:00<?, ?it/s]"
     ]
    },
    {
     "name": "stdout",
     "output_type": "stream",
     "text": [
      "Number of events: 93315\n"
     ]
    },
    {
     "name": "stderr",
     "output_type": "stream",
     "text": [
      "100%|██████████████████████████████████████████████████████████| 9891/9891 [00:32<00:00, 302.41it/s]\n",
      "  0%|                                                                      | 0/9931 [00:00<?, ?it/s]"
     ]
    },
    {
     "name": "stdout",
     "output_type": "stream",
     "text": [
      "Number of events: 93425\n"
     ]
    },
    {
     "name": "stderr",
     "output_type": "stream",
     "text": [
      "100%|██████████████████████████████████████████████████████████| 9931/9931 [00:32<00:00, 304.34it/s]\n",
      "  0%|                                                                      | 0/9908 [00:00<?, ?it/s]"
     ]
    },
    {
     "name": "stdout",
     "output_type": "stream",
     "text": [
      "Number of events: 93544\n"
     ]
    },
    {
     "name": "stderr",
     "output_type": "stream",
     "text": [
      "100%|██████████████████████████████████████████████████████████| 9908/9908 [00:33<00:00, 299.02it/s]\n",
      "  0%|                                                                      | 0/9900 [00:00<?, ?it/s]"
     ]
    },
    {
     "name": "stdout",
     "output_type": "stream",
     "text": [
      "Number of events: 93625\n"
     ]
    },
    {
     "name": "stderr",
     "output_type": "stream",
     "text": [
      "100%|██████████████████████████████████████████████████████████| 9900/9900 [00:32<00:00, 303.29it/s]\n",
      "  0%|                                                                      | 0/9917 [00:00<?, ?it/s]"
     ]
    },
    {
     "name": "stdout",
     "output_type": "stream",
     "text": [
      "Number of events: 93670\n"
     ]
    },
    {
     "name": "stderr",
     "output_type": "stream",
     "text": [
      "100%|██████████████████████████████████████████████████████████| 9917/9917 [00:32<00:00, 300.69it/s]\n",
      "  0%|                                                                      | 0/9918 [00:00<?, ?it/s]"
     ]
    },
    {
     "name": "stdout",
     "output_type": "stream",
     "text": [
      "Number of events: 93795\n"
     ]
    },
    {
     "name": "stderr",
     "output_type": "stream",
     "text": [
      "100%|██████████████████████████████████████████████████████████| 9918/9918 [00:32<00:00, 303.56it/s]\n",
      "  0%|                                                                      | 0/9916 [00:00<?, ?it/s]"
     ]
    },
    {
     "name": "stdout",
     "output_type": "stream",
     "text": [
      "Number of events: 93904\n"
     ]
    },
    {
     "name": "stderr",
     "output_type": "stream",
     "text": [
      "100%|██████████████████████████████████████████████████████████| 9916/9916 [00:32<00:00, 305.83it/s]\n",
      "  0%|                                                                      | 0/9909 [00:00<?, ?it/s]"
     ]
    },
    {
     "name": "stdout",
     "output_type": "stream",
     "text": [
      "Number of events: 94040\n"
     ]
    },
    {
     "name": "stderr",
     "output_type": "stream",
     "text": [
      "100%|██████████████████████████████████████████████████████████| 9909/9909 [00:32<00:00, 300.56it/s]\n",
      "  0%|                                                                      | 0/9903 [00:00<?, ?it/s]"
     ]
    },
    {
     "name": "stdout",
     "output_type": "stream",
     "text": [
      "Number of events: 94189\n"
     ]
    },
    {
     "name": "stderr",
     "output_type": "stream",
     "text": [
      "100%|██████████████████████████████████████████████████████████| 9903/9903 [00:33<00:00, 299.92it/s]\n",
      "  0%|                                                                      | 0/9897 [00:00<?, ?it/s]"
     ]
    },
    {
     "name": "stdout",
     "output_type": "stream",
     "text": [
      "Number of events: 94300\n"
     ]
    },
    {
     "name": "stderr",
     "output_type": "stream",
     "text": [
      "100%|██████████████████████████████████████████████████████████| 9897/9897 [00:32<00:00, 301.14it/s]\n",
      "  0%|                                                                      | 0/9909 [00:00<?, ?it/s]"
     ]
    },
    {
     "name": "stdout",
     "output_type": "stream",
     "text": [
      "Number of events: 94372\n"
     ]
    },
    {
     "name": "stderr",
     "output_type": "stream",
     "text": [
      "100%|██████████████████████████████████████████████████████████| 9909/9909 [00:32<00:00, 303.67it/s]\n",
      "  0%|                                                                      | 0/9914 [00:00<?, ?it/s]"
     ]
    },
    {
     "name": "stdout",
     "output_type": "stream",
     "text": [
      "Number of events: 94494\n"
     ]
    },
    {
     "name": "stderr",
     "output_type": "stream",
     "text": [
      "100%|██████████████████████████████████████████████████████████| 9914/9914 [00:33<00:00, 297.11it/s]\n",
      "  0%|                                                                      | 0/9913 [00:00<?, ?it/s]"
     ]
    },
    {
     "name": "stdout",
     "output_type": "stream",
     "text": [
      "Number of events: 94602\n"
     ]
    },
    {
     "name": "stderr",
     "output_type": "stream",
     "text": [
      "100%|██████████████████████████████████████████████████████████| 9913/9913 [00:32<00:00, 305.48it/s]\n",
      "  0%|                                                                      | 0/9909 [00:00<?, ?it/s]"
     ]
    },
    {
     "name": "stdout",
     "output_type": "stream",
     "text": [
      "Number of events: 94715\n"
     ]
    },
    {
     "name": "stderr",
     "output_type": "stream",
     "text": [
      "100%|██████████████████████████████████████████████████████████| 9909/9909 [00:32<00:00, 300.64it/s]\n",
      "  0%|                                                                      | 0/9913 [00:00<?, ?it/s]"
     ]
    },
    {
     "name": "stdout",
     "output_type": "stream",
     "text": [
      "Number of events: 94835\n"
     ]
    },
    {
     "name": "stderr",
     "output_type": "stream",
     "text": [
      "100%|██████████████████████████████████████████████████████████| 9913/9913 [00:32<00:00, 302.30it/s]\n",
      "  0%|                                                                      | 0/9892 [00:00<?, ?it/s]"
     ]
    },
    {
     "name": "stdout",
     "output_type": "stream",
     "text": [
      "Number of events: 94970\n"
     ]
    },
    {
     "name": "stderr",
     "output_type": "stream",
     "text": [
      "100%|██████████████████████████████████████████████████████████| 9892/9892 [00:33<00:00, 292.72it/s]\n",
      "  0%|                                                                      | 0/9910 [00:00<?, ?it/s]"
     ]
    },
    {
     "name": "stdout",
     "output_type": "stream",
     "text": [
      "Number of events: 95137\n"
     ]
    },
    {
     "name": "stderr",
     "output_type": "stream",
     "text": [
      "100%|██████████████████████████████████████████████████████████| 9910/9910 [00:33<00:00, 295.69it/s]\n",
      "  0%|                                                                      | 0/9925 [00:00<?, ?it/s]"
     ]
    },
    {
     "name": "stdout",
     "output_type": "stream",
     "text": [
      "Number of events: 95210\n"
     ]
    },
    {
     "name": "stderr",
     "output_type": "stream",
     "text": [
      "100%|██████████████████████████████████████████████████████████| 9925/9925 [00:32<00:00, 305.09it/s]\n",
      "  0%|                                                                      | 0/9900 [00:00<?, ?it/s]"
     ]
    },
    {
     "name": "stdout",
     "output_type": "stream",
     "text": [
      "Number of events: 95346\n"
     ]
    },
    {
     "name": "stderr",
     "output_type": "stream",
     "text": [
      "100%|██████████████████████████████████████████████████████████| 9900/9900 [00:32<00:00, 303.89it/s]\n",
      "  0%|                                                                      | 0/9912 [00:00<?, ?it/s]"
     ]
    },
    {
     "name": "stdout",
     "output_type": "stream",
     "text": [
      "Number of events: 95462\n"
     ]
    },
    {
     "name": "stderr",
     "output_type": "stream",
     "text": [
      "100%|██████████████████████████████████████████████████████████| 9912/9912 [00:32<00:00, 302.39it/s]\n",
      "  0%|                                                                      | 0/9898 [00:00<?, ?it/s]"
     ]
    },
    {
     "name": "stdout",
     "output_type": "stream",
     "text": [
      "Number of events: 95594\n"
     ]
    },
    {
     "name": "stderr",
     "output_type": "stream",
     "text": [
      "100%|██████████████████████████████████████████████████████████| 9898/9898 [00:32<00:00, 300.87it/s]\n",
      "  0%|                                                                      | 0/9909 [00:00<?, ?it/s]"
     ]
    },
    {
     "name": "stdout",
     "output_type": "stream",
     "text": [
      "Number of events: 95755\n"
     ]
    },
    {
     "name": "stderr",
     "output_type": "stream",
     "text": [
      "100%|██████████████████████████████████████████████████████████| 9909/9909 [00:32<00:00, 300.60it/s]\n",
      "  0%|                                                                      | 0/9909 [00:00<?, ?it/s]"
     ]
    },
    {
     "name": "stdout",
     "output_type": "stream",
     "text": [
      "Number of events: 95876\n"
     ]
    },
    {
     "name": "stderr",
     "output_type": "stream",
     "text": [
      "100%|██████████████████████████████████████████████████████████| 9909/9909 [00:32<00:00, 303.14it/s]\n",
      "  0%|                                                                      | 0/9913 [00:00<?, ?it/s]"
     ]
    },
    {
     "name": "stdout",
     "output_type": "stream",
     "text": [
      "Number of events: 95976\n"
     ]
    },
    {
     "name": "stderr",
     "output_type": "stream",
     "text": [
      "100%|██████████████████████████████████████████████████████████| 9913/9913 [00:32<00:00, 304.17it/s]\n",
      "  0%|                                                                      | 0/9911 [00:00<?, ?it/s]"
     ]
    },
    {
     "name": "stdout",
     "output_type": "stream",
     "text": [
      "Number of events: 96064\n"
     ]
    },
    {
     "name": "stderr",
     "output_type": "stream",
     "text": [
      "100%|██████████████████████████████████████████████████████████| 9911/9911 [00:32<00:00, 303.05it/s]\n",
      "  0%|                                                                      | 0/9901 [00:00<?, ?it/s]"
     ]
    },
    {
     "name": "stdout",
     "output_type": "stream",
     "text": [
      "Number of events: 96178\n"
     ]
    },
    {
     "name": "stderr",
     "output_type": "stream",
     "text": [
      "100%|███████████████████████████████████████████████████████████| 9901/9901 [05:31<00:00, 29.88it/s]\n",
      "  0%|                                                                      | 0/9899 [00:00<?, ?it/s]"
     ]
    },
    {
     "name": "stdout",
     "output_type": "stream",
     "text": [
      "Number of events: 96288\n"
     ]
    },
    {
     "name": "stderr",
     "output_type": "stream",
     "text": [
      "100%|██████████████████████████████████████████████████████████| 9899/9899 [00:45<00:00, 216.88it/s]\n",
      "  0%|                                                                      | 0/9911 [00:00<?, ?it/s]"
     ]
    },
    {
     "name": "stdout",
     "output_type": "stream",
     "text": [
      "Number of events: 96374\n"
     ]
    },
    {
     "name": "stderr",
     "output_type": "stream",
     "text": [
      "100%|██████████████████████████████████████████████████████████| 9911/9911 [01:07<00:00, 146.80it/s]\n",
      "  0%|                                                                      | 0/9914 [00:00<?, ?it/s]"
     ]
    },
    {
     "name": "stdout",
     "output_type": "stream",
     "text": [
      "Number of events: 96480\n"
     ]
    },
    {
     "name": "stderr",
     "output_type": "stream",
     "text": [
      "100%|██████████████████████████████████████████████████████████| 9914/9914 [00:54<00:00, 180.31it/s]\n",
      "  0%|                                                                      | 0/9902 [00:00<?, ?it/s]"
     ]
    },
    {
     "name": "stdout",
     "output_type": "stream",
     "text": [
      "Number of events: 96579\n"
     ]
    },
    {
     "name": "stderr",
     "output_type": "stream",
     "text": [
      "100%|██████████████████████████████████████████████████████████| 9902/9902 [00:32<00:00, 300.98it/s]\n",
      "  0%|                                                                      | 0/9922 [00:00<?, ?it/s]"
     ]
    },
    {
     "name": "stdout",
     "output_type": "stream",
     "text": [
      "Number of events: 96666\n"
     ]
    },
    {
     "name": "stderr",
     "output_type": "stream",
     "text": [
      "100%|██████████████████████████████████████████████████████████| 9922/9922 [00:59<00:00, 167.01it/s]\n",
      "  0%|                                                                      | 0/9902 [00:00<?, ?it/s]"
     ]
    },
    {
     "name": "stdout",
     "output_type": "stream",
     "text": [
      "Number of events: 96775\n"
     ]
    },
    {
     "name": "stderr",
     "output_type": "stream",
     "text": [
      "100%|███████████████████████████████████████████████████████████| 9902/9902 [02:07<00:00, 77.81it/s]\n",
      "  0%|                                                                      | 0/9901 [00:00<?, ?it/s]"
     ]
    },
    {
     "name": "stdout",
     "output_type": "stream",
     "text": [
      "Number of events: 96849\n"
     ]
    },
    {
     "name": "stderr",
     "output_type": "stream",
     "text": [
      "100%|██████████████████████████████████████████████████████████| 9901/9901 [00:35<00:00, 276.35it/s]\n",
      "  0%|                                                                      | 0/9911 [00:00<?, ?it/s]"
     ]
    },
    {
     "name": "stdout",
     "output_type": "stream",
     "text": [
      "Number of events: 96990\n"
     ]
    },
    {
     "name": "stderr",
     "output_type": "stream",
     "text": [
      "100%|██████████████████████████████████████████████████████████| 9911/9911 [00:33<00:00, 296.45it/s]\n",
      "  0%|                                                                      | 0/9927 [00:00<?, ?it/s]"
     ]
    },
    {
     "name": "stdout",
     "output_type": "stream",
     "text": [
      "Number of events: 97111\n"
     ]
    },
    {
     "name": "stderr",
     "output_type": "stream",
     "text": [
      "100%|██████████████████████████████████████████████████████████| 9927/9927 [00:33<00:00, 295.70it/s]\n",
      "  0%|                                                                      | 0/9902 [00:00<?, ?it/s]"
     ]
    },
    {
     "name": "stdout",
     "output_type": "stream",
     "text": [
      "Number of events: 97208\n"
     ]
    },
    {
     "name": "stderr",
     "output_type": "stream",
     "text": [
      "100%|██████████████████████████████████████████████████████████| 9902/9902 [00:33<00:00, 299.90it/s]\n",
      "  0%|                                                                      | 0/9921 [00:00<?, ?it/s]"
     ]
    },
    {
     "name": "stdout",
     "output_type": "stream",
     "text": [
      "Number of events: 97307\n"
     ]
    },
    {
     "name": "stderr",
     "output_type": "stream",
     "text": [
      "100%|██████████████████████████████████████████████████████████| 9921/9921 [00:32<00:00, 302.51it/s]\n",
      "  0%|                                                                      | 0/9923 [00:00<?, ?it/s]"
     ]
    },
    {
     "name": "stdout",
     "output_type": "stream",
     "text": [
      "Number of events: 97423\n"
     ]
    },
    {
     "name": "stderr",
     "output_type": "stream",
     "text": [
      "100%|██████████████████████████████████████████████████████████| 9923/9923 [00:32<00:00, 303.68it/s]\n",
      "  0%|                                                                      | 0/9908 [00:00<?, ?it/s]"
     ]
    },
    {
     "name": "stdout",
     "output_type": "stream",
     "text": [
      "Number of events: 97544\n"
     ]
    },
    {
     "name": "stderr",
     "output_type": "stream",
     "text": [
      "100%|██████████████████████████████████████████████████████████| 9908/9908 [00:32<00:00, 300.29it/s]\n",
      "  0%|                                                                      | 0/9910 [00:00<?, ?it/s]"
     ]
    },
    {
     "name": "stdout",
     "output_type": "stream",
     "text": [
      "Number of events: 97655\n"
     ]
    },
    {
     "name": "stderr",
     "output_type": "stream",
     "text": [
      "100%|██████████████████████████████████████████████████████████| 9910/9910 [00:32<00:00, 303.75it/s]\n",
      "  0%|                                                                      | 0/9893 [00:00<?, ?it/s]"
     ]
    },
    {
     "name": "stdout",
     "output_type": "stream",
     "text": [
      "Number of events: 97774\n"
     ]
    },
    {
     "name": "stderr",
     "output_type": "stream",
     "text": [
      "100%|██████████████████████████████████████████████████████████| 9893/9893 [00:33<00:00, 295.81it/s]\n",
      "  0%|                                                                      | 0/9909 [00:00<?, ?it/s]"
     ]
    },
    {
     "name": "stdout",
     "output_type": "stream",
     "text": [
      "Number of events: 97872\n"
     ]
    },
    {
     "name": "stderr",
     "output_type": "stream",
     "text": [
      "100%|██████████████████████████████████████████████████████████| 9909/9909 [00:33<00:00, 296.85it/s]\n",
      "  0%|                                                                      | 0/9899 [00:00<?, ?it/s]"
     ]
    },
    {
     "name": "stdout",
     "output_type": "stream",
     "text": [
      "Number of events: 97979\n"
     ]
    },
    {
     "name": "stderr",
     "output_type": "stream",
     "text": [
      "100%|██████████████████████████████████████████████████████████| 9899/9899 [00:32<00:00, 301.01it/s]\n",
      "  0%|                                                                      | 0/9899 [00:00<?, ?it/s]"
     ]
    },
    {
     "name": "stdout",
     "output_type": "stream",
     "text": [
      "Number of events: 98145\n"
     ]
    },
    {
     "name": "stderr",
     "output_type": "stream",
     "text": [
      "100%|██████████████████████████████████████████████████████████| 9899/9899 [00:32<00:00, 300.03it/s]\n",
      "  0%|                                                                      | 0/9906 [00:00<?, ?it/s]"
     ]
    },
    {
     "name": "stdout",
     "output_type": "stream",
     "text": [
      "Number of events: 98269\n"
     ]
    },
    {
     "name": "stderr",
     "output_type": "stream",
     "text": [
      "100%|██████████████████████████████████████████████████████████| 9906/9906 [00:33<00:00, 300.14it/s]\n",
      "  0%|                                                                      | 0/9908 [00:00<?, ?it/s]"
     ]
    },
    {
     "name": "stdout",
     "output_type": "stream",
     "text": [
      "Number of events: 98361\n"
     ]
    },
    {
     "name": "stderr",
     "output_type": "stream",
     "text": [
      "100%|██████████████████████████████████████████████████████████| 9908/9908 [00:33<00:00, 299.96it/s]\n",
      "  0%|                                                                      | 0/9909 [00:00<?, ?it/s]"
     ]
    },
    {
     "name": "stdout",
     "output_type": "stream",
     "text": [
      "Number of events: 98490\n"
     ]
    },
    {
     "name": "stderr",
     "output_type": "stream",
     "text": [
      "100%|██████████████████████████████████████████████████████████| 9909/9909 [00:32<00:00, 301.03it/s]\n",
      "  0%|                                                                      | 0/9914 [00:00<?, ?it/s]"
     ]
    },
    {
     "name": "stdout",
     "output_type": "stream",
     "text": [
      "Number of events: 98552\n"
     ]
    },
    {
     "name": "stderr",
     "output_type": "stream",
     "text": [
      "100%|██████████████████████████████████████████████████████████| 9914/9914 [00:33<00:00, 298.69it/s]\n",
      "  0%|                                                                      | 0/9913 [00:00<?, ?it/s]"
     ]
    },
    {
     "name": "stdout",
     "output_type": "stream",
     "text": [
      "Number of events: 98674\n"
     ]
    },
    {
     "name": "stderr",
     "output_type": "stream",
     "text": [
      "100%|██████████████████████████████████████████████████████████| 9913/9913 [00:33<00:00, 296.45it/s]\n",
      "  0%|                                                                      | 0/9905 [00:00<?, ?it/s]"
     ]
    },
    {
     "name": "stdout",
     "output_type": "stream",
     "text": [
      "Number of events: 98789\n"
     ]
    },
    {
     "name": "stderr",
     "output_type": "stream",
     "text": [
      "100%|██████████████████████████████████████████████████████████| 9905/9905 [00:34<00:00, 290.39it/s]\n",
      "  0%|                                                                      | 0/9922 [00:00<?, ?it/s]"
     ]
    },
    {
     "name": "stdout",
     "output_type": "stream",
     "text": [
      "Number of events: 98850\n"
     ]
    },
    {
     "name": "stderr",
     "output_type": "stream",
     "text": [
      "100%|██████████████████████████████████████████████████████████| 9922/9922 [00:33<00:00, 296.36it/s]\n",
      "  0%|                                                                      | 0/9912 [00:00<?, ?it/s]"
     ]
    },
    {
     "name": "stdout",
     "output_type": "stream",
     "text": [
      "Number of events: 98968\n"
     ]
    },
    {
     "name": "stderr",
     "output_type": "stream",
     "text": [
      "100%|██████████████████████████████████████████████████████████| 9912/9912 [00:33<00:00, 291.81it/s]\n",
      "  0%|                                                                      | 0/9896 [00:00<?, ?it/s]"
     ]
    },
    {
     "name": "stdout",
     "output_type": "stream",
     "text": [
      "Number of events: 99081\n"
     ]
    },
    {
     "name": "stderr",
     "output_type": "stream",
     "text": [
      "100%|██████████████████████████████████████████████████████████| 9896/9896 [00:33<00:00, 293.20it/s]\n",
      "  0%|                                                                      | 0/9913 [00:00<?, ?it/s]"
     ]
    },
    {
     "name": "stdout",
     "output_type": "stream",
     "text": [
      "Number of events: 99161\n"
     ]
    },
    {
     "name": "stderr",
     "output_type": "stream",
     "text": [
      "100%|██████████████████████████████████████████████████████████| 9913/9913 [00:33<00:00, 291.95it/s]\n",
      "  0%|                                                                      | 0/9921 [00:00<?, ?it/s]"
     ]
    },
    {
     "name": "stdout",
     "output_type": "stream",
     "text": [
      "Number of events: 99268\n"
     ]
    },
    {
     "name": "stderr",
     "output_type": "stream",
     "text": [
      "100%|██████████████████████████████████████████████████████████| 9921/9921 [00:33<00:00, 295.71it/s]\n",
      "  0%|                                                                      | 0/9907 [00:00<?, ?it/s]"
     ]
    },
    {
     "name": "stdout",
     "output_type": "stream",
     "text": [
      "Number of events: 99354\n"
     ]
    },
    {
     "name": "stderr",
     "output_type": "stream",
     "text": [
      "100%|██████████████████████████████████████████████████████████| 9907/9907 [00:32<00:00, 302.19it/s]\n",
      "  0%|                                                                      | 0/9899 [00:00<?, ?it/s]"
     ]
    },
    {
     "name": "stdout",
     "output_type": "stream",
     "text": [
      "Number of events: 99431\n"
     ]
    },
    {
     "name": "stderr",
     "output_type": "stream",
     "text": [
      "100%|██████████████████████████████████████████████████████████| 9899/9899 [00:33<00:00, 299.89it/s]\n",
      "  0%|                                                                      | 0/9906 [00:00<?, ?it/s]"
     ]
    },
    {
     "name": "stdout",
     "output_type": "stream",
     "text": [
      "Number of events: 99534\n"
     ]
    },
    {
     "name": "stderr",
     "output_type": "stream",
     "text": [
      "100%|██████████████████████████████████████████████████████████| 9906/9906 [00:33<00:00, 296.07it/s]\n",
      "  0%|                                                                      | 0/9918 [00:00<?, ?it/s]"
     ]
    },
    {
     "name": "stdout",
     "output_type": "stream",
     "text": [
      "Number of events: 99674\n"
     ]
    },
    {
     "name": "stderr",
     "output_type": "stream",
     "text": [
      "100%|██████████████████████████████████████████████████████████| 9918/9918 [00:33<00:00, 295.03it/s]\n",
      "  0%|                                                                      | 0/9915 [00:00<?, ?it/s]"
     ]
    },
    {
     "name": "stdout",
     "output_type": "stream",
     "text": [
      "Number of events: 99834\n"
     ]
    },
    {
     "name": "stderr",
     "output_type": "stream",
     "text": [
      "100%|██████████████████████████████████████████████████████████| 9915/9915 [00:32<00:00, 301.33it/s]\n",
      "  0%|                                                                      | 0/9925 [00:00<?, ?it/s]"
     ]
    },
    {
     "name": "stdout",
     "output_type": "stream",
     "text": [
      "Number of events: 99997\n"
     ]
    },
    {
     "name": "stderr",
     "output_type": "stream",
     "text": [
      "100%|██████████████████████████████████████████████████████████| 9925/9925 [00:32<00:00, 303.33it/s]\n"
     ]
    },
    {
     "name": "stdout",
     "output_type": "stream",
     "text": [
      "Number of events: 100079\n"
     ]
    }
   ],
   "source": [
    "## This is data collection based of 'optimal snr net' range\n",
    " \n",
    "ler.batch_size = 10000\n",
    "\n",
    "len_ = 0\n",
    "while len_<100000:\n",
    "    with contextlib.redirect_stdout(None):\n",
    "        unlensed_param = ler.unlensed_cbc_statistics(size=10000, resume=False)\n",
    "    snr = unlensed_param[\"optimal_snr_net\"]\n",
    "\n",
    "    idx1 = np.argwhere(snr<2).flatten()\n",
    "    idx2 = np.argwhere((snr>=2) & (snr<4)).flatten()\n",
    "    idx3 = np.argwhere((snr>=4) & (snr<6)).flatten()\n",
    "    idx4 = np.argwhere((snr>=6) & (snr<8)).flatten()\n",
    "    idx5 = np.argwhere((snr>=8) & (snr<10)).flatten()\n",
    "    idx6 = np.argwhere((snr>=10) & (snr<12)).flatten()\n",
    "    idx7 = np.argwhere((snr>=12) & (snr<14)).flatten()\n",
    "    idx8 = np.argwhere((snr>=14) & (snr<16)).flatten()\n",
    "    idx16 = np.argwhere(snr>=16).flatten()\n",
    "\n",
    "    unlensed_param1 = {}\n",
    "    unlensed_param2 = {}\n",
    "    unlensed_param3 = {}\n",
    "    unlensed_param4 = {}\n",
    "    unlensed_param5 = {}\n",
    "    unlensed_param6 = {}\n",
    "    unlensed_param7 = {}\n",
    "    unlensed_param8 = {}\n",
    "    unlensed_param16 = {}\n",
    "    len_idx16 = len(idx16)\n",
    "\n",
    "    for key, value in unlensed_param.items():\n",
    "        if len(idx1)>len_idx16:\n",
    "            unlensed_param1[key] = value[idx1][:len_idx16]\n",
    "        else:\n",
    "            unlensed_param1[key] = value[idx1]\n",
    "        if len(idx2)>len_idx16:\n",
    "            unlensed_param2[key] = value[idx2][:len_idx16]\n",
    "        else:\n",
    "            unlensed_param2[key] = value[idx2]\n",
    "        if len(idx3)>len_idx16:\n",
    "            unlensed_param3[key] = value[idx3][:len_idx16]\n",
    "        else:\n",
    "            unlensed_param3[key] = value[idx3]\n",
    "        if len(idx4)>len_idx16:\n",
    "            unlensed_param4[key] = value[idx4][:len_idx16]\n",
    "        else:\n",
    "            unlensed_param4[key] = value[idx4]\n",
    "        if len(idx5)>len_idx16:\n",
    "            unlensed_param5[key] = value[idx5][:len_idx16]\n",
    "        else:\n",
    "            unlensed_param5[key] = value[idx5]\n",
    "        if len(idx6)>len_idx16:\n",
    "            unlensed_param6[key] = value[idx6][:len_idx16]\n",
    "        else:\n",
    "            unlensed_param6[key] = value[idx6]\n",
    "        if len(idx7)>len_idx16:\n",
    "            unlensed_param7[key] = value[idx7][:len_idx16]\n",
    "        else:\n",
    "            unlensed_param7[key] = value[idx7]\n",
    "        if len(idx8)>len_idx16:\n",
    "            unlensed_param8[key] = value[idx8][:len_idx16]\n",
    "        else:\n",
    "            unlensed_param8[key] = value[idx8]\n",
    "        unlensed_param16[key] = value[idx16]\n",
    "        \n",
    "        unlensed_param[key] = np.concatenate([unlensed_param1[key], unlensed_param2[key], unlensed_param3[key], unlensed_param4[key], unlensed_param5[key], unlensed_param6[key], unlensed_param7[key], unlensed_param8[key], unlensed_param16[key]])\n",
    "\n",
    "    append_json(\"optsnr_A1.json\", unlensed_param, replace=False)\n",
    "    unlensed_params = get_param_from_json(\"optsnr_A1.json\")\n",
    "    len_ = len(unlensed_params[\"optimal_snr_net\"])\n",
    "\n",
    "    print(f\"Number of events: {len_}\")"
   ]
  },
  {
   "cell_type": "code",
   "execution_count": 4,
   "metadata": {},
   "outputs": [
    {
     "name": "stderr",
     "output_type": "stream",
     "text": [
      "100%|██████████████████████████████████████████████████████████| 9918/9918 [00:33<00:00, 296.42it/s]\n",
      "  0%|                                                                      | 0/9919 [00:00<?, ?it/s]"
     ]
    },
    {
     "name": "stdout",
     "output_type": "stream",
     "text": [
      "Number of events: 645\n"
     ]
    },
    {
     "name": "stderr",
     "output_type": "stream",
     "text": [
      "100%|██████████████████████████████████████████████████████████| 9919/9919 [00:32<00:00, 301.04it/s]\n",
      "  0%|                                                                      | 0/9919 [00:00<?, ?it/s]"
     ]
    },
    {
     "name": "stdout",
     "output_type": "stream",
     "text": [
      "Number of events: 1287\n"
     ]
    },
    {
     "name": "stderr",
     "output_type": "stream",
     "text": [
      "100%|██████████████████████████████████████████████████████████| 9919/9919 [00:32<00:00, 303.05it/s]\n",
      "  0%|                                                                      | 0/9901 [00:00<?, ?it/s]"
     ]
    },
    {
     "name": "stdout",
     "output_type": "stream",
     "text": [
      "Number of events: 1901\n"
     ]
    },
    {
     "name": "stderr",
     "output_type": "stream",
     "text": [
      "100%|██████████████████████████████████████████████████████████| 9901/9901 [00:32<00:00, 306.68it/s]\n",
      "  0%|                                                                      | 0/9916 [00:00<?, ?it/s]"
     ]
    },
    {
     "name": "stdout",
     "output_type": "stream",
     "text": [
      "Number of events: 2536\n"
     ]
    },
    {
     "name": "stderr",
     "output_type": "stream",
     "text": [
      "100%|██████████████████████████████████████████████████████████| 9916/9916 [00:32<00:00, 305.95it/s]\n",
      "  0%|                                                                      | 0/9914 [00:00<?, ?it/s]"
     ]
    },
    {
     "name": "stdout",
     "output_type": "stream",
     "text": [
      "Number of events: 3168\n"
     ]
    },
    {
     "name": "stderr",
     "output_type": "stream",
     "text": [
      "100%|██████████████████████████████████████████████████████████| 9914/9914 [00:32<00:00, 304.75it/s]\n",
      "  0%|                                                                      | 0/9915 [00:00<?, ?it/s]"
     ]
    },
    {
     "name": "stdout",
     "output_type": "stream",
     "text": [
      "Number of events: 3850\n"
     ]
    },
    {
     "name": "stderr",
     "output_type": "stream",
     "text": [
      "100%|██████████████████████████████████████████████████████████| 9915/9915 [00:32<00:00, 300.47it/s]\n",
      "  0%|                                                                      | 0/9930 [00:00<?, ?it/s]"
     ]
    },
    {
     "name": "stdout",
     "output_type": "stream",
     "text": [
      "Number of events: 4444\n"
     ]
    },
    {
     "name": "stderr",
     "output_type": "stream",
     "text": [
      "100%|██████████████████████████████████████████████████████████| 9930/9930 [00:32<00:00, 303.89it/s]\n",
      "  0%|                                                                      | 0/9915 [00:00<?, ?it/s]"
     ]
    },
    {
     "name": "stdout",
     "output_type": "stream",
     "text": [
      "Number of events: 5089\n"
     ]
    },
    {
     "name": "stderr",
     "output_type": "stream",
     "text": [
      "100%|██████████████████████████████████████████████████████████| 9915/9915 [00:32<00:00, 308.29it/s]\n",
      "  0%|                                                                      | 0/9899 [00:00<?, ?it/s]"
     ]
    },
    {
     "name": "stdout",
     "output_type": "stream",
     "text": [
      "Number of events: 5700\n"
     ]
    },
    {
     "name": "stderr",
     "output_type": "stream",
     "text": [
      "100%|██████████████████████████████████████████████████████████| 9899/9899 [00:32<00:00, 306.15it/s]\n",
      "  0%|                                                                      | 0/9907 [00:00<?, ?it/s]"
     ]
    },
    {
     "name": "stdout",
     "output_type": "stream",
     "text": [
      "Number of events: 6369\n"
     ]
    },
    {
     "name": "stderr",
     "output_type": "stream",
     "text": [
      "100%|██████████████████████████████████████████████████████████| 9907/9907 [00:32<00:00, 301.72it/s]\n",
      "  0%|                                                                      | 0/9904 [00:00<?, ?it/s]"
     ]
    },
    {
     "name": "stdout",
     "output_type": "stream",
     "text": [
      "Number of events: 7017\n"
     ]
    },
    {
     "name": "stderr",
     "output_type": "stream",
     "text": [
      "100%|██████████████████████████████████████████████████████████| 9904/9904 [00:32<00:00, 304.53it/s]\n",
      "  0%|                                                                      | 0/9906 [00:00<?, ?it/s]"
     ]
    },
    {
     "name": "stdout",
     "output_type": "stream",
     "text": [
      "Number of events: 7653\n"
     ]
    },
    {
     "name": "stderr",
     "output_type": "stream",
     "text": [
      "100%|██████████████████████████████████████████████████████████| 9906/9906 [00:32<00:00, 306.98it/s]\n",
      "  0%|                                                                      | 0/9925 [00:00<?, ?it/s]"
     ]
    },
    {
     "name": "stdout",
     "output_type": "stream",
     "text": [
      "Number of events: 8273\n"
     ]
    },
    {
     "name": "stderr",
     "output_type": "stream",
     "text": [
      "100%|██████████████████████████████████████████████████████████| 9925/9925 [00:32<00:00, 307.52it/s]\n",
      "  0%|                                                                      | 0/9905 [00:00<?, ?it/s]"
     ]
    },
    {
     "name": "stdout",
     "output_type": "stream",
     "text": [
      "Number of events: 8935\n"
     ]
    },
    {
     "name": "stderr",
     "output_type": "stream",
     "text": [
      "100%|██████████████████████████████████████████████████████████| 9905/9905 [00:32<00:00, 300.24it/s]\n",
      "  0%|                                                                      | 0/9912 [00:00<?, ?it/s]"
     ]
    },
    {
     "name": "stdout",
     "output_type": "stream",
     "text": [
      "Number of events: 9589\n"
     ]
    },
    {
     "name": "stderr",
     "output_type": "stream",
     "text": [
      "100%|██████████████████████████████████████████████████████████| 9912/9912 [00:32<00:00, 302.92it/s]\n",
      "  0%|                                                                      | 0/9901 [00:00<?, ?it/s]"
     ]
    },
    {
     "name": "stdout",
     "output_type": "stream",
     "text": [
      "Number of events: 10154\n"
     ]
    },
    {
     "name": "stderr",
     "output_type": "stream",
     "text": [
      "100%|██████████████████████████████████████████████████████████| 9901/9901 [00:32<00:00, 305.72it/s]\n",
      "  0%|                                                                      | 0/9923 [00:00<?, ?it/s]"
     ]
    },
    {
     "name": "stdout",
     "output_type": "stream",
     "text": [
      "Number of events: 10841\n"
     ]
    },
    {
     "name": "stderr",
     "output_type": "stream",
     "text": [
      "100%|██████████████████████████████████████████████████████████| 9923/9923 [00:32<00:00, 308.12it/s]\n",
      "  0%|                                                                      | 0/9882 [00:00<?, ?it/s]"
     ]
    },
    {
     "name": "stdout",
     "output_type": "stream",
     "text": [
      "Number of events: 11468\n"
     ]
    },
    {
     "name": "stderr",
     "output_type": "stream",
     "text": [
      "100%|██████████████████████████████████████████████████████████| 9882/9882 [00:32<00:00, 307.91it/s]\n",
      "  0%|                                                                      | 0/9902 [00:00<?, ?it/s]"
     ]
    },
    {
     "name": "stdout",
     "output_type": "stream",
     "text": [
      "Number of events: 12089\n"
     ]
    },
    {
     "name": "stderr",
     "output_type": "stream",
     "text": [
      "100%|██████████████████████████████████████████████████████████| 9902/9902 [00:32<00:00, 306.61it/s]\n",
      "  0%|                                                                      | 0/9895 [00:00<?, ?it/s]"
     ]
    },
    {
     "name": "stdout",
     "output_type": "stream",
     "text": [
      "Number of events: 12656\n"
     ]
    },
    {
     "name": "stderr",
     "output_type": "stream",
     "text": [
      "100%|██████████████████████████████████████████████████████████| 9895/9895 [00:32<00:00, 301.79it/s]\n",
      "  0%|                                                                      | 0/9911 [00:00<?, ?it/s]"
     ]
    },
    {
     "name": "stdout",
     "output_type": "stream",
     "text": [
      "Number of events: 13257\n"
     ]
    },
    {
     "name": "stderr",
     "output_type": "stream",
     "text": [
      "100%|██████████████████████████████████████████████████████████| 9911/9911 [00:32<00:00, 308.05it/s]\n",
      "  0%|                                                                      | 0/9919 [00:00<?, ?it/s]"
     ]
    },
    {
     "name": "stdout",
     "output_type": "stream",
     "text": [
      "Number of events: 13875\n"
     ]
    },
    {
     "name": "stderr",
     "output_type": "stream",
     "text": [
      "100%|██████████████████████████████████████████████████████████| 9919/9919 [00:32<00:00, 302.80it/s]\n",
      "  0%|                                                                      | 0/9899 [00:00<?, ?it/s]"
     ]
    },
    {
     "name": "stdout",
     "output_type": "stream",
     "text": [
      "Number of events: 14504\n"
     ]
    },
    {
     "name": "stderr",
     "output_type": "stream",
     "text": [
      "100%|██████████████████████████████████████████████████████████| 9899/9899 [00:32<00:00, 303.70it/s]\n",
      "  0%|                                                                      | 0/9905 [00:00<?, ?it/s]"
     ]
    },
    {
     "name": "stdout",
     "output_type": "stream",
     "text": [
      "Number of events: 15129\n"
     ]
    },
    {
     "name": "stderr",
     "output_type": "stream",
     "text": [
      "100%|██████████████████████████████████████████████████████████| 9905/9905 [00:32<00:00, 303.60it/s]\n",
      "  0%|                                                                      | 0/9927 [00:00<?, ?it/s]"
     ]
    },
    {
     "name": "stdout",
     "output_type": "stream",
     "text": [
      "Number of events: 15738\n"
     ]
    },
    {
     "name": "stderr",
     "output_type": "stream",
     "text": [
      "100%|██████████████████████████████████████████████████████████| 9927/9927 [00:32<00:00, 304.96it/s]\n",
      "  0%|                                                                      | 0/9919 [00:00<?, ?it/s]"
     ]
    },
    {
     "name": "stdout",
     "output_type": "stream",
     "text": [
      "Number of events: 16406\n"
     ]
    },
    {
     "name": "stderr",
     "output_type": "stream",
     "text": [
      "100%|██████████████████████████████████████████████████████████| 9919/9919 [00:32<00:00, 305.70it/s]\n",
      "  0%|                                                                      | 0/9920 [00:00<?, ?it/s]"
     ]
    },
    {
     "name": "stdout",
     "output_type": "stream",
     "text": [
      "Number of events: 17029\n"
     ]
    },
    {
     "name": "stderr",
     "output_type": "stream",
     "text": [
      "100%|██████████████████████████████████████████████████████████| 9920/9920 [00:32<00:00, 307.76it/s]\n",
      "  0%|                                                                      | 0/9914 [00:00<?, ?it/s]"
     ]
    },
    {
     "name": "stdout",
     "output_type": "stream",
     "text": [
      "Number of events: 17636\n"
     ]
    },
    {
     "name": "stderr",
     "output_type": "stream",
     "text": [
      "100%|██████████████████████████████████████████████████████████| 9914/9914 [00:32<00:00, 307.22it/s]\n",
      "  0%|                                                                      | 0/9900 [00:00<?, ?it/s]"
     ]
    },
    {
     "name": "stdout",
     "output_type": "stream",
     "text": [
      "Number of events: 18237\n"
     ]
    },
    {
     "name": "stderr",
     "output_type": "stream",
     "text": [
      "100%|██████████████████████████████████████████████████████████| 9900/9900 [00:32<00:00, 306.66it/s]\n",
      "  0%|                                                                      | 0/9921 [00:00<?, ?it/s]"
     ]
    },
    {
     "name": "stdout",
     "output_type": "stream",
     "text": [
      "Number of events: 18848\n"
     ]
    },
    {
     "name": "stderr",
     "output_type": "stream",
     "text": [
      "100%|██████████████████████████████████████████████████████████| 9921/9921 [00:32<00:00, 303.89it/s]\n",
      "  0%|                                                                      | 0/9905 [00:00<?, ?it/s]"
     ]
    },
    {
     "name": "stdout",
     "output_type": "stream",
     "text": [
      "Number of events: 19445\n"
     ]
    },
    {
     "name": "stderr",
     "output_type": "stream",
     "text": [
      "100%|██████████████████████████████████████████████████████████| 9905/9905 [00:32<00:00, 301.96it/s]\n",
      "  0%|                                                                      | 0/9905 [00:00<?, ?it/s]"
     ]
    },
    {
     "name": "stdout",
     "output_type": "stream",
     "text": [
      "Number of events: 20052\n"
     ]
    },
    {
     "name": "stderr",
     "output_type": "stream",
     "text": [
      "100%|██████████████████████████████████████████████████████████| 9905/9905 [00:32<00:00, 305.95it/s]\n",
      "  0%|                                                                      | 0/9923 [00:00<?, ?it/s]"
     ]
    },
    {
     "name": "stdout",
     "output_type": "stream",
     "text": [
      "Number of events: 20677\n"
     ]
    },
    {
     "name": "stderr",
     "output_type": "stream",
     "text": [
      "100%|██████████████████████████████████████████████████████████| 9923/9923 [00:32<00:00, 304.56it/s]\n",
      "  0%|                                                                      | 0/9911 [00:00<?, ?it/s]"
     ]
    },
    {
     "name": "stdout",
     "output_type": "stream",
     "text": [
      "Number of events: 21306\n"
     ]
    },
    {
     "name": "stderr",
     "output_type": "stream",
     "text": [
      "100%|██████████████████████████████████████████████████████████| 9911/9911 [00:32<00:00, 306.28it/s]\n",
      "  0%|                                                                      | 0/9919 [00:00<?, ?it/s]"
     ]
    },
    {
     "name": "stdout",
     "output_type": "stream",
     "text": [
      "Number of events: 21928\n"
     ]
    },
    {
     "name": "stderr",
     "output_type": "stream",
     "text": [
      "100%|██████████████████████████████████████████████████████████| 9919/9919 [00:32<00:00, 304.74it/s]\n",
      "  0%|                                                                      | 0/9921 [00:00<?, ?it/s]"
     ]
    },
    {
     "name": "stdout",
     "output_type": "stream",
     "text": [
      "Number of events: 22577\n"
     ]
    },
    {
     "name": "stderr",
     "output_type": "stream",
     "text": [
      "100%|██████████████████████████████████████████████████████████| 9921/9921 [00:32<00:00, 304.02it/s]\n",
      "  0%|                                                                      | 0/9914 [00:00<?, ?it/s]"
     ]
    },
    {
     "name": "stdout",
     "output_type": "stream",
     "text": [
      "Number of events: 23210\n"
     ]
    },
    {
     "name": "stderr",
     "output_type": "stream",
     "text": [
      "100%|██████████████████████████████████████████████████████████| 9914/9914 [00:32<00:00, 308.08it/s]\n",
      "  0%|                                                                      | 0/9902 [00:00<?, ?it/s]"
     ]
    },
    {
     "name": "stdout",
     "output_type": "stream",
     "text": [
      "Number of events: 23848\n"
     ]
    },
    {
     "name": "stderr",
     "output_type": "stream",
     "text": [
      "100%|██████████████████████████████████████████████████████████| 9902/9902 [00:32<00:00, 305.92it/s]\n",
      "  0%|                                                                      | 0/9908 [00:00<?, ?it/s]"
     ]
    },
    {
     "name": "stdout",
     "output_type": "stream",
     "text": [
      "Number of events: 24463\n"
     ]
    },
    {
     "name": "stderr",
     "output_type": "stream",
     "text": [
      "100%|██████████████████████████████████████████████████████████| 9908/9908 [00:32<00:00, 306.77it/s]\n",
      "  0%|                                                                      | 0/9894 [00:00<?, ?it/s]"
     ]
    },
    {
     "name": "stdout",
     "output_type": "stream",
     "text": [
      "Number of events: 25048\n"
     ]
    },
    {
     "name": "stderr",
     "output_type": "stream",
     "text": [
      "100%|██████████████████████████████████████████████████████████| 9894/9894 [00:32<00:00, 305.29it/s]\n",
      "  0%|                                                                      | 0/9894 [00:00<?, ?it/s]"
     ]
    },
    {
     "name": "stdout",
     "output_type": "stream",
     "text": [
      "Number of events: 25670\n"
     ]
    },
    {
     "name": "stderr",
     "output_type": "stream",
     "text": [
      "100%|██████████████████████████████████████████████████████████| 9894/9894 [00:32<00:00, 301.21it/s]\n",
      "  0%|                                                                      | 0/9908 [00:00<?, ?it/s]"
     ]
    },
    {
     "name": "stdout",
     "output_type": "stream",
     "text": [
      "Number of events: 26276\n"
     ]
    },
    {
     "name": "stderr",
     "output_type": "stream",
     "text": [
      "100%|██████████████████████████████████████████████████████████| 9908/9908 [00:32<00:00, 303.15it/s]\n",
      "  0%|                                                                      | 0/9915 [00:00<?, ?it/s]"
     ]
    },
    {
     "name": "stdout",
     "output_type": "stream",
     "text": [
      "Number of events: 26917\n"
     ]
    },
    {
     "name": "stderr",
     "output_type": "stream",
     "text": [
      "100%|██████████████████████████████████████████████████████████| 9915/9915 [00:32<00:00, 308.98it/s]\n",
      "  0%|                                                                      | 0/9911 [00:00<?, ?it/s]"
     ]
    },
    {
     "name": "stdout",
     "output_type": "stream",
     "text": [
      "Number of events: 27590\n"
     ]
    },
    {
     "name": "stderr",
     "output_type": "stream",
     "text": [
      "100%|██████████████████████████████████████████████████████████| 9911/9911 [00:32<00:00, 306.20it/s]\n",
      "  0%|                                                                      | 0/9915 [00:00<?, ?it/s]"
     ]
    },
    {
     "name": "stdout",
     "output_type": "stream",
     "text": [
      "Number of events: 28253\n"
     ]
    },
    {
     "name": "stderr",
     "output_type": "stream",
     "text": [
      "100%|██████████████████████████████████████████████████████████| 9915/9915 [00:32<00:00, 304.15it/s]\n",
      "  0%|                                                                      | 0/9887 [00:00<?, ?it/s]"
     ]
    },
    {
     "name": "stdout",
     "output_type": "stream",
     "text": [
      "Number of events: 28854\n"
     ]
    },
    {
     "name": "stderr",
     "output_type": "stream",
     "text": [
      "100%|██████████████████████████████████████████████████████████| 9887/9887 [00:32<00:00, 306.10it/s]\n",
      "  0%|                                                                      | 0/9913 [00:00<?, ?it/s]"
     ]
    },
    {
     "name": "stdout",
     "output_type": "stream",
     "text": [
      "Number of events: 29458\n"
     ]
    },
    {
     "name": "stderr",
     "output_type": "stream",
     "text": [
      "100%|██████████████████████████████████████████████████████████| 9913/9913 [00:32<00:00, 304.89it/s]\n",
      "  0%|                                                                      | 0/9924 [00:00<?, ?it/s]"
     ]
    },
    {
     "name": "stdout",
     "output_type": "stream",
     "text": [
      "Number of events: 30088\n"
     ]
    },
    {
     "name": "stderr",
     "output_type": "stream",
     "text": [
      "100%|██████████████████████████████████████████████████████████| 9924/9924 [00:32<00:00, 304.30it/s]\n",
      "  0%|                                                                      | 0/9905 [00:00<?, ?it/s]"
     ]
    },
    {
     "name": "stdout",
     "output_type": "stream",
     "text": [
      "Number of events: 30747\n"
     ]
    },
    {
     "name": "stderr",
     "output_type": "stream",
     "text": [
      "100%|██████████████████████████████████████████████████████████| 9905/9905 [00:32<00:00, 307.07it/s]\n",
      "  0%|                                                                      | 0/9916 [00:00<?, ?it/s]"
     ]
    },
    {
     "name": "stdout",
     "output_type": "stream",
     "text": [
      "Number of events: 31372\n"
     ]
    },
    {
     "name": "stderr",
     "output_type": "stream",
     "text": [
      "100%|██████████████████████████████████████████████████████████| 9916/9916 [00:32<00:00, 308.69it/s]\n",
      "  0%|                                                                      | 0/9924 [00:00<?, ?it/s]"
     ]
    },
    {
     "name": "stdout",
     "output_type": "stream",
     "text": [
      "Number of events: 32034\n"
     ]
    },
    {
     "name": "stderr",
     "output_type": "stream",
     "text": [
      "100%|██████████████████████████████████████████████████████████| 9924/9924 [00:32<00:00, 307.79it/s]\n",
      "  0%|                                                                      | 0/9910 [00:00<?, ?it/s]"
     ]
    },
    {
     "name": "stdout",
     "output_type": "stream",
     "text": [
      "Number of events: 32649\n"
     ]
    },
    {
     "name": "stderr",
     "output_type": "stream",
     "text": [
      "100%|██████████████████████████████████████████████████████████| 9910/9910 [00:32<00:00, 307.01it/s]\n",
      "  0%|                                                                      | 0/9913 [00:00<?, ?it/s]"
     ]
    },
    {
     "name": "stdout",
     "output_type": "stream",
     "text": [
      "Number of events: 33271\n"
     ]
    },
    {
     "name": "stderr",
     "output_type": "stream",
     "text": [
      "100%|██████████████████████████████████████████████████████████| 9913/9913 [00:32<00:00, 308.38it/s]\n",
      "  0%|                                                                      | 0/9908 [00:00<?, ?it/s]"
     ]
    },
    {
     "name": "stdout",
     "output_type": "stream",
     "text": [
      "Number of events: 33857\n"
     ]
    },
    {
     "name": "stderr",
     "output_type": "stream",
     "text": [
      "100%|██████████████████████████████████████████████████████████| 9908/9908 [00:32<00:00, 306.86it/s]\n",
      "  0%|                                                                      | 0/9904 [00:00<?, ?it/s]"
     ]
    },
    {
     "name": "stdout",
     "output_type": "stream",
     "text": [
      "Number of events: 34467\n"
     ]
    },
    {
     "name": "stderr",
     "output_type": "stream",
     "text": [
      "100%|██████████████████████████████████████████████████████████| 9904/9904 [00:32<00:00, 304.62it/s]\n",
      "  0%|                                                                      | 0/9910 [00:00<?, ?it/s]"
     ]
    },
    {
     "name": "stdout",
     "output_type": "stream",
     "text": [
      "Number of events: 35067\n"
     ]
    },
    {
     "name": "stderr",
     "output_type": "stream",
     "text": [
      "100%|██████████████████████████████████████████████████████████| 9910/9910 [00:32<00:00, 304.91it/s]\n",
      "  0%|                                                                      | 0/9903 [00:00<?, ?it/s]"
     ]
    },
    {
     "name": "stdout",
     "output_type": "stream",
     "text": [
      "Number of events: 35726\n"
     ]
    },
    {
     "name": "stderr",
     "output_type": "stream",
     "text": [
      "100%|██████████████████████████████████████████████████████████| 9903/9903 [00:32<00:00, 301.39it/s]\n",
      "  0%|                                                                      | 0/9910 [00:00<?, ?it/s]"
     ]
    },
    {
     "name": "stdout",
     "output_type": "stream",
     "text": [
      "Number of events: 36371\n"
     ]
    },
    {
     "name": "stderr",
     "output_type": "stream",
     "text": [
      "100%|██████████████████████████████████████████████████████████| 9910/9910 [00:32<00:00, 306.30it/s]\n",
      "  0%|                                                                      | 0/9901 [00:00<?, ?it/s]"
     ]
    },
    {
     "name": "stdout",
     "output_type": "stream",
     "text": [
      "Number of events: 36980\n"
     ]
    },
    {
     "name": "stderr",
     "output_type": "stream",
     "text": [
      "100%|██████████████████████████████████████████████████████████| 9901/9901 [00:32<00:00, 306.46it/s]\n",
      "  0%|                                                                      | 0/9912 [00:00<?, ?it/s]"
     ]
    },
    {
     "name": "stdout",
     "output_type": "stream",
     "text": [
      "Number of events: 37624\n"
     ]
    },
    {
     "name": "stderr",
     "output_type": "stream",
     "text": [
      "100%|██████████████████████████████████████████████████████████| 9912/9912 [00:32<00:00, 306.33it/s]\n",
      "  0%|                                                                      | 0/9914 [00:00<?, ?it/s]"
     ]
    },
    {
     "name": "stdout",
     "output_type": "stream",
     "text": [
      "Number of events: 38263\n"
     ]
    },
    {
     "name": "stderr",
     "output_type": "stream",
     "text": [
      "100%|██████████████████████████████████████████████████████████| 9914/9914 [00:32<00:00, 300.70it/s]\n",
      "  0%|                                                                      | 0/9908 [00:00<?, ?it/s]"
     ]
    },
    {
     "name": "stdout",
     "output_type": "stream",
     "text": [
      "Number of events: 38885\n"
     ]
    },
    {
     "name": "stderr",
     "output_type": "stream",
     "text": [
      "100%|██████████████████████████████████████████████████████████| 9908/9908 [00:32<00:00, 305.50it/s]\n",
      "  0%|                                                                      | 0/9892 [00:00<?, ?it/s]"
     ]
    },
    {
     "name": "stdout",
     "output_type": "stream",
     "text": [
      "Number of events: 39537\n"
     ]
    },
    {
     "name": "stderr",
     "output_type": "stream",
     "text": [
      "100%|██████████████████████████████████████████████████████████| 9892/9892 [00:32<00:00, 308.16it/s]\n",
      "  0%|                                                                      | 0/9903 [00:00<?, ?it/s]"
     ]
    },
    {
     "name": "stdout",
     "output_type": "stream",
     "text": [
      "Number of events: 40183\n"
     ]
    },
    {
     "name": "stderr",
     "output_type": "stream",
     "text": [
      "100%|██████████████████████████████████████████████████████████| 9903/9903 [00:32<00:00, 305.47it/s]\n",
      "  0%|                                                                      | 0/9907 [00:00<?, ?it/s]"
     ]
    },
    {
     "name": "stdout",
     "output_type": "stream",
     "text": [
      "Number of events: 40808\n"
     ]
    },
    {
     "name": "stderr",
     "output_type": "stream",
     "text": [
      "100%|██████████████████████████████████████████████████████████| 9907/9907 [00:32<00:00, 308.97it/s]\n",
      "  0%|                                                                      | 0/9903 [00:00<?, ?it/s]"
     ]
    },
    {
     "name": "stdout",
     "output_type": "stream",
     "text": [
      "Number of events: 41418\n"
     ]
    },
    {
     "name": "stderr",
     "output_type": "stream",
     "text": [
      "100%|██████████████████████████████████████████████████████████| 9903/9903 [00:32<00:00, 305.40it/s]\n",
      "  0%|                                                                      | 0/9893 [00:00<?, ?it/s]"
     ]
    },
    {
     "name": "stdout",
     "output_type": "stream",
     "text": [
      "Number of events: 41987\n"
     ]
    },
    {
     "name": "stderr",
     "output_type": "stream",
     "text": [
      "100%|██████████████████████████████████████████████████████████| 9893/9893 [00:32<00:00, 305.68it/s]\n",
      "  0%|                                                                      | 0/9912 [00:00<?, ?it/s]"
     ]
    },
    {
     "name": "stdout",
     "output_type": "stream",
     "text": [
      "Number of events: 42588\n"
     ]
    },
    {
     "name": "stderr",
     "output_type": "stream",
     "text": [
      "100%|██████████████████████████████████████████████████████████| 9912/9912 [00:33<00:00, 298.89it/s]\n",
      "  0%|                                                                      | 0/9904 [00:00<?, ?it/s]"
     ]
    },
    {
     "name": "stdout",
     "output_type": "stream",
     "text": [
      "Number of events: 43240\n"
     ]
    },
    {
     "name": "stderr",
     "output_type": "stream",
     "text": [
      "100%|██████████████████████████████████████████████████████████| 9904/9904 [00:32<00:00, 305.63it/s]\n",
      "  0%|                                                                      | 0/9910 [00:00<?, ?it/s]"
     ]
    },
    {
     "name": "stdout",
     "output_type": "stream",
     "text": [
      "Number of events: 43840\n"
     ]
    },
    {
     "name": "stderr",
     "output_type": "stream",
     "text": [
      "100%|██████████████████████████████████████████████████████████| 9910/9910 [00:31<00:00, 311.30it/s]\n",
      "  0%|                                                                      | 0/9885 [00:00<?, ?it/s]"
     ]
    },
    {
     "name": "stdout",
     "output_type": "stream",
     "text": [
      "Number of events: 44445\n"
     ]
    },
    {
     "name": "stderr",
     "output_type": "stream",
     "text": [
      "100%|██████████████████████████████████████████████████████████| 9885/9885 [00:32<00:00, 307.54it/s]\n",
      "  0%|                                                                      | 0/9924 [00:00<?, ?it/s]"
     ]
    },
    {
     "name": "stdout",
     "output_type": "stream",
     "text": [
      "Number of events: 45059\n"
     ]
    },
    {
     "name": "stderr",
     "output_type": "stream",
     "text": [
      "100%|██████████████████████████████████████████████████████████| 9924/9924 [00:32<00:00, 305.00it/s]\n",
      "  0%|                                                                      | 0/9914 [00:00<?, ?it/s]"
     ]
    },
    {
     "name": "stdout",
     "output_type": "stream",
     "text": [
      "Number of events: 45728\n"
     ]
    },
    {
     "name": "stderr",
     "output_type": "stream",
     "text": [
      "100%|██████████████████████████████████████████████████████████| 9914/9914 [00:32<00:00, 305.75it/s]\n",
      "  0%|                                                                      | 0/9904 [00:00<?, ?it/s]"
     ]
    },
    {
     "name": "stdout",
     "output_type": "stream",
     "text": [
      "Number of events: 46373\n"
     ]
    },
    {
     "name": "stderr",
     "output_type": "stream",
     "text": [
      "100%|██████████████████████████████████████████████████████████| 9904/9904 [00:32<00:00, 305.71it/s]\n",
      "  0%|                                                                      | 0/9910 [00:00<?, ?it/s]"
     ]
    },
    {
     "name": "stdout",
     "output_type": "stream",
     "text": [
      "Number of events: 46990\n"
     ]
    },
    {
     "name": "stderr",
     "output_type": "stream",
     "text": [
      "100%|██████████████████████████████████████████████████████████| 9910/9910 [00:32<00:00, 302.53it/s]\n",
      "  0%|                                                                      | 0/9905 [00:00<?, ?it/s]"
     ]
    },
    {
     "name": "stdout",
     "output_type": "stream",
     "text": [
      "Number of events: 47641\n"
     ]
    },
    {
     "name": "stderr",
     "output_type": "stream",
     "text": [
      "100%|██████████████████████████████████████████████████████████| 9905/9905 [00:32<00:00, 303.69it/s]\n",
      "  0%|                                                                      | 0/9897 [00:00<?, ?it/s]"
     ]
    },
    {
     "name": "stdout",
     "output_type": "stream",
     "text": [
      "Number of events: 48242\n"
     ]
    },
    {
     "name": "stderr",
     "output_type": "stream",
     "text": [
      "100%|██████████████████████████████████████████████████████████| 9897/9897 [00:32<00:00, 307.59it/s]\n",
      "  0%|                                                                      | 0/9904 [00:00<?, ?it/s]"
     ]
    },
    {
     "name": "stdout",
     "output_type": "stream",
     "text": [
      "Number of events: 48883\n"
     ]
    },
    {
     "name": "stderr",
     "output_type": "stream",
     "text": [
      "100%|██████████████████████████████████████████████████████████| 9904/9904 [00:32<00:00, 308.11it/s]\n",
      "  0%|                                                                      | 0/9922 [00:00<?, ?it/s]"
     ]
    },
    {
     "name": "stdout",
     "output_type": "stream",
     "text": [
      "Number of events: 49520\n"
     ]
    },
    {
     "name": "stderr",
     "output_type": "stream",
     "text": [
      "100%|██████████████████████████████████████████████████████████| 9922/9922 [00:32<00:00, 304.63it/s]\n",
      "  0%|                                                                      | 0/9908 [00:00<?, ?it/s]"
     ]
    },
    {
     "name": "stdout",
     "output_type": "stream",
     "text": [
      "Number of events: 50162\n"
     ]
    },
    {
     "name": "stderr",
     "output_type": "stream",
     "text": [
      "100%|██████████████████████████████████████████████████████████| 9908/9908 [00:32<00:00, 305.18it/s]\n",
      "  0%|                                                                      | 0/9908 [00:00<?, ?it/s]"
     ]
    },
    {
     "name": "stdout",
     "output_type": "stream",
     "text": [
      "Number of events: 50762\n"
     ]
    },
    {
     "name": "stderr",
     "output_type": "stream",
     "text": [
      "100%|██████████████████████████████████████████████████████████| 9908/9908 [00:32<00:00, 305.32it/s]\n",
      "  0%|                                                                      | 0/9900 [00:00<?, ?it/s]"
     ]
    },
    {
     "name": "stdout",
     "output_type": "stream",
     "text": [
      "Number of events: 51392\n"
     ]
    },
    {
     "name": "stderr",
     "output_type": "stream",
     "text": [
      "100%|██████████████████████████████████████████████████████████| 9900/9900 [00:32<00:00, 306.86it/s]\n",
      "  0%|                                                                      | 0/9910 [00:00<?, ?it/s]"
     ]
    },
    {
     "name": "stdout",
     "output_type": "stream",
     "text": [
      "Number of events: 51986\n"
     ]
    },
    {
     "name": "stderr",
     "output_type": "stream",
     "text": [
      "100%|██████████████████████████████████████████████████████████| 9910/9910 [00:32<00:00, 302.42it/s]\n",
      "  0%|                                                                      | 0/9896 [00:00<?, ?it/s]"
     ]
    },
    {
     "name": "stdout",
     "output_type": "stream",
     "text": [
      "Number of events: 52594\n"
     ]
    },
    {
     "name": "stderr",
     "output_type": "stream",
     "text": [
      "100%|██████████████████████████████████████████████████████████| 9896/9896 [00:32<00:00, 302.49it/s]\n",
      "  0%|                                                                      | 0/9905 [00:00<?, ?it/s]"
     ]
    },
    {
     "name": "stdout",
     "output_type": "stream",
     "text": [
      "Number of events: 53195\n"
     ]
    },
    {
     "name": "stderr",
     "output_type": "stream",
     "text": [
      "100%|██████████████████████████████████████████████████████████| 9905/9905 [00:32<00:00, 306.25it/s]\n",
      "  0%|                                                                      | 0/9902 [00:00<?, ?it/s]"
     ]
    },
    {
     "name": "stdout",
     "output_type": "stream",
     "text": [
      "Number of events: 53835\n"
     ]
    },
    {
     "name": "stderr",
     "output_type": "stream",
     "text": [
      "100%|██████████████████████████████████████████████████████████| 9902/9902 [00:32<00:00, 305.54it/s]\n",
      "  0%|                                                                      | 0/9902 [00:00<?, ?it/s]"
     ]
    },
    {
     "name": "stdout",
     "output_type": "stream",
     "text": [
      "Number of events: 54461\n"
     ]
    },
    {
     "name": "stderr",
     "output_type": "stream",
     "text": [
      "100%|██████████████████████████████████████████████████████████| 9902/9902 [00:32<00:00, 307.94it/s]\n",
      "  0%|                                                                      | 0/9920 [00:00<?, ?it/s]"
     ]
    },
    {
     "name": "stdout",
     "output_type": "stream",
     "text": [
      "Number of events: 55085\n"
     ]
    },
    {
     "name": "stderr",
     "output_type": "stream",
     "text": [
      "100%|██████████████████████████████████████████████████████████| 9920/9920 [00:32<00:00, 306.74it/s]\n",
      "  0%|                                                                      | 0/9920 [00:00<?, ?it/s]"
     ]
    },
    {
     "name": "stdout",
     "output_type": "stream",
     "text": [
      "Number of events: 55721\n"
     ]
    },
    {
     "name": "stderr",
     "output_type": "stream",
     "text": [
      "100%|██████████████████████████████████████████████████████████| 9920/9920 [00:32<00:00, 307.11it/s]\n",
      "  0%|                                                                      | 0/9910 [00:00<?, ?it/s]"
     ]
    },
    {
     "name": "stdout",
     "output_type": "stream",
     "text": [
      "Number of events: 56368\n"
     ]
    },
    {
     "name": "stderr",
     "output_type": "stream",
     "text": [
      "100%|██████████████████████████████████████████████████████████| 9910/9910 [00:32<00:00, 308.52it/s]\n",
      "  0%|                                                                      | 0/9923 [00:00<?, ?it/s]"
     ]
    },
    {
     "name": "stdout",
     "output_type": "stream",
     "text": [
      "Number of events: 56973\n"
     ]
    },
    {
     "name": "stderr",
     "output_type": "stream",
     "text": [
      "100%|██████████████████████████████████████████████████████████| 9923/9923 [00:32<00:00, 304.31it/s]\n",
      "  0%|                                                                      | 0/9907 [00:00<?, ?it/s]"
     ]
    },
    {
     "name": "stdout",
     "output_type": "stream",
     "text": [
      "Number of events: 57607\n"
     ]
    },
    {
     "name": "stderr",
     "output_type": "stream",
     "text": [
      "100%|██████████████████████████████████████████████████████████| 9907/9907 [00:32<00:00, 306.71it/s]\n",
      "  0%|                                                                      | 0/9908 [00:00<?, ?it/s]"
     ]
    },
    {
     "name": "stdout",
     "output_type": "stream",
     "text": [
      "Number of events: 58269\n"
     ]
    },
    {
     "name": "stderr",
     "output_type": "stream",
     "text": [
      "100%|██████████████████████████████████████████████████████████| 9908/9908 [00:32<00:00, 306.57it/s]\n",
      "  0%|                                                                      | 0/9920 [00:00<?, ?it/s]"
     ]
    },
    {
     "name": "stdout",
     "output_type": "stream",
     "text": [
      "Number of events: 58915\n"
     ]
    },
    {
     "name": "stderr",
     "output_type": "stream",
     "text": [
      "100%|██████████████████████████████████████████████████████████| 9920/9920 [00:32<00:00, 308.25it/s]\n",
      "  0%|                                                                      | 0/9921 [00:00<?, ?it/s]"
     ]
    },
    {
     "name": "stdout",
     "output_type": "stream",
     "text": [
      "Number of events: 59589\n"
     ]
    },
    {
     "name": "stderr",
     "output_type": "stream",
     "text": [
      "100%|██████████████████████████████████████████████████████████| 9921/9921 [00:32<00:00, 305.09it/s]\n",
      "  0%|                                                                      | 0/9920 [00:00<?, ?it/s]"
     ]
    },
    {
     "name": "stdout",
     "output_type": "stream",
     "text": [
      "Number of events: 60218\n"
     ]
    },
    {
     "name": "stderr",
     "output_type": "stream",
     "text": [
      "100%|██████████████████████████████████████████████████████████| 9920/9920 [00:32<00:00, 304.83it/s]\n",
      "  0%|                                                                      | 0/9907 [00:00<?, ?it/s]"
     ]
    },
    {
     "name": "stdout",
     "output_type": "stream",
     "text": [
      "Number of events: 60880\n"
     ]
    },
    {
     "name": "stderr",
     "output_type": "stream",
     "text": [
      "100%|██████████████████████████████████████████████████████████| 9907/9907 [00:32<00:00, 305.85it/s]\n",
      "  0%|                                                                      | 0/9907 [00:00<?, ?it/s]"
     ]
    },
    {
     "name": "stdout",
     "output_type": "stream",
     "text": [
      "Number of events: 61508\n"
     ]
    },
    {
     "name": "stderr",
     "output_type": "stream",
     "text": [
      "100%|██████████████████████████████████████████████████████████| 9907/9907 [00:32<00:00, 306.60it/s]\n",
      "  0%|                                                                      | 0/9923 [00:00<?, ?it/s]"
     ]
    },
    {
     "name": "stdout",
     "output_type": "stream",
     "text": [
      "Number of events: 62177\n"
     ]
    },
    {
     "name": "stderr",
     "output_type": "stream",
     "text": [
      "100%|██████████████████████████████████████████████████████████| 9923/9923 [00:32<00:00, 307.00it/s]\n",
      "  0%|                                                                      | 0/9922 [00:00<?, ?it/s]"
     ]
    },
    {
     "name": "stdout",
     "output_type": "stream",
     "text": [
      "Number of events: 62840\n"
     ]
    },
    {
     "name": "stderr",
     "output_type": "stream",
     "text": [
      "100%|██████████████████████████████████████████████████████████| 9922/9922 [00:32<00:00, 305.13it/s]\n",
      "  0%|                                                                      | 0/9908 [00:00<?, ?it/s]"
     ]
    },
    {
     "name": "stdout",
     "output_type": "stream",
     "text": [
      "Number of events: 63450\n"
     ]
    },
    {
     "name": "stderr",
     "output_type": "stream",
     "text": [
      "100%|██████████████████████████████████████████████████████████| 9908/9908 [00:32<00:00, 307.29it/s]\n",
      "  0%|                                                                      | 0/9917 [00:00<?, ?it/s]"
     ]
    },
    {
     "name": "stdout",
     "output_type": "stream",
     "text": [
      "Number of events: 64041\n"
     ]
    },
    {
     "name": "stderr",
     "output_type": "stream",
     "text": [
      "100%|██████████████████████████████████████████████████████████| 9917/9917 [00:32<00:00, 303.78it/s]\n",
      "  0%|                                                                      | 0/9924 [00:00<?, ?it/s]"
     ]
    },
    {
     "name": "stdout",
     "output_type": "stream",
     "text": [
      "Number of events: 64689\n"
     ]
    },
    {
     "name": "stderr",
     "output_type": "stream",
     "text": [
      "100%|██████████████████████████████████████████████████████████| 9924/9924 [00:32<00:00, 308.76it/s]\n",
      "  0%|                                                                      | 0/9911 [00:00<?, ?it/s]"
     ]
    },
    {
     "name": "stdout",
     "output_type": "stream",
     "text": [
      "Number of events: 65331\n"
     ]
    },
    {
     "name": "stderr",
     "output_type": "stream",
     "text": [
      "100%|██████████████████████████████████████████████████████████| 9911/9911 [00:32<00:00, 306.68it/s]\n",
      "  0%|                                                                      | 0/9907 [00:00<?, ?it/s]"
     ]
    },
    {
     "name": "stdout",
     "output_type": "stream",
     "text": [
      "Number of events: 65931\n"
     ]
    },
    {
     "name": "stderr",
     "output_type": "stream",
     "text": [
      "100%|██████████████████████████████████████████████████████████| 9907/9907 [00:32<00:00, 306.92it/s]\n",
      "  0%|                                                                      | 0/9907 [00:00<?, ?it/s]"
     ]
    },
    {
     "name": "stdout",
     "output_type": "stream",
     "text": [
      "Number of events: 66539\n"
     ]
    },
    {
     "name": "stderr",
     "output_type": "stream",
     "text": [
      "100%|██████████████████████████████████████████████████████████| 9907/9907 [00:32<00:00, 304.02it/s]\n",
      "  0%|                                                                      | 0/9897 [00:00<?, ?it/s]"
     ]
    },
    {
     "name": "stdout",
     "output_type": "stream",
     "text": [
      "Number of events: 67171\n"
     ]
    },
    {
     "name": "stderr",
     "output_type": "stream",
     "text": [
      "100%|██████████████████████████████████████████████████████████| 9897/9897 [00:31<00:00, 309.74it/s]\n",
      "  0%|                                                                      | 0/9922 [00:00<?, ?it/s]"
     ]
    },
    {
     "name": "stdout",
     "output_type": "stream",
     "text": [
      "Number of events: 67841\n"
     ]
    },
    {
     "name": "stderr",
     "output_type": "stream",
     "text": [
      "100%|██████████████████████████████████████████████████████████| 9922/9922 [00:32<00:00, 304.64it/s]\n",
      "  0%|                                                                      | 0/9921 [00:00<?, ?it/s]"
     ]
    },
    {
     "name": "stdout",
     "output_type": "stream",
     "text": [
      "Number of events: 68481\n"
     ]
    },
    {
     "name": "stderr",
     "output_type": "stream",
     "text": [
      "100%|██████████████████████████████████████████████████████████| 9921/9921 [00:32<00:00, 304.79it/s]\n",
      "  0%|                                                                      | 0/9909 [00:00<?, ?it/s]"
     ]
    },
    {
     "name": "stdout",
     "output_type": "stream",
     "text": [
      "Number of events: 69091\n"
     ]
    },
    {
     "name": "stderr",
     "output_type": "stream",
     "text": [
      "100%|██████████████████████████████████████████████████████████| 9909/9909 [00:32<00:00, 301.94it/s]\n",
      "  0%|                                                                      | 0/9902 [00:00<?, ?it/s]"
     ]
    },
    {
     "name": "stdout",
     "output_type": "stream",
     "text": [
      "Number of events: 69713\n"
     ]
    },
    {
     "name": "stderr",
     "output_type": "stream",
     "text": [
      "100%|██████████████████████████████████████████████████████████| 9902/9902 [00:32<00:00, 303.36it/s]\n",
      "  0%|                                                                      | 0/9913 [00:00<?, ?it/s]"
     ]
    },
    {
     "name": "stdout",
     "output_type": "stream",
     "text": [
      "Number of events: 70356\n"
     ]
    },
    {
     "name": "stderr",
     "output_type": "stream",
     "text": [
      "100%|██████████████████████████████████████████████████████████| 9913/9913 [00:32<00:00, 306.44it/s]\n",
      "  0%|                                                                      | 0/9908 [00:00<?, ?it/s]"
     ]
    },
    {
     "name": "stdout",
     "output_type": "stream",
     "text": [
      "Number of events: 71008\n"
     ]
    },
    {
     "name": "stderr",
     "output_type": "stream",
     "text": [
      "100%|██████████████████████████████████████████████████████████| 9908/9908 [00:32<00:00, 306.83it/s]\n",
      "  0%|                                                                      | 0/9901 [00:00<?, ?it/s]"
     ]
    },
    {
     "name": "stdout",
     "output_type": "stream",
     "text": [
      "Number of events: 71602\n"
     ]
    },
    {
     "name": "stderr",
     "output_type": "stream",
     "text": [
      "100%|██████████████████████████████████████████████████████████| 9901/9901 [00:32<00:00, 309.21it/s]\n",
      "  0%|                                                                      | 0/9914 [00:00<?, ?it/s]"
     ]
    },
    {
     "name": "stdout",
     "output_type": "stream",
     "text": [
      "Number of events: 72260\n"
     ]
    },
    {
     "name": "stderr",
     "output_type": "stream",
     "text": [
      "100%|██████████████████████████████████████████████████████████| 9914/9914 [00:32<00:00, 307.30it/s]\n",
      "  0%|                                                                      | 0/9914 [00:00<?, ?it/s]"
     ]
    },
    {
     "name": "stdout",
     "output_type": "stream",
     "text": [
      "Number of events: 72908\n"
     ]
    },
    {
     "name": "stderr",
     "output_type": "stream",
     "text": [
      "100%|██████████████████████████████████████████████████████████| 9914/9914 [00:32<00:00, 303.38it/s]\n",
      "  0%|                                                                      | 0/9900 [00:00<?, ?it/s]"
     ]
    },
    {
     "name": "stdout",
     "output_type": "stream",
     "text": [
      "Number of events: 73547\n"
     ]
    },
    {
     "name": "stderr",
     "output_type": "stream",
     "text": [
      "100%|██████████████████████████████████████████████████████████| 9900/9900 [00:32<00:00, 301.63it/s]\n",
      "  0%|                                                                      | 0/9882 [00:00<?, ?it/s]"
     ]
    },
    {
     "name": "stdout",
     "output_type": "stream",
     "text": [
      "Number of events: 74177\n"
     ]
    },
    {
     "name": "stderr",
     "output_type": "stream",
     "text": [
      "100%|██████████████████████████████████████████████████████████| 9882/9882 [00:32<00:00, 307.18it/s]\n",
      "  0%|                                                                      | 0/9896 [00:00<?, ?it/s]"
     ]
    },
    {
     "name": "stdout",
     "output_type": "stream",
     "text": [
      "Number of events: 74814\n"
     ]
    },
    {
     "name": "stderr",
     "output_type": "stream",
     "text": [
      "100%|██████████████████████████████████████████████████████████| 9896/9896 [00:32<00:00, 307.24it/s]\n",
      "  0%|                                                                      | 0/9929 [00:00<?, ?it/s]"
     ]
    },
    {
     "name": "stdout",
     "output_type": "stream",
     "text": [
      "Number of events: 75440\n"
     ]
    },
    {
     "name": "stderr",
     "output_type": "stream",
     "text": [
      "100%|██████████████████████████████████████████████████████████| 9929/9929 [00:32<00:00, 308.37it/s]\n",
      "  0%|                                                                      | 0/9904 [00:00<?, ?it/s]"
     ]
    },
    {
     "name": "stdout",
     "output_type": "stream",
     "text": [
      "Number of events: 76072\n"
     ]
    },
    {
     "name": "stderr",
     "output_type": "stream",
     "text": [
      "100%|██████████████████████████████████████████████████████████| 9904/9904 [00:32<00:00, 300.60it/s]\n",
      "  0%|                                                                      | 0/9901 [00:00<?, ?it/s]"
     ]
    },
    {
     "name": "stdout",
     "output_type": "stream",
     "text": [
      "Number of events: 76691\n"
     ]
    },
    {
     "name": "stderr",
     "output_type": "stream",
     "text": [
      "100%|██████████████████████████████████████████████████████████| 9901/9901 [00:32<00:00, 307.92it/s]\n",
      "  0%|                                                                      | 0/9915 [00:00<?, ?it/s]"
     ]
    },
    {
     "name": "stdout",
     "output_type": "stream",
     "text": [
      "Number of events: 77352\n"
     ]
    },
    {
     "name": "stderr",
     "output_type": "stream",
     "text": [
      "100%|██████████████████████████████████████████████████████████| 9915/9915 [00:32<00:00, 307.53it/s]\n",
      "  0%|                                                                      | 0/9924 [00:00<?, ?it/s]"
     ]
    },
    {
     "name": "stdout",
     "output_type": "stream",
     "text": [
      "Number of events: 77989\n"
     ]
    },
    {
     "name": "stderr",
     "output_type": "stream",
     "text": [
      "100%|██████████████████████████████████████████████████████████| 9924/9924 [00:32<00:00, 308.58it/s]\n",
      "  0%|                                                                      | 0/9908 [00:00<?, ?it/s]"
     ]
    },
    {
     "name": "stdout",
     "output_type": "stream",
     "text": [
      "Number of events: 78590\n"
     ]
    },
    {
     "name": "stderr",
     "output_type": "stream",
     "text": [
      "100%|██████████████████████████████████████████████████████████| 9908/9908 [00:32<00:00, 304.62it/s]\n",
      "  0%|                                                                      | 0/9912 [00:00<?, ?it/s]"
     ]
    },
    {
     "name": "stdout",
     "output_type": "stream",
     "text": [
      "Number of events: 79250\n"
     ]
    },
    {
     "name": "stderr",
     "output_type": "stream",
     "text": [
      "100%|██████████████████████████████████████████████████████████| 9912/9912 [00:32<00:00, 300.98it/s]\n",
      "  0%|                                                                      | 0/9909 [00:00<?, ?it/s]"
     ]
    },
    {
     "name": "stdout",
     "output_type": "stream",
     "text": [
      "Number of events: 79886\n"
     ]
    },
    {
     "name": "stderr",
     "output_type": "stream",
     "text": [
      "100%|██████████████████████████████████████████████████████████| 9909/9909 [00:33<00:00, 297.98it/s]\n",
      "  0%|                                                                      | 0/9914 [00:00<?, ?it/s]"
     ]
    },
    {
     "name": "stdout",
     "output_type": "stream",
     "text": [
      "Number of events: 80586\n"
     ]
    },
    {
     "name": "stderr",
     "output_type": "stream",
     "text": [
      "100%|██████████████████████████████████████████████████████████| 9914/9914 [00:32<00:00, 306.67it/s]\n",
      "  0%|                                                                      | 0/9906 [00:00<?, ?it/s]"
     ]
    },
    {
     "name": "stdout",
     "output_type": "stream",
     "text": [
      "Number of events: 81222\n"
     ]
    },
    {
     "name": "stderr",
     "output_type": "stream",
     "text": [
      "100%|██████████████████████████████████████████████████████████| 9906/9906 [00:32<00:00, 308.77it/s]\n",
      "  0%|                                                                      | 0/9910 [00:00<?, ?it/s]"
     ]
    },
    {
     "name": "stdout",
     "output_type": "stream",
     "text": [
      "Number of events: 81867\n"
     ]
    },
    {
     "name": "stderr",
     "output_type": "stream",
     "text": [
      "100%|██████████████████████████████████████████████████████████| 9910/9910 [00:32<00:00, 304.04it/s]\n",
      "  0%|                                                                      | 0/9921 [00:00<?, ?it/s]"
     ]
    },
    {
     "name": "stdout",
     "output_type": "stream",
     "text": [
      "Number of events: 82529\n"
     ]
    },
    {
     "name": "stderr",
     "output_type": "stream",
     "text": [
      "100%|██████████████████████████████████████████████████████████| 9921/9921 [00:31<00:00, 310.26it/s]\n",
      "  0%|                                                                      | 0/9912 [00:00<?, ?it/s]"
     ]
    },
    {
     "name": "stdout",
     "output_type": "stream",
     "text": [
      "Number of events: 83111\n"
     ]
    },
    {
     "name": "stderr",
     "output_type": "stream",
     "text": [
      "100%|██████████████████████████████████████████████████████████| 9912/9912 [00:32<00:00, 307.83it/s]\n",
      "  0%|                                                                      | 0/9908 [00:00<?, ?it/s]"
     ]
    },
    {
     "name": "stdout",
     "output_type": "stream",
     "text": [
      "Number of events: 83713\n"
     ]
    },
    {
     "name": "stderr",
     "output_type": "stream",
     "text": [
      "100%|██████████████████████████████████████████████████████████| 9908/9908 [00:32<00:00, 306.01it/s]\n",
      "  0%|                                                                      | 0/9911 [00:00<?, ?it/s]"
     ]
    },
    {
     "name": "stdout",
     "output_type": "stream",
     "text": [
      "Number of events: 84329\n"
     ]
    },
    {
     "name": "stderr",
     "output_type": "stream",
     "text": [
      "100%|██████████████████████████████████████████████████████████| 9911/9911 [00:32<00:00, 304.42it/s]\n",
      "  0%|                                                                      | 0/9907 [00:00<?, ?it/s]"
     ]
    },
    {
     "name": "stdout",
     "output_type": "stream",
     "text": [
      "Number of events: 84931\n"
     ]
    },
    {
     "name": "stderr",
     "output_type": "stream",
     "text": [
      "100%|██████████████████████████████████████████████████████████| 9907/9907 [00:32<00:00, 305.29it/s]\n",
      "  0%|                                                                      | 0/9900 [00:00<?, ?it/s]"
     ]
    },
    {
     "name": "stdout",
     "output_type": "stream",
     "text": [
      "Number of events: 85592\n"
     ]
    },
    {
     "name": "stderr",
     "output_type": "stream",
     "text": [
      "100%|██████████████████████████████████████████████████████████| 9900/9900 [00:32<00:00, 302.83it/s]\n",
      "  0%|                                                                      | 0/9907 [00:00<?, ?it/s]"
     ]
    },
    {
     "name": "stdout",
     "output_type": "stream",
     "text": [
      "Number of events: 86215\n"
     ]
    },
    {
     "name": "stderr",
     "output_type": "stream",
     "text": [
      "100%|██████████████████████████████████████████████████████████| 9907/9907 [00:32<00:00, 303.61it/s]\n",
      "  0%|                                                                      | 0/9900 [00:00<?, ?it/s]"
     ]
    },
    {
     "name": "stdout",
     "output_type": "stream",
     "text": [
      "Number of events: 86839\n"
     ]
    },
    {
     "name": "stderr",
     "output_type": "stream",
     "text": [
      "100%|██████████████████████████████████████████████████████████| 9900/9900 [00:32<00:00, 306.92it/s]\n",
      "  0%|                                                                      | 0/9923 [00:00<?, ?it/s]"
     ]
    },
    {
     "name": "stdout",
     "output_type": "stream",
     "text": [
      "Number of events: 87479\n"
     ]
    },
    {
     "name": "stderr",
     "output_type": "stream",
     "text": [
      "100%|██████████████████████████████████████████████████████████| 9923/9923 [00:32<00:00, 300.75it/s]\n",
      "  0%|                                                                      | 0/9903 [00:00<?, ?it/s]"
     ]
    },
    {
     "name": "stdout",
     "output_type": "stream",
     "text": [
      "Number of events: 88082\n"
     ]
    },
    {
     "name": "stderr",
     "output_type": "stream",
     "text": [
      "100%|██████████████████████████████████████████████████████████| 9903/9903 [00:33<00:00, 292.08it/s]\n",
      "  0%|                                                                      | 0/9904 [00:00<?, ?it/s]"
     ]
    },
    {
     "name": "stdout",
     "output_type": "stream",
     "text": [
      "Number of events: 88715\n"
     ]
    },
    {
     "name": "stderr",
     "output_type": "stream",
     "text": [
      "100%|██████████████████████████████████████████████████████████| 9904/9904 [00:32<00:00, 305.15it/s]\n",
      "  0%|                                                                      | 0/9910 [00:00<?, ?it/s]"
     ]
    },
    {
     "name": "stdout",
     "output_type": "stream",
     "text": [
      "Number of events: 89356\n"
     ]
    },
    {
     "name": "stderr",
     "output_type": "stream",
     "text": [
      "100%|██████████████████████████████████████████████████████████| 9910/9910 [00:32<00:00, 306.33it/s]\n",
      "  0%|                                                                      | 0/9888 [00:00<?, ?it/s]"
     ]
    },
    {
     "name": "stdout",
     "output_type": "stream",
     "text": [
      "Number of events: 89989\n"
     ]
    },
    {
     "name": "stderr",
     "output_type": "stream",
     "text": [
      "100%|██████████████████████████████████████████████████████████| 9888/9888 [00:33<00:00, 298.48it/s]\n",
      "  0%|                                                                      | 0/9924 [00:00<?, ?it/s]"
     ]
    },
    {
     "name": "stdout",
     "output_type": "stream",
     "text": [
      "Number of events: 90610\n"
     ]
    },
    {
     "name": "stderr",
     "output_type": "stream",
     "text": [
      "100%|██████████████████████████████████████████████████████████| 9924/9924 [00:32<00:00, 302.93it/s]\n",
      "  0%|                                                                      | 0/9923 [00:00<?, ?it/s]"
     ]
    },
    {
     "name": "stdout",
     "output_type": "stream",
     "text": [
      "Number of events: 91247\n"
     ]
    },
    {
     "name": "stderr",
     "output_type": "stream",
     "text": [
      "100%|██████████████████████████████████████████████████████████| 9923/9923 [00:32<00:00, 302.63it/s]\n",
      "  0%|                                                                      | 0/9928 [00:00<?, ?it/s]"
     ]
    },
    {
     "name": "stdout",
     "output_type": "stream",
     "text": [
      "Number of events: 91875\n"
     ]
    },
    {
     "name": "stderr",
     "output_type": "stream",
     "text": [
      "100%|██████████████████████████████████████████████████████████| 9928/9928 [00:32<00:00, 308.45it/s]\n",
      "  0%|                                                                      | 0/9907 [00:00<?, ?it/s]"
     ]
    },
    {
     "name": "stdout",
     "output_type": "stream",
     "text": [
      "Number of events: 92482\n"
     ]
    },
    {
     "name": "stderr",
     "output_type": "stream",
     "text": [
      "100%|██████████████████████████████████████████████████████████| 9907/9907 [00:32<00:00, 303.79it/s]\n",
      "  0%|                                                                      | 0/9918 [00:00<?, ?it/s]"
     ]
    },
    {
     "name": "stdout",
     "output_type": "stream",
     "text": [
      "Number of events: 93148\n"
     ]
    },
    {
     "name": "stderr",
     "output_type": "stream",
     "text": [
      "100%|██████████████████████████████████████████████████████████| 9918/9918 [00:32<00:00, 306.75it/s]\n",
      "  0%|                                                                      | 0/9915 [00:00<?, ?it/s]"
     ]
    },
    {
     "name": "stdout",
     "output_type": "stream",
     "text": [
      "Number of events: 93773\n"
     ]
    },
    {
     "name": "stderr",
     "output_type": "stream",
     "text": [
      "100%|██████████████████████████████████████████████████████████| 9915/9915 [00:32<00:00, 305.78it/s]\n",
      "  0%|                                                                      | 0/9907 [00:00<?, ?it/s]"
     ]
    },
    {
     "name": "stdout",
     "output_type": "stream",
     "text": [
      "Number of events: 94420\n"
     ]
    },
    {
     "name": "stderr",
     "output_type": "stream",
     "text": [
      "100%|██████████████████████████████████████████████████████████| 9907/9907 [00:32<00:00, 305.53it/s]\n",
      "  0%|                                                                      | 0/9890 [00:00<?, ?it/s]"
     ]
    },
    {
     "name": "stdout",
     "output_type": "stream",
     "text": [
      "Number of events: 95083\n"
     ]
    },
    {
     "name": "stderr",
     "output_type": "stream",
     "text": [
      "100%|██████████████████████████████████████████████████████████| 9890/9890 [00:32<00:00, 305.27it/s]\n",
      "  0%|                                                                      | 0/9922 [00:00<?, ?it/s]"
     ]
    },
    {
     "name": "stdout",
     "output_type": "stream",
     "text": [
      "Number of events: 95665\n"
     ]
    },
    {
     "name": "stderr",
     "output_type": "stream",
     "text": [
      "100%|██████████████████████████████████████████████████████████| 9922/9922 [00:32<00:00, 304.14it/s]\n",
      "  0%|                                                                      | 0/9907 [00:00<?, ?it/s]"
     ]
    },
    {
     "name": "stdout",
     "output_type": "stream",
     "text": [
      "Number of events: 96300\n"
     ]
    },
    {
     "name": "stderr",
     "output_type": "stream",
     "text": [
      "100%|██████████████████████████████████████████████████████████| 9907/9907 [00:32<00:00, 307.08it/s]\n",
      "  0%|                                                                      | 0/9901 [00:00<?, ?it/s]"
     ]
    },
    {
     "name": "stdout",
     "output_type": "stream",
     "text": [
      "Number of events: 96912\n"
     ]
    },
    {
     "name": "stderr",
     "output_type": "stream",
     "text": [
      "100%|██████████████████████████████████████████████████████████| 9901/9901 [00:32<00:00, 306.18it/s]\n",
      "  0%|                                                                      | 0/9926 [00:00<?, ?it/s]"
     ]
    },
    {
     "name": "stdout",
     "output_type": "stream",
     "text": [
      "Number of events: 97557\n"
     ]
    },
    {
     "name": "stderr",
     "output_type": "stream",
     "text": [
      "100%|██████████████████████████████████████████████████████████| 9926/9926 [00:32<00:00, 307.41it/s]\n",
      "  0%|                                                                      | 0/9913 [00:00<?, ?it/s]"
     ]
    },
    {
     "name": "stdout",
     "output_type": "stream",
     "text": [
      "Number of events: 98186\n"
     ]
    },
    {
     "name": "stderr",
     "output_type": "stream",
     "text": [
      "100%|██████████████████████████████████████████████████████████| 9913/9913 [00:32<00:00, 302.64it/s]\n",
      "  0%|                                                                      | 0/9892 [00:00<?, ?it/s]"
     ]
    },
    {
     "name": "stdout",
     "output_type": "stream",
     "text": [
      "Number of events: 98788\n"
     ]
    },
    {
     "name": "stderr",
     "output_type": "stream",
     "text": [
      "100%|██████████████████████████████████████████████████████████| 9892/9892 [00:32<00:00, 304.49it/s]\n",
      "  0%|                                                                      | 0/9902 [00:00<?, ?it/s]"
     ]
    },
    {
     "name": "stdout",
     "output_type": "stream",
     "text": [
      "Number of events: 99417\n"
     ]
    },
    {
     "name": "stderr",
     "output_type": "stream",
     "text": [
      "100%|██████████████████████████████████████████████████████████| 9902/9902 [00:32<00:00, 305.65it/s]\n"
     ]
    },
    {
     "name": "stdout",
     "output_type": "stream",
     "text": [
      "Number of events: 100082\n"
     ]
    }
   ],
   "source": [
    "## This is data collection based of 'optimal snr net' range\n",
    " \n",
    "ler.batch_size = 10000\n",
    "\n",
    "len_ = 0\n",
    "while len_<100000:\n",
    "    with contextlib.redirect_stdout(None):\n",
    "        unlensed_params = ler.unlensed_cbc_statistics(size=10000, resume=False)\n",
    "    snr = unlensed_params[\"optimal_snr_net\"]\n",
    "\n",
    "    idx = np.argwhere(snr>4).flatten()\n",
    "\n",
    "    unlensed_param_joint = {}\n",
    "\n",
    "    len_idx = len(idx)\n",
    "\n",
    "    for key, value in unlensed_params.items():\n",
    "        unlensed_param_joint[key] = value[idx]\n",
    "\n",
    "    append_json(\"optsnr_A1_2.json\", unlensed_param_joint, replace=False)\n",
    "    unlensed_params = get_param_from_json(\"optsnr_A1_2.json\")\n",
    "    len_ = len(unlensed_params[\"optimal_snr_net\"])\n",
    "\n",
    "    print(f\"Number of events: {len_}\")"
   ]
  },
  {
   "cell_type": "code",
   "execution_count": 5,
   "metadata": {},
   "outputs": [
    {
     "name": "stderr",
     "output_type": "stream",
     "text": [
      "100%|██████████████████████████████████████████████████████████| 9914/9914 [00:32<00:00, 306.07it/s]\n",
      "  0%|                                                                      | 0/9925 [00:00<?, ?it/s]"
     ]
    },
    {
     "name": "stdout",
     "output_type": "stream",
     "text": [
      "Number of events: 10000\n"
     ]
    },
    {
     "name": "stderr",
     "output_type": "stream",
     "text": [
      "100%|██████████████████████████████████████████████████████████| 9925/9925 [00:32<00:00, 307.57it/s]\n",
      "  0%|                                                                      | 0/9904 [00:00<?, ?it/s]"
     ]
    },
    {
     "name": "stdout",
     "output_type": "stream",
     "text": [
      "Number of events: 20000\n"
     ]
    },
    {
     "name": "stderr",
     "output_type": "stream",
     "text": [
      "100%|██████████████████████████████████████████████████████████| 9904/9904 [00:32<00:00, 301.89it/s]\n",
      "  0%|                                                                      | 0/9915 [00:00<?, ?it/s]"
     ]
    },
    {
     "name": "stdout",
     "output_type": "stream",
     "text": [
      "Number of events: 30000\n"
     ]
    },
    {
     "name": "stderr",
     "output_type": "stream",
     "text": [
      "100%|██████████████████████████████████████████████████████████| 9915/9915 [00:33<00:00, 300.42it/s]\n",
      "  0%|                                                                      | 0/9907 [00:00<?, ?it/s]"
     ]
    },
    {
     "name": "stdout",
     "output_type": "stream",
     "text": [
      "Number of events: 40000\n"
     ]
    },
    {
     "name": "stderr",
     "output_type": "stream",
     "text": [
      "100%|██████████████████████████████████████████████████████████| 9907/9907 [00:32<00:00, 303.26it/s]\n",
      "  0%|                                                                      | 0/9906 [00:00<?, ?it/s]"
     ]
    },
    {
     "name": "stdout",
     "output_type": "stream",
     "text": [
      "Number of events: 50000\n"
     ]
    },
    {
     "name": "stderr",
     "output_type": "stream",
     "text": [
      "100%|██████████████████████████████████████████████████████████| 9906/9906 [00:32<00:00, 308.78it/s]\n",
      "  0%|                                                                      | 0/9924 [00:00<?, ?it/s]"
     ]
    },
    {
     "name": "stdout",
     "output_type": "stream",
     "text": [
      "Number of events: 60000\n"
     ]
    },
    {
     "name": "stderr",
     "output_type": "stream",
     "text": [
      "100%|██████████████████████████████████████████████████████████| 9924/9924 [00:32<00:00, 305.81it/s]\n",
      "  0%|                                                                      | 0/9899 [00:00<?, ?it/s]"
     ]
    },
    {
     "name": "stdout",
     "output_type": "stream",
     "text": [
      "Number of events: 70000\n"
     ]
    },
    {
     "name": "stderr",
     "output_type": "stream",
     "text": [
      "100%|██████████████████████████████████████████████████████████| 9899/9899 [00:32<00:00, 304.19it/s]\n",
      "  0%|                                                                      | 0/9887 [00:00<?, ?it/s]"
     ]
    },
    {
     "name": "stdout",
     "output_type": "stream",
     "text": [
      "Number of events: 80000\n"
     ]
    },
    {
     "name": "stderr",
     "output_type": "stream",
     "text": [
      "100%|██████████████████████████████████████████████████████████| 9887/9887 [00:32<00:00, 308.02it/s]\n",
      "  0%|                                                                      | 0/9920 [00:00<?, ?it/s]"
     ]
    },
    {
     "name": "stdout",
     "output_type": "stream",
     "text": [
      "Number of events: 90000\n"
     ]
    },
    {
     "name": "stderr",
     "output_type": "stream",
     "text": [
      "100%|██████████████████████████████████████████████████████████| 9920/9920 [00:32<00:00, 303.12it/s]\n"
     ]
    },
    {
     "name": "stdout",
     "output_type": "stream",
     "text": [
      "Number of events: 100000\n"
     ]
    }
   ],
   "source": [
    "## This is data collection based of 'optimal snr net' range\n",
    " \n",
    "ler.batch_size = 10000\n",
    "\n",
    "len_ = 0\n",
    "while len_<100000:\n",
    "    with contextlib.redirect_stdout(None):\n",
    "        unlensed_params = ler.unlensed_cbc_statistics(size=10000, resume=False)\n",
    "    snr = unlensed_params[\"optimal_snr_net\"]\n",
    "\n",
    "    idx = np.argwhere(snr>=0).flatten()\n",
    "\n",
    "    unlensed_param_joint = {}\n",
    "\n",
    "    len_idx = len(idx)\n",
    "\n",
    "    for key, value in unlensed_params.items():\n",
    "        unlensed_param_joint[key] = value[idx]\n",
    "\n",
    "    append_json(\"optsnr_A1_3.json\", unlensed_param_joint, replace=False)\n",
    "    unlensed_params = get_param_from_json(\"optsnr_A1_3.json\")\n",
    "    len_ = len(unlensed_params[\"optimal_snr_net\"])\n",
    "\n",
    "    print(f\"Number of events: {len_}\")"
   ]
  },
  {
   "cell_type": "code",
   "execution_count": 45,
   "metadata": {},
   "outputs": [],
   "source": [
    "# getting data\n",
    "#unlensed_params = load_json(\"joint_new_optsnr.json\")\n",
    "unlensed_params = get_param_from_json(\"optsnr_A1.json\")"
   ]
  },
  {
   "cell_type": "code",
   "execution_count": 46,
   "metadata": {},
   "outputs": [
    {
     "data": {
      "text/plain": [
       "dict_keys(['zs', 'geocent_time', 'ra', 'dec', 'phase', 'psi', 'theta_jn', 'a_1', 'a_2', 'tilt_1', 'tilt_2', 'phi_12', 'phi_jl', 'luminosity_distance', 'mass_1_source', 'mass_2_source', 'mass_1', 'mass_2', 'A1', 'optimal_snr_net'])"
      ]
     },
     "execution_count": 46,
     "metadata": {},
     "output_type": "execute_result"
    }
   ],
   "source": [
    "# checking the keys\n",
    "unlensed_params.keys()"
   ]
  },
  {
   "cell_type": "code",
   "execution_count": 47,
   "metadata": {},
   "outputs": [
    {
     "data": {
      "image/png": "[encoded data removed]",
      "text/plain": [
       "<Figure size 640x480 with 1 Axes>"
      ]
     },
     "metadata": {},
     "output_type": "display_data"
    }
   ],
   "source": [
    "# plotting the SNR distribution (L1 detector)\n",
    "test = np.array(unlensed_params[\"A1\"])\n",
    "test = test[test<30]\n",
    "plt.hist(test, bins=30, color='k', density=True)\n",
    "plt.xlabel(\"SNR\")\n",
    "plt.ylabel(\"Density\")\n",
    "plt.title(\"SNR distribution\")\n",
    "#plt.xlim(0, 100)\n",
    "plt.show()"
   ]
  },
  {
   "cell_type": "markdown",
   "metadata": {},
   "source": [
    "## CE"
   ]
  },
  {
   "cell_type": "code",
   "execution_count": 15,
   "metadata": {},
   "outputs": [],
   "source": [
    "# initialize the LeR class\n",
    "ler = LeR(\n",
    "    npool=8,\n",
    "    z_max=10,  # becareful with this value\n",
    "    spin_zero=False,\n",
    "    spin_precession=True,\n",
    "    verbose=False,\n",
    "    mtot_max=500,\n",
    "    minimum_frequency=10,\n",
    "    waveform_approximant='IMRPhenomXPHM',\n",
    "    snr_type='inner_product',\n",
    "    ifos=['CE'],\n",
    ")"
   ]
  },
  {
   "cell_type": "code",
   "execution_count": 16,
   "metadata": {},
   "outputs": [
    {
     "name": "stdout",
     "output_type": "stream",
     "text": [
      "\n",
      "Chosen GWSNR initialization parameters:\n",
      "\n",
      "npool:  4\n",
      "snr type:  inner_product\n",
      "waveform approximant:  IMRPhenomXPHM\n",
      "sampling frequency:  2048.0\n",
      "minimum frequency (fmin):  10\n",
      "mtot=mass1+mass2\n",
      "min(mtot):  2.0\n",
      "max(mtot) (with the given fmin=10): 369.97199706893525\n",
      "detectors:  ['CE']\n",
      "psds:  [PowerSpectralDensity(psd_file='/Users/phurailatpamhemantakumar/anaconda3/envs/ler/lib/python3.10/site-packages/bilby/gw/detector/noise_curves/CE_psd.txt', asd_file='None')]\n"
     ]
    }
   ],
   "source": [
    "from gwsnr import GWSNR\n",
    "\n",
    "snr = GWSNR(\n",
    "    mtot_max=500,\n",
    "    minimum_frequency=10,\n",
    "    waveform_approximant='IMRPhenomXPHM',\n",
    "    snr_type='inner_product',\n",
    "    ifos=['CE'],\n",
    ")"
   ]
  },
  {
   "cell_type": "code",
   "execution_count": 17,
   "metadata": {},
   "outputs": [
    {
     "name": "stderr",
     "output_type": "stream",
     "text": [
      "100%|████████████████████████████████████████████████████████| 99126/99126 [05:07<00:00, 322.07it/s]\n"
     ]
    },
    {
     "name": "stdout",
     "output_type": "stream",
     "text": [
      "Number of events: 100000\n"
     ]
    }
   ],
   "source": [
    "## This is data collection based of 'optimal snr net' range\n",
    " \n",
    "ler.batch_size = 100000\n",
    "\n",
    "len_ = 0\n",
    "while len_<100000:\n",
    "    with contextlib.redirect_stdout(None):\n",
    "        unlensed_params = ler.unlensed_cbc_statistics(size=100000, resume=False)\n",
    "    snr = unlensed_params[\"optimal_snr_net\"]\n",
    "\n",
    "    idx = np.argwhere(snr>=0).flatten()\n",
    "\n",
    "    unlensed_param_joint = {}\n",
    "\n",
    "    len_idx = len(idx)\n",
    "\n",
    "    for key, value in unlensed_params.items():\n",
    "        unlensed_param_joint[key] = value[idx]\n",
    "\n",
    "    append_json(\"optsnr_CE_1.json\", unlensed_param_joint, replace=False)\n",
    "    unlensed_params = get_param_from_json(\"optsnr_CE_1.json\")\n",
    "    len_ = len(unlensed_params[\"optimal_snr_net\"])\n",
    "\n",
    "    print(f\"Number of events: {len_}\")"
   ]
  },
  {
   "cell_type": "markdown",
   "metadata": {},
   "source": [
    "## ET"
   ]
  },
  {
   "cell_type": "code",
   "execution_count": 19,
   "metadata": {},
   "outputs": [],
   "source": [
    "# initialize the LeR class\n",
    "ler = LeR(\n",
    "    npool=8,\n",
    "    z_max=10,  # becareful with this value\n",
    "    spin_zero=False,\n",
    "    spin_precession=True,\n",
    "    verbose=False,\n",
    "    mtot_max=500,\n",
    "    minimum_frequency=10,\n",
    "    waveform_approximant='IMRPhenomXPHM',\n",
    "    snr_type='inner_product',\n",
    "    ifos=['ET'],\n",
    ")"
   ]
  },
  {
   "cell_type": "code",
   "execution_count": 20,
   "metadata": {},
   "outputs": [
    {
     "name": "stdout",
     "output_type": "stream",
     "text": [
      "\n",
      "Chosen GWSNR initialization parameters:\n",
      "\n",
      "npool:  4\n",
      "snr type:  inner_product\n",
      "waveform approximant:  IMRPhenomXPHM\n",
      "sampling frequency:  2048.0\n",
      "minimum frequency (fmin):  10\n",
      "mtot=mass1+mass2\n",
      "min(mtot):  2.0\n",
      "max(mtot) (with the given fmin=10): 369.97199706893525\n",
      "detectors:  ['ET1', 'ET2', 'ET3']\n",
      "psds:  [PowerSpectralDensity(psd_file='/Users/phurailatpamhemantakumar/anaconda3/envs/ler/lib/python3.10/site-packages/bilby/gw/detector/noise_curves/ET_D_psd.txt', asd_file='None'), PowerSpectralDensity(psd_file='/Users/phurailatpamhemantakumar/anaconda3/envs/ler/lib/python3.10/site-packages/bilby/gw/detector/noise_curves/ET_D_psd.txt', asd_file='None'), PowerSpectralDensity(psd_file='/Users/phurailatpamhemantakumar/anaconda3/envs/ler/lib/python3.10/site-packages/bilby/gw/detector/noise_curves/ET_D_psd.txt', asd_file='None')]\n"
     ]
    }
   ],
   "source": [
    "from gwsnr import GWSNR\n",
    "\n",
    "snr = GWSNR(\n",
    "    mtot_max=500,\n",
    "    minimum_frequency=10,\n",
    "    waveform_approximant='IMRPhenomXPHM',\n",
    "    snr_type='inner_product',\n",
    "    ifos=['ET'],\n",
    ")"
   ]
  },
  {
   "cell_type": "code",
   "execution_count": 21,
   "metadata": {},
   "outputs": [
    {
     "name": "stderr",
     "output_type": "stream",
     "text": [
      "100%|████████████████████████████████████████████████████████| 99087/99087 [05:32<00:00, 298.15it/s]\n"
     ]
    },
    {
     "name": "stdout",
     "output_type": "stream",
     "text": [
      "Number of events: 100000\n"
     ]
    }
   ],
   "source": [
    "## This is data collection based of 'optimal snr net' range\n",
    " \n",
    "ler.batch_size = 100000\n",
    "\n",
    "len_ = 0\n",
    "while len_<100000:\n",
    "    with contextlib.redirect_stdout(None):\n",
    "        unlensed_params = ler.unlensed_cbc_statistics(size=100000, resume=False)\n",
    "    snr = unlensed_params[\"optimal_snr_net\"]\n",
    "\n",
    "    idx = np.argwhere(snr>=0).flatten()\n",
    "\n",
    "    unlensed_param_joint = {}\n",
    "\n",
    "    len_idx = len(idx)\n",
    "\n",
    "    for key, value in unlensed_params.items():\n",
    "        unlensed_param_joint[key] = value[idx]\n",
    "\n",
    "    append_json(\"optsnr_ET_1.json\", unlensed_param_joint, replace=False)\n",
    "    unlensed_params = get_param_from_json(\"optsnr_ET_1.json\")\n",
    "    len_ = len(unlensed_params[\"optimal_snr_net\"])\n",
    "\n",
    "    print(f\"Number of events: {len_}\")"
   ]
  },
  {
   "cell_type": "code",
   "execution_count": null,
   "metadata": {},
   "outputs": [],
   "source": []
  },
  {
   "cell_type": "code",
   "execution_count": 94,
   "metadata": {},
   "outputs": [
    {
     "data": {
      "text/plain": [
       "193.3"
      ]
     },
     "execution_count": 94,
     "metadata": {},
     "output_type": "execute_result"
    }
   ],
   "source": [
    "72.40+33.3+76.30+6.50"
   ]
  },
  {
   "cell_type": "code",
   "execution_count": 99,
   "metadata": {},
   "outputs": [
    {
     "data": {
      "text/plain": [
       "247.39000000000001"
      ]
     },
     "execution_count": 99,
     "metadata": {},
     "output_type": "execute_result"
    }
   ],
   "source": [
    "6.50+76.30+33.3+74.89+56.4"
   ]
  },
  {
   "cell_type": "code",
   "execution_count": 98,
   "metadata": {},
   "outputs": [
    {
     "data": {
      "text/plain": [
       "1450"
      ]
     },
     "execution_count": 98,
     "metadata": {},
     "output_type": "execute_result"
    }
   ],
   "source": [
    "930+520"
   ]
  },
  {
   "cell_type": "code",
   "execution_count": 100,
   "metadata": {},
   "outputs": [
    {
     "data": {
      "text/plain": [
       "10573.28"
      ]
     },
     "execution_count": 100,
     "metadata": {},
     "output_type": "execute_result"
    }
   ],
   "source": [
    "3153+3891+1923.51+1605.77"
   ]
  },
  {
   "cell_type": "code",
   "execution_count": null,
   "metadata": {},
   "outputs": [],
   "source": []
  }
 ],
 "metadata": {
  "kernelspec": {
   "display_name": "lerenv",
   "language": "python",
   "name": "python3"
  },
  "language_info": {
   "codemirror_mode": {
    "name": "ipython",
    "version": 3
   },
   "file_extension": ".py",
   "mimetype": "text/x-python",
   "name": "python",
   "nbconvert_exporter": "python",
   "pygments_lexer": "ipython3",
   "version": "3.10.14"
  }
 },
 "nbformat": 4,
 "nbformat_minor": 2
}
