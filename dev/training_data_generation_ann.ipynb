{
 "cells": [
  {
   "cell_type": "markdown",
   "metadata": {},
   "source": [
    "# Training and testing dataset generation using LeR\n",
    "\n",
    "* `ler` package is used to generate training and testing datasets.\n",
    "\n",
    "* It assumes theoretically or observationally available astrophysical models.\n",
    "\n",
    "* Input parameters for ANN needs all the intrinsic and extrinsic parameters of the source.\n",
    "\n",
    "* Output parameters are the net optimal SNR of the given network of data.\n",
    "\n",
    "* The dataset is more accumulated between the SNR range 2-16; with the assumption that SNR threshold cut for detection around 8.\n",
    "\n",
    "* The dataset is generated for the network of 3 detectors, namely, LIGO Hanford, LIGO Livingston, and Virgo.\n",
    "\n",
    "* Waveform model used is IMRPhenomXPHM with spin and precession effects.\n",
    "\n",
    "* ANN needs at-least 100000 samples for training and testing."
   ]
  },
  {
   "cell_type": "code",
   "execution_count": 38,
   "metadata": {},
   "outputs": [],
   "source": [
    "import numpy as np\n",
    "import matplotlib.pyplot as plt\n",
    "import contextlib\n",
    "from ler.rates import LeR\n",
    "from ler.utils import append_json, load_json"
   ]
  },
  {
   "cell_type": "code",
   "execution_count": 39,
   "metadata": {},
   "outputs": [],
   "source": [
    "# initialize the LeR class\n",
    "ler = LeR(\n",
    "    npool=6,\n",
    "    z_max=3,  # becareful with this value\n",
    "    spin_zero=False,\n",
    "    spin_precession=True,\n",
    "    waveform_approximant='IMRPhenomXPHM',\n",
    "    snr_type='inner_product',\n",
    "    verbose=False,\n",
    ")"
   ]
  },
  {
   "cell_type": "markdown",
   "metadata": {},
   "source": [
    "## Collection of data at the desired SNR range"
   ]
  },
  {
   "cell_type": "code",
   "execution_count": 40,
   "metadata": {},
   "outputs": [
    {
     "name": "stderr",
     "output_type": "stream",
     "text": [
      "  0%|                                                                     | 0/96800 [00:00<?, ?it/s]\n"
     ]
    },
    {
     "ename": "KeyboardInterrupt",
     "evalue": "",
     "output_type": "error",
     "traceback": [
      "\u001b[0;31m---------------------------------------------------------------------------\u001b[0m",
      "\u001b[0;31mIndexError\u001b[0m                                Traceback (most recent call last)",
      "File \u001b[0;32m~/anaconda3/envs/ler/lib/python3.10/multiprocessing/pool.py:856\u001b[0m, in \u001b[0;36mIMapIterator.next\u001b[0;34m(self, timeout)\u001b[0m\n\u001b[1;32m    855\u001b[0m \u001b[38;5;28;01mtry\u001b[39;00m:\n\u001b[0;32m--> 856\u001b[0m     item \u001b[38;5;241m=\u001b[39m \u001b[38;5;28;43mself\u001b[39;49m\u001b[38;5;241;43m.\u001b[39;49m\u001b[43m_items\u001b[49m\u001b[38;5;241;43m.\u001b[39;49m\u001b[43mpopleft\u001b[49m\u001b[43m(\u001b[49m\u001b[43m)\u001b[49m\n\u001b[1;32m    857\u001b[0m \u001b[38;5;28;01mexcept\u001b[39;00m \u001b[38;5;167;01mIndexError\u001b[39;00m:\n",
      "\u001b[0;31mIndexError\u001b[0m: pop from an empty deque",
      "\nDuring handling of the above exception, another exception occurred:\n",
      "\u001b[0;31mKeyboardInterrupt\u001b[0m                         Traceback (most recent call last)",
      "Cell \u001b[0;32mIn[40], line 6\u001b[0m\n\u001b[1;32m      4\u001b[0m \u001b[38;5;28;01mwhile\u001b[39;00m len_\u001b[38;5;241m<\u001b[39m\u001b[38;5;241m10000\u001b[39m:\n\u001b[1;32m      5\u001b[0m     \u001b[38;5;28;01mwith\u001b[39;00m contextlib\u001b[38;5;241m.\u001b[39mredirect_stdout(\u001b[38;5;28;01mNone\u001b[39;00m):\n\u001b[0;32m----> 6\u001b[0m         unlensed_param \u001b[38;5;241m=\u001b[39m \u001b[43mler\u001b[49m\u001b[38;5;241;43m.\u001b[39;49m\u001b[43munlensed_cbc_statistics\u001b[49m\u001b[43m(\u001b[49m\u001b[43msize\u001b[49m\u001b[38;5;241;43m=\u001b[39;49m\u001b[38;5;241;43m100000\u001b[39;49m\u001b[43m,\u001b[49m\u001b[43m \u001b[49m\u001b[43mresume\u001b[49m\u001b[38;5;241;43m=\u001b[39;49m\u001b[38;5;28;43;01mFalse\u001b[39;49;00m\u001b[43m)\u001b[49m\n\u001b[1;32m      8\u001b[0m     \u001b[38;5;66;03m# SNR for each detector\u001b[39;00m\n\u001b[1;32m      9\u001b[0m     detectors \u001b[38;5;241m=\u001b[39m [\u001b[38;5;124m\"\u001b[39m\u001b[38;5;124mL1\u001b[39m\u001b[38;5;124m\"\u001b[39m, \u001b[38;5;124m\"\u001b[39m\u001b[38;5;124mH1\u001b[39m\u001b[38;5;124m\"\u001b[39m, \u001b[38;5;124m\"\u001b[39m\u001b[38;5;124mV1\u001b[39m\u001b[38;5;124m\"\u001b[39m]\n",
      "File \u001b[0;32m~/phd/mypackages/ler/ler/rates/ler.py:743\u001b[0m, in \u001b[0;36mLeR.unlensed_cbc_statistics\u001b[0;34m(self, size, resume, save_batch, output_jsonfile)\u001b[0m\n\u001b[1;32m    740\u001b[0m \u001b[38;5;28;01melse\u001b[39;00m:\n\u001b[1;32m    741\u001b[0m     \u001b[38;5;28mself\u001b[39m\u001b[38;5;241m.\u001b[39mdict_buffer \u001b[38;5;241m=\u001b[39m \u001b[38;5;28;01mNone\u001b[39;00m\n\u001b[0;32m--> 743\u001b[0m \u001b[43mbatch_handler\u001b[49m\u001b[43m(\u001b[49m\n\u001b[1;32m    744\u001b[0m \u001b[43m    \u001b[49m\u001b[43msize\u001b[49m\u001b[38;5;241;43m=\u001b[39;49m\u001b[43msize\u001b[49m\u001b[43m,\u001b[49m\n\u001b[1;32m    745\u001b[0m \u001b[43m    \u001b[49m\u001b[43mbatch_size\u001b[49m\u001b[38;5;241;43m=\u001b[39;49m\u001b[38;5;28;43mself\u001b[39;49m\u001b[38;5;241;43m.\u001b[39;49m\u001b[43mbatch_size\u001b[49m\u001b[43m,\u001b[49m\n\u001b[1;32m    746\u001b[0m \u001b[43m    \u001b[49m\u001b[43msampling_routine\u001b[49m\u001b[38;5;241;43m=\u001b[39;49m\u001b[38;5;28;43mself\u001b[39;49m\u001b[38;5;241;43m.\u001b[39;49m\u001b[43munlensed_sampling_routine\u001b[49m\u001b[43m,\u001b[49m\n\u001b[1;32m    747\u001b[0m \u001b[43m    \u001b[49m\u001b[43moutput_jsonfile\u001b[49m\u001b[38;5;241;43m=\u001b[39;49m\u001b[43moutput_path\u001b[49m\u001b[43m,\u001b[49m\n\u001b[1;32m    748\u001b[0m \u001b[43m    \u001b[49m\u001b[43msave_batch\u001b[49m\u001b[38;5;241;43m=\u001b[39;49m\u001b[43msave_batch\u001b[49m\u001b[43m,\u001b[49m\n\u001b[1;32m    749\u001b[0m \u001b[43m    \u001b[49m\u001b[43mresume\u001b[49m\u001b[38;5;241;43m=\u001b[39;49m\u001b[43mresume\u001b[49m\u001b[43m,\u001b[49m\n\u001b[1;32m    750\u001b[0m \u001b[43m\u001b[49m\u001b[43m)\u001b[49m\n\u001b[1;32m    752\u001b[0m \u001b[38;5;28;01mif\u001b[39;00m save_batch:\n\u001b[1;32m    753\u001b[0m     unlensed_param \u001b[38;5;241m=\u001b[39m get_param_from_json(output_path)\n",
      "File \u001b[0;32m~/phd/mypackages/ler/ler/utils/utils.py:867\u001b[0m, in \u001b[0;36mbatch_handler\u001b[0;34m(size, batch_size, sampling_routine, output_jsonfile, save_batch, resume)\u001b[0m\n\u001b[1;32m    865\u001b[0m     \u001b[38;5;28mprint\u001b[39m(\u001b[38;5;124mf\u001b[39m\u001b[38;5;124m\"\u001b[39m\u001b[38;5;124mBatch no. \u001b[39m\u001b[38;5;132;01m{\u001b[39;00mtrack_batches\u001b[38;5;132;01m}\u001b[39;00m\u001b[38;5;124m\"\u001b[39m)\n\u001b[1;32m    866\u001b[0m     \u001b[38;5;66;03m# new first batch with the frac_batches\u001b[39;00m\n\u001b[0;32m--> 867\u001b[0m     \u001b[43msampling_routine\u001b[49m\u001b[43m(\u001b[49m\u001b[43msize\u001b[49m\u001b[38;5;241;43m=\u001b[39;49m\u001b[43mfrac_batches\u001b[49m\u001b[43m,\u001b[49m\u001b[43m \u001b[49m\u001b[43msave_batch\u001b[49m\u001b[38;5;241;43m=\u001b[39;49m\u001b[43msave_batch\u001b[49m\u001b[43m,\u001b[49m\u001b[43m \u001b[49m\u001b[43moutput_jsonfile\u001b[49m\u001b[38;5;241;43m=\u001b[39;49m\u001b[43moutput_jsonfile\u001b[49m\u001b[43m)\u001b[49m;\n\u001b[1;32m    868\u001b[0m \u001b[38;5;28;01melse\u001b[39;00m:\n\u001b[1;32m    869\u001b[0m     \u001b[38;5;66;03m# check where to resume from\u001b[39;00m\n\u001b[1;32m    870\u001b[0m     \u001b[38;5;28;01mtry\u001b[39;00m:\n",
      "File \u001b[0;32m~/phd/mypackages/ler/ler/rates/ler.py:797\u001b[0m, in \u001b[0;36mLeR.unlensed_sampling_routine\u001b[0;34m(self, size, output_jsonfile, resume, save_batch)\u001b[0m\n\u001b[1;32m    795\u001b[0m \u001b[38;5;28;01mif\u001b[39;00m \u001b[38;5;28mself\u001b[39m\u001b[38;5;241m.\u001b[39msnr:\n\u001b[1;32m    796\u001b[0m     \u001b[38;5;28mprint\u001b[39m(\u001b[38;5;124m\"\u001b[39m\u001b[38;5;124mcalculating snrs...\u001b[39m\u001b[38;5;124m\"\u001b[39m)\n\u001b[0;32m--> 797\u001b[0m     snrs \u001b[38;5;241m=\u001b[39m \u001b[38;5;28;43mself\u001b[39;49m\u001b[38;5;241;43m.\u001b[39;49m\u001b[43msnr\u001b[49m\u001b[43m(\u001b[49m\u001b[43mgw_param_dict\u001b[49m\u001b[38;5;241;43m=\u001b[39;49m\u001b[43munlensed_param\u001b[49m\u001b[43m)\u001b[49m\n\u001b[1;32m    798\u001b[0m     unlensed_param\u001b[38;5;241m.\u001b[39mupdate(snrs)\n\u001b[1;32m    799\u001b[0m \u001b[38;5;28;01melif\u001b[39;00m \u001b[38;5;28mself\u001b[39m\u001b[38;5;241m.\u001b[39mpdet:\n",
      "File \u001b[0;32m~/phd/mypackages/gwsnr/gwsnr/gwsnr.py:622\u001b[0m, in \u001b[0;36mGWSNR.snr\u001b[0;34m(self, mass_1, mass_2, luminosity_distance, theta_jn, psi, phase, geocent_time, ra, dec, a_1, a_2, tilt_1, tilt_2, phi_12, phi_jl, gw_param_dict, output_jsonfile)\u001b[0m\n\u001b[1;32m    619\u001b[0m \u001b[38;5;28;01melif\u001b[39;00m \u001b[38;5;28mself\u001b[39m\u001b[38;5;241m.\u001b[39msnr_type \u001b[38;5;241m==\u001b[39m \u001b[38;5;124m\"\u001b[39m\u001b[38;5;124minner_product\u001b[39m\u001b[38;5;124m\"\u001b[39m:\n\u001b[1;32m    620\u001b[0m     \u001b[38;5;28mprint\u001b[39m(\u001b[38;5;124m\"\u001b[39m\u001b[38;5;124msolving SNR with inner product\u001b[39m\u001b[38;5;124m\"\u001b[39m)\n\u001b[0;32m--> 622\u001b[0m     snr_dict \u001b[38;5;241m=\u001b[39m \u001b[38;5;28;43mself\u001b[39;49m\u001b[38;5;241;43m.\u001b[39;49m\u001b[43mcompute_bilby_snr\u001b[49m\u001b[43m(\u001b[49m\n\u001b[1;32m    623\u001b[0m \u001b[43m        \u001b[49m\u001b[43mmass_1\u001b[49m\u001b[43m,\u001b[49m\n\u001b[1;32m    624\u001b[0m \u001b[43m        \u001b[49m\u001b[43mmass_2\u001b[49m\u001b[43m,\u001b[49m\n\u001b[1;32m    625\u001b[0m \u001b[43m        \u001b[49m\u001b[43mluminosity_distance\u001b[49m\u001b[38;5;241;43m=\u001b[39;49m\u001b[43mluminosity_distance\u001b[49m\u001b[43m,\u001b[49m\n\u001b[1;32m    626\u001b[0m \u001b[43m        \u001b[49m\u001b[43mtheta_jn\u001b[49m\u001b[38;5;241;43m=\u001b[39;49m\u001b[43mtheta_jn\u001b[49m\u001b[43m,\u001b[49m\n\u001b[1;32m    627\u001b[0m \u001b[43m        \u001b[49m\u001b[43mpsi\u001b[49m\u001b[38;5;241;43m=\u001b[39;49m\u001b[43mpsi\u001b[49m\u001b[43m,\u001b[49m\n\u001b[1;32m    628\u001b[0m \u001b[43m        \u001b[49m\u001b[43mphase\u001b[49m\u001b[38;5;241;43m=\u001b[39;49m\u001b[43mphase\u001b[49m\u001b[43m,\u001b[49m\n\u001b[1;32m    629\u001b[0m \u001b[43m        \u001b[49m\u001b[43mgeocent_time\u001b[49m\u001b[38;5;241;43m=\u001b[39;49m\u001b[43mgeocent_time\u001b[49m\u001b[43m,\u001b[49m\n\u001b[1;32m    630\u001b[0m \u001b[43m        \u001b[49m\u001b[43mra\u001b[49m\u001b[38;5;241;43m=\u001b[39;49m\u001b[43mra\u001b[49m\u001b[43m,\u001b[49m\n\u001b[1;32m    631\u001b[0m \u001b[43m        \u001b[49m\u001b[43mdec\u001b[49m\u001b[38;5;241;43m=\u001b[39;49m\u001b[43mdec\u001b[49m\u001b[43m,\u001b[49m\n\u001b[1;32m    632\u001b[0m \u001b[43m        \u001b[49m\u001b[43ma_1\u001b[49m\u001b[38;5;241;43m=\u001b[39;49m\u001b[43ma_1\u001b[49m\u001b[43m,\u001b[49m\n\u001b[1;32m    633\u001b[0m \u001b[43m        \u001b[49m\u001b[43ma_2\u001b[49m\u001b[38;5;241;43m=\u001b[39;49m\u001b[43ma_2\u001b[49m\u001b[43m,\u001b[49m\n\u001b[1;32m    634\u001b[0m \u001b[43m        \u001b[49m\u001b[43mtilt_1\u001b[49m\u001b[38;5;241;43m=\u001b[39;49m\u001b[43mtilt_1\u001b[49m\u001b[43m,\u001b[49m\n\u001b[1;32m    635\u001b[0m \u001b[43m        \u001b[49m\u001b[43mtilt_2\u001b[49m\u001b[38;5;241;43m=\u001b[39;49m\u001b[43mtilt_2\u001b[49m\u001b[43m,\u001b[49m\n\u001b[1;32m    636\u001b[0m \u001b[43m        \u001b[49m\u001b[43mphi_12\u001b[49m\u001b[38;5;241;43m=\u001b[39;49m\u001b[43mphi_12\u001b[49m\u001b[43m,\u001b[49m\n\u001b[1;32m    637\u001b[0m \u001b[43m        \u001b[49m\u001b[43mphi_jl\u001b[49m\u001b[38;5;241;43m=\u001b[39;49m\u001b[43mphi_jl\u001b[49m\u001b[43m,\u001b[49m\n\u001b[1;32m    638\u001b[0m \u001b[43m        \u001b[49m\u001b[43moutput_jsonfile\u001b[49m\u001b[38;5;241;43m=\u001b[39;49m\u001b[43moutput_jsonfile\u001b[49m\u001b[43m,\u001b[49m\n\u001b[1;32m    639\u001b[0m \u001b[43m    \u001b[49m\u001b[43m)\u001b[49m\n\u001b[1;32m    641\u001b[0m \u001b[38;5;28;01melif\u001b[39;00m \u001b[38;5;28mself\u001b[39m\u001b[38;5;241m.\u001b[39msnr_type \u001b[38;5;241m==\u001b[39m \u001b[38;5;124m\"\u001b[39m\u001b[38;5;124mann\u001b[39m\u001b[38;5;124m\"\u001b[39m:\n\u001b[1;32m    642\u001b[0m     snr_dict \u001b[38;5;241m=\u001b[39m \u001b[38;5;28mself\u001b[39m\u001b[38;5;241m.\u001b[39msnr_with_ann(\n\u001b[1;32m    643\u001b[0m         mass_1,\n\u001b[1;32m    644\u001b[0m         mass_2,\n\u001b[0;32m   (...)\u001b[0m\n\u001b[1;32m    652\u001b[0m         output_jsonfile\u001b[38;5;241m=\u001b[39moutput_jsonfile,\n\u001b[1;32m    653\u001b[0m     )\n",
      "File \u001b[0;32m~/phd/mypackages/gwsnr/gwsnr/gwsnr.py:1307\u001b[0m, in \u001b[0;36mGWSNR.compute_bilby_snr\u001b[0;34m(self, mass_1, mass_2, luminosity_distance, theta_jn, psi, phase, geocent_time, ra, dec, a_1, a_2, tilt_1, tilt_2, phi_12, phi_jl, gw_param_dict, output_jsonfile)\u001b[0m\n\u001b[1;32m   1303\u001b[0m \u001b[38;5;28;01mwith\u001b[39;00m Pool(processes\u001b[38;5;241m=\u001b[39mnpool) \u001b[38;5;28;01mas\u001b[39;00m pool:\n\u001b[1;32m   1304\u001b[0m     \u001b[38;5;66;03m# call the same function with different data in parallel\u001b[39;00m\n\u001b[1;32m   1305\u001b[0m     \u001b[38;5;66;03m# imap->retain order in the list, while map->doesn't\u001b[39;00m\n\u001b[1;32m   1306\u001b[0m     \u001b[38;5;28;01mif\u001b[39;00m \u001b[38;5;28mself\u001b[39m\u001b[38;5;241m.\u001b[39mmultiprocessing_verbose:\n\u001b[0;32m-> 1307\u001b[0m         \u001b[38;5;28;01mfor\u001b[39;00m result \u001b[38;5;129;01min\u001b[39;00m tqdm(\n\u001b[1;32m   1308\u001b[0m             pool\u001b[38;5;241m.\u001b[39mimap_unordered(noise_weighted_inner_prod, input_arguments),\n\u001b[1;32m   1309\u001b[0m             total\u001b[38;5;241m=\u001b[39m\u001b[38;5;28mlen\u001b[39m(input_arguments),\n\u001b[1;32m   1310\u001b[0m             ncols\u001b[38;5;241m=\u001b[39m\u001b[38;5;241m100\u001b[39m,\n\u001b[1;32m   1311\u001b[0m         ):\n\u001b[1;32m   1312\u001b[0m             \u001b[38;5;66;03m# but, np.shape(hp_inner_hp_i) = (size1, len(num_det))\u001b[39;00m\n\u001b[1;32m   1313\u001b[0m             hp_inner_hp_i, hc_inner_hc_i, iter_i \u001b[38;5;241m=\u001b[39m result\n\u001b[1;32m   1314\u001b[0m             hp_inner_hp[:, iter_i] \u001b[38;5;241m=\u001b[39m hp_inner_hp_i\n",
      "File \u001b[0;32m~/anaconda3/envs/ler/lib/python3.10/site-packages/tqdm/std.py:1182\u001b[0m, in \u001b[0;36mtqdm.__iter__\u001b[0;34m(self)\u001b[0m\n\u001b[1;32m   1179\u001b[0m time \u001b[38;5;241m=\u001b[39m \u001b[38;5;28mself\u001b[39m\u001b[38;5;241m.\u001b[39m_time\n\u001b[1;32m   1181\u001b[0m \u001b[38;5;28;01mtry\u001b[39;00m:\n\u001b[0;32m-> 1182\u001b[0m     \u001b[38;5;28;01mfor\u001b[39;00m obj \u001b[38;5;129;01min\u001b[39;00m iterable:\n\u001b[1;32m   1183\u001b[0m         \u001b[38;5;28;01myield\u001b[39;00m obj\n\u001b[1;32m   1184\u001b[0m         \u001b[38;5;66;03m# Update and possibly print the progressbar.\u001b[39;00m\n\u001b[1;32m   1185\u001b[0m         \u001b[38;5;66;03m# Note: does not call self.update(1) for speed optimisation.\u001b[39;00m\n",
      "File \u001b[0;32m~/anaconda3/envs/ler/lib/python3.10/multiprocessing/pool.py:861\u001b[0m, in \u001b[0;36mIMapIterator.next\u001b[0;34m(self, timeout)\u001b[0m\n\u001b[1;32m    859\u001b[0m     \u001b[38;5;28mself\u001b[39m\u001b[38;5;241m.\u001b[39m_pool \u001b[38;5;241m=\u001b[39m \u001b[38;5;28;01mNone\u001b[39;00m\n\u001b[1;32m    860\u001b[0m     \u001b[38;5;28;01mraise\u001b[39;00m \u001b[38;5;167;01mStopIteration\u001b[39;00m \u001b[38;5;28;01mfrom\u001b[39;00m \u001b[38;5;28;01mNone\u001b[39;00m\n\u001b[0;32m--> 861\u001b[0m \u001b[38;5;28;43mself\u001b[39;49m\u001b[38;5;241;43m.\u001b[39;49m\u001b[43m_cond\u001b[49m\u001b[38;5;241;43m.\u001b[39;49m\u001b[43mwait\u001b[49m\u001b[43m(\u001b[49m\u001b[43mtimeout\u001b[49m\u001b[43m)\u001b[49m\n\u001b[1;32m    862\u001b[0m \u001b[38;5;28;01mtry\u001b[39;00m:\n\u001b[1;32m    863\u001b[0m     item \u001b[38;5;241m=\u001b[39m \u001b[38;5;28mself\u001b[39m\u001b[38;5;241m.\u001b[39m_items\u001b[38;5;241m.\u001b[39mpopleft()\n",
      "File \u001b[0;32m~/anaconda3/envs/ler/lib/python3.10/threading.py:320\u001b[0m, in \u001b[0;36mCondition.wait\u001b[0;34m(self, timeout)\u001b[0m\n\u001b[1;32m    318\u001b[0m \u001b[38;5;28;01mtry\u001b[39;00m:    \u001b[38;5;66;03m# restore state no matter what (e.g., KeyboardInterrupt)\u001b[39;00m\n\u001b[1;32m    319\u001b[0m     \u001b[38;5;28;01mif\u001b[39;00m timeout \u001b[38;5;129;01mis\u001b[39;00m \u001b[38;5;28;01mNone\u001b[39;00m:\n\u001b[0;32m--> 320\u001b[0m         \u001b[43mwaiter\u001b[49m\u001b[38;5;241;43m.\u001b[39;49m\u001b[43macquire\u001b[49m\u001b[43m(\u001b[49m\u001b[43m)\u001b[49m\n\u001b[1;32m    321\u001b[0m         gotit \u001b[38;5;241m=\u001b[39m \u001b[38;5;28;01mTrue\u001b[39;00m\n\u001b[1;32m    322\u001b[0m     \u001b[38;5;28;01melse\u001b[39;00m:\n",
      "\u001b[0;31mKeyboardInterrupt\u001b[0m: "
     ]
    }
   ],
   "source": [
    "ler.batch_size = 100000\n",
    "\n",
    "len_ = 0\n",
    "while len_<10000:\n",
    "    with contextlib.redirect_stdout(None):\n",
    "        unlensed_param = ler.unlensed_cbc_statistics(size=100000, resume=False)\n",
    "\n",
    "    # SNR for each detector\n",
    "    detectors = [\"L1\", \"H1\", \"V1\"]\n",
    "    for i,det in enumerate(detectors):\n",
    "        snr = np.array(unlensed_param[det])\n",
    "\n",
    "        idx1 = np.argwhere(snr<2).flatten()\n",
    "        idx2 = np.argwhere((snr>=2) & (snr<4)).flatten()\n",
    "        idx3 = np.argwhere((snr>=4) & (snr<6)).flatten()\n",
    "        idx4 = np.argwhere((snr>=6) & (snr<8)).flatten()\n",
    "        idx5 = np.argwhere((snr>=8) & (snr<10)).flatten()\n",
    "        idx6 = np.argwhere((snr>=10) & (snr<12)).flatten()\n",
    "        idx7 = np.argwhere((snr>=12) & (snr<14)).flatten()\n",
    "        idx8 = np.argwhere((snr>=14) & (snr<16)).flatten()\n",
    "        idx16 = np.argwhere(snr>=16).flatten()\n",
    "\n",
    "        unlensed_param1 = {}\n",
    "        unlensed_param2 = {}\n",
    "        unlensed_param3 = {}\n",
    "        unlensed_param4 = {}\n",
    "        unlensed_param5 = {}\n",
    "        unlensed_param6 = {}\n",
    "        unlensed_param7 = {}\n",
    "        unlensed_param8 = {}\n",
    "        unlensed_param16 = {}\n",
    "        unlensed_param_joint = {}\n",
    "        len_idx16 = len(idx16)\n",
    "\n",
    "        for key, value in unlensed_param.items():\n",
    "            if len(idx1)>len_idx16:\n",
    "                unlensed_param1[key] = value[idx1][:len_idx16]\n",
    "            else:\n",
    "                unlensed_param1[key] = value[idx1]\n",
    "            if len(idx2)>len_idx16:\n",
    "                unlensed_param2[key] = value[idx2][:len_idx16]\n",
    "            else:\n",
    "                unlensed_param2[key] = value[idx2]\n",
    "            if len(idx3)>len_idx16:\n",
    "                unlensed_param3[key] = value[idx3][:len_idx16]\n",
    "            else:\n",
    "                unlensed_param3[key] = value[idx3]\n",
    "            if len(idx4)>len_idx16:\n",
    "                unlensed_param4[key] = value[idx4][:len_idx16]\n",
    "            else:\n",
    "                unlensed_param4[key] = value[idx4]\n",
    "            if len(idx5)>len_idx16:\n",
    "                unlensed_param5[key] = value[idx5][:len_idx16]\n",
    "            else:\n",
    "                unlensed_param5[key] = value[idx5]\n",
    "            if len(idx6)>len_idx16:\n",
    "                unlensed_param6[key] = value[idx6][:len_idx16]\n",
    "            else:\n",
    "                unlensed_param6[key] = value[idx6]\n",
    "            if len(idx7)>len_idx16:\n",
    "                unlensed_param7[key] = value[idx7][:len_idx16]\n",
    "            else:\n",
    "                unlensed_param7[key] = value[idx7]\n",
    "            if len(idx8)>len_idx16:\n",
    "                unlensed_param8[key] = value[idx8][:len_idx16]\n",
    "            else:\n",
    "                unlensed_param8[key] = value[idx8]\n",
    "            unlensed_param16[key] = value[idx16]\n",
    "            \n",
    "            unlensed_param[key] = np.concatenate([unlensed_param1[key], unlensed_param2[key], unlensed_param3[key], unlensed_param4[key], unlensed_param5[key], unlensed_param6[key], unlensed_param7[key], unlensed_param8[key], unlensed_param16[key]])\n",
    "\n",
    "        # save the parameters\n",
    "        append_json(\"snr_\"+det+\".json\", unlensed_param, replace=False)\n",
    "\n",
    "    unlensed_params = load_json(\"snr_\"+det+\".json\")\n",
    "    len_ = len(np.array(unlensed_params[det]))\n",
    "\n",
    "    print(f\"Number of events: {len_}\")"
   ]
  },
  {
   "cell_type": "code",
   "execution_count": null,
   "metadata": {},
   "outputs": [
    {
     "name": "stderr",
     "output_type": "stream",
     "text": [
      "100%|████████████████████████████████████████████████████████| 96723/96723 [02:40<00:00, 601.55it/s]\n",
      "  0%|                                                                     | 0/96774 [00:00<?, ?it/s]"
     ]
    },
    {
     "name": "stdout",
     "output_type": "stream",
     "text": [
      "Number of events: 78083\n"
     ]
    },
    {
     "name": "stderr",
     "output_type": "stream",
     "text": [
      "100%|████████████████████████████████████████████████████████| 96774/96774 [02:42<00:00, 594.01it/s]\n",
      "  0%|                                                                     | 0/96750 [00:00<?, ?it/s]"
     ]
    },
    {
     "name": "stdout",
     "output_type": "stream",
     "text": [
      "Number of events: 79634\n"
     ]
    },
    {
     "name": "stderr",
     "output_type": "stream",
     "text": [
      "100%|████████████████████████████████████████████████████████| 96750/96750 [02:41<00:00, 599.53it/s]\n",
      "  0%|                                                                     | 0/96755 [00:00<?, ?it/s]"
     ]
    },
    {
     "name": "stdout",
     "output_type": "stream",
     "text": [
      "Number of events: 81122\n"
     ]
    },
    {
     "name": "stderr",
     "output_type": "stream",
     "text": [
      "100%|████████████████████████████████████████████████████████| 96755/96755 [02:41<00:00, 599.58it/s]\n",
      "  0%|                                                                     | 0/96787 [00:00<?, ?it/s]"
     ]
    },
    {
     "name": "stdout",
     "output_type": "stream",
     "text": [
      "Number of events: 82842\n"
     ]
    },
    {
     "name": "stderr",
     "output_type": "stream",
     "text": [
      "100%|████████████████████████████████████████████████████████| 96787/96787 [02:41<00:00, 600.55it/s]\n",
      "  0%|                                                                     | 0/96765 [00:00<?, ?it/s]"
     ]
    },
    {
     "name": "stdout",
     "output_type": "stream",
     "text": [
      "Number of events: 84402\n"
     ]
    },
    {
     "name": "stderr",
     "output_type": "stream",
     "text": [
      "100%|████████████████████████████████████████████████████████| 96765/96765 [02:41<00:00, 598.81it/s]\n",
      "  0%|                                                                     | 0/96755 [00:00<?, ?it/s]"
     ]
    },
    {
     "name": "stdout",
     "output_type": "stream",
     "text": [
      "Number of events: 86112\n"
     ]
    },
    {
     "name": "stderr",
     "output_type": "stream",
     "text": [
      "100%|████████████████████████████████████████████████████████| 96755/96755 [02:41<00:00, 599.28it/s]\n",
      "  0%|                                                                     | 0/96796 [00:00<?, ?it/s]"
     ]
    },
    {
     "name": "stdout",
     "output_type": "stream",
     "text": [
      "Number of events: 87455\n"
     ]
    },
    {
     "name": "stderr",
     "output_type": "stream",
     "text": [
      "100%|████████████████████████████████████████████████████████| 96796/96796 [02:41<00:00, 598.51it/s]\n",
      "  0%|                                                                     | 0/96814 [00:00<?, ?it/s]"
     ]
    },
    {
     "name": "stdout",
     "output_type": "stream",
     "text": [
      "Number of events: 89169\n"
     ]
    },
    {
     "name": "stderr",
     "output_type": "stream",
     "text": [
      "100%|████████████████████████████████████████████████████████| 96814/96814 [02:42<00:00, 596.22it/s]\n",
      "  0%|                                                                     | 0/96714 [00:00<?, ?it/s]"
     ]
    },
    {
     "name": "stdout",
     "output_type": "stream",
     "text": [
      "Number of events: 90721\n"
     ]
    },
    {
     "name": "stderr",
     "output_type": "stream",
     "text": [
      "100%|████████████████████████████████████████████████████████| 96714/96714 [02:42<00:00, 596.78it/s]\n",
      "  0%|                                                                     | 0/96774 [00:00<?, ?it/s]"
     ]
    },
    {
     "name": "stdout",
     "output_type": "stream",
     "text": [
      "Number of events: 92255\n"
     ]
    },
    {
     "name": "stderr",
     "output_type": "stream",
     "text": [
      "100%|████████████████████████████████████████████████████████| 96774/96774 [02:42<00:00, 596.84it/s]\n",
      "  0%|                                                                     | 0/96671 [00:00<?, ?it/s]"
     ]
    },
    {
     "name": "stdout",
     "output_type": "stream",
     "text": [
      "Number of events: 93731\n"
     ]
    },
    {
     "name": "stderr",
     "output_type": "stream",
     "text": [
      "100%|████████████████████████████████████████████████████████| 96671/96671 [02:41<00:00, 597.49it/s]\n",
      "  0%|                                                                     | 0/96770 [00:00<?, ?it/s]"
     ]
    },
    {
     "name": "stdout",
     "output_type": "stream",
     "text": [
      "Number of events: 95244\n"
     ]
    },
    {
     "name": "stderr",
     "output_type": "stream",
     "text": [
      "100%|████████████████████████████████████████████████████████| 96770/96770 [02:41<00:00, 599.14it/s]\n",
      "  0%|                                                                     | 0/96804 [00:00<?, ?it/s]"
     ]
    },
    {
     "name": "stdout",
     "output_type": "stream",
     "text": [
      "Number of events: 96821\n"
     ]
    },
    {
     "name": "stderr",
     "output_type": "stream",
     "text": [
      "100%|████████████████████████████████████████████████████████| 96804/96804 [02:41<00:00, 598.03it/s]\n",
      "  0%|                                                                     | 0/96697 [00:00<?, ?it/s]"
     ]
    },
    {
     "name": "stdout",
     "output_type": "stream",
     "text": [
      "Number of events: 98303\n"
     ]
    },
    {
     "name": "stderr",
     "output_type": "stream",
     "text": [
      "100%|████████████████████████████████████████████████████████| 96697/96697 [02:41<00:00, 599.31it/s]\n"
     ]
    },
    {
     "name": "stdout",
     "output_type": "stream",
     "text": [
      "Number of events: 100007\n"
     ]
    }
   ],
   "source": [
    "## This is data collection based of 'optimal snr net' range\n",
    " \n",
    "# ler.batch_size = 100000\n",
    "\n",
    "# len_ = 0\n",
    "# while len_<100000:\n",
    "#     with contextlib.redirect_stdout(None):\n",
    "#         unlensed_param = ler.unlensed_cbc_statistics(size=100000, resume=False)\n",
    "#     snr = np.sqrt(unlensed_param[\"L1\"]**2 + unlensed_param[\"H1\"]**2 + unlensed_param[\"V1\"]**2)\n",
    "\n",
    "#     idx1 = np.argwhere(snr<2).flatten()\n",
    "#     idx2 = np.argwhere((snr>=2) & (snr<4)).flatten()\n",
    "#     idx3 = np.argwhere((snr>=4) & (snr<6)).flatten()\n",
    "#     idx4 = np.argwhere((snr>=6) & (snr<8)).flatten()\n",
    "#     idx5 = np.argwhere((snr>=8) & (snr<10)).flatten()\n",
    "#     idx6 = np.argwhere((snr>=10) & (snr<12)).flatten()\n",
    "#     idx7 = np.argwhere((snr>=12) & (snr<14)).flatten()\n",
    "#     idx8 = np.argwhere((snr>=14) & (snr<16)).flatten()\n",
    "#     idx16 = np.argwhere(snr>=16).flatten()\n",
    "\n",
    "#     unlensed_param1 = {}\n",
    "#     unlensed_param2 = {}\n",
    "#     unlensed_param3 = {}\n",
    "#     unlensed_param4 = {}\n",
    "#     unlensed_param5 = {}\n",
    "#     unlensed_param6 = {}\n",
    "#     unlensed_param7 = {}\n",
    "#     unlensed_param8 = {}\n",
    "#     unlensed_param16 = {}\n",
    "#     unlensed_param_joint = {}\n",
    "\n",
    "#     len_idx16 = len(idx16)\n",
    "\n",
    "#     for key, value in unlensed_param.items():\n",
    "#         if len(idx1)>len_idx16:\n",
    "#             unlensed_param1[key] = value[idx1][:len_idx16]\n",
    "#         else:\n",
    "#             unlensed_param1[key] = value[idx1]\n",
    "#         if len(idx2)>len_idx16:\n",
    "#             unlensed_param2[key] = value[idx2][:len_idx16]\n",
    "#         else:\n",
    "#             unlensed_param2[key] = value[idx2]\n",
    "#         if len(idx3)>len_idx16:\n",
    "#             unlensed_param3[key] = value[idx3][:len_idx16]\n",
    "#         else:\n",
    "#             unlensed_param3[key] = value[idx3]\n",
    "#         if len(idx4)>len_idx16:\n",
    "#             unlensed_param4[key] = value[idx4][:len_idx16]\n",
    "#         else:\n",
    "#             unlensed_param4[key] = value[idx4]\n",
    "#         if len(idx5)>len_idx16:\n",
    "#             unlensed_param5[key] = value[idx5][:len_idx16]\n",
    "#         else:\n",
    "#             unlensed_param5[key] = value[idx5]\n",
    "#         if len(idx6)>len_idx16:\n",
    "#             unlensed_param6[key] = value[idx6][:len_idx16]\n",
    "#         else:\n",
    "#             unlensed_param6[key] = value[idx6]\n",
    "#         if len(idx7)>len_idx16:\n",
    "#             unlensed_param7[key] = value[idx7][:len_idx16]\n",
    "#         else:\n",
    "#             unlensed_param7[key] = value[idx7]\n",
    "#         if len(idx8)>len_idx16:\n",
    "#             unlensed_param8[key] = value[idx8][:len_idx16]\n",
    "#         else:\n",
    "#             unlensed_param8[key] = value[idx8]\n",
    "#         unlensed_param16[key] = value[idx16]\n",
    "#         unlensed_param_joint[key] = np.concatenate([unlensed_param1[key], unlensed_param2[key], unlensed_param3[key], unlensed_param4[key], unlensed_param5[key], unlensed_param6[key], unlensed_param7[key], unlensed_param8[key], unlensed_param16[key]])\n",
    "\n",
    "#     append_json(\"joint_new_optsnr.json\", unlensed_param_joint, replace=False)\n",
    "#     unlensed_params = load_json(\"joint_new_optsnr.json\")\n",
    "#     len_ = len(np.array(unlensed_params[\"optimal_snr_net\"]))\n",
    "\n",
    "#     print(f\"Number of events: {len_}\")"
   ]
  },
  {
   "cell_type": "code",
   "execution_count": null,
   "metadata": {},
   "outputs": [],
   "source": [
    "# getting data\n",
    "#unlensed_params = load_json(\"joint_new_optsnr.json\")\n",
    "unlensed_params = load_json(\"snr_L1.json\")"
   ]
  },
  {
   "cell_type": "code",
   "execution_count": null,
   "metadata": {},
   "outputs": [
    {
     "data": {
      "text/plain": [
       "dict_keys(['zs', 'geocent_time', 'ra', 'dec', 'phase', 'psi', 'theta_jn', 'a_1', 'a_2', 'tilt_1', 'tilt_2', 'phi_12', 'phi_jl', 'luminosity_distance', 'mass_1_source', 'mass_2_source', 'mass_1', 'mass_2', 'L1', 'H1', 'V1', 'optimal_snr_net'])"
      ]
     },
     "execution_count": 29,
     "metadata": {},
     "output_type": "execute_result"
    }
   ],
   "source": [
    "# checking the keys\n",
    "unlensed_params.keys()"
   ]
  },
  {
   "cell_type": "code",
   "execution_count": null,
   "metadata": {},
   "outputs": [
    {
     "data": {
      "text/plain": [
       "1668"
      ]
     },
     "execution_count": 30,
     "metadata": {},
     "output_type": "execute_result"
    }
   ],
   "source": [
    "# checking the length of the data\n",
    "len(np.array(unlensed_params[\"optimal_snr_net\"]))"
   ]
  },
  {
   "cell_type": "code",
   "execution_count": null,
   "metadata": {},
   "outputs": [
    {
     "data": {
      "image/png": "[encoded data removed]",
      "text/plain": [
       "<Figure size 640x480 with 1 Axes>"
      ]
     },
     "metadata": {},
     "output_type": "display_data"
    }
   ],
   "source": [
    "# plotting the SNR distribution (net)\n",
    "test = np.array(unlensed_params[\"optimal_snr_net\"])\n",
    "test = test[test<50]\n",
    "plt.hist(test, bins=30, color='k', density=True)\n",
    "plt.xlabel(\"SNR\")\n",
    "plt.ylabel(\"Density\")\n",
    "plt.title(\"SNR distribution\")\n",
    "#plt.xlim(0, 100)\n",
    "plt.show()\n"
   ]
  },
  {
   "cell_type": "code",
   "execution_count": null,
   "metadata": {},
   "outputs": [
    {
     "data": {
      "image/png": "[encoded data removed]",
      "text/plain": [
       "<Figure size 640x480 with 1 Axes>"
      ]
     },
     "metadata": {},
     "output_type": "display_data"
    }
   ],
   "source": [
    "# plotting the SNR distribution (L1 detector)\n",
    "test = np.array(unlensed_params[\"L1\"])\n",
    "test = test[test<20]\n",
    "plt.hist(test, bins=30, color='k', density=True)\n",
    "plt.xlabel(\"SNR\")\n",
    "plt.ylabel(\"Density\")\n",
    "plt.title(\"SNR distribution\")\n",
    "#plt.xlim(0, 100)\n",
    "plt.show()"
   ]
  },
  {
   "cell_type": "code",
   "execution_count": null,
   "metadata": {},
   "outputs": [
    {
     "data": {
      "image/png": "[encoded data removed]",
      "text/plain": [
       "<Figure size 640x480 with 1 Axes>"
      ]
     },
     "metadata": {},
     "output_type": "display_data"
    }
   ],
   "source": [
    "# plotting the SNR distribution (H1 detector)\n",
    "unlensed_params = load_json(\"snr_H1.json\")\n",
    "test = np.array(unlensed_params[\"H1\"])\n",
    "test = test[test<20]\n",
    "plt.hist(test, bins=30, color='k', density=True)\n",
    "plt.xlabel(\"SNR\")\n",
    "plt.ylabel(\"Density\")\n",
    "plt.title(\"SNR distribution\")\n",
    "#plt.xlim(0, 100)\n",
    "plt.show()"
   ]
  },
  {
   "cell_type": "code",
   "execution_count": null,
   "metadata": {},
   "outputs": [
    {
     "data": {
      "image/png": "[encoded data removed]",
      "text/plain": [
       "<Figure size 640x480 with 1 Axes>"
      ]
     },
     "metadata": {},
     "output_type": "display_data"
    }
   ],
   "source": [
    "# plotting the SNR distribution (V1 detector)\n",
    "unlensed_params = load_json(\"snr_V1.json\")\n",
    "test = np.array(unlensed_params[\"V1\"])\n",
    "test = test[test<20]\n",
    "plt.hist(test, bins=30, color='k', density=True)\n",
    "plt.xlabel(\"SNR\")\n",
    "plt.ylabel(\"Density\")\n",
    "plt.title(\"SNR distribution\")\n",
    "#plt.xlim(0, 100)\n",
    "plt.show()"
   ]
  },
  {
   "cell_type": "code",
   "execution_count": null,
   "metadata": {},
   "outputs": [],
   "source": []
  }
 ],
 "metadata": {
  "kernelspec": {
   "display_name": "lerenv",
   "language": "python",
   "name": "python3"
  },
  "language_info": {
   "codemirror_mode": {
    "name": "ipython",
    "version": 3
   },
   "file_extension": ".py",
   "mimetype": "text/x-python",
   "name": "python",
   "nbconvert_exporter": "python",
   "pygments_lexer": "ipython3",
   "version": "3.10.12"
  }
 },
 "nbformat": 4,
 "nbformat_minor": 2
}
