{
 "cells": [
  {
   "cell_type": "code",
   "execution_count": 1,
   "metadata": {},
   "outputs": [],
   "source": [
    "import jax.numpy as jnp\n",
    "import numpy as np\n",
    "\n",
    "from ripple.waveforms import IMRPhenomD\n",
    "from ripple import ms_to_Mc_eta"
   ]
  },
  {
   "cell_type": "code",
   "execution_count": 2,
   "metadata": {},
   "outputs": [
    {
     "data": {
      "text/plain": [
       "'1.24.4'"
      ]
     },
     "execution_count": 2,
     "metadata": {},
     "output_type": "execute_result"
    }
   ],
   "source": [
    "np.__version__"
   ]
  },
  {
   "cell_type": "code",
   "execution_count": 3,
   "metadata": {},
   "outputs": [],
   "source": [
    "# Get a frequency domain waveform\n",
    "# source parameters\n",
    "\n",
    "m1_msun = 20.0 # In solar masses\n",
    "m2_msun = 19.0\n",
    "chi1 = 0.5 # Dimensionless spin\n",
    "chi2 = -0.5\n",
    "tc = 0.0 # Time of coalescence in seconds\n",
    "phic = 0.0 # Time of coalescence\n",
    "dist_mpc = 440 # Distance to source in Mpc\n",
    "inclination = 0.0 # Inclination Angle\n",
    "\n",
    "# The PhenomD waveform model is parameterized with the chirp mass and symmetric mass ratio\n",
    "Mc, eta = ms_to_Mc_eta(jnp.array([m1_msun, m2_msun]))"
   ]
  },
  {
   "cell_type": "code",
   "execution_count": 4,
   "metadata": {},
   "outputs": [],
   "source": [
    "# These are the parametrs that go into the waveform generator\n",
    "# Note that JAX does not give index errors, so if you pass in the\n",
    "# the wrong array it will behave strangely\n",
    "theta_ripple = jnp.array([Mc, eta, chi1, chi2, dist_mpc, tc, phic, inclination])\n",
    "\n",
    "# Now we need to generate the frequency grid\n",
    "f_l = 24\n",
    "f_u = 512\n",
    "del_f = 0.01\n",
    "fs = jnp.arange(f_l, f_u, del_f)\n",
    "f_ref = f_l\n",
    "\n",
    "# And finally lets generate the waveform!\n",
    "hp_ripple, hc_ripple = IMRPhenomD.gen_IMRPhenomD_hphc(fs, theta_ripple, f_ref)"
   ]
  },
  {
   "cell_type": "code",
   "execution_count": 6,
   "metadata": {},
   "outputs": [],
   "source": [
    "# set the GW parameters\n",
    "mass_1 = jnp.array([5, 10.,50.,200.])\n",
    "ratio = jnp.array([1, 0.8,0.5,0.2])\n",
    "mass_2 = mass_1 * ratio\n",
    "Mc, eta = ms_to_Mc_eta(jnp.array([mass_1, mass_2]))\n",
    "chi1 = jnp.array([0.1, 0.2, 0.3, 0.4])\n",
    "chi2 = jnp.array([0.1, 0.2, 0.3, 0.4])\n",
    "tc = jnp.array([0.0, 0.0, 0.0, 0.0])\n",
    "phic = jnp.array([0.0, 0.0, 0.0, 0.0])\n",
    "dist_mpc = np.array([1000, 2000, 3000, 4000])\n",
    "inclination = jnp.array([0.0, 0.0, 0.0, 0.0])"
   ]
  },
  {
   "cell_type": "code",
   "execution_count": 7,
   "metadata": {},
   "outputs": [
    {
     "data": {
      "text/plain": [
       "((4,), (4,), (4,), (4,), (4,), (4,), (4,), (4,))"
      ]
     },
     "execution_count": 7,
     "metadata": {},
     "output_type": "execute_result"
    }
   ],
   "source": [
    "Mc.shape, eta.shape, chi1.shape, chi2.shape, dist_mpc.shape, tc.shape, phic.shape, inclination.shape"
   ]
  },
  {
   "cell_type": "code",
   "execution_count": null,
   "metadata": {},
   "outputs": [],
   "source": []
  },
  {
   "cell_type": "code",
   "execution_count": 8,
   "metadata": {},
   "outputs": [],
   "source": [
    "theta_ripple = jnp.array([Mc, eta, chi1, chi2, dist_mpc, tc, phic, inclination]).T\n",
    "\n",
    "# Now we need to generate the frequency grid\n",
    "f_l = 20\n",
    "f_u = 1024\n",
    "duration = 4\n",
    "del_f = 1.0/duration\n",
    "fs = jnp.arange(f_l, f_u, del_f)\n",
    "f_ref = f_l\n",
    "\n",
    "# And finally lets generate the waveform!\n",
    "# hp_ripple, hc_ripple = IMRPhenomD.gen_IMRPhenomD_hphc(fs, theta_ripple, f_ref)"
   ]
  },
  {
   "cell_type": "code",
   "execution_count": 9,
   "metadata": {},
   "outputs": [
    {
     "data": {
      "text/plain": [
       "(4, 8)"
      ]
     },
     "execution_count": 9,
     "metadata": {},
     "output_type": "execute_result"
    }
   ],
   "source": [
    "theta_ripple.shape"
   ]
  },
  {
   "cell_type": "code",
   "execution_count": 10,
   "metadata": {},
   "outputs": [
    {
     "data": {
      "text/plain": [
       "Array([[0., 0.],\n",
       "       [0., 0.],\n",
       "       [0., 0.]], dtype=float32)"
      ]
     },
     "execution_count": 10,
     "metadata": {},
     "output_type": "execute_result"
    }
   ],
   "source": [
    "jnp.zeros((3, 2))"
   ]
  },
  {
   "cell_type": "code",
   "execution_count": 29,
   "metadata": {},
   "outputs": [],
   "source": [
    "# Note that we have not internally jitted the functions since this would\n",
    "# introduce an annoying overhead each time the user evaluated the function with a different length frequency array\n",
    "# We therefore recommend that the user jit the function themselves to accelerate evaluations. For example:\n",
    "\n",
    "import jax\n",
    "\n",
    "@jax.jit\n",
    "def waveform(theta):\n",
    "    hp,hc = [], []\n",
    "    for i in range(theta.shape[1]):\n",
    "\n",
    "        hf = IMRPhenomD.gen_IMRPhenomD_hphc(fs, theta[i, :], f_ref)\n",
    "        hp.append(hf[0])\n",
    "        hc.append(hf[1])\n",
    "\n",
    "    return jnp.array(hp), jnp.array(hc)"
   ]
  },
  {
   "cell_type": "code",
   "execution_count": 14,
   "metadata": {},
   "outputs": [
    {
     "name": "stdout",
     "output_type": "stream",
     "text": [
      "\u001b[0;31mSignature:\u001b[0m\n",
      "\u001b[0mIMRPhenomD\u001b[0m\u001b[0;34m.\u001b[0m\u001b[0mgen_IMRPhenomD_hphc\u001b[0m\u001b[0;34m(\u001b[0m\u001b[0;34m\u001b[0m\n",
      "\u001b[0;34m\u001b[0m    \u001b[0mf\u001b[0m\u001b[0;34m:\u001b[0m \u001b[0mjax\u001b[0m\u001b[0;34m.\u001b[0m\u001b[0mArray\u001b[0m\u001b[0;34m,\u001b[0m\u001b[0;34m\u001b[0m\n",
      "\u001b[0;34m\u001b[0m    \u001b[0mparams\u001b[0m\u001b[0;34m:\u001b[0m \u001b[0mjax\u001b[0m\u001b[0;34m.\u001b[0m\u001b[0mArray\u001b[0m\u001b[0;34m,\u001b[0m\u001b[0;34m\u001b[0m\n",
      "\u001b[0;34m\u001b[0m    \u001b[0mf_ref\u001b[0m\u001b[0;34m:\u001b[0m \u001b[0mfloat\u001b[0m\u001b[0;34m,\u001b[0m\u001b[0;34m\u001b[0m\n",
      "\u001b[0;34m\u001b[0m\u001b[0;34m)\u001b[0m\u001b[0;34m\u001b[0m\u001b[0;34m\u001b[0m\u001b[0m\n",
      "\u001b[0;31mDocstring:\u001b[0m\n",
      "Generate PhenomD frequency domain waveform following 1508.07253.\n",
      "vars array contains both intrinsic and extrinsic variables\n",
      "theta = [Mchirp, eta, chi1, chi2, D, tc, phic]\n",
      "Mchirp: Chirp mass of the system [solar masses]\n",
      "eta: Symmetric mass ratio [between 0.0 and 0.25]\n",
      "chi1: Dimensionless aligned spin of the primary object [between -1 and 1]\n",
      "chi2: Dimensionless aligned spin of the secondary object [between -1 and 1]\n",
      "D: Luminosity distance to source [Mpc]\n",
      "tc: Time of coalesence. This only appears as an overall linear in f contribution to the phase\n",
      "phic: Phase of coalesence\n",
      "inclination: Inclination angle of the binary [between 0 and PI]\n",
      "\n",
      "f_ref: Reference frequency for the waveform\n",
      "\n",
      "Returns:\n",
      "--------\n",
      "  hp (array): Strain of the plus polarization\n",
      "  hc (array): Strain of the cross polarization\n",
      "\u001b[0;31mFile:\u001b[0m      ~/anaconda3/envs/ripple/lib/python3.11/site-packages/ripple/waveforms/IMRPhenomD.py\n",
      "\u001b[0;31mType:\u001b[0m      function"
     ]
    }
   ],
   "source": [
    "IMRPhenomD.gen_IMRPhenomD_hphc?"
   ]
  },
  {
   "cell_type": "code",
   "execution_count": 12,
   "metadata": {},
   "outputs": [],
   "source": [
    "hf_arr = waveform(theta_ripple)"
   ]
  },
  {
   "cell_type": "code",
   "execution_count": 4,
   "metadata": {},
   "outputs": [
    {
     "name": "stdout",
     "output_type": "stream",
     "text": [
      "psds not given. Choosing bilby's default psds\n",
      "\n",
      "Chosen GWSNR initialization parameters:\n",
      "\n",
      "npool:  4\n",
      "snr type:  inner_product\n",
      "waveform approximant:  IMRPhenomD\n",
      "sampling frequency:  2048.0\n",
      "minimum frequency (fmin):  20.0\n",
      "mtot=mass1+mass2\n",
      "min(mtot):  2.0\n",
      "max(mtot) (with the given fmin=20.0): 184.98599853446768\n",
      "detectors:  ['L1', 'H1', 'V1']\n",
      "psds:  [PowerSpectralDensity(psd_file='None', asd_file='/Users/phurailatpamhemantakumar/anaconda3/envs/ripple/lib/python3.11/site-packages/bilby/gw/detector/noise_curves/aLIGO_O4_high_asd.txt'), PowerSpectralDensity(psd_file='None', asd_file='/Users/phurailatpamhemantakumar/anaconda3/envs/ripple/lib/python3.11/site-packages/bilby/gw/detector/noise_curves/aLIGO_O4_high_asd.txt'), PowerSpectralDensity(psd_file='None', asd_file='/Users/phurailatpamhemantakumar/anaconda3/envs/ripple/lib/python3.11/site-packages/bilby/gw/detector/noise_curves/AdV_asd.txt')]\n"
     ]
    }
   ],
   "source": [
    "from gwsnr import GWSNR\n",
    "from gwsnr.njit_functions import (\n",
    "    # get_interpolated_snr,\n",
    "    findchirp_chirptime,\n",
    "    # antenna_response,\n",
    "    # antenna_response_array,\n",
    ")\n",
    "\n",
    "snr_mine = GWSNR(snr_type='inner_product')"
   ]
  },
  {
   "cell_type": "code",
   "execution_count": 16,
   "metadata": {},
   "outputs": [],
   "source": [
    "size_ = 100000\n",
    "mass_1=10*np.ones(size_)\n",
    "mass_2=10*np.ones(size_)\n",
    "luminosity_distance=100.0*np.ones(size_)\n",
    "theta_jn=0.0*np.ones(size_)\n",
    "psi=0.0*np.ones(size_)\n",
    "phase=0.0*np.ones(size_)\n",
    "geocent_time=1246527224.169434*np.ones(size_)\n",
    "ra=0.0*np.ones(size_)\n",
    "dec=0.0*np.ones(size_)\n",
    "a_1=0.0*np.ones(size_)\n",
    "a_2=0.0*np.ones(size_)\n",
    "tilt_1=0.0*np.ones(size_)\n",
    "tilt_2=0.0*np.ones(size_)\n",
    "phi_12=0.0*np.ones(size_)\n",
    "phi_jl=0.0*np.ones(size_)\n",
    "phic=0.0*np.ones(size_)\n",
    "gw_param_dict=False\n",
    "output_jsonfile=False"
   ]
  },
  {
   "cell_type": "code",
   "execution_count": 17,
   "metadata": {},
   "outputs": [],
   "source": [
    "# if gw_param_dict is given, then use that\n",
    "if gw_param_dict is not False:\n",
    "    mass_1 = gw_param_dict[\"mass_1\"]\n",
    "    mass_2 = gw_param_dict[\"mass_2\"]\n",
    "    luminosity_distance = gw_param_dict[\"luminosity_distance\"]\n",
    "    theta_jn = gw_param_dict[\"theta_jn\"]\n",
    "    psi = gw_param_dict[\"psi\"]\n",
    "    phase = gw_param_dict[\"phase\"]\n",
    "    geocent_time = gw_param_dict[\"geocent_time\"]\n",
    "    ra = gw_param_dict[\"ra\"]\n",
    "    dec = gw_param_dict[\"dec\"]\n",
    "    # a_1, a_2, tilt_1, tilt_2, phi_12, phi_jl exist in the dictionary\n",
    "    # if exists, then use that, else pass\n",
    "    if \"a_1\" and \"a_2\" in gw_param_dict:\n",
    "        a_1 = gw_param_dict[\"a_1\"]\n",
    "        a_2 = gw_param_dict[\"a_2\"]\n",
    "    if \"tilt_1\" and \"tilt_2\" and \"phi_12\" and \"phi_jl\" in gw_param_dict:\n",
    "        tilt_1 = gw_param_dict[\"tilt_1\"]\n",
    "        tilt_2 = gw_param_dict[\"tilt_2\"]\n",
    "        phi_12 = gw_param_dict[\"phi_12\"]\n",
    "        phi_jl = gw_param_dict[\"phi_jl\"]\n",
    "\n",
    "npool = snr_mine.npool\n",
    "sampling_frequency = snr_mine.sampling_frequency\n",
    "detectors = snr_mine.detector_list.copy()\n",
    "detector_tensor = np.array(snr_mine.detector_tensor_list.copy())\n",
    "approximant = snr_mine.waveform_approximant\n",
    "f_min = snr_mine.f_min\n",
    "num_det = np.arange(len(detectors), dtype=int)\n",
    "\n",
    "# get the psds for the required detectors\n",
    "psd_dict = {detectors[i]: snr_mine.psds_list[i] for i in num_det}\n",
    "\n",
    "# reshape(-1) is so that either a float value is given or the input is an numpy array\n",
    "# make sure all parameters are of same length\n",
    "mass_1, mass_2 = np.array([mass_1]).reshape(-1), np.array([mass_2]).reshape(-1)\n",
    "num = len(mass_1)\n",
    "(\n",
    "    mass_1,\n",
    "    mass_2,\n",
    "    luminosity_distance,\n",
    "    theta_jn,\n",
    "    psi,\n",
    "    phase,\n",
    "    geocent_time,\n",
    "    ra,\n",
    "    dec,\n",
    "    a_1,\n",
    "    a_2,\n",
    "    tilt_1,\n",
    "    tilt_2,\n",
    "    phi_12,\n",
    "    phi_jl,\n",
    ") = np.broadcast_arrays(\n",
    "    mass_1,\n",
    "    mass_2,\n",
    "    luminosity_distance,\n",
    "    theta_jn,\n",
    "    psi,\n",
    "    phase,\n",
    "    geocent_time,\n",
    "    ra,\n",
    "    dec,\n",
    "    a_1,\n",
    "    a_2,\n",
    "    tilt_1,\n",
    "    tilt_2,\n",
    "    phi_12,\n",
    "    phi_jl,\n",
    ")\n",
    "\n",
    "#############################################\n",
    "# setting up parameters for multiprocessing #\n",
    "#############################################\n",
    "mtot = mass_1 + mass_2\n",
    "idx = (mtot >= snr_mine.mtot_min) & (mtot <= snr_mine.mtot_max)\n",
    "size1 = np.sum(idx)\n",
    "iterations = np.arange(size1)  # to keep track of index\n",
    "\n",
    "dectector_arr = np.array(detectors) * np.ones(\n",
    "    (size1, len(detectors)), dtype=object\n",
    ")\n",
    "psds_dict_list = np.array([np.full(size1, psd_dict, dtype=object)]).T\n",
    "# IMPORTANT: time duration calculation for each of the mass combination\n",
    "safety = 1.2\n",
    "approx_duration = safety * findchirp_chirptime(mass_1[idx], mass_2[idx], f_min)\n",
    "duration = np.ceil(approx_duration + 2.0)\n",
    "if snr_mine.duration_max:\n",
    "    duration[duration > snr_mine.duration_max] = snr_mine.duration_max  # IMRPheonomXPHM has maximum duration of 371s\n",
    "\n",
    "\n",
    "# for JAX input\n",
    "Mc, eta = ms_to_Mc_eta(jnp.array([mass_1, mass_2]))\n",
    "\n",
    "input_arguments = jnp.array(\n",
    "    [\n",
    "        Mc[idx],\n",
    "        eta[idx],\n",
    "        a_1[idx],\n",
    "        a_2[idx],\n",
    "        luminosity_distance[idx],\n",
    "        geocent_time[idx],\n",
    "        phase[idx],\n",
    "        theta_jn[idx],\n",
    "    ]).T\n",
    "\n",
    "# len_ = len(duration)\n",
    "f_l = float(snr_mine.f_min)\n",
    "f_u = float(snr_mine.sampling_frequency/2.0)\n",
    "del_f = np.array(1.0/duration[idx])\n",
    "# fs = jnp.arange(f_l, f_u, del_f)\n",
    "f_ref = f_l\n"
   ]
  },
  {
   "cell_type": "code",
   "execution_count": 7,
   "metadata": {},
   "outputs": [
    {
     "data": {
      "text/plain": [
       "array([0.1, 0.1, 0.1, 0.1, 0.1, 0.1, 0.1, 0.1, 0.1, 0.1])"
      ]
     },
     "execution_count": 7,
     "metadata": {},
     "output_type": "execute_result"
    }
   ],
   "source": [
    "del_f"
   ]
  },
  {
   "cell_type": "code",
   "execution_count": 8,
   "metadata": {},
   "outputs": [],
   "source": [
    "from numba import njit\n",
    "\n",
    "@njit\n",
    "def create_fs(f_l, f_u, del_f):\n",
    "  len_ = del_f.shape[0]\n",
    "  fs = []\n",
    "  for i in range(len_):\n",
    "    del_f_ = del_f[i]\n",
    "    fs.append(np.arange(f_l, f_u, del_f_))\n",
    "  # fs = np.array(fs)\n",
    "\n",
    "  return fs\n",
    "\n",
    "# import jax\n",
    "\n",
    "# @jax.jit\n",
    "# def create_fs(f_l, f_u, del_f):\n",
    "#   len_ = del_f.shape[0]\n",
    "#   fs = []\n",
    "#   for i in range(len_):\n",
    "#     del_f_ = del_f[i]\n",
    "#     fs.append(jnp.arange(f_l, f_u, del_f_))\n",
    "#   # fs = np.array(fs)\n",
    "\n",
    "#   return fs\n",
    "\n",
    "# from numba import njit\n",
    "\n",
    "# # @njit\n",
    "# def create_fs(f_l, f_u, del_f):\n",
    "#     len_ = len(del_f)\n",
    "#     fs = []\n",
    "#     for i in range(len_):\n",
    "#         fs.append(np.arange(f_l, f_u, del_f[i]))\n",
    "#     fs = np.array(fs)\n",
    "\n",
    "#     return fs\n",
    "\n",
    "# @njit\n",
    "# def create_fs(f_lu, del_f):\n",
    "#     len_ = len(del_f)\n",
    "#     fs = []\n",
    "#     for i in range(len_):\n",
    "#         fs.append(np.arange(f_l[i], f_u[i], del_f[i]))\n",
    "#     fs = np.array(fs)\n",
    "\n",
    "#     return fs"
   ]
  },
  {
   "cell_type": "code",
   "execution_count": 18,
   "metadata": {},
   "outputs": [],
   "source": [
    "fs  = create_fs(f_l, f_u, del_f)"
   ]
  },
  {
   "cell_type": "code",
   "execution_count": 10,
   "metadata": {},
   "outputs": [
    {
     "name": "stdout",
     "output_type": "stream",
     "text": [
      "20.0\n"
     ]
    }
   ],
   "source": [
    "# np.array(fs, dtype=object).shape, \n",
    "print(f_ref)"
   ]
  },
  {
   "cell_type": "code",
   "execution_count": null,
   "metadata": {},
   "outputs": [],
   "source": [
    "print(f_ref)"
   ]
  },
  {
   "cell_type": "code",
   "execution_count": 19,
   "metadata": {},
   "outputs": [],
   "source": [
    "hp, hc = waveform(fs, input_arguments, f_ref)"
   ]
  },
  {
   "cell_type": "code",
   "execution_count": 38,
   "metadata": {},
   "outputs": [
    {
     "data": {
      "text/plain": [
       "Array([ 1.3929977e-22+2.1274368e-24j, -7.1213591e-23+1.1877783e-22j,\n",
       "       -6.6714131e-23-1.2042913e-22j, ...,  2.0062255e-25-4.5555302e-25j,\n",
       "        1.4770957e-25-4.7478057e-25j,  9.9274362e-27-4.9658153e-25j],      dtype=complex64)"
      ]
     },
     "execution_count": 38,
     "metadata": {},
     "output_type": "execute_result"
    }
   ],
   "source": [
    "hp[0]"
   ]
  },
  {
   "cell_type": "code",
   "execution_count": 39,
   "metadata": {},
   "outputs": [
    {
     "data": {
      "text/plain": [
       "Array([4.3745991e-23, 4.5669871e-23, 4.7783558e-23, ..., 4.6202514e-24,\n",
       "       4.6204916e-24, 4.6207318e-24], dtype=float32)"
      ]
     },
     "execution_count": 39,
     "metadata": {},
     "output_type": "execute_result"
    }
   ],
   "source": [
    "p_array = jnp.array(psds_dict_list[0][0]['L1'].get_amplitude_spectral_density_array(fs[0]))\n",
    "p_array"
   ]
  },
  {
   "cell_type": "code",
   "execution_count": 48,
   "metadata": {},
   "outputs": [
    {
     "data": {
      "text/plain": [
       "Array(0.+0.j, dtype=complex64)"
      ]
     },
     "execution_count": 48,
     "metadata": {},
     "output_type": "execute_result"
    }
   ],
   "source": [
    "noise_weighted_inner_prod(hc[0], hc[0], p_array, duration[0])"
   ]
  },
  {
   "cell_type": "markdown",
   "metadata": {},
   "source": [
    "* repeat the process with numpy and cross check with jnp"
   ]
  },
  {
   "cell_type": "code",
   "execution_count": 42,
   "metadata": {},
   "outputs": [],
   "source": [
    "signal1 = hp[0]\n",
    "signal2 = hp[0]\n",
    "psd = p_array\n",
    "nwip_arr = jnp.conj(signal1) * signal2 / psd"
   ]
  },
  {
   "cell_type": "code",
   "execution_count": null,
   "metadata": {},
   "outputs": [],
   "source": []
  },
  {
   "cell_type": "code",
   "execution_count": 44,
   "metadata": {},
   "outputs": [
    {
     "data": {
      "text/plain": [
       "Array(0.+0.j, dtype=complex64)"
      ]
     },
     "execution_count": 44,
     "metadata": {},
     "output_type": "execute_result"
    }
   ],
   "source": [
    "jnp.sum(nwip_arr)"
   ]
  },
  {
   "cell_type": "code",
   "execution_count": 46,
   "metadata": {},
   "outputs": [],
   "source": [
    "import jax\n",
    "\n",
    "@jax.jit\n",
    "def waveform(fs, theta, f_ref):\n",
    "    hp,hc = [], []\n",
    "    for i in range(theta.shape[1]):\n",
    "        hf = IMRPhenomD.gen_IMRPhenomD_hphc(fs[i], theta[i, :], f_ref)\n",
    "        hp.append(hf[0])\n",
    "        hc.append(hf[1])\n",
    "\n",
    "    return jnp.array(hp), jnp.array(hc)\n",
    "\n",
    "@jax.jit\n",
    "def noise_weighted_inner_prod(signal1, signal2, psd, duration):\n",
    "    nwip_arr = jnp.conj(signal1) * signal2 / psd\n",
    "    return 4 / duration * jnp.sum(nwip_arr)"
   ]
  },
  {
   "cell_type": "code",
   "execution_count": 30,
   "metadata": {},
   "outputs": [
    {
     "name": "stdout",
     "output_type": "stream",
     "text": [
      "\u001b[0;31mSignature:\u001b[0m\n",
      "\u001b[0mIMRPhenomD\u001b[0m\u001b[0;34m.\u001b[0m\u001b[0mgen_IMRPhenomD_hphc\u001b[0m\u001b[0;34m(\u001b[0m\u001b[0;34m\u001b[0m\n",
      "\u001b[0;34m\u001b[0m    \u001b[0mf\u001b[0m\u001b[0;34m:\u001b[0m \u001b[0mjax\u001b[0m\u001b[0;34m.\u001b[0m\u001b[0mArray\u001b[0m\u001b[0;34m,\u001b[0m\u001b[0;34m\u001b[0m\n",
      "\u001b[0;34m\u001b[0m    \u001b[0mparams\u001b[0m\u001b[0;34m:\u001b[0m \u001b[0mjax\u001b[0m\u001b[0;34m.\u001b[0m\u001b[0mArray\u001b[0m\u001b[0;34m,\u001b[0m\u001b[0;34m\u001b[0m\n",
      "\u001b[0;34m\u001b[0m    \u001b[0mf_ref\u001b[0m\u001b[0;34m:\u001b[0m \u001b[0mfloat\u001b[0m\u001b[0;34m,\u001b[0m\u001b[0;34m\u001b[0m\n",
      "\u001b[0;34m\u001b[0m\u001b[0;34m)\u001b[0m\u001b[0;34m\u001b[0m\u001b[0;34m\u001b[0m\u001b[0m\n",
      "\u001b[0;31mDocstring:\u001b[0m\n",
      "Generate PhenomD frequency domain waveform following 1508.07253.\n",
      "vars array contains both intrinsic and extrinsic variables\n",
      "theta = [Mchirp, eta, chi1, chi2, D, tc, phic]\n",
      "Mchirp: Chirp mass of the system [solar masses]\n",
      "eta: Symmetric mass ratio [between 0.0 and 0.25]\n",
      "chi1: Dimensionless aligned spin of the primary object [between -1 and 1]\n",
      "chi2: Dimensionless aligned spin of the secondary object [between -1 and 1]\n",
      "D: Luminosity distance to source [Mpc]\n",
      "tc: Time of coalesence. This only appears as an overall linear in f contribution to the phase\n",
      "phic: Phase of coalesence\n",
      "inclination: Inclination angle of the binary [between 0 and PI]\n",
      "\n",
      "f_ref: Reference frequency for the waveform\n",
      "\n",
      "Returns:\n",
      "--------\n",
      "  hp (array): Strain of the plus polarization\n",
      "  hc (array): Strain of the cross polarization\n",
      "\u001b[0;31mFile:\u001b[0m      ~/anaconda3/envs/ripple/lib/python3.11/site-packages/ripple/waveforms/IMRPhenomD.py\n",
      "\u001b[0;31mType:\u001b[0m      function"
     ]
    }
   ],
   "source": [
    "IMRPhenomD.gen_IMRPhenomD_hphc?"
   ]
  },
  {
   "cell_type": "code",
   "execution_count": null,
   "metadata": {},
   "outputs": [],
   "source": []
  },
  {
   "cell_type": "code",
   "execution_count": null,
   "metadata": {},
   "outputs": [],
   "source": [
    "input_arguments = np.array(\n",
    "    [\n",
    "        mass_1[idx],\n",
    "        mass_2[idx],\n",
    "        luminosity_distance[idx],\n",
    "        theta_jn[idx],\n",
    "        psi[idx],\n",
    "        phase[idx],\n",
    "        ra[idx],\n",
    "        dec[idx],\n",
    "        geocent_time[idx],\n",
    "        a_1[idx],\n",
    "        a_2[idx],\n",
    "        tilt_1[idx],\n",
    "        tilt_2[idx],\n",
    "        phi_12[idx],\n",
    "        phi_jl[idx],\n",
    "        np.full(size1, approximant),\n",
    "        np.full(size1, f_min),\n",
    "        duration,\n",
    "        np.full(size1, sampling_frequency),\n",
    "        iterations,\n",
    "    ],\n",
    "    dtype=object,\n",
    ").T\n",
    "\n",
    "input_arguments = np.concatenate(\n",
    "    (input_arguments, psds_dict_list, dectector_arr), axis=1\n",
    ")\n",
    "\n",
    "# np.shape(hp_inner_hp) = (len(num_det), size1)\n",
    "hp_inner_hp = np.zeros((len(num_det), size1), dtype=np.complex128)\n",
    "hc_inner_hc = np.zeros((len(num_det), size1), dtype=np.complex128)\n",
    "with Pool(processes=npool) as pool:\n",
    "    # call the same function with different data in parallel\n",
    "    # imap->retain order in the list, while map->doesn't\n",
    "    if snr_mine.multiprocessing_verbose:\n",
    "        for result in tqdm(\n",
    "            pool.imap_unordered(noise_weighted_inner_prod, input_arguments),\n",
    "            total=len(input_arguments),\n",
    "            ncols=100,\n",
    "        ):\n",
    "            # but, np.shape(hp_inner_hp_i) = (size1, len(num_det))\n",
    "            hp_inner_hp_i, hc_inner_hc_i, iter_i = result\n",
    "            hp_inner_hp[:, iter_i] = hp_inner_hp_i\n",
    "            hc_inner_hc[:, iter_i] = hc_inner_hc_i\n",
    "    else:\n",
    "        # with map, without tqdm\n",
    "        for result in pool.map(noise_weighted_inner_prod, input_arguments):\n",
    "            hp_inner_hp_i, hc_inner_hc_i, iter_i = result\n",
    "            hp_inner_hp[:, iter_i] = hp_inner_hp_i\n",
    "            hc_inner_hc[:, iter_i] = hc_inner_hc_i\n",
    "\n",
    "# get polarization tensor\n",
    "# np.shape(Fp) = (size1, len(num_det))\n",
    "Fp, Fc = antenna_response_array(\n",
    "    ra[idx], dec[idx], geocent_time[idx], psi[idx], detector_tensor\n",
    ")\n",
    "snrs_sq = abs((Fp**2) * hp_inner_hp + (Fc**2) * hc_inner_hc)\n",
    "snr = np.sqrt(snrs_sq)\n",
    "snr_effective = np.sqrt(np.sum(snrs_sq, axis=0))\n",
    "\n",
    "# organizing the snr dictionary\n",
    "optimal_snr = dict()\n",
    "for j, det in enumerate(detectors):\n",
    "    snr_buffer = np.zeros(num)\n",
    "    snr_buffer[idx] = snr[j]\n",
    "    optimal_snr[det] = snr_buffer\n",
    "snr_buffer = np.zeros(num)\n",
    "snr_buffer[idx] = snr_effective\n",
    "optimal_snr[\"optimal_snr_net\"] = snr_buffer\n",
    "\n",
    "# Save as JSON file\n",
    "if output_jsonfile:\n",
    "    output_filename = (\n",
    "        output_jsonfile if isinstance(output_jsonfile, str) else \"snr.json\"\n",
    "    )\n",
    "    save_json(output_filename, optimal_snr)\n",
    "\n",
    "return optimal_snr"
   ]
  }
 ],
 "metadata": {
  "kernelspec": {
   "display_name": "ripple",
   "language": "python",
   "name": "ripple"
  },
  "language_info": {
   "codemirror_mode": {
    "name": "ipython",
    "version": 3
   },
   "file_extension": ".py",
   "mimetype": "text/x-python",
   "name": "python",
   "nbconvert_exporter": "python",
   "pygments_lexer": "ipython3",
   "version": "3.11.10"
  }
 },
 "nbformat": 4,
 "nbformat_minor": 2
}
